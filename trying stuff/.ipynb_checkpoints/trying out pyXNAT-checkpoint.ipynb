{
 "cells": [
  {
   "cell_type": "markdown",
   "metadata": {},
   "source": [
    "# pyXNAT\n",
    "\n",
    "### https://pyxnat.github.io/pyxnat/index.html\n",
    "\n",
    "#### pyXNAT is supposedly more difficult to use than XNATpy but unlike the former, it *is* possible to create subjects or sessions.  See:\n",
    "\n",
    "#### https://info.dpuk.org/blog/\n",
    "#### http://xgrg.github.io/downloading-nifti-resources-from-XNAT/"
   ]
  },
  {
   "cell_type": "code",
   "execution_count": 139,
   "metadata": {},
   "outputs": [
    {
     "name": "stdout",
     "output_type": "stream",
     "text": [
      "pyxnat version = 1.2.1.1\n"
     ]
    }
   ],
   "source": [
    "import pyxnat\n",
    "print(f'pyxnat version = {pyxnat.__version__}') # 1.2.1.1\n",
    "import SimpleITK as sitk\n",
    "import pydicom\n",
    "import dicom2nifti\n",
    "import numpy as np\n",
    "#import math\n",
    "import matplotlib.pyplot as plt\n",
    "#from matplotlib import pyplot\n",
    "import matplotlib.image as mpimg\n",
    "import os, sys, time\n",
    "import natsort\n",
    "import dicom_functions\n",
    "import explore_dicom_data\n",
    "from myshow import myshow"
   ]
  },
  {
   "cell_type": "code",
   "execution_count": 27,
   "metadata": {},
   "outputs": [],
   "source": [
    "url = 'http://10.1.1.17'\n",
    "#url = 'http://10.1.1.17/app/template/Index.vm'\n",
    "#url = 'http://10.1.1.17:8080/xnat'\n",
    "#url = 'http://10.1.1.17:80/xnat'\n",
    "#url = 'http://localhost:8080/xnat'\n",
    "#url = 'http://localhost:2222/xnat'\n",
    "#url = 'https://central.xnat.org/'\n",
    "\n",
    "user = 'admin'; password = 'admin'\n",
    "#user = 'owner'; password = 'owner'\n",
    "#user = 'guest'\n",
    "\n",
    "# Establish pyxnat session and connect to project:\n",
    "##interface = pyxnat.Interface(server=url, user=url, password='xnat')\n",
    "##interface = pyxnat.Interface(url, user='owner', password='owner')\n",
    "##interface = pyxnat.Interface(url, user='admin', password='admin')\n",
    "##interface = pyxnat.Interface(url, user='admin', password='admin', cachedir='/tmp/xnatcache')\n",
    "##interface = pyxnat.Interface(url, user='guest', password='guest')\n",
    "##interface = pyxnat.Interface(server=url, user=user, cachedir='/tmp').select.project(interface)\n",
    "#interface = pyxnat.core.Interface(server=url, user=user, password=password) # WORKS!\n",
    "interface = pyxnat.Interface(server=url, user=user, password=password) # WORKS!\n",
    "#interface = pyxnat.Interface(server=url, user=user) # WORKS but requires password to be entered manually\n",
    "#interface = pyxnat.Interface(url, user=user) # WORKS but requires password to be entered manually"
   ]
  },
  {
   "cell_type": "code",
   "execution_count": 34,
   "metadata": {},
   "outputs": [
    {
     "data": {
      "text/plain": [
       "<Collection Object> 2253485995080"
      ]
     },
     "execution_count": 34,
     "metadata": {},
     "output_type": "execute_result"
    }
   ],
   "source": [
    "#list(interface.select.projects())\n",
    "interface.select.projects()"
   ]
  },
  {
   "cell_type": "code",
   "execution_count": 48,
   "metadata": {},
   "outputs": [
    {
     "data": {
      "text/plain": [
       "['BrainTumorProg', 'SN2015Neuro']"
      ]
     },
     "execution_count": 48,
     "metadata": {},
     "output_type": "execute_result"
    }
   ],
   "source": [
    "#list(interface.select.projects().get())\n",
    "interface.select.projects().get()"
   ]
  },
  {
   "cell_type": "code",
   "execution_count": 39,
   "metadata": {},
   "outputs": [
    {
     "data": {
      "text/plain": [
       "['BrainTumorProg', 'SN2015Neuro']"
      ]
     },
     "execution_count": 39,
     "metadata": {},
     "output_type": "execute_result"
    }
   ],
   "source": [
    "interface.select('/projects').get()"
   ]
  },
  {
   "cell_type": "code",
   "execution_count": 36,
   "metadata": {},
   "outputs": [
    {
     "data": {
      "text/plain": [
       "['XNAT_S00001', 'XNAT_S00002', 'XNAT_S00003', 'XNAT_S00004']"
      ]
     },
     "execution_count": 36,
     "metadata": {},
     "output_type": "execute_result"
    }
   ],
   "source": [
    "interface.select.projects().subjects().get()"
   ]
  },
  {
   "cell_type": "code",
   "execution_count": 38,
   "metadata": {},
   "outputs": [
    {
     "data": {
      "text/plain": [
       "['XNAT_S00001', 'XNAT_S00002', 'XNAT_S00003', 'XNAT_S00004']"
      ]
     },
     "execution_count": 38,
     "metadata": {},
     "output_type": "execute_result"
    }
   ],
   "source": [
    "interface.select('//subjects').get()"
   ]
  },
  {
   "cell_type": "code",
   "execution_count": 44,
   "metadata": {},
   "outputs": [
    {
     "data": {
      "text/plain": [
       "['XNAT_S00004']"
      ]
     },
     "execution_count": 44,
     "metadata": {},
     "output_type": "execute_result"
    }
   ],
   "source": [
    "interface.select.project('SN2015Neuro').subjects().get()"
   ]
  },
  {
   "cell_type": "code",
   "execution_count": 49,
   "metadata": {},
   "outputs": [
    {
     "data": {
      "text/plain": [
       "<Collection Object> 2253486062344"
      ]
     },
     "execution_count": 49,
     "metadata": {},
     "output_type": "execute_result"
    }
   ],
   "source": [
    "interface.select.projects().subjects().experiments().resources().files()"
   ]
  },
  {
   "cell_type": "code",
   "execution_count": 47,
   "metadata": {},
   "outputs": [
    {
     "ename": "DatabaseError",
     "evalue": "pyxnat._exec failure:\n                    URI: http://10.1.1.17/data/projects/SN2015Neuro/subjects/PGM-002?format=xml\n                    status code: 404\n                    headers: {'Server': 'nginx/1.10.3 (Ubuntu)', 'Date': 'Mon, 27 Jan 2020 09:02:49 GMT', 'Content-Type': 'text/html;charset=ISO-8859-1', 'Transfer-Encoding': 'chunked', 'Connection': 'keep-alive', 'Set-Cookie': 'JSESSIONID=ECFE3FEF4E648878944280FEB5405E2F; Path=/; HttpOnly, SESSION_EXPIRATION_TIME=\"1580115769183,90000000\"; Version=1; Path=/', 'Vary': 'Accept-Charset, Accept-Encoding, Accept-Language, Accept', 'X-Content-Type-Options': 'nosniff', 'X-XSS-Protection': '1; mode=block', 'X-Frame-Options': 'SAMEORIGIN', 'Content-Security-Policy': \"frame-ancestors 'self'\", 'Content-Encoding': 'gzip'}\n                    content: b'<html>\\n<head>\\n   <title>Status page</title>\\n</head>\\n<body>\\n<h3>Unable to find the specified subject. The project SN2015Neuro does not contain a subject identifiable by the ID or label PGM-002.</h3><p>You can get technical details <a href=\"http://www.w3.org/Protocols/rfc2616/rfc2616-sec10.html#sec10.4.5\">here</a>.<br>\\nPlease continue your visit at our <a href=\"/\">home page</a>.\\n</p>\\n</body>\\n</html>\\n'\n                ",
     "output_type": "error",
     "traceback": [
      "\u001b[1;31m---------------------------------------------------------------------------\u001b[0m",
      "\u001b[1;31mDatabaseError\u001b[0m                             Traceback (most recent call last)",
      "\u001b[1;32m<ipython-input-47-45af02930d4f>\u001b[0m in \u001b[0;36m<module>\u001b[1;34m\u001b[0m\n\u001b[1;32m----> 1\u001b[1;33m \u001b[0minterface\u001b[0m\u001b[1;33m.\u001b[0m\u001b[0mselect\u001b[0m\u001b[1;33m.\u001b[0m\u001b[0mproject\u001b[0m\u001b[1;33m(\u001b[0m\u001b[1;34m'SN2015Neuro'\u001b[0m\u001b[1;33m)\u001b[0m\u001b[1;33m.\u001b[0m\u001b[0msubject\u001b[0m\u001b[1;33m(\u001b[0m\u001b[1;34m'PGM-002'\u001b[0m\u001b[1;33m)\u001b[0m\u001b[1;33m.\u001b[0m\u001b[0mget\u001b[0m\u001b[1;33m(\u001b[0m\u001b[1;33m)\u001b[0m\u001b[1;33m\u001b[0m\u001b[1;33m\u001b[0m\u001b[0m\n\u001b[0m",
      "\u001b[1;32m~\\Anaconda37\\lib\\site-packages\\pyxnat\\core\\resources.py\u001b[0m in \u001b[0;36mget\u001b[1;34m(self)\u001b[0m\n\u001b[0;32m    476\u001b[0m         \"\"\" Retrieves the XML document corresponding to this element.\n\u001b[0;32m    477\u001b[0m         \"\"\"\n\u001b[1;32m--> 478\u001b[1;33m         \u001b[1;32mreturn\u001b[0m \u001b[0mself\u001b[0m\u001b[1;33m.\u001b[0m\u001b[0m_intf\u001b[0m\u001b[1;33m.\u001b[0m\u001b[0m_exec\u001b[0m\u001b[1;33m(\u001b[0m\u001b[0mself\u001b[0m\u001b[1;33m.\u001b[0m\u001b[0m_uri\u001b[0m \u001b[1;33m+\u001b[0m \u001b[1;34m'?format=xml'\u001b[0m\u001b[1;33m,\u001b[0m \u001b[1;34m'GET'\u001b[0m\u001b[1;33m)\u001b[0m\u001b[1;33m\u001b[0m\u001b[1;33m\u001b[0m\u001b[0m\n\u001b[0m\u001b[0;32m    479\u001b[0m \u001b[1;33m\u001b[0m\u001b[0m\n\u001b[0;32m    480\u001b[0m     \u001b[1;32mdef\u001b[0m \u001b[0mxpath\u001b[0m\u001b[1;33m(\u001b[0m\u001b[0mself\u001b[0m\u001b[1;33m,\u001b[0m \u001b[0mxpath\u001b[0m\u001b[1;33m)\u001b[0m\u001b[1;33m:\u001b[0m\u001b[1;33m\u001b[0m\u001b[1;33m\u001b[0m\u001b[0m\n",
      "\u001b[1;32m~\\Anaconda37\\lib\\site-packages\\pyxnat\\core\\interfaces.py\u001b[0m in \u001b[0;36m_exec\u001b[1;34m(self, uri, method, body, headers, force_preemptive_auth, **kwargs)\u001b[0m\n\u001b[0;32m    355\u001b[0m                     \u001b[0mheaders\u001b[0m\u001b[1;33m:\u001b[0m \u001b[1;33m{\u001b[0m\u001b[0mresponse\u001b[0m\u001b[1;33m.\u001b[0m\u001b[0mheaders\u001b[0m\u001b[1;33m}\u001b[0m\u001b[1;33m\u001b[0m\u001b[1;33m\u001b[0m\u001b[0m\n\u001b[0;32m    356\u001b[0m                     \u001b[0mcontent\u001b[0m\u001b[1;33m:\u001b[0m \u001b[1;33m{\u001b[0m\u001b[0mresponse\u001b[0m\u001b[1;33m.\u001b[0m\u001b[0mcontent\u001b[0m\u001b[1;33m}\u001b[0m\u001b[1;33m\u001b[0m\u001b[1;33m\u001b[0m\u001b[0m\n\u001b[1;32m--> 357\u001b[1;33m                 '''.format(response=response))\n\u001b[0m\u001b[0;32m    358\u001b[0m \u001b[1;33m\u001b[0m\u001b[0m\n\u001b[0;32m    359\u001b[0m         \u001b[1;32mreturn\u001b[0m \u001b[0mresponse\u001b[0m\u001b[1;33m.\u001b[0m\u001b[0mcontent\u001b[0m\u001b[1;33m\u001b[0m\u001b[1;33m\u001b[0m\u001b[0m\n",
      "\u001b[1;32m~\\Anaconda37\\lib\\site-packages\\pyxnat\\core\\errors.py\u001b[0m in \u001b[0;36mcatch_error\u001b[1;34m(msg_or_exception, full_response)\u001b[0m\n\u001b[0;32m     82\u001b[0m         \u001b[1;32melse\u001b[0m\u001b[1;33m:\u001b[0m\u001b[1;33m\u001b[0m\u001b[1;33m\u001b[0m\u001b[0m\n\u001b[0;32m     83\u001b[0m             \u001b[1;32mif\u001b[0m \u001b[0mfull_response\u001b[0m\u001b[1;33m:\u001b[0m\u001b[1;33m\u001b[0m\u001b[1;33m\u001b[0m\u001b[0m\n\u001b[1;32m---> 84\u001b[1;33m                 \u001b[1;32mraise\u001b[0m \u001b[0mDatabaseError\u001b[0m\u001b[1;33m(\u001b[0m\u001b[0mfull_response\u001b[0m\u001b[1;33m)\u001b[0m\u001b[1;33m\u001b[0m\u001b[1;33m\u001b[0m\u001b[0m\n\u001b[0m\u001b[0;32m     85\u001b[0m             \u001b[1;32melse\u001b[0m\u001b[1;33m:\u001b[0m\u001b[1;33m\u001b[0m\u001b[1;33m\u001b[0m\u001b[0m\n\u001b[0;32m     86\u001b[0m                 \u001b[1;32mraise\u001b[0m \u001b[0mDatabaseError\u001b[0m\u001b[1;33m(\u001b[0m\u001b[0merror\u001b[0m\u001b[1;33m)\u001b[0m\u001b[1;33m\u001b[0m\u001b[1;33m\u001b[0m\u001b[0m\n",
      "\u001b[1;31mDatabaseError\u001b[0m: pyxnat._exec failure:\n                    URI: http://10.1.1.17/data/projects/SN2015Neuro/subjects/PGM-002?format=xml\n                    status code: 404\n                    headers: {'Server': 'nginx/1.10.3 (Ubuntu)', 'Date': 'Mon, 27 Jan 2020 09:02:49 GMT', 'Content-Type': 'text/html;charset=ISO-8859-1', 'Transfer-Encoding': 'chunked', 'Connection': 'keep-alive', 'Set-Cookie': 'JSESSIONID=ECFE3FEF4E648878944280FEB5405E2F; Path=/; HttpOnly, SESSION_EXPIRATION_TIME=\"1580115769183,90000000\"; Version=1; Path=/', 'Vary': 'Accept-Charset, Accept-Encoding, Accept-Language, Accept', 'X-Content-Type-Options': 'nosniff', 'X-XSS-Protection': '1; mode=block', 'X-Frame-Options': 'SAMEORIGIN', 'Content-Security-Policy': \"frame-ancestors 'self'\", 'Content-Encoding': 'gzip'}\n                    content: b'<html>\\n<head>\\n   <title>Status page</title>\\n</head>\\n<body>\\n<h3>Unable to find the specified subject. The project SN2015Neuro does not contain a subject identifiable by the ID or label PGM-002.</h3><p>You can get technical details <a href=\"http://www.w3.org/Protocols/rfc2616/rfc2616-sec10.html#sec10.4.5\">here</a>.<br>\\nPlease continue your visit at our <a href=\"/\">home page</a>.\\n</p>\\n</body>\\n</html>\\n'\n                "
     ]
    }
   ],
   "source": [
    "interface.select.project('SN2015Neuro').subject('PGM-002').get()"
   ]
  },
  {
   "cell_type": "code",
   "execution_count": 50,
   "metadata": {},
   "outputs": [
    {
     "data": {
      "text/plain": [
       "['XNAT_S00001', 'XNAT_S00002', 'XNAT_S00003']"
      ]
     },
     "execution_count": 50,
     "metadata": {},
     "output_type": "execute_result"
    }
   ],
   "source": [
    "interface.select.project('BrainTumorProg').subjects().get()"
   ]
  },
  {
   "cell_type": "code",
   "execution_count": 64,
   "metadata": {},
   "outputs": [
    {
     "ename": "AttributeError",
     "evalue": "'Select' object has no attribute 'subjects'",
     "output_type": "error",
     "traceback": [
      "\u001b[1;31m---------------------------------------------------------------------------\u001b[0m",
      "\u001b[1;31mAttributeError\u001b[0m                            Traceback (most recent call last)",
      "\u001b[1;32m<ipython-input-64-8ed095da7c52>\u001b[0m in \u001b[0;36m<module>\u001b[1;34m\u001b[0m\n\u001b[1;32m----> 1\u001b[1;33m \u001b[0minterface\u001b[0m\u001b[1;33m.\u001b[0m\u001b[0mselect\u001b[0m\u001b[1;33m.\u001b[0m\u001b[0msubjects\u001b[0m\u001b[1;33m(\u001b[0m\u001b[1;33m)\u001b[0m\u001b[1;33m.\u001b[0m\u001b[0mget\u001b[0m\u001b[1;33m(\u001b[0m\u001b[1;33m)\u001b[0m\u001b[1;33m\u001b[0m\u001b[1;33m\u001b[0m\u001b[0m\n\u001b[0m",
      "\u001b[1;31mAttributeError\u001b[0m: 'Select' object has no attribute 'subjects'"
     ]
    }
   ],
   "source": [
    "interface.select.subjects().get()"
   ]
  },
  {
   "cell_type": "code",
   "execution_count": 51,
   "metadata": {},
   "outputs": [
    {
     "data": {
      "text/plain": [
       "b'<?xml version=\"1.0\" encoding=\"UTF-8\" standalone=\"yes\"?>\\n<xnat:Subject ID=\"XNAT_S00003\" project=\"BrainTumorProg\" label=\"PGBM-003\" xmlns:arc=\"http://nrg.wustl.edu/arc\" xmlns:val=\"http://nrg.wustl.edu/val\" xmlns:pipe=\"http://nrg.wustl.edu/pipe\" xmlns:icr=\"http://icr.ac.uk/icr\" xmlns:wrk=\"http://nrg.wustl.edu/workflow\" xmlns:scr=\"http://nrg.wustl.edu/scr\" xmlns:xdat=\"http://nrg.wustl.edu/security\" xmlns:cat=\"http://nrg.wustl.edu/catalog\" xmlns:prov=\"http://www.nbirn.net/prov\" xmlns:xnat=\"http://nrg.wustl.edu/xnat\" xmlns:xnat_a=\"http://nrg.wustl.edu/xnat_assessments\" xmlns:xsi=\"http://www.w3.org/2001/XMLSchema-instance\" xsi:schemaLocation=\"http://nrg.wustl.edu/workflow http://10.1.1.17/schemas/workflow.xsd http://nrg.wustl.edu/catalog http://10.1.1.17/schemas/catalog.xsd http://nrg.wustl.edu/pipe http://10.1.1.17/schemas/repository.xsd http://nrg.wustl.edu/scr http://10.1.1.17/schemas/screeningAssessment.xsd http://nrg.wustl.edu/arc http://10.1.1.17/schemas/project.xsd http://icr.ac.uk/icr http://10.1.1.17/schemas/roi.xsd http://nrg.wustl.edu/val http://10.1.1.17/schemas/protocolValidation.xsd http://nrg.wustl.edu/xnat http://10.1.1.17/schemas/xnat.xsd http://nrg.wustl.edu/xnat_assessments http://10.1.1.17/schemas/assessments.xsd http://www.nbirn.net/prov http://10.1.1.17/schemas/birnprov.xsd http://nrg.wustl.edu/security http://10.1.1.17/schemas/security.xsd\">\\n<xnat:experiments>\\n<xnat:experiment ID=\"XNAT_E00007\" project=\"BrainTumorProg\" label=\"PGBM-003_MR_1\" session_type=\"Mr Rcbv Sequence-Fh\" modality=\"MR\" UID=\"1.3.6.1.4.1.14519.5.2.1.4429.7055.812059520220877654137991744184\" xsi:type=\"xnat:mrSessionData\">\\n<xnat:date>1995-03-29</xnat:date>\\n<xnat:time>07:48:07</xnat:time>\\n<xnat:subject_ID>XNAT_S00003</xnat:subject_ID>\\n<xnat:prearchivePath>/data/xnat/prearchive/BrainTumorProg/20200120_191649283/PGBM-003_MR_1</xnat:prearchivePath>\\n<xnat:scans>\\n<xnat:scan ID=\"11\" type=\"T1post\" UID=\"1.3.6.1.4.1.14519.5.2.1.4429.7055.250698293053013179878447218670\" xsi:type=\"xnat:mrScanData\">\\n<!--hidden_fields[xnat_imageScanData_id=\"41\"]-->\\n<xnat:image_session_ID>XNAT_E00007</xnat:image_session_ID>\\n<xnat:quality>usable</xnat:quality>\\n<xnat:series_description>T1post</xnat:series_description>\\n<xnat:scanner manufacturer=\"SIEMENS\" model=\"Espree\"/>\\n<xnat:modality>MR</xnat:modality>\\n<xnat:frames>22</xnat:frames>\\n<xnat:file label=\"DICOM\" file_count=\"22\" file_size=\"4033500\" URI=\"/data/xnat/archive/BrainTumorProg/arc001/PGBM-003_MR_1/SCANS/11/DICOM/scan_11_catalog.xml\" format=\"DICOM\" content=\"RAW\" xsi:type=\"xnat:resourceCatalog\">\\n<!--hidden_fields[xnat_abstractResource_id=\"81\",xnat_imageScanData_xnat_imagescandata_id=\"41\"]-->\\n</xnat:file>\\n<xnat:file label=\"SNAPSHOTS\" file_count=\"2\" file_size=\"350288\" URI=\"/data/xnat/archive/BrainTumorProg/arc001/PGBM-003_MR_1/SCANS/11/SNAPSHOTS/11_catalog.xml\" format=\"GIF\" content=\"SNAPSHOTS\" xsi:type=\"xnat:resourceCatalog\">\\n<!--hidden_fields[xnat_abstractResource_id=\"91\",xnat_imageScanData_xnat_imagescandata_id=\"41\"]-->\\n</xnat:file>\\n<xnat:startTime>08:31:25</xnat:startTime>\\n<xnat:start_date>1995-03-29</xnat:start_date>\\n<xnat:fieldStrength>1.5</xnat:fieldStrength>\\n<xnat:parameters>\\n<xnat:voxelRes x=\"0.6875\" y=\"0.6875\" z=\"5.0\"/>\\n<xnat:orientation>Tra</xnat:orientation>\\n<xnat:fov x=\"280\" y=\"320\"/>\\n<xnat:tr>500.0</xnat:tr>\\n<xnat:te>9.5</xnat:te>\\n<xnat:flip>75</xnat:flip>\\n<xnat:sequence>*se2d1</xnat:sequence>\\n<xnat:imageType>ORIGINAL\\\\\\\\PRIMARY\\\\\\\\M\\\\\\\\NORM\\\\\\\\DIS2D</xnat:imageType>\\n<xnat:scanSequence>SE</xnat:scanSequence>\\n<xnat:seqVariant>SP\\\\\\\\OSP</xnat:seqVariant>\\n<xnat:acqType>2D</xnat:acqType>\\n<xnat:pixelBandwidth>130.0</xnat:pixelBandwidth>\\n</xnat:parameters>\\n</xnat:scan>\\n<xnat:scan ID=\"5377\" type=\"Mask_Tumor\" UID=\"1.3.6.1.4.1.14519.5.2.1.4429.7055.897057120186653604896157778540\" xsi:type=\"xnat:scScanData\">\\n<!--hidden_fields[xnat_imageScanData_id=\"42\"]-->\\n<xnat:image_session_ID>XNAT_E00007</xnat:image_session_ID>\\n<xnat:quality>usable</xnat:quality>\\n<xnat:series_description>Mask_Tumor</xnat:series_description>\\n<xnat:scanner manufacturer=\"Imaging Biometrics LLC\" model=\"OsiriX\"/>\\n<xnat:modality>MR</xnat:modality>\\n<xnat:frames>0</xnat:frames>\\n<xnat:file label=\"secondary\" file_count=\"22\" file_size=\"3998846\" URI=\"/data/xnat/archive/BrainTumorProg/arc001/PGBM-003_MR_1/SCANS/5377/DICOM/scan_5377_secondary_catalog.xml\" format=\"DICOM\" content=\"secondary\" xsi:type=\"xnat:resourceCatalog\">\\n<!--hidden_fields[xnat_abstractResource_id=\"82\",xnat_imageScanData_xnat_imagescandata_id=\"42\"]-->\\n</xnat:file>\\n<xnat:file label=\"SNAPSHOTS\" file_count=\"2\" file_size=\"4081\" URI=\"/data/xnat/archive/BrainTumorProg/arc001/PGBM-003_MR_1/SCANS/5377/SNAPSHOTS/5377_catalog.xml\" format=\"GIF\" content=\"SNAPSHOTS\" xsi:type=\"xnat:resourceCatalog\">\\n<!--hidden_fields[xnat_abstractResource_id=\"92\",xnat_imageScanData_xnat_imagescandata_id=\"42\"]-->\\n</xnat:file>\\n<xnat:startTime>08:31:25</xnat:startTime>\\n<xnat:start_date>1995-03-29</xnat:start_date>\\n</xnat:scan>\\n<xnat:scan ID=\"21400\" type=\"dT1\" UID=\"1.3.6.1.4.1.14519.5.2.1.4429.7055.259504593752642970159002711016\" xsi:type=\"xnat:scScanData\">\\n<!--hidden_fields[xnat_imageScanData_id=\"43\"]-->\\n<xnat:image_session_ID>XNAT_E00007</xnat:image_session_ID>\\n<xnat:quality>usable</xnat:quality>\\n<xnat:series_description>dT1</xnat:series_description>\\n<xnat:scanner manufacturer=\"Imaging Biometrics LLC\" model=\"IB Delta Suite\"/>\\n<xnat:modality>MR</xnat:modality>\\n<xnat:frames>0</xnat:frames>\\n<xnat:file label=\"secondary\" file_count=\"22\" file_size=\"4001774\" URI=\"/data/xnat/archive/BrainTumorProg/arc001/PGBM-003_MR_1/SCANS/21400/DICOM/scan_21400_secondary_catalog.xml\" format=\"DICOM\" content=\"secondary\" xsi:type=\"xnat:resourceCatalog\">\\n<!--hidden_fields[xnat_abstractResource_id=\"83\",xnat_imageScanData_xnat_imagescandata_id=\"43\"]-->\\n</xnat:file>\\n<xnat:file label=\"SNAPSHOTS\" file_count=\"2\" file_size=\"227754\" URI=\"/data/xnat/archive/BrainTumorProg/arc001/PGBM-003_MR_1/SCANS/21400/SNAPSHOTS/21400_catalog.xml\" format=\"GIF\" content=\"SNAPSHOTS\" xsi:type=\"xnat:resourceCatalog\">\\n<!--hidden_fields[xnat_abstractResource_id=\"93\",xnat_imageScanData_xnat_imagescandata_id=\"43\"]-->\\n</xnat:file>\\n<xnat:startTime>08:31:25</xnat:startTime>\\n<xnat:start_date>1995-03-29</xnat:start_date>\\n</xnat:scan>\\n<xnat:scan ID=\"26401\" type=\"T1pre_reg\" UID=\"1.3.6.1.4.1.14519.5.2.1.4429.7055.170099978014836890431312652906\" xsi:type=\"xnat:mrScanData\">\\n<!--hidden_fields[xnat_imageScanData_id=\"44\"]-->\\n<xnat:image_session_ID>XNAT_E00007</xnat:image_session_ID>\\n<xnat:quality>usable</xnat:quality>\\n<xnat:series_description>T1pre_reg</xnat:series_description>\\n<xnat:scanner manufacturer=\"Imaging Biometrics LLC\" model=\"IB Delta Suite\"/>\\n<xnat:modality>MR</xnat:modality>\\n<xnat:frames>22</xnat:frames>\\n<xnat:file label=\"DICOM\" file_count=\"22\" file_size=\"4006526\" URI=\"/data/xnat/archive/BrainTumorProg/arc001/PGBM-003_MR_1/SCANS/26401/DICOM/scan_26401_catalog.xml\" format=\"DICOM\" content=\"RAW\" xsi:type=\"xnat:resourceCatalog\">\\n<!--hidden_fields[xnat_abstractResource_id=\"84\",xnat_imageScanData_xnat_imagescandata_id=\"44\"]-->\\n</xnat:file>\\n<xnat:file label=\"SNAPSHOTS\" file_count=\"2\" file_size=\"360879\" URI=\"/data/xnat/archive/BrainTumorProg/arc001/PGBM-003_MR_1/SCANS/26401/SNAPSHOTS/26401_catalog.xml\" format=\"GIF\" content=\"SNAPSHOTS\" xsi:type=\"xnat:resourceCatalog\">\\n<!--hidden_fields[xnat_abstractResource_id=\"94\",xnat_imageScanData_xnat_imagescandata_id=\"44\"]-->\\n</xnat:file>\\n<xnat:startTime>08:24:27</xnat:startTime>\\n<xnat:start_date>1995-03-29</xnat:start_date>\\n<xnat:fieldStrength>1.5</xnat:fieldStrength>\\n<xnat:parameters>\\n<xnat:voxelRes x=\"0.6875\" y=\"0.6875\" z=\"5.0\"/>\\n<xnat:orientation>Tra</xnat:orientation>\\n<xnat:fov x=\"280\" y=\"320\"/>\\n<xnat:tr>500.0</xnat:tr>\\n<xnat:te>9.5</xnat:te>\\n<xnat:flip>75</xnat:flip>\\n<xnat:sequence>*se2d1</xnat:sequence>\\n<xnat:imageType>ORIGINAL\\\\\\\\PRIMARY\\\\\\\\M\\\\\\\\NORM\\\\\\\\DIS2D</xnat:imageType>\\n<xnat:scanSequence>SE</xnat:scanSequence>\\n<xnat:seqVariant>SP\\\\\\\\OSP</xnat:seqVariant>\\n<xnat:acqType>2D</xnat:acqType>\\n<xnat:pixelBandwidth>130.0</xnat:pixelBandwidth>\\n</xnat:parameters>\\n</xnat:scan>\\n<xnat:scan ID=\"26405\" type=\"nCBF_reg\" UID=\"1.3.6.1.4.1.14519.5.2.1.4429.7055.184513808598569757053340043819\" xsi:type=\"xnat:scScanData\">\\n<!--hidden_fields[xnat_imageScanData_id=\"45\"]-->\\n<xnat:image_session_ID>XNAT_E00007</xnat:image_session_ID>\\n<xnat:quality>usable</xnat:quality>\\n<xnat:series_description>nCBF_reg</xnat:series_description>\\n<xnat:scanner manufacturer=\"Imaging Biometrics LLC\" model=\"IB Delta Suite\"/>\\n<xnat:modality>MR</xnat:modality>\\n<xnat:frames>0</xnat:frames>\\n<xnat:file label=\"secondary\" file_count=\"22\" file_size=\"4002302\" URI=\"/data/xnat/archive/BrainTumorProg/arc001/PGBM-003_MR_1/SCANS/26405/DICOM/scan_26405_secondary_catalog.xml\" format=\"DICOM\" content=\"secondary\" xsi:type=\"xnat:resourceCatalog\">\\n<!--hidden_fields[xnat_abstractResource_id=\"85\",xnat_imageScanData_xnat_imagescandata_id=\"45\"]-->\\n</xnat:file>\\n<xnat:file label=\"SNAPSHOTS\" file_count=\"2\" file_size=\"159300\" URI=\"/data/xnat/archive/BrainTumorProg/arc001/PGBM-003_MR_1/SCANS/26405/SNAPSHOTS/26405_catalog.xml\" format=\"GIF\" content=\"SNAPSHOTS\" xsi:type=\"xnat:resourceCatalog\">\\n<!--hidden_fields[xnat_abstractResource_id=\"95\",xnat_imageScanData_xnat_imagescandata_id=\"45\"]-->\\n</xnat:file>\\n<xnat:startTime>08:37:51</xnat:startTime>\\n<xnat:start_date>1995-03-29</xnat:start_date>\\n</xnat:scan>\\n<xnat:scan ID=\"26406\" type=\"sRCBV_reg\" UID=\"1.3.6.1.4.1.14519.5.2.1.4429.7055.153116549731211560694135932571\" xsi:type=\"xnat:scScanData\">\\n<!--hidden_fields[xnat_imageScanData_id=\"46\"]-->\\n<xnat:image_session_ID>XNAT_E00007</xnat:image_session_ID>\\n<xnat:quality>usable</xnat:quality>\\n<xnat:series_description>sRCBV_reg</xnat:series_description>\\n<xnat:scanner manufacturer=\"Imaging Biometrics LLC\" model=\"IB Delta Suite\"/>\\n<xnat:modality>MR</xnat:modality>\\n<xnat:frames>0</xnat:frames>\\n<xnat:file label=\"secondary\" file_count=\"22\" file_size=\"4002346\" URI=\"/data/xnat/archive/BrainTumorProg/arc001/PGBM-003_MR_1/SCANS/26406/DICOM/scan_26406_secondary_catalog.xml\" format=\"DICOM\" content=\"secondary\" xsi:type=\"xnat:resourceCatalog\">\\n<!--hidden_fields[xnat_abstractResource_id=\"86\",xnat_imageScanData_xnat_imagescandata_id=\"46\"]-->\\n</xnat:file>\\n<xnat:file label=\"SNAPSHOTS\" file_count=\"2\" file_size=\"161511\" URI=\"/data/xnat/archive/BrainTumorProg/arc001/PGBM-003_MR_1/SCANS/26406/SNAPSHOTS/26406_catalog.xml\" format=\"GIF\" content=\"SNAPSHOTS\" xsi:type=\"xnat:resourceCatalog\">\\n<!--hidden_fields[xnat_abstractResource_id=\"96\",xnat_imageScanData_xnat_imagescandata_id=\"46\"]-->\\n</xnat:file>\\n<xnat:startTime>08:37:51</xnat:startTime>\\n<xnat:start_date>1995-03-29</xnat:start_date>\\n</xnat:scan>\\n<xnat:scan ID=\"26407\" type=\"nRCBV_reg\" UID=\"1.3.6.1.4.1.14519.5.2.1.4429.7055.244702170450808662560449323006\" xsi:type=\"xnat:scScanData\">\\n<!--hidden_fields[xnat_imageScanData_id=\"47\"]-->\\n<xnat:image_session_ID>XNAT_E00007</xnat:image_session_ID>\\n<xnat:quality>usable</xnat:quality>\\n<xnat:series_description>nRCBV_reg</xnat:series_description>\\n<xnat:scanner manufacturer=\"Imaging Biometrics LLC\" model=\"IB Delta Suite\"/>\\n<xnat:modality>MR</xnat:modality>\\n<xnat:frames>0</xnat:frames>\\n<xnat:file label=\"secondary\" file_count=\"22\" file_size=\"4002346\" URI=\"/data/xnat/archive/BrainTumorProg/arc001/PGBM-003_MR_1/SCANS/26407/DICOM/scan_26407_secondary_catalog.xml\" format=\"DICOM\" content=\"secondary\" xsi:type=\"xnat:resourceCatalog\">\\n<!--hidden_fields[xnat_abstractResource_id=\"87\",xnat_imageScanData_xnat_imagescandata_id=\"47\"]-->\\n</xnat:file>\\n<xnat:file label=\"SNAPSHOTS\" file_count=\"2\" file_size=\"158005\" URI=\"/data/xnat/archive/BrainTumorProg/arc001/PGBM-003_MR_1/SCANS/26407/SNAPSHOTS/26407_catalog.xml\" format=\"GIF\" content=\"SNAPSHOTS\" xsi:type=\"xnat:resourceCatalog\">\\n<!--hidden_fields[xnat_abstractResource_id=\"97\",xnat_imageScanData_xnat_imagescandata_id=\"47\"]-->\\n</xnat:file>\\n<xnat:startTime>08:37:51</xnat:startTime>\\n<xnat:start_date>1995-03-29</xnat:start_date>\\n</xnat:scan>\\n<xnat:scan ID=\"36468\" type=\"FLAIR_reg\" UID=\"1.3.6.1.4.1.14519.5.2.1.4429.7055.105521800202421035670670758706\" xsi:type=\"xnat:mrScanData\">\\n<!--hidden_fields[xnat_imageScanData_id=\"48\"]-->\\n<xnat:image_session_ID>XNAT_E00007</xnat:image_session_ID>\\n<xnat:quality>usable</xnat:quality>\\n<xnat:series_description>FLAIR_reg</xnat:series_description>\\n<xnat:scanner manufacturer=\"Imaging Biometrics LLC\" model=\"IB Delta Suite\"/>\\n<xnat:modality>MR</xnat:modality>\\n<xnat:frames>22</xnat:frames>\\n<xnat:file label=\"DICOM\" file_count=\"22\" file_size=\"4007450\" URI=\"/data/xnat/archive/BrainTumorProg/arc001/PGBM-003_MR_1/SCANS/36468/DICOM/scan_36468_catalog.xml\" format=\"DICOM\" content=\"RAW\" xsi:type=\"xnat:resourceCatalog\">\\n<!--hidden_fields[xnat_abstractResource_id=\"88\",xnat_imageScanData_xnat_imagescandata_id=\"48\"]-->\\n</xnat:file>\\n<xnat:file label=\"SNAPSHOTS\" file_count=\"2\" file_size=\"378065\" URI=\"/data/xnat/archive/BrainTumorProg/arc001/PGBM-003_MR_1/SCANS/36468/SNAPSHOTS/36468_catalog.xml\" format=\"GIF\" content=\"SNAPSHOTS\" xsi:type=\"xnat:resourceCatalog\">\\n<!--hidden_fields[xnat_abstractResource_id=\"98\",xnat_imageScanData_xnat_imagescandata_id=\"48\"]-->\\n</xnat:file>\\n<xnat:startTime>08:17:04</xnat:startTime>\\n<xnat:start_date>1995-03-29</xnat:start_date>\\n<xnat:fieldStrength>1.5</xnat:fieldStrength>\\n<xnat:parameters>\\n<xnat:voxelRes x=\"0.6875\" y=\"0.6875\" z=\"5.0\"/>\\n<xnat:orientation>Tra</xnat:orientation>\\n<xnat:fov x=\"280\" y=\"320\"/>\\n<xnat:tr>10000.0</xnat:tr>\\n<xnat:te>90.0</xnat:te>\\n<xnat:ti>2600.0</xnat:ti>\\n<xnat:flip>150</xnat:flip>\\n<xnat:sequence>*tir2d1_21</xnat:sequence>\\n<xnat:imageType>ORIGINAL\\\\\\\\PRIMARY\\\\\\\\M\\\\\\\\NORM\\\\\\\\DIS2D</xnat:imageType>\\n<xnat:scanSequence>SE\\\\\\\\IR</xnat:scanSequence>\\n<xnat:seqVariant>SK\\\\\\\\SP\\\\\\\\MP\\\\\\\\OSP</xnat:seqVariant>\\n<xnat:scanOptions>IR</xnat:scanOptions>\\n<xnat:acqType>2D</xnat:acqType>\\n<xnat:pixelBandwidth>170.0</xnat:pixelBandwidth>\\n</xnat:parameters>\\n</xnat:scan>\\n<xnat:scan ID=\"36469\" type=\"ADC_reg\" UID=\"1.3.6.1.4.1.14519.5.2.1.4429.7055.324925677385396488048441750012\" xsi:type=\"xnat:scScanData\">\\n<!--hidden_fields[xnat_imageScanData_id=\"49\"]-->\\n<xnat:image_session_ID>XNAT_E00007</xnat:image_session_ID>\\n<xnat:quality>usable</xnat:quality>\\n<xnat:series_description>ADC_reg</xnat:series_description>\\n<xnat:scanner manufacturer=\"Imaging Biometrics LLC\" model=\"IB Delta Suite\"/>\\n<xnat:modality>MR</xnat:modality>\\n<xnat:frames>0</xnat:frames>\\n<xnat:file label=\"secondary\" file_count=\"22\" file_size=\"4001818\" URI=\"/data/xnat/archive/BrainTumorProg/arc001/PGBM-003_MR_1/SCANS/36469/DICOM/scan_36469_secondary_catalog.xml\" format=\"DICOM\" content=\"secondary\" xsi:type=\"xnat:resourceCatalog\">\\n<!--hidden_fields[xnat_abstractResource_id=\"89\",xnat_imageScanData_xnat_imagescandata_id=\"49\"]-->\\n</xnat:file>\\n<xnat:file label=\"SNAPSHOTS\" file_count=\"2\" file_size=\"324961\" URI=\"/data/xnat/archive/BrainTumorProg/arc001/PGBM-003_MR_1/SCANS/36469/SNAPSHOTS/36469_catalog.xml\" format=\"GIF\" content=\"SNAPSHOTS\" xsi:type=\"xnat:resourceCatalog\">\\n<!--hidden_fields[xnat_abstractResource_id=\"99\",xnat_imageScanData_xnat_imagescandata_id=\"49\"]-->\\n</xnat:file>\\n<xnat:startTime>08:18:25</xnat:startTime>\\n<xnat:start_date>1995-03-29</xnat:start_date>\\n</xnat:scan>\\n<xnat:scan ID=\"37870\" type=\"T2_reg\" UID=\"1.3.6.1.4.1.14519.5.2.1.4429.7055.149455479236394071679725178532\" xsi:type=\"xnat:mrScanData\">\\n<!--hidden_fields[xnat_imageScanData_id=\"50\"]-->\\n<xnat:image_session_ID>XNAT_E00007</xnat:image_session_ID>\\n<xnat:quality>usable</xnat:quality>\\n<xnat:series_description>T2_reg</xnat:series_description>\\n<xnat:scanner manufacturer=\"Imaging Biometrics LLC\" model=\"IB Delta Suite\"/>\\n<xnat:modality>MR</xnat:modality>\\n<xnat:frames>22</xnat:frames>\\n<xnat:file label=\"DICOM\" file_count=\"22\" file_size=\"4006614\" URI=\"/data/xnat/archive/BrainTumorProg/arc001/PGBM-003_MR_1/SCANS/37870/DICOM/scan_37870_catalog.xml\" format=\"DICOM\" content=\"RAW\" xsi:type=\"xnat:resourceCatalog\">\\n<!--hidden_fields[xnat_abstractResource_id=\"90\",xnat_imageScanData_xnat_imagescandata_id=\"50\"]-->\\n</xnat:file>\\n<xnat:file label=\"SNAPSHOTS\" file_count=\"2\" file_size=\"390329\" URI=\"/data/xnat/archive/BrainTumorProg/arc001/PGBM-003_MR_1/SCANS/37870/SNAPSHOTS/37870_catalog.xml\" format=\"GIF\" content=\"SNAPSHOTS\" xsi:type=\"xnat:resourceCatalog\">\\n<!--hidden_fields[xnat_abstractResource_id=\"100\",xnat_imageScanData_xnat_imagescandata_id=\"50\"]-->\\n</xnat:file>\\n<xnat:startTime>08:12:35</xnat:startTime>\\n<xnat:start_date>1995-03-29</xnat:start_date>\\n<xnat:fieldStrength>1.5</xnat:fieldStrength>\\n<xnat:parameters>\\n<xnat:voxelRes x=\"0.6875\" y=\"0.6875\" z=\"5.0\"/>\\n<xnat:orientation>Tra</xnat:orientation>\\n<xnat:fov x=\"280\" y=\"320\"/>\\n<xnat:tr>4000.0</xnat:tr>\\n<xnat:te>92.0</xnat:te>\\n<xnat:flip>150</xnat:flip>\\n<xnat:sequence>*tse2d1_13</xnat:sequence>\\n<xnat:imageType>ORIGINAL\\\\\\\\PRIMARY\\\\\\\\M\\\\\\\\NORM\\\\\\\\DIS2D</xnat:imageType>\\n<xnat:scanSequence>SE</xnat:scanSequence>\\n<xnat:seqVariant>SK\\\\\\\\SP\\\\\\\\OSP</xnat:seqVariant>\\n<xnat:acqType>2D</xnat:acqType>\\n<xnat:pixelBandwidth>200.0</xnat:pixelBandwidth>\\n</xnat:parameters>\\n</xnat:scan>\\n</xnat:scans>\\n<xnat:dcmAccessionNumber>3083564386975476</xnat:dcmAccessionNumber>\\n<xnat:dcmPatientId>PGBM-003_MR_1</xnat:dcmPatientId>\\n<xnat:dcmPatientName>PGBM-003</xnat:dcmPatientName>\\n<xnat:dcmPatientWeight>109.66050532075</xnat:dcmPatientWeight>\\n<xnat:fieldStrength>1.5</xnat:fieldStrength>\\n</xnat:experiment>\\n<xnat:experiment ID=\"XNAT_E00009\" project=\"BrainTumorProg\" label=\"PGBM-003_MR_2\" session_type=\"MR RCBV SEQUENCE\" modality=\"MR\" UID=\"1.3.6.1.4.1.14519.5.2.1.4429.7055.729192279796218307950472057198\" xsi:type=\"xnat:mrSessionData\">\\n<xnat:date>1995-10-17</xnat:date>\\n<xnat:time>06:27:47</xnat:time>\\n<xnat:subject_ID>XNAT_S00003</xnat:subject_ID>\\n<xnat:prearchivePath>/data/xnat/prearchive/BrainTumorProg/20200120_191651860/PGBM-003_MR_2</xnat:prearchivePath>\\n<xnat:scans>\\n<xnat:scan ID=\"13\" type=\"T1post\" UID=\"1.3.6.1.4.1.14519.5.2.1.4429.7055.293816446347585254079913156086\" xsi:type=\"xnat:mrScanData\">\\n<!--hidden_fields[xnat_imageScanData_id=\"51\"]-->\\n<xnat:image_session_ID>XNAT_E00009</xnat:image_session_ID>\\n<xnat:quality>usable</xnat:quality>\\n<xnat:series_description>T1post</xnat:series_description>\\n<xnat:scanner manufacturer=\"GE MEDICAL SYSTEMS\" model=\"DISCOVERY MR750\"/>\\n<xnat:modality>MR</xnat:modality>\\n<xnat:frames>24</xnat:frames>\\n<xnat:file label=\"DICOM\" file_count=\"24\" file_size=\"12724072\" URI=\"/data/xnat/archive/BrainTumorProg/arc001/PGBM-003_MR_2/SCANS/13/DICOM/scan_13_catalog.xml\" format=\"DICOM\" content=\"RAW\" xsi:type=\"xnat:resourceCatalog\">\\n<!--hidden_fields[xnat_abstractResource_id=\"101\",xnat_imageScanData_xnat_imagescandata_id=\"51\"]-->\\n</xnat:file>\\n<xnat:file label=\"SNAPSHOTS\" file_count=\"2\" file_size=\"887139\" URI=\"/data/xnat/archive/BrainTumorProg/arc001/PGBM-003_MR_2/SCANS/13/SNAPSHOTS/13_catalog.xml\" format=\"GIF\" content=\"SNAPSHOTS\" xsi:type=\"xnat:resourceCatalog\">\\n<!--hidden_fields[xnat_abstractResource_id=\"111\",xnat_imageScanData_xnat_imagescandata_id=\"51\"]-->\\n</xnat:file>\\n<xnat:startTime>06:58:56</xnat:startTime>\\n<xnat:start_date>1995-10-17</xnat:start_date>\\n<xnat:coil>HNS Head</xnat:coil>\\n<xnat:fieldStrength>3.0</xnat:fieldStrength>\\n<xnat:parameters>\\n<xnat:voxelRes x=\"0.4297\" y=\"0.4297\" z=\"5.0\"/>\\n<xnat:orientation>Tra</xnat:orientation>\\n<xnat:fov x=\"512\" y=\"512\"/>\\n<xnat:tr>650.0</xnat:tr>\\n<xnat:te>10.0</xnat:te>\\n<xnat:flip>75</xnat:flip>\\n<xnat:imageType>ORIGINAL\\\\\\\\PRIMARY\\\\\\\\OTHER</xnat:imageType>\\n<xnat:scanSequence>RM</xnat:scanSequence>\\n<xnat:seqVariant>NONE</xnat:seqVariant>\\n<xnat:scanOptions>FILTERED_GEMS\\\\\\\\PFF</xnat:scanOptions>\\n<xnat:acqType>2D</xnat:acqType>\\n<xnat:pixelBandwidth>122.07</xnat:pixelBandwidth>\\n</xnat:parameters>\\n</xnat:scan>\\n<xnat:scan ID=\"5362\" type=\"Mask_Tumor\" UID=\"1.3.6.1.4.1.14519.5.2.1.4429.7055.334574025196257159011717236422\" xsi:type=\"xnat:scScanData\">\\n<!--hidden_fields[xnat_imageScanData_id=\"52\"]-->\\n<xnat:image_session_ID>XNAT_E00009</xnat:image_session_ID>\\n<xnat:quality>usable</xnat:quality>\\n<xnat:series_description>Mask_Tumor</xnat:series_description>\\n<xnat:scanner manufacturer=\"Imaging Biometrics LLC\" model=\"OsiriX\"/>\\n<xnat:modality>MR</xnat:modality>\\n<xnat:frames>0</xnat:frames>\\n<xnat:file label=\"secondary\" file_count=\"24\" file_size=\"12643820\" URI=\"/data/xnat/archive/BrainTumorProg/arc001/PGBM-003_MR_2/SCANS/5362/DICOM/scan_5362_secondary_catalog.xml\" format=\"DICOM\" content=\"secondary\" xsi:type=\"xnat:resourceCatalog\">\\n<!--hidden_fields[xnat_abstractResource_id=\"102\",xnat_imageScanData_xnat_imagescandata_id=\"52\"]-->\\n</xnat:file>\\n<xnat:file label=\"SNAPSHOTS\" file_count=\"2\" file_size=\"5316\" URI=\"/data/xnat/archive/BrainTumorProg/arc001/PGBM-003_MR_2/SCANS/5362/SNAPSHOTS/5362_catalog.xml\" format=\"GIF\" content=\"SNAPSHOTS\" xsi:type=\"xnat:resourceCatalog\">\\n<!--hidden_fields[xnat_abstractResource_id=\"112\",xnat_imageScanData_xnat_imagescandata_id=\"52\"]-->\\n</xnat:file>\\n<xnat:startTime>06:58:56</xnat:startTime>\\n<xnat:start_date>1995-10-17</xnat:start_date>\\n</xnat:scan>\\n<xnat:scan ID=\"29907\" type=\"dT1\" UID=\"1.3.6.1.4.1.14519.5.2.1.4429.7055.150196901445052166975680183229\" xsi:type=\"xnat:scScanData\">\\n<!--hidden_fields[xnat_imageScanData_id=\"53\"]-->\\n<xnat:image_session_ID>XNAT_E00009</xnat:image_session_ID>\\n<xnat:quality>usable</xnat:quality>\\n<xnat:series_description>dT1</xnat:series_description>\\n<xnat:scanner manufacturer=\"Imaging Biometrics LLC\" model=\"IB Delta Suite\"/>\\n<xnat:modality>MR</xnat:modality>\\n<xnat:frames>0</xnat:frames>\\n<xnat:file label=\"secondary\" file_count=\"24\" file_size=\"12644680\" URI=\"/data/xnat/archive/BrainTumorProg/arc001/PGBM-003_MR_2/SCANS/29907/DICOM/scan_29907_secondary_catalog.xml\" format=\"DICOM\" content=\"secondary\" xsi:type=\"xnat:resourceCatalog\">\\n<!--hidden_fields[xnat_abstractResource_id=\"103\",xnat_imageScanData_xnat_imagescandata_id=\"53\"]-->\\n</xnat:file>\\n<xnat:file label=\"SNAPSHOTS\" file_count=\"2\" file_size=\"812712\" URI=\"/data/xnat/archive/BrainTumorProg/arc001/PGBM-003_MR_2/SCANS/29907/SNAPSHOTS/29907_catalog.xml\" format=\"GIF\" content=\"SNAPSHOTS\" xsi:type=\"xnat:resourceCatalog\">\\n<!--hidden_fields[xnat_abstractResource_id=\"113\",xnat_imageScanData_xnat_imagescandata_id=\"53\"]-->\\n</xnat:file>\\n<xnat:startTime>06:58:56</xnat:startTime>\\n<xnat:start_date>1995-10-17</xnat:start_date>\\n</xnat:scan>\\n<xnat:scan ID=\"34911\" type=\"T1pre_reg\" UID=\"1.3.6.1.4.1.14519.5.2.1.4429.7055.951760044234185587156102946949\" xsi:type=\"xnat:mrScanData\">\\n<!--hidden_fields[xnat_imageScanData_id=\"54\"]-->\\n<xnat:image_session_ID>XNAT_E00009</xnat:image_session_ID>\\n<xnat:quality>usable</xnat:quality>\\n<xnat:series_description>T1pre_reg</xnat:series_description>\\n<xnat:scanner manufacturer=\"Imaging Biometrics LLC\" model=\"IB Delta Suite\"/>\\n<xnat:modality>MR</xnat:modality>\\n<xnat:frames>24</xnat:frames>\\n<xnat:file label=\"DICOM\" file_count=\"24\" file_size=\"12650200\" URI=\"/data/xnat/archive/BrainTumorProg/arc001/PGBM-003_MR_2/SCANS/34911/DICOM/scan_34911_catalog.xml\" format=\"DICOM\" content=\"RAW\" xsi:type=\"xnat:resourceCatalog\">\\n<!--hidden_fields[xnat_abstractResource_id=\"104\",xnat_imageScanData_xnat_imagescandata_id=\"54\"]-->\\n</xnat:file>\\n<xnat:file label=\"SNAPSHOTS\" file_count=\"2\" file_size=\"858663\" URI=\"/data/xnat/archive/BrainTumorProg/arc001/PGBM-003_MR_2/SCANS/34911/SNAPSHOTS/34911_catalog.xml\" format=\"GIF\" content=\"SNAPSHOTS\" xsi:type=\"xnat:resourceCatalog\">\\n<!--hidden_fields[xnat_abstractResource_id=\"114\",xnat_imageScanData_xnat_imagescandata_id=\"54\"]-->\\n</xnat:file>\\n<xnat:startTime>06:45:50</xnat:startTime>\\n<xnat:start_date>1995-10-17</xnat:start_date>\\n<xnat:coil>HNS Head</xnat:coil>\\n<xnat:fieldStrength>3.0</xnat:fieldStrength>\\n<xnat:parameters>\\n<xnat:voxelRes x=\"0.4297\" y=\"0.4297\" z=\"5.0\"/>\\n<xnat:orientation>Tra</xnat:orientation>\\n<xnat:fov x=\"512\" y=\"512\"/>\\n<xnat:tr>650.0</xnat:tr>\\n<xnat:te>10.0</xnat:te>\\n<xnat:flip>75</xnat:flip>\\n<xnat:imageType>ORIGINAL\\\\\\\\PRIMARY\\\\\\\\OTHER</xnat:imageType>\\n<xnat:scanSequence>RM</xnat:scanSequence>\\n<xnat:seqVariant>NONE</xnat:seqVariant>\\n<xnat:scanOptions>FILTERED_GEMS\\\\\\\\PFF</xnat:scanOptions>\\n<xnat:acqType>2D</xnat:acqType>\\n<xnat:pixelBandwidth>122.07</xnat:pixelBandwidth>\\n</xnat:parameters>\\n</xnat:scan>\\n<xnat:scan ID=\"36471\" type=\"FLAIR_reg\" UID=\"1.3.6.1.4.1.14519.5.2.1.4429.7055.874630167789792163807785802052\" xsi:type=\"xnat:mrScanData\">\\n<!--hidden_fields[xnat_imageScanData_id=\"55\"]-->\\n<xnat:image_session_ID>XNAT_E00009</xnat:image_session_ID>\\n<xnat:quality>usable</xnat:quality>\\n<xnat:series_description>FLAIR_reg</xnat:series_description>\\n<xnat:scanner manufacturer=\"Imaging Biometrics LLC\" model=\"IB Delta Suite\"/>\\n<xnat:modality>MR</xnat:modality>\\n<xnat:frames>24</xnat:frames>\\n<xnat:file label=\"DICOM\" file_count=\"24\" file_size=\"12651736\" URI=\"/data/xnat/archive/BrainTumorProg/arc001/PGBM-003_MR_2/SCANS/36471/DICOM/scan_36471_catalog.xml\" format=\"DICOM\" content=\"RAW\" xsi:type=\"xnat:resourceCatalog\">\\n<!--hidden_fields[xnat_abstractResource_id=\"105\",xnat_imageScanData_xnat_imagescandata_id=\"55\"]-->\\n</xnat:file>\\n<xnat:file label=\"SNAPSHOTS\" file_count=\"2\" file_size=\"943657\" URI=\"/data/xnat/archive/BrainTumorProg/arc001/PGBM-003_MR_2/SCANS/36471/SNAPSHOTS/36471_catalog.xml\" format=\"GIF\" content=\"SNAPSHOTS\" xsi:type=\"xnat:resourceCatalog\">\\n<!--hidden_fields[xnat_abstractResource_id=\"115\",xnat_imageScanData_xnat_imagescandata_id=\"55\"]-->\\n</xnat:file>\\n<xnat:startTime>06:39:12</xnat:startTime>\\n<xnat:start_date>1995-10-17</xnat:start_date>\\n<xnat:coil>HNS Head</xnat:coil>\\n<xnat:fieldStrength>3.0</xnat:fieldStrength>\\n<xnat:parameters>\\n<xnat:voxelRes x=\"0.4297\" y=\"0.4297\" z=\"5.0\"/>\\n<xnat:orientation>Tra</xnat:orientation>\\n<xnat:fov x=\"512\" y=\"512\"/>\\n<xnat:tr>9000.0</xnat:tr>\\n<xnat:te>121.164</xnat:te>\\n<xnat:ti>2250.0</xnat:ti>\\n<xnat:flip>111</xnat:flip>\\n<xnat:imageType>ORIGINAL\\\\\\\\PRIMARY\\\\\\\\OTHER</xnat:imageType>\\n<xnat:scanSequence>SE\\\\\\\\IR</xnat:scanSequence>\\n<xnat:seqVariant>SK</xnat:seqVariant>\\n<xnat:scanOptions>FAST_GEMS\\\\\\\\FC_SLICE_AX_GEMS\\\\\\\\FC\\\\\\\\EDR_GEMS\\\\\\\\TRF_GEMS\\\\\\\\FILTERED_GEMS</xnat:scanOptions>\\n<xnat:acqType>2D</xnat:acqType>\\n<xnat:pixelBandwidth>122.07</xnat:pixelBandwidth>\\n</xnat:parameters>\\n</xnat:scan>\\n<xnat:scan ID=\"36472\" type=\"ADC_reg\" UID=\"1.3.6.1.4.1.14519.5.2.1.4429.7055.330079872848757323382689224389\" xsi:type=\"xnat:scScanData\">\\n<!--hidden_fields[xnat_imageScanData_id=\"56\"]-->\\n<xnat:image_session_ID>XNAT_E00009</xnat:image_session_ID>\\n<xnat:quality>usable</xnat:quality>\\n<xnat:series_description>ADC_reg</xnat:series_description>\\n<xnat:scanner manufacturer=\"Imaging Biometrics LLC\" model=\"IB Delta Suite\"/>\\n<xnat:modality>MR</xnat:modality>\\n<xnat:frames>0</xnat:frames>\\n<xnat:file label=\"secondary\" file_count=\"24\" file_size=\"12644776\" URI=\"/data/xnat/archive/BrainTumorProg/arc001/PGBM-003_MR_2/SCANS/36472/DICOM/scan_36472_secondary_catalog.xml\" format=\"DICOM\" content=\"secondary\" xsi:type=\"xnat:resourceCatalog\">\\n<!--hidden_fields[xnat_abstractResource_id=\"106\",xnat_imageScanData_xnat_imagescandata_id=\"56\"]-->\\n</xnat:file>\\n<xnat:file label=\"SNAPSHOTS\" file_count=\"2\" file_size=\"658342\" URI=\"/data/xnat/archive/BrainTumorProg/arc001/PGBM-003_MR_2/SCANS/36472/SNAPSHOTS/36472_catalog.xml\" format=\"GIF\" content=\"SNAPSHOTS\" xsi:type=\"xnat:resourceCatalog\">\\n<!--hidden_fields[xnat_abstractResource_id=\"116\",xnat_imageScanData_xnat_imagescandata_id=\"56\"]-->\\n</xnat:file>\\n<xnat:startTime>06:33:56</xnat:startTime>\\n<xnat:start_date>1995-10-17</xnat:start_date>\\n</xnat:scan>\\n<xnat:scan ID=\"36475\" type=\"nCBF_reg\" UID=\"1.3.6.1.4.1.14519.5.2.1.4429.7055.209486411566409766663536932454\" xsi:type=\"xnat:scScanData\">\\n<!--hidden_fields[xnat_imageScanData_id=\"57\"]-->\\n<xnat:image_session_ID>XNAT_E00009</xnat:image_session_ID>\\n<xnat:quality>usable</xnat:quality>\\n<xnat:series_description>nCBF_reg</xnat:series_description>\\n<xnat:scanner manufacturer=\"Imaging Biometrics LLC\" model=\"IB Delta Suite\"/>\\n<xnat:modality>MR</xnat:modality>\\n<xnat:frames>0</xnat:frames>\\n<xnat:file label=\"secondary\" file_count=\"24\" file_size=\"12644776\" URI=\"/data/xnat/archive/BrainTumorProg/arc001/PGBM-003_MR_2/SCANS/36475/DICOM/scan_36475_secondary_catalog.xml\" format=\"DICOM\" content=\"secondary\" xsi:type=\"xnat:resourceCatalog\">\\n<!--hidden_fields[xnat_abstractResource_id=\"107\",xnat_imageScanData_xnat_imagescandata_id=\"57\"]-->\\n</xnat:file>\\n<xnat:file label=\"SNAPSHOTS\" file_count=\"2\" file_size=\"279530\" URI=\"/data/xnat/archive/BrainTumorProg/arc001/PGBM-003_MR_2/SCANS/36475/SNAPSHOTS/36475_catalog.xml\" format=\"GIF\" content=\"SNAPSHOTS\" xsi:type=\"xnat:resourceCatalog\">\\n<!--hidden_fields[xnat_abstractResource_id=\"117\",xnat_imageScanData_xnat_imagescandata_id=\"57\"]-->\\n</xnat:file>\\n<xnat:startTime>07:05:16</xnat:startTime>\\n<xnat:start_date>1995-10-17</xnat:start_date>\\n</xnat:scan>\\n<xnat:scan ID=\"36476\" type=\"sRCBV_reg\" UID=\"1.3.6.1.4.1.14519.5.2.1.4429.7055.768112968335904132046800554964\" xsi:type=\"xnat:scScanData\">\\n<!--hidden_fields[xnat_imageScanData_id=\"58\"]-->\\n<xnat:image_session_ID>XNAT_E00009</xnat:image_session_ID>\\n<xnat:quality>usable</xnat:quality>\\n<xnat:series_description>sRCBV_reg</xnat:series_description>\\n<xnat:scanner manufacturer=\"Imaging Biometrics LLC\" model=\"IB Delta Suite\"/>\\n<xnat:modality>MR</xnat:modality>\\n<xnat:frames>0</xnat:frames>\\n<xnat:file label=\"secondary\" file_count=\"24\" file_size=\"12644824\" URI=\"/data/xnat/archive/BrainTumorProg/arc001/PGBM-003_MR_2/SCANS/36476/DICOM/scan_36476_secondary_catalog.xml\" format=\"DICOM\" content=\"secondary\" xsi:type=\"xnat:resourceCatalog\">\\n<!--hidden_fields[xnat_abstractResource_id=\"108\",xnat_imageScanData_xnat_imagescandata_id=\"58\"]-->\\n</xnat:file>\\n<xnat:file label=\"SNAPSHOTS\" file_count=\"2\" file_size=\"258961\" URI=\"/data/xnat/archive/BrainTumorProg/arc001/PGBM-003_MR_2/SCANS/36476/SNAPSHOTS/36476_catalog.xml\" format=\"GIF\" content=\"SNAPSHOTS\" xsi:type=\"xnat:resourceCatalog\">\\n<!--hidden_fields[xnat_abstractResource_id=\"118\",xnat_imageScanData_xnat_imagescandata_id=\"58\"]-->\\n</xnat:file>\\n<xnat:startTime>07:05:16</xnat:startTime>\\n<xnat:start_date>1995-10-17</xnat:start_date>\\n</xnat:scan>\\n<xnat:scan ID=\"36477\" type=\"nRCBV_reg\" UID=\"1.3.6.1.4.1.14519.5.2.1.4429.7055.690090468447781982623218315344\" xsi:type=\"xnat:scScanData\">\\n<!--hidden_fields[xnat_imageScanData_id=\"59\"]-->\\n<xnat:image_session_ID>XNAT_E00009</xnat:image_session_ID>\\n<xnat:quality>usable</xnat:quality>\\n<xnat:series_description>nRCBV_reg</xnat:series_description>\\n<xnat:scanner manufacturer=\"Imaging Biometrics LLC\" model=\"IB Delta Suite\"/>\\n<xnat:modality>MR</xnat:modality>\\n<xnat:frames>0</xnat:frames>\\n<xnat:file label=\"secondary\" file_count=\"24\" file_size=\"12644824\" URI=\"/data/xnat/archive/BrainTumorProg/arc001/PGBM-003_MR_2/SCANS/36477/DICOM/scan_36477_secondary_catalog.xml\" format=\"DICOM\" content=\"secondary\" xsi:type=\"xnat:resourceCatalog\">\\n<!--hidden_fields[xnat_abstractResource_id=\"109\",xnat_imageScanData_xnat_imagescandata_id=\"59\"]-->\\n</xnat:file>\\n<xnat:file label=\"SNAPSHOTS\" file_count=\"2\" file_size=\"291181\" URI=\"/data/xnat/archive/BrainTumorProg/arc001/PGBM-003_MR_2/SCANS/36477/SNAPSHOTS/36477_catalog.xml\" format=\"GIF\" content=\"SNAPSHOTS\" xsi:type=\"xnat:resourceCatalog\">\\n<!--hidden_fields[xnat_abstractResource_id=\"119\",xnat_imageScanData_xnat_imagescandata_id=\"59\"]-->\\n</xnat:file>\\n<xnat:startTime>07:05:16</xnat:startTime>\\n<xnat:start_date>1995-10-17</xnat:start_date>\\n</xnat:scan>\\n<xnat:scan ID=\"37868\" type=\"T2_reg\" UID=\"1.3.6.1.4.1.14519.5.2.1.4429.7055.249332750522009823872986282200\" xsi:type=\"xnat:mrScanData\">\\n<!--hidden_fields[xnat_imageScanData_id=\"60\"]-->\\n<xnat:image_session_ID>XNAT_E00009</xnat:image_session_ID>\\n<xnat:quality>questionable</xnat:quality>\\n<xnat:series_description>T2_reg</xnat:series_description>\\n<xnat:scanner manufacturer=\"Imaging Biometrics LLC\" model=\"IB Delta Suite\"/>\\n<xnat:modality>MR</xnat:modality>\\n<xnat:frames>24</xnat:frames>\\n<xnat:file label=\"DICOM\" file_count=\"24\" file_size=\"12651016\" URI=\"/data/xnat/archive/BrainTumorProg/arc001/PGBM-003_MR_2/SCANS/37868/DICOM/scan_37868_catalog.xml\" format=\"DICOM\" content=\"RAW\" xsi:type=\"xnat:resourceCatalog\">\\n<!--hidden_fields[xnat_abstractResource_id=\"110\",xnat_imageScanData_xnat_imagescandata_id=\"60\"]-->\\n</xnat:file>\\n<xnat:file label=\"SNAPSHOTS\" file_count=\"2\" file_size=\"1001764\" URI=\"/data/xnat/archive/BrainTumorProg/arc001/PGBM-003_MR_2/SCANS/37868/SNAPSHOTS/37868_catalog.xml\" format=\"GIF\" content=\"SNAPSHOTS\" xsi:type=\"xnat:resourceCatalog\">\\n<!--hidden_fields[xnat_abstractResource_id=\"120\",xnat_imageScanData_xnat_imagescandata_id=\"60\"]-->\\n</xnat:file>\\n<xnat:startTime>06:35:02</xnat:startTime>\\n<xnat:start_date>1995-10-17</xnat:start_date>\\n<xnat:coil>HNS Head</xnat:coil>\\n<xnat:fieldStrength>3.0</xnat:fieldStrength>\\n<xnat:parameters>\\n<xnat:voxelRes x=\"0.4297\" y=\"0.4297\" z=\"5.0\"/>\\n<xnat:orientation>Tra</xnat:orientation>\\n<xnat:fov x=\"512\" y=\"512\"/>\\n<xnat:tr>4976.0</xnat:tr>\\n<xnat:te>92.488</xnat:te>\\n<xnat:flip>111</xnat:flip>\\n<xnat:imageType>ORIGINAL\\\\\\\\PRIMARY\\\\\\\\OTHER</xnat:imageType>\\n<xnat:scanSequence>SE</xnat:scanSequence>\\n<xnat:seqVariant>SK</xnat:seqVariant>\\n<xnat:scanOptions>FAST_GEMS\\\\\\\\FC_SLICE_AX_GEMS\\\\\\\\FC\\\\\\\\TRF_GEMS\\\\\\\\FILTERED_GEMS</xnat:scanOptions>\\n<xnat:acqType>2D</xnat:acqType>\\n<xnat:pixelBandwidth>244.141</xnat:pixelBandwidth>\\n</xnat:parameters>\\n</xnat:scan>\\n</xnat:scans>\\n<xnat:dcmAccessionNumber>1196772271765763</xnat:dcmAccessionNumber>\\n<xnat:dcmPatientId>PGBM-003_MR_2</xnat:dcmPatientId>\\n<xnat:dcmPatientName>PGBM-003</xnat:dcmPatientName>\\n<xnat:dcmPatientWeight>111.13</xnat:dcmPatientWeight>\\n<xnat:fieldStrength>3.0</xnat:fieldStrength>\\n</xnat:experiment>\\n</xnat:experiments>\\n</xnat:Subject>\\n'"
      ]
     },
     "execution_count": 51,
     "metadata": {},
     "output_type": "execute_result"
    }
   ],
   "source": [
    "interface.select.project('BrainTumorProg').subject('XNAT_S00003').get()"
   ]
  },
  {
   "cell_type": "code",
   "execution_count": 52,
   "metadata": {},
   "outputs": [
    {
     "ename": "AttributeError",
     "evalue": "'Select' object has no attribute 'subject'",
     "output_type": "error",
     "traceback": [
      "\u001b[1;31m---------------------------------------------------------------------------\u001b[0m",
      "\u001b[1;31mAttributeError\u001b[0m                            Traceback (most recent call last)",
      "\u001b[1;32m<ipython-input-52-bb913d0c9810>\u001b[0m in \u001b[0;36m<module>\u001b[1;34m\u001b[0m\n\u001b[1;32m----> 1\u001b[1;33m \u001b[0minterface\u001b[0m\u001b[1;33m.\u001b[0m\u001b[0mselect\u001b[0m\u001b[1;33m.\u001b[0m\u001b[0msubject\u001b[0m\u001b[1;33m(\u001b[0m\u001b[1;34m'XNAT_S00003'\u001b[0m\u001b[1;33m)\u001b[0m\u001b[1;33m.\u001b[0m\u001b[0mget\u001b[0m\u001b[1;33m(\u001b[0m\u001b[1;33m)\u001b[0m\u001b[1;33m\u001b[0m\u001b[1;33m\u001b[0m\u001b[0m\n\u001b[0m",
      "\u001b[1;31mAttributeError\u001b[0m: 'Select' object has no attribute 'subject'"
     ]
    }
   ],
   "source": [
    "interface.select.subject('XNAT_S00003').get()"
   ]
  },
  {
   "cell_type": "markdown",
   "metadata": {},
   "source": [
    "# interface.select.project('BrainTumorProg').subjects() \n",
    "# =  < Collection Object > 2253486061128"
   ]
  },
  {
   "cell_type": "code",
   "execution_count": 53,
   "metadata": {},
   "outputs": [
    {
     "data": {
      "text/plain": [
       "<Collection Object> 2253486061128"
      ]
     },
     "execution_count": 53,
     "metadata": {},
     "output_type": "execute_result"
    }
   ],
   "source": [
    "interface.select.project('BrainTumorProg').subjects()"
   ]
  },
  {
   "cell_type": "code",
   "execution_count": 56,
   "metadata": {},
   "outputs": [
    {
     "ename": "AttributeError",
     "evalue": "'Subjects' object has no attribute 'label'",
     "output_type": "error",
     "traceback": [
      "\u001b[1;31m---------------------------------------------------------------------------\u001b[0m",
      "\u001b[1;31mAttributeError\u001b[0m                            Traceback (most recent call last)",
      "\u001b[1;32m<ipython-input-56-0630597b341d>\u001b[0m in \u001b[0;36m<module>\u001b[1;34m\u001b[0m\n\u001b[1;32m----> 1\u001b[1;33m \u001b[0minterface\u001b[0m\u001b[1;33m.\u001b[0m\u001b[0mselect\u001b[0m\u001b[1;33m.\u001b[0m\u001b[0mproject\u001b[0m\u001b[1;33m(\u001b[0m\u001b[1;34m'BrainTumorProg'\u001b[0m\u001b[1;33m)\u001b[0m\u001b[1;33m.\u001b[0m\u001b[0msubjects\u001b[0m\u001b[1;33m(\u001b[0m\u001b[1;33m)\u001b[0m\u001b[1;33m.\u001b[0m\u001b[0mlabel\u001b[0m\u001b[1;33m(\u001b[0m\u001b[1;33m)\u001b[0m\u001b[1;33m\u001b[0m\u001b[1;33m\u001b[0m\u001b[0m\n\u001b[0m",
      "\u001b[1;31mAttributeError\u001b[0m: 'Subjects' object has no attribute 'label'"
     ]
    }
   ],
   "source": [
    "interface.select.project('BrainTumorProg').subjects().label()"
   ]
  },
  {
   "cell_type": "code",
   "execution_count": 61,
   "metadata": {},
   "outputs": [],
   "source": [
    "progSubjects = interface.select.project('BrainTumorProg').subjects()"
   ]
  },
  {
   "cell_type": "code",
   "execution_count": 59,
   "metadata": {},
   "outputs": [
    {
     "name": "stdout",
     "output_type": "stream",
     "text": [
      "PGBM-001\n",
      "PGM-002\n",
      "PGBM-003\n"
     ]
    }
   ],
   "source": [
    "for progSubject in progSubjects:\n",
    "    print(progSubject.label())"
   ]
  },
  {
   "cell_type": "markdown",
   "metadata": {},
   "source": [
    "# interface.select.project('BrainTumorProg').subject('PGBM-003') \n",
    "# =  < Subject Object > PGBM-003"
   ]
  },
  {
   "cell_type": "code",
   "execution_count": 62,
   "metadata": {},
   "outputs": [
    {
     "data": {
      "text/plain": [
       "<Subject Object> PGBM-003"
      ]
     },
     "execution_count": 62,
     "metadata": {},
     "output_type": "execute_result"
    }
   ],
   "source": [
    "interface.select.project('BrainTumorProg').subject('PGBM-003')"
   ]
  },
  {
   "cell_type": "markdown",
   "metadata": {},
   "source": [
    "# interface.select.project('BrainTumorProg').subject('PGBM-003').label()\n",
    "# = 'PGBM-003'"
   ]
  },
  {
   "cell_type": "code",
   "execution_count": 63,
   "metadata": {},
   "outputs": [
    {
     "data": {
      "text/plain": [
       "'PGBM-003'"
      ]
     },
     "execution_count": 63,
     "metadata": {},
     "output_type": "execute_result"
    }
   ],
   "source": [
    "interface.select.project('BrainTumorProg').subject('PGBM-003').label()"
   ]
  },
  {
   "cell_type": "code",
   "execution_count": 65,
   "metadata": {},
   "outputs": [
    {
     "data": {
      "text/plain": [
       "'XNAT_S00003'"
      ]
     },
     "execution_count": 65,
     "metadata": {},
     "output_type": "execute_result"
    }
   ],
   "source": [
    "interface.select.project('BrainTumorProg').subject('PGBM-003').id()"
   ]
  },
  {
   "cell_type": "code",
   "execution_count": 72,
   "metadata": {},
   "outputs": [
    {
     "data": {
      "text/plain": [
       "<Collection Object> 2253486349704"
      ]
     },
     "execution_count": 72,
     "metadata": {},
     "output_type": "execute_result"
    }
   ],
   "source": [
    "interface.select.projects()"
   ]
  },
  {
   "cell_type": "code",
   "execution_count": 71,
   "metadata": {},
   "outputs": [
    {
     "data": {
      "text/plain": [
       "['BrainTumorProg', 'SN2015Neuro']"
      ]
     },
     "execution_count": 71,
     "metadata": {},
     "output_type": "execute_result"
    }
   ],
   "source": [
    "interface.select.projects().get()"
   ]
  },
  {
   "cell_type": "code",
   "execution_count": 73,
   "metadata": {},
   "outputs": [
    {
     "data": {
      "text/plain": [
       "<Collection Object> 2253485877000"
      ]
     },
     "execution_count": 73,
     "metadata": {},
     "output_type": "execute_result"
    }
   ],
   "source": [
    "interface.select('/projects')"
   ]
  },
  {
   "cell_type": "code",
   "execution_count": 70,
   "metadata": {},
   "outputs": [
    {
     "data": {
      "text/plain": [
       "['BrainTumorProg', 'SN2015Neuro']"
      ]
     },
     "execution_count": 70,
     "metadata": {},
     "output_type": "execute_result"
    }
   ],
   "source": [
    "interface.select('/projects').get()"
   ]
  },
  {
   "cell_type": "code",
   "execution_count": 74,
   "metadata": {},
   "outputs": [
    {
     "data": {
      "text/plain": [
       "<Collection Object> 2253486016968"
      ]
     },
     "execution_count": 74,
     "metadata": {},
     "output_type": "execute_result"
    }
   ],
   "source": [
    "interface.select.projects().subjects()"
   ]
  },
  {
   "cell_type": "code",
   "execution_count": 75,
   "metadata": {},
   "outputs": [
    {
     "data": {
      "text/plain": [
       "['XNAT_S00001', 'XNAT_S00002', 'XNAT_S00003', 'XNAT_S00004']"
      ]
     },
     "execution_count": 75,
     "metadata": {},
     "output_type": "execute_result"
    }
   ],
   "source": [
    "interface.select.projects().subjects().get()"
   ]
  },
  {
   "cell_type": "code",
   "execution_count": 78,
   "metadata": {},
   "outputs": [
    {
     "data": {
      "text/plain": [
       "<Collection Object> 2253485989128"
      ]
     },
     "execution_count": 78,
     "metadata": {},
     "output_type": "execute_result"
    }
   ],
   "source": [
    "interface.select('//subjects')"
   ]
  },
  {
   "cell_type": "code",
   "execution_count": 79,
   "metadata": {},
   "outputs": [
    {
     "data": {
      "text/plain": [
       "['XNAT_S00001', 'XNAT_S00002', 'XNAT_S00003', 'XNAT_S00004']"
      ]
     },
     "execution_count": 79,
     "metadata": {},
     "output_type": "execute_result"
    }
   ],
   "source": [
    "interface.select('//subjects').get()"
   ]
  },
  {
   "cell_type": "code",
   "execution_count": 103,
   "metadata": {},
   "outputs": [
    {
     "name": "stdout",
     "output_type": "stream",
     "text": [
      "All projects: ['BrainTumorProg', 'SN2015Neuro']\n",
      "Project: BrainTumorProg\n",
      "Subject label: PGM-002\n",
      "Subject ID: XNAT_S00002\n"
     ]
    }
   ],
   "source": [
    "# All projects:\n",
    "projectsObj = interface.select('/projects')\n",
    "projectsLabels = projectsObj.get()\n",
    "\n",
    "print(f'All projects: {projectsLabels}')\n",
    "\n",
    "# Chosen project:\n",
    "#projectLabel = ['BrainTumorProg']\n",
    "projectLabel = 'BrainTumorProg'\n",
    "\n",
    "print(f'Project: {projectLabel}')\n",
    "\n",
    "#projectsObj.select.project(projectLabel)\n",
    "projectObj = interface.select.project(projectLabel)\n",
    "\n",
    "# Chosen subject: \n",
    "#subjectLabel = ['PGM-002']\n",
    "subjectLabel = 'PGM-002'\n",
    "subjectId = interface.select.project(projectLabel).subject(subjectLabel).id()\n",
    "\n",
    "print(f'Subject label: {subjectLabel}')\n",
    "print(f'Subject ID: {subjectId}')\n",
    "\n",
    "# Chosen session number:\n",
    "sessionNo = 0 # (= 1 in XNAT web app)\n",
    "\n",
    "experiment = interface.array.experiments(project_id=projectLabel, subject_id=subjectId).data[sessionNo]"
   ]
  },
  {
   "cell_type": "code",
   "execution_count": 101,
   "metadata": {},
   "outputs": [
    {
     "data": {
      "text/plain": [
       "[{'xnat:subjectassessordata/id': 'XNAT_E00004',\n",
       "  'subject_ID': 'XNAT_S00002',\n",
       "  'ID': 'XNAT_E00004',\n",
       "  'project': 'BrainTumorProg',\n",
       "  'xsiType': 'xnat:mrSessionData',\n",
       "  'URI': '/data/experiments/XNAT_E00004'},\n",
       " {'xnat:subjectassessordata/id': 'XNAT_E00005',\n",
       "  'subject_ID': 'XNAT_S00002',\n",
       "  'ID': 'XNAT_E00005',\n",
       "  'project': 'BrainTumorProg',\n",
       "  'xsiType': 'xnat:mrSessionData',\n",
       "  'URI': '/data/experiments/XNAT_E00005'}]"
      ]
     },
     "execution_count": 101,
     "metadata": {},
     "output_type": "execute_result"
    }
   ],
   "source": [
    "interface.array.experiments(project_id=projectLabel, subject_id=subjectId).data"
   ]
  },
  {
   "cell_type": "code",
   "execution_count": 102,
   "metadata": {},
   "outputs": [
    {
     "data": {
      "text/plain": [
       "{'xnat:subjectassessordata/id': 'XNAT_E00004',\n",
       " 'subject_ID': 'XNAT_S00002',\n",
       " 'ID': 'XNAT_E00004',\n",
       " 'project': 'BrainTumorProg',\n",
       " 'xsiType': 'xnat:mrSessionData',\n",
       " 'URI': '/data/experiments/XNAT_E00004'}"
      ]
     },
     "execution_count": 102,
     "metadata": {},
     "output_type": "execute_result"
    }
   ],
   "source": [
    "interface.array.experiments(project_id=projectLabel, subject_id=subjectId).data[0]"
   ]
  },
  {
   "cell_type": "code",
   "execution_count": 104,
   "metadata": {},
   "outputs": [
    {
     "data": {
      "text/plain": [
       "'XNAT_E00004'"
      ]
     },
     "execution_count": 104,
     "metadata": {},
     "output_type": "execute_result"
    }
   ],
   "source": [
    "interface.array.experiments(project_id=projectLabel, subject_id=subjectId).data[0]['ID']"
   ]
  },
  {
   "cell_type": "code",
   "execution_count": 105,
   "metadata": {},
   "outputs": [
    {
     "data": {
      "text/plain": [
       "<JsonTable 7:6> xnat:subjectassessordata/id,subject_ID ... xsiType,URI"
      ]
     },
     "execution_count": 105,
     "metadata": {},
     "output_type": "execute_result"
    }
   ],
   "source": [
    "interface.array.experiments()"
   ]
  },
  {
   "cell_type": "code",
   "execution_count": 106,
   "metadata": {},
   "outputs": [
    {
     "data": {
      "text/plain": [
       "[{'xnat:subjectassessordata/id': 'XNAT_E00001',\n",
       "  'subject_ID': 'XNAT_S00001',\n",
       "  'ID': 'XNAT_E00001',\n",
       "  'project': 'BrainTumorProg',\n",
       "  'xsiType': 'xnat:mrSessionData',\n",
       "  'URI': '/data/experiments/XNAT_E00001'},\n",
       " {'xnat:subjectassessordata/id': 'XNAT_E00003',\n",
       "  'subject_ID': 'XNAT_S00001',\n",
       "  'ID': 'XNAT_E00003',\n",
       "  'project': 'BrainTumorProg',\n",
       "  'xsiType': 'xnat:mrSessionData',\n",
       "  'URI': '/data/experiments/XNAT_E00003'},\n",
       " {'xnat:subjectassessordata/id': 'XNAT_E00004',\n",
       "  'subject_ID': 'XNAT_S00002',\n",
       "  'ID': 'XNAT_E00004',\n",
       "  'project': 'BrainTumorProg',\n",
       "  'xsiType': 'xnat:mrSessionData',\n",
       "  'URI': '/data/experiments/XNAT_E00004'},\n",
       " {'xnat:subjectassessordata/id': 'XNAT_E00005',\n",
       "  'subject_ID': 'XNAT_S00002',\n",
       "  'ID': 'XNAT_E00005',\n",
       "  'project': 'BrainTumorProg',\n",
       "  'xsiType': 'xnat:mrSessionData',\n",
       "  'URI': '/data/experiments/XNAT_E00005'},\n",
       " {'xnat:subjectassessordata/id': 'XNAT_E00007',\n",
       "  'subject_ID': 'XNAT_S00003',\n",
       "  'ID': 'XNAT_E00007',\n",
       "  'project': 'BrainTumorProg',\n",
       "  'xsiType': 'xnat:mrSessionData',\n",
       "  'URI': '/data/experiments/XNAT_E00007'},\n",
       " {'xnat:subjectassessordata/id': 'XNAT_E00009',\n",
       "  'subject_ID': 'XNAT_S00003',\n",
       "  'ID': 'XNAT_E00009',\n",
       "  'project': 'BrainTumorProg',\n",
       "  'xsiType': 'xnat:mrSessionData',\n",
       "  'URI': '/data/experiments/XNAT_E00009'},\n",
       " {'xnat:subjectassessordata/id': 'XNAT_E00010',\n",
       "  'subject_ID': 'XNAT_S00004',\n",
       "  'ID': 'XNAT_E00010',\n",
       "  'project': 'SN2015Neuro',\n",
       "  'xsiType': 'xnat:petSessionData',\n",
       "  'URI': '/data/experiments/XNAT_E00010'}]"
      ]
     },
     "execution_count": 106,
     "metadata": {},
     "output_type": "execute_result"
    }
   ],
   "source": [
    "interface.array.experiments().data"
   ]
  },
  {
   "cell_type": "code",
   "execution_count": 114,
   "metadata": {},
   "outputs": [
    {
     "name": "stdout",
     "output_type": "stream",
     "text": [
      "All projects: ['BrainTumorProg', 'SN2015Neuro']\n",
      "Project: BrainTumorProg\n",
      "Subject label: PGM-002\n",
      "Subject ID: XNAT_S00002\n",
      "Experiment ID: XNAT_E00004\n"
     ]
    }
   ],
   "source": [
    "# All projects:\n",
    "projectsObj = interface.select('/projects')\n",
    "projectsLabels = projectsObj.get()\n",
    "\n",
    "print(f'All projects: {projectsLabels}')\n",
    "\n",
    "# Chosen project:\n",
    "#projectLabel = ['BrainTumorProg']\n",
    "projectLabel = 'BrainTumorProg'\n",
    "\n",
    "print(f'Project: {projectLabel}')\n",
    "\n",
    "#projectsObj.select.project(projectLabel)\n",
    "projectObj = interface.select.project(projectLabel)\n",
    "\n",
    "# Chosen subject: \n",
    "#subjectLabel = ['PGM-002']\n",
    "subjectLabel = 'PGM-002'\n",
    "subjectId = interface.select.project(projectLabel).subject(subjectLabel).id()\n",
    "\n",
    "print(f'Subject label: {subjectLabel}')\n",
    "print(f'Subject ID: {subjectId}')\n",
    "\n",
    "# Chosen session number:\n",
    "sessionNo = 0 # (= 1 in XNAT web app)\n",
    "\n",
    "experiment = interface.array.experiments(project_id=projectLabel, subject_id=subjectId).data[sessionNo]\n",
    "\n",
    "experimentId = experiment['ID']\n",
    "\n",
    "print(f'Experiment ID: {experimentId}')"
   ]
  },
  {
   "cell_type": "code",
   "execution_count": 110,
   "metadata": {},
   "outputs": [
    {
     "data": {
      "text/plain": [
       "<JsonTable 65:7> session_ID,xnat:imagesessiondata/subject_id ... xnat:imagescandata/id,URI"
      ]
     },
     "execution_count": 110,
     "metadata": {},
     "output_type": "execute_result"
    }
   ],
   "source": [
    "interface.array.scans()"
   ]
  },
  {
   "cell_type": "code",
   "execution_count": 112,
   "metadata": {},
   "outputs": [
    {
     "data": {
      "text/plain": [
       "[{'session_ID': 'XNAT_E00001',\n",
       "  'xnat:imagesessiondata/subject_id': 'XNAT_S00001',\n",
       "  'ID': 'XNAT_E00001',\n",
       "  'project': 'BrainTumorProg',\n",
       "  'xsiType': 'xnat:mrSessionData',\n",
       "  'xnat:imagescandata/id': '37910',\n",
       "  'URI': '/data/experiments/XNAT_E00001'},\n",
       " {'session_ID': 'XNAT_E00001',\n",
       "  'xnat:imagesessiondata/subject_id': 'XNAT_S00001',\n",
       "  'ID': 'XNAT_E00001',\n",
       "  'project': 'BrainTumorProg',\n",
       "  'xsiType': 'xnat:mrSessionData',\n",
       "  'xnat:imagescandata/id': '35638',\n",
       "  'URI': '/data/experiments/XNAT_E00001'},\n",
       " {'session_ID': 'XNAT_E00001',\n",
       "  'xnat:imagesessiondata/subject_id': 'XNAT_S00001',\n",
       "  'ID': 'XNAT_E00001',\n",
       "  'project': 'BrainTumorProg',\n",
       "  'xsiType': 'xnat:mrSessionData',\n",
       "  'xnat:imagescandata/id': '35637',\n",
       "  'URI': '/data/experiments/XNAT_E00001'},\n",
       " {'session_ID': 'XNAT_E00001',\n",
       "  'xnat:imagesessiondata/subject_id': 'XNAT_S00001',\n",
       "  'ID': 'XNAT_E00001',\n",
       "  'project': 'BrainTumorProg',\n",
       "  'xsiType': 'xnat:mrSessionData',\n",
       "  'xnat:imagescandata/id': '35635',\n",
       "  'URI': '/data/experiments/XNAT_E00001'},\n",
       " {'session_ID': 'XNAT_E00001',\n",
       "  'xnat:imagesessiondata/subject_id': 'XNAT_S00001',\n",
       "  'ID': 'XNAT_E00001',\n",
       "  'project': 'BrainTumorProg',\n",
       "  'xsiType': 'xnat:mrSessionData',\n",
       "  'xnat:imagescandata/id': '35634',\n",
       "  'URI': '/data/experiments/XNAT_E00001'},\n",
       " {'session_ID': 'XNAT_E00001',\n",
       "  'xnat:imagesessiondata/subject_id': 'XNAT_S00001',\n",
       "  'ID': 'XNAT_E00001',\n",
       "  'project': 'BrainTumorProg',\n",
       "  'xsiType': 'xnat:mrSessionData',\n",
       "  'xnat:imagescandata/id': '35633',\n",
       "  'URI': '/data/experiments/XNAT_E00001'},\n",
       " {'session_ID': 'XNAT_E00001',\n",
       "  'xnat:imagesessiondata/subject_id': 'XNAT_S00001',\n",
       "  'ID': 'XNAT_E00001',\n",
       "  'project': 'BrainTumorProg',\n",
       "  'xsiType': 'xnat:mrSessionData',\n",
       "  'xnat:imagescandata/id': '35004',\n",
       "  'URI': '/data/experiments/XNAT_E00001'},\n",
       " {'session_ID': 'XNAT_E00001',\n",
       "  'xnat:imagesessiondata/subject_id': 'XNAT_S00001',\n",
       "  'ID': 'XNAT_E00001',\n",
       "  'project': 'BrainTumorProg',\n",
       "  'xsiType': 'xnat:mrSessionData',\n",
       "  'xnat:imagescandata/id': '10008',\n",
       "  'URI': '/data/experiments/XNAT_E00001'},\n",
       " {'session_ID': 'XNAT_E00001',\n",
       "  'xnat:imagesessiondata/subject_id': 'XNAT_S00001',\n",
       "  'ID': 'XNAT_E00001',\n",
       "  'project': 'BrainTumorProg',\n",
       "  'xsiType': 'xnat:mrSessionData',\n",
       "  'xnat:imagescandata/id': '5364',\n",
       "  'URI': '/data/experiments/XNAT_E00001'},\n",
       " {'session_ID': 'XNAT_E00001',\n",
       "  'xnat:imagesessiondata/subject_id': 'XNAT_S00001',\n",
       "  'ID': 'XNAT_E00001',\n",
       "  'project': 'BrainTumorProg',\n",
       "  'xsiType': 'xnat:mrSessionData',\n",
       "  'xnat:imagescandata/id': '11',\n",
       "  'URI': '/data/experiments/XNAT_E00001'},\n",
       " {'session_ID': 'XNAT_E00003',\n",
       "  'xnat:imagesessiondata/subject_id': 'XNAT_S00001',\n",
       "  'ID': 'XNAT_E00003',\n",
       "  'project': 'BrainTumorProg',\n",
       "  'xsiType': 'xnat:mrSessionData',\n",
       "  'xnat:imagescandata/id': '37908',\n",
       "  'URI': '/data/experiments/XNAT_E00003'},\n",
       " {'session_ID': 'XNAT_E00003',\n",
       "  'xnat:imagesessiondata/subject_id': 'XNAT_S00001',\n",
       "  'ID': 'XNAT_E00003',\n",
       "  'project': 'BrainTumorProg',\n",
       "  'xsiType': 'xnat:mrSessionData',\n",
       "  'xnat:imagescandata/id': '35630',\n",
       "  'URI': '/data/experiments/XNAT_E00003'},\n",
       " {'session_ID': 'XNAT_E00003',\n",
       "  'xnat:imagesessiondata/subject_id': 'XNAT_S00001',\n",
       "  'ID': 'XNAT_E00003',\n",
       "  'project': 'BrainTumorProg',\n",
       "  'xsiType': 'xnat:mrSessionData',\n",
       "  'xnat:imagescandata/id': '35629',\n",
       "  'URI': '/data/experiments/XNAT_E00003'},\n",
       " {'session_ID': 'XNAT_E00003',\n",
       "  'xnat:imagesessiondata/subject_id': 'XNAT_S00001',\n",
       "  'ID': 'XNAT_E00003',\n",
       "  'project': 'BrainTumorProg',\n",
       "  'xsiType': 'xnat:mrSessionData',\n",
       "  'xnat:imagescandata/id': '35628',\n",
       "  'URI': '/data/experiments/XNAT_E00003'},\n",
       " {'session_ID': 'XNAT_E00003',\n",
       "  'xnat:imagesessiondata/subject_id': 'XNAT_S00001',\n",
       "  'ID': 'XNAT_E00003',\n",
       "  'project': 'BrainTumorProg',\n",
       "  'xsiType': 'xnat:mrSessionData',\n",
       "  'xnat:imagescandata/id': '35624',\n",
       "  'URI': '/data/experiments/XNAT_E00003'},\n",
       " {'session_ID': 'XNAT_E00003',\n",
       "  'xnat:imagesessiondata/subject_id': 'XNAT_S00001',\n",
       "  'ID': 'XNAT_E00003',\n",
       "  'project': 'BrainTumorProg',\n",
       "  'xsiType': 'xnat:mrSessionData',\n",
       "  'xnat:imagescandata/id': '35623',\n",
       "  'URI': '/data/experiments/XNAT_E00003'},\n",
       " {'session_ID': 'XNAT_E00003',\n",
       "  'xnat:imagesessiondata/subject_id': 'XNAT_S00001',\n",
       "  'ID': 'XNAT_E00003',\n",
       "  'project': 'BrainTumorProg',\n",
       "  'xsiType': 'xnat:mrSessionData',\n",
       "  'xnat:imagescandata/id': '34907',\n",
       "  'URI': '/data/experiments/XNAT_E00003'},\n",
       " {'session_ID': 'XNAT_E00003',\n",
       "  'xnat:imagesessiondata/subject_id': 'XNAT_S00001',\n",
       "  'ID': 'XNAT_E00003',\n",
       "  'project': 'BrainTumorProg',\n",
       "  'xsiType': 'xnat:mrSessionData',\n",
       "  'xnat:imagescandata/id': '29904',\n",
       "  'URI': '/data/experiments/XNAT_E00003'},\n",
       " {'session_ID': 'XNAT_E00003',\n",
       "  'xnat:imagesessiondata/subject_id': 'XNAT_S00001',\n",
       "  'ID': 'XNAT_E00003',\n",
       "  'project': 'BrainTumorProg',\n",
       "  'xsiType': 'xnat:mrSessionData',\n",
       "  'xnat:imagescandata/id': '5388',\n",
       "  'URI': '/data/experiments/XNAT_E00003'},\n",
       " {'session_ID': 'XNAT_E00003',\n",
       "  'xnat:imagesessiondata/subject_id': 'XNAT_S00001',\n",
       "  'ID': 'XNAT_E00003',\n",
       "  'project': 'BrainTumorProg',\n",
       "  'xsiType': 'xnat:mrSessionData',\n",
       "  'xnat:imagescandata/id': '11',\n",
       "  'URI': '/data/experiments/XNAT_E00003'},\n",
       " {'session_ID': 'XNAT_E00004',\n",
       "  'xnat:imagesessiondata/subject_id': 'XNAT_S00002',\n",
       "  'ID': 'XNAT_E00004',\n",
       "  'project': 'BrainTumorProg',\n",
       "  'xsiType': 'xnat:mrSessionData',\n",
       "  'xnat:imagescandata/id': '37921',\n",
       "  'URI': '/data/experiments/XNAT_E00004'},\n",
       " {'session_ID': 'XNAT_E00004',\n",
       "  'xnat:imagesessiondata/subject_id': 'XNAT_S00002',\n",
       "  'ID': 'XNAT_E00004',\n",
       "  'project': 'BrainTumorProg',\n",
       "  'xsiType': 'xnat:mrSessionData',\n",
       "  'xnat:imagescandata/id': '36456',\n",
       "  'URI': '/data/experiments/XNAT_E00004'},\n",
       " {'session_ID': 'XNAT_E00004',\n",
       "  'xnat:imagesessiondata/subject_id': 'XNAT_S00002',\n",
       "  'ID': 'XNAT_E00004',\n",
       "  'project': 'BrainTumorProg',\n",
       "  'xsiType': 'xnat:mrSessionData',\n",
       "  'xnat:imagescandata/id': '36455',\n",
       "  'URI': '/data/experiments/XNAT_E00004'},\n",
       " {'session_ID': 'XNAT_E00004',\n",
       "  'xnat:imagesessiondata/subject_id': 'XNAT_S00002',\n",
       "  'ID': 'XNAT_E00004',\n",
       "  'project': 'BrainTumorProg',\n",
       "  'xsiType': 'xnat:mrSessionData',\n",
       "  'xnat:imagescandata/id': '36454',\n",
       "  'URI': '/data/experiments/XNAT_E00004'},\n",
       " {'session_ID': 'XNAT_E00004',\n",
       "  'xnat:imagesessiondata/subject_id': 'XNAT_S00002',\n",
       "  'ID': 'XNAT_E00004',\n",
       "  'project': 'BrainTumorProg',\n",
       "  'xsiType': 'xnat:mrSessionData',\n",
       "  'xnat:imagescandata/id': '36450',\n",
       "  'URI': '/data/experiments/XNAT_E00004'},\n",
       " {'session_ID': 'XNAT_E00004',\n",
       "  'xnat:imagesessiondata/subject_id': 'XNAT_S00002',\n",
       "  'ID': 'XNAT_E00004',\n",
       "  'project': 'BrainTumorProg',\n",
       "  'xsiType': 'xnat:mrSessionData',\n",
       "  'xnat:imagescandata/id': '36449',\n",
       "  'URI': '/data/experiments/XNAT_E00004'},\n",
       " {'session_ID': 'XNAT_E00004',\n",
       "  'xnat:imagesessiondata/subject_id': 'XNAT_S00002',\n",
       "  'ID': 'XNAT_E00004',\n",
       "  'project': 'BrainTumorProg',\n",
       "  'xsiType': 'xnat:mrSessionData',\n",
       "  'xnat:imagescandata/id': '19446',\n",
       "  'URI': '/data/experiments/XNAT_E00004'},\n",
       " {'session_ID': 'XNAT_E00004',\n",
       "  'xnat:imagesessiondata/subject_id': 'XNAT_S00002',\n",
       "  'ID': 'XNAT_E00004',\n",
       "  'project': 'BrainTumorProg',\n",
       "  'xsiType': 'xnat:mrSessionData',\n",
       "  'xnat:imagescandata/id': '14409',\n",
       "  'URI': '/data/experiments/XNAT_E00004'},\n",
       " {'session_ID': 'XNAT_E00004',\n",
       "  'xnat:imagesessiondata/subject_id': 'XNAT_S00002',\n",
       "  'ID': 'XNAT_E00004',\n",
       "  'project': 'BrainTumorProg',\n",
       "  'xsiType': 'xnat:mrSessionData',\n",
       "  'xnat:imagescandata/id': '5394',\n",
       "  'URI': '/data/experiments/XNAT_E00004'},\n",
       " {'session_ID': 'XNAT_E00004',\n",
       "  'xnat:imagesessiondata/subject_id': 'XNAT_S00002',\n",
       "  'ID': 'XNAT_E00004',\n",
       "  'project': 'BrainTumorProg',\n",
       "  'xsiType': 'xnat:mrSessionData',\n",
       "  'xnat:imagescandata/id': '11',\n",
       "  'URI': '/data/experiments/XNAT_E00004'},\n",
       " {'session_ID': 'XNAT_E00005',\n",
       "  'xnat:imagesessiondata/subject_id': 'XNAT_S00002',\n",
       "  'ID': 'XNAT_E00005',\n",
       "  'project': 'BrainTumorProg',\n",
       "  'xsiType': 'xnat:mrSessionData',\n",
       "  'xnat:imagescandata/id': '37916',\n",
       "  'URI': '/data/experiments/XNAT_E00005'},\n",
       " {'session_ID': 'XNAT_E00005',\n",
       "  'xnat:imagesessiondata/subject_id': 'XNAT_S00002',\n",
       "  'ID': 'XNAT_E00005',\n",
       "  'project': 'BrainTumorProg',\n",
       "  'xsiType': 'xnat:mrSessionData',\n",
       "  'xnat:imagescandata/id': '36465',\n",
       "  'URI': '/data/experiments/XNAT_E00005'},\n",
       " {'session_ID': 'XNAT_E00005',\n",
       "  'xnat:imagesessiondata/subject_id': 'XNAT_S00002',\n",
       "  'ID': 'XNAT_E00005',\n",
       "  'project': 'BrainTumorProg',\n",
       "  'xsiType': 'xnat:mrSessionData',\n",
       "  'xnat:imagescandata/id': '36464',\n",
       "  'URI': '/data/experiments/XNAT_E00005'},\n",
       " {'session_ID': 'XNAT_E00005',\n",
       "  'xnat:imagesessiondata/subject_id': 'XNAT_S00002',\n",
       "  'ID': 'XNAT_E00005',\n",
       "  'project': 'BrainTumorProg',\n",
       "  'xsiType': 'xnat:mrSessionData',\n",
       "  'xnat:imagescandata/id': '36463',\n",
       "  'URI': '/data/experiments/XNAT_E00005'},\n",
       " {'session_ID': 'XNAT_E00005',\n",
       "  'xnat:imagesessiondata/subject_id': 'XNAT_S00002',\n",
       "  'ID': 'XNAT_E00005',\n",
       "  'project': 'BrainTumorProg',\n",
       "  'xsiType': 'xnat:mrSessionData',\n",
       "  'xnat:imagescandata/id': '36460',\n",
       "  'URI': '/data/experiments/XNAT_E00005'},\n",
       " {'session_ID': 'XNAT_E00005',\n",
       "  'xnat:imagesessiondata/subject_id': 'XNAT_S00002',\n",
       "  'ID': 'XNAT_E00005',\n",
       "  'project': 'BrainTumorProg',\n",
       "  'xsiType': 'xnat:mrSessionData',\n",
       "  'xnat:imagescandata/id': '36459',\n",
       "  'URI': '/data/experiments/XNAT_E00005'},\n",
       " {'session_ID': 'XNAT_E00005',\n",
       "  'xnat:imagesessiondata/subject_id': 'XNAT_S00002',\n",
       "  'ID': 'XNAT_E00005',\n",
       "  'project': 'BrainTumorProg',\n",
       "  'xsiType': 'xnat:mrSessionData',\n",
       "  'xnat:imagescandata/id': '34909',\n",
       "  'URI': '/data/experiments/XNAT_E00005'},\n",
       " {'session_ID': 'XNAT_E00005',\n",
       "  'xnat:imagesessiondata/subject_id': 'XNAT_S00002',\n",
       "  'ID': 'XNAT_E00005',\n",
       "  'project': 'BrainTumorProg',\n",
       "  'xsiType': 'xnat:mrSessionData',\n",
       "  'xnat:imagescandata/id': '29905',\n",
       "  'URI': '/data/experiments/XNAT_E00005'},\n",
       " {'session_ID': 'XNAT_E00005',\n",
       "  'xnat:imagesessiondata/subject_id': 'XNAT_S00002',\n",
       "  'ID': 'XNAT_E00005',\n",
       "  'project': 'BrainTumorProg',\n",
       "  'xsiType': 'xnat:mrSessionData',\n",
       "  'xnat:imagescandata/id': '5396',\n",
       "  'URI': '/data/experiments/XNAT_E00005'},\n",
       " {'session_ID': 'XNAT_E00005',\n",
       "  'xnat:imagesessiondata/subject_id': 'XNAT_S00002',\n",
       "  'ID': 'XNAT_E00005',\n",
       "  'project': 'BrainTumorProg',\n",
       "  'xsiType': 'xnat:mrSessionData',\n",
       "  'xnat:imagescandata/id': '12',\n",
       "  'URI': '/data/experiments/XNAT_E00005'},\n",
       " {'session_ID': 'XNAT_E00007',\n",
       "  'xnat:imagesessiondata/subject_id': 'XNAT_S00003',\n",
       "  'ID': 'XNAT_E00007',\n",
       "  'project': 'BrainTumorProg',\n",
       "  'xsiType': 'xnat:mrSessionData',\n",
       "  'xnat:imagescandata/id': '37870',\n",
       "  'URI': '/data/experiments/XNAT_E00007'},\n",
       " {'session_ID': 'XNAT_E00007',\n",
       "  'xnat:imagesessiondata/subject_id': 'XNAT_S00003',\n",
       "  'ID': 'XNAT_E00007',\n",
       "  'project': 'BrainTumorProg',\n",
       "  'xsiType': 'xnat:mrSessionData',\n",
       "  'xnat:imagescandata/id': '36469',\n",
       "  'URI': '/data/experiments/XNAT_E00007'},\n",
       " {'session_ID': 'XNAT_E00007',\n",
       "  'xnat:imagesessiondata/subject_id': 'XNAT_S00003',\n",
       "  'ID': 'XNAT_E00007',\n",
       "  'project': 'BrainTumorProg',\n",
       "  'xsiType': 'xnat:mrSessionData',\n",
       "  'xnat:imagescandata/id': '36468',\n",
       "  'URI': '/data/experiments/XNAT_E00007'},\n",
       " {'session_ID': 'XNAT_E00007',\n",
       "  'xnat:imagesessiondata/subject_id': 'XNAT_S00003',\n",
       "  'ID': 'XNAT_E00007',\n",
       "  'project': 'BrainTumorProg',\n",
       "  'xsiType': 'xnat:mrSessionData',\n",
       "  'xnat:imagescandata/id': '26407',\n",
       "  'URI': '/data/experiments/XNAT_E00007'},\n",
       " {'session_ID': 'XNAT_E00007',\n",
       "  'xnat:imagesessiondata/subject_id': 'XNAT_S00003',\n",
       "  'ID': 'XNAT_E00007',\n",
       "  'project': 'BrainTumorProg',\n",
       "  'xsiType': 'xnat:mrSessionData',\n",
       "  'xnat:imagescandata/id': '26406',\n",
       "  'URI': '/data/experiments/XNAT_E00007'},\n",
       " {'session_ID': 'XNAT_E00007',\n",
       "  'xnat:imagesessiondata/subject_id': 'XNAT_S00003',\n",
       "  'ID': 'XNAT_E00007',\n",
       "  'project': 'BrainTumorProg',\n",
       "  'xsiType': 'xnat:mrSessionData',\n",
       "  'xnat:imagescandata/id': '26405',\n",
       "  'URI': '/data/experiments/XNAT_E00007'},\n",
       " {'session_ID': 'XNAT_E00007',\n",
       "  'xnat:imagesessiondata/subject_id': 'XNAT_S00003',\n",
       "  'ID': 'XNAT_E00007',\n",
       "  'project': 'BrainTumorProg',\n",
       "  'xsiType': 'xnat:mrSessionData',\n",
       "  'xnat:imagescandata/id': '26401',\n",
       "  'URI': '/data/experiments/XNAT_E00007'},\n",
       " {'session_ID': 'XNAT_E00007',\n",
       "  'xnat:imagesessiondata/subject_id': 'XNAT_S00003',\n",
       "  'ID': 'XNAT_E00007',\n",
       "  'project': 'BrainTumorProg',\n",
       "  'xsiType': 'xnat:mrSessionData',\n",
       "  'xnat:imagescandata/id': '21400',\n",
       "  'URI': '/data/experiments/XNAT_E00007'},\n",
       " {'session_ID': 'XNAT_E00007',\n",
       "  'xnat:imagesessiondata/subject_id': 'XNAT_S00003',\n",
       "  'ID': 'XNAT_E00007',\n",
       "  'project': 'BrainTumorProg',\n",
       "  'xsiType': 'xnat:mrSessionData',\n",
       "  'xnat:imagescandata/id': '5377',\n",
       "  'URI': '/data/experiments/XNAT_E00007'},\n",
       " {'session_ID': 'XNAT_E00007',\n",
       "  'xnat:imagesessiondata/subject_id': 'XNAT_S00003',\n",
       "  'ID': 'XNAT_E00007',\n",
       "  'project': 'BrainTumorProg',\n",
       "  'xsiType': 'xnat:mrSessionData',\n",
       "  'xnat:imagescandata/id': '11',\n",
       "  'URI': '/data/experiments/XNAT_E00007'},\n",
       " {'session_ID': 'XNAT_E00009',\n",
       "  'xnat:imagesessiondata/subject_id': 'XNAT_S00003',\n",
       "  'ID': 'XNAT_E00009',\n",
       "  'project': 'BrainTumorProg',\n",
       "  'xsiType': 'xnat:mrSessionData',\n",
       "  'xnat:imagescandata/id': '37868',\n",
       "  'URI': '/data/experiments/XNAT_E00009'},\n",
       " {'session_ID': 'XNAT_E00009',\n",
       "  'xnat:imagesessiondata/subject_id': 'XNAT_S00003',\n",
       "  'ID': 'XNAT_E00009',\n",
       "  'project': 'BrainTumorProg',\n",
       "  'xsiType': 'xnat:mrSessionData',\n",
       "  'xnat:imagescandata/id': '36477',\n",
       "  'URI': '/data/experiments/XNAT_E00009'},\n",
       " {'session_ID': 'XNAT_E00009',\n",
       "  'xnat:imagesessiondata/subject_id': 'XNAT_S00003',\n",
       "  'ID': 'XNAT_E00009',\n",
       "  'project': 'BrainTumorProg',\n",
       "  'xsiType': 'xnat:mrSessionData',\n",
       "  'xnat:imagescandata/id': '36476',\n",
       "  'URI': '/data/experiments/XNAT_E00009'},\n",
       " {'session_ID': 'XNAT_E00009',\n",
       "  'xnat:imagesessiondata/subject_id': 'XNAT_S00003',\n",
       "  'ID': 'XNAT_E00009',\n",
       "  'project': 'BrainTumorProg',\n",
       "  'xsiType': 'xnat:mrSessionData',\n",
       "  'xnat:imagescandata/id': '36475',\n",
       "  'URI': '/data/experiments/XNAT_E00009'},\n",
       " {'session_ID': 'XNAT_E00009',\n",
       "  'xnat:imagesessiondata/subject_id': 'XNAT_S00003',\n",
       "  'ID': 'XNAT_E00009',\n",
       "  'project': 'BrainTumorProg',\n",
       "  'xsiType': 'xnat:mrSessionData',\n",
       "  'xnat:imagescandata/id': '36472',\n",
       "  'URI': '/data/experiments/XNAT_E00009'},\n",
       " {'session_ID': 'XNAT_E00009',\n",
       "  'xnat:imagesessiondata/subject_id': 'XNAT_S00003',\n",
       "  'ID': 'XNAT_E00009',\n",
       "  'project': 'BrainTumorProg',\n",
       "  'xsiType': 'xnat:mrSessionData',\n",
       "  'xnat:imagescandata/id': '36471',\n",
       "  'URI': '/data/experiments/XNAT_E00009'},\n",
       " {'session_ID': 'XNAT_E00009',\n",
       "  'xnat:imagesessiondata/subject_id': 'XNAT_S00003',\n",
       "  'ID': 'XNAT_E00009',\n",
       "  'project': 'BrainTumorProg',\n",
       "  'xsiType': 'xnat:mrSessionData',\n",
       "  'xnat:imagescandata/id': '34911',\n",
       "  'URI': '/data/experiments/XNAT_E00009'},\n",
       " {'session_ID': 'XNAT_E00009',\n",
       "  'xnat:imagesessiondata/subject_id': 'XNAT_S00003',\n",
       "  'ID': 'XNAT_E00009',\n",
       "  'project': 'BrainTumorProg',\n",
       "  'xsiType': 'xnat:mrSessionData',\n",
       "  'xnat:imagescandata/id': '29907',\n",
       "  'URI': '/data/experiments/XNAT_E00009'},\n",
       " {'session_ID': 'XNAT_E00009',\n",
       "  'xnat:imagesessiondata/subject_id': 'XNAT_S00003',\n",
       "  'ID': 'XNAT_E00009',\n",
       "  'project': 'BrainTumorProg',\n",
       "  'xsiType': 'xnat:mrSessionData',\n",
       "  'xnat:imagescandata/id': '5362',\n",
       "  'URI': '/data/experiments/XNAT_E00009'},\n",
       " {'session_ID': 'XNAT_E00009',\n",
       "  'xnat:imagesessiondata/subject_id': 'XNAT_S00003',\n",
       "  'ID': 'XNAT_E00009',\n",
       "  'project': 'BrainTumorProg',\n",
       "  'xsiType': 'xnat:mrSessionData',\n",
       "  'xnat:imagescandata/id': '13',\n",
       "  'URI': '/data/experiments/XNAT_E00009'},\n",
       " {'session_ID': 'XNAT_E00010',\n",
       "  'xnat:imagesessiondata/subject_id': 'XNAT_S00004',\n",
       "  'ID': 'XNAT_E00010',\n",
       "  'project': 'SN2015Neuro',\n",
       "  'xsiType': 'xnat:petSessionData',\n",
       "  'xnat:imagescandata/id': '5',\n",
       "  'URI': '/data/experiments/XNAT_E00010'},\n",
       " {'session_ID': 'XNAT_E00010',\n",
       "  'xnat:imagesessiondata/subject_id': 'XNAT_S00004',\n",
       "  'ID': 'XNAT_E00010',\n",
       "  'project': 'SN2015Neuro',\n",
       "  'xsiType': 'xnat:petSessionData',\n",
       "  'xnat:imagescandata/id': '4',\n",
       "  'URI': '/data/experiments/XNAT_E00010'},\n",
       " {'session_ID': 'XNAT_E00010',\n",
       "  'xnat:imagesessiondata/subject_id': 'XNAT_S00004',\n",
       "  'ID': 'XNAT_E00010',\n",
       "  'project': 'SN2015Neuro',\n",
       "  'xsiType': 'xnat:petSessionData',\n",
       "  'xnat:imagescandata/id': '3',\n",
       "  'URI': '/data/experiments/XNAT_E00010'},\n",
       " {'session_ID': 'XNAT_E00010',\n",
       "  'xnat:imagesessiondata/subject_id': 'XNAT_S00004',\n",
       "  'ID': 'XNAT_E00010',\n",
       "  'project': 'SN2015Neuro',\n",
       "  'xsiType': 'xnat:petSessionData',\n",
       "  'xnat:imagescandata/id': '2',\n",
       "  'URI': '/data/experiments/XNAT_E00010'},\n",
       " {'session_ID': 'XNAT_E00010',\n",
       "  'xnat:imagesessiondata/subject_id': 'XNAT_S00004',\n",
       "  'ID': 'XNAT_E00010',\n",
       "  'project': 'SN2015Neuro',\n",
       "  'xsiType': 'xnat:petSessionData',\n",
       "  'xnat:imagescandata/id': '1',\n",
       "  'URI': '/data/experiments/XNAT_E00010'}]"
      ]
     },
     "execution_count": 112,
     "metadata": {},
     "output_type": "execute_result"
    }
   ],
   "source": [
    "interface.array.scans().data"
   ]
  },
  {
   "cell_type": "code",
   "execution_count": 115,
   "metadata": {},
   "outputs": [
    {
     "data": {
      "text/plain": [
       "[{'session_ID': 'XNAT_E00004',\n",
       "  'xnat:imagesessiondata/subject_id': 'XNAT_S00002',\n",
       "  'ID': 'XNAT_E00004',\n",
       "  'project': 'BrainTumorProg',\n",
       "  'xsiType': 'xnat:mrSessionData',\n",
       "  'xnat:imagescandata/id': '11',\n",
       "  'URI': '/data/experiments/XNAT_E00004'},\n",
       " {'session_ID': 'XNAT_E00004',\n",
       "  'xnat:imagesessiondata/subject_id': 'XNAT_S00002',\n",
       "  'ID': 'XNAT_E00004',\n",
       "  'project': 'BrainTumorProg',\n",
       "  'xsiType': 'xnat:mrSessionData',\n",
       "  'xnat:imagescandata/id': '14409',\n",
       "  'URI': '/data/experiments/XNAT_E00004'},\n",
       " {'session_ID': 'XNAT_E00004',\n",
       "  'xnat:imagesessiondata/subject_id': 'XNAT_S00002',\n",
       "  'ID': 'XNAT_E00004',\n",
       "  'project': 'BrainTumorProg',\n",
       "  'xsiType': 'xnat:mrSessionData',\n",
       "  'xnat:imagescandata/id': '19446',\n",
       "  'URI': '/data/experiments/XNAT_E00004'},\n",
       " {'session_ID': 'XNAT_E00004',\n",
       "  'xnat:imagesessiondata/subject_id': 'XNAT_S00002',\n",
       "  'ID': 'XNAT_E00004',\n",
       "  'project': 'BrainTumorProg',\n",
       "  'xsiType': 'xnat:mrSessionData',\n",
       "  'xnat:imagescandata/id': '36449',\n",
       "  'URI': '/data/experiments/XNAT_E00004'},\n",
       " {'session_ID': 'XNAT_E00004',\n",
       "  'xnat:imagesessiondata/subject_id': 'XNAT_S00002',\n",
       "  'ID': 'XNAT_E00004',\n",
       "  'project': 'BrainTumorProg',\n",
       "  'xsiType': 'xnat:mrSessionData',\n",
       "  'xnat:imagescandata/id': '36450',\n",
       "  'URI': '/data/experiments/XNAT_E00004'},\n",
       " {'session_ID': 'XNAT_E00004',\n",
       "  'xnat:imagesessiondata/subject_id': 'XNAT_S00002',\n",
       "  'ID': 'XNAT_E00004',\n",
       "  'project': 'BrainTumorProg',\n",
       "  'xsiType': 'xnat:mrSessionData',\n",
       "  'xnat:imagescandata/id': '36454',\n",
       "  'URI': '/data/experiments/XNAT_E00004'},\n",
       " {'session_ID': 'XNAT_E00004',\n",
       "  'xnat:imagesessiondata/subject_id': 'XNAT_S00002',\n",
       "  'ID': 'XNAT_E00004',\n",
       "  'project': 'BrainTumorProg',\n",
       "  'xsiType': 'xnat:mrSessionData',\n",
       "  'xnat:imagescandata/id': '36455',\n",
       "  'URI': '/data/experiments/XNAT_E00004'},\n",
       " {'session_ID': 'XNAT_E00004',\n",
       "  'xnat:imagesessiondata/subject_id': 'XNAT_S00002',\n",
       "  'ID': 'XNAT_E00004',\n",
       "  'project': 'BrainTumorProg',\n",
       "  'xsiType': 'xnat:mrSessionData',\n",
       "  'xnat:imagescandata/id': '36456',\n",
       "  'URI': '/data/experiments/XNAT_E00004'},\n",
       " {'session_ID': 'XNAT_E00004',\n",
       "  'xnat:imagesessiondata/subject_id': 'XNAT_S00002',\n",
       "  'ID': 'XNAT_E00004',\n",
       "  'project': 'BrainTumorProg',\n",
       "  'xsiType': 'xnat:mrSessionData',\n",
       "  'xnat:imagescandata/id': '37921',\n",
       "  'URI': '/data/experiments/XNAT_E00004'},\n",
       " {'session_ID': 'XNAT_E00004',\n",
       "  'xnat:imagesessiondata/subject_id': 'XNAT_S00002',\n",
       "  'ID': 'XNAT_E00004',\n",
       "  'project': 'BrainTumorProg',\n",
       "  'xsiType': 'xnat:mrSessionData',\n",
       "  'xnat:imagescandata/id': '5394',\n",
       "  'URI': '/data/experiments/XNAT_E00004'}]"
      ]
     },
     "execution_count": 115,
     "metadata": {},
     "output_type": "execute_result"
    }
   ],
   "source": [
    "interface.array.scans(experiment_id=experimentId).data"
   ]
  },
  {
   "cell_type": "code",
   "execution_count": 116,
   "metadata": {},
   "outputs": [
    {
     "data": {
      "text/plain": [
       "{'session_ID': 'XNAT_E00004',\n",
       " 'xnat:imagesessiondata/subject_id': 'XNAT_S00002',\n",
       " 'ID': 'XNAT_E00004',\n",
       " 'project': 'BrainTumorProg',\n",
       " 'xsiType': 'xnat:mrSessionData',\n",
       " 'xnat:imagescandata/id': '11',\n",
       " 'URI': '/data/experiments/XNAT_E00004'}"
      ]
     },
     "execution_count": 116,
     "metadata": {},
     "output_type": "execute_result"
    }
   ],
   "source": [
    "interface.array.scans(experiment_id=experimentId).data[0]"
   ]
  },
  {
   "cell_type": "code",
   "execution_count": 119,
   "metadata": {},
   "outputs": [
    {
     "data": {
      "text/plain": [
       "<Collection Object> 2253486489224"
      ]
     },
     "execution_count": 119,
     "metadata": {},
     "output_type": "execute_result"
    }
   ],
   "source": [
    "interface.select.experiment(experimentId).scans()"
   ]
  },
  {
   "cell_type": "code",
   "execution_count": 120,
   "metadata": {},
   "outputs": [
    {
     "data": {
      "text/plain": [
       "['11',\n",
       " '19446',\n",
       " '36449',\n",
       " '37921',\n",
       " '36456',\n",
       " '36450',\n",
       " '36454',\n",
       " '5394',\n",
       " '14409',\n",
       " '36455']"
      ]
     },
     "execution_count": 120,
     "metadata": {},
     "output_type": "execute_result"
    }
   ],
   "source": [
    "interface.select.experiment(experimentId).scans().get()"
   ]
  },
  {
   "cell_type": "code",
   "execution_count": null,
   "metadata": {},
   "outputs": [],
   "source": [
    "scans = interface.array.scans(experiment_id=experimentId).data\n",
    "\n",
    "#for scan in scans:\n",
    "    "
   ]
  },
  {
   "cell_type": "code",
   "execution_count": 125,
   "metadata": {},
   "outputs": [
    {
     "data": {
      "text/plain": [
       "[]"
      ]
     },
     "execution_count": 125,
     "metadata": {},
     "output_type": "execute_result"
    }
   ],
   "source": [
    "interface.select.project(projectLabel).subject(subjectLabel).resources().get()"
   ]
  },
  {
   "cell_type": "code",
   "execution_count": 131,
   "metadata": {},
   "outputs": [
    {
     "data": {
      "text/plain": [
       "['RoiCollection_hmLLIVL_3CIMUS3xut4']"
      ]
     },
     "execution_count": 131,
     "metadata": {},
     "output_type": "execute_result"
    }
   ],
   "source": [
    "# Get ROI from accessors:\n",
    "interface.select.project(projectLabel).subject(subjectLabel).experiment(experimentId).assessors().get()"
   ]
  },
  {
   "cell_type": "code",
   "execution_count": 133,
   "metadata": {},
   "outputs": [
    {
     "data": {
      "text/plain": [
       "<Collection Object> 2253485306632"
      ]
     },
     "execution_count": 133,
     "metadata": {},
     "output_type": "execute_result"
    }
   ],
   "source": [
    "interface.select.project(projectLabel).subject(subjectLabel).experiment(experimentId).assessors().resources().files()"
   ]
  },
  {
   "cell_type": "code",
   "execution_count": 134,
   "metadata": {},
   "outputs": [
    {
     "data": {
      "text/plain": [
       "['AIM_20200123_145716.xml', 'AIM_20200123_145716.dcm']"
      ]
     },
     "execution_count": 134,
     "metadata": {},
     "output_type": "execute_result"
    }
   ],
   "source": [
    "interface.select.project(projectLabel).subject(subjectLabel).experiment(experimentId).assessors().resources().files().get()"
   ]
  },
  {
   "cell_type": "code",
   "execution_count": 135,
   "metadata": {},
   "outputs": [
    {
     "data": {
      "text/plain": [
       "<File Object> AIM_20200123_145716.dcm"
      ]
     },
     "execution_count": 135,
     "metadata": {},
     "output_type": "execute_result"
    }
   ],
   "source": [
    "interface.select.project(projectLabel).subject(subjectLabel).experiment(experimentId).assessors().resources().files()[1]"
   ]
  },
  {
   "cell_type": "code",
   "execution_count": 144,
   "metadata": {},
   "outputs": [
    {
     "data": {
      "text/plain": [
       "'C:\\\\Users\\\\ctorti\\\\Downloads\\\\AIM_20200123_145716.dcm'"
      ]
     },
     "execution_count": 144,
     "metadata": {},
     "output_type": "execute_result"
    }
   ],
   "source": [
    "# Download dcm file to (default) Downloads folder\n",
    "interface.select.project(projectLabel).subject(subjectLabel).experiment(experimentId).assessors().resources().files()[1].get()"
   ]
  },
  {
   "cell_type": "code",
   "execution_count": 149,
   "metadata": {},
   "outputs": [],
   "source": [
    "# Download dcm file to (default) Downloads folder\n",
    "ROIfpath = interface.select.project(projectLabel).subject(subjectLabel).experiment(experimentId).assessors().resources().files()[1].get()"
   ]
  },
  {
   "cell_type": "code",
   "execution_count": 148,
   "metadata": {},
   "outputs": [
    {
     "data": {
      "text/plain": [
       "'C:\\\\Users\\\\ctorti\\\\Downloads\\\\AIM_20200123_145716.dcm'"
      ]
     },
     "execution_count": 148,
     "metadata": {},
     "output_type": "execute_result"
    }
   ],
   "source": [
    "ROIfpath"
   ]
  },
  {
   "cell_type": "code",
   "execution_count": 156,
   "metadata": {},
   "outputs": [
    {
     "name": "stdout",
     "output_type": "stream",
     "text": [
      "(0008, 0016) SOP Class UID                       UI: RT Structure Set Storage\n",
      "(0008, 0018) SOP Instance UID                    UI: 1.2.826.0.1.534147.578.4208788039.20200231457312\n",
      "(0008, 0020) Study Date                          DA: '19960813'\n",
      "(0008, 0030) Study Time                          TM: '162908'\n",
      "(0008, 0050) Accession Number                    SH: ''\n",
      "(0008, 0060) Modality                            CS: 'RTSTRUCT'\n",
      "(0008, 0070) Manufacturer                        LO: 'GE MEDICAL SYSTEMS'\n",
      "(0008, 0090) Referring Physician's Name          PN: ''\n",
      "(0008, 1070) Operators' Name                     PN: ''\n",
      "(0008, 1090) Manufacturer's Model Name           LO: 'Optima MR450w'\n",
      "(0010, 0010) Patient's Name                      PN: 'PGM-002'\n",
      "(0010, 0020) Patient ID                          LO: 'PGM-002_MR_1'\n",
      "(0010, 0030) Patient's Birth Date                DA: '00021130'\n",
      "(0010, 0040) Patient's Sex                       CS: 'M'\n",
      "(0018, 1020) Software Version(s)                 LO: ['25', 'LX', 'MR Software release:DV25.0_R01_1451.a']\n",
      "(0020, 000d) Study Instance UID                  UI: 1.3.6.1.4.1.14519.5.2.1.4429.7055.331058148523327901159449546313\n",
      "(0020, 000e) Series Instance UID                 UI: 1.2.826.0.1.534147.578.4208788039.202002314573120.1\n",
      "(0020, 0010) Study ID                            SH: ''\n",
      "(0020, 0011) Series Number                       IS: ''\n",
      "(0020, 0052) Frame of Reference UID              UI: 1.3.6.1.4.1.14519.5.2.1.4429.7055.250487807866145927413117906224\n",
      "(0020, 1040) Position Reference Indicator        LO: ''\n",
      "(3006, 0002) Structure Set Label                 SH: 'PGM-002_MR_1_Tumor'\n",
      "(3006, 0008) Structure Set Date                  DA: '20200123'\n",
      "(3006, 0009) Structure Set Time                  TM: '145731'\n",
      "(3006, 0010)  Referenced Frame of Reference Sequence   1 item(s) ---- \n",
      "   (0020, 0052) Frame of Reference UID              UI: 1.3.6.1.4.1.14519.5.2.1.4429.7055.250487807866145927413117906224\n",
      "   (3006, 0012)  RT Referenced Study Sequence   1 item(s) ---- \n",
      "      (0008, 1150) Referenced SOP Class UID            UI: Detached Study Management SOP Class\n",
      "      (0008, 1155) Referenced SOP Instance UID         UI: 1.3.6.1.4.1.14519.5.2.1.4429.7055.331058148523327901159449546313\n",
      "      (3006, 0014)  RT Referenced Series Sequence   1 item(s) ---- \n",
      "         (0020, 000e) Series Instance UID                 UI: 1.3.6.1.4.1.14519.5.2.1.4429.7055.318140066822631026134411973420\n",
      "         (3006, 0016)  Contour Image Sequence   9 item(s) ---- \n",
      "            (0008, 1150) Referenced SOP Class UID            UI: MR Image Storage\n",
      "            (0008, 1155) Referenced SOP Instance UID         UI: 1.3.6.1.4.1.14519.5.2.1.4429.7055.320280293613596547840725755465\n",
      "            (0008, 1160) Referenced Frame Number             IS: \"1\"\n",
      "            ---------\n",
      "            (0008, 1150) Referenced SOP Class UID            UI: MR Image Storage\n",
      "            (0008, 1155) Referenced SOP Instance UID         UI: 1.3.6.1.4.1.14519.5.2.1.4429.7055.677643793103545804182040061154\n",
      "            (0008, 1160) Referenced Frame Number             IS: \"1\"\n",
      "            ---------\n",
      "            (0008, 1150) Referenced SOP Class UID            UI: MR Image Storage\n",
      "            (0008, 1155) Referenced SOP Instance UID         UI: 1.3.6.1.4.1.14519.5.2.1.4429.7055.149742284257271356119234155647\n",
      "            (0008, 1160) Referenced Frame Number             IS: \"1\"\n",
      "            ---------\n",
      "            (0008, 1150) Referenced SOP Class UID            UI: MR Image Storage\n",
      "            (0008, 1155) Referenced SOP Instance UID         UI: 1.3.6.1.4.1.14519.5.2.1.4429.7055.207269894846632100106605315699\n",
      "            (0008, 1160) Referenced Frame Number             IS: \"1\"\n",
      "            ---------\n",
      "            (0008, 1150) Referenced SOP Class UID            UI: MR Image Storage\n",
      "            (0008, 1155) Referenced SOP Instance UID         UI: 1.3.6.1.4.1.14519.5.2.1.4429.7055.337321577215686178552541657021\n",
      "            (0008, 1160) Referenced Frame Number             IS: \"1\"\n",
      "            ---------\n",
      "            (0008, 1150) Referenced SOP Class UID            UI: MR Image Storage\n",
      "            (0008, 1155) Referenced SOP Instance UID         UI: 1.3.6.1.4.1.14519.5.2.1.4429.7055.121761661581454976960293845378\n",
      "            (0008, 1160) Referenced Frame Number             IS: \"1\"\n",
      "            ---------\n",
      "            (0008, 1150) Referenced SOP Class UID            UI: MR Image Storage\n",
      "            (0008, 1155) Referenced SOP Instance UID         UI: 1.3.6.1.4.1.14519.5.2.1.4429.7055.176309996049760286843247671656\n",
      "            (0008, 1160) Referenced Frame Number             IS: \"1\"\n",
      "            ---------\n",
      "            (0008, 1150) Referenced SOP Class UID            UI: MR Image Storage\n",
      "            (0008, 1155) Referenced SOP Instance UID         UI: 1.3.6.1.4.1.14519.5.2.1.4429.7055.213859255991588180723164022910\n",
      "            (0008, 1160) Referenced Frame Number             IS: \"1\"\n",
      "            ---------\n",
      "            (0008, 1150) Referenced SOP Class UID            UI: MR Image Storage\n",
      "            (0008, 1155) Referenced SOP Instance UID         UI: 1.3.6.1.4.1.14519.5.2.1.4429.7055.150121483703605657658660963398\n",
      "            (0008, 1160) Referenced Frame Number             IS: \"1\"\n",
      "            ---------\n",
      "         ---------\n",
      "      ---------\n",
      "   ---------\n",
      "(3006, 0020)  Structure Set ROI Sequence   1 item(s) ---- \n",
      "   (3006, 0022) ROI Number                          IS: \"1\"\n",
      "   (3006, 0024) Referenced Frame of Reference UID   UI: 1.3.6.1.4.1.14519.5.2.1.4429.7055.250487807866145927413117906224\n",
      "   (3006, 0026) ROI Name                            LO: 'PGM-002_MR_1_Tumor'\n",
      "   (3006, 0036) ROI Generation Algorithm            CS: ''\n",
      "   ---------\n",
      "(3006, 0039)  ROI Contour Sequence   1 item(s) ---- \n",
      "   (3006, 0040)  Contour Sequence   16 item(s) ---- \n",
      "      (3006, 0016)  Contour Image Sequence   1 item(s) ---- \n",
      "         (0008, 1150) Referenced SOP Class UID            UI: MR Image Storage\n",
      "         (0008, 1155) Referenced SOP Instance UID         UI: 1.3.6.1.4.1.14519.5.2.1.4429.7055.320280293613596547840725755465\n",
      "         (0008, 1160) Referenced Frame Number             IS: \"1\"\n",
      "         ---------\n",
      "      (3006, 0042) Contour Geometric Type              CS: 'CLOSED_PLANAR'\n",
      "      (3006, 0046) Number of Contour Points            IS: \"213\"\n",
      "      (3006, 0048) Contour Number                      IS: \"1\"\n",
      "      (3006, 0050) Contour Data                        DS: Array of 639 elements\n",
      "      ---------\n",
      "      (3006, 0016)  Contour Image Sequence   1 item(s) ---- \n",
      "         (0008, 1150) Referenced SOP Class UID            UI: MR Image Storage\n",
      "         (0008, 1155) Referenced SOP Instance UID         UI: 1.3.6.1.4.1.14519.5.2.1.4429.7055.677643793103545804182040061154\n",
      "         (0008, 1160) Referenced Frame Number             IS: \"1\"\n",
      "         ---------\n",
      "      (3006, 0042) Contour Geometric Type              CS: 'CLOSED_PLANAR'\n",
      "      (3006, 0046) Number of Contour Points            IS: \"229\"\n",
      "      (3006, 0048) Contour Number                      IS: \"2\"\n",
      "      (3006, 0050) Contour Data                        DS: Array of 687 elements\n",
      "      ---------\n",
      "      (3006, 0016)  Contour Image Sequence   1 item(s) ---- \n",
      "         (0008, 1150) Referenced SOP Class UID            UI: MR Image Storage\n",
      "         (0008, 1155) Referenced SOP Instance UID         UI: 1.3.6.1.4.1.14519.5.2.1.4429.7055.149742284257271356119234155647\n",
      "         (0008, 1160) Referenced Frame Number             IS: \"1\"\n",
      "         ---------\n",
      "      (3006, 0042) Contour Geometric Type              CS: 'CLOSED_PLANAR'\n",
      "      (3006, 0046) Number of Contour Points            IS: \"237\"\n",
      "      (3006, 0048) Contour Number                      IS: \"3\"\n",
      "      (3006, 0050) Contour Data                        DS: Array of 711 elements\n",
      "      ---------\n",
      "      (3006, 0016)  Contour Image Sequence   1 item(s) ---- \n",
      "         (0008, 1150) Referenced SOP Class UID            UI: MR Image Storage\n",
      "         (0008, 1155) Referenced SOP Instance UID         UI: 1.3.6.1.4.1.14519.5.2.1.4429.7055.207269894846632100106605315699\n",
      "         (0008, 1160) Referenced Frame Number             IS: \"1\"\n",
      "         ---------\n",
      "      (3006, 0042) Contour Geometric Type              CS: 'CLOSED_PLANAR'\n",
      "      (3006, 0046) Number of Contour Points            IS: \"350\"\n",
      "      (3006, 0048) Contour Number                      IS: \"4\"\n",
      "      (3006, 0050) Contour Data                        DS: Array of 1050 elements\n",
      "      ---------\n",
      "      (3006, 0016)  Contour Image Sequence   1 item(s) ---- \n",
      "         (0008, 1150) Referenced SOP Class UID            UI: MR Image Storage\n",
      "         (0008, 1155) Referenced SOP Instance UID         UI: 1.3.6.1.4.1.14519.5.2.1.4429.7055.207269894846632100106605315699\n",
      "         (0008, 1160) Referenced Frame Number             IS: \"1\"\n",
      "         ---------\n",
      "      (3006, 0042) Contour Geometric Type              CS: 'CLOSED_PLANAR'\n",
      "      (3006, 0046) Number of Contour Points            IS: \"1\"\n",
      "      (3006, 0048) Contour Number                      IS: \"5\"\n",
      "      (3006, 0050) Contour Data                        DS: ['53.2030913207557', '-59.130039390132', '33.0974814662254']\n",
      "      ---------\n",
      "      (3006, 0016)  Contour Image Sequence   1 item(s) ---- \n",
      "         (0008, 1150) Referenced SOP Class UID            UI: MR Image Storage\n",
      "         (0008, 1155) Referenced SOP Instance UID         UI: 1.3.6.1.4.1.14519.5.2.1.4429.7055.337321577215686178552541657021\n",
      "         (0008, 1160) Referenced Frame Number             IS: \"1\"\n",
      "         ---------\n",
      "      (3006, 0042) Contour Geometric Type              CS: 'CLOSED_PLANAR'\n",
      "      (3006, 0046) Number of Contour Points            IS: \"436\"\n",
      "      (3006, 0048) Contour Number                      IS: \"6\"\n",
      "      (3006, 0050) Contour Data                        DS: Array of 1308 elements\n",
      "      ---------\n",
      "      (3006, 0016)  Contour Image Sequence   1 item(s) ---- \n",
      "         (0008, 1150) Referenced SOP Class UID            UI: MR Image Storage\n",
      "         (0008, 1155) Referenced SOP Instance UID         UI: 1.3.6.1.4.1.14519.5.2.1.4429.7055.337321577215686178552541657021\n",
      "         (0008, 1160) Referenced Frame Number             IS: \"1\"\n",
      "         ---------\n",
      "      (3006, 0042) Contour Geometric Type              CS: 'CLOSED_PLANAR'\n",
      "      (3006, 0046) Number of Contour Points            IS: \"1\"\n",
      "      (3006, 0048) Contour Number                      IS: \"7\"\n",
      "      (3006, 0050) Contour Data                        DS: ['37.8010271446342', '-110.94783419155', '48.1332796091722']\n",
      "      ---------\n",
      "      (3006, 0016)  Contour Image Sequence   1 item(s) ---- \n",
      "         (0008, 1150) Referenced SOP Class UID            UI: MR Image Storage\n",
      "         (0008, 1155) Referenced SOP Instance UID         UI: 1.3.6.1.4.1.14519.5.2.1.4429.7055.121761661581454976960293845378\n",
      "         (0008, 1160) Referenced Frame Number             IS: \"1\"\n",
      "         ---------\n",
      "      (3006, 0042) Contour Geometric Type              CS: 'CLOSED_PLANAR'\n",
      "      (3006, 0046) Number of Contour Points            IS: \"390\"\n",
      "      (3006, 0048) Contour Number                      IS: \"8\"\n",
      "      (3006, 0050) Contour Data                        DS: Array of 1170 elements\n",
      "      ---------\n",
      "      (3006, 0016)  Contour Image Sequence   1 item(s) ---- \n",
      "         (0008, 1150) Referenced SOP Class UID            UI: MR Image Storage\n",
      "         (0008, 1155) Referenced SOP Instance UID         UI: 1.3.6.1.4.1.14519.5.2.1.4429.7055.121761661581454976960293845378\n",
      "         (0008, 1160) Referenced Frame Number             IS: \"1\"\n",
      "         ---------\n",
      "      (3006, 0042) Contour Geometric Type              CS: 'CLOSED_PLANAR'\n",
      "      (3006, 0046) Number of Contour Points            IS: \"136\"\n",
      "      (3006, 0048) Contour Number                      IS: \"9\"\n",
      "      (3006, 0050) Contour Data                        DS: Array of 408 elements\n",
      "      ---------\n",
      "      (3006, 0016)  Contour Image Sequence   1 item(s) ---- \n",
      "         (0008, 1150) Referenced SOP Class UID            UI: MR Image Storage\n",
      "         (0008, 1155) Referenced SOP Instance UID         UI: 1.3.6.1.4.1.14519.5.2.1.4429.7055.121761661581454976960293845378\n",
      "         (0008, 1160) Referenced Frame Number             IS: \"1\"\n",
      "         ---------\n",
      "      (3006, 0042) Contour Geometric Type              CS: 'CLOSED_PLANAR'\n",
      "      (3006, 0046) Number of Contour Points            IS: \"1\"\n",
      "      (3006, 0048) Contour Number                      IS: \"10\"\n",
      "      (3006, 0050) Contour Data                        DS: ['40.3287589107183', '-102.78561834790', '53.4203443409758']\n",
      "      ---------\n",
      "      (3006, 0016)  Contour Image Sequence   1 item(s) ---- \n",
      "         (0008, 1150) Referenced SOP Class UID            UI: MR Image Storage\n",
      "         (0008, 1155) Referenced SOP Instance UID         UI: 1.3.6.1.4.1.14519.5.2.1.4429.7055.176309996049760286843247671656\n",
      "         (0008, 1160) Referenced Frame Number             IS: \"1\"\n",
      "         ---------\n",
      "      (3006, 0042) Contour Geometric Type              CS: 'CLOSED_PLANAR'\n",
      "      (3006, 0046) Number of Contour Points            IS: \"294\"\n",
      "      (3006, 0048) Contour Number                      IS: \"11\"\n",
      "      (3006, 0050) Contour Data                        DS: Array of 882 elements\n",
      "      ---------\n",
      "      (3006, 0016)  Contour Image Sequence   1 item(s) ---- \n",
      "         (0008, 1150) Referenced SOP Class UID            UI: MR Image Storage\n",
      "         (0008, 1155) Referenced SOP Instance UID         UI: 1.3.6.1.4.1.14519.5.2.1.4429.7055.176309996049760286843247671656\n",
      "         (0008, 1160) Referenced Frame Number             IS: \"1\"\n",
      "         ---------\n",
      "      (3006, 0042) Contour Geometric Type              CS: 'CLOSED_PLANAR'\n",
      "      (3006, 0046) Number of Contour Points            IS: \"133\"\n",
      "      (3006, 0048) Contour Number                      IS: \"12\"\n",
      "      (3006, 0050) Contour Data                        DS: Array of 399 elements\n",
      "      ---------\n",
      "      (3006, 0016)  Contour Image Sequence   1 item(s) ---- \n",
      "         (0008, 1150) Referenced SOP Class UID            UI: MR Image Storage\n",
      "         (0008, 1155) Referenced SOP Instance UID         UI: 1.3.6.1.4.1.14519.5.2.1.4429.7055.176309996049760286843247671656\n",
      "         (0008, 1160) Referenced Frame Number             IS: \"1\"\n",
      "         ---------\n",
      "      (3006, 0042) Contour Geometric Type              CS: 'CLOSED_PLANAR'\n",
      "      (3006, 0046) Number of Contour Points            IS: \"1\"\n",
      "      (3006, 0048) Contour Number                      IS: \"13\"\n",
      "      (3006, 0050) Contour Data                        DS: ['55.0148568872003', '-73.403512304927', '55.5476746719854']\n",
      "      ---------\n",
      "      (3006, 0016)  Contour Image Sequence   1 item(s) ---- \n",
      "         (0008, 1150) Referenced SOP Class UID            UI: MR Image Storage\n",
      "         (0008, 1155) Referenced SOP Instance UID         UI: 1.3.6.1.4.1.14519.5.2.1.4429.7055.213859255991588180723164022910\n",
      "         (0008, 1160) Referenced Frame Number             IS: \"1\"\n",
      "         ---------\n",
      "      (3006, 0042) Contour Geometric Type              CS: 'CLOSED_PLANAR'\n",
      "      (3006, 0046) Number of Contour Points            IS: \"122\"\n",
      "      (3006, 0048) Contour Number                      IS: \"14\"\n",
      "      (3006, 0050) Contour Data                        DS: Array of 366 elements\n",
      "      ---------\n",
      "      (3006, 0016)  Contour Image Sequence   1 item(s) ---- \n",
      "         (0008, 1150) Referenced SOP Class UID            UI: MR Image Storage\n",
      "         (0008, 1155) Referenced SOP Instance UID         UI: 1.3.6.1.4.1.14519.5.2.1.4429.7055.213859255991588180723164022910\n",
      "         (0008, 1160) Referenced Frame Number             IS: \"1\"\n",
      "         ---------\n",
      "      (3006, 0042) Contour Geometric Type              CS: 'CLOSED_PLANAR'\n",
      "      (3006, 0046) Number of Contour Points            IS: \"302\"\n",
      "      (3006, 0048) Contour Number                      IS: \"15\"\n",
      "      (3006, 0050) Contour Data                        DS: Array of 906 elements\n",
      "      ---------\n",
      "      (3006, 0016)  Contour Image Sequence   1 item(s) ---- \n",
      "         (0008, 1150) Referenced SOP Class UID            UI: MR Image Storage\n",
      "         (0008, 1155) Referenced SOP Instance UID         UI: 1.3.6.1.4.1.14519.5.2.1.4429.7055.150121483703605657658660963398\n",
      "         (0008, 1160) Referenced Frame Number             IS: \"1\"\n",
      "         ---------\n",
      "      (3006, 0042) Contour Geometric Type              CS: 'CLOSED_PLANAR'\n",
      "      (3006, 0046) Number of Contour Points            IS: \"195\"\n",
      "      (3006, 0048) Contour Number                      IS: \"16\"\n",
      "      (3006, 0050) Contour Data                        DS: Array of 585 elements\n",
      "      ---------\n",
      "   (3006, 0084) Referenced ROI Number               IS: \"1\"\n",
      "   ---------\n",
      "(3006, 0080)  RT ROI Observations Sequence   1 item(s) ---- \n",
      "   (3006, 0082) Observation Number                  IS: \"1\"\n",
      "   (3006, 0084) Referenced ROI Number               IS: \"1\"\n",
      "   (3006, 00a4) RT ROI Interpreted Type             CS: ''\n",
      "   (3006, 00a6) ROI Interpreter                     PN: ''\n",
      "   ---------\n"
     ]
    }
   ],
   "source": [
    "# Read in the ROI dcm file:\n",
    "ROIdcm = pydicom.read_file(ROIfpath)\n",
    "\n",
    "print(ROIdcm)"
   ]
  },
  {
   "cell_type": "code",
   "execution_count": 163,
   "metadata": {},
   "outputs": [
    {
     "data": {
      "text/plain": [
       "<Sequence, length 1>"
      ]
     },
     "execution_count": 163,
     "metadata": {},
     "output_type": "execute_result"
    }
   ],
   "source": [
    "# Get the pixel array from the DICOM file:\n",
    "#ROIpa = ROIdcm.pixel_array # <-- no pixel data\n",
    "\n",
    "#ROIdcm.contour_data\n",
    "ROIdcm.ROIContourSequence"
   ]
  },
  {
   "cell_type": "code",
   "execution_count": 164,
   "metadata": {},
   "outputs": [
    {
     "data": {
      "text/plain": [
       "(3006, 0040)  Contour Sequence   16 item(s) ---- \n",
       "   (3006, 0016)  Contour Image Sequence   1 item(s) ---- \n",
       "      (0008, 1150) Referenced SOP Class UID            UI: MR Image Storage\n",
       "      (0008, 1155) Referenced SOP Instance UID         UI: 1.3.6.1.4.1.14519.5.2.1.4429.7055.320280293613596547840725755465\n",
       "      (0008, 1160) Referenced Frame Number             IS: \"1\"\n",
       "      ---------\n",
       "   (3006, 0042) Contour Geometric Type              CS: 'CLOSED_PLANAR'\n",
       "   (3006, 0046) Number of Contour Points            IS: \"213\"\n",
       "   (3006, 0048) Contour Number                      IS: \"1\"\n",
       "   (3006, 0050) Contour Data                        DS: Array of 639 elements\n",
       "   ---------\n",
       "   (3006, 0016)  Contour Image Sequence   1 item(s) ---- \n",
       "      (0008, 1150) Referenced SOP Class UID            UI: MR Image Storage\n",
       "      (0008, 1155) Referenced SOP Instance UID         UI: 1.3.6.1.4.1.14519.5.2.1.4429.7055.677643793103545804182040061154\n",
       "      (0008, 1160) Referenced Frame Number             IS: \"1\"\n",
       "      ---------\n",
       "   (3006, 0042) Contour Geometric Type              CS: 'CLOSED_PLANAR'\n",
       "   (3006, 0046) Number of Contour Points            IS: \"229\"\n",
       "   (3006, 0048) Contour Number                      IS: \"2\"\n",
       "   (3006, 0050) Contour Data                        DS: Array of 687 elements\n",
       "   ---------\n",
       "   (3006, 0016)  Contour Image Sequence   1 item(s) ---- \n",
       "      (0008, 1150) Referenced SOP Class UID            UI: MR Image Storage\n",
       "      (0008, 1155) Referenced SOP Instance UID         UI: 1.3.6.1.4.1.14519.5.2.1.4429.7055.149742284257271356119234155647\n",
       "      (0008, 1160) Referenced Frame Number             IS: \"1\"\n",
       "      ---------\n",
       "   (3006, 0042) Contour Geometric Type              CS: 'CLOSED_PLANAR'\n",
       "   (3006, 0046) Number of Contour Points            IS: \"237\"\n",
       "   (3006, 0048) Contour Number                      IS: \"3\"\n",
       "   (3006, 0050) Contour Data                        DS: Array of 711 elements\n",
       "   ---------\n",
       "   (3006, 0016)  Contour Image Sequence   1 item(s) ---- \n",
       "      (0008, 1150) Referenced SOP Class UID            UI: MR Image Storage\n",
       "      (0008, 1155) Referenced SOP Instance UID         UI: 1.3.6.1.4.1.14519.5.2.1.4429.7055.207269894846632100106605315699\n",
       "      (0008, 1160) Referenced Frame Number             IS: \"1\"\n",
       "      ---------\n",
       "   (3006, 0042) Contour Geometric Type              CS: 'CLOSED_PLANAR'\n",
       "   (3006, 0046) Number of Contour Points            IS: \"350\"\n",
       "   (3006, 0048) Contour Number                      IS: \"4\"\n",
       "   (3006, 0050) Contour Data                        DS: Array of 1050 elements\n",
       "   ---------\n",
       "   (3006, 0016)  Contour Image Sequence   1 item(s) ---- \n",
       "      (0008, 1150) Referenced SOP Class UID            UI: MR Image Storage\n",
       "      (0008, 1155) Referenced SOP Instance UID         UI: 1.3.6.1.4.1.14519.5.2.1.4429.7055.207269894846632100106605315699\n",
       "      (0008, 1160) Referenced Frame Number             IS: \"1\"\n",
       "      ---------\n",
       "   (3006, 0042) Contour Geometric Type              CS: 'CLOSED_PLANAR'\n",
       "   (3006, 0046) Number of Contour Points            IS: \"1\"\n",
       "   (3006, 0048) Contour Number                      IS: \"5\"\n",
       "   (3006, 0050) Contour Data                        DS: ['53.2030913207557', '-59.130039390132', '33.0974814662254']\n",
       "   ---------\n",
       "   (3006, 0016)  Contour Image Sequence   1 item(s) ---- \n",
       "      (0008, 1150) Referenced SOP Class UID            UI: MR Image Storage\n",
       "      (0008, 1155) Referenced SOP Instance UID         UI: 1.3.6.1.4.1.14519.5.2.1.4429.7055.337321577215686178552541657021\n",
       "      (0008, 1160) Referenced Frame Number             IS: \"1\"\n",
       "      ---------\n",
       "   (3006, 0042) Contour Geometric Type              CS: 'CLOSED_PLANAR'\n",
       "   (3006, 0046) Number of Contour Points            IS: \"436\"\n",
       "   (3006, 0048) Contour Number                      IS: \"6\"\n",
       "   (3006, 0050) Contour Data                        DS: Array of 1308 elements\n",
       "   ---------\n",
       "   (3006, 0016)  Contour Image Sequence   1 item(s) ---- \n",
       "      (0008, 1150) Referenced SOP Class UID            UI: MR Image Storage\n",
       "      (0008, 1155) Referenced SOP Instance UID         UI: 1.3.6.1.4.1.14519.5.2.1.4429.7055.337321577215686178552541657021\n",
       "      (0008, 1160) Referenced Frame Number             IS: \"1\"\n",
       "      ---------\n",
       "   (3006, 0042) Contour Geometric Type              CS: 'CLOSED_PLANAR'\n",
       "   (3006, 0046) Number of Contour Points            IS: \"1\"\n",
       "   (3006, 0048) Contour Number                      IS: \"7\"\n",
       "   (3006, 0050) Contour Data                        DS: ['37.8010271446342', '-110.94783419155', '48.1332796091722']\n",
       "   ---------\n",
       "   (3006, 0016)  Contour Image Sequence   1 item(s) ---- \n",
       "      (0008, 1150) Referenced SOP Class UID            UI: MR Image Storage\n",
       "      (0008, 1155) Referenced SOP Instance UID         UI: 1.3.6.1.4.1.14519.5.2.1.4429.7055.121761661581454976960293845378\n",
       "      (0008, 1160) Referenced Frame Number             IS: \"1\"\n",
       "      ---------\n",
       "   (3006, 0042) Contour Geometric Type              CS: 'CLOSED_PLANAR'\n",
       "   (3006, 0046) Number of Contour Points            IS: \"390\"\n",
       "   (3006, 0048) Contour Number                      IS: \"8\"\n",
       "   (3006, 0050) Contour Data                        DS: Array of 1170 elements\n",
       "   ---------\n",
       "   (3006, 0016)  Contour Image Sequence   1 item(s) ---- \n",
       "      (0008, 1150) Referenced SOP Class UID            UI: MR Image Storage\n",
       "      (0008, 1155) Referenced SOP Instance UID         UI: 1.3.6.1.4.1.14519.5.2.1.4429.7055.121761661581454976960293845378\n",
       "      (0008, 1160) Referenced Frame Number             IS: \"1\"\n",
       "      ---------\n",
       "   (3006, 0042) Contour Geometric Type              CS: 'CLOSED_PLANAR'\n",
       "   (3006, 0046) Number of Contour Points            IS: \"136\"\n",
       "   (3006, 0048) Contour Number                      IS: \"9\"\n",
       "   (3006, 0050) Contour Data                        DS: Array of 408 elements\n",
       "   ---------\n",
       "   (3006, 0016)  Contour Image Sequence   1 item(s) ---- \n",
       "      (0008, 1150) Referenced SOP Class UID            UI: MR Image Storage\n",
       "      (0008, 1155) Referenced SOP Instance UID         UI: 1.3.6.1.4.1.14519.5.2.1.4429.7055.121761661581454976960293845378\n",
       "      (0008, 1160) Referenced Frame Number             IS: \"1\"\n",
       "      ---------\n",
       "   (3006, 0042) Contour Geometric Type              CS: 'CLOSED_PLANAR'\n",
       "   (3006, 0046) Number of Contour Points            IS: \"1\"\n",
       "   (3006, 0048) Contour Number                      IS: \"10\"\n",
       "   (3006, 0050) Contour Data                        DS: ['40.3287589107183', '-102.78561834790', '53.4203443409758']\n",
       "   ---------\n",
       "   (3006, 0016)  Contour Image Sequence   1 item(s) ---- \n",
       "      (0008, 1150) Referenced SOP Class UID            UI: MR Image Storage\n",
       "      (0008, 1155) Referenced SOP Instance UID         UI: 1.3.6.1.4.1.14519.5.2.1.4429.7055.176309996049760286843247671656\n",
       "      (0008, 1160) Referenced Frame Number             IS: \"1\"\n",
       "      ---------\n",
       "   (3006, 0042) Contour Geometric Type              CS: 'CLOSED_PLANAR'\n",
       "   (3006, 0046) Number of Contour Points            IS: \"294\"\n",
       "   (3006, 0048) Contour Number                      IS: \"11\"\n",
       "   (3006, 0050) Contour Data                        DS: Array of 882 elements\n",
       "   ---------\n",
       "   (3006, 0016)  Contour Image Sequence   1 item(s) ---- \n",
       "      (0008, 1150) Referenced SOP Class UID            UI: MR Image Storage\n",
       "      (0008, 1155) Referenced SOP Instance UID         UI: 1.3.6.1.4.1.14519.5.2.1.4429.7055.176309996049760286843247671656\n",
       "      (0008, 1160) Referenced Frame Number             IS: \"1\"\n",
       "      ---------\n",
       "   (3006, 0042) Contour Geometric Type              CS: 'CLOSED_PLANAR'\n",
       "   (3006, 0046) Number of Contour Points            IS: \"133\"\n",
       "   (3006, 0048) Contour Number                      IS: \"12\"\n",
       "   (3006, 0050) Contour Data                        DS: Array of 399 elements\n",
       "   ---------\n",
       "   (3006, 0016)  Contour Image Sequence   1 item(s) ---- \n",
       "      (0008, 1150) Referenced SOP Class UID            UI: MR Image Storage\n",
       "      (0008, 1155) Referenced SOP Instance UID         UI: 1.3.6.1.4.1.14519.5.2.1.4429.7055.176309996049760286843247671656\n",
       "      (0008, 1160) Referenced Frame Number             IS: \"1\"\n",
       "      ---------\n",
       "   (3006, 0042) Contour Geometric Type              CS: 'CLOSED_PLANAR'\n",
       "   (3006, 0046) Number of Contour Points            IS: \"1\"\n",
       "   (3006, 0048) Contour Number                      IS: \"13\"\n",
       "   (3006, 0050) Contour Data                        DS: ['55.0148568872003', '-73.403512304927', '55.5476746719854']\n",
       "   ---------\n",
       "   (3006, 0016)  Contour Image Sequence   1 item(s) ---- \n",
       "      (0008, 1150) Referenced SOP Class UID            UI: MR Image Storage\n",
       "      (0008, 1155) Referenced SOP Instance UID         UI: 1.3.6.1.4.1.14519.5.2.1.4429.7055.213859255991588180723164022910\n",
       "      (0008, 1160) Referenced Frame Number             IS: \"1\"\n",
       "      ---------\n",
       "   (3006, 0042) Contour Geometric Type              CS: 'CLOSED_PLANAR'\n",
       "   (3006, 0046) Number of Contour Points            IS: \"122\"\n",
       "   (3006, 0048) Contour Number                      IS: \"14\"\n",
       "   (3006, 0050) Contour Data                        DS: Array of 366 elements\n",
       "   ---------\n",
       "   (3006, 0016)  Contour Image Sequence   1 item(s) ---- \n",
       "      (0008, 1150) Referenced SOP Class UID            UI: MR Image Storage\n",
       "      (0008, 1155) Referenced SOP Instance UID         UI: 1.3.6.1.4.1.14519.5.2.1.4429.7055.213859255991588180723164022910\n",
       "      (0008, 1160) Referenced Frame Number             IS: \"1\"\n",
       "      ---------\n",
       "   (3006, 0042) Contour Geometric Type              CS: 'CLOSED_PLANAR'\n",
       "   (3006, 0046) Number of Contour Points            IS: \"302\"\n",
       "   (3006, 0048) Contour Number                      IS: \"15\"\n",
       "   (3006, 0050) Contour Data                        DS: Array of 906 elements\n",
       "   ---------\n",
       "   (3006, 0016)  Contour Image Sequence   1 item(s) ---- \n",
       "      (0008, 1150) Referenced SOP Class UID            UI: MR Image Storage\n",
       "      (0008, 1155) Referenced SOP Instance UID         UI: 1.3.6.1.4.1.14519.5.2.1.4429.7055.150121483703605657658660963398\n",
       "      (0008, 1160) Referenced Frame Number             IS: \"1\"\n",
       "      ---------\n",
       "   (3006, 0042) Contour Geometric Type              CS: 'CLOSED_PLANAR'\n",
       "   (3006, 0046) Number of Contour Points            IS: \"195\"\n",
       "   (3006, 0048) Contour Number                      IS: \"16\"\n",
       "   (3006, 0050) Contour Data                        DS: Array of 585 elements\n",
       "   ---------\n",
       "(3006, 0084) Referenced ROI Number               IS: \"1\""
      ]
     },
     "execution_count": 164,
     "metadata": {},
     "output_type": "execute_result"
    }
   ],
   "source": [
    "ROIdcm.ROIContourSequence[0]"
   ]
  },
  {
   "cell_type": "code",
   "execution_count": 162,
   "metadata": {},
   "outputs": [
    {
     "data": {
      "text/plain": [
       "<Sequence, length 16>"
      ]
     },
     "execution_count": 162,
     "metadata": {},
     "output_type": "execute_result"
    }
   ],
   "source": [
    "ROIdcm.ROIContourSequence[0].ContourSequence"
   ]
  },
  {
   "cell_type": "code",
   "execution_count": 165,
   "metadata": {},
   "outputs": [
    {
     "data": {
      "text/plain": [
       "(3006, 0016)  Contour Image Sequence   1 item(s) ---- \n",
       "   (0008, 1150) Referenced SOP Class UID            UI: MR Image Storage\n",
       "   (0008, 1155) Referenced SOP Instance UID         UI: 1.3.6.1.4.1.14519.5.2.1.4429.7055.320280293613596547840725755465\n",
       "   (0008, 1160) Referenced Frame Number             IS: \"1\"\n",
       "   ---------\n",
       "(3006, 0042) Contour Geometric Type              CS: 'CLOSED_PLANAR'\n",
       "(3006, 0046) Number of Contour Points            IS: \"213\"\n",
       "(3006, 0048) Contour Number                      IS: \"1\"\n",
       "(3006, 0050) Contour Data                        DS: Array of 639 elements"
      ]
     },
     "execution_count": 165,
     "metadata": {},
     "output_type": "execute_result"
    }
   ],
   "source": [
    "ROIdcm.ROIContourSequence[0].ContourSequence[0]"
   ]
  },
  {
   "cell_type": "code",
   "execution_count": 172,
   "metadata": {},
   "outputs": [
    {
     "data": {
      "text/plain": [
       "[\"14.0671471181917\",\n",
       " \"-79.933696238335\",\n",
       " \"15.0146846218467\",\n",
       " \"13.4982279733613\",\n",
       " \"-80.186358271834\",\n",
       " \"15.0312296601049\",\n",
       " \"13.1939128929684\",\n",
       " \"-80.723705802041\",\n",
       " \"15.1114242208178\",\n",
       " \"12.8763608072570\",\n",
       " \"-81.535064341221\"]"
      ]
     },
     "execution_count": 172,
     "metadata": {},
     "output_type": "execute_result"
    }
   ],
   "source": [
    "ROIdcm.ROIContourSequence[0].ContourSequence[0].ContourData[0:11]"
   ]
  },
  {
   "cell_type": "code",
   "execution_count": 177,
   "metadata": {},
   "outputs": [
    {
     "data": {
      "text/plain": [
       "(639,)"
      ]
     },
     "execution_count": 177,
     "metadata": {},
     "output_type": "execute_result"
    }
   ],
   "source": [
    "ROIarray = ROIdcm.ROIContourSequence[0].ContourSequence[0].ContourData\n",
    "#ROIarray\n",
    "\n",
    "#ROIarray.shape\n",
    "np.shape(ROIarray)"
   ]
  },
  {
   "cell_type": "code",
   "execution_count": 155,
   "metadata": {},
   "outputs": [],
   "source": [
    "#import pylab\n",
    "#pylab.imshow(ROIdcm.pixel_array)"
   ]
  },
  {
   "cell_type": "code",
   "execution_count": 152,
   "metadata": {},
   "outputs": [
    {
     "ename": "TypeError",
     "evalue": "Image data of dtype object cannot be converted to float",
     "output_type": "error",
     "traceback": [
      "\u001b[1;31m---------------------------------------------------------------------------\u001b[0m",
      "\u001b[1;31mTypeError\u001b[0m                                 Traceback (most recent call last)",
      "\u001b[1;32m<ipython-input-152-78a5d96c4940>\u001b[0m in \u001b[0;36m<module>\u001b[1;34m\u001b[0m\n\u001b[0;32m      7\u001b[0m \u001b[0mi\u001b[0m \u001b[1;33m+=\u001b[0m \u001b[1;36m1\u001b[0m\u001b[1;33m\u001b[0m\u001b[1;33m\u001b[0m\u001b[0m\n\u001b[0;32m      8\u001b[0m \u001b[0max\u001b[0m \u001b[1;33m=\u001b[0m \u001b[0mplt\u001b[0m\u001b[1;33m.\u001b[0m\u001b[0msubplot\u001b[0m\u001b[1;33m(\u001b[0m\u001b[1;36m1\u001b[0m\u001b[1;33m,\u001b[0m\u001b[0mcols\u001b[0m\u001b[1;33m,\u001b[0m\u001b[0mi\u001b[0m\u001b[1;33m,\u001b[0m \u001b[0maspect\u001b[0m\u001b[1;33m=\u001b[0m\u001b[1;34m'equal'\u001b[0m\u001b[1;33m)\u001b[0m\u001b[1;33m;\u001b[0m\u001b[1;33m\u001b[0m\u001b[1;33m\u001b[0m\u001b[0m\n\u001b[1;32m----> 9\u001b[1;33m \u001b[0mplt\u001b[0m\u001b[1;33m.\u001b[0m\u001b[0mimshow\u001b[0m\u001b[1;33m(\u001b[0m\u001b[0mROIdcm\u001b[0m\u001b[1;33m)\u001b[0m\u001b[1;33m;\u001b[0m\u001b[1;33m\u001b[0m\u001b[1;33m\u001b[0m\u001b[0m\n\u001b[0m\u001b[0;32m     10\u001b[0m \u001b[1;31m#plt.title(image1.GetMetaData('0008|0060'), **title_font);\u001b[0m\u001b[1;33m\u001b[0m\u001b[1;33m\u001b[0m\u001b[1;33m\u001b[0m\u001b[0m\n\u001b[0;32m     11\u001b[0m \u001b[0mplt\u001b[0m\u001b[1;33m.\u001b[0m\u001b[0maxis\u001b[0m\u001b[1;33m(\u001b[0m\u001b[1;34m'off'\u001b[0m\u001b[1;33m)\u001b[0m\u001b[1;33m;\u001b[0m\u001b[1;33m\u001b[0m\u001b[1;33m\u001b[0m\u001b[0m\n",
      "\u001b[1;32m~\\Anaconda37\\lib\\site-packages\\matplotlib\\pyplot.py\u001b[0m in \u001b[0;36mimshow\u001b[1;34m(X, cmap, norm, aspect, interpolation, alpha, vmin, vmax, origin, extent, shape, filternorm, filterrad, imlim, resample, url, data, **kwargs)\u001b[0m\n\u001b[0;32m   2681\u001b[0m         \u001b[0mfilternorm\u001b[0m\u001b[1;33m=\u001b[0m\u001b[0mfilternorm\u001b[0m\u001b[1;33m,\u001b[0m \u001b[0mfilterrad\u001b[0m\u001b[1;33m=\u001b[0m\u001b[0mfilterrad\u001b[0m\u001b[1;33m,\u001b[0m \u001b[0mimlim\u001b[0m\u001b[1;33m=\u001b[0m\u001b[0mimlim\u001b[0m\u001b[1;33m,\u001b[0m\u001b[1;33m\u001b[0m\u001b[1;33m\u001b[0m\u001b[0m\n\u001b[0;32m   2682\u001b[0m         resample=resample, url=url, **({\"data\": data} if data is not\n\u001b[1;32m-> 2683\u001b[1;33m         None else {}), **kwargs)\n\u001b[0m\u001b[0;32m   2684\u001b[0m     \u001b[0msci\u001b[0m\u001b[1;33m(\u001b[0m\u001b[0m__ret\u001b[0m\u001b[1;33m)\u001b[0m\u001b[1;33m\u001b[0m\u001b[1;33m\u001b[0m\u001b[0m\n\u001b[0;32m   2685\u001b[0m     \u001b[1;32mreturn\u001b[0m \u001b[0m__ret\u001b[0m\u001b[1;33m\u001b[0m\u001b[1;33m\u001b[0m\u001b[0m\n",
      "\u001b[1;32m~\\Anaconda37\\lib\\site-packages\\matplotlib\\__init__.py\u001b[0m in \u001b[0;36minner\u001b[1;34m(ax, data, *args, **kwargs)\u001b[0m\n\u001b[0;32m   1599\u001b[0m     \u001b[1;32mdef\u001b[0m \u001b[0minner\u001b[0m\u001b[1;33m(\u001b[0m\u001b[0max\u001b[0m\u001b[1;33m,\u001b[0m \u001b[1;33m*\u001b[0m\u001b[0margs\u001b[0m\u001b[1;33m,\u001b[0m \u001b[0mdata\u001b[0m\u001b[1;33m=\u001b[0m\u001b[1;32mNone\u001b[0m\u001b[1;33m,\u001b[0m \u001b[1;33m**\u001b[0m\u001b[0mkwargs\u001b[0m\u001b[1;33m)\u001b[0m\u001b[1;33m:\u001b[0m\u001b[1;33m\u001b[0m\u001b[1;33m\u001b[0m\u001b[0m\n\u001b[0;32m   1600\u001b[0m         \u001b[1;32mif\u001b[0m \u001b[0mdata\u001b[0m \u001b[1;32mis\u001b[0m \u001b[1;32mNone\u001b[0m\u001b[1;33m:\u001b[0m\u001b[1;33m\u001b[0m\u001b[1;33m\u001b[0m\u001b[0m\n\u001b[1;32m-> 1601\u001b[1;33m             \u001b[1;32mreturn\u001b[0m \u001b[0mfunc\u001b[0m\u001b[1;33m(\u001b[0m\u001b[0max\u001b[0m\u001b[1;33m,\u001b[0m \u001b[1;33m*\u001b[0m\u001b[0mmap\u001b[0m\u001b[1;33m(\u001b[0m\u001b[0msanitize_sequence\u001b[0m\u001b[1;33m,\u001b[0m \u001b[0margs\u001b[0m\u001b[1;33m)\u001b[0m\u001b[1;33m,\u001b[0m \u001b[1;33m**\u001b[0m\u001b[0mkwargs\u001b[0m\u001b[1;33m)\u001b[0m\u001b[1;33m\u001b[0m\u001b[1;33m\u001b[0m\u001b[0m\n\u001b[0m\u001b[0;32m   1602\u001b[0m \u001b[1;33m\u001b[0m\u001b[0m\n\u001b[0;32m   1603\u001b[0m         \u001b[0mbound\u001b[0m \u001b[1;33m=\u001b[0m \u001b[0mnew_sig\u001b[0m\u001b[1;33m.\u001b[0m\u001b[0mbind\u001b[0m\u001b[1;33m(\u001b[0m\u001b[0max\u001b[0m\u001b[1;33m,\u001b[0m \u001b[1;33m*\u001b[0m\u001b[0margs\u001b[0m\u001b[1;33m,\u001b[0m \u001b[1;33m**\u001b[0m\u001b[0mkwargs\u001b[0m\u001b[1;33m)\u001b[0m\u001b[1;33m\u001b[0m\u001b[1;33m\u001b[0m\u001b[0m\n",
      "\u001b[1;32m~\\Anaconda37\\lib\\site-packages\\matplotlib\\cbook\\deprecation.py\u001b[0m in \u001b[0;36mwrapper\u001b[1;34m(*args, **kwargs)\u001b[0m\n\u001b[0;32m    367\u001b[0m                 \u001b[1;34mf\"%(removal)s.  If any parameter follows {name!r}, they \"\u001b[0m\u001b[1;33m\u001b[0m\u001b[1;33m\u001b[0m\u001b[0m\n\u001b[0;32m    368\u001b[0m                 f\"should be pass as keyword, not positionally.\")\n\u001b[1;32m--> 369\u001b[1;33m         \u001b[1;32mreturn\u001b[0m \u001b[0mfunc\u001b[0m\u001b[1;33m(\u001b[0m\u001b[1;33m*\u001b[0m\u001b[0margs\u001b[0m\u001b[1;33m,\u001b[0m \u001b[1;33m**\u001b[0m\u001b[0mkwargs\u001b[0m\u001b[1;33m)\u001b[0m\u001b[1;33m\u001b[0m\u001b[1;33m\u001b[0m\u001b[0m\n\u001b[0m\u001b[0;32m    370\u001b[0m \u001b[1;33m\u001b[0m\u001b[0m\n\u001b[0;32m    371\u001b[0m     \u001b[1;32mreturn\u001b[0m \u001b[0mwrapper\u001b[0m\u001b[1;33m\u001b[0m\u001b[1;33m\u001b[0m\u001b[0m\n",
      "\u001b[1;32m~\\Anaconda37\\lib\\site-packages\\matplotlib\\cbook\\deprecation.py\u001b[0m in \u001b[0;36mwrapper\u001b[1;34m(*args, **kwargs)\u001b[0m\n\u001b[0;32m    367\u001b[0m                 \u001b[1;34mf\"%(removal)s.  If any parameter follows {name!r}, they \"\u001b[0m\u001b[1;33m\u001b[0m\u001b[1;33m\u001b[0m\u001b[0m\n\u001b[0;32m    368\u001b[0m                 f\"should be pass as keyword, not positionally.\")\n\u001b[1;32m--> 369\u001b[1;33m         \u001b[1;32mreturn\u001b[0m \u001b[0mfunc\u001b[0m\u001b[1;33m(\u001b[0m\u001b[1;33m*\u001b[0m\u001b[0margs\u001b[0m\u001b[1;33m,\u001b[0m \u001b[1;33m**\u001b[0m\u001b[0mkwargs\u001b[0m\u001b[1;33m)\u001b[0m\u001b[1;33m\u001b[0m\u001b[1;33m\u001b[0m\u001b[0m\n\u001b[0m\u001b[0;32m    370\u001b[0m \u001b[1;33m\u001b[0m\u001b[0m\n\u001b[0;32m    371\u001b[0m     \u001b[1;32mreturn\u001b[0m \u001b[0mwrapper\u001b[0m\u001b[1;33m\u001b[0m\u001b[1;33m\u001b[0m\u001b[0m\n",
      "\u001b[1;32m~\\Anaconda37\\lib\\site-packages\\matplotlib\\axes\\_axes.py\u001b[0m in \u001b[0;36mimshow\u001b[1;34m(self, X, cmap, norm, aspect, interpolation, alpha, vmin, vmax, origin, extent, shape, filternorm, filterrad, imlim, resample, url, **kwargs)\u001b[0m\n\u001b[0;32m   5669\u001b[0m                               resample=resample, **kwargs)\n\u001b[0;32m   5670\u001b[0m \u001b[1;33m\u001b[0m\u001b[0m\n\u001b[1;32m-> 5671\u001b[1;33m         \u001b[0mim\u001b[0m\u001b[1;33m.\u001b[0m\u001b[0mset_data\u001b[0m\u001b[1;33m(\u001b[0m\u001b[0mX\u001b[0m\u001b[1;33m)\u001b[0m\u001b[1;33m\u001b[0m\u001b[1;33m\u001b[0m\u001b[0m\n\u001b[0m\u001b[0;32m   5672\u001b[0m         \u001b[0mim\u001b[0m\u001b[1;33m.\u001b[0m\u001b[0mset_alpha\u001b[0m\u001b[1;33m(\u001b[0m\u001b[0malpha\u001b[0m\u001b[1;33m)\u001b[0m\u001b[1;33m\u001b[0m\u001b[1;33m\u001b[0m\u001b[0m\n\u001b[0;32m   5673\u001b[0m         \u001b[1;32mif\u001b[0m \u001b[0mim\u001b[0m\u001b[1;33m.\u001b[0m\u001b[0mget_clip_path\u001b[0m\u001b[1;33m(\u001b[0m\u001b[1;33m)\u001b[0m \u001b[1;32mis\u001b[0m \u001b[1;32mNone\u001b[0m\u001b[1;33m:\u001b[0m\u001b[1;33m\u001b[0m\u001b[1;33m\u001b[0m\u001b[0m\n",
      "\u001b[1;32m~\\Anaconda37\\lib\\site-packages\\matplotlib\\image.py\u001b[0m in \u001b[0;36mset_data\u001b[1;34m(self, A)\u001b[0m\n\u001b[0;32m    683\u001b[0m                 not np.can_cast(self._A.dtype, float, \"same_kind\")):\n\u001b[0;32m    684\u001b[0m             raise TypeError(\"Image data of dtype {} cannot be converted to \"\n\u001b[1;32m--> 685\u001b[1;33m                             \"float\".format(self._A.dtype))\n\u001b[0m\u001b[0;32m    686\u001b[0m \u001b[1;33m\u001b[0m\u001b[0m\n\u001b[0;32m    687\u001b[0m         if not (self._A.ndim == 2\n",
      "\u001b[1;31mTypeError\u001b[0m: Image data of dtype object cannot be converted to float"
     ]
    },
    {
     "data": {
      "image/png": "[encoded data removed]",
      "text/plain": [
       "<Figure size 1500x1500 with 1 Axes>"
      ]
     },
     "metadata": {
      "needs_background": "light"
     },
     "output_type": "display_data"
    }
   ],
   "source": [
    "# Set the number of subplot columns:\n",
    "cols = 4\n",
    "\n",
    "plt.figure(figsize=(5, 5), dpi=300);\n",
    "i = 0             \n",
    "# Col 1:  \n",
    "i += 1\n",
    "ax = plt.subplot(1,cols,i, aspect='equal');\n",
    "plt.imshow(ROIdcm);\n",
    "#plt.title(image1.GetMetaData('0008|0060'), **title_font);\n",
    "plt.axis('off');\n",
    "\n",
    "# Col 2:   \n",
    "#i += 1\n",
    "#ax = plt.subplot(1,cols,i, aspect='equal');\n",
    "#plt.imshow(rtStruct);\n",
    "#plt.title(image2.GetMetaData('0008|0060'), **title_font);\n",
    "#plt.axis('off');"
   ]
  },
  {
   "cell_type": "code",
   "execution_count": null,
   "metadata": {},
   "outputs": [],
   "source": []
  }
 ],
 "metadata": {
  "kernelspec": {
   "display_name": "Python 3",
   "language": "python",
   "name": "python3"
  },
  "language_info": {
   "codemirror_mode": {
    "name": "ipython",
    "version": 3
   },
   "file_extension": ".py",
   "mimetype": "text/x-python",
   "name": "python",
   "nbconvert_exporter": "python",
   "pygments_lexer": "ipython3",
   "version": "3.7.4"
  }
 },
 "nbformat": 4,
 "nbformat_minor": 2
}
