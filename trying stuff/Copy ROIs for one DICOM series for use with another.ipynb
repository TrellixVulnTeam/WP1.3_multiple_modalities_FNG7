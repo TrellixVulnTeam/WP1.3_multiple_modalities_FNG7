{
 "cells": [
  {
   "cell_type": "code",
   "execution_count": 52,
   "metadata": {},
   "outputs": [],
   "source": [
    "import importlib\n",
    "import CopyROIs\n",
    "importlib.reload(CopyROIs)\n",
    "from CopyROIs import CopyROIs\n",
    "import json"
   ]
  },
  {
   "cell_type": "markdown",
   "metadata": {},
   "source": [
    "# Modify the dictionary entires accordingly:\n",
    "\n",
    "### Note:  The only values that should need changing are the ones under:\n",
    "### 1) Define the REST variables that point to the ROIs to be copied\n",
    "### 2) Define the REST variables that point to the DICOM files that the ROI applies to\n",
    "### 3) Define the REST variables that point to the DICOM files that the ROI is to be applied to"
   ]
  },
  {
   "cell_type": "code",
   "execution_count": 53,
   "metadata": {},
   "outputs": [
    {
     "data": {
      "text/plain": [
       "{'xnatAddress': 'http://10.1.1.17',\n",
       " 'username': 'admin',\n",
       " 'password': 'admin',\n",
       " 'RoiProjLab': 'BrainTumorProg',\n",
       " 'RoiSubjLab': 'PGBM-002',\n",
       " 'RoiExpLab': 'PGBM-002_MR_1',\n",
       " 'RoiLab': 'RTSTRUCT_20200123_145731',\n",
       " 'fromDicomProjLab': 'BrainTumorProg',\n",
       " 'fromDicomSubjLab': 'PGBM-002',\n",
       " 'fromDicomExpLab': 'PGBM-002_MR_1',\n",
       " 'fromDicomScanLab': 'T1post',\n",
       " 'toDicomProjLab': 'BrainTumorProg',\n",
       " 'toDicomSubjLab': 'PGBM-002',\n",
       " 'toDicomExpLab': 'PGBM-002_MR_2',\n",
       " 'toDicomScanLab': 'T1post',\n",
       " 'fromDicomDir': 'C:\\\\Temp\\\\From DICOM',\n",
       " 'fromRoiDir': 'C:\\\\Temp\\\\From RTSTRUCT',\n",
       " 'toDicomDir': 'C:\\\\Temp\\\\To DICOM',\n",
       " 'toRoiDir': 'C:\\\\Temp\\\\To RTSTRUCT'}"
      ]
     },
     "execution_count": 53,
     "metadata": {},
     "output_type": "execute_result"
    }
   ],
   "source": [
    "# Create a dictionary to store various variables to input into CopyROI():\n",
    "\n",
    "xnatDict = {# Define the XNAT login details:\n",
    "            'xnatAddress':'http://10.1.1.17',\\\n",
    "            'username':'admin',\\\n",
    "            'password':'admin',\\\n",
    "    \n",
    "            # Define the REST variables that point to the ROIs to be copied:\n",
    "            'RoiProjLab':'BrainTumorProg',\\\n",
    "            'RoiSubjLab':'PGBM-002',\\\n",
    "            'RoiExpLab':'PGBM-002_MR_1',\\\n",
    "            'RoiLab':'RTSTRUCT_20200123_145731',\\\n",
    "    \n",
    "            # Define the REST variables that point to the DICOM files that the ROI applies to:\n",
    "            'fromDicomProjLab':'BrainTumorProg',\\\n",
    "            'fromDicomSubjLab':'PGBM-002',\\\n",
    "            'fromDicomExpLab':'PGBM-002_MR_1',\\\n",
    "            'fromDicomScanLab':'T1post',\\\n",
    "    \n",
    "            # Define the REST variables that point to the DICOM files that the ROI is to be applied to:\n",
    "            'toDicomProjLab':'BrainTumorProg',\\\n",
    "            #'toDicomSubjLab':'PGM-002',\\\n",
    "            'toDicomSubjLab':'PGBM-002',\\\n",
    "            #'toDicomExpLab':'PGM-002_MR_1',\\\n",
    "            'toDicomExpLab':'PGBM-002_MR_2',\\\n",
    "            'toDicomScanLab':'T1post',\\\n",
    "    \n",
    "            # Define the directories to download files to:\n",
    "            'fromDicomDir':r'C:\\Temp\\From DICOM',\\\n",
    "            'fromRoiDir':r'C:\\Temp\\From RTSTRUCT',\\\n",
    "            'toDicomDir':r'C:\\Temp\\To DICOM',\\\n",
    "            'toRoiDir':r'C:\\Temp\\To RTSTRUCT'\n",
    "           }\n",
    "\n",
    "xnatDict"
   ]
  },
  {
   "cell_type": "markdown",
   "metadata": {},
   "source": [
    "# Execute the following cell to copy the ROIs and export to a new DICOM-RTSTRUCT file for use with the new DICOM series:\n",
    "\n",
    "### Note:  A JSON file will be exported containing the input dictionary updated with the filenames and filepaths of the new RTSTRUCT file and a new JSON file containing the input dictionary used to create the new RTSTRUCT file."
   ]
  },
  {
   "cell_type": "code",
   "execution_count": 54,
   "metadata": {},
   "outputs": [
    {
     "name": "stderr",
     "output_type": "stream",
     "text": [
      "100% of 157.5 KiB |################################|  79.0 MiB/s Time:  0:00:00\n",
      "100% of 517.9 KiB |################################|  86.6 MiB/s Time:  0:00:00\n",
      "100% of 517.9 KiB |################################|  64.9 MiB/s Time:  0:00:00\n"
     ]
    },
    {
     "name": "stdout",
     "output_type": "stream",
     "text": [
      "\n",
      "Downloading the DICOM-RTSTRUCT file to be copied: RTSTRUCT_20200123_145731.dcm\n",
      "\n",
      "Downloading the DICOM files that the DICOM-RTSTRUCT file relate to..\n"
     ]
    },
    {
     "name": "stderr",
     "output_type": "stream",
     "text": [
      "100% of 517.9 KiB |################################|  52.0 MiB/s Time:  0:00:00\n",
      "100% of 517.9 KiB |################################|  52.0 MiB/s Time:  0:00:00\n",
      "100% of 517.9 KiB |################################|  52.0 MiB/s Time:  0:00:00\n",
      "100% of 517.9 KiB |################################|  28.9 MiB/s Time:  0:00:00\n",
      "100% of 517.9 KiB |################################|  47.2 MiB/s Time:  0:00:00\n",
      "100% of 517.9 KiB |################################|  37.2 MiB/s Time:  0:00:00\n",
      "100% of 517.9 KiB |################################|  43.3 MiB/s Time:  0:00:00\n",
      "100% of 517.9 KiB |################################|  40.0 MiB/s Time:  0:00:00\n",
      "100% of 517.9 KiB |################################|  37.1 MiB/s Time:  0:00:00\n",
      "100% of 517.9 KiB |################################|  30.6 MiB/s Time:  0:00:00\n",
      "100% of 517.9 KiB |################################|  34.6 MiB/s Time:  0:00:00\n",
      "100% of 517.9 KiB |################################|  47.2 MiB/s Time:  0:00:00\n",
      "100% of 517.9 KiB |################################|  43.4 MiB/s Time:  0:00:00\n",
      "100% of 517.9 KiB |################################|  37.1 MiB/s Time:  0:00:00\n",
      "100% of 517.9 KiB |################################|  37.7 MiB/s Time:  0:00:00\n",
      "100% of 517.9 KiB |################################|  30.6 MiB/s Time:  0:00:00\n",
      "100% of 517.9 KiB |################################|  29.1 MiB/s Time:  0:00:00\n",
      "100% of 517.9 KiB |################################|  37.1 MiB/s Time:  0:00:00\n",
      "100% of 517.9 KiB |################################|  34.6 MiB/s Time:  0:00:00\n",
      "100% of 517.9 KiB |################################|  32.5 MiB/s Time:  0:00:00\n",
      "100% of 611.0 KiB |################################|  43.8 MiB/s Time:  0:00:00\n",
      "100% of 167.2 KiB |################################|  41.9 MiB/s Time:  0:00:00\n",
      "100% of 517.6 KiB |################################|  86.5 MiB/s Time:  0:00:00\n",
      "100% of 517.6 KiB |################################|  34.6 MiB/s Time:  0:00:00\n",
      "N/A% of 517.6 KiB |                                  |   0.0 s/B ETA:  --:--:--"
     ]
    },
    {
     "name": "stdout",
     "output_type": "stream",
     "text": [
      "\n",
      "Downloading the DICOM files that the DICOM-RTSTRUCT file is to be overlaid on..\n"
     ]
    },
    {
     "name": "stderr",
     "output_type": "stream",
     "text": [
      "100% of 517.6 KiB |################################|  47.2 MiB/s Time:  0:00:00\n",
      "100% of 517.6 KiB |################################|  52.0 MiB/s Time:  0:00:00\n",
      "100% of 517.6 KiB |################################|  51.9 MiB/s Time:  0:00:00\n",
      "100% of 517.6 KiB |################################|  43.3 MiB/s Time:  0:00:00\n",
      "100% of 517.6 KiB |################################|  57.7 MiB/s Time:  0:00:00\n",
      "100% of 517.6 KiB |################################|  47.2 MiB/s Time:  0:00:00\n",
      "100% of 517.6 KiB |################################|  39.9 MiB/s Time:  0:00:00\n",
      "100% of 517.6 KiB |################################|  47.1 MiB/s Time:  0:00:00\n",
      "100% of 517.6 KiB |################################|  64.9 MiB/s Time:  0:00:00\n",
      "100% of 517.6 KiB |################################|  51.9 MiB/s Time:  0:00:00\n",
      "100% of 517.6 KiB |################################|  64.9 MiB/s Time:  0:00:00\n",
      "100% of 517.6 KiB |################################|  39.9 MiB/s Time:  0:00:00\n",
      "100% of 517.6 KiB |################################|  46.9 MiB/s Time:  0:00:00\n",
      "100% of 517.6 KiB |################################|  51.9 MiB/s Time:  0:00:00\n",
      "100% of 517.6 KiB |################################|  32.4 MiB/s Time:  0:00:00\n",
      "100% of 517.6 KiB |################################|  47.2 MiB/s Time:  0:00:00\n",
      "100% of 517.6 KiB |################################|  51.9 MiB/s Time:  0:00:00\n",
      "100% of 517.6 KiB |################################|  47.2 MiB/s Time:  0:00:00\n",
      "100% of 517.6 KiB |################################|  51.9 MiB/s Time:  0:00:00\n",
      "100% of 517.6 KiB |################################|  51.9 MiB/s Time:  0:00:00\n",
      "100% of 579.5 KiB |################################|  72.7 MiB/s Time:  0:00:00\n",
      "100% of 159.6 KiB |################################|  80.0 MiB/s Time:  0:00:00\n"
     ]
    },
    {
     "name": "stdout",
     "output_type": "stream",
     "text": [
      "New DICOM-RTSTRUCT file saved to:\n",
      "\n",
      " C:\\Temp\\To RTSTRUCT\\RTSTRUCT_20200228_150949.dcm \n",
      "\n",
      "\n",
      "JSON file created:\n",
      " C:\\Temp\\To RTSTRUCT\\RTSTRUCT_20200228_150949.json \n",
      "\n",
      "\n",
      "Deleting temporary DICOM files..\n"
     ]
    },
    {
     "data": {
      "text/plain": [
       "{'xnatAddress': 'http://10.1.1.17',\n",
       " 'username': 'admin',\n",
       " 'password': 'admin',\n",
       " 'RoiProjLab': 'BrainTumorProg',\n",
       " 'RoiSubjLab': 'PGBM-002',\n",
       " 'RoiExpLab': 'PGBM-002_MR_1',\n",
       " 'RoiLab': 'RTSTRUCT_20200123_145731',\n",
       " 'fromDicomProjLab': 'BrainTumorProg',\n",
       " 'fromDicomSubjLab': 'PGBM-002',\n",
       " 'fromDicomExpLab': 'PGBM-002_MR_1',\n",
       " 'fromDicomScanLab': 'T1post',\n",
       " 'toDicomProjLab': 'BrainTumorProg',\n",
       " 'toDicomSubjLab': 'PGBM-002',\n",
       " 'toDicomExpLab': 'PGBM-002_MR_2',\n",
       " 'toDicomScanLab': 'T1post',\n",
       " 'fromDicomDir': 'C:\\\\Temp\\\\From DICOM',\n",
       " 'fromRoiDir': 'C:\\\\Temp\\\\From RTSTRUCT',\n",
       " 'toDicomDir': 'C:\\\\Temp\\\\To DICOM',\n",
       " 'toRoiDir': 'C:\\\\Temp\\\\To RTSTRUCT',\n",
       " 'toRoiFname': 'RTSTRUCT_20200228_150949.dcm',\n",
       " 'toRoiFpath': 'C:\\\\Temp\\\\To RTSTRUCT\\\\RTSTRUCT_20200228_150949.dcm',\n",
       " 'jsonFname': 'RTSTRUCT_20200228_150949.json',\n",
       " 'jsonFpath': 'C:\\\\Temp\\\\To RTSTRUCT\\\\RTSTRUCT_20200228_150949.json'}"
      ]
     },
     "execution_count": 54,
     "metadata": {},
     "output_type": "execute_result"
    }
   ],
   "source": [
    "# Use CopyROIs to copy the ROIs from one DICOM series for use with another series:\n",
    "\n",
    "xnatDict = CopyROIs(xnatDict, debug=False)\n",
    "\n",
    "xnatDict"
   ]
  },
  {
   "cell_type": "markdown",
   "metadata": {},
   "source": [
    "# To verify that the JSON file was exported correctly:"
   ]
  },
  {
   "cell_type": "code",
   "execution_count": 55,
   "metadata": {
    "scrolled": false
   },
   "outputs": [
    {
     "name": "stdout",
     "output_type": "stream",
     "text": [
      "Contents of RTSTRUCT_20200228_150949.json :\n"
     ]
    },
    {
     "data": {
      "text/plain": [
       "{'xnatAddress': 'http://10.1.1.17',\n",
       " 'username': 'admin',\n",
       " 'password': 'admin',\n",
       " 'RoiProjLab': 'BrainTumorProg',\n",
       " 'RoiSubjLab': 'PGBM-002',\n",
       " 'RoiExpLab': 'PGBM-002_MR_1',\n",
       " 'RoiLab': 'RTSTRUCT_20200123_145731',\n",
       " 'fromDicomProjLab': 'BrainTumorProg',\n",
       " 'fromDicomSubjLab': 'PGBM-002',\n",
       " 'fromDicomExpLab': 'PGBM-002_MR_1',\n",
       " 'fromDicomScanLab': 'T1post',\n",
       " 'toDicomProjLab': 'BrainTumorProg',\n",
       " 'toDicomSubjLab': 'PGBM-002',\n",
       " 'toDicomExpLab': 'PGBM-002_MR_2',\n",
       " 'toDicomScanLab': 'T1post',\n",
       " 'fromDicomDir': 'C:\\\\Temp\\\\From DICOM',\n",
       " 'fromRoiDir': 'C:\\\\Temp\\\\From RTSTRUCT',\n",
       " 'toDicomDir': 'C:\\\\Temp\\\\To DICOM',\n",
       " 'toRoiDir': 'C:\\\\Temp\\\\To RTSTRUCT',\n",
       " 'toRoiFname': 'RTSTRUCT_20200228_150949.dcm',\n",
       " 'toRoiFpath': 'C:\\\\Temp\\\\To RTSTRUCT\\\\RTSTRUCT_20200228_150949.dcm',\n",
       " 'jsonFname': 'RTSTRUCT_20200228_150949.json',\n",
       " 'jsonFpath': 'C:\\\\Temp\\\\To RTSTRUCT\\\\RTSTRUCT_20200228_150949.json'}"
      ]
     },
     "execution_count": 55,
     "metadata": {},
     "output_type": "execute_result"
    }
   ],
   "source": [
    "# Read dictionary from JSON file:\n",
    "print('Contents of', xnatDict['jsonFname'], ':')\n",
    "json.load(open(xnatDict['jsonFpath']))"
   ]
  },
  {
   "cell_type": "code",
   "execution_count": null,
   "metadata": {},
   "outputs": [],
   "source": []
  }
 ],
 "metadata": {
  "kernelspec": {
   "display_name": "Python 3",
   "language": "python",
   "name": "python3"
  },
  "language_info": {
   "codemirror_mode": {
    "name": "ipython",
    "version": 3
   },
   "file_extension": ".py",
   "mimetype": "text/x-python",
   "name": "python",
   "nbconvert_exporter": "python",
   "pygments_lexer": "ipython3",
   "version": "3.7.4"
  }
 },
 "nbformat": 4,
 "nbformat_minor": 2
}
