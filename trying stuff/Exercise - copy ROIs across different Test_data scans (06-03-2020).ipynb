{
 "cells": [
  {
   "cell_type": "markdown",
   "metadata": {},
   "source": [
    "# Overview of exercises:\n",
    "\n",
    "## Work with \"Cristiano_test_data_2\" provided by Simon from the XNAT_CRUK account.  In this data set the subject position is meant to be the same for all scans.  What varies is:\n",
    "\n",
    "### - Image contrast\n",
    "### - Image FOV (resolution)\n",
    "### - Different number of slices\n",
    "\n",
    "#### Note:  All Dixon scans have the same FOV and number of planes.  Only the contrast varies.\n",
    "\n",
    "## Exercise 1 - Copy ROI Collection to scan with different resolution but same number of planes:\n",
    "\n",
    "### Copy ROI Collection from scan 3 (\"t2_blade_tra\", res = 320 x 320, 128 slices) to scan 4 (\"t2_tra\", res = 320 x 190, 128 slices). \n",
    "\n",
    "## Exercise 2 - Copy ROI Collection to scan with different resolution and different number of planes:\n",
    "\n",
    "### Copy ROI Collection from scan 4 (\"t2_tra\", res = 320 x 190, 128 slices) to scan 7 (\"Dixon_T1_opp\", res = 384 x 240, 192 slices) "
   ]
  },
  {
   "cell_type": "markdown",
   "metadata": {},
   "source": [
    "### March 3:\n",
    "\n",
    "### Since I was unable to establish a connection to the XNAT CRUK site via XNATpy, I downloaded the entire patient collection using the web interface instead.\n",
    "\n",
    "### The root folder of the files are at:\n",
    "\n",
    "### C:\\Data\\Cristiano_test_data_2\\20170302_112746_Aera\n",
    "\n",
    "### In my own XNAT instance I used the XNAT Compressed Uploader (Option 2 using the web interface) I selected the zip file that was downloaded in the XNAT_CRUK session.\n",
    "\n",
    "### I loaded the images in the OHIF viewer and selected Dixon_T1_opp (scan session #7), and drew some contours in the 11th frame.\n",
    "\n",
    "### March 4:\n",
    "\n",
    "### I later drew contours on slice 5 of scan 3 (\"t2_blade_tra\") and named it \"ROIs_t2_blade_tra_slice_5\". \n",
    "\n",
    "### March 5:\n",
    "\n",
    "### I started wrapping up the individual sections of code into individual helper functions, correcting bugs along the way.  I succeeded in completing Exercise 1. \n",
    "\n",
    "### March 6:\n",
    "\n",
    "### I continued wrapping up code into functions including one main function to call up the others.  I succeeded in completing Exercise 2. "
   ]
  },
  {
   "cell_type": "code",
   "execution_count": null,
   "metadata": {},
   "outputs": [],
   "source": [
    "# Import packages and functions:\n",
    "\n",
    "import DicomHelperFuncs\n",
    "importlib.reload(DicomHelperFuncs)\n",
    "from DicomHelperFuncs import CopyRoi"
   ]
  },
  {
   "cell_type": "markdown",
   "metadata": {},
   "source": [
    "### Exercise 1:"
   ]
  },
  {
   "cell_type": "code",
   "execution_count": null,
   "metadata": {},
   "outputs": [],
   "source": [
    "# Run CopyROI() to do everything:\n",
    "roi2, xnatDict = CopyRoi(fromRoiProjLab='TestData', \\\n",
    "                         fromRoiSubjLab='Volunteer_1', \\\n",
    "                         fromRoiExpLab='20170302_112746_Aera', \\\n",
    "                         fromRoiLabDateTime='20200304_110009', \\\n",
    "                         fromDicomScanLab='3', \\\n",
    "                         toDicomProjLab='TestData', \\\n",
    "                         toDicomSubjLab='Volunteer_1', \\\n",
    "                         toDicomExpLab='20170302_112746_Aera', \\\n",
    "                         toDicomScanLab='4', \\\n",
    "                         searchBy='z', \\\n",
    "                         del_dicoms=True, \\\n",
    "                         debug=False)"
   ]
  },
  {
   "cell_type": "markdown",
   "metadata": {},
   "source": [
    "### Exercise 2:"
   ]
  },
  {
   "cell_type": "code",
   "execution_count": null,
   "metadata": {},
   "outputs": [],
   "source": [
    "# Run CopyROI() to do everything:\n",
    "roi2, xnatDict = CopyRoi(fromRoiProjLab='TestData', \\\n",
    "                         fromRoiSubjLab='Volunteer_1', \\\n",
    "                         fromRoiExpLab='20170302_112746_Aera', \\\n",
    "                         fromRoiLabDateTime='20200306_114104', \\\n",
    "                         fromDicomScanLab='4', \\\n",
    "                         toDicomProjLab='TestData', \\\n",
    "                         toDicomSubjLab='Volunteer_1', \\\n",
    "                         toDicomExpLab='20170302_112746_Aera', \\\n",
    "                         toDicomScanLab='7', \\\n",
    "                         searchBy='z', \\\n",
    "                         del_dicoms=True, \\\n",
    "                         debug=False)"
   ]
  }
 ],
 "metadata": {
  "kernelspec": {
   "display_name": "Python 3",
   "language": "python",
   "name": "python3"
  },
  "language_info": {
   "codemirror_mode": {
    "name": "ipython",
    "version": 3
   },
   "file_extension": ".py",
   "mimetype": "text/x-python",
   "name": "python",
   "nbconvert_exporter": "python",
   "pygments_lexer": "ipython3",
   "version": "3.7.4"
  }
 },
 "nbformat": 4,
 "nbformat_minor": 2
}
