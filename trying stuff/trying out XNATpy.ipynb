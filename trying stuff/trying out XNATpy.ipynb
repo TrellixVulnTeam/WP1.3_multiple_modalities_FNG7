{
 "cells": [
  {
   "cell_type": "markdown",
   "metadata": {},
   "source": [
    "# XNATpy\n",
    "\n",
    "### https://xnat.readthedocs.io/en/latest/index.html\n",
    "\n",
    "#### XNATpy is supposedly easier to use than pyXNAT but unlike the latter, it is not possible to create subjects or sessions.  See:\n",
    "\n",
    "#### https://info.dpuk.org/blog/"
   ]
  },
  {
   "cell_type": "code",
   "execution_count": 1,
   "metadata": {},
   "outputs": [
    {
     "name": "stdout",
     "output_type": "stream",
     "text": [
      "XNATpy version = 0.3.21\n"
     ]
    }
   ],
   "source": [
    "import xnat\n",
    "#xnat.__version__ # 0.3.21\n",
    "print(f'XNATpy version = {xnat.__version__}') # 0.3.21\n",
    "import SimpleITK as sitk\n",
    "import pydicom\n",
    "import dicom2nifti\n",
    "import numpy as np\n",
    "#import math\n",
    "import matplotlib.pyplot as plt\n",
    "#from matplotlib import pyplot\n",
    "import matplotlib.image as mpimg\n",
    "import os, sys, time\n",
    "import natsort\n",
    "import dicom_functions\n",
    "import explore_dicom_data\n",
    "from myshow import myshow"
   ]
  },
  {
   "cell_type": "code",
   "execution_count": 2,
   "metadata": {},
   "outputs": [],
   "source": [
    "xnatAddress = 'http://10.1.1.17'\n",
    "#xnatAddress = 'http://10.1.1.17/app/template/Index.vm'\n",
    "#xnatAddress = 'http://10.1.1.17/app/template/Login.vm#!'\n",
    "#xnatAddress = 'http://10.1.1.17:8080/xnat'\n",
    "#xnatAddress = 'http://10.1.1.17:80/xnat'\n",
    "#xnatAddress = 'http://localhost:8080/xnat'\n",
    "#xnatAddress = 'http://10.1.1.17:8080/admin'\n",
    "#xnatAddress = 'http://localhost:8080/admin'\n",
    "\n",
    "#session = xnat.connect(xnatAddress, user='xnat', password='xnat')\n",
    "#session = xnat.connect(xnatAddress, user='owner', password='owner')\n",
    "session = xnat.connect(xnatAddress, user='admin', password='admin')"
   ]
  },
  {
   "cell_type": "code",
   "execution_count": 22,
   "metadata": {},
   "outputs": [
    {
     "data": {
      "text/plain": [
       "<xnat.session.XNATSession at 0x128ede25c48>"
      ]
     },
     "execution_count": 22,
     "metadata": {},
     "output_type": "execute_result"
    }
   ],
   "source": [
    "session"
   ]
  },
  {
   "cell_type": "code",
   "execution_count": 3,
   "metadata": {},
   "outputs": [
    {
     "data": {
      "text/plain": [
       "<XNATListing {(BrainTumorProg, Brain-Tumor-Progression Collection): <ProjectData Brain-Tumor-Progression Collection (BrainTumorProg)>, (SN2015Neuro, Softneta 2015-04-30 Neuro): <ProjectData Softneta 2015-04-30 Neuro (SN2015Neuro)>}>"
      ]
     },
     "execution_count": 3,
     "metadata": {},
     "output_type": "execute_result"
    }
   ],
   "source": [
    "session.projects"
   ]
  },
  {
   "cell_type": "code",
   "execution_count": 4,
   "metadata": {},
   "outputs": [
    {
     "data": {
      "text/plain": [
       "<ProjectData Brain-Tumor-Progression Collection (BrainTumorProg)>"
      ]
     },
     "execution_count": 4,
     "metadata": {},
     "output_type": "execute_result"
    }
   ],
   "source": [
    "session.projects[0]"
   ]
  },
  {
   "cell_type": "code",
   "execution_count": 5,
   "metadata": {},
   "outputs": [
    {
     "data": {
      "text/plain": [
       "<XNATListing {(XNAT_S00001, PGBM-001): <SubjectData PGBM-001 (XNAT_S00001)>, (XNAT_S00002, PGM-002): <SubjectData PGM-002 (XNAT_S00002)>, (XNAT_S00003, PGBM-003): <SubjectData PGBM-003 (XNAT_S00003)>}>"
      ]
     },
     "execution_count": 5,
     "metadata": {},
     "output_type": "execute_result"
    }
   ],
   "source": [
    "session.projects[0].subjects"
   ]
  },
  {
   "cell_type": "code",
   "execution_count": 28,
   "metadata": {},
   "outputs": [
    {
     "data": {
      "text/plain": [
       "<SubjectData PGM-002 (XNAT_S00002)>"
      ]
     },
     "execution_count": 28,
     "metadata": {},
     "output_type": "execute_result"
    }
   ],
   "source": [
    "session.projects[0].subjects[1]"
   ]
  },
  {
   "cell_type": "code",
   "execution_count": 29,
   "metadata": {},
   "outputs": [
    {
     "data": {
      "text/plain": [
       "<XNATListing {(XNAT_E00004, PGM-002_MR_1): <MrSessionData PGM-002_MR_1 (XNAT_E00004)>, (XNAT_E00005, PGM-002_MR_2): <MrSessionData PGM-002_MR_2 (XNAT_E00005)>}>"
      ]
     },
     "execution_count": 29,
     "metadata": {},
     "output_type": "execute_result"
    }
   ],
   "source": [
    "session.projects[0].subjects[1].experiments"
   ]
  },
  {
   "cell_type": "code",
   "execution_count": 30,
   "metadata": {},
   "outputs": [
    {
     "data": {
      "text/plain": [
       "<MrSessionData PGM-002_MR_1 (XNAT_E00004)>"
      ]
     },
     "execution_count": 30,
     "metadata": {},
     "output_type": "execute_result"
    }
   ],
   "source": [
    "session.projects[0].subjects[1].experiments[0]"
   ]
  },
  {
   "cell_type": "code",
   "execution_count": 31,
   "metadata": {},
   "outputs": [
    {
     "data": {
      "text/plain": [
       "<XNATListing {(11, T1post): <MrScanData T1post (11)>, (19446, T1pre_reg): <MrScanData T1pre_reg (19446)>, (36449, FLAIR_reg): <MrScanData FLAIR_reg (36449)>, (37921, T2_reg): <MrScanData T2_reg (37921)>, (36456, nCBF_reg): <ScScanData nCBF_reg (36456)>, (36450, ADC_reg): <ScScanData ADC_reg (36450)>, (36454, nRCBV_reg): <ScScanData nRCBV_reg (36454)>, (5394, Mask_Tumor): <ScScanData Mask_Tumor (5394)>, (14409, dT1): <ScScanData dT1 (14409)>, (36455, sRCBV_reg): <ScScanData sRCBV_reg (36455)>}>"
      ]
     },
     "execution_count": 31,
     "metadata": {},
     "output_type": "execute_result"
    }
   ],
   "source": [
    "session.projects[0].subjects[1].experiments[0].scans"
   ]
  },
  {
   "cell_type": "code",
   "execution_count": 32,
   "metadata": {},
   "outputs": [
    {
     "data": {
      "text/plain": [
       "<MrScanData T1post (11)>"
      ]
     },
     "execution_count": 32,
     "metadata": {},
     "output_type": "execute_result"
    }
   ],
   "source": [
    "session.projects[0].subjects[1].experiments[0].scans[0]"
   ]
  },
  {
   "cell_type": "code",
   "execution_count": 55,
   "metadata": {},
   "outputs": [
    {
     "data": {
      "text/plain": [
       "[<FileData /data/experiments/XNAT_E00004/scans/11/resources/51/files/XNAT_E00004_11_qc.gif (XNAT_E00004_11_qc.gif)>,\n",
       " <FileData /data/experiments/XNAT_E00004/scans/11/resources/51/files/XNAT_E00004_11_qc_t.gif (XNAT_E00004_11_qc_t.gif)>,\n",
       " <FileData /data/experiments/XNAT_E00004/scans/11/resources/41/files/1.3.6.1.4.1.14519.5.2.1.4429.7055.331058148523327901159449546313-11-19-abhab5.dcm (1.3.6.1.4.1.14519.5.2.1.4429.7055.331058148523327901159449546313-11-19-abhab5.dcm)>,\n",
       " <FileData /data/experiments/XNAT_E00004/scans/11/resources/41/files/1.3.6.1.4.1.14519.5.2.1.4429.7055.331058148523327901159449546313-11-20-hn94uu.dcm (1.3.6.1.4.1.14519.5.2.1.4429.7055.331058148523327901159449546313-11-20-hn94uu.dcm)>,\n",
       " <FileData /data/experiments/XNAT_E00004/scans/11/resources/41/files/1.3.6.1.4.1.14519.5.2.1.4429.7055.331058148523327901159449546313-11-1-xb6jdm.dcm (1.3.6.1.4.1.14519.5.2.1.4429.7055.331058148523327901159449546313-11-1-xb6jdm.dcm)>,\n",
       " <FileData /data/experiments/XNAT_E00004/scans/11/resources/41/files/1.3.6.1.4.1.14519.5.2.1.4429.7055.331058148523327901159449546313-11-4-1ji0ody.dcm (1.3.6.1.4.1.14519.5.2.1.4429.7055.331058148523327901159449546313-11-4-1ji0ody.dcm)>,\n",
       " <FileData /data/experiments/XNAT_E00004/scans/11/resources/41/files/1.3.6.1.4.1.14519.5.2.1.4429.7055.331058148523327901159449546313-11-8-11aj08n.dcm (1.3.6.1.4.1.14519.5.2.1.4429.7055.331058148523327901159449546313-11-8-11aj08n.dcm)>,\n",
       " <FileData /data/experiments/XNAT_E00004/scans/11/resources/41/files/1.3.6.1.4.1.14519.5.2.1.4429.7055.331058148523327901159449546313-11-13-1kem30l.dcm (1.3.6.1.4.1.14519.5.2.1.4429.7055.331058148523327901159449546313-11-13-1kem30l.dcm)>,\n",
       " <FileData /data/experiments/XNAT_E00004/scans/11/resources/41/files/1.3.6.1.4.1.14519.5.2.1.4429.7055.331058148523327901159449546313-11-5-1kyxtoq.dcm (1.3.6.1.4.1.14519.5.2.1.4429.7055.331058148523327901159449546313-11-5-1kyxtoq.dcm)>,\n",
       " <FileData /data/experiments/XNAT_E00004/scans/11/resources/41/files/1.3.6.1.4.1.14519.5.2.1.4429.7055.331058148523327901159449546313-11-9-ouxf6l.dcm (1.3.6.1.4.1.14519.5.2.1.4429.7055.331058148523327901159449546313-11-9-ouxf6l.dcm)>,\n",
       " <FileData /data/experiments/XNAT_E00004/scans/11/resources/41/files/1.3.6.1.4.1.14519.5.2.1.4429.7055.331058148523327901159449546313-11-10-16uvgu3.dcm (1.3.6.1.4.1.14519.5.2.1.4429.7055.331058148523327901159449546313-11-10-16uvgu3.dcm)>,\n",
       " <FileData /data/experiments/XNAT_E00004/scans/11/resources/41/files/1.3.6.1.4.1.14519.5.2.1.4429.7055.331058148523327901159449546313-11-7-2g5trn.dcm (1.3.6.1.4.1.14519.5.2.1.4429.7055.331058148523327901159449546313-11-7-2g5trn.dcm)>,\n",
       " <FileData /data/experiments/XNAT_E00004/scans/11/resources/41/files/1.3.6.1.4.1.14519.5.2.1.4429.7055.331058148523327901159449546313-11-21-1l0y6hs.dcm (1.3.6.1.4.1.14519.5.2.1.4429.7055.331058148523327901159449546313-11-21-1l0y6hs.dcm)>,\n",
       " <FileData /data/experiments/XNAT_E00004/scans/11/resources/41/files/1.3.6.1.4.1.14519.5.2.1.4429.7055.331058148523327901159449546313-11-11-1yalgp4.dcm (1.3.6.1.4.1.14519.5.2.1.4429.7055.331058148523327901159449546313-11-11-1yalgp4.dcm)>,\n",
       " <FileData /data/experiments/XNAT_E00004/scans/11/resources/41/files/1.3.6.1.4.1.14519.5.2.1.4429.7055.331058148523327901159449546313-11-3-o6pfci.dcm (1.3.6.1.4.1.14519.5.2.1.4429.7055.331058148523327901159449546313-11-3-o6pfci.dcm)>,\n",
       " <FileData /data/experiments/XNAT_E00004/scans/11/resources/41/files/1.3.6.1.4.1.14519.5.2.1.4429.7055.331058148523327901159449546313-11-14-1m1mvpi.dcm (1.3.6.1.4.1.14519.5.2.1.4429.7055.331058148523327901159449546313-11-14-1m1mvpi.dcm)>,\n",
       " <FileData /data/experiments/XNAT_E00004/scans/11/resources/41/files/1.3.6.1.4.1.14519.5.2.1.4429.7055.331058148523327901159449546313-11-2-119a4or.dcm (1.3.6.1.4.1.14519.5.2.1.4429.7055.331058148523327901159449546313-11-2-119a4or.dcm)>,\n",
       " <FileData /data/experiments/XNAT_E00004/scans/11/resources/41/files/1.3.6.1.4.1.14519.5.2.1.4429.7055.331058148523327901159449546313-11-6-ui6tn3.dcm (1.3.6.1.4.1.14519.5.2.1.4429.7055.331058148523327901159449546313-11-6-ui6tn3.dcm)>,\n",
       " <FileData /data/experiments/XNAT_E00004/scans/11/resources/41/files/1.3.6.1.4.1.14519.5.2.1.4429.7055.331058148523327901159449546313-11-12-gk3fd0.dcm (1.3.6.1.4.1.14519.5.2.1.4429.7055.331058148523327901159449546313-11-12-gk3fd0.dcm)>,\n",
       " <FileData /data/experiments/XNAT_E00004/scans/11/resources/41/files/1.3.6.1.4.1.14519.5.2.1.4429.7055.331058148523327901159449546313-11-16-t1kui0.dcm (1.3.6.1.4.1.14519.5.2.1.4429.7055.331058148523327901159449546313-11-16-t1kui0.dcm)>,\n",
       " <FileData /data/experiments/XNAT_E00004/scans/11/resources/41/files/1.3.6.1.4.1.14519.5.2.1.4429.7055.331058148523327901159449546313-11-17-12omca7.dcm (1.3.6.1.4.1.14519.5.2.1.4429.7055.331058148523327901159449546313-11-17-12omca7.dcm)>,\n",
       " <FileData /data/experiments/XNAT_E00004/scans/11/resources/41/files/1.3.6.1.4.1.14519.5.2.1.4429.7055.331058148523327901159449546313-11-18-gihsw6.dcm (1.3.6.1.4.1.14519.5.2.1.4429.7055.331058148523327901159449546313-11-18-gihsw6.dcm)>,\n",
       " <FileData /data/experiments/XNAT_E00004/scans/11/resources/41/files/1.3.6.1.4.1.14519.5.2.1.4429.7055.331058148523327901159449546313-11-22-qfw6eu.dcm (1.3.6.1.4.1.14519.5.2.1.4429.7055.331058148523327901159449546313-11-22-qfw6eu.dcm)>,\n",
       " <FileData /data/experiments/XNAT_E00004/scans/11/resources/41/files/1.3.6.1.4.1.14519.5.2.1.4429.7055.331058148523327901159449546313-11-15-vumjtl.dcm (1.3.6.1.4.1.14519.5.2.1.4429.7055.331058148523327901159449546313-11-15-vumjtl.dcm)>]"
      ]
     },
     "execution_count": 55,
     "metadata": {},
     "output_type": "execute_result"
    }
   ],
   "source": [
    "#session.projects[0].subjects[2].experiments[0].scans[0].files\n",
    "session.projects[0].subjects[1].experiments[0].scans[0].files.values()\n",
    "list(session.projects[0].subjects[1].experiments[0].scans[0].files.values())"
   ]
  },
  {
   "cell_type": "code",
   "execution_count": 56,
   "metadata": {},
   "outputs": [
    {
     "data": {
      "text/plain": [
       "24"
      ]
     },
     "execution_count": 56,
     "metadata": {},
     "output_type": "execute_result"
    }
   ],
   "source": [
    "len(session.projects[0].subjects[1].experiments[0].scans[0].files.values())"
   ]
  },
  {
   "cell_type": "code",
   "execution_count": 37,
   "metadata": {},
   "outputs": [
    {
     "data": {
      "text/plain": [
       "<XNATListing {}>"
      ]
     },
     "execution_count": 37,
     "metadata": {},
     "output_type": "execute_result"
    }
   ],
   "source": [
    "session.projects[0].subjects[1].experiments[0].resources"
   ]
  },
  {
   "cell_type": "code",
   "execution_count": 40,
   "metadata": {},
   "outputs": [
    {
     "data": {
      "text/plain": [
       "<XNATListing {}>"
      ]
     },
     "execution_count": 40,
     "metadata": {},
     "output_type": "execute_result"
    }
   ],
   "source": [
    "session.projects[0].subjects[1].resources"
   ]
  },
  {
   "cell_type": "code",
   "execution_count": 35,
   "metadata": {},
   "outputs": [
    {
     "data": {
      "text/plain": [
       "<XNATListing {(RoiCollection_hmLLIVL_3CIMUS3xut4, AIM_20200123_145716): <RoiCollectionData AIM_20200123_145716 (RoiCollection_hmLLIVL_3CIMUS3xut4)>}>"
      ]
     },
     "execution_count": 35,
     "metadata": {},
     "output_type": "execute_result"
    }
   ],
   "source": [
    "session.projects[0].subjects[1].experiments[0].assessors"
   ]
  },
  {
   "cell_type": "code",
   "execution_count": 41,
   "metadata": {},
   "outputs": [
    {
     "data": {
      "text/plain": [
       "<RoiCollectionData AIM_20200123_145716 (RoiCollection_hmLLIVL_3CIMUS3xut4)>"
      ]
     },
     "execution_count": 41,
     "metadata": {},
     "output_type": "execute_result"
    }
   ],
   "source": [
    "session.projects[0].subjects[1].experiments[0].assessors[0]"
   ]
  },
  {
   "cell_type": "code",
   "execution_count": 47,
   "metadata": {},
   "outputs": [
    {
     "ename": "AttributeError",
     "evalue": "'RoiCollectionData' object has no attribute 'values'",
     "output_type": "error",
     "traceback": [
      "\u001b[1;31m---------------------------------------------------------------------------\u001b[0m",
      "\u001b[1;31mAttributeError\u001b[0m                            Traceback (most recent call last)",
      "\u001b[1;32m<ipython-input-47-aa0d1a7307fd>\u001b[0m in \u001b[0;36m<module>\u001b[1;34m\u001b[0m\n\u001b[1;32m----> 1\u001b[1;33m \u001b[0msession\u001b[0m\u001b[1;33m.\u001b[0m\u001b[0mprojects\u001b[0m\u001b[1;33m[\u001b[0m\u001b[1;36m0\u001b[0m\u001b[1;33m]\u001b[0m\u001b[1;33m.\u001b[0m\u001b[0msubjects\u001b[0m\u001b[1;33m[\u001b[0m\u001b[1;36m1\u001b[0m\u001b[1;33m]\u001b[0m\u001b[1;33m.\u001b[0m\u001b[0mexperiments\u001b[0m\u001b[1;33m[\u001b[0m\u001b[1;36m0\u001b[0m\u001b[1;33m]\u001b[0m\u001b[1;33m.\u001b[0m\u001b[0massessors\u001b[0m\u001b[1;33m[\u001b[0m\u001b[1;36m0\u001b[0m\u001b[1;33m]\u001b[0m\u001b[1;33m.\u001b[0m\u001b[0mvalues\u001b[0m\u001b[1;33m(\u001b[0m\u001b[1;33m)\u001b[0m\u001b[1;33m\u001b[0m\u001b[1;33m\u001b[0m\u001b[0m\n\u001b[0m",
      "\u001b[1;31mAttributeError\u001b[0m: 'RoiCollectionData' object has no attribute 'values'"
     ]
    }
   ],
   "source": [
    "session.projects[0].subjects[1].experiments[0].assessors[0].values()"
   ]
  },
  {
   "cell_type": "code",
   "execution_count": 53,
   "metadata": {},
   "outputs": [
    {
     "data": {
      "text/plain": [
       "<XNATListing {(RoiCollection_hmLLIVL_3CIMUS3xut4, AIM_20200123_145716): <RoiCollectionData AIM_20200123_145716 (RoiCollection_hmLLIVL_3CIMUS3xut4)>}>"
      ]
     },
     "execution_count": 53,
     "metadata": {},
     "output_type": "execute_result"
    }
   ],
   "source": [
    "# Define selected project and subject labels, and session number:\n",
    "projectLabel = 'BrainTumorProg'\n",
    "subjectLabel = 'PGM-002'\n",
    "sessionNo = 0 # (= 1 in XNAT web app; e.g. ‘PGM-002_MR_1’)\n",
    "\n",
    "session.projects[projectLabel].subjects[subjectLabel].experiments[sessionNo].assessors"
   ]
  },
  {
   "cell_type": "code",
   "execution_count": 54,
   "metadata": {},
   "outputs": [
    {
     "ename": "AttributeError",
     "evalue": "'XNATListing' object has no attribute 'download_dir'",
     "output_type": "error",
     "traceback": [
      "\u001b[1;31m---------------------------------------------------------------------------\u001b[0m",
      "\u001b[1;31mAttributeError\u001b[0m                            Traceback (most recent call last)",
      "\u001b[1;32m<ipython-input-54-19adfedad765>\u001b[0m in \u001b[0;36m<module>\u001b[1;34m\u001b[0m\n\u001b[1;32m----> 1\u001b[1;33m \u001b[0msession\u001b[0m\u001b[1;33m.\u001b[0m\u001b[0mprojects\u001b[0m\u001b[1;33m[\u001b[0m\u001b[0mprojectLabel\u001b[0m\u001b[1;33m]\u001b[0m\u001b[1;33m.\u001b[0m\u001b[0msubjects\u001b[0m\u001b[1;33m[\u001b[0m\u001b[0msubjectLabel\u001b[0m\u001b[1;33m]\u001b[0m\u001b[1;33m.\u001b[0m\u001b[0mexperiments\u001b[0m\u001b[1;33m[\u001b[0m\u001b[0msessionNo\u001b[0m\u001b[1;33m]\u001b[0m\u001b[1;33m.\u001b[0m\u001b[0massessors\u001b[0m\u001b[1;33m.\u001b[0m\u001b[0mdownload_dir\u001b[0m\u001b[1;33m(\u001b[0m\u001b[1;34m'ROI'\u001b[0m\u001b[1;33m)\u001b[0m\u001b[1;33m\u001b[0m\u001b[1;33m\u001b[0m\u001b[0m\n\u001b[0m",
      "\u001b[1;31mAttributeError\u001b[0m: 'XNATListing' object has no attribute 'download_dir'"
     ]
    }
   ],
   "source": [
    "session.projects[projectLabel].subjects[subjectLabel].experiments[sessionNo].assessors.download_dir('ROI')"
   ]
  },
  {
   "cell_type": "code",
   "execution_count": null,
   "metadata": {},
   "outputs": [],
   "source": []
  }
 ],
 "metadata": {
  "kernelspec": {
   "display_name": "Python 3",
   "language": "python",
   "name": "python3"
  },
  "language_info": {
   "codemirror_mode": {
    "name": "ipython",
    "version": 3
   },
   "file_extension": ".py",
   "mimetype": "text/x-python",
   "name": "python",
   "nbconvert_exporter": "python",
   "pygments_lexer": "ipython3",
   "version": "3.7.4"
  }
 },
 "nbformat": 4,
 "nbformat_minor": 2
}
