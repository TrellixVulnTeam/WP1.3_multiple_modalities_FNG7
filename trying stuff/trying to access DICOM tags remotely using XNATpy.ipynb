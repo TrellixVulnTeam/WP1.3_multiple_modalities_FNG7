{
 "cells": [
  {
   "cell_type": "markdown",
   "metadata": {},
   "source": [
    "# Trying to remotely access DICOM tags, pixel arrays from DICOMs, and ROIs from DICOM-RTSTRUCT files (without downloading the files locally first)"
   ]
  },
  {
   "cell_type": "code",
   "execution_count": 1,
   "metadata": {},
   "outputs": [
    {
     "name": "stdout",
     "output_type": "stream",
     "text": [
      "XNATpy version = 0.3.21\n"
     ]
    }
   ],
   "source": [
    "import xnat\n",
    "#xnat.__version__ # 0.3.21\n",
    "print(f'XNATpy version = {xnat.__version__}') # 0.3.21\n",
    "import SimpleITK as sitk\n",
    "import pydicom\n",
    "import dicom2nifti\n",
    "import numpy as np\n",
    "#import math\n",
    "import matplotlib.pyplot as plt\n",
    "#from matplotlib import pyplot\n",
    "import matplotlib.image as mpimg\n",
    "import os, sys, time\n",
    "import natsort\n",
    "import dicom_functions\n",
    "import explore_dicom_data\n",
    "from myshow import myshow\n",
    "import importlib"
   ]
  },
  {
   "cell_type": "markdown",
   "metadata": {},
   "source": [
    "# Connect to XNAT server:"
   ]
  },
  {
   "cell_type": "code",
   "execution_count": 2,
   "metadata": {},
   "outputs": [],
   "source": [
    "xnatAddress = 'http://10.1.1.17'\n",
    "\n",
    "session = xnat.connect(xnatAddress, user='admin', password='admin')\n",
    "#session = xnat.connect(xnatAddress, user='admin', password='admin', debug=True)"
   ]
  },
  {
   "cell_type": "markdown",
   "metadata": {},
   "source": [
    "# Define the REST path variables:"
   ]
  },
  {
   "cell_type": "code",
   "execution_count": 3,
   "metadata": {},
   "outputs": [],
   "source": [
    "# Define selected project and subject labels, and session number:\n",
    "projectLabel = 'BrainTumorProg'\n",
    "subjectLabel = 'PGM-002'\n",
    "experimentNo = 0 # (= 1 in XNAT web app; e.g. ‘PGM-002_MR_1’)\n",
    "scanNo = 0 # 0 -> T1post"
   ]
  },
  {
   "cell_type": "markdown",
   "metadata": {},
   "source": [
    "# Try to access DICOM tags and pixel arrays without downloading the files:"
   ]
  },
  {
   "cell_type": "code",
   "execution_count": 4,
   "metadata": {},
   "outputs": [
    {
     "data": {
      "text/plain": [
       "<MrScanData T1post (11)>"
      ]
     },
     "execution_count": 4,
     "metadata": {},
     "output_type": "execute_result"
    }
   ],
   "source": [
    "scans = session.projects[projectLabel].subjects[subjectLabel].experiments[experimentNo].scans[scanNo]\n",
    "\n",
    "scans"
   ]
  },
  {
   "cell_type": "code",
   "execution_count": 5,
   "metadata": {},
   "outputs": [
    {
     "data": {
      "text/plain": [
       "(0008, 0005) Specific Character Set              CS: 'ISO_IR 100'\n",
       "(0008, 0008) Image Type                          CS: ['ORIGINAL', 'PRIMARY', 'OTHER']\n",
       "(0008, 0016) SOP Class UID                       UI: MR Image Storage\n",
       "(0008, 0018) SOP Instance UID                    UI: 1.3.6.1.4.1.14519.5.2.1.4429.7055.261648268414748489539476953118\n",
       "(0008, 0020) Study Date                          DA: '19960813'\n",
       "(0008, 0021) Series Date                         DA: '19960813'\n",
       "(0008, 0022) Acquisition Date                    DA: '19960813'\n",
       "(0008, 0023) Content Date                        DA: '19960813'\n",
       "(0008, 0030) Study Time                          TM: '164104.000000'\n",
       "(0008, 0031) Series Time                         TM: '162908'\n",
       "(0008, 0032) Acquisition Time                    TM: '162908'\n",
       "(0008, 0033) Content Time                        TM: '162908'\n",
       "(0008, 0050) Accession Number                    SH: '7351166753651521'\n",
       "(0008, 0060) Modality                            CS: 'MR'\n",
       "(0008, 0070) Manufacturer                        LO: 'GE MEDICAL SYSTEMS'\n",
       "(0008, 0090) Referring Physician's Name          PN: ''\n",
       "(0008, 1030) Study Description                   LO: 'BrainTumorProg'\n",
       "(0008, 103e) Series Description                  LO: 'T1post'\n",
       "(0008, 1090) Manufacturer's Model Name           LO: 'Optima MR450w'\n",
       "(0008, 1111)  Referenced Performed Procedure Step Sequence   1 item(s) ---- \n",
       "   (0008, 1150) Referenced SOP Class UID            UI: Modality Performed Procedure Step SOP Class\n",
       "   (0008, 1155) Referenced SOP Instance UID         UI: 1.3.6.1.4.1.14519.5.2.1.4429.7055.302317560745690235570146159072\n",
       "   ---------\n",
       "(0008, 1140)  Referenced Image Sequence   3 item(s) ---- \n",
       "   (0008, 1150) Referenced SOP Class UID            UI: MR Image Storage\n",
       "   (0008, 1155) Referenced SOP Instance UID         UI: 1.3.6.1.4.1.14519.5.2.1.4429.7055.161698063235862217165787373822\n",
       "   ---------\n",
       "   (0008, 1150) Referenced SOP Class UID            UI: MR Image Storage\n",
       "   (0008, 1155) Referenced SOP Instance UID         UI: 1.3.6.1.4.1.14519.5.2.1.4429.7055.155739786649826025789527740248\n",
       "   ---------\n",
       "   (0008, 1150) Referenced SOP Class UID            UI: MR Image Storage\n",
       "   (0008, 1155) Referenced SOP Instance UID         UI: 1.3.6.1.4.1.14519.5.2.1.4429.7055.317738028801950631000485188238\n",
       "   ---------\n",
       "(0008, 2111) Derivation Description              ST: '2:1 JPEGLOSSLESSPROCFIRSTORDERREDICT'\n",
       "(0009, 0010) Private Creator                     LO: 'GEMS_IDEN_01'\n",
       "(0009, 1002) [Suite id]                          SH: 'MR01'\n",
       "(0009, 1004) [Product id]                        SH: 'SIGNA'\n",
       "(0009, 10e3) [Equipment UID]                     UI: 1.3.6.1.4.1.14519.5.2.1.4429.7055.210993166246545044470906103997\n",
       "(0010, 0010) Patient's Name                      PN: 'PGM-002'\n",
       "(0010, 0020) Patient ID                          LO: 'PGM-002_MR_1'\n",
       "(0010, 0030) Patient's Birth Date                DA: ''\n",
       "(0010, 0040) Patient's Sex                       CS: 'M'\n",
       "(0010, 1010) Patient's Age                       AS: '072Y'\n",
       "(0010, 1020) Patient's Size                      DS: \"1.803\"\n",
       "(0010, 1030) Patient's Weight                    DS: \"80.74\"\n",
       "(0010, 21b0) Additional Patient History          LT: ''\n",
       "(0012, 0062) Patient Identity Removed            CS: 'YES'\n",
       "(0012, 0063) De-identification Method            LO: 'Per DICOM PS 3.15 AnnexE. Details in 0012,0064'\n",
       "(0012, 0064)  De-identification Method Code Sequence   8 item(s) ---- \n",
       "   (0008, 0100) Code Value                          SH: '113100'\n",
       "   (0008, 0102) Coding Scheme Designator            SH: 'DCM'\n",
       "   (0008, 0104) Code Meaning                        LO: 'Basic Application Confidentiality Profile'\n",
       "   ---------\n",
       "   (0008, 0100) Code Value                          SH: '113101'\n",
       "   (0008, 0102) Coding Scheme Designator            SH: 'DCM'\n",
       "   (0008, 0104) Code Meaning                        LO: 'Clean Pixel Data Option'\n",
       "   ---------\n",
       "   (0008, 0100) Code Value                          SH: '113104'\n",
       "   (0008, 0102) Coding Scheme Designator            SH: 'DCM'\n",
       "   (0008, 0104) Code Meaning                        LO: 'Clean Structured Content Option'\n",
       "   ---------\n",
       "   (0008, 0100) Code Value                          SH: '113105'\n",
       "   (0008, 0102) Coding Scheme Designator            SH: 'DCM'\n",
       "   (0008, 0104) Code Meaning                        LO: 'Clean Descriptors Option'\n",
       "   ---------\n",
       "   (0008, 0100) Code Value                          SH: '113107'\n",
       "   (0008, 0102) Coding Scheme Designator            SH: 'DCM'\n",
       "   (0008, 0104) Code Meaning                        LO: 'Retain Longitudinal Temporal Information Modified Dates Option'\n",
       "   ---------\n",
       "   (0008, 0100) Code Value                          SH: '113108'\n",
       "   (0008, 0102) Coding Scheme Designator            SH: 'DCM'\n",
       "   (0008, 0104) Code Meaning                        LO: 'Retain Patient Characteristics Option'\n",
       "   ---------\n",
       "   (0008, 0100) Code Value                          SH: '113109'\n",
       "   (0008, 0102) Coding Scheme Designator            SH: 'DCM'\n",
       "   (0008, 0104) Code Meaning                        LO: 'Retain Device Identity Option'\n",
       "   ---------\n",
       "   (0008, 0100) Code Value                          SH: '113111'\n",
       "   (0008, 0102) Coding Scheme Designator            SH: 'DCM'\n",
       "   (0008, 0104) Code Meaning                        LO: 'Retain Safe Private Option'\n",
       "   ---------\n",
       "(0013, 0010) Private Creator                     LO: 'CTP'\n",
       "(0013, 1010) Private tag data                    LO: 'Brain-Tumor-Progression'\n",
       "(0013, 1013) Private tag data                    LO: '44297055'\n",
       "(0018, 0010) Contrast/Bolus Agent                LO: '9 mL  Multihance'\n",
       "(0018, 0015) Body Part Examined                  CS: 'BRAIN'\n",
       "(0018, 0020) Scanning Sequence                   CS: 'SE'\n",
       "(0018, 0021) Sequence Variant                    CS: 'NONE'\n",
       "(0018, 0022) Scan Options                        CS: ['EDR_GEMS', 'FILTERED_GEMS', 'PFF']\n",
       "(0018, 0023) MR Acquisition Type                 CS: '2D'\n",
       "(0018, 0025) Angio Flag                          CS: 'N'\n",
       "(0018, 0050) Slice Thickness                     DS: \"5\"\n",
       "(0018, 0080) Repetition Time                     DS: \"666.668\"\n",
       "(0018, 0081) Echo Time                           DS: \"9\"\n",
       "(0018, 0083) Number of Averages                  DS: \"1\"\n",
       "(0018, 0084) Imaging Frequency                   DS: \"63.903506\"\n",
       "(0018, 0085) Imaged Nucleus                      SH: '1H'\n",
       "(0018, 0086) Echo Number(s)                      IS: \"1\"\n",
       "(0018, 0087) Magnetic Field Strength             DS: \"1.5\"\n",
       "(0018, 0088) Spacing Between Slices              DS: \"6.5\"\n",
       "(0018, 0091) Echo Train Length                   IS: \"1\"\n",
       "(0018, 0093) Percent Sampling                    DS: \"100\"\n",
       "(0018, 0094) Percent Phase Field of View         DS: \"100\"\n",
       "(0018, 0095) Pixel Bandwidth                     DS: \"61.0547\"\n",
       "(0018, 1020) Software Version(s)                 LO: ['25', 'LX', 'MR Software release:DV25.0_R01_1451.a']\n",
       "(0018, 1030) Protocol Name                       LO: 'Brain - RCBV'\n",
       "(0018, 1040) Contrast/Bolus Route                LO: 'IV'\n",
       "(0018, 1088) Heart Rate                          IS: \"0\"\n",
       "(0018, 1090) Cardiac Number of Images            IS: \"0\"\n",
       "(0018, 1094) Trigger Window                      IS: \"0\"\n",
       "(0018, 1100) Reconstruction Diameter             DS: \"220\"\n",
       "(0018, 1250) Receive Coil Name                   SH: 'Head 24'\n",
       "(0018, 1310) Acquisition Matrix                  US: [0, 320, 192, 0]\n",
       "(0018, 1312) In-plane Phase Encoding Direction   CS: 'ROW'\n",
       "(0018, 1314) Flip Angle                          DS: \"90\"\n",
       "(0018, 1315) Variable Flip Angle Flag            CS: 'N'\n",
       "(0018, 1316) SAR                                 DS: \"0.803269\"\n",
       "(0018, 5100) Patient Position                    CS: 'HFS'\n",
       "(0019, 0010) Private Creator                     LO: 'GEMS_ACQU_01'\n",
       "(0019, 100f) [Horiz. Frame of ref.]              DS: \"332.799988\"\n",
       "(0019, 1011) [Series contrast]                   SS: 2\n",
       "(0019, 1012) [Last pseq]                         SS: 0\n",
       "(0019, 1017) [Series plane]                      SS: 16\n",
       "(0019, 1018) [First scan ras]                    LO: 'I'\n",
       "(0019, 1019) [First scan location]               DS: \"-67.5148\"\n",
       "(0019, 101a) [Last scan ras]                     LO: 'S'\n",
       "(0019, 101b) [Last scan loc]                     DS: \"66.7264\"\n",
       "(0019, 101e) [Display field of view]             DS: \"220.000000\"\n",
       "(0019, 105a) [Acquisition Duration]              FL: 137383616.0\n",
       "(0019, 107d) [Second echo]                       DS: \"0\"\n",
       "(0019, 107e) [Number of echoes]                  SS: 1\n",
       "(0019, 107f) [Table delta]                       DS: \"0.000000\"\n",
       "(0019, 1081) [Contiguous]                        SS: 1\n",
       "(0019, 1084) [Peak SAR]                          DS: \"1.606539\"\n",
       "(0019, 1087) [Cardiac repetition time]           DS: \"0.000000\"\n",
       "(0019, 1088) [Images per cardiac cycle]          SS: 0\n",
       "(0019, 108a) [Actual receive gain analog]        SS: 8\n",
       "(0019, 108b) [Actual receive gain digital]       SS: 30\n",
       "(0019, 108d) [Delay after trigger]               DS: \"0\"\n",
       "(0019, 108f) [Swappf]                            SS: 0\n",
       "(0019, 1090) [Pause Interval]                    SS: 0\n",
       "(0019, 1091) [Pause Time]                        DS: \"0.000000\"\n",
       "(0019, 1092) [Slice offset on freq axis]         SL: 0\n",
       "(0019, 1093) [Auto Prescan Center Frequency]     DS: \"639035060\"\n",
       "(0019, 1094) [Auto Prescan Transmit Gain]        SS: 146\n",
       "(0019, 1095) [Auto Prescan Analog receiver gain] SS: 8\n",
       "(0019, 1096) [Auto Prescan Digital receiver gain SS: 30\n",
       "(0019, 1097) [Bitmap defining CVs]               SL: 16\n",
       "(0019, 109b) [Pulse Sequence Mode]               SS: 1\n",
       "(0019, 109c) [Pulse Sequence Name]               LO: 'memp'\n",
       "(0019, 109d) [Pulse Sequence Date]               DT: '19950530185353'\n",
       "(0019, 109e) [Internal Pulse Sequence Name]      LO: 'MEMP'\n",
       "(0019, 109f) [Transmitting Coil Type]            SS: 3\n",
       "(0019, 10a0) [Surface Coil Type]                 SS: 0\n",
       "(0019, 10a1) [Extremity Coil flag]               SS: 0\n",
       "(0019, 10a2) [Raw data run number]               SL: 52736\n",
       "(0019, 10a3) [Calibrated Field strength]         UL: 0\n",
       "(0019, 10a4) [SAT fat/water/bone]                SS: 0\n",
       "(0019, 10be) [Projection angle]                  DS: \"0.000000\"\n",
       "(0019, 10c0) [Saturation planes]                 SS: 0\n",
       "(0019, 10c2) [SAT location R]                    SS: 9990\n",
       "(0019, 10c3) [SAT location L]                    SS: 9990\n",
       "(0019, 10c4) [SAT location A]                    SS: 9990\n",
       "(0019, 10c5) [SAT location P]                    SS: 9990\n",
       "(0019, 10c6) [SAT location H]                    SS: 9990\n",
       "(0019, 10c7) [SAT location F]                    SS: 9990\n",
       "(0019, 10c8) [SAT thickness R/L]                 SS: 0\n",
       "(0019, 10c9) [SAT thickness A/P]                 SS: 0\n",
       "(0019, 10ca) [SAT thickness H/F]                 SS: 0\n",
       "(0019, 10cb) [Phase Contrast flow axis]          SS: 0\n",
       "(0019, 10cc) [Velocity encoding]                 SS: 0\n",
       "(0019, 10cd) [Thickness disclaimer]              SS: 0\n",
       "(0019, 10ce) [Prescan type]                      SS: 2\n",
       "(0019, 10cf) [Prescan status]                    SS: 0\n",
       "(0019, 10d2) [Projection Algorithm]              SS: 0\n",
       "(0019, 10d3) [Projection Algorithm Name]         SH: ''\n",
       "(0019, 10d5) [Fractional echo]                   SS: 1\n",
       "(0019, 10d7) [Cardiac phase number]              SS: 0\n",
       "(0019, 10d8) [Variable echoflag]                 SS: 0\n",
       "(0019, 10d9) [Concatenated SAT {# DTI Diffusion  DS: \"0.000000\"\n",
       "(0019, 10e2) [Velocity Encode Scale]             DS: \"0.000000\"\n",
       "(0019, 10f2) [Fast phases]                       SS: 0\n",
       "(0019, 10f9) [Transmit gain]                     DS: \"146\"\n",
       "(0020, 000d) Study Instance UID                  UI: 1.3.6.1.4.1.14519.5.2.1.4429.7055.331058148523327901159449546313\n",
       "(0020, 000e) Series Instance UID                 UI: 1.3.6.1.4.1.14519.5.2.1.4429.7055.318140066822631026134411973420\n",
       "(0020, 0010) Study ID                            SH: ''\n",
       "(0020, 0011) Series Number                       IS: \"11\"\n",
       "(0020, 0012) Acquisition Number                  IS: \"1\"\n",
       "(0020, 0013) Instance Number                     IS: \"1\"\n",
       "(0020, 0032) Image Position (Patient)            DS: ['-115.545', '-132.514', '-54.8027']\n",
       "(0020, 0037) Image Orientation (Patient)         DS: ['0.997673', '-0.03833', '0.056381', '0.0475315', '0.98392', '-0.172172']\n",
       "(0020, 0052) Frame of Reference UID              UI: 1.3.6.1.4.1.14519.5.2.1.4429.7055.250487807866145927413117906224\n",
       "(0020, 0060) Laterality                          CS: ''\n",
       "(0020, 1002) Images in Acquisition               IS: \"22\"\n",
       "(0020, 1040) Position Reference Indicator        LO: ''\n",
       "(0020, 1041) Slice Location                      DS: \"-67.5147934\"\n",
       "(0020, 9056) Stack ID                            SH: '1'\n",
       "(0020, 9057) In-Stack Position Number            UL: 1\n",
       "(0021, 0010) Private Creator                     LO: 'GEMS_RELA_01'\n",
       "(0021, 1036) [Image from which prescribed]       SS: 11\n",
       "(0021, 104f) [Locations in acquisition]          SS: 22\n",
       "(0021, 1050) [Graphically prescribed]            SS: 0\n",
       "(0021, 1051) [Rotation from source x rot]        DS: \"0.000000\"\n",
       "(0021, 1052) [Rotation from source y rot]        DS: \"0.000000\"\n",
       "(0021, 1053) [Rotation from source z rot]        DS: \"0.000000\"\n",
       "(0021, 1056) [Num 3D slabs]                      SL: 0\n",
       "(0021, 1057) [Locs per 3D slab]                  SL: 0\n",
       "(0021, 1058) [Overlaps]                          SL: 0\n",
       "(0021, 1059) [Image Filtering 0.5/0.2T]          SL: 0\n",
       "(0021, 105a) [Diffusion direction]               SL: 0\n",
       "(0021, 105b) [Tagging Flip Angle]                DS: \"0.000000\"\n",
       "(0021, 105c) [Tagging Orientation]               DS: \"0.000000\"\n",
       "(0021, 105d) [Tag Spacing]                       DS: \"0.000000\"\n",
       "(0021, 105e) [RTIA_timer]                        DS: \"0.000000\"\n",
       "(0021, 105f) [Fps]                               DS: \"0.000000\"\n",
       "(0021, 1081) [Auto window/level alpha]           DS: \"0\"\n",
       "(0021, 1082) [Auto window/level beta]            DS: \"0\"\n",
       "(0021, 1083) [Auto window/level window]          DS: \"0\"\n",
       "(0021, 1084) [Auto window/level level]           DS: \"0\"\n",
       "(0023, 0010) Private Creator                     LO: 'GEMS_STDY_01'\n",
       "(0023, 1074) [No. of updates to header]          SL: 0\n",
       "(0023, 107d) [Indicates study has complete info  SS: 0\n",
       "(0025, 0010) Private Creator                     LO: 'GEMS_SERS_01'\n",
       "(0025, 1006) [Last pulse sequence used]          SS: 0\n",
       "(0025, 1007) [Images in Series]                  SL: 22\n",
       "(0025, 1010) [Landmark Counter]                  SL: 0\n",
       "(0025, 1011) [Number of Acquisitions]            SS: 1\n",
       "(0025, 1014) [Indicates no. of updates to header SL: 0\n",
       "(0025, 1017) [Series Complete Flag]              SL: 0\n",
       "(0025, 1018) [Number of images archived]         SL: 0\n",
       "(0025, 1019) [Last image number used]            SL: 22\n",
       "(0027, 0010) Private Creator                     LO: 'GEMS_IMAG_01'\n",
       "(0027, 1010) [Scout Type]                        SS: 0\n",
       "(0027, 1030) [Foreign Image Revision]            SH: ''\n",
       "(0027, 1031) [Imaging Mode]                      SS: 1\n",
       "(0027, 1032) [Pulse Sequence]                    SS: 0\n",
       "(0027, 1033) [Imaging Options]                   UL: 2048\n",
       "(0027, 1035) [Plane Type]                        SS: 16\n",
       "(0027, 1040) [RAS letter of image location]      SH: 'I'\n",
       "(0027, 1041) [Image location]                    FL: -67.5147933959961\n",
       "(0027, 1060) [Image dimension - X]               FL: 320.0\n",
       "(0027, 1061) [Image dimension - Y]               FL: 192.0\n",
       "(0027, 1062) [Number of Excitations]             FL: 1.0\n",
       "(0028, 0002) Samples per Pixel                   US: 1\n",
       "(0028, 0004) Photometric Interpretation          CS: 'MONOCHROME2'\n",
       "(0028, 0010) Rows                                US: 512\n",
       "(0028, 0011) Columns                             US: 512\n",
       "(0028, 0030) Pixel Spacing                       DS: ['0.4297', '0.4297']\n",
       "(0028, 0100) Bits Allocated                      US: 16\n",
       "(0028, 0101) Bits Stored                         US: 16\n",
       "(0028, 0102) High Bit                            US: 15\n",
       "(0028, 0103) Pixel Representation                US: 1\n",
       "(0028, 0106) Smallest Image Pixel Value          SS: 0\n",
       "(0028, 0107) Largest Image Pixel Value           SS: 3571\n",
       "(0028, 0303) Longitudinal Temporal Information M CS: 'MODIFIED'\n",
       "(0028, 1050) Window Center                       DS: \"1785\"\n",
       "(0028, 1051) Window Width                        DS: \"3571\"\n",
       "(0028, 2110) Lossy Image Compression             CS: '00'\n",
       "(0029, 0010) Private Creator                     LO: 'GEMS_IMPS_01'\n",
       "(0029, 1015) [Lower range of Pixels1]            SL: 0\n",
       "(0029, 1016) [Upper range of Pixels1]            SL: 0\n",
       "(0029, 1017) [Lower range of Pixels2]            SL: 0\n",
       "(0029, 1018) [Upper range of Pixels2]            SL: 0\n",
       "(0029, 1026) [Version of the hdr struct]         SS: 2\n",
       "(0029, 1034) [Advantage comp. Overflow]          SL: 16384\n",
       "(0029, 1035) [Advantage comp. Underflow]         SL: 0\n",
       "(0040, 0244) Performed Procedure Step Start Date DA: '19960813'\n",
       "(0040, 0245) Performed Procedure Step Start Time TM: '153500'\n",
       "(0040, 0254) Performed Procedure Step Descriptio LO: 'MR RCBV SEQUENCE'\n",
       "(0043, 0010) Private Creator                     LO: 'GEMS_PARM_01'\n",
       "(0043, 1001) [Bitmap of prescan options]         SS: 4\n",
       "(0043, 1002) [Gradient offset in X]              SS: 5\n",
       "(0043, 1003) [Gradient offset in Y]              SS: 6\n",
       "(0043, 1004) [Gradient offset in Z]              SS: -37\n",
       "(0043, 1006) [Number of EPI shots]               SS: 0\n",
       "(0043, 1007) [Views per segment]                 SS: 0\n",
       "(0043, 1008) [Respiratory rate, bpm]             SS: 0\n",
       "(0043, 1009) [Respiratory trigger point]         SS: 0\n",
       "(0043, 100a) [Type of receiver used]             SS: 1\n",
       "(0043, 100b) [DB/dt Peak rate of change of gradi DS: \"0.000000\"\n",
       "(0043, 100c) [dB/dt Limits in units of percent]  DS: \"100.000000\"\n",
       "(0043, 100d) [PSD estimated limit]               DS: \"0.000000\"\n",
       "(0043, 100e) [PSD estimated limit in tesla per s DS: \"0.000000\"\n",
       "(0043, 1010) [Window value]                      US: 0\n",
       "(0043, 101c) [GE image integrity]                SS: 0\n",
       "(0043, 101d) [Level value]                       SS: 0\n",
       "(0043, 102c) [Effective echo spacing]            SS: 0\n",
       "(0043, 102d) [Filter Mode (String slop field 1 i SH: 's'\n",
       "(0043, 102e) [String slop field 2]               SH: ''\n",
       "(0043, 102f) [Image Type (real, imaginary, phase SS: 0\n",
       "(0043, 1032) [Vas flags]                         SS: 2\n",
       "(0043, 1033) [Neg_scanspacing]                   FL: 0.0\n",
       "(0043, 1034) [Offset Frequency]                  IS: \"0\"\n",
       "(0043, 1035) [User_usage_tag]                    UL: 0\n",
       "(0043, 1036) [User_fill_map_MSW]                 UL: 0\n",
       "(0043, 1037) [User_fill_map_LSW]                 UL: 0\n",
       "(0043, 1038) [User data 25...User data 48 {User4 FL: Array of 24 elements\n",
       "(0043, 1039) [Slop_int_6... slop_int_9]          IS: ['0', '0', '0', '0']\n",
       "(0043, 107d) [Recon mode flag word]              US: 1\n",
       "(0043, 1081) [GE Coil Name]                      LO: 'C-Head 24'\n",
       "(0043, 1083) [Asset R Factors]                   DS: ['1', '1']\n",
       "(0043, 1084) [Additional Asset Data]             LO: ['10000', '0', '-1', '0', '', 'NO', '']\n",
       "(0043, 1088) [PURE Acquisition Calibration Serie UI: 1.3.6.1.4.1.14519.5.2.1.4429.7055.586859399478466253236208807280\n",
       "(0043, 1089) [Governing Body, dB/dt, and SAR def LO: ['FDA', 'IEC_FIRST_LEVEL', 'IEC_FIRST_LEVEL']\n",
       "(0043, 108a) [Private In-Plane Phase Encoding Di CS: 'ROW'\n",
       "(0043, 1090) [SAR Definition]                    LO: ['WHOLE_BODY_6_MIN', 'LOCAL_PEAK_6_MIN', 'PARTIAL_BODY_6MIN']\n",
       "(0043, 1091) [SAR value]                         DS: ['0.8033', '1.60654', '0.803269']\n",
       "(0043, 1095) [Prescan Reuse String]              LO: 'CF/s4,AS/s4'\n",
       "(0043, 1096) [Content Qualification]             CS: 'RESEARCH'\n",
       "(0043, 1097) [Image Filtering Parameters]        LO: ['3', '1', '1.5 0.2 0.2 6 128 0.6 1.5', '1.5 0.2 0.2 6 128 0.6 1.5', '1.5 0.2 0.2 6 128 0.6 1.5', '100', '0', '0', 'rev=1;a=75;b=2;c=32;d=8;e=3;f=2;g=1;h=10']\n",
       "(0043, 109a) [Rx Stack Identification]           IS: \"1\"\n",
       "(3711, 0010) Private Creator                     LO: 'A.L.I. Technologies, Inc.'\n",
       "(3711, 100c) [Original Study UID]                UI: 1.3.6.1.4.1.14519.5.2.1.4429.7055.331058148523327901159449546313"
      ]
     },
     "execution_count": 5,
     "metadata": {},
     "output_type": "execute_result"
    }
   ],
   "source": [
    "# This reads only the header and not the pixel data:\n",
    "# (see:\n",
    "# https://xnat.readthedocs.io/en/latest/static/tutorial.html#accessing-xnat-files-as-local-files-partial-read)\n",
    "# )\n",
    "scans.read_dicom()"
   ]
  },
  {
   "cell_type": "code",
   "execution_count": 6,
   "metadata": {},
   "outputs": [
    {
     "data": {
      "text/plain": [
       "(0008, 0005) Specific Character Set              CS: 'ISO_IR 100'\n",
       "(0008, 0008) Image Type                          CS: ['ORIGINAL', 'PRIMARY', 'OTHER']\n",
       "(0008, 0016) SOP Class UID                       UI: MR Image Storage\n",
       "(0008, 0018) SOP Instance UID                    UI: 1.3.6.1.4.1.14519.5.2.1.4429.7055.261648268414748489539476953118\n",
       "(0008, 0020) Study Date                          DA: '19960813'\n",
       "(0008, 0021) Series Date                         DA: '19960813'\n",
       "(0008, 0022) Acquisition Date                    DA: '19960813'\n",
       "(0008, 0023) Content Date                        DA: '19960813'\n",
       "(0008, 0030) Study Time                          TM: '164104.000000'\n",
       "(0008, 0031) Series Time                         TM: '162908'\n",
       "(0008, 0032) Acquisition Time                    TM: '162908'\n",
       "(0008, 0033) Content Time                        TM: '162908'\n",
       "(0008, 0050) Accession Number                    SH: '7351166753651521'\n",
       "(0008, 0060) Modality                            CS: 'MR'\n",
       "(0008, 0070) Manufacturer                        LO: 'GE MEDICAL SYSTEMS'\n",
       "(0008, 0090) Referring Physician's Name          PN: ''\n",
       "(0008, 1030) Study Description                   LO: 'BrainTumorProg'\n",
       "(0008, 103e) Series Description                  LO: 'T1post'\n",
       "(0008, 1090) Manufacturer's Model Name           LO: 'Optima MR450w'\n",
       "(0008, 1111)  Referenced Performed Procedure Step Sequence   1 item(s) ---- \n",
       "   (0008, 1150) Referenced SOP Class UID            UI: Modality Performed Procedure Step SOP Class\n",
       "   (0008, 1155) Referenced SOP Instance UID         UI: 1.3.6.1.4.1.14519.5.2.1.4429.7055.302317560745690235570146159072\n",
       "   ---------\n",
       "(0008, 1140)  Referenced Image Sequence   3 item(s) ---- \n",
       "   (0008, 1150) Referenced SOP Class UID            UI: MR Image Storage\n",
       "   (0008, 1155) Referenced SOP Instance UID         UI: 1.3.6.1.4.1.14519.5.2.1.4429.7055.161698063235862217165787373822\n",
       "   ---------\n",
       "   (0008, 1150) Referenced SOP Class UID            UI: MR Image Storage\n",
       "   (0008, 1155) Referenced SOP Instance UID         UI: 1.3.6.1.4.1.14519.5.2.1.4429.7055.155739786649826025789527740248\n",
       "   ---------\n",
       "   (0008, 1150) Referenced SOP Class UID            UI: MR Image Storage\n",
       "   (0008, 1155) Referenced SOP Instance UID         UI: 1.3.6.1.4.1.14519.5.2.1.4429.7055.317738028801950631000485188238\n",
       "   ---------\n",
       "(0008, 2111) Derivation Description              ST: '2:1 JPEGLOSSLESSPROCFIRSTORDERREDICT'\n",
       "(0009, 0010) Private Creator                     LO: 'GEMS_IDEN_01'\n",
       "(0009, 1002) [Suite id]                          SH: 'MR01'\n",
       "(0009, 1004) [Product id]                        SH: 'SIGNA'\n",
       "(0009, 10e3) [Equipment UID]                     UI: 1.3.6.1.4.1.14519.5.2.1.4429.7055.210993166246545044470906103997\n",
       "(0010, 0010) Patient's Name                      PN: 'PGM-002'\n",
       "(0010, 0020) Patient ID                          LO: 'PGM-002_MR_1'\n",
       "(0010, 0030) Patient's Birth Date                DA: ''\n",
       "(0010, 0040) Patient's Sex                       CS: 'M'\n",
       "(0010, 1010) Patient's Age                       AS: '072Y'\n",
       "(0010, 1020) Patient's Size                      DS: \"1.803\"\n",
       "(0010, 1030) Patient's Weight                    DS: \"80.74\"\n",
       "(0010, 21b0) Additional Patient History          LT: ''\n",
       "(0012, 0062) Patient Identity Removed            CS: 'YES'\n",
       "(0012, 0063) De-identification Method            LO: 'Per DICOM PS 3.15 AnnexE. Details in 0012,0064'\n",
       "(0012, 0064)  De-identification Method Code Sequence   8 item(s) ---- \n",
       "   (0008, 0100) Code Value                          SH: '113100'\n",
       "   (0008, 0102) Coding Scheme Designator            SH: 'DCM'\n",
       "   (0008, 0104) Code Meaning                        LO: 'Basic Application Confidentiality Profile'\n",
       "   ---------\n",
       "   (0008, 0100) Code Value                          SH: '113101'\n",
       "   (0008, 0102) Coding Scheme Designator            SH: 'DCM'\n",
       "   (0008, 0104) Code Meaning                        LO: 'Clean Pixel Data Option'\n",
       "   ---------\n",
       "   (0008, 0100) Code Value                          SH: '113104'\n",
       "   (0008, 0102) Coding Scheme Designator            SH: 'DCM'\n",
       "   (0008, 0104) Code Meaning                        LO: 'Clean Structured Content Option'\n",
       "   ---------\n",
       "   (0008, 0100) Code Value                          SH: '113105'\n",
       "   (0008, 0102) Coding Scheme Designator            SH: 'DCM'\n",
       "   (0008, 0104) Code Meaning                        LO: 'Clean Descriptors Option'\n",
       "   ---------\n",
       "   (0008, 0100) Code Value                          SH: '113107'\n",
       "   (0008, 0102) Coding Scheme Designator            SH: 'DCM'\n",
       "   (0008, 0104) Code Meaning                        LO: 'Retain Longitudinal Temporal Information Modified Dates Option'\n",
       "   ---------\n",
       "   (0008, 0100) Code Value                          SH: '113108'\n",
       "   (0008, 0102) Coding Scheme Designator            SH: 'DCM'\n",
       "   (0008, 0104) Code Meaning                        LO: 'Retain Patient Characteristics Option'\n",
       "   ---------\n",
       "   (0008, 0100) Code Value                          SH: '113109'\n",
       "   (0008, 0102) Coding Scheme Designator            SH: 'DCM'\n",
       "   (0008, 0104) Code Meaning                        LO: 'Retain Device Identity Option'\n",
       "   ---------\n",
       "   (0008, 0100) Code Value                          SH: '113111'\n",
       "   (0008, 0102) Coding Scheme Designator            SH: 'DCM'\n",
       "   (0008, 0104) Code Meaning                        LO: 'Retain Safe Private Option'\n",
       "   ---------\n",
       "(0013, 0010) Private Creator                     LO: 'CTP'\n",
       "(0013, 1010) Private tag data                    LO: 'Brain-Tumor-Progression'\n",
       "(0013, 1013) Private tag data                    LO: '44297055'\n",
       "(0018, 0010) Contrast/Bolus Agent                LO: '9 mL  Multihance'\n",
       "(0018, 0015) Body Part Examined                  CS: 'BRAIN'\n",
       "(0018, 0020) Scanning Sequence                   CS: 'SE'\n",
       "(0018, 0021) Sequence Variant                    CS: 'NONE'\n",
       "(0018, 0022) Scan Options                        CS: ['EDR_GEMS', 'FILTERED_GEMS', 'PFF']\n",
       "(0018, 0023) MR Acquisition Type                 CS: '2D'\n",
       "(0018, 0025) Angio Flag                          CS: 'N'\n",
       "(0018, 0050) Slice Thickness                     DS: \"5\"\n",
       "(0018, 0080) Repetition Time                     DS: \"666.668\"\n",
       "(0018, 0081) Echo Time                           DS: \"9\"\n",
       "(0018, 0083) Number of Averages                  DS: \"1\"\n",
       "(0018, 0084) Imaging Frequency                   DS: \"63.903506\"\n",
       "(0018, 0085) Imaged Nucleus                      SH: '1H'\n",
       "(0018, 0086) Echo Number(s)                      IS: \"1\"\n",
       "(0018, 0087) Magnetic Field Strength             DS: \"1.5\"\n",
       "(0018, 0088) Spacing Between Slices              DS: \"6.5\"\n",
       "(0018, 0091) Echo Train Length                   IS: \"1\"\n",
       "(0018, 0093) Percent Sampling                    DS: \"100\"\n",
       "(0018, 0094) Percent Phase Field of View         DS: \"100\"\n",
       "(0018, 0095) Pixel Bandwidth                     DS: \"61.0547\"\n",
       "(0018, 1020) Software Version(s)                 LO: ['25', 'LX', 'MR Software release:DV25.0_R01_1451.a']\n",
       "(0018, 1030) Protocol Name                       LO: 'Brain - RCBV'\n",
       "(0018, 1040) Contrast/Bolus Route                LO: 'IV'\n",
       "(0018, 1088) Heart Rate                          IS: \"0\"\n",
       "(0018, 1090) Cardiac Number of Images            IS: \"0\"\n",
       "(0018, 1094) Trigger Window                      IS: \"0\"\n",
       "(0018, 1100) Reconstruction Diameter             DS: \"220\"\n",
       "(0018, 1250) Receive Coil Name                   SH: 'Head 24'\n",
       "(0018, 1310) Acquisition Matrix                  US: [0, 320, 192, 0]\n",
       "(0018, 1312) In-plane Phase Encoding Direction   CS: 'ROW'\n",
       "(0018, 1314) Flip Angle                          DS: \"90\"\n",
       "(0018, 1315) Variable Flip Angle Flag            CS: 'N'\n",
       "(0018, 1316) SAR                                 DS: \"0.803269\"\n",
       "(0018, 5100) Patient Position                    CS: 'HFS'\n",
       "(0019, 0010) Private Creator                     LO: 'GEMS_ACQU_01'\n",
       "(0019, 100f) [Horiz. Frame of ref.]              DS: \"332.799988\"\n",
       "(0019, 1011) [Series contrast]                   SS: 2\n",
       "(0019, 1012) [Last pseq]                         SS: 0\n",
       "(0019, 1017) [Series plane]                      SS: 16\n",
       "(0019, 1018) [First scan ras]                    LO: 'I'\n",
       "(0019, 1019) [First scan location]               DS: \"-67.5148\"\n",
       "(0019, 101a) [Last scan ras]                     LO: 'S'\n",
       "(0019, 101b) [Last scan loc]                     DS: \"66.7264\"\n",
       "(0019, 101e) [Display field of view]             DS: \"220.000000\"\n",
       "(0019, 105a) [Acquisition Duration]              FL: 137383616.0\n",
       "(0019, 107d) [Second echo]                       DS: \"0\"\n",
       "(0019, 107e) [Number of echoes]                  SS: 1\n",
       "(0019, 107f) [Table delta]                       DS: \"0.000000\"\n",
       "(0019, 1081) [Contiguous]                        SS: 1\n",
       "(0019, 1084) [Peak SAR]                          DS: \"1.606539\"\n",
       "(0019, 1087) [Cardiac repetition time]           DS: \"0.000000\"\n",
       "(0019, 1088) [Images per cardiac cycle]          SS: 0\n",
       "(0019, 108a) [Actual receive gain analog]        SS: 8\n",
       "(0019, 108b) [Actual receive gain digital]       SS: 30\n",
       "(0019, 108d) [Delay after trigger]               DS: \"0\"\n",
       "(0019, 108f) [Swappf]                            SS: 0\n",
       "(0019, 1090) [Pause Interval]                    SS: 0\n",
       "(0019, 1091) [Pause Time]                        DS: \"0.000000\"\n",
       "(0019, 1092) [Slice offset on freq axis]         SL: 0\n",
       "(0019, 1093) [Auto Prescan Center Frequency]     DS: \"639035060\"\n",
       "(0019, 1094) [Auto Prescan Transmit Gain]        SS: 146\n",
       "(0019, 1095) [Auto Prescan Analog receiver gain] SS: 8\n",
       "(0019, 1096) [Auto Prescan Digital receiver gain SS: 30\n",
       "(0019, 1097) [Bitmap defining CVs]               SL: 16\n",
       "(0019, 109b) [Pulse Sequence Mode]               SS: 1\n",
       "(0019, 109c) [Pulse Sequence Name]               LO: 'memp'\n",
       "(0019, 109d) [Pulse Sequence Date]               DT: '19950530185353'\n",
       "(0019, 109e) [Internal Pulse Sequence Name]      LO: 'MEMP'\n",
       "(0019, 109f) [Transmitting Coil Type]            SS: 3\n",
       "(0019, 10a0) [Surface Coil Type]                 SS: 0\n",
       "(0019, 10a1) [Extremity Coil flag]               SS: 0\n",
       "(0019, 10a2) [Raw data run number]               SL: 52736\n",
       "(0019, 10a3) [Calibrated Field strength]         UL: 0\n",
       "(0019, 10a4) [SAT fat/water/bone]                SS: 0\n",
       "(0019, 10be) [Projection angle]                  DS: \"0.000000\"\n",
       "(0019, 10c0) [Saturation planes]                 SS: 0\n",
       "(0019, 10c2) [SAT location R]                    SS: 9990\n",
       "(0019, 10c3) [SAT location L]                    SS: 9990\n",
       "(0019, 10c4) [SAT location A]                    SS: 9990\n",
       "(0019, 10c5) [SAT location P]                    SS: 9990\n",
       "(0019, 10c6) [SAT location H]                    SS: 9990\n",
       "(0019, 10c7) [SAT location F]                    SS: 9990\n",
       "(0019, 10c8) [SAT thickness R/L]                 SS: 0\n",
       "(0019, 10c9) [SAT thickness A/P]                 SS: 0\n",
       "(0019, 10ca) [SAT thickness H/F]                 SS: 0\n",
       "(0019, 10cb) [Phase Contrast flow axis]          SS: 0\n",
       "(0019, 10cc) [Velocity encoding]                 SS: 0\n",
       "(0019, 10cd) [Thickness disclaimer]              SS: 0\n",
       "(0019, 10ce) [Prescan type]                      SS: 2\n",
       "(0019, 10cf) [Prescan status]                    SS: 0\n",
       "(0019, 10d2) [Projection Algorithm]              SS: 0\n",
       "(0019, 10d3) [Projection Algorithm Name]         SH: ''\n",
       "(0019, 10d5) [Fractional echo]                   SS: 1\n",
       "(0019, 10d7) [Cardiac phase number]              SS: 0\n",
       "(0019, 10d8) [Variable echoflag]                 SS: 0\n",
       "(0019, 10d9) [Concatenated SAT {# DTI Diffusion  DS: \"0.000000\"\n",
       "(0019, 10e2) [Velocity Encode Scale]             DS: \"0.000000\"\n",
       "(0019, 10f2) [Fast phases]                       SS: 0\n",
       "(0019, 10f9) [Transmit gain]                     DS: \"146\"\n",
       "(0020, 000d) Study Instance UID                  UI: 1.3.6.1.4.1.14519.5.2.1.4429.7055.331058148523327901159449546313\n",
       "(0020, 000e) Series Instance UID                 UI: 1.3.6.1.4.1.14519.5.2.1.4429.7055.318140066822631026134411973420\n",
       "(0020, 0010) Study ID                            SH: ''\n",
       "(0020, 0011) Series Number                       IS: \"11\"\n",
       "(0020, 0012) Acquisition Number                  IS: \"1\"\n",
       "(0020, 0013) Instance Number                     IS: \"1\"\n",
       "(0020, 0032) Image Position (Patient)            DS: ['-115.545', '-132.514', '-54.8027']\n",
       "(0020, 0037) Image Orientation (Patient)         DS: ['0.997673', '-0.03833', '0.056381', '0.0475315', '0.98392', '-0.172172']\n",
       "(0020, 0052) Frame of Reference UID              UI: 1.3.6.1.4.1.14519.5.2.1.4429.7055.250487807866145927413117906224\n",
       "(0020, 0060) Laterality                          CS: ''\n",
       "(0020, 1002) Images in Acquisition               IS: \"22\"\n",
       "(0020, 1040) Position Reference Indicator        LO: ''\n",
       "(0020, 1041) Slice Location                      DS: \"-67.5147934\"\n",
       "(0020, 9056) Stack ID                            SH: '1'\n",
       "(0020, 9057) In-Stack Position Number            UL: 1\n",
       "(0021, 0010) Private Creator                     LO: 'GEMS_RELA_01'\n",
       "(0021, 1036) [Image from which prescribed]       SS: 11\n",
       "(0021, 104f) [Locations in acquisition]          SS: 22\n",
       "(0021, 1050) [Graphically prescribed]            SS: 0\n",
       "(0021, 1051) [Rotation from source x rot]        DS: \"0.000000\"\n",
       "(0021, 1052) [Rotation from source y rot]        DS: \"0.000000\"\n",
       "(0021, 1053) [Rotation from source z rot]        DS: \"0.000000\"\n",
       "(0021, 1056) [Num 3D slabs]                      SL: 0\n",
       "(0021, 1057) [Locs per 3D slab]                  SL: 0\n",
       "(0021, 1058) [Overlaps]                          SL: 0\n",
       "(0021, 1059) [Image Filtering 0.5/0.2T]          SL: 0\n",
       "(0021, 105a) [Diffusion direction]               SL: 0\n",
       "(0021, 105b) [Tagging Flip Angle]                DS: \"0.000000\"\n",
       "(0021, 105c) [Tagging Orientation]               DS: \"0.000000\"\n",
       "(0021, 105d) [Tag Spacing]                       DS: \"0.000000\"\n",
       "(0021, 105e) [RTIA_timer]                        DS: \"0.000000\"\n",
       "(0021, 105f) [Fps]                               DS: \"0.000000\"\n",
       "(0021, 1081) [Auto window/level alpha]           DS: \"0\"\n",
       "(0021, 1082) [Auto window/level beta]            DS: \"0\"\n",
       "(0021, 1083) [Auto window/level window]          DS: \"0\"\n",
       "(0021, 1084) [Auto window/level level]           DS: \"0\"\n",
       "(0023, 0010) Private Creator                     LO: 'GEMS_STDY_01'\n",
       "(0023, 1074) [No. of updates to header]          SL: 0\n",
       "(0023, 107d) [Indicates study has complete info  SS: 0\n",
       "(0025, 0010) Private Creator                     LO: 'GEMS_SERS_01'\n",
       "(0025, 1006) [Last pulse sequence used]          SS: 0\n",
       "(0025, 1007) [Images in Series]                  SL: 22\n",
       "(0025, 1010) [Landmark Counter]                  SL: 0\n",
       "(0025, 1011) [Number of Acquisitions]            SS: 1\n",
       "(0025, 1014) [Indicates no. of updates to header SL: 0\n",
       "(0025, 1017) [Series Complete Flag]              SL: 0\n",
       "(0025, 1018) [Number of images archived]         SL: 0\n",
       "(0025, 1019) [Last image number used]            SL: 22\n",
       "(0027, 0010) Private Creator                     LO: 'GEMS_IMAG_01'\n",
       "(0027, 1010) [Scout Type]                        SS: 0\n",
       "(0027, 1030) [Foreign Image Revision]            SH: ''\n",
       "(0027, 1031) [Imaging Mode]                      SS: 1\n",
       "(0027, 1032) [Pulse Sequence]                    SS: 0\n",
       "(0027, 1033) [Imaging Options]                   UL: 2048\n",
       "(0027, 1035) [Plane Type]                        SS: 16\n",
       "(0027, 1040) [RAS letter of image location]      SH: 'I'\n",
       "(0027, 1041) [Image location]                    FL: -67.5147933959961\n",
       "(0027, 1060) [Image dimension - X]               FL: 320.0\n",
       "(0027, 1061) [Image dimension - Y]               FL: 192.0\n",
       "(0027, 1062) [Number of Excitations]             FL: 1.0\n",
       "(0028, 0002) Samples per Pixel                   US: 1\n",
       "(0028, 0004) Photometric Interpretation          CS: 'MONOCHROME2'\n",
       "(0028, 0010) Rows                                US: 512\n",
       "(0028, 0011) Columns                             US: 512\n",
       "(0028, 0030) Pixel Spacing                       DS: ['0.4297', '0.4297']\n",
       "(0028, 0100) Bits Allocated                      US: 16\n",
       "(0028, 0101) Bits Stored                         US: 16\n",
       "(0028, 0102) High Bit                            US: 15\n",
       "(0028, 0103) Pixel Representation                US: 1\n",
       "(0028, 0106) Smallest Image Pixel Value          SS: 0\n",
       "(0028, 0107) Largest Image Pixel Value           SS: 3571\n",
       "(0028, 0303) Longitudinal Temporal Information M CS: 'MODIFIED'\n",
       "(0028, 1050) Window Center                       DS: \"1785\"\n",
       "(0028, 1051) Window Width                        DS: \"3571\"\n",
       "(0028, 2110) Lossy Image Compression             CS: '00'\n",
       "(0029, 0010) Private Creator                     LO: 'GEMS_IMPS_01'\n",
       "(0029, 1015) [Lower range of Pixels1]            SL: 0\n",
       "(0029, 1016) [Upper range of Pixels1]            SL: 0\n",
       "(0029, 1017) [Lower range of Pixels2]            SL: 0\n",
       "(0029, 1018) [Upper range of Pixels2]            SL: 0\n",
       "(0029, 1026) [Version of the hdr struct]         SS: 2\n",
       "(0029, 1034) [Advantage comp. Overflow]          SL: 16384\n",
       "(0029, 1035) [Advantage comp. Underflow]         SL: 0\n",
       "(0040, 0244) Performed Procedure Step Start Date DA: '19960813'\n",
       "(0040, 0245) Performed Procedure Step Start Time TM: '153500'\n",
       "(0040, 0254) Performed Procedure Step Descriptio LO: 'MR RCBV SEQUENCE'\n",
       "(0043, 0010) Private Creator                     LO: 'GEMS_PARM_01'\n",
       "(0043, 1001) [Bitmap of prescan options]         SS: 4\n",
       "(0043, 1002) [Gradient offset in X]              SS: 5\n",
       "(0043, 1003) [Gradient offset in Y]              SS: 6\n",
       "(0043, 1004) [Gradient offset in Z]              SS: -37\n",
       "(0043, 1006) [Number of EPI shots]               SS: 0\n",
       "(0043, 1007) [Views per segment]                 SS: 0\n",
       "(0043, 1008) [Respiratory rate, bpm]             SS: 0\n",
       "(0043, 1009) [Respiratory trigger point]         SS: 0\n",
       "(0043, 100a) [Type of receiver used]             SS: 1\n",
       "(0043, 100b) [DB/dt Peak rate of change of gradi DS: \"0.000000\"\n",
       "(0043, 100c) [dB/dt Limits in units of percent]  DS: \"100.000000\"\n",
       "(0043, 100d) [PSD estimated limit]               DS: \"0.000000\"\n",
       "(0043, 100e) [PSD estimated limit in tesla per s DS: \"0.000000\"\n",
       "(0043, 1010) [Window value]                      US: 0\n",
       "(0043, 101c) [GE image integrity]                SS: 0\n",
       "(0043, 101d) [Level value]                       SS: 0\n",
       "(0043, 102c) [Effective echo spacing]            SS: 0\n",
       "(0043, 102d) [Filter Mode (String slop field 1 i SH: 's'\n",
       "(0043, 102e) [String slop field 2]               SH: ''\n",
       "(0043, 102f) [Image Type (real, imaginary, phase SS: 0\n",
       "(0043, 1032) [Vas flags]                         SS: 2\n",
       "(0043, 1033) [Neg_scanspacing]                   FL: 0.0\n",
       "(0043, 1034) [Offset Frequency]                  IS: \"0\"\n",
       "(0043, 1035) [User_usage_tag]                    UL: 0\n",
       "(0043, 1036) [User_fill_map_MSW]                 UL: 0\n",
       "(0043, 1037) [User_fill_map_LSW]                 UL: 0\n",
       "(0043, 1038) [User data 25...User data 48 {User4 FL: Array of 24 elements\n",
       "(0043, 1039) [Slop_int_6... slop_int_9]          IS: ['0', '0', '0', '0']\n",
       "(0043, 107d) [Recon mode flag word]              US: 1\n",
       "(0043, 1081) [GE Coil Name]                      LO: 'C-Head 24'\n",
       "(0043, 1083) [Asset R Factors]                   DS: ['1', '1']\n",
       "(0043, 1084) [Additional Asset Data]             LO: ['10000', '0', '-1', '0', '', 'NO', '']\n",
       "(0043, 1088) [PURE Acquisition Calibration Serie UI: 1.3.6.1.4.1.14519.5.2.1.4429.7055.586859399478466253236208807280\n",
       "(0043, 1089) [Governing Body, dB/dt, and SAR def LO: ['FDA', 'IEC_FIRST_LEVEL', 'IEC_FIRST_LEVEL']\n",
       "(0043, 108a) [Private In-Plane Phase Encoding Di CS: 'ROW'\n",
       "(0043, 1090) [SAR Definition]                    LO: ['WHOLE_BODY_6_MIN', 'LOCAL_PEAK_6_MIN', 'PARTIAL_BODY_6MIN']\n",
       "(0043, 1091) [SAR value]                         DS: ['0.8033', '1.60654', '0.803269']\n",
       "(0043, 1095) [Prescan Reuse String]              LO: 'CF/s4,AS/s4'\n",
       "(0043, 1096) [Content Qualification]             CS: 'RESEARCH'\n",
       "(0043, 1097) [Image Filtering Parameters]        LO: ['3', '1', '1.5 0.2 0.2 6 128 0.6 1.5', '1.5 0.2 0.2 6 128 0.6 1.5', '1.5 0.2 0.2 6 128 0.6 1.5', '100', '0', '0', 'rev=1;a=75;b=2;c=32;d=8;e=3;f=2;g=1;h=10']\n",
       "(0043, 109a) [Rx Stack Identification]           IS: \"1\"\n",
       "(3711, 0010) Private Creator                     LO: 'A.L.I. Technologies, Inc.'\n",
       "(3711, 100c) [Original Study UID]                UI: 1.3.6.1.4.1.14519.5.2.1.4429.7055.331058148523327901159449546313\n",
       "(7fe0, 0010) Pixel Data                          OW: Array of 524288 elements"
      ]
     },
     "execution_count": 6,
     "metadata": {},
     "output_type": "execute_result"
    }
   ],
   "source": [
    "# To read the pixel data:\n",
    "scans.read_dicom(read_pixel_data=True)"
   ]
  },
  {
   "cell_type": "code",
   "execution_count": 7,
   "metadata": {},
   "outputs": [
    {
     "data": {
      "text/plain": [
       "524288"
      ]
     },
     "execution_count": 7,
     "metadata": {},
     "output_type": "execute_result"
    }
   ],
   "source": [
    "temp = scans.read_dicom(read_pixel_data=True).PixelData\n",
    "len(temp)"
   ]
  },
  {
   "cell_type": "markdown",
   "metadata": {},
   "source": [
    "Looks like the pixel data is flat! \n",
    "\n",
    "Maybe pixel data is flattened like contour data is, so I'll try replacing \"read_pixel_data=True\" with\n",
    "\"read_pixel_array=True\":"
   ]
  },
  {
   "cell_type": "code",
   "execution_count": 8,
   "metadata": {},
   "outputs": [
    {
     "ename": "TypeError",
     "evalue": "read_dicom() got an unexpected keyword argument 'read_pixel_array'",
     "output_type": "error",
     "traceback": [
      "\u001b[1;31m---------------------------------------------------------------------------\u001b[0m",
      "\u001b[1;31mTypeError\u001b[0m                                 Traceback (most recent call last)",
      "\u001b[1;32m<ipython-input-8-7255aa54373b>\u001b[0m in \u001b[0;36m<module>\u001b[1;34m\u001b[0m\n\u001b[0;32m      1\u001b[0m \u001b[1;31m# Try this:\u001b[0m\u001b[1;33m\u001b[0m\u001b[1;33m\u001b[0m\u001b[1;33m\u001b[0m\u001b[0m\n\u001b[1;32m----> 2\u001b[1;33m \u001b[0mscans\u001b[0m\u001b[1;33m.\u001b[0m\u001b[0mread_dicom\u001b[0m\u001b[1;33m(\u001b[0m\u001b[0mread_pixel_array\u001b[0m\u001b[1;33m=\u001b[0m\u001b[1;32mTrue\u001b[0m\u001b[1;33m)\u001b[0m\u001b[1;33m\u001b[0m\u001b[1;33m\u001b[0m\u001b[0m\n\u001b[0m",
      "\u001b[1;31mTypeError\u001b[0m: read_dicom() got an unexpected keyword argument 'read_pixel_array'"
     ]
    }
   ],
   "source": [
    "# Try this:\n",
    "scans.read_dicom(read_pixel_array=True)"
   ]
  },
  {
   "cell_type": "markdown",
   "metadata": {},
   "source": [
    "Maybe the clue is here:\n",
    "\n",
    "https://xnat.readthedocs.io/en/latest/static/tutorial.html#exploring-your-xnat-server\n",
    "\n",
    "under \"Accessing XNAT files as local files (partial read)\""
   ]
  },
  {
   "cell_type": "code",
   "execution_count": 9,
   "metadata": {},
   "outputs": [
    {
     "data": {
      "text/plain": [
       "<MrScanData T1post (11)>"
      ]
     },
     "execution_count": 9,
     "metadata": {},
     "output_type": "execute_result"
    }
   ],
   "source": [
    "session.projects[projectLabel].subjects[subjectLabel].experiments[experimentNo].scans[scanNo]"
   ]
  },
  {
   "cell_type": "code",
   "execution_count": 10,
   "metadata": {},
   "outputs": [
    {
     "data": {
      "text/plain": [
       "<ResourceCatalog DICOM (41)>"
      ]
     },
     "execution_count": 10,
     "metadata": {},
     "output_type": "execute_result"
    }
   ],
   "source": [
    "session.projects[projectLabel].subjects[subjectLabel].experiments[experimentNo].scans[scanNo].resources['DICOM']"
   ]
  },
  {
   "cell_type": "code",
   "execution_count": 11,
   "metadata": {},
   "outputs": [
    {
     "data": {
      "text/plain": [
       "<XNATListing {(1.3.6.1.4.1.14519.5.2.1.4429.7055.331058148523327901159449546313-11-19-abhab5.dcm, 1.3.6.1.4.1.14519.5.2.1.4429.7055.331058148523327901159449546313-11-19-abhab5.dcm): <FileData 1.3.6.1.4.1.14519.5.2.1.4429.7055.331058148523327901159449546313-11-19-abhab5.dcm (1.3.6.1.4.1.14519.5.2.1.4429.7055.331058148523327901159449546313-11-19-abhab5.dcm)>, (1.3.6.1.4.1.14519.5.2.1.4429.7055.331058148523327901159449546313-11-20-hn94uu.dcm, 1.3.6.1.4.1.14519.5.2.1.4429.7055.331058148523327901159449546313-11-20-hn94uu.dcm): <FileData 1.3.6.1.4.1.14519.5.2.1.4429.7055.331058148523327901159449546313-11-20-hn94uu.dcm (1.3.6.1.4.1.14519.5.2.1.4429.7055.331058148523327901159449546313-11-20-hn94uu.dcm)>, (1.3.6.1.4.1.14519.5.2.1.4429.7055.331058148523327901159449546313-11-1-xb6jdm.dcm, 1.3.6.1.4.1.14519.5.2.1.4429.7055.331058148523327901159449546313-11-1-xb6jdm.dcm): <FileData 1.3.6.1.4.1.14519.5.2.1.4429.7055.331058148523327901159449546313-11-1-xb6jdm.dcm (1.3.6.1.4.1.14519.5.2.1.4429.7055.331058148523327901159449546313-11-1-xb6jdm.dcm)>, (1.3.6.1.4.1.14519.5.2.1.4429.7055.331058148523327901159449546313-11-4-1ji0ody.dcm, 1.3.6.1.4.1.14519.5.2.1.4429.7055.331058148523327901159449546313-11-4-1ji0ody.dcm): <FileData 1.3.6.1.4.1.14519.5.2.1.4429.7055.331058148523327901159449546313-11-4-1ji0ody.dcm (1.3.6.1.4.1.14519.5.2.1.4429.7055.331058148523327901159449546313-11-4-1ji0ody.dcm)>, (1.3.6.1.4.1.14519.5.2.1.4429.7055.331058148523327901159449546313-11-8-11aj08n.dcm, 1.3.6.1.4.1.14519.5.2.1.4429.7055.331058148523327901159449546313-11-8-11aj08n.dcm): <FileData 1.3.6.1.4.1.14519.5.2.1.4429.7055.331058148523327901159449546313-11-8-11aj08n.dcm (1.3.6.1.4.1.14519.5.2.1.4429.7055.331058148523327901159449546313-11-8-11aj08n.dcm)>, (1.3.6.1.4.1.14519.5.2.1.4429.7055.331058148523327901159449546313-11-13-1kem30l.dcm, 1.3.6.1.4.1.14519.5.2.1.4429.7055.331058148523327901159449546313-11-13-1kem30l.dcm): <FileData 1.3.6.1.4.1.14519.5.2.1.4429.7055.331058148523327901159449546313-11-13-1kem30l.dcm (1.3.6.1.4.1.14519.5.2.1.4429.7055.331058148523327901159449546313-11-13-1kem30l.dcm)>, (1.3.6.1.4.1.14519.5.2.1.4429.7055.331058148523327901159449546313-11-5-1kyxtoq.dcm, 1.3.6.1.4.1.14519.5.2.1.4429.7055.331058148523327901159449546313-11-5-1kyxtoq.dcm): <FileData 1.3.6.1.4.1.14519.5.2.1.4429.7055.331058148523327901159449546313-11-5-1kyxtoq.dcm (1.3.6.1.4.1.14519.5.2.1.4429.7055.331058148523327901159449546313-11-5-1kyxtoq.dcm)>, (1.3.6.1.4.1.14519.5.2.1.4429.7055.331058148523327901159449546313-11-9-ouxf6l.dcm, 1.3.6.1.4.1.14519.5.2.1.4429.7055.331058148523327901159449546313-11-9-ouxf6l.dcm): <FileData 1.3.6.1.4.1.14519.5.2.1.4429.7055.331058148523327901159449546313-11-9-ouxf6l.dcm (1.3.6.1.4.1.14519.5.2.1.4429.7055.331058148523327901159449546313-11-9-ouxf6l.dcm)>, (1.3.6.1.4.1.14519.5.2.1.4429.7055.331058148523327901159449546313-11-10-16uvgu3.dcm, 1.3.6.1.4.1.14519.5.2.1.4429.7055.331058148523327901159449546313-11-10-16uvgu3.dcm): <FileData 1.3.6.1.4.1.14519.5.2.1.4429.7055.331058148523327901159449546313-11-10-16uvgu3.dcm (1.3.6.1.4.1.14519.5.2.1.4429.7055.331058148523327901159449546313-11-10-16uvgu3.dcm)>, (1.3.6.1.4.1.14519.5.2.1.4429.7055.331058148523327901159449546313-11-7-2g5trn.dcm, 1.3.6.1.4.1.14519.5.2.1.4429.7055.331058148523327901159449546313-11-7-2g5trn.dcm): <FileData 1.3.6.1.4.1.14519.5.2.1.4429.7055.331058148523327901159449546313-11-7-2g5trn.dcm (1.3.6.1.4.1.14519.5.2.1.4429.7055.331058148523327901159449546313-11-7-2g5trn.dcm)>, (1.3.6.1.4.1.14519.5.2.1.4429.7055.331058148523327901159449546313-11-21-1l0y6hs.dcm, 1.3.6.1.4.1.14519.5.2.1.4429.7055.331058148523327901159449546313-11-21-1l0y6hs.dcm): <FileData 1.3.6.1.4.1.14519.5.2.1.4429.7055.331058148523327901159449546313-11-21-1l0y6hs.dcm (1.3.6.1.4.1.14519.5.2.1.4429.7055.331058148523327901159449546313-11-21-1l0y6hs.dcm)>, (1.3.6.1.4.1.14519.5.2.1.4429.7055.331058148523327901159449546313-11-11-1yalgp4.dcm, 1.3.6.1.4.1.14519.5.2.1.4429.7055.331058148523327901159449546313-11-11-1yalgp4.dcm): <FileData 1.3.6.1.4.1.14519.5.2.1.4429.7055.331058148523327901159449546313-11-11-1yalgp4.dcm (1.3.6.1.4.1.14519.5.2.1.4429.7055.331058148523327901159449546313-11-11-1yalgp4.dcm)>, (1.3.6.1.4.1.14519.5.2.1.4429.7055.331058148523327901159449546313-11-3-o6pfci.dcm, 1.3.6.1.4.1.14519.5.2.1.4429.7055.331058148523327901159449546313-11-3-o6pfci.dcm): <FileData 1.3.6.1.4.1.14519.5.2.1.4429.7055.331058148523327901159449546313-11-3-o6pfci.dcm (1.3.6.1.4.1.14519.5.2.1.4429.7055.331058148523327901159449546313-11-3-o6pfci.dcm)>, (1.3.6.1.4.1.14519.5.2.1.4429.7055.331058148523327901159449546313-11-14-1m1mvpi.dcm, 1.3.6.1.4.1.14519.5.2.1.4429.7055.331058148523327901159449546313-11-14-1m1mvpi.dcm): <FileData 1.3.6.1.4.1.14519.5.2.1.4429.7055.331058148523327901159449546313-11-14-1m1mvpi.dcm (1.3.6.1.4.1.14519.5.2.1.4429.7055.331058148523327901159449546313-11-14-1m1mvpi.dcm)>, (1.3.6.1.4.1.14519.5.2.1.4429.7055.331058148523327901159449546313-11-2-119a4or.dcm, 1.3.6.1.4.1.14519.5.2.1.4429.7055.331058148523327901159449546313-11-2-119a4or.dcm): <FileData 1.3.6.1.4.1.14519.5.2.1.4429.7055.331058148523327901159449546313-11-2-119a4or.dcm (1.3.6.1.4.1.14519.5.2.1.4429.7055.331058148523327901159449546313-11-2-119a4or.dcm)>, (1.3.6.1.4.1.14519.5.2.1.4429.7055.331058148523327901159449546313-11-6-ui6tn3.dcm, 1.3.6.1.4.1.14519.5.2.1.4429.7055.331058148523327901159449546313-11-6-ui6tn3.dcm): <FileData 1.3.6.1.4.1.14519.5.2.1.4429.7055.331058148523327901159449546313-11-6-ui6tn3.dcm (1.3.6.1.4.1.14519.5.2.1.4429.7055.331058148523327901159449546313-11-6-ui6tn3.dcm)>, (1.3.6.1.4.1.14519.5.2.1.4429.7055.331058148523327901159449546313-11-12-gk3fd0.dcm, 1.3.6.1.4.1.14519.5.2.1.4429.7055.331058148523327901159449546313-11-12-gk3fd0.dcm): <FileData 1.3.6.1.4.1.14519.5.2.1.4429.7055.331058148523327901159449546313-11-12-gk3fd0.dcm (1.3.6.1.4.1.14519.5.2.1.4429.7055.331058148523327901159449546313-11-12-gk3fd0.dcm)>, (1.3.6.1.4.1.14519.5.2.1.4429.7055.331058148523327901159449546313-11-16-t1kui0.dcm, 1.3.6.1.4.1.14519.5.2.1.4429.7055.331058148523327901159449546313-11-16-t1kui0.dcm): <FileData 1.3.6.1.4.1.14519.5.2.1.4429.7055.331058148523327901159449546313-11-16-t1kui0.dcm (1.3.6.1.4.1.14519.5.2.1.4429.7055.331058148523327901159449546313-11-16-t1kui0.dcm)>, (1.3.6.1.4.1.14519.5.2.1.4429.7055.331058148523327901159449546313-11-17-12omca7.dcm, 1.3.6.1.4.1.14519.5.2.1.4429.7055.331058148523327901159449546313-11-17-12omca7.dcm): <FileData 1.3.6.1.4.1.14519.5.2.1.4429.7055.331058148523327901159449546313-11-17-12omca7.dcm (1.3.6.1.4.1.14519.5.2.1.4429.7055.331058148523327901159449546313-11-17-12omca7.dcm)>, (1.3.6.1.4.1.14519.5.2.1.4429.7055.331058148523327901159449546313-11-18-gihsw6.dcm, 1.3.6.1.4.1.14519.5.2.1.4429.7055.331058148523327901159449546313-11-18-gihsw6.dcm): <FileData 1.3.6.1.4.1.14519.5.2.1.4429.7055.331058148523327901159449546313-11-18-gihsw6.dcm (1.3.6.1.4.1.14519.5.2.1.4429.7055.331058148523327901159449546313-11-18-gihsw6.dcm)>, (1.3.6.1.4.1.14519.5.2.1.4429.7055.331058148523327901159449546313-11-22-qfw6eu.dcm, 1.3.6.1.4.1.14519.5.2.1.4429.7055.331058148523327901159449546313-11-22-qfw6eu.dcm): <FileData 1.3.6.1.4.1.14519.5.2.1.4429.7055.331058148523327901159449546313-11-22-qfw6eu.dcm (1.3.6.1.4.1.14519.5.2.1.4429.7055.331058148523327901159449546313-11-22-qfw6eu.dcm)>, (1.3.6.1.4.1.14519.5.2.1.4429.7055.331058148523327901159449546313-11-15-vumjtl.dcm, 1.3.6.1.4.1.14519.5.2.1.4429.7055.331058148523327901159449546313-11-15-vumjtl.dcm): <FileData 1.3.6.1.4.1.14519.5.2.1.4429.7055.331058148523327901159449546313-11-15-vumjtl.dcm (1.3.6.1.4.1.14519.5.2.1.4429.7055.331058148523327901159449546313-11-15-vumjtl.dcm)>}>"
      ]
     },
     "execution_count": 11,
     "metadata": {},
     "output_type": "execute_result"
    }
   ],
   "source": [
    "session.projects[projectLabel].subjects[subjectLabel].experiments[experimentNo].scans[scanNo].resources['DICOM'].files"
   ]
  },
  {
   "cell_type": "code",
   "execution_count": 12,
   "metadata": {},
   "outputs": [
    {
     "data": {
      "text/plain": [
       "<FileData 1.3.6.1.4.1.14519.5.2.1.4429.7055.331058148523327901159449546313-11-19-abhab5.dcm (1.3.6.1.4.1.14519.5.2.1.4429.7055.331058148523327901159449546313-11-19-abhab5.dcm)>"
      ]
     },
     "execution_count": 12,
     "metadata": {},
     "output_type": "execute_result"
    }
   ],
   "source": [
    "session.projects[projectLabel].subjects[subjectLabel].experiments[experimentNo].scans[scanNo].resources['DICOM'].files[0]"
   ]
  },
  {
   "cell_type": "code",
   "execution_count": 13,
   "metadata": {},
   "outputs": [
    {
     "data": {
      "text/plain": [
       "<xnat.utils.RequestsFileLike at 0x13fb1995808>"
      ]
     },
     "execution_count": 13,
     "metadata": {},
     "output_type": "execute_result"
    }
   ],
   "source": [
    "fileObj = session.projects[projectLabel].subjects[subjectLabel].experiments[experimentNo].scans[scanNo].resources['DICOM'].files[0]\n",
    "\n",
    "with fileObj.open() as fileObjOpen:\n",
    "    fileObjOpen.read()\n",
    "    \n",
    "fileObjOpen"
   ]
  },
  {
   "cell_type": "code",
   "execution_count": 14,
   "metadata": {},
   "outputs": [
    {
     "ename": "TypeError",
     "evalue": "object of type 'RequestsFileLike' has no len()",
     "output_type": "error",
     "traceback": [
      "\u001b[1;31m---------------------------------------------------------------------------\u001b[0m",
      "\u001b[1;31mTypeError\u001b[0m                                 Traceback (most recent call last)",
      "\u001b[1;32m<ipython-input-14-04ec86e467b4>\u001b[0m in \u001b[0;36m<module>\u001b[1;34m\u001b[0m\n\u001b[1;32m----> 1\u001b[1;33m \u001b[0mlen\u001b[0m\u001b[1;33m(\u001b[0m\u001b[0mfileObjOpen\u001b[0m\u001b[1;33m)\u001b[0m\u001b[1;33m\u001b[0m\u001b[1;33m\u001b[0m\u001b[0m\n\u001b[0m",
      "\u001b[1;31mTypeError\u001b[0m: object of type 'RequestsFileLike' has no len()"
     ]
    }
   ],
   "source": [
    "len(fileObjOpen)"
   ]
  },
  {
   "cell_type": "code",
   "execution_count": 15,
   "metadata": {},
   "outputs": [
    {
     "data": {
      "text/plain": [
       "b'\\x00\\x00\\x00\\x00\\x00\\x00\\x00\\x00\\x00\\x00\\x00\\x00\\x00\\x00\\x00\\x00\\x00\\x00\\x00\\x00\\x00\\x00\\x00\\x00\\x00\\x00\\x00\\x00\\x00\\x00\\x00\\x00\\x00\\x00\\x00\\x00\\x00\\x00\\x00\\x00\\x00\\x00\\x00\\x00\\x00\\x00\\x00\\x00\\x00\\x00\\x00\\x00\\x00\\x00\\x00\\x00\\x00\\x00\\x00\\x00\\x00\\x00\\x00\\x00\\x00\\x00\\x00\\x00\\x00\\x00\\x00\\x00\\x00\\x00\\x00\\x00\\x00\\x00\\x00\\x00\\x00\\x00\\x00\\x00\\x00\\x00\\x00\\x00\\x00\\x00\\x00\\x00\\x00\\x00\\x00\\x00\\x00\\x00\\x00\\x00\\x00\\x00\\x00\\x00\\x00\\x00\\x00\\x00\\x00\\x00\\x00\\x00\\x00\\x00\\x00\\x00\\x00\\x00\\x00\\x00\\x00\\x00\\x00\\x00\\x00\\x00\\x00\\x00DICM\\x02\\x00\\x00\\x00UL\\x04\\x00\\xc4\\x00\\x00\\x00\\x02\\x00\\x01\\x00OB\\x00\\x00\\x02\\x00\\x00\\x00\\x00\\x01\\x02\\x00\\x02\\x00UI\\x1a\\x001.2.840.10008.5.1.4.1.1.4\\x00\\x02\\x00\\x03\\x00UI@\\x001.3.6.1.4.1.14519.5.2.1.4429.7055.213859255991588180723164022910\\x02\\x00\\x10\\x00UI\\x14\\x001.2.840.10008.1.2.1\\x00\\x02\\x00\\x12\\x00UI\\x12\\x001.2.40.0.13.1.1.1\\x00\\x02\\x00\\x13\\x00SH\\x0e\\x00dcm4che-1.4.35\\x08\\x00\\x05\\x00CS\\n\\x00ISO_IR 100\\x08\\x00\\x08\\x00CS\\x16\\x00ORIGINAL\\\\PRIMARY\\\\OTHER\\x08\\x00\\x16\\x00UI\\x1a\\x001.2.840.10008.5.1.4.1.1.4\\x00\\x08\\x00\\x18\\x00UI@\\x001.3.6.1.4.1.14519.5.2.1.4429.7055.213859255991588180723164022910\\x08\\x00 \\x00DA\\x08\\x0019960813\\x08\\x00!\\x00DA\\x08\\x0019960813\\x08\\x00\"\\x00DA\\x08\\x0019960813\\x08\\x00#\\x00DA\\x08\\x0019960813\\x08\\x000\\x00TM\\x0e\\x00164104.000000 \\x08\\x001\\x00TM\\x06\\x00162908\\x08\\x002\\x00TM\\x06\\x00162908\\x08\\x003\\x00TM\\x06\\x00162908\\x08\\x00P\\x00SH\\x10\\x007351166753651521\\x08\\x00`\\x00CS\\x02\\x00MR\\x08\\x00p\\x00LO\\x12\\x00GE MEDICAL SYSTEMS\\x08\\x00\\x90\\x00PN\\x00\\x00\\x08\\x000\\x10LO\\x0e\\x00BrainTumorProg\\x08\\x00>\\x10LO\\x06\\x00T1post\\x08\\x00\\x90\\x10LO\\x0e\\x00Optima MR450w \\x08\\x00\\x11\\x11SQ\\x00\\x00\\xff\\xff\\xff\\xff\\xfe\\xff\\x00\\xe0\\xff\\xff\\xff\\xff\\x08\\x00P\\x11UI\\x18\\x001.2.840.10008.3.1.2.3.3\\x00\\x08\\x00U\\x11UI@\\x001.3.6.1.4.1.14519.5.2.1.4429.7055.302317560745690235570146159072\\xfe\\xff\\r\\xe0\\x00\\x00\\x00\\x00\\xfe\\xff\\xdd\\xe0\\x00\\x00\\x00\\x00\\x08\\x00@\\x11SQ\\x00\\x00\\xff\\xff\\xff\\xff\\xfe\\xff\\x00\\xe0\\xff\\xff\\xff\\xff\\x08\\x00P\\x11UI\\x1a\\x001.2.840.10008.5.1.4.1.1.4\\x00\\x08\\x00U\\x11UI@\\x001.3.6.1.4.1.14519.5.2.1.4429.7055.161698063235862217165787373822\\xfe\\xff\\r\\xe0\\x00\\x00\\x00\\x00\\xfe\\xff\\x00\\xe0\\xff\\xff\\xff\\xff\\x08\\x00P\\x11UI\\x1a\\x001.2.840.10008.5.1.4.1.1.4\\x00\\x08\\x00U\\x11UI@\\x001.3.6.1.4.1.14519.5.2.1.4429.7055.155739786649826025789527740248\\xfe\\xff\\r\\xe0\\x00\\x00\\x00\\x00\\xfe\\xff\\x00\\xe0\\xff\\xff\\xff\\xff\\x08\\x00P\\x11UI\\x1a\\x001.2.840.10008.5.1.4.1.1.4\\x00\\x08\\x00U\\x11UI@\\x001.3.6.1.4.1.14519.5.2.1.4429.7055.317738028801950631000485188238\\xfe\\xff\\r\\xe0\\x00\\x00\\x00\\x00\\xfe\\xff\\xdd\\xe0\\x00\\x00\\x00\\x00\\x08\\x00\\x11!ST$\\x002:1 JPEGLOSSLESSPROCFIRSTORDERREDICT\\t\\x00\\x10\\x00LO\\x0c\\x00GEMS_IDEN_01\\t\\x00\\x02\\x10SH\\x04\\x00MR01\\t\\x00\\x04\\x10SH\\x06\\x00SIGNA \\t\\x00\\xe3\\x10UI@\\x001.3.6.1.4.1.14519.5.2.1.4429.7055.210993166246545044470906103997\\x10\\x00\\x10\\x00PN\\x08\\x00PGM-002 \\x10\\x00 \\x00LO\\x0c\\x00PGM-002_MR_1\\x10\\x000\\x00DA\\x00\\x00\\x10\\x00@\\x00CS\\x02\\x00M \\x10\\x00\\x10\\x10AS\\x04\\x00072Y\\x10\\x00 \\x10DS\\x06\\x001.803 \\x10\\x000\\x10DS\\x06\\x0080.74 \\x10\\x00\\xb0!LT\\x00\\x00\\x12\\x00b\\x00CS\\x04\\x00YES \\x12\\x00c\\x00LO.\\x00Per DICOM PS 3.15 AnnexE. Details in 0012,0064\\x12\\x00d\\x00SQ\\x00\\x00\\xff\\xff\\xff\\xff\\xfe\\xff\\x00\\xe0\\xff\\xff\\xff\\xff\\x08\\x00\\x00\\x01SH\\x06\\x00113100\\x08\\x00\\x02\\x01SH\\x04\\x00DCM \\x08\\x00\\x04\\x01LO*\\x00Basic Application Confidentiality Profile \\xfe\\xff\\r\\xe0\\x00\\x00\\x00\\x00\\xfe\\xff\\x00\\xe0\\xff\\xff\\xff\\xff\\x08\\x00\\x00\\x01SH\\x06\\x00113101\\x08\\x00\\x02\\x01SH\\x04\\x00DCM \\x08\\x00\\x04\\x01LO\\x18\\x00Clean Pixel Data Option \\xfe\\xff\\r\\xe0\\x00\\x00\\x00\\x00\\xfe\\xff\\x00\\xe0\\xff\\xff\\xff\\xff\\x08\\x00\\x00\\x01SH\\x06\\x00113104\\x08\\x00\\x02\\x01SH\\x04\\x00DCM \\x08\\x00\\x04\\x01LO \\x00Clean Structured Content Option \\xfe\\xff\\r\\xe0\\x00\\x00\\x00\\x00\\xfe\\xff\\x00\\xe0\\xff\\xff\\xff\\xff\\x08\\x00\\x00\\x01SH\\x06\\x00113105\\x08\\x00\\x02\\x01SH\\x04\\x00DCM \\x08\\x00\\x04\\x01LO\\x18\\x00Clean Descriptors Option\\xfe\\xff\\r\\xe0\\x00\\x00\\x00\\x00\\xfe\\xff\\x00\\xe0\\xff\\xff\\xff\\xff\\x08\\x00\\x00\\x01SH\\x06\\x00113107\\x08\\x00\\x02\\x01SH\\x04\\x00DCM \\x08\\x00\\x04\\x01LO>\\x00Retain Longitudinal Temporal Information Modified Dates Option\\xfe\\xff\\r\\xe0\\x00\\x00\\x00\\x00\\xfe\\xff\\x00\\xe0\\xff\\xff\\xff\\xff\\x08\\x00\\x00\\x01SH\\x06\\x00113108\\x08\\x00\\x02\\x01SH\\x04\\x00DCM \\x08\\x00\\x04\\x01LO&\\x00Retain Patient Characteristics Option \\xfe\\xff\\r\\xe0\\x00\\x00\\x00\\x00\\xfe\\xff\\x00\\xe0\\xff\\xff\\xff\\xff\\x08\\x00\\x00\\x01SH\\x06\\x00113109\\x08\\x00\\x02\\x01SH\\x04\\x00DCM \\x08\\x00\\x04\\x01LO\\x1e\\x00Retain Device Identity Option \\xfe\\xff\\r\\xe0\\x00\\x00\\x00\\x00\\xfe\\xff\\x00\\xe0\\xff\\xff\\xff\\xff\\x08\\x00\\x00\\x01SH\\x06\\x00113111\\x08\\x00\\x02\\x01SH\\x04\\x00DCM \\x08\\x00\\x04\\x01LO\\x1a\\x00Retain Safe Private Option\\xfe\\xff\\r\\xe0\\x00\\x00\\x00\\x00\\xfe\\xff\\xdd\\xe0\\x00\\x00\\x00\\x00\\x13\\x00\\x10\\x00LO\\x04\\x00CTP \\x13\\x00\\x10\\x10LO\\x18\\x00Brain-Tumor-Progression \\x13\\x00\\x13\\x10LO\\x08\\x0044297055\\x18\\x00\\x10\\x00LO\\x10\\x009 mL  Multihance\\x18\\x00\\x15\\x00CS\\x06\\x00BRAIN \\x18\\x00 \\x00CS\\x02\\x00SE\\x18\\x00!\\x00CS\\x04\\x00NONE\\x18\\x00\"\\x00CS\\x1a\\x00EDR_GEMS\\\\FILTERED_GEMS\\\\PFF\\x18\\x00#\\x00CS\\x02\\x002D\\x18\\x00%\\x00CS\\x02\\x00N \\x18\\x00P\\x00DS\\x02\\x005 \\x18\\x00\\x80\\x00DS\\x08\\x00666.668 \\x18\\x00\\x81\\x00DS\\x02\\x009 \\x18\\x00\\x83\\x00DS\\x02\\x001 \\x18\\x00\\x84\\x00DS\\n\\x0063.903506 \\x18\\x00\\x85\\x00SH\\x02\\x001H\\x18\\x00\\x86\\x00IS\\x02\\x001 \\x18\\x00\\x87\\x00DS\\x04\\x001.5 \\x18\\x00\\x88\\x00DS\\x04\\x006.5 \\x18\\x00\\x91\\x00IS\\x02\\x001 \\x18\\x00\\x93\\x00DS\\x04\\x00100 \\x18\\x00\\x94\\x00DS\\x04\\x00100 \\x18\\x00\\x95\\x00DS\\x08\\x0061.0547 \\x18\\x00 \\x10LO,\\x0025\\\\LX\\\\MR Software release:DV25.0_R01_1451.a \\x18\\x000\\x10LO\\x0c\\x00Brain - RCBV\\x18\\x00@\\x10LO\\x02\\x00IV\\x18\\x00\\x88\\x10IS\\x02\\x000 \\x18\\x00\\x90\\x10IS\\x02\\x000 \\x18\\x00\\x94\\x10IS\\x02\\x000 \\x18\\x00\\x00\\x11DS\\x04\\x00220 \\x18\\x00P\\x12SH\\x08\\x00Head 24 \\x18\\x00\\x10\\x13US\\x08\\x00\\x00\\x00@\\x01\\xc0\\x00\\x00\\x00\\x18\\x00\\x12\\x13CS\\x04\\x00ROW \\x18\\x00\\x14\\x13DS\\x02\\x0090\\x18\\x00\\x15\\x13CS\\x02\\x00N \\x18\\x00\\x16\\x13DS\\x08\\x000.803269\\x18\\x00\\x00QCS\\x04\\x00HFS \\x19\\x00\\x10\\x00LO\\x0c\\x00GEMS_ACQU_01\\x19\\x00\\x0f\\x10DS\\n\\x00332.799988\\x19\\x00\\x11\\x10SS\\x02\\x00\\x02\\x00\\x19\\x00\\x12\\x10SS\\x02\\x00\\x00\\x00\\x19\\x00\\x17\\x10SS\\x02\\x00\\x10\\x00\\x19\\x00\\x18\\x10LO\\x02\\x00I \\x19\\x00\\x19\\x10DS\\x08\\x00-67.5148\\x19\\x00\\x1a\\x10LO\\x02\\x00S \\x19\\x00\\x1b\\x10DS\\x08\\x0066.7264 \\x19\\x00\\x1e\\x10DS\\n\\x00220.000000\\x19\\x00Z\\x10FL\\x04\\x00\\xec\\x04\\x03M'"
      ]
     },
     "execution_count": 15,
     "metadata": {},
     "output_type": "execute_result"
    }
   ],
   "source": [
    "fileObj = session.projects[projectLabel].subjects[subjectLabel].experiments[experimentNo].scans[scanNo].resources['DICOM'].files[0]\n",
    "\n",
    "with fileObj.open() as fileObjOpen:\n",
    "    temp = fileObjOpen.read(3000)\n",
    "    \n",
    "temp"
   ]
  },
  {
   "cell_type": "code",
   "execution_count": 16,
   "metadata": {},
   "outputs": [
    {
     "data": {
      "text/plain": [
       "3000"
      ]
     },
     "execution_count": 16,
     "metadata": {},
     "output_type": "execute_result"
    }
   ],
   "source": [
    "len(temp)"
   ]
  },
  {
   "cell_type": "markdown",
   "metadata": {},
   "source": [
    "Ran out of ideas for now.."
   ]
  }
 ],
 "metadata": {
  "kernelspec": {
   "display_name": "Python 3",
   "language": "python",
   "name": "python3"
  },
  "language_info": {
   "codemirror_mode": {
    "name": "ipython",
    "version": 3
   },
   "file_extension": ".py",
   "mimetype": "text/x-python",
   "name": "python",
   "nbconvert_exporter": "python",
   "pygments_lexer": "ipython3",
   "version": "3.7.4"
  }
 },
 "nbformat": 4,
 "nbformat_minor": 2
}
