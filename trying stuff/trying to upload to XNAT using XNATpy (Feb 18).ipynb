{
 "cells": [
  {
   "cell_type": "markdown",
   "metadata": {},
   "source": [
    "# Trying to upload DICOMs and ROIs (DICOM-RTSTRUCTs) to XNAT using XNATpy\n",
    "\n",
    "### https://xnat.readthedocs.io/en/latest/index.html\n",
    "\n",
    "### Changes from v1:  \n",
    "#### - Upload all DICOMs whose UIDs correspond to the UIDs of the ROI data.  \n",
    "#### - May need to modify the Project/Subject/Experiment(Session) labels in the DICOM data and RTSTRUCT file to match the labels assigned when creating new Project/Subject/Experiment..."
   ]
  },
  {
   "cell_type": "code",
   "execution_count": 1,
   "metadata": {},
   "outputs": [
    {
     "name": "stdout",
     "output_type": "stream",
     "text": [
      "XNATpy version = 0.3.21\n"
     ]
    }
   ],
   "source": [
    "import xnat\n",
    "#xnat.__version__ # 0.3.21\n",
    "print(f'XNATpy version = {xnat.__version__}') # 0.3.21\n",
    "import SimpleITK as sitk\n",
    "import pydicom\n",
    "import dicom2nifti\n",
    "import numpy as np\n",
    "#import math\n",
    "import matplotlib.pyplot as plt\n",
    "#from matplotlib import pyplot\n",
    "import matplotlib.image as mpimg\n",
    "import os, sys, time\n",
    "import natsort\n",
    "import dicom_functions\n",
    "import explore_dicom_data\n",
    "from myshow import myshow\n",
    "import importlib"
   ]
  },
  {
   "cell_type": "markdown",
   "metadata": {},
   "source": [
    "#### Connect to XNAT server:"
   ]
  },
  {
   "cell_type": "code",
   "execution_count": 2,
   "metadata": {},
   "outputs": [
    {
     "name": "stderr",
     "output_type": "stream",
     "text": [
      "[2020-02-18 15:52:24,969] DEBUG: __init__:197 >> Response url: http://10.1.1.17/data/projects\n",
      "[2020-02-18 15:52:24,969] DEBUG: __init__:59 >> Getting http://10.1.1.17/ to test auth\n",
      "[2020-02-18 15:52:25,228] DEBUG: __init__:61 >> Status: 200\n",
      "[2020-02-18 15:52:25,229] INFO: __init__:95 >> Logged in successfully as admin\n",
      "[2020-02-18 15:52:25,232] DEBUG: session:334 >> GET URI http://10.1.1.17/data/JSESSION\n",
      "[2020-02-18 15:52:25,306] DEBUG: session:307 >> Received response with status code: 200\n",
      "[2020-02-18 15:52:25,308] DEBUG: session:334 >> GET URI http://10.1.1.17/data/version\n",
      "[2020-02-18 15:52:25,325] DEBUG: session:307 >> Received response with status code: 404\n",
      "[2020-02-18 15:52:25,326] DEBUG: session:334 >> GET URI http://10.1.1.17/xapi/siteConfig/buildInfo?format=json\n",
      "[2020-02-18 15:52:25,331] DEBUG: session:307 >> Received response with status code: 200\n",
      "[2020-02-18 15:52:25,332] INFO: __init__:239 >> Found an 1.7 version (1.7.5.6)\n",
      "[2020-02-18 15:52:25,332] DEBUG: session:334 >> GET URI http://10.1.1.17/xapi/schemas?format=json\n",
      "[2020-02-18 15:52:25,346] DEBUG: session:307 >> Received response with status code: 200\n",
      "[2020-02-18 15:52:25,347] INFO: convert_xsd:949 >> === Retrieving schema from /xapi/schemas/roi ===\n",
      "[2020-02-18 15:52:25,348] DEBUG: session:334 >> GET URI http://10.1.1.17/xapi/schemas/roi\n",
      "[2020-02-18 15:52:25,376] DEBUG: session:307 >> Received response with status code: 200\n",
      "[2020-02-18 15:52:25,378] DEBUG: convert_xsd:919 >> Registering namespace: icr  ->  http://icr.ac.uk/icr\n",
      "[2020-02-18 15:52:25,378] DEBUG: convert_xsd:919 >> Registering namespace: xdat  ->  http://nrg.wustl.edu/xdat\n",
      "[2020-02-18 15:52:25,379] DEBUG: convert_xsd:919 >> Registering namespace: xs  ->  http://www.w3.org/2001/XMLSchema\n",
      "[2020-02-18 15:52:25,380] DEBUG: convert_xsd:919 >> Registering namespace: xnat  ->  http://nrg.wustl.edu/xnat\n",
      "[2020-02-18 15:52:25,380] DEBUG: convert_xsd:1241 >> Skipping non-class top-level tag {http://www.w3.org/2001/XMLSchema}import\n",
      "[2020-02-18 15:52:25,381] DEBUG: convert_xsd:1237 >> Adding RoiCollection -> icr:roiCollectionData to class name map\n",
      "[2020-02-18 15:52:25,382] DEBUG: convert_xsd:932 >> Found 0 unknown tags: set()\n",
      "[2020-02-18 15:52:25,382] INFO: convert_xsd:949 >> === Retrieving schema from /xapi/schemas/security ===\n",
      "[2020-02-18 15:52:25,383] DEBUG: session:334 >> GET URI http://10.1.1.17/xapi/schemas/security\n",
      "[2020-02-18 15:52:25,402] DEBUG: session:307 >> Received response with status code: 200\n",
      "[2020-02-18 15:52:25,405] DEBUG: convert_xsd:919 >> Registering namespace: xdat  ->  http://nrg.wustl.edu/security\n",
      "[2020-02-18 15:52:25,406] DEBUG: convert_xsd:919 >> Registering namespace: xs  ->  http://www.w3.org/2001/XMLSchema\n",
      "[2020-02-18 15:52:25,407] DEBUG: convert_xsd:1237 >> Adding security -> None to class name map\n",
      "[2020-02-18 15:52:25,408] DEBUG: convert_xsd:1237 >> Adding element_access -> None to class name map\n",
      "[2020-02-18 15:52:25,409] WARNING: convert_xsd:1138 >> Encountered attribute without name\n",
      "[2020-02-18 15:52:25,410] DEBUG: convert_xsd:1241 >> Skipping non-class top-level tag {http://www.w3.org/2001/XMLSchema}attributeGroup\n",
      "[2020-02-18 15:52:25,412] DEBUG: convert_xsd:1237 >> Adding bundle -> xdat:stored_search to class name map\n",
      "[2020-02-18 15:52:25,413] WARNING: convert_xsd:1138 >> Encountered attribute without name\n",
      "[2020-02-18 15:52:25,414] DEBUG: convert_xsd:1237 >> Adding UserGroup -> xdat:userGroup to class name map\n",
      "[2020-02-18 15:52:25,414] DEBUG: convert_xsd:1237 >> Adding XDATUser -> xdat:user to class name map\n",
      "[2020-02-18 15:52:25,416] DEBUG: convert_xsd:1237 >> Adding Search -> None to class name map\n",
      "[2020-02-18 15:52:25,417] DEBUG: convert_xsd:1237 >> Adding News -> xdat:newsEntry to class name map\n",
      "[2020-02-18 15:52:25,418] DEBUG: convert_xsd:1237 >> Adding Info -> xdat:infoEntry to class name map\n",
      "[2020-02-18 15:52:25,419] DEBUG: convert_xsd:932 >> Found 2 unknown tags: {'{http://nrg.wustl.edu/security}element', '{http://nrg.wustl.edu/security}field'}\n",
      "[2020-02-18 15:52:25,420] INFO: convert_xsd:949 >> === Retrieving schema from /xapi/schemas/xnat ===\n",
      "[2020-02-18 15:52:25,420] DEBUG: session:334 >> GET URI http://10.1.1.17/xapi/schemas/xnat\n",
      "[2020-02-18 15:52:25,443] DEBUG: session:307 >> Received response with status code: 200\n",
      "[2020-02-18 15:52:25,448] DEBUG: convert_xsd:919 >> Registering namespace: xnat  ->  http://nrg.wustl.edu/xnat\n",
      "[2020-02-18 15:52:25,449] DEBUG: convert_xsd:919 >> Registering namespace: prov  ->  http://www.nbirn.net/prov\n",
      "[2020-02-18 15:52:25,450] DEBUG: convert_xsd:919 >> Registering namespace: xdat  ->  http://nrg.wustl.edu/xdat\n",
      "[2020-02-18 15:52:25,450] DEBUG: convert_xsd:919 >> Registering namespace: xs  ->  http://www.w3.org/2001/XMLSchema\n",
      "[2020-02-18 15:52:25,451] DEBUG: convert_xsd:1241 >> Skipping non-class top-level tag {http://www.w3.org/2001/XMLSchema}import\n",
      "[2020-02-18 15:52:25,451] DEBUG: convert_xsd:1241 >> Skipping non-class top-level tag {http://www.w3.org/2001/XMLSchema}import\n",
      "[2020-02-18 15:52:25,451] DEBUG: convert_xsd:1237 >> Adding Project -> xnat:projectData to class name map\n",
      "[2020-02-18 15:52:25,452] DEBUG: convert_xsd:1237 >> Adding Subject -> xnat:subjectData to class name map\n",
      "[2020-02-18 15:52:25,452] DEBUG: convert_xsd:1237 >> Adding Investigator -> xnat:investigatorData to class name map\n",
      "[2020-02-18 15:52:25,453] DEBUG: convert_xsd:1237 >> Adding MRSession -> xnat:mrSessionData to class name map\n",
      "[2020-02-18 15:52:25,454] DEBUG: convert_xsd:1237 >> Adding CTSession -> xnat:ctSessionData to class name map\n",
      "[2020-02-18 15:52:25,454] DEBUG: convert_xsd:1237 >> Adding EPSSession -> xnat:epsSessionData to class name map\n",
      "[2020-02-18 15:52:25,455] DEBUG: convert_xsd:1237 >> Adding HDSession -> xnat:hdSessionData to class name map\n",
      "[2020-02-18 15:52:25,456] DEBUG: convert_xsd:1237 >> Adding ECGSession -> xnat:ecgSessionData to class name map\n",
      "[2020-02-18 15:52:25,456] DEBUG: convert_xsd:1237 >> Adding USSession -> xnat:usSessionData to class name map\n",
      "[2020-02-18 15:52:25,457] DEBUG: convert_xsd:1237 >> Adding IOSession -> xnat:ioSessionData to class name map\n",
      "[2020-02-18 15:52:25,458] DEBUG: convert_xsd:1237 >> Adding MGSession -> xnat:mgSessionData to class name map\n",
      "[2020-02-18 15:52:25,458] DEBUG: convert_xsd:1237 >> Adding DXSession -> xnat:dxSessionData to class name map\n",
      "[2020-02-18 15:52:25,459] DEBUG: convert_xsd:1237 >> Adding CRSession -> xnat:crSessionData to class name map\n",
      "[2020-02-18 15:52:25,460] DEBUG: convert_xsd:1237 >> Adding GMVSession -> xnat:gmvSessionData to class name map\n",
      "[2020-02-18 15:52:25,460] DEBUG: convert_xsd:1237 >> Adding GMSession -> xnat:gmSessionData to class name map\n",
      "[2020-02-18 15:52:25,461] DEBUG: convert_xsd:1237 >> Adding ESVSession -> xnat:esvSessionData to class name map\n",
      "[2020-02-18 15:52:25,461] DEBUG: convert_xsd:1237 >> Adding ESSession -> xnat:esSessionData to class name map\n",
      "[2020-02-18 15:52:25,462] DEBUG: convert_xsd:1237 >> Adding NMSession -> xnat:nmSessionData to class name map\n",
      "[2020-02-18 15:52:25,462] DEBUG: convert_xsd:1237 >> Adding SRSession -> xnat:srSessionData to class name map\n",
      "[2020-02-18 15:52:25,463] DEBUG: convert_xsd:1237 >> Adding DX3DCraniofacialSession -> xnat:dx3DCraniofacialSessionData to class name map\n",
      "[2020-02-18 15:52:25,463] DEBUG: convert_xsd:1237 >> Adding XA3DSession -> xnat:xa3DSessionData to class name map\n",
      "[2020-02-18 15:52:25,464] DEBUG: convert_xsd:1237 >> Adding RFSession -> xnat:rfSessionData to class name map\n",
      "[2020-02-18 15:52:25,464] DEBUG: convert_xsd:1237 >> Adding XASession -> xnat:xaSessionData to class name map\n",
      "[2020-02-18 15:52:25,465] DEBUG: convert_xsd:1237 >> Adding SMSession -> xnat:smSessionData to class name map\n",
      "[2020-02-18 15:52:25,465] DEBUG: convert_xsd:1237 >> Adding XCSession -> xnat:xcSessionData to class name map\n",
      "[2020-02-18 15:52:25,467] DEBUG: convert_xsd:1237 >> Adding XCVSession -> xnat:xcvSessionData to class name map\n",
      "[2020-02-18 15:52:25,468] DEBUG: convert_xsd:1237 >> Adding OPSession -> xnat:opSessionData to class name map\n",
      "[2020-02-18 15:52:25,468] DEBUG: convert_xsd:1237 >> Adding OPTSession -> xnat:optSessionData to class name map\n",
      "[2020-02-18 15:52:25,469] DEBUG: convert_xsd:1237 >> Adding RTSession -> xnat:rtSessionData to class name map\n",
      "[2020-02-18 15:52:25,470] DEBUG: convert_xsd:1237 >> Adding MEGSession -> xnat:megSessionData to class name map\n"
     ]
    },
    {
     "name": "stderr",
     "output_type": "stream",
     "text": [
      "[2020-02-18 15:52:25,470] DEBUG: convert_xsd:1237 >> Adding EEGSession -> xnat:eegSessionData to class name map\n",
      "[2020-02-18 15:52:25,471] DEBUG: convert_xsd:1237 >> Adding OtherDicomSession -> xnat:otherDicomSessionData to class name map\n",
      "[2020-02-18 15:52:25,471] DEBUG: convert_xsd:1237 >> Adding SubjectVariables -> xnat:subjectVariablesData to class name map\n",
      "[2020-02-18 15:52:25,472] DEBUG: convert_xsd:1237 >> Adding PETSession -> xnat:petSessionData to class name map\n",
      "[2020-02-18 15:52:25,472] DEBUG: convert_xsd:1237 >> Adding PETMRSession -> xnat:petmrSessionData to class name map\n",
      "[2020-02-18 15:52:25,472] DEBUG: convert_xsd:1237 >> Adding MRScan -> xnat:mrScanData to class name map\n",
      "[2020-02-18 15:52:25,474] DEBUG: convert_xsd:1237 >> Adding CTScan -> xnat:ctScanData to class name map\n",
      "[2020-02-18 15:52:25,476] DEBUG: convert_xsd:1237 >> Adding PETScan -> xnat:petScanData to class name map\n",
      "[2020-02-18 15:52:25,477] DEBUG: convert_xsd:1237 >> Adding EPSScan -> xnat:epsScanData to class name map\n",
      "[2020-02-18 15:52:25,478] DEBUG: convert_xsd:1237 >> Adding HDScan -> xnat:hdScanData to class name map\n",
      "[2020-02-18 15:52:25,478] DEBUG: convert_xsd:1237 >> Adding ECGScan -> xnat:ecgScanData to class name map\n",
      "[2020-02-18 15:52:25,479] DEBUG: convert_xsd:1237 >> Adding USScan -> xnat:usScanData to class name map\n",
      "[2020-02-18 15:52:25,480] DEBUG: convert_xsd:1237 >> Adding IOScan -> xnat:ioScanData to class name map\n",
      "[2020-02-18 15:52:25,482] DEBUG: convert_xsd:1237 >> Adding MGScan -> xnat:mgScanData to class name map\n",
      "[2020-02-18 15:52:25,483] DEBUG: convert_xsd:1237 >> Adding DXScan -> xnat:dxScanData to class name map\n",
      "[2020-02-18 15:52:25,483] DEBUG: convert_xsd:1237 >> Adding CRScan -> xnat:crScanData to class name map\n",
      "[2020-02-18 15:52:25,484] DEBUG: convert_xsd:1237 >> Adding GMVScan -> xnat:gmvScanData to class name map\n",
      "[2020-02-18 15:52:25,484] DEBUG: convert_xsd:1237 >> Adding GMScan -> xnat:gmScanData to class name map\n",
      "[2020-02-18 15:52:25,484] DEBUG: convert_xsd:1237 >> Adding ESVScan -> xnat:esvScanData to class name map\n",
      "[2020-02-18 15:52:25,485] DEBUG: convert_xsd:1237 >> Adding ESScan -> xnat:esScanData to class name map\n",
      "[2020-02-18 15:52:25,485] DEBUG: convert_xsd:1237 >> Adding NMScan -> xnat:nmScanData to class name map\n",
      "[2020-02-18 15:52:25,485] DEBUG: convert_xsd:1237 >> Adding SRScan -> xnat:srScanData to class name map\n",
      "[2020-02-18 15:52:25,486] DEBUG: convert_xsd:1237 >> Adding DX3DCraniofacialScan -> xnat:dx3DCraniofacialScanData to class name map\n",
      "[2020-02-18 15:52:25,486] DEBUG: convert_xsd:1237 >> Adding XA3DScan -> xnat:xa3DScanData to class name map\n",
      "[2020-02-18 15:52:25,487] DEBUG: convert_xsd:1237 >> Adding RFScan -> xnat:rfScanData to class name map\n",
      "[2020-02-18 15:52:25,487] DEBUG: convert_xsd:1237 >> Adding XAScan -> xnat:xaScanData to class name map\n",
      "[2020-02-18 15:52:25,488] DEBUG: convert_xsd:1237 >> Adding SMScan -> xnat:smScanData to class name map\n",
      "[2020-02-18 15:52:25,489] DEBUG: convert_xsd:1237 >> Adding XCScan -> xnat:xcScanData to class name map\n",
      "[2020-02-18 15:52:25,491] DEBUG: convert_xsd:1237 >> Adding XCVScan -> xnat:xcvScanData to class name map\n",
      "[2020-02-18 15:52:25,492] DEBUG: convert_xsd:1237 >> Adding OPScan -> xnat:opScanData to class name map\n",
      "[2020-02-18 15:52:25,493] DEBUG: convert_xsd:1237 >> Adding OPTScan -> xnat:optScanData to class name map\n",
      "[2020-02-18 15:52:25,494] DEBUG: convert_xsd:1237 >> Adding RTImageScan -> xnat:rtImageScanData to class name map\n",
      "[2020-02-18 15:52:25,495] DEBUG: convert_xsd:1237 >> Adding SCScan -> xnat:scScanData to class name map\n",
      "[2020-02-18 15:52:25,496] DEBUG: convert_xsd:1237 >> Adding SegScan -> xnat:segScanData to class name map\n",
      "[2020-02-18 15:52:25,497] DEBUG: convert_xsd:1237 >> Adding MRSScan -> xnat:mrsScanData to class name map\n",
      "[2020-02-18 15:52:25,497] DEBUG: convert_xsd:1237 >> Adding MEGScan -> xnat:megScanData to class name map\n",
      "[2020-02-18 15:52:25,498] DEBUG: convert_xsd:1237 >> Adding EEGScan -> xnat:eegScanData to class name map\n",
      "[2020-02-18 15:52:25,498] DEBUG: convert_xsd:1237 >> Adding VoiceAudioScan -> xnat:voiceAudioScanData to class name map\n",
      "[2020-02-18 15:52:25,499] DEBUG: convert_xsd:1237 >> Adding OtherDicomScan -> xnat:otherDicomScanData to class name map\n",
      "[2020-02-18 15:52:25,499] DEBUG: convert_xsd:1237 >> Adding ImageRegionResource -> xnat:regionResource to class name map\n",
      "[2020-02-18 15:52:25,500] DEBUG: convert_xsd:1237 >> Adding QCAssessment -> xnat:qcAssessmentData to class name map\n",
      "[2020-02-18 15:52:25,500] DEBUG: convert_xsd:1237 >> Adding ReconstructedImage -> xnat:reconstructedImageData to class name map\n",
      "[2020-02-18 15:52:25,501] DEBUG: convert_xsd:1237 >> Adding FieldDefinitionGroup -> xnat:fieldDefinitionGroup to class name map\n",
      "[2020-02-18 15:52:25,502] DEBUG: convert_xsd:1237 >> Adding ResourceCatalog -> xnat:resourceCatalog to class name map\n",
      "[2020-02-18 15:52:25,503] DEBUG: convert_xsd:1237 >> Adding QCManualAssessment -> xnat:qcManualAssessorData to class name map\n",
      "[2020-02-18 15:52:25,503] DEBUG: convert_xsd:1237 >> Adding Generic -> xnat:genericData to class name map\n",
      "[2020-02-18 15:52:25,504] DEBUG: convert_xsd:1237 >> Adding DicomCodedValue -> xnat:dicomCodedValue to class name map\n",
      "[2020-02-18 15:52:25,504] DEBUG: convert_xsd:1237 >> Adding Algorithm -> xnat:algorithm to class name map\n",
      "[2020-02-18 15:52:25,505] DEBUG: convert_xsd:1237 >> Adding PVisit -> xnat:pVisitData to class name map\n",
      "[2020-02-18 15:52:25,506] DEBUG: convert_xsd:1237 >> Adding FieldDefinitionSet -> xnat:fieldDefinitionGroup to class name map\n",
      "[2020-02-18 15:52:25,508] DEBUG: convert_xsd:1295 >> CLASS: xnat:projectData, PROP: ID, ELEMENT: <Element '{http://nrg.wustl.edu/xdat}sqlField' at 0x0000023D2954FE08>\n",
      "[2020-02-18 15:52:25,508] DEBUG: convert_xsd:1295 >> CLASS: xnatpy:subjectDataSharing, PROP: share, ELEMENT: <Element '{http://nrg.wustl.edu/xdat}sqlField' at 0x0000023D2954F6D8>\n",
      "[2020-02-18 15:52:25,509] DEBUG: convert_xsd:1295 >> CLASS: xnatpy:subjectDataExperiments, PROP: experiment, ELEMENT: <Element '{http://nrg.wustl.edu/xdat}sqlField' at 0x0000023D29546CC8>\n",
      "[2020-02-18 15:52:25,509] DEBUG: convert_xsd:1295 >> CLASS: xnat:subjectData, PROP: ID, ELEMENT: <Element '{http://nrg.wustl.edu/xdat}sqlField' at 0x0000023D295469F8>\n",
      "[2020-02-18 15:52:25,510] DEBUG: convert_xsd:1295 >> CLASS: xnat:subjectData, PROP: project, ELEMENT: <Element '{http://nrg.wustl.edu/xdat}sqlField' at 0x0000023D29546458>\n",
      "[2020-02-18 15:52:25,511] DEBUG: convert_xsd:1295 >> CLASS: xnat:subjectData, PROP: group, ELEMENT: <Element '{http://nrg.wustl.edu/xdat}sqlField' at 0x0000023D29546408>\n",
      "[2020-02-18 15:52:25,511] DEBUG: convert_xsd:1295 >> CLASS: xnat:projectParticipant, PROP: project, ELEMENT: <Element '{http://nrg.wustl.edu/xdat}sqlField' at 0x0000023D295419A8>\n",
      "[2020-02-18 15:52:25,512] DEBUG: convert_xsd:1295 >> CLASS: xnat:projectParticipant, PROP: subject_ID, ELEMENT: <Element '{http://nrg.wustl.edu/xdat}sqlField' at 0x0000023D29541598>\n",
      "[2020-02-18 15:52:25,512] DEBUG: convert_xsd:1295 >> CLASS: xnat:projectParticipant, PROP: group, ELEMENT: <Element '{http://nrg.wustl.edu/xdat}sqlField' at 0x0000023D29541368>\n",
      "[2020-02-18 15:52:25,513] DEBUG: convert_xsd:1295 >> CLASS: xnat:experimentData, PROP: ID, ELEMENT: <Element '{http://nrg.wustl.edu/xdat}sqlField' at 0x0000023D295356D8>\n",
      "[2020-02-18 15:52:25,515] DEBUG: convert_xsd:1295 >> CLASS: xnatpy:imageSessionDataRegions, PROP: region, ELEMENT: <Element '{http://nrg.wustl.edu/xdat}sqlField' at 0x0000023D29597BD8>\n",
      "[2020-02-18 15:52:25,515] DEBUG: convert_xsd:1295 >> CLASS: xnatpy:imageSessionDataScans, PROP: scan, ELEMENT: <Element '{http://nrg.wustl.edu/xdat}sqlField' at 0x0000023D2959D9A8>\n",
      "[2020-02-18 15:52:25,516] DEBUG: convert_xsd:1295 >> CLASS: xnatpy:imageSessionDataReconstructions, PROP: reconstructedImage, ELEMENT: <Element '{http://nrg.wustl.edu/xdat}sqlField' at 0x0000023D2959DEA8>\n",
      "[2020-02-18 15:52:25,516] DEBUG: convert_xsd:1295 >> CLASS: xnatpy:imageSessionDataAssessors, PROP: assessor, ELEMENT: <Element '{http://nrg.wustl.edu/xdat}sqlField' at 0x0000023D295A02C8>\n",
      "[2020-02-18 15:52:25,525] DEBUG: convert_xsd:1295 >> CLASS: xnatpy:fieldDefinitionGroupFieldsField, PROP: group, ELEMENT: <Element '{http://nrg.wustl.edu/xdat}sqlField' at 0x0000023D2964CEA8>\n"
     ]
    },
    {
     "name": "stderr",
     "output_type": "stream",
     "text": [
      "[2020-02-18 15:52:25,530] DEBUG: convert_xsd:932 >> Found 3 unknown tags: {'{http://nrg.wustl.edu/xdat}relation', '{http://nrg.wustl.edu/security}element', '{http://nrg.wustl.edu/security}field'}\n",
      "[2020-02-18 15:52:25,531] INFO: convert_xsd:949 >> === Retrieving schema from /xapi/schemas/assessments ===\n",
      "[2020-02-18 15:52:25,532] DEBUG: session:334 >> GET URI http://10.1.1.17/xapi/schemas/assessments\n",
      "[2020-02-18 15:52:25,561] DEBUG: session:307 >> Received response with status code: 200\n",
      "[2020-02-18 15:52:25,563] DEBUG: convert_xsd:919 >> Registering namespace: xs  ->  http://www.w3.org/2001/XMLSchema\n",
      "[2020-02-18 15:52:25,564] DEBUG: convert_xsd:919 >> Registering namespace: xnat  ->  http://nrg.wustl.edu/xnat\n",
      "[2020-02-18 15:52:25,565] DEBUG: convert_xsd:919 >> Registering namespace: xnat_a  ->  http://nrg.wustl.edu/xnat_assessments\n",
      "[2020-02-18 15:52:25,566] DEBUG: convert_xsd:1241 >> Skipping non-class top-level tag {http://www.w3.org/2001/XMLSchema}import\n",
      "[2020-02-18 15:52:25,568] DEBUG: convert_xsd:1237 >> Adding SideEffectsPittsburgh -> xnat_a:sideEffectsPittsburghData to class name map\n",
      "[2020-02-18 15:52:25,568] DEBUG: convert_xsd:1237 >> Adding YBOCS -> xnat_a:ybocsData to class name map\n",
      "[2020-02-18 15:52:25,569] DEBUG: convert_xsd:1237 >> Adding YGTSS -> xnat_a:ygtssData to class name map\n",
      "[2020-02-18 15:52:25,570] DEBUG: convert_xsd:1237 >> Adding UPDRS3 -> xnat_a:updrs3Data to class name map\n",
      "[2020-02-18 15:52:25,571] DEBUG: convert_xsd:1237 >> Adding SCID -> xnat_a:scidResearchData to class name map\n",
      "[2020-02-18 15:52:25,576] DEBUG: convert_xsd:932 >> Found 3 unknown tags: {'{http://nrg.wustl.edu/xdat}relation', '{http://nrg.wustl.edu/security}element', '{http://nrg.wustl.edu/security}field'}\n",
      "[2020-02-18 15:52:25,577] INFO: convert_xsd:949 >> === Retrieving schema from /xapi/schemas/screening/screeningAssessment ===\n",
      "[2020-02-18 15:52:25,577] DEBUG: session:334 >> GET URI http://10.1.1.17/xapi/schemas/screening/screeningAssessment\n",
      "[2020-02-18 15:52:25,590] DEBUG: session:307 >> Received response with status code: 200\n",
      "[2020-02-18 15:52:25,591] DEBUG: convert_xsd:919 >> Registering namespace: xdat  ->  http://nrg.wustl.edu/xdat\n",
      "[2020-02-18 15:52:25,592] DEBUG: convert_xsd:919 >> Registering namespace: scr  ->  http://nrg.wustl.edu/scr\n",
      "[2020-02-18 15:52:25,593] DEBUG: convert_xsd:919 >> Registering namespace: xnat  ->  http://nrg.wustl.edu/xnat\n",
      "[2020-02-18 15:52:25,593] DEBUG: convert_xsd:919 >> Registering namespace: xs  ->  http://www.w3.org/2001/XMLSchema\n",
      "[2020-02-18 15:52:25,594] DEBUG: convert_xsd:1241 >> Skipping non-class top-level tag {http://www.w3.org/2001/XMLSchema}import\n",
      "[2020-02-18 15:52:25,594] DEBUG: convert_xsd:1237 >> Adding ScreeningAssessment -> scr:screeningAssessment to class name map\n",
      "[2020-02-18 15:52:25,595] DEBUG: convert_xsd:932 >> Found 3 unknown tags: {'{http://nrg.wustl.edu/xdat}relation', '{http://nrg.wustl.edu/security}element', '{http://nrg.wustl.edu/security}field'}\n",
      "[2020-02-18 15:52:25,596] INFO: convert_xsd:949 >> === Retrieving schema from /xapi/schemas/pipeline/build ===\n",
      "[2020-02-18 15:52:25,597] DEBUG: session:334 >> GET URI http://10.1.1.17/xapi/schemas/pipeline/build\n",
      "[2020-02-18 15:52:25,613] DEBUG: session:307 >> Received response with status code: 200\n",
      "[2020-02-18 15:52:25,614] DEBUG: convert_xsd:919 >> Registering namespace: xs  ->  http://www.w3.org/2001/XMLSchema\n",
      "[2020-02-18 15:52:25,615] DEBUG: convert_xsd:919 >> Registering namespace: build  ->  http://nrg.wustl.edu/build\n",
      "[2020-02-18 15:52:25,615] DEBUG: convert_xsd:1237 >> Adding Build -> build:buildData to class name map\n",
      "[2020-02-18 15:52:25,616] DEBUG: convert_xsd:932 >> Found 3 unknown tags: {'{http://nrg.wustl.edu/xdat}relation', '{http://nrg.wustl.edu/security}element', '{http://nrg.wustl.edu/security}field'}\n",
      "[2020-02-18 15:52:25,618] INFO: convert_xsd:949 >> === Retrieving schema from /xapi/schemas/pipeline/repository ===\n",
      "[2020-02-18 15:52:25,618] DEBUG: session:334 >> GET URI http://10.1.1.17/xapi/schemas/pipeline/repository\n",
      "[2020-02-18 15:52:25,629] DEBUG: session:307 >> Received response with status code: 200\n",
      "[2020-02-18 15:52:25,630] DEBUG: convert_xsd:919 >> Registering namespace: xs  ->  http://www.w3.org/2001/XMLSchema\n",
      "[2020-02-18 15:52:25,631] DEBUG: convert_xsd:919 >> Registering namespace: xdat  ->  http://nrg.wustl.edu/xdat\n",
      "[2020-02-18 15:52:25,631] DEBUG: convert_xsd:919 >> Registering namespace: pipe  ->  http://nrg.wustl.edu/pipe\n",
      "[2020-02-18 15:52:25,633] DEBUG: convert_xsd:1237 >> Adding PipelineRepository -> None to class name map\n",
      "[2020-02-18 15:52:25,634] DEBUG: convert_xsd:1295 >> CLASS: pipe:pipelineDetails, PROP: path, ELEMENT: <Element '{http://nrg.wustl.edu/xdat}sqlField' at 0x0000023D29667AE8>\n",
      "[2020-02-18 15:52:25,635] DEBUG: convert_xsd:932 >> Found 3 unknown tags: {'{http://nrg.wustl.edu/xdat}relation', '{http://nrg.wustl.edu/security}element', '{http://nrg.wustl.edu/security}field'}\n",
      "[2020-02-18 15:52:25,636] INFO: convert_xsd:949 >> === Retrieving schema from /xapi/schemas/pipeline/workflow ===\n",
      "[2020-02-18 15:52:25,637] DEBUG: session:334 >> GET URI http://10.1.1.17/xapi/schemas/pipeline/workflow\n",
      "[2020-02-18 15:52:25,648] DEBUG: session:307 >> Received response with status code: 200\n",
      "[2020-02-18 15:52:25,649] DEBUG: convert_xsd:919 >> Registering namespace: xdat  ->  http://nrg.wustl.edu/xdat\n",
      "[2020-02-18 15:52:25,650] DEBUG: convert_xsd:919 >> Registering namespace: wrk  ->  http://nrg.wustl.edu/workflow\n",
      "[2020-02-18 15:52:25,650] DEBUG: convert_xsd:919 >> Registering namespace: xs  ->  http://www.w3.org/2001/XMLSchema\n",
      "[2020-02-18 15:52:25,651] DEBUG: convert_xsd:1237 >> Adding Workflow -> wrk:workflowData to class name map\n",
      "[2020-02-18 15:52:25,652] DEBUG: convert_xsd:932 >> Found 3 unknown tags: {'{http://nrg.wustl.edu/xdat}relation', '{http://nrg.wustl.edu/security}element', '{http://nrg.wustl.edu/security}field'}\n",
      "[2020-02-18 15:52:25,653] INFO: convert_xsd:949 >> === Retrieving schema from /xapi/schemas/birn/birnprov ===\n",
      "[2020-02-18 15:52:25,653] DEBUG: session:334 >> GET URI http://10.1.1.17/xapi/schemas/birn/birnprov\n",
      "[2020-02-18 15:52:25,665] DEBUG: session:307 >> Received response with status code: 200\n",
      "[2020-02-18 15:52:25,666] DEBUG: convert_xsd:919 >> Registering namespace: xdat  ->  http://nrg.wustl.edu/xdat\n",
      "[2020-02-18 15:52:25,667] DEBUG: convert_xsd:919 >> Registering namespace: prov  ->  http://www.nbirn.net/prov\n",
      "[2020-02-18 15:52:25,667] DEBUG: convert_xsd:919 >> Registering namespace: xs  ->  http://www.w3.org/2001/XMLSchema\n",
      "[2020-02-18 15:52:25,667] DEBUG: convert_xsd:1237 >> Adding process -> prov:process to class name map\n",
      "[2020-02-18 15:52:25,668] DEBUG: convert_xsd:1295 >> CLASS: prov:processStep, PROP: user, ELEMENT: <Element '{http://nrg.wustl.edu/xdat}sqlField' at 0x0000023D2966B868>\n",
      "[2020-02-18 15:52:25,669] DEBUG: convert_xsd:932 >> Found 3 unknown tags: {'{http://nrg.wustl.edu/xdat}relation', '{http://nrg.wustl.edu/security}element', '{http://nrg.wustl.edu/security}field'}\n",
      "[2020-02-18 15:52:25,669] INFO: convert_xsd:949 >> === Retrieving schema from /xapi/schemas/catalog ===\n",
      "[2020-02-18 15:52:25,669] DEBUG: session:334 >> GET URI http://10.1.1.17/xapi/schemas/catalog\n",
      "[2020-02-18 15:52:25,676] DEBUG: session:307 >> Received response with status code: 200\n",
      "[2020-02-18 15:52:25,677] DEBUG: convert_xsd:919 >> Registering namespace: cat  ->  http://nrg.wustl.edu/catalog\n",
      "[2020-02-18 15:52:25,677] DEBUG: convert_xsd:919 >> Registering namespace: xs  ->  http://www.w3.org/2001/XMLSchema\n",
      "[2020-02-18 15:52:25,678] DEBUG: convert_xsd:1237 >> Adding Catalog -> cat:catalog to class name map\n",
      "[2020-02-18 15:52:25,678] DEBUG: convert_xsd:1237 >> Adding Entry -> cat:entry to class name map\n",
      "[2020-02-18 15:52:25,679] DEBUG: convert_xsd:1237 >> Adding DCMCatalog -> cat:dcmCatalog to class name map\n",
      "[2020-02-18 15:52:25,680] DEBUG: convert_xsd:932 >> Found 3 unknown tags: {'{http://nrg.wustl.edu/xdat}relation', '{http://nrg.wustl.edu/security}element', '{http://nrg.wustl.edu/security}field'}\n",
      "[2020-02-18 15:52:25,681] INFO: convert_xsd:949 >> === Retrieving schema from /xapi/schemas/project ===\n",
      "[2020-02-18 15:52:25,681] DEBUG: session:334 >> GET URI http://10.1.1.17/xapi/schemas/project\n",
      "[2020-02-18 15:52:25,690] DEBUG: session:307 >> Received response with status code: 200\n"
     ]
    },
    {
     "name": "stderr",
     "output_type": "stream",
     "text": [
      "[2020-02-18 15:52:25,691] DEBUG: convert_xsd:919 >> Registering namespace: arc  ->  http://nrg.wustl.edu/arc\n",
      "[2020-02-18 15:52:25,691] DEBUG: convert_xsd:919 >> Registering namespace: xs  ->  http://www.w3.org/2001/XMLSchema\n",
      "[2020-02-18 15:52:25,691] DEBUG: convert_xsd:919 >> Registering namespace: xdat  ->  http://nrg.wustl.edu/xdat\n",
      "[2020-02-18 15:52:25,691] DEBUG: convert_xsd:1237 >> Adding ArchiveSpecification -> None to class name map\n",
      "[2020-02-18 15:52:25,693] DEBUG: convert_xsd:932 >> Found 3 unknown tags: {'{http://nrg.wustl.edu/xdat}relation', '{http://nrg.wustl.edu/security}element', '{http://nrg.wustl.edu/security}field'}\n",
      "[2020-02-18 15:52:25,693] INFO: convert_xsd:949 >> === Retrieving schema from /xapi/schemas/validation/protocolValidation ===\n",
      "[2020-02-18 15:52:25,694] DEBUG: session:334 >> GET URI http://10.1.1.17/xapi/schemas/validation/protocolValidation\n",
      "[2020-02-18 15:52:25,708] DEBUG: session:307 >> Received response with status code: 200\n",
      "[2020-02-18 15:52:25,710] DEBUG: convert_xsd:919 >> Registering namespace: xdat  ->  http://nrg.wustl.edu/xdat\n",
      "[2020-02-18 15:52:25,710] DEBUG: convert_xsd:919 >> Registering namespace: val  ->  http://nrg.wustl.edu/val\n",
      "[2020-02-18 15:52:25,711] DEBUG: convert_xsd:919 >> Registering namespace: xnat  ->  http://nrg.wustl.edu/xnat\n",
      "[2020-02-18 15:52:25,713] DEBUG: convert_xsd:919 >> Registering namespace: xs  ->  http://www.w3.org/2001/XMLSchema\n",
      "[2020-02-18 15:52:25,714] DEBUG: convert_xsd:1241 >> Skipping non-class top-level tag {http://www.w3.org/2001/XMLSchema}import\n",
      "[2020-02-18 15:52:25,715] DEBUG: convert_xsd:1237 >> Adding ProtocolVal -> val:protocolData to class name map\n",
      "[2020-02-18 15:52:25,716] DEBUG: convert_xsd:932 >> Found 3 unknown tags: {'{http://nrg.wustl.edu/xdat}relation', '{http://nrg.wustl.edu/security}element', '{http://nrg.wustl.edu/security}field'}\n",
      "[2020-02-18 15:52:25,716] INFO: convert_xsd:949 >> === Retrieving schema from /xapi/schemas/xdat/display ===\n",
      "[2020-02-18 15:52:25,717] DEBUG: session:334 >> GET URI http://10.1.1.17/xapi/schemas/xdat/display\n",
      "[2020-02-18 15:52:25,737] DEBUG: session:307 >> Received response with status code: 200\n",
      "[2020-02-18 15:52:25,738] DEBUG: convert_xsd:919 >> Registering namespace: xs  ->  http://www.w3.org/2001/XMLSchema\n",
      "[2020-02-18 15:52:25,739] DEBUG: convert_xsd:919 >> Registering namespace: display  ->  http://nrg.wustl.edu/display\n",
      "[2020-02-18 15:52:25,740] DEBUG: convert_xsd:1237 >> Adding Displays -> None to class name map\n",
      "[2020-02-18 15:52:25,740] DEBUG: convert_xsd:1237 >> Adding Mapping -> None to class name map\n",
      "[2020-02-18 15:52:25,741] DEBUG: convert_xsd:1237 >> Adding DisplayFieldElement -> None to class name map\n",
      "[2020-02-18 15:52:25,741] DEBUG: convert_xsd:1237 >> Adding Arc-Definition -> None to class name map\n",
      "[2020-02-18 15:52:25,742] DEBUG: convert_xsd:1237 >> Adding Arc -> None to class name map\n",
      "[2020-02-18 15:52:25,743] WARNING: convert_xsd:1138 >> Encountered attribute without name\n",
      "[2020-02-18 15:52:25,744] DEBUG: convert_xsd:932 >> Found 3 unknown tags: {'{http://nrg.wustl.edu/xdat}relation', '{http://nrg.wustl.edu/security}element', '{http://nrg.wustl.edu/security}field'}\n",
      "[2020-02-18 15:52:25,744] INFO: convert_xsd:949 >> === Retrieving schema from /xapi/schemas/xdat ===\n",
      "[2020-02-18 15:52:25,745] DEBUG: session:334 >> GET URI http://10.1.1.17/xapi/schemas/xdat\n",
      "[2020-02-18 15:52:25,758] DEBUG: session:307 >> Received response with status code: 200\n",
      "[2020-02-18 15:52:25,759] DEBUG: convert_xsd:919 >> Registering namespace: xs  ->  http://www.w3.org/2001/XMLSchema\n",
      "[2020-02-18 15:52:25,759] DEBUG: convert_xsd:1237 >> Adding rule -> None to class name map\n",
      "[2020-02-18 15:52:25,760] DEBUG: convert_xsd:1237 >> Adding sqlField -> None to class name map\n",
      "[2020-02-18 15:52:25,760] DEBUG: convert_xsd:1237 >> Adding relation -> None to class name map\n",
      "[2020-02-18 15:52:25,760] DEBUG: convert_xsd:1237 >> Adding field -> None to class name map\n",
      "[2020-02-18 15:52:25,761] DEBUG: convert_xsd:1237 >> Adding sqlElement -> None to class name map\n",
      "[2020-02-18 15:52:25,761] DEBUG: convert_xsd:1237 >> Adding element -> None to class name map\n",
      "[2020-02-18 15:52:25,761] DEBUG: convert_xsd:1237 >> Adding container -> None to class name map\n",
      "[2020-02-18 15:52:25,762] DEBUG: convert_xsd:932 >> Found 3 unknown tags: {'{http://nrg.wustl.edu/xdat}relation', '{http://nrg.wustl.edu/security}element', '{http://nrg.wustl.edu/security}field'}\n",
      "[2020-02-18 15:52:25,762] INFO: convert_xsd:949 >> === Retrieving schema from /xapi/schemas/xdat/instance ===\n",
      "[2020-02-18 15:52:25,762] DEBUG: session:334 >> GET URI http://10.1.1.17/xapi/schemas/xdat/instance\n",
      "[2020-02-18 15:52:25,768] DEBUG: session:307 >> Received response with status code: 200\n",
      "[2020-02-18 15:52:25,769] DEBUG: convert_xsd:919 >> Registering namespace: xs  ->  http://www.w3.org/2001/XMLSchema\n",
      "[2020-02-18 15:52:25,769] DEBUG: convert_xsd:1237 >> Adding Instance_Settings -> None to class name map\n",
      "[2020-02-18 15:52:25,769] DEBUG: convert_xsd:932 >> Found 3 unknown tags: {'{http://nrg.wustl.edu/xdat}relation', '{http://nrg.wustl.edu/security}element', '{http://nrg.wustl.edu/security}field'}\n",
      "[2020-02-18 15:52:25,770] INFO: convert_xsd:949 >> === Retrieving schema from /xapi/schemas/xdat/PlexiViewer ===\n",
      "[2020-02-18 15:52:25,770] DEBUG: session:334 >> GET URI http://10.1.1.17/xapi/schemas/xdat/PlexiViewer\n",
      "[2020-02-18 15:52:25,776] DEBUG: session:307 >> Received response with status code: 200\n",
      "[2020-02-18 15:52:25,777] DEBUG: convert_xsd:919 >> Registering namespace: xs  ->  http://www.w3.org/2001/XMLSchema\n",
      "[2020-02-18 15:52:25,778] DEBUG: convert_xsd:1237 >> Adding Layout -> LayoutDescription to class name map\n",
      "[2020-02-18 15:52:25,778] DEBUG: convert_xsd:1237 >> Adding CropDetails -> None to class name map\n",
      "[2020-02-18 15:52:25,779] DEBUG: convert_xsd:1237 >> Adding MontageView -> None to class name map\n",
      "[2020-02-18 15:52:25,779] DEBUG: convert_xsd:1237 >> Adding Viewer -> None to class name map\n",
      "[2020-02-18 15:52:25,780] WARNING: convert_xsd:1138 >> Encountered attribute without name\n",
      "[2020-02-18 15:52:25,781] WARNING: convert_xsd:1138 >> Encountered attribute without name\n",
      "[2020-02-18 15:52:25,782] WARNING: convert_xsd:1138 >> Encountered attribute without name\n",
      "[2020-02-18 15:52:25,782] WARNING: convert_xsd:1138 >> Encountered attribute without name\n",
      "[2020-02-18 15:52:25,783] WARNING: convert_xsd:1138 >> Encountered attribute without name\n",
      "[2020-02-18 15:52:25,784] DEBUG: convert_xsd:932 >> Found 3 unknown tags: {'{http://nrg.wustl.edu/xdat}relation', '{http://nrg.wustl.edu/security}element', '{http://nrg.wustl.edu/security}field'}\n",
      "[2020-02-18 15:52:25,789] DEBUG: convert_xsd:1397 >> namespaces: {'icr': 'http://icr.ac.uk/icr', 'xdat': 'http://nrg.wustl.edu/xdat', 'xs': 'http://www.w3.org/2001/XMLSchema', 'xnat': 'http://nrg.wustl.edu/xnat', 'prov': 'http://www.nbirn.net/prov', 'xnat_a': 'http://nrg.wustl.edu/xnat_assessments', 'scr': 'http://nrg.wustl.edu/scr', 'build': 'http://nrg.wustl.edu/build', 'pipe': 'http://nrg.wustl.edu/pipe', 'wrk': 'http://nrg.wustl.edu/workflow', 'cat': 'http://nrg.wustl.edu/catalog', 'arc': 'http://nrg.wustl.edu/arc', 'val': 'http://nrg.wustl.edu/val', 'display': 'http://nrg.wustl.edu/display'}\n",
      "[2020-02-18 15:52:25,790] DEBUG: convert_xsd:1398 >> namespace prefixes: {'http://icr.ac.uk/icr': 'icr', 'http://nrg.wustl.edu/xdat': 'xdat', 'http://www.w3.org/2001/XMLSchema': 'xs', 'http://nrg.wustl.edu/xnat': 'xnat', 'http://nrg.wustl.edu/security': 'xdat', 'http://www.nbirn.net/prov': 'prov', 'http://nrg.wustl.edu/xnat_assessments': 'xnat_a', 'http://nrg.wustl.edu/scr': 'scr', 'http://nrg.wustl.edu/build': 'build', 'http://nrg.wustl.edu/pipe': 'pipe', 'http://nrg.wustl.edu/workflow': 'wrk', 'http://nrg.wustl.edu/catalog': 'cat', 'http://nrg.wustl.edu/arc': 'arc', 'http://nrg.wustl.edu/val': 'val', 'http://nrg.wustl.edu/display': 'display'}\n",
      "[2020-02-18 15:52:25,791] INFO: convert_xsd:1400 >> === Pruning data structure ===\n",
      "[2020-02-18 15:52:25,792] DEBUG: convert_xsd:1403 >> Classed before prune: {'xnat:addField', 'xnat:gmvScanData', 'xdat:newsEntry', 'xnat:petAssessorData', 'xnat:xa3DSessionData', 'xnatpy:metaFieldString', 'xnatpy:subjectVariablesDataVariablesVariable', 'xnatpy:petmrSessionDataTracerIntermediate', 'xnatpy:stored_searchAllowed_user', 'xnatpy:heightFloat', 'xnatpy:eegScanDataSoftwarefiltersimpedancesImpedance', 'cat:dcmCatalog', 'xnat:xcScanData', 'xnatpy:datatypeProtocolDefinitions', 'xnatpy:petScanDataParametersDimensions', 'xnatpy:SubQueryFieldMappingcolumns', 'xnatpy:projectFieldspecifications', 'xnat:rfSessionData', 'xnatpy:propertyString', 'xnat:xcvSessionData', 'xnat:regionResource', 'xnatpy:projectPipelinesDescendants', 'xnatpy:primary_passwordString', 'xnatpy:imageScanDataSharingShare', 'xnatpy:aliasString', 'xnatpy:FieldTypeHtml-image', 'xnat:projectData', 'icr:roiCollectionData', 'xnatpy:userAssigned_roles', 'xnatpy:shareString', 'xnat:imageAssessorData', 'xnatpy:experimentDataDelay', 'wrk:xnatExecutionEnvironment', 'xnat:smScanData', 'xnatpy:petScanDataParametersFilter', 'xnatpy:petScanDataParametersZfilter', 'xnatpy:protocolDataCheckConditions', 'xnat:mrAssessorData', 'xnat:esvScanData', 'xnatpy:addFieldString', 'xnatpy:imageScanDataScanner', 'xnatpy:ctScanDataDcmvalidation', 'xnatpy:PlexiViewerTypeViewableitemHi-resLayer', 'xnatpy:protocolDataCheckConditionsCondition', 'xnat:segScanData', 'xnat:mgSessionData', 'xdat:history', 'xnatpy:intermediateFloat', 'xnatpy:petQcScanDataProcessingerrors', 'xnatpy:fieldDefinitionGroupFieldsFieldPossiblevaluesPossiblevalue', 'cat:dcmEntry', 'xnat:resourceSeries', 'xnat:dx3DCraniofacialSessionData', 'xnatpy:processStepLibrary', 'xnatpy:catalogMetafieldsMetafield', 'xnat:usSessionData', 'xnatpy:updrs3DataHandsram', 'xnatpy:updrs3DataActionposturaltremor', 'xnatpy:eegScanDataChannels', 'xnatpy:delayInteger', 'xnatpy:LayoutDescriptionCoordinates', 'PlexiViewerType', 'xnatpy:petmrSessionDataTracerTotalmass', 'LayoutDescription', 'build:imageSessionData', 'xnatpy:protocolDataCheckCommentsComment', 'xnatpy:ratingString', 'xnatpy:SubQueryFieldMappingcolumnsMappingcolumn', 'xnatpy:studyProtocolSubjectgroups', 'xnat:ctSessionData', 'xnatpy:subjectVariablesDataVariables', 'xnatpy:projectPipelines', 'xnatpy:protocolDataScansScan_checkComments', 'xnatpy:mrScanDataParameters', 'xnat:resourceCatalog', 'xnat:smSessionData', 'xnatpy:subjectDataFields', 'xnatpy:samplingIntervalFloat', 'xnatpy:stored_searchSort_by', 'xnatpy:qcAssessmentDataScans', 'xnatpy:FieldTypeContent', 'val:protocolData', 'display:FieldType', 'xnatpy:pipelineParameterDataParameter', 'xnat:crScanData', 'xnatpy:ygtssDataMotor', 'xnat_a:sideEffectsPittsburghData', 'xnatpy:stored_searchAllowed_groups', 'build:pipelineData', 'xnat_a:ygtssData', 'xdat:element_security', 'xnatpy:studyProtocolSubjectvariablesVariable', 'xnatpy:mrScanDataParametersInplanephaseencoding', 'xnatpy:fieldDefinitionGroupFieldsFieldPossiblevalues', 'xnatpy:imageResourceDimensions', 'xnatpy:abstractResourceTagsTag', 'xnatpy:imageAssessorDataIn', 'pipe:pipelineDetails', 'xnatpy:experimentDataSharingShare', 'xnatpy:ctScanDataParametersVoxelres', 'xnat:ctScanData', 'val:additionalVal', 'xnat:subjectVariablesData', 'xnatpy:regionResourceSubregionlabelsLabel', 'xnat:ecgSessionData', 'xnatpy:studyProtocolAcqconditions', 'xnatpy:qcAssessmentDataScansScanSliceqc', 'xnat:abstractProtocol', 'xnatpy:updrs3DataRigidity', 'xnat:volumetricRegion', 'arc:project', 'xnatpy:petScanDataParametersRfilter', 'xnatpy:tagString', 'xnat:qcAssessmentData', 'xnatpy:pipelineDetailsParameters', 'xnat:statisticsData', 'xnat:gmSessionData', 'wrk:workflowData', 'xnatpy:imageSessionDataRegions', 'prov:processStep', 'xnatpy:FieldTypeHtml-linkProperty', 'xnat:esScanData', 'xnatpy:additionalStatisticsDouble', 'xnatpy:petScanDataParameters', 'xnatpy:projectDataResources', 'xnatpy:fieldString', 'xnatpy:petScanDataParametersFrames', 'xnatpy:ctScanDataParametersFocalspots', 'xdat:field_mapping_set', 'xnatpy:petScanDataParametersResolution', 'xnatpy:protocolDataCheck', 'xnatpy:mrScanDataParametersMatrix', 'xnatpy:eegScanDataParametersDatarecord', 'xnatpy:compilerString', 'xnatpy:ctScanDataParametersFov', 'xnatpy:dicomSeriesImageset', 'xnat:otherDicomSessionData', 'xnatpy:dicomSeriesImagesetImage', 'xnatpy:parameterString', 'xnat:pVisitData', 'xdat:criteria', 'xnatpy:statisticsDataAddfield', 'xnat:abstractResource', 'xnatpy:studyProtocolAcqconditionsCondition', 'xnatpy:subjectDataAddid', 'xnatpy:FieldTypeHtml-link', 'xnatpy:pipelineDetailsGenerateselements', 'xnat:dicomSeries', 'xnatpy:PlexiViewerTypeViewableitemThumbnailSlice', 'xnatpy:imageResourceSeriesVoxelres', 'xdat:user', 'xdat:element_action_type', 'xnat:imageResource', 'xnatpy:statisticsDataAdditionalstatistics', 'xnat:xaScanData', 'xnatpy:pipelineDataParameters', 'xnatpy:regionResourceCreator', 'xnatpy:dicomSeriesDimensions', 'xdat:infoEntry', 'xnat:megScanData', 'xnat:esSessionData', 'xnatpy:catalogEntries', 'xnatpy:ecatValidationString', 'xnat:mrsScanData', 'xnatpy:dcmCatalogDimensions', 'xnatpy:imageAssessorDataOut', 'xnatpy:scidResearchDataAnxietydisorders', 'xdat:search_field', 'xnat:megSessionData', 'xnatpy:petSessionDataTracer', 'xnatpy:ctScanDataParametersDerivation', 'xnatpy:PlexiViewerTypeViewableitemUserinterfaceLinkeddropdown', 'xnatpy:weightFloat', 'xnatpy:PlexiViewerTypeViewableitemHi-res', 'xnat:petSessionData', 'xnatpy:projectPipelinesPipeline', 'xnatpy:mrScanDataParametersVoxelres', 'xdat:action_type', 'xnatpy:petScanDataParametersPixelsize', 'xnatpy:imageSessionDataReconstructions', 'xnatpy:pipelineDetailsParametersParameterValues', 'xnatpy:entryMetafieldsMetafield', 'xnatpy:projectProperties', 'xnatpy:reconstructedImageDataComputations', 'xnat_a:updrs3Data', 'xnat:petmrSessionData', 'xnat:dx3DCraniofacialScanData', 'xnat:dxScanData', 'xnatpy:eegSessionDataSamplingrate', 'xdat:user_login', 'xnatpy:screeningAssessmentScans', 'xnat:ecgScanData', 'xnat:ioSessionData', 'xnatpy:petScanDataParametersOffset', 'xnat:xaSessionData', 'xnat:experimentData', 'display:SubQueryField', 'xnatpy:pipelineParameterDataCsvvalues', 'xnatpy:imageSessionDataScanner', 'xnat:epsScanData', 'xnat:hdSessionData', 'xnatpy:imageAssessorDataParameters', 'xnatpy:imageSessionDataPipeline', 'xnatpy:eegScanDataSoftwarefiltersimpedances', 'xnat:srScanData', 'xnatpy:userPrimary_password', 'xnat:opSessionData', 'xnatpy:scidResearchDataEatingdisorders', 'xnat:mrQcScanData', 'xnatpy:xnatExecutionEnvironmentParametersParameter', 'xnatpy:optScanDataParametersVoxelres', 'xnat:rfScanData', 'xnat:computationData', 'xnat:studyProtocol', 'xnatpy:updrs3DataFoottaps', 'xnat:algorithm', 'xdat:access_log', 'xnatpy:FieldTypeHtml-linkSecurelink', 'xnatpy:imageSessionDataScans', 'xnatpy:mrScanDataParametersDiffusion', 'xnat:genericData', 'xnatpy:imageSessionDataAssessors', 'xnatpy:catalogTags', 'cat:catalog', 'xnat:eegScanData', 'xnatpy:xaScanDataParametersFov', 'xnatpy:processStepProgram', 'xnatpy:subjectDataResources', 'xnat:xcSessionData', 'xnat:imageResourceSeries', 'xnat:scScanData', 'xnat:imageScanData', 'xnatpy:subjectDataExperiments', 'xdat:meta_data', 'xnatpy:element_securityElement_actions', 'xnatpy:programString', 'xnatpy:xnatExecutionEnvironmentParameters', 'xnatpy:reconstructedImageDataInscans', 'xnatpy:ctScanDataParametersRescale', 'xnat:epsSessionData', 'xnat:otherQcScanData', 'xnat:qcManualAssessorData', 'xnatpy:roiCollectionDataReferences', 'xnat:eegSessionData', 'xnatpy:petSessionDataTracerIntermediate', 'xnat:usScanData', 'xnat:dicomCodedValue', 'xnatpy:entryMetafields', 'xdat:criteria_set', 'xnat:derivedData', 'xnatpy:projectDataFields', 'xnatpy:primary_security_fieldString', 'xnat:subjectData', 'xnatpy:userGroups', 'xnat:mrSessionData', 'xnatpy:subjectDataFieldsField', 'xnatpy:processStepCompiler', 'xnatpy:platformString', 'scr:screeningScanData', 'xnat:optSessionData', 'xnatpy:projectPipelinesDescendantsDescendantPipeline', 'xnatpy:addIDString', 'xnatpy:qcScanDataRating', 'xnatpy:PlexiViewerTypeViewableitemLo-resParameter', 'xnat:projectParticipant', 'xnat:dxSessionData', 'xnatpy:petmrSessionDataTracerIsotope', 'xnatpy:pipelineDetailsParametersParameter', 'xnatpy:petSessionDataTracerIsotope', 'xnatpy:studyProtocolSubjectvariables', 'prov:process', 'xnat:nmSessionData', 'xnatpy:updrs3DataTremorrest', 'xdat:field_mapping', 'xdat:stored_search', 'xnatpy:dcmCatalogVoxelres', 'xnatpy:petScanDataParametersFramesFrame', 'xnat:otherDicomScanData', 'xnatpy:ygtssDataPhonic', 'xnat_a:ybocsData', 'xnatpy:studyProtocolImagesessiontypes', 'xnatpy:updrs3DataFingertaps', 'xnatpy:subjectDataSharing', 'display:HTML-Cell', 'xnat:abstractStatistics', 'xnatpy:protocolDataScansScan_checkConditionsCondition', 'xnatpy:doseFloat', 'xnatpy:imageResourceSeriesDimensions', 'xnatpy:reconstructedImageDataParameters', 'xnatpy:entryTags', 'xnatpy:projectDataPublications', 'xnatpy:qcAssessmentDataScansScanSliceqcSlice', 'xnat:subjectMetadata', 'xnatpy:updrs3DataClicker', 'xnatpy:studyProtocolSubjectgroupsGroup', 'xnat:imageSessionData', 'build:buildData', 'xnatpy:protocolDataCheckComments', 'xnat_a:scidResearchData', 'xdat:LONGVARCHAR', 'xnatpy:PlexiViewerTypeViewableitemThumbnail', 'xnatpy:regionResourceSubregionlabels', 'xnatpy:qcScanDataFieldsField', 'xnatpy:imageResourceVoxelres', 'xdat:role_type', 'xnatpy:csvValuesString', 'xnat:investigatorData', 'xnat:nmScanData', 'xnat:validationData', 'xnatpy:catalogSets', 'xnatpy:variableString', 'xnatpy:estimatedDoseSavingFloat', 'xnatpy:ContentString', 'xnatpy:projectPipelinesDescendantsDescendant', 'xnat:srSessionData', 'xnat:resource', 'arc:fieldSpecification', 'xnat:publicationResource', 'xnatpy:PlexiViewerTypeViewableitemHi-resLayoutref', 'xnatpy:dcmValidationString', 'xnatpy:scidResearchDataMoodepisodes', 'xnatpy:projectDataAliasesAlias', 'xnatpy:experimentDataFields', 'xnatpy:role_typeAllowed_actions', 'xnat:voiceAudioScanData', 'xnatpy:xaScanDataParametersPixelres', 'xnatpy:projectDataFieldsField', 'xnatpy:PlexiViewerTypeViewableitem', 'xnat:petScanData', 'build:pipelineParameterData', 'xnatpy:xnatExecutionEnvironmentParameterfile', 'xnat:xa3DScanData', 'xnat:rtSessionData', 'xnatpy:labelString', 'xnat:optScanData', 'xnatpy:element_securityListing_actions', 'xnat:abstractSubjectMetadata', 'arc:pipelineData', 'xnatpy:qcScanDataFields', 'xnat:subjectAssessorData', 'xnat:reconstructedImageData', 'xnatpy:ctScanDataParametersCollimationwidth', 'xnatpy:abstractResourceTags', 'xnatpy:mrScanDataDcmvalidation', 'xnatpy:eegScanDataChannelsChannel', 'wrk:abstractExecutionEnvironment', 'xnatpy:xaScanDataParameters', 'xnatpy:studyProtocolImagesessiontypesSession', 'xnatpy:fieldDefinitionGroupFieldsField', 'xnatpy:qcManualAssessorDataScans', 'xnatpy:FieldTypeHtml-linkPropertyInsertvalue', 'xnatpy:ctScanDataParametersEstimateddosesaving', 'xnatpy:PlexiViewerTypeViewableitemUserinterface', 'xnatpy:isotopeString', 'arc:pathInfo', 'xnatpy:commentString', 'xnat:petQcScanData', 'xnat:abstractDemographicData', 'xnatpy:ctScanDataParameters', 'cat:entry', 'xnatpy:fieldDefinitionGroupFields', 'xnatpy:protocolDataScansScan_check', 'xnatpy:petSessionDataTracerDose', 'xnat:rtImageScanData', 'xnatpy:scidResearchDataOptional', 'xnatpy:scidResearchDataMooddisorders', 'xnatpy:demographicDataHeight', 'xnatpy:fieldSpecificationString', 'xnatpy:imageScanDataSharing', 'xnatpy:experimentDataResources', 'xnatpy:experimentDataFieldsField', 'xnatpy:experimentDataSharing', 'xnatpy:libraryString', 'xnatpy:PlexiViewerTypeViewableitemLo-res', 'xnatpy:optScanDataParameters', 'xnatpy:demographicDataWeight', 'xnatpy:optScanDataDcmvalidation', 'xnatpy:element_securityPrimary_security_fields', 'xnatpy:scidResearchDataSomatoformdisorders', 'xnatpy:optScanDataParametersFov', 'arc:pipelineParameterData', 'xnat:contrastBolus', 'xdat:primary_security_field', 'xnatpy:samplingRateFloat', 'xnat:hdScanData', 'xnatpy:qcAssessmentDataScansScan', 'xnatpy:protocolDataScansScan_checkConditions', 'xdat:change_info', 'xnatpy:mrScanDataParametersFov', 'xnatpy:petmrSessionDataTracerDose', 'xnatpy:projectDataInvestigators', 'xnatpy:volumetricRegionSubregions', 'xnat:opScanData', 'xnatpy:reconstructedImageDataOut', 'xnatpy:petScanDataEcatvalidation', 'xnatpy:petmrSessionDataTracer', 'xnatpy:scidResearchDataPsychoticdisorders', 'xnatpy:derivationString', 'xnat:mrScanData', 'xnatpy:dicomSeriesVoxelres', 'xnat:mgScanData', 'xnat:ioScanData', 'xnatpy:protocolDataScans', 'SchemaLinkType', 'xnatpy:scannerString', 'xnat:xcvScanData', 'xnat:esvSessionData', 'xnat:fieldDefinitionGroup', 'xnatpy:PlexiViewerTypeViewableitemSchemalink', 'arc:property', 'xnatpy:FieldTypeHtml-linkSecurelinkSecuritymappingvalue', 'xnatpy:reconstructedImageDataIn', 'xnatpy:projectDataAliases', 'xnatpy:element_securityListing_actionsListing_action', 'xnatpy:protocolDataScansScan_checkCommentsComment', 'xnatpy:totalMassFloat', 'xnat:qcScanData', 'xnat:datatypeProtocol', 'xnatpy:catalogMetafields', 'xnat:gmvSessionData', 'xnatpy:petSessionDataTracerTotalmass', 'scr:screeningAssessment', 'xnatpy:eegScanDataParameters', 'xnat:gmScanData', 'xnatpy:scidResearchDataSubstanceusedisorders', 'xnatpy:possibleValueString', 'xdat:userGroup', 'xnatpy:processStepPlatform', 'xnatpy:volumetricRegionSubregionsSubregion', 'xnatpy:eegSessionDataSamplinginterval', 'xnat:crSessionData', 'xnatpy:updrs3DataHandmovementsgrip', 'xnatpy:scidResearchDataPsychoticsymptoms', 'xnat:demographicData'}\n"
     ]
    },
    {
     "name": "stderr",
     "output_type": "stream",
     "text": [
      "[2020-02-18 15:52:25,793] INFO: convert_xsd:1356 >> Removing class xnatpy:roiCollectionDataReferences from parser, it only has one element!\n",
      "[2020-02-18 15:52:25,793] INFO: convert_xsd:1356 >> Removing class xnatpy:role_typeAllowed_actions from parser, it only has one element!\n",
      "[2020-02-18 15:52:25,794] INFO: convert_xsd:1356 >> Removing class xnatpy:element_securityPrimary_security_fields from parser, it only has one element!\n",
      "[2020-02-18 15:52:25,795] INFO: convert_xsd:1356 >> Removing class xnatpy:element_securityElement_actions from parser, it only has one element!\n",
      "[2020-02-18 15:52:25,795] INFO: convert_xsd:1356 >> Removing class xnatpy:element_securityListing_actions from parser, it only has one element!\n",
      "[2020-02-18 15:52:25,796] DEBUG: convert_xsd:1362 >> Ignoring non-listing...\n",
      "[2020-02-18 15:52:25,797] DEBUG: convert_xsd:1363 >> Element class: {'parser': <xnat.convert_xsd.SchemaParser object at 0x0000023D2941D6C8>, 'name': 'xnatpy:userPrimary_password', 'logger': <Logger xnat-ce9e3233f8742ed021c5bcfcb7b6320c (DEBUG)>, 'field_name': 'primary_password', 'parent_class': 'xdat:user', 'parent_property': <AttributePrototype [subobject] primary_password>, 'attributes': OrderedDict([('encrypt', <AttributePrototype [property] encrypt>)]), 'base_class': 'xnatpy:primary_passwordString', 'display_identifier': None, 'abstract': False, '_simple': False, '_writer': None, 'source_schema': '/xapi/schemas/security'}\n",
      "[2020-02-18 15:52:25,797] INFO: convert_xsd:1356 >> Removing class xnatpy:userAssigned_roles from parser, it only has one element!\n",
      "[2020-02-18 15:52:25,798] INFO: convert_xsd:1356 >> Removing class xnatpy:userGroups from parser, it only has one element!\n",
      "[2020-02-18 15:52:25,798] DEBUG: convert_xsd:1362 >> Ignoring non-listing...\n",
      "[2020-02-18 15:52:25,798] DEBUG: convert_xsd:1363 >> Element class: {'parser': <xnat.convert_xsd.SchemaParser object at 0x0000023D2941D6C8>, 'name': 'xnatpy:stored_searchAllowed_user', 'logger': <Logger xnat-ce9e3233f8742ed021c5bcfcb7b6320c (DEBUG)>, 'field_name': 'allowed_user', 'parent_class': 'xdat:stored_search', 'parent_property': <AttributePrototype [listing] allowed_user>, 'attributes': OrderedDict([('login', <AttributePrototype [property] login>)]), 'base_class': None, 'display_identifier': None, 'abstract': False, '_simple': False, '_writer': None, 'source_schema': '/xapi/schemas/security'}\n",
      "[2020-02-18 15:52:25,799] INFO: convert_xsd:1356 >> Removing class xnatpy:stored_searchAllowed_groups from parser, it only has one element!\n",
      "[2020-02-18 15:52:25,799] INFO: convert_xsd:1356 >> Removing class xnatpy:projectDataAliases from parser, it only has one element!\n",
      "[2020-02-18 15:52:25,800] INFO: convert_xsd:1356 >> Removing class xnatpy:projectDataPublications from parser, it only has one element!\n",
      "[2020-02-18 15:52:25,800] INFO: convert_xsd:1356 >> Removing class xnatpy:projectDataResources from parser, it only has one element!\n",
      "[2020-02-18 15:52:25,800] INFO: convert_xsd:1356 >> Removing class xnatpy:projectDataInvestigators from parser, it only has one element!\n",
      "[2020-02-18 15:52:25,800] INFO: convert_xsd:1356 >> Removing class xnatpy:projectDataFields from parser, it only has one element!\n",
      "[2020-02-18 15:52:25,801] DEBUG: convert_xsd:1362 >> Ignoring non-listing...\n",
      "[2020-02-18 15:52:25,801] DEBUG: convert_xsd:1363 >> Element class: {'parser': <xnat.convert_xsd.SchemaParser object at 0x0000023D2941D6C8>, 'name': 'xnatpy:projectDataAliases', 'logger': <Logger xnat-ce9e3233f8742ed021c5bcfcb7b6320c (DEBUG)>, 'field_name': 'aliases/alias', 'parent_class': 'xnat:projectData', 'parent_property': <AttributePrototype [listing] aliases>, 'attributes': OrderedDict([('source', <AttributePrototype [property] source>)]), 'base_class': 'xnatpy:aliasString', 'display_identifier': None, 'abstract': False, '_simple': False, '_writer': None, 'source_schema': '/xapi/schemas/xnat'}\n",
      "[2020-02-18 15:52:25,801] DEBUG: convert_xsd:1362 >> Ignoring non-listing...\n",
      "[2020-02-18 15:52:25,802] DEBUG: convert_xsd:1363 >> Element class: {'parser': <xnat.convert_xsd.SchemaParser object at 0x0000023D2941D6C8>, 'name': 'xnatpy:projectDataFields', 'logger': <Logger xnat-ce9e3233f8742ed021c5bcfcb7b6320c (DEBUG)>, 'field_name': 'fields/field', 'parent_class': 'xnat:projectData', 'parent_property': <AttributePrototype [listing] fields>, 'attributes': OrderedDict([('name', <AttributePrototype [property] name>)]), 'base_class': 'xnatpy:fieldString', 'display_identifier': None, 'abstract': False, '_simple': False, '_writer': None, 'source_schema': '/xapi/schemas/xnat'}\n",
      "[2020-02-18 15:52:25,802] INFO: convert_xsd:1356 >> Removing class xnatpy:subjectDataSharing from parser, it only has one element!\n",
      "[2020-02-18 15:52:25,803] INFO: convert_xsd:1356 >> Removing class xnatpy:subjectDataResources from parser, it only has one element!\n",
      "[2020-02-18 15:52:25,803] DEBUG: convert_xsd:1362 >> Ignoring non-listing...\n",
      "[2020-02-18 15:52:25,803] DEBUG: convert_xsd:1363 >> Element class: {'parser': <xnat.convert_xsd.SchemaParser object at 0x0000023D2941D6C8>, 'name': 'xnatpy:subjectDataAddid', 'logger': <Logger xnat-ce9e3233f8742ed021c5bcfcb7b6320c (DEBUG)>, 'field_name': 'addID', 'parent_class': 'xnat:subjectData', 'parent_property': <AttributePrototype [listing] addID>, 'attributes': OrderedDict([('name', <AttributePrototype [property] name>)]), 'base_class': 'xnatpy:addIDString', 'display_identifier': None, 'abstract': False, '_simple': False, '_writer': None, 'source_schema': '/xapi/schemas/xnat'}\n",
      "[2020-02-18 15:52:25,804] INFO: convert_xsd:1356 >> Removing class xnatpy:subjectDataFields from parser, it only has one element!\n",
      "[2020-02-18 15:52:25,804] INFO: convert_xsd:1356 >> Removing class xnatpy:subjectDataExperiments from parser, it only has one element!\n",
      "[2020-02-18 15:52:25,804] DEBUG: convert_xsd:1362 >> Ignoring non-listing...\n",
      "[2020-02-18 15:52:25,804] DEBUG: convert_xsd:1363 >> Element class: {'parser': <xnat.convert_xsd.SchemaParser object at 0x0000023D2941D6C8>, 'name': 'xnatpy:subjectDataFields', 'logger': <Logger xnat-ce9e3233f8742ed021c5bcfcb7b6320c (DEBUG)>, 'field_name': 'fields/field', 'parent_class': 'xnat:subjectData', 'parent_property': <AttributePrototype [listing] fields>, 'attributes': OrderedDict([('name', <AttributePrototype [property] name>)]), 'base_class': 'xnatpy:fieldString', 'display_identifier': None, 'abstract': False, '_simple': False, '_writer': None, 'source_schema': '/xapi/schemas/xnat'}\n",
      "[2020-02-18 15:52:25,805] INFO: convert_xsd:1356 >> Removing class xnatpy:experimentDataSharing from parser, it only has one element!\n",
      "[2020-02-18 15:52:25,805] DEBUG: convert_xsd:1362 >> Ignoring non-listing...\n",
      "[2020-02-18 15:52:25,805] DEBUG: convert_xsd:1363 >> Element class: {'parser': <xnat.convert_xsd.SchemaParser object at 0x0000023D2941D6C8>, 'name': 'xnatpy:experimentDataDelay', 'logger': <Logger xnat-ce9e3233f8742ed021c5bcfcb7b6320c (DEBUG)>, 'field_name': 'delay', 'parent_class': 'xnat:experimentData', 'parent_property': <AttributePrototype [subobject] delay>, 'attributes': OrderedDict([('ref_expt_id', <AttributePrototype [property] ref_expt_id>)]), 'base_class': 'xnatpy:delayInteger', 'display_identifier': None, 'abstract': False, '_simple': False, '_writer': None, 'source_schema': '/xapi/schemas/xnat'}\n",
      "[2020-02-18 15:52:25,806] INFO: convert_xsd:1356 >> Removing class xnatpy:experimentDataResources from parser, it only has one element!\n",
      "[2020-02-18 15:52:25,806] INFO: convert_xsd:1356 >> Removing class xnatpy:experimentDataFields from parser, it only has one element!\n",
      "[2020-02-18 15:52:25,806] DEBUG: convert_xsd:1362 >> Ignoring non-listing...\n",
      "[2020-02-18 15:52:25,807] DEBUG: convert_xsd:1363 >> Element class: {'parser': <xnat.convert_xsd.SchemaParser object at 0x0000023D2941D6C8>, 'name': 'xnatpy:experimentDataFields', 'logger': <Logger xnat-ce9e3233f8742ed021c5bcfcb7b6320c (DEBUG)>, 'field_name': 'fields/field', 'parent_class': 'xnat:experimentData', 'parent_property': <AttributePrototype [listing] fields>, 'attributes': OrderedDict([('name', <AttributePrototype [property] name>)]), 'base_class': 'xnatpy:fieldString', 'display_identifier': None, 'abstract': False, '_simple': False, '_writer': None, 'source_schema': '/xapi/schemas/xnat'}\n",
      "[2020-02-18 15:52:25,807] DEBUG: convert_xsd:1362 >> Ignoring non-listing...\n"
     ]
    },
    {
     "name": "stderr",
     "output_type": "stream",
     "text": [
      "[2020-02-18 15:52:25,808] DEBUG: convert_xsd:1363 >> Element class: {'parser': <xnat.convert_xsd.SchemaParser object at 0x0000023D2941D6C8>, 'name': 'xnatpy:demographicDataWeight', 'logger': <Logger xnat-ce9e3233f8742ed021c5bcfcb7b6320c (DEBUG)>, 'field_name': 'weight', 'parent_class': 'xnat:demographicData', 'parent_property': <AttributePrototype [subobject] weight>, 'attributes': OrderedDict([('units', <AttributePrototype [property] units>)]), 'base_class': 'xnatpy:weightFloat', 'display_identifier': None, 'abstract': False, '_simple': False, '_writer': None, 'source_schema': '/xapi/schemas/xnat'}\n",
      "[2020-02-18 15:52:25,808] DEBUG: convert_xsd:1362 >> Ignoring non-listing...\n",
      "[2020-02-18 15:52:25,809] DEBUG: convert_xsd:1363 >> Element class: {'parser': <xnat.convert_xsd.SchemaParser object at 0x0000023D2941D6C8>, 'name': 'xnatpy:demographicDataHeight', 'logger': <Logger xnat-ce9e3233f8742ed021c5bcfcb7b6320c (DEBUG)>, 'field_name': 'height', 'parent_class': 'xnat:demographicData', 'parent_property': <AttributePrototype [subobject] height>, 'attributes': OrderedDict([('units', <AttributePrototype [property] units>)]), 'base_class': 'xnatpy:heightFloat', 'display_identifier': None, 'abstract': False, '_simple': False, '_writer': None, 'source_schema': '/xapi/schemas/xnat'}\n",
      "[2020-02-18 15:52:25,810] INFO: convert_xsd:1356 >> Removing class xnatpy:subjectVariablesDataVariables from parser, it only has one element!\n",
      "[2020-02-18 15:52:25,811] DEBUG: convert_xsd:1362 >> Ignoring non-listing...\n",
      "[2020-02-18 15:52:25,811] DEBUG: convert_xsd:1363 >> Element class: {'parser': <xnat.convert_xsd.SchemaParser object at 0x0000023D2941D6C8>, 'name': 'xnatpy:subjectVariablesDataVariables', 'logger': <Logger xnat-ce9e3233f8742ed021c5bcfcb7b6320c (DEBUG)>, 'field_name': 'variables/variable', 'parent_class': 'xnat:subjectVariablesData', 'parent_property': <AttributePrototype [listing] variables>, 'attributes': OrderedDict([('name', <AttributePrototype [property] name>)]), 'base_class': 'xnatpy:variableString', 'display_identifier': None, 'abstract': False, '_simple': False, '_writer': None, 'source_schema': '/xapi/schemas/xnat'}\n",
      "[2020-02-18 15:52:25,812] INFO: convert_xsd:1356 >> Removing class xnatpy:imageSessionDataRegions from parser, it only has one element!\n",
      "[2020-02-18 15:52:25,812] INFO: convert_xsd:1356 >> Removing class xnatpy:imageSessionDataScans from parser, it only has one element!\n",
      "[2020-02-18 15:52:25,812] INFO: convert_xsd:1356 >> Removing class xnatpy:imageSessionDataReconstructions from parser, it only has one element!\n",
      "[2020-02-18 15:52:25,813] INFO: convert_xsd:1356 >> Removing class xnatpy:imageSessionDataAssessors from parser, it only has one element!\n",
      "[2020-02-18 15:52:25,813] DEBUG: convert_xsd:1362 >> Ignoring non-listing...\n",
      "[2020-02-18 15:52:25,813] DEBUG: convert_xsd:1363 >> Element class: {'parser': <xnat.convert_xsd.SchemaParser object at 0x0000023D2941D6C8>, 'name': 'xnatpy:mrScanDataDcmvalidation', 'logger': <Logger xnat-ce9e3233f8742ed021c5bcfcb7b6320c (DEBUG)>, 'field_name': 'dcmValidation', 'parent_class': 'xnat:mrScanData', 'parent_property': <AttributePrototype [subobject] dcmValidation>, 'attributes': OrderedDict([('status', <AttributePrototype [property] status>)]), 'base_class': 'xnatpy:dcmValidationString', 'display_identifier': None, 'abstract': False, '_simple': False, '_writer': None, 'source_schema': '/xapi/schemas/xnat'}\n",
      "[2020-02-18 15:52:25,814] INFO: convert_xsd:1356 >> Removing class xnatpy:reconstructedImageDataInscans from parser, it only has one element!\n",
      "[2020-02-18 15:52:25,814] INFO: convert_xsd:1356 >> Removing class xnatpy:reconstructedImageDataIn from parser, it only has one element!\n",
      "[2020-02-18 15:52:25,814] INFO: convert_xsd:1356 >> Removing class xnatpy:reconstructedImageDataOut from parser, it only has one element!\n",
      "[2020-02-18 15:52:25,815] INFO: convert_xsd:1356 >> Removing class xnatpy:reconstructedImageDataParameters from parser, it only has one element!\n",
      "[2020-02-18 15:52:25,815] INFO: convert_xsd:1356 >> Removing class xnatpy:reconstructedImageDataComputations from parser, it only has one element!\n",
      "[2020-02-18 15:52:25,816] INFO: convert_xsd:1356 >> Removing class xnatpy:volumetricRegionSubregions from parser, it only has one element!\n",
      "[2020-02-18 15:52:25,816] INFO: convert_xsd:1356 >> Removing class xnatpy:abstractResourceTags from parser, it only has one element!\n",
      "[2020-02-18 15:52:25,817] DEBUG: convert_xsd:1362 >> Ignoring non-listing...\n",
      "[2020-02-18 15:52:25,818] DEBUG: convert_xsd:1363 >> Element class: {'parser': <xnat.convert_xsd.SchemaParser object at 0x0000023D2941D6C8>, 'name': 'xnatpy:abstractResourceTags', 'logger': <Logger xnat-ce9e3233f8742ed021c5bcfcb7b6320c (DEBUG)>, 'field_name': 'tags/tag', 'parent_class': 'xnat:abstractResource', 'parent_property': <AttributePrototype [listing] tags>, 'attributes': OrderedDict([('name', <AttributePrototype [property] name>)]), 'base_class': 'xnatpy:tagString', 'display_identifier': None, 'abstract': False, '_simple': False, '_writer': None, 'source_schema': '/xapi/schemas/xnat'}\n",
      "[2020-02-18 15:52:25,818] INFO: convert_xsd:1356 >> Removing class xnatpy:dicomSeriesImageset from parser, it only has one element!\n",
      "[2020-02-18 15:52:25,819] INFO: convert_xsd:1356 >> Removing class xnatpy:studyProtocolAcqconditions from parser, it only has one element!\n",
      "[2020-02-18 15:52:25,820] INFO: convert_xsd:1356 >> Removing class xnatpy:studyProtocolSubjectgroups from parser, it only has one element!\n",
      "[2020-02-18 15:52:25,820] INFO: convert_xsd:1356 >> Removing class xnatpy:studyProtocolSubjectvariables from parser, it only has one element!\n",
      "[2020-02-18 15:52:25,821] INFO: convert_xsd:1356 >> Removing class xnatpy:studyProtocolImagesessiontypes from parser, it only has one element!\n",
      "[2020-02-18 15:52:25,821] DEBUG: convert_xsd:1362 >> Ignoring non-listing...\n",
      "[2020-02-18 15:52:25,822] DEBUG: convert_xsd:1363 >> Element class: {'parser': <xnat.convert_xsd.SchemaParser object at 0x0000023D2941D6C8>, 'name': 'xnatpy:petSessionDataTracerDose', 'logger': <Logger xnat-ce9e3233f8742ed021c5bcfcb7b6320c (DEBUG)>, 'field_name': 'dose', 'parent_class': 'xnatpy:petSessionDataTracer', 'parent_property': <AttributePrototype [subobject] dose>, 'attributes': OrderedDict([('units', <AttributePrototype [property] units>)]), 'base_class': 'xnatpy:doseFloat', 'display_identifier': None, 'abstract': False, '_simple': False, '_writer': None, 'source_schema': '/xapi/schemas/xnat'}\n",
      "[2020-02-18 15:52:25,823] DEBUG: convert_xsd:1362 >> Ignoring non-listing...\n",
      "[2020-02-18 15:52:25,823] DEBUG: convert_xsd:1363 >> Element class: {'parser': <xnat.convert_xsd.SchemaParser object at 0x0000023D2941D6C8>, 'name': 'xnatpy:petSessionDataTracerTotalmass', 'logger': <Logger xnat-ce9e3233f8742ed021c5bcfcb7b6320c (DEBUG)>, 'field_name': 'totalMass', 'parent_class': 'xnatpy:petSessionDataTracer', 'parent_property': <AttributePrototype [subobject] totalMass>, 'attributes': OrderedDict([('units', <AttributePrototype [property] units>)]), 'base_class': 'xnatpy:totalMassFloat', 'display_identifier': None, 'abstract': False, '_simple': False, '_writer': None, 'source_schema': '/xapi/schemas/xnat'}\n",
      "[2020-02-18 15:52:25,823] DEBUG: convert_xsd:1362 >> Ignoring non-listing...\n",
      "[2020-02-18 15:52:25,824] DEBUG: convert_xsd:1363 >> Element class: {'parser': <xnat.convert_xsd.SchemaParser object at 0x0000023D2941D6C8>, 'name': 'xnatpy:petSessionDataTracerIntermediate', 'logger': <Logger xnat-ce9e3233f8742ed021c5bcfcb7b6320c (DEBUG)>, 'field_name': 'intermediate', 'parent_class': 'xnatpy:petSessionDataTracer', 'parent_property': <AttributePrototype [subobject] intermediate>, 'attributes': OrderedDict([('units', <AttributePrototype [property] units>)]), 'base_class': 'xnatpy:intermediateFloat', 'display_identifier': None, 'abstract': False, '_simple': False, '_writer': None, 'source_schema': '/xapi/schemas/xnat'}\n",
      "[2020-02-18 15:52:25,824] DEBUG: convert_xsd:1362 >> Ignoring non-listing...\n",
      "[2020-02-18 15:52:25,824] DEBUG: convert_xsd:1363 >> Element class: {'parser': <xnat.convert_xsd.SchemaParser object at 0x0000023D2941D6C8>, 'name': 'xnatpy:petSessionDataTracerIsotope', 'logger': <Logger xnat-ce9e3233f8742ed021c5bcfcb7b6320c (DEBUG)>, 'field_name': 'isotope', 'parent_class': 'xnatpy:petSessionDataTracer', 'parent_property': <AttributePrototype [subobject] isotope>, 'attributes': OrderedDict([('half-life', <AttributePrototype [property] half-life>)]), 'base_class': 'xnatpy:isotopeString', 'display_identifier': None, 'abstract': False, '_simple': False, '_writer': None, 'source_schema': '/xapi/schemas/xnat'}\n"
     ]
    },
    {
     "name": "stderr",
     "output_type": "stream",
     "text": [
      "[2020-02-18 15:52:25,825] DEBUG: convert_xsd:1362 >> Ignoring non-listing...\n",
      "[2020-02-18 15:52:25,825] DEBUG: convert_xsd:1363 >> Element class: {'parser': <xnat.convert_xsd.SchemaParser object at 0x0000023D2941D6C8>, 'name': 'xnatpy:petmrSessionDataTracerDose', 'logger': <Logger xnat-ce9e3233f8742ed021c5bcfcb7b6320c (DEBUG)>, 'field_name': 'dose', 'parent_class': 'xnatpy:petmrSessionDataTracer', 'parent_property': <AttributePrototype [subobject] dose>, 'attributes': OrderedDict([('units', <AttributePrototype [property] units>)]), 'base_class': 'xnatpy:doseFloat', 'display_identifier': None, 'abstract': False, '_simple': False, '_writer': None, 'source_schema': '/xapi/schemas/xnat'}\n",
      "[2020-02-18 15:52:25,826] DEBUG: convert_xsd:1362 >> Ignoring non-listing...\n",
      "[2020-02-18 15:52:25,826] DEBUG: convert_xsd:1363 >> Element class: {'parser': <xnat.convert_xsd.SchemaParser object at 0x0000023D2941D6C8>, 'name': 'xnatpy:petmrSessionDataTracerTotalmass', 'logger': <Logger xnat-ce9e3233f8742ed021c5bcfcb7b6320c (DEBUG)>, 'field_name': 'totalMass', 'parent_class': 'xnatpy:petmrSessionDataTracer', 'parent_property': <AttributePrototype [subobject] totalMass>, 'attributes': OrderedDict([('units', <AttributePrototype [property] units>)]), 'base_class': 'xnatpy:totalMassFloat', 'display_identifier': None, 'abstract': False, '_simple': False, '_writer': None, 'source_schema': '/xapi/schemas/xnat'}\n",
      "[2020-02-18 15:52:25,826] DEBUG: convert_xsd:1362 >> Ignoring non-listing...\n",
      "[2020-02-18 15:52:25,827] DEBUG: convert_xsd:1363 >> Element class: {'parser': <xnat.convert_xsd.SchemaParser object at 0x0000023D2941D6C8>, 'name': 'xnatpy:petmrSessionDataTracerIntermediate', 'logger': <Logger xnat-ce9e3233f8742ed021c5bcfcb7b6320c (DEBUG)>, 'field_name': 'intermediate', 'parent_class': 'xnatpy:petmrSessionDataTracer', 'parent_property': <AttributePrototype [subobject] intermediate>, 'attributes': OrderedDict([('units', <AttributePrototype [property] units>)]), 'base_class': 'xnatpy:intermediateFloat', 'display_identifier': None, 'abstract': False, '_simple': False, '_writer': None, 'source_schema': '/xapi/schemas/xnat'}\n",
      "[2020-02-18 15:52:25,827] DEBUG: convert_xsd:1362 >> Ignoring non-listing...\n",
      "[2020-02-18 15:52:25,827] DEBUG: convert_xsd:1363 >> Element class: {'parser': <xnat.convert_xsd.SchemaParser object at 0x0000023D2941D6C8>, 'name': 'xnatpy:petmrSessionDataTracerIsotope', 'logger': <Logger xnat-ce9e3233f8742ed021c5bcfcb7b6320c (DEBUG)>, 'field_name': 'isotope', 'parent_class': 'xnatpy:petmrSessionDataTracer', 'parent_property': <AttributePrototype [subobject] isotope>, 'attributes': OrderedDict([('half-life', <AttributePrototype [property] half-life>)]), 'base_class': 'xnatpy:isotopeString', 'display_identifier': None, 'abstract': False, '_simple': False, '_writer': None, 'source_schema': '/xapi/schemas/xnat'}\n",
      "[2020-02-18 15:52:25,827] DEBUG: convert_xsd:1362 >> Ignoring non-listing...\n",
      "[2020-02-18 15:52:25,828] DEBUG: convert_xsd:1363 >> Element class: {'parser': <xnat.convert_xsd.SchemaParser object at 0x0000023D2941D6C8>, 'name': 'xnatpy:petScanDataEcatvalidation', 'logger': <Logger xnat-ce9e3233f8742ed021c5bcfcb7b6320c (DEBUG)>, 'field_name': 'ecatValidation', 'parent_class': 'xnat:petScanData', 'parent_property': <AttributePrototype [subobject] ecatValidation>, 'attributes': OrderedDict([('status', <AttributePrototype [property] status>)]), 'base_class': 'xnatpy:ecatValidationString', 'display_identifier': None, 'abstract': False, '_simple': False, '_writer': None, 'source_schema': '/xapi/schemas/xnat'}\n",
      "[2020-02-18 15:52:25,828] DEBUG: convert_xsd:1362 >> Ignoring non-listing...\n",
      "[2020-02-18 15:52:25,828] DEBUG: convert_xsd:1363 >> Element class: {'parser': <xnat.convert_xsd.SchemaParser object at 0x0000023D2941D6C8>, 'name': 'xnatpy:petScanDataParametersFilter', 'logger': <Logger xnat-ce9e3233f8742ed021c5bcfcb7b6320c (DEBUG)>, 'field_name': 'filter', 'parent_class': 'xnatpy:petScanDataParameters', 'parent_property': <AttributePrototype [subobject] filter>, 'attributes': OrderedDict([('cutoff', <AttributePrototype [property] cutoff>)]), 'base_class': None, 'display_identifier': None, 'abstract': False, '_simple': False, '_writer': None, 'source_schema': '/xapi/schemas/xnat'}\n",
      "[2020-02-18 15:52:25,829] INFO: convert_xsd:1356 >> Removing class xnatpy:regionResourceSubregionlabels from parser, it only has one element!\n",
      "[2020-02-18 15:52:25,829] DEBUG: convert_xsd:1362 >> Ignoring non-listing...\n",
      "[2020-02-18 15:52:25,829] DEBUG: convert_xsd:1363 >> Element class: {'parser': <xnat.convert_xsd.SchemaParser object at 0x0000023D2941D6C8>, 'name': 'xnatpy:statisticsDataAdditionalstatistics', 'logger': <Logger xnat-ce9e3233f8742ed021c5bcfcb7b6320c (DEBUG)>, 'field_name': 'additionalStatistics', 'parent_class': 'xnat:statisticsData', 'parent_property': <AttributePrototype [listing] additionalStatistics>, 'attributes': OrderedDict([('name', <AttributePrototype [property] name>)]), 'base_class': 'xnatpy:additionalStatisticsDouble', 'display_identifier': None, 'abstract': False, '_simple': False, '_writer': None, 'source_schema': '/xapi/schemas/xnat'}\n",
      "[2020-02-18 15:52:25,829] DEBUG: convert_xsd:1362 >> Ignoring non-listing...\n",
      "[2020-02-18 15:52:25,830] DEBUG: convert_xsd:1363 >> Element class: {'parser': <xnat.convert_xsd.SchemaParser object at 0x0000023D2941D6C8>, 'name': 'xnatpy:statisticsDataAddfield', 'logger': <Logger xnat-ce9e3233f8742ed021c5bcfcb7b6320c (DEBUG)>, 'field_name': 'addField', 'parent_class': 'xnat:statisticsData', 'parent_property': <AttributePrototype [listing] addField>, 'attributes': OrderedDict([('name', <AttributePrototype [property] name>)]), 'base_class': 'xnatpy:addFieldString', 'display_identifier': None, 'abstract': False, '_simple': False, '_writer': None, 'source_schema': '/xapi/schemas/xnat'}\n",
      "[2020-02-18 15:52:25,830] INFO: convert_xsd:1356 >> Removing class xnatpy:qcAssessmentDataScans from parser, it only has one element!\n",
      "[2020-02-18 15:52:25,830] INFO: convert_xsd:1356 >> Removing class xnatpy:qcAssessmentDataScansScanSliceqc from parser, it only has one element!\n",
      "[2020-02-18 15:52:25,831] INFO: convert_xsd:1356 >> Removing class xnatpy:datatypeProtocolDefinitions from parser, it only has one element!\n",
      "[2020-02-18 15:52:25,831] INFO: convert_xsd:1356 >> Removing class xnatpy:fieldDefinitionGroupFields from parser, it only has one element!\n",
      "[2020-02-18 15:52:25,831] INFO: convert_xsd:1356 >> Removing class xnatpy:fieldDefinitionGroupFieldsFieldPossiblevalues from parser, it only has one element!\n",
      "[2020-02-18 15:52:25,831] DEBUG: convert_xsd:1362 >> Ignoring non-listing...\n",
      "[2020-02-18 15:52:25,832] DEBUG: convert_xsd:1363 >> Element class: {'parser': <xnat.convert_xsd.SchemaParser object at 0x0000023D2941D6C8>, 'name': 'xnatpy:fieldDefinitionGroupFieldsFieldPossiblevalues', 'logger': <Logger xnat-ce9e3233f8742ed021c5bcfcb7b6320c (DEBUG)>, 'field_name': 'possibleValues/possibleValue', 'parent_class': 'xnatpy:fieldDefinitionGroupFieldsField', 'parent_property': <AttributePrototype [listing] possibleValues>, 'attributes': OrderedDict([('display', <AttributePrototype [property] display>)]), 'base_class': 'xnatpy:possibleValueString', 'display_identifier': None, 'abstract': False, '_simple': False, '_writer': None, 'source_schema': '/xapi/schemas/xnat'}\n",
      "[2020-02-18 15:52:25,832] INFO: convert_xsd:1356 >> Removing class xnatpy:imageAssessorDataIn from parser, it only has one element!\n",
      "[2020-02-18 15:52:25,832] INFO: convert_xsd:1356 >> Removing class xnatpy:imageAssessorDataOut from parser, it only has one element!\n",
      "[2020-02-18 15:52:25,833] INFO: convert_xsd:1356 >> Removing class xnatpy:imageAssessorDataParameters from parser, it only has one element!\n",
      "[2020-02-18 15:52:25,833] INFO: convert_xsd:1356 >> Removing class xnatpy:imageScanDataSharing from parser, it only has one element!\n",
      "[2020-02-18 15:52:25,833] DEBUG: convert_xsd:1362 >> Ignoring non-listing...\n",
      "[2020-02-18 15:52:25,834] DEBUG: convert_xsd:1363 >> Element class: {'parser': <xnat.convert_xsd.SchemaParser object at 0x0000023D2941D6C8>, 'name': 'xnatpy:ctScanDataDcmvalidation', 'logger': <Logger xnat-ce9e3233f8742ed021c5bcfcb7b6320c (DEBUG)>, 'field_name': 'dcmValidation', 'parent_class': 'xnat:ctScanData', 'parent_property': <AttributePrototype [subobject] dcmValidation>, 'attributes': OrderedDict([('status', <AttributePrototype [property] status>)]), 'base_class': 'xnatpy:dcmValidationString', 'display_identifier': None, 'abstract': False, '_simple': False, '_writer': None, 'source_schema': '/xapi/schemas/xnat'}\n"
     ]
    },
    {
     "name": "stderr",
     "output_type": "stream",
     "text": [
      "[2020-02-18 15:52:25,834] INFO: convert_xsd:1356 >> Removing class xnatpy:ctScanDataParametersFocalspots from parser, it only has one element!\n",
      "[2020-02-18 15:52:25,834] DEBUG: convert_xsd:1362 >> Ignoring non-listing...\n",
      "[2020-02-18 15:52:25,835] DEBUG: convert_xsd:1363 >> Element class: {'parser': <xnat.convert_xsd.SchemaParser object at 0x0000023D2941D6C8>, 'name': 'xnatpy:ctScanDataParametersEstimateddosesaving', 'logger': <Logger xnat-ce9e3233f8742ed021c5bcfcb7b6320c (DEBUG)>, 'field_name': 'estimatedDoseSaving', 'parent_class': 'xnatpy:ctScanDataParameters', 'parent_property': <AttributePrototype [subobject] estimatedDoseSaving>, 'attributes': OrderedDict([('modulation', <AttributePrototype [subobject] modulation>)]), 'base_class': 'xnatpy:estimatedDoseSavingFloat', 'display_identifier': None, 'abstract': False, '_simple': False, '_writer': None, 'source_schema': '/xapi/schemas/xnat'}\n",
      "[2020-02-18 15:52:25,835] DEBUG: convert_xsd:1362 >> Ignoring non-listing...\n",
      "[2020-02-18 15:52:25,835] DEBUG: convert_xsd:1363 >> Element class: {'parser': <xnat.convert_xsd.SchemaParser object at 0x0000023D2941D6C8>, 'name': 'xnatpy:optScanDataDcmvalidation', 'logger': <Logger xnat-ce9e3233f8742ed021c5bcfcb7b6320c (DEBUG)>, 'field_name': 'dcmValidation', 'parent_class': 'xnat:optScanData', 'parent_property': <AttributePrototype [subobject] dcmValidation>, 'attributes': OrderedDict([('status', <AttributePrototype [property] status>)]), 'base_class': 'xnatpy:dcmValidationString', 'display_identifier': None, 'abstract': False, '_simple': False, '_writer': None, 'source_schema': '/xapi/schemas/xnat'}\n",
      "[2020-02-18 15:52:25,836] DEBUG: convert_xsd:1362 >> Ignoring non-listing...\n",
      "[2020-02-18 15:52:25,836] DEBUG: convert_xsd:1363 >> Element class: {'parser': <xnat.convert_xsd.SchemaParser object at 0x0000023D2941D6C8>, 'name': 'xnatpy:qcScanDataRating', 'logger': <Logger xnat-ce9e3233f8742ed021c5bcfcb7b6320c (DEBUG)>, 'field_name': 'rating', 'parent_class': 'xnat:qcScanData', 'parent_property': <AttributePrototype [subobject] rating>, 'attributes': OrderedDict([('scale', <AttributePrototype [property] scale>)]), 'base_class': 'xnatpy:ratingString', 'display_identifier': None, 'abstract': False, '_simple': False, '_writer': None, 'source_schema': '/xapi/schemas/xnat'}\n",
      "[2020-02-18 15:52:25,836] INFO: convert_xsd:1356 >> Removing class xnatpy:qcScanDataFields from parser, it only has one element!\n",
      "[2020-02-18 15:52:25,837] DEBUG: convert_xsd:1362 >> Ignoring non-listing...\n",
      "[2020-02-18 15:52:25,837] DEBUG: convert_xsd:1363 >> Element class: {'parser': <xnat.convert_xsd.SchemaParser object at 0x0000023D2941D6C8>, 'name': 'xnatpy:qcScanDataFields', 'logger': <Logger xnat-ce9e3233f8742ed021c5bcfcb7b6320c (DEBUG)>, 'field_name': 'fields/field', 'parent_class': 'xnat:qcScanData', 'parent_property': <AttributePrototype [listing] fields>, 'attributes': OrderedDict([('name', <AttributePrototype [property] name>)]), 'base_class': 'xnatpy:fieldString', 'display_identifier': None, 'abstract': False, '_simple': False, '_writer': None, 'source_schema': '/xapi/schemas/xnat'}\n",
      "[2020-02-18 15:52:25,837] INFO: convert_xsd:1356 >> Removing class xnatpy:petQcScanDataProcessingerrors from parser, it only has one element!\n",
      "[2020-02-18 15:52:25,838] INFO: convert_xsd:1356 >> Removing class xnatpy:qcManualAssessorDataScans from parser, it only has one element!\n",
      "[2020-02-18 15:52:25,838] DEBUG: convert_xsd:1362 >> Ignoring non-listing...\n",
      "[2020-02-18 15:52:25,839] DEBUG: convert_xsd:1363 >> Element class: {'parser': <xnat.convert_xsd.SchemaParser object at 0x0000023D2941D6C8>, 'name': 'xnatpy:eegSessionDataSamplingrate', 'logger': <Logger xnat-ce9e3233f8742ed021c5bcfcb7b6320c (DEBUG)>, 'field_name': 'samplingRate', 'parent_class': 'xnat:eegSessionData', 'parent_property': <AttributePrototype [subobject] samplingRate>, 'attributes': OrderedDict([('units', <AttributePrototype [property] units>)]), 'base_class': 'xnatpy:samplingRateFloat', 'display_identifier': None, 'abstract': False, '_simple': False, '_writer': None, 'source_schema': '/xapi/schemas/xnat'}\n",
      "[2020-02-18 15:52:25,839] DEBUG: convert_xsd:1362 >> Ignoring non-listing...\n",
      "[2020-02-18 15:52:25,839] DEBUG: convert_xsd:1363 >> Element class: {'parser': <xnat.convert_xsd.SchemaParser object at 0x0000023D2941D6C8>, 'name': 'xnatpy:eegSessionDataSamplinginterval', 'logger': <Logger xnat-ce9e3233f8742ed021c5bcfcb7b6320c (DEBUG)>, 'field_name': 'samplingInterval', 'parent_class': 'xnat:eegSessionData', 'parent_property': <AttributePrototype [subobject] samplingInterval>, 'attributes': OrderedDict([('units', <AttributePrototype [property] units>)]), 'base_class': 'xnatpy:samplingIntervalFloat', 'display_identifier': None, 'abstract': False, '_simple': False, '_writer': None, 'source_schema': '/xapi/schemas/xnat'}\n",
      "[2020-02-18 15:52:25,840] INFO: convert_xsd:1356 >> Removing class xnatpy:eegScanDataChannels from parser, it only has one element!\n",
      "[2020-02-18 15:52:25,840] INFO: convert_xsd:1356 >> Removing class xnatpy:screeningAssessmentScans from parser, it only has one element!\n",
      "[2020-02-18 15:52:25,841] DEBUG: convert_xsd:1362 >> Ignoring non-listing...\n",
      "[2020-02-18 15:52:25,841] DEBUG: convert_xsd:1363 >> Element class: {'parser': <xnat.convert_xsd.SchemaParser object at 0x0000023D2941D6C8>, 'name': 'xnatpy:imageSessionDataPipeline', 'logger': <Logger xnat-ce9e3233f8742ed021c5bcfcb7b6320c (DEBUG)>, 'field_name': 'pipeline', 'parent_class': 'build:imageSessionData', 'parent_property': <AttributePrototype [listing] pipeline>, 'attributes': OrderedDict([('stepId', <AttributePrototype [property] stepId>)]), 'base_class': 'build:pipelineData', 'display_identifier': None, 'abstract': False, '_simple': False, '_writer': None, 'source_schema': '/xapi/schemas/pipeline/build'}\n",
      "[2020-02-18 15:52:25,841] INFO: convert_xsd:1356 >> Removing class xnatpy:pipelineDetailsGenerateselements from parser, it only has one element!\n",
      "[2020-02-18 15:52:25,842] INFO: convert_xsd:1356 >> Removing class xnatpy:pipelineDetailsParameters from parser, it only has one element!\n",
      "[2020-02-18 15:52:25,842] INFO: convert_xsd:1356 >> Removing class xnatpy:xnatExecutionEnvironmentParameters from parser, it only has one element!\n",
      "[2020-02-18 15:52:25,842] DEBUG: convert_xsd:1362 >> Ignoring non-listing...\n",
      "[2020-02-18 15:52:25,843] DEBUG: convert_xsd:1363 >> Element class: {'parser': <xnat.convert_xsd.SchemaParser object at 0x0000023D2941D6C8>, 'name': 'xnatpy:xnatExecutionEnvironmentParameters', 'logger': <Logger xnat-ce9e3233f8742ed021c5bcfcb7b6320c (DEBUG)>, 'field_name': 'parameters/parameter', 'parent_class': 'wrk:xnatExecutionEnvironment', 'parent_property': <AttributePrototype [listing] parameters>, 'attributes': OrderedDict([('name', <AttributePrototype [property] name>)]), 'base_class': 'xnatpy:parameterString', 'display_identifier': None, 'abstract': False, '_simple': False, '_writer': None, 'source_schema': '/xapi/schemas/pipeline/workflow'}\n",
      "[2020-02-18 15:52:25,843] DEBUG: convert_xsd:1362 >> Ignoring non-listing...\n",
      "[2020-02-18 15:52:25,843] DEBUG: convert_xsd:1363 >> Element class: {'parser': <xnat.convert_xsd.SchemaParser object at 0x0000023D2941D6C8>, 'name': 'xnatpy:processStepPlatform', 'logger': <Logger xnat-ce9e3233f8742ed021c5bcfcb7b6320c (DEBUG)>, 'field_name': 'platform', 'parent_class': 'prov:processStep', 'parent_property': <AttributePrototype [subobject] platform>, 'attributes': OrderedDict([('version', <AttributePrototype [property] version>)]), 'base_class': 'xnatpy:platformString', 'display_identifier': None, 'abstract': False, '_simple': False, '_writer': None, 'source_schema': '/xapi/schemas/birn/birnprov'}\n",
      "[2020-02-18 15:52:25,843] DEBUG: convert_xsd:1362 >> Ignoring non-listing...\n",
      "[2020-02-18 15:52:25,844] DEBUG: convert_xsd:1363 >> Element class: {'parser': <xnat.convert_xsd.SchemaParser object at 0x0000023D2941D6C8>, 'name': 'xnatpy:processStepCompiler', 'logger': <Logger xnat-ce9e3233f8742ed021c5bcfcb7b6320c (DEBUG)>, 'field_name': 'compiler', 'parent_class': 'prov:processStep', 'parent_property': <AttributePrototype [subobject] compiler>, 'attributes': OrderedDict([('version', <AttributePrototype [property] version>)]), 'base_class': 'xnatpy:compilerString', 'display_identifier': None, 'abstract': False, '_simple': False, '_writer': None, 'source_schema': '/xapi/schemas/birn/birnprov'}\n"
     ]
    },
    {
     "name": "stderr",
     "output_type": "stream",
     "text": [
      "[2020-02-18 15:52:25,844] DEBUG: convert_xsd:1362 >> Ignoring non-listing...\n",
      "[2020-02-18 15:52:25,844] DEBUG: convert_xsd:1363 >> Element class: {'parser': <xnat.convert_xsd.SchemaParser object at 0x0000023D2941D6C8>, 'name': 'xnatpy:processStepLibrary', 'logger': <Logger xnat-ce9e3233f8742ed021c5bcfcb7b6320c (DEBUG)>, 'field_name': 'library', 'parent_class': 'prov:processStep', 'parent_property': <AttributePrototype [listing] library>, 'attributes': OrderedDict([('version', <AttributePrototype [property] version>)]), 'base_class': 'xnatpy:libraryString', 'display_identifier': None, 'abstract': False, '_simple': False, '_writer': None, 'source_schema': '/xapi/schemas/birn/birnprov'}\n",
      "[2020-02-18 15:52:25,845] INFO: convert_xsd:1356 >> Removing class xnatpy:catalogMetafields from parser, it only has one element!\n",
      "[2020-02-18 15:52:25,845] INFO: convert_xsd:1356 >> Removing class xnatpy:catalogTags from parser, it only has one element!\n",
      "[2020-02-18 15:52:25,845] INFO: convert_xsd:1356 >> Removing class xnatpy:catalogSets from parser, it only has one element!\n",
      "[2020-02-18 15:52:25,845] INFO: convert_xsd:1356 >> Removing class xnatpy:catalogEntries from parser, it only has one element!\n",
      "[2020-02-18 15:52:25,846] DEBUG: convert_xsd:1362 >> Ignoring non-listing...\n",
      "[2020-02-18 15:52:25,846] DEBUG: convert_xsd:1363 >> Element class: {'parser': <xnat.convert_xsd.SchemaParser object at 0x0000023D2941D6C8>, 'name': 'xnatpy:catalogMetafields', 'logger': <Logger xnat-ce9e3233f8742ed021c5bcfcb7b6320c (DEBUG)>, 'field_name': 'metaFields/metaField', 'parent_class': 'cat:catalog', 'parent_property': <AttributePrototype [listing] metaFields>, 'attributes': OrderedDict([('name', <AttributePrototype [property] name>)]), 'base_class': 'xnatpy:metaFieldString', 'display_identifier': None, 'abstract': False, '_simple': False, '_writer': None, 'source_schema': '/xapi/schemas/catalog'}\n",
      "[2020-02-18 15:52:25,846] INFO: convert_xsd:1356 >> Removing class xnatpy:entryMetafields from parser, it only has one element!\n",
      "[2020-02-18 15:52:25,847] INFO: convert_xsd:1356 >> Removing class xnatpy:entryTags from parser, it only has one element!\n",
      "[2020-02-18 15:52:25,847] DEBUG: convert_xsd:1362 >> Ignoring non-listing...\n",
      "[2020-02-18 15:52:25,847] DEBUG: convert_xsd:1363 >> Element class: {'parser': <xnat.convert_xsd.SchemaParser object at 0x0000023D2941D6C8>, 'name': 'xnatpy:entryMetafields', 'logger': <Logger xnat-ce9e3233f8742ed021c5bcfcb7b6320c (DEBUG)>, 'field_name': 'metaFields/metaField', 'parent_class': 'cat:entry', 'parent_property': <AttributePrototype [listing] metaFields>, 'attributes': OrderedDict([('name', <AttributePrototype [property] name>)]), 'base_class': 'xnatpy:metaFieldString', 'display_identifier': None, 'abstract': False, '_simple': False, '_writer': None, 'source_schema': '/xapi/schemas/catalog'}\n",
      "[2020-02-18 15:52:25,848] INFO: convert_xsd:1356 >> Removing class xnatpy:projectFieldspecifications from parser, it only has one element!\n",
      "[2020-02-18 15:52:25,848] INFO: convert_xsd:1356 >> Removing class xnatpy:projectProperties from parser, it only has one element!\n",
      "[2020-02-18 15:52:25,848] INFO: convert_xsd:1356 >> Removing class xnatpy:projectPipelinesDescendants from parser, it only has one element!\n",
      "[2020-02-18 15:52:25,849] INFO: convert_xsd:1356 >> Removing class xnatpy:pipelineDataParameters from parser, it only has one element!\n",
      "[2020-02-18 15:52:25,849] DEBUG: convert_xsd:1362 >> Ignoring non-listing...\n",
      "[2020-02-18 15:52:25,850] DEBUG: convert_xsd:1363 >> Element class: {'parser': <xnat.convert_xsd.SchemaParser object at 0x0000023D2941D6C8>, 'name': 'xnatpy:pipelineParameterDataCsvvalues', 'logger': <Logger xnat-ce9e3233f8742ed021c5bcfcb7b6320c (DEBUG)>, 'field_name': 'csvValues', 'parent_class': 'arc:pipelineParameterData', 'parent_property': <AttributePrototype [subobject] csvValues>, 'attributes': OrderedDict([('selected', <AttributePrototype [property] selected>)]), 'base_class': 'xnatpy:csvValuesString', 'display_identifier': None, 'abstract': False, '_simple': False, '_writer': None, 'source_schema': '/xapi/schemas/project'}\n",
      "[2020-02-18 15:52:25,850] INFO: convert_xsd:1356 >> Removing class xnatpy:protocolDataScans from parser, it only has one element!\n",
      "[2020-02-18 15:52:25,850] INFO: convert_xsd:1356 >> Removing class xnatpy:protocolDataCheckConditions from parser, it only has one element!\n",
      "[2020-02-18 15:52:25,851] INFO: convert_xsd:1356 >> Removing class xnatpy:protocolDataCheckComments from parser, it only has one element!\n",
      "[2020-02-18 15:52:25,851] INFO: convert_xsd:1356 >> Removing class xnatpy:protocolDataScansScan_checkConditions from parser, it only has one element!\n",
      "[2020-02-18 15:52:25,851] INFO: convert_xsd:1356 >> Removing class xnatpy:protocolDataScansScan_checkComments from parser, it only has one element!\n",
      "[2020-02-18 15:52:25,852] DEBUG: convert_xsd:1362 >> Ignoring non-listing...\n",
      "[2020-02-18 15:52:25,852] DEBUG: convert_xsd:1363 >> Element class: {'parser': <xnat.convert_xsd.SchemaParser object at 0x0000023D2941D6C8>, 'name': 'xnatpy:FieldTypeContent', 'logger': <Logger xnat-ce9e3233f8742ed021c5bcfcb7b6320c (DEBUG)>, 'field_name': 'Content', 'parent_class': 'display:FieldType', 'parent_property': <AttributePrototype [subobject] Content>, 'attributes': OrderedDict([('type', <AttributePrototype [property] type>)]), 'base_class': 'xnatpy:ContentString', 'display_identifier': None, 'abstract': False, '_simple': False, '_writer': None, 'source_schema': '/xapi/schemas/xdat/display'}\n",
      "[2020-02-18 15:52:25,853] INFO: convert_xsd:1356 >> Removing class xnatpy:SubQueryFieldMappingcolumns from parser, it only has one element!\n",
      "[2020-02-18 15:52:25,853] DEBUG: convert_xsd:1362 >> Ignoring non-listing...\n",
      "[2020-02-18 15:52:25,853] DEBUG: convert_xsd:1363 >> Element class: {'parser': <xnat.convert_xsd.SchemaParser object at 0x0000023D2941D6C8>, 'name': 'xnatpy:PlexiViewerTypeViewableitemUserinterfaceLinkeddropdown', 'logger': <Logger xnat-ce9e3233f8742ed021c5bcfcb7b6320c (DEBUG)>, 'field_name': 'LinkedDropDown', 'parent_class': 'xnatpy:PlexiViewerTypeViewableitemUserinterface', 'parent_property': <AttributePrototype [listing] LinkedDropDown>, 'attributes': OrderedDict([('viewableItemType', <AttributePrototype [property] viewableItemType>)]), 'base_class': None, 'display_identifier': None, 'abstract': False, '_simple': False, '_writer': None, 'source_schema': '/xapi/schemas/xdat/PlexiViewer'}\n",
      "[2020-02-18 15:52:25,854] DEBUG: convert_xsd:1362 >> Ignoring non-listing...\n",
      "[2020-02-18 15:52:25,854] DEBUG: convert_xsd:1363 >> Element class: {'parser': <xnat.convert_xsd.SchemaParser object at 0x0000023D2941D6C8>, 'name': 'xnatpy:PlexiViewerTypeViewableitemHi-resLayer', 'logger': <Logger xnat-ce9e3233f8742ed021c5bcfcb7b6320c (DEBUG)>, 'field_name': 'Layer', 'parent_class': 'xnatpy:PlexiViewerTypeViewableitemHi-res', 'parent_property': <AttributePrototype [listing] Layer>, 'attributes': OrderedDict([('num', <AttributePrototype [property] num>)]), 'base_class': 'SchemaLinkType', 'display_identifier': None, 'abstract': False, '_simple': False, '_writer': None, 'source_schema': '/xapi/schemas/xdat/PlexiViewer'}\n",
      "[2020-02-18 15:52:25,854] DEBUG: convert_xsd:1362 >> Ignoring non-listing...\n",
      "[2020-02-18 15:52:25,855] DEBUG: convert_xsd:1363 >> Element class: {'parser': <xnat.convert_xsd.SchemaParser object at 0x0000023D2941D6C8>, 'name': 'xnatpy:PlexiViewerTypeViewableitemHi-resLayoutref', 'logger': <Logger xnat-ce9e3233f8742ed021c5bcfcb7b6320c (DEBUG)>, 'field_name': 'LayoutRef', 'parent_class': 'xnatpy:PlexiViewerTypeViewableitemHi-res', 'parent_property': <AttributePrototype [subobject] LayoutRef>, 'attributes': OrderedDict([('name', <AttributePrototype [property] name>)]), 'base_class': None, 'display_identifier': None, 'abstract': False, '_simple': False, '_writer': None, 'source_schema': '/xapi/schemas/xdat/PlexiViewer'}\n",
      "[2020-02-18 15:52:25,855] DEBUG: convert_xsd:1382 >> Found simple mapping xnat:projectData.aliases -> xnatpy:projectDataAliases\n",
      "[2020-02-18 15:52:25,856] DEBUG: convert_xsd:1382 >> Found simple mapping xnat:projectData.fields -> xnatpy:projectDataFields\n",
      "[2020-02-18 15:52:25,856] DEBUG: convert_xsd:1382 >> Found simple mapping xnat:subjectData.addID -> xnatpy:subjectDataAddid\n"
     ]
    },
    {
     "name": "stderr",
     "output_type": "stream",
     "text": [
      "[2020-02-18 15:52:25,857] DEBUG: convert_xsd:1382 >> Found simple mapping xnat:subjectData.fields -> xnatpy:subjectDataFields\n",
      "[2020-02-18 15:52:25,857] DEBUG: convert_xsd:1382 >> Found simple mapping xnat:experimentData.sharing -> xnatpy:experimentDataSharing\n",
      "[2020-02-18 15:52:25,858] DEBUG: convert_xsd:1388 >> Too many attributes to simplify (found 4 attributed)\n",
      "[2020-02-18 15:52:25,858] DEBUG: convert_xsd:1382 >> Found simple mapping xnat:experimentData.fields -> xnatpy:experimentDataFields\n",
      "[2020-02-18 15:52:25,859] DEBUG: convert_xsd:1382 >> Found simple mapping xnat:subjectVariablesData.variables -> xnatpy:subjectVariablesDataVariables\n",
      "[2020-02-18 15:52:25,859] DEBUG: convert_xsd:1382 >> Found simple mapping xnat:abstractResource.tags -> xnatpy:abstractResourceTags\n",
      "[2020-02-18 15:52:25,860] DEBUG: convert_xsd:1382 >> Found simple mapping xnat:regionResource.subregionlabels -> xnatpy:regionResourceSubregionlabels\n",
      "[2020-02-18 15:52:25,860] DEBUG: convert_xsd:1382 >> Found simple mapping xnat:statisticsData.additionalStatistics -> xnatpy:statisticsDataAdditionalstatistics\n",
      "[2020-02-18 15:52:25,861] DEBUG: convert_xsd:1382 >> Found simple mapping xnat:statisticsData.addField -> xnatpy:statisticsDataAddfield\n",
      "[2020-02-18 15:52:25,861] DEBUG: convert_xsd:1382 >> Found simple mapping xnatpy:fieldDefinitionGroupFields.possibleValues -> xnatpy:fieldDefinitionGroupFieldsFieldPossiblevalues\n",
      "[2020-02-18 15:52:25,861] DEBUG: convert_xsd:1382 >> Found simple mapping xnat:imageScanData.sharing -> xnatpy:imageScanDataSharing\n",
      "[2020-02-18 15:52:25,862] DEBUG: convert_xsd:1382 >> Found simple mapping xnat:qcScanData.fields -> xnatpy:qcScanDataFields\n",
      "[2020-02-18 15:52:25,862] DEBUG: convert_xsd:1382 >> Found simple mapping wrk:xnatExecutionEnvironment.parameters -> xnatpy:xnatExecutionEnvironmentParameters\n",
      "[2020-02-18 15:52:25,863] DEBUG: convert_xsd:1382 >> Found simple mapping prov:processStep.library -> xnatpy:processStepLibrary\n",
      "[2020-02-18 15:52:25,864] DEBUG: convert_xsd:1382 >> Found simple mapping cat:catalog.metaFields -> xnatpy:catalogMetafields\n",
      "[2020-02-18 15:52:25,864] DEBUG: convert_xsd:1382 >> Found simple mapping cat:entry.metaFields -> xnatpy:entryMetafields\n",
      "[2020-02-18 15:52:25,864] DEBUG: convert_xsd:1382 >> Found simple mapping xnatpy:protocolDataCheck.comments -> xnatpy:protocolDataCheckComments\n",
      "[2020-02-18 15:52:25,865] DEBUG: convert_xsd:1382 >> Found simple mapping xnatpy:protocolDataScans.comments -> xnatpy:protocolDataScansScan_checkComments\n",
      "[2020-02-18 15:52:25,866] DEBUG: convert_xsd:1407 >> Classed after prune: {'xnat:addField', 'xnat:gmvScanData', 'xdat:newsEntry', 'xnat:petAssessorData', 'xnat:xa3DSessionData', 'xnatpy:metaFieldString', 'xnatpy:subjectVariablesDataVariablesVariable', 'xnatpy:petmrSessionDataTracerIntermediate', 'xnatpy:stored_searchAllowed_user', 'xnatpy:heightFloat', 'xnatpy:eegScanDataSoftwarefiltersimpedancesImpedance', 'cat:dcmCatalog', 'xnat:xcScanData', 'xnatpy:petScanDataParametersDimensions', 'xnat:rfSessionData', 'xnatpy:propertyString', 'xnat:xcvSessionData', 'xnat:regionResource', 'xnatpy:primary_passwordString', 'xnatpy:imageScanDataSharingShare', 'xnatpy:aliasString', 'xnatpy:FieldTypeHtml-image', 'xnat:projectData', 'icr:roiCollectionData', 'xnatpy:shareString', 'xnat:imageAssessorData', 'xnatpy:experimentDataDelay', 'wrk:xnatExecutionEnvironment', 'xnat:smScanData', 'xnatpy:petScanDataParametersFilter', 'xnatpy:petScanDataParametersZfilter', 'xnat:mrAssessorData', 'xnat:esvScanData', 'xnatpy:addFieldString', 'xnatpy:imageScanDataScanner', 'xnatpy:ctScanDataDcmvalidation', 'xnatpy:PlexiViewerTypeViewableitemHi-resLayer', 'xnatpy:protocolDataCheckConditionsCondition', 'xnat:segScanData', 'xnat:mgSessionData', 'xdat:history', 'xnatpy:intermediateFloat', 'cat:dcmEntry', 'xnatpy:fieldDefinitionGroupFieldsFieldPossiblevaluesPossiblevalue', 'xnat:resourceSeries', 'xnat:dx3DCraniofacialSessionData', 'xnatpy:processStepLibrary', 'xnatpy:catalogMetafieldsMetafield', 'xnat:usSessionData', 'xnatpy:updrs3DataHandsram', 'xnatpy:updrs3DataActionposturaltremor', 'xnatpy:delayInteger', 'xnatpy:LayoutDescriptionCoordinates', 'PlexiViewerType', 'xnatpy:petmrSessionDataTracerTotalmass', 'LayoutDescription', 'build:imageSessionData', 'xnatpy:protocolDataCheckCommentsComment', 'xnatpy:ratingString', 'xnatpy:SubQueryFieldMappingcolumnsMappingcolumn', 'xnat:ctSessionData', 'xnatpy:projectPipelines', 'xnatpy:mrScanDataParameters', 'xnat:resourceCatalog', 'xnat:smSessionData', 'xnatpy:samplingIntervalFloat', 'xnatpy:stored_searchSort_by', 'xnatpy:FieldTypeContent', 'val:protocolData', 'display:FieldType', 'xnatpy:pipelineParameterDataParameter', 'xnat:crScanData', 'xnatpy:ygtssDataMotor', 'xnat_a:sideEffectsPittsburghData', 'build:pipelineData', 'xnat_a:ygtssData', 'xdat:element_security', 'xnatpy:studyProtocolSubjectvariablesVariable', 'xnatpy:mrScanDataParametersInplanephaseencoding', 'xnatpy:imageResourceDimensions', 'xnatpy:abstractResourceTagsTag', 'pipe:pipelineDetails', 'xnatpy:experimentDataSharingShare', 'xnatpy:ctScanDataParametersVoxelres', 'xnat:ctScanData', 'val:additionalVal', 'xnat:subjectVariablesData', 'xnatpy:regionResourceSubregionlabelsLabel', 'xnat:ecgSessionData', 'xnat:abstractProtocol', 'xnatpy:updrs3DataRigidity', 'xnat:volumetricRegion', 'arc:project', 'xnatpy:petScanDataParametersRfilter', 'xnatpy:tagString', 'xnat:qcAssessmentData', 'xnat:statisticsData', 'xnat:gmSessionData', 'wrk:workflowData', 'prov:processStep', 'xnatpy:FieldTypeHtml-linkProperty', 'xnat:esScanData', 'xnatpy:additionalStatisticsDouble', 'xnatpy:petScanDataParameters', 'xnatpy:fieldString', 'xnatpy:petScanDataParametersFrames', 'xdat:field_mapping_set', 'xnatpy:petScanDataParametersResolution', 'xnatpy:protocolDataCheck', 'xnatpy:mrScanDataParametersMatrix', 'xnatpy:eegScanDataParametersDatarecord', 'xnatpy:compilerString', 'xnatpy:ctScanDataParametersFov', 'xnat:otherDicomSessionData', 'xnatpy:dicomSeriesImagesetImage', 'xnatpy:parameterString', 'xnat:pVisitData', 'xdat:criteria', 'xnatpy:statisticsDataAddfield', 'xnat:abstractResource', 'xnatpy:studyProtocolAcqconditionsCondition', 'xnatpy:subjectDataAddid', 'xnatpy:FieldTypeHtml-link', 'xnat:dicomSeries', 'xnatpy:PlexiViewerTypeViewableitemThumbnailSlice', 'xnatpy:imageResourceSeriesVoxelres', 'xdat:user', 'xdat:element_action_type', 'xnat:imageResource', 'xnatpy:statisticsDataAdditionalstatistics', 'xnat:xaScanData', 'xnatpy:regionResourceCreator', 'xnatpy:dicomSeriesDimensions', 'xdat:infoEntry', 'xnat:megScanData', 'xnat:esSessionData', 'xnatpy:ecatValidationString', 'xnat:mrsScanData', 'xnatpy:dcmCatalogDimensions', 'xnatpy:scidResearchDataAnxietydisorders', 'xdat:search_field', 'xnat:megSessionData', 'xnatpy:petSessionDataTracer', 'xnatpy:ctScanDataParametersDerivation', 'xnatpy:PlexiViewerTypeViewableitemUserinterfaceLinkeddropdown', 'xnatpy:weightFloat', 'xnatpy:PlexiViewerTypeViewableitemHi-res', 'xnat:petSessionData', 'xnatpy:projectPipelinesPipeline', 'xnatpy:mrScanDataParametersVoxelres', 'xdat:action_type', 'xnatpy:petScanDataParametersPixelsize', 'xnatpy:pipelineDetailsParametersParameterValues', 'xnatpy:entryMetafieldsMetafield', 'xnat_a:updrs3Data', 'xnat:petmrSessionData', 'xnat:dx3DCraniofacialScanData', 'xnat:dxScanData', 'xnatpy:eegSessionDataSamplingrate', 'xdat:user_login', 'xnat:ecgScanData', 'xnat:ioSessionData', 'xnatpy:petScanDataParametersOffset', 'xnat:xaSessionData', 'xnat:experimentData', 'display:SubQueryField', 'xnatpy:pipelineParameterDataCsvvalues', 'xnatpy:imageSessionDataScanner', 'xnat:epsScanData', 'xnat:hdSessionData', 'xnatpy:imageSessionDataPipeline', 'xnatpy:eegScanDataSoftwarefiltersimpedances', 'xnat:srScanData', 'xnatpy:userPrimary_password', 'xnat:opSessionData', 'xnatpy:scidResearchDataEatingdisorders', 'xnat:mrQcScanData', 'xnatpy:xnatExecutionEnvironmentParametersParameter', 'xnatpy:optScanDataParametersVoxelres', 'xnat:rfScanData', 'xnat:computationData', 'xnat:studyProtocol', 'xnatpy:updrs3DataFoottaps', 'xnat:algorithm', 'xdat:access_log', 'xnatpy:FieldTypeHtml-linkSecurelink', 'xnatpy:mrScanDataParametersDiffusion', 'xnat:genericData', 'cat:catalog', 'xnat:eegScanData', 'xnatpy:xaScanDataParametersFov', 'xnatpy:processStepProgram', 'xnat:xcSessionData', 'xnat:imageResourceSeries', 'xnat:scScanData', 'xnat:imageScanData', 'xdat:meta_data', 'xnatpy:programString', 'xnatpy:ctScanDataParametersRescale', 'xnat:epsSessionData', 'xnat:otherQcScanData', 'xnat:qcManualAssessorData', 'xnat:eegSessionData', 'xnatpy:petSessionDataTracerIntermediate', 'xnat:usScanData', 'xnat:dicomCodedValue', 'xdat:criteria_set', 'xnat:derivedData', 'xnatpy:primary_security_fieldString', 'xnat:subjectData', 'xnat:mrSessionData', 'xnatpy:subjectDataFieldsField', 'xnatpy:processStepCompiler', 'xnatpy:platformString', 'scr:screeningScanData', 'xnat:optSessionData', 'xnatpy:projectPipelinesDescendantsDescendantPipeline', 'xnatpy:addIDString', 'xnatpy:qcScanDataRating', 'xnatpy:PlexiViewerTypeViewableitemLo-resParameter', 'xnat:projectParticipant', 'xnat:dxSessionData', 'xnatpy:petmrSessionDataTracerIsotope', 'xnatpy:pipelineDetailsParametersParameter', 'xnatpy:petSessionDataTracerIsotope', 'prov:process', 'xnat:nmSessionData', 'xnatpy:updrs3DataTremorrest', 'xdat:field_mapping', 'xdat:stored_search', 'xnatpy:dcmCatalogVoxelres', 'xnatpy:petScanDataParametersFramesFrame', 'xnat:otherDicomScanData', 'xnatpy:ygtssDataPhonic', 'xnat_a:ybocsData', 'xnatpy:updrs3DataFingertaps', 'display:HTML-Cell', 'xnat:abstractStatistics', 'xnatpy:protocolDataScansScan_checkConditionsCondition', 'xnatpy:doseFloat', 'xnatpy:imageResourceSeriesDimensions', 'xnatpy:qcAssessmentDataScansScanSliceqcSlice', 'xnat:subjectMetadata', 'xnatpy:updrs3DataClicker', 'xnatpy:studyProtocolSubjectgroupsGroup', 'xnat:imageSessionData', 'build:buildData', 'xnat_a:scidResearchData', 'xdat:LONGVARCHAR', 'xnatpy:PlexiViewerTypeViewableitemThumbnail', 'xnatpy:qcScanDataFieldsField', 'xnatpy:imageResourceVoxelres', 'xdat:role_type', 'xnatpy:csvValuesString', 'xnat:investigatorData', 'xnat:nmScanData', 'xnat:validationData', 'xnatpy:variableString', 'xnatpy:estimatedDoseSavingFloat', 'xnatpy:ContentString', 'xnatpy:projectPipelinesDescendantsDescendant', 'xnat:srSessionData', 'xnat:resource', 'arc:fieldSpecification', 'xnat:publicationResource', 'xnatpy:PlexiViewerTypeViewableitemHi-resLayoutref', 'xnatpy:dcmValidationString', 'xnatpy:scidResearchDataMoodepisodes', 'xnatpy:projectDataAliasesAlias', 'xnat:voiceAudioScanData', 'xnatpy:xaScanDataParametersPixelres', 'xnatpy:projectDataFieldsField', 'xnatpy:PlexiViewerTypeViewableitem', 'xnat:petScanData', 'build:pipelineParameterData', 'xnatpy:xnatExecutionEnvironmentParameterfile', 'xnat:xa3DScanData', 'xnat:rtSessionData', 'xnatpy:labelString', 'xnat:optScanData', 'xnat:abstractSubjectMetadata', 'arc:pipelineData', 'xnat:subjectAssessorData', 'xnat:reconstructedImageData', 'xnatpy:ctScanDataParametersCollimationwidth', 'xnatpy:mrScanDataDcmvalidation', 'xnatpy:eegScanDataChannelsChannel', 'wrk:abstractExecutionEnvironment', 'xnatpy:xaScanDataParameters', 'xnatpy:studyProtocolImagesessiontypesSession', 'xnatpy:fieldDefinitionGroupFieldsField', 'xnatpy:FieldTypeHtml-linkPropertyInsertvalue', 'xnatpy:ctScanDataParametersEstimateddosesaving', 'xnatpy:PlexiViewerTypeViewableitemUserinterface', 'xnatpy:isotopeString', 'arc:pathInfo', 'xnatpy:commentString', 'xnat:petQcScanData', 'xnat:abstractDemographicData', 'xnatpy:ctScanDataParameters', 'cat:entry', 'xnatpy:protocolDataScansScan_check', 'xnatpy:petSessionDataTracerDose', 'xnatpy:scidResearchDataOptional', 'xnat:rtImageScanData', 'xnatpy:scidResearchDataMooddisorders', 'xnatpy:demographicDataHeight', 'xnatpy:fieldSpecificationString', 'xnatpy:experimentDataFieldsField', 'xnatpy:libraryString', 'xnatpy:PlexiViewerTypeViewableitemLo-res', 'xnatpy:optScanDataParameters', 'xnatpy:demographicDataWeight', 'xnatpy:optScanDataDcmvalidation', 'xnatpy:scidResearchDataSomatoformdisorders', 'xnatpy:optScanDataParametersFov', 'arc:pipelineParameterData', 'xnat:contrastBolus', 'xdat:primary_security_field', 'xnatpy:samplingRateFloat', 'xnat:hdScanData', 'xnatpy:qcAssessmentDataScansScan', 'xdat:change_info', 'xnatpy:mrScanDataParametersFov', 'xnatpy:petmrSessionDataTracerDose', 'xnat:opScanData', 'xnatpy:petScanDataEcatvalidation', 'xnatpy:petmrSessionDataTracer', 'xnatpy:scidResearchDataPsychoticdisorders', 'xnatpy:derivationString', 'xnat:mrScanData', 'xnatpy:dicomSeriesVoxelres', 'xnat:mgScanData', 'xnat:ioScanData', 'SchemaLinkType', 'xnatpy:scannerString', 'xnat:xcvScanData', 'xnat:esvSessionData', 'xnat:fieldDefinitionGroup', 'xnatpy:PlexiViewerTypeViewableitemSchemalink', 'arc:property', 'xnatpy:FieldTypeHtml-linkSecurelinkSecuritymappingvalue', 'xnatpy:element_securityListing_actionsListing_action', 'xnatpy:protocolDataScansScan_checkCommentsComment', 'xnatpy:totalMassFloat', 'xnat:qcScanData', 'xnat:datatypeProtocol', 'xnat:gmvSessionData', 'xnatpy:petSessionDataTracerTotalmass', 'scr:screeningAssessment', 'xnatpy:eegScanDataParameters', 'xnat:gmScanData', 'xnatpy:scidResearchDataSubstanceusedisorders', 'xnatpy:possibleValueString', 'xdat:userGroup', 'xnatpy:processStepPlatform', 'xnatpy:volumetricRegionSubregionsSubregion', 'xnatpy:eegSessionDataSamplinginterval', 'xnat:crSessionData', 'xnatpy:updrs3DataHandmovementsgrip', 'xnatpy:scidResearchDataPsychoticsymptoms', 'xnat:demographicData'}\n"
     ]
    },
    {
     "name": "stderr",
     "output_type": "stream",
     "text": [
      "[2020-02-18 15:52:25,866] INFO: convert_xsd:1408 >> Classes removed by pruning: ['xnatpy:SubQueryFieldMappingcolumns', 'xnatpy:abstractResourceTags', 'xnatpy:catalogEntries', 'xnatpy:catalogMetafields', 'xnatpy:catalogSets', 'xnatpy:catalogTags', 'xnatpy:ctScanDataParametersFocalspots', 'xnatpy:datatypeProtocolDefinitions', 'xnatpy:dicomSeriesImageset', 'xnatpy:eegScanDataChannels', 'xnatpy:element_securityElement_actions', 'xnatpy:element_securityListing_actions', 'xnatpy:element_securityPrimary_security_fields', 'xnatpy:entryMetafields', 'xnatpy:entryTags', 'xnatpy:experimentDataFields', 'xnatpy:experimentDataResources', 'xnatpy:experimentDataSharing', 'xnatpy:fieldDefinitionGroupFields', 'xnatpy:fieldDefinitionGroupFieldsFieldPossiblevalues', 'xnatpy:imageAssessorDataIn', 'xnatpy:imageAssessorDataOut', 'xnatpy:imageAssessorDataParameters', 'xnatpy:imageScanDataSharing', 'xnatpy:imageSessionDataAssessors', 'xnatpy:imageSessionDataReconstructions', 'xnatpy:imageSessionDataRegions', 'xnatpy:imageSessionDataScans', 'xnatpy:petQcScanDataProcessingerrors', 'xnatpy:pipelineDataParameters', 'xnatpy:pipelineDetailsGenerateselements', 'xnatpy:pipelineDetailsParameters', 'xnatpy:projectDataAliases', 'xnatpy:projectDataFields', 'xnatpy:projectDataInvestigators', 'xnatpy:projectDataPublications', 'xnatpy:projectDataResources', 'xnatpy:projectFieldspecifications', 'xnatpy:projectPipelinesDescendants', 'xnatpy:projectProperties', 'xnatpy:protocolDataCheckComments', 'xnatpy:protocolDataCheckConditions', 'xnatpy:protocolDataScans', 'xnatpy:protocolDataScansScan_checkComments', 'xnatpy:protocolDataScansScan_checkConditions', 'xnatpy:qcAssessmentDataScans', 'xnatpy:qcAssessmentDataScansScanSliceqc', 'xnatpy:qcManualAssessorDataScans', 'xnatpy:qcScanDataFields', 'xnatpy:reconstructedImageDataComputations', 'xnatpy:reconstructedImageDataIn', 'xnatpy:reconstructedImageDataInscans', 'xnatpy:reconstructedImageDataOut', 'xnatpy:reconstructedImageDataParameters', 'xnatpy:regionResourceSubregionlabels', 'xnatpy:roiCollectionDataReferences', 'xnatpy:role_typeAllowed_actions', 'xnatpy:screeningAssessmentScans', 'xnatpy:stored_searchAllowed_groups', 'xnatpy:studyProtocolAcqconditions', 'xnatpy:studyProtocolImagesessiontypes', 'xnatpy:studyProtocolSubjectgroups', 'xnatpy:studyProtocolSubjectvariables', 'xnatpy:subjectDataExperiments', 'xnatpy:subjectDataFields', 'xnatpy:subjectDataResources', 'xnatpy:subjectDataSharing', 'xnatpy:subjectVariablesDataVariables', 'xnatpy:userAssigned_roles', 'xnatpy:userGroups', 'xnatpy:volumetricRegionSubregions', 'xnatpy:xnatExecutionEnvironmentParameters']\n",
      "[2020-02-18 15:52:25,866] INFO: convert_xsd:1410 >> === Writing result ===\n",
      "[2020-02-18 15:52:25,867] DEBUG: convert_xsd:997 >> Wait with processing icr:roiCollectionData because base xnat:imageAssessorData is not yet processed\n",
      "[2020-02-18 15:52:25,867] INFO: convert_xsd:1010 >> Processing xdat:field_mapping (base class None)\n",
      "[2020-02-18 15:52:25,868] INFO: convert_xsd:1010 >> Processing xdat:field_mapping_set (base class None)\n",
      "[2020-02-18 15:52:25,869] INFO: convert_xsd:1010 >> Processing xdat:role_type (base class None)\n",
      "[2020-02-18 15:52:25,869] INFO: convert_xsd:1010 >> Processing xdat:action_type (base class None)\n",
      "[2020-02-18 15:52:25,870] DEBUG: convert_xsd:997 >> Wait with processing xdat:primary_security_field because base xnatpy:primary_security_fieldString is not yet processed\n",
      "[2020-02-18 15:52:25,870] INFO: convert_xsd:1010 >> Processing xnatpy:primary_security_fieldString (base class None)\n",
      "[2020-02-18 15:52:25,870] INFO: convert_xsd:1010 >> Processing xdat:element_security (base class None)\n",
      "[2020-02-18 15:52:25,872] INFO: convert_xsd:1010 >> Processing xnatpy:element_securityListing_actions (base class None)\n",
      "[2020-02-18 15:52:25,873] INFO: convert_xsd:1010 >> Processing xdat:element_action_type (base class None)\n",
      "[2020-02-18 15:52:25,873] INFO: convert_xsd:1010 >> Processing xdat:user (base class None)\n",
      "[2020-02-18 15:52:25,873] DEBUG: convert_xsd:997 >> Wait with processing xnatpy:userPrimary_password because base xnatpy:primary_passwordString is not yet processed\n",
      "[2020-02-18 15:52:25,874] INFO: convert_xsd:1010 >> Processing xnatpy:primary_passwordString (base class None)\n",
      "[2020-02-18 15:52:25,874] INFO: convert_xsd:1010 >> Processing xdat:meta_data (base class None)\n",
      "[2020-02-18 15:52:25,875] INFO: convert_xsd:1010 >> Processing xdat:history (base class None)\n",
      "[2020-02-18 15:52:25,876] INFO: convert_xsd:1010 >> Processing xdat:change_info (base class None)\n",
      "[2020-02-18 15:52:25,877] INFO: convert_xsd:1010 >> Processing xdat:user_login (base class None)\n",
      "[2020-02-18 15:52:25,877] INFO: convert_xsd:1010 >> Processing xdat:stored_search (base class None)\n",
      "[2020-02-18 15:52:25,878] INFO: convert_xsd:1010 >> Processing xnatpy:stored_searchSort_by (base class None)\n",
      "[2020-02-18 15:52:25,878] INFO: convert_xsd:1010 >> Processing xnatpy:stored_searchAllowed_user (base class None)\n",
      "[2020-02-18 15:52:25,879] INFO: convert_xsd:1010 >> Processing xdat:criteria_set (base class None)\n",
      "[2020-02-18 15:52:25,879] INFO: convert_xsd:1010 >> Processing xdat:criteria (base class None)\n",
      "[2020-02-18 15:52:25,880] INFO: convert_xsd:1010 >> Processing xdat:search_field (base class None)\n",
      "[2020-02-18 15:52:25,880] INFO: convert_xsd:1010 >> Processing xdat:access_log (base class None)\n",
      "[2020-02-18 15:52:25,881] INFO: convert_xsd:1010 >> Processing xdat:userGroup (base class None)\n",
      "[2020-02-18 15:52:25,881] INFO: convert_xsd:1010 >> Processing xdat:newsEntry (base class None)\n",
      "[2020-02-18 15:52:25,881] INFO: convert_xsd:1010 >> Processing xdat:infoEntry (base class None)\n",
      "[2020-02-18 15:52:25,882] INFO: convert_xsd:1010 >> Processing xnat:projectData (base class None)\n",
      "[2020-02-18 15:52:25,883] DEBUG: convert_xsd:997 >> Wait with processing xnatpy:projectDataAliases because base xnatpy:aliasString is not yet processed\n",
      "[2020-02-18 15:52:25,883] INFO: convert_xsd:1010 >> Processing xnatpy:aliasString (base class None)\n",
      "[2020-02-18 15:52:25,883] DEBUG: convert_xsd:997 >> Wait with processing xnatpy:projectDataFields because base xnatpy:fieldString is not yet processed\n",
      "[2020-02-18 15:52:25,883] INFO: convert_xsd:1010 >> Processing xnatpy:fieldString (base class None)\n",
      "[2020-02-18 15:52:25,884] INFO: convert_xsd:1010 >> Processing xnat:subjectData (base class None)\n",
      "[2020-02-18 15:52:25,884] DEBUG: convert_xsd:997 >> Wait with processing xnatpy:subjectDataAddid because base xnatpy:addIDString is not yet processed\n",
      "[2020-02-18 15:52:25,885] INFO: convert_xsd:1010 >> Processing xnatpy:addIDString (base class None)\n",
      "[2020-02-18 15:52:25,885] INFO: convert_xsd:1010 >> Processing xnatpy:subjectDataFields (base class xnatpy:fieldString)\n",
      "[2020-02-18 15:52:25,885] INFO: convert_xsd:1010 >> Processing xnat:projectParticipant (base class None)\n",
      "[2020-02-18 15:52:25,886] INFO: convert_xsd:1010 >> Processing xnat:experimentData (base class None)\n",
      "[2020-02-18 15:52:25,887] DEBUG: convert_xsd:997 >> Wait with processing xnatpy:experimentDataSharing because base xnatpy:shareString is not yet processed\n",
      "[2020-02-18 15:52:25,887] INFO: convert_xsd:1010 >> Processing xnatpy:shareString (base class None)\n",
      "[2020-02-18 15:52:25,887] DEBUG: convert_xsd:997 >> Wait with processing xnatpy:experimentDataDelay because base xnatpy:delayInteger is not yet processed\n",
      "[2020-02-18 15:52:25,888] INFO: convert_xsd:1010 >> Processing xnatpy:delayInteger (base class None)\n",
      "[2020-02-18 15:52:25,888] INFO: convert_xsd:1010 >> Processing xnatpy:experimentDataFields (base class xnatpy:fieldString)\n",
      "[2020-02-18 15:52:25,888] INFO: convert_xsd:1010 >> Processing xnat:genericData (base class xnat:experimentData)\n",
      "[2020-02-18 15:52:25,889] INFO: convert_xsd:1010 >> Processing xnat:dicomCodedValue (base class None)\n",
      "[2020-02-18 15:52:25,889] INFO: convert_xsd:1010 >> Processing xnat:algorithm (base class None)\n",
      "[2020-02-18 15:52:25,889] INFO: convert_xsd:1010 >> Processing xnat:pVisitData (base class xnat:genericData)\n",
      "[2020-02-18 15:52:25,890] INFO: convert_xsd:1010 >> Processing xnat:abstractSubjectMetadata (base class None)\n",
      "[2020-02-18 15:52:25,891] INFO: convert_xsd:1010 >> Processing xnat:subjectMetadata (base class xnat:abstractSubjectMetadata)\n",
      "[2020-02-18 15:52:25,891] INFO: convert_xsd:1010 >> Processing xnat:abstractDemographicData (base class None)\n"
     ]
    },
    {
     "name": "stderr",
     "output_type": "stream",
     "text": [
      "[2020-02-18 15:52:25,891] INFO: convert_xsd:1010 >> Processing xnat:demographicData (base class xnat:abstractDemographicData)\n",
      "[2020-02-18 15:52:25,892] DEBUG: convert_xsd:997 >> Wait with processing xnatpy:demographicDataWeight because base xnatpy:weightFloat is not yet processed\n",
      "[2020-02-18 15:52:25,893] INFO: convert_xsd:1010 >> Processing xnatpy:weightFloat (base class None)\n",
      "[2020-02-18 15:52:25,893] DEBUG: convert_xsd:997 >> Wait with processing xnatpy:demographicDataHeight because base xnatpy:heightFloat is not yet processed\n",
      "[2020-02-18 15:52:25,894] INFO: convert_xsd:1010 >> Processing xnatpy:heightFloat (base class None)\n",
      "[2020-02-18 15:52:25,894] INFO: convert_xsd:1010 >> Processing xnat:subjectAssessorData (base class xnat:experimentData)\n",
      "[2020-02-18 15:52:25,895] INFO: convert_xsd:1010 >> Processing xnat:subjectVariablesData (base class xnat:subjectAssessorData)\n",
      "[2020-02-18 15:52:25,895] DEBUG: convert_xsd:997 >> Wait with processing xnatpy:subjectVariablesDataVariables because base xnatpy:variableString is not yet processed\n",
      "[2020-02-18 15:52:25,895] INFO: convert_xsd:1010 >> Processing xnatpy:variableString (base class None)\n",
      "[2020-02-18 15:52:25,895] INFO: convert_xsd:1010 >> Processing xnat:imageSessionData (base class xnat:subjectAssessorData)\n",
      "[2020-02-18 15:52:25,896] DEBUG: convert_xsd:997 >> Wait with processing xnatpy:imageSessionDataScanner because base xnatpy:scannerString is not yet processed\n",
      "[2020-02-18 15:52:25,897] INFO: convert_xsd:1010 >> Processing xnatpy:scannerString (base class None)\n",
      "[2020-02-18 15:52:25,897] INFO: convert_xsd:1010 >> Processing xnat:mrSessionData (base class xnat:imageSessionData)\n",
      "[2020-02-18 15:52:25,898] DEBUG: convert_xsd:997 >> Wait with processing xnat:mrAssessorData because base xnat:imageAssessorData is not yet processed\n",
      "[2020-02-18 15:52:25,898] DEBUG: convert_xsd:997 >> Wait with processing xnat:mrScanData because base xnat:imageScanData is not yet processed\n",
      "[2020-02-18 15:52:25,898] DEBUG: convert_xsd:1004 >> Wait with processing xnatpy:mrScanDataParameters because parent xnat:mrScanData is not yet processed\n",
      "[2020-02-18 15:52:25,898] DEBUG: convert_xsd:1004 >> Wait with processing xnatpy:mrScanDataParametersVoxelres because parent xnatpy:mrScanDataParameters is not yet processed\n",
      "[2020-02-18 15:52:25,899] DEBUG: convert_xsd:1004 >> Wait with processing xnatpy:mrScanDataParametersFov because parent xnatpy:mrScanDataParameters is not yet processed\n",
      "[2020-02-18 15:52:25,899] DEBUG: convert_xsd:1004 >> Wait with processing xnatpy:mrScanDataParametersMatrix because parent xnatpy:mrScanDataParameters is not yet processed\n",
      "[2020-02-18 15:52:25,899] DEBUG: convert_xsd:1004 >> Wait with processing xnatpy:mrScanDataParametersDiffusion because parent xnatpy:mrScanDataParameters is not yet processed\n",
      "[2020-02-18 15:52:25,899] DEBUG: convert_xsd:1004 >> Wait with processing xnatpy:mrScanDataParametersInplanephaseencoding because parent xnatpy:mrScanDataParameters is not yet processed\n",
      "[2020-02-18 15:52:25,900] DEBUG: convert_xsd:997 >> Wait with processing xnatpy:mrScanDataDcmvalidation because base xnatpy:dcmValidationString is not yet processed\n",
      "[2020-02-18 15:52:25,900] INFO: convert_xsd:1010 >> Processing xnatpy:dcmValidationString (base class None)\n",
      "[2020-02-18 15:52:25,900] INFO: convert_xsd:1010 >> Processing xnat:derivedData (base class xnat:experimentData)\n",
      "[2020-02-18 15:52:25,901] INFO: convert_xsd:1010 >> Processing xnat:reconstructedImageData (base class None)\n",
      "[2020-02-18 15:52:25,901] INFO: convert_xsd:1010 >> Processing xnat:investigatorData (base class None)\n",
      "[2020-02-18 15:52:25,902] INFO: convert_xsd:1010 >> Processing xnat:volumetricRegion (base class None)\n",
      "[2020-02-18 15:52:25,903] INFO: convert_xsd:1010 >> Processing xnatpy:volumetricRegionSubregions (base class None)\n",
      "[2020-02-18 15:52:25,904] DEBUG: convert_xsd:997 >> Wait with processing xnat:addField because base xdat:LONGVARCHAR is not yet processed\n",
      "[2020-02-18 15:52:25,904] INFO: convert_xsd:1010 >> Processing xnat:validationData (base class None)\n",
      "[2020-02-18 15:52:25,905] INFO: convert_xsd:1010 >> Processing xnat:abstractResource (base class None)\n",
      "[2020-02-18 15:52:25,906] DEBUG: convert_xsd:997 >> Wait with processing xnatpy:abstractResourceTags because base xnatpy:tagString is not yet processed\n",
      "[2020-02-18 15:52:25,907] INFO: convert_xsd:1010 >> Processing xnatpy:tagString (base class None)\n",
      "[2020-02-18 15:52:25,909] INFO: convert_xsd:1010 >> Processing xnat:resource (base class xnat:abstractResource)\n",
      "[2020-02-18 15:52:25,910] INFO: convert_xsd:1010 >> Processing xnat:imageResource (base class xnat:resource)\n",
      "[2020-02-18 15:52:25,910] INFO: convert_xsd:1010 >> Processing xnatpy:imageResourceDimensions (base class None)\n",
      "[2020-02-18 15:52:25,910] INFO: convert_xsd:1010 >> Processing xnatpy:imageResourceVoxelres (base class None)\n",
      "[2020-02-18 15:52:25,911] INFO: convert_xsd:1010 >> Processing xnat:resourceSeries (base class xnat:abstractResource)\n",
      "[2020-02-18 15:52:25,912] INFO: convert_xsd:1010 >> Processing xnat:imageResourceSeries (base class xnat:resourceSeries)\n",
      "[2020-02-18 15:52:25,913] INFO: convert_xsd:1010 >> Processing xnatpy:imageResourceSeriesDimensions (base class None)\n",
      "[2020-02-18 15:52:25,914] INFO: convert_xsd:1010 >> Processing xnatpy:imageResourceSeriesVoxelres (base class None)\n",
      "[2020-02-18 15:52:25,914] INFO: convert_xsd:1010 >> Processing xnat:dicomSeries (base class xnat:abstractResource)\n",
      "[2020-02-18 15:52:25,915] INFO: convert_xsd:1010 >> Processing xnatpy:dicomSeriesDimensions (base class None)\n",
      "[2020-02-18 15:52:25,916] INFO: convert_xsd:1010 >> Processing xnatpy:dicomSeriesVoxelres (base class None)\n",
      "[2020-02-18 15:52:25,916] INFO: convert_xsd:1010 >> Processing xnatpy:dicomSeriesImageset (base class None)\n",
      "[2020-02-18 15:52:25,917] INFO: convert_xsd:1010 >> Processing xnat:publicationResource (base class xnat:abstractResource)\n",
      "[2020-02-18 15:52:25,918] INFO: convert_xsd:1010 >> Processing xnat:abstractProtocol (base class None)\n",
      "[2020-02-18 15:52:25,919] INFO: convert_xsd:1010 >> Processing xnat:studyProtocol (base class xnat:abstractProtocol)\n",
      "[2020-02-18 15:52:25,919] INFO: convert_xsd:1010 >> Processing xnatpy:studyProtocolAcqconditions (base class None)\n",
      "[2020-02-18 15:52:25,920] INFO: convert_xsd:1010 >> Processing xnatpy:studyProtocolSubjectgroups (base class None)\n",
      "[2020-02-18 15:52:25,920] INFO: convert_xsd:1010 >> Processing xnatpy:studyProtocolSubjectvariables (base class None)\n",
      "[2020-02-18 15:52:25,921] INFO: convert_xsd:1010 >> Processing xnatpy:studyProtocolImagesessiontypes (base class None)\n",
      "[2020-02-18 15:52:25,922] DEBUG: convert_xsd:997 >> Wait with processing xnat:petAssessorData because base xnat:imageAssessorData is not yet processed\n",
      "[2020-02-18 15:52:25,922] INFO: convert_xsd:1010 >> Processing xnat:petSessionData (base class xnat:imageSessionData)\n",
      "[2020-02-18 15:52:25,924] INFO: convert_xsd:1010 >> Processing xnatpy:petSessionDataTracer (base class None)\n",
      "[2020-02-18 15:52:25,925] DEBUG: convert_xsd:997 >> Wait with processing xnatpy:petSessionDataTracerDose because base xnatpy:doseFloat is not yet processed\n",
      "[2020-02-18 15:52:25,925] INFO: convert_xsd:1010 >> Processing xnatpy:doseFloat (base class None)\n",
      "[2020-02-18 15:52:25,926] DEBUG: convert_xsd:997 >> Wait with processing xnatpy:petSessionDataTracerTotalmass because base xnatpy:totalMassFloat is not yet processed\n",
      "[2020-02-18 15:52:25,926] INFO: convert_xsd:1010 >> Processing xnatpy:totalMassFloat (base class None)\n",
      "[2020-02-18 15:52:25,927] DEBUG: convert_xsd:997 >> Wait with processing xnatpy:petSessionDataTracerIntermediate because base xnatpy:intermediateFloat is not yet processed\n",
      "[2020-02-18 15:52:25,928] INFO: convert_xsd:1010 >> Processing xnatpy:intermediateFloat (base class None)\n",
      "[2020-02-18 15:52:25,928] DEBUG: convert_xsd:997 >> Wait with processing xnatpy:petSessionDataTracerIsotope because base xnatpy:isotopeString is not yet processed\n",
      "[2020-02-18 15:52:25,929] INFO: convert_xsd:1010 >> Processing xnatpy:isotopeString (base class None)\n",
      "[2020-02-18 15:52:25,930] INFO: convert_xsd:1010 >> Processing xnat:petmrSessionData (base class xnat:imageSessionData)\n",
      "[2020-02-18 15:52:25,931] INFO: convert_xsd:1010 >> Processing xnatpy:petmrSessionDataTracer (base class None)\n"
     ]
    },
    {
     "name": "stderr",
     "output_type": "stream",
     "text": [
      "[2020-02-18 15:52:25,932] INFO: convert_xsd:1010 >> Processing xnatpy:petmrSessionDataTracerDose (base class xnatpy:doseFloat)\n",
      "[2020-02-18 15:52:25,933] INFO: convert_xsd:1010 >> Processing xnatpy:petmrSessionDataTracerTotalmass (base class xnatpy:totalMassFloat)\n",
      "[2020-02-18 15:52:25,934] INFO: convert_xsd:1010 >> Processing xnatpy:petmrSessionDataTracerIntermediate (base class xnatpy:intermediateFloat)\n",
      "[2020-02-18 15:52:25,934] INFO: convert_xsd:1010 >> Processing xnatpy:petmrSessionDataTracerIsotope (base class xnatpy:isotopeString)\n",
      "[2020-02-18 15:52:25,935] DEBUG: convert_xsd:997 >> Wait with processing xnat:petScanData because base xnat:imageScanData is not yet processed\n",
      "[2020-02-18 15:52:25,935] DEBUG: convert_xsd:1004 >> Wait with processing xnatpy:petScanDataParameters because parent xnat:petScanData is not yet processed\n",
      "[2020-02-18 15:52:25,936] DEBUG: convert_xsd:1004 >> Wait with processing xnatpy:petScanDataParametersFrames because parent xnatpy:petScanDataParameters is not yet processed\n",
      "[2020-02-18 15:52:25,936] DEBUG: convert_xsd:1004 >> Wait with processing xnatpy:petScanDataParametersFramesFrame because parent xnatpy:petScanDataParametersFrames is not yet processed\n",
      "[2020-02-18 15:52:25,937] DEBUG: convert_xsd:1004 >> Wait with processing xnatpy:petScanDataParametersDimensions because parent xnatpy:petScanDataParameters is not yet processed\n",
      "[2020-02-18 15:52:25,937] DEBUG: convert_xsd:1004 >> Wait with processing xnatpy:petScanDataParametersOffset because parent xnatpy:petScanDataParameters is not yet processed\n",
      "[2020-02-18 15:52:25,938] DEBUG: convert_xsd:1004 >> Wait with processing xnatpy:petScanDataParametersPixelsize because parent xnatpy:petScanDataParameters is not yet processed\n",
      "[2020-02-18 15:52:25,938] DEBUG: convert_xsd:1004 >> Wait with processing xnatpy:petScanDataParametersResolution because parent xnatpy:petScanDataParameters is not yet processed\n",
      "[2020-02-18 15:52:25,939] DEBUG: convert_xsd:1004 >> Wait with processing xnatpy:petScanDataParametersFilter because parent xnatpy:petScanDataParameters is not yet processed\n",
      "[2020-02-18 15:52:25,939] DEBUG: convert_xsd:1004 >> Wait with processing xnatpy:petScanDataParametersRfilter because parent xnatpy:petScanDataParameters is not yet processed\n",
      "[2020-02-18 15:52:25,939] DEBUG: convert_xsd:1004 >> Wait with processing xnatpy:petScanDataParametersZfilter because parent xnatpy:petScanDataParameters is not yet processed\n",
      "[2020-02-18 15:52:25,940] DEBUG: convert_xsd:997 >> Wait with processing xnatpy:petScanDataEcatvalidation because base xnatpy:ecatValidationString is not yet processed\n",
      "[2020-02-18 15:52:25,940] INFO: convert_xsd:1010 >> Processing xnatpy:ecatValidationString (base class None)\n",
      "[2020-02-18 15:52:25,941] INFO: convert_xsd:1010 >> Processing xnat:computationData (base class None)\n",
      "[2020-02-18 15:52:25,941] INFO: convert_xsd:1010 >> Processing xnat:regionResource (base class None)\n",
      "[2020-02-18 15:52:25,942] INFO: convert_xsd:1010 >> Processing xnatpy:regionResourceCreator (base class None)\n",
      "[2020-02-18 15:52:25,943] DEBUG: convert_xsd:997 >> Wait with processing xnatpy:regionResourceSubregionlabels because base xnatpy:labelString is not yet processed\n",
      "[2020-02-18 15:52:25,944] INFO: convert_xsd:1010 >> Processing xnatpy:labelString (base class None)\n",
      "[2020-02-18 15:52:25,944] INFO: convert_xsd:1010 >> Processing xnat:resourceCatalog (base class xnat:resource)\n",
      "[2020-02-18 15:52:25,945] DEBUG: convert_xsd:997 >> Wait with processing xnat:statisticsData because base xnat:abstractStatistics is not yet processed\n",
      "[2020-02-18 15:52:25,946] DEBUG: convert_xsd:997 >> Wait with processing xnatpy:statisticsDataAdditionalstatistics because base xnatpy:additionalStatisticsDouble is not yet processed\n",
      "[2020-02-18 15:52:25,946] INFO: convert_xsd:1010 >> Processing xnatpy:additionalStatisticsDouble (base class None)\n",
      "[2020-02-18 15:52:25,946] DEBUG: convert_xsd:997 >> Wait with processing xnatpy:statisticsDataAddfield because base xnatpy:addFieldString is not yet processed\n",
      "[2020-02-18 15:52:25,946] INFO: convert_xsd:1010 >> Processing xnatpy:addFieldString (base class None)\n",
      "[2020-02-18 15:52:25,946] INFO: convert_xsd:1010 >> Processing xnat:abstractStatistics (base class None)\n",
      "[2020-02-18 15:52:25,947] DEBUG: convert_xsd:997 >> Wait with processing xnat:qcAssessmentData because base xnat:mrAssessorData is not yet processed\n",
      "[2020-02-18 15:52:25,947] DEBUG: convert_xsd:1004 >> Wait with processing xnatpy:qcAssessmentDataScans because parent xnat:qcAssessmentData is not yet processed\n",
      "[2020-02-18 15:52:25,947] DEBUG: convert_xsd:1004 >> Wait with processing xnatpy:qcAssessmentDataScansScanSliceqc because parent xnatpy:qcAssessmentDataScansScan is not yet processed\n",
      "[2020-02-18 15:52:25,948] INFO: convert_xsd:1010 >> Processing xnat:datatypeProtocol (base class xnat:abstractProtocol)\n",
      "[2020-02-18 15:52:25,948] INFO: convert_xsd:1010 >> Processing xnat:fieldDefinitionGroup (base class None)\n",
      "[2020-02-18 15:52:25,949] INFO: convert_xsd:1010 >> Processing xnatpy:fieldDefinitionGroupFields (base class None)\n",
      "[2020-02-18 15:52:25,952] DEBUG: convert_xsd:997 >> Wait with processing xnatpy:fieldDefinitionGroupFieldsFieldPossiblevalues because base xnatpy:possibleValueString is not yet processed\n",
      "[2020-02-18 15:52:25,953] INFO: convert_xsd:1010 >> Processing xnatpy:possibleValueString (base class None)\n",
      "[2020-02-18 15:52:25,954] INFO: convert_xsd:1010 >> Processing xnat:contrastBolus (base class None)\n",
      "[2020-02-18 15:52:25,955] INFO: convert_xsd:1010 >> Processing xnat:imageAssessorData (base class xnat:derivedData)\n",
      "[2020-02-18 15:52:25,956] INFO: convert_xsd:1010 >> Processing xnat:imageScanData (base class None)\n",
      "[2020-02-18 15:52:25,959] INFO: convert_xsd:1010 >> Processing xnatpy:imageScanDataSharing (base class xnatpy:shareString)\n",
      "[2020-02-18 15:52:25,959] INFO: convert_xsd:1010 >> Processing xnatpy:imageScanDataScanner (base class xnatpy:scannerString)\n",
      "[2020-02-18 15:52:25,960] INFO: convert_xsd:1010 >> Processing xnat:ctSessionData (base class xnat:imageSessionData)\n",
      "[2020-02-18 15:52:25,961] INFO: convert_xsd:1010 >> Processing xnat:ctScanData (base class xnat:imageScanData)\n",
      "[2020-02-18 15:52:25,961] INFO: convert_xsd:1010 >> Processing xnatpy:ctScanDataParameters (base class None)\n",
      "[2020-02-18 15:52:25,963] INFO: convert_xsd:1010 >> Processing xnatpy:ctScanDataParametersVoxelres (base class None)\n",
      "[2020-02-18 15:52:25,963] INFO: convert_xsd:1010 >> Processing xnatpy:ctScanDataParametersFov (base class None)\n",
      "[2020-02-18 15:52:25,964] INFO: convert_xsd:1010 >> Processing xnatpy:ctScanDataParametersRescale (base class None)\n",
      "[2020-02-18 15:52:25,964] INFO: convert_xsd:1010 >> Processing xnatpy:ctScanDataParametersCollimationwidth (base class None)\n",
      "[2020-02-18 15:52:25,965] DEBUG: convert_xsd:997 >> Wait with processing xnatpy:ctScanDataParametersEstimateddosesaving because base xnatpy:estimatedDoseSavingFloat is not yet processed\n",
      "[2020-02-18 15:52:25,965] INFO: convert_xsd:1010 >> Processing xnatpy:estimatedDoseSavingFloat (base class None)\n",
      "[2020-02-18 15:52:25,965] DEBUG: convert_xsd:997 >> Wait with processing xnatpy:ctScanDataParametersDerivation because base xnatpy:derivationString is not yet processed\n",
      "[2020-02-18 15:52:25,965] INFO: convert_xsd:1010 >> Processing xnatpy:derivationString (base class None)\n",
      "[2020-02-18 15:52:25,966] INFO: convert_xsd:1010 >> Processing xnatpy:ctScanDataDcmvalidation (base class xnatpy:dcmValidationString)\n",
      "[2020-02-18 15:52:25,966] INFO: convert_xsd:1010 >> Processing xnat:crSessionData (base class xnat:imageSessionData)\n",
      "[2020-02-18 15:52:25,967] INFO: convert_xsd:1010 >> Processing xnat:crScanData (base class xnat:imageScanData)\n",
      "[2020-02-18 15:52:25,967] INFO: convert_xsd:1010 >> Processing xnat:dxSessionData (base class xnat:imageSessionData)\n",
      "[2020-02-18 15:52:25,967] INFO: convert_xsd:1010 >> Processing xnat:dxScanData (base class xnat:imageScanData)\n",
      "[2020-02-18 15:52:25,968] INFO: convert_xsd:1010 >> Processing xnat:mgSessionData (base class xnat:imageSessionData)\n",
      "[2020-02-18 15:52:25,968] INFO: convert_xsd:1010 >> Processing xnat:mgScanData (base class xnat:imageScanData)\n",
      "[2020-02-18 15:52:25,968] INFO: convert_xsd:1010 >> Processing xnat:ioSessionData (base class xnat:imageSessionData)\n"
     ]
    },
    {
     "name": "stderr",
     "output_type": "stream",
     "text": [
      "[2020-02-18 15:52:25,969] INFO: convert_xsd:1010 >> Processing xnat:ioScanData (base class xnat:imageScanData)\n",
      "[2020-02-18 15:52:25,969] INFO: convert_xsd:1010 >> Processing xnat:usSessionData (base class xnat:imageSessionData)\n",
      "[2020-02-18 15:52:25,969] INFO: convert_xsd:1010 >> Processing xnat:usScanData (base class xnat:imageScanData)\n",
      "[2020-02-18 15:52:25,970] INFO: convert_xsd:1010 >> Processing xnat:ecgSessionData (base class xnat:imageSessionData)\n",
      "[2020-02-18 15:52:25,970] INFO: convert_xsd:1010 >> Processing xnat:ecgScanData (base class xnat:imageScanData)\n",
      "[2020-02-18 15:52:25,970] INFO: convert_xsd:1010 >> Processing xnat:hdSessionData (base class xnat:imageSessionData)\n",
      "[2020-02-18 15:52:25,971] INFO: convert_xsd:1010 >> Processing xnat:hdScanData (base class xnat:imageScanData)\n",
      "[2020-02-18 15:52:25,971] INFO: convert_xsd:1010 >> Processing xnat:epsSessionData (base class xnat:imageSessionData)\n",
      "[2020-02-18 15:52:25,971] INFO: convert_xsd:1010 >> Processing xnat:epsScanData (base class xnat:imageScanData)\n",
      "[2020-02-18 15:52:25,972] INFO: convert_xsd:1010 >> Processing xnat:xaSessionData (base class xnat:imageSessionData)\n",
      "[2020-02-18 15:52:25,972] INFO: convert_xsd:1010 >> Processing xnat:xaScanData (base class xnat:imageScanData)\n",
      "[2020-02-18 15:52:25,972] INFO: convert_xsd:1010 >> Processing xnatpy:xaScanDataParameters (base class None)\n",
      "[2020-02-18 15:52:25,973] INFO: convert_xsd:1010 >> Processing xnatpy:xaScanDataParametersPixelres (base class None)\n",
      "[2020-02-18 15:52:25,973] INFO: convert_xsd:1010 >> Processing xnatpy:xaScanDataParametersFov (base class None)\n",
      "[2020-02-18 15:52:25,974] INFO: convert_xsd:1010 >> Processing xnat:rfSessionData (base class xnat:imageSessionData)\n",
      "[2020-02-18 15:52:25,974] INFO: convert_xsd:1010 >> Processing xnat:rfScanData (base class xnat:imageScanData)\n",
      "[2020-02-18 15:52:25,975] INFO: convert_xsd:1010 >> Processing xnat:xa3DSessionData (base class xnat:imageSessionData)\n",
      "[2020-02-18 15:52:25,976] INFO: convert_xsd:1010 >> Processing xnat:xa3DScanData (base class xnat:imageScanData)\n",
      "[2020-02-18 15:52:25,976] INFO: convert_xsd:1010 >> Processing xnat:dx3DCraniofacialSessionData (base class xnat:imageSessionData)\n",
      "[2020-02-18 15:52:25,977] INFO: convert_xsd:1010 >> Processing xnat:dx3DCraniofacialScanData (base class xnat:imageScanData)\n",
      "[2020-02-18 15:52:25,977] INFO: convert_xsd:1010 >> Processing xnat:nmSessionData (base class xnat:imageSessionData)\n",
      "[2020-02-18 15:52:25,978] INFO: convert_xsd:1010 >> Processing xnat:nmScanData (base class xnat:imageScanData)\n",
      "[2020-02-18 15:52:25,978] INFO: convert_xsd:1010 >> Processing xnat:srSessionData (base class xnat:imageSessionData)\n",
      "[2020-02-18 15:52:25,979] INFO: convert_xsd:1010 >> Processing xnat:srScanData (base class xnat:imageScanData)\n",
      "[2020-02-18 15:52:25,979] INFO: convert_xsd:1010 >> Processing xnat:esSessionData (base class xnat:imageSessionData)\n",
      "[2020-02-18 15:52:25,980] INFO: convert_xsd:1010 >> Processing xnat:esScanData (base class xnat:imageScanData)\n",
      "[2020-02-18 15:52:25,980] INFO: convert_xsd:1010 >> Processing xnat:esvSessionData (base class xnat:imageSessionData)\n",
      "[2020-02-18 15:52:25,981] INFO: convert_xsd:1010 >> Processing xnat:esvScanData (base class xnat:imageScanData)\n",
      "[2020-02-18 15:52:25,981] INFO: convert_xsd:1010 >> Processing xnat:gmSessionData (base class xnat:imageSessionData)\n",
      "[2020-02-18 15:52:25,982] INFO: convert_xsd:1010 >> Processing xnat:gmScanData (base class xnat:imageScanData)\n",
      "[2020-02-18 15:52:25,982] INFO: convert_xsd:1010 >> Processing xnat:gmvSessionData (base class xnat:imageSessionData)\n",
      "[2020-02-18 15:52:25,982] INFO: convert_xsd:1010 >> Processing xnat:gmvScanData (base class xnat:imageScanData)\n",
      "[2020-02-18 15:52:25,983] INFO: convert_xsd:1010 >> Processing xnat:smSessionData (base class xnat:imageSessionData)\n",
      "[2020-02-18 15:52:25,983] INFO: convert_xsd:1010 >> Processing xnat:smScanData (base class xnat:imageScanData)\n",
      "[2020-02-18 15:52:25,983] INFO: convert_xsd:1010 >> Processing xnat:xcSessionData (base class xnat:imageSessionData)\n",
      "[2020-02-18 15:52:25,983] INFO: convert_xsd:1010 >> Processing xnat:xcScanData (base class xnat:imageScanData)\n",
      "[2020-02-18 15:52:25,984] INFO: convert_xsd:1010 >> Processing xnat:xcvSessionData (base class xnat:imageSessionData)\n",
      "[2020-02-18 15:52:25,984] INFO: convert_xsd:1010 >> Processing xnat:xcvScanData (base class xnat:imageScanData)\n",
      "[2020-02-18 15:52:25,985] INFO: convert_xsd:1010 >> Processing xnat:opSessionData (base class xnat:imageSessionData)\n",
      "[2020-02-18 15:52:25,985] INFO: convert_xsd:1010 >> Processing xnat:opScanData (base class xnat:imageScanData)\n",
      "[2020-02-18 15:52:25,986] INFO: convert_xsd:1010 >> Processing xnat:optSessionData (base class xnat:imageSessionData)\n",
      "[2020-02-18 15:52:25,986] INFO: convert_xsd:1010 >> Processing xnat:optScanData (base class xnat:imageScanData)\n",
      "[2020-02-18 15:52:25,987] INFO: convert_xsd:1010 >> Processing xnatpy:optScanDataParameters (base class None)\n",
      "[2020-02-18 15:52:25,987] INFO: convert_xsd:1010 >> Processing xnatpy:optScanDataParametersVoxelres (base class None)\n",
      "[2020-02-18 15:52:25,988] INFO: convert_xsd:1010 >> Processing xnatpy:optScanDataParametersFov (base class None)\n",
      "[2020-02-18 15:52:25,988] INFO: convert_xsd:1010 >> Processing xnatpy:optScanDataDcmvalidation (base class xnatpy:dcmValidationString)\n",
      "[2020-02-18 15:52:25,989] INFO: convert_xsd:1010 >> Processing xnat:rtSessionData (base class xnat:imageSessionData)\n",
      "[2020-02-18 15:52:25,989] INFO: convert_xsd:1010 >> Processing xnat:rtImageScanData (base class xnat:imageScanData)\n",
      "[2020-02-18 15:52:25,990] INFO: convert_xsd:1010 >> Processing xnat:otherDicomSessionData (base class xnat:imageSessionData)\n",
      "[2020-02-18 15:52:25,991] INFO: convert_xsd:1010 >> Processing xnat:scScanData (base class xnat:imageScanData)\n",
      "[2020-02-18 15:52:25,992] INFO: convert_xsd:1010 >> Processing xnat:segScanData (base class xnat:imageScanData)\n",
      "[2020-02-18 15:52:25,992] INFO: convert_xsd:1010 >> Processing xnat:mrsScanData (base class xnat:imageScanData)\n",
      "[2020-02-18 15:52:25,993] INFO: convert_xsd:1010 >> Processing xnat:voiceAudioScanData (base class xnat:imageScanData)\n",
      "[2020-02-18 15:52:25,993] INFO: convert_xsd:1010 >> Processing xnat:otherDicomScanData (base class xnat:imageScanData)\n",
      "[2020-02-18 15:52:25,994] INFO: convert_xsd:1010 >> Processing xnat:qcScanData (base class None)\n",
      "[2020-02-18 15:52:25,995] DEBUG: convert_xsd:997 >> Wait with processing xnatpy:qcScanDataRating because base xnatpy:ratingString is not yet processed\n",
      "[2020-02-18 15:52:25,995] INFO: convert_xsd:1010 >> Processing xnatpy:ratingString (base class None)\n",
      "[2020-02-18 15:52:25,996] INFO: convert_xsd:1010 >> Processing xnatpy:qcScanDataFields (base class xnatpy:fieldString)\n",
      "[2020-02-18 15:52:25,996] INFO: convert_xsd:1010 >> Processing xnat:mrQcScanData (base class xnat:qcScanData)\n",
      "[2020-02-18 15:52:25,997] INFO: convert_xsd:1010 >> Processing xnat:petQcScanData (base class xnat:qcScanData)\n",
      "[2020-02-18 15:52:25,998] INFO: convert_xsd:1010 >> Processing xnat:otherQcScanData (base class xnat:qcScanData)\n",
      "[2020-02-18 15:52:25,999] INFO: convert_xsd:1010 >> Processing xnat:qcManualAssessorData (base class xnat:imageAssessorData)\n",
      "[2020-02-18 15:52:26,000] INFO: convert_xsd:1010 >> Processing xnat:megSessionData (base class xnat:imageSessionData)\n",
      "[2020-02-18 15:52:26,000] INFO: convert_xsd:1010 >> Processing xnat:megScanData (base class xnat:imageScanData)\n",
      "[2020-02-18 15:52:26,001] INFO: convert_xsd:1010 >> Processing xnat:eegSessionData (base class xnat:imageSessionData)\n",
      "[2020-02-18 15:52:26,001] DEBUG: convert_xsd:997 >> Wait with processing xnatpy:eegSessionDataSamplingrate because base xnatpy:samplingRateFloat is not yet processed\n",
      "[2020-02-18 15:52:26,001] INFO: convert_xsd:1010 >> Processing xnatpy:samplingRateFloat (base class None)\n",
      "[2020-02-18 15:52:26,002] DEBUG: convert_xsd:997 >> Wait with processing xnatpy:eegSessionDataSamplinginterval because base xnatpy:samplingIntervalFloat is not yet processed\n",
      "[2020-02-18 15:52:26,002] INFO: convert_xsd:1010 >> Processing xnatpy:samplingIntervalFloat (base class None)\n",
      "[2020-02-18 15:52:26,002] INFO: convert_xsd:1010 >> Processing xnat:eegScanData (base class xnat:imageScanData)\n",
      "[2020-02-18 15:52:26,003] INFO: convert_xsd:1010 >> Processing xnatpy:eegScanDataParameters (base class None)\n"
     ]
    },
    {
     "name": "stderr",
     "output_type": "stream",
     "text": [
      "[2020-02-18 15:52:26,003] INFO: convert_xsd:1010 >> Processing xnatpy:eegScanDataParametersDatarecord (base class None)\n",
      "[2020-02-18 15:52:26,004] INFO: convert_xsd:1010 >> Processing xnatpy:eegScanDataChannels (base class None)\n",
      "[2020-02-18 15:52:26,004] INFO: convert_xsd:1010 >> Processing xnatpy:eegScanDataSoftwarefiltersimpedances (base class None)\n",
      "[2020-02-18 15:52:26,005] INFO: convert_xsd:1010 >> Processing xnatpy:eegScanDataSoftwarefiltersimpedancesImpedance (base class None)\n",
      "[2020-02-18 15:52:26,005] INFO: convert_xsd:1010 >> Processing xnat_a:sideEffectsPittsburghData (base class xnat:subjectAssessorData)\n",
      "[2020-02-18 15:52:26,007] INFO: convert_xsd:1010 >> Processing xnat_a:ybocsData (base class xnat:subjectAssessorData)\n",
      "[2020-02-18 15:52:26,009] INFO: convert_xsd:1010 >> Processing xnat_a:ygtssData (base class xnat:subjectAssessorData)\n",
      "[2020-02-18 15:52:26,010] INFO: convert_xsd:1010 >> Processing xnatpy:ygtssDataMotor (base class None)\n",
      "[2020-02-18 15:52:26,011] INFO: convert_xsd:1010 >> Processing xnatpy:ygtssDataPhonic (base class None)\n",
      "[2020-02-18 15:52:26,012] INFO: convert_xsd:1010 >> Processing xnat_a:updrs3Data (base class xnat:subjectAssessorData)\n",
      "[2020-02-18 15:52:26,014] INFO: convert_xsd:1010 >> Processing xnatpy:updrs3DataClicker (base class None)\n",
      "[2020-02-18 15:52:26,015] INFO: convert_xsd:1010 >> Processing xnatpy:updrs3DataTremorrest (base class None)\n",
      "[2020-02-18 15:52:26,016] INFO: convert_xsd:1010 >> Processing xnatpy:updrs3DataRigidity (base class None)\n",
      "[2020-02-18 15:52:26,016] INFO: convert_xsd:1010 >> Processing xnatpy:updrs3DataHandmovementsgrip (base class None)\n",
      "[2020-02-18 15:52:26,017] INFO: convert_xsd:1010 >> Processing xnatpy:updrs3DataActionposturaltremor (base class None)\n",
      "[2020-02-18 15:52:26,018] INFO: convert_xsd:1010 >> Processing xnatpy:updrs3DataHandsram (base class None)\n",
      "[2020-02-18 15:52:26,018] INFO: convert_xsd:1010 >> Processing xnatpy:updrs3DataFingertaps (base class None)\n",
      "[2020-02-18 15:52:26,019] INFO: convert_xsd:1010 >> Processing xnatpy:updrs3DataFoottaps (base class None)\n",
      "[2020-02-18 15:52:26,019] INFO: convert_xsd:1010 >> Processing xnat_a:scidResearchData (base class xnat:subjectAssessorData)\n",
      "[2020-02-18 15:52:26,019] INFO: convert_xsd:1010 >> Processing xnatpy:scidResearchDataMoodepisodes (base class None)\n",
      "[2020-02-18 15:52:26,020] INFO: convert_xsd:1010 >> Processing xnatpy:scidResearchDataPsychoticsymptoms (base class None)\n",
      "[2020-02-18 15:52:26,021] INFO: convert_xsd:1010 >> Processing xnatpy:scidResearchDataPsychoticdisorders (base class None)\n",
      "[2020-02-18 15:52:26,023] INFO: convert_xsd:1010 >> Processing xnatpy:scidResearchDataMooddisorders (base class None)\n",
      "[2020-02-18 15:52:26,024] INFO: convert_xsd:1010 >> Processing xnatpy:scidResearchDataSubstanceusedisorders (base class None)\n",
      "[2020-02-18 15:52:26,026] INFO: convert_xsd:1010 >> Processing xnatpy:scidResearchDataAnxietydisorders (base class None)\n",
      "[2020-02-18 15:52:26,027] INFO: convert_xsd:1010 >> Processing xnatpy:scidResearchDataSomatoformdisorders (base class None)\n",
      "[2020-02-18 15:52:26,028] INFO: convert_xsd:1010 >> Processing xnatpy:scidResearchDataEatingdisorders (base class None)\n",
      "[2020-02-18 15:52:26,028] INFO: convert_xsd:1010 >> Processing xnatpy:scidResearchDataOptional (base class None)\n",
      "[2020-02-18 15:52:26,029] INFO: convert_xsd:1010 >> Processing scr:screeningAssessment (base class xnat:imageAssessorData)\n",
      "[2020-02-18 15:52:26,030] INFO: convert_xsd:1010 >> Processing scr:screeningScanData (base class None)\n",
      "[2020-02-18 15:52:26,030] INFO: convert_xsd:1010 >> Processing build:imageSessionData (base class None)\n",
      "[2020-02-18 15:52:26,045] DEBUG: convert_xsd:997 >> Wait with processing xnatpy:imageSessionDataPipeline because base build:pipelineData is not yet processed\n",
      "[2020-02-18 15:52:26,045] INFO: convert_xsd:1010 >> Processing build:pipelineParameterData (base class None)\n",
      "[2020-02-18 15:52:26,046] INFO: convert_xsd:1010 >> Processing xnatpy:pipelineParameterDataParameter (base class None)\n",
      "[2020-02-18 15:52:26,046] INFO: convert_xsd:1010 >> Processing build:pipelineData (base class None)\n",
      "[2020-02-18 15:52:26,047] INFO: convert_xsd:1010 >> Processing build:buildData (base class None)\n",
      "[2020-02-18 15:52:26,047] INFO: convert_xsd:1010 >> Processing pipe:pipelineDetails (base class None)\n",
      "[2020-02-18 15:52:26,048] INFO: convert_xsd:1010 >> Processing xnatpy:pipelineDetailsParameters (base class None)\n",
      "[2020-02-18 15:52:26,048] INFO: convert_xsd:1010 >> Processing xnatpy:pipelineDetailsParametersParameterValues (base class None)\n",
      "[2020-02-18 15:52:26,049] INFO: convert_xsd:1010 >> Processing wrk:workflowData (base class None)\n",
      "[2020-02-18 15:52:26,050] INFO: convert_xsd:1010 >> Processing wrk:abstractExecutionEnvironment (base class None)\n",
      "[2020-02-18 15:52:26,050] INFO: convert_xsd:1010 >> Processing wrk:xnatExecutionEnvironment (base class wrk:abstractExecutionEnvironment)\n",
      "[2020-02-18 15:52:26,051] DEBUG: convert_xsd:997 >> Wait with processing xnatpy:xnatExecutionEnvironmentParameters because base xnatpy:parameterString is not yet processed\n",
      "[2020-02-18 15:52:26,052] INFO: convert_xsd:1010 >> Processing xnatpy:parameterString (base class None)\n",
      "[2020-02-18 15:52:26,052] INFO: convert_xsd:1010 >> Processing xnatpy:xnatExecutionEnvironmentParameterfile (base class None)\n",
      "[2020-02-18 15:52:26,052] INFO: convert_xsd:1010 >> Processing prov:process (base class None)\n",
      "[2020-02-18 15:52:26,053] INFO: convert_xsd:1010 >> Processing prov:processStep (base class None)\n",
      "[2020-02-18 15:52:26,053] DEBUG: convert_xsd:997 >> Wait with processing xnatpy:processStepProgram because base xnatpy:programString is not yet processed\n",
      "[2020-02-18 15:52:26,054] INFO: convert_xsd:1010 >> Processing xnatpy:programString (base class None)\n",
      "[2020-02-18 15:52:26,054] DEBUG: convert_xsd:997 >> Wait with processing xnatpy:processStepPlatform because base xnatpy:platformString is not yet processed\n",
      "[2020-02-18 15:52:26,055] INFO: convert_xsd:1010 >> Processing xnatpy:platformString (base class None)\n",
      "[2020-02-18 15:52:26,055] DEBUG: convert_xsd:997 >> Wait with processing xnatpy:processStepCompiler because base xnatpy:compilerString is not yet processed\n",
      "[2020-02-18 15:52:26,055] INFO: convert_xsd:1010 >> Processing xnatpy:compilerString (base class None)\n",
      "[2020-02-18 15:52:26,056] DEBUG: convert_xsd:997 >> Wait with processing xnatpy:processStepLibrary because base xnatpy:libraryString is not yet processed\n",
      "[2020-02-18 15:52:26,056] INFO: convert_xsd:1010 >> Processing xnatpy:libraryString (base class None)\n",
      "[2020-02-18 15:52:26,056] INFO: convert_xsd:1010 >> Processing cat:catalog (base class None)\n",
      "[2020-02-18 15:52:26,056] DEBUG: convert_xsd:997 >> Wait with processing xnatpy:catalogMetafields because base xnatpy:metaFieldString is not yet processed\n",
      "[2020-02-18 15:52:26,057] INFO: convert_xsd:1010 >> Processing xnatpy:metaFieldString (base class None)\n",
      "[2020-02-18 15:52:26,057] INFO: convert_xsd:1010 >> Processing cat:entry (base class None)\n",
      "[2020-02-18 15:52:26,058] INFO: convert_xsd:1010 >> Processing xnatpy:entryMetafields (base class xnatpy:metaFieldString)\n",
      "[2020-02-18 15:52:26,058] INFO: convert_xsd:1010 >> Processing cat:dcmEntry (base class cat:entry)\n",
      "[2020-02-18 15:52:26,059] INFO: convert_xsd:1010 >> Processing cat:dcmCatalog (base class cat:catalog)\n",
      "[2020-02-18 15:52:26,059] INFO: convert_xsd:1010 >> Processing xnatpy:dcmCatalogDimensions (base class None)\n",
      "[2020-02-18 15:52:26,060] INFO: convert_xsd:1010 >> Processing xnatpy:dcmCatalogVoxelres (base class None)\n",
      "[2020-02-18 15:52:26,060] INFO: convert_xsd:1010 >> Processing arc:project (base class None)\n",
      "[2020-02-18 15:52:26,061] INFO: convert_xsd:1010 >> Processing xnatpy:projectPipelines (base class None)\n",
      "[2020-02-18 15:52:26,061] INFO: convert_xsd:1010 >> Processing xnatpy:projectPipelinesDescendants (base class None)\n",
      "[2020-02-18 15:52:26,062] DEBUG: convert_xsd:997 >> Wait with processing xnatpy:projectPipelinesDescendantsDescendantPipeline because base arc:pipelineData is not yet processed\n",
      "[2020-02-18 15:52:26,062] DEBUG: convert_xsd:997 >> Wait with processing xnatpy:projectPipelinesPipeline because base arc:pipelineData is not yet processed\n",
      "[2020-02-18 15:52:26,062] INFO: convert_xsd:1010 >> Processing arc:pipelineData (base class None)\n"
     ]
    },
    {
     "name": "stderr",
     "output_type": "stream",
     "text": [
      "[2020-02-18 15:52:26,063] INFO: convert_xsd:1010 >> Processing arc:pipelineParameterData (base class None)\n",
      "[2020-02-18 15:52:26,064] DEBUG: convert_xsd:997 >> Wait with processing xnatpy:pipelineParameterDataCsvvalues because base xnatpy:csvValuesString is not yet processed\n",
      "[2020-02-18 15:52:26,064] INFO: convert_xsd:1010 >> Processing xnatpy:csvValuesString (base class None)\n",
      "[2020-02-18 15:52:26,064] INFO: convert_xsd:1010 >> Processing arc:pathInfo (base class None)\n",
      "[2020-02-18 15:52:26,065] DEBUG: convert_xsd:997 >> Wait with processing arc:property because base xnatpy:propertyString is not yet processed\n",
      "[2020-02-18 15:52:26,065] INFO: convert_xsd:1010 >> Processing xnatpy:propertyString (base class None)\n",
      "[2020-02-18 15:52:26,066] DEBUG: convert_xsd:997 >> Wait with processing arc:fieldSpecification because base xnatpy:fieldSpecificationString is not yet processed\n",
      "[2020-02-18 15:52:26,066] INFO: convert_xsd:1010 >> Processing xnatpy:fieldSpecificationString (base class None)\n",
      "[2020-02-18 15:52:26,067] INFO: convert_xsd:1010 >> Processing val:protocolData (base class xnat:imageAssessorData)\n",
      "[2020-02-18 15:52:26,067] INFO: convert_xsd:1010 >> Processing xnatpy:protocolDataCheck (base class None)\n",
      "[2020-02-18 15:52:26,068] INFO: convert_xsd:1010 >> Processing xnatpy:protocolDataCheckConditions (base class None)\n",
      "[2020-02-18 15:52:26,068] DEBUG: convert_xsd:997 >> Wait with processing xnatpy:protocolDataCheckComments because base xnatpy:commentString is not yet processed\n",
      "[2020-02-18 15:52:26,069] INFO: convert_xsd:1010 >> Processing xnatpy:commentString (base class None)\n",
      "[2020-02-18 15:52:26,069] INFO: convert_xsd:1010 >> Processing xnatpy:protocolDataScans (base class None)\n",
      "[2020-02-18 15:52:26,069] INFO: convert_xsd:1010 >> Processing xnatpy:protocolDataScansScan_checkConditions (base class None)\n",
      "[2020-02-18 15:52:26,070] INFO: convert_xsd:1010 >> Processing xnatpy:protocolDataScansScan_checkComments (base class xnatpy:commentString)\n",
      "[2020-02-18 15:52:26,070] INFO: convert_xsd:1010 >> Processing val:additionalVal (base class None)\n",
      "[2020-02-18 15:52:26,071] INFO: convert_xsd:1010 >> Processing display:HTML-Cell (base class None)\n",
      "[2020-02-18 15:52:26,071] INFO: convert_xsd:1010 >> Processing display:FieldType (base class None)\n",
      "[2020-02-18 15:52:26,072] DEBUG: convert_xsd:997 >> Wait with processing xnatpy:FieldTypeContent because base xnatpy:ContentString is not yet processed\n",
      "[2020-02-18 15:52:26,072] INFO: convert_xsd:1010 >> Processing xnatpy:ContentString (base class None)\n",
      "[2020-02-18 15:52:26,072] INFO: convert_xsd:1010 >> Processing xnatpy:FieldTypeHtml-link (base class None)\n",
      "[2020-02-18 15:52:26,073] INFO: convert_xsd:1010 >> Processing xnatpy:FieldTypeHtml-linkSecurelink (base class None)\n",
      "[2020-02-18 15:52:26,073] INFO: convert_xsd:1010 >> Processing xnatpy:FieldTypeHtml-linkSecurelinkSecuritymappingvalue (base class None)\n",
      "[2020-02-18 15:52:26,074] INFO: convert_xsd:1010 >> Processing xnatpy:FieldTypeHtml-linkProperty (base class None)\n",
      "[2020-02-18 15:52:26,074] INFO: convert_xsd:1010 >> Processing xnatpy:FieldTypeHtml-linkPropertyInsertvalue (base class None)\n",
      "[2020-02-18 15:52:26,075] INFO: convert_xsd:1010 >> Processing xnatpy:FieldTypeHtml-image (base class None)\n",
      "[2020-02-18 15:52:26,076] INFO: convert_xsd:1010 >> Processing display:SubQueryField (base class display:FieldType)\n",
      "[2020-02-18 15:52:26,076] INFO: convert_xsd:1010 >> Processing xnatpy:SubQueryFieldMappingcolumns (base class None)\n",
      "[2020-02-18 15:52:26,077] INFO: convert_xsd:1010 >> Processing xdat:LONGVARCHAR (base class None)\n",
      "[2020-02-18 15:52:26,077] INFO: convert_xsd:1010 >> Processing LayoutDescription (base class None)\n",
      "[2020-02-18 15:52:26,077] INFO: convert_xsd:1010 >> Processing xnatpy:LayoutDescriptionCoordinates (base class None)\n",
      "[2020-02-18 15:52:26,078] INFO: convert_xsd:1010 >> Processing SchemaLinkType (base class None)\n",
      "[2020-02-18 15:52:26,079] INFO: convert_xsd:1010 >> Processing PlexiViewerType (base class None)\n",
      "[2020-02-18 15:52:26,079] INFO: convert_xsd:1010 >> Processing xnatpy:PlexiViewerTypeViewableitem (base class None)\n",
      "[2020-02-18 15:52:26,080] INFO: convert_xsd:1010 >> Processing xnatpy:PlexiViewerTypeViewableitemSchemalink (base class SchemaLinkType)\n",
      "[2020-02-18 15:52:26,081] INFO: convert_xsd:1010 >> Processing xnatpy:PlexiViewerTypeViewableitemUserinterface (base class None)\n",
      "[2020-02-18 15:52:26,081] INFO: convert_xsd:1010 >> Processing xnatpy:PlexiViewerTypeViewableitemUserinterfaceLinkeddropdown (base class None)\n",
      "[2020-02-18 15:52:26,082] INFO: convert_xsd:1010 >> Processing xnatpy:PlexiViewerTypeViewableitemThumbnail (base class None)\n",
      "[2020-02-18 15:52:26,082] INFO: convert_xsd:1010 >> Processing xnatpy:PlexiViewerTypeViewableitemThumbnailSlice (base class None)\n",
      "[2020-02-18 15:52:26,083] INFO: convert_xsd:1010 >> Processing xnatpy:PlexiViewerTypeViewableitemLo-res (base class None)\n",
      "[2020-02-18 15:52:26,083] INFO: convert_xsd:1010 >> Processing xnatpy:PlexiViewerTypeViewableitemLo-resParameter (base class None)\n",
      "[2020-02-18 15:52:26,084] INFO: convert_xsd:1010 >> Processing xnatpy:PlexiViewerTypeViewableitemHi-res (base class None)\n",
      "[2020-02-18 15:52:26,084] INFO: convert_xsd:1010 >> Processing xnatpy:PlexiViewerTypeViewableitemHi-resLayer (base class SchemaLinkType)\n",
      "[2020-02-18 15:52:26,085] INFO: convert_xsd:1010 >> Processing xnatpy:PlexiViewerTypeViewableitemHi-resLayoutref (base class None)\n",
      "[2020-02-18 15:52:26,085] INFO: convert_xsd:1010 >> Processing icr:roiCollectionData (base class xnat:imageAssessorData)\n",
      "[2020-02-18 15:52:26,086] INFO: convert_xsd:1010 >> Processing xdat:primary_security_field (base class xnatpy:primary_security_fieldString)\n",
      "[2020-02-18 15:52:26,087] INFO: convert_xsd:1010 >> Processing xnatpy:userPrimary_password (base class xnatpy:primary_passwordString)\n",
      "[2020-02-18 15:52:26,087] INFO: convert_xsd:1010 >> Processing xnatpy:projectDataAliases (base class xnatpy:aliasString)\n",
      "[2020-02-18 15:52:26,088] INFO: convert_xsd:1010 >> Processing xnatpy:projectDataFields (base class xnatpy:fieldString)\n",
      "[2020-02-18 15:52:26,088] INFO: convert_xsd:1010 >> Processing xnatpy:subjectDataAddid (base class xnatpy:addIDString)\n",
      "[2020-02-18 15:52:26,089] INFO: convert_xsd:1010 >> Processing xnatpy:experimentDataSharing (base class xnatpy:shareString)\n",
      "[2020-02-18 15:52:26,089] INFO: convert_xsd:1010 >> Processing xnatpy:experimentDataDelay (base class xnatpy:delayInteger)\n",
      "[2020-02-18 15:52:26,089] INFO: convert_xsd:1010 >> Processing xnatpy:demographicDataWeight (base class xnatpy:weightFloat)\n",
      "[2020-02-18 15:52:26,090] INFO: convert_xsd:1010 >> Processing xnatpy:demographicDataHeight (base class xnatpy:heightFloat)\n",
      "[2020-02-18 15:52:26,090] INFO: convert_xsd:1010 >> Processing xnatpy:subjectVariablesDataVariables (base class xnatpy:variableString)\n",
      "[2020-02-18 15:52:26,091] INFO: convert_xsd:1010 >> Processing xnatpy:imageSessionDataScanner (base class xnatpy:scannerString)\n",
      "[2020-02-18 15:52:26,091] INFO: convert_xsd:1010 >> Processing xnat:mrAssessorData (base class xnat:imageAssessorData)\n",
      "[2020-02-18 15:52:26,092] INFO: convert_xsd:1010 >> Processing xnat:mrScanData (base class xnat:imageScanData)\n",
      "[2020-02-18 15:52:26,092] INFO: convert_xsd:1010 >> Processing xnatpy:mrScanDataParameters (base class None)\n",
      "[2020-02-18 15:52:26,094] INFO: convert_xsd:1010 >> Processing xnatpy:mrScanDataParametersVoxelres (base class None)\n",
      "[2020-02-18 15:52:26,094] INFO: convert_xsd:1010 >> Processing xnatpy:mrScanDataParametersFov (base class None)\n",
      "[2020-02-18 15:52:26,095] INFO: convert_xsd:1010 >> Processing xnatpy:mrScanDataParametersMatrix (base class None)\n",
      "[2020-02-18 15:52:26,095] INFO: convert_xsd:1010 >> Processing xnatpy:mrScanDataParametersDiffusion (base class None)\n",
      "[2020-02-18 15:52:26,096] INFO: convert_xsd:1010 >> Processing xnatpy:mrScanDataParametersInplanephaseencoding (base class None)\n",
      "[2020-02-18 15:52:26,096] INFO: convert_xsd:1010 >> Processing xnatpy:mrScanDataDcmvalidation (base class xnatpy:dcmValidationString)\n",
      "[2020-02-18 15:52:26,097] INFO: convert_xsd:1010 >> Processing xnat:addField (base class xdat:LONGVARCHAR)\n",
      "[2020-02-18 15:52:26,097] INFO: convert_xsd:1010 >> Processing xnatpy:abstractResourceTags (base class xnatpy:tagString)\n"
     ]
    },
    {
     "name": "stderr",
     "output_type": "stream",
     "text": [
      "[2020-02-18 15:52:26,098] INFO: convert_xsd:1010 >> Processing xnat:petAssessorData (base class xnat:imageAssessorData)\n",
      "[2020-02-18 15:52:26,100] INFO: convert_xsd:1010 >> Processing xnatpy:petSessionDataTracerDose (base class xnatpy:doseFloat)\n",
      "[2020-02-18 15:52:26,101] INFO: convert_xsd:1010 >> Processing xnatpy:petSessionDataTracerTotalmass (base class xnatpy:totalMassFloat)\n",
      "[2020-02-18 15:52:26,102] INFO: convert_xsd:1010 >> Processing xnatpy:petSessionDataTracerIntermediate (base class xnatpy:intermediateFloat)\n",
      "[2020-02-18 15:52:26,104] INFO: convert_xsd:1010 >> Processing xnatpy:petSessionDataTracerIsotope (base class xnatpy:isotopeString)\n",
      "[2020-02-18 15:52:26,105] INFO: convert_xsd:1010 >> Processing xnat:petScanData (base class xnat:imageScanData)\n",
      "[2020-02-18 15:52:26,107] INFO: convert_xsd:1010 >> Processing xnatpy:petScanDataParameters (base class None)\n",
      "[2020-02-18 15:52:26,111] INFO: convert_xsd:1010 >> Processing xnatpy:petScanDataParametersFrames (base class None)\n",
      "[2020-02-18 15:52:26,112] INFO: convert_xsd:1010 >> Processing xnatpy:petScanDataParametersFramesFrame (base class None)\n",
      "[2020-02-18 15:52:26,113] INFO: convert_xsd:1010 >> Processing xnatpy:petScanDataParametersDimensions (base class None)\n",
      "[2020-02-18 15:52:26,113] INFO: convert_xsd:1010 >> Processing xnatpy:petScanDataParametersOffset (base class None)\n",
      "[2020-02-18 15:52:26,114] INFO: convert_xsd:1010 >> Processing xnatpy:petScanDataParametersPixelsize (base class None)\n",
      "[2020-02-18 15:52:26,114] INFO: convert_xsd:1010 >> Processing xnatpy:petScanDataParametersResolution (base class None)\n",
      "[2020-02-18 15:52:26,115] INFO: convert_xsd:1010 >> Processing xnatpy:petScanDataParametersFilter (base class None)\n",
      "[2020-02-18 15:52:26,115] INFO: convert_xsd:1010 >> Processing xnatpy:petScanDataParametersRfilter (base class None)\n",
      "[2020-02-18 15:52:26,116] INFO: convert_xsd:1010 >> Processing xnatpy:petScanDataParametersZfilter (base class None)\n",
      "[2020-02-18 15:52:26,118] INFO: convert_xsd:1010 >> Processing xnatpy:petScanDataEcatvalidation (base class xnatpy:ecatValidationString)\n",
      "[2020-02-18 15:52:26,119] INFO: convert_xsd:1010 >> Processing xnatpy:regionResourceSubregionlabels (base class xnatpy:labelString)\n",
      "[2020-02-18 15:52:26,120] INFO: convert_xsd:1010 >> Processing xnat:statisticsData (base class xnat:abstractStatistics)\n",
      "[2020-02-18 15:52:26,121] INFO: convert_xsd:1010 >> Processing xnatpy:statisticsDataAdditionalstatistics (base class xnatpy:additionalStatisticsDouble)\n",
      "[2020-02-18 15:52:26,122] INFO: convert_xsd:1010 >> Processing xnatpy:statisticsDataAddfield (base class xnatpy:addFieldString)\n",
      "[2020-02-18 15:52:26,123] INFO: convert_xsd:1010 >> Processing xnat:qcAssessmentData (base class xnat:mrAssessorData)\n",
      "[2020-02-18 15:52:26,125] INFO: convert_xsd:1010 >> Processing xnatpy:qcAssessmentDataScans (base class None)\n",
      "[2020-02-18 15:52:26,126] INFO: convert_xsd:1010 >> Processing xnatpy:qcAssessmentDataScansScanSliceqc (base class None)\n",
      "[2020-02-18 15:52:26,128] INFO: convert_xsd:1010 >> Processing xnatpy:fieldDefinitionGroupFieldsFieldPossiblevalues (base class xnatpy:possibleValueString)\n",
      "[2020-02-18 15:52:26,129] INFO: convert_xsd:1010 >> Processing xnatpy:ctScanDataParametersEstimateddosesaving (base class xnatpy:estimatedDoseSavingFloat)\n",
      "[2020-02-18 15:52:26,129] INFO: convert_xsd:1010 >> Processing xnatpy:ctScanDataParametersDerivation (base class xnatpy:derivationString)\n",
      "[2020-02-18 15:52:26,130] INFO: convert_xsd:1010 >> Processing xnatpy:qcScanDataRating (base class xnatpy:ratingString)\n",
      "[2020-02-18 15:52:26,131] INFO: convert_xsd:1010 >> Processing xnatpy:eegSessionDataSamplingrate (base class xnatpy:samplingRateFloat)\n",
      "[2020-02-18 15:52:26,133] INFO: convert_xsd:1010 >> Processing xnatpy:eegSessionDataSamplinginterval (base class xnatpy:samplingIntervalFloat)\n",
      "[2020-02-18 15:52:26,134] INFO: convert_xsd:1010 >> Processing xnatpy:imageSessionDataPipeline (base class build:pipelineData)\n",
      "[2020-02-18 15:52:26,136] INFO: convert_xsd:1010 >> Processing xnatpy:xnatExecutionEnvironmentParameters (base class xnatpy:parameterString)\n",
      "[2020-02-18 15:52:26,137] INFO: convert_xsd:1010 >> Processing xnatpy:processStepProgram (base class xnatpy:programString)\n",
      "[2020-02-18 15:52:26,138] INFO: convert_xsd:1010 >> Processing xnatpy:processStepPlatform (base class xnatpy:platformString)\n",
      "[2020-02-18 15:52:26,139] INFO: convert_xsd:1010 >> Processing xnatpy:processStepCompiler (base class xnatpy:compilerString)\n",
      "[2020-02-18 15:52:26,139] INFO: convert_xsd:1010 >> Processing xnatpy:processStepLibrary (base class xnatpy:libraryString)\n",
      "[2020-02-18 15:52:26,141] INFO: convert_xsd:1010 >> Processing xnatpy:catalogMetafields (base class xnatpy:metaFieldString)\n",
      "[2020-02-18 15:52:26,142] INFO: convert_xsd:1010 >> Processing xnatpy:projectPipelinesDescendantsDescendantPipeline (base class arc:pipelineData)\n",
      "[2020-02-18 15:52:26,143] INFO: convert_xsd:1010 >> Processing xnatpy:projectPipelinesPipeline (base class arc:pipelineData)\n",
      "[2020-02-18 15:52:26,144] INFO: convert_xsd:1010 >> Processing xnatpy:pipelineParameterDataCsvvalues (base class xnatpy:csvValuesString)\n",
      "[2020-02-18 15:52:26,145] INFO: convert_xsd:1010 >> Processing arc:property (base class xnatpy:propertyString)\n",
      "[2020-02-18 15:52:26,146] INFO: convert_xsd:1010 >> Processing arc:fieldSpecification (base class xnatpy:fieldSpecificationString)\n",
      "[2020-02-18 15:52:26,148] INFO: convert_xsd:1010 >> Processing xnatpy:protocolDataCheckComments (base class xnatpy:commentString)\n",
      "[2020-02-18 15:52:26,149] INFO: convert_xsd:1010 >> Processing xnatpy:FieldTypeContent (base class xnatpy:ContentString)\n",
      "[2020-02-18 15:52:26,149] DEBUG: convert_xsd:1019 >> Visited: 362, expected: 362\n",
      "[2020-02-18 15:52:26,150] DEBUG: convert_xsd:1020 >> Visited: {'xnat:addField', 'xnat:gmvScanData', 'xdat:newsEntry', 'xnat:petAssessorData', 'xnat:xa3DSessionData', 'xnatpy:metaFieldString', 'xnatpy:subjectVariablesDataVariablesVariable', 'xnatpy:petmrSessionDataTracerIntermediate', 'xnatpy:stored_searchAllowed_user', 'xnatpy:heightFloat', 'xnatpy:eegScanDataSoftwarefiltersimpedancesImpedance', 'cat:dcmCatalog', 'xnat:xcScanData', 'xnatpy:petScanDataParametersDimensions', 'xnat:rfSessionData', 'xnatpy:propertyString', 'xnat:xcvSessionData', 'xnat:regionResource', 'xnatpy:primary_passwordString', 'xnatpy:imageScanDataSharingShare', 'xnatpy:aliasString', 'xnatpy:FieldTypeHtml-image', 'xnat:projectData', 'icr:roiCollectionData', 'xnatpy:shareString', 'xnat:imageAssessorData', 'xnatpy:experimentDataDelay', 'wrk:xnatExecutionEnvironment', 'xnat:smScanData', 'xnatpy:petScanDataParametersFilter', 'xnatpy:petScanDataParametersZfilter', 'xnatpy:addFieldString', 'xnatpy:imageScanDataScanner', 'xnat:esvScanData', 'xnatpy:ctScanDataDcmvalidation', 'xnatpy:PlexiViewerTypeViewableitemHi-resLayer', 'xnat:mrAssessorData', 'xnatpy:protocolDataCheckConditionsCondition', 'xnat:segScanData', 'xnat:mgSessionData', 'xdat:history', 'xnatpy:intermediateFloat', 'cat:dcmEntry', 'xnatpy:fieldDefinitionGroupFieldsFieldPossiblevaluesPossiblevalue', 'xnat:resourceSeries', 'xnat:dx3DCraniofacialSessionData', 'xnatpy:processStepLibrary', 'xnatpy:catalogMetafieldsMetafield', 'xnat:usSessionData', 'xnatpy:updrs3DataHandsram', 'xnatpy:updrs3DataActionposturaltremor', 'xnatpy:delayInteger', 'xnatpy:LayoutDescriptionCoordinates', 'PlexiViewerType', 'xnatpy:petmrSessionDataTracerTotalmass', 'LayoutDescription', 'build:imageSessionData', 'xnatpy:protocolDataCheckCommentsComment', 'xnatpy:ratingString', 'xnatpy:SubQueryFieldMappingcolumnsMappingcolumn', 'xnat:ctSessionData', 'xnatpy:projectPipelines', 'xnatpy:mrScanDataParameters', 'xnat:resourceCatalog', 'xnat:smSessionData', 'xnatpy:samplingIntervalFloat', 'xnatpy:stored_searchSort_by', 'xnatpy:FieldTypeContent', 'val:protocolData', 'display:FieldType', 'xnatpy:pipelineParameterDataParameter', 'xnat:crScanData', 'xnatpy:ygtssDataMotor', 'xnat_a:sideEffectsPittsburghData', 'build:pipelineData', 'xnat_a:ygtssData', 'xdat:element_security', 'xnatpy:studyProtocolSubjectvariablesVariable', 'xnatpy:mrScanDataParametersInplanephaseencoding', 'xnatpy:imageResourceDimensions', 'xnatpy:abstractResourceTagsTag', 'pipe:pipelineDetails', 'xnatpy:experimentDataSharingShare', 'xnatpy:ctScanDataParametersVoxelres', 'xnat:ctScanData', 'val:additionalVal', 'xnat:subjectVariablesData', 'xnatpy:regionResourceSubregionlabelsLabel', 'xnat:ecgSessionData', 'xnat:abstractProtocol', 'xnatpy:updrs3DataRigidity', 'xnat:volumetricRegion', 'arc:project', 'xnatpy:petScanDataParametersRfilter', 'xnatpy:tagString', 'xnat:qcAssessmentData', 'xnat:statisticsData', 'xnat:gmSessionData', 'wrk:workflowData', 'prov:processStep', 'xnatpy:FieldTypeHtml-linkProperty', 'xnat:esScanData', 'xnatpy:additionalStatisticsDouble', 'xnatpy:petScanDataParameters', 'xnatpy:fieldString', 'xnatpy:petScanDataParametersFrames', 'xdat:field_mapping_set', 'xnatpy:petScanDataParametersResolution', 'xnatpy:protocolDataCheck', 'xnatpy:mrScanDataParametersMatrix', 'xnatpy:eegScanDataParametersDatarecord', 'xnatpy:compilerString', 'xnatpy:ctScanDataParametersFov', 'xnat:otherDicomSessionData', 'xnatpy:dicomSeriesImagesetImage', 'xnatpy:parameterString', 'xnat:pVisitData', 'xdat:criteria', 'xnatpy:statisticsDataAddfield', 'xnat:abstractResource', 'xnatpy:studyProtocolAcqconditionsCondition', 'xnatpy:subjectDataAddid', 'xnatpy:FieldTypeHtml-link', 'xnat:dicomSeries', 'xnatpy:PlexiViewerTypeViewableitemThumbnailSlice', 'xnatpy:imageResourceSeriesVoxelres', 'xdat:user', 'xdat:element_action_type', 'xnat:imageResource', 'xnat:xaScanData', 'xnatpy:statisticsDataAdditionalstatistics', 'xnatpy:regionResourceCreator', 'xnatpy:dicomSeriesDimensions', 'xdat:infoEntry', 'xnat:megScanData', 'xnat:esSessionData', 'xnatpy:ecatValidationString', 'xnat:mrsScanData', 'xnatpy:dcmCatalogDimensions', 'xnatpy:scidResearchDataAnxietydisorders', 'xdat:search_field', 'xnat:megSessionData', 'xnatpy:petSessionDataTracer', 'xnatpy:ctScanDataParametersDerivation', 'xnatpy:PlexiViewerTypeViewableitemUserinterfaceLinkeddropdown', 'xnatpy:weightFloat', 'xnatpy:PlexiViewerTypeViewableitemHi-res', 'xnat:petSessionData', 'xnatpy:projectPipelinesPipeline', 'xnatpy:mrScanDataParametersVoxelres', 'xdat:action_type', 'xnatpy:petScanDataParametersPixelsize', 'xnatpy:pipelineDetailsParametersParameterValues', 'xnatpy:entryMetafieldsMetafield', 'xnat_a:updrs3Data', 'xnat:petmrSessionData', 'xnat:dx3DCraniofacialScanData', 'xnat:dxScanData', 'xnatpy:eegSessionDataSamplingrate', 'xdat:user_login', 'xnat:ecgScanData', 'xnat:ioSessionData', 'xnatpy:petScanDataParametersOffset', 'xnat:xaSessionData', 'xnat:experimentData', 'display:SubQueryField', 'xnatpy:pipelineParameterDataCsvvalues', 'xnat:epsScanData', 'xnatpy:imageSessionDataScanner', 'xnat:hdSessionData', 'xnatpy:imageSessionDataPipeline', 'xnatpy:eegScanDataSoftwarefiltersimpedances', 'xnat:srScanData', 'xnatpy:userPrimary_password', 'xnat:opSessionData', 'xnatpy:scidResearchDataEatingdisorders', 'xnat:mrQcScanData', 'xnatpy:xnatExecutionEnvironmentParametersParameter', 'xnatpy:optScanDataParametersVoxelres', 'xnat:rfScanData', 'xnat:computationData', 'xnat:studyProtocol', 'xnatpy:updrs3DataFoottaps', 'xnat:algorithm', 'xdat:access_log', 'xnatpy:FieldTypeHtml-linkSecurelink', 'xnatpy:mrScanDataParametersDiffusion', 'xnat:genericData', 'cat:catalog', 'xnat:eegScanData', 'xnatpy:xaScanDataParametersFov', 'xnatpy:processStepProgram', 'xnat:xcSessionData', 'xnat:imageResourceSeries', 'xnat:scScanData', 'xnat:imageScanData', 'xdat:meta_data', 'xnatpy:programString', 'xnatpy:ctScanDataParametersRescale', 'xnat:epsSessionData', 'xnat:otherQcScanData', 'xnat:qcManualAssessorData', 'xnat:eegSessionData', 'xnatpy:petSessionDataTracerIntermediate', 'xnat:usScanData', 'xnat:dicomCodedValue', 'xdat:criteria_set', 'xnat:derivedData', 'xnatpy:primary_security_fieldString', 'xnat:subjectData', 'xnat:mrSessionData', 'xnatpy:subjectDataFieldsField', 'xnatpy:processStepCompiler', 'xnatpy:platformString', 'scr:screeningScanData', 'xnat:optSessionData', 'xnatpy:projectPipelinesDescendantsDescendantPipeline', 'xnatpy:addIDString', 'xnatpy:qcScanDataRating', 'xnatpy:PlexiViewerTypeViewableitemLo-resParameter', 'xnat:projectParticipant', 'xnat:dxSessionData', 'xnatpy:petmrSessionDataTracerIsotope', 'xnatpy:pipelineDetailsParametersParameter', 'xnatpy:petSessionDataTracerIsotope', 'prov:process', 'xnat:nmSessionData', 'xnatpy:updrs3DataTremorrest', 'xdat:field_mapping', 'xdat:stored_search', 'xnatpy:dcmCatalogVoxelres', 'xnatpy:petScanDataParametersFramesFrame', 'xnat:otherDicomScanData', 'xnatpy:ygtssDataPhonic', 'xnat_a:ybocsData', 'xnatpy:updrs3DataFingertaps', 'display:HTML-Cell', 'xnat:abstractStatistics', 'xnatpy:protocolDataScansScan_checkConditionsCondition', 'xnatpy:doseFloat', 'xnatpy:imageResourceSeriesDimensions', 'xnatpy:qcAssessmentDataScansScanSliceqcSlice', 'xnat:subjectMetadata', 'xnatpy:updrs3DataClicker', 'xnatpy:studyProtocolSubjectgroupsGroup', 'xnat:imageSessionData', 'build:buildData', 'xnat_a:scidResearchData', 'xdat:LONGVARCHAR', 'xnatpy:PlexiViewerTypeViewableitemThumbnail', 'xnatpy:qcScanDataFieldsField', 'xnatpy:imageResourceVoxelres', 'xdat:role_type', 'xnatpy:csvValuesString', 'xnat:investigatorData', 'xnat:nmScanData', 'xnat:validationData', 'xnatpy:variableString', 'xnatpy:estimatedDoseSavingFloat', 'xnatpy:ContentString', 'xnatpy:projectPipelinesDescendantsDescendant', 'xnat:srSessionData', 'xnat:resource', 'xnatpy:PlexiViewerTypeViewableitemHi-resLayoutref', 'xnat:publicationResource', 'arc:fieldSpecification', 'xnatpy:dcmValidationString', 'xnatpy:scidResearchDataMoodepisodes', 'xnatpy:projectDataAliasesAlias', 'xnat:voiceAudioScanData', 'xnatpy:xaScanDataParametersPixelres', 'xnatpy:projectDataFieldsField', 'xnatpy:PlexiViewerTypeViewableitem', 'xnat:petScanData', 'build:pipelineParameterData', 'xnatpy:xnatExecutionEnvironmentParameterfile', 'xnat:xa3DScanData', 'xnat:rtSessionData', 'xnatpy:labelString', 'xnat:optScanData', 'xnat:abstractSubjectMetadata', 'arc:pipelineData', 'xnat:subjectAssessorData', 'xnat:reconstructedImageData', 'xnatpy:ctScanDataParametersCollimationwidth', 'xnatpy:mrScanDataDcmvalidation', 'xnatpy:eegScanDataChannelsChannel', 'wrk:abstractExecutionEnvironment', 'xnatpy:xaScanDataParameters', 'xnatpy:studyProtocolImagesessiontypesSession', 'xnatpy:fieldDefinitionGroupFieldsField', 'xnatpy:FieldTypeHtml-linkPropertyInsertvalue', 'xnatpy:ctScanDataParametersEstimateddosesaving', 'xnatpy:PlexiViewerTypeViewableitemUserinterface', 'xnatpy:isotopeString', 'arc:pathInfo', 'xnatpy:commentString', 'xnat:petQcScanData', 'xnat:abstractDemographicData', 'xnatpy:ctScanDataParameters', 'cat:entry', 'xnatpy:protocolDataScansScan_check', 'xnatpy:petSessionDataTracerDose', 'xnat:rtImageScanData', 'xnatpy:scidResearchDataOptional', 'xnatpy:scidResearchDataMooddisorders', 'xnatpy:demographicDataHeight', 'xnatpy:fieldSpecificationString', 'xnatpy:experimentDataFieldsField', 'xnatpy:libraryString', 'xnatpy:PlexiViewerTypeViewableitemLo-res', 'xnatpy:optScanDataParameters', 'xnatpy:demographicDataWeight', 'xnatpy:optScanDataDcmvalidation', 'xnatpy:scidResearchDataSomatoformdisorders', 'xnatpy:optScanDataParametersFov', 'arc:pipelineParameterData', 'xnat:contrastBolus', 'xdat:primary_security_field', 'xnatpy:samplingRateFloat', 'xnat:hdScanData', 'xnatpy:qcAssessmentDataScansScan', 'xdat:change_info', 'xnatpy:mrScanDataParametersFov', 'xnatpy:petmrSessionDataTracerDose', 'xnat:opScanData', 'xnatpy:petScanDataEcatvalidation', 'xnatpy:petmrSessionDataTracer', 'xnatpy:scidResearchDataPsychoticdisorders', 'xnatpy:derivationString', 'xnat:mrScanData', 'xnatpy:dicomSeriesVoxelres', 'xnat:mgScanData', 'xnat:ioScanData', 'SchemaLinkType', 'xnatpy:scannerString', 'xnat:xcvScanData', 'xnat:esvSessionData', 'xnat:fieldDefinitionGroup', 'xnatpy:PlexiViewerTypeViewableitemSchemalink', 'arc:property', 'xnatpy:FieldTypeHtml-linkSecurelinkSecuritymappingvalue', 'xnatpy:element_securityListing_actionsListing_action', 'xnatpy:protocolDataScansScan_checkCommentsComment', 'xnatpy:totalMassFloat', 'xnat:qcScanData', 'xnat:datatypeProtocol', 'xnat:gmvSessionData', 'xnatpy:petSessionDataTracerTotalmass', 'scr:screeningAssessment', 'xnatpy:eegScanDataParameters', 'xnat:gmScanData', 'xnatpy:scidResearchDataSubstanceusedisorders', 'xnatpy:possibleValueString', 'xdat:userGroup', 'xnatpy:processStepPlatform', 'xnatpy:volumetricRegionSubregionsSubregion', 'xnatpy:eegSessionDataSamplinginterval', 'xnat:crSessionData', 'xnatpy:updrs3DataHandmovementsgrip', 'xnatpy:scidResearchDataPsychoticsymptoms', 'xnat:demographicData'}\n"
     ]
    },
    {
     "name": "stderr",
     "output_type": "stream",
     "text": [
      "[2020-02-18 15:52:26,150] INFO: convert_xsd:1021 >> Missed: []\n",
      "[2020-02-18 15:52:26,151] INFO: convert_xsd:1022 >> Missed base class: []\n",
      "[2020-02-18 15:52:26,151] DEBUG: convert_xsd:1023 >> Spent 2 iterations\n",
      "[2020-02-18 15:52:26,164] DEBUG: __init__:249 >> Code file written to: C:\\Users\\ctorti\\AppData\\Local\\Temp\\tmp9v67hbzn_generated_xnat.py\n",
      "[2020-02-18 15:52:26,367] DEBUG: __init__:256 >> Loaded generated module\n"
     ]
    }
   ],
   "source": [
    "xnatAddress = 'http://10.1.1.17'\n",
    "#xnatAddress = 'http://10.1.1.17/app/template/Index.vm'\n",
    "#xnatAddress = 'http://10.1.1.17/app/template/Login.vm#!'\n",
    "#xnatAddress = 'http://10.1.1.17:8080/xnat'\n",
    "#xnatAddress = 'http://10.1.1.17:80/xnat'\n",
    "#xnatAddress = 'http://localhost:8080/xnat'\n",
    "#xnatAddress = 'http://10.1.1.17:8080/admin'\n",
    "#xnatAddress = 'http://localhost:8080/admin'\n",
    "\n",
    "#session = xnat.connect(xnatAddress, user='xnat', password='xnat')\n",
    "#session = xnat.connect(xnatAddress, user='owner', password='owner')\n",
    "session = xnat.connect(xnatAddress, user='admin', password='admin', debug=True)"
   ]
  },
  {
   "cell_type": "code",
   "execution_count": 4,
   "metadata": {},
   "outputs": [
    {
     "data": {
      "text/plain": [
       "<xnat.session.XNATSession at 0x1a5dc329b88>"
      ]
     },
     "execution_count": 4,
     "metadata": {},
     "output_type": "execute_result"
    }
   ],
   "source": [
    "session"
   ]
  },
  {
   "cell_type": "markdown",
   "metadata": {},
   "source": [
    "#### Define the REST path variables:"
   ]
  },
  {
   "cell_type": "code",
   "execution_count": 3,
   "metadata": {},
   "outputs": [
    {
     "name": "stdout",
     "output_type": "stream",
     "text": [
      "Project label = BrainTumorProg_copy\n",
      "Subject label = PGM-002_Feb18\n",
      "Experiment label = PGM-002_Feb18_MR_1\n"
     ]
    }
   ],
   "source": [
    "# Define new project and subject labels, and session number:\n",
    "projectLabel = 'BrainTumorProg_copy'\n",
    "subjectLabel = 'PGM-002_Feb18'\n",
    "experimentLabel = subjectLabel + '_MR_1'\n",
    "#experimentNo = 0 # (= 1 in XNAT web app; e.g. ‘PGM-002_MR_1’)\n",
    "#scanNo = 0 # 0 -> T1post\n",
    "print('Project label =', projectLabel)\n",
    "print('Subject label =', subjectLabel)\n",
    "print('Experiment label =', experimentLabel)"
   ]
  },
  {
   "cell_type": "markdown",
   "metadata": {},
   "source": [
    "#### Location of previously downloaded DICOM and DICOM-RTSTRUCT files:"
   ]
  },
  {
   "cell_type": "code",
   "execution_count": 4,
   "metadata": {},
   "outputs": [],
   "source": [
    "# The DICOM files were exported here:\n",
    "dicomDLdir = r'C:\\Code\\WP1.3_multiple_modalities\\trying stuff\\XNAT downloads\\BrainTumorProg\\PGM-002\\0\\0\\PGM-002_MR_1\\scans\\11-T1post\\resources\\DICOM\\files'\n",
    "\n",
    "# And the ROI DICOM-RTStruct file was exported here:\n",
    "roiDLdir = r'C:\\Code\\WP1.3_multiple_modalities\\trying stuff\\XNAT downloads\\BrainTumorProg\\PGM-002\\0\\0\\AIM_20200123_145716\\out\\resources\\RTSTRUCT\\files'"
   ]
  },
  {
   "cell_type": "markdown",
   "metadata": {},
   "source": [
    "#### Create a new project in XNAT:"
   ]
  },
  {
   "cell_type": "code",
   "execution_count": 5,
   "metadata": {},
   "outputs": [
    {
     "name": "stderr",
     "output_type": "stream",
     "text": [
      "[2020-02-18 15:54:02,485] DEBUG: core:171 >> PUT URI: /data/archive/projects/BrainTumorProg_copy\n",
      "[2020-02-18 15:54:02,486] DEBUG: core:180 >> query: {'xsiType': 'xnat:projectData', 'req_format': 'qs', 'name': 'BrainTumorProg_copy'}\n",
      "[2020-02-18 15:54:02,487] DEBUG: session:428 >> PUT URI http://10.1.1.17/data/archive/projects/BrainTumorProg_copy?xsiType=xnat%3AprojectData&req_format=qs&name=BrainTumorProg_copy\n",
      "[2020-02-18 15:54:02,487] DEBUG: session:430 >> PUT DATA None\n",
      "[2020-02-18 15:54:02,488] DEBUG: session:431 >> PUT FILES None\n",
      "[2020-02-18 15:54:02,573] DEBUG: session:307 >> Received response with status code: 200\n"
     ]
    }
   ],
   "source": [
    "project = session.classes.ProjectData(parent=session, name=projectLabel)"
   ]
  },
  {
   "cell_type": "markdown",
   "metadata": {},
   "source": [
    "#### Create a new subject for the new project:"
   ]
  },
  {
   "cell_type": "code",
   "execution_count": 57,
   "metadata": {},
   "outputs": [
    {
     "name": "stderr",
     "output_type": "stream",
     "text": [
      "[2020-02-19 15:52:27,189] DEBUG: core:171 >> PUT URI: /data/archive/projects/BrainTumorProg_copy/subjects/PGM-002_Feb18\n",
      "[2020-02-19 15:52:27,190] DEBUG: core:180 >> query: {'xsiType': 'xnat:subjectData', 'req_format': 'qs', 'label': 'PGM-002_Feb18'}\n",
      "[2020-02-19 15:52:27,191] DEBUG: session:428 >> PUT URI http://10.1.1.17/data/archive/projects/BrainTumorProg_copy/subjects/PGM-002_Feb18?xsiType=xnat%3AsubjectData&req_format=qs&label=PGM-002_Feb18\n",
      "[2020-02-19 15:52:27,192] DEBUG: session:430 >> PUT DATA None\n",
      "[2020-02-19 15:52:27,193] DEBUG: session:431 >> PUT FILES None\n",
      "[2020-02-19 15:52:27,230] DEBUG: session:307 >> Received response with status code: 200\n"
     ]
    }
   ],
   "source": [
    "subject = session.classes.SubjectData(parent=project, label=subjectLabel)"
   ]
  },
  {
   "cell_type": "markdown",
   "metadata": {},
   "source": [
    "#### Create a new experiment for the new subject:\n",
    "\n",
    "##### Note:  Spaces are not permitted for labels!"
   ]
  },
  {
   "cell_type": "code",
   "execution_count": 7,
   "metadata": {},
   "outputs": [
    {
     "name": "stderr",
     "output_type": "stream",
     "text": [
      "[2020-02-18 15:54:10,251] DEBUG: session:334 >> GET URI http://10.1.1.17/data/archive/projects/BrainTumorProg_copy/subjects/PGM-002_Feb18?format=json\n",
      "[2020-02-18 15:54:10,338] DEBUG: session:307 >> Received response with status code: 200\n",
      "[2020-02-18 15:54:10,339] DEBUG: core:171 >> PUT URI: /data/archive/projects/BrainTumorProg_copy/subjects/XNAT_S00009/experiments/PGM-002_Feb18_MR_1\n",
      "[2020-02-18 15:54:10,339] DEBUG: core:180 >> query: {'xsiType': 'xnat:mrSessionData', 'req_format': 'qs', 'label': 'PGM-002_Feb18_MR_1'}\n",
      "[2020-02-18 15:54:10,340] DEBUG: session:428 >> PUT URI http://10.1.1.17/data/archive/projects/BrainTumorProg_copy/subjects/XNAT_S00009/experiments/PGM-002_Feb18_MR_1?xsiType=xnat%3AmrSessionData&req_format=qs&label=PGM-002_Feb18_MR_1\n",
      "[2020-02-18 15:54:10,342] DEBUG: session:430 >> PUT DATA None\n",
      "[2020-02-18 15:54:10,343] DEBUG: session:431 >> PUT FILES None\n",
      "[2020-02-18 15:54:10,539] DEBUG: session:307 >> Received response with status code: 201\n"
     ]
    }
   ],
   "source": [
    "experiment = session.classes.MrSessionData(parent=subject, label=experimentLabel)"
   ]
  },
  {
   "cell_type": "markdown",
   "metadata": {},
   "source": [
    "#### Load the RTSTRUCT file to the get the Referenced SOP Instance UIDs"
   ]
  },
  {
   "cell_type": "code",
   "execution_count": 28,
   "metadata": {},
   "outputs": [
    {
     "data": {
      "text/plain": [
       "(0008, 0016) SOP Class UID                       UI: RT Structure Set Storage\n",
       "(0008, 0018) SOP Instance UID                    UI: 1.2.826.0.1.534147.578.4208788039.20200231457312\n",
       "(0008, 0020) Study Date                          DA: '19960813'\n",
       "(0008, 0030) Study Time                          TM: '162908'\n",
       "(0008, 0050) Accession Number                    SH: ''\n",
       "(0008, 0060) Modality                            CS: 'RTSTRUCT'\n",
       "(0008, 0070) Manufacturer                        LO: 'GE MEDICAL SYSTEMS'\n",
       "(0008, 0090) Referring Physician's Name          PN: ''\n",
       "(0008, 1070) Operators' Name                     PN: ''\n",
       "(0008, 1090) Manufacturer's Model Name           LO: 'Optima MR450w'\n",
       "(0010, 0010) Patient's Name                      PN: 'PGM-002'\n",
       "(0010, 0020) Patient ID                          LO: 'PGM-002_MR_1'\n",
       "(0010, 0030) Patient's Birth Date                DA: '00021130'\n",
       "(0010, 0040) Patient's Sex                       CS: 'M'\n",
       "(0018, 1020) Software Version(s)                 LO: ['25', 'LX', 'MR Software release:DV25.0_R01_1451.a']\n",
       "(0020, 000d) Study Instance UID                  UI: 1.3.6.1.4.1.14519.5.2.1.4429.7055.331058148523327901159449546313\n",
       "(0020, 000e) Series Instance UID                 UI: 1.2.826.0.1.534147.578.4208788039.202002314573120.1\n",
       "(0020, 0010) Study ID                            SH: ''\n",
       "(0020, 0011) Series Number                       IS: ''\n",
       "(0020, 0052) Frame of Reference UID              UI: 1.3.6.1.4.1.14519.5.2.1.4429.7055.250487807866145927413117906224\n",
       "(0020, 1040) Position Reference Indicator        LO: ''\n",
       "(3006, 0002) Structure Set Label                 SH: 'PGM-002_MR_1_Tumor'\n",
       "(3006, 0008) Structure Set Date                  DA: '20200123'\n",
       "(3006, 0009) Structure Set Time                  TM: '145731'\n",
       "(3006, 0010)  Referenced Frame of Reference Sequence   1 item(s) ---- \n",
       "   (0020, 0052) Frame of Reference UID              UI: 1.3.6.1.4.1.14519.5.2.1.4429.7055.250487807866145927413117906224\n",
       "   (3006, 0012)  RT Referenced Study Sequence   1 item(s) ---- \n",
       "      (0008, 1150) Referenced SOP Class UID            UI: Detached Study Management SOP Class\n",
       "      (0008, 1155) Referenced SOP Instance UID         UI: 1.3.6.1.4.1.14519.5.2.1.4429.7055.331058148523327901159449546313\n",
       "      (3006, 0014)  RT Referenced Series Sequence   1 item(s) ---- \n",
       "         (0020, 000e) Series Instance UID                 UI: 1.3.6.1.4.1.14519.5.2.1.4429.7055.318140066822631026134411973420\n",
       "         (3006, 0016)  Contour Image Sequence   9 item(s) ---- \n",
       "            (0008, 1150) Referenced SOP Class UID            UI: MR Image Storage\n",
       "            (0008, 1155) Referenced SOP Instance UID         UI: 1.3.6.1.4.1.14519.5.2.1.4429.7055.320280293613596547840725755465\n",
       "            (0008, 1160) Referenced Frame Number             IS: \"1\"\n",
       "            ---------\n",
       "            (0008, 1150) Referenced SOP Class UID            UI: MR Image Storage\n",
       "            (0008, 1155) Referenced SOP Instance UID         UI: 1.3.6.1.4.1.14519.5.2.1.4429.7055.677643793103545804182040061154\n",
       "            (0008, 1160) Referenced Frame Number             IS: \"1\"\n",
       "            ---------\n",
       "            (0008, 1150) Referenced SOP Class UID            UI: MR Image Storage\n",
       "            (0008, 1155) Referenced SOP Instance UID         UI: 1.3.6.1.4.1.14519.5.2.1.4429.7055.149742284257271356119234155647\n",
       "            (0008, 1160) Referenced Frame Number             IS: \"1\"\n",
       "            ---------\n",
       "            (0008, 1150) Referenced SOP Class UID            UI: MR Image Storage\n",
       "            (0008, 1155) Referenced SOP Instance UID         UI: 1.3.6.1.4.1.14519.5.2.1.4429.7055.207269894846632100106605315699\n",
       "            (0008, 1160) Referenced Frame Number             IS: \"1\"\n",
       "            ---------\n",
       "            (0008, 1150) Referenced SOP Class UID            UI: MR Image Storage\n",
       "            (0008, 1155) Referenced SOP Instance UID         UI: 1.3.6.1.4.1.14519.5.2.1.4429.7055.337321577215686178552541657021\n",
       "            (0008, 1160) Referenced Frame Number             IS: \"1\"\n",
       "            ---------\n",
       "            (0008, 1150) Referenced SOP Class UID            UI: MR Image Storage\n",
       "            (0008, 1155) Referenced SOP Instance UID         UI: 1.3.6.1.4.1.14519.5.2.1.4429.7055.121761661581454976960293845378\n",
       "            (0008, 1160) Referenced Frame Number             IS: \"1\"\n",
       "            ---------\n",
       "            (0008, 1150) Referenced SOP Class UID            UI: MR Image Storage\n",
       "            (0008, 1155) Referenced SOP Instance UID         UI: 1.3.6.1.4.1.14519.5.2.1.4429.7055.176309996049760286843247671656\n",
       "            (0008, 1160) Referenced Frame Number             IS: \"1\"\n",
       "            ---------\n",
       "            (0008, 1150) Referenced SOP Class UID            UI: MR Image Storage\n",
       "            (0008, 1155) Referenced SOP Instance UID         UI: 1.3.6.1.4.1.14519.5.2.1.4429.7055.213859255991588180723164022910\n",
       "            (0008, 1160) Referenced Frame Number             IS: \"1\"\n",
       "            ---------\n",
       "            (0008, 1150) Referenced SOP Class UID            UI: MR Image Storage\n",
       "            (0008, 1155) Referenced SOP Instance UID         UI: 1.3.6.1.4.1.14519.5.2.1.4429.7055.150121483703605657658660963398\n",
       "            (0008, 1160) Referenced Frame Number             IS: \"1\"\n",
       "            ---------\n",
       "         ---------\n",
       "      ---------\n",
       "   ---------\n",
       "(3006, 0020)  Structure Set ROI Sequence   1 item(s) ---- \n",
       "   (3006, 0022) ROI Number                          IS: \"1\"\n",
       "   (3006, 0024) Referenced Frame of Reference UID   UI: 1.3.6.1.4.1.14519.5.2.1.4429.7055.250487807866145927413117906224\n",
       "   (3006, 0026) ROI Name                            LO: 'PGM-002_MR_1_Tumor'\n",
       "   (3006, 0036) ROI Generation Algorithm            CS: ''\n",
       "   ---------\n",
       "(3006, 0039)  ROI Contour Sequence   1 item(s) ---- \n",
       "   (3006, 0040)  Contour Sequence   16 item(s) ---- \n",
       "      (3006, 0016)  Contour Image Sequence   1 item(s) ---- \n",
       "         (0008, 1150) Referenced SOP Class UID            UI: MR Image Storage\n",
       "         (0008, 1155) Referenced SOP Instance UID         UI: 1.3.6.1.4.1.14519.5.2.1.4429.7055.320280293613596547840725755465\n",
       "         (0008, 1160) Referenced Frame Number             IS: \"1\"\n",
       "         ---------\n",
       "      (3006, 0042) Contour Geometric Type              CS: 'CLOSED_PLANAR'\n",
       "      (3006, 0046) Number of Contour Points            IS: \"213\"\n",
       "      (3006, 0048) Contour Number                      IS: \"1\"\n",
       "      (3006, 0050) Contour Data                        DS: Array of 639 elements\n",
       "      ---------\n",
       "      (3006, 0016)  Contour Image Sequence   1 item(s) ---- \n",
       "         (0008, 1150) Referenced SOP Class UID            UI: MR Image Storage\n",
       "         (0008, 1155) Referenced SOP Instance UID         UI: 1.3.6.1.4.1.14519.5.2.1.4429.7055.677643793103545804182040061154\n",
       "         (0008, 1160) Referenced Frame Number             IS: \"1\"\n",
       "         ---------\n",
       "      (3006, 0042) Contour Geometric Type              CS: 'CLOSED_PLANAR'\n",
       "      (3006, 0046) Number of Contour Points            IS: \"229\"\n",
       "      (3006, 0048) Contour Number                      IS: \"2\"\n",
       "      (3006, 0050) Contour Data                        DS: Array of 687 elements\n",
       "      ---------\n",
       "      (3006, 0016)  Contour Image Sequence   1 item(s) ---- \n",
       "         (0008, 1150) Referenced SOP Class UID            UI: MR Image Storage\n",
       "         (0008, 1155) Referenced SOP Instance UID         UI: 1.3.6.1.4.1.14519.5.2.1.4429.7055.149742284257271356119234155647\n",
       "         (0008, 1160) Referenced Frame Number             IS: \"1\"\n",
       "         ---------\n",
       "      (3006, 0042) Contour Geometric Type              CS: 'CLOSED_PLANAR'\n",
       "      (3006, 0046) Number of Contour Points            IS: \"237\"\n",
       "      (3006, 0048) Contour Number                      IS: \"3\"\n",
       "      (3006, 0050) Contour Data                        DS: Array of 711 elements\n",
       "      ---------\n",
       "      (3006, 0016)  Contour Image Sequence   1 item(s) ---- \n",
       "         (0008, 1150) Referenced SOP Class UID            UI: MR Image Storage\n",
       "         (0008, 1155) Referenced SOP Instance UID         UI: 1.3.6.1.4.1.14519.5.2.1.4429.7055.207269894846632100106605315699\n",
       "         (0008, 1160) Referenced Frame Number             IS: \"1\"\n",
       "         ---------\n",
       "      (3006, 0042) Contour Geometric Type              CS: 'CLOSED_PLANAR'\n",
       "      (3006, 0046) Number of Contour Points            IS: \"350\"\n",
       "      (3006, 0048) Contour Number                      IS: \"4\"\n",
       "      (3006, 0050) Contour Data                        DS: Array of 1050 elements\n",
       "      ---------\n",
       "      (3006, 0016)  Contour Image Sequence   1 item(s) ---- \n",
       "         (0008, 1150) Referenced SOP Class UID            UI: MR Image Storage\n",
       "         (0008, 1155) Referenced SOP Instance UID         UI: 1.3.6.1.4.1.14519.5.2.1.4429.7055.207269894846632100106605315699\n",
       "         (0008, 1160) Referenced Frame Number             IS: \"1\"\n",
       "         ---------\n",
       "      (3006, 0042) Contour Geometric Type              CS: 'CLOSED_PLANAR'\n",
       "      (3006, 0046) Number of Contour Points            IS: \"1\"\n",
       "      (3006, 0048) Contour Number                      IS: \"5\"\n",
       "      (3006, 0050) Contour Data                        DS: ['53.2030913207557', '-59.130039390132', '33.0974814662254']\n",
       "      ---------\n",
       "      (3006, 0016)  Contour Image Sequence   1 item(s) ---- \n",
       "         (0008, 1150) Referenced SOP Class UID            UI: MR Image Storage\n",
       "         (0008, 1155) Referenced SOP Instance UID         UI: 1.3.6.1.4.1.14519.5.2.1.4429.7055.337321577215686178552541657021\n",
       "         (0008, 1160) Referenced Frame Number             IS: \"1\"\n",
       "         ---------\n",
       "      (3006, 0042) Contour Geometric Type              CS: 'CLOSED_PLANAR'\n",
       "      (3006, 0046) Number of Contour Points            IS: \"436\"\n",
       "      (3006, 0048) Contour Number                      IS: \"6\"\n",
       "      (3006, 0050) Contour Data                        DS: Array of 1308 elements\n",
       "      ---------\n",
       "      (3006, 0016)  Contour Image Sequence   1 item(s) ---- \n",
       "         (0008, 1150) Referenced SOP Class UID            UI: MR Image Storage\n",
       "         (0008, 1155) Referenced SOP Instance UID         UI: 1.3.6.1.4.1.14519.5.2.1.4429.7055.337321577215686178552541657021\n",
       "         (0008, 1160) Referenced Frame Number             IS: \"1\"\n",
       "         ---------\n",
       "      (3006, 0042) Contour Geometric Type              CS: 'CLOSED_PLANAR'\n",
       "      (3006, 0046) Number of Contour Points            IS: \"1\"\n",
       "      (3006, 0048) Contour Number                      IS: \"7\"\n",
       "      (3006, 0050) Contour Data                        DS: ['37.8010271446342', '-110.94783419155', '48.1332796091722']\n",
       "      ---------\n",
       "      (3006, 0016)  Contour Image Sequence   1 item(s) ---- \n",
       "         (0008, 1150) Referenced SOP Class UID            UI: MR Image Storage\n",
       "         (0008, 1155) Referenced SOP Instance UID         UI: 1.3.6.1.4.1.14519.5.2.1.4429.7055.121761661581454976960293845378\n",
       "         (0008, 1160) Referenced Frame Number             IS: \"1\"\n",
       "         ---------\n",
       "      (3006, 0042) Contour Geometric Type              CS: 'CLOSED_PLANAR'\n",
       "      (3006, 0046) Number of Contour Points            IS: \"390\"\n",
       "      (3006, 0048) Contour Number                      IS: \"8\"\n",
       "      (3006, 0050) Contour Data                        DS: Array of 1170 elements\n",
       "      ---------\n",
       "      (3006, 0016)  Contour Image Sequence   1 item(s) ---- \n",
       "         (0008, 1150) Referenced SOP Class UID            UI: MR Image Storage\n",
       "         (0008, 1155) Referenced SOP Instance UID         UI: 1.3.6.1.4.1.14519.5.2.1.4429.7055.121761661581454976960293845378\n",
       "         (0008, 1160) Referenced Frame Number             IS: \"1\"\n",
       "         ---------\n",
       "      (3006, 0042) Contour Geometric Type              CS: 'CLOSED_PLANAR'\n",
       "      (3006, 0046) Number of Contour Points            IS: \"136\"\n",
       "      (3006, 0048) Contour Number                      IS: \"9\"\n",
       "      (3006, 0050) Contour Data                        DS: Array of 408 elements\n",
       "      ---------\n",
       "      (3006, 0016)  Contour Image Sequence   1 item(s) ---- \n",
       "         (0008, 1150) Referenced SOP Class UID            UI: MR Image Storage\n",
       "         (0008, 1155) Referenced SOP Instance UID         UI: 1.3.6.1.4.1.14519.5.2.1.4429.7055.121761661581454976960293845378\n",
       "         (0008, 1160) Referenced Frame Number             IS: \"1\"\n",
       "         ---------\n",
       "      (3006, 0042) Contour Geometric Type              CS: 'CLOSED_PLANAR'\n",
       "      (3006, 0046) Number of Contour Points            IS: \"1\"\n",
       "      (3006, 0048) Contour Number                      IS: \"10\"\n",
       "      (3006, 0050) Contour Data                        DS: ['40.3287589107183', '-102.78561834790', '53.4203443409758']\n",
       "      ---------\n",
       "      (3006, 0016)  Contour Image Sequence   1 item(s) ---- \n",
       "         (0008, 1150) Referenced SOP Class UID            UI: MR Image Storage\n",
       "         (0008, 1155) Referenced SOP Instance UID         UI: 1.3.6.1.4.1.14519.5.2.1.4429.7055.176309996049760286843247671656\n",
       "         (0008, 1160) Referenced Frame Number             IS: \"1\"\n",
       "         ---------\n",
       "      (3006, 0042) Contour Geometric Type              CS: 'CLOSED_PLANAR'\n",
       "      (3006, 0046) Number of Contour Points            IS: \"294\"\n",
       "      (3006, 0048) Contour Number                      IS: \"11\"\n",
       "      (3006, 0050) Contour Data                        DS: Array of 882 elements\n",
       "      ---------\n",
       "      (3006, 0016)  Contour Image Sequence   1 item(s) ---- \n",
       "         (0008, 1150) Referenced SOP Class UID            UI: MR Image Storage\n",
       "         (0008, 1155) Referenced SOP Instance UID         UI: 1.3.6.1.4.1.14519.5.2.1.4429.7055.176309996049760286843247671656\n",
       "         (0008, 1160) Referenced Frame Number             IS: \"1\"\n",
       "         ---------\n",
       "      (3006, 0042) Contour Geometric Type              CS: 'CLOSED_PLANAR'\n",
       "      (3006, 0046) Number of Contour Points            IS: \"133\"\n",
       "      (3006, 0048) Contour Number                      IS: \"12\"\n",
       "      (3006, 0050) Contour Data                        DS: Array of 399 elements\n",
       "      ---------\n",
       "      (3006, 0016)  Contour Image Sequence   1 item(s) ---- \n",
       "         (0008, 1150) Referenced SOP Class UID            UI: MR Image Storage\n",
       "         (0008, 1155) Referenced SOP Instance UID         UI: 1.3.6.1.4.1.14519.5.2.1.4429.7055.176309996049760286843247671656\n",
       "         (0008, 1160) Referenced Frame Number             IS: \"1\"\n",
       "         ---------\n",
       "      (3006, 0042) Contour Geometric Type              CS: 'CLOSED_PLANAR'\n",
       "      (3006, 0046) Number of Contour Points            IS: \"1\"\n",
       "      (3006, 0048) Contour Number                      IS: \"13\"\n",
       "      (3006, 0050) Contour Data                        DS: ['55.0148568872003', '-73.403512304927', '55.5476746719854']\n",
       "      ---------\n",
       "      (3006, 0016)  Contour Image Sequence   1 item(s) ---- \n",
       "         (0008, 1150) Referenced SOP Class UID            UI: MR Image Storage\n",
       "         (0008, 1155) Referenced SOP Instance UID         UI: 1.3.6.1.4.1.14519.5.2.1.4429.7055.213859255991588180723164022910\n",
       "         (0008, 1160) Referenced Frame Number             IS: \"1\"\n",
       "         ---------\n",
       "      (3006, 0042) Contour Geometric Type              CS: 'CLOSED_PLANAR'\n",
       "      (3006, 0046) Number of Contour Points            IS: \"122\"\n",
       "      (3006, 0048) Contour Number                      IS: \"14\"\n",
       "      (3006, 0050) Contour Data                        DS: Array of 366 elements\n",
       "      ---------\n",
       "      (3006, 0016)  Contour Image Sequence   1 item(s) ---- \n",
       "         (0008, 1150) Referenced SOP Class UID            UI: MR Image Storage\n",
       "         (0008, 1155) Referenced SOP Instance UID         UI: 1.3.6.1.4.1.14519.5.2.1.4429.7055.213859255991588180723164022910\n",
       "         (0008, 1160) Referenced Frame Number             IS: \"1\"\n",
       "         ---------\n",
       "      (3006, 0042) Contour Geometric Type              CS: 'CLOSED_PLANAR'\n",
       "      (3006, 0046) Number of Contour Points            IS: \"302\"\n",
       "      (3006, 0048) Contour Number                      IS: \"15\"\n",
       "      (3006, 0050) Contour Data                        DS: Array of 906 elements\n",
       "      ---------\n",
       "      (3006, 0016)  Contour Image Sequence   1 item(s) ---- \n",
       "         (0008, 1150) Referenced SOP Class UID            UI: MR Image Storage\n",
       "         (0008, 1155) Referenced SOP Instance UID         UI: 1.3.6.1.4.1.14519.5.2.1.4429.7055.150121483703605657658660963398\n",
       "         (0008, 1160) Referenced Frame Number             IS: \"1\"\n",
       "         ---------\n",
       "      (3006, 0042) Contour Geometric Type              CS: 'CLOSED_PLANAR'\n",
       "      (3006, 0046) Number of Contour Points            IS: \"195\"\n",
       "      (3006, 0048) Contour Number                      IS: \"16\"\n",
       "      (3006, 0050) Contour Data                        DS: Array of 585 elements\n",
       "      ---------\n",
       "   (3006, 0084) Referenced ROI Number               IS: \"1\"\n",
       "   ---------\n",
       "(3006, 0080)  RT ROI Observations Sequence   1 item(s) ---- \n",
       "   (3006, 0082) Observation Number                  IS: \"1\"\n",
       "   (3006, 0084) Referenced ROI Number               IS: \"1\"\n",
       "   (3006, 00a4) RT ROI Interpreted Type             CS: ''\n",
       "   (3006, 00a6) ROI Interpreter                     PN: ''\n",
       "   ---------"
      ]
     },
     "execution_count": 28,
     "metadata": {},
     "output_type": "execute_result"
    }
   ],
   "source": [
    "# Get the filename of the DICOM-RTSTRUCT file:\n",
    "roiFname = os.listdir(roiDLdir)\n",
    "roiFname = roiFname[0]\n",
    "\n",
    "roiFpath = os.path.join(roiDLdir, roiFname)\n",
    "\n",
    "# Load the DICOM-RTStruct file:\n",
    "roi = pydicom.dcmread(roiFpath)\n",
    "\n",
    "roi"
   ]
  },
  {
   "cell_type": "markdown",
   "metadata": {},
   "source": [
    "#### Get a list of the Referenced SOP Instance UIDs in roi"
   ]
  },
  {
   "cell_type": "code",
   "execution_count": 30,
   "metadata": {},
   "outputs": [
    {
     "data": {
      "text/plain": [
       "['1.3.6.1.4.1.14519.5.2.1.4429.7055.320280293613596547840725755465',\n",
       " '1.3.6.1.4.1.14519.5.2.1.4429.7055.677643793103545804182040061154',\n",
       " '1.3.6.1.4.1.14519.5.2.1.4429.7055.149742284257271356119234155647',\n",
       " '1.3.6.1.4.1.14519.5.2.1.4429.7055.207269894846632100106605315699',\n",
       " '1.3.6.1.4.1.14519.5.2.1.4429.7055.207269894846632100106605315699',\n",
       " '1.3.6.1.4.1.14519.5.2.1.4429.7055.337321577215686178552541657021',\n",
       " '1.3.6.1.4.1.14519.5.2.1.4429.7055.337321577215686178552541657021',\n",
       " '1.3.6.1.4.1.14519.5.2.1.4429.7055.121761661581454976960293845378',\n",
       " '1.3.6.1.4.1.14519.5.2.1.4429.7055.121761661581454976960293845378',\n",
       " '1.3.6.1.4.1.14519.5.2.1.4429.7055.121761661581454976960293845378',\n",
       " '1.3.6.1.4.1.14519.5.2.1.4429.7055.176309996049760286843247671656',\n",
       " '1.3.6.1.4.1.14519.5.2.1.4429.7055.176309996049760286843247671656',\n",
       " '1.3.6.1.4.1.14519.5.2.1.4429.7055.176309996049760286843247671656',\n",
       " '1.3.6.1.4.1.14519.5.2.1.4429.7055.213859255991588180723164022910',\n",
       " '1.3.6.1.4.1.14519.5.2.1.4429.7055.213859255991588180723164022910',\n",
       " '1.3.6.1.4.1.14519.5.2.1.4429.7055.150121483703605657658660963398']"
      ]
     },
     "execution_count": 30,
     "metadata": {},
     "output_type": "execute_result"
    }
   ],
   "source": [
    "roiUids = []\n",
    "\n",
    "# Loop for each contour sequence:\n",
    "for sequence in roi.ROIContourSequence[0].ContourSequence:\n",
    "    roiUids.append(sequence.ContourImageSequence[0].ReferencedSOPInstanceUID)\n",
    "    \n",
    "roiUids"
   ]
  },
  {
   "cell_type": "markdown",
   "metadata": {},
   "source": [
    "#### Read in each DICOM and create a list of indeces that correspond to the DICOMs that have SOP Instance UIDs that match the Reference SOP Instance UIDs in the ROI data\n",
    "\n",
    "##### Note:  The ordering of inds is not the same as the ordering of the frame number since the list of DICOM files are not read in using natsort!"
   ]
  },
  {
   "cell_type": "code",
   "execution_count": 34,
   "metadata": {},
   "outputs": [
    {
     "data": {
      "text/plain": [
       "[3, 4, 5, 6, 7, 8, 9, 10, 12]"
      ]
     },
     "execution_count": 34,
     "metadata": {},
     "output_type": "execute_result"
    }
   ],
   "source": [
    "# Get the filenames of the DICOM files:\n",
    "dicomFnames = os.listdir(dicomDLdir)\n",
    "#dicomFnames\n",
    "\n",
    "# Create a list of full file paths:\n",
    "dicomFpaths = []\n",
    "\n",
    "# Initialise array of indices:\n",
    "inds = []\n",
    "\n",
    "# Loop for each file name in dicomFnames:\n",
    "for f in range(len(dicomFnames)):\n",
    "    dicomFpath = os.path.join(dicomDLdir, dicomFnames[f])\n",
    "    \n",
    "    dicomFpaths.append(dicomFpath)\n",
    "    \n",
    "    # Read in the dicom file:\n",
    "    dicom = pydicom.dcmread(dicomFpath)\n",
    "    \n",
    "    dicomUid = dicom.SOPInstanceUID\n",
    "    \n",
    "    # If dicomUid is in roiUids append f in inds:\n",
    "    if dicomUid in roiUids:\n",
    "        inds.append(f)\n",
    "        \n",
    "inds"
   ]
  },
  {
   "cell_type": "code",
   "execution_count": 14,
   "metadata": {},
   "outputs": [
    {
     "name": "stderr",
     "output_type": "stream",
     "text": [
      "[2020-02-18 16:34:29,225] DEBUG: session:334 >> GET URI http://10.1.1.17/data/prearchive/projects?format=json\n",
      "[2020-02-18 16:34:29,253] DEBUG: session:307 >> Received response with status code: 200\n"
     ]
    },
    {
     "data": {
      "text/plain": [
       "[<PrearchiveSession BrainTumorProg_copy/20200217_144817230/PGM-002_Feb17_MR_1>,\n",
       " <PrearchiveSession BrainTumorProg_copy/20200206_152623716/PGM_002_MR_1>,\n",
       " <PrearchiveSession BrainTumorProg_copy/20200207_144303310/PGM_002_MR_1>,\n",
       " <PrearchiveSession BrainTumorProg_copy/20200217_101919731/PGM-002_Feb17_MR_1>,\n",
       " <PrearchiveSession BrainTumorProg_copy/20200212_213423578/PGM-002_MR_1>,\n",
       " <PrearchiveSession BrainTumorProg_copy/20200217_101920246/PGM-002_Feb17_MR_1>,\n",
       " <PrearchiveSession BrainTumorProg_copy/20200212_204058544/PGM-002_MR_1>,\n",
       " <PrearchiveSession BrainTumorProg_copy/20200217_101918136/PGM-002_Feb17_MR_1>,\n",
       " <PrearchiveSession BrainTumorProg_copy/20200212_215434501/PGM-002_MR_1>,\n",
       " <PrearchiveSession BrainTumorProg_copy/20200212_161330203/PGM_002_MR_1>,\n",
       " <PrearchiveSession BrainTumorProg_copy/20200212_162336865/PGM_002_MR_1>,\n",
       " <PrearchiveSession BrainTumorProg_copy/20200214_085602810/PGM-002_Feb14_MR_1>,\n",
       " <PrearchiveSession BrainTumorProg_copy/20200217_101916509/PGM-002_Feb17_MR_1>,\n",
       " <PrearchiveSession BrainTumorProg_copy/20200217_112831518/PGM-002_Feb17_MR_1>,\n",
       " <PrearchiveSession BrainTumorProg_copy/20200217_112833178/PGM-002_Feb17_MR_1>]"
      ]
     },
     "execution_count": 14,
     "metadata": {},
     "output_type": "execute_result"
    }
   ],
   "source": [
    "# Get a list of sessions waiting for archiving:\n",
    "\n",
    "session.prearchive.sessions()"
   ]
  },
  {
   "cell_type": "markdown",
   "metadata": {},
   "source": [
    "## Instead of selecting only the DICOMs that have UIDs within the ROI data simply upload them all:"
   ]
  },
  {
   "cell_type": "code",
   "execution_count": 8,
   "metadata": {},
   "outputs": [],
   "source": [
    "# Get the full filepaths of the DICOM files using the helper function (dc_filepaths(),\n",
    "# which uses natsort for creating the list with natural sorting):\n",
    "dicomFpaths = dicom_functions.dc_filepaths(dicomDLdir)"
   ]
  },
  {
   "cell_type": "markdown",
   "metadata": {},
   "source": [
    "#### Try uploading data to XNAT\n",
    "\n",
    "##### Note:  It should be possible to upload an entire directory of files but I'm not sure how, and for the benefit of working out what conditions need to be met to successfully upload an RTSTRUCT file, I'll only upload the DICOMs that have corresponding ROI contour data."
   ]
  },
  {
   "cell_type": "code",
   "execution_count": 29,
   "metadata": {},
   "outputs": [
    {
     "name": "stderr",
     "output_type": "stream",
     "text": [
      "[2020-02-18 17:03:53,921] DEBUG: session:661 >> UPLOAD URI http://10.1.1.17/data/services/import?dest=%2Fprearchive&project=BrainTumorProg_copy&subject=PGM-002_Feb18&session=PGM-002_Feb18_MR_1\n"
     ]
    },
    {
     "name": "stdout",
     "output_type": "stream",
     "text": [
      "Uploading file 1 of 22...\n"
     ]
    },
    {
     "name": "stderr",
     "output_type": "stream",
     "text": [
      "[2020-02-18 17:03:54,447] DEBUG: session:307 >> Received response with status code: 200\n",
      "[2020-02-18 17:03:54,448] DEBUG: session:661 >> UPLOAD URI http://10.1.1.17/data/services/import?dest=%2Fprearchive&project=BrainTumorProg_copy&subject=PGM-002_Feb18&session=PGM-002_Feb18_MR_1\n"
     ]
    },
    {
     "name": "stdout",
     "output_type": "stream",
     "text": [
      "Uploading file 2 of 22...\n"
     ]
    },
    {
     "name": "stderr",
     "output_type": "stream",
     "text": [
      "[2020-02-18 17:03:54,969] DEBUG: session:307 >> Received response with status code: 200\n",
      "[2020-02-18 17:03:54,971] DEBUG: session:661 >> UPLOAD URI http://10.1.1.17/data/services/import?dest=%2Fprearchive&project=BrainTumorProg_copy&subject=PGM-002_Feb18&session=PGM-002_Feb18_MR_1\n"
     ]
    },
    {
     "name": "stdout",
     "output_type": "stream",
     "text": [
      "Uploading file 3 of 22...\n"
     ]
    },
    {
     "name": "stderr",
     "output_type": "stream",
     "text": [
      "[2020-02-18 17:03:55,495] DEBUG: session:307 >> Received response with status code: 200\n",
      "[2020-02-18 17:03:55,496] DEBUG: session:661 >> UPLOAD URI http://10.1.1.17/data/services/import?dest=%2Fprearchive&project=BrainTumorProg_copy&subject=PGM-002_Feb18&session=PGM-002_Feb18_MR_1\n"
     ]
    },
    {
     "name": "stdout",
     "output_type": "stream",
     "text": [
      "Uploading file 4 of 22...\n"
     ]
    },
    {
     "name": "stderr",
     "output_type": "stream",
     "text": [
      "[2020-02-18 17:03:55,993] DEBUG: session:307 >> Received response with status code: 200\n",
      "[2020-02-18 17:03:55,995] DEBUG: session:661 >> UPLOAD URI http://10.1.1.17/data/services/import?dest=%2Fprearchive&project=BrainTumorProg_copy&subject=PGM-002_Feb18&session=PGM-002_Feb18_MR_1\n"
     ]
    },
    {
     "name": "stdout",
     "output_type": "stream",
     "text": [
      "Uploading file 5 of 22...\n"
     ]
    },
    {
     "name": "stderr",
     "output_type": "stream",
     "text": [
      "[2020-02-18 17:03:56,488] DEBUG: session:307 >> Received response with status code: 200\n",
      "[2020-02-18 17:03:56,489] DEBUG: session:661 >> UPLOAD URI http://10.1.1.17/data/services/import?dest=%2Fprearchive&project=BrainTumorProg_copy&subject=PGM-002_Feb18&session=PGM-002_Feb18_MR_1\n"
     ]
    },
    {
     "name": "stdout",
     "output_type": "stream",
     "text": [
      "Uploading file 6 of 22...\n"
     ]
    },
    {
     "name": "stderr",
     "output_type": "stream",
     "text": [
      "[2020-02-18 17:03:57,064] DEBUG: session:307 >> Received response with status code: 200\n",
      "[2020-02-18 17:03:57,066] DEBUG: session:661 >> UPLOAD URI http://10.1.1.17/data/services/import?dest=%2Fprearchive&project=BrainTumorProg_copy&subject=PGM-002_Feb18&session=PGM-002_Feb18_MR_1\n"
     ]
    },
    {
     "name": "stdout",
     "output_type": "stream",
     "text": [
      "Uploading file 7 of 22...\n"
     ]
    },
    {
     "name": "stderr",
     "output_type": "stream",
     "text": [
      "[2020-02-18 17:03:57,575] DEBUG: session:307 >> Received response with status code: 200\n",
      "[2020-02-18 17:03:57,577] DEBUG: session:661 >> UPLOAD URI http://10.1.1.17/data/services/import?dest=%2Fprearchive&project=BrainTumorProg_copy&subject=PGM-002_Feb18&session=PGM-002_Feb18_MR_1\n"
     ]
    },
    {
     "name": "stdout",
     "output_type": "stream",
     "text": [
      "Uploading file 8 of 22...\n"
     ]
    },
    {
     "name": "stderr",
     "output_type": "stream",
     "text": [
      "[2020-02-18 17:03:58,122] DEBUG: session:307 >> Received response with status code: 200\n",
      "[2020-02-18 17:03:58,123] DEBUG: session:661 >> UPLOAD URI http://10.1.1.17/data/services/import?dest=%2Fprearchive&project=BrainTumorProg_copy&subject=PGM-002_Feb18&session=PGM-002_Feb18_MR_1\n"
     ]
    },
    {
     "name": "stdout",
     "output_type": "stream",
     "text": [
      "Uploading file 9 of 22...\n"
     ]
    },
    {
     "name": "stderr",
     "output_type": "stream",
     "text": [
      "[2020-02-18 17:03:58,634] DEBUG: session:307 >> Received response with status code: 200\n",
      "[2020-02-18 17:03:58,636] DEBUG: session:661 >> UPLOAD URI http://10.1.1.17/data/services/import?dest=%2Fprearchive&project=BrainTumorProg_copy&subject=PGM-002_Feb18&session=PGM-002_Feb18_MR_1\n"
     ]
    },
    {
     "name": "stdout",
     "output_type": "stream",
     "text": [
      "Uploading file 10 of 22...\n"
     ]
    },
    {
     "name": "stderr",
     "output_type": "stream",
     "text": [
      "[2020-02-18 17:03:59,154] DEBUG: session:307 >> Received response with status code: 200\n",
      "[2020-02-18 17:03:59,154] DEBUG: session:661 >> UPLOAD URI http://10.1.1.17/data/services/import?dest=%2Fprearchive&project=BrainTumorProg_copy&subject=PGM-002_Feb18&session=PGM-002_Feb18_MR_1\n"
     ]
    },
    {
     "name": "stdout",
     "output_type": "stream",
     "text": [
      "Uploading file 11 of 22...\n"
     ]
    },
    {
     "name": "stderr",
     "output_type": "stream",
     "text": [
      "[2020-02-18 17:03:59,653] DEBUG: session:307 >> Received response with status code: 200\n",
      "[2020-02-18 17:03:59,654] DEBUG: session:661 >> UPLOAD URI http://10.1.1.17/data/services/import?dest=%2Fprearchive&project=BrainTumorProg_copy&subject=PGM-002_Feb18&session=PGM-002_Feb18_MR_1\n"
     ]
    },
    {
     "name": "stdout",
     "output_type": "stream",
     "text": [
      "Uploading file 12 of 22...\n"
     ]
    },
    {
     "name": "stderr",
     "output_type": "stream",
     "text": [
      "[2020-02-18 17:04:00,182] DEBUG: session:307 >> Received response with status code: 200\n",
      "[2020-02-18 17:04:00,184] DEBUG: session:661 >> UPLOAD URI http://10.1.1.17/data/services/import?dest=%2Fprearchive&project=BrainTumorProg_copy&subject=PGM-002_Feb18&session=PGM-002_Feb18_MR_1\n"
     ]
    },
    {
     "name": "stdout",
     "output_type": "stream",
     "text": [
      "Uploading file 13 of 22...\n"
     ]
    },
    {
     "name": "stderr",
     "output_type": "stream",
     "text": [
      "[2020-02-18 17:04:00,715] DEBUG: session:307 >> Received response with status code: 200\n",
      "[2020-02-18 17:04:00,717] DEBUG: session:661 >> UPLOAD URI http://10.1.1.17/data/services/import?dest=%2Fprearchive&project=BrainTumorProg_copy&subject=PGM-002_Feb18&session=PGM-002_Feb18_MR_1\n"
     ]
    },
    {
     "name": "stdout",
     "output_type": "stream",
     "text": [
      "Uploading file 14 of 22...\n"
     ]
    },
    {
     "name": "stderr",
     "output_type": "stream",
     "text": [
      "[2020-02-18 17:04:01,307] DEBUG: session:307 >> Received response with status code: 200\n",
      "[2020-02-18 17:04:01,310] DEBUG: session:661 >> UPLOAD URI http://10.1.1.17/data/services/import?dest=%2Fprearchive&project=BrainTumorProg_copy&subject=PGM-002_Feb18&session=PGM-002_Feb18_MR_1\n"
     ]
    },
    {
     "name": "stdout",
     "output_type": "stream",
     "text": [
      "Uploading file 15 of 22...\n"
     ]
    },
    {
     "name": "stderr",
     "output_type": "stream",
     "text": [
      "[2020-02-18 17:04:01,870] DEBUG: session:307 >> Received response with status code: 200\n",
      "[2020-02-18 17:04:01,871] DEBUG: session:661 >> UPLOAD URI http://10.1.1.17/data/services/import?dest=%2Fprearchive&project=BrainTumorProg_copy&subject=PGM-002_Feb18&session=PGM-002_Feb18_MR_1\n"
     ]
    },
    {
     "name": "stdout",
     "output_type": "stream",
     "text": [
      "Uploading file 16 of 22...\n"
     ]
    },
    {
     "name": "stderr",
     "output_type": "stream",
     "text": [
      "[2020-02-18 17:04:02,922] DEBUG: session:307 >> Received response with status code: 200\n",
      "[2020-02-18 17:04:02,926] DEBUG: session:661 >> UPLOAD URI http://10.1.1.17/data/services/import?dest=%2Fprearchive&project=BrainTumorProg_copy&subject=PGM-002_Feb18&session=PGM-002_Feb18_MR_1\n"
     ]
    },
    {
     "name": "stdout",
     "output_type": "stream",
     "text": [
      "Uploading file 17 of 22...\n"
     ]
    },
    {
     "name": "stderr",
     "output_type": "stream",
     "text": [
      "[2020-02-18 17:04:03,560] DEBUG: session:307 >> Received response with status code: 200\n",
      "[2020-02-18 17:04:03,563] DEBUG: session:661 >> UPLOAD URI http://10.1.1.17/data/services/import?dest=%2Fprearchive&project=BrainTumorProg_copy&subject=PGM-002_Feb18&session=PGM-002_Feb18_MR_1\n"
     ]
    },
    {
     "name": "stdout",
     "output_type": "stream",
     "text": [
      "Uploading file 18 of 22...\n"
     ]
    },
    {
     "name": "stderr",
     "output_type": "stream",
     "text": [
      "[2020-02-18 17:04:04,176] DEBUG: session:307 >> Received response with status code: 200\n",
      "[2020-02-18 17:04:04,180] DEBUG: session:661 >> UPLOAD URI http://10.1.1.17/data/services/import?dest=%2Fprearchive&project=BrainTumorProg_copy&subject=PGM-002_Feb18&session=PGM-002_Feb18_MR_1\n"
     ]
    },
    {
     "name": "stdout",
     "output_type": "stream",
     "text": [
      "Uploading file 19 of 22...\n"
     ]
    },
    {
     "name": "stderr",
     "output_type": "stream",
     "text": [
      "[2020-02-18 17:04:04,726] DEBUG: session:307 >> Received response with status code: 200\n",
      "[2020-02-18 17:04:04,728] DEBUG: session:661 >> UPLOAD URI http://10.1.1.17/data/services/import?dest=%2Fprearchive&project=BrainTumorProg_copy&subject=PGM-002_Feb18&session=PGM-002_Feb18_MR_1\n"
     ]
    },
    {
     "name": "stdout",
     "output_type": "stream",
     "text": [
      "Uploading file 20 of 22...\n"
     ]
    },
    {
     "name": "stderr",
     "output_type": "stream",
     "text": [
      "[2020-02-18 17:04:05,265] DEBUG: session:307 >> Received response with status code: 200\n",
      "[2020-02-18 17:04:05,266] DEBUG: session:661 >> UPLOAD URI http://10.1.1.17/data/services/import?dest=%2Fprearchive&project=BrainTumorProg_copy&subject=PGM-002_Feb18&session=PGM-002_Feb18_MR_1\n"
     ]
    },
    {
     "name": "stdout",
     "output_type": "stream",
     "text": [
      "Uploading file 21 of 22...\n"
     ]
    },
    {
     "name": "stderr",
     "output_type": "stream",
     "text": [
      "[2020-02-18 17:04:05,761] DEBUG: session:307 >> Received response with status code: 200\n",
      "[2020-02-18 17:04:05,763] DEBUG: session:661 >> UPLOAD URI http://10.1.1.17/data/services/import?dest=%2Fprearchive&project=BrainTumorProg_copy&subject=PGM-002_Feb18&session=PGM-002_Feb18_MR_1\n"
     ]
    },
    {
     "name": "stdout",
     "output_type": "stream",
     "text": [
      "Uploading file 22 of 22...\n"
     ]
    },
    {
     "name": "stderr",
     "output_type": "stream",
     "text": [
      "[2020-02-18 17:04:06,261] DEBUG: session:307 >> Received response with status code: 200\n"
     ]
    }
   ],
   "source": [
    "# Upload to the prearchive all DICOMs:\n",
    "for f in range(len(dicomFpaths)):\n",
    "    print(f'Uploading file {f+1} of {len(dicomFpaths)}...')\n",
    "    \n",
    "    prearchive_session = session.services.import_(dicomFpaths[f], \\\n",
    "                                                  project=projectLabel, \\\n",
    "                                                  subject=subjectLabel, \\\n",
    "                                                  experiment=experimentLabel, \\\n",
    "                                                  destination='/prearchive')"
   ]
  },
  {
   "cell_type": "code",
   "execution_count": 16,
   "metadata": {},
   "outputs": [
    {
     "name": "stderr",
     "output_type": "stream",
     "text": [
      "[2020-02-18 16:36:19,915] DEBUG: session:334 >> GET URI http://10.1.1.17/data/prearchive/projects?format=json\n",
      "[2020-02-18 16:36:19,952] DEBUG: session:307 >> Received response with status code: 200\n",
      "[2020-02-18 16:36:19,953] DEBUG: session:334 >> GET URI http://10.1.1.17/data/prearchive/projects/BrainTumorProg_copy/20200218_163529257/PGM_002_MR_1?format=json\n",
      "[2020-02-18 16:36:19,960] DEBUG: session:307 >> Received response with status code: 200\n",
      "[2020-02-18 16:36:19,961] DEBUG: session:334 >> GET URI http://10.1.1.17/data/prearchive/projects/BrainTumorProg_copy/20200218_163533097/PGM_002_MR_1?format=json\n",
      "[2020-02-18 16:36:19,972] DEBUG: session:307 >> Received response with status code: 200\n",
      "[2020-02-18 16:36:19,973] DEBUG: session:334 >> GET URI http://10.1.1.17/data/prearchive/projects/BrainTumorProg_copy/20200218_163531403/PGM_002_MR_1?format=json\n",
      "[2020-02-18 16:36:19,981] DEBUG: session:307 >> Received response with status code: 200\n",
      "[2020-02-18 16:36:19,982] DEBUG: session:334 >> GET URI http://10.1.1.17/data/prearchive/projects/BrainTumorProg_copy/20200218_163529798/PGM_002_MR_1?format=json\n",
      "[2020-02-18 16:36:19,990] DEBUG: session:307 >> Received response with status code: 200\n",
      "[2020-02-18 16:36:19,991] DEBUG: session:334 >> GET URI http://10.1.1.17/data/prearchive/projects/BrainTumorProg_copy/20200218_163528162/PGM_002_MR_1?format=json\n",
      "[2020-02-18 16:36:19,998] DEBUG: session:307 >> Received response with status code: 200\n",
      "[2020-02-18 16:36:19,999] DEBUG: session:334 >> GET URI http://10.1.1.17/data/prearchive/projects/BrainTumorProg_copy/20200218_163528708/PGM_002_MR_1?format=json\n",
      "[2020-02-18 16:36:20,017] DEBUG: session:307 >> Received response with status code: 200\n",
      "[2020-02-18 16:36:20,018] DEBUG: session:334 >> GET URI http://10.1.1.17/data/prearchive/projects/BrainTumorProg_copy/20200218_163530868/PGM_002_MR_1?format=json\n",
      "[2020-02-18 16:36:20,032] DEBUG: session:307 >> Received response with status code: 200\n",
      "[2020-02-18 16:36:20,034] DEBUG: session:334 >> GET URI http://10.1.1.17/data/prearchive/projects/BrainTumorProg_copy/20200218_163530326/PGM_002_MR_1?format=json\n",
      "[2020-02-18 16:36:20,044] DEBUG: session:307 >> Received response with status code: 200\n",
      "[2020-02-18 16:36:20,045] DEBUG: session:334 >> GET URI http://10.1.1.17/data/prearchive/projects/BrainTumorProg_copy/20200218_163532508/PGM_002_MR_1?format=json\n",
      "[2020-02-18 16:36:20,052] DEBUG: session:307 >> Received response with status code: 200\n",
      "[2020-02-18 16:36:20,053] DEBUG: session:334 >> GET URI http://10.1.1.17/data/prearchive/projects/BrainTumorProg_copy/20200218_163531934/PGM_002_MR_1?format=json\n",
      "[2020-02-18 16:36:20,065] DEBUG: session:307 >> Received response with status code: 200\n",
      "[2020-02-18 16:36:20,066] DEBUG: session:334 >> GET URI http://10.1.1.17/data/prearchive/projects/BrainTumorProg_copy/20200218_163533725/PGM_002_MR_1?format=json\n",
      "[2020-02-18 16:36:20,076] DEBUG: session:307 >> Received response with status code: 200\n",
      "[2020-02-18 16:36:20,077] DEBUG: session:334 >> GET URI http://10.1.1.17/data/prearchive/projects/BrainTumorProg_copy/20200218_163534273/PGM_002_MR_1?format=json\n",
      "[2020-02-18 16:36:20,092] DEBUG: session:307 >> Received response with status code: 200\n",
      "[2020-02-18 16:36:20,093] DEBUG: session:334 >> GET URI http://10.1.1.17/data/prearchive/projects/BrainTumorProg_copy/20200218_163534791/PGM_002_MR_1?format=json\n",
      "[2020-02-18 16:36:20,103] DEBUG: session:307 >> Received response with status code: 200\n",
      "[2020-02-18 16:36:20,105] DEBUG: session:334 >> GET URI http://10.1.1.17/data/prearchive/projects/BrainTumorProg_copy/20200218_163536897/PGM_002_MR_1?format=json\n",
      "[2020-02-18 16:36:20,118] DEBUG: session:307 >> Received response with status code: 200\n",
      "[2020-02-18 16:36:20,119] DEBUG: session:334 >> GET URI http://10.1.1.17/data/prearchive/projects/BrainTumorProg_copy/20200218_163535301/PGM_002_MR_1?format=json\n",
      "[2020-02-18 16:36:20,134] DEBUG: session:307 >> Received response with status code: 200\n",
      "[2020-02-18 16:36:20,135] DEBUG: session:334 >> GET URI http://10.1.1.17/data/prearchive/projects/BrainTumorProg_copy/20200218_163539493/PGM_002_MR_1?format=json\n",
      "[2020-02-18 16:36:20,150] DEBUG: session:307 >> Received response with status code: 200\n",
      "[2020-02-18 16:36:20,151] DEBUG: session:334 >> GET URI http://10.1.1.17/data/prearchive/projects/BrainTumorProg_copy/20200218_163538980/PGM_002_MR_1?format=json\n",
      "[2020-02-18 16:36:20,179] DEBUG: session:307 >> Received response with status code: 200\n",
      "[2020-02-18 16:36:20,180] DEBUG: session:334 >> GET URI http://10.1.1.17/data/prearchive/projects/BrainTumorProg_copy/20200218_163536370/PGM_002_MR_1?format=json\n",
      "[2020-02-18 16:36:20,198] DEBUG: session:307 >> Received response with status code: 200\n",
      "[2020-02-18 16:36:20,199] DEBUG: session:334 >> GET URI http://10.1.1.17/data/prearchive/projects/BrainTumorProg_copy/20200218_163538470/PGM_002_MR_1?format=json\n",
      "[2020-02-18 16:36:20,210] DEBUG: session:307 >> Received response with status code: 200\n",
      "[2020-02-18 16:36:20,211] DEBUG: session:334 >> GET URI http://10.1.1.17/data/prearchive/projects/BrainTumorProg_copy/20200218_163535836/PGM_002_MR_1?format=json\n",
      "[2020-02-18 16:36:20,236] DEBUG: session:307 >> Received response with status code: 200\n",
      "[2020-02-18 16:36:20,238] DEBUG: session:334 >> GET URI http://10.1.1.17/data/prearchive/projects/BrainTumorProg_copy/20200218_163537942/PGM_002_MR_1?format=json\n",
      "[2020-02-18 16:36:20,251] DEBUG: session:307 >> Received response with status code: 200\n",
      "[2020-02-18 16:36:20,252] DEBUG: session:334 >> GET URI http://10.1.1.17/data/prearchive/projects/BrainTumorProg_copy/20200218_163537415/PGM_002_MR_1?format=json\n",
      "[2020-02-18 16:36:20,275] DEBUG: session:307 >> Received response with status code: 200\n"
     ]
    },
    {
     "data": {
      "text/plain": [
       "[<PrearchiveSession BrainTumorProg_copy/20200218_163529257/PGM-002_Feb18_MR_1>,\n",
       " <PrearchiveSession BrainTumorProg_copy/20200217_144817230/PGM-002_Feb17_MR_1>,\n",
       " <PrearchiveSession BrainTumorProg_copy/20200218_163533097/PGM-002_Feb18_MR_1>,\n",
       " <PrearchiveSession BrainTumorProg_copy/20200206_152623716/PGM_002_MR_1>,\n",
       " <PrearchiveSession BrainTumorProg_copy/20200207_144303310/PGM_002_MR_1>,\n",
       " <PrearchiveSession BrainTumorProg_copy/20200218_163531403/PGM-002_Feb18_MR_1>,\n",
       " <PrearchiveSession BrainTumorProg_copy/20200218_163529798/PGM-002_Feb18_MR_1>,\n",
       " <PrearchiveSession BrainTumorProg_copy/20200217_101919731/PGM-002_Feb17_MR_1>,\n",
       " <PrearchiveSession BrainTumorProg_copy/20200218_163528162/PGM-002_Feb18_MR_1>,\n",
       " <PrearchiveSession BrainTumorProg_copy/20200212_213423578/PGM-002_MR_1>,\n",
       " <PrearchiveSession BrainTumorProg_copy/20200217_101920246/PGM-002_Feb17_MR_1>,\n",
       " <PrearchiveSession BrainTumorProg_copy/20200212_204058544/PGM-002_MR_1>,\n",
       " <PrearchiveSession BrainTumorProg_copy/20200217_101918136/PGM-002_Feb17_MR_1>,\n",
       " <PrearchiveSession BrainTumorProg_copy/20200212_215434501/PGM-002_MR_1>,\n",
       " <PrearchiveSession BrainTumorProg_copy/20200218_163528708/PGM-002_Feb18_MR_1>,\n",
       " <PrearchiveSession BrainTumorProg_copy/20200212_161330203/PGM_002_MR_1>,\n",
       " <PrearchiveSession BrainTumorProg_copy/20200212_162336865/PGM_002_MR_1>,\n",
       " <PrearchiveSession BrainTumorProg_copy/20200214_085602810/PGM-002_Feb14_MR_1>,\n",
       " <PrearchiveSession BrainTumorProg_copy/20200218_163530868/PGM-002_Feb18_MR_1>,\n",
       " <PrearchiveSession BrainTumorProg_copy/20200218_163530326/PGM-002_Feb18_MR_1>,\n",
       " <PrearchiveSession BrainTumorProg_copy/20200218_163532508/PGM-002_Feb18_MR_1>,\n",
       " <PrearchiveSession BrainTumorProg_copy/20200218_163531934/PGM-002_Feb18_MR_1>,\n",
       " <PrearchiveSession BrainTumorProg_copy/20200218_163533725/PGM-002_Feb18_MR_1>,\n",
       " <PrearchiveSession BrainTumorProg_copy/20200218_163534273/PGM-002_Feb18_MR_1>,\n",
       " <PrearchiveSession BrainTumorProg_copy/20200218_163534791/PGM-002_Feb18_MR_1>,\n",
       " <PrearchiveSession BrainTumorProg_copy/20200218_163536897/PGM-002_Feb18_MR_1>,\n",
       " <PrearchiveSession BrainTumorProg_copy/20200218_163535301/PGM-002_Feb18_MR_1>,\n",
       " <PrearchiveSession BrainTumorProg_copy/20200218_163539493/PGM-002_Feb18_MR_1>,\n",
       " <PrearchiveSession BrainTumorProg_copy/20200218_163538980/PGM-002_Feb18_MR_1>,\n",
       " <PrearchiveSession BrainTumorProg_copy/20200218_163536370/PGM-002_Feb18_MR_1>,\n",
       " <PrearchiveSession BrainTumorProg_copy/20200218_163538470/PGM-002_Feb18_MR_1>,\n",
       " <PrearchiveSession BrainTumorProg_copy/20200217_101916509/PGM-002_Feb17_MR_1>,\n",
       " <PrearchiveSession BrainTumorProg_copy/20200217_112831518/PGM-002_Feb17_MR_1>,\n",
       " <PrearchiveSession BrainTumorProg_copy/20200218_163535836/PGM-002_Feb18_MR_1>,\n",
       " <PrearchiveSession BrainTumorProg_copy/20200218_163537942/PGM-002_Feb18_MR_1>,\n",
       " <PrearchiveSession BrainTumorProg_copy/20200217_112833178/PGM-002_Feb17_MR_1>,\n",
       " <PrearchiveSession BrainTumorProg_copy/20200218_163537415/PGM-002_Feb18_MR_1>]"
      ]
     },
     "execution_count": 16,
     "metadata": {},
     "output_type": "execute_result"
    }
   ],
   "source": [
    "# Get a list of sessions waiting for archiving:\n",
    "\n",
    "session.prearchive.sessions()"
   ]
  },
  {
   "cell_type": "code",
   "execution_count": 17,
   "metadata": {},
   "outputs": [
    {
     "name": "stderr",
     "output_type": "stream",
     "text": [
      "[2020-02-18 16:36:35,229] DEBUG: session:334 >> GET URI http://10.1.1.17/data/prearchive/projects?format=json\n",
      "[2020-02-18 16:36:35,243] DEBUG: session:307 >> Received response with status code: 200\n"
     ]
    },
    {
     "data": {
      "text/plain": [
       "[<PrearchiveSession BrainTumorProg_copy/20200218_163529257/PGM-002_Feb18_MR_1>,\n",
       " <PrearchiveSession BrainTumorProg_copy/20200217_144817230/PGM-002_Feb17_MR_1>,\n",
       " <PrearchiveSession BrainTumorProg_copy/20200218_163533097/PGM-002_Feb18_MR_1>,\n",
       " <PrearchiveSession BrainTumorProg_copy/20200218_163531403/PGM-002_Feb18_MR_1>,\n",
       " <PrearchiveSession BrainTumorProg_copy/20200218_163529798/PGM-002_Feb18_MR_1>,\n",
       " <PrearchiveSession BrainTumorProg_copy/20200218_163528162/PGM-002_Feb18_MR_1>,\n",
       " <PrearchiveSession BrainTumorProg_copy/20200218_163528708/PGM-002_Feb18_MR_1>,\n",
       " <PrearchiveSession BrainTumorProg_copy/20200214_085602810/PGM-002_Feb14_MR_1>,\n",
       " <PrearchiveSession BrainTumorProg_copy/20200218_163530868/PGM-002_Feb18_MR_1>,\n",
       " <PrearchiveSession BrainTumorProg_copy/20200218_163530326/PGM-002_Feb18_MR_1>,\n",
       " <PrearchiveSession BrainTumorProg_copy/20200218_163532508/PGM-002_Feb18_MR_1>,\n",
       " <PrearchiveSession BrainTumorProg_copy/20200218_163531934/PGM-002_Feb18_MR_1>,\n",
       " <PrearchiveSession BrainTumorProg_copy/20200218_163533725/PGM-002_Feb18_MR_1>,\n",
       " <PrearchiveSession BrainTumorProg_copy/20200218_163534273/PGM-002_Feb18_MR_1>,\n",
       " <PrearchiveSession BrainTumorProg_copy/20200218_163534791/PGM-002_Feb18_MR_1>,\n",
       " <PrearchiveSession BrainTumorProg_copy/20200218_163536897/PGM-002_Feb18_MR_1>,\n",
       " <PrearchiveSession BrainTumorProg_copy/20200218_163535301/PGM-002_Feb18_MR_1>,\n",
       " <PrearchiveSession BrainTumorProg_copy/20200218_163539493/PGM-002_Feb18_MR_1>,\n",
       " <PrearchiveSession BrainTumorProg_copy/20200218_163538980/PGM-002_Feb18_MR_1>,\n",
       " <PrearchiveSession BrainTumorProg_copy/20200218_163536370/PGM-002_Feb18_MR_1>,\n",
       " <PrearchiveSession BrainTumorProg_copy/20200218_163538470/PGM-002_Feb18_MR_1>,\n",
       " <PrearchiveSession BrainTumorProg_copy/20200218_163535836/PGM-002_Feb18_MR_1>,\n",
       " <PrearchiveSession BrainTumorProg_copy/20200218_163537942/PGM-002_Feb18_MR_1>,\n",
       " <PrearchiveSession BrainTumorProg_copy/20200218_163537415/PGM-002_Feb18_MR_1>]"
      ]
     },
     "execution_count": 17,
     "metadata": {},
     "output_type": "execute_result"
    }
   ],
   "source": [
    "session.prearchive.find(status='READY')"
   ]
  },
  {
   "cell_type": "code",
   "execution_count": 20,
   "metadata": {},
   "outputs": [
    {
     "name": "stderr",
     "output_type": "stream",
     "text": [
      "[2020-02-18 16:40:48,035] DEBUG: session:334 >> GET URI http://10.1.1.17/data/prearchive/projects?format=json\n",
      "[2020-02-18 16:40:48,059] DEBUG: session:307 >> Received response with status code: 200\n"
     ]
    },
    {
     "data": {
      "text/plain": [
       "[<PrearchiveSession BrainTumorProg_copy/20200218_163529257/PGM-002_Feb18_MR_1>,\n",
       " <PrearchiveSession BrainTumorProg_copy/20200218_163533097/PGM-002_Feb18_MR_1>,\n",
       " <PrearchiveSession BrainTumorProg_copy/20200218_163531403/PGM-002_Feb18_MR_1>,\n",
       " <PrearchiveSession BrainTumorProg_copy/20200218_163529798/PGM-002_Feb18_MR_1>,\n",
       " <PrearchiveSession BrainTumorProg_copy/20200218_163528162/PGM-002_Feb18_MR_1>,\n",
       " <PrearchiveSession BrainTumorProg_copy/20200218_163528708/PGM-002_Feb18_MR_1>,\n",
       " <PrearchiveSession BrainTumorProg_copy/20200218_163530868/PGM-002_Feb18_MR_1>,\n",
       " <PrearchiveSession BrainTumorProg_copy/20200218_163530326/PGM-002_Feb18_MR_1>,\n",
       " <PrearchiveSession BrainTumorProg_copy/20200218_163532508/PGM-002_Feb18_MR_1>,\n",
       " <PrearchiveSession BrainTumorProg_copy/20200218_163531934/PGM-002_Feb18_MR_1>,\n",
       " <PrearchiveSession BrainTumorProg_copy/20200218_163533725/PGM-002_Feb18_MR_1>,\n",
       " <PrearchiveSession BrainTumorProg_copy/20200218_163534273/PGM-002_Feb18_MR_1>,\n",
       " <PrearchiveSession BrainTumorProg_copy/20200218_163534791/PGM-002_Feb18_MR_1>,\n",
       " <PrearchiveSession BrainTumorProg_copy/20200218_163536897/PGM-002_Feb18_MR_1>,\n",
       " <PrearchiveSession BrainTumorProg_copy/20200218_163535301/PGM-002_Feb18_MR_1>,\n",
       " <PrearchiveSession BrainTumorProg_copy/20200218_163539493/PGM-002_Feb18_MR_1>,\n",
       " <PrearchiveSession BrainTumorProg_copy/20200218_163538980/PGM-002_Feb18_MR_1>,\n",
       " <PrearchiveSession BrainTumorProg_copy/20200218_163536370/PGM-002_Feb18_MR_1>,\n",
       " <PrearchiveSession BrainTumorProg_copy/20200218_163538470/PGM-002_Feb18_MR_1>,\n",
       " <PrearchiveSession BrainTumorProg_copy/20200218_163535836/PGM-002_Feb18_MR_1>,\n",
       " <PrearchiveSession BrainTumorProg_copy/20200218_163537942/PGM-002_Feb18_MR_1>,\n",
       " <PrearchiveSession BrainTumorProg_copy/20200218_163537415/PGM-002_Feb18_MR_1>]"
      ]
     },
     "execution_count": 20,
     "metadata": {},
     "output_type": "execute_result"
    }
   ],
   "source": [
    "# Get a list of the files in the prearchive that have READY status \n",
    "# and the session label experimentLabel:\n",
    "session.prearchive.find(status='READY', session=experimentLabel)"
   ]
  },
  {
   "cell_type": "code",
   "execution_count": 21,
   "metadata": {},
   "outputs": [],
   "source": [
    "# Delete select files from the prearchive:\n",
    "# This could be useful but don't know how to delete by Upload date...\n",
    "\n",
    "#session.prearchive.PrearchiveSession.uploaded()"
   ]
  },
  {
   "cell_type": "code",
   "execution_count": 22,
   "metadata": {},
   "outputs": [],
   "source": [
    "#session.prearchive.find(project=projectLabel, subject=subjectLabel, session=experimentLabel, status='READY')"
   ]
  },
  {
   "cell_type": "code",
   "execution_count": 31,
   "metadata": {},
   "outputs": [
    {
     "name": "stderr",
     "output_type": "stream",
     "text": [
      "[2020-02-18 17:07:21,078] DEBUG: session:334 >> GET URI http://10.1.1.17/data/prearchive/projects/BrainTumorProg_copy?format=json\n",
      "[2020-02-18 17:07:21,106] DEBUG: session:307 >> Received response with status code: 200\n",
      "[2020-02-18 17:07:21,108] DEBUG: session:334 >> GET URI http://10.1.1.17/data/prearchive/projects/BrainTumorProg_copy/20200218_170354463/PGM_002_MR_1?format=json\n",
      "[2020-02-18 17:07:21,116] DEBUG: session:307 >> Received response with status code: 200\n",
      "[2020-02-18 17:07:21,117] DEBUG: session:334 >> GET URI http://10.1.1.17/data/prearchive/projects/BrainTumorProg_copy/20200218_170358123/PGM_002_MR_1?format=json\n",
      "[2020-02-18 17:07:21,125] DEBUG: session:307 >> Received response with status code: 200\n",
      "[2020-02-18 17:07:21,126] DEBUG: session:334 >> GET URI http://10.1.1.17/data/prearchive/projects/BrainTumorProg_copy/20200218_170356545/PGM_002_MR_1?format=json\n",
      "[2020-02-18 17:07:21,133] DEBUG: session:307 >> Received response with status code: 200\n",
      "[2020-02-18 17:07:21,134] DEBUG: session:334 >> GET URI http://10.1.1.17/data/prearchive/projects/BrainTumorProg_copy/20200218_170354975/PGM_002_MR_1?format=json\n",
      "[2020-02-18 17:07:21,141] DEBUG: session:307 >> Received response with status code: 200\n",
      "[2020-02-18 17:07:21,142] DEBUG: session:334 >> GET URI http://10.1.1.17/data/prearchive/projects/BrainTumorProg_copy/20200218_170353407/PGM_002_MR_1?format=json\n",
      "[2020-02-18 17:07:21,151] DEBUG: session:307 >> Received response with status code: 200\n",
      "[2020-02-18 17:07:21,152] DEBUG: session:334 >> GET URI http://10.1.1.17/data/prearchive/projects/BrainTumorProg_copy/20200218_170353927/PGM_002_MR_1?format=json\n",
      "[2020-02-18 17:07:21,161] DEBUG: session:307 >> Received response with status code: 200\n",
      "[2020-02-18 17:07:21,162] DEBUG: session:334 >> GET URI http://10.1.1.17/data/prearchive/projects/BrainTumorProg_copy/20200218_170355982/PGM_002_MR_1?format=json\n",
      "[2020-02-18 17:07:21,169] DEBUG: session:307 >> Received response with status code: 200\n",
      "[2020-02-18 17:07:21,169] DEBUG: session:334 >> GET URI http://10.1.1.17/data/prearchive/projects/BrainTumorProg_copy/20200218_170355475/PGM_002_MR_1?format=json\n",
      "[2020-02-18 17:07:21,180] DEBUG: session:307 >> Received response with status code: 200\n",
      "[2020-02-18 17:07:21,181] DEBUG: session:334 >> GET URI http://10.1.1.17/data/prearchive/projects/BrainTumorProg_copy/20200218_170357605/PGM_002_MR_1?format=json\n",
      "[2020-02-18 17:07:21,189] DEBUG: session:307 >> Received response with status code: 200\n",
      "[2020-02-18 17:07:21,190] DEBUG: session:334 >> GET URI http://10.1.1.17/data/prearchive/projects/BrainTumorProg_copy/20200218_170357070/PGM_002_MR_1?format=json\n",
      "[2020-02-18 17:07:21,197] DEBUG: session:307 >> Received response with status code: 200\n",
      "[2020-02-18 17:07:21,198] DEBUG: session:334 >> GET URI http://10.1.1.17/data/prearchive/projects/BrainTumorProg_copy/20200218_170358634/PGM_002_MR_1?format=json\n",
      "[2020-02-18 17:07:21,204] DEBUG: session:307 >> Received response with status code: 200\n",
      "[2020-02-18 17:07:21,205] DEBUG: session:334 >> GET URI http://10.1.1.17/data/prearchive/projects/BrainTumorProg_copy/20200218_170359133/PGM_002_MR_1?format=json\n",
      "[2020-02-18 17:07:21,215] DEBUG: session:307 >> Received response with status code: 200\n",
      "[2020-02-18 17:07:21,216] DEBUG: session:334 >> GET URI http://10.1.1.17/data/prearchive/projects/BrainTumorProg_copy/20200218_170359662/PGM_002_MR_1?format=json\n",
      "[2020-02-18 17:07:21,223] DEBUG: session:307 >> Received response with status code: 200\n",
      "[2020-02-18 17:07:21,224] DEBUG: session:334 >> GET URI http://10.1.1.17/data/prearchive/projects/BrainTumorProg_copy/20200218_170400793/PGM_002_MR_1?format=json\n",
      "[2020-02-18 17:07:21,231] DEBUG: session:307 >> Received response with status code: 200\n",
      "[2020-02-18 17:07:21,232] DEBUG: session:334 >> GET URI http://10.1.1.17/data/prearchive/projects/BrainTumorProg_copy/20200218_170400221/PGM_002_MR_1?format=json\n",
      "[2020-02-18 17:07:21,238] DEBUG: session:307 >> Received response with status code: 200\n",
      "[2020-02-18 17:07:21,239] DEBUG: session:334 >> GET URI http://10.1.1.17/data/prearchive/projects/BrainTumorProg_copy/20200218_170402408/PGM_002_MR_1?format=json\n",
      "[2020-02-18 17:07:21,247] DEBUG: session:307 >> Received response with status code: 200\n",
      "[2020-02-18 17:07:21,248] DEBUG: session:334 >> GET URI http://10.1.1.17/data/prearchive/projects/BrainTumorProg_copy/20200218_170405241/PGM_002_MR_1?format=json\n",
      "[2020-02-18 17:07:21,262] DEBUG: session:307 >> Received response with status code: 200\n",
      "[2020-02-18 17:07:21,263] DEBUG: session:334 >> GET URI http://10.1.1.17/data/prearchive/projects/BrainTumorProg_copy/20200218_170403661/PGM_002_MR_1?format=json\n",
      "[2020-02-18 17:07:21,270] DEBUG: session:307 >> Received response with status code: 200\n",
      "[2020-02-18 17:07:21,271] DEBUG: session:334 >> GET URI http://10.1.1.17/data/prearchive/projects/BrainTumorProg_copy/20200218_170401372/PGM_002_MR_1?format=json\n",
      "[2020-02-18 17:07:21,286] DEBUG: session:307 >> Received response with status code: 200\n",
      "[2020-02-18 17:07:21,287] DEBUG: session:334 >> GET URI http://10.1.1.17/data/prearchive/projects/BrainTumorProg_copy/20200218_170404748/PGM_002_MR_1?format=json\n",
      "[2020-02-18 17:07:21,298] DEBUG: session:307 >> Received response with status code: 200\n",
      "[2020-02-18 17:07:21,299] DEBUG: session:334 >> GET URI http://10.1.1.17/data/prearchive/projects/BrainTumorProg_copy/20200218_170403047/PGM_002_MR_1?format=json\n",
      "[2020-02-18 17:07:21,309] DEBUG: session:307 >> Received response with status code: 200\n",
      "[2020-02-18 17:07:21,312] DEBUG: session:334 >> GET URI http://10.1.1.17/data/prearchive/projects/BrainTumorProg_copy/20200218_170404212/PGM_002_MR_1?format=json\n",
      "[2020-02-18 17:07:21,325] DEBUG: session:307 >> Received response with status code: 200\n"
     ]
    }
   ],
   "source": [
    "# Create a session of the files within the prearchive that I want to archive:\n",
    "prearchive_session_to_archive = session.prearchive.find(project=projectLabel, \\\n",
    "                                                        subject=subjectLabel, \\\n",
    "                                                        session=experimentLabel, \\\n",
    "                                                        status='READY')"
   ]
  },
  {
   "cell_type": "code",
   "execution_count": 34,
   "metadata": {},
   "outputs": [
    {
     "name": "stderr",
     "output_type": "stream",
     "text": [
      "[2020-02-19 11:05:18,629] DEBUG: session:334 >> GET URI http://10.1.1.17/data/prearchive/projects?format=json\n",
      "[2020-02-19 11:05:18,658] DEBUG: session:307 >> Received response with status code: 200\n",
      "[2020-02-19 11:05:18,660] DEBUG: session:334 >> GET URI http://10.1.1.17/data/prearchive/projects/BrainTumorProg_copy/20200218_163534273/PGM-002_Feb18_MR_1?format=json\n",
      "[2020-02-19 11:05:18,674] DEBUG: session:307 >> Received response with status code: 200\n",
      "[2020-02-19 11:05:18,675] DEBUG: session:334 >> GET URI http://10.1.1.17/data/prearchive/projects/BrainTumorProg_copy/20200218_170358123/PGM-002_Feb18_MR_1?format=json\n",
      "[2020-02-19 11:05:18,694] DEBUG: session:307 >> Received response with status code: 200\n",
      "[2020-02-19 11:05:18,695] DEBUG: session:334 >> GET URI http://10.1.1.17/data/prearchive/projects/BrainTumorProg_copy/20200218_163533097/PGM-002_Feb18_MR_1?format=json\n",
      "[2020-02-19 11:05:18,706] DEBUG: session:307 >> Received response with status code: 200\n",
      "[2020-02-19 11:05:18,707] DEBUG: session:334 >> GET URI http://10.1.1.17/data/prearchive/projects/BrainTumorProg_copy/20200218_163533725/PGM-002_Feb18_MR_1?format=json\n",
      "[2020-02-19 11:05:18,718] DEBUG: session:307 >> Received response with status code: 200\n",
      "[2020-02-19 11:05:18,719] DEBUG: session:334 >> GET URI http://10.1.1.17/data/prearchive/projects/BrainTumorProg_copy/20200218_163539493/PGM-002_Feb18_MR_1?format=json\n",
      "[2020-02-19 11:05:18,735] DEBUG: session:307 >> Received response with status code: 200\n",
      "[2020-02-19 11:05:18,736] DEBUG: session:334 >> GET URI http://10.1.1.17/data/prearchive/projects/BrainTumorProg_copy/20200218_163528708/PGM-002_Feb18_MR_1?format=json\n",
      "[2020-02-19 11:05:18,747] DEBUG: session:307 >> Received response with status code: 200\n",
      "[2020-02-19 11:05:18,748] DEBUG: session:334 >> GET URI http://10.1.1.17/data/prearchive/projects/BrainTumorProg_copy/20200218_163536370/PGM-002_Feb18_MR_1?format=json\n",
      "[2020-02-19 11:05:18,761] DEBUG: session:307 >> Received response with status code: 200\n",
      "[2020-02-19 11:05:18,762] DEBUG: session:334 >> GET URI http://10.1.1.17/data/prearchive/projects/BrainTumorProg_copy/20200218_163534791/PGM-002_Feb18_MR_1?format=json\n",
      "[2020-02-19 11:05:18,771] DEBUG: session:307 >> Received response with status code: 200\n",
      "[2020-02-19 11:05:18,772] DEBUG: session:334 >> GET URI http://10.1.1.17/data/prearchive/projects/BrainTumorProg_copy/20200218_163535836/PGM-002_Feb18_MR_1?format=json\n",
      "[2020-02-19 11:05:18,785] DEBUG: session:307 >> Received response with status code: 200\n",
      "[2020-02-19 11:05:18,786] DEBUG: session:334 >> GET URI http://10.1.1.17/data/prearchive/projects/BrainTumorProg_copy/20200218_163529798/PGM-002_Feb18_MR_1?format=json\n",
      "[2020-02-19 11:05:18,802] DEBUG: session:307 >> Received response with status code: 200\n",
      "[2020-02-19 11:05:18,803] DEBUG: session:334 >> GET URI http://10.1.1.17/data/prearchive/projects/BrainTumorProg_copy/20200218_163538980/PGM-002_Feb18_MR_1?format=json\n",
      "[2020-02-19 11:05:18,816] DEBUG: session:307 >> Received response with status code: 200\n",
      "[2020-02-19 11:05:18,817] DEBUG: session:334 >> GET URI http://10.1.1.17/data/prearchive/projects/BrainTumorProg_copy/20200218_163529257/PGM-002_Feb18_MR_1?format=json\n",
      "[2020-02-19 11:05:18,838] DEBUG: session:307 >> Received response with status code: 200\n",
      "[2020-02-19 11:05:18,839] DEBUG: session:334 >> GET URI http://10.1.1.17/data/prearchive/projects/BrainTumorProg_copy/20200218_163531934/PGM-002_Feb18_MR_1?format=json\n",
      "[2020-02-19 11:05:18,856] DEBUG: session:307 >> Received response with status code: 200\n",
      "[2020-02-19 11:05:18,857] DEBUG: session:334 >> GET URI http://10.1.1.17/data/prearchive/projects/BrainTumorProg_copy/20200218_163532508/PGM-002_Feb18_MR_1?format=json\n",
      "[2020-02-19 11:05:18,873] DEBUG: session:307 >> Received response with status code: 200\n",
      "[2020-02-19 11:05:18,874] DEBUG: session:334 >> GET URI http://10.1.1.17/data/prearchive/projects/BrainTumorProg_copy/20200218_163536897/PGM-002_Feb18_MR_1?format=json\n",
      "[2020-02-19 11:05:18,886] DEBUG: session:307 >> Received response with status code: 200\n",
      "[2020-02-19 11:05:18,887] DEBUG: session:334 >> GET URI http://10.1.1.17/data/prearchive/projects/BrainTumorProg_copy/20200218_163535301/PGM-002_Feb18_MR_1?format=json\n",
      "[2020-02-19 11:05:18,907] DEBUG: session:307 >> Received response with status code: 200\n",
      "[2020-02-19 11:05:18,908] DEBUG: session:334 >> GET URI http://10.1.1.17/data/prearchive/projects/BrainTumorProg_copy/20200218_163537415/PGM-002_Feb18_MR_1?format=json\n",
      "[2020-02-19 11:05:18,925] DEBUG: session:307 >> Received response with status code: 200\n",
      "[2020-02-19 11:05:18,926] DEBUG: session:334 >> GET URI http://10.1.1.17/data/prearchive/projects/BrainTumorProg_copy/20200218_163528162/PGM-002_Feb18_MR_1?format=json\n",
      "[2020-02-19 11:05:18,952] DEBUG: session:307 >> Received response with status code: 200\n",
      "[2020-02-19 11:05:18,954] DEBUG: session:334 >> GET URI http://10.1.1.17/data/prearchive/projects/BrainTumorProg_copy/20200218_163531403/PGM-002_Feb18_MR_1?format=json\n",
      "[2020-02-19 11:05:18,967] DEBUG: session:307 >> Received response with status code: 200\n",
      "[2020-02-19 11:05:18,968] DEBUG: session:334 >> GET URI http://10.1.1.17/data/prearchive/projects/BrainTumorProg_copy/20200218_163538470/PGM-002_Feb18_MR_1?format=json\n",
      "[2020-02-19 11:05:18,988] DEBUG: session:307 >> Received response with status code: 200\n",
      "[2020-02-19 11:05:18,990] DEBUG: session:334 >> GET URI http://10.1.1.17/data/prearchive/projects/BrainTumorProg_copy/20200218_163530868/PGM-002_Feb18_MR_1?format=json\n",
      "[2020-02-19 11:05:19,006] DEBUG: session:307 >> Received response with status code: 200\n",
      "[2020-02-19 11:05:19,007] DEBUG: session:334 >> GET URI http://10.1.1.17/data/prearchive/projects/BrainTumorProg_copy/20200218_163537942/PGM-002_Feb18_MR_1?format=json\n",
      "[2020-02-19 11:05:19,031] DEBUG: session:307 >> Received response with status code: 200\n",
      "[2020-02-19 11:05:19,032] DEBUG: session:334 >> GET URI http://10.1.1.17/data/prearchive/projects/BrainTumorProg_copy/20200218_163530326/PGM-002_Feb18_MR_1?format=json\n",
      "[2020-02-19 11:05:19,059] DEBUG: session:307 >> Received response with status code: 200\n"
     ]
    },
    {
     "data": {
      "text/plain": [
       "[<PrearchiveSession BrainTumorProg_copy/20200218_170358123/PGM-002_Feb18_MR_1>,\n",
       " <PrearchiveSession BrainTumorProg_copy/20200218_170356545/PGM-002_Feb18_MR_1>,\n",
       " <PrearchiveSession BrainTumorProg_copy/20200218_170354975/PGM-002_Feb18_MR_1>,\n",
       " <PrearchiveSession BrainTumorProg_copy/20200218_170353407/PGM-002_Feb18_MR_1>,\n",
       " <PrearchiveSession BrainTumorProg_copy/20200218_170353927/PGM-002_Feb18_MR_1>,\n",
       " <PrearchiveSession BrainTumorProg_copy/20200218_170355982/PGM-002_Feb18_MR_1>,\n",
       " <PrearchiveSession BrainTumorProg_copy/20200218_170355475/PGM-002_Feb18_MR_1>,\n",
       " <PrearchiveSession BrainTumorProg_copy/20200218_170357605/PGM-002_Feb18_MR_1>,\n",
       " <PrearchiveSession BrainTumorProg_copy/20200218_170357070/PGM-002_Feb18_MR_1>,\n",
       " <PrearchiveSession BrainTumorProg_copy/20200218_170358634/PGM-002_Feb18_MR_1>,\n",
       " <PrearchiveSession BrainTumorProg_copy/20200218_170359133/PGM-002_Feb18_MR_1>,\n",
       " <PrearchiveSession BrainTumorProg_copy/20200218_170359662/PGM-002_Feb18_MR_1>,\n",
       " <PrearchiveSession BrainTumorProg_copy/20200218_170400793/PGM-002_Feb18_MR_1>,\n",
       " <PrearchiveSession BrainTumorProg_copy/20200218_170400221/PGM-002_Feb18_MR_1>,\n",
       " <PrearchiveSession BrainTumorProg_copy/20200218_163534273/PGM-002_Feb18_MR_1>,\n",
       " <PrearchiveSession BrainTumorProg_copy/20200218_170358123/PGM-002_Feb18_MR_1>,\n",
       " <PrearchiveSession BrainTumorProg_copy/20200218_163533097/PGM-002_Feb18_MR_1>,\n",
       " <PrearchiveSession BrainTumorProg_copy/20200218_163533725/PGM-002_Feb18_MR_1>,\n",
       " <PrearchiveSession BrainTumorProg_copy/20200218_163539493/PGM-002_Feb18_MR_1>,\n",
       " <PrearchiveSession BrainTumorProg_copy/20200218_163528708/PGM-002_Feb18_MR_1>,\n",
       " <PrearchiveSession BrainTumorProg_copy/20200218_163536370/PGM-002_Feb18_MR_1>,\n",
       " <PrearchiveSession BrainTumorProg_copy/20200218_163534791/PGM-002_Feb18_MR_1>,\n",
       " <PrearchiveSession BrainTumorProg_copy/20200218_163535836/PGM-002_Feb18_MR_1>,\n",
       " <PrearchiveSession BrainTumorProg_copy/20200218_163529798/PGM-002_Feb18_MR_1>,\n",
       " <PrearchiveSession BrainTumorProg_copy/20200218_163538980/PGM-002_Feb18_MR_1>,\n",
       " <PrearchiveSession BrainTumorProg_copy/20200218_163529257/PGM-002_Feb18_MR_1>,\n",
       " <PrearchiveSession BrainTumorProg_copy/20200218_163531934/PGM-002_Feb18_MR_1>,\n",
       " <PrearchiveSession BrainTumorProg_copy/20200218_170402408/PGM-002_Feb18_MR_1>,\n",
       " <PrearchiveSession BrainTumorProg_copy/20200218_170405241/PGM-002_Feb18_MR_1>,\n",
       " <PrearchiveSession BrainTumorProg_copy/20200218_170403661/PGM-002_Feb18_MR_1>,\n",
       " <PrearchiveSession BrainTumorProg_copy/20200218_163532508/PGM-002_Feb18_MR_1>,\n",
       " <PrearchiveSession BrainTumorProg_copy/20200218_163536897/PGM-002_Feb18_MR_1>,\n",
       " <PrearchiveSession BrainTumorProg_copy/20200218_163535301/PGM-002_Feb18_MR_1>,\n",
       " <PrearchiveSession BrainTumorProg_copy/20200218_170401372/PGM-002_Feb18_MR_1>,\n",
       " <PrearchiveSession BrainTumorProg_copy/20200218_163537415/PGM-002_Feb18_MR_1>,\n",
       " <PrearchiveSession BrainTumorProg_copy/20200218_170404748/PGM-002_Feb18_MR_1>,\n",
       " <PrearchiveSession BrainTumorProg_copy/20200218_170403047/PGM-002_Feb18_MR_1>,\n",
       " <PrearchiveSession BrainTumorProg_copy/20200218_163528162/PGM-002_Feb18_MR_1>,\n",
       " <PrearchiveSession BrainTumorProg_copy/20200218_170404212/PGM-002_Feb18_MR_1>,\n",
       " <PrearchiveSession BrainTumorProg_copy/20200218_163531403/PGM-002_Feb18_MR_1>,\n",
       " <PrearchiveSession BrainTumorProg_copy/20200218_163538470/PGM-002_Feb18_MR_1>,\n",
       " <PrearchiveSession BrainTumorProg_copy/20200218_163530868/PGM-002_Feb18_MR_1>,\n",
       " <PrearchiveSession BrainTumorProg_copy/20200218_163537942/PGM-002_Feb18_MR_1>,\n",
       " <PrearchiveSession BrainTumorProg_copy/20200218_163530326/PGM-002_Feb18_MR_1>]"
      ]
     },
     "execution_count": 34,
     "metadata": {},
     "output_type": "execute_result"
    }
   ],
   "source": [
    "# Get a list of the files in the prearchive that have READY status \n",
    "# and the session label experimentLabel:\n",
    "session.prearchive.find(session=experimentLabel)"
   ]
  },
  {
   "cell_type": "code",
   "execution_count": 25,
   "metadata": {},
   "outputs": [
    {
     "data": {
      "text/plain": [
       "22"
      ]
     },
     "execution_count": 25,
     "metadata": {},
     "output_type": "execute_result"
    }
   ],
   "source": [
    "len(prearchive_session_to_archive)"
   ]
  },
  {
   "cell_type": "markdown",
   "metadata": {},
   "source": [
    "##### the project/subject/experiment don't need to be assigned when archiving since they were already assigned during prearchiving:\n",
    "\n",
    "for f in range(len(prearchive_session_to_archive)):\n",
    "    print(f'Moving file {f+1} of {len(prearchive_session_to_archive)} to the archive...')\n",
    "    archive_session = prearchive_session_to_archive[f].archive(project=projectLabel, \\\n",
    "                                                               subject=subjectLabel, \\\n",
    "                                                               experiment=experimentLabel)"
   ]
  },
  {
   "cell_type": "markdown",
   "metadata": {},
   "source": [
    "### Rather than trying to move each file in series, see if I can move all of the at the same time:"
   ]
  },
  {
   "cell_type": "code",
   "execution_count": 27,
   "metadata": {},
   "outputs": [
    {
     "ename": "AttributeError",
     "evalue": "'list' object has no attribute 'archive'",
     "output_type": "error",
     "traceback": [
      "\u001b[1;31m---------------------------------------------------------------------------\u001b[0m",
      "\u001b[1;31mAttributeError\u001b[0m                            Traceback (most recent call last)",
      "\u001b[1;32m<ipython-input-27-0c89e5f909da>\u001b[0m in \u001b[0;36m<module>\u001b[1;34m\u001b[0m\n\u001b[0;32m      1\u001b[0m \u001b[1;31m#archive_session = prearchive_session_to_archive.archive(overwrite='append')\u001b[0m\u001b[1;33m\u001b[0m\u001b[1;33m\u001b[0m\u001b[1;33m\u001b[0m\u001b[0m\n\u001b[1;32m----> 2\u001b[1;33m \u001b[0marchive_session\u001b[0m \u001b[1;33m=\u001b[0m \u001b[0mprearchive_session_to_archive\u001b[0m\u001b[1;33m.\u001b[0m\u001b[0marchive\u001b[0m\u001b[1;33m(\u001b[0m\u001b[1;33m)\u001b[0m\u001b[1;33m\u001b[0m\u001b[1;33m\u001b[0m\u001b[0m\n\u001b[0m",
      "\u001b[1;31mAttributeError\u001b[0m: 'list' object has no attribute 'archive'"
     ]
    }
   ],
   "source": [
    "#archive_session = prearchive_session_to_archive.archive(overwrite='append')\n",
    "archive_session = prearchive_session_to_archive.archive()"
   ]
  },
  {
   "cell_type": "code",
   "execution_count": 32,
   "metadata": {},
   "outputs": [
    {
     "name": "stderr",
     "output_type": "stream",
     "text": [
      "[2020-02-18 17:07:29,953] DEBUG: session:391 >> POST URI http://10.1.1.17/data/services/archive?src=%2Fdata%2Fprearchive%2Fprojects%2FBrainTumorProg_copy%2F20200218_170354463%2FPGM_002_MR_1&overwrite=append&project=BrainTumorProg_copy&subject=PGM-002_Feb18&session=PGM-002_Feb18_MR_1\n",
      "[2020-02-18 17:07:29,954] DEBUG: session:393 >> POST DATA None\n"
     ]
    },
    {
     "name": "stdout",
     "output_type": "stream",
     "text": [
      "Moving file 1 of 22 to the archive...\n"
     ]
    },
    {
     "name": "stderr",
     "output_type": "stream",
     "text": [
      "[2020-02-18 17:07:30,320] DEBUG: session:307 >> Received response with status code: 200\n",
      "[2020-02-18 17:07:30,321] DEBUG: session:738 >> Type unknown, fetching data to get type\n",
      "[2020-02-18 17:07:30,322] DEBUG: session:334 >> GET URI http://10.1.1.17/data/archive/projects/BrainTumorProg_copy/subjects/PGM-002_Feb18/experiments/PGM-002_Feb18_MR_1?format=json\n",
      "[2020-02-18 17:07:30,407] DEBUG: session:307 >> Received response with status code: 200\n",
      "[2020-02-18 17:07:30,407] DEBUG: session:746 >> Looking up type xnat:mrSessionData [str]\n",
      "[2020-02-18 17:07:30,407] DEBUG: session:753 >> Creating object of type <class 'xnat_gen_ce9e3233f8742ed021c5bcfcb7b6320c.MrSessionData'>\n",
      "[2020-02-18 17:07:30,408] DEBUG: session:391 >> POST URI http://10.1.1.17/data/services/archive?src=%2Fdata%2Fprearchive%2Fprojects%2FBrainTumorProg_copy%2F20200218_170358123%2FPGM_002_MR_1&overwrite=append&project=BrainTumorProg_copy&subject=PGM-002_Feb18&session=PGM-002_Feb18_MR_1\n",
      "[2020-02-18 17:07:30,408] DEBUG: session:393 >> POST DATA None\n",
      "[2020-02-18 17:07:30,485] DEBUG: session:307 >> Received response with status code: 409\n"
     ]
    },
    {
     "name": "stdout",
     "output_type": "stream",
     "text": [
      "Moving file 2 of 22 to the archive...\n"
     ]
    },
    {
     "ename": "XNATResponseError",
     "evalue": "Invalid response from XNATSession for url http://10.1.1.17/data/services/archive?src=%2Fdata%2Fprearchive%2Fprojects%2FBrainTumorProg_copy%2F20200218_170358123%2FPGM_002_MR_1&overwrite=append&project=BrainTumorProg_copy&subject=PGM-002_Feb18&session=PGM-002_Feb18_MR_1 (status 409):\n<html>\n<head>\n   <title>Status page</title>\n</head>\n<body>\n<h3>Session processing may already be in progress: AutoRun.  Concurrent modification is discouraged.</h3><p>You can get technical details <a href=\"http://www.w3.org/Protocols/rfc2616/rfc2616-sec10.html#sec10.4.10\">here</a>.<br>\nPlease continue your visit at our <a href=\"/\">home page</a>.\n</p>\n</body>\n</html>\n",
     "output_type": "error",
     "traceback": [
      "\u001b[1;31m---------------------------------------------------------------------------\u001b[0m",
      "\u001b[1;31mXNATResponseError\u001b[0m                         Traceback (most recent call last)",
      "\u001b[1;32m<ipython-input-32-8f69da86cba0>\u001b[0m in \u001b[0;36m<module>\u001b[1;34m\u001b[0m\n\u001b[0;32m      7\u001b[0m                                              \u001b[0msubject\u001b[0m\u001b[1;33m=\u001b[0m\u001b[0msubjectLabel\u001b[0m\u001b[1;33m,\u001b[0m\u001b[0;31m \u001b[0m\u001b[0;31m\\\u001b[0m\u001b[1;33m\u001b[0m\u001b[1;33m\u001b[0m\u001b[0m\n\u001b[0;32m      8\u001b[0m                                              \u001b[0mexperiment\u001b[0m\u001b[1;33m=\u001b[0m\u001b[0mexperimentLabel\u001b[0m\u001b[1;33m,\u001b[0m\u001b[0;31m \u001b[0m\u001b[0;31m\\\u001b[0m\u001b[1;33m\u001b[0m\u001b[1;33m\u001b[0m\u001b[0m\n\u001b[1;32m----> 9\u001b[1;33m                                              overwrite='append')\n\u001b[0m",
      "\u001b[1;32m~\\Anaconda37\\lib\\site-packages\\xnat\\prearchive.py\u001b[0m in \u001b[0;36marchive\u001b[1;34m(self, overwrite, quarantine, trigger_pipelines, project, subject, experiment)\u001b[0m\n\u001b[0;32m    218\u001b[0m             \u001b[0mquery\u001b[0m\u001b[1;33m[\u001b[0m\u001b[1;34m'session'\u001b[0m\u001b[1;33m]\u001b[0m \u001b[1;33m=\u001b[0m \u001b[0mexperiment\u001b[0m\u001b[1;33m\u001b[0m\u001b[1;33m\u001b[0m\u001b[0m\n\u001b[0;32m    219\u001b[0m \u001b[1;33m\u001b[0m\u001b[0m\n\u001b[1;32m--> 220\u001b[1;33m         \u001b[0mresponse\u001b[0m \u001b[1;33m=\u001b[0m \u001b[0mself\u001b[0m\u001b[1;33m.\u001b[0m\u001b[0mxnat_session\u001b[0m\u001b[1;33m.\u001b[0m\u001b[0mpost\u001b[0m\u001b[1;33m(\u001b[0m\u001b[1;34m'/data/services/archive'\u001b[0m\u001b[1;33m,\u001b[0m \u001b[0mquery\u001b[0m\u001b[1;33m=\u001b[0m\u001b[0mquery\u001b[0m\u001b[1;33m)\u001b[0m\u001b[1;33m\u001b[0m\u001b[1;33m\u001b[0m\u001b[0m\n\u001b[0m\u001b[0;32m    221\u001b[0m         \u001b[0mobject_uri\u001b[0m \u001b[1;33m=\u001b[0m \u001b[0mresponse\u001b[0m\u001b[1;33m.\u001b[0m\u001b[0mtext\u001b[0m\u001b[1;33m.\u001b[0m\u001b[0mstrip\u001b[0m\u001b[1;33m(\u001b[0m\u001b[1;33m)\u001b[0m\u001b[1;33m\u001b[0m\u001b[1;33m\u001b[0m\u001b[0m\n\u001b[0;32m    222\u001b[0m \u001b[1;33m\u001b[0m\u001b[0m\n",
      "\u001b[1;32m~\\Anaconda37\\lib\\site-packages\\xnat\\session.py\u001b[0m in \u001b[0;36mpost\u001b[1;34m(self, path, data, json, format, query, accepted_status, timeout, headers)\u001b[0m\n\u001b[0;32m    397\u001b[0m         \u001b[1;32mexcept\u001b[0m \u001b[0mrequests\u001b[0m\u001b[1;33m.\u001b[0m\u001b[0mexceptions\u001b[0m\u001b[1;33m.\u001b[0m\u001b[0mSSLError\u001b[0m\u001b[1;33m:\u001b[0m\u001b[1;33m\u001b[0m\u001b[1;33m\u001b[0m\u001b[0m\n\u001b[0;32m    398\u001b[0m             \u001b[1;32mraise\u001b[0m \u001b[0mexceptions\u001b[0m\u001b[1;33m.\u001b[0m\u001b[0mXNATSSLError\u001b[0m\u001b[1;33m(\u001b[0m\u001b[1;34m'Encountered a problem with the SSL connection, are you sure the server is offering https?'\u001b[0m\u001b[1;33m)\u001b[0m\u001b[1;33m\u001b[0m\u001b[1;33m\u001b[0m\u001b[0m\n\u001b[1;32m--> 399\u001b[1;33m         \u001b[0mself\u001b[0m\u001b[1;33m.\u001b[0m\u001b[0m_check_response\u001b[0m\u001b[1;33m(\u001b[0m\u001b[0mresponse\u001b[0m\u001b[1;33m,\u001b[0m \u001b[0maccepted_status\u001b[0m\u001b[1;33m=\u001b[0m\u001b[0maccepted_status\u001b[0m\u001b[1;33m,\u001b[0m \u001b[0muri\u001b[0m\u001b[1;33m=\u001b[0m\u001b[0muri\u001b[0m\u001b[1;33m)\u001b[0m\u001b[1;33m\u001b[0m\u001b[1;33m\u001b[0m\u001b[0m\n\u001b[0m\u001b[0;32m    400\u001b[0m         \u001b[1;32mreturn\u001b[0m \u001b[0mresponse\u001b[0m\u001b[1;33m\u001b[0m\u001b[1;33m\u001b[0m\u001b[0m\n\u001b[0;32m    401\u001b[0m \u001b[1;33m\u001b[0m\u001b[0m\n",
      "\u001b[1;32m~\\Anaconda37\\lib\\site-packages\\xnat\\session.py\u001b[0m in \u001b[0;36m_check_response\u001b[1;34m(self, response, accepted_status, uri)\u001b[0m\n\u001b[0;32m    311\u001b[0m                 \u001b[0maccepted_status\u001b[0m \u001b[1;33m=\u001b[0m \u001b[1;33m[\u001b[0m\u001b[1;36m200\u001b[0m\u001b[1;33m,\u001b[0m \u001b[1;36m201\u001b[0m\u001b[1;33m,\u001b[0m \u001b[1;36m202\u001b[0m\u001b[1;33m,\u001b[0m \u001b[1;36m203\u001b[0m\u001b[1;33m,\u001b[0m \u001b[1;36m204\u001b[0m\u001b[1;33m,\u001b[0m \u001b[1;36m205\u001b[0m\u001b[1;33m,\u001b[0m \u001b[1;36m206\u001b[0m\u001b[1;33m]\u001b[0m  \u001b[1;31m# All successful responses of HTML\u001b[0m\u001b[1;33m\u001b[0m\u001b[1;33m\u001b[0m\u001b[0m\n\u001b[0;32m    312\u001b[0m             \u001b[1;32mif\u001b[0m \u001b[0mresponse\u001b[0m\u001b[1;33m.\u001b[0m\u001b[0mstatus_code\u001b[0m \u001b[1;32mnot\u001b[0m \u001b[1;32min\u001b[0m \u001b[0maccepted_status\u001b[0m \u001b[1;32mor\u001b[0m \u001b[1;33m(\u001b[0m\u001b[1;32mnot\u001b[0m \u001b[0mself\u001b[0m\u001b[1;33m.\u001b[0m\u001b[0mskip_response_content_check\u001b[0m \u001b[1;32mand\u001b[0m \u001b[0mresponse\u001b[0m\u001b[1;33m.\u001b[0m\u001b[0mtext\u001b[0m\u001b[1;33m.\u001b[0m\u001b[0mstartswith\u001b[0m\u001b[1;33m(\u001b[0m\u001b[1;33m(\u001b[0m\u001b[1;34m'<!DOCTYPE'\u001b[0m\u001b[1;33m,\u001b[0m \u001b[1;34m'<html>'\u001b[0m\u001b[1;33m)\u001b[0m\u001b[1;33m)\u001b[0m\u001b[1;33m)\u001b[0m\u001b[1;33m:\u001b[0m\u001b[1;33m\u001b[0m\u001b[1;33m\u001b[0m\u001b[0m\n\u001b[1;32m--> 313\u001b[1;33m                 \u001b[1;32mraise\u001b[0m \u001b[0mexceptions\u001b[0m\u001b[1;33m.\u001b[0m\u001b[0mXNATResponseError\u001b[0m\u001b[1;33m(\u001b[0m\u001b[1;34m'Invalid response from XNATSession for url {} (status {}):\\n{}'\u001b[0m\u001b[1;33m.\u001b[0m\u001b[0mformat\u001b[0m\u001b[1;33m(\u001b[0m\u001b[0muri\u001b[0m\u001b[1;33m,\u001b[0m \u001b[0mresponse\u001b[0m\u001b[1;33m.\u001b[0m\u001b[0mstatus_code\u001b[0m\u001b[1;33m,\u001b[0m \u001b[0mresponse\u001b[0m\u001b[1;33m.\u001b[0m\u001b[0mtext\u001b[0m\u001b[1;33m)\u001b[0m\u001b[1;33m)\u001b[0m\u001b[1;33m\u001b[0m\u001b[1;33m\u001b[0m\u001b[0m\n\u001b[0m\u001b[0;32m    314\u001b[0m \u001b[1;33m\u001b[0m\u001b[0m\n\u001b[0;32m    315\u001b[0m     \u001b[1;32mdef\u001b[0m \u001b[0mget\u001b[0m\u001b[1;33m(\u001b[0m\u001b[0mself\u001b[0m\u001b[1;33m,\u001b[0m \u001b[0mpath\u001b[0m\u001b[1;33m,\u001b[0m \u001b[0mformat\u001b[0m\u001b[1;33m=\u001b[0m\u001b[1;32mNone\u001b[0m\u001b[1;33m,\u001b[0m \u001b[0mquery\u001b[0m\u001b[1;33m=\u001b[0m\u001b[1;32mNone\u001b[0m\u001b[1;33m,\u001b[0m \u001b[0maccepted_status\u001b[0m\u001b[1;33m=\u001b[0m\u001b[1;32mNone\u001b[0m\u001b[1;33m,\u001b[0m \u001b[0mtimeout\u001b[0m\u001b[1;33m=\u001b[0m\u001b[1;32mNone\u001b[0m\u001b[1;33m,\u001b[0m \u001b[0mheaders\u001b[0m\u001b[1;33m=\u001b[0m\u001b[1;32mNone\u001b[0m\u001b[1;33m)\u001b[0m\u001b[1;33m:\u001b[0m\u001b[1;33m\u001b[0m\u001b[1;33m\u001b[0m\u001b[0m\n",
      "\u001b[1;31mXNATResponseError\u001b[0m: Invalid response from XNATSession for url http://10.1.1.17/data/services/archive?src=%2Fdata%2Fprearchive%2Fprojects%2FBrainTumorProg_copy%2F20200218_170358123%2FPGM_002_MR_1&overwrite=append&project=BrainTumorProg_copy&subject=PGM-002_Feb18&session=PGM-002_Feb18_MR_1 (status 409):\n<html>\n<head>\n   <title>Status page</title>\n</head>\n<body>\n<h3>Session processing may already be in progress: AutoRun.  Concurrent modification is discouraged.</h3><p>You can get technical details <a href=\"http://www.w3.org/Protocols/rfc2616/rfc2616-sec10.html#sec10.4.10\">here</a>.<br>\nPlease continue your visit at our <a href=\"/\">home page</a>.\n</p>\n</body>\n</html>\n"
     ]
    }
   ],
   "source": [
    "# Only archive the desired files:\n",
    "\n",
    "for f in range(len(prearchive_session_to_archive)):\n",
    "    print(f'Moving file {f+1} of {len(prearchive_session_to_archive)} to the archive...')\n",
    "    \n",
    "    prearchive_session_to_archive[f].archive(project=projectLabel, \\\n",
    "                                             subject=subjectLabel, \\\n",
    "                                             experiment=experimentLabel, \\\n",
    "                                             overwrite='append')"
   ]
  },
  {
   "cell_type": "markdown",
   "metadata": {},
   "source": [
    "# Current Warnings\n",
    "## CONFLICT-14: Session already exists with matching files.\n",
    "## CONFLICT-16: Session already contains a scan (11) with the same UID and number."
   ]
  },
  {
   "cell_type": "code",
   "execution_count": 35,
   "metadata": {},
   "outputs": [
    {
     "name": "stderr",
     "output_type": "stream",
     "text": [
      "[2020-02-19 11:25:23,224] DEBUG: session:334 >> GET URI http://10.1.1.17/data/prearchive/projects/BrainTumorProg_copy?format=json\n",
      "[2020-02-19 11:25:23,249] DEBUG: session:307 >> Received response with status code: 200\n"
     ]
    }
   ],
   "source": [
    "prearchive_session_to_archive = session.prearchive.find(project=projectLabel, \\\n",
    "                                                        subject=subjectLabel, \\\n",
    "                                                        session=experimentLabel, \\\n",
    "                                                        status='READY')"
   ]
  },
  {
   "cell_type": "code",
   "execution_count": 36,
   "metadata": {},
   "outputs": [
    {
     "data": {
      "text/plain": [
       "0"
      ]
     },
     "execution_count": 36,
     "metadata": {},
     "output_type": "execute_result"
    }
   ],
   "source": [
    "len(prearchive_session_to_archive)"
   ]
  },
  {
   "cell_type": "code",
   "execution_count": 38,
   "metadata": {},
   "outputs": [
    {
     "name": "stderr",
     "output_type": "stream",
     "text": [
      "[2020-02-19 11:26:19,277] DEBUG: session:334 >> GET URI http://10.1.1.17/data/prearchive/projects/BrainTumorProg_copy?format=json\n",
      "[2020-02-19 11:26:19,300] DEBUG: session:307 >> Received response with status code: 200\n"
     ]
    },
    {
     "data": {
      "text/plain": [
       "[]"
      ]
     },
     "execution_count": 38,
     "metadata": {},
     "output_type": "execute_result"
    }
   ],
   "source": [
    "session.prearchive.find(project=projectLabel, \\\n",
    "                        subject=subjectLabel, \\\n",
    "                        session=experimentLabel)"
   ]
  },
  {
   "cell_type": "markdown",
   "metadata": {},
   "source": [
    "### Need to avoid trying to archive items that have already been archived:"
   ]
  },
  {
   "cell_type": "markdown",
   "metadata": {},
   "source": [
    "\n",
    "\n",
    "status = 'True' # initial value\n",
    "\n",
    "while status:\n",
    "    # Update prearchive_session_to_archive:\n",
    "    prearchive_session_to_archive = session.prearchive.find(project=projectLabel, \\\n",
    "                                                            subject=subjectLabel, \\\n",
    "                                                            session=experimentLabel, \\\n",
    "                                                            status='READY')\n",
    "    \n",
    "    #print('prearchive_session_to_archive = ', prearchive_session_to_archive)\n",
    "    \n",
    "    print('Number of files in prearchive_session_to_archive =', len(prearchive_session_to_archive), '\\n')\n",
    "    \n",
    "    if len(prearchive_session_to_archive) == 0:\n",
    "        status = 'False'\n",
    "        break\n",
    "        \n",
    "    # Move each file in prearchive_session_to_archive to the archive:    \n",
    "    for f in range(len(prearchive_session_to_archive)):\n",
    "        print(f'Moving file {f+1} of {len(prearchive_session_to_archive)} to the archive...')\n",
    "        \n",
    "        prearchive_session_to_archive[f].archive(project=projectLabel, \\\n",
    "                                                 subject=subjectLabel, \\\n",
    "                                                 experiment=experimentLabel, \\\n",
    "                                                 overwrite='append')\n",
    "\n"
   ]
  },
  {
   "cell_type": "markdown",
   "metadata": {},
   "source": [
    "### I posted another question to this 2018 post:\n",
    "\n",
    "#### https://groups.google.com/forum/#!topic/xnat_discussion/JfR_CYasSrM"
   ]
  },
  {
   "cell_type": "markdown",
   "metadata": {},
   "source": [
    "# I've not been able to upload more than one scan by importing the files individually.  Now try to upload an entire session in a single .zip file.\n",
    "\n",
    "### I zipped all files into a single file \"files.zip\" and deleted all files within the prearchive that belong to subject PGM-002_Feb17."
   ]
  },
  {
   "cell_type": "code",
   "execution_count": 42,
   "metadata": {},
   "outputs": [
    {
     "data": {
      "text/plain": [
       "'C:\\\\Code\\\\WP1.3_multiple_modalities\\\\trying stuff\\\\data\\\\files.zip'"
      ]
     },
     "execution_count": 42,
     "metadata": {},
     "output_type": "execute_result"
    }
   ],
   "source": [
    "#zippedDicomFpath = os.path.join(dicomDLdir, 'files.zip')\n",
    "zippedDicomFpath = r'C:\\Code\\WP1.3_multiple_modalities\\trying stuff\\data\\files.zip'\n",
    "zippedDicomFpath"
   ]
  },
  {
   "cell_type": "code",
   "execution_count": 43,
   "metadata": {},
   "outputs": [
    {
     "data": {
      "text/plain": [
       "True"
      ]
     },
     "execution_count": 43,
     "metadata": {},
     "output_type": "execute_result"
    }
   ],
   "source": [
    "os.path.isfile(zippedDicomFpath)"
   ]
  },
  {
   "cell_type": "markdown",
   "metadata": {},
   "source": [
    "### Last time I had run the following from the example shown in the XNATpy tutorial (which gave a Status 500 error):"
   ]
  },
  {
   "cell_type": "code",
   "execution_count": 99,
   "metadata": {},
   "outputs": [
    {
     "name": "stderr",
     "output_type": "stream",
     "text": [
      "[2020-02-17 13:52:10,017] DEBUG: session:661 >> UPLOAD URI http://10.1.1.17/data/services/import?dest=%2Fprearchive&project=BrainTumorProg_copy&subject=PGM-002_Feb17&session=PGM-002_Feb17_MR_1\n",
      "[2020-02-17 13:52:10,073] DEBUG: session:307 >> Received response with status code: 500\n"
     ]
    },
    {
     "ename": "XNATUploadError",
     "evalue": "Upload failed after 1 attempts! Status code 500, response text ",
     "output_type": "error",
     "traceback": [
      "\u001b[1;31m---------------------------------------------------------------------------\u001b[0m",
      "\u001b[1;31mXNATUploadError\u001b[0m                           Traceback (most recent call last)",
      "\u001b[1;32m<ipython-input-99-b049ebd5a4b0>\u001b[0m in \u001b[0;36m<module>\u001b[1;34m\u001b[0m\n\u001b[0;32m      5\u001b[0m                                               \u001b[0msubject\u001b[0m\u001b[1;33m=\u001b[0m\u001b[0msubjectLabel\u001b[0m\u001b[1;33m,\u001b[0m\u001b[0;31m \u001b[0m\u001b[0;31m\\\u001b[0m\u001b[1;33m\u001b[0m\u001b[1;33m\u001b[0m\u001b[0m\n\u001b[0;32m      6\u001b[0m                                               \u001b[0mexperiment\u001b[0m\u001b[1;33m=\u001b[0m\u001b[0mexperimentLabel\u001b[0m\u001b[1;33m,\u001b[0m\u001b[0;31m \u001b[0m\u001b[0;31m\\\u001b[0m\u001b[1;33m\u001b[0m\u001b[1;33m\u001b[0m\u001b[0m\n\u001b[1;32m----> 7\u001b[1;33m                                               destination='/prearchive')\n\u001b[0m",
      "\u001b[1;32m~\\Anaconda37\\lib\\site-packages\\xnat\\services.py\u001b[0m in \u001b[0;36mimport_\u001b[1;34m(self, path, overwrite, quarantine, destination, trigger_pipelines, project, subject, experiment, content_type)\u001b[0m\n\u001b[0;32m    109\u001b[0m \u001b[1;33m\u001b[0m\u001b[0m\n\u001b[0;32m    110\u001b[0m         \u001b[0muri\u001b[0m \u001b[1;33m=\u001b[0m \u001b[1;34m'/data/services/import'\u001b[0m\u001b[1;33m\u001b[0m\u001b[1;33m\u001b[0m\u001b[0m\n\u001b[1;32m--> 111\u001b[1;33m         \u001b[0mresponse\u001b[0m \u001b[1;33m=\u001b[0m \u001b[0mself\u001b[0m\u001b[1;33m.\u001b[0m\u001b[0mxnat_session\u001b[0m\u001b[1;33m.\u001b[0m\u001b[0mupload\u001b[0m\u001b[1;33m(\u001b[0m\u001b[0muri\u001b[0m\u001b[1;33m=\u001b[0m\u001b[0muri\u001b[0m\u001b[1;33m,\u001b[0m \u001b[0mfile_\u001b[0m\u001b[1;33m=\u001b[0m\u001b[0mpath\u001b[0m\u001b[1;33m,\u001b[0m \u001b[0mquery\u001b[0m\u001b[1;33m=\u001b[0m\u001b[0mquery\u001b[0m\u001b[1;33m,\u001b[0m \u001b[0mcontent_type\u001b[0m\u001b[1;33m=\u001b[0m\u001b[0mcontent_type\u001b[0m\u001b[1;33m,\u001b[0m \u001b[0mmethod\u001b[0m\u001b[1;33m=\u001b[0m\u001b[1;34m'post'\u001b[0m\u001b[1;33m)\u001b[0m\u001b[1;33m\u001b[0m\u001b[1;33m\u001b[0m\u001b[0m\n\u001b[0m\u001b[0;32m    112\u001b[0m \u001b[1;33m\u001b[0m\u001b[0m\n\u001b[0;32m    113\u001b[0m         \u001b[1;32mif\u001b[0m \u001b[0mresponse\u001b[0m\u001b[1;33m.\u001b[0m\u001b[0mstatus_code\u001b[0m \u001b[1;33m!=\u001b[0m \u001b[1;36m200\u001b[0m\u001b[1;33m:\u001b[0m\u001b[1;33m\u001b[0m\u001b[1;33m\u001b[0m\u001b[0m\n",
      "\u001b[1;32m~\\Anaconda37\\lib\\site-packages\\xnat\\session.py\u001b[0m in \u001b[0;36mupload\u001b[1;34m(self, uri, file_, retries, query, content_type, method, overwrite, timeout)\u001b[0m\n\u001b[0;32m    703\u001b[0m \u001b[1;33m\u001b[0m\u001b[0m\n\u001b[0;32m    704\u001b[0m         \u001b[1;31m# We didn't return correctly, so we have an error\u001b[0m\u001b[1;33m\u001b[0m\u001b[1;33m\u001b[0m\u001b[1;33m\u001b[0m\u001b[0m\n\u001b[1;32m--> 705\u001b[1;33m         \u001b[1;32mraise\u001b[0m \u001b[0mexceptions\u001b[0m\u001b[1;33m.\u001b[0m\u001b[0mXNATUploadError\u001b[0m\u001b[1;33m(\u001b[0m\u001b[1;34m'Upload failed after {} attempts! Status code {}, response text {}'\u001b[0m\u001b[1;33m.\u001b[0m\u001b[0mformat\u001b[0m\u001b[1;33m(\u001b[0m\u001b[0mretries\u001b[0m\u001b[1;33m,\u001b[0m \u001b[0mresponse\u001b[0m\u001b[1;33m.\u001b[0m\u001b[0mstatus_code\u001b[0m\u001b[1;33m,\u001b[0m \u001b[0mresponse\u001b[0m\u001b[1;33m.\u001b[0m\u001b[0mtext\u001b[0m\u001b[1;33m)\u001b[0m\u001b[1;33m)\u001b[0m\u001b[1;33m\u001b[0m\u001b[1;33m\u001b[0m\u001b[0m\n\u001b[0m\u001b[0;32m    706\u001b[0m \u001b[1;33m\u001b[0m\u001b[0m\n\u001b[0;32m    707\u001b[0m     \u001b[1;33m@\u001b[0m\u001b[0mproperty\u001b[0m\u001b[1;33m\u001b[0m\u001b[1;33m\u001b[0m\u001b[0m\n",
      "\u001b[1;31mXNATUploadError\u001b[0m: Upload failed after 1 attempts! Status code 500, response text "
     ]
    }
   ],
   "source": [
    "prearchive_session = session.services.import_(zippedDicomFpath, \\\n",
    "                                              project=projectLabel, \\\n",
    "                                              subject=subjectLabel, \\\n",
    "                                              experiment=experimentLabel, \\\n",
    "                                              destination='/prearchive')"
   ]
  },
  {
   "cell_type": "markdown",
   "metadata": {},
   "source": [
    "### In the example provided for the XNATpy tutorial, the importing is done with assigning only the project and destination. When moving from prearchive to archive the subject and experiment are assigned.  I tried that too:"
   ]
  },
  {
   "cell_type": "code",
   "execution_count": 103,
   "metadata": {},
   "outputs": [
    {
     "name": "stderr",
     "output_type": "stream",
     "text": [
      "[2020-02-17 14:04:36,838] DEBUG: session:661 >> UPLOAD URI http://10.1.1.17/data/services/import?dest=%2Fprearchive&project=BrainTumorProg_copy\n",
      "[2020-02-17 14:04:36,881] DEBUG: session:307 >> Received response with status code: 500\n"
     ]
    },
    {
     "ename": "XNATUploadError",
     "evalue": "Upload failed after 1 attempts! Status code 500, response text <html>\n<head>\n   <title>Status page</title>\n</head>\n<body>\n<h3>Index: 0, Size: 0</h3><p>You can get technical details <a href=\"http://www.w3.org/Protocols/rfc2616/rfc2616-sec10.html#sec10.5.1\">here</a>.<br>\nPlease continue your visit at our <a href=\"/\">home page</a>.\n</p>\n</body>\n</html>\n",
     "output_type": "error",
     "traceback": [
      "\u001b[1;31m---------------------------------------------------------------------------\u001b[0m",
      "\u001b[1;31mXNATUploadError\u001b[0m                           Traceback (most recent call last)",
      "\u001b[1;32m<ipython-input-103-6a1cbdda28b8>\u001b[0m in \u001b[0;36m<module>\u001b[1;34m\u001b[0m\n\u001b[0;32m      1\u001b[0m prearchive_session = session.services.import_(zippedDicomFpath, \\\n\u001b[0;32m      2\u001b[0m                                               \u001b[0mproject\u001b[0m\u001b[1;33m=\u001b[0m\u001b[0mprojectLabel\u001b[0m\u001b[1;33m,\u001b[0m\u001b[0;31m \u001b[0m\u001b[0;31m\\\u001b[0m\u001b[1;33m\u001b[0m\u001b[1;33m\u001b[0m\u001b[0m\n\u001b[1;32m----> 3\u001b[1;33m                                               destination='/prearchive')\n\u001b[0m",
      "\u001b[1;32m~\\Anaconda37\\lib\\site-packages\\xnat\\services.py\u001b[0m in \u001b[0;36mimport_\u001b[1;34m(self, path, overwrite, quarantine, destination, trigger_pipelines, project, subject, experiment, content_type)\u001b[0m\n\u001b[0;32m    109\u001b[0m \u001b[1;33m\u001b[0m\u001b[0m\n\u001b[0;32m    110\u001b[0m         \u001b[0muri\u001b[0m \u001b[1;33m=\u001b[0m \u001b[1;34m'/data/services/import'\u001b[0m\u001b[1;33m\u001b[0m\u001b[1;33m\u001b[0m\u001b[0m\n\u001b[1;32m--> 111\u001b[1;33m         \u001b[0mresponse\u001b[0m \u001b[1;33m=\u001b[0m \u001b[0mself\u001b[0m\u001b[1;33m.\u001b[0m\u001b[0mxnat_session\u001b[0m\u001b[1;33m.\u001b[0m\u001b[0mupload\u001b[0m\u001b[1;33m(\u001b[0m\u001b[0muri\u001b[0m\u001b[1;33m=\u001b[0m\u001b[0muri\u001b[0m\u001b[1;33m,\u001b[0m \u001b[0mfile_\u001b[0m\u001b[1;33m=\u001b[0m\u001b[0mpath\u001b[0m\u001b[1;33m,\u001b[0m \u001b[0mquery\u001b[0m\u001b[1;33m=\u001b[0m\u001b[0mquery\u001b[0m\u001b[1;33m,\u001b[0m \u001b[0mcontent_type\u001b[0m\u001b[1;33m=\u001b[0m\u001b[0mcontent_type\u001b[0m\u001b[1;33m,\u001b[0m \u001b[0mmethod\u001b[0m\u001b[1;33m=\u001b[0m\u001b[1;34m'post'\u001b[0m\u001b[1;33m)\u001b[0m\u001b[1;33m\u001b[0m\u001b[1;33m\u001b[0m\u001b[0m\n\u001b[0m\u001b[0;32m    112\u001b[0m \u001b[1;33m\u001b[0m\u001b[0m\n\u001b[0;32m    113\u001b[0m         \u001b[1;32mif\u001b[0m \u001b[0mresponse\u001b[0m\u001b[1;33m.\u001b[0m\u001b[0mstatus_code\u001b[0m \u001b[1;33m!=\u001b[0m \u001b[1;36m200\u001b[0m\u001b[1;33m:\u001b[0m\u001b[1;33m\u001b[0m\u001b[1;33m\u001b[0m\u001b[0m\n",
      "\u001b[1;32m~\\Anaconda37\\lib\\site-packages\\xnat\\session.py\u001b[0m in \u001b[0;36mupload\u001b[1;34m(self, uri, file_, retries, query, content_type, method, overwrite, timeout)\u001b[0m\n\u001b[0;32m    703\u001b[0m \u001b[1;33m\u001b[0m\u001b[0m\n\u001b[0;32m    704\u001b[0m         \u001b[1;31m# We didn't return correctly, so we have an error\u001b[0m\u001b[1;33m\u001b[0m\u001b[1;33m\u001b[0m\u001b[1;33m\u001b[0m\u001b[0m\n\u001b[1;32m--> 705\u001b[1;33m         \u001b[1;32mraise\u001b[0m \u001b[0mexceptions\u001b[0m\u001b[1;33m.\u001b[0m\u001b[0mXNATUploadError\u001b[0m\u001b[1;33m(\u001b[0m\u001b[1;34m'Upload failed after {} attempts! Status code {}, response text {}'\u001b[0m\u001b[1;33m.\u001b[0m\u001b[0mformat\u001b[0m\u001b[1;33m(\u001b[0m\u001b[0mretries\u001b[0m\u001b[1;33m,\u001b[0m \u001b[0mresponse\u001b[0m\u001b[1;33m.\u001b[0m\u001b[0mstatus_code\u001b[0m\u001b[1;33m,\u001b[0m \u001b[0mresponse\u001b[0m\u001b[1;33m.\u001b[0m\u001b[0mtext\u001b[0m\u001b[1;33m)\u001b[0m\u001b[1;33m)\u001b[0m\u001b[1;33m\u001b[0m\u001b[1;33m\u001b[0m\u001b[0m\n\u001b[0m\u001b[0;32m    706\u001b[0m \u001b[1;33m\u001b[0m\u001b[0m\n\u001b[0;32m    707\u001b[0m     \u001b[1;33m@\u001b[0m\u001b[0mproperty\u001b[0m\u001b[1;33m\u001b[0m\u001b[1;33m\u001b[0m\u001b[0m\n",
      "\u001b[1;31mXNATUploadError\u001b[0m: Upload failed after 1 attempts! Status code 500, response text <html>\n<head>\n   <title>Status page</title>\n</head>\n<body>\n<h3>Index: 0, Size: 0</h3><p>You can get technical details <a href=\"http://www.w3.org/Protocols/rfc2616/rfc2616-sec10.html#sec10.5.1\">here</a>.<br>\nPlease continue your visit at our <a href=\"/\">home page</a>.\n</p>\n</body>\n</html>\n"
     ]
    }
   ],
   "source": [
    "prearchive_session = session.services.import_(zippedDicomFpath, \\\n",
    "                                              project=projectLabel, \\\n",
    "                                              destination='/prearchive')"
   ]
  },
  {
   "cell_type": "markdown",
   "metadata": {},
   "source": [
    "### Feb 19:  Following the comment by Marcel Koek I'll try his suggestions:\n",
    "\n",
    "##### Link: https://groups.google.com/forum/#!topic/xnat_discussion/JfR_CYasSrM\n",
    "\n",
    "##### XNATpy is able to zip directories in place and upload them. Look at:\n",
    "\n",
    "#####  1)  https://xnat.readthedocs.io/en/latest/xnat.html#xnat.mixin.AbstractResource.upload_dir\n",
    "#####  2)  https://xnat.readthedocs.io/en/latest/static/tutorial.html#importing-data-into-xnat\n",
    "\n",
    "##### In our experience it is indeed better and less messy to collect all data in the prearchive and trigger an archive action on the prearchive session:\n",
    "\n",
    "#####  3)  https://xnat.readthedocs.io/en/latest/xnat.html#xnat.prearchive.PrearchiveSession.move\n",
    "#####  4)  https://xnat.readthedocs.io/en/latest/xnat.html#xnat.prearchive.PrearchiveSession.archive\n",
    "\n",
    "### I've already tried the .import_() function in the 2nd link.  So I'll try the .upload_dir() function in the 1st link.\n",
    "\n",
    "### It's not clear how to use the functions but following the example on how to use .import_ in the first link:\n",
    "\n",
    "### session.services.import_(full_filepath_to_zip_file, project='project_label', destination='/prearchive')\n",
    "\n",
    "### and comparing that to the code reference here:\n",
    "\n",
    "### https://xnat.readthedocs.io/en/latest/xnat.html#xnat.services.Services.import_\n",
    "\n",
    "### class xnat.services.Services(xnat_session)\n",
    "\n",
    "###  import_(path, overwrite=None, quarantine=False, destination=None, trigger_pipelines=None, project=None, subject=None, experiment=None, content_type=None)\n",
    "\n",
    "### it looks like the second \"Services\" needs to be replaced with the functions shown below, e.g. import_().\n",
    "\n",
    "\n",
    "### The code reference for the .upload_dir() function is:\n",
    "\n",
    "###  class xnat.mixin.AbstractResource(uri=None, xnat_session=None, id_=None, datafields=None, parent=None, fieldname=None, overwrites=None, data_dir=None, upload_method=None, **kwargs)\n",
    "\n",
    "###  upload_dir(directory, overwrite=False, method='tgz_file', **kwargs)\n",
    "\n",
    "#####    Upload a directory to an XNAT resource. This means that if you do resource.upload_dir(directory) that if there is a file directory/a.txt it will be uploaded to resource/files/a.txt\n",
    "\n",
    "#####    The method has 5 options, default is tgz_file:\n",
    "\n",
    "#####        per_file: Scans the directory and uploads file by file\n",
    "#####        tar_memory: Create a tar archive in memory and upload it in one go\n",
    "#####        tgz_memory: Create a gzipped tar file in memory and upload that\n",
    "#####        tar_file: Create a temporary tar file and upload that\n",
    "#####        tgz_file: Create a temporary gzipped tar file and upload that\n",
    "\n",
    "#####    The considerations are that sometimes you can fit things in memory so you can save disk IO by putting it in memory. The per file does not create additional archives, but has one request per file so might be slow when uploading many files.\n",
    "\n",
    "#####    Parameters:\t\n",
    "\n",
    "#####        directory (str) – The directory to upload\n",
    "#####        overwrite (bool) – Flag to force overwriting of files\n",
    "#####        method (str) – The method to use\n",
    "\n",
    "### Following the links found above for .upload_ it looks like the way to use it is:\n",
    "\n",
    "### session.mixin.upload_dir(directory)\n",
    "\n",
    "### which is different from:\n",
    "\n",
    "### resource.upload_dir(directory) \n",
    "\n",
    "### in the code reference.  I'm not sure what \"resource\" is meant to be..."
   ]
  },
  {
   "cell_type": "code",
   "execution_count": 44,
   "metadata": {},
   "outputs": [
    {
     "ename": "AttributeError",
     "evalue": "'XNATSession' object has no attribute 'mixin'",
     "output_type": "error",
     "traceback": [
      "\u001b[1;31m---------------------------------------------------------------------------\u001b[0m",
      "\u001b[1;31mAttributeError\u001b[0m                            Traceback (most recent call last)",
      "\u001b[1;32m<ipython-input-44-9ccb5058cfb0>\u001b[0m in \u001b[0;36m<module>\u001b[1;34m\u001b[0m\n\u001b[0;32m      1\u001b[0m \u001b[1;31m# First try:\u001b[0m\u001b[1;33m\u001b[0m\u001b[1;33m\u001b[0m\u001b[1;33m\u001b[0m\u001b[0m\n\u001b[1;32m----> 2\u001b[1;33m \u001b[0msession\u001b[0m\u001b[1;33m.\u001b[0m\u001b[0mmixin\u001b[0m\u001b[1;33m.\u001b[0m\u001b[0mupload_dir\u001b[0m\u001b[1;33m(\u001b[0m\u001b[0mdicomDLdir\u001b[0m\u001b[1;33m)\u001b[0m\u001b[1;33m\u001b[0m\u001b[1;33m\u001b[0m\u001b[0m\n\u001b[0m",
      "\u001b[1;31mAttributeError\u001b[0m: 'XNATSession' object has no attribute 'mixin'"
     ]
    }
   ],
   "source": [
    "# First try:\n",
    "session.mixin.upload_dir(dicomDLdir)"
   ]
  },
  {
   "cell_type": "code",
   "execution_count": 45,
   "metadata": {},
   "outputs": [
    {
     "ename": "NameError",
     "evalue": "name 'resource' is not defined",
     "output_type": "error",
     "traceback": [
      "\u001b[1;31m---------------------------------------------------------------------------\u001b[0m",
      "\u001b[1;31mNameError\u001b[0m                                 Traceback (most recent call last)",
      "\u001b[1;32m<ipython-input-45-a6d37a01c66b>\u001b[0m in \u001b[0;36m<module>\u001b[1;34m\u001b[0m\n\u001b[0;32m      1\u001b[0m \u001b[1;31m# Second try:\u001b[0m\u001b[1;33m\u001b[0m\u001b[1;33m\u001b[0m\u001b[1;33m\u001b[0m\u001b[0m\n\u001b[1;32m----> 2\u001b[1;33m \u001b[0mresource\u001b[0m\u001b[1;33m.\u001b[0m\u001b[0mupload_dir\u001b[0m\u001b[1;33m(\u001b[0m\u001b[0mdicomDLdir\u001b[0m\u001b[1;33m)\u001b[0m\u001b[1;33m\u001b[0m\u001b[1;33m\u001b[0m\u001b[0m\n\u001b[0m",
      "\u001b[1;31mNameError\u001b[0m: name 'resource' is not defined"
     ]
    }
   ],
   "source": [
    "# Second try:\n",
    "resource.upload_dir(dicomDLdir)"
   ]
  },
  {
   "cell_type": "markdown",
   "metadata": {},
   "source": [
    "### I didn't think that would work, since resource is not defined."
   ]
  },
  {
   "cell_type": "code",
   "execution_count": 46,
   "metadata": {},
   "outputs": [
    {
     "ename": "AttributeError",
     "evalue": "'XNATSession' object has no attribute 'upload_dir'",
     "output_type": "error",
     "traceback": [
      "\u001b[1;31m---------------------------------------------------------------------------\u001b[0m",
      "\u001b[1;31mAttributeError\u001b[0m                            Traceback (most recent call last)",
      "\u001b[1;32m<ipython-input-46-d0db87f0d6bd>\u001b[0m in \u001b[0;36m<module>\u001b[1;34m\u001b[0m\n\u001b[0;32m      1\u001b[0m \u001b[1;31m# Third try:\u001b[0m\u001b[1;33m\u001b[0m\u001b[1;33m\u001b[0m\u001b[1;33m\u001b[0m\u001b[0m\n\u001b[1;32m----> 2\u001b[1;33m \u001b[0msession\u001b[0m\u001b[1;33m.\u001b[0m\u001b[0mupload_dir\u001b[0m\u001b[1;33m(\u001b[0m\u001b[0mdicomDLdir\u001b[0m\u001b[1;33m)\u001b[0m\u001b[1;33m\u001b[0m\u001b[1;33m\u001b[0m\u001b[0m\n\u001b[0m",
      "\u001b[1;31mAttributeError\u001b[0m: 'XNATSession' object has no attribute 'upload_dir'"
     ]
    }
   ],
   "source": [
    "# Third try:\n",
    "session.upload_dir(dicomDLdir)"
   ]
  },
  {
   "cell_type": "code",
   "execution_count": 48,
   "metadata": {},
   "outputs": [
    {
     "ename": "AttributeError",
     "evalue": "'MrSessionData' object has no attribute 'upload_dir'",
     "output_type": "error",
     "traceback": [
      "\u001b[1;31m---------------------------------------------------------------------------\u001b[0m",
      "\u001b[1;31mAttributeError\u001b[0m                            Traceback (most recent call last)",
      "\u001b[1;32m<ipython-input-48-cfbc1e259c2a>\u001b[0m in \u001b[0;36m<module>\u001b[1;34m\u001b[0m\n\u001b[0;32m      1\u001b[0m \u001b[1;31m### Since I'm trying to upload to a particular experiment maybe that's what needs to be in place of resource:\u001b[0m\u001b[1;33m\u001b[0m\u001b[1;33m\u001b[0m\u001b[1;33m\u001b[0m\u001b[0m\n\u001b[1;32m----> 2\u001b[1;33m \u001b[0mexperiment\u001b[0m\u001b[1;33m.\u001b[0m\u001b[0mupload_dir\u001b[0m\u001b[1;33m(\u001b[0m\u001b[0mdicomDLdir\u001b[0m\u001b[1;33m)\u001b[0m\u001b[1;33m\u001b[0m\u001b[1;33m\u001b[0m\u001b[0m\n\u001b[0m",
      "\u001b[1;31mAttributeError\u001b[0m: 'MrSessionData' object has no attribute 'upload_dir'"
     ]
    }
   ],
   "source": [
    "# Since I'm trying to upload to a particular experiment maybe \n",
    "# that's what needs to be in place of resource:\n",
    "experiment.upload_dir(dicomDLdir)"
   ]
  },
  {
   "cell_type": "code",
   "execution_count": 49,
   "metadata": {},
   "outputs": [
    {
     "ename": "AttributeError",
     "evalue": "'SubjectData' object has no attribute 'upload_dir'",
     "output_type": "error",
     "traceback": [
      "\u001b[1;31m---------------------------------------------------------------------------\u001b[0m",
      "\u001b[1;31mAttributeError\u001b[0m                            Traceback (most recent call last)",
      "\u001b[1;32m<ipython-input-49-0674850fe5e4>\u001b[0m in \u001b[0;36m<module>\u001b[1;34m\u001b[0m\n\u001b[0;32m      1\u001b[0m \u001b[1;31m# Next try subject:\u001b[0m\u001b[1;33m\u001b[0m\u001b[1;33m\u001b[0m\u001b[1;33m\u001b[0m\u001b[0m\n\u001b[1;32m----> 2\u001b[1;33m \u001b[0msubject\u001b[0m\u001b[1;33m.\u001b[0m\u001b[0mupload_dir\u001b[0m\u001b[1;33m(\u001b[0m\u001b[0mdicomDLdir\u001b[0m\u001b[1;33m)\u001b[0m\u001b[1;33m\u001b[0m\u001b[1;33m\u001b[0m\u001b[0m\n\u001b[0m",
      "\u001b[1;31mAttributeError\u001b[0m: 'SubjectData' object has no attribute 'upload_dir'"
     ]
    }
   ],
   "source": [
    "# Next try subject:\n",
    "subject.upload_dir(dicomDLdir)"
   ]
  },
  {
   "cell_type": "code",
   "execution_count": 50,
   "metadata": {},
   "outputs": [
    {
     "ename": "AttributeError",
     "evalue": "'MrSessionData' object has no attribute 'resource'",
     "output_type": "error",
     "traceback": [
      "\u001b[1;31m---------------------------------------------------------------------------\u001b[0m",
      "\u001b[1;31mAttributeError\u001b[0m                            Traceback (most recent call last)",
      "\u001b[1;32m<ipython-input-50-db6628efc38f>\u001b[0m in \u001b[0;36m<module>\u001b[1;34m\u001b[0m\n\u001b[0;32m      1\u001b[0m \u001b[1;31m# Maybe resource needs to be added to experiment?\u001b[0m\u001b[1;33m\u001b[0m\u001b[1;33m\u001b[0m\u001b[1;33m\u001b[0m\u001b[0m\n\u001b[1;32m----> 2\u001b[1;33m \u001b[0mexperiment\u001b[0m\u001b[1;33m.\u001b[0m\u001b[0mresource\u001b[0m\u001b[1;33m.\u001b[0m\u001b[0mupload_dir\u001b[0m\u001b[1;33m(\u001b[0m\u001b[0mdicomDLdir\u001b[0m\u001b[1;33m)\u001b[0m\u001b[1;33m\u001b[0m\u001b[1;33m\u001b[0m\u001b[0m\n\u001b[0m",
      "\u001b[1;31mAttributeError\u001b[0m: 'MrSessionData' object has no attribute 'resource'"
     ]
    }
   ],
   "source": [
    "# Maybe resource needs to be added to experiment?\n",
    "experiment.resource.upload_dir(dicomDLdir)"
   ]
  },
  {
   "cell_type": "markdown",
   "metadata": {},
   "source": [
    "### Maybe I need to create an assessor for experiment, and then a resource for the assessor?..."
   ]
  },
  {
   "cell_type": "code",
   "execution_count": null,
   "metadata": {},
   "outputs": [],
   "source": []
  },
  {
   "cell_type": "code",
   "execution_count": null,
   "metadata": {},
   "outputs": [],
   "source": []
  },
  {
   "cell_type": "code",
   "execution_count": null,
   "metadata": {},
   "outputs": [],
   "source": []
  }
 ],
 "metadata": {
  "kernelspec": {
   "display_name": "Python 3",
   "language": "python",
   "name": "python3"
  },
  "language_info": {
   "codemirror_mode": {
    "name": "ipython",
    "version": 3
   },
   "file_extension": ".py",
   "mimetype": "text/x-python",
   "name": "python",
   "nbconvert_exporter": "python",
   "pygments_lexer": "ipython3",
   "version": "3.7.4"
  }
 },
 "nbformat": 4,
 "nbformat_minor": 2
}
