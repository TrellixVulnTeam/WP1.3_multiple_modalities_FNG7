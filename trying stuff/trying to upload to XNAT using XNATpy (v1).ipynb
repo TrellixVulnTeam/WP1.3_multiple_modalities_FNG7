{
 "cells": [
  {
   "cell_type": "markdown",
   "metadata": {},
   "source": [
    "# Trying to upload DICOMs and ROIs (DICOM-RTSTRUCTs) to XNAT\n",
    "\n",
    "### https://xnat.readthedocs.io/en/latest/index.html"
   ]
  },
  {
   "cell_type": "code",
   "execution_count": 1,
   "metadata": {},
   "outputs": [
    {
     "name": "stdout",
     "output_type": "stream",
     "text": [
      "XNATpy version = 0.3.21\n"
     ]
    }
   ],
   "source": [
    "import xnat\n",
    "#xnat.__version__ # 0.3.21\n",
    "print(f'XNATpy version = {xnat.__version__}') # 0.3.21\n",
    "import SimpleITK as sitk\n",
    "import pydicom\n",
    "import dicom2nifti\n",
    "import numpy as np\n",
    "#import math\n",
    "import matplotlib.pyplot as plt\n",
    "#from matplotlib import pyplot\n",
    "import matplotlib.image as mpimg\n",
    "import os, sys, time\n",
    "import natsort\n",
    "import dicom_functions\n",
    "import explore_dicom_data\n",
    "from myshow import myshow\n",
    "import importlib"
   ]
  },
  {
   "cell_type": "markdown",
   "metadata": {},
   "source": [
    "#### Connect to XNAT server:"
   ]
  },
  {
   "cell_type": "code",
   "execution_count": 2,
   "metadata": {},
   "outputs": [
    {
     "name": "stderr",
     "output_type": "stream",
     "text": [
      "[2020-02-17 08:26:43,314] DEBUG: __init__:197 >> Response url: http://10.1.1.17/data/projects\n",
      "[2020-02-17 08:26:43,315] DEBUG: __init__:59 >> Getting http://10.1.1.17/ to test auth\n",
      "[2020-02-17 08:26:43,585] DEBUG: __init__:61 >> Status: 200\n",
      "[2020-02-17 08:26:43,587] INFO: __init__:95 >> Logged in successfully as admin\n",
      "[2020-02-17 08:26:43,589] DEBUG: session:334 >> GET URI http://10.1.1.17/data/JSESSION\n",
      "[2020-02-17 08:26:43,605] DEBUG: session:307 >> Received response with status code: 200\n",
      "[2020-02-17 08:26:43,606] DEBUG: session:334 >> GET URI http://10.1.1.17/data/version\n",
      "[2020-02-17 08:26:43,616] DEBUG: session:307 >> Received response with status code: 404\n",
      "[2020-02-17 08:26:43,617] DEBUG: session:334 >> GET URI http://10.1.1.17/xapi/siteConfig/buildInfo?format=json\n",
      "[2020-02-17 08:26:43,629] DEBUG: session:307 >> Received response with status code: 200\n",
      "[2020-02-17 08:26:43,630] INFO: __init__:239 >> Found an 1.7 version (1.7.5.6)\n",
      "[2020-02-17 08:26:43,631] DEBUG: session:334 >> GET URI http://10.1.1.17/xapi/schemas?format=json\n",
      "[2020-02-17 08:26:43,663] DEBUG: session:307 >> Received response with status code: 200\n",
      "[2020-02-17 08:26:43,664] INFO: convert_xsd:949 >> === Retrieving schema from /xapi/schemas/roi ===\n",
      "[2020-02-17 08:26:43,665] DEBUG: session:334 >> GET URI http://10.1.1.17/xapi/schemas/roi\n",
      "[2020-02-17 08:26:43,680] DEBUG: session:307 >> Received response with status code: 200\n",
      "[2020-02-17 08:26:43,681] DEBUG: convert_xsd:919 >> Registering namespace: icr  ->  http://icr.ac.uk/icr\n",
      "[2020-02-17 08:26:43,682] DEBUG: convert_xsd:919 >> Registering namespace: xdat  ->  http://nrg.wustl.edu/xdat\n",
      "[2020-02-17 08:26:43,682] DEBUG: convert_xsd:919 >> Registering namespace: xs  ->  http://www.w3.org/2001/XMLSchema\n",
      "[2020-02-17 08:26:43,683] DEBUG: convert_xsd:919 >> Registering namespace: xnat  ->  http://nrg.wustl.edu/xnat\n",
      "[2020-02-17 08:26:43,684] DEBUG: convert_xsd:1241 >> Skipping non-class top-level tag {http://www.w3.org/2001/XMLSchema}import\n",
      "[2020-02-17 08:26:43,684] DEBUG: convert_xsd:1237 >> Adding RoiCollection -> icr:roiCollectionData to class name map\n",
      "[2020-02-17 08:26:43,685] DEBUG: convert_xsd:932 >> Found 0 unknown tags: set()\n",
      "[2020-02-17 08:26:43,685] INFO: convert_xsd:949 >> === Retrieving schema from /xapi/schemas/security ===\n",
      "[2020-02-17 08:26:43,686] DEBUG: session:334 >> GET URI http://10.1.1.17/xapi/schemas/security\n",
      "[2020-02-17 08:26:43,713] DEBUG: session:307 >> Received response with status code: 200\n",
      "[2020-02-17 08:26:43,716] DEBUG: convert_xsd:919 >> Registering namespace: xdat  ->  http://nrg.wustl.edu/security\n",
      "[2020-02-17 08:26:43,717] DEBUG: convert_xsd:919 >> Registering namespace: xs  ->  http://www.w3.org/2001/XMLSchema\n",
      "[2020-02-17 08:26:43,717] DEBUG: convert_xsd:1237 >> Adding security -> None to class name map\n",
      "[2020-02-17 08:26:43,718] DEBUG: convert_xsd:1237 >> Adding element_access -> None to class name map\n",
      "[2020-02-17 08:26:43,720] WARNING: convert_xsd:1138 >> Encountered attribute without name\n",
      "[2020-02-17 08:26:43,721] DEBUG: convert_xsd:1241 >> Skipping non-class top-level tag {http://www.w3.org/2001/XMLSchema}attributeGroup\n",
      "[2020-02-17 08:26:43,722] DEBUG: convert_xsd:1237 >> Adding bundle -> xdat:stored_search to class name map\n",
      "[2020-02-17 08:26:43,723] WARNING: convert_xsd:1138 >> Encountered attribute without name\n",
      "[2020-02-17 08:26:43,723] DEBUG: convert_xsd:1237 >> Adding UserGroup -> xdat:userGroup to class name map\n",
      "[2020-02-17 08:26:43,724] DEBUG: convert_xsd:1237 >> Adding XDATUser -> xdat:user to class name map\n",
      "[2020-02-17 08:26:43,725] DEBUG: convert_xsd:1237 >> Adding Search -> None to class name map\n",
      "[2020-02-17 08:26:43,725] DEBUG: convert_xsd:1237 >> Adding News -> xdat:newsEntry to class name map\n",
      "[2020-02-17 08:26:43,726] DEBUG: convert_xsd:1237 >> Adding Info -> xdat:infoEntry to class name map\n",
      "[2020-02-17 08:26:43,726] DEBUG: convert_xsd:932 >> Found 2 unknown tags: {'{http://nrg.wustl.edu/security}field', '{http://nrg.wustl.edu/security}element'}\n",
      "[2020-02-17 08:26:43,727] INFO: convert_xsd:949 >> === Retrieving schema from /xapi/schemas/xnat ===\n",
      "[2020-02-17 08:26:43,727] DEBUG: session:334 >> GET URI http://10.1.1.17/xapi/schemas/xnat\n",
      "[2020-02-17 08:26:43,752] DEBUG: session:307 >> Received response with status code: 200\n",
      "[2020-02-17 08:26:43,757] DEBUG: convert_xsd:919 >> Registering namespace: xnat  ->  http://nrg.wustl.edu/xnat\n",
      "[2020-02-17 08:26:43,757] DEBUG: convert_xsd:919 >> Registering namespace: prov  ->  http://www.nbirn.net/prov\n",
      "[2020-02-17 08:26:43,758] DEBUG: convert_xsd:919 >> Registering namespace: xdat  ->  http://nrg.wustl.edu/xdat\n",
      "[2020-02-17 08:26:43,759] DEBUG: convert_xsd:919 >> Registering namespace: xs  ->  http://www.w3.org/2001/XMLSchema\n",
      "[2020-02-17 08:26:43,759] DEBUG: convert_xsd:1241 >> Skipping non-class top-level tag {http://www.w3.org/2001/XMLSchema}import\n",
      "[2020-02-17 08:26:43,760] DEBUG: convert_xsd:1241 >> Skipping non-class top-level tag {http://www.w3.org/2001/XMLSchema}import\n",
      "[2020-02-17 08:26:43,760] DEBUG: convert_xsd:1237 >> Adding Project -> xnat:projectData to class name map\n",
      "[2020-02-17 08:26:43,761] DEBUG: convert_xsd:1237 >> Adding Subject -> xnat:subjectData to class name map\n",
      "[2020-02-17 08:26:43,761] DEBUG: convert_xsd:1237 >> Adding Investigator -> xnat:investigatorData to class name map\n",
      "[2020-02-17 08:26:43,761] DEBUG: convert_xsd:1237 >> Adding MRSession -> xnat:mrSessionData to class name map\n",
      "[2020-02-17 08:26:43,762] DEBUG: convert_xsd:1237 >> Adding CTSession -> xnat:ctSessionData to class name map\n",
      "[2020-02-17 08:26:43,763] DEBUG: convert_xsd:1237 >> Adding EPSSession -> xnat:epsSessionData to class name map\n",
      "[2020-02-17 08:26:43,764] DEBUG: convert_xsd:1237 >> Adding HDSession -> xnat:hdSessionData to class name map\n",
      "[2020-02-17 08:26:43,764] DEBUG: convert_xsd:1237 >> Adding ECGSession -> xnat:ecgSessionData to class name map\n",
      "[2020-02-17 08:26:43,765] DEBUG: convert_xsd:1237 >> Adding USSession -> xnat:usSessionData to class name map\n",
      "[2020-02-17 08:26:43,765] DEBUG: convert_xsd:1237 >> Adding IOSession -> xnat:ioSessionData to class name map\n",
      "[2020-02-17 08:26:43,766] DEBUG: convert_xsd:1237 >> Adding MGSession -> xnat:mgSessionData to class name map\n",
      "[2020-02-17 08:26:43,766] DEBUG: convert_xsd:1237 >> Adding DXSession -> xnat:dxSessionData to class name map\n",
      "[2020-02-17 08:26:43,767] DEBUG: convert_xsd:1237 >> Adding CRSession -> xnat:crSessionData to class name map\n",
      "[2020-02-17 08:26:43,767] DEBUG: convert_xsd:1237 >> Adding GMVSession -> xnat:gmvSessionData to class name map\n",
      "[2020-02-17 08:26:43,768] DEBUG: convert_xsd:1237 >> Adding GMSession -> xnat:gmSessionData to class name map\n",
      "[2020-02-17 08:26:43,768] DEBUG: convert_xsd:1237 >> Adding ESVSession -> xnat:esvSessionData to class name map\n",
      "[2020-02-17 08:26:43,769] DEBUG: convert_xsd:1237 >> Adding ESSession -> xnat:esSessionData to class name map\n",
      "[2020-02-17 08:26:43,769] DEBUG: convert_xsd:1237 >> Adding NMSession -> xnat:nmSessionData to class name map\n",
      "[2020-02-17 08:26:43,770] DEBUG: convert_xsd:1237 >> Adding SRSession -> xnat:srSessionData to class name map\n",
      "[2020-02-17 08:26:43,770] DEBUG: convert_xsd:1237 >> Adding DX3DCraniofacialSession -> xnat:dx3DCraniofacialSessionData to class name map\n",
      "[2020-02-17 08:26:43,771] DEBUG: convert_xsd:1237 >> Adding XA3DSession -> xnat:xa3DSessionData to class name map\n",
      "[2020-02-17 08:26:43,771] DEBUG: convert_xsd:1237 >> Adding RFSession -> xnat:rfSessionData to class name map\n",
      "[2020-02-17 08:26:43,772] DEBUG: convert_xsd:1237 >> Adding XASession -> xnat:xaSessionData to class name map\n",
      "[2020-02-17 08:26:43,773] DEBUG: convert_xsd:1237 >> Adding SMSession -> xnat:smSessionData to class name map\n",
      "[2020-02-17 08:26:43,773] DEBUG: convert_xsd:1237 >> Adding XCSession -> xnat:xcSessionData to class name map\n",
      "[2020-02-17 08:26:43,774] DEBUG: convert_xsd:1237 >> Adding XCVSession -> xnat:xcvSessionData to class name map\n",
      "[2020-02-17 08:26:43,775] DEBUG: convert_xsd:1237 >> Adding OPSession -> xnat:opSessionData to class name map\n",
      "[2020-02-17 08:26:43,776] DEBUG: convert_xsd:1237 >> Adding OPTSession -> xnat:optSessionData to class name map\n",
      "[2020-02-17 08:26:43,776] DEBUG: convert_xsd:1237 >> Adding RTSession -> xnat:rtSessionData to class name map\n",
      "[2020-02-17 08:26:43,777] DEBUG: convert_xsd:1237 >> Adding MEGSession -> xnat:megSessionData to class name map\n"
     ]
    },
    {
     "name": "stderr",
     "output_type": "stream",
     "text": [
      "[2020-02-17 08:26:43,778] DEBUG: convert_xsd:1237 >> Adding EEGSession -> xnat:eegSessionData to class name map\n",
      "[2020-02-17 08:26:43,778] DEBUG: convert_xsd:1237 >> Adding OtherDicomSession -> xnat:otherDicomSessionData to class name map\n",
      "[2020-02-17 08:26:43,778] DEBUG: convert_xsd:1237 >> Adding SubjectVariables -> xnat:subjectVariablesData to class name map\n",
      "[2020-02-17 08:26:43,779] DEBUG: convert_xsd:1237 >> Adding PETSession -> xnat:petSessionData to class name map\n",
      "[2020-02-17 08:26:43,780] DEBUG: convert_xsd:1237 >> Adding PETMRSession -> xnat:petmrSessionData to class name map\n",
      "[2020-02-17 08:26:43,780] DEBUG: convert_xsd:1237 >> Adding MRScan -> xnat:mrScanData to class name map\n",
      "[2020-02-17 08:26:43,781] DEBUG: convert_xsd:1237 >> Adding CTScan -> xnat:ctScanData to class name map\n",
      "[2020-02-17 08:26:43,781] DEBUG: convert_xsd:1237 >> Adding PETScan -> xnat:petScanData to class name map\n",
      "[2020-02-17 08:26:43,782] DEBUG: convert_xsd:1237 >> Adding EPSScan -> xnat:epsScanData to class name map\n",
      "[2020-02-17 08:26:43,782] DEBUG: convert_xsd:1237 >> Adding HDScan -> xnat:hdScanData to class name map\n",
      "[2020-02-17 08:26:43,783] DEBUG: convert_xsd:1237 >> Adding ECGScan -> xnat:ecgScanData to class name map\n",
      "[2020-02-17 08:26:43,783] DEBUG: convert_xsd:1237 >> Adding USScan -> xnat:usScanData to class name map\n",
      "[2020-02-17 08:26:43,785] DEBUG: convert_xsd:1237 >> Adding IOScan -> xnat:ioScanData to class name map\n",
      "[2020-02-17 08:26:43,785] DEBUG: convert_xsd:1237 >> Adding MGScan -> xnat:mgScanData to class name map\n",
      "[2020-02-17 08:26:43,786] DEBUG: convert_xsd:1237 >> Adding DXScan -> xnat:dxScanData to class name map\n",
      "[2020-02-17 08:26:43,787] DEBUG: convert_xsd:1237 >> Adding CRScan -> xnat:crScanData to class name map\n",
      "[2020-02-17 08:26:43,789] DEBUG: convert_xsd:1237 >> Adding GMVScan -> xnat:gmvScanData to class name map\n",
      "[2020-02-17 08:26:43,790] DEBUG: convert_xsd:1237 >> Adding GMScan -> xnat:gmScanData to class name map\n",
      "[2020-02-17 08:26:43,791] DEBUG: convert_xsd:1237 >> Adding ESVScan -> xnat:esvScanData to class name map\n",
      "[2020-02-17 08:26:43,792] DEBUG: convert_xsd:1237 >> Adding ESScan -> xnat:esScanData to class name map\n",
      "[2020-02-17 08:26:43,793] DEBUG: convert_xsd:1237 >> Adding NMScan -> xnat:nmScanData to class name map\n",
      "[2020-02-17 08:26:43,794] DEBUG: convert_xsd:1237 >> Adding SRScan -> xnat:srScanData to class name map\n",
      "[2020-02-17 08:26:43,796] DEBUG: convert_xsd:1237 >> Adding DX3DCraniofacialScan -> xnat:dx3DCraniofacialScanData to class name map\n",
      "[2020-02-17 08:26:43,798] DEBUG: convert_xsd:1237 >> Adding XA3DScan -> xnat:xa3DScanData to class name map\n",
      "[2020-02-17 08:26:43,799] DEBUG: convert_xsd:1237 >> Adding RFScan -> xnat:rfScanData to class name map\n",
      "[2020-02-17 08:26:43,800] DEBUG: convert_xsd:1237 >> Adding XAScan -> xnat:xaScanData to class name map\n",
      "[2020-02-17 08:26:43,800] DEBUG: convert_xsd:1237 >> Adding SMScan -> xnat:smScanData to class name map\n",
      "[2020-02-17 08:26:43,801] DEBUG: convert_xsd:1237 >> Adding XCScan -> xnat:xcScanData to class name map\n",
      "[2020-02-17 08:26:43,802] DEBUG: convert_xsd:1237 >> Adding XCVScan -> xnat:xcvScanData to class name map\n",
      "[2020-02-17 08:26:43,802] DEBUG: convert_xsd:1237 >> Adding OPScan -> xnat:opScanData to class name map\n",
      "[2020-02-17 08:26:43,803] DEBUG: convert_xsd:1237 >> Adding OPTScan -> xnat:optScanData to class name map\n",
      "[2020-02-17 08:26:43,804] DEBUG: convert_xsd:1237 >> Adding RTImageScan -> xnat:rtImageScanData to class name map\n",
      "[2020-02-17 08:26:43,804] DEBUG: convert_xsd:1237 >> Adding SCScan -> xnat:scScanData to class name map\n",
      "[2020-02-17 08:26:43,805] DEBUG: convert_xsd:1237 >> Adding SegScan -> xnat:segScanData to class name map\n",
      "[2020-02-17 08:26:43,805] DEBUG: convert_xsd:1237 >> Adding MRSScan -> xnat:mrsScanData to class name map\n",
      "[2020-02-17 08:26:43,806] DEBUG: convert_xsd:1237 >> Adding MEGScan -> xnat:megScanData to class name map\n",
      "[2020-02-17 08:26:43,806] DEBUG: convert_xsd:1237 >> Adding EEGScan -> xnat:eegScanData to class name map\n",
      "[2020-02-17 08:26:43,807] DEBUG: convert_xsd:1237 >> Adding VoiceAudioScan -> xnat:voiceAudioScanData to class name map\n",
      "[2020-02-17 08:26:43,808] DEBUG: convert_xsd:1237 >> Adding OtherDicomScan -> xnat:otherDicomScanData to class name map\n",
      "[2020-02-17 08:26:43,808] DEBUG: convert_xsd:1237 >> Adding ImageRegionResource -> xnat:regionResource to class name map\n",
      "[2020-02-17 08:26:43,809] DEBUG: convert_xsd:1237 >> Adding QCAssessment -> xnat:qcAssessmentData to class name map\n",
      "[2020-02-17 08:26:43,810] DEBUG: convert_xsd:1237 >> Adding ReconstructedImage -> xnat:reconstructedImageData to class name map\n",
      "[2020-02-17 08:26:43,810] DEBUG: convert_xsd:1237 >> Adding FieldDefinitionGroup -> xnat:fieldDefinitionGroup to class name map\n",
      "[2020-02-17 08:26:43,810] DEBUG: convert_xsd:1237 >> Adding ResourceCatalog -> xnat:resourceCatalog to class name map\n",
      "[2020-02-17 08:26:43,811] DEBUG: convert_xsd:1237 >> Adding QCManualAssessment -> xnat:qcManualAssessorData to class name map\n",
      "[2020-02-17 08:26:43,812] DEBUG: convert_xsd:1237 >> Adding Generic -> xnat:genericData to class name map\n",
      "[2020-02-17 08:26:43,812] DEBUG: convert_xsd:1237 >> Adding DicomCodedValue -> xnat:dicomCodedValue to class name map\n",
      "[2020-02-17 08:26:43,813] DEBUG: convert_xsd:1237 >> Adding Algorithm -> xnat:algorithm to class name map\n",
      "[2020-02-17 08:26:43,814] DEBUG: convert_xsd:1237 >> Adding PVisit -> xnat:pVisitData to class name map\n",
      "[2020-02-17 08:26:43,814] DEBUG: convert_xsd:1237 >> Adding FieldDefinitionSet -> xnat:fieldDefinitionGroup to class name map\n",
      "[2020-02-17 08:26:43,815] DEBUG: convert_xsd:1295 >> CLASS: xnat:projectData, PROP: ID, ELEMENT: <Element '{http://nrg.wustl.edu/xdat}sqlField' at 0x000002657DA2C958>\n",
      "[2020-02-17 08:26:43,815] DEBUG: convert_xsd:1295 >> CLASS: xnatpy:subjectDataSharing, PROP: share, ELEMENT: <Element '{http://nrg.wustl.edu/xdat}sqlField' at 0x000002657DA2C098>\n",
      "[2020-02-17 08:26:43,815] DEBUG: convert_xsd:1295 >> CLASS: xnatpy:subjectDataExperiments, PROP: experiment, ELEMENT: <Element '{http://nrg.wustl.edu/xdat}sqlField' at 0x000002657DA23688>\n",
      "[2020-02-17 08:26:43,815] DEBUG: convert_xsd:1295 >> CLASS: xnat:subjectData, PROP: ID, ELEMENT: <Element '{http://nrg.wustl.edu/xdat}sqlField' at 0x000002657DA23318>\n",
      "[2020-02-17 08:26:43,816] DEBUG: convert_xsd:1295 >> CLASS: xnat:subjectData, PROP: project, ELEMENT: <Element '{http://nrg.wustl.edu/xdat}sqlField' at 0x000002657DA1F728>\n",
      "[2020-02-17 08:26:43,816] DEBUG: convert_xsd:1295 >> CLASS: xnat:subjectData, PROP: group, ELEMENT: <Element '{http://nrg.wustl.edu/xdat}sqlField' at 0x000002657DA1FDB8>\n",
      "[2020-02-17 08:26:43,817] DEBUG: convert_xsd:1295 >> CLASS: xnat:projectParticipant, PROP: project, ELEMENT: <Element '{http://nrg.wustl.edu/xdat}sqlField' at 0x000002657DA1F3B8>\n",
      "[2020-02-17 08:26:43,818] DEBUG: convert_xsd:1295 >> CLASS: xnat:projectParticipant, PROP: subject_ID, ELEMENT: <Element '{http://nrg.wustl.edu/xdat}sqlField' at 0x000002657DA1F048>\n",
      "[2020-02-17 08:26:43,818] DEBUG: convert_xsd:1295 >> CLASS: xnat:projectParticipant, PROP: group, ELEMENT: <Element '{http://nrg.wustl.edu/xdat}sqlField' at 0x000002657DA1ADB8>\n",
      "[2020-02-17 08:26:43,819] DEBUG: convert_xsd:1295 >> CLASS: xnat:experimentData, PROP: ID, ELEMENT: <Element '{http://nrg.wustl.edu/xdat}sqlField' at 0x000002657DA122C8>\n",
      "[2020-02-17 08:26:43,821] DEBUG: convert_xsd:1295 >> CLASS: xnatpy:imageSessionDataRegions, PROP: region, ELEMENT: <Element '{http://nrg.wustl.edu/xdat}sqlField' at 0x000002657DA799A8>\n",
      "[2020-02-17 08:26:43,822] DEBUG: convert_xsd:1295 >> CLASS: xnatpy:imageSessionDataScans, PROP: scan, ELEMENT: <Element '{http://nrg.wustl.edu/xdat}sqlField' at 0x000002657DA7E778>\n",
      "[2020-02-17 08:26:43,823] DEBUG: convert_xsd:1295 >> CLASS: xnatpy:imageSessionDataReconstructions, PROP: reconstructedImage, ELEMENT: <Element '{http://nrg.wustl.edu/xdat}sqlField' at 0x000002657DA7EC78>\n",
      "[2020-02-17 08:26:43,824] DEBUG: convert_xsd:1295 >> CLASS: xnatpy:imageSessionDataAssessors, PROP: assessor, ELEMENT: <Element '{http://nrg.wustl.edu/xdat}sqlField' at 0x000002657DA82098>\n",
      "[2020-02-17 08:26:43,833] DEBUG: convert_xsd:1295 >> CLASS: xnatpy:fieldDefinitionGroupFieldsField, PROP: group, ELEMENT: <Element '{http://nrg.wustl.edu/xdat}sqlField' at 0x000002657DB2DC78>\n"
     ]
    },
    {
     "name": "stderr",
     "output_type": "stream",
     "text": [
      "[2020-02-17 08:26:43,838] DEBUG: convert_xsd:932 >> Found 3 unknown tags: {'{http://nrg.wustl.edu/security}field', '{http://nrg.wustl.edu/security}element', '{http://nrg.wustl.edu/xdat}relation'}\n",
      "[2020-02-17 08:26:43,839] INFO: convert_xsd:949 >> === Retrieving schema from /xapi/schemas/assessments ===\n",
      "[2020-02-17 08:26:43,841] DEBUG: session:334 >> GET URI http://10.1.1.17/xapi/schemas/assessments\n",
      "[2020-02-17 08:26:43,865] DEBUG: session:307 >> Received response with status code: 200\n",
      "[2020-02-17 08:26:43,866] DEBUG: convert_xsd:919 >> Registering namespace: xs  ->  http://www.w3.org/2001/XMLSchema\n",
      "[2020-02-17 08:26:43,867] DEBUG: convert_xsd:919 >> Registering namespace: xnat  ->  http://nrg.wustl.edu/xnat\n",
      "[2020-02-17 08:26:43,867] DEBUG: convert_xsd:919 >> Registering namespace: xnat_a  ->  http://nrg.wustl.edu/xnat_assessments\n",
      "[2020-02-17 08:26:43,868] DEBUG: convert_xsd:1241 >> Skipping non-class top-level tag {http://www.w3.org/2001/XMLSchema}import\n",
      "[2020-02-17 08:26:43,868] DEBUG: convert_xsd:1237 >> Adding SideEffectsPittsburgh -> xnat_a:sideEffectsPittsburghData to class name map\n",
      "[2020-02-17 08:26:43,869] DEBUG: convert_xsd:1237 >> Adding YBOCS -> xnat_a:ybocsData to class name map\n",
      "[2020-02-17 08:26:43,869] DEBUG: convert_xsd:1237 >> Adding YGTSS -> xnat_a:ygtssData to class name map\n",
      "[2020-02-17 08:26:43,869] DEBUG: convert_xsd:1237 >> Adding UPDRS3 -> xnat_a:updrs3Data to class name map\n",
      "[2020-02-17 08:26:43,870] DEBUG: convert_xsd:1237 >> Adding SCID -> xnat_a:scidResearchData to class name map\n",
      "[2020-02-17 08:26:43,873] DEBUG: convert_xsd:932 >> Found 3 unknown tags: {'{http://nrg.wustl.edu/security}field', '{http://nrg.wustl.edu/security}element', '{http://nrg.wustl.edu/xdat}relation'}\n",
      "[2020-02-17 08:26:43,874] INFO: convert_xsd:949 >> === Retrieving schema from /xapi/schemas/screening/screeningAssessment ===\n",
      "[2020-02-17 08:26:43,874] DEBUG: session:334 >> GET URI http://10.1.1.17/xapi/schemas/screening/screeningAssessment\n",
      "[2020-02-17 08:26:43,885] DEBUG: session:307 >> Received response with status code: 200\n",
      "[2020-02-17 08:26:43,886] DEBUG: convert_xsd:919 >> Registering namespace: xdat  ->  http://nrg.wustl.edu/xdat\n",
      "[2020-02-17 08:26:43,886] DEBUG: convert_xsd:919 >> Registering namespace: scr  ->  http://nrg.wustl.edu/scr\n",
      "[2020-02-17 08:26:43,887] DEBUG: convert_xsd:919 >> Registering namespace: xnat  ->  http://nrg.wustl.edu/xnat\n",
      "[2020-02-17 08:26:43,888] DEBUG: convert_xsd:919 >> Registering namespace: xs  ->  http://www.w3.org/2001/XMLSchema\n",
      "[2020-02-17 08:26:43,888] DEBUG: convert_xsd:1241 >> Skipping non-class top-level tag {http://www.w3.org/2001/XMLSchema}import\n",
      "[2020-02-17 08:26:43,888] DEBUG: convert_xsd:1237 >> Adding ScreeningAssessment -> scr:screeningAssessment to class name map\n",
      "[2020-02-17 08:26:43,888] DEBUG: convert_xsd:932 >> Found 3 unknown tags: {'{http://nrg.wustl.edu/security}field', '{http://nrg.wustl.edu/security}element', '{http://nrg.wustl.edu/xdat}relation'}\n",
      "[2020-02-17 08:26:43,889] INFO: convert_xsd:949 >> === Retrieving schema from /xapi/schemas/pipeline/build ===\n",
      "[2020-02-17 08:26:43,889] DEBUG: session:334 >> GET URI http://10.1.1.17/xapi/schemas/pipeline/build\n",
      "[2020-02-17 08:26:43,899] DEBUG: session:307 >> Received response with status code: 200\n",
      "[2020-02-17 08:26:43,900] DEBUG: convert_xsd:919 >> Registering namespace: xs  ->  http://www.w3.org/2001/XMLSchema\n",
      "[2020-02-17 08:26:43,900] DEBUG: convert_xsd:919 >> Registering namespace: build  ->  http://nrg.wustl.edu/build\n",
      "[2020-02-17 08:26:43,901] DEBUG: convert_xsd:1237 >> Adding Build -> build:buildData to class name map\n",
      "[2020-02-17 08:26:43,901] DEBUG: convert_xsd:932 >> Found 3 unknown tags: {'{http://nrg.wustl.edu/security}field', '{http://nrg.wustl.edu/security}element', '{http://nrg.wustl.edu/xdat}relation'}\n",
      "[2020-02-17 08:26:43,902] INFO: convert_xsd:949 >> === Retrieving schema from /xapi/schemas/pipeline/repository ===\n",
      "[2020-02-17 08:26:43,903] DEBUG: session:334 >> GET URI http://10.1.1.17/xapi/schemas/pipeline/repository\n",
      "[2020-02-17 08:26:43,912] DEBUG: session:307 >> Received response with status code: 200\n",
      "[2020-02-17 08:26:43,913] DEBUG: convert_xsd:919 >> Registering namespace: xs  ->  http://www.w3.org/2001/XMLSchema\n",
      "[2020-02-17 08:26:43,914] DEBUG: convert_xsd:919 >> Registering namespace: xdat  ->  http://nrg.wustl.edu/xdat\n",
      "[2020-02-17 08:26:43,915] DEBUG: convert_xsd:919 >> Registering namespace: pipe  ->  http://nrg.wustl.edu/pipe\n",
      "[2020-02-17 08:26:43,915] DEBUG: convert_xsd:1237 >> Adding PipelineRepository -> None to class name map\n",
      "[2020-02-17 08:26:43,916] DEBUG: convert_xsd:1295 >> CLASS: pipe:pipelineDetails, PROP: path, ELEMENT: <Element '{http://nrg.wustl.edu/xdat}sqlField' at 0x000002657DB3F318>\n",
      "[2020-02-17 08:26:43,917] DEBUG: convert_xsd:932 >> Found 3 unknown tags: {'{http://nrg.wustl.edu/security}field', '{http://nrg.wustl.edu/security}element', '{http://nrg.wustl.edu/xdat}relation'}\n",
      "[2020-02-17 08:26:43,917] INFO: convert_xsd:949 >> === Retrieving schema from /xapi/schemas/pipeline/workflow ===\n",
      "[2020-02-17 08:26:43,918] DEBUG: session:334 >> GET URI http://10.1.1.17/xapi/schemas/pipeline/workflow\n",
      "[2020-02-17 08:26:43,930] DEBUG: session:307 >> Received response with status code: 200\n",
      "[2020-02-17 08:26:43,932] DEBUG: convert_xsd:919 >> Registering namespace: xdat  ->  http://nrg.wustl.edu/xdat\n",
      "[2020-02-17 08:26:43,933] DEBUG: convert_xsd:919 >> Registering namespace: wrk  ->  http://nrg.wustl.edu/workflow\n",
      "[2020-02-17 08:26:43,934] DEBUG: convert_xsd:919 >> Registering namespace: xs  ->  http://www.w3.org/2001/XMLSchema\n",
      "[2020-02-17 08:26:43,935] DEBUG: convert_xsd:1237 >> Adding Workflow -> wrk:workflowData to class name map\n",
      "[2020-02-17 08:26:43,936] DEBUG: convert_xsd:932 >> Found 3 unknown tags: {'{http://nrg.wustl.edu/security}field', '{http://nrg.wustl.edu/security}element', '{http://nrg.wustl.edu/xdat}relation'}\n",
      "[2020-02-17 08:26:43,936] INFO: convert_xsd:949 >> === Retrieving schema from /xapi/schemas/birn/birnprov ===\n",
      "[2020-02-17 08:26:43,937] DEBUG: session:334 >> GET URI http://10.1.1.17/xapi/schemas/birn/birnprov\n",
      "[2020-02-17 08:26:43,944] DEBUG: session:307 >> Received response with status code: 200\n",
      "[2020-02-17 08:26:43,945] DEBUG: convert_xsd:919 >> Registering namespace: xdat  ->  http://nrg.wustl.edu/xdat\n",
      "[2020-02-17 08:26:43,946] DEBUG: convert_xsd:919 >> Registering namespace: prov  ->  http://www.nbirn.net/prov\n",
      "[2020-02-17 08:26:43,947] DEBUG: convert_xsd:919 >> Registering namespace: xs  ->  http://www.w3.org/2001/XMLSchema\n",
      "[2020-02-17 08:26:43,947] DEBUG: convert_xsd:1237 >> Adding process -> prov:process to class name map\n",
      "[2020-02-17 08:26:43,948] DEBUG: convert_xsd:1295 >> CLASS: prov:processStep, PROP: user, ELEMENT: <Element '{http://nrg.wustl.edu/xdat}sqlField' at 0x000002657DB504F8>\n",
      "[2020-02-17 08:26:43,949] DEBUG: convert_xsd:932 >> Found 3 unknown tags: {'{http://nrg.wustl.edu/security}field', '{http://nrg.wustl.edu/security}element', '{http://nrg.wustl.edu/xdat}relation'}\n",
      "[2020-02-17 08:26:43,949] INFO: convert_xsd:949 >> === Retrieving schema from /xapi/schemas/catalog ===\n",
      "[2020-02-17 08:26:43,950] DEBUG: session:334 >> GET URI http://10.1.1.17/xapi/schemas/catalog\n",
      "[2020-02-17 08:26:43,958] DEBUG: session:307 >> Received response with status code: 200\n",
      "[2020-02-17 08:26:43,960] DEBUG: convert_xsd:919 >> Registering namespace: cat  ->  http://nrg.wustl.edu/catalog\n",
      "[2020-02-17 08:26:43,960] DEBUG: convert_xsd:919 >> Registering namespace: xs  ->  http://www.w3.org/2001/XMLSchema\n",
      "[2020-02-17 08:26:43,961] DEBUG: convert_xsd:1237 >> Adding Catalog -> cat:catalog to class name map\n",
      "[2020-02-17 08:26:43,961] DEBUG: convert_xsd:1237 >> Adding Entry -> cat:entry to class name map\n",
      "[2020-02-17 08:26:43,961] DEBUG: convert_xsd:1237 >> Adding DCMCatalog -> cat:dcmCatalog to class name map\n",
      "[2020-02-17 08:26:43,962] DEBUG: convert_xsd:932 >> Found 3 unknown tags: {'{http://nrg.wustl.edu/security}field', '{http://nrg.wustl.edu/security}element', '{http://nrg.wustl.edu/xdat}relation'}\n",
      "[2020-02-17 08:26:43,963] INFO: convert_xsd:949 >> === Retrieving schema from /xapi/schemas/project ===\n",
      "[2020-02-17 08:26:43,964] DEBUG: session:334 >> GET URI http://10.1.1.17/xapi/schemas/project\n",
      "[2020-02-17 08:26:43,974] DEBUG: session:307 >> Received response with status code: 200\n"
     ]
    },
    {
     "name": "stderr",
     "output_type": "stream",
     "text": [
      "[2020-02-17 08:26:43,976] DEBUG: convert_xsd:919 >> Registering namespace: arc  ->  http://nrg.wustl.edu/arc\n",
      "[2020-02-17 08:26:43,977] DEBUG: convert_xsd:919 >> Registering namespace: xs  ->  http://www.w3.org/2001/XMLSchema\n",
      "[2020-02-17 08:26:43,977] DEBUG: convert_xsd:919 >> Registering namespace: xdat  ->  http://nrg.wustl.edu/xdat\n",
      "[2020-02-17 08:26:43,978] DEBUG: convert_xsd:1237 >> Adding ArchiveSpecification -> None to class name map\n",
      "[2020-02-17 08:26:43,979] DEBUG: convert_xsd:932 >> Found 3 unknown tags: {'{http://nrg.wustl.edu/security}field', '{http://nrg.wustl.edu/security}element', '{http://nrg.wustl.edu/xdat}relation'}\n",
      "[2020-02-17 08:26:43,979] INFO: convert_xsd:949 >> === Retrieving schema from /xapi/schemas/validation/protocolValidation ===\n",
      "[2020-02-17 08:26:43,980] DEBUG: session:334 >> GET URI http://10.1.1.17/xapi/schemas/validation/protocolValidation\n",
      "[2020-02-17 08:26:43,993] DEBUG: session:307 >> Received response with status code: 200\n",
      "[2020-02-17 08:26:43,994] DEBUG: convert_xsd:919 >> Registering namespace: xdat  ->  http://nrg.wustl.edu/xdat\n",
      "[2020-02-17 08:26:43,995] DEBUG: convert_xsd:919 >> Registering namespace: val  ->  http://nrg.wustl.edu/val\n",
      "[2020-02-17 08:26:43,995] DEBUG: convert_xsd:919 >> Registering namespace: xnat  ->  http://nrg.wustl.edu/xnat\n",
      "[2020-02-17 08:26:43,996] DEBUG: convert_xsd:919 >> Registering namespace: xs  ->  http://www.w3.org/2001/XMLSchema\n",
      "[2020-02-17 08:26:43,996] DEBUG: convert_xsd:1241 >> Skipping non-class top-level tag {http://www.w3.org/2001/XMLSchema}import\n",
      "[2020-02-17 08:26:43,997] DEBUG: convert_xsd:1237 >> Adding ProtocolVal -> val:protocolData to class name map\n",
      "[2020-02-17 08:26:43,997] DEBUG: convert_xsd:932 >> Found 3 unknown tags: {'{http://nrg.wustl.edu/security}field', '{http://nrg.wustl.edu/security}element', '{http://nrg.wustl.edu/xdat}relation'}\n",
      "[2020-02-17 08:26:43,997] INFO: convert_xsd:949 >> === Retrieving schema from /xapi/schemas/xdat/display ===\n",
      "[2020-02-17 08:26:43,998] DEBUG: session:334 >> GET URI http://10.1.1.17/xapi/schemas/xdat/display\n",
      "[2020-02-17 08:26:44,044] DEBUG: session:307 >> Received response with status code: 200\n",
      "[2020-02-17 08:26:44,046] DEBUG: convert_xsd:919 >> Registering namespace: xs  ->  http://www.w3.org/2001/XMLSchema\n",
      "[2020-02-17 08:26:44,046] DEBUG: convert_xsd:919 >> Registering namespace: display  ->  http://nrg.wustl.edu/display\n",
      "[2020-02-17 08:26:44,047] DEBUG: convert_xsd:1237 >> Adding Displays -> None to class name map\n",
      "[2020-02-17 08:26:44,048] DEBUG: convert_xsd:1237 >> Adding Mapping -> None to class name map\n",
      "[2020-02-17 08:26:44,048] DEBUG: convert_xsd:1237 >> Adding DisplayFieldElement -> None to class name map\n",
      "[2020-02-17 08:26:44,049] DEBUG: convert_xsd:1237 >> Adding Arc-Definition -> None to class name map\n",
      "[2020-02-17 08:26:44,050] DEBUG: convert_xsd:1237 >> Adding Arc -> None to class name map\n",
      "[2020-02-17 08:26:44,051] WARNING: convert_xsd:1138 >> Encountered attribute without name\n",
      "[2020-02-17 08:26:44,052] DEBUG: convert_xsd:932 >> Found 3 unknown tags: {'{http://nrg.wustl.edu/security}field', '{http://nrg.wustl.edu/security}element', '{http://nrg.wustl.edu/xdat}relation'}\n",
      "[2020-02-17 08:26:44,053] INFO: convert_xsd:949 >> === Retrieving schema from /xapi/schemas/xdat ===\n",
      "[2020-02-17 08:26:44,053] DEBUG: session:334 >> GET URI http://10.1.1.17/xapi/schemas/xdat\n",
      "[2020-02-17 08:26:44,066] DEBUG: session:307 >> Received response with status code: 200\n",
      "[2020-02-17 08:26:44,067] DEBUG: convert_xsd:919 >> Registering namespace: xs  ->  http://www.w3.org/2001/XMLSchema\n",
      "[2020-02-17 08:26:44,068] DEBUG: convert_xsd:1237 >> Adding rule -> None to class name map\n",
      "[2020-02-17 08:26:44,068] DEBUG: convert_xsd:1237 >> Adding sqlField -> None to class name map\n",
      "[2020-02-17 08:26:44,068] DEBUG: convert_xsd:1237 >> Adding relation -> None to class name map\n",
      "[2020-02-17 08:26:44,069] DEBUG: convert_xsd:1237 >> Adding field -> None to class name map\n",
      "[2020-02-17 08:26:44,070] DEBUG: convert_xsd:1237 >> Adding sqlElement -> None to class name map\n",
      "[2020-02-17 08:26:44,070] DEBUG: convert_xsd:1237 >> Adding element -> None to class name map\n",
      "[2020-02-17 08:26:44,070] DEBUG: convert_xsd:1237 >> Adding container -> None to class name map\n",
      "[2020-02-17 08:26:44,071] DEBUG: convert_xsd:932 >> Found 3 unknown tags: {'{http://nrg.wustl.edu/security}field', '{http://nrg.wustl.edu/security}element', '{http://nrg.wustl.edu/xdat}relation'}\n",
      "[2020-02-17 08:26:44,072] INFO: convert_xsd:949 >> === Retrieving schema from /xapi/schemas/xdat/instance ===\n",
      "[2020-02-17 08:26:44,073] DEBUG: session:334 >> GET URI http://10.1.1.17/xapi/schemas/xdat/instance\n",
      "[2020-02-17 08:26:44,082] DEBUG: session:307 >> Received response with status code: 200\n",
      "[2020-02-17 08:26:44,083] DEBUG: convert_xsd:919 >> Registering namespace: xs  ->  http://www.w3.org/2001/XMLSchema\n",
      "[2020-02-17 08:26:44,084] DEBUG: convert_xsd:1237 >> Adding Instance_Settings -> None to class name map\n",
      "[2020-02-17 08:26:44,084] DEBUG: convert_xsd:932 >> Found 3 unknown tags: {'{http://nrg.wustl.edu/security}field', '{http://nrg.wustl.edu/security}element', '{http://nrg.wustl.edu/xdat}relation'}\n",
      "[2020-02-17 08:26:44,084] INFO: convert_xsd:949 >> === Retrieving schema from /xapi/schemas/xdat/PlexiViewer ===\n",
      "[2020-02-17 08:26:44,086] DEBUG: session:334 >> GET URI http://10.1.1.17/xapi/schemas/xdat/PlexiViewer\n",
      "[2020-02-17 08:26:44,099] DEBUG: session:307 >> Received response with status code: 200\n",
      "[2020-02-17 08:26:44,100] DEBUG: convert_xsd:919 >> Registering namespace: xs  ->  http://www.w3.org/2001/XMLSchema\n",
      "[2020-02-17 08:26:44,101] DEBUG: convert_xsd:1237 >> Adding Layout -> LayoutDescription to class name map\n",
      "[2020-02-17 08:26:44,101] DEBUG: convert_xsd:1237 >> Adding CropDetails -> None to class name map\n",
      "[2020-02-17 08:26:44,102] DEBUG: convert_xsd:1237 >> Adding MontageView -> None to class name map\n",
      "[2020-02-17 08:26:44,102] DEBUG: convert_xsd:1237 >> Adding Viewer -> None to class name map\n",
      "[2020-02-17 08:26:44,103] WARNING: convert_xsd:1138 >> Encountered attribute without name\n",
      "[2020-02-17 08:26:44,104] WARNING: convert_xsd:1138 >> Encountered attribute without name\n",
      "[2020-02-17 08:26:44,105] WARNING: convert_xsd:1138 >> Encountered attribute without name\n",
      "[2020-02-17 08:26:44,105] WARNING: convert_xsd:1138 >> Encountered attribute without name\n",
      "[2020-02-17 08:26:44,106] WARNING: convert_xsd:1138 >> Encountered attribute without name\n",
      "[2020-02-17 08:26:44,106] DEBUG: convert_xsd:932 >> Found 3 unknown tags: {'{http://nrg.wustl.edu/security}field', '{http://nrg.wustl.edu/security}element', '{http://nrg.wustl.edu/xdat}relation'}\n",
      "[2020-02-17 08:26:44,109] DEBUG: convert_xsd:1397 >> namespaces: {'icr': 'http://icr.ac.uk/icr', 'xdat': 'http://nrg.wustl.edu/xdat', 'xs': 'http://www.w3.org/2001/XMLSchema', 'xnat': 'http://nrg.wustl.edu/xnat', 'prov': 'http://www.nbirn.net/prov', 'xnat_a': 'http://nrg.wustl.edu/xnat_assessments', 'scr': 'http://nrg.wustl.edu/scr', 'build': 'http://nrg.wustl.edu/build', 'pipe': 'http://nrg.wustl.edu/pipe', 'wrk': 'http://nrg.wustl.edu/workflow', 'cat': 'http://nrg.wustl.edu/catalog', 'arc': 'http://nrg.wustl.edu/arc', 'val': 'http://nrg.wustl.edu/val', 'display': 'http://nrg.wustl.edu/display'}\n",
      "[2020-02-17 08:26:44,110] DEBUG: convert_xsd:1398 >> namespace prefixes: {'http://icr.ac.uk/icr': 'icr', 'http://nrg.wustl.edu/xdat': 'xdat', 'http://www.w3.org/2001/XMLSchema': 'xs', 'http://nrg.wustl.edu/xnat': 'xnat', 'http://nrg.wustl.edu/security': 'xdat', 'http://www.nbirn.net/prov': 'prov', 'http://nrg.wustl.edu/xnat_assessments': 'xnat_a', 'http://nrg.wustl.edu/scr': 'scr', 'http://nrg.wustl.edu/build': 'build', 'http://nrg.wustl.edu/pipe': 'pipe', 'http://nrg.wustl.edu/workflow': 'wrk', 'http://nrg.wustl.edu/catalog': 'cat', 'http://nrg.wustl.edu/arc': 'arc', 'http://nrg.wustl.edu/val': 'val', 'http://nrg.wustl.edu/display': 'display'}\n",
      "[2020-02-17 08:26:44,110] INFO: convert_xsd:1400 >> === Pruning data structure ===\n",
      "[2020-02-17 08:26:44,111] DEBUG: convert_xsd:1403 >> Classed before prune: {'xnatpy:protocolDataScans', 'xnatpy:imageScanDataScanner', 'xnatpy:dicomSeriesImageset', 'xnat:petmrSessionData', 'arc:pipelineParameterData', 'xnat:opSessionData', 'xnatpy:fieldDefinitionGroupFields', 'xnatpy:ctScanDataParametersFocalspots', 'xnatpy:subjectDataResources', 'xnatpy:userGroups', 'xnatpy:abstractResourceTags', 'xnatpy:element_securityListing_actionsListing_action', 'xnatpy:ecatValidationString', 'xnatpy:subjectDataExperiments', 'xnatpy:qcAssessmentDataScansScanSliceqc', 'xnatpy:petScanDataParametersPixelsize', 'xnatpy:additionalStatisticsDouble', 'xnatpy:ratingString', 'xnatpy:regionResourceSubregionlabels', 'xdat:criteria_set', 'xnatpy:ctScanDataParametersDerivation', 'xnat:ctScanData', 'xnatpy:pipelineDetailsParameters', 'xnat:subjectAssessorData', 'xnatpy:fieldString', 'xnat:optScanData', 'xnatpy:FieldTypeHtml-linkPropertyInsertvalue', 'xnatpy:role_typeAllowed_actions', 'build:imageSessionData', 'xnat:imageScanData', 'xnatpy:catalogMetafieldsMetafield', 'PlexiViewerType', 'xnatpy:fieldDefinitionGroupFieldsFieldPossiblevalues', 'xnatpy:petSessionDataTracerIntermediate', 'xnatpy:projectPipelinesDescendants', 'xnatpy:petSessionDataTracerDose', 'xnatpy:petScanDataParametersFramesFrame', 'xnatpy:eegScanDataChannels', 'arc:pathInfo', 'xnatpy:ctScanDataParametersVoxelres', 'xnatpy:subjectVariablesDataVariables', 'xnatpy:imageAssessorDataIn', 'xnatpy:ctScanDataParameters', 'xnat:usScanData', 'xnatpy:FieldTypeHtml-image', 'xnatpy:protocolDataScansScan_checkConditionsCondition', 'xnatpy:petScanDataParametersRfilter', 'icr:roiCollectionData', 'xnatpy:petScanDataParametersResolution', 'xnatpy:xaScanDataParameters', 'xnatpy:studyProtocolAcqconditionsCondition', 'xnatpy:primary_security_fieldString', 'xnatpy:petmrSessionDataTracerIsotope', 'xnatpy:projectDataFieldsField', 'xnat:qcScanData', 'xnatpy:catalogSets', 'xnatpy:ctScanDataParametersEstimateddosesaving', 'xnat:nmScanData', 'xnatpy:imageSessionDataScans', 'xnatpy:petSessionDataTracer', 'xnat:crSessionData', 'xnatpy:regionResourceSubregionlabelsLabel', 'xnatpy:updrs3DataRigidity', 'xnat:imageResourceSeries', 'xnatpy:eegScanDataParameters', 'xnatpy:LayoutDescriptionCoordinates', 'xnat:pVisitData', 'xnat:dxSessionData', 'display:SubQueryField', 'xdat:user', 'xnat:xcScanData', 'xnat:mrSessionData', 'xdat:userGroup', 'xnat_a:scidResearchData', 'xnatpy:petScanDataParametersFilter', 'xnatpy:reconstructedImageDataOut', 'xnatpy:scidResearchDataOptional', 'xnatpy:studyProtocolSubjectvariables', 'xnatpy:PlexiViewerTypeViewableitemSchemalink', 'xnatpy:SubQueryFieldMappingcolumns', 'xnatpy:entryMetafields', 'xnatpy:SubQueryFieldMappingcolumnsMappingcolumn', 'xnatpy:experimentDataDelay', 'xnatpy:entryTags', 'xnatpy:scidResearchDataEatingdisorders', 'xnatpy:processStepLibrary', 'xnat:demographicData', 'xnatpy:fieldSpecificationString', 'xdat:criteria', 'xnatpy:mrScanDataParametersFov', 'xnatpy:protocolDataCheckCommentsComment', 'xnatpy:ctScanDataDcmvalidation', 'xnatpy:PlexiViewerTypeViewableitemThumbnail', 'xnatpy:petmrSessionDataTracerDose', 'xnatpy:imageResourceSeriesVoxelres', 'xnatpy:petmrSessionDataTracer', 'xnatpy:protocolDataScansScan_checkComments', 'xnat:projectParticipant', 'xnat:xcvScanData', 'xnat:reconstructedImageData', 'xnatpy:imageSessionDataAssessors', 'xnat:abstractStatistics', 'build:pipelineParameterData', 'xnatpy:heightFloat', 'xnatpy:mrScanDataParametersMatrix', 'LayoutDescription', 'xnatpy:statisticsDataAdditionalstatistics', 'xnatpy:ygtssDataPhonic', 'val:additionalVal', 'xdat:primary_security_field', 'xnatpy:xaScanDataParametersPixelres', 'xnat:resourceSeries', 'prov:process', 'SchemaLinkType', 'xnatpy:updrs3DataHandsram', 'xnat:imageSessionData', 'xnatpy:datatypeProtocolDefinitions', 'xnat_a:updrs3Data', 'xnatpy:protocolDataScansScan_checkConditions', 'xnatpy:PlexiViewerTypeViewableitemLo-resParameter', 'xnat:smSessionData', 'xnatpy:shareString', 'xnatpy:imageSessionDataPipeline', 'xnatpy:element_securityElement_actions', 'xnatpy:stored_searchAllowed_user', 'xnat:gmSessionData', 'xnat:publicationResource', 'xnatpy:qcManualAssessorDataScans', 'xnat:esvSessionData', 'xnatpy:imageScanDataSharingShare', 'xnatpy:projectPipelinesDescendantsDescendant', 'xnat:esScanData', 'xnatpy:userAssigned_roles', 'xnatpy:stored_searchSort_by', 'xnatpy:PlexiViewerTypeViewableitemLo-res', 'xnatpy:aliasString', 'xnat:rfSessionData', 'xnatpy:xnatExecutionEnvironmentParameters', 'xnatpy:doseFloat', 'pipe:pipelineDetails', 'xnat:subjectVariablesData', 'xnat:xcvSessionData', 'xnatpy:mrScanDataParametersInplanephaseencoding', 'xdat:stored_search', 'xnatpy:volumetricRegionSubregionsSubregion', 'display:HTML-Cell', 'xnatpy:ContentString', 'xnat:megSessionData', 'xnatpy:pipelineDetailsParametersParameter', 'xnatpy:petQcScanDataProcessingerrors', 'xnat:fieldDefinitionGroup', 'xnatpy:studyProtocolSubjectvariablesVariable', 'xnatpy:petScanDataEcatvalidation', 'xnatpy:qcScanDataFieldsField', 'xnat:eegSessionData', 'xnatpy:subjectVariablesDataVariablesVariable', 'xnatpy:statisticsDataAddfield', 'xnat:mrScanData', 'xnatpy:scidResearchDataMooddisorders', 'arc:project', 'xnat:gmvSessionData', 'xnatpy:updrs3DataFoottaps', 'xdat:element_security', 'xnatpy:PlexiViewerTypeViewableitemUserinterface', 'xnatpy:dcmCatalogVoxelres', 'xnatpy:protocolDataCheckComments', 'xnatpy:element_securityListing_actions', 'xnatpy:PlexiViewerTypeViewableitem', 'xnatpy:mrScanDataParametersDiffusion', 'xnatpy:studyProtocolSubjectgroupsGroup', 'xnatpy:qcScanDataFields', 'xnatpy:pipelineDetailsParametersParameterValues', 'xnatpy:element_securityPrimary_security_fields', 'xnatpy:qcAssessmentDataScans', 'xnatpy:totalMassFloat', 'xnat:mgSessionData', 'xnat:dicomCodedValue', 'xnat:mgScanData', 'xnatpy:dicomSeriesVoxelres', 'xnat:derivedData', 'cat:dcmCatalog', 'xdat:role_type', 'xnat:smScanData', 'xnatpy:weightFloat', 'xnatpy:abstractResourceTagsTag', 'xnatpy:projectPipelines', 'xnatpy:xaScanDataParametersFov', 'xnatpy:mrScanDataParametersVoxelres', 'xnatpy:screeningAssessmentScans', 'xnat:hdScanData', 'xnatpy:optScanDataParameters', 'xnatpy:possibleValueString', 'xnat:mrAssessorData', 'xnatpy:roiCollectionDataReferences', 'xnat:crScanData', 'xnatpy:addFieldString', 'xnatpy:catalogTags', 'xnatpy:samplingRateFloat', 'xnatpy:protocolDataScansScan_check', 'xnatpy:dcmValidationString', 'xnatpy:primary_passwordString', 'xnat:resourceCatalog', 'xnat:subjectMetadata', 'xnatpy:projectDataPublications', 'xnatpy:processStepProgram', 'xnatpy:imageAssessorDataParameters', 'xnatpy:scannerString', 'xnatpy:optScanDataParametersVoxelres', 'xnat:hdSessionData', 'xnatpy:intermediateFloat', 'xnatpy:mrScanDataParameters', 'xnatpy:scidResearchDataMoodepisodes', 'xnat:ioSessionData', 'xnat:xa3DScanData', 'xnat:dxScanData', 'xnat:dx3DCraniofacialSessionData', 'xnat:usSessionData', 'xnatpy:pipelineParameterDataCsvvalues', 'xnat:projectData', 'xdat:infoEntry', 'xnatpy:ctScanDataParametersCollimationwidth', 'xnat:resource', 'xnatpy:optScanDataDcmvalidation', 'xnatpy:programString', 'xnat:srSessionData', 'xnatpy:scidResearchDataSubstanceusedisorders', 'xnat:validationData', 'xnat:otherDicomScanData', 'xnatpy:dcmCatalogDimensions', 'xnatpy:FieldTypeHtml-linkProperty', 'xnat:mrQcScanData', 'xnat:petQcScanData', 'xnat:imageAssessorData', 'xnat:xcSessionData', 'xnat:srScanData', 'xnatpy:petScanDataParametersZfilter', 'xnat:ecgScanData', 'xnat_a:sideEffectsPittsburghData', 'xnatpy:xnatExecutionEnvironmentParametersParameter', 'xnatpy:reconstructedImageDataComputations', 'xnat:otherQcScanData', 'xnat:rtImageScanData', 'xnatpy:protocolDataScansScan_checkCommentsComment', 'xnat:ecgSessionData', 'xnat:imageResource', 'xnatpy:derivationString', 'scr:screeningScanData', 'xnatpy:studyProtocolAcqconditions', 'xnatpy:FieldTypeContent', 'xnatpy:parameterString', 'xnatpy:addIDString', 'xnat:experimentData', 'xnat_a:ygtssData', 'xnatpy:dicomSeriesDimensions', 'xnatpy:subjectDataFields', 'xnatpy:protocolDataCheckConditions', 'xdat:change_info', 'xnatpy:subjectDataSharing', 'xnatpy:updrs3DataClicker', 'xnatpy:imageSessionDataReconstructions', 'xnat:studyProtocol', 'xnatpy:updrs3DataActionposturaltremor', 'xnat:voiceAudioScanData', 'xnat:ioScanData', 'xnat:genericData', 'xnat:optSessionData', 'xnatpy:metaFieldString', 'xnatpy:compilerString', 'xnatpy:projectDataInvestigators', 'build:buildData', 'xdat:action_type', 'xnatpy:imageSessionDataRegions', 'xnatpy:regionResourceCreator', 'xnatpy:demographicDataHeight', 'xnat:segScanData', 'xnatpy:projectDataAliases', 'xnatpy:petSessionDataTracerTotalmass', 'xnatpy:PlexiViewerTypeViewableitemHi-resLayoutref', 'xnatpy:studyProtocolSubjectgroups', 'xnatpy:eegSessionDataSamplinginterval', 'xnatpy:propertyString', 'arc:fieldSpecification', 'xnatpy:PlexiViewerTypeViewableitemHi-res', 'xnatpy:projectPipelinesDescendantsDescendantPipeline', 'xnat:esvScanData', 'xnatpy:scidResearchDataPsychoticsymptoms', 'xnatpy:imageSessionDataScanner', 'xnatpy:subjectDataFieldsField', 'xnatpy:eegSessionDataSamplingrate', 'xnatpy:stored_searchAllowed_groups', 'xnatpy:imageResourceVoxelres', 'xnatpy:eegScanDataSoftwarefiltersimpedances', 'xnatpy:pipelineDataParameters', 'xnatpy:qcScanDataRating', 'xnatpy:protocolDataCheck', 'xnatpy:fieldDefinitionGroupFieldsFieldPossiblevaluesPossiblevalue', 'xnat:otherDicomSessionData', 'xnatpy:ctScanDataParametersFov', 'xnat:esSessionData', 'xnat:qcManualAssessorData', 'xnatpy:FieldTypeHtml-linkSecurelink', 'xnatpy:pipelineParameterDataParameter', 'xnatpy:dicomSeriesImagesetImage', 'xnatpy:updrs3DataFingertaps', 'xnat:dx3DCraniofacialScanData', 'xnat:volumetricRegion', 'xnat:petScanData', 'xnatpy:fieldDefinitionGroupFieldsField', 'xnatpy:petmrSessionDataTracerTotalmass', 'xnat:opScanData', 'xnatpy:ctScanDataParametersRescale', 'xnat:subjectData', 'xnat_a:ybocsData', 'xnatpy:experimentDataFields', 'xnatpy:studyProtocolImagesessiontypesSession', 'cat:dcmEntry', 'xnat:abstractResource', 'arc:pipelineData', 'xnatpy:samplingIntervalFloat', 'xnatpy:eegScanDataParametersDatarecord', 'xnatpy:PlexiViewerTypeViewableitemThumbnailSlice', 'xnat:dicomSeries', 'xdat:element_action_type', 'xnatpy:PlexiViewerTypeViewableitemUserinterfaceLinkeddropdown', 'wrk:xnatExecutionEnvironment', 'display:FieldType', 'xnatpy:studyProtocolImagesessiontypes', 'xnat:xa3DSessionData', 'xnat:qcAssessmentData', 'xnat:epsScanData', 'xnatpy:FieldTypeHtml-linkSecurelinkSecuritymappingvalue', 'xnatpy:demographicDataWeight', 'xnat:mrsScanData', 'xnatpy:catalogEntries', 'xnat:gmvScanData', 'xnatpy:processStepCompiler', 'xnat:megScanData', 'xnat:regionResource', 'xnatpy:tagString', 'xnatpy:reconstructedImageDataParameters', 'xnatpy:labelString', 'xnatpy:updrs3DataTremorrest', 'xnatpy:mrScanDataDcmvalidation', 'xnat:xaScanData', 'xnatpy:delayInteger', 'xnatpy:experimentDataSharing', 'xnat:abstractProtocol', 'xnatpy:pipelineDetailsGenerateselements', 'wrk:abstractExecutionEnvironment', 'xnatpy:isotopeString', 'xdat:history', 'xnatpy:eegScanDataChannelsChannel', 'xdat:field_mapping', 'xnat:ctSessionData', 'xnatpy:experimentDataResources', 'xnat:epsSessionData', 'xdat:access_log', 'xnatpy:qcAssessmentDataScansScanSliceqcSlice', 'xnatpy:variableString', 'xnatpy:entryMetafieldsMetafield', 'xdat:user_login', 'xnatpy:petScanDataParametersOffset', 'xnatpy:imageResourceSeriesDimensions', 'xnatpy:eegScanDataSoftwarefiltersimpedancesImpedance', 'scr:screeningAssessment', 'xnat:rfScanData', 'xnat:scScanData', 'xnatpy:scidResearchDataSomatoformdisorders', 'xdat:field_mapping_set', 'xnatpy:optScanDataParametersFov', 'wrk:workflowData', 'xdat:search_field', 'xnatpy:petScanDataParametersDimensions', 'xnatpy:projectProperties', 'xnatpy:ygtssDataMotor', 'xnat:petSessionData', 'xnatpy:projectFieldspecifications', 'xnat:investigatorData', 'xnatpy:updrs3DataHandmovementsgrip', 'cat:entry', 'xnatpy:volumetricRegionSubregions', 'xnatpy:xnatExecutionEnvironmentParameterfile', 'xnatpy:PlexiViewerTypeViewableitemHi-resLayer', 'arc:property', 'xnatpy:libraryString', 'xnatpy:subjectDataAddid', 'xnatpy:projectDataResources', 'xnatpy:projectPipelinesPipeline', 'xnatpy:platformString', 'xdat:newsEntry', 'xnatpy:petScanDataParameters', 'xnat:gmScanData', 'xnatpy:catalogMetafields', 'cat:catalog', 'xnatpy:scidResearchDataAnxietydisorders', 'xnatpy:imageAssessorDataOut', 'xdat:meta_data', 'xnatpy:commentString', 'xnat:nmSessionData', 'xnatpy:qcAssessmentDataScansScan', 'build:pipelineData', 'xnat:statisticsData', 'xnatpy:petmrSessionDataTracerIntermediate', 'xnatpy:experimentDataFieldsField', 'xnatpy:reconstructedImageDataIn', 'xnatpy:imageResourceDimensions', 'xnatpy:estimatedDoseSavingFloat', 'xnatpy:projectDataFields', 'xnatpy:userPrimary_password', 'xnat:abstractSubjectMetadata', 'xnatpy:projectDataAliasesAlias', 'xnat:petAssessorData', 'xnatpy:protocolDataCheckConditionsCondition', 'xnatpy:reconstructedImageDataInscans', 'xnat:xaSessionData', 'xnatpy:csvValuesString', 'xnatpy:FieldTypeHtml-link', 'xnat:algorithm', 'xnatpy:petSessionDataTracerIsotope', 'xnatpy:experimentDataSharingShare', 'xnat:rtSessionData', 'val:protocolData', 'xnat:datatypeProtocol', 'xdat:LONGVARCHAR', 'xnat:eegScanData', 'xnatpy:processStepPlatform', 'xnat:abstractDemographicData', 'xnatpy:scidResearchDataPsychoticdisorders', 'prov:processStep', 'xnatpy:imageScanDataSharing', 'xnat:computationData', 'xnat:addField', 'xnatpy:petScanDataParametersFrames', 'xnat:contrastBolus'}\n"
     ]
    },
    {
     "name": "stderr",
     "output_type": "stream",
     "text": [
      "[2020-02-17 08:26:44,112] INFO: convert_xsd:1356 >> Removing class xnatpy:roiCollectionDataReferences from parser, it only has one element!\n",
      "[2020-02-17 08:26:44,112] INFO: convert_xsd:1356 >> Removing class xnatpy:role_typeAllowed_actions from parser, it only has one element!\n",
      "[2020-02-17 08:26:44,113] INFO: convert_xsd:1356 >> Removing class xnatpy:element_securityPrimary_security_fields from parser, it only has one element!\n",
      "[2020-02-17 08:26:44,113] INFO: convert_xsd:1356 >> Removing class xnatpy:element_securityElement_actions from parser, it only has one element!\n",
      "[2020-02-17 08:26:44,114] INFO: convert_xsd:1356 >> Removing class xnatpy:element_securityListing_actions from parser, it only has one element!\n",
      "[2020-02-17 08:26:44,115] DEBUG: convert_xsd:1362 >> Ignoring non-listing...\n",
      "[2020-02-17 08:26:44,115] DEBUG: convert_xsd:1363 >> Element class: {'parser': <xnat.convert_xsd.SchemaParser object at 0x000002657D9DDA08>, 'name': 'xnatpy:userPrimary_password', 'logger': <Logger xnat-b64a4890ffb339f7980aa848fb51cae0 (DEBUG)>, 'field_name': 'primary_password', 'parent_class': 'xdat:user', 'parent_property': <AttributePrototype [subobject] primary_password>, 'attributes': OrderedDict([('encrypt', <AttributePrototype [property] encrypt>)]), 'base_class': 'xnatpy:primary_passwordString', 'display_identifier': None, 'abstract': False, '_simple': False, '_writer': None, 'source_schema': '/xapi/schemas/security'}\n",
      "[2020-02-17 08:26:44,117] INFO: convert_xsd:1356 >> Removing class xnatpy:userAssigned_roles from parser, it only has one element!\n",
      "[2020-02-17 08:26:44,117] INFO: convert_xsd:1356 >> Removing class xnatpy:userGroups from parser, it only has one element!\n",
      "[2020-02-17 08:26:44,118] DEBUG: convert_xsd:1362 >> Ignoring non-listing...\n",
      "[2020-02-17 08:26:44,119] DEBUG: convert_xsd:1363 >> Element class: {'parser': <xnat.convert_xsd.SchemaParser object at 0x000002657D9DDA08>, 'name': 'xnatpy:stored_searchAllowed_user', 'logger': <Logger xnat-b64a4890ffb339f7980aa848fb51cae0 (DEBUG)>, 'field_name': 'allowed_user', 'parent_class': 'xdat:stored_search', 'parent_property': <AttributePrototype [listing] allowed_user>, 'attributes': OrderedDict([('login', <AttributePrototype [property] login>)]), 'base_class': None, 'display_identifier': None, 'abstract': False, '_simple': False, '_writer': None, 'source_schema': '/xapi/schemas/security'}\n",
      "[2020-02-17 08:26:44,120] INFO: convert_xsd:1356 >> Removing class xnatpy:stored_searchAllowed_groups from parser, it only has one element!\n",
      "[2020-02-17 08:26:44,121] INFO: convert_xsd:1356 >> Removing class xnatpy:projectDataAliases from parser, it only has one element!\n",
      "[2020-02-17 08:26:44,122] INFO: convert_xsd:1356 >> Removing class xnatpy:projectDataPublications from parser, it only has one element!\n",
      "[2020-02-17 08:26:44,124] INFO: convert_xsd:1356 >> Removing class xnatpy:projectDataResources from parser, it only has one element!\n",
      "[2020-02-17 08:26:44,125] INFO: convert_xsd:1356 >> Removing class xnatpy:projectDataInvestigators from parser, it only has one element!\n",
      "[2020-02-17 08:26:44,125] INFO: convert_xsd:1356 >> Removing class xnatpy:projectDataFields from parser, it only has one element!\n",
      "[2020-02-17 08:26:44,126] DEBUG: convert_xsd:1362 >> Ignoring non-listing...\n",
      "[2020-02-17 08:26:44,126] DEBUG: convert_xsd:1363 >> Element class: {'parser': <xnat.convert_xsd.SchemaParser object at 0x000002657D9DDA08>, 'name': 'xnatpy:projectDataAliases', 'logger': <Logger xnat-b64a4890ffb339f7980aa848fb51cae0 (DEBUG)>, 'field_name': 'aliases/alias', 'parent_class': 'xnat:projectData', 'parent_property': <AttributePrototype [listing] aliases>, 'attributes': OrderedDict([('source', <AttributePrototype [property] source>)]), 'base_class': 'xnatpy:aliasString', 'display_identifier': None, 'abstract': False, '_simple': False, '_writer': None, 'source_schema': '/xapi/schemas/xnat'}\n",
      "[2020-02-17 08:26:44,127] DEBUG: convert_xsd:1362 >> Ignoring non-listing...\n",
      "[2020-02-17 08:26:44,127] DEBUG: convert_xsd:1363 >> Element class: {'parser': <xnat.convert_xsd.SchemaParser object at 0x000002657D9DDA08>, 'name': 'xnatpy:projectDataFields', 'logger': <Logger xnat-b64a4890ffb339f7980aa848fb51cae0 (DEBUG)>, 'field_name': 'fields/field', 'parent_class': 'xnat:projectData', 'parent_property': <AttributePrototype [listing] fields>, 'attributes': OrderedDict([('name', <AttributePrototype [property] name>)]), 'base_class': 'xnatpy:fieldString', 'display_identifier': None, 'abstract': False, '_simple': False, '_writer': None, 'source_schema': '/xapi/schemas/xnat'}\n",
      "[2020-02-17 08:26:44,129] INFO: convert_xsd:1356 >> Removing class xnatpy:subjectDataSharing from parser, it only has one element!\n",
      "[2020-02-17 08:26:44,129] INFO: convert_xsd:1356 >> Removing class xnatpy:subjectDataResources from parser, it only has one element!\n",
      "[2020-02-17 08:26:44,130] DEBUG: convert_xsd:1362 >> Ignoring non-listing...\n",
      "[2020-02-17 08:26:44,131] DEBUG: convert_xsd:1363 >> Element class: {'parser': <xnat.convert_xsd.SchemaParser object at 0x000002657D9DDA08>, 'name': 'xnatpy:subjectDataAddid', 'logger': <Logger xnat-b64a4890ffb339f7980aa848fb51cae0 (DEBUG)>, 'field_name': 'addID', 'parent_class': 'xnat:subjectData', 'parent_property': <AttributePrototype [listing] addID>, 'attributes': OrderedDict([('name', <AttributePrototype [property] name>)]), 'base_class': 'xnatpy:addIDString', 'display_identifier': None, 'abstract': False, '_simple': False, '_writer': None, 'source_schema': '/xapi/schemas/xnat'}\n",
      "[2020-02-17 08:26:44,131] INFO: convert_xsd:1356 >> Removing class xnatpy:subjectDataFields from parser, it only has one element!\n",
      "[2020-02-17 08:26:44,132] INFO: convert_xsd:1356 >> Removing class xnatpy:subjectDataExperiments from parser, it only has one element!\n",
      "[2020-02-17 08:26:44,132] DEBUG: convert_xsd:1362 >> Ignoring non-listing...\n",
      "[2020-02-17 08:26:44,133] DEBUG: convert_xsd:1363 >> Element class: {'parser': <xnat.convert_xsd.SchemaParser object at 0x000002657D9DDA08>, 'name': 'xnatpy:subjectDataFields', 'logger': <Logger xnat-b64a4890ffb339f7980aa848fb51cae0 (DEBUG)>, 'field_name': 'fields/field', 'parent_class': 'xnat:subjectData', 'parent_property': <AttributePrototype [listing] fields>, 'attributes': OrderedDict([('name', <AttributePrototype [property] name>)]), 'base_class': 'xnatpy:fieldString', 'display_identifier': None, 'abstract': False, '_simple': False, '_writer': None, 'source_schema': '/xapi/schemas/xnat'}\n",
      "[2020-02-17 08:26:44,134] INFO: convert_xsd:1356 >> Removing class xnatpy:experimentDataSharing from parser, it only has one element!\n",
      "[2020-02-17 08:26:44,134] DEBUG: convert_xsd:1362 >> Ignoring non-listing...\n",
      "[2020-02-17 08:26:44,134] DEBUG: convert_xsd:1363 >> Element class: {'parser': <xnat.convert_xsd.SchemaParser object at 0x000002657D9DDA08>, 'name': 'xnatpy:experimentDataDelay', 'logger': <Logger xnat-b64a4890ffb339f7980aa848fb51cae0 (DEBUG)>, 'field_name': 'delay', 'parent_class': 'xnat:experimentData', 'parent_property': <AttributePrototype [subobject] delay>, 'attributes': OrderedDict([('ref_expt_id', <AttributePrototype [property] ref_expt_id>)]), 'base_class': 'xnatpy:delayInteger', 'display_identifier': None, 'abstract': False, '_simple': False, '_writer': None, 'source_schema': '/xapi/schemas/xnat'}\n",
      "[2020-02-17 08:26:44,135] INFO: convert_xsd:1356 >> Removing class xnatpy:experimentDataResources from parser, it only has one element!\n",
      "[2020-02-17 08:26:44,135] INFO: convert_xsd:1356 >> Removing class xnatpy:experimentDataFields from parser, it only has one element!\n",
      "[2020-02-17 08:26:44,137] DEBUG: convert_xsd:1362 >> Ignoring non-listing...\n",
      "[2020-02-17 08:26:44,137] DEBUG: convert_xsd:1363 >> Element class: {'parser': <xnat.convert_xsd.SchemaParser object at 0x000002657D9DDA08>, 'name': 'xnatpy:experimentDataFields', 'logger': <Logger xnat-b64a4890ffb339f7980aa848fb51cae0 (DEBUG)>, 'field_name': 'fields/field', 'parent_class': 'xnat:experimentData', 'parent_property': <AttributePrototype [listing] fields>, 'attributes': OrderedDict([('name', <AttributePrototype [property] name>)]), 'base_class': 'xnatpy:fieldString', 'display_identifier': None, 'abstract': False, '_simple': False, '_writer': None, 'source_schema': '/xapi/schemas/xnat'}\n",
      "[2020-02-17 08:26:44,138] DEBUG: convert_xsd:1362 >> Ignoring non-listing...\n"
     ]
    },
    {
     "name": "stderr",
     "output_type": "stream",
     "text": [
      "[2020-02-17 08:26:44,139] DEBUG: convert_xsd:1363 >> Element class: {'parser': <xnat.convert_xsd.SchemaParser object at 0x000002657D9DDA08>, 'name': 'xnatpy:demographicDataWeight', 'logger': <Logger xnat-b64a4890ffb339f7980aa848fb51cae0 (DEBUG)>, 'field_name': 'weight', 'parent_class': 'xnat:demographicData', 'parent_property': <AttributePrototype [subobject] weight>, 'attributes': OrderedDict([('units', <AttributePrototype [property] units>)]), 'base_class': 'xnatpy:weightFloat', 'display_identifier': None, 'abstract': False, '_simple': False, '_writer': None, 'source_schema': '/xapi/schemas/xnat'}\n",
      "[2020-02-17 08:26:44,139] DEBUG: convert_xsd:1362 >> Ignoring non-listing...\n",
      "[2020-02-17 08:26:44,141] DEBUG: convert_xsd:1363 >> Element class: {'parser': <xnat.convert_xsd.SchemaParser object at 0x000002657D9DDA08>, 'name': 'xnatpy:demographicDataHeight', 'logger': <Logger xnat-b64a4890ffb339f7980aa848fb51cae0 (DEBUG)>, 'field_name': 'height', 'parent_class': 'xnat:demographicData', 'parent_property': <AttributePrototype [subobject] height>, 'attributes': OrderedDict([('units', <AttributePrototype [property] units>)]), 'base_class': 'xnatpy:heightFloat', 'display_identifier': None, 'abstract': False, '_simple': False, '_writer': None, 'source_schema': '/xapi/schemas/xnat'}\n",
      "[2020-02-17 08:26:44,142] INFO: convert_xsd:1356 >> Removing class xnatpy:subjectVariablesDataVariables from parser, it only has one element!\n",
      "[2020-02-17 08:26:44,143] DEBUG: convert_xsd:1362 >> Ignoring non-listing...\n",
      "[2020-02-17 08:26:44,143] DEBUG: convert_xsd:1363 >> Element class: {'parser': <xnat.convert_xsd.SchemaParser object at 0x000002657D9DDA08>, 'name': 'xnatpy:subjectVariablesDataVariables', 'logger': <Logger xnat-b64a4890ffb339f7980aa848fb51cae0 (DEBUG)>, 'field_name': 'variables/variable', 'parent_class': 'xnat:subjectVariablesData', 'parent_property': <AttributePrototype [listing] variables>, 'attributes': OrderedDict([('name', <AttributePrototype [property] name>)]), 'base_class': 'xnatpy:variableString', 'display_identifier': None, 'abstract': False, '_simple': False, '_writer': None, 'source_schema': '/xapi/schemas/xnat'}\n",
      "[2020-02-17 08:26:44,143] INFO: convert_xsd:1356 >> Removing class xnatpy:imageSessionDataRegions from parser, it only has one element!\n",
      "[2020-02-17 08:26:44,144] INFO: convert_xsd:1356 >> Removing class xnatpy:imageSessionDataScans from parser, it only has one element!\n",
      "[2020-02-17 08:26:44,145] INFO: convert_xsd:1356 >> Removing class xnatpy:imageSessionDataReconstructions from parser, it only has one element!\n",
      "[2020-02-17 08:26:44,146] INFO: convert_xsd:1356 >> Removing class xnatpy:imageSessionDataAssessors from parser, it only has one element!\n",
      "[2020-02-17 08:26:44,147] DEBUG: convert_xsd:1362 >> Ignoring non-listing...\n",
      "[2020-02-17 08:26:44,147] DEBUG: convert_xsd:1363 >> Element class: {'parser': <xnat.convert_xsd.SchemaParser object at 0x000002657D9DDA08>, 'name': 'xnatpy:mrScanDataDcmvalidation', 'logger': <Logger xnat-b64a4890ffb339f7980aa848fb51cae0 (DEBUG)>, 'field_name': 'dcmValidation', 'parent_class': 'xnat:mrScanData', 'parent_property': <AttributePrototype [subobject] dcmValidation>, 'attributes': OrderedDict([('status', <AttributePrototype [property] status>)]), 'base_class': 'xnatpy:dcmValidationString', 'display_identifier': None, 'abstract': False, '_simple': False, '_writer': None, 'source_schema': '/xapi/schemas/xnat'}\n",
      "[2020-02-17 08:26:44,148] INFO: convert_xsd:1356 >> Removing class xnatpy:reconstructedImageDataInscans from parser, it only has one element!\n",
      "[2020-02-17 08:26:44,149] INFO: convert_xsd:1356 >> Removing class xnatpy:reconstructedImageDataIn from parser, it only has one element!\n",
      "[2020-02-17 08:26:44,149] INFO: convert_xsd:1356 >> Removing class xnatpy:reconstructedImageDataOut from parser, it only has one element!\n",
      "[2020-02-17 08:26:44,150] INFO: convert_xsd:1356 >> Removing class xnatpy:reconstructedImageDataParameters from parser, it only has one element!\n",
      "[2020-02-17 08:26:44,150] INFO: convert_xsd:1356 >> Removing class xnatpy:reconstructedImageDataComputations from parser, it only has one element!\n",
      "[2020-02-17 08:26:44,151] INFO: convert_xsd:1356 >> Removing class xnatpy:volumetricRegionSubregions from parser, it only has one element!\n",
      "[2020-02-17 08:26:44,151] INFO: convert_xsd:1356 >> Removing class xnatpy:abstractResourceTags from parser, it only has one element!\n",
      "[2020-02-17 08:26:44,152] DEBUG: convert_xsd:1362 >> Ignoring non-listing...\n",
      "[2020-02-17 08:26:44,153] DEBUG: convert_xsd:1363 >> Element class: {'parser': <xnat.convert_xsd.SchemaParser object at 0x000002657D9DDA08>, 'name': 'xnatpy:abstractResourceTags', 'logger': <Logger xnat-b64a4890ffb339f7980aa848fb51cae0 (DEBUG)>, 'field_name': 'tags/tag', 'parent_class': 'xnat:abstractResource', 'parent_property': <AttributePrototype [listing] tags>, 'attributes': OrderedDict([('name', <AttributePrototype [property] name>)]), 'base_class': 'xnatpy:tagString', 'display_identifier': None, 'abstract': False, '_simple': False, '_writer': None, 'source_schema': '/xapi/schemas/xnat'}\n",
      "[2020-02-17 08:26:44,153] INFO: convert_xsd:1356 >> Removing class xnatpy:dicomSeriesImageset from parser, it only has one element!\n",
      "[2020-02-17 08:26:44,154] INFO: convert_xsd:1356 >> Removing class xnatpy:studyProtocolAcqconditions from parser, it only has one element!\n",
      "[2020-02-17 08:26:44,154] INFO: convert_xsd:1356 >> Removing class xnatpy:studyProtocolSubjectgroups from parser, it only has one element!\n",
      "[2020-02-17 08:26:44,155] INFO: convert_xsd:1356 >> Removing class xnatpy:studyProtocolSubjectvariables from parser, it only has one element!\n",
      "[2020-02-17 08:26:44,155] INFO: convert_xsd:1356 >> Removing class xnatpy:studyProtocolImagesessiontypes from parser, it only has one element!\n",
      "[2020-02-17 08:26:44,156] DEBUG: convert_xsd:1362 >> Ignoring non-listing...\n",
      "[2020-02-17 08:26:44,156] DEBUG: convert_xsd:1363 >> Element class: {'parser': <xnat.convert_xsd.SchemaParser object at 0x000002657D9DDA08>, 'name': 'xnatpy:petSessionDataTracerDose', 'logger': <Logger xnat-b64a4890ffb339f7980aa848fb51cae0 (DEBUG)>, 'field_name': 'dose', 'parent_class': 'xnatpy:petSessionDataTracer', 'parent_property': <AttributePrototype [subobject] dose>, 'attributes': OrderedDict([('units', <AttributePrototype [property] units>)]), 'base_class': 'xnatpy:doseFloat', 'display_identifier': None, 'abstract': False, '_simple': False, '_writer': None, 'source_schema': '/xapi/schemas/xnat'}\n",
      "[2020-02-17 08:26:44,157] DEBUG: convert_xsd:1362 >> Ignoring non-listing...\n",
      "[2020-02-17 08:26:44,158] DEBUG: convert_xsd:1363 >> Element class: {'parser': <xnat.convert_xsd.SchemaParser object at 0x000002657D9DDA08>, 'name': 'xnatpy:petSessionDataTracerTotalmass', 'logger': <Logger xnat-b64a4890ffb339f7980aa848fb51cae0 (DEBUG)>, 'field_name': 'totalMass', 'parent_class': 'xnatpy:petSessionDataTracer', 'parent_property': <AttributePrototype [subobject] totalMass>, 'attributes': OrderedDict([('units', <AttributePrototype [property] units>)]), 'base_class': 'xnatpy:totalMassFloat', 'display_identifier': None, 'abstract': False, '_simple': False, '_writer': None, 'source_schema': '/xapi/schemas/xnat'}\n",
      "[2020-02-17 08:26:44,158] DEBUG: convert_xsd:1362 >> Ignoring non-listing...\n",
      "[2020-02-17 08:26:44,159] DEBUG: convert_xsd:1363 >> Element class: {'parser': <xnat.convert_xsd.SchemaParser object at 0x000002657D9DDA08>, 'name': 'xnatpy:petSessionDataTracerIntermediate', 'logger': <Logger xnat-b64a4890ffb339f7980aa848fb51cae0 (DEBUG)>, 'field_name': 'intermediate', 'parent_class': 'xnatpy:petSessionDataTracer', 'parent_property': <AttributePrototype [subobject] intermediate>, 'attributes': OrderedDict([('units', <AttributePrototype [property] units>)]), 'base_class': 'xnatpy:intermediateFloat', 'display_identifier': None, 'abstract': False, '_simple': False, '_writer': None, 'source_schema': '/xapi/schemas/xnat'}\n",
      "[2020-02-17 08:26:44,159] DEBUG: convert_xsd:1362 >> Ignoring non-listing...\n",
      "[2020-02-17 08:26:44,159] DEBUG: convert_xsd:1363 >> Element class: {'parser': <xnat.convert_xsd.SchemaParser object at 0x000002657D9DDA08>, 'name': 'xnatpy:petSessionDataTracerIsotope', 'logger': <Logger xnat-b64a4890ffb339f7980aa848fb51cae0 (DEBUG)>, 'field_name': 'isotope', 'parent_class': 'xnatpy:petSessionDataTracer', 'parent_property': <AttributePrototype [subobject] isotope>, 'attributes': OrderedDict([('half-life', <AttributePrototype [property] half-life>)]), 'base_class': 'xnatpy:isotopeString', 'display_identifier': None, 'abstract': False, '_simple': False, '_writer': None, 'source_schema': '/xapi/schemas/xnat'}\n"
     ]
    },
    {
     "name": "stderr",
     "output_type": "stream",
     "text": [
      "[2020-02-17 08:26:44,160] DEBUG: convert_xsd:1362 >> Ignoring non-listing...\n",
      "[2020-02-17 08:26:44,160] DEBUG: convert_xsd:1363 >> Element class: {'parser': <xnat.convert_xsd.SchemaParser object at 0x000002657D9DDA08>, 'name': 'xnatpy:petmrSessionDataTracerDose', 'logger': <Logger xnat-b64a4890ffb339f7980aa848fb51cae0 (DEBUG)>, 'field_name': 'dose', 'parent_class': 'xnatpy:petmrSessionDataTracer', 'parent_property': <AttributePrototype [subobject] dose>, 'attributes': OrderedDict([('units', <AttributePrototype [property] units>)]), 'base_class': 'xnatpy:doseFloat', 'display_identifier': None, 'abstract': False, '_simple': False, '_writer': None, 'source_schema': '/xapi/schemas/xnat'}\n",
      "[2020-02-17 08:26:44,160] DEBUG: convert_xsd:1362 >> Ignoring non-listing...\n",
      "[2020-02-17 08:26:44,161] DEBUG: convert_xsd:1363 >> Element class: {'parser': <xnat.convert_xsd.SchemaParser object at 0x000002657D9DDA08>, 'name': 'xnatpy:petmrSessionDataTracerTotalmass', 'logger': <Logger xnat-b64a4890ffb339f7980aa848fb51cae0 (DEBUG)>, 'field_name': 'totalMass', 'parent_class': 'xnatpy:petmrSessionDataTracer', 'parent_property': <AttributePrototype [subobject] totalMass>, 'attributes': OrderedDict([('units', <AttributePrototype [property] units>)]), 'base_class': 'xnatpy:totalMassFloat', 'display_identifier': None, 'abstract': False, '_simple': False, '_writer': None, 'source_schema': '/xapi/schemas/xnat'}\n",
      "[2020-02-17 08:26:44,161] DEBUG: convert_xsd:1362 >> Ignoring non-listing...\n",
      "[2020-02-17 08:26:44,161] DEBUG: convert_xsd:1363 >> Element class: {'parser': <xnat.convert_xsd.SchemaParser object at 0x000002657D9DDA08>, 'name': 'xnatpy:petmrSessionDataTracerIntermediate', 'logger': <Logger xnat-b64a4890ffb339f7980aa848fb51cae0 (DEBUG)>, 'field_name': 'intermediate', 'parent_class': 'xnatpy:petmrSessionDataTracer', 'parent_property': <AttributePrototype [subobject] intermediate>, 'attributes': OrderedDict([('units', <AttributePrototype [property] units>)]), 'base_class': 'xnatpy:intermediateFloat', 'display_identifier': None, 'abstract': False, '_simple': False, '_writer': None, 'source_schema': '/xapi/schemas/xnat'}\n",
      "[2020-02-17 08:26:44,161] DEBUG: convert_xsd:1362 >> Ignoring non-listing...\n",
      "[2020-02-17 08:26:44,162] DEBUG: convert_xsd:1363 >> Element class: {'parser': <xnat.convert_xsd.SchemaParser object at 0x000002657D9DDA08>, 'name': 'xnatpy:petmrSessionDataTracerIsotope', 'logger': <Logger xnat-b64a4890ffb339f7980aa848fb51cae0 (DEBUG)>, 'field_name': 'isotope', 'parent_class': 'xnatpy:petmrSessionDataTracer', 'parent_property': <AttributePrototype [subobject] isotope>, 'attributes': OrderedDict([('half-life', <AttributePrototype [property] half-life>)]), 'base_class': 'xnatpy:isotopeString', 'display_identifier': None, 'abstract': False, '_simple': False, '_writer': None, 'source_schema': '/xapi/schemas/xnat'}\n",
      "[2020-02-17 08:26:44,162] DEBUG: convert_xsd:1362 >> Ignoring non-listing...\n",
      "[2020-02-17 08:26:44,163] DEBUG: convert_xsd:1363 >> Element class: {'parser': <xnat.convert_xsd.SchemaParser object at 0x000002657D9DDA08>, 'name': 'xnatpy:petScanDataEcatvalidation', 'logger': <Logger xnat-b64a4890ffb339f7980aa848fb51cae0 (DEBUG)>, 'field_name': 'ecatValidation', 'parent_class': 'xnat:petScanData', 'parent_property': <AttributePrototype [subobject] ecatValidation>, 'attributes': OrderedDict([('status', <AttributePrototype [property] status>)]), 'base_class': 'xnatpy:ecatValidationString', 'display_identifier': None, 'abstract': False, '_simple': False, '_writer': None, 'source_schema': '/xapi/schemas/xnat'}\n",
      "[2020-02-17 08:26:44,163] DEBUG: convert_xsd:1362 >> Ignoring non-listing...\n",
      "[2020-02-17 08:26:44,163] DEBUG: convert_xsd:1363 >> Element class: {'parser': <xnat.convert_xsd.SchemaParser object at 0x000002657D9DDA08>, 'name': 'xnatpy:petScanDataParametersFilter', 'logger': <Logger xnat-b64a4890ffb339f7980aa848fb51cae0 (DEBUG)>, 'field_name': 'filter', 'parent_class': 'xnatpy:petScanDataParameters', 'parent_property': <AttributePrototype [subobject] filter>, 'attributes': OrderedDict([('cutoff', <AttributePrototype [property] cutoff>)]), 'base_class': None, 'display_identifier': None, 'abstract': False, '_simple': False, '_writer': None, 'source_schema': '/xapi/schemas/xnat'}\n",
      "[2020-02-17 08:26:44,164] INFO: convert_xsd:1356 >> Removing class xnatpy:regionResourceSubregionlabels from parser, it only has one element!\n",
      "[2020-02-17 08:26:44,164] DEBUG: convert_xsd:1362 >> Ignoring non-listing...\n",
      "[2020-02-17 08:26:44,165] DEBUG: convert_xsd:1363 >> Element class: {'parser': <xnat.convert_xsd.SchemaParser object at 0x000002657D9DDA08>, 'name': 'xnatpy:statisticsDataAdditionalstatistics', 'logger': <Logger xnat-b64a4890ffb339f7980aa848fb51cae0 (DEBUG)>, 'field_name': 'additionalStatistics', 'parent_class': 'xnat:statisticsData', 'parent_property': <AttributePrototype [listing] additionalStatistics>, 'attributes': OrderedDict([('name', <AttributePrototype [property] name>)]), 'base_class': 'xnatpy:additionalStatisticsDouble', 'display_identifier': None, 'abstract': False, '_simple': False, '_writer': None, 'source_schema': '/xapi/schemas/xnat'}\n",
      "[2020-02-17 08:26:44,165] DEBUG: convert_xsd:1362 >> Ignoring non-listing...\n",
      "[2020-02-17 08:26:44,166] DEBUG: convert_xsd:1363 >> Element class: {'parser': <xnat.convert_xsd.SchemaParser object at 0x000002657D9DDA08>, 'name': 'xnatpy:statisticsDataAddfield', 'logger': <Logger xnat-b64a4890ffb339f7980aa848fb51cae0 (DEBUG)>, 'field_name': 'addField', 'parent_class': 'xnat:statisticsData', 'parent_property': <AttributePrototype [listing] addField>, 'attributes': OrderedDict([('name', <AttributePrototype [property] name>)]), 'base_class': 'xnatpy:addFieldString', 'display_identifier': None, 'abstract': False, '_simple': False, '_writer': None, 'source_schema': '/xapi/schemas/xnat'}\n",
      "[2020-02-17 08:26:44,166] INFO: convert_xsd:1356 >> Removing class xnatpy:qcAssessmentDataScans from parser, it only has one element!\n",
      "[2020-02-17 08:26:44,167] INFO: convert_xsd:1356 >> Removing class xnatpy:qcAssessmentDataScansScanSliceqc from parser, it only has one element!\n",
      "[2020-02-17 08:26:44,167] INFO: convert_xsd:1356 >> Removing class xnatpy:datatypeProtocolDefinitions from parser, it only has one element!\n",
      "[2020-02-17 08:26:44,168] INFO: convert_xsd:1356 >> Removing class xnatpy:fieldDefinitionGroupFields from parser, it only has one element!\n",
      "[2020-02-17 08:26:44,168] INFO: convert_xsd:1356 >> Removing class xnatpy:fieldDefinitionGroupFieldsFieldPossiblevalues from parser, it only has one element!\n",
      "[2020-02-17 08:26:44,169] DEBUG: convert_xsd:1362 >> Ignoring non-listing...\n",
      "[2020-02-17 08:26:44,169] DEBUG: convert_xsd:1363 >> Element class: {'parser': <xnat.convert_xsd.SchemaParser object at 0x000002657D9DDA08>, 'name': 'xnatpy:fieldDefinitionGroupFieldsFieldPossiblevalues', 'logger': <Logger xnat-b64a4890ffb339f7980aa848fb51cae0 (DEBUG)>, 'field_name': 'possibleValues/possibleValue', 'parent_class': 'xnatpy:fieldDefinitionGroupFieldsField', 'parent_property': <AttributePrototype [listing] possibleValues>, 'attributes': OrderedDict([('display', <AttributePrototype [property] display>)]), 'base_class': 'xnatpy:possibleValueString', 'display_identifier': None, 'abstract': False, '_simple': False, '_writer': None, 'source_schema': '/xapi/schemas/xnat'}\n",
      "[2020-02-17 08:26:44,170] INFO: convert_xsd:1356 >> Removing class xnatpy:imageAssessorDataIn from parser, it only has one element!\n",
      "[2020-02-17 08:26:44,170] INFO: convert_xsd:1356 >> Removing class xnatpy:imageAssessorDataOut from parser, it only has one element!\n",
      "[2020-02-17 08:26:44,171] INFO: convert_xsd:1356 >> Removing class xnatpy:imageAssessorDataParameters from parser, it only has one element!\n",
      "[2020-02-17 08:26:44,171] INFO: convert_xsd:1356 >> Removing class xnatpy:imageScanDataSharing from parser, it only has one element!\n",
      "[2020-02-17 08:26:44,172] DEBUG: convert_xsd:1362 >> Ignoring non-listing...\n",
      "[2020-02-17 08:26:44,172] DEBUG: convert_xsd:1363 >> Element class: {'parser': <xnat.convert_xsd.SchemaParser object at 0x000002657D9DDA08>, 'name': 'xnatpy:ctScanDataDcmvalidation', 'logger': <Logger xnat-b64a4890ffb339f7980aa848fb51cae0 (DEBUG)>, 'field_name': 'dcmValidation', 'parent_class': 'xnat:ctScanData', 'parent_property': <AttributePrototype [subobject] dcmValidation>, 'attributes': OrderedDict([('status', <AttributePrototype [property] status>)]), 'base_class': 'xnatpy:dcmValidationString', 'display_identifier': None, 'abstract': False, '_simple': False, '_writer': None, 'source_schema': '/xapi/schemas/xnat'}\n"
     ]
    },
    {
     "name": "stderr",
     "output_type": "stream",
     "text": [
      "[2020-02-17 08:26:44,173] INFO: convert_xsd:1356 >> Removing class xnatpy:ctScanDataParametersFocalspots from parser, it only has one element!\n",
      "[2020-02-17 08:26:44,173] DEBUG: convert_xsd:1362 >> Ignoring non-listing...\n",
      "[2020-02-17 08:26:44,173] DEBUG: convert_xsd:1363 >> Element class: {'parser': <xnat.convert_xsd.SchemaParser object at 0x000002657D9DDA08>, 'name': 'xnatpy:ctScanDataParametersEstimateddosesaving', 'logger': <Logger xnat-b64a4890ffb339f7980aa848fb51cae0 (DEBUG)>, 'field_name': 'estimatedDoseSaving', 'parent_class': 'xnatpy:ctScanDataParameters', 'parent_property': <AttributePrototype [subobject] estimatedDoseSaving>, 'attributes': OrderedDict([('modulation', <AttributePrototype [subobject] modulation>)]), 'base_class': 'xnatpy:estimatedDoseSavingFloat', 'display_identifier': None, 'abstract': False, '_simple': False, '_writer': None, 'source_schema': '/xapi/schemas/xnat'}\n",
      "[2020-02-17 08:26:44,174] DEBUG: convert_xsd:1362 >> Ignoring non-listing...\n",
      "[2020-02-17 08:26:44,174] DEBUG: convert_xsd:1363 >> Element class: {'parser': <xnat.convert_xsd.SchemaParser object at 0x000002657D9DDA08>, 'name': 'xnatpy:optScanDataDcmvalidation', 'logger': <Logger xnat-b64a4890ffb339f7980aa848fb51cae0 (DEBUG)>, 'field_name': 'dcmValidation', 'parent_class': 'xnat:optScanData', 'parent_property': <AttributePrototype [subobject] dcmValidation>, 'attributes': OrderedDict([('status', <AttributePrototype [property] status>)]), 'base_class': 'xnatpy:dcmValidationString', 'display_identifier': None, 'abstract': False, '_simple': False, '_writer': None, 'source_schema': '/xapi/schemas/xnat'}\n",
      "[2020-02-17 08:26:44,175] DEBUG: convert_xsd:1362 >> Ignoring non-listing...\n",
      "[2020-02-17 08:26:44,175] DEBUG: convert_xsd:1363 >> Element class: {'parser': <xnat.convert_xsd.SchemaParser object at 0x000002657D9DDA08>, 'name': 'xnatpy:qcScanDataRating', 'logger': <Logger xnat-b64a4890ffb339f7980aa848fb51cae0 (DEBUG)>, 'field_name': 'rating', 'parent_class': 'xnat:qcScanData', 'parent_property': <AttributePrototype [subobject] rating>, 'attributes': OrderedDict([('scale', <AttributePrototype [property] scale>)]), 'base_class': 'xnatpy:ratingString', 'display_identifier': None, 'abstract': False, '_simple': False, '_writer': None, 'source_schema': '/xapi/schemas/xnat'}\n",
      "[2020-02-17 08:26:44,176] INFO: convert_xsd:1356 >> Removing class xnatpy:qcScanDataFields from parser, it only has one element!\n",
      "[2020-02-17 08:26:44,176] DEBUG: convert_xsd:1362 >> Ignoring non-listing...\n",
      "[2020-02-17 08:26:44,176] DEBUG: convert_xsd:1363 >> Element class: {'parser': <xnat.convert_xsd.SchemaParser object at 0x000002657D9DDA08>, 'name': 'xnatpy:qcScanDataFields', 'logger': <Logger xnat-b64a4890ffb339f7980aa848fb51cae0 (DEBUG)>, 'field_name': 'fields/field', 'parent_class': 'xnat:qcScanData', 'parent_property': <AttributePrototype [listing] fields>, 'attributes': OrderedDict([('name', <AttributePrototype [property] name>)]), 'base_class': 'xnatpy:fieldString', 'display_identifier': None, 'abstract': False, '_simple': False, '_writer': None, 'source_schema': '/xapi/schemas/xnat'}\n",
      "[2020-02-17 08:26:44,177] INFO: convert_xsd:1356 >> Removing class xnatpy:petQcScanDataProcessingerrors from parser, it only has one element!\n",
      "[2020-02-17 08:26:44,177] INFO: convert_xsd:1356 >> Removing class xnatpy:qcManualAssessorDataScans from parser, it only has one element!\n",
      "[2020-02-17 08:26:44,178] DEBUG: convert_xsd:1362 >> Ignoring non-listing...\n",
      "[2020-02-17 08:26:44,178] DEBUG: convert_xsd:1363 >> Element class: {'parser': <xnat.convert_xsd.SchemaParser object at 0x000002657D9DDA08>, 'name': 'xnatpy:eegSessionDataSamplingrate', 'logger': <Logger xnat-b64a4890ffb339f7980aa848fb51cae0 (DEBUG)>, 'field_name': 'samplingRate', 'parent_class': 'xnat:eegSessionData', 'parent_property': <AttributePrototype [subobject] samplingRate>, 'attributes': OrderedDict([('units', <AttributePrototype [property] units>)]), 'base_class': 'xnatpy:samplingRateFloat', 'display_identifier': None, 'abstract': False, '_simple': False, '_writer': None, 'source_schema': '/xapi/schemas/xnat'}\n",
      "[2020-02-17 08:26:44,179] DEBUG: convert_xsd:1362 >> Ignoring non-listing...\n",
      "[2020-02-17 08:26:44,179] DEBUG: convert_xsd:1363 >> Element class: {'parser': <xnat.convert_xsd.SchemaParser object at 0x000002657D9DDA08>, 'name': 'xnatpy:eegSessionDataSamplinginterval', 'logger': <Logger xnat-b64a4890ffb339f7980aa848fb51cae0 (DEBUG)>, 'field_name': 'samplingInterval', 'parent_class': 'xnat:eegSessionData', 'parent_property': <AttributePrototype [subobject] samplingInterval>, 'attributes': OrderedDict([('units', <AttributePrototype [property] units>)]), 'base_class': 'xnatpy:samplingIntervalFloat', 'display_identifier': None, 'abstract': False, '_simple': False, '_writer': None, 'source_schema': '/xapi/schemas/xnat'}\n",
      "[2020-02-17 08:26:44,180] INFO: convert_xsd:1356 >> Removing class xnatpy:eegScanDataChannels from parser, it only has one element!\n",
      "[2020-02-17 08:26:44,180] INFO: convert_xsd:1356 >> Removing class xnatpy:screeningAssessmentScans from parser, it only has one element!\n",
      "[2020-02-17 08:26:44,180] DEBUG: convert_xsd:1362 >> Ignoring non-listing...\n",
      "[2020-02-17 08:26:44,180] DEBUG: convert_xsd:1363 >> Element class: {'parser': <xnat.convert_xsd.SchemaParser object at 0x000002657D9DDA08>, 'name': 'xnatpy:imageSessionDataPipeline', 'logger': <Logger xnat-b64a4890ffb339f7980aa848fb51cae0 (DEBUG)>, 'field_name': 'pipeline', 'parent_class': 'build:imageSessionData', 'parent_property': <AttributePrototype [listing] pipeline>, 'attributes': OrderedDict([('stepId', <AttributePrototype [property] stepId>)]), 'base_class': 'build:pipelineData', 'display_identifier': None, 'abstract': False, '_simple': False, '_writer': None, 'source_schema': '/xapi/schemas/pipeline/build'}\n",
      "[2020-02-17 08:26:44,181] INFO: convert_xsd:1356 >> Removing class xnatpy:pipelineDetailsGenerateselements from parser, it only has one element!\n",
      "[2020-02-17 08:26:44,181] INFO: convert_xsd:1356 >> Removing class xnatpy:pipelineDetailsParameters from parser, it only has one element!\n",
      "[2020-02-17 08:26:44,181] INFO: convert_xsd:1356 >> Removing class xnatpy:xnatExecutionEnvironmentParameters from parser, it only has one element!\n",
      "[2020-02-17 08:26:44,182] DEBUG: convert_xsd:1362 >> Ignoring non-listing...\n",
      "[2020-02-17 08:26:44,182] DEBUG: convert_xsd:1363 >> Element class: {'parser': <xnat.convert_xsd.SchemaParser object at 0x000002657D9DDA08>, 'name': 'xnatpy:xnatExecutionEnvironmentParameters', 'logger': <Logger xnat-b64a4890ffb339f7980aa848fb51cae0 (DEBUG)>, 'field_name': 'parameters/parameter', 'parent_class': 'wrk:xnatExecutionEnvironment', 'parent_property': <AttributePrototype [listing] parameters>, 'attributes': OrderedDict([('name', <AttributePrototype [property] name>)]), 'base_class': 'xnatpy:parameterString', 'display_identifier': None, 'abstract': False, '_simple': False, '_writer': None, 'source_schema': '/xapi/schemas/pipeline/workflow'}\n",
      "[2020-02-17 08:26:44,183] DEBUG: convert_xsd:1362 >> Ignoring non-listing...\n",
      "[2020-02-17 08:26:44,183] DEBUG: convert_xsd:1363 >> Element class: {'parser': <xnat.convert_xsd.SchemaParser object at 0x000002657D9DDA08>, 'name': 'xnatpy:processStepPlatform', 'logger': <Logger xnat-b64a4890ffb339f7980aa848fb51cae0 (DEBUG)>, 'field_name': 'platform', 'parent_class': 'prov:processStep', 'parent_property': <AttributePrototype [subobject] platform>, 'attributes': OrderedDict([('version', <AttributePrototype [property] version>)]), 'base_class': 'xnatpy:platformString', 'display_identifier': None, 'abstract': False, '_simple': False, '_writer': None, 'source_schema': '/xapi/schemas/birn/birnprov'}\n",
      "[2020-02-17 08:26:44,184] DEBUG: convert_xsd:1362 >> Ignoring non-listing...\n",
      "[2020-02-17 08:26:44,184] DEBUG: convert_xsd:1363 >> Element class: {'parser': <xnat.convert_xsd.SchemaParser object at 0x000002657D9DDA08>, 'name': 'xnatpy:processStepCompiler', 'logger': <Logger xnat-b64a4890ffb339f7980aa848fb51cae0 (DEBUG)>, 'field_name': 'compiler', 'parent_class': 'prov:processStep', 'parent_property': <AttributePrototype [subobject] compiler>, 'attributes': OrderedDict([('version', <AttributePrototype [property] version>)]), 'base_class': 'xnatpy:compilerString', 'display_identifier': None, 'abstract': False, '_simple': False, '_writer': None, 'source_schema': '/xapi/schemas/birn/birnprov'}\n"
     ]
    },
    {
     "name": "stderr",
     "output_type": "stream",
     "text": [
      "[2020-02-17 08:26:44,185] DEBUG: convert_xsd:1362 >> Ignoring non-listing...\n",
      "[2020-02-17 08:26:44,185] DEBUG: convert_xsd:1363 >> Element class: {'parser': <xnat.convert_xsd.SchemaParser object at 0x000002657D9DDA08>, 'name': 'xnatpy:processStepLibrary', 'logger': <Logger xnat-b64a4890ffb339f7980aa848fb51cae0 (DEBUG)>, 'field_name': 'library', 'parent_class': 'prov:processStep', 'parent_property': <AttributePrototype [listing] library>, 'attributes': OrderedDict([('version', <AttributePrototype [property] version>)]), 'base_class': 'xnatpy:libraryString', 'display_identifier': None, 'abstract': False, '_simple': False, '_writer': None, 'source_schema': '/xapi/schemas/birn/birnprov'}\n",
      "[2020-02-17 08:26:44,185] INFO: convert_xsd:1356 >> Removing class xnatpy:catalogMetafields from parser, it only has one element!\n",
      "[2020-02-17 08:26:44,186] INFO: convert_xsd:1356 >> Removing class xnatpy:catalogTags from parser, it only has one element!\n",
      "[2020-02-17 08:26:44,188] INFO: convert_xsd:1356 >> Removing class xnatpy:catalogSets from parser, it only has one element!\n",
      "[2020-02-17 08:26:44,188] INFO: convert_xsd:1356 >> Removing class xnatpy:catalogEntries from parser, it only has one element!\n",
      "[2020-02-17 08:26:44,189] DEBUG: convert_xsd:1362 >> Ignoring non-listing...\n",
      "[2020-02-17 08:26:44,189] DEBUG: convert_xsd:1363 >> Element class: {'parser': <xnat.convert_xsd.SchemaParser object at 0x000002657D9DDA08>, 'name': 'xnatpy:catalogMetafields', 'logger': <Logger xnat-b64a4890ffb339f7980aa848fb51cae0 (DEBUG)>, 'field_name': 'metaFields/metaField', 'parent_class': 'cat:catalog', 'parent_property': <AttributePrototype [listing] metaFields>, 'attributes': OrderedDict([('name', <AttributePrototype [property] name>)]), 'base_class': 'xnatpy:metaFieldString', 'display_identifier': None, 'abstract': False, '_simple': False, '_writer': None, 'source_schema': '/xapi/schemas/catalog'}\n",
      "[2020-02-17 08:26:44,190] INFO: convert_xsd:1356 >> Removing class xnatpy:entryMetafields from parser, it only has one element!\n",
      "[2020-02-17 08:26:44,190] INFO: convert_xsd:1356 >> Removing class xnatpy:entryTags from parser, it only has one element!\n",
      "[2020-02-17 08:26:44,190] DEBUG: convert_xsd:1362 >> Ignoring non-listing...\n",
      "[2020-02-17 08:26:44,191] DEBUG: convert_xsd:1363 >> Element class: {'parser': <xnat.convert_xsd.SchemaParser object at 0x000002657D9DDA08>, 'name': 'xnatpy:entryMetafields', 'logger': <Logger xnat-b64a4890ffb339f7980aa848fb51cae0 (DEBUG)>, 'field_name': 'metaFields/metaField', 'parent_class': 'cat:entry', 'parent_property': <AttributePrototype [listing] metaFields>, 'attributes': OrderedDict([('name', <AttributePrototype [property] name>)]), 'base_class': 'xnatpy:metaFieldString', 'display_identifier': None, 'abstract': False, '_simple': False, '_writer': None, 'source_schema': '/xapi/schemas/catalog'}\n",
      "[2020-02-17 08:26:44,191] INFO: convert_xsd:1356 >> Removing class xnatpy:projectFieldspecifications from parser, it only has one element!\n",
      "[2020-02-17 08:26:44,191] INFO: convert_xsd:1356 >> Removing class xnatpy:projectProperties from parser, it only has one element!\n",
      "[2020-02-17 08:26:44,192] INFO: convert_xsd:1356 >> Removing class xnatpy:projectPipelinesDescendants from parser, it only has one element!\n",
      "[2020-02-17 08:26:44,192] INFO: convert_xsd:1356 >> Removing class xnatpy:pipelineDataParameters from parser, it only has one element!\n",
      "[2020-02-17 08:26:44,193] DEBUG: convert_xsd:1362 >> Ignoring non-listing...\n",
      "[2020-02-17 08:26:44,193] DEBUG: convert_xsd:1363 >> Element class: {'parser': <xnat.convert_xsd.SchemaParser object at 0x000002657D9DDA08>, 'name': 'xnatpy:pipelineParameterDataCsvvalues', 'logger': <Logger xnat-b64a4890ffb339f7980aa848fb51cae0 (DEBUG)>, 'field_name': 'csvValues', 'parent_class': 'arc:pipelineParameterData', 'parent_property': <AttributePrototype [subobject] csvValues>, 'attributes': OrderedDict([('selected', <AttributePrototype [property] selected>)]), 'base_class': 'xnatpy:csvValuesString', 'display_identifier': None, 'abstract': False, '_simple': False, '_writer': None, 'source_schema': '/xapi/schemas/project'}\n",
      "[2020-02-17 08:26:44,193] INFO: convert_xsd:1356 >> Removing class xnatpy:protocolDataScans from parser, it only has one element!\n",
      "[2020-02-17 08:26:44,194] INFO: convert_xsd:1356 >> Removing class xnatpy:protocolDataCheckConditions from parser, it only has one element!\n",
      "[2020-02-17 08:26:44,195] INFO: convert_xsd:1356 >> Removing class xnatpy:protocolDataCheckComments from parser, it only has one element!\n",
      "[2020-02-17 08:26:44,195] INFO: convert_xsd:1356 >> Removing class xnatpy:protocolDataScansScan_checkConditions from parser, it only has one element!\n",
      "[2020-02-17 08:26:44,195] INFO: convert_xsd:1356 >> Removing class xnatpy:protocolDataScansScan_checkComments from parser, it only has one element!\n",
      "[2020-02-17 08:26:44,196] DEBUG: convert_xsd:1362 >> Ignoring non-listing...\n",
      "[2020-02-17 08:26:44,197] DEBUG: convert_xsd:1363 >> Element class: {'parser': <xnat.convert_xsd.SchemaParser object at 0x000002657D9DDA08>, 'name': 'xnatpy:FieldTypeContent', 'logger': <Logger xnat-b64a4890ffb339f7980aa848fb51cae0 (DEBUG)>, 'field_name': 'Content', 'parent_class': 'display:FieldType', 'parent_property': <AttributePrototype [subobject] Content>, 'attributes': OrderedDict([('type', <AttributePrototype [property] type>)]), 'base_class': 'xnatpy:ContentString', 'display_identifier': None, 'abstract': False, '_simple': False, '_writer': None, 'source_schema': '/xapi/schemas/xdat/display'}\n",
      "[2020-02-17 08:26:44,197] INFO: convert_xsd:1356 >> Removing class xnatpy:SubQueryFieldMappingcolumns from parser, it only has one element!\n",
      "[2020-02-17 08:26:44,198] DEBUG: convert_xsd:1362 >> Ignoring non-listing...\n",
      "[2020-02-17 08:26:44,198] DEBUG: convert_xsd:1363 >> Element class: {'parser': <xnat.convert_xsd.SchemaParser object at 0x000002657D9DDA08>, 'name': 'xnatpy:PlexiViewerTypeViewableitemUserinterfaceLinkeddropdown', 'logger': <Logger xnat-b64a4890ffb339f7980aa848fb51cae0 (DEBUG)>, 'field_name': 'LinkedDropDown', 'parent_class': 'xnatpy:PlexiViewerTypeViewableitemUserinterface', 'parent_property': <AttributePrototype [listing] LinkedDropDown>, 'attributes': OrderedDict([('viewableItemType', <AttributePrototype [property] viewableItemType>)]), 'base_class': None, 'display_identifier': None, 'abstract': False, '_simple': False, '_writer': None, 'source_schema': '/xapi/schemas/xdat/PlexiViewer'}\n",
      "[2020-02-17 08:26:44,199] DEBUG: convert_xsd:1362 >> Ignoring non-listing...\n",
      "[2020-02-17 08:26:44,199] DEBUG: convert_xsd:1363 >> Element class: {'parser': <xnat.convert_xsd.SchemaParser object at 0x000002657D9DDA08>, 'name': 'xnatpy:PlexiViewerTypeViewableitemHi-resLayer', 'logger': <Logger xnat-b64a4890ffb339f7980aa848fb51cae0 (DEBUG)>, 'field_name': 'Layer', 'parent_class': 'xnatpy:PlexiViewerTypeViewableitemHi-res', 'parent_property': <AttributePrototype [listing] Layer>, 'attributes': OrderedDict([('num', <AttributePrototype [property] num>)]), 'base_class': 'SchemaLinkType', 'display_identifier': None, 'abstract': False, '_simple': False, '_writer': None, 'source_schema': '/xapi/schemas/xdat/PlexiViewer'}\n",
      "[2020-02-17 08:26:44,200] DEBUG: convert_xsd:1362 >> Ignoring non-listing...\n",
      "[2020-02-17 08:26:44,200] DEBUG: convert_xsd:1363 >> Element class: {'parser': <xnat.convert_xsd.SchemaParser object at 0x000002657D9DDA08>, 'name': 'xnatpy:PlexiViewerTypeViewableitemHi-resLayoutref', 'logger': <Logger xnat-b64a4890ffb339f7980aa848fb51cae0 (DEBUG)>, 'field_name': 'LayoutRef', 'parent_class': 'xnatpy:PlexiViewerTypeViewableitemHi-res', 'parent_property': <AttributePrototype [subobject] LayoutRef>, 'attributes': OrderedDict([('name', <AttributePrototype [property] name>)]), 'base_class': None, 'display_identifier': None, 'abstract': False, '_simple': False, '_writer': None, 'source_schema': '/xapi/schemas/xdat/PlexiViewer'}\n",
      "[2020-02-17 08:26:44,201] DEBUG: convert_xsd:1382 >> Found simple mapping xnat:projectData.aliases -> xnatpy:projectDataAliases\n",
      "[2020-02-17 08:26:44,202] DEBUG: convert_xsd:1382 >> Found simple mapping xnat:projectData.fields -> xnatpy:projectDataFields\n",
      "[2020-02-17 08:26:44,202] DEBUG: convert_xsd:1382 >> Found simple mapping xnat:subjectData.addID -> xnatpy:subjectDataAddid\n"
     ]
    },
    {
     "name": "stderr",
     "output_type": "stream",
     "text": [
      "[2020-02-17 08:26:44,203] DEBUG: convert_xsd:1382 >> Found simple mapping xnat:subjectData.fields -> xnatpy:subjectDataFields\n",
      "[2020-02-17 08:26:44,204] DEBUG: convert_xsd:1382 >> Found simple mapping xnat:experimentData.sharing -> xnatpy:experimentDataSharing\n",
      "[2020-02-17 08:26:44,204] DEBUG: convert_xsd:1388 >> Too many attributes to simplify (found 4 attributed)\n",
      "[2020-02-17 08:26:44,205] DEBUG: convert_xsd:1382 >> Found simple mapping xnat:experimentData.fields -> xnatpy:experimentDataFields\n",
      "[2020-02-17 08:26:44,205] DEBUG: convert_xsd:1382 >> Found simple mapping xnat:subjectVariablesData.variables -> xnatpy:subjectVariablesDataVariables\n",
      "[2020-02-17 08:26:44,206] DEBUG: convert_xsd:1382 >> Found simple mapping xnat:abstractResource.tags -> xnatpy:abstractResourceTags\n",
      "[2020-02-17 08:26:44,207] DEBUG: convert_xsd:1382 >> Found simple mapping xnat:regionResource.subregionlabels -> xnatpy:regionResourceSubregionlabels\n",
      "[2020-02-17 08:26:44,207] DEBUG: convert_xsd:1382 >> Found simple mapping xnat:statisticsData.additionalStatistics -> xnatpy:statisticsDataAdditionalstatistics\n",
      "[2020-02-17 08:26:44,208] DEBUG: convert_xsd:1382 >> Found simple mapping xnat:statisticsData.addField -> xnatpy:statisticsDataAddfield\n",
      "[2020-02-17 08:26:44,208] DEBUG: convert_xsd:1382 >> Found simple mapping xnatpy:fieldDefinitionGroupFields.possibleValues -> xnatpy:fieldDefinitionGroupFieldsFieldPossiblevalues\n",
      "[2020-02-17 08:26:44,209] DEBUG: convert_xsd:1382 >> Found simple mapping xnat:imageScanData.sharing -> xnatpy:imageScanDataSharing\n",
      "[2020-02-17 08:26:44,210] DEBUG: convert_xsd:1382 >> Found simple mapping xnat:qcScanData.fields -> xnatpy:qcScanDataFields\n",
      "[2020-02-17 08:26:44,210] DEBUG: convert_xsd:1382 >> Found simple mapping wrk:xnatExecutionEnvironment.parameters -> xnatpy:xnatExecutionEnvironmentParameters\n",
      "[2020-02-17 08:26:44,211] DEBUG: convert_xsd:1382 >> Found simple mapping prov:processStep.library -> xnatpy:processStepLibrary\n",
      "[2020-02-17 08:26:44,211] DEBUG: convert_xsd:1382 >> Found simple mapping cat:catalog.metaFields -> xnatpy:catalogMetafields\n",
      "[2020-02-17 08:26:44,211] DEBUG: convert_xsd:1382 >> Found simple mapping cat:entry.metaFields -> xnatpy:entryMetafields\n",
      "[2020-02-17 08:26:44,212] DEBUG: convert_xsd:1382 >> Found simple mapping xnatpy:protocolDataCheck.comments -> xnatpy:protocolDataCheckComments\n",
      "[2020-02-17 08:26:44,212] DEBUG: convert_xsd:1382 >> Found simple mapping xnatpy:protocolDataScans.comments -> xnatpy:protocolDataScansScan_checkComments\n",
      "[2020-02-17 08:26:44,213] DEBUG: convert_xsd:1407 >> Classed after prune: {'xnatpy:imageScanDataScanner', 'xnat:petmrSessionData', 'arc:pipelineParameterData', 'xnat:opSessionData', 'xnatpy:element_securityListing_actionsListing_action', 'xnatpy:ecatValidationString', 'xnatpy:petScanDataParametersPixelsize', 'xnatpy:additionalStatisticsDouble', 'xnatpy:ratingString', 'xdat:criteria_set', 'xnatpy:ctScanDataParametersDerivation', 'xnat:ctScanData', 'xnat:subjectAssessorData', 'xnatpy:fieldString', 'xnat:optScanData', 'xnatpy:FieldTypeHtml-linkPropertyInsertvalue', 'build:imageSessionData', 'xnat:imageScanData', 'xnatpy:catalogMetafieldsMetafield', 'PlexiViewerType', 'xnatpy:petSessionDataTracerIntermediate', 'xnatpy:petSessionDataTracerDose', 'xnatpy:petScanDataParametersFramesFrame', 'arc:pathInfo', 'xnatpy:ctScanDataParametersVoxelres', 'xnatpy:ctScanDataParameters', 'xnat:usScanData', 'xnatpy:FieldTypeHtml-image', 'xnatpy:protocolDataScansScan_checkConditionsCondition', 'xnatpy:petScanDataParametersRfilter', 'icr:roiCollectionData', 'xnatpy:petScanDataParametersResolution', 'xnatpy:xaScanDataParameters', 'xnatpy:studyProtocolAcqconditionsCondition', 'xnatpy:primary_security_fieldString', 'xnatpy:petmrSessionDataTracerIsotope', 'xnatpy:projectDataFieldsField', 'xnat:qcScanData', 'xnatpy:ctScanDataParametersEstimateddosesaving', 'xnat:nmScanData', 'xnatpy:petSessionDataTracer', 'xnat:crSessionData', 'xnatpy:regionResourceSubregionlabelsLabel', 'xnatpy:updrs3DataRigidity', 'xnat:imageResourceSeries', 'xnatpy:eegScanDataParameters', 'xnatpy:LayoutDescriptionCoordinates', 'xnat:pVisitData', 'xnat:dxSessionData', 'display:SubQueryField', 'xdat:user', 'xnat:xcScanData', 'xnat:mrSessionData', 'xdat:userGroup', 'xnat_a:scidResearchData', 'xnatpy:petScanDataParametersFilter', 'xnatpy:scidResearchDataOptional', 'xnatpy:PlexiViewerTypeViewableitemSchemalink', 'xnatpy:SubQueryFieldMappingcolumnsMappingcolumn', 'xnatpy:experimentDataDelay', 'xnatpy:scidResearchDataEatingdisorders', 'xnatpy:processStepLibrary', 'xnat:demographicData', 'xnatpy:fieldSpecificationString', 'xdat:criteria', 'xnatpy:mrScanDataParametersFov', 'xnatpy:protocolDataCheckCommentsComment', 'xnatpy:ctScanDataDcmvalidation', 'xnatpy:PlexiViewerTypeViewableitemThumbnail', 'xnatpy:petmrSessionDataTracerDose', 'xnatpy:imageResourceSeriesVoxelres', 'xnatpy:petmrSessionDataTracer', 'xnat:projectParticipant', 'xnat:xcvScanData', 'xnat:reconstructedImageData', 'xnat:abstractStatistics', 'build:pipelineParameterData', 'xnatpy:heightFloat', 'xnatpy:mrScanDataParametersMatrix', 'LayoutDescription', 'xnatpy:statisticsDataAdditionalstatistics', 'xnatpy:ygtssDataPhonic', 'val:additionalVal', 'xdat:primary_security_field', 'xnatpy:xaScanDataParametersPixelres', 'xnat:resourceSeries', 'prov:process', 'SchemaLinkType', 'xnatpy:updrs3DataHandsram', 'xnat:imageSessionData', 'xnat_a:updrs3Data', 'xnatpy:PlexiViewerTypeViewableitemLo-resParameter', 'xnat:smSessionData', 'xnatpy:shareString', 'xnatpy:imageSessionDataPipeline', 'xnatpy:stored_searchAllowed_user', 'xnat:gmSessionData', 'xnat:publicationResource', 'xnat:esvSessionData', 'xnatpy:imageScanDataSharingShare', 'xnatpy:projectPipelinesDescendantsDescendant', 'xnat:esScanData', 'xnatpy:stored_searchSort_by', 'xnatpy:PlexiViewerTypeViewableitemLo-res', 'xnatpy:aliasString', 'xnat:rfSessionData', 'xnatpy:doseFloat', 'pipe:pipelineDetails', 'xnat:subjectVariablesData', 'xnat:xcvSessionData', 'xnatpy:mrScanDataParametersInplanephaseencoding', 'xdat:stored_search', 'xnatpy:volumetricRegionSubregionsSubregion', 'display:HTML-Cell', 'xnatpy:ContentString', 'xnat:megSessionData', 'xnatpy:pipelineDetailsParametersParameter', 'xnat:fieldDefinitionGroup', 'xnatpy:studyProtocolSubjectvariablesVariable', 'xnatpy:petScanDataEcatvalidation', 'xnatpy:qcScanDataFieldsField', 'xnat:eegSessionData', 'xnatpy:subjectVariablesDataVariablesVariable', 'xnatpy:statisticsDataAddfield', 'xnat:mrScanData', 'xnatpy:scidResearchDataMooddisorders', 'arc:project', 'xnat:gmvSessionData', 'xnatpy:updrs3DataFoottaps', 'xdat:element_security', 'xnatpy:PlexiViewerTypeViewableitemUserinterface', 'xnatpy:dcmCatalogVoxelres', 'xnatpy:PlexiViewerTypeViewableitem', 'xnatpy:mrScanDataParametersDiffusion', 'xnatpy:studyProtocolSubjectgroupsGroup', 'xnatpy:pipelineDetailsParametersParameterValues', 'xnatpy:totalMassFloat', 'xnat:mgSessionData', 'xnat:dicomCodedValue', 'xnat:mgScanData', 'xnatpy:dicomSeriesVoxelres', 'xnat:derivedData', 'cat:dcmCatalog', 'xdat:role_type', 'xnat:smScanData', 'xnatpy:weightFloat', 'xnatpy:abstractResourceTagsTag', 'xnatpy:projectPipelines', 'xnatpy:xaScanDataParametersFov', 'xnatpy:mrScanDataParametersVoxelres', 'xnat:hdScanData', 'xnatpy:optScanDataParameters', 'xnatpy:possibleValueString', 'xnat:mrAssessorData', 'xnat:crScanData', 'xnatpy:addFieldString', 'xnatpy:samplingRateFloat', 'xnatpy:protocolDataScansScan_check', 'xnatpy:dcmValidationString', 'xnatpy:primary_passwordString', 'xnat:resourceCatalog', 'xnat:subjectMetadata', 'xnatpy:processStepProgram', 'xnatpy:scannerString', 'xnatpy:optScanDataParametersVoxelres', 'xnat:hdSessionData', 'xnatpy:intermediateFloat', 'xnatpy:mrScanDataParameters', 'xnatpy:scidResearchDataMoodepisodes', 'xnat:ioSessionData', 'xnat:xa3DScanData', 'xnat:dxScanData', 'xnat:dx3DCraniofacialSessionData', 'xnat:usSessionData', 'xnatpy:pipelineParameterDataCsvvalues', 'xnat:projectData', 'xdat:infoEntry', 'xnatpy:ctScanDataParametersCollimationwidth', 'xnat:resource', 'xnatpy:optScanDataDcmvalidation', 'xnatpy:programString', 'xnat:srSessionData', 'xnatpy:scidResearchDataSubstanceusedisorders', 'xnat:validationData', 'xnat:otherDicomScanData', 'xnatpy:dcmCatalogDimensions', 'xnatpy:FieldTypeHtml-linkProperty', 'xnat:mrQcScanData', 'xnat:petQcScanData', 'xnat:imageAssessorData', 'xnat:xcSessionData', 'xnat:srScanData', 'xnatpy:petScanDataParametersZfilter', 'xnat:ecgScanData', 'xnat_a:sideEffectsPittsburghData', 'xnatpy:xnatExecutionEnvironmentParametersParameter', 'xnat:otherQcScanData', 'xnat:rtImageScanData', 'xnatpy:protocolDataScansScan_checkCommentsComment', 'xnat:ecgSessionData', 'xnat:imageResource', 'xnatpy:derivationString', 'scr:screeningScanData', 'xnatpy:FieldTypeContent', 'xnatpy:parameterString', 'xnatpy:addIDString', 'xnat:experimentData', 'xnat_a:ygtssData', 'xnatpy:dicomSeriesDimensions', 'xdat:change_info', 'xnatpy:updrs3DataClicker', 'xnat:studyProtocol', 'xnatpy:updrs3DataActionposturaltremor', 'xnat:voiceAudioScanData', 'xnat:ioScanData', 'xnat:genericData', 'xnat:optSessionData', 'xnatpy:metaFieldString', 'xnatpy:compilerString', 'build:buildData', 'xdat:action_type', 'xnatpy:regionResourceCreator', 'xnatpy:demographicDataHeight', 'xnat:segScanData', 'xnatpy:petSessionDataTracerTotalmass', 'xnatpy:PlexiViewerTypeViewableitemHi-resLayoutref', 'xnatpy:eegSessionDataSamplinginterval', 'xnatpy:propertyString', 'arc:fieldSpecification', 'xnatpy:PlexiViewerTypeViewableitemHi-res', 'xnatpy:projectPipelinesDescendantsDescendantPipeline', 'xnat:esvScanData', 'xnatpy:scidResearchDataPsychoticsymptoms', 'xnatpy:imageSessionDataScanner', 'xnatpy:subjectDataFieldsField', 'xnatpy:eegSessionDataSamplingrate', 'xnatpy:imageResourceVoxelres', 'xnatpy:eegScanDataSoftwarefiltersimpedances', 'xnatpy:qcScanDataRating', 'xnatpy:protocolDataCheck', 'xnatpy:fieldDefinitionGroupFieldsFieldPossiblevaluesPossiblevalue', 'xnat:otherDicomSessionData', 'xnatpy:ctScanDataParametersFov', 'xnat:esSessionData', 'xnat:qcManualAssessorData', 'xnatpy:FieldTypeHtml-linkSecurelink', 'xnatpy:pipelineParameterDataParameter', 'xnatpy:dicomSeriesImagesetImage', 'xnatpy:updrs3DataFingertaps', 'xnat:dx3DCraniofacialScanData', 'xnat:volumetricRegion', 'xnat:petScanData', 'xnatpy:fieldDefinitionGroupFieldsField', 'xnatpy:petmrSessionDataTracerTotalmass', 'xnat:opScanData', 'xnatpy:ctScanDataParametersRescale', 'xnat:subjectData', 'xnat_a:ybocsData', 'xnatpy:studyProtocolImagesessiontypesSession', 'cat:dcmEntry', 'xnat:abstractResource', 'arc:pipelineData', 'xnatpy:samplingIntervalFloat', 'xnatpy:eegScanDataParametersDatarecord', 'xnatpy:PlexiViewerTypeViewableitemThumbnailSlice', 'xnat:dicomSeries', 'xdat:element_action_type', 'xnatpy:PlexiViewerTypeViewableitemUserinterfaceLinkeddropdown', 'wrk:xnatExecutionEnvironment', 'display:FieldType', 'xnat:xa3DSessionData', 'xnat:qcAssessmentData', 'xnat:epsScanData', 'xnatpy:FieldTypeHtml-linkSecurelinkSecuritymappingvalue', 'xnatpy:demographicDataWeight', 'xnat:mrsScanData', 'xnat:gmvScanData', 'xnatpy:processStepCompiler', 'xnat:megScanData', 'xnat:regionResource', 'xnatpy:tagString', 'xnatpy:labelString', 'xnatpy:updrs3DataTremorrest', 'xnatpy:mrScanDataDcmvalidation', 'xnat:xaScanData', 'xnatpy:delayInteger', 'xnat:abstractProtocol', 'wrk:abstractExecutionEnvironment', 'xnatpy:isotopeString', 'xdat:history', 'xnatpy:eegScanDataChannelsChannel', 'xdat:field_mapping', 'xnat:ctSessionData', 'xnat:epsSessionData', 'xdat:access_log', 'xnatpy:qcAssessmentDataScansScanSliceqcSlice', 'xnatpy:variableString', 'xnatpy:entryMetafieldsMetafield', 'xdat:user_login', 'xnatpy:petScanDataParametersOffset', 'xnatpy:imageResourceSeriesDimensions', 'xnatpy:eegScanDataSoftwarefiltersimpedancesImpedance', 'scr:screeningAssessment', 'xnat:rfScanData', 'xnat:scScanData', 'xnatpy:scidResearchDataSomatoformdisorders', 'xdat:field_mapping_set', 'xnatpy:optScanDataParametersFov', 'wrk:workflowData', 'xdat:search_field', 'xnatpy:petScanDataParametersDimensions', 'xnatpy:ygtssDataMotor', 'xnat:petSessionData', 'xnat:investigatorData', 'xnatpy:updrs3DataHandmovementsgrip', 'cat:entry', 'xnatpy:xnatExecutionEnvironmentParameterfile', 'xnatpy:PlexiViewerTypeViewableitemHi-resLayer', 'arc:property', 'xnatpy:libraryString', 'xnatpy:subjectDataAddid', 'xnatpy:projectPipelinesPipeline', 'xnatpy:platformString', 'xdat:newsEntry', 'xnatpy:petScanDataParameters', 'xnat:gmScanData', 'cat:catalog', 'xnatpy:scidResearchDataAnxietydisorders', 'xdat:meta_data', 'xnatpy:commentString', 'xnat:nmSessionData', 'xnatpy:qcAssessmentDataScansScan', 'build:pipelineData', 'xnat:statisticsData', 'xnatpy:petmrSessionDataTracerIntermediate', 'xnatpy:experimentDataFieldsField', 'xnatpy:imageResourceDimensions', 'xnatpy:estimatedDoseSavingFloat', 'xnatpy:userPrimary_password', 'xnat:abstractSubjectMetadata', 'xnatpy:projectDataAliasesAlias', 'xnat:petAssessorData', 'xnatpy:protocolDataCheckConditionsCondition', 'xnat:xaSessionData', 'xnatpy:csvValuesString', 'xnatpy:FieldTypeHtml-link', 'xnat:algorithm', 'xnatpy:petSessionDataTracerIsotope', 'xnatpy:experimentDataSharingShare', 'xnat:rtSessionData', 'val:protocolData', 'xnat:datatypeProtocol', 'xdat:LONGVARCHAR', 'xnat:eegScanData', 'xnatpy:processStepPlatform', 'xnat:abstractDemographicData', 'xnatpy:scidResearchDataPsychoticdisorders', 'prov:processStep', 'xnat:computationData', 'xnat:addField', 'xnatpy:petScanDataParametersFrames', 'xnat:contrastBolus'}\n"
     ]
    },
    {
     "name": "stderr",
     "output_type": "stream",
     "text": [
      "[2020-02-17 08:26:44,214] INFO: convert_xsd:1408 >> Classes removed by pruning: ['xnatpy:SubQueryFieldMappingcolumns', 'xnatpy:abstractResourceTags', 'xnatpy:catalogEntries', 'xnatpy:catalogMetafields', 'xnatpy:catalogSets', 'xnatpy:catalogTags', 'xnatpy:ctScanDataParametersFocalspots', 'xnatpy:datatypeProtocolDefinitions', 'xnatpy:dicomSeriesImageset', 'xnatpy:eegScanDataChannels', 'xnatpy:element_securityElement_actions', 'xnatpy:element_securityListing_actions', 'xnatpy:element_securityPrimary_security_fields', 'xnatpy:entryMetafields', 'xnatpy:entryTags', 'xnatpy:experimentDataFields', 'xnatpy:experimentDataResources', 'xnatpy:experimentDataSharing', 'xnatpy:fieldDefinitionGroupFields', 'xnatpy:fieldDefinitionGroupFieldsFieldPossiblevalues', 'xnatpy:imageAssessorDataIn', 'xnatpy:imageAssessorDataOut', 'xnatpy:imageAssessorDataParameters', 'xnatpy:imageScanDataSharing', 'xnatpy:imageSessionDataAssessors', 'xnatpy:imageSessionDataReconstructions', 'xnatpy:imageSessionDataRegions', 'xnatpy:imageSessionDataScans', 'xnatpy:petQcScanDataProcessingerrors', 'xnatpy:pipelineDataParameters', 'xnatpy:pipelineDetailsGenerateselements', 'xnatpy:pipelineDetailsParameters', 'xnatpy:projectDataAliases', 'xnatpy:projectDataFields', 'xnatpy:projectDataInvestigators', 'xnatpy:projectDataPublications', 'xnatpy:projectDataResources', 'xnatpy:projectFieldspecifications', 'xnatpy:projectPipelinesDescendants', 'xnatpy:projectProperties', 'xnatpy:protocolDataCheckComments', 'xnatpy:protocolDataCheckConditions', 'xnatpy:protocolDataScans', 'xnatpy:protocolDataScansScan_checkComments', 'xnatpy:protocolDataScansScan_checkConditions', 'xnatpy:qcAssessmentDataScans', 'xnatpy:qcAssessmentDataScansScanSliceqc', 'xnatpy:qcManualAssessorDataScans', 'xnatpy:qcScanDataFields', 'xnatpy:reconstructedImageDataComputations', 'xnatpy:reconstructedImageDataIn', 'xnatpy:reconstructedImageDataInscans', 'xnatpy:reconstructedImageDataOut', 'xnatpy:reconstructedImageDataParameters', 'xnatpy:regionResourceSubregionlabels', 'xnatpy:roiCollectionDataReferences', 'xnatpy:role_typeAllowed_actions', 'xnatpy:screeningAssessmentScans', 'xnatpy:stored_searchAllowed_groups', 'xnatpy:studyProtocolAcqconditions', 'xnatpy:studyProtocolImagesessiontypes', 'xnatpy:studyProtocolSubjectgroups', 'xnatpy:studyProtocolSubjectvariables', 'xnatpy:subjectDataExperiments', 'xnatpy:subjectDataFields', 'xnatpy:subjectDataResources', 'xnatpy:subjectDataSharing', 'xnatpy:subjectVariablesDataVariables', 'xnatpy:userAssigned_roles', 'xnatpy:userGroups', 'xnatpy:volumetricRegionSubregions', 'xnatpy:xnatExecutionEnvironmentParameters']\n",
      "[2020-02-17 08:26:44,214] INFO: convert_xsd:1410 >> === Writing result ===\n",
      "[2020-02-17 08:26:44,214] DEBUG: convert_xsd:997 >> Wait with processing icr:roiCollectionData because base xnat:imageAssessorData is not yet processed\n",
      "[2020-02-17 08:26:44,215] INFO: convert_xsd:1010 >> Processing xdat:field_mapping (base class None)\n",
      "[2020-02-17 08:26:44,216] INFO: convert_xsd:1010 >> Processing xdat:field_mapping_set (base class None)\n",
      "[2020-02-17 08:26:44,216] INFO: convert_xsd:1010 >> Processing xdat:role_type (base class None)\n",
      "[2020-02-17 08:26:44,217] INFO: convert_xsd:1010 >> Processing xdat:action_type (base class None)\n",
      "[2020-02-17 08:26:44,217] DEBUG: convert_xsd:997 >> Wait with processing xdat:primary_security_field because base xnatpy:primary_security_fieldString is not yet processed\n",
      "[2020-02-17 08:26:44,218] INFO: convert_xsd:1010 >> Processing xnatpy:primary_security_fieldString (base class None)\n",
      "[2020-02-17 08:26:44,219] INFO: convert_xsd:1010 >> Processing xdat:element_security (base class None)\n",
      "[2020-02-17 08:26:44,220] INFO: convert_xsd:1010 >> Processing xnatpy:element_securityListing_actions (base class None)\n",
      "[2020-02-17 08:26:44,221] INFO: convert_xsd:1010 >> Processing xdat:element_action_type (base class None)\n",
      "[2020-02-17 08:26:44,223] INFO: convert_xsd:1010 >> Processing xdat:user (base class None)\n",
      "[2020-02-17 08:26:44,224] DEBUG: convert_xsd:997 >> Wait with processing xnatpy:userPrimary_password because base xnatpy:primary_passwordString is not yet processed\n",
      "[2020-02-17 08:26:44,225] INFO: convert_xsd:1010 >> Processing xnatpy:primary_passwordString (base class None)\n",
      "[2020-02-17 08:26:44,225] INFO: convert_xsd:1010 >> Processing xdat:meta_data (base class None)\n",
      "[2020-02-17 08:26:44,227] INFO: convert_xsd:1010 >> Processing xdat:history (base class None)\n",
      "[2020-02-17 08:26:44,228] INFO: convert_xsd:1010 >> Processing xdat:change_info (base class None)\n",
      "[2020-02-17 08:26:44,229] INFO: convert_xsd:1010 >> Processing xdat:user_login (base class None)\n",
      "[2020-02-17 08:26:44,229] INFO: convert_xsd:1010 >> Processing xdat:stored_search (base class None)\n",
      "[2020-02-17 08:26:44,230] INFO: convert_xsd:1010 >> Processing xnatpy:stored_searchSort_by (base class None)\n",
      "[2020-02-17 08:26:44,231] INFO: convert_xsd:1010 >> Processing xnatpy:stored_searchAllowed_user (base class None)\n",
      "[2020-02-17 08:26:44,232] INFO: convert_xsd:1010 >> Processing xdat:criteria_set (base class None)\n",
      "[2020-02-17 08:26:44,233] INFO: convert_xsd:1010 >> Processing xdat:criteria (base class None)\n",
      "[2020-02-17 08:26:44,233] INFO: convert_xsd:1010 >> Processing xdat:search_field (base class None)\n",
      "[2020-02-17 08:26:44,234] INFO: convert_xsd:1010 >> Processing xdat:access_log (base class None)\n",
      "[2020-02-17 08:26:44,234] INFO: convert_xsd:1010 >> Processing xdat:userGroup (base class None)\n",
      "[2020-02-17 08:26:44,235] INFO: convert_xsd:1010 >> Processing xdat:newsEntry (base class None)\n",
      "[2020-02-17 08:26:44,236] INFO: convert_xsd:1010 >> Processing xdat:infoEntry (base class None)\n",
      "[2020-02-17 08:26:44,237] INFO: convert_xsd:1010 >> Processing xnat:projectData (base class None)\n",
      "[2020-02-17 08:26:44,238] DEBUG: convert_xsd:997 >> Wait with processing xnatpy:projectDataAliases because base xnatpy:aliasString is not yet processed\n",
      "[2020-02-17 08:26:44,239] INFO: convert_xsd:1010 >> Processing xnatpy:aliasString (base class None)\n",
      "[2020-02-17 08:26:44,239] DEBUG: convert_xsd:997 >> Wait with processing xnatpy:projectDataFields because base xnatpy:fieldString is not yet processed\n",
      "[2020-02-17 08:26:44,239] INFO: convert_xsd:1010 >> Processing xnatpy:fieldString (base class None)\n",
      "[2020-02-17 08:26:44,240] INFO: convert_xsd:1010 >> Processing xnat:subjectData (base class None)\n",
      "[2020-02-17 08:26:44,241] DEBUG: convert_xsd:997 >> Wait with processing xnatpy:subjectDataAddid because base xnatpy:addIDString is not yet processed\n",
      "[2020-02-17 08:26:44,242] INFO: convert_xsd:1010 >> Processing xnatpy:addIDString (base class None)\n",
      "[2020-02-17 08:26:44,243] INFO: convert_xsd:1010 >> Processing xnatpy:subjectDataFields (base class xnatpy:fieldString)\n",
      "[2020-02-17 08:26:44,243] INFO: convert_xsd:1010 >> Processing xnat:projectParticipant (base class None)\n",
      "[2020-02-17 08:26:44,245] INFO: convert_xsd:1010 >> Processing xnat:experimentData (base class None)\n",
      "[2020-02-17 08:26:44,246] DEBUG: convert_xsd:997 >> Wait with processing xnatpy:experimentDataSharing because base xnatpy:shareString is not yet processed\n",
      "[2020-02-17 08:26:44,247] INFO: convert_xsd:1010 >> Processing xnatpy:shareString (base class None)\n",
      "[2020-02-17 08:26:44,247] DEBUG: convert_xsd:997 >> Wait with processing xnatpy:experimentDataDelay because base xnatpy:delayInteger is not yet processed\n",
      "[2020-02-17 08:26:44,248] INFO: convert_xsd:1010 >> Processing xnatpy:delayInteger (base class None)\n",
      "[2020-02-17 08:26:44,248] INFO: convert_xsd:1010 >> Processing xnatpy:experimentDataFields (base class xnatpy:fieldString)\n",
      "[2020-02-17 08:26:44,249] INFO: convert_xsd:1010 >> Processing xnat:genericData (base class xnat:experimentData)\n",
      "[2020-02-17 08:26:44,250] INFO: convert_xsd:1010 >> Processing xnat:dicomCodedValue (base class None)\n",
      "[2020-02-17 08:26:44,250] INFO: convert_xsd:1010 >> Processing xnat:algorithm (base class None)\n",
      "[2020-02-17 08:26:44,251] INFO: convert_xsd:1010 >> Processing xnat:pVisitData (base class xnat:genericData)\n",
      "[2020-02-17 08:26:44,252] INFO: convert_xsd:1010 >> Processing xnat:abstractSubjectMetadata (base class None)\n",
      "[2020-02-17 08:26:44,253] INFO: convert_xsd:1010 >> Processing xnat:subjectMetadata (base class xnat:abstractSubjectMetadata)\n",
      "[2020-02-17 08:26:44,253] INFO: convert_xsd:1010 >> Processing xnat:abstractDemographicData (base class None)\n"
     ]
    },
    {
     "name": "stderr",
     "output_type": "stream",
     "text": [
      "[2020-02-17 08:26:44,253] INFO: convert_xsd:1010 >> Processing xnat:demographicData (base class xnat:abstractDemographicData)\n",
      "[2020-02-17 08:26:44,254] DEBUG: convert_xsd:997 >> Wait with processing xnatpy:demographicDataWeight because base xnatpy:weightFloat is not yet processed\n",
      "[2020-02-17 08:26:44,254] INFO: convert_xsd:1010 >> Processing xnatpy:weightFloat (base class None)\n",
      "[2020-02-17 08:26:44,255] DEBUG: convert_xsd:997 >> Wait with processing xnatpy:demographicDataHeight because base xnatpy:heightFloat is not yet processed\n",
      "[2020-02-17 08:26:44,255] INFO: convert_xsd:1010 >> Processing xnatpy:heightFloat (base class None)\n",
      "[2020-02-17 08:26:44,255] INFO: convert_xsd:1010 >> Processing xnat:subjectAssessorData (base class xnat:experimentData)\n",
      "[2020-02-17 08:26:44,256] INFO: convert_xsd:1010 >> Processing xnat:subjectVariablesData (base class xnat:subjectAssessorData)\n",
      "[2020-02-17 08:26:44,256] DEBUG: convert_xsd:997 >> Wait with processing xnatpy:subjectVariablesDataVariables because base xnatpy:variableString is not yet processed\n",
      "[2020-02-17 08:26:44,257] INFO: convert_xsd:1010 >> Processing xnatpy:variableString (base class None)\n",
      "[2020-02-17 08:26:44,257] INFO: convert_xsd:1010 >> Processing xnat:imageSessionData (base class xnat:subjectAssessorData)\n",
      "[2020-02-17 08:26:44,258] DEBUG: convert_xsd:997 >> Wait with processing xnatpy:imageSessionDataScanner because base xnatpy:scannerString is not yet processed\n",
      "[2020-02-17 08:26:44,258] INFO: convert_xsd:1010 >> Processing xnatpy:scannerString (base class None)\n",
      "[2020-02-17 08:26:44,259] INFO: convert_xsd:1010 >> Processing xnat:mrSessionData (base class xnat:imageSessionData)\n",
      "[2020-02-17 08:26:44,259] DEBUG: convert_xsd:997 >> Wait with processing xnat:mrAssessorData because base xnat:imageAssessorData is not yet processed\n",
      "[2020-02-17 08:26:44,259] DEBUG: convert_xsd:997 >> Wait with processing xnat:mrScanData because base xnat:imageScanData is not yet processed\n",
      "[2020-02-17 08:26:44,260] DEBUG: convert_xsd:1004 >> Wait with processing xnatpy:mrScanDataParameters because parent xnat:mrScanData is not yet processed\n",
      "[2020-02-17 08:26:44,260] DEBUG: convert_xsd:1004 >> Wait with processing xnatpy:mrScanDataParametersVoxelres because parent xnatpy:mrScanDataParameters is not yet processed\n",
      "[2020-02-17 08:26:44,260] DEBUG: convert_xsd:1004 >> Wait with processing xnatpy:mrScanDataParametersFov because parent xnatpy:mrScanDataParameters is not yet processed\n",
      "[2020-02-17 08:26:44,261] DEBUG: convert_xsd:1004 >> Wait with processing xnatpy:mrScanDataParametersMatrix because parent xnatpy:mrScanDataParameters is not yet processed\n",
      "[2020-02-17 08:26:44,261] DEBUG: convert_xsd:1004 >> Wait with processing xnatpy:mrScanDataParametersDiffusion because parent xnatpy:mrScanDataParameters is not yet processed\n",
      "[2020-02-17 08:26:44,262] DEBUG: convert_xsd:1004 >> Wait with processing xnatpy:mrScanDataParametersInplanephaseencoding because parent xnatpy:mrScanDataParameters is not yet processed\n",
      "[2020-02-17 08:26:44,262] DEBUG: convert_xsd:997 >> Wait with processing xnatpy:mrScanDataDcmvalidation because base xnatpy:dcmValidationString is not yet processed\n",
      "[2020-02-17 08:26:44,262] INFO: convert_xsd:1010 >> Processing xnatpy:dcmValidationString (base class None)\n",
      "[2020-02-17 08:26:44,263] INFO: convert_xsd:1010 >> Processing xnat:derivedData (base class xnat:experimentData)\n",
      "[2020-02-17 08:26:44,263] INFO: convert_xsd:1010 >> Processing xnat:reconstructedImageData (base class None)\n",
      "[2020-02-17 08:26:44,264] INFO: convert_xsd:1010 >> Processing xnat:investigatorData (base class None)\n",
      "[2020-02-17 08:26:44,264] INFO: convert_xsd:1010 >> Processing xnat:volumetricRegion (base class None)\n",
      "[2020-02-17 08:26:44,265] INFO: convert_xsd:1010 >> Processing xnatpy:volumetricRegionSubregions (base class None)\n",
      "[2020-02-17 08:26:44,265] DEBUG: convert_xsd:997 >> Wait with processing xnat:addField because base xdat:LONGVARCHAR is not yet processed\n",
      "[2020-02-17 08:26:44,266] INFO: convert_xsd:1010 >> Processing xnat:validationData (base class None)\n",
      "[2020-02-17 08:26:44,266] INFO: convert_xsd:1010 >> Processing xnat:abstractResource (base class None)\n",
      "[2020-02-17 08:26:44,266] DEBUG: convert_xsd:997 >> Wait with processing xnatpy:abstractResourceTags because base xnatpy:tagString is not yet processed\n",
      "[2020-02-17 08:26:44,267] INFO: convert_xsd:1010 >> Processing xnatpy:tagString (base class None)\n",
      "[2020-02-17 08:26:44,267] INFO: convert_xsd:1010 >> Processing xnat:resource (base class xnat:abstractResource)\n",
      "[2020-02-17 08:26:44,268] INFO: convert_xsd:1010 >> Processing xnat:imageResource (base class xnat:resource)\n",
      "[2020-02-17 08:26:44,268] INFO: convert_xsd:1010 >> Processing xnatpy:imageResourceDimensions (base class None)\n",
      "[2020-02-17 08:26:44,269] INFO: convert_xsd:1010 >> Processing xnatpy:imageResourceVoxelres (base class None)\n",
      "[2020-02-17 08:26:44,269] INFO: convert_xsd:1010 >> Processing xnat:resourceSeries (base class xnat:abstractResource)\n",
      "[2020-02-17 08:26:44,270] INFO: convert_xsd:1010 >> Processing xnat:imageResourceSeries (base class xnat:resourceSeries)\n",
      "[2020-02-17 08:26:44,270] INFO: convert_xsd:1010 >> Processing xnatpy:imageResourceSeriesDimensions (base class None)\n",
      "[2020-02-17 08:26:44,271] INFO: convert_xsd:1010 >> Processing xnatpy:imageResourceSeriesVoxelres (base class None)\n",
      "[2020-02-17 08:26:44,271] INFO: convert_xsd:1010 >> Processing xnat:dicomSeries (base class xnat:abstractResource)\n",
      "[2020-02-17 08:26:44,272] INFO: convert_xsd:1010 >> Processing xnatpy:dicomSeriesDimensions (base class None)\n",
      "[2020-02-17 08:26:44,273] INFO: convert_xsd:1010 >> Processing xnatpy:dicomSeriesVoxelres (base class None)\n",
      "[2020-02-17 08:26:44,273] INFO: convert_xsd:1010 >> Processing xnatpy:dicomSeriesImageset (base class None)\n",
      "[2020-02-17 08:26:44,274] INFO: convert_xsd:1010 >> Processing xnat:publicationResource (base class xnat:abstractResource)\n",
      "[2020-02-17 08:26:44,275] INFO: convert_xsd:1010 >> Processing xnat:abstractProtocol (base class None)\n",
      "[2020-02-17 08:26:44,275] INFO: convert_xsd:1010 >> Processing xnat:studyProtocol (base class xnat:abstractProtocol)\n",
      "[2020-02-17 08:26:44,276] INFO: convert_xsd:1010 >> Processing xnatpy:studyProtocolAcqconditions (base class None)\n",
      "[2020-02-17 08:26:44,276] INFO: convert_xsd:1010 >> Processing xnatpy:studyProtocolSubjectgroups (base class None)\n",
      "[2020-02-17 08:26:44,277] INFO: convert_xsd:1010 >> Processing xnatpy:studyProtocolSubjectvariables (base class None)\n",
      "[2020-02-17 08:26:44,277] INFO: convert_xsd:1010 >> Processing xnatpy:studyProtocolImagesessiontypes (base class None)\n",
      "[2020-02-17 08:26:44,278] DEBUG: convert_xsd:997 >> Wait with processing xnat:petAssessorData because base xnat:imageAssessorData is not yet processed\n",
      "[2020-02-17 08:26:44,278] INFO: convert_xsd:1010 >> Processing xnat:petSessionData (base class xnat:imageSessionData)\n",
      "[2020-02-17 08:26:44,279] INFO: convert_xsd:1010 >> Processing xnatpy:petSessionDataTracer (base class None)\n",
      "[2020-02-17 08:26:44,280] DEBUG: convert_xsd:997 >> Wait with processing xnatpy:petSessionDataTracerDose because base xnatpy:doseFloat is not yet processed\n",
      "[2020-02-17 08:26:44,281] INFO: convert_xsd:1010 >> Processing xnatpy:doseFloat (base class None)\n",
      "[2020-02-17 08:26:44,281] DEBUG: convert_xsd:997 >> Wait with processing xnatpy:petSessionDataTracerTotalmass because base xnatpy:totalMassFloat is not yet processed\n",
      "[2020-02-17 08:26:44,281] INFO: convert_xsd:1010 >> Processing xnatpy:totalMassFloat (base class None)\n",
      "[2020-02-17 08:26:44,282] DEBUG: convert_xsd:997 >> Wait with processing xnatpy:petSessionDataTracerIntermediate because base xnatpy:intermediateFloat is not yet processed\n",
      "[2020-02-17 08:26:44,282] INFO: convert_xsd:1010 >> Processing xnatpy:intermediateFloat (base class None)\n",
      "[2020-02-17 08:26:44,283] DEBUG: convert_xsd:997 >> Wait with processing xnatpy:petSessionDataTracerIsotope because base xnatpy:isotopeString is not yet processed\n",
      "[2020-02-17 08:26:44,283] INFO: convert_xsd:1010 >> Processing xnatpy:isotopeString (base class None)\n",
      "[2020-02-17 08:26:44,283] INFO: convert_xsd:1010 >> Processing xnat:petmrSessionData (base class xnat:imageSessionData)\n",
      "[2020-02-17 08:26:44,284] INFO: convert_xsd:1010 >> Processing xnatpy:petmrSessionDataTracer (base class None)\n"
     ]
    },
    {
     "name": "stderr",
     "output_type": "stream",
     "text": [
      "[2020-02-17 08:26:44,285] INFO: convert_xsd:1010 >> Processing xnatpy:petmrSessionDataTracerDose (base class xnatpy:doseFloat)\n",
      "[2020-02-17 08:26:44,286] INFO: convert_xsd:1010 >> Processing xnatpy:petmrSessionDataTracerTotalmass (base class xnatpy:totalMassFloat)\n",
      "[2020-02-17 08:26:44,286] INFO: convert_xsd:1010 >> Processing xnatpy:petmrSessionDataTracerIntermediate (base class xnatpy:intermediateFloat)\n",
      "[2020-02-17 08:26:44,287] INFO: convert_xsd:1010 >> Processing xnatpy:petmrSessionDataTracerIsotope (base class xnatpy:isotopeString)\n",
      "[2020-02-17 08:26:44,287] DEBUG: convert_xsd:997 >> Wait with processing xnat:petScanData because base xnat:imageScanData is not yet processed\n",
      "[2020-02-17 08:26:44,288] DEBUG: convert_xsd:1004 >> Wait with processing xnatpy:petScanDataParameters because parent xnat:petScanData is not yet processed\n",
      "[2020-02-17 08:26:44,288] DEBUG: convert_xsd:1004 >> Wait with processing xnatpy:petScanDataParametersFrames because parent xnatpy:petScanDataParameters is not yet processed\n",
      "[2020-02-17 08:26:44,288] DEBUG: convert_xsd:1004 >> Wait with processing xnatpy:petScanDataParametersFramesFrame because parent xnatpy:petScanDataParametersFrames is not yet processed\n",
      "[2020-02-17 08:26:44,288] DEBUG: convert_xsd:1004 >> Wait with processing xnatpy:petScanDataParametersDimensions because parent xnatpy:petScanDataParameters is not yet processed\n",
      "[2020-02-17 08:26:44,289] DEBUG: convert_xsd:1004 >> Wait with processing xnatpy:petScanDataParametersOffset because parent xnatpy:petScanDataParameters is not yet processed\n",
      "[2020-02-17 08:26:44,289] DEBUG: convert_xsd:1004 >> Wait with processing xnatpy:petScanDataParametersPixelsize because parent xnatpy:petScanDataParameters is not yet processed\n",
      "[2020-02-17 08:26:44,289] DEBUG: convert_xsd:1004 >> Wait with processing xnatpy:petScanDataParametersResolution because parent xnatpy:petScanDataParameters is not yet processed\n",
      "[2020-02-17 08:26:44,289] DEBUG: convert_xsd:1004 >> Wait with processing xnatpy:petScanDataParametersFilter because parent xnatpy:petScanDataParameters is not yet processed\n",
      "[2020-02-17 08:26:44,289] DEBUG: convert_xsd:1004 >> Wait with processing xnatpy:petScanDataParametersRfilter because parent xnatpy:petScanDataParameters is not yet processed\n",
      "[2020-02-17 08:26:44,289] DEBUG: convert_xsd:1004 >> Wait with processing xnatpy:petScanDataParametersZfilter because parent xnatpy:petScanDataParameters is not yet processed\n",
      "[2020-02-17 08:26:44,289] DEBUG: convert_xsd:997 >> Wait with processing xnatpy:petScanDataEcatvalidation because base xnatpy:ecatValidationString is not yet processed\n",
      "[2020-02-17 08:26:44,290] INFO: convert_xsd:1010 >> Processing xnatpy:ecatValidationString (base class None)\n",
      "[2020-02-17 08:26:44,290] INFO: convert_xsd:1010 >> Processing xnat:computationData (base class None)\n",
      "[2020-02-17 08:26:44,290] INFO: convert_xsd:1010 >> Processing xnat:regionResource (base class None)\n",
      "[2020-02-17 08:26:44,291] INFO: convert_xsd:1010 >> Processing xnatpy:regionResourceCreator (base class None)\n",
      "[2020-02-17 08:26:44,291] DEBUG: convert_xsd:997 >> Wait with processing xnatpy:regionResourceSubregionlabels because base xnatpy:labelString is not yet processed\n",
      "[2020-02-17 08:26:44,292] INFO: convert_xsd:1010 >> Processing xnatpy:labelString (base class None)\n",
      "[2020-02-17 08:26:44,293] INFO: convert_xsd:1010 >> Processing xnat:resourceCatalog (base class xnat:resource)\n",
      "[2020-02-17 08:26:44,293] DEBUG: convert_xsd:997 >> Wait with processing xnat:statisticsData because base xnat:abstractStatistics is not yet processed\n",
      "[2020-02-17 08:26:44,293] DEBUG: convert_xsd:997 >> Wait with processing xnatpy:statisticsDataAdditionalstatistics because base xnatpy:additionalStatisticsDouble is not yet processed\n",
      "[2020-02-17 08:26:44,294] INFO: convert_xsd:1010 >> Processing xnatpy:additionalStatisticsDouble (base class None)\n",
      "[2020-02-17 08:26:44,294] DEBUG: convert_xsd:997 >> Wait with processing xnatpy:statisticsDataAddfield because base xnatpy:addFieldString is not yet processed\n",
      "[2020-02-17 08:26:44,295] INFO: convert_xsd:1010 >> Processing xnatpy:addFieldString (base class None)\n",
      "[2020-02-17 08:26:44,295] INFO: convert_xsd:1010 >> Processing xnat:abstractStatistics (base class None)\n",
      "[2020-02-17 08:26:44,295] DEBUG: convert_xsd:997 >> Wait with processing xnat:qcAssessmentData because base xnat:mrAssessorData is not yet processed\n",
      "[2020-02-17 08:26:44,296] DEBUG: convert_xsd:1004 >> Wait with processing xnatpy:qcAssessmentDataScans because parent xnat:qcAssessmentData is not yet processed\n",
      "[2020-02-17 08:26:44,296] DEBUG: convert_xsd:1004 >> Wait with processing xnatpy:qcAssessmentDataScansScanSliceqc because parent xnatpy:qcAssessmentDataScansScan is not yet processed\n",
      "[2020-02-17 08:26:44,296] INFO: convert_xsd:1010 >> Processing xnat:datatypeProtocol (base class xnat:abstractProtocol)\n",
      "[2020-02-17 08:26:44,297] INFO: convert_xsd:1010 >> Processing xnat:fieldDefinitionGroup (base class None)\n",
      "[2020-02-17 08:26:44,297] INFO: convert_xsd:1010 >> Processing xnatpy:fieldDefinitionGroupFields (base class None)\n",
      "[2020-02-17 08:26:44,298] DEBUG: convert_xsd:997 >> Wait with processing xnatpy:fieldDefinitionGroupFieldsFieldPossiblevalues because base xnatpy:possibleValueString is not yet processed\n",
      "[2020-02-17 08:26:44,298] INFO: convert_xsd:1010 >> Processing xnatpy:possibleValueString (base class None)\n",
      "[2020-02-17 08:26:44,299] INFO: convert_xsd:1010 >> Processing xnat:contrastBolus (base class None)\n",
      "[2020-02-17 08:26:44,299] INFO: convert_xsd:1010 >> Processing xnat:imageAssessorData (base class xnat:derivedData)\n",
      "[2020-02-17 08:26:44,300] INFO: convert_xsd:1010 >> Processing xnat:imageScanData (base class None)\n",
      "[2020-02-17 08:26:44,301] INFO: convert_xsd:1010 >> Processing xnatpy:imageScanDataSharing (base class xnatpy:shareString)\n",
      "[2020-02-17 08:26:44,301] INFO: convert_xsd:1010 >> Processing xnatpy:imageScanDataScanner (base class xnatpy:scannerString)\n",
      "[2020-02-17 08:26:44,302] INFO: convert_xsd:1010 >> Processing xnat:ctSessionData (base class xnat:imageSessionData)\n",
      "[2020-02-17 08:26:44,302] INFO: convert_xsd:1010 >> Processing xnat:ctScanData (base class xnat:imageScanData)\n",
      "[2020-02-17 08:26:44,303] INFO: convert_xsd:1010 >> Processing xnatpy:ctScanDataParameters (base class None)\n",
      "[2020-02-17 08:26:44,304] INFO: convert_xsd:1010 >> Processing xnatpy:ctScanDataParametersVoxelres (base class None)\n",
      "[2020-02-17 08:26:44,305] INFO: convert_xsd:1010 >> Processing xnatpy:ctScanDataParametersFov (base class None)\n",
      "[2020-02-17 08:26:44,305] INFO: convert_xsd:1010 >> Processing xnatpy:ctScanDataParametersRescale (base class None)\n",
      "[2020-02-17 08:26:44,306] INFO: convert_xsd:1010 >> Processing xnatpy:ctScanDataParametersCollimationwidth (base class None)\n",
      "[2020-02-17 08:26:44,306] DEBUG: convert_xsd:997 >> Wait with processing xnatpy:ctScanDataParametersEstimateddosesaving because base xnatpy:estimatedDoseSavingFloat is not yet processed\n",
      "[2020-02-17 08:26:44,306] INFO: convert_xsd:1010 >> Processing xnatpy:estimatedDoseSavingFloat (base class None)\n",
      "[2020-02-17 08:26:44,307] DEBUG: convert_xsd:997 >> Wait with processing xnatpy:ctScanDataParametersDerivation because base xnatpy:derivationString is not yet processed\n",
      "[2020-02-17 08:26:44,307] INFO: convert_xsd:1010 >> Processing xnatpy:derivationString (base class None)\n",
      "[2020-02-17 08:26:44,307] INFO: convert_xsd:1010 >> Processing xnatpy:ctScanDataDcmvalidation (base class xnatpy:dcmValidationString)\n",
      "[2020-02-17 08:26:44,308] INFO: convert_xsd:1010 >> Processing xnat:crSessionData (base class xnat:imageSessionData)\n",
      "[2020-02-17 08:26:44,308] INFO: convert_xsd:1010 >> Processing xnat:crScanData (base class xnat:imageScanData)\n",
      "[2020-02-17 08:26:44,309] INFO: convert_xsd:1010 >> Processing xnat:dxSessionData (base class xnat:imageSessionData)\n",
      "[2020-02-17 08:26:44,309] INFO: convert_xsd:1010 >> Processing xnat:dxScanData (base class xnat:imageScanData)\n",
      "[2020-02-17 08:26:44,309] INFO: convert_xsd:1010 >> Processing xnat:mgSessionData (base class xnat:imageSessionData)\n",
      "[2020-02-17 08:26:44,310] INFO: convert_xsd:1010 >> Processing xnat:mgScanData (base class xnat:imageScanData)\n",
      "[2020-02-17 08:26:44,310] INFO: convert_xsd:1010 >> Processing xnat:ioSessionData (base class xnat:imageSessionData)\n"
     ]
    },
    {
     "name": "stderr",
     "output_type": "stream",
     "text": [
      "[2020-02-17 08:26:44,311] INFO: convert_xsd:1010 >> Processing xnat:ioScanData (base class xnat:imageScanData)\n",
      "[2020-02-17 08:26:44,311] INFO: convert_xsd:1010 >> Processing xnat:usSessionData (base class xnat:imageSessionData)\n",
      "[2020-02-17 08:26:44,312] INFO: convert_xsd:1010 >> Processing xnat:usScanData (base class xnat:imageScanData)\n",
      "[2020-02-17 08:26:44,312] INFO: convert_xsd:1010 >> Processing xnat:ecgSessionData (base class xnat:imageSessionData)\n",
      "[2020-02-17 08:26:44,313] INFO: convert_xsd:1010 >> Processing xnat:ecgScanData (base class xnat:imageScanData)\n",
      "[2020-02-17 08:26:44,313] INFO: convert_xsd:1010 >> Processing xnat:hdSessionData (base class xnat:imageSessionData)\n",
      "[2020-02-17 08:26:44,314] INFO: convert_xsd:1010 >> Processing xnat:hdScanData (base class xnat:imageScanData)\n",
      "[2020-02-17 08:26:44,314] INFO: convert_xsd:1010 >> Processing xnat:epsSessionData (base class xnat:imageSessionData)\n",
      "[2020-02-17 08:26:44,315] INFO: convert_xsd:1010 >> Processing xnat:epsScanData (base class xnat:imageScanData)\n",
      "[2020-02-17 08:26:44,315] INFO: convert_xsd:1010 >> Processing xnat:xaSessionData (base class xnat:imageSessionData)\n",
      "[2020-02-17 08:26:44,316] INFO: convert_xsd:1010 >> Processing xnat:xaScanData (base class xnat:imageScanData)\n",
      "[2020-02-17 08:26:44,316] INFO: convert_xsd:1010 >> Processing xnatpy:xaScanDataParameters (base class None)\n",
      "[2020-02-17 08:26:44,317] INFO: convert_xsd:1010 >> Processing xnatpy:xaScanDataParametersPixelres (base class None)\n",
      "[2020-02-17 08:26:44,318] INFO: convert_xsd:1010 >> Processing xnatpy:xaScanDataParametersFov (base class None)\n",
      "[2020-02-17 08:26:44,318] INFO: convert_xsd:1010 >> Processing xnat:rfSessionData (base class xnat:imageSessionData)\n",
      "[2020-02-17 08:26:44,319] INFO: convert_xsd:1010 >> Processing xnat:rfScanData (base class xnat:imageScanData)\n",
      "[2020-02-17 08:26:44,319] INFO: convert_xsd:1010 >> Processing xnat:xa3DSessionData (base class xnat:imageSessionData)\n",
      "[2020-02-17 08:26:44,320] INFO: convert_xsd:1010 >> Processing xnat:xa3DScanData (base class xnat:imageScanData)\n",
      "[2020-02-17 08:26:44,320] INFO: convert_xsd:1010 >> Processing xnat:dx3DCraniofacialSessionData (base class xnat:imageSessionData)\n",
      "[2020-02-17 08:26:44,320] INFO: convert_xsd:1010 >> Processing xnat:dx3DCraniofacialScanData (base class xnat:imageScanData)\n",
      "[2020-02-17 08:26:44,321] INFO: convert_xsd:1010 >> Processing xnat:nmSessionData (base class xnat:imageSessionData)\n",
      "[2020-02-17 08:26:44,321] INFO: convert_xsd:1010 >> Processing xnat:nmScanData (base class xnat:imageScanData)\n",
      "[2020-02-17 08:26:44,321] INFO: convert_xsd:1010 >> Processing xnat:srSessionData (base class xnat:imageSessionData)\n",
      "[2020-02-17 08:26:44,322] INFO: convert_xsd:1010 >> Processing xnat:srScanData (base class xnat:imageScanData)\n",
      "[2020-02-17 08:26:44,322] INFO: convert_xsd:1010 >> Processing xnat:esSessionData (base class xnat:imageSessionData)\n",
      "[2020-02-17 08:26:44,322] INFO: convert_xsd:1010 >> Processing xnat:esScanData (base class xnat:imageScanData)\n",
      "[2020-02-17 08:26:44,323] INFO: convert_xsd:1010 >> Processing xnat:esvSessionData (base class xnat:imageSessionData)\n",
      "[2020-02-17 08:26:44,323] INFO: convert_xsd:1010 >> Processing xnat:esvScanData (base class xnat:imageScanData)\n",
      "[2020-02-17 08:26:44,324] INFO: convert_xsd:1010 >> Processing xnat:gmSessionData (base class xnat:imageSessionData)\n",
      "[2020-02-17 08:26:44,324] INFO: convert_xsd:1010 >> Processing xnat:gmScanData (base class xnat:imageScanData)\n",
      "[2020-02-17 08:26:44,325] INFO: convert_xsd:1010 >> Processing xnat:gmvSessionData (base class xnat:imageSessionData)\n",
      "[2020-02-17 08:26:44,326] INFO: convert_xsd:1010 >> Processing xnat:gmvScanData (base class xnat:imageScanData)\n",
      "[2020-02-17 08:26:44,327] INFO: convert_xsd:1010 >> Processing xnat:smSessionData (base class xnat:imageSessionData)\n",
      "[2020-02-17 08:26:44,327] INFO: convert_xsd:1010 >> Processing xnat:smScanData (base class xnat:imageScanData)\n",
      "[2020-02-17 08:26:44,328] INFO: convert_xsd:1010 >> Processing xnat:xcSessionData (base class xnat:imageSessionData)\n",
      "[2020-02-17 08:26:44,328] INFO: convert_xsd:1010 >> Processing xnat:xcScanData (base class xnat:imageScanData)\n",
      "[2020-02-17 08:26:44,329] INFO: convert_xsd:1010 >> Processing xnat:xcvSessionData (base class xnat:imageSessionData)\n",
      "[2020-02-17 08:26:44,330] INFO: convert_xsd:1010 >> Processing xnat:xcvScanData (base class xnat:imageScanData)\n",
      "[2020-02-17 08:26:44,330] INFO: convert_xsd:1010 >> Processing xnat:opSessionData (base class xnat:imageSessionData)\n",
      "[2020-02-17 08:26:44,331] INFO: convert_xsd:1010 >> Processing xnat:opScanData (base class xnat:imageScanData)\n",
      "[2020-02-17 08:26:44,331] INFO: convert_xsd:1010 >> Processing xnat:optSessionData (base class xnat:imageSessionData)\n",
      "[2020-02-17 08:26:44,332] INFO: convert_xsd:1010 >> Processing xnat:optScanData (base class xnat:imageScanData)\n",
      "[2020-02-17 08:26:44,333] INFO: convert_xsd:1010 >> Processing xnatpy:optScanDataParameters (base class None)\n",
      "[2020-02-17 08:26:44,334] INFO: convert_xsd:1010 >> Processing xnatpy:optScanDataParametersVoxelres (base class None)\n",
      "[2020-02-17 08:26:44,334] INFO: convert_xsd:1010 >> Processing xnatpy:optScanDataParametersFov (base class None)\n",
      "[2020-02-17 08:26:44,335] INFO: convert_xsd:1010 >> Processing xnatpy:optScanDataDcmvalidation (base class xnatpy:dcmValidationString)\n",
      "[2020-02-17 08:26:44,336] INFO: convert_xsd:1010 >> Processing xnat:rtSessionData (base class xnat:imageSessionData)\n",
      "[2020-02-17 08:26:44,336] INFO: convert_xsd:1010 >> Processing xnat:rtImageScanData (base class xnat:imageScanData)\n",
      "[2020-02-17 08:26:44,336] INFO: convert_xsd:1010 >> Processing xnat:otherDicomSessionData (base class xnat:imageSessionData)\n",
      "[2020-02-17 08:26:44,337] INFO: convert_xsd:1010 >> Processing xnat:scScanData (base class xnat:imageScanData)\n",
      "[2020-02-17 08:26:44,337] INFO: convert_xsd:1010 >> Processing xnat:segScanData (base class xnat:imageScanData)\n",
      "[2020-02-17 08:26:44,338] INFO: convert_xsd:1010 >> Processing xnat:mrsScanData (base class xnat:imageScanData)\n",
      "[2020-02-17 08:26:44,338] INFO: convert_xsd:1010 >> Processing xnat:voiceAudioScanData (base class xnat:imageScanData)\n",
      "[2020-02-17 08:26:44,339] INFO: convert_xsd:1010 >> Processing xnat:otherDicomScanData (base class xnat:imageScanData)\n",
      "[2020-02-17 08:26:44,339] INFO: convert_xsd:1010 >> Processing xnat:qcScanData (base class None)\n",
      "[2020-02-17 08:26:44,340] DEBUG: convert_xsd:997 >> Wait with processing xnatpy:qcScanDataRating because base xnatpy:ratingString is not yet processed\n",
      "[2020-02-17 08:26:44,340] INFO: convert_xsd:1010 >> Processing xnatpy:ratingString (base class None)\n",
      "[2020-02-17 08:26:44,341] INFO: convert_xsd:1010 >> Processing xnatpy:qcScanDataFields (base class xnatpy:fieldString)\n",
      "[2020-02-17 08:26:44,341] INFO: convert_xsd:1010 >> Processing xnat:mrQcScanData (base class xnat:qcScanData)\n",
      "[2020-02-17 08:26:44,342] INFO: convert_xsd:1010 >> Processing xnat:petQcScanData (base class xnat:qcScanData)\n",
      "[2020-02-17 08:26:44,344] INFO: convert_xsd:1010 >> Processing xnat:otherQcScanData (base class xnat:qcScanData)\n",
      "[2020-02-17 08:26:44,344] INFO: convert_xsd:1010 >> Processing xnat:qcManualAssessorData (base class xnat:imageAssessorData)\n",
      "[2020-02-17 08:26:44,345] INFO: convert_xsd:1010 >> Processing xnat:megSessionData (base class xnat:imageSessionData)\n",
      "[2020-02-17 08:26:44,345] INFO: convert_xsd:1010 >> Processing xnat:megScanData (base class xnat:imageScanData)\n",
      "[2020-02-17 08:26:44,346] INFO: convert_xsd:1010 >> Processing xnat:eegSessionData (base class xnat:imageSessionData)\n",
      "[2020-02-17 08:26:44,347] DEBUG: convert_xsd:997 >> Wait with processing xnatpy:eegSessionDataSamplingrate because base xnatpy:samplingRateFloat is not yet processed\n",
      "[2020-02-17 08:26:44,347] INFO: convert_xsd:1010 >> Processing xnatpy:samplingRateFloat (base class None)\n",
      "[2020-02-17 08:26:44,348] DEBUG: convert_xsd:997 >> Wait with processing xnatpy:eegSessionDataSamplinginterval because base xnatpy:samplingIntervalFloat is not yet processed\n",
      "[2020-02-17 08:26:44,348] INFO: convert_xsd:1010 >> Processing xnatpy:samplingIntervalFloat (base class None)\n",
      "[2020-02-17 08:26:44,349] INFO: convert_xsd:1010 >> Processing xnat:eegScanData (base class xnat:imageScanData)\n",
      "[2020-02-17 08:26:44,349] INFO: convert_xsd:1010 >> Processing xnatpy:eegScanDataParameters (base class None)\n"
     ]
    },
    {
     "name": "stderr",
     "output_type": "stream",
     "text": [
      "[2020-02-17 08:26:44,350] INFO: convert_xsd:1010 >> Processing xnatpy:eegScanDataParametersDatarecord (base class None)\n",
      "[2020-02-17 08:26:44,351] INFO: convert_xsd:1010 >> Processing xnatpy:eegScanDataChannels (base class None)\n",
      "[2020-02-17 08:26:44,352] INFO: convert_xsd:1010 >> Processing xnatpy:eegScanDataSoftwarefiltersimpedances (base class None)\n",
      "[2020-02-17 08:26:44,353] INFO: convert_xsd:1010 >> Processing xnatpy:eegScanDataSoftwarefiltersimpedancesImpedance (base class None)\n",
      "[2020-02-17 08:26:44,355] INFO: convert_xsd:1010 >> Processing xnat_a:sideEffectsPittsburghData (base class xnat:subjectAssessorData)\n",
      "[2020-02-17 08:26:44,356] INFO: convert_xsd:1010 >> Processing xnat_a:ybocsData (base class xnat:subjectAssessorData)\n",
      "[2020-02-17 08:26:44,358] INFO: convert_xsd:1010 >> Processing xnat_a:ygtssData (base class xnat:subjectAssessorData)\n",
      "[2020-02-17 08:26:44,359] INFO: convert_xsd:1010 >> Processing xnatpy:ygtssDataMotor (base class None)\n",
      "[2020-02-17 08:26:44,359] INFO: convert_xsd:1010 >> Processing xnatpy:ygtssDataPhonic (base class None)\n",
      "[2020-02-17 08:26:44,360] INFO: convert_xsd:1010 >> Processing xnat_a:updrs3Data (base class xnat:subjectAssessorData)\n",
      "[2020-02-17 08:26:44,361] INFO: convert_xsd:1010 >> Processing xnatpy:updrs3DataClicker (base class None)\n",
      "[2020-02-17 08:26:44,362] INFO: convert_xsd:1010 >> Processing xnatpy:updrs3DataTremorrest (base class None)\n",
      "[2020-02-17 08:26:44,362] INFO: convert_xsd:1010 >> Processing xnatpy:updrs3DataRigidity (base class None)\n",
      "[2020-02-17 08:26:44,362] INFO: convert_xsd:1010 >> Processing xnatpy:updrs3DataHandmovementsgrip (base class None)\n",
      "[2020-02-17 08:26:44,363] INFO: convert_xsd:1010 >> Processing xnatpy:updrs3DataActionposturaltremor (base class None)\n",
      "[2020-02-17 08:26:44,363] INFO: convert_xsd:1010 >> Processing xnatpy:updrs3DataHandsram (base class None)\n",
      "[2020-02-17 08:26:44,364] INFO: convert_xsd:1010 >> Processing xnatpy:updrs3DataFingertaps (base class None)\n",
      "[2020-02-17 08:26:44,365] INFO: convert_xsd:1010 >> Processing xnatpy:updrs3DataFoottaps (base class None)\n",
      "[2020-02-17 08:26:44,365] INFO: convert_xsd:1010 >> Processing xnat_a:scidResearchData (base class xnat:subjectAssessorData)\n",
      "[2020-02-17 08:26:44,366] INFO: convert_xsd:1010 >> Processing xnatpy:scidResearchDataMoodepisodes (base class None)\n",
      "[2020-02-17 08:26:44,367] INFO: convert_xsd:1010 >> Processing xnatpy:scidResearchDataPsychoticsymptoms (base class None)\n",
      "[2020-02-17 08:26:44,368] INFO: convert_xsd:1010 >> Processing xnatpy:scidResearchDataPsychoticdisorders (base class None)\n",
      "[2020-02-17 08:26:44,369] INFO: convert_xsd:1010 >> Processing xnatpy:scidResearchDataMooddisorders (base class None)\n",
      "[2020-02-17 08:26:44,370] INFO: convert_xsd:1010 >> Processing xnatpy:scidResearchDataSubstanceusedisorders (base class None)\n",
      "[2020-02-17 08:26:44,372] INFO: convert_xsd:1010 >> Processing xnatpy:scidResearchDataAnxietydisorders (base class None)\n",
      "[2020-02-17 08:26:44,373] INFO: convert_xsd:1010 >> Processing xnatpy:scidResearchDataSomatoformdisorders (base class None)\n",
      "[2020-02-17 08:26:44,374] INFO: convert_xsd:1010 >> Processing xnatpy:scidResearchDataEatingdisorders (base class None)\n",
      "[2020-02-17 08:26:44,374] INFO: convert_xsd:1010 >> Processing xnatpy:scidResearchDataOptional (base class None)\n",
      "[2020-02-17 08:26:44,375] INFO: convert_xsd:1010 >> Processing scr:screeningAssessment (base class xnat:imageAssessorData)\n",
      "[2020-02-17 08:26:44,376] INFO: convert_xsd:1010 >> Processing scr:screeningScanData (base class None)\n",
      "[2020-02-17 08:26:44,376] INFO: convert_xsd:1010 >> Processing build:imageSessionData (base class None)\n",
      "[2020-02-17 08:26:44,387] DEBUG: convert_xsd:997 >> Wait with processing xnatpy:imageSessionDataPipeline because base build:pipelineData is not yet processed\n",
      "[2020-02-17 08:26:44,387] INFO: convert_xsd:1010 >> Processing build:pipelineParameterData (base class None)\n",
      "[2020-02-17 08:26:44,388] INFO: convert_xsd:1010 >> Processing xnatpy:pipelineParameterDataParameter (base class None)\n",
      "[2020-02-17 08:26:44,388] INFO: convert_xsd:1010 >> Processing build:pipelineData (base class None)\n",
      "[2020-02-17 08:26:44,389] INFO: convert_xsd:1010 >> Processing build:buildData (base class None)\n",
      "[2020-02-17 08:26:44,389] INFO: convert_xsd:1010 >> Processing pipe:pipelineDetails (base class None)\n",
      "[2020-02-17 08:26:44,390] INFO: convert_xsd:1010 >> Processing xnatpy:pipelineDetailsParameters (base class None)\n",
      "[2020-02-17 08:26:44,390] INFO: convert_xsd:1010 >> Processing xnatpy:pipelineDetailsParametersParameterValues (base class None)\n",
      "[2020-02-17 08:26:44,390] INFO: convert_xsd:1010 >> Processing wrk:workflowData (base class None)\n",
      "[2020-02-17 08:26:44,391] INFO: convert_xsd:1010 >> Processing wrk:abstractExecutionEnvironment (base class None)\n",
      "[2020-02-17 08:26:44,392] INFO: convert_xsd:1010 >> Processing wrk:xnatExecutionEnvironment (base class wrk:abstractExecutionEnvironment)\n",
      "[2020-02-17 08:26:44,392] DEBUG: convert_xsd:997 >> Wait with processing xnatpy:xnatExecutionEnvironmentParameters because base xnatpy:parameterString is not yet processed\n",
      "[2020-02-17 08:26:44,393] INFO: convert_xsd:1010 >> Processing xnatpy:parameterString (base class None)\n",
      "[2020-02-17 08:26:44,393] INFO: convert_xsd:1010 >> Processing xnatpy:xnatExecutionEnvironmentParameterfile (base class None)\n",
      "[2020-02-17 08:26:44,393] INFO: convert_xsd:1010 >> Processing prov:process (base class None)\n",
      "[2020-02-17 08:26:44,394] INFO: convert_xsd:1010 >> Processing prov:processStep (base class None)\n",
      "[2020-02-17 08:26:44,394] DEBUG: convert_xsd:997 >> Wait with processing xnatpy:processStepProgram because base xnatpy:programString is not yet processed\n",
      "[2020-02-17 08:26:44,395] INFO: convert_xsd:1010 >> Processing xnatpy:programString (base class None)\n",
      "[2020-02-17 08:26:44,395] DEBUG: convert_xsd:997 >> Wait with processing xnatpy:processStepPlatform because base xnatpy:platformString is not yet processed\n",
      "[2020-02-17 08:26:44,395] INFO: convert_xsd:1010 >> Processing xnatpy:platformString (base class None)\n",
      "[2020-02-17 08:26:44,396] DEBUG: convert_xsd:997 >> Wait with processing xnatpy:processStepCompiler because base xnatpy:compilerString is not yet processed\n",
      "[2020-02-17 08:26:44,396] INFO: convert_xsd:1010 >> Processing xnatpy:compilerString (base class None)\n",
      "[2020-02-17 08:26:44,396] DEBUG: convert_xsd:997 >> Wait with processing xnatpy:processStepLibrary because base xnatpy:libraryString is not yet processed\n",
      "[2020-02-17 08:26:44,397] INFO: convert_xsd:1010 >> Processing xnatpy:libraryString (base class None)\n",
      "[2020-02-17 08:26:44,397] INFO: convert_xsd:1010 >> Processing cat:catalog (base class None)\n",
      "[2020-02-17 08:26:44,398] DEBUG: convert_xsd:997 >> Wait with processing xnatpy:catalogMetafields because base xnatpy:metaFieldString is not yet processed\n",
      "[2020-02-17 08:26:44,398] INFO: convert_xsd:1010 >> Processing xnatpy:metaFieldString (base class None)\n",
      "[2020-02-17 08:26:44,398] INFO: convert_xsd:1010 >> Processing cat:entry (base class None)\n",
      "[2020-02-17 08:26:44,399] INFO: convert_xsd:1010 >> Processing xnatpy:entryMetafields (base class xnatpy:metaFieldString)\n",
      "[2020-02-17 08:26:44,399] INFO: convert_xsd:1010 >> Processing cat:dcmEntry (base class cat:entry)\n",
      "[2020-02-17 08:26:44,399] INFO: convert_xsd:1010 >> Processing cat:dcmCatalog (base class cat:catalog)\n",
      "[2020-02-17 08:26:44,400] INFO: convert_xsd:1010 >> Processing xnatpy:dcmCatalogDimensions (base class None)\n",
      "[2020-02-17 08:26:44,400] INFO: convert_xsd:1010 >> Processing xnatpy:dcmCatalogVoxelres (base class None)\n",
      "[2020-02-17 08:26:44,401] INFO: convert_xsd:1010 >> Processing arc:project (base class None)\n",
      "[2020-02-17 08:26:44,402] INFO: convert_xsd:1010 >> Processing xnatpy:projectPipelines (base class None)\n",
      "[2020-02-17 08:26:44,402] INFO: convert_xsd:1010 >> Processing xnatpy:projectPipelinesDescendants (base class None)\n",
      "[2020-02-17 08:26:44,403] DEBUG: convert_xsd:997 >> Wait with processing xnatpy:projectPipelinesDescendantsDescendantPipeline because base arc:pipelineData is not yet processed\n",
      "[2020-02-17 08:26:44,403] DEBUG: convert_xsd:997 >> Wait with processing xnatpy:projectPipelinesPipeline because base arc:pipelineData is not yet processed\n",
      "[2020-02-17 08:26:44,403] INFO: convert_xsd:1010 >> Processing arc:pipelineData (base class None)\n"
     ]
    },
    {
     "name": "stderr",
     "output_type": "stream",
     "text": [
      "[2020-02-17 08:26:44,404] INFO: convert_xsd:1010 >> Processing arc:pipelineParameterData (base class None)\n",
      "[2020-02-17 08:26:44,405] DEBUG: convert_xsd:997 >> Wait with processing xnatpy:pipelineParameterDataCsvvalues because base xnatpy:csvValuesString is not yet processed\n",
      "[2020-02-17 08:26:44,405] INFO: convert_xsd:1010 >> Processing xnatpy:csvValuesString (base class None)\n",
      "[2020-02-17 08:26:44,405] INFO: convert_xsd:1010 >> Processing arc:pathInfo (base class None)\n",
      "[2020-02-17 08:26:44,406] DEBUG: convert_xsd:997 >> Wait with processing arc:property because base xnatpy:propertyString is not yet processed\n",
      "[2020-02-17 08:26:44,406] INFO: convert_xsd:1010 >> Processing xnatpy:propertyString (base class None)\n",
      "[2020-02-17 08:26:44,406] DEBUG: convert_xsd:997 >> Wait with processing arc:fieldSpecification because base xnatpy:fieldSpecificationString is not yet processed\n",
      "[2020-02-17 08:26:44,406] INFO: convert_xsd:1010 >> Processing xnatpy:fieldSpecificationString (base class None)\n",
      "[2020-02-17 08:26:44,407] INFO: convert_xsd:1010 >> Processing val:protocolData (base class xnat:imageAssessorData)\n",
      "[2020-02-17 08:26:44,407] INFO: convert_xsd:1010 >> Processing xnatpy:protocolDataCheck (base class None)\n",
      "[2020-02-17 08:26:44,408] INFO: convert_xsd:1010 >> Processing xnatpy:protocolDataCheckConditions (base class None)\n",
      "[2020-02-17 08:26:44,408] DEBUG: convert_xsd:997 >> Wait with processing xnatpy:protocolDataCheckComments because base xnatpy:commentString is not yet processed\n",
      "[2020-02-17 08:26:44,408] INFO: convert_xsd:1010 >> Processing xnatpy:commentString (base class None)\n",
      "[2020-02-17 08:26:44,409] INFO: convert_xsd:1010 >> Processing xnatpy:protocolDataScans (base class None)\n",
      "[2020-02-17 08:26:44,409] INFO: convert_xsd:1010 >> Processing xnatpy:protocolDataScansScan_checkConditions (base class None)\n",
      "[2020-02-17 08:26:44,410] INFO: convert_xsd:1010 >> Processing xnatpy:protocolDataScansScan_checkComments (base class xnatpy:commentString)\n",
      "[2020-02-17 08:26:44,410] INFO: convert_xsd:1010 >> Processing val:additionalVal (base class None)\n",
      "[2020-02-17 08:26:44,410] INFO: convert_xsd:1010 >> Processing display:HTML-Cell (base class None)\n",
      "[2020-02-17 08:26:44,411] INFO: convert_xsd:1010 >> Processing display:FieldType (base class None)\n",
      "[2020-02-17 08:26:44,411] DEBUG: convert_xsd:997 >> Wait with processing xnatpy:FieldTypeContent because base xnatpy:ContentString is not yet processed\n",
      "[2020-02-17 08:26:44,412] INFO: convert_xsd:1010 >> Processing xnatpy:ContentString (base class None)\n",
      "[2020-02-17 08:26:44,412] INFO: convert_xsd:1010 >> Processing xnatpy:FieldTypeHtml-link (base class None)\n",
      "[2020-02-17 08:26:44,412] INFO: convert_xsd:1010 >> Processing xnatpy:FieldTypeHtml-linkSecurelink (base class None)\n",
      "[2020-02-17 08:26:44,413] INFO: convert_xsd:1010 >> Processing xnatpy:FieldTypeHtml-linkSecurelinkSecuritymappingvalue (base class None)\n",
      "[2020-02-17 08:26:44,413] INFO: convert_xsd:1010 >> Processing xnatpy:FieldTypeHtml-linkProperty (base class None)\n",
      "[2020-02-17 08:26:44,414] INFO: convert_xsd:1010 >> Processing xnatpy:FieldTypeHtml-linkPropertyInsertvalue (base class None)\n",
      "[2020-02-17 08:26:44,414] INFO: convert_xsd:1010 >> Processing xnatpy:FieldTypeHtml-image (base class None)\n",
      "[2020-02-17 08:26:44,414] INFO: convert_xsd:1010 >> Processing display:SubQueryField (base class display:FieldType)\n",
      "[2020-02-17 08:26:44,415] INFO: convert_xsd:1010 >> Processing xnatpy:SubQueryFieldMappingcolumns (base class None)\n",
      "[2020-02-17 08:26:44,415] INFO: convert_xsd:1010 >> Processing xdat:LONGVARCHAR (base class None)\n",
      "[2020-02-17 08:26:44,415] INFO: convert_xsd:1010 >> Processing LayoutDescription (base class None)\n",
      "[2020-02-17 08:26:44,416] INFO: convert_xsd:1010 >> Processing xnatpy:LayoutDescriptionCoordinates (base class None)\n",
      "[2020-02-17 08:26:44,416] INFO: convert_xsd:1010 >> Processing SchemaLinkType (base class None)\n",
      "[2020-02-17 08:26:44,417] INFO: convert_xsd:1010 >> Processing PlexiViewerType (base class None)\n",
      "[2020-02-17 08:26:44,417] INFO: convert_xsd:1010 >> Processing xnatpy:PlexiViewerTypeViewableitem (base class None)\n",
      "[2020-02-17 08:26:44,418] INFO: convert_xsd:1010 >> Processing xnatpy:PlexiViewerTypeViewableitemSchemalink (base class SchemaLinkType)\n",
      "[2020-02-17 08:26:44,418] INFO: convert_xsd:1010 >> Processing xnatpy:PlexiViewerTypeViewableitemUserinterface (base class None)\n",
      "[2020-02-17 08:26:44,419] INFO: convert_xsd:1010 >> Processing xnatpy:PlexiViewerTypeViewableitemUserinterfaceLinkeddropdown (base class None)\n",
      "[2020-02-17 08:26:44,419] INFO: convert_xsd:1010 >> Processing xnatpy:PlexiViewerTypeViewableitemThumbnail (base class None)\n",
      "[2020-02-17 08:26:44,420] INFO: convert_xsd:1010 >> Processing xnatpy:PlexiViewerTypeViewableitemThumbnailSlice (base class None)\n",
      "[2020-02-17 08:26:44,421] INFO: convert_xsd:1010 >> Processing xnatpy:PlexiViewerTypeViewableitemLo-res (base class None)\n",
      "[2020-02-17 08:26:44,422] INFO: convert_xsd:1010 >> Processing xnatpy:PlexiViewerTypeViewableitemLo-resParameter (base class None)\n",
      "[2020-02-17 08:26:44,422] INFO: convert_xsd:1010 >> Processing xnatpy:PlexiViewerTypeViewableitemHi-res (base class None)\n",
      "[2020-02-17 08:26:44,423] INFO: convert_xsd:1010 >> Processing xnatpy:PlexiViewerTypeViewableitemHi-resLayer (base class SchemaLinkType)\n",
      "[2020-02-17 08:26:44,423] INFO: convert_xsd:1010 >> Processing xnatpy:PlexiViewerTypeViewableitemHi-resLayoutref (base class None)\n",
      "[2020-02-17 08:26:44,424] INFO: convert_xsd:1010 >> Processing icr:roiCollectionData (base class xnat:imageAssessorData)\n",
      "[2020-02-17 08:26:44,424] INFO: convert_xsd:1010 >> Processing xdat:primary_security_field (base class xnatpy:primary_security_fieldString)\n",
      "[2020-02-17 08:26:44,425] INFO: convert_xsd:1010 >> Processing xnatpy:userPrimary_password (base class xnatpy:primary_passwordString)\n",
      "[2020-02-17 08:26:44,425] INFO: convert_xsd:1010 >> Processing xnatpy:projectDataAliases (base class xnatpy:aliasString)\n",
      "[2020-02-17 08:26:44,425] INFO: convert_xsd:1010 >> Processing xnatpy:projectDataFields (base class xnatpy:fieldString)\n",
      "[2020-02-17 08:26:44,426] INFO: convert_xsd:1010 >> Processing xnatpy:subjectDataAddid (base class xnatpy:addIDString)\n",
      "[2020-02-17 08:26:44,426] INFO: convert_xsd:1010 >> Processing xnatpy:experimentDataSharing (base class xnatpy:shareString)\n",
      "[2020-02-17 08:26:44,426] INFO: convert_xsd:1010 >> Processing xnatpy:experimentDataDelay (base class xnatpy:delayInteger)\n",
      "[2020-02-17 08:26:44,427] INFO: convert_xsd:1010 >> Processing xnatpy:demographicDataWeight (base class xnatpy:weightFloat)\n",
      "[2020-02-17 08:26:44,427] INFO: convert_xsd:1010 >> Processing xnatpy:demographicDataHeight (base class xnatpy:heightFloat)\n",
      "[2020-02-17 08:26:44,428] INFO: convert_xsd:1010 >> Processing xnatpy:subjectVariablesDataVariables (base class xnatpy:variableString)\n",
      "[2020-02-17 08:26:44,428] INFO: convert_xsd:1010 >> Processing xnatpy:imageSessionDataScanner (base class xnatpy:scannerString)\n",
      "[2020-02-17 08:26:44,428] INFO: convert_xsd:1010 >> Processing xnat:mrAssessorData (base class xnat:imageAssessorData)\n",
      "[2020-02-17 08:26:44,429] INFO: convert_xsd:1010 >> Processing xnat:mrScanData (base class xnat:imageScanData)\n",
      "[2020-02-17 08:26:44,429] INFO: convert_xsd:1010 >> Processing xnatpy:mrScanDataParameters (base class None)\n",
      "[2020-02-17 08:26:44,430] INFO: convert_xsd:1010 >> Processing xnatpy:mrScanDataParametersVoxelres (base class None)\n",
      "[2020-02-17 08:26:44,431] INFO: convert_xsd:1010 >> Processing xnatpy:mrScanDataParametersFov (base class None)\n",
      "[2020-02-17 08:26:44,431] INFO: convert_xsd:1010 >> Processing xnatpy:mrScanDataParametersMatrix (base class None)\n",
      "[2020-02-17 08:26:44,432] INFO: convert_xsd:1010 >> Processing xnatpy:mrScanDataParametersDiffusion (base class None)\n",
      "[2020-02-17 08:26:44,432] INFO: convert_xsd:1010 >> Processing xnatpy:mrScanDataParametersInplanephaseencoding (base class None)\n",
      "[2020-02-17 08:26:44,432] INFO: convert_xsd:1010 >> Processing xnatpy:mrScanDataDcmvalidation (base class xnatpy:dcmValidationString)\n",
      "[2020-02-17 08:26:44,433] INFO: convert_xsd:1010 >> Processing xnat:addField (base class xdat:LONGVARCHAR)\n",
      "[2020-02-17 08:26:44,433] INFO: convert_xsd:1010 >> Processing xnatpy:abstractResourceTags (base class xnatpy:tagString)\n"
     ]
    },
    {
     "name": "stderr",
     "output_type": "stream",
     "text": [
      "[2020-02-17 08:26:44,434] INFO: convert_xsd:1010 >> Processing xnat:petAssessorData (base class xnat:imageAssessorData)\n",
      "[2020-02-17 08:26:44,435] INFO: convert_xsd:1010 >> Processing xnatpy:petSessionDataTracerDose (base class xnatpy:doseFloat)\n",
      "[2020-02-17 08:26:44,435] INFO: convert_xsd:1010 >> Processing xnatpy:petSessionDataTracerTotalmass (base class xnatpy:totalMassFloat)\n",
      "[2020-02-17 08:26:44,436] INFO: convert_xsd:1010 >> Processing xnatpy:petSessionDataTracerIntermediate (base class xnatpy:intermediateFloat)\n",
      "[2020-02-17 08:26:44,436] INFO: convert_xsd:1010 >> Processing xnatpy:petSessionDataTracerIsotope (base class xnatpy:isotopeString)\n",
      "[2020-02-17 08:26:44,437] INFO: convert_xsd:1010 >> Processing xnat:petScanData (base class xnat:imageScanData)\n",
      "[2020-02-17 08:26:44,438] INFO: convert_xsd:1010 >> Processing xnatpy:petScanDataParameters (base class None)\n",
      "[2020-02-17 08:26:44,441] INFO: convert_xsd:1010 >> Processing xnatpy:petScanDataParametersFrames (base class None)\n",
      "[2020-02-17 08:26:44,442] INFO: convert_xsd:1010 >> Processing xnatpy:petScanDataParametersFramesFrame (base class None)\n",
      "[2020-02-17 08:26:44,442] INFO: convert_xsd:1010 >> Processing xnatpy:petScanDataParametersDimensions (base class None)\n",
      "[2020-02-17 08:26:44,443] INFO: convert_xsd:1010 >> Processing xnatpy:petScanDataParametersOffset (base class None)\n",
      "[2020-02-17 08:26:44,443] INFO: convert_xsd:1010 >> Processing xnatpy:petScanDataParametersPixelsize (base class None)\n",
      "[2020-02-17 08:26:44,444] INFO: convert_xsd:1010 >> Processing xnatpy:petScanDataParametersResolution (base class None)\n",
      "[2020-02-17 08:26:44,444] INFO: convert_xsd:1010 >> Processing xnatpy:petScanDataParametersFilter (base class None)\n",
      "[2020-02-17 08:26:44,445] INFO: convert_xsd:1010 >> Processing xnatpy:petScanDataParametersRfilter (base class None)\n",
      "[2020-02-17 08:26:44,446] INFO: convert_xsd:1010 >> Processing xnatpy:petScanDataParametersZfilter (base class None)\n",
      "[2020-02-17 08:26:44,446] INFO: convert_xsd:1010 >> Processing xnatpy:petScanDataEcatvalidation (base class xnatpy:ecatValidationString)\n",
      "[2020-02-17 08:26:44,447] INFO: convert_xsd:1010 >> Processing xnatpy:regionResourceSubregionlabels (base class xnatpy:labelString)\n",
      "[2020-02-17 08:26:44,448] INFO: convert_xsd:1010 >> Processing xnat:statisticsData (base class xnat:abstractStatistics)\n",
      "[2020-02-17 08:26:44,449] INFO: convert_xsd:1010 >> Processing xnatpy:statisticsDataAdditionalstatistics (base class xnatpy:additionalStatisticsDouble)\n",
      "[2020-02-17 08:26:44,449] INFO: convert_xsd:1010 >> Processing xnatpy:statisticsDataAddfield (base class xnatpy:addFieldString)\n",
      "[2020-02-17 08:26:44,450] INFO: convert_xsd:1010 >> Processing xnat:qcAssessmentData (base class xnat:mrAssessorData)\n",
      "[2020-02-17 08:26:44,450] INFO: convert_xsd:1010 >> Processing xnatpy:qcAssessmentDataScans (base class None)\n",
      "[2020-02-17 08:26:44,451] INFO: convert_xsd:1010 >> Processing xnatpy:qcAssessmentDataScansScanSliceqc (base class None)\n",
      "[2020-02-17 08:26:44,452] INFO: convert_xsd:1010 >> Processing xnatpy:fieldDefinitionGroupFieldsFieldPossiblevalues (base class xnatpy:possibleValueString)\n",
      "[2020-02-17 08:26:44,453] INFO: convert_xsd:1010 >> Processing xnatpy:ctScanDataParametersEstimateddosesaving (base class xnatpy:estimatedDoseSavingFloat)\n",
      "[2020-02-17 08:26:44,453] INFO: convert_xsd:1010 >> Processing xnatpy:ctScanDataParametersDerivation (base class xnatpy:derivationString)\n",
      "[2020-02-17 08:26:44,454] INFO: convert_xsd:1010 >> Processing xnatpy:qcScanDataRating (base class xnatpy:ratingString)\n",
      "[2020-02-17 08:26:44,455] INFO: convert_xsd:1010 >> Processing xnatpy:eegSessionDataSamplingrate (base class xnatpy:samplingRateFloat)\n",
      "[2020-02-17 08:26:44,455] INFO: convert_xsd:1010 >> Processing xnatpy:eegSessionDataSamplinginterval (base class xnatpy:samplingIntervalFloat)\n",
      "[2020-02-17 08:26:44,456] INFO: convert_xsd:1010 >> Processing xnatpy:imageSessionDataPipeline (base class build:pipelineData)\n",
      "[2020-02-17 08:26:44,457] INFO: convert_xsd:1010 >> Processing xnatpy:xnatExecutionEnvironmentParameters (base class xnatpy:parameterString)\n",
      "[2020-02-17 08:26:44,457] INFO: convert_xsd:1010 >> Processing xnatpy:processStepProgram (base class xnatpy:programString)\n",
      "[2020-02-17 08:26:44,457] INFO: convert_xsd:1010 >> Processing xnatpy:processStepPlatform (base class xnatpy:platformString)\n",
      "[2020-02-17 08:26:44,458] INFO: convert_xsd:1010 >> Processing xnatpy:processStepCompiler (base class xnatpy:compilerString)\n",
      "[2020-02-17 08:26:44,458] INFO: convert_xsd:1010 >> Processing xnatpy:processStepLibrary (base class xnatpy:libraryString)\n",
      "[2020-02-17 08:26:44,459] INFO: convert_xsd:1010 >> Processing xnatpy:catalogMetafields (base class xnatpy:metaFieldString)\n",
      "[2020-02-17 08:26:44,460] INFO: convert_xsd:1010 >> Processing xnatpy:projectPipelinesDescendantsDescendantPipeline (base class arc:pipelineData)\n",
      "[2020-02-17 08:26:44,461] INFO: convert_xsd:1010 >> Processing xnatpy:projectPipelinesPipeline (base class arc:pipelineData)\n",
      "[2020-02-17 08:26:44,462] INFO: convert_xsd:1010 >> Processing xnatpy:pipelineParameterDataCsvvalues (base class xnatpy:csvValuesString)\n",
      "[2020-02-17 08:26:44,462] INFO: convert_xsd:1010 >> Processing arc:property (base class xnatpy:propertyString)\n",
      "[2020-02-17 08:26:44,463] INFO: convert_xsd:1010 >> Processing arc:fieldSpecification (base class xnatpy:fieldSpecificationString)\n",
      "[2020-02-17 08:26:44,463] INFO: convert_xsd:1010 >> Processing xnatpy:protocolDataCheckComments (base class xnatpy:commentString)\n",
      "[2020-02-17 08:26:44,464] INFO: convert_xsd:1010 >> Processing xnatpy:FieldTypeContent (base class xnatpy:ContentString)\n",
      "[2020-02-17 08:26:44,465] DEBUG: convert_xsd:1019 >> Visited: 362, expected: 362\n",
      "[2020-02-17 08:26:44,466] DEBUG: convert_xsd:1020 >> Visited: {'xnatpy:imageScanDataScanner', 'xnat:petmrSessionData', 'arc:pipelineParameterData', 'xnat:opSessionData', 'xnatpy:element_securityListing_actionsListing_action', 'xnatpy:ecatValidationString', 'xnatpy:petScanDataParametersPixelsize', 'xnatpy:additionalStatisticsDouble', 'xnatpy:ratingString', 'xdat:criteria_set', 'xnatpy:ctScanDataParametersDerivation', 'xnat:ctScanData', 'xnat:subjectAssessorData', 'xnatpy:fieldString', 'xnat:optScanData', 'xnatpy:FieldTypeHtml-linkPropertyInsertvalue', 'build:imageSessionData', 'xnat:imageScanData', 'PlexiViewerType', 'xnatpy:catalogMetafieldsMetafield', 'xnatpy:petSessionDataTracerIntermediate', 'xnatpy:petSessionDataTracerDose', 'xnatpy:petScanDataParametersFramesFrame', 'arc:pathInfo', 'xnatpy:ctScanDataParametersVoxelres', 'xnatpy:ctScanDataParameters', 'xnat:usScanData', 'xnatpy:FieldTypeHtml-image', 'xnatpy:protocolDataScansScan_checkConditionsCondition', 'xnatpy:petScanDataParametersRfilter', 'icr:roiCollectionData', 'xnatpy:petScanDataParametersResolution', 'xnatpy:xaScanDataParameters', 'xnatpy:studyProtocolAcqconditionsCondition', 'xnatpy:primary_security_fieldString', 'xnatpy:petmrSessionDataTracerIsotope', 'xnatpy:projectDataFieldsField', 'xnat:qcScanData', 'xnatpy:ctScanDataParametersEstimateddosesaving', 'xnat:nmScanData', 'xnatpy:petSessionDataTracer', 'xnat:crSessionData', 'xnatpy:regionResourceSubregionlabelsLabel', 'xnatpy:updrs3DataRigidity', 'xnat:imageResourceSeries', 'xnatpy:eegScanDataParameters', 'xnatpy:LayoutDescriptionCoordinates', 'xnat:pVisitData', 'xnat:dxSessionData', 'display:SubQueryField', 'xdat:user', 'xnat:xcScanData', 'xnat:mrSessionData', 'xdat:userGroup', 'xnat_a:scidResearchData', 'xnatpy:petScanDataParametersFilter', 'xnatpy:scidResearchDataOptional', 'xnatpy:PlexiViewerTypeViewableitemSchemalink', 'xnatpy:SubQueryFieldMappingcolumnsMappingcolumn', 'xnatpy:experimentDataDelay', 'xnatpy:scidResearchDataEatingdisorders', 'xnatpy:processStepLibrary', 'xnat:demographicData', 'xnatpy:fieldSpecificationString', 'xdat:criteria', 'xnatpy:mrScanDataParametersFov', 'xnatpy:protocolDataCheckCommentsComment', 'xnatpy:ctScanDataDcmvalidation', 'xnatpy:PlexiViewerTypeViewableitemThumbnail', 'xnatpy:petmrSessionDataTracerDose', 'xnatpy:imageResourceSeriesVoxelres', 'xnatpy:petmrSessionDataTracer', 'xnat:projectParticipant', 'xnat:xcvScanData', 'xnat:reconstructedImageData', 'xnat:abstractStatistics', 'build:pipelineParameterData', 'xnatpy:heightFloat', 'xnatpy:mrScanDataParametersMatrix', 'LayoutDescription', 'xnatpy:statisticsDataAdditionalstatistics', 'xnatpy:ygtssDataPhonic', 'val:additionalVal', 'xdat:primary_security_field', 'xnatpy:xaScanDataParametersPixelres', 'xnat:resourceSeries', 'prov:process', 'SchemaLinkType', 'xnatpy:updrs3DataHandsram', 'xnat:imageSessionData', 'xnat_a:updrs3Data', 'xnatpy:PlexiViewerTypeViewableitemLo-resParameter', 'xnat:smSessionData', 'xnatpy:shareString', 'xnatpy:imageSessionDataPipeline', 'xnatpy:stored_searchAllowed_user', 'xnat:gmSessionData', 'xnat:publicationResource', 'xnat:esvSessionData', 'xnatpy:imageScanDataSharingShare', 'xnatpy:projectPipelinesDescendantsDescendant', 'xnat:esScanData', 'xnatpy:stored_searchSort_by', 'xnatpy:PlexiViewerTypeViewableitemLo-res', 'xnatpy:aliasString', 'xnat:rfSessionData', 'xnatpy:doseFloat', 'pipe:pipelineDetails', 'xnat:subjectVariablesData', 'xnat:xcvSessionData', 'xnatpy:mrScanDataParametersInplanephaseencoding', 'xdat:stored_search', 'xnatpy:volumetricRegionSubregionsSubregion', 'display:HTML-Cell', 'xnatpy:ContentString', 'xnat:megSessionData', 'xnatpy:pipelineDetailsParametersParameter', 'xnat:fieldDefinitionGroup', 'xnatpy:studyProtocolSubjectvariablesVariable', 'xnatpy:petScanDataEcatvalidation', 'xnatpy:qcScanDataFieldsField', 'xnat:eegSessionData', 'xnatpy:subjectVariablesDataVariablesVariable', 'xnatpy:statisticsDataAddfield', 'xnat:mrScanData', 'xnatpy:scidResearchDataMooddisorders', 'arc:project', 'xnat:gmvSessionData', 'xnatpy:updrs3DataFoottaps', 'xdat:element_security', 'xnatpy:PlexiViewerTypeViewableitemUserinterface', 'xnatpy:dcmCatalogVoxelres', 'xnatpy:PlexiViewerTypeViewableitem', 'xnatpy:mrScanDataParametersDiffusion', 'xnatpy:studyProtocolSubjectgroupsGroup', 'xnatpy:pipelineDetailsParametersParameterValues', 'xnatpy:totalMassFloat', 'xnat:mgSessionData', 'xnat:dicomCodedValue', 'xnat:mgScanData', 'xnatpy:dicomSeriesVoxelres', 'xnat:derivedData', 'cat:dcmCatalog', 'xdat:role_type', 'xnat:smScanData', 'xnatpy:weightFloat', 'xnatpy:abstractResourceTagsTag', 'xnatpy:projectPipelines', 'xnatpy:xaScanDataParametersFov', 'xnatpy:mrScanDataParametersVoxelres', 'xnat:hdScanData', 'xnatpy:optScanDataParameters', 'xnatpy:possibleValueString', 'xnat:mrAssessorData', 'xnat:crScanData', 'xnatpy:addFieldString', 'xnatpy:samplingRateFloat', 'xnatpy:protocolDataScansScan_check', 'xnatpy:dcmValidationString', 'xnatpy:primary_passwordString', 'xnat:resourceCatalog', 'xnat:subjectMetadata', 'xnatpy:processStepProgram', 'xnatpy:scannerString', 'xnatpy:optScanDataParametersVoxelres', 'xnat:hdSessionData', 'xnatpy:intermediateFloat', 'xnatpy:mrScanDataParameters', 'xnatpy:scidResearchDataMoodepisodes', 'xnat:ioSessionData', 'xnat:xa3DScanData', 'xnat:dxScanData', 'xnat:dx3DCraniofacialSessionData', 'xnat:usSessionData', 'xnatpy:pipelineParameterDataCsvvalues', 'xnat:projectData', 'xdat:infoEntry', 'xnatpy:ctScanDataParametersCollimationwidth', 'xnat:resource', 'xnatpy:optScanDataDcmvalidation', 'xnatpy:programString', 'xnat:srSessionData', 'xnatpy:scidResearchDataSubstanceusedisorders', 'xnat:validationData', 'xnat:otherDicomScanData', 'xnatpy:dcmCatalogDimensions', 'xnatpy:FieldTypeHtml-linkProperty', 'xnat:mrQcScanData', 'xnat:petQcScanData', 'xnat:imageAssessorData', 'xnat:xcSessionData', 'xnat:srScanData', 'xnatpy:petScanDataParametersZfilter', 'xnat:ecgScanData', 'xnat_a:sideEffectsPittsburghData', 'xnatpy:xnatExecutionEnvironmentParametersParameter', 'xnat:otherQcScanData', 'xnat:rtImageScanData', 'xnatpy:protocolDataScansScan_checkCommentsComment', 'xnat:ecgSessionData', 'xnat:imageResource', 'xnatpy:derivationString', 'scr:screeningScanData', 'xnatpy:FieldTypeContent', 'xnatpy:parameterString', 'xnatpy:addIDString', 'xnat:experimentData', 'xnat_a:ygtssData', 'xnatpy:dicomSeriesDimensions', 'xdat:change_info', 'xnatpy:updrs3DataClicker', 'xnat:studyProtocol', 'xnatpy:updrs3DataActionposturaltremor', 'xnat:voiceAudioScanData', 'xnat:ioScanData', 'xnat:genericData', 'xnat:optSessionData', 'xnatpy:metaFieldString', 'xnatpy:compilerString', 'build:buildData', 'xdat:action_type', 'xnatpy:regionResourceCreator', 'xnat:segScanData', 'xnatpy:demographicDataHeight', 'xnatpy:petSessionDataTracerTotalmass', 'xnatpy:PlexiViewerTypeViewableitemHi-resLayoutref', 'xnatpy:eegSessionDataSamplinginterval', 'xnatpy:propertyString', 'arc:fieldSpecification', 'xnatpy:PlexiViewerTypeViewableitemHi-res', 'xnatpy:projectPipelinesDescendantsDescendantPipeline', 'xnat:esvScanData', 'xnatpy:scidResearchDataPsychoticsymptoms', 'xnatpy:imageSessionDataScanner', 'xnatpy:subjectDataFieldsField', 'xnatpy:eegSessionDataSamplingrate', 'xnatpy:imageResourceVoxelres', 'xnatpy:eegScanDataSoftwarefiltersimpedances', 'xnatpy:qcScanDataRating', 'xnatpy:protocolDataCheck', 'xnatpy:fieldDefinitionGroupFieldsFieldPossiblevaluesPossiblevalue', 'xnat:otherDicomSessionData', 'xnatpy:ctScanDataParametersFov', 'xnat:esSessionData', 'xnat:qcManualAssessorData', 'xnatpy:FieldTypeHtml-linkSecurelink', 'xnatpy:pipelineParameterDataParameter', 'xnatpy:dicomSeriesImagesetImage', 'xnatpy:updrs3DataFingertaps', 'xnat:dx3DCraniofacialScanData', 'xnat:volumetricRegion', 'xnat:petScanData', 'xnatpy:fieldDefinitionGroupFieldsField', 'xnatpy:petmrSessionDataTracerTotalmass', 'xnat:opScanData', 'xnatpy:ctScanDataParametersRescale', 'xnat:subjectData', 'xnat_a:ybocsData', 'xnatpy:studyProtocolImagesessiontypesSession', 'cat:dcmEntry', 'xnat:abstractResource', 'arc:pipelineData', 'xnatpy:samplingIntervalFloat', 'xnatpy:eegScanDataParametersDatarecord', 'xnatpy:PlexiViewerTypeViewableitemThumbnailSlice', 'xnat:dicomSeries', 'xdat:element_action_type', 'xnatpy:PlexiViewerTypeViewableitemUserinterfaceLinkeddropdown', 'wrk:xnatExecutionEnvironment', 'display:FieldType', 'xnat:xa3DSessionData', 'xnat:qcAssessmentData', 'xnat:epsScanData', 'xnatpy:FieldTypeHtml-linkSecurelinkSecuritymappingvalue', 'xnatpy:demographicDataWeight', 'xnat:mrsScanData', 'xnat:gmvScanData', 'xnatpy:processStepCompiler', 'xnat:megScanData', 'xnat:regionResource', 'xnatpy:tagString', 'xnatpy:labelString', 'xnatpy:updrs3DataTremorrest', 'xnatpy:mrScanDataDcmvalidation', 'xnat:xaScanData', 'xnatpy:delayInteger', 'xnat:abstractProtocol', 'wrk:abstractExecutionEnvironment', 'xnatpy:isotopeString', 'xdat:history', 'xnatpy:eegScanDataChannelsChannel', 'xdat:field_mapping', 'xnat:ctSessionData', 'xnat:epsSessionData', 'xdat:access_log', 'xnatpy:qcAssessmentDataScansScanSliceqcSlice', 'xnatpy:variableString', 'xnatpy:entryMetafieldsMetafield', 'xdat:user_login', 'xnatpy:petScanDataParametersOffset', 'xnatpy:imageResourceSeriesDimensions', 'xnatpy:eegScanDataSoftwarefiltersimpedancesImpedance', 'scr:screeningAssessment', 'xnat:rfScanData', 'xnat:scScanData', 'xnatpy:scidResearchDataSomatoformdisorders', 'xdat:field_mapping_set', 'xnatpy:optScanDataParametersFov', 'wrk:workflowData', 'xdat:search_field', 'xnatpy:petScanDataParametersDimensions', 'xnatpy:ygtssDataMotor', 'xnat:petSessionData', 'xnat:investigatorData', 'xnatpy:updrs3DataHandmovementsgrip', 'cat:entry', 'xnatpy:xnatExecutionEnvironmentParameterfile', 'xnatpy:PlexiViewerTypeViewableitemHi-resLayer', 'arc:property', 'xnatpy:libraryString', 'xnatpy:subjectDataAddid', 'xnatpy:projectPipelinesPipeline', 'xnatpy:platformString', 'xdat:newsEntry', 'xnatpy:petScanDataParameters', 'xnat:gmScanData', 'cat:catalog', 'xnatpy:scidResearchDataAnxietydisorders', 'xdat:meta_data', 'xnatpy:commentString', 'xnat:nmSessionData', 'xnatpy:qcAssessmentDataScansScan', 'build:pipelineData', 'xnat:statisticsData', 'xnatpy:petmrSessionDataTracerIntermediate', 'xnatpy:experimentDataFieldsField', 'xnatpy:imageResourceDimensions', 'xnatpy:estimatedDoseSavingFloat', 'xnatpy:userPrimary_password', 'xnat:abstractSubjectMetadata', 'xnatpy:projectDataAliasesAlias', 'xnat:petAssessorData', 'xnatpy:protocolDataCheckConditionsCondition', 'xnat:xaSessionData', 'xnatpy:csvValuesString', 'xnatpy:FieldTypeHtml-link', 'xnat:algorithm', 'xnatpy:petSessionDataTracerIsotope', 'xnatpy:experimentDataSharingShare', 'xnat:rtSessionData', 'val:protocolData', 'xnat:datatypeProtocol', 'xdat:LONGVARCHAR', 'xnat:eegScanData', 'xnatpy:processStepPlatform', 'xnat:abstractDemographicData', 'xnatpy:scidResearchDataPsychoticdisorders', 'prov:processStep', 'xnat:computationData', 'xnat:addField', 'xnatpy:petScanDataParametersFrames', 'xnat:contrastBolus'}\n"
     ]
    },
    {
     "name": "stderr",
     "output_type": "stream",
     "text": [
      "[2020-02-17 08:26:44,466] INFO: convert_xsd:1021 >> Missed: []\n",
      "[2020-02-17 08:26:44,466] INFO: convert_xsd:1022 >> Missed base class: []\n",
      "[2020-02-17 08:26:44,467] DEBUG: convert_xsd:1023 >> Spent 2 iterations\n",
      "[2020-02-17 08:26:44,481] DEBUG: __init__:249 >> Code file written to: C:\\Users\\ctorti\\AppData\\Local\\Temp\\tmp8niyyxe4_generated_xnat.py\n",
      "[2020-02-17 08:26:44,643] DEBUG: __init__:256 >> Loaded generated module\n"
     ]
    }
   ],
   "source": [
    "xnatAddress = 'http://10.1.1.17'\n",
    "#xnatAddress = 'http://10.1.1.17/app/template/Index.vm'\n",
    "#xnatAddress = 'http://10.1.1.17/app/template/Login.vm#!'\n",
    "#xnatAddress = 'http://10.1.1.17:8080/xnat'\n",
    "#xnatAddress = 'http://10.1.1.17:80/xnat'\n",
    "#xnatAddress = 'http://localhost:8080/xnat'\n",
    "#xnatAddress = 'http://10.1.1.17:8080/admin'\n",
    "#xnatAddress = 'http://localhost:8080/admin'\n",
    "\n",
    "#session = xnat.connect(xnatAddress, user='xnat', password='xnat')\n",
    "#session = xnat.connect(xnatAddress, user='owner', password='owner')\n",
    "session = xnat.connect(xnatAddress, user='admin', password='admin', debug=True)"
   ]
  },
  {
   "cell_type": "code",
   "execution_count": 4,
   "metadata": {},
   "outputs": [
    {
     "data": {
      "text/plain": [
       "<xnat.session.XNATSession at 0x1a5dc329b88>"
      ]
     },
     "execution_count": 4,
     "metadata": {},
     "output_type": "execute_result"
    }
   ],
   "source": [
    "session"
   ]
  },
  {
   "cell_type": "markdown",
   "metadata": {},
   "source": [
    "#### Define the REST path variables:"
   ]
  },
  {
   "cell_type": "code",
   "execution_count": 3,
   "metadata": {},
   "outputs": [],
   "source": [
    "# Define selected project and subject labels, and session number:\n",
    "projectLabel = 'BrainTumorProg'\n",
    "subjectLabel = 'PGM-002'\n",
    "experimentNo = 0 # (= 1 in XNAT web app; e.g. ‘PGM-002_MR_1’)\n",
    "scanNo = 0 # 0 -> T1post"
   ]
  },
  {
   "cell_type": "markdown",
   "metadata": {},
   "source": [
    "#### Location of previously downloaded DICOM and DICOM-RTSTRUCT files:"
   ]
  },
  {
   "cell_type": "code",
   "execution_count": 4,
   "metadata": {},
   "outputs": [],
   "source": [
    "# The DICOM files were exported here:\n",
    "dicomsPath = r'C:\\Users\\ctorti\\Documents\\GitHub\\WP1.3_multiple_modalities\\trying stuff\\XNAT downloads\\BrainTumorProg\\PGM-002\\0\\0\\PGM-002_MR_1\\scans\\11-T1post\\resources\\DICOM\\files'\n",
    "\n",
    "# And the ROI DICOM-RTStruct file was exported here:\n",
    "roiPath = r'C:\\Users\\ctorti\\Documents\\GitHub\\WP1.3_multiple_modalities\\trying stuff\\XNAT downloads\\BrainTumorProg\\PGM-002\\0\\0\\AIM_20200123_145716\\out\\resources\\RTSTRUCT\\files'"
   ]
  },
  {
   "cell_type": "code",
   "execution_count": null,
   "metadata": {},
   "outputs": [],
   "source": []
  },
  {
   "cell_type": "markdown",
   "metadata": {},
   "source": [
    "#### Try uploading data to XNAT"
   ]
  },
  {
   "cell_type": "code",
   "execution_count": 243,
   "metadata": {},
   "outputs": [
    {
     "data": {
      "text/plain": [
       "<xnat.session.XNATSession at 0x1ed3400a3c8>"
      ]
     },
     "execution_count": 243,
     "metadata": {},
     "output_type": "execute_result"
    }
   ],
   "source": [
    "session"
   ]
  },
  {
   "cell_type": "code",
   "execution_count": 244,
   "metadata": {},
   "outputs": [
    {
     "data": {
      "text/plain": [
       "['AbstractDemographicData',\n",
       " 'AbstractExecutionEnvironment',\n",
       " 'AbstractProtocol',\n",
       " 'AbstractResource',\n",
       " 'AbstractResourceTags',\n",
       " 'AbstractStatistics',\n",
       " 'AbstractSubjectMetadata',\n",
       " 'AccessLog',\n",
       " 'ActionType',\n",
       " 'AddField',\n",
       " 'AddFieldString',\n",
       " 'AddIDString',\n",
       " 'AdditionalStatisticsDouble',\n",
       " 'AdditionalVal',\n",
       " 'Algorithm',\n",
       " 'AliasString',\n",
       " 'BuildData',\n",
       " 'BytesIO',\n",
       " 'Catalog',\n",
       " 'CatalogMetafields',\n",
       " 'ChangeInfo',\n",
       " 'CommentString',\n",
       " 'CompilerString',\n",
       " 'ComputationData',\n",
       " 'ContentString',\n",
       " 'ContrastBolus',\n",
       " 'CrScanData',\n",
       " 'CrSessionData',\n",
       " 'Criteria',\n",
       " 'CriteriaSet',\n",
       " 'CsvValuesString',\n",
       " 'CtScanData',\n",
       " 'CtScanDataDcmvalidation',\n",
       " 'CtScanDataParameters',\n",
       " 'CtScanDataParametersCollimationwidth',\n",
       " 'CtScanDataParametersDerivation',\n",
       " 'CtScanDataParametersEstimateddosesaving',\n",
       " 'CtScanDataParametersFov',\n",
       " 'CtScanDataParametersRescale',\n",
       " 'CtScanDataParametersVoxelres',\n",
       " 'CtSessionData',\n",
       " 'DatatypeProtocol',\n",
       " 'DcmCatalog',\n",
       " 'DcmCatalogDimensions',\n",
       " 'DcmCatalogVoxelres',\n",
       " 'DcmEntry',\n",
       " 'DcmValidationString',\n",
       " 'DelayInteger',\n",
       " 'DemographicData',\n",
       " 'DemographicDataHeight',\n",
       " 'DemographicDataWeight',\n",
       " 'DerivationString',\n",
       " 'DerivedData',\n",
       " 'DicomCodedValue',\n",
       " 'DicomSeries',\n",
       " 'DicomSeriesDimensions',\n",
       " 'DicomSeriesImageset',\n",
       " 'DicomSeriesVoxelres',\n",
       " 'DoseFloat',\n",
       " 'Dx3DCraniofacialScanData',\n",
       " 'Dx3DCraniofacialSessionData',\n",
       " 'DxScanData',\n",
       " 'DxSessionData',\n",
       " 'EcatValidationString',\n",
       " 'EcgScanData',\n",
       " 'EcgSessionData',\n",
       " 'EegScanData',\n",
       " 'EegScanDataChannels',\n",
       " 'EegScanDataParameters',\n",
       " 'EegScanDataParametersDatarecord',\n",
       " 'EegScanDataSoftwarefiltersimpedances',\n",
       " 'EegScanDataSoftwarefiltersimpedancesImpedance',\n",
       " 'EegSessionData',\n",
       " 'EegSessionDataSamplinginterval',\n",
       " 'EegSessionDataSamplingrate',\n",
       " 'ElementActionType',\n",
       " 'ElementSecurity',\n",
       " 'ElementSecurityListingActions',\n",
       " 'Entry',\n",
       " 'EntryMetafields',\n",
       " 'EpsScanData',\n",
       " 'EpsSessionData',\n",
       " 'EsScanData',\n",
       " 'EsSessionData',\n",
       " 'EstimatedDoseSavingFloat',\n",
       " 'EsvScanData',\n",
       " 'EsvSessionData',\n",
       " 'ExperimentData',\n",
       " 'ExperimentDataDelay',\n",
       " 'ExperimentDataFields',\n",
       " 'ExperimentDataSharing',\n",
       " 'FieldDefinitionGroup',\n",
       " 'FieldDefinitionGroupFields',\n",
       " 'FieldDefinitionGroupFieldsFieldPossiblevalues',\n",
       " 'FieldMapping',\n",
       " 'FieldMappingSet',\n",
       " 'FieldSpecification',\n",
       " 'FieldSpecificationString',\n",
       " 'FieldString',\n",
       " 'FieldType',\n",
       " 'FieldTypeContent',\n",
       " 'FieldTypeHtmlImage',\n",
       " 'FieldTypeHtmlLink',\n",
       " 'FieldTypeHtmlLinkProperty',\n",
       " 'FieldTypeHtmlLinkPropertyInsertvalue',\n",
       " 'FieldTypeHtmlLinkSecurelink',\n",
       " 'FieldTypeHtmlLinkSecurelinkSecuritymappingvalue',\n",
       " 'FileData',\n",
       " 'GenericData',\n",
       " 'GmScanData',\n",
       " 'GmSessionData',\n",
       " 'GmvScanData',\n",
       " 'GmvSessionData',\n",
       " 'GzipFile',\n",
       " 'HTMLCell',\n",
       " 'HdScanData',\n",
       " 'HdSessionData',\n",
       " 'HeightFloat',\n",
       " 'History',\n",
       " 'ImageAssessorData',\n",
       " 'ImageResource',\n",
       " 'ImageResourceDimensions',\n",
       " 'ImageResourceSeries',\n",
       " 'ImageResourceSeriesDimensions',\n",
       " 'ImageResourceSeriesVoxelres',\n",
       " 'ImageResourceVoxelres',\n",
       " 'ImageScanData',\n",
       " 'ImageScanDataScanner',\n",
       " 'ImageScanDataSharing',\n",
       " 'ImageSessionData',\n",
       " 'ImageSessionDataPipeline',\n",
       " 'ImageSessionDataScanner',\n",
       " 'InfoEntry',\n",
       " 'IntermediateFloat',\n",
       " 'InvestigatorData',\n",
       " 'IoScanData',\n",
       " 'IoSessionData',\n",
       " 'IsotopeString',\n",
       " 'LONGVARCHAR',\n",
       " 'LabelString',\n",
       " 'LayoutDescription',\n",
       " 'LayoutDescriptionCoordinates',\n",
       " 'LibraryString',\n",
       " 'MegScanData',\n",
       " 'MegSessionData',\n",
       " 'MetaData',\n",
       " 'MetaFieldString',\n",
       " 'MgScanData',\n",
       " 'MgSessionData',\n",
       " 'MrAssessorData',\n",
       " 'MrQcScanData',\n",
       " 'MrScanData',\n",
       " 'MrScanDataDcmvalidation',\n",
       " 'MrScanDataParameters',\n",
       " 'MrScanDataParametersDiffusion',\n",
       " 'MrScanDataParametersFov',\n",
       " 'MrScanDataParametersInplanephaseencoding',\n",
       " 'MrScanDataParametersMatrix',\n",
       " 'MrScanDataParametersVoxelres',\n",
       " 'MrSessionData',\n",
       " 'MrsScanData',\n",
       " 'NewsEntry',\n",
       " 'NmScanData',\n",
       " 'NmSessionData',\n",
       " 'OpScanData',\n",
       " 'OpSessionData',\n",
       " 'OptScanData',\n",
       " 'OptScanDataDcmvalidation',\n",
       " 'OptScanDataParameters',\n",
       " 'OptScanDataParametersFov',\n",
       " 'OptScanDataParametersVoxelres',\n",
       " 'OptSessionData',\n",
       " 'OtherDicomScanData',\n",
       " 'OtherDicomSessionData',\n",
       " 'OtherQcScanData',\n",
       " 'PVisitData',\n",
       " 'PYDICOM_LOADED',\n",
       " 'ParameterString',\n",
       " 'PathInfo',\n",
       " 'PetAssessorData',\n",
       " 'PetQcScanData',\n",
       " 'PetScanData',\n",
       " 'PetScanDataEcatvalidation',\n",
       " 'PetScanDataParameters',\n",
       " 'PetScanDataParametersDimensions',\n",
       " 'PetScanDataParametersFilter',\n",
       " 'PetScanDataParametersFrames',\n",
       " 'PetScanDataParametersFramesFrame',\n",
       " 'PetScanDataParametersOffset',\n",
       " 'PetScanDataParametersPixelsize',\n",
       " 'PetScanDataParametersResolution',\n",
       " 'PetScanDataParametersRfilter',\n",
       " 'PetScanDataParametersZfilter',\n",
       " 'PetSessionData',\n",
       " 'PetSessionDataTracer',\n",
       " 'PetSessionDataTracerDose',\n",
       " 'PetSessionDataTracerIntermediate',\n",
       " 'PetSessionDataTracerIsotope',\n",
       " 'PetSessionDataTracerTotalmass',\n",
       " 'PetmrSessionData',\n",
       " 'PetmrSessionDataTracer',\n",
       " 'PetmrSessionDataTracerDose',\n",
       " 'PetmrSessionDataTracerIntermediate',\n",
       " 'PetmrSessionDataTracerIsotope',\n",
       " 'PetmrSessionDataTracerTotalmass',\n",
       " 'PipelineData',\n",
       " 'PipelineDetails',\n",
       " 'PipelineDetailsParameters',\n",
       " 'PipelineDetailsParametersParameterValues',\n",
       " 'PipelineParameterData',\n",
       " 'PipelineParameterDataCsvvalues',\n",
       " 'PipelineParameterDataParameter',\n",
       " 'PlatformString',\n",
       " 'PlexiViewerType',\n",
       " 'PlexiViewerTypeViewableitem',\n",
       " 'PlexiViewerTypeViewableitemHiRes',\n",
       " 'PlexiViewerTypeViewableitemHiResLayer',\n",
       " 'PlexiViewerTypeViewableitemHiResLayoutref',\n",
       " 'PlexiViewerTypeViewableitemLoRes',\n",
       " 'PlexiViewerTypeViewableitemLoResParameter',\n",
       " 'PlexiViewerTypeViewableitemSchemalink',\n",
       " 'PlexiViewerTypeViewableitemThumbnail',\n",
       " 'PlexiViewerTypeViewableitemThumbnailSlice',\n",
       " 'PlexiViewerTypeViewableitemUserinterface',\n",
       " 'PlexiViewerTypeViewableitemUserinterfaceLinkeddropdown',\n",
       " 'PossibleValueString',\n",
       " 'PrimaryPasswordString',\n",
       " 'PrimarySecurityField',\n",
       " 'PrimarySecurityFieldString',\n",
       " 'Process',\n",
       " 'ProcessStep',\n",
       " 'ProcessStepCompiler',\n",
       " 'ProcessStepLibrary',\n",
       " 'ProcessStepPlatform',\n",
       " 'ProcessStepProgram',\n",
       " 'ProgramString',\n",
       " 'Project',\n",
       " 'ProjectData',\n",
       " 'ProjectDataAliases',\n",
       " 'ProjectDataFields',\n",
       " 'ProjectParticipant',\n",
       " 'ProjectPipelines',\n",
       " 'ProjectPipelinesDescendants',\n",
       " 'ProjectPipelinesDescendantsDescendantPipeline',\n",
       " 'ProjectPipelinesPipeline',\n",
       " 'Property',\n",
       " 'PropertyString',\n",
       " 'ProtocolData',\n",
       " 'ProtocolDataCheck',\n",
       " 'ProtocolDataCheckComments',\n",
       " 'ProtocolDataCheckConditions',\n",
       " 'ProtocolDataScans',\n",
       " 'ProtocolDataScansScanCheckComments',\n",
       " 'ProtocolDataScansScanCheckConditions',\n",
       " 'PublicationResource',\n",
       " 'QcAssessmentData',\n",
       " 'QcAssessmentDataScans',\n",
       " 'QcAssessmentDataScansScanSliceqc',\n",
       " 'QcManualAssessorData',\n",
       " 'QcScanData',\n",
       " 'QcScanDataFields',\n",
       " 'QcScanDataRating',\n",
       " 'RatingString',\n",
       " 'ReconstructedImageData',\n",
       " 'RegionResource',\n",
       " 'RegionResourceCreator',\n",
       " 'RegionResourceSubregionlabels',\n",
       " 'RequestsFileLike',\n",
       " 'Resource',\n",
       " 'ResourceCatalog',\n",
       " 'ResourceSeries',\n",
       " 'RfScanData',\n",
       " 'RfSessionData',\n",
       " 'RoiCollectionData',\n",
       " 'RoleType',\n",
       " 'RtImageScanData',\n",
       " 'RtSessionData',\n",
       " 'SESSION',\n",
       " 'SamplingIntervalFloat',\n",
       " 'SamplingRateFloat',\n",
       " 'ScScanData',\n",
       " 'ScannerString',\n",
       " 'SchemaLinkType',\n",
       " 'ScidResearchData',\n",
       " 'ScidResearchDataAnxietydisorders',\n",
       " 'ScidResearchDataEatingdisorders',\n",
       " 'ScidResearchDataMooddisorders',\n",
       " 'ScidResearchDataMoodepisodes',\n",
       " 'ScidResearchDataOptional',\n",
       " 'ScidResearchDataPsychoticdisorders',\n",
       " 'ScidResearchDataPsychoticsymptoms',\n",
       " 'ScidResearchDataSomatoformdisorders',\n",
       " 'ScidResearchDataSubstanceusedisorders',\n",
       " 'ScreeningAssessment',\n",
       " 'ScreeningScanData',\n",
       " 'SearchField',\n",
       " 'SegScanData',\n",
       " 'ShareString',\n",
       " 'SideEffectsPittsburghData',\n",
       " 'SmScanData',\n",
       " 'SmSessionData',\n",
       " 'SrScanData',\n",
       " 'SrSessionData',\n",
       " 'StatisticsData',\n",
       " 'StatisticsDataAddfield',\n",
       " 'StatisticsDataAdditionalstatistics',\n",
       " 'StoredSearch',\n",
       " 'StoredSearchAllowedUser',\n",
       " 'StoredSearchSortBy',\n",
       " 'StudyProtocol',\n",
       " 'StudyProtocolAcqconditions',\n",
       " 'StudyProtocolImagesessiontypes',\n",
       " 'StudyProtocolSubjectgroups',\n",
       " 'StudyProtocolSubjectvariables',\n",
       " 'SubQueryField',\n",
       " 'SubQueryFieldMappingcolumns',\n",
       " 'SubjectAssessorData',\n",
       " 'SubjectData',\n",
       " 'SubjectDataAddid',\n",
       " 'SubjectDataFields',\n",
       " 'SubjectMetadata',\n",
       " 'SubjectVariablesData',\n",
       " 'SubjectVariablesDataVariables',\n",
       " 'TagString',\n",
       " 'TarFile',\n",
       " 'TotalMassFloat',\n",
       " 'Updrs3Data',\n",
       " 'Updrs3DataActionposturaltremor',\n",
       " 'Updrs3DataClicker',\n",
       " 'Updrs3DataFingertaps',\n",
       " 'Updrs3DataFoottaps',\n",
       " 'Updrs3DataHandmovementsgrip',\n",
       " 'Updrs3DataHandsram',\n",
       " 'Updrs3DataRigidity',\n",
       " 'Updrs3DataTremorrest',\n",
       " 'UsScanData',\n",
       " 'UsSessionData',\n",
       " 'User',\n",
       " 'UserGroup',\n",
       " 'UserLogin',\n",
       " 'UserPrimaryPassword',\n",
       " 'ValidationData',\n",
       " 'VariableString',\n",
       " 'VoiceAudioScanData',\n",
       " 'VolumetricRegion',\n",
       " 'VolumetricRegionSubregions',\n",
       " 'WeightFloat',\n",
       " 'WorkflowData',\n",
       " 'XNATListing',\n",
       " 'XNATNestedObject',\n",
       " 'XNATNestedObjectMixin',\n",
       " 'XNATObject',\n",
       " 'XNATObjectMixin',\n",
       " 'XNATSimpleListing',\n",
       " 'XNATSubListing',\n",
       " 'XNATSubObject',\n",
       " 'XNATSubObjectMixin',\n",
       " 'XNAT_CLASS_LOOKUP',\n",
       " 'Xa3DScanData',\n",
       " 'Xa3DSessionData',\n",
       " 'XaScanData',\n",
       " 'XaScanDataParameters',\n",
       " 'XaScanDataParametersFov',\n",
       " 'XaScanDataParametersPixelres',\n",
       " 'XaSessionData',\n",
       " 'XcScanData',\n",
       " 'XcSessionData',\n",
       " 'XcvScanData',\n",
       " 'XcvSessionData',\n",
       " 'XnatExecutionEnvironment',\n",
       " 'XnatExecutionEnvironmentParameterfile',\n",
       " 'XnatExecutionEnvironmentParameters',\n",
       " 'YbocsData',\n",
       " 'YgtssData',\n",
       " 'YgtssDataMotor',\n",
       " 'YgtssDataPhonic',\n",
       " 'ZipFile',\n",
       " '_SOURCE_CODE_FILE',\n",
       " '__builtins__',\n",
       " '__cached__',\n",
       " '__doc__',\n",
       " '__file__',\n",
       " '__loader__',\n",
       " '__name__',\n",
       " '__package__',\n",
       " '__spec__',\n",
       " 'absolute_import',\n",
       " 'caching',\n",
       " 'current_session',\n",
       " 'mixedproperty',\n",
       " 'mixin',\n",
       " 'os',\n",
       " 'pydicom',\n",
       " 'search',\n",
       " 'tempfile',\n",
       " 'unicode_literals']"
      ]
     },
     "execution_count": 244,
     "metadata": {},
     "output_type": "execute_result"
    }
   ],
   "source": [
    "dir(session.classes)"
   ]
  },
  {
   "cell_type": "markdown",
   "metadata": {},
   "source": [
    "Recall that the REST parameters were defined as such:\n",
    "    \n",
    "Define selected project and subject labels, and session number:\n",
    "projectLabel = 'BrainTumorProg'\n",
    "subjectLabel = 'PGM-002'\n",
    "experimentNo = 0 # (= 1 in XNAT web app; e.g. ‘PGM-002_MR_1’)\n",
    "scanNo = 0 # 0 -> T1post"
   ]
  },
  {
   "cell_type": "markdown",
   "metadata": {},
   "source": [
    "Recall that the DICOM-RTStruct file was downloaded to newPath using the command:\n",
    "ROIobject = session.projects[projectLabel].subjects[subjectLabel].experiments[experimentNo].assessors[scanNo].resources[1]\n",
    "ROIobject.download_dir(newPath)\n",
    "\n",
    "So I'll have to (at least) create a new project, then new subject, then new experiment before uploading the ROI file.\n",
    "Not sure if I need to create an assessor and resource as well, or if it's automatically handled..."
   ]
  },
  {
   "cell_type": "code",
   "execution_count": 240,
   "metadata": {},
   "outputs": [
    {
     "data": {
      "text/plain": [
       "'C:\\\\Code\\\\WP1.3_multiple_modalities\\\\trying stuff\\\\XNAT downloads\\\\BrainTumorProg\\\\PGM-002\\\\0\\\\0'"
      ]
     },
     "execution_count": 240,
     "metadata": {},
     "output_type": "execute_result"
    }
   ],
   "source": [
    "# And newPath is:\n",
    "newPath"
   ]
  },
  {
   "cell_type": "code",
   "execution_count": 5,
   "metadata": {},
   "outputs": [],
   "source": [
    "# The full filepath to the downloaded DICOM-RTStruct file is:\n",
    "roiFpathDL = r'C:\\Code\\WP1.3_multiple_modalities\\trying stuff\\XNAT downloads\\BrainTumorProg\\PGM-002\\0\\0\\AIM_20200123_145716\\out\\resources\\RTSTRUCT\\files\\AIM_20200123_145716.dcm' "
   ]
  },
  {
   "cell_type": "code",
   "execution_count": 6,
   "metadata": {},
   "outputs": [
    {
     "data": {
      "text/plain": [
       "'BrainTumorProg_copy'"
      ]
     },
     "execution_count": 6,
     "metadata": {},
     "output_type": "execute_result"
    }
   ],
   "source": [
    "# Define the new project name:\n",
    "newProjectName = projectLabel + '_copy'\n",
    "\n",
    "newProjectName"
   ]
  },
  {
   "cell_type": "markdown",
   "metadata": {},
   "source": [
    "The XNATpy guide's instructions on how to import DICOM files in an archived (zipped) file via prearchive:\n",
    "\n",
    "prearchive_session = session.services.import_('/home/hachterberg/temp/ANONYMIZ.zip', \\\n",
    "                                              project='brainimages', \\\n",
    "                                              destination='/prearchive')\n",
    "\n",
    "but I'm not sure if the project being imported to must already exist, or if one will be created if not..."
   ]
  },
  {
   "cell_type": "markdown",
   "metadata": {},
   "source": [
    "Following the guidance uner \"Object creation\" here:\n",
    "\n",
    "https://xnat.readthedocs.io/en/latest/static/tutorial.html#exploring-your-xnat-server\n",
    "\n",
    "A new subject is created as follows:\n",
    "\n",
    "connection = xnat.connect('https://xnat.example.com')\n",
    "project = connection.projects['myproject']\n",
    "subject = connection.classes.SubjectData(parent=project, label='new_subject_label')\n",
    "\n",
    "The parent of a subject would be a project, but I'm not sure what the parent of a project is...\n",
    "\n",
    "Perhaps the session?\n",
    "\n",
    "Yes found an example here:\n",
    "\n",
    "https://groups.google.com/forum/#!msg/xnat_discussion/vYJuSZ6MbmI/dTnKfU5_BQAJ"
   ]
  },
  {
   "cell_type": "markdown",
   "metadata": {},
   "source": [
    "#### Create a new project in XNAT:"
   ]
  },
  {
   "cell_type": "code",
   "execution_count": 9,
   "metadata": {},
   "outputs": [
    {
     "name": "stderr",
     "output_type": "stream",
     "text": [
      "[2020-02-07 16:38:05,462] DEBUG: core:171 >> PUT URI: /data/archive/projects/BrainTumorProg_copy\n",
      "[2020-02-07 16:38:05,463] DEBUG: core:180 >> query: {'xsiType': 'xnat:projectData', 'req_format': 'qs', 'name': 'BrainTumorProg_copy'}\n",
      "[2020-02-07 16:38:05,464] DEBUG: session:428 >> PUT URI http://10.1.1.17/data/archive/projects/BrainTumorProg_copy?xsiType=xnat%3AprojectData&req_format=qs&name=BrainTumorProg_copy\n",
      "[2020-02-07 16:38:05,464] DEBUG: session:430 >> PUT DATA None\n",
      "[2020-02-07 16:38:05,464] DEBUG: session:431 >> PUT FILES None\n",
      "[2020-02-07 16:38:05,504] DEBUG: session:307 >> Received response with status code: 200\n"
     ]
    }
   ],
   "source": [
    "newProject = session.classes.ProjectData(parent=session, name=newProjectName)"
   ]
  },
  {
   "cell_type": "code",
   "execution_count": 10,
   "metadata": {},
   "outputs": [
    {
     "name": "stderr",
     "output_type": "stream",
     "text": [
      "[2020-02-07 16:38:06,701] DEBUG: session:334 >> GET URI http://10.1.1.17/data/archive/projects/BrainTumorProg_copy?format=json\n",
      "[2020-02-07 16:38:06,718] DEBUG: session:307 >> Received response with status code: 200\n"
     ]
    },
    {
     "data": {
      "text/plain": [
       "<ProjectData BrainTumorProg_copy (BrainTumorProg_copy)>"
      ]
     },
     "execution_count": 10,
     "metadata": {},
     "output_type": "execute_result"
    }
   ],
   "source": [
    "newProject"
   ]
  },
  {
   "cell_type": "markdown",
   "metadata": {},
   "source": [
    "It worked!  And I confirmed in XNAT web interface."
   ]
  },
  {
   "cell_type": "markdown",
   "metadata": {},
   "source": [
    "#### Create a new subject for the new project:"
   ]
  },
  {
   "cell_type": "code",
   "execution_count": 7,
   "metadata": {},
   "outputs": [],
   "source": [
    "newSubjectName = 'PGM-002_copy'"
   ]
  },
  {
   "cell_type": "code",
   "execution_count": 11,
   "metadata": {},
   "outputs": [
    {
     "name": "stderr",
     "output_type": "stream",
     "text": [
      "[2020-02-07 16:38:11,486] DEBUG: core:171 >> PUT URI: /data/archive/projects/BrainTumorProg_copy/subjects/PGM-002_copy\n",
      "[2020-02-07 16:38:11,486] DEBUG: core:180 >> query: {'xsiType': 'xnat:subjectData', 'req_format': 'qs', 'label': 'PGM-002_copy'}\n",
      "[2020-02-07 16:38:11,487] DEBUG: session:428 >> PUT URI http://10.1.1.17/data/archive/projects/BrainTumorProg_copy/subjects/PGM-002_copy?xsiType=xnat%3AsubjectData&req_format=qs&label=PGM-002_copy\n",
      "[2020-02-07 16:38:11,487] DEBUG: session:430 >> PUT DATA None\n",
      "[2020-02-07 16:38:11,488] DEBUG: session:431 >> PUT FILES None\n",
      "[2020-02-07 16:38:11,515] DEBUG: session:307 >> Received response with status code: 200\n"
     ]
    }
   ],
   "source": [
    "newSubjectName = 'PGM-002_copy'\n",
    "\n",
    "newSubject = session.classes.SubjectData(label='PGM-002_copy', parent=newProject)"
   ]
  },
  {
   "cell_type": "code",
   "execution_count": 12,
   "metadata": {},
   "outputs": [
    {
     "name": "stderr",
     "output_type": "stream",
     "text": [
      "[2020-02-07 16:38:12,709] DEBUG: session:334 >> GET URI http://10.1.1.17/data/archive/projects/BrainTumorProg_copy/subjects/PGM-002_copy?format=json\n",
      "[2020-02-07 16:38:12,885] DEBUG: session:307 >> Received response with status code: 200\n"
     ]
    },
    {
     "data": {
      "text/plain": [
       "<SubjectData PGM-002_copy (XNAT_S00006)>"
      ]
     },
     "execution_count": 12,
     "metadata": {},
     "output_type": "execute_result"
    }
   ],
   "source": [
    "newSubject"
   ]
  },
  {
   "cell_type": "markdown",
   "metadata": {},
   "source": [
    "It worked!  And I confirmed in XNAT web interface."
   ]
  },
  {
   "cell_type": "markdown",
   "metadata": {},
   "source": [
    "#### Create a new experiment for the new subject:\n",
    "\n",
    "##### Note:  Spaces are not permitted for labels!"
   ]
  },
  {
   "cell_type": "code",
   "execution_count": 8,
   "metadata": {},
   "outputs": [],
   "source": [
    "newExperimentName = 'PGM-002_copy_MR_2'"
   ]
  },
  {
   "cell_type": "code",
   "execution_count": 55,
   "metadata": {},
   "outputs": [
    {
     "name": "stderr",
     "output_type": "stream",
     "text": [
      "[2020-02-10 16:33:20,972] DEBUG: session:334 >> GET URI http://10.1.1.17/data/archive/projects/BrainTumorProg_copy/subjects/PGM-002_copy?format=json\n",
      "[2020-02-10 16:33:21,061] DEBUG: session:307 >> Received response with status code: 200\n",
      "[2020-02-10 16:33:21,062] DEBUG: core:171 >> PUT URI: /data/archive/projects/BrainTumorProg_copy/subjects/XNAT_S00006/experiments/PGM-002_copy_MR_2\n",
      "[2020-02-10 16:33:21,062] DEBUG: core:180 >> query: {'xsiType': 'xnat:mrSessionData', 'req_format': 'qs', 'label': 'PGM-002_copy_MR_2'}\n",
      "[2020-02-10 16:33:21,063] DEBUG: session:428 >> PUT URI http://10.1.1.17/data/archive/projects/BrainTumorProg_copy/subjects/XNAT_S00006/experiments/PGM-002_copy_MR_2?xsiType=xnat%3AmrSessionData&req_format=qs&label=PGM-002_copy_MR_2\n",
      "[2020-02-10 16:33:21,063] DEBUG: session:430 >> PUT DATA None\n",
      "[2020-02-10 16:33:21,065] DEBUG: session:431 >> PUT FILES None\n",
      "[2020-02-10 16:33:21,108] DEBUG: session:307 >> Received response with status code: 200\n"
     ]
    }
   ],
   "source": [
    "# Charlie Moore has replied to my question here:\n",
    "\n",
    "# https://groups.google.com/forum/#!msg/xnat_discussion/vYJuSZ6MbmI/dTnKfU5_BQAJ\n",
    "\n",
    "# saying that \"I believe XNAT prohibits use of the space character in experiment labels. \n",
    "# Could you try this again without the space in your “label” value?\"\n",
    "\n",
    "newExperimentName = 'PGM-002_copy_MR_2'\n",
    "\n",
    "newExperiment = session.classes.MrSessionData(label=newExperimentName, parent=newSubject)"
   ]
  },
  {
   "cell_type": "code",
   "execution_count": 56,
   "metadata": {},
   "outputs": [
    {
     "name": "stderr",
     "output_type": "stream",
     "text": [
      "[2020-02-10 16:33:24,173] DEBUG: session:334 >> GET URI http://10.1.1.17/data/archive/projects/BrainTumorProg_copy/subjects/XNAT_S00006/experiments/PGM-002_copy_MR_2?format=json\n",
      "[2020-02-10 16:33:24,209] DEBUG: session:307 >> Received response with status code: 200\n"
     ]
    },
    {
     "data": {
      "text/plain": [
       "<MrSessionData PGM-002_copy_MR_2 (XNAT_E00015)>"
      ]
     },
     "execution_count": 56,
     "metadata": {},
     "output_type": "execute_result"
    }
   ],
   "source": [
    "newExperiment"
   ]
  },
  {
   "cell_type": "markdown",
   "metadata": {},
   "source": [
    "#### SUCCESS!  Seems I was confusing \"Label\" with \"Experiment\".  I thought I was supposed to assign the label \"MR Session\" in the same way that in the web interface I would need to select the type of experiment, e.g. \"MR Session\", \"CT Session\", etc."
   ]
  },
  {
   "cell_type": "markdown",
   "metadata": {},
   "source": [
    "#### Need to continue from here now that I've managed to create an experiment without using the WI.  Need to make sense of what I've done so far.."
   ]
  },
  {
   "cell_type": "code",
   "execution_count": null,
   "metadata": {},
   "outputs": [],
   "source": []
  },
  {
   "cell_type": "code",
   "execution_count": null,
   "metadata": {},
   "outputs": [],
   "source": []
  },
  {
   "cell_type": "markdown",
   "metadata": {},
   "source": [
    "Then I found this thread:\n",
    "https://groups.google.com/forum/#!topic/xnat_discussion/dmM9_cwbn38\n",
    "\n",
    "So will try using .classes.ResourceCatalog():"
   ]
  },
  {
   "cell_type": "code",
   "execution_count": 21,
   "metadata": {},
   "outputs": [
    {
     "name": "stderr",
     "output_type": "stream",
     "text": [
      "[2020-02-10 10:13:31,129] DEBUG: session:334 >> GET URI http://10.1.1.17/data/archive/projects/BrainTumorProg_copy/subjects/PGM-002_copy?format=json\n",
      "[2020-02-10 10:13:31,198] DEBUG: session:307 >> Received response with status code: 200\n",
      "[2020-02-10 10:13:31,199] DEBUG: core:171 >> PUT URI: /data/archive/projects/BrainTumorProg_copy/subjects/XNAT_S00006/resources/PGM-002_copy_MR_2_2\n",
      "[2020-02-10 10:13:31,199] DEBUG: core:180 >> query: {'xsiType': 'xnat:resourceCatalog', 'req_format': 'qs', 'label': 'PGM-002_copy_MR_2_2'}\n",
      "[2020-02-10 10:13:31,200] DEBUG: session:428 >> PUT URI http://10.1.1.17/data/archive/projects/BrainTumorProg_copy/subjects/XNAT_S00006/resources/PGM-002_copy_MR_2_2?xsiType=xnat%3AresourceCatalog&req_format=qs&label=PGM-002_copy_MR_2_2\n",
      "[2020-02-10 10:13:31,201] DEBUG: session:430 >> PUT DATA None\n",
      "[2020-02-10 10:13:31,201] DEBUG: session:431 >> PUT FILES None\n",
      "[2020-02-10 10:13:31,405] DEBUG: session:307 >> Received response with status code: 200\n"
     ]
    }
   ],
   "source": [
    "newExperiment2 = session.classes.ResourceCatalog(parent=newSubject, label='PGM-002_copy_MR_2_2')"
   ]
  },
  {
   "cell_type": "code",
   "execution_count": 22,
   "metadata": {},
   "outputs": [
    {
     "name": "stderr",
     "output_type": "stream",
     "text": [
      "[2020-02-10 10:13:35,419] DEBUG: session:334 >> GET URI http://10.1.1.17/data/archive/projects/BrainTumorProg_copy/subjects/XNAT_S00006/resources/PGM-002_copy_MR_2_2?format=json\n",
      "[2020-02-10 10:13:35,464] DEBUG: session:307 >> Received response with status code: 200\n",
      "[2020-02-10 10:13:35,465] DEBUG: session:334 >> GET URI http://10.1.1.17/data/archive/projects/BrainTumorProg_copy/subjects/XNAT_S00006/resources?format=json\n",
      "[2020-02-10 10:13:35,498] DEBUG: session:307 >> Received response with status code: 200\n"
     ]
    },
    {
     "data": {
      "text/plain": [
       "<ResourceCatalog PGM-002_copy_MR_2_2 (PGM-002_copy_MR_2_2)>"
      ]
     },
     "execution_count": 22,
     "metadata": {},
     "output_type": "execute_result"
    }
   ],
   "source": [
    "newExperiment2"
   ]
  },
  {
   "cell_type": "markdown",
   "metadata": {},
   "source": [
    "I didn't get an error, so I thought it worked.  But I didn't see any change in the web interface.  So not sure what it has done."
   ]
  },
  {
   "cell_type": "markdown",
   "metadata": {},
   "source": [
    "#### Returning to the MR Session that I created above, I'll see if I can upload an assessor to it."
   ]
  },
  {
   "cell_type": "code",
   "execution_count": 23,
   "metadata": {},
   "outputs": [
    {
     "data": {
      "text/plain": [
       "<XNATListing {(BrainTumorProg, Brain-Tumor-Progression Collection): <ProjectData Brain-Tumor-Progression Collection (BrainTumorProg)>, (SN2015Neuro, Softneta 2015-04-30 Neuro): <ProjectData Softneta 2015-04-30 Neuro (SN2015Neuro)>, (BrainTumorProg_copy, BrainTumorProg_copy): <ProjectData BrainTumorProg_copy (BrainTumorProg_copy)>}>"
      ]
     },
     "execution_count": 23,
     "metadata": {},
     "output_type": "execute_result"
    }
   ],
   "source": [
    "session.projects"
   ]
  },
  {
   "cell_type": "code",
   "execution_count": 24,
   "metadata": {},
   "outputs": [
    {
     "data": {
      "text/plain": [
       "<ProjectData BrainTumorProg_copy (BrainTumorProg_copy)>"
      ]
     },
     "execution_count": 24,
     "metadata": {},
     "output_type": "execute_result"
    }
   ],
   "source": [
    "session.projects[newProjectName]"
   ]
  },
  {
   "cell_type": "code",
   "execution_count": 25,
   "metadata": {},
   "outputs": [
    {
     "data": {
      "text/plain": [
       "<SubjectData PGM-002_copy (XNAT_S00006)>"
      ]
     },
     "execution_count": 25,
     "metadata": {},
     "output_type": "execute_result"
    }
   ],
   "source": [
    "session.projects[newProjectName].subjects[newSubjectName]"
   ]
  },
  {
   "cell_type": "code",
   "execution_count": 29,
   "metadata": {},
   "outputs": [
    {
     "data": {
      "text/plain": [
       "<MrSessionData PGM-002_copy_MR_2 (XNAT_E00017)>"
      ]
     },
     "execution_count": 29,
     "metadata": {},
     "output_type": "execute_result"
    }
   ],
   "source": [
    "session.projects[newProjectName].subjects[newSubjectName].experiments[newExperimentName]"
   ]
  },
  {
   "cell_type": "code",
   "execution_count": 57,
   "metadata": {},
   "outputs": [
    {
     "name": "stderr",
     "output_type": "stream",
     "text": [
      "[2020-02-10 16:33:42,108] DEBUG: session:334 >> GET URI http://10.1.1.17/data/archive/projects/BrainTumorProg_copy/subjects/XNAT_S00006/experiments/XNAT_E00015/resources?columns=ID%2CURI%2Clabel%2CxsiType&format=json\n",
      "[2020-02-10 16:33:42,133] DEBUG: session:307 >> Received response with status code: 200\n"
     ]
    },
    {
     "data": {
      "text/plain": [
       "<XNATListing {}>"
      ]
     },
     "execution_count": 57,
     "metadata": {},
     "output_type": "execute_result"
    }
   ],
   "source": [
    "newExperiment.resources"
   ]
  },
  {
   "cell_type": "code",
   "execution_count": 34,
   "metadata": {},
   "outputs": [
    {
     "data": {
      "text/plain": [
       "['AbstractDemographicData',\n",
       " 'AbstractExecutionEnvironment',\n",
       " 'AbstractProtocol',\n",
       " 'AbstractResource',\n",
       " 'AbstractResourceTags',\n",
       " 'AbstractStatistics',\n",
       " 'AbstractSubjectMetadata',\n",
       " 'AccessLog',\n",
       " 'ActionType',\n",
       " 'AddField',\n",
       " 'AddFieldString',\n",
       " 'AddIDString',\n",
       " 'AdditionalStatisticsDouble',\n",
       " 'AdditionalVal',\n",
       " 'Algorithm',\n",
       " 'AliasString',\n",
       " 'BuildData',\n",
       " 'BytesIO',\n",
       " 'Catalog',\n",
       " 'CatalogMetafields',\n",
       " 'ChangeInfo',\n",
       " 'CommentString',\n",
       " 'CompilerString',\n",
       " 'ComputationData',\n",
       " 'ContentString',\n",
       " 'ContrastBolus',\n",
       " 'CrScanData',\n",
       " 'CrSessionData',\n",
       " 'Criteria',\n",
       " 'CriteriaSet',\n",
       " 'CsvValuesString',\n",
       " 'CtScanData',\n",
       " 'CtScanDataDcmvalidation',\n",
       " 'CtScanDataParameters',\n",
       " 'CtScanDataParametersCollimationwidth',\n",
       " 'CtScanDataParametersDerivation',\n",
       " 'CtScanDataParametersEstimateddosesaving',\n",
       " 'CtScanDataParametersFov',\n",
       " 'CtScanDataParametersRescale',\n",
       " 'CtScanDataParametersVoxelres',\n",
       " 'CtSessionData',\n",
       " 'DatatypeProtocol',\n",
       " 'DcmCatalog',\n",
       " 'DcmCatalogDimensions',\n",
       " 'DcmCatalogVoxelres',\n",
       " 'DcmEntry',\n",
       " 'DcmValidationString',\n",
       " 'DelayInteger',\n",
       " 'DemographicData',\n",
       " 'DemographicDataHeight',\n",
       " 'DemographicDataWeight',\n",
       " 'DerivationString',\n",
       " 'DerivedData',\n",
       " 'DicomCodedValue',\n",
       " 'DicomSeries',\n",
       " 'DicomSeriesDimensions',\n",
       " 'DicomSeriesImageset',\n",
       " 'DicomSeriesVoxelres',\n",
       " 'DoseFloat',\n",
       " 'Dx3DCraniofacialScanData',\n",
       " 'Dx3DCraniofacialSessionData',\n",
       " 'DxScanData',\n",
       " 'DxSessionData',\n",
       " 'EcatValidationString',\n",
       " 'EcgScanData',\n",
       " 'EcgSessionData',\n",
       " 'EegScanData',\n",
       " 'EegScanDataChannels',\n",
       " 'EegScanDataParameters',\n",
       " 'EegScanDataParametersDatarecord',\n",
       " 'EegScanDataSoftwarefiltersimpedances',\n",
       " 'EegScanDataSoftwarefiltersimpedancesImpedance',\n",
       " 'EegSessionData',\n",
       " 'EegSessionDataSamplinginterval',\n",
       " 'EegSessionDataSamplingrate',\n",
       " 'ElementActionType',\n",
       " 'ElementSecurity',\n",
       " 'ElementSecurityListingActions',\n",
       " 'Entry',\n",
       " 'EntryMetafields',\n",
       " 'EpsScanData',\n",
       " 'EpsSessionData',\n",
       " 'EsScanData',\n",
       " 'EsSessionData',\n",
       " 'EstimatedDoseSavingFloat',\n",
       " 'EsvScanData',\n",
       " 'EsvSessionData',\n",
       " 'ExperimentData',\n",
       " 'ExperimentDataDelay',\n",
       " 'ExperimentDataFields',\n",
       " 'ExperimentDataSharing',\n",
       " 'FieldDefinitionGroup',\n",
       " 'FieldDefinitionGroupFields',\n",
       " 'FieldDefinitionGroupFieldsFieldPossiblevalues',\n",
       " 'FieldMapping',\n",
       " 'FieldMappingSet',\n",
       " 'FieldSpecification',\n",
       " 'FieldSpecificationString',\n",
       " 'FieldString',\n",
       " 'FieldType',\n",
       " 'FieldTypeContent',\n",
       " 'FieldTypeHtmlImage',\n",
       " 'FieldTypeHtmlLink',\n",
       " 'FieldTypeHtmlLinkProperty',\n",
       " 'FieldTypeHtmlLinkPropertyInsertvalue',\n",
       " 'FieldTypeHtmlLinkSecurelink',\n",
       " 'FieldTypeHtmlLinkSecurelinkSecuritymappingvalue',\n",
       " 'FileData',\n",
       " 'GenericData',\n",
       " 'GmScanData',\n",
       " 'GmSessionData',\n",
       " 'GmvScanData',\n",
       " 'GmvSessionData',\n",
       " 'GzipFile',\n",
       " 'HTMLCell',\n",
       " 'HdScanData',\n",
       " 'HdSessionData',\n",
       " 'HeightFloat',\n",
       " 'History',\n",
       " 'ImageAssessorData',\n",
       " 'ImageResource',\n",
       " 'ImageResourceDimensions',\n",
       " 'ImageResourceSeries',\n",
       " 'ImageResourceSeriesDimensions',\n",
       " 'ImageResourceSeriesVoxelres',\n",
       " 'ImageResourceVoxelres',\n",
       " 'ImageScanData',\n",
       " 'ImageScanDataScanner',\n",
       " 'ImageScanDataSharing',\n",
       " 'ImageSessionData',\n",
       " 'ImageSessionDataPipeline',\n",
       " 'ImageSessionDataScanner',\n",
       " 'InfoEntry',\n",
       " 'IntermediateFloat',\n",
       " 'InvestigatorData',\n",
       " 'IoScanData',\n",
       " 'IoSessionData',\n",
       " 'IsotopeString',\n",
       " 'LONGVARCHAR',\n",
       " 'LabelString',\n",
       " 'LayoutDescription',\n",
       " 'LayoutDescriptionCoordinates',\n",
       " 'LibraryString',\n",
       " 'MegScanData',\n",
       " 'MegSessionData',\n",
       " 'MetaData',\n",
       " 'MetaFieldString',\n",
       " 'MgScanData',\n",
       " 'MgSessionData',\n",
       " 'MrAssessorData',\n",
       " 'MrQcScanData',\n",
       " 'MrScanData',\n",
       " 'MrScanDataDcmvalidation',\n",
       " 'MrScanDataParameters',\n",
       " 'MrScanDataParametersDiffusion',\n",
       " 'MrScanDataParametersFov',\n",
       " 'MrScanDataParametersInplanephaseencoding',\n",
       " 'MrScanDataParametersMatrix',\n",
       " 'MrScanDataParametersVoxelres',\n",
       " 'MrSessionData',\n",
       " 'MrsScanData',\n",
       " 'NewsEntry',\n",
       " 'NmScanData',\n",
       " 'NmSessionData',\n",
       " 'OpScanData',\n",
       " 'OpSessionData',\n",
       " 'OptScanData',\n",
       " 'OptScanDataDcmvalidation',\n",
       " 'OptScanDataParameters',\n",
       " 'OptScanDataParametersFov',\n",
       " 'OptScanDataParametersVoxelres',\n",
       " 'OptSessionData',\n",
       " 'OtherDicomScanData',\n",
       " 'OtherDicomSessionData',\n",
       " 'OtherQcScanData',\n",
       " 'PVisitData',\n",
       " 'PYDICOM_LOADED',\n",
       " 'ParameterString',\n",
       " 'PathInfo',\n",
       " 'PetAssessorData',\n",
       " 'PetQcScanData',\n",
       " 'PetScanData',\n",
       " 'PetScanDataEcatvalidation',\n",
       " 'PetScanDataParameters',\n",
       " 'PetScanDataParametersDimensions',\n",
       " 'PetScanDataParametersFilter',\n",
       " 'PetScanDataParametersFrames',\n",
       " 'PetScanDataParametersFramesFrame',\n",
       " 'PetScanDataParametersOffset',\n",
       " 'PetScanDataParametersPixelsize',\n",
       " 'PetScanDataParametersResolution',\n",
       " 'PetScanDataParametersRfilter',\n",
       " 'PetScanDataParametersZfilter',\n",
       " 'PetSessionData',\n",
       " 'PetSessionDataTracer',\n",
       " 'PetSessionDataTracerDose',\n",
       " 'PetSessionDataTracerIntermediate',\n",
       " 'PetSessionDataTracerIsotope',\n",
       " 'PetSessionDataTracerTotalmass',\n",
       " 'PetmrSessionData',\n",
       " 'PetmrSessionDataTracer',\n",
       " 'PetmrSessionDataTracerDose',\n",
       " 'PetmrSessionDataTracerIntermediate',\n",
       " 'PetmrSessionDataTracerIsotope',\n",
       " 'PetmrSessionDataTracerTotalmass',\n",
       " 'PipelineData',\n",
       " 'PipelineDetails',\n",
       " 'PipelineDetailsParameters',\n",
       " 'PipelineDetailsParametersParameterValues',\n",
       " 'PipelineParameterData',\n",
       " 'PipelineParameterDataCsvvalues',\n",
       " 'PipelineParameterDataParameter',\n",
       " 'PlatformString',\n",
       " 'PlexiViewerType',\n",
       " 'PlexiViewerTypeViewableitem',\n",
       " 'PlexiViewerTypeViewableitemHiRes',\n",
       " 'PlexiViewerTypeViewableitemHiResLayer',\n",
       " 'PlexiViewerTypeViewableitemHiResLayoutref',\n",
       " 'PlexiViewerTypeViewableitemLoRes',\n",
       " 'PlexiViewerTypeViewableitemLoResParameter',\n",
       " 'PlexiViewerTypeViewableitemSchemalink',\n",
       " 'PlexiViewerTypeViewableitemThumbnail',\n",
       " 'PlexiViewerTypeViewableitemThumbnailSlice',\n",
       " 'PlexiViewerTypeViewableitemUserinterface',\n",
       " 'PlexiViewerTypeViewableitemUserinterfaceLinkeddropdown',\n",
       " 'PossibleValueString',\n",
       " 'PrimaryPasswordString',\n",
       " 'PrimarySecurityField',\n",
       " 'PrimarySecurityFieldString',\n",
       " 'Process',\n",
       " 'ProcessStep',\n",
       " 'ProcessStepCompiler',\n",
       " 'ProcessStepLibrary',\n",
       " 'ProcessStepPlatform',\n",
       " 'ProcessStepProgram',\n",
       " 'ProgramString',\n",
       " 'Project',\n",
       " 'ProjectData',\n",
       " 'ProjectDataAliases',\n",
       " 'ProjectDataFields',\n",
       " 'ProjectParticipant',\n",
       " 'ProjectPipelines',\n",
       " 'ProjectPipelinesDescendants',\n",
       " 'ProjectPipelinesDescendantsDescendantPipeline',\n",
       " 'ProjectPipelinesPipeline',\n",
       " 'Property',\n",
       " 'PropertyString',\n",
       " 'ProtocolData',\n",
       " 'ProtocolDataCheck',\n",
       " 'ProtocolDataCheckComments',\n",
       " 'ProtocolDataCheckConditions',\n",
       " 'ProtocolDataScans',\n",
       " 'ProtocolDataScansScanCheckComments',\n",
       " 'ProtocolDataScansScanCheckConditions',\n",
       " 'PublicationResource',\n",
       " 'QcAssessmentData',\n",
       " 'QcAssessmentDataScans',\n",
       " 'QcAssessmentDataScansScanSliceqc',\n",
       " 'QcManualAssessorData',\n",
       " 'QcScanData',\n",
       " 'QcScanDataFields',\n",
       " 'QcScanDataRating',\n",
       " 'RatingString',\n",
       " 'ReconstructedImageData',\n",
       " 'RegionResource',\n",
       " 'RegionResourceCreator',\n",
       " 'RegionResourceSubregionlabels',\n",
       " 'RequestsFileLike',\n",
       " 'Resource',\n",
       " 'ResourceCatalog',\n",
       " 'ResourceSeries',\n",
       " 'RfScanData',\n",
       " 'RfSessionData',\n",
       " 'RoiCollectionData',\n",
       " 'RoleType',\n",
       " 'RtImageScanData',\n",
       " 'RtSessionData',\n",
       " 'SESSION',\n",
       " 'SamplingIntervalFloat',\n",
       " 'SamplingRateFloat',\n",
       " 'ScScanData',\n",
       " 'ScannerString',\n",
       " 'SchemaLinkType',\n",
       " 'ScidResearchData',\n",
       " 'ScidResearchDataAnxietydisorders',\n",
       " 'ScidResearchDataEatingdisorders',\n",
       " 'ScidResearchDataMooddisorders',\n",
       " 'ScidResearchDataMoodepisodes',\n",
       " 'ScidResearchDataOptional',\n",
       " 'ScidResearchDataPsychoticdisorders',\n",
       " 'ScidResearchDataPsychoticsymptoms',\n",
       " 'ScidResearchDataSomatoformdisorders',\n",
       " 'ScidResearchDataSubstanceusedisorders',\n",
       " 'ScreeningAssessment',\n",
       " 'ScreeningScanData',\n",
       " 'SearchField',\n",
       " 'SegScanData',\n",
       " 'ShareString',\n",
       " 'SideEffectsPittsburghData',\n",
       " 'SmScanData',\n",
       " 'SmSessionData',\n",
       " 'SrScanData',\n",
       " 'SrSessionData',\n",
       " 'StatisticsData',\n",
       " 'StatisticsDataAddfield',\n",
       " 'StatisticsDataAdditionalstatistics',\n",
       " 'StoredSearch',\n",
       " 'StoredSearchAllowedUser',\n",
       " 'StoredSearchSortBy',\n",
       " 'StudyProtocol',\n",
       " 'StudyProtocolAcqconditions',\n",
       " 'StudyProtocolImagesessiontypes',\n",
       " 'StudyProtocolSubjectgroups',\n",
       " 'StudyProtocolSubjectvariables',\n",
       " 'SubQueryField',\n",
       " 'SubQueryFieldMappingcolumns',\n",
       " 'SubjectAssessorData',\n",
       " 'SubjectData',\n",
       " 'SubjectDataAddid',\n",
       " 'SubjectDataFields',\n",
       " 'SubjectMetadata',\n",
       " 'SubjectVariablesData',\n",
       " 'SubjectVariablesDataVariables',\n",
       " 'TagString',\n",
       " 'TarFile',\n",
       " 'TotalMassFloat',\n",
       " 'Updrs3Data',\n",
       " 'Updrs3DataActionposturaltremor',\n",
       " 'Updrs3DataClicker',\n",
       " 'Updrs3DataFingertaps',\n",
       " 'Updrs3DataFoottaps',\n",
       " 'Updrs3DataHandmovementsgrip',\n",
       " 'Updrs3DataHandsram',\n",
       " 'Updrs3DataRigidity',\n",
       " 'Updrs3DataTremorrest',\n",
       " 'UsScanData',\n",
       " 'UsSessionData',\n",
       " 'User',\n",
       " 'UserGroup',\n",
       " 'UserLogin',\n",
       " 'UserPrimaryPassword',\n",
       " 'ValidationData',\n",
       " 'VariableString',\n",
       " 'VoiceAudioScanData',\n",
       " 'VolumetricRegion',\n",
       " 'VolumetricRegionSubregions',\n",
       " 'WeightFloat',\n",
       " 'WorkflowData',\n",
       " 'XNATListing',\n",
       " 'XNATNestedObject',\n",
       " 'XNATNestedObjectMixin',\n",
       " 'XNATObject',\n",
       " 'XNATObjectMixin',\n",
       " 'XNATSimpleListing',\n",
       " 'XNATSubListing',\n",
       " 'XNATSubObject',\n",
       " 'XNATSubObjectMixin',\n",
       " 'XNAT_CLASS_LOOKUP',\n",
       " 'Xa3DScanData',\n",
       " 'Xa3DSessionData',\n",
       " 'XaScanData',\n",
       " 'XaScanDataParameters',\n",
       " 'XaScanDataParametersFov',\n",
       " 'XaScanDataParametersPixelres',\n",
       " 'XaSessionData',\n",
       " 'XcScanData',\n",
       " 'XcSessionData',\n",
       " 'XcvScanData',\n",
       " 'XcvSessionData',\n",
       " 'XnatExecutionEnvironment',\n",
       " 'XnatExecutionEnvironmentParameterfile',\n",
       " 'XnatExecutionEnvironmentParameters',\n",
       " 'YbocsData',\n",
       " 'YgtssData',\n",
       " 'YgtssDataMotor',\n",
       " 'YgtssDataPhonic',\n",
       " 'ZipFile',\n",
       " '_SOURCE_CODE_FILE',\n",
       " '__builtins__',\n",
       " '__cached__',\n",
       " '__doc__',\n",
       " '__file__',\n",
       " '__loader__',\n",
       " '__name__',\n",
       " '__package__',\n",
       " '__spec__',\n",
       " 'absolute_import',\n",
       " 'caching',\n",
       " 'current_session',\n",
       " 'mixedproperty',\n",
       " 'mixin',\n",
       " 'os',\n",
       " 'pydicom',\n",
       " 'search',\n",
       " 'tempfile',\n",
       " 'unicode_literals']"
      ]
     },
     "execution_count": 34,
     "metadata": {},
     "output_type": "execute_result"
    }
   ],
   "source": [
    "dir(session.classes)"
   ]
  },
  {
   "cell_type": "markdown",
   "metadata": {},
   "source": [
    "#### Following example of \"Object creation\" in XNATpy tutorial, I'll try to create a new RoiCollectionData:"
   ]
  },
  {
   "cell_type": "code",
   "execution_count": 71,
   "metadata": {},
   "outputs": [
    {
     "name": "stderr",
     "output_type": "stream",
     "text": [
      "[2020-02-11 16:35:50,840] DEBUG: core:171 >> PUT URI: /data/archive/projects/BrainTumorProg_copy/subjects/XNAT_S00006/experiments/XNAT_E00015/assessors/ROI_tumour\n",
      "[2020-02-11 16:35:50,842] DEBUG: core:180 >> query: {'xsiType': 'icr:roiCollectionData', 'req_format': 'qs', 'label': 'ROI_tumour'}\n",
      "[2020-02-11 16:35:50,843] DEBUG: session:428 >> PUT URI http://10.1.1.17/data/archive/projects/BrainTumorProg_copy/subjects/XNAT_S00006/experiments/XNAT_E00015/assessors/ROI_tumour?xsiType=icr%3AroiCollectionData&req_format=qs&label=ROI_tumour\n",
      "[2020-02-11 16:35:50,845] DEBUG: session:430 >> PUT DATA None\n",
      "[2020-02-11 16:35:50,845] DEBUG: session:431 >> PUT FILES None\n",
      "[2020-02-11 16:35:51,237] DEBUG: session:307 >> Received response with status code: 200\n"
     ]
    }
   ],
   "source": [
    "ROIcollection = session.classes.RoiCollectionData(parent=newExperiment, label='ROI_tumour')"
   ]
  },
  {
   "cell_type": "markdown",
   "metadata": {},
   "source": [
    "#### The above command didn't work previously (status 500 error).  So maybe that is a GET command rather than a PUT command, and worked this time because I've since created an assessor with the label ROI_tumour (see below). "
   ]
  },
  {
   "cell_type": "code",
   "execution_count": 72,
   "metadata": {},
   "outputs": [
    {
     "name": "stderr",
     "output_type": "stream",
     "text": [
      "[2020-02-11 16:38:48,371] DEBUG: session:334 >> GET URI http://10.1.1.17/data/archive/projects/BrainTumorProg_copy/subjects/XNAT_S00006/experiments/XNAT_E00015/assessors/ROI_tumour?format=json\n",
      "[2020-02-11 16:38:48,472] DEBUG: session:307 >> Received response with status code: 200\n"
     ]
    },
    {
     "data": {
      "text/plain": [
       "<RoiCollectionData ROI_tumour (XNAT_E00025)>"
      ]
     },
     "execution_count": 72,
     "metadata": {},
     "output_type": "execute_result"
    }
   ],
   "source": [
    "ROIcollection"
   ]
  },
  {
   "cell_type": "code",
   "execution_count": 78,
   "metadata": {},
   "outputs": [],
   "source": [
    "# ROIcollection.items() # AttributeError: 'RoiCollectionData' object has no attribute 'items'\n",
    "# ROIcollection.values() # AttributeError: 'RoiCollectionData' object has no attribute 'values'\n",
    "# ROIcollection.elements() # AttributeError: 'RoiCollectionData' object has no attribute 'elements'"
   ]
  },
  {
   "cell_type": "code",
   "execution_count": null,
   "metadata": {},
   "outputs": [],
   "source": []
  },
  {
   "cell_type": "markdown",
   "metadata": {},
   "source": [
    "#### The following cells were executed previously:"
   ]
  },
  {
   "cell_type": "markdown",
   "metadata": {},
   "source": [
    "Create an assessor following Hakim's guidance here:\n",
    "https://groups.google.com/forum/#!searchin/xnat_discussion/xnatpy$20status$20500|sort:date/xnat_discussion/N7i2tS5MleE/7Sxlr7JIBAAJ"
   ]
  },
  {
   "cell_type": "code",
   "execution_count": 59,
   "metadata": {},
   "outputs": [
    {
     "name": "stderr",
     "output_type": "stream",
     "text": [
      "[2020-02-10 16:34:12,164] DEBUG: session:428 >> PUT URI http://10.1.1.17/data/archive/projects/BrainTumorProg_copy/subjects/XNAT_S00006/experiments/XNAT_E00015/assessors/ROI_tumour?xsiType=xnat:qcAssessmentData&label=ROI_tumour&req_format=qs\n",
      "[2020-02-10 16:34:12,165] DEBUG: session:430 >> PUT DATA None\n",
      "[2020-02-10 16:34:12,165] DEBUG: session:431 >> PUT FILES None\n",
      "[2020-02-10 16:34:12,325] DEBUG: session:307 >> Received response with status code: 201\n",
      "[2020-02-10 16:34:12,326] DEBUG: session:334 >> GET URI http://10.1.1.17/data/archive/projects/BrainTumorProg_copy/subjects/XNAT_S00006/experiments/PGM-002_copy_MR_2?format=json\n",
      "[2020-02-10 16:34:12,422] DEBUG: session:307 >> Received response with status code: 200\n",
      "[2020-02-10 16:34:12,423] DEBUG: session:746 >> Looking up type xnat:qcAssessmentData [str]\n",
      "[2020-02-10 16:34:12,423] DEBUG: session:753 >> Creating object of type <class 'xnat_gen_540681bf052587e8ba9fee53609ca631.QcAssessmentData'>\n",
      "[2020-02-10 16:34:12,425] DEBUG: session:334 >> GET URI http://10.1.1.17/data/archive/projects/BrainTumorProg_copy/subjects/XNAT_S00006/experiments/XNAT_E00015/assessors/ROI_tumour?format=json\n",
      "[2020-02-10 16:34:12,472] DEBUG: session:307 >> Received response with status code: 200\n"
     ]
    },
    {
     "data": {
      "text/plain": [
       "<QcAssessmentData ROI_tumour (XNAT_E00025)>"
      ]
     },
     "execution_count": 59,
     "metadata": {},
     "output_type": "execute_result"
    }
   ],
   "source": [
    "assessorLabel = 'ROI_tumour'\n",
    "newExperiment.create_assessor(assessorLabel, type_='xnat:qcAssessmentData')  \n",
    "# Note the xsi_type here, this can be something else if you need it to be"
   ]
  },
  {
   "cell_type": "markdown",
   "metadata": {},
   "source": [
    "This has created an Assessment with the Experiment label \"Auto QC\" in the WI."
   ]
  },
  {
   "cell_type": "code",
   "execution_count": 62,
   "metadata": {},
   "outputs": [
    {
     "ename": "AttributeError",
     "evalue": "'MrSessionData' object has no attribute 'accessors'",
     "output_type": "error",
     "traceback": [
      "\u001b[1;31m---------------------------------------------------------------------------\u001b[0m",
      "\u001b[1;31mAttributeError\u001b[0m                            Traceback (most recent call last)",
      "\u001b[1;32m<ipython-input-62-9cd2245d64f8>\u001b[0m in \u001b[0;36m<module>\u001b[1;34m\u001b[0m\n\u001b[1;32m----> 1\u001b[1;33m \u001b[0msession\u001b[0m\u001b[1;33m.\u001b[0m\u001b[0mprojects\u001b[0m\u001b[1;33m[\u001b[0m\u001b[0mnewProjectName\u001b[0m\u001b[1;33m]\u001b[0m\u001b[1;33m.\u001b[0m\u001b[0msubjects\u001b[0m\u001b[1;33m[\u001b[0m\u001b[0mnewSubjectName\u001b[0m\u001b[1;33m]\u001b[0m\u001b[1;33m.\u001b[0m\u001b[0mexperiments\u001b[0m\u001b[1;33m[\u001b[0m\u001b[0mnewExperimentName\u001b[0m\u001b[1;33m]\u001b[0m\u001b[1;33m.\u001b[0m\u001b[0maccessors\u001b[0m\u001b[1;33m[\u001b[0m\u001b[0massessorLabel\u001b[0m\u001b[1;33m]\u001b[0m\u001b[1;33m\u001b[0m\u001b[1;33m\u001b[0m\u001b[0m\n\u001b[0m",
      "\u001b[1;31mAttributeError\u001b[0m: 'MrSessionData' object has no attribute 'accessors'"
     ]
    }
   ],
   "source": [
    "session.projects[newProjectName].subjects[newSubjectName].experiments[newExperimentName].accessors[assessorLabel]"
   ]
  },
  {
   "cell_type": "code",
   "execution_count": 63,
   "metadata": {},
   "outputs": [
    {
     "ename": "AttributeError",
     "evalue": "'MrSessionData' object has no attribute 'accessors'",
     "output_type": "error",
     "traceback": [
      "\u001b[1;31m---------------------------------------------------------------------------\u001b[0m",
      "\u001b[1;31mAttributeError\u001b[0m                            Traceback (most recent call last)",
      "\u001b[1;32m<ipython-input-63-3104935a679c>\u001b[0m in \u001b[0;36m<module>\u001b[1;34m\u001b[0m\n\u001b[1;32m----> 1\u001b[1;33m \u001b[0msession\u001b[0m\u001b[1;33m.\u001b[0m\u001b[0mprojects\u001b[0m\u001b[1;33m[\u001b[0m\u001b[0mnewProjectName\u001b[0m\u001b[1;33m]\u001b[0m\u001b[1;33m.\u001b[0m\u001b[0msubjects\u001b[0m\u001b[1;33m[\u001b[0m\u001b[0mnewSubjectName\u001b[0m\u001b[1;33m]\u001b[0m\u001b[1;33m.\u001b[0m\u001b[0mexperiments\u001b[0m\u001b[1;33m[\u001b[0m\u001b[0mnewExperimentName\u001b[0m\u001b[1;33m]\u001b[0m\u001b[1;33m.\u001b[0m\u001b[0maccessors\u001b[0m\u001b[1;33m\u001b[0m\u001b[1;33m\u001b[0m\u001b[0m\n\u001b[0m",
      "\u001b[1;31mAttributeError\u001b[0m: 'MrSessionData' object has no attribute 'accessors'"
     ]
    }
   ],
   "source": [
    "session.projects[newProjectName].subjects[newSubjectName].experiments[newExperimentName].accessors"
   ]
  },
  {
   "cell_type": "markdown",
   "metadata": {},
   "source": [
    "#### I don't understand why I got those outputs.."
   ]
  },
  {
   "cell_type": "code",
   "execution_count": 60,
   "metadata": {},
   "outputs": [
    {
     "ename": "TypeError",
     "evalue": "create_assessor() got an unexpected keyword argument 'files'",
     "output_type": "error",
     "traceback": [
      "\u001b[1;31m---------------------------------------------------------------------------\u001b[0m",
      "\u001b[1;31mTypeError\u001b[0m                                 Traceback (most recent call last)",
      "\u001b[1;32m<ipython-input-60-2a8ab421b5f5>\u001b[0m in \u001b[0;36m<module>\u001b[1;34m\u001b[0m\n\u001b[0;32m      1\u001b[0m \u001b[1;31m# Now see if I can add files:\u001b[0m\u001b[1;33m\u001b[0m\u001b[1;33m\u001b[0m\u001b[1;33m\u001b[0m\u001b[0m\n\u001b[0;32m      2\u001b[0m \u001b[1;33m\u001b[0m\u001b[0m\n\u001b[1;32m----> 3\u001b[1;33m \u001b[0mnewExperiment\u001b[0m\u001b[1;33m.\u001b[0m\u001b[0mcreate_assessor\u001b[0m\u001b[1;33m(\u001b[0m\u001b[0massessorLabel\u001b[0m\u001b[1;33m,\u001b[0m \u001b[0mtype_\u001b[0m\u001b[1;33m=\u001b[0m\u001b[1;34m'xnat:qcAssessmentData'\u001b[0m\u001b[1;33m,\u001b[0m \u001b[0mfiles\u001b[0m\u001b[1;33m=\u001b[0m\u001b[0mroiFpathDL\u001b[0m\u001b[1;33m)\u001b[0m  \u001b[1;31m# Note the xsi_type here, this can be something else if you need it to be\u001b[0m\u001b[1;33m\u001b[0m\u001b[1;33m\u001b[0m\u001b[0m\n\u001b[0m",
      "\u001b[1;31mTypeError\u001b[0m: create_assessor() got an unexpected keyword argument 'files'"
     ]
    }
   ],
   "source": [
    "# Now see if I can add files:\n",
    "\n",
    "newExperiment.create_assessor(assessorLabel, type_='xnat:qcAssessmentData', files=roiFpathDL)  # Note the xsi_type here, this can be something else if you need it to be"
   ]
  },
  {
   "cell_type": "markdown",
   "metadata": {},
   "source": [
    "Clearly not like that."
   ]
  },
  {
   "cell_type": "code",
   "execution_count": 64,
   "metadata": {},
   "outputs": [
    {
     "data": {
      "text/plain": [
       "<MrSessionData PGM-002_copy_MR_2 (XNAT_E00017)>"
      ]
     },
     "execution_count": 64,
     "metadata": {},
     "output_type": "execute_result"
    }
   ],
   "source": [
    "assessor = session.projects[newProjectName].subjects[newSubjectName].experiments[newExperimentName]\n",
    "assessor"
   ]
  },
  {
   "cell_type": "markdown",
   "metadata": {},
   "source": [
    "#### Next will try the \"Alternative strategy (more generic)\" provided by Hakim:"
   ]
  },
  {
   "cell_type": "code",
   "execution_count": 65,
   "metadata": {
    "scrolled": true
   },
   "outputs": [
    {
     "name": "stderr",
     "output_type": "stream",
     "text": [
      "[2020-02-10 16:41:37,510] DEBUG: core:171 >> PUT URI: /data/archive/projects/BrainTumorProg_copy/subjects/XNAT_S00006/experiments/XNAT_E00015/assessors/ROI_tumour_2\n",
      "[2020-02-10 16:41:37,511] DEBUG: core:180 >> query: {'xsiType': 'xnat:qcAssessmentData', 'req_format': 'qs', 'label': 'ROI_tumour_2'}\n",
      "[2020-02-10 16:41:37,512] DEBUG: session:428 >> PUT URI http://10.1.1.17/data/archive/projects/BrainTumorProg_copy/subjects/XNAT_S00006/experiments/XNAT_E00015/assessors/ROI_tumour_2?xsiType=xnat%3AqcAssessmentData&req_format=qs&label=ROI_tumour_2\n",
      "[2020-02-10 16:41:37,512] DEBUG: session:430 >> PUT DATA None\n",
      "[2020-02-10 16:41:37,513] DEBUG: session:431 >> PUT FILES None\n",
      "[2020-02-10 16:41:37,634] DEBUG: session:307 >> Received response with status code: 201\n"
     ]
    }
   ],
   "source": [
    "assessorLabel2 = 'ROI_tumour_2'\n",
    "\n",
    "assessor = session.classes.QcAssessmentData(parent=newExperiment, label=assessorLabel2)"
   ]
  },
  {
   "cell_type": "markdown",
   "metadata": {},
   "source": [
    "This has created another Assessment with the Experiment label \"Auto QC\" in the WI."
   ]
  },
  {
   "cell_type": "markdown",
   "metadata": {},
   "source": [
    "## To summarise both of the following commands created an assessment with label \"Auto QC\":\n",
    "\n",
    "### newExperiment.create_assessor(assessorLabel, type_='xnat:qcAssessmentData')  \n",
    "\n",
    "### session.classes.QcAssessmentData(parent=newExperiment, label=assessorLabel2)"
   ]
  },
  {
   "cell_type": "code",
   "execution_count": 81,
   "metadata": {},
   "outputs": [
    {
     "name": "stderr",
     "output_type": "stream",
     "text": [
      "[2020-02-11 16:46:53,868] DEBUG: session:334 >> GET URI http://10.1.1.17/data/archive/projects/BrainTumorProg_copy/subjects/XNAT_S00006/experiments/PGM-002_copy_MR_2?format=json\n",
      "[2020-02-11 16:46:53,984] DEBUG: session:307 >> Received response with status code: 200\n",
      "[2020-02-11 16:46:53,985] DEBUG: core:171 >> PUT URI: /data/archive/projects/BrainTumorProg_copy/subjects/XNAT_S00006/experiments/XNAT_E00015/assessors/ROI_tumour_3\n",
      "[2020-02-11 16:46:53,986] DEBUG: core:180 >> query: {'xsiType': 'icr:roiCollectionData', 'req_format': 'qs', 'label': 'ROI_tumour_3'}\n",
      "[2020-02-11 16:46:53,986] DEBUG: session:428 >> PUT URI http://10.1.1.17/data/archive/projects/BrainTumorProg_copy/subjects/XNAT_S00006/experiments/XNAT_E00015/assessors/ROI_tumour_3?xsiType=icr%3AroiCollectionData&req_format=qs&label=ROI_tumour_3\n",
      "[2020-02-11 16:46:53,987] DEBUG: session:430 >> PUT DATA None\n",
      "[2020-02-11 16:46:53,988] DEBUG: session:431 >> PUT FILES None\n",
      "[2020-02-11 16:46:54,020] DEBUG: session:307 >> Received response with status code: 400\n"
     ]
    },
    {
     "ename": "XNATResponseError",
     "evalue": "Invalid response from XNATSession for url http://10.1.1.17/data/archive/projects/BrainTumorProg_copy/subjects/XNAT_S00006/experiments/XNAT_E00015/assessors/ROI_tumour_3?xsiType=icr%3AroiCollectionData&req_format=qs&label=ROI_tumour_3 (status 400):\n<html>\n<head>\n   <title>Status page</title>\n</head>\n<body>\n<h3>The content of element 'icr:roiCollectionData' is not complete. '{\"http://icr.ac.uk/icr\":UID}' Required Field\nThe content of element 'icr:roiCollectionData' is not complete. '{\"http://icr.ac.uk/icr\":collectionType}' Required Field\nThe content of element 'icr:roiCollectionData' is not complete. '{\"http://icr.ac.uk/icr\":subjectID}' Required Field\n</h3><p>You can get technical details <a href=\"http://www.w3.org/Protocols/rfc2616/rfc2616-sec10.html#sec10.4.1\">here</a>.<br>\nPlease continue your visit at our <a href=\"/\">home page</a>.\n</p>\n</body>\n</html>\n",
     "output_type": "error",
     "traceback": [
      "\u001b[1;31m---------------------------------------------------------------------------\u001b[0m",
      "\u001b[1;31mXNATResponseError\u001b[0m                         Traceback (most recent call last)",
      "\u001b[1;32m<ipython-input-81-048b20eafa0e>\u001b[0m in \u001b[0;36m<module>\u001b[1;34m\u001b[0m\n\u001b[0;32m      4\u001b[0m \u001b[1;33m\u001b[0m\u001b[0m\n\u001b[0;32m      5\u001b[0m \u001b[1;33m\u001b[0m\u001b[0m\n\u001b[1;32m----> 6\u001b[1;33m \u001b[0msession\u001b[0m\u001b[1;33m.\u001b[0m\u001b[0mclasses\u001b[0m\u001b[1;33m.\u001b[0m\u001b[0mRoiCollectionData\u001b[0m\u001b[1;33m(\u001b[0m\u001b[0mparent\u001b[0m\u001b[1;33m=\u001b[0m\u001b[0mnewExperiment\u001b[0m\u001b[1;33m,\u001b[0m \u001b[0mlabel\u001b[0m\u001b[1;33m=\u001b[0m\u001b[0massessorLabel3\u001b[0m\u001b[1;33m)\u001b[0m\u001b[1;33m\u001b[0m\u001b[1;33m\u001b[0m\u001b[0m\n\u001b[0m",
      "\u001b[1;32m~\\Anaconda37\\lib\\site-packages\\xnat\\core.py\u001b[0m in \u001b[0;36m__init__\u001b[1;34m(self, uri, xnat_session, id_, datafields, parent, fieldname, overwrites, **kwargs)\u001b[0m\n\u001b[0;32m    179\u001b[0m \u001b[1;33m\u001b[0m\u001b[0m\n\u001b[0;32m    180\u001b[0m                 \u001b[0mself\u001b[0m\u001b[1;33m.\u001b[0m\u001b[0mlogger\u001b[0m\u001b[1;33m.\u001b[0m\u001b[0mdebug\u001b[0m\u001b[1;33m(\u001b[0m\u001b[1;34m'query: {}'\u001b[0m\u001b[1;33m.\u001b[0m\u001b[0mformat\u001b[0m\u001b[1;33m(\u001b[0m\u001b[0mquery\u001b[0m\u001b[1;33m)\u001b[0m\u001b[1;33m)\u001b[0m\u001b[1;33m\u001b[0m\u001b[1;33m\u001b[0m\u001b[0m\n\u001b[1;32m--> 181\u001b[1;33m                 \u001b[0mself\u001b[0m\u001b[1;33m.\u001b[0m\u001b[0mxnat_session\u001b[0m\u001b[1;33m.\u001b[0m\u001b[0mput\u001b[0m\u001b[1;33m(\u001b[0m\u001b[0muri\u001b[0m\u001b[1;33m,\u001b[0m \u001b[0mquery\u001b[0m\u001b[1;33m=\u001b[0m\u001b[0mquery\u001b[0m\u001b[1;33m)\u001b[0m\u001b[1;33m\u001b[0m\u001b[1;33m\u001b[0m\u001b[0m\n\u001b[0m\u001b[0;32m    182\u001b[0m             \u001b[1;32melse\u001b[0m\u001b[1;33m:\u001b[0m\u001b[1;33m\u001b[0m\u001b[1;33m\u001b[0m\u001b[0m\n\u001b[0;32m    183\u001b[0m                 raise exceptions.XNATValueError('The {} for a {} need to be specified on creation'.format(\n",
      "\u001b[1;32m~\\Anaconda37\\lib\\site-packages\\xnat\\session.py\u001b[0m in \u001b[0;36mput\u001b[1;34m(self, path, data, files, json, format, query, accepted_status, timeout, headers)\u001b[0m\n\u001b[0;32m    435\u001b[0m         \u001b[1;32mexcept\u001b[0m \u001b[0mrequests\u001b[0m\u001b[1;33m.\u001b[0m\u001b[0mexceptions\u001b[0m\u001b[1;33m.\u001b[0m\u001b[0mSSLError\u001b[0m\u001b[1;33m:\u001b[0m\u001b[1;33m\u001b[0m\u001b[1;33m\u001b[0m\u001b[0m\n\u001b[0;32m    436\u001b[0m             \u001b[1;32mraise\u001b[0m \u001b[0mexceptions\u001b[0m\u001b[1;33m.\u001b[0m\u001b[0mXNATSSLError\u001b[0m\u001b[1;33m(\u001b[0m\u001b[1;34m'Encountered a problem with the SSL connection, are you sure the server is offering https?'\u001b[0m\u001b[1;33m)\u001b[0m\u001b[1;33m\u001b[0m\u001b[1;33m\u001b[0m\u001b[0m\n\u001b[1;32m--> 437\u001b[1;33m         \u001b[0mself\u001b[0m\u001b[1;33m.\u001b[0m\u001b[0m_check_response\u001b[0m\u001b[1;33m(\u001b[0m\u001b[0mresponse\u001b[0m\u001b[1;33m,\u001b[0m \u001b[0maccepted_status\u001b[0m\u001b[1;33m=\u001b[0m\u001b[0maccepted_status\u001b[0m\u001b[1;33m,\u001b[0m \u001b[0muri\u001b[0m\u001b[1;33m=\u001b[0m\u001b[0muri\u001b[0m\u001b[1;33m)\u001b[0m  \u001b[1;31m# Allow created OK or Create status (OK if already exists)\u001b[0m\u001b[1;33m\u001b[0m\u001b[1;33m\u001b[0m\u001b[0m\n\u001b[0m\u001b[0;32m    438\u001b[0m         \u001b[1;32mreturn\u001b[0m \u001b[0mresponse\u001b[0m\u001b[1;33m\u001b[0m\u001b[1;33m\u001b[0m\u001b[0m\n\u001b[0;32m    439\u001b[0m \u001b[1;33m\u001b[0m\u001b[0m\n",
      "\u001b[1;32m~\\Anaconda37\\lib\\site-packages\\xnat\\session.py\u001b[0m in \u001b[0;36m_check_response\u001b[1;34m(self, response, accepted_status, uri)\u001b[0m\n\u001b[0;32m    311\u001b[0m                 \u001b[0maccepted_status\u001b[0m \u001b[1;33m=\u001b[0m \u001b[1;33m[\u001b[0m\u001b[1;36m200\u001b[0m\u001b[1;33m,\u001b[0m \u001b[1;36m201\u001b[0m\u001b[1;33m,\u001b[0m \u001b[1;36m202\u001b[0m\u001b[1;33m,\u001b[0m \u001b[1;36m203\u001b[0m\u001b[1;33m,\u001b[0m \u001b[1;36m204\u001b[0m\u001b[1;33m,\u001b[0m \u001b[1;36m205\u001b[0m\u001b[1;33m,\u001b[0m \u001b[1;36m206\u001b[0m\u001b[1;33m]\u001b[0m  \u001b[1;31m# All successful responses of HTML\u001b[0m\u001b[1;33m\u001b[0m\u001b[1;33m\u001b[0m\u001b[0m\n\u001b[0;32m    312\u001b[0m             \u001b[1;32mif\u001b[0m \u001b[0mresponse\u001b[0m\u001b[1;33m.\u001b[0m\u001b[0mstatus_code\u001b[0m \u001b[1;32mnot\u001b[0m \u001b[1;32min\u001b[0m \u001b[0maccepted_status\u001b[0m \u001b[1;32mor\u001b[0m \u001b[1;33m(\u001b[0m\u001b[1;32mnot\u001b[0m \u001b[0mself\u001b[0m\u001b[1;33m.\u001b[0m\u001b[0mskip_response_content_check\u001b[0m \u001b[1;32mand\u001b[0m \u001b[0mresponse\u001b[0m\u001b[1;33m.\u001b[0m\u001b[0mtext\u001b[0m\u001b[1;33m.\u001b[0m\u001b[0mstartswith\u001b[0m\u001b[1;33m(\u001b[0m\u001b[1;33m(\u001b[0m\u001b[1;34m'<!DOCTYPE'\u001b[0m\u001b[1;33m,\u001b[0m \u001b[1;34m'<html>'\u001b[0m\u001b[1;33m)\u001b[0m\u001b[1;33m)\u001b[0m\u001b[1;33m)\u001b[0m\u001b[1;33m:\u001b[0m\u001b[1;33m\u001b[0m\u001b[1;33m\u001b[0m\u001b[0m\n\u001b[1;32m--> 313\u001b[1;33m                 \u001b[1;32mraise\u001b[0m \u001b[0mexceptions\u001b[0m\u001b[1;33m.\u001b[0m\u001b[0mXNATResponseError\u001b[0m\u001b[1;33m(\u001b[0m\u001b[1;34m'Invalid response from XNATSession for url {} (status {}):\\n{}'\u001b[0m\u001b[1;33m.\u001b[0m\u001b[0mformat\u001b[0m\u001b[1;33m(\u001b[0m\u001b[0muri\u001b[0m\u001b[1;33m,\u001b[0m \u001b[0mresponse\u001b[0m\u001b[1;33m.\u001b[0m\u001b[0mstatus_code\u001b[0m\u001b[1;33m,\u001b[0m \u001b[0mresponse\u001b[0m\u001b[1;33m.\u001b[0m\u001b[0mtext\u001b[0m\u001b[1;33m)\u001b[0m\u001b[1;33m)\u001b[0m\u001b[1;33m\u001b[0m\u001b[1;33m\u001b[0m\u001b[0m\n\u001b[0m\u001b[0;32m    314\u001b[0m \u001b[1;33m\u001b[0m\u001b[0m\n\u001b[0;32m    315\u001b[0m     \u001b[1;32mdef\u001b[0m \u001b[0mget\u001b[0m\u001b[1;33m(\u001b[0m\u001b[0mself\u001b[0m\u001b[1;33m,\u001b[0m \u001b[0mpath\u001b[0m\u001b[1;33m,\u001b[0m \u001b[0mformat\u001b[0m\u001b[1;33m=\u001b[0m\u001b[1;32mNone\u001b[0m\u001b[1;33m,\u001b[0m \u001b[0mquery\u001b[0m\u001b[1;33m=\u001b[0m\u001b[1;32mNone\u001b[0m\u001b[1;33m,\u001b[0m \u001b[0maccepted_status\u001b[0m\u001b[1;33m=\u001b[0m\u001b[1;32mNone\u001b[0m\u001b[1;33m,\u001b[0m \u001b[0mtimeout\u001b[0m\u001b[1;33m=\u001b[0m\u001b[1;32mNone\u001b[0m\u001b[1;33m,\u001b[0m \u001b[0mheaders\u001b[0m\u001b[1;33m=\u001b[0m\u001b[1;32mNone\u001b[0m\u001b[1;33m)\u001b[0m\u001b[1;33m:\u001b[0m\u001b[1;33m\u001b[0m\u001b[1;33m\u001b[0m\u001b[0m\n",
      "\u001b[1;31mXNATResponseError\u001b[0m: Invalid response from XNATSession for url http://10.1.1.17/data/archive/projects/BrainTumorProg_copy/subjects/XNAT_S00006/experiments/XNAT_E00015/assessors/ROI_tumour_3?xsiType=icr%3AroiCollectionData&req_format=qs&label=ROI_tumour_3 (status 400):\n<html>\n<head>\n   <title>Status page</title>\n</head>\n<body>\n<h3>The content of element 'icr:roiCollectionData' is not complete. '{\"http://icr.ac.uk/icr\":UID}' Required Field\nThe content of element 'icr:roiCollectionData' is not complete. '{\"http://icr.ac.uk/icr\":collectionType}' Required Field\nThe content of element 'icr:roiCollectionData' is not complete. '{\"http://icr.ac.uk/icr\":subjectID}' Required Field\n</h3><p>You can get technical details <a href=\"http://www.w3.org/Protocols/rfc2616/rfc2616-sec10.html#sec10.4.1\">here</a>.<br>\nPlease continue your visit at our <a href=\"/\">home page</a>.\n</p>\n</body>\n</html>\n"
     ]
    }
   ],
   "source": [
    "# Try:\n",
    "assessorLabel3 = 'ROI_tumour_3' # doesn't work (Received response with status code: 400)\n",
    "#assessorLabel3 = 'ROI_tumour_2' # works (<RoiCollectionData ROI_tumour_2 (XNAT_E00026)>)\n",
    "\n",
    "\n",
    "session.classes.RoiCollectionData(parent=newExperiment, label=assessorLabel3)"
   ]
  },
  {
   "cell_type": "markdown",
   "metadata": {},
   "source": [
    "#### see comment above (I think RoiCollectionData is a GET rather than PUT command)"
   ]
  },
  {
   "cell_type": "code",
   "execution_count": 82,
   "metadata": {},
   "outputs": [
    {
     "name": "stderr",
     "output_type": "stream",
     "text": [
      "[2020-02-11 16:48:54,329] DEBUG: core:171 >> PUT URI: /data/archive/projects/BrainTumorProg_copy/subjects/XNAT_S00006/experiments/XNAT_E00015/assessors/ROI_tumour_2\n",
      "[2020-02-11 16:48:54,330] DEBUG: core:180 >> query: {'xsiType': 'icr:roiCollectionData', 'req_format': 'qs', 'label': 'ROI_tumour_2'}\n",
      "[2020-02-11 16:48:54,331] DEBUG: session:428 >> PUT URI http://10.1.1.17/data/archive/projects/BrainTumorProg_copy/subjects/XNAT_S00006/experiments/XNAT_E00015/assessors/ROI_tumour_2?xsiType=icr%3AroiCollectionData&req_format=qs&label=ROI_tumour_2\n",
      "[2020-02-11 16:48:54,332] DEBUG: session:430 >> PUT DATA None\n",
      "[2020-02-11 16:48:54,332] DEBUG: session:431 >> PUT FILES None\n",
      "[2020-02-11 16:48:54,513] DEBUG: session:307 >> Received response with status code: 200\n",
      "[2020-02-11 16:48:54,515] DEBUG: session:334 >> GET URI http://10.1.1.17/data/archive/projects/BrainTumorProg_copy/subjects/XNAT_S00006/experiments/XNAT_E00015/assessors/ROI_tumour_2?format=json\n",
      "[2020-02-11 16:48:54,599] DEBUG: session:307 >> Received response with status code: 200\n"
     ]
    },
    {
     "data": {
      "text/plain": [
       "<RoiCollectionData ROI_tumour_2 (XNAT_E00026)>"
      ]
     },
     "execution_count": 82,
     "metadata": {},
     "output_type": "execute_result"
    }
   ],
   "source": [
    "# Try:\n",
    "#xuassessorLabel3 = 'ROI_tumour_3' # doesn't work (Received response with status code: 400)\n",
    "assessorLabel3 = 'ROI_tumour_2' # works (<RoiCollectionData ROI_tumour_2 (XNAT_E00026)>)\n",
    "\n",
    "\n",
    "session.classes.RoiCollectionData(parent=newExperiment, label=assessorLabel3)"
   ]
  },
  {
   "cell_type": "markdown",
   "metadata": {},
   "source": [
    "#### see comment above (I think RoiCollectionData is a GET rather than PUT command)"
   ]
  },
  {
   "cell_type": "code",
   "execution_count": 66,
   "metadata": {},
   "outputs": [
    {
     "name": "stderr",
     "output_type": "stream",
     "text": [
      "[2020-02-10 16:45:38,888] DEBUG: session:334 >> GET URI http://10.1.1.17/data/archive/projects/BrainTumorProg_copy/subjects/XNAT_S00006/experiments/XNAT_E00015/assessors/ROI_tumour_2?format=json\n",
      "[2020-02-10 16:45:38,943] DEBUG: session:307 >> Received response with status code: 200\n",
      "[2020-02-10 16:45:38,944] DEBUG: core:171 >> PUT URI: /data/experiments/XNAT_E00015/assessors/XNAT_E00026/resources/RESOURCE_LABEL\n",
      "[2020-02-10 16:45:38,944] DEBUG: core:180 >> query: {'xsiType': 'xnat:resourceCatalog', 'req_format': 'qs', 'label': 'RESOURCE_LABEL'}\n",
      "[2020-02-10 16:45:38,944] DEBUG: session:428 >> PUT URI http://10.1.1.17/data/experiments/XNAT_E00015/assessors/XNAT_E00026/resources/RESOURCE_LABEL?xsiType=xnat%3AresourceCatalog&req_format=qs&label=RESOURCE_LABEL\n",
      "[2020-02-10 16:45:38,945] DEBUG: session:430 >> PUT DATA None\n",
      "[2020-02-10 16:45:38,947] DEBUG: session:431 >> PUT FILES None\n",
      "[2020-02-10 16:45:39,084] DEBUG: session:307 >> Received response with status code: 200\n"
     ]
    }
   ],
   "source": [
    "# Continuing with the alternative strategy:\n",
    "resource = session.classes.ResourceCatalog(parent=assessor, label='RESOURCE_LABEL') # was connection.classes... \n",
    "# but might have been a typo?"
   ]
  },
  {
   "cell_type": "markdown",
   "metadata": {},
   "source": [
    "#### I'm not sure what this has done.  The WI looks the same other than perhaps a \"+ Session QC Status\" above Scans that may or may not have been present before."
   ]
  },
  {
   "cell_type": "code",
   "execution_count": 67,
   "metadata": {},
   "outputs": [
    {
     "name": "stderr",
     "output_type": "stream",
     "text": [
      "[2020-02-10 16:46:32,128] DEBUG: session:334 >> GET URI http://10.1.1.17/data/archive/projects/BrainTumorProg_copy/subjects/XNAT_S00006/experiments/XNAT_E00015/assessors/ROI_tumour_2?format=json\n",
      "[2020-02-10 16:46:32,174] DEBUG: session:307 >> Received response with status code: 200\n"
     ]
    },
    {
     "data": {
      "text/plain": [
       "<QcAssessmentData ROI_tumour_2 (XNAT_E00026)>"
      ]
     },
     "execution_count": 67,
     "metadata": {},
     "output_type": "execute_result"
    }
   ],
   "source": [
    "assessor"
   ]
  },
  {
   "cell_type": "code",
   "execution_count": 68,
   "metadata": {},
   "outputs": [
    {
     "name": "stderr",
     "output_type": "stream",
     "text": [
      "[2020-02-10 16:46:37,430] DEBUG: session:334 >> GET URI http://10.1.1.17/data/experiments/XNAT_E00015/assessors/XNAT_E00026/resources/RESOURCE_LABEL?format=json\n",
      "[2020-02-10 16:46:37,469] DEBUG: session:307 >> Received response with status code: 200\n",
      "[2020-02-10 16:46:37,469] DEBUG: session:334 >> GET URI http://10.1.1.17/data/experiments/XNAT_E00015/assessors/XNAT_E00026/resources?format=json\n",
      "[2020-02-10 16:46:37,494] DEBUG: session:307 >> Received response with status code: 200\n"
     ]
    },
    {
     "data": {
      "text/plain": [
       "<ResourceCatalog RESOURCE_LABEL (RESOURCE_LABEL)>"
      ]
     },
     "execution_count": 68,
     "metadata": {},
     "output_type": "execute_result"
    }
   ],
   "source": [
    "resource"
   ]
  },
  {
   "cell_type": "markdown",
   "metadata": {},
   "source": [
    "#### So now need to figure out how to upload the DICOM-RTSTRUCT file to assessor.  Try importing via the prearchive:"
   ]
  },
  {
   "cell_type": "markdown",
   "metadata": {},
   "source": [
    "#### Should project be the object (e.g. newProject) or the label (e.g. newProjectName)?"
   ]
  },
  {
   "cell_type": "code",
   "execution_count": 83,
   "metadata": {},
   "outputs": [
    {
     "name": "stderr",
     "output_type": "stream",
     "text": [
      "[2020-02-12 16:13:30,180] DEBUG: session:661 >> UPLOAD URI http://10.1.1.17/data/services/import?dest=%2Fprearchive&project=BrainTumorProg_copy\n",
      "[2020-02-12 16:13:33,258] DEBUG: session:307 >> Received response with status code: 500\n"
     ]
    },
    {
     "ename": "XNATUploadError",
     "evalue": "Upload failed after 1 attempts! Status code 500, response text <html>\n<head>\n   <title>Status page</title>\n</head>\n<body>\n<h3>An error occurred adding the session to the prearchive database</h3><p>You can get technical details <a href=\"http://www.w3.org/Protocols/rfc2616/rfc2616-sec10.html#sec10.5.1\">here</a>.<br>\nPlease continue your visit at our <a href=\"/\">home page</a>.\n</p>\n</body>\n</html>\n",
     "output_type": "error",
     "traceback": [
      "\u001b[1;31m---------------------------------------------------------------------------\u001b[0m",
      "\u001b[1;31mXNATUploadError\u001b[0m                           Traceback (most recent call last)",
      "\u001b[1;32m<ipython-input-83-fda5240d7d83>\u001b[0m in \u001b[0;36m<module>\u001b[1;34m\u001b[0m\n\u001b[0;32m      1\u001b[0m prearchive_session = session.services.import_(roiFpathDL, \\\n\u001b[0;32m      2\u001b[0m                                               \u001b[0mproject\u001b[0m\u001b[1;33m=\u001b[0m\u001b[0mnewProjectName\u001b[0m\u001b[1;33m,\u001b[0m\u001b[0;31m \u001b[0m\u001b[0;31m\\\u001b[0m\u001b[1;33m\u001b[0m\u001b[1;33m\u001b[0m\u001b[0m\n\u001b[1;32m----> 3\u001b[1;33m                                               destination='/prearchive')\n\u001b[0m",
      "\u001b[1;32m~\\Anaconda37\\lib\\site-packages\\xnat\\services.py\u001b[0m in \u001b[0;36mimport_\u001b[1;34m(self, path, overwrite, quarantine, destination, trigger_pipelines, project, subject, experiment, content_type)\u001b[0m\n\u001b[0;32m    109\u001b[0m \u001b[1;33m\u001b[0m\u001b[0m\n\u001b[0;32m    110\u001b[0m         \u001b[0muri\u001b[0m \u001b[1;33m=\u001b[0m \u001b[1;34m'/data/services/import'\u001b[0m\u001b[1;33m\u001b[0m\u001b[1;33m\u001b[0m\u001b[0m\n\u001b[1;32m--> 111\u001b[1;33m         \u001b[0mresponse\u001b[0m \u001b[1;33m=\u001b[0m \u001b[0mself\u001b[0m\u001b[1;33m.\u001b[0m\u001b[0mxnat_session\u001b[0m\u001b[1;33m.\u001b[0m\u001b[0mupload\u001b[0m\u001b[1;33m(\u001b[0m\u001b[0muri\u001b[0m\u001b[1;33m=\u001b[0m\u001b[0muri\u001b[0m\u001b[1;33m,\u001b[0m \u001b[0mfile_\u001b[0m\u001b[1;33m=\u001b[0m\u001b[0mpath\u001b[0m\u001b[1;33m,\u001b[0m \u001b[0mquery\u001b[0m\u001b[1;33m=\u001b[0m\u001b[0mquery\u001b[0m\u001b[1;33m,\u001b[0m \u001b[0mcontent_type\u001b[0m\u001b[1;33m=\u001b[0m\u001b[0mcontent_type\u001b[0m\u001b[1;33m,\u001b[0m \u001b[0mmethod\u001b[0m\u001b[1;33m=\u001b[0m\u001b[1;34m'post'\u001b[0m\u001b[1;33m)\u001b[0m\u001b[1;33m\u001b[0m\u001b[1;33m\u001b[0m\u001b[0m\n\u001b[0m\u001b[0;32m    112\u001b[0m \u001b[1;33m\u001b[0m\u001b[0m\n\u001b[0;32m    113\u001b[0m         \u001b[1;32mif\u001b[0m \u001b[0mresponse\u001b[0m\u001b[1;33m.\u001b[0m\u001b[0mstatus_code\u001b[0m \u001b[1;33m!=\u001b[0m \u001b[1;36m200\u001b[0m\u001b[1;33m:\u001b[0m\u001b[1;33m\u001b[0m\u001b[1;33m\u001b[0m\u001b[0m\n",
      "\u001b[1;32m~\\Anaconda37\\lib\\site-packages\\xnat\\session.py\u001b[0m in \u001b[0;36mupload\u001b[1;34m(self, uri, file_, retries, query, content_type, method, overwrite, timeout)\u001b[0m\n\u001b[0;32m    703\u001b[0m \u001b[1;33m\u001b[0m\u001b[0m\n\u001b[0;32m    704\u001b[0m         \u001b[1;31m# We didn't return correctly, so we have an error\u001b[0m\u001b[1;33m\u001b[0m\u001b[1;33m\u001b[0m\u001b[1;33m\u001b[0m\u001b[0m\n\u001b[1;32m--> 705\u001b[1;33m         \u001b[1;32mraise\u001b[0m \u001b[0mexceptions\u001b[0m\u001b[1;33m.\u001b[0m\u001b[0mXNATUploadError\u001b[0m\u001b[1;33m(\u001b[0m\u001b[1;34m'Upload failed after {} attempts! Status code {}, response text {}'\u001b[0m\u001b[1;33m.\u001b[0m\u001b[0mformat\u001b[0m\u001b[1;33m(\u001b[0m\u001b[0mretries\u001b[0m\u001b[1;33m,\u001b[0m \u001b[0mresponse\u001b[0m\u001b[1;33m.\u001b[0m\u001b[0mstatus_code\u001b[0m\u001b[1;33m,\u001b[0m \u001b[0mresponse\u001b[0m\u001b[1;33m.\u001b[0m\u001b[0mtext\u001b[0m\u001b[1;33m)\u001b[0m\u001b[1;33m)\u001b[0m\u001b[1;33m\u001b[0m\u001b[1;33m\u001b[0m\u001b[0m\n\u001b[0m\u001b[0;32m    706\u001b[0m \u001b[1;33m\u001b[0m\u001b[0m\n\u001b[0;32m    707\u001b[0m     \u001b[1;33m@\u001b[0m\u001b[0mproperty\u001b[0m\u001b[1;33m\u001b[0m\u001b[1;33m\u001b[0m\u001b[0m\n",
      "\u001b[1;31mXNATUploadError\u001b[0m: Upload failed after 1 attempts! Status code 500, response text <html>\n<head>\n   <title>Status page</title>\n</head>\n<body>\n<h3>An error occurred adding the session to the prearchive database</h3><p>You can get technical details <a href=\"http://www.w3.org/Protocols/rfc2616/rfc2616-sec10.html#sec10.5.1\">here</a>.<br>\nPlease continue your visit at our <a href=\"/\">home page</a>.\n</p>\n</body>\n</html>\n"
     ]
    }
   ],
   "source": [
    "# Setting project = newProjectName:\n",
    "\n",
    "prearchive_session = session.services.import_(roiFpathDL, \\\n",
    "                                              project=newProjectName, \\\n",
    "                                              destination='/prearchive')"
   ]
  },
  {
   "cell_type": "markdown",
   "metadata": {},
   "source": [
    "#### Looking at the log files:\n",
    "\n",
    "##### access.log (tail /data/xnat/home/logs/access.log):\n",
    "\n",
    "2020-02-12 16:13:30,178 - admin 127.0.0.1 POST http://10.1.1.17/data/services/import?dest=%2Fprearchive&project=BrainTumorProg_copy\n",
    "\n",
    "##### dicom.log (tail /data/xnat/home/logs/dicom.log):\n",
    "\n",
    "2020-02-12 16:13:31,811 [pool-2-thread-1] ERROR org.nrg.dcm.xnat.DICOMSessionBuilder - Session builder not implemented for SOP class [1.2.840.10008.5.1.4.1.1.481.3] or modality [RTSTRUCT]\n",
    "\n"
   ]
  },
  {
   "cell_type": "code",
   "execution_count": 84,
   "metadata": {},
   "outputs": [
    {
     "name": "stderr",
     "output_type": "stream",
     "text": [
      "[2020-02-12 16:14:29,433] DEBUG: session:661 >> UPLOAD URI http://10.1.1.17/data/services/import?dest=%2Fprearchive&project=%3CProjectData+BrainTumorProg_copy+%28BrainTumorProg_copy%29%3E\n",
      "[2020-02-12 16:14:29,949] DEBUG: session:307 >> Received response with status code: 500\n"
     ]
    },
    {
     "ename": "XNATUploadError",
     "evalue": "Upload failed after 1 attempts! Status code 500, response text <html>\n<head>\n   <title>Status page</title>\n</head>\n<body>\n<h3>An error occurred adding the session to the prearchive database</h3><p>You can get technical details <a href=\"http://www.w3.org/Protocols/rfc2616/rfc2616-sec10.html#sec10.5.1\">here</a>.<br>\nPlease continue your visit at our <a href=\"/\">home page</a>.\n</p>\n</body>\n</html>\n",
     "output_type": "error",
     "traceback": [
      "\u001b[1;31m---------------------------------------------------------------------------\u001b[0m",
      "\u001b[1;31mXNATUploadError\u001b[0m                           Traceback (most recent call last)",
      "\u001b[1;32m<ipython-input-84-aaa03060cc97>\u001b[0m in \u001b[0;36m<module>\u001b[1;34m\u001b[0m\n\u001b[0;32m      1\u001b[0m prearchive_session = session.services.import_(roiFpathDL, \\\n\u001b[0;32m      2\u001b[0m                                               \u001b[0mproject\u001b[0m\u001b[1;33m=\u001b[0m\u001b[0mnewProject\u001b[0m\u001b[1;33m,\u001b[0m\u001b[0;31m \u001b[0m\u001b[0;31m\\\u001b[0m\u001b[1;33m\u001b[0m\u001b[1;33m\u001b[0m\u001b[0m\n\u001b[1;32m----> 3\u001b[1;33m                                               destination='/prearchive')\n\u001b[0m",
      "\u001b[1;32m~\\Anaconda37\\lib\\site-packages\\xnat\\services.py\u001b[0m in \u001b[0;36mimport_\u001b[1;34m(self, path, overwrite, quarantine, destination, trigger_pipelines, project, subject, experiment, content_type)\u001b[0m\n\u001b[0;32m    109\u001b[0m \u001b[1;33m\u001b[0m\u001b[0m\n\u001b[0;32m    110\u001b[0m         \u001b[0muri\u001b[0m \u001b[1;33m=\u001b[0m \u001b[1;34m'/data/services/import'\u001b[0m\u001b[1;33m\u001b[0m\u001b[1;33m\u001b[0m\u001b[0m\n\u001b[1;32m--> 111\u001b[1;33m         \u001b[0mresponse\u001b[0m \u001b[1;33m=\u001b[0m \u001b[0mself\u001b[0m\u001b[1;33m.\u001b[0m\u001b[0mxnat_session\u001b[0m\u001b[1;33m.\u001b[0m\u001b[0mupload\u001b[0m\u001b[1;33m(\u001b[0m\u001b[0muri\u001b[0m\u001b[1;33m=\u001b[0m\u001b[0muri\u001b[0m\u001b[1;33m,\u001b[0m \u001b[0mfile_\u001b[0m\u001b[1;33m=\u001b[0m\u001b[0mpath\u001b[0m\u001b[1;33m,\u001b[0m \u001b[0mquery\u001b[0m\u001b[1;33m=\u001b[0m\u001b[0mquery\u001b[0m\u001b[1;33m,\u001b[0m \u001b[0mcontent_type\u001b[0m\u001b[1;33m=\u001b[0m\u001b[0mcontent_type\u001b[0m\u001b[1;33m,\u001b[0m \u001b[0mmethod\u001b[0m\u001b[1;33m=\u001b[0m\u001b[1;34m'post'\u001b[0m\u001b[1;33m)\u001b[0m\u001b[1;33m\u001b[0m\u001b[1;33m\u001b[0m\u001b[0m\n\u001b[0m\u001b[0;32m    112\u001b[0m \u001b[1;33m\u001b[0m\u001b[0m\n\u001b[0;32m    113\u001b[0m         \u001b[1;32mif\u001b[0m \u001b[0mresponse\u001b[0m\u001b[1;33m.\u001b[0m\u001b[0mstatus_code\u001b[0m \u001b[1;33m!=\u001b[0m \u001b[1;36m200\u001b[0m\u001b[1;33m:\u001b[0m\u001b[1;33m\u001b[0m\u001b[1;33m\u001b[0m\u001b[0m\n",
      "\u001b[1;32m~\\Anaconda37\\lib\\site-packages\\xnat\\session.py\u001b[0m in \u001b[0;36mupload\u001b[1;34m(self, uri, file_, retries, query, content_type, method, overwrite, timeout)\u001b[0m\n\u001b[0;32m    703\u001b[0m \u001b[1;33m\u001b[0m\u001b[0m\n\u001b[0;32m    704\u001b[0m         \u001b[1;31m# We didn't return correctly, so we have an error\u001b[0m\u001b[1;33m\u001b[0m\u001b[1;33m\u001b[0m\u001b[1;33m\u001b[0m\u001b[0m\n\u001b[1;32m--> 705\u001b[1;33m         \u001b[1;32mraise\u001b[0m \u001b[0mexceptions\u001b[0m\u001b[1;33m.\u001b[0m\u001b[0mXNATUploadError\u001b[0m\u001b[1;33m(\u001b[0m\u001b[1;34m'Upload failed after {} attempts! Status code {}, response text {}'\u001b[0m\u001b[1;33m.\u001b[0m\u001b[0mformat\u001b[0m\u001b[1;33m(\u001b[0m\u001b[0mretries\u001b[0m\u001b[1;33m,\u001b[0m \u001b[0mresponse\u001b[0m\u001b[1;33m.\u001b[0m\u001b[0mstatus_code\u001b[0m\u001b[1;33m,\u001b[0m \u001b[0mresponse\u001b[0m\u001b[1;33m.\u001b[0m\u001b[0mtext\u001b[0m\u001b[1;33m)\u001b[0m\u001b[1;33m)\u001b[0m\u001b[1;33m\u001b[0m\u001b[1;33m\u001b[0m\u001b[0m\n\u001b[0m\u001b[0;32m    706\u001b[0m \u001b[1;33m\u001b[0m\u001b[0m\n\u001b[0;32m    707\u001b[0m     \u001b[1;33m@\u001b[0m\u001b[0mproperty\u001b[0m\u001b[1;33m\u001b[0m\u001b[1;33m\u001b[0m\u001b[0m\n",
      "\u001b[1;31mXNATUploadError\u001b[0m: Upload failed after 1 attempts! Status code 500, response text <html>\n<head>\n   <title>Status page</title>\n</head>\n<body>\n<h3>An error occurred adding the session to the prearchive database</h3><p>You can get technical details <a href=\"http://www.w3.org/Protocols/rfc2616/rfc2616-sec10.html#sec10.5.1\">here</a>.<br>\nPlease continue your visit at our <a href=\"/\">home page</a>.\n</p>\n</body>\n</html>\n"
     ]
    }
   ],
   "source": [
    "# Setting project = newProject:\n",
    "\n",
    "prearchive_session = session.services.import_(roiFpathDL, \\\n",
    "                                              project=newProject, \\\n",
    "                                              destination='/prearchive')"
   ]
  },
  {
   "cell_type": "markdown",
   "metadata": {},
   "source": [
    "#### Looking at the log files:\n",
    "\n",
    "##### access.log (tail /data/xnat/home/logs/access.log):\n",
    "\n",
    "2020-02-12 16:14:28,221 - admin 0:0:0:0:0:0:0:1 POST http://10.1.1.17/data/services/import?dest=%2Fprearchive&project=%3CProjectData+BrainTumorProg_copy+%28BrainTumorProg_copy%29%3E\n",
    "\n",
    "This one looks more suspicious than the previous one (with project=newProjectName) because of \"0:0:0:0:0:0:0:1\" (as opposed to \"127.0.0.1\")\n",
    "\n",
    "\n",
    "##### dicom.log (tail /data/xnat/home/logs/dicom.log):\n",
    "\n",
    "2020-02-12 16:14:28,565 [pool-2-thread-2] ERROR org.nrg.dcm.xnat.DICOMSessionBuilder - Session builder not implemented for SOP class [1.2.840.10008.5.1.4.1.1.481.3] or modality [RTSTRUCT]\n",
    "\n"
   ]
  },
  {
   "cell_type": "code",
   "execution_count": 85,
   "metadata": {},
   "outputs": [
    {
     "name": "stderr",
     "output_type": "stream",
     "text": [
      "[2020-02-12 16:23:38,101] DEBUG: session:661 >> UPLOAD URI http://10.1.1.17/data/services/import?project=BrainTumorProg_copy\n",
      "[2020-02-12 16:23:38,580] DEBUG: session:307 >> Received response with status code: 500\n"
     ]
    },
    {
     "ename": "XNATUploadError",
     "evalue": "Upload failed after 1 attempts! Status code 500, response text <html>\n<head>\n   <title>Status page</title>\n</head>\n<body>\n<h3>An error occurred adding the session to the prearchive database</h3><p>You can get technical details <a href=\"http://www.w3.org/Protocols/rfc2616/rfc2616-sec10.html#sec10.5.1\">here</a>.<br>\nPlease continue your visit at our <a href=\"/\">home page</a>.\n</p>\n</body>\n</html>\n",
     "output_type": "error",
     "traceback": [
      "\u001b[1;31m---------------------------------------------------------------------------\u001b[0m",
      "\u001b[1;31mXNATUploadError\u001b[0m                           Traceback (most recent call last)",
      "\u001b[1;32m<ipython-input-85-e493baeaad58>\u001b[0m in \u001b[0;36m<module>\u001b[1;34m\u001b[0m\n\u001b[0;32m      1\u001b[0m \u001b[1;31m# This time trying without the pre-archive destination input:\u001b[0m\u001b[1;33m\u001b[0m\u001b[1;33m\u001b[0m\u001b[1;33m\u001b[0m\u001b[0m\n\u001b[0;32m      2\u001b[0m \u001b[1;33m\u001b[0m\u001b[0m\n\u001b[1;32m----> 3\u001b[1;33m \u001b[0mprearchive_session\u001b[0m \u001b[1;33m=\u001b[0m \u001b[0msession\u001b[0m\u001b[1;33m.\u001b[0m\u001b[0mservices\u001b[0m\u001b[1;33m.\u001b[0m\u001b[0mimport_\u001b[0m\u001b[1;33m(\u001b[0m\u001b[0mroiFpathDL\u001b[0m\u001b[1;33m,\u001b[0m \u001b[0mproject\u001b[0m\u001b[1;33m=\u001b[0m\u001b[0mnewProjectName\u001b[0m\u001b[1;33m)\u001b[0m\u001b[1;33m\u001b[0m\u001b[1;33m\u001b[0m\u001b[0m\n\u001b[0m",
      "\u001b[1;32m~\\Anaconda37\\lib\\site-packages\\xnat\\services.py\u001b[0m in \u001b[0;36mimport_\u001b[1;34m(self, path, overwrite, quarantine, destination, trigger_pipelines, project, subject, experiment, content_type)\u001b[0m\n\u001b[0;32m    109\u001b[0m \u001b[1;33m\u001b[0m\u001b[0m\n\u001b[0;32m    110\u001b[0m         \u001b[0muri\u001b[0m \u001b[1;33m=\u001b[0m \u001b[1;34m'/data/services/import'\u001b[0m\u001b[1;33m\u001b[0m\u001b[1;33m\u001b[0m\u001b[0m\n\u001b[1;32m--> 111\u001b[1;33m         \u001b[0mresponse\u001b[0m \u001b[1;33m=\u001b[0m \u001b[0mself\u001b[0m\u001b[1;33m.\u001b[0m\u001b[0mxnat_session\u001b[0m\u001b[1;33m.\u001b[0m\u001b[0mupload\u001b[0m\u001b[1;33m(\u001b[0m\u001b[0muri\u001b[0m\u001b[1;33m=\u001b[0m\u001b[0muri\u001b[0m\u001b[1;33m,\u001b[0m \u001b[0mfile_\u001b[0m\u001b[1;33m=\u001b[0m\u001b[0mpath\u001b[0m\u001b[1;33m,\u001b[0m \u001b[0mquery\u001b[0m\u001b[1;33m=\u001b[0m\u001b[0mquery\u001b[0m\u001b[1;33m,\u001b[0m \u001b[0mcontent_type\u001b[0m\u001b[1;33m=\u001b[0m\u001b[0mcontent_type\u001b[0m\u001b[1;33m,\u001b[0m \u001b[0mmethod\u001b[0m\u001b[1;33m=\u001b[0m\u001b[1;34m'post'\u001b[0m\u001b[1;33m)\u001b[0m\u001b[1;33m\u001b[0m\u001b[1;33m\u001b[0m\u001b[0m\n\u001b[0m\u001b[0;32m    112\u001b[0m \u001b[1;33m\u001b[0m\u001b[0m\n\u001b[0;32m    113\u001b[0m         \u001b[1;32mif\u001b[0m \u001b[0mresponse\u001b[0m\u001b[1;33m.\u001b[0m\u001b[0mstatus_code\u001b[0m \u001b[1;33m!=\u001b[0m \u001b[1;36m200\u001b[0m\u001b[1;33m:\u001b[0m\u001b[1;33m\u001b[0m\u001b[1;33m\u001b[0m\u001b[0m\n",
      "\u001b[1;32m~\\Anaconda37\\lib\\site-packages\\xnat\\session.py\u001b[0m in \u001b[0;36mupload\u001b[1;34m(self, uri, file_, retries, query, content_type, method, overwrite, timeout)\u001b[0m\n\u001b[0;32m    703\u001b[0m \u001b[1;33m\u001b[0m\u001b[0m\n\u001b[0;32m    704\u001b[0m         \u001b[1;31m# We didn't return correctly, so we have an error\u001b[0m\u001b[1;33m\u001b[0m\u001b[1;33m\u001b[0m\u001b[1;33m\u001b[0m\u001b[0m\n\u001b[1;32m--> 705\u001b[1;33m         \u001b[1;32mraise\u001b[0m \u001b[0mexceptions\u001b[0m\u001b[1;33m.\u001b[0m\u001b[0mXNATUploadError\u001b[0m\u001b[1;33m(\u001b[0m\u001b[1;34m'Upload failed after {} attempts! Status code {}, response text {}'\u001b[0m\u001b[1;33m.\u001b[0m\u001b[0mformat\u001b[0m\u001b[1;33m(\u001b[0m\u001b[0mretries\u001b[0m\u001b[1;33m,\u001b[0m \u001b[0mresponse\u001b[0m\u001b[1;33m.\u001b[0m\u001b[0mstatus_code\u001b[0m\u001b[1;33m,\u001b[0m \u001b[0mresponse\u001b[0m\u001b[1;33m.\u001b[0m\u001b[0mtext\u001b[0m\u001b[1;33m)\u001b[0m\u001b[1;33m)\u001b[0m\u001b[1;33m\u001b[0m\u001b[1;33m\u001b[0m\u001b[0m\n\u001b[0m\u001b[0;32m    706\u001b[0m \u001b[1;33m\u001b[0m\u001b[0m\n\u001b[0;32m    707\u001b[0m     \u001b[1;33m@\u001b[0m\u001b[0mproperty\u001b[0m\u001b[1;33m\u001b[0m\u001b[1;33m\u001b[0m\u001b[0m\n",
      "\u001b[1;31mXNATUploadError\u001b[0m: Upload failed after 1 attempts! Status code 500, response text <html>\n<head>\n   <title>Status page</title>\n</head>\n<body>\n<h3>An error occurred adding the session to the prearchive database</h3><p>You can get technical details <a href=\"http://www.w3.org/Protocols/rfc2616/rfc2616-sec10.html#sec10.5.1\">here</a>.<br>\nPlease continue your visit at our <a href=\"/\">home page</a>.\n</p>\n</body>\n</html>\n"
     ]
    }
   ],
   "source": [
    "# This time trying without the pre-archive destination input:\n",
    "\n",
    "prearchive_session = session.services.import_(roiFpathDL, project=newProjectName)"
   ]
  },
  {
   "cell_type": "markdown",
   "metadata": {},
   "source": [
    "#### Looking at the log files:\n",
    "\n",
    "##### access.log (tail /data/xnat/home/logs/access.log):\n",
    "\n",
    "2020-02-12 16:23:36,863 - admin 127.0.0.1 POST http://10.1.1.17/data/services/import?project=BrainTumorProg_copy\n",
    "\n",
    "\n",
    "##### dicom.log (tail /data/xnat/home/logs/dicom.log):\n",
    "\n",
    "2020-02-12 16:23:37,206 [pool-2-thread-3] ERROR org.nrg.dcm.xnat.DICOMSessionBuilder - Session builder not implemented for SOP class [1.2.840.10008.5.1.4.1.1.481.3] or modality [RTSTRUCT]\n",
    "\n"
   ]
  },
  {
   "cell_type": "markdown",
   "metadata": {},
   "source": [
    "#### Trying to follow the advice by Hakim here:\n",
    "\n",
    "##### https://groups.google.com/forum/#!topic/xnat_discussion/dmM9_cwbn38"
   ]
  },
  {
   "cell_type": "code",
   "execution_count": 44,
   "metadata": {},
   "outputs": [
    {
     "name": "stderr",
     "output_type": "stream",
     "text": [
      "[2020-02-10 15:49:25,785] DEBUG: core:171 >> PUT URI: /data/archive/projects/BrainTumorProg_copy/subjects/XNAT_S00006/experiments/XNAT_E00017/resources/ROI_tumour\n",
      "[2020-02-10 15:49:25,785] DEBUG: core:180 >> query: {'xsiType': 'xnat:resourceCatalog', 'req_format': 'qs', 'label': 'ROI_tumour'}\n",
      "[2020-02-10 15:49:25,786] DEBUG: session:428 >> PUT URI http://10.1.1.17/data/archive/projects/BrainTumorProg_copy/subjects/XNAT_S00006/experiments/XNAT_E00017/resources/ROI_tumour?xsiType=xnat%3AresourceCatalog&req_format=qs&label=ROI_tumour\n",
      "[2020-02-10 15:49:25,786] DEBUG: session:430 >> PUT DATA None\n",
      "[2020-02-10 15:49:25,787] DEBUG: session:431 >> PUT FILES None\n",
      "[2020-02-10 15:49:25,817] DEBUG: session:307 >> Received response with status code: 404\n"
     ]
    },
    {
     "ename": "XNATResponseError",
     "evalue": "Invalid response from XNATSession for url http://10.1.1.17/data/archive/projects/BrainTumorProg_copy/subjects/XNAT_S00006/experiments/XNAT_E00017/resources/ROI_tumour?xsiType=xnat%3AresourceCatalog&req_format=qs&label=ROI_tumour (status 404):\n<html>\n<head>\n   <title>Status page</title>\n</head>\n<body>\n<h3>Unable to identify experiment</h3><p>You can get technical details <a href=\"http://www.w3.org/Protocols/rfc2616/rfc2616-sec10.html#sec10.4.5\">here</a>.<br>\nPlease continue your visit at our <a href=\"/\">home page</a>.\n</p>\n</body>\n</html>\n",
     "output_type": "error",
     "traceback": [
      "\u001b[1;31m---------------------------------------------------------------------------\u001b[0m",
      "\u001b[1;31mXNATResponseError\u001b[0m                         Traceback (most recent call last)",
      "\u001b[1;32m<ipython-input-44-33af9f026405>\u001b[0m in \u001b[0;36m<module>\u001b[1;34m\u001b[0m\n\u001b[0;32m      1\u001b[0m \u001b[0massessorLabel\u001b[0m \u001b[1;33m=\u001b[0m \u001b[1;34m'ROI_tumour'\u001b[0m\u001b[1;33m\u001b[0m\u001b[1;33m\u001b[0m\u001b[0m\n\u001b[0;32m      2\u001b[0m \u001b[1;33m\u001b[0m\u001b[0m\n\u001b[1;32m----> 3\u001b[1;33m \u001b[0massessor\u001b[0m \u001b[1;33m=\u001b[0m \u001b[0msession\u001b[0m\u001b[1;33m.\u001b[0m\u001b[0mclasses\u001b[0m\u001b[1;33m.\u001b[0m\u001b[0mResourceCatalog\u001b[0m\u001b[1;33m(\u001b[0m\u001b[0mparent\u001b[0m\u001b[1;33m=\u001b[0m\u001b[0mnewExperiment\u001b[0m\u001b[1;33m,\u001b[0m \u001b[0mlabel\u001b[0m\u001b[1;33m=\u001b[0m\u001b[0massessorLabel\u001b[0m\u001b[1;33m)\u001b[0m\u001b[1;33m\u001b[0m\u001b[1;33m\u001b[0m\u001b[0m\n\u001b[0m",
      "\u001b[1;32m~\\Anaconda37\\lib\\site-packages\\xnat\\mixin.py\u001b[0m in \u001b[0;36m__init__\u001b[1;34m(self, uri, xnat_session, id_, datafields, parent, fieldname, overwrites, data_dir, upload_method, **kwargs)\u001b[0m\n\u001b[0;32m    461\u001b[0m             \u001b[0mfieldname\u001b[0m\u001b[1;33m=\u001b[0m\u001b[0mfieldname\u001b[0m\u001b[1;33m,\u001b[0m\u001b[1;33m\u001b[0m\u001b[1;33m\u001b[0m\u001b[0m\n\u001b[0;32m    462\u001b[0m             \u001b[0moverwrites\u001b[0m\u001b[1;33m=\u001b[0m\u001b[0moverwrites\u001b[0m\u001b[1;33m,\u001b[0m\u001b[1;33m\u001b[0m\u001b[1;33m\u001b[0m\u001b[0m\n\u001b[1;32m--> 463\u001b[1;33m             \u001b[1;33m**\u001b[0m\u001b[0mkwargs\u001b[0m\u001b[1;33m\u001b[0m\u001b[1;33m\u001b[0m\u001b[0m\n\u001b[0m\u001b[0;32m    464\u001b[0m         )\n\u001b[0;32m    465\u001b[0m \u001b[1;33m\u001b[0m\u001b[0m\n",
      "\u001b[1;32m~\\Anaconda37\\lib\\site-packages\\xnat\\core.py\u001b[0m in \u001b[0;36m__init__\u001b[1;34m(self, uri, xnat_session, id_, datafields, parent, fieldname, overwrites, **kwargs)\u001b[0m\n\u001b[0;32m    179\u001b[0m \u001b[1;33m\u001b[0m\u001b[0m\n\u001b[0;32m    180\u001b[0m                 \u001b[0mself\u001b[0m\u001b[1;33m.\u001b[0m\u001b[0mlogger\u001b[0m\u001b[1;33m.\u001b[0m\u001b[0mdebug\u001b[0m\u001b[1;33m(\u001b[0m\u001b[1;34m'query: {}'\u001b[0m\u001b[1;33m.\u001b[0m\u001b[0mformat\u001b[0m\u001b[1;33m(\u001b[0m\u001b[0mquery\u001b[0m\u001b[1;33m)\u001b[0m\u001b[1;33m)\u001b[0m\u001b[1;33m\u001b[0m\u001b[1;33m\u001b[0m\u001b[0m\n\u001b[1;32m--> 181\u001b[1;33m                 \u001b[0mself\u001b[0m\u001b[1;33m.\u001b[0m\u001b[0mxnat_session\u001b[0m\u001b[1;33m.\u001b[0m\u001b[0mput\u001b[0m\u001b[1;33m(\u001b[0m\u001b[0muri\u001b[0m\u001b[1;33m,\u001b[0m \u001b[0mquery\u001b[0m\u001b[1;33m=\u001b[0m\u001b[0mquery\u001b[0m\u001b[1;33m)\u001b[0m\u001b[1;33m\u001b[0m\u001b[1;33m\u001b[0m\u001b[0m\n\u001b[0m\u001b[0;32m    182\u001b[0m             \u001b[1;32melse\u001b[0m\u001b[1;33m:\u001b[0m\u001b[1;33m\u001b[0m\u001b[1;33m\u001b[0m\u001b[0m\n\u001b[0;32m    183\u001b[0m                 raise exceptions.XNATValueError('The {} for a {} need to be specified on creation'.format(\n",
      "\u001b[1;32m~\\Anaconda37\\lib\\site-packages\\xnat\\session.py\u001b[0m in \u001b[0;36mput\u001b[1;34m(self, path, data, files, json, format, query, accepted_status, timeout, headers)\u001b[0m\n\u001b[0;32m    435\u001b[0m         \u001b[1;32mexcept\u001b[0m \u001b[0mrequests\u001b[0m\u001b[1;33m.\u001b[0m\u001b[0mexceptions\u001b[0m\u001b[1;33m.\u001b[0m\u001b[0mSSLError\u001b[0m\u001b[1;33m:\u001b[0m\u001b[1;33m\u001b[0m\u001b[1;33m\u001b[0m\u001b[0m\n\u001b[0;32m    436\u001b[0m             \u001b[1;32mraise\u001b[0m \u001b[0mexceptions\u001b[0m\u001b[1;33m.\u001b[0m\u001b[0mXNATSSLError\u001b[0m\u001b[1;33m(\u001b[0m\u001b[1;34m'Encountered a problem with the SSL connection, are you sure the server is offering https?'\u001b[0m\u001b[1;33m)\u001b[0m\u001b[1;33m\u001b[0m\u001b[1;33m\u001b[0m\u001b[0m\n\u001b[1;32m--> 437\u001b[1;33m         \u001b[0mself\u001b[0m\u001b[1;33m.\u001b[0m\u001b[0m_check_response\u001b[0m\u001b[1;33m(\u001b[0m\u001b[0mresponse\u001b[0m\u001b[1;33m,\u001b[0m \u001b[0maccepted_status\u001b[0m\u001b[1;33m=\u001b[0m\u001b[0maccepted_status\u001b[0m\u001b[1;33m,\u001b[0m \u001b[0muri\u001b[0m\u001b[1;33m=\u001b[0m\u001b[0muri\u001b[0m\u001b[1;33m)\u001b[0m  \u001b[1;31m# Allow created OK or Create status (OK if already exists)\u001b[0m\u001b[1;33m\u001b[0m\u001b[1;33m\u001b[0m\u001b[0m\n\u001b[0m\u001b[0;32m    438\u001b[0m         \u001b[1;32mreturn\u001b[0m \u001b[0mresponse\u001b[0m\u001b[1;33m\u001b[0m\u001b[1;33m\u001b[0m\u001b[0m\n\u001b[0;32m    439\u001b[0m \u001b[1;33m\u001b[0m\u001b[0m\n",
      "\u001b[1;32m~\\Anaconda37\\lib\\site-packages\\xnat\\session.py\u001b[0m in \u001b[0;36m_check_response\u001b[1;34m(self, response, accepted_status, uri)\u001b[0m\n\u001b[0;32m    311\u001b[0m                 \u001b[0maccepted_status\u001b[0m \u001b[1;33m=\u001b[0m \u001b[1;33m[\u001b[0m\u001b[1;36m200\u001b[0m\u001b[1;33m,\u001b[0m \u001b[1;36m201\u001b[0m\u001b[1;33m,\u001b[0m \u001b[1;36m202\u001b[0m\u001b[1;33m,\u001b[0m \u001b[1;36m203\u001b[0m\u001b[1;33m,\u001b[0m \u001b[1;36m204\u001b[0m\u001b[1;33m,\u001b[0m \u001b[1;36m205\u001b[0m\u001b[1;33m,\u001b[0m \u001b[1;36m206\u001b[0m\u001b[1;33m]\u001b[0m  \u001b[1;31m# All successful responses of HTML\u001b[0m\u001b[1;33m\u001b[0m\u001b[1;33m\u001b[0m\u001b[0m\n\u001b[0;32m    312\u001b[0m             \u001b[1;32mif\u001b[0m \u001b[0mresponse\u001b[0m\u001b[1;33m.\u001b[0m\u001b[0mstatus_code\u001b[0m \u001b[1;32mnot\u001b[0m \u001b[1;32min\u001b[0m \u001b[0maccepted_status\u001b[0m \u001b[1;32mor\u001b[0m \u001b[1;33m(\u001b[0m\u001b[1;32mnot\u001b[0m \u001b[0mself\u001b[0m\u001b[1;33m.\u001b[0m\u001b[0mskip_response_content_check\u001b[0m \u001b[1;32mand\u001b[0m \u001b[0mresponse\u001b[0m\u001b[1;33m.\u001b[0m\u001b[0mtext\u001b[0m\u001b[1;33m.\u001b[0m\u001b[0mstartswith\u001b[0m\u001b[1;33m(\u001b[0m\u001b[1;33m(\u001b[0m\u001b[1;34m'<!DOCTYPE'\u001b[0m\u001b[1;33m,\u001b[0m \u001b[1;34m'<html>'\u001b[0m\u001b[1;33m)\u001b[0m\u001b[1;33m)\u001b[0m\u001b[1;33m)\u001b[0m\u001b[1;33m:\u001b[0m\u001b[1;33m\u001b[0m\u001b[1;33m\u001b[0m\u001b[0m\n\u001b[1;32m--> 313\u001b[1;33m                 \u001b[1;32mraise\u001b[0m \u001b[0mexceptions\u001b[0m\u001b[1;33m.\u001b[0m\u001b[0mXNATResponseError\u001b[0m\u001b[1;33m(\u001b[0m\u001b[1;34m'Invalid response from XNATSession for url {} (status {}):\\n{}'\u001b[0m\u001b[1;33m.\u001b[0m\u001b[0mformat\u001b[0m\u001b[1;33m(\u001b[0m\u001b[0muri\u001b[0m\u001b[1;33m,\u001b[0m \u001b[0mresponse\u001b[0m\u001b[1;33m.\u001b[0m\u001b[0mstatus_code\u001b[0m\u001b[1;33m,\u001b[0m \u001b[0mresponse\u001b[0m\u001b[1;33m.\u001b[0m\u001b[0mtext\u001b[0m\u001b[1;33m)\u001b[0m\u001b[1;33m)\u001b[0m\u001b[1;33m\u001b[0m\u001b[1;33m\u001b[0m\u001b[0m\n\u001b[0m\u001b[0;32m    314\u001b[0m \u001b[1;33m\u001b[0m\u001b[0m\n\u001b[0;32m    315\u001b[0m     \u001b[1;32mdef\u001b[0m \u001b[0mget\u001b[0m\u001b[1;33m(\u001b[0m\u001b[0mself\u001b[0m\u001b[1;33m,\u001b[0m \u001b[0mpath\u001b[0m\u001b[1;33m,\u001b[0m \u001b[0mformat\u001b[0m\u001b[1;33m=\u001b[0m\u001b[1;32mNone\u001b[0m\u001b[1;33m,\u001b[0m \u001b[0mquery\u001b[0m\u001b[1;33m=\u001b[0m\u001b[1;32mNone\u001b[0m\u001b[1;33m,\u001b[0m \u001b[0maccepted_status\u001b[0m\u001b[1;33m=\u001b[0m\u001b[1;32mNone\u001b[0m\u001b[1;33m,\u001b[0m \u001b[0mtimeout\u001b[0m\u001b[1;33m=\u001b[0m\u001b[1;32mNone\u001b[0m\u001b[1;33m,\u001b[0m \u001b[0mheaders\u001b[0m\u001b[1;33m=\u001b[0m\u001b[1;32mNone\u001b[0m\u001b[1;33m)\u001b[0m\u001b[1;33m:\u001b[0m\u001b[1;33m\u001b[0m\u001b[1;33m\u001b[0m\u001b[0m\n",
      "\u001b[1;31mXNATResponseError\u001b[0m: Invalid response from XNATSession for url http://10.1.1.17/data/archive/projects/BrainTumorProg_copy/subjects/XNAT_S00006/experiments/XNAT_E00017/resources/ROI_tumour?xsiType=xnat%3AresourceCatalog&req_format=qs&label=ROI_tumour (status 404):\n<html>\n<head>\n   <title>Status page</title>\n</head>\n<body>\n<h3>Unable to identify experiment</h3><p>You can get technical details <a href=\"http://www.w3.org/Protocols/rfc2616/rfc2616-sec10.html#sec10.4.5\">here</a>.<br>\nPlease continue your visit at our <a href=\"/\">home page</a>.\n</p>\n</body>\n</html>\n"
     ]
    }
   ],
   "source": [
    "assessorLabel = 'ROI_tumour'\n",
    "\n",
    "assessor = session.classes.ResourceCatalog(parent=newExperiment, label=assessorLabel)"
   ]
  },
  {
   "cell_type": "code",
   "execution_count": 42,
   "metadata": {},
   "outputs": [
    {
     "name": "stderr",
     "output_type": "stream",
     "text": [
      "[2020-02-10 15:47:15,380] DEBUG: core:171 >> PUT URI: /data/archive/projects/BrainTumorProg_copy/subjects/XNAT_S00006/experiments/XNAT_E00017/resources/ROI_tumour\n",
      "[2020-02-10 15:47:15,381] DEBUG: core:180 >> query: {'xsiType': 'xnat:resourceCatalog', 'req_format': 'qs', 'label': 'ROI_tumour'}\n",
      "[2020-02-10 15:47:15,382] DEBUG: session:428 >> PUT URI http://10.1.1.17/data/archive/projects/BrainTumorProg_copy/subjects/XNAT_S00006/experiments/XNAT_E00017/resources/ROI_tumour?xsiType=xnat%3AresourceCatalog&req_format=qs&label=ROI_tumour\n",
      "[2020-02-10 15:47:15,382] DEBUG: session:430 >> PUT DATA None\n",
      "[2020-02-10 15:47:15,383] DEBUG: session:431 >> PUT FILES None\n",
      "[2020-02-10 15:47:15,424] DEBUG: session:307 >> Received response with status code: 404\n"
     ]
    },
    {
     "ename": "XNATResponseError",
     "evalue": "Invalid response from XNATSession for url http://10.1.1.17/data/archive/projects/BrainTumorProg_copy/subjects/XNAT_S00006/experiments/XNAT_E00017/resources/ROI_tumour?xsiType=xnat%3AresourceCatalog&req_format=qs&label=ROI_tumour (status 404):\n<html>\n<head>\n   <title>Status page</title>\n</head>\n<body>\n<h3>Unable to identify experiment</h3><p>You can get technical details <a href=\"http://www.w3.org/Protocols/rfc2616/rfc2616-sec10.html#sec10.4.5\">here</a>.<br>\nPlease continue your visit at our <a href=\"/\">home page</a>.\n</p>\n</body>\n</html>\n",
     "output_type": "error",
     "traceback": [
      "\u001b[1;31m---------------------------------------------------------------------------\u001b[0m",
      "\u001b[1;31mXNATResponseError\u001b[0m                         Traceback (most recent call last)",
      "\u001b[1;32m<ipython-input-42-1ce20c22e612>\u001b[0m in \u001b[0;36m<module>\u001b[1;34m\u001b[0m\n\u001b[0;32m      1\u001b[0m \u001b[0maccessorLabel\u001b[0m \u001b[1;33m=\u001b[0m \u001b[1;34m'DICOM'\u001b[0m\u001b[1;33m\u001b[0m\u001b[1;33m\u001b[0m\u001b[0m\n\u001b[0;32m      2\u001b[0m \u001b[1;33m\u001b[0m\u001b[0m\n\u001b[1;32m----> 3\u001b[1;33m \u001b[0massessor\u001b[0m \u001b[1;33m=\u001b[0m \u001b[0msession\u001b[0m\u001b[1;33m.\u001b[0m\u001b[0mclasses\u001b[0m\u001b[1;33m.\u001b[0m\u001b[0mResourceCatalog\u001b[0m\u001b[1;33m(\u001b[0m\u001b[0mparent\u001b[0m\u001b[1;33m=\u001b[0m\u001b[0mnewExperiment\u001b[0m\u001b[1;33m,\u001b[0m \u001b[0mlabel\u001b[0m\u001b[1;33m=\u001b[0m\u001b[0massessorLabel\u001b[0m\u001b[1;33m)\u001b[0m\u001b[1;33m\u001b[0m\u001b[1;33m\u001b[0m\u001b[0m\n\u001b[0m",
      "\u001b[1;32m~\\Anaconda37\\lib\\site-packages\\xnat\\mixin.py\u001b[0m in \u001b[0;36m__init__\u001b[1;34m(self, uri, xnat_session, id_, datafields, parent, fieldname, overwrites, data_dir, upload_method, **kwargs)\u001b[0m\n\u001b[0;32m    461\u001b[0m             \u001b[0mfieldname\u001b[0m\u001b[1;33m=\u001b[0m\u001b[0mfieldname\u001b[0m\u001b[1;33m,\u001b[0m\u001b[1;33m\u001b[0m\u001b[1;33m\u001b[0m\u001b[0m\n\u001b[0;32m    462\u001b[0m             \u001b[0moverwrites\u001b[0m\u001b[1;33m=\u001b[0m\u001b[0moverwrites\u001b[0m\u001b[1;33m,\u001b[0m\u001b[1;33m\u001b[0m\u001b[1;33m\u001b[0m\u001b[0m\n\u001b[1;32m--> 463\u001b[1;33m             \u001b[1;33m**\u001b[0m\u001b[0mkwargs\u001b[0m\u001b[1;33m\u001b[0m\u001b[1;33m\u001b[0m\u001b[0m\n\u001b[0m\u001b[0;32m    464\u001b[0m         )\n\u001b[0;32m    465\u001b[0m \u001b[1;33m\u001b[0m\u001b[0m\n",
      "\u001b[1;32m~\\Anaconda37\\lib\\site-packages\\xnat\\core.py\u001b[0m in \u001b[0;36m__init__\u001b[1;34m(self, uri, xnat_session, id_, datafields, parent, fieldname, overwrites, **kwargs)\u001b[0m\n\u001b[0;32m    179\u001b[0m \u001b[1;33m\u001b[0m\u001b[0m\n\u001b[0;32m    180\u001b[0m                 \u001b[0mself\u001b[0m\u001b[1;33m.\u001b[0m\u001b[0mlogger\u001b[0m\u001b[1;33m.\u001b[0m\u001b[0mdebug\u001b[0m\u001b[1;33m(\u001b[0m\u001b[1;34m'query: {}'\u001b[0m\u001b[1;33m.\u001b[0m\u001b[0mformat\u001b[0m\u001b[1;33m(\u001b[0m\u001b[0mquery\u001b[0m\u001b[1;33m)\u001b[0m\u001b[1;33m)\u001b[0m\u001b[1;33m\u001b[0m\u001b[1;33m\u001b[0m\u001b[0m\n\u001b[1;32m--> 181\u001b[1;33m                 \u001b[0mself\u001b[0m\u001b[1;33m.\u001b[0m\u001b[0mxnat_session\u001b[0m\u001b[1;33m.\u001b[0m\u001b[0mput\u001b[0m\u001b[1;33m(\u001b[0m\u001b[0muri\u001b[0m\u001b[1;33m,\u001b[0m \u001b[0mquery\u001b[0m\u001b[1;33m=\u001b[0m\u001b[0mquery\u001b[0m\u001b[1;33m)\u001b[0m\u001b[1;33m\u001b[0m\u001b[1;33m\u001b[0m\u001b[0m\n\u001b[0m\u001b[0;32m    182\u001b[0m             \u001b[1;32melse\u001b[0m\u001b[1;33m:\u001b[0m\u001b[1;33m\u001b[0m\u001b[1;33m\u001b[0m\u001b[0m\n\u001b[0;32m    183\u001b[0m                 raise exceptions.XNATValueError('The {} for a {} need to be specified on creation'.format(\n",
      "\u001b[1;32m~\\Anaconda37\\lib\\site-packages\\xnat\\session.py\u001b[0m in \u001b[0;36mput\u001b[1;34m(self, path, data, files, json, format, query, accepted_status, timeout, headers)\u001b[0m\n\u001b[0;32m    435\u001b[0m         \u001b[1;32mexcept\u001b[0m \u001b[0mrequests\u001b[0m\u001b[1;33m.\u001b[0m\u001b[0mexceptions\u001b[0m\u001b[1;33m.\u001b[0m\u001b[0mSSLError\u001b[0m\u001b[1;33m:\u001b[0m\u001b[1;33m\u001b[0m\u001b[1;33m\u001b[0m\u001b[0m\n\u001b[0;32m    436\u001b[0m             \u001b[1;32mraise\u001b[0m \u001b[0mexceptions\u001b[0m\u001b[1;33m.\u001b[0m\u001b[0mXNATSSLError\u001b[0m\u001b[1;33m(\u001b[0m\u001b[1;34m'Encountered a problem with the SSL connection, are you sure the server is offering https?'\u001b[0m\u001b[1;33m)\u001b[0m\u001b[1;33m\u001b[0m\u001b[1;33m\u001b[0m\u001b[0m\n\u001b[1;32m--> 437\u001b[1;33m         \u001b[0mself\u001b[0m\u001b[1;33m.\u001b[0m\u001b[0m_check_response\u001b[0m\u001b[1;33m(\u001b[0m\u001b[0mresponse\u001b[0m\u001b[1;33m,\u001b[0m \u001b[0maccepted_status\u001b[0m\u001b[1;33m=\u001b[0m\u001b[0maccepted_status\u001b[0m\u001b[1;33m,\u001b[0m \u001b[0muri\u001b[0m\u001b[1;33m=\u001b[0m\u001b[0muri\u001b[0m\u001b[1;33m)\u001b[0m  \u001b[1;31m# Allow created OK or Create status (OK if already exists)\u001b[0m\u001b[1;33m\u001b[0m\u001b[1;33m\u001b[0m\u001b[0m\n\u001b[0m\u001b[0;32m    438\u001b[0m         \u001b[1;32mreturn\u001b[0m \u001b[0mresponse\u001b[0m\u001b[1;33m\u001b[0m\u001b[1;33m\u001b[0m\u001b[0m\n\u001b[0;32m    439\u001b[0m \u001b[1;33m\u001b[0m\u001b[0m\n",
      "\u001b[1;32m~\\Anaconda37\\lib\\site-packages\\xnat\\session.py\u001b[0m in \u001b[0;36m_check_response\u001b[1;34m(self, response, accepted_status, uri)\u001b[0m\n\u001b[0;32m    311\u001b[0m                 \u001b[0maccepted_status\u001b[0m \u001b[1;33m=\u001b[0m \u001b[1;33m[\u001b[0m\u001b[1;36m200\u001b[0m\u001b[1;33m,\u001b[0m \u001b[1;36m201\u001b[0m\u001b[1;33m,\u001b[0m \u001b[1;36m202\u001b[0m\u001b[1;33m,\u001b[0m \u001b[1;36m203\u001b[0m\u001b[1;33m,\u001b[0m \u001b[1;36m204\u001b[0m\u001b[1;33m,\u001b[0m \u001b[1;36m205\u001b[0m\u001b[1;33m,\u001b[0m \u001b[1;36m206\u001b[0m\u001b[1;33m]\u001b[0m  \u001b[1;31m# All successful responses of HTML\u001b[0m\u001b[1;33m\u001b[0m\u001b[1;33m\u001b[0m\u001b[0m\n\u001b[0;32m    312\u001b[0m             \u001b[1;32mif\u001b[0m \u001b[0mresponse\u001b[0m\u001b[1;33m.\u001b[0m\u001b[0mstatus_code\u001b[0m \u001b[1;32mnot\u001b[0m \u001b[1;32min\u001b[0m \u001b[0maccepted_status\u001b[0m \u001b[1;32mor\u001b[0m \u001b[1;33m(\u001b[0m\u001b[1;32mnot\u001b[0m \u001b[0mself\u001b[0m\u001b[1;33m.\u001b[0m\u001b[0mskip_response_content_check\u001b[0m \u001b[1;32mand\u001b[0m \u001b[0mresponse\u001b[0m\u001b[1;33m.\u001b[0m\u001b[0mtext\u001b[0m\u001b[1;33m.\u001b[0m\u001b[0mstartswith\u001b[0m\u001b[1;33m(\u001b[0m\u001b[1;33m(\u001b[0m\u001b[1;34m'<!DOCTYPE'\u001b[0m\u001b[1;33m,\u001b[0m \u001b[1;34m'<html>'\u001b[0m\u001b[1;33m)\u001b[0m\u001b[1;33m)\u001b[0m\u001b[1;33m)\u001b[0m\u001b[1;33m:\u001b[0m\u001b[1;33m\u001b[0m\u001b[1;33m\u001b[0m\u001b[0m\n\u001b[1;32m--> 313\u001b[1;33m                 \u001b[1;32mraise\u001b[0m \u001b[0mexceptions\u001b[0m\u001b[1;33m.\u001b[0m\u001b[0mXNATResponseError\u001b[0m\u001b[1;33m(\u001b[0m\u001b[1;34m'Invalid response from XNATSession for url {} (status {}):\\n{}'\u001b[0m\u001b[1;33m.\u001b[0m\u001b[0mformat\u001b[0m\u001b[1;33m(\u001b[0m\u001b[0muri\u001b[0m\u001b[1;33m,\u001b[0m \u001b[0mresponse\u001b[0m\u001b[1;33m.\u001b[0m\u001b[0mstatus_code\u001b[0m\u001b[1;33m,\u001b[0m \u001b[0mresponse\u001b[0m\u001b[1;33m.\u001b[0m\u001b[0mtext\u001b[0m\u001b[1;33m)\u001b[0m\u001b[1;33m)\u001b[0m\u001b[1;33m\u001b[0m\u001b[1;33m\u001b[0m\u001b[0m\n\u001b[0m\u001b[0;32m    314\u001b[0m \u001b[1;33m\u001b[0m\u001b[0m\n\u001b[0;32m    315\u001b[0m     \u001b[1;32mdef\u001b[0m \u001b[0mget\u001b[0m\u001b[1;33m(\u001b[0m\u001b[0mself\u001b[0m\u001b[1;33m,\u001b[0m \u001b[0mpath\u001b[0m\u001b[1;33m,\u001b[0m \u001b[0mformat\u001b[0m\u001b[1;33m=\u001b[0m\u001b[1;32mNone\u001b[0m\u001b[1;33m,\u001b[0m \u001b[0mquery\u001b[0m\u001b[1;33m=\u001b[0m\u001b[1;32mNone\u001b[0m\u001b[1;33m,\u001b[0m \u001b[0maccepted_status\u001b[0m\u001b[1;33m=\u001b[0m\u001b[1;32mNone\u001b[0m\u001b[1;33m,\u001b[0m \u001b[0mtimeout\u001b[0m\u001b[1;33m=\u001b[0m\u001b[1;32mNone\u001b[0m\u001b[1;33m,\u001b[0m \u001b[0mheaders\u001b[0m\u001b[1;33m=\u001b[0m\u001b[1;32mNone\u001b[0m\u001b[1;33m)\u001b[0m\u001b[1;33m:\u001b[0m\u001b[1;33m\u001b[0m\u001b[1;33m\u001b[0m\u001b[0m\n",
      "\u001b[1;31mXNATResponseError\u001b[0m: Invalid response from XNATSession for url http://10.1.1.17/data/archive/projects/BrainTumorProg_copy/subjects/XNAT_S00006/experiments/XNAT_E00017/resources/ROI_tumour?xsiType=xnat%3AresourceCatalog&req_format=qs&label=ROI_tumour (status 404):\n<html>\n<head>\n   <title>Status page</title>\n</head>\n<body>\n<h3>Unable to identify experiment</h3><p>You can get technical details <a href=\"http://www.w3.org/Protocols/rfc2616/rfc2616-sec10.html#sec10.4.5\">here</a>.<br>\nPlease continue your visit at our <a href=\"/\">home page</a>.\n</p>\n</body>\n</html>\n"
     ]
    }
   ],
   "source": [
    "accessorLabel = 'DICOM'\n",
    "\n",
    "assessor = session.classes.ResourceCatalog(parent=newExperiment, label=assessorLabel)"
   ]
  },
  {
   "cell_type": "code",
   "execution_count": 46,
   "metadata": {},
   "outputs": [
    {
     "ename": "TypeError",
     "evalue": "create_assessor() missing 1 required positional argument: 'type_'",
     "output_type": "error",
     "traceback": [
      "\u001b[1;31m---------------------------------------------------------------------------\u001b[0m",
      "\u001b[1;31mTypeError\u001b[0m                                 Traceback (most recent call last)",
      "\u001b[1;32m<ipython-input-46-4d462485f2bf>\u001b[0m in \u001b[0;36m<module>\u001b[1;34m\u001b[0m\n\u001b[0;32m      3\u001b[0m \u001b[1;33m\u001b[0m\u001b[0m\n\u001b[0;32m      4\u001b[0m \u001b[1;31m# remove the type_ input:\u001b[0m\u001b[1;33m\u001b[0m\u001b[1;33m\u001b[0m\u001b[1;33m\u001b[0m\u001b[0m\n\u001b[1;32m----> 5\u001b[1;33m \u001b[0mnewExperiment\u001b[0m\u001b[1;33m.\u001b[0m\u001b[0mcreate_assessor\u001b[0m\u001b[1;33m(\u001b[0m\u001b[0massessorLabel\u001b[0m\u001b[1;33m)\u001b[0m\u001b[1;33m\u001b[0m\u001b[1;33m\u001b[0m\u001b[0m\n\u001b[0m",
      "\u001b[1;31mTypeError\u001b[0m: create_assessor() missing 1 required positional argument: 'type_'"
     ]
    }
   ],
   "source": [
    "# This seems to have worked before:\n",
    "#newExperiment.create_assessor(assessorLabel, type_='xnat:qcAssessmentData')  \n",
    "\n",
    "# Tried others:\n",
    "# newExperiment.create_assessor(assessorLabel) # <-- TypeError: create_assessor() missing 1 required positional argument: 'type_'\n",
    "# newExperiment.create_assessor(assessorLabel, type_='xnat:RoiCollectionData')  # <-- XNATResponseError"
   ]
  },
  {
   "cell_type": "code",
   "execution_count": 49,
   "metadata": {},
   "outputs": [
    {
     "name": "stderr",
     "output_type": "stream",
     "text": [
      "[2020-02-10 16:26:56,470] DEBUG: session:428 >> PUT URI http://10.1.1.17/data/archive/projects/BrainTumorProg_copy/subjects/XNAT_S00006/experiments/XNAT_E00017/assessors/ROI_tumour?xsiType=xnat:qcAssessmentData&label=ROI_tumour&req_format=qs\n",
      "[2020-02-10 16:26:56,470] DEBUG: session:430 >> PUT DATA None\n",
      "[2020-02-10 16:26:56,471] DEBUG: session:431 >> PUT FILES None\n",
      "[2020-02-10 16:26:56,501] DEBUG: session:307 >> Received response with status code: 400\n"
     ]
    },
    {
     "ename": "XNATResponseError",
     "evalue": "Invalid response from XNATSession for url http://10.1.1.17/data/archive/projects/BrainTumorProg_copy/subjects/XNAT_S00006/experiments/XNAT_E00017/assessors/ROI_tumour?xsiType=xnat:qcAssessmentData&label=ROI_tumour&req_format=qs (status 400):\n<html>\n<head>\n   <title>Status page</title>\n</head>\n<body>\n<h3>The content of element 'xnat:imageAssessorData' is not complete. '{\"http://nrg.wustl.edu/xnat\":imageSession_ID}' Required Field\n</h3><p>You can get technical details <a href=\"http://www.w3.org/Protocols/rfc2616/rfc2616-sec10.html#sec10.4.1\">here</a>.<br>\nPlease continue your visit at our <a href=\"/\">home page</a>.\n</p>\n</body>\n</html>\n",
     "output_type": "error",
     "traceback": [
      "\u001b[1;31m---------------------------------------------------------------------------\u001b[0m",
      "\u001b[1;31mXNATResponseError\u001b[0m                         Traceback (most recent call last)",
      "\u001b[1;32m<ipython-input-49-5a66b3296632>\u001b[0m in \u001b[0;36m<module>\u001b[1;34m\u001b[0m\n\u001b[1;32m----> 1\u001b[1;33m \u001b[0mnewExperiment\u001b[0m\u001b[1;33m.\u001b[0m\u001b[0mcreate_assessor\u001b[0m\u001b[1;33m(\u001b[0m\u001b[0massessorLabel\u001b[0m\u001b[1;33m,\u001b[0m \u001b[0mtype_\u001b[0m\u001b[1;33m=\u001b[0m\u001b[1;34m'xnat:qcAssessmentData'\u001b[0m\u001b[1;33m)\u001b[0m\u001b[1;33m\u001b[0m\u001b[1;33m\u001b[0m\u001b[0m\n\u001b[0m",
      "\u001b[1;32m~\\Anaconda37\\lib\\site-packages\\xnat\\mixin.py\u001b[0m in \u001b[0;36mcreate_assessor\u001b[1;34m(self, label, type_)\u001b[0m\n\u001b[0;32m    260\u001b[0m                                                                                        \u001b[0mtype\u001b[0m\u001b[1;33m=\u001b[0m\u001b[0mtype_\u001b[0m\u001b[1;33m,\u001b[0m\u001b[1;33m\u001b[0m\u001b[1;33m\u001b[0m\u001b[0m\n\u001b[0;32m    261\u001b[0m                                                                                        label=label)\n\u001b[1;32m--> 262\u001b[1;33m         \u001b[0mself\u001b[0m\u001b[1;33m.\u001b[0m\u001b[0mxnat_session\u001b[0m\u001b[1;33m.\u001b[0m\u001b[0mput\u001b[0m\u001b[1;33m(\u001b[0m\u001b[0muri\u001b[0m\u001b[1;33m,\u001b[0m \u001b[0maccepted_status\u001b[0m\u001b[1;33m=\u001b[0m\u001b[1;33m(\u001b[0m\u001b[1;36m200\u001b[0m\u001b[1;33m,\u001b[0m \u001b[1;36m201\u001b[0m\u001b[1;33m)\u001b[0m\u001b[1;33m)\u001b[0m\u001b[1;33m\u001b[0m\u001b[1;33m\u001b[0m\u001b[0m\n\u001b[0m\u001b[0;32m    263\u001b[0m         \u001b[0mself\u001b[0m\u001b[1;33m.\u001b[0m\u001b[0mclearcache\u001b[0m\u001b[1;33m(\u001b[0m\u001b[1;33m)\u001b[0m  \u001b[1;31m# The resources changed, so we have to clear the cache\u001b[0m\u001b[1;33m\u001b[0m\u001b[1;33m\u001b[0m\u001b[0m\n\u001b[0;32m    264\u001b[0m         \u001b[1;32mreturn\u001b[0m \u001b[0mself\u001b[0m\u001b[1;33m.\u001b[0m\u001b[0mxnat_session\u001b[0m\u001b[1;33m.\u001b[0m\u001b[0mcreate_object\u001b[0m\u001b[1;33m(\u001b[0m\u001b[1;34m'{}/assessors/{}'\u001b[0m\u001b[1;33m.\u001b[0m\u001b[0mformat\u001b[0m\u001b[1;33m(\u001b[0m\u001b[0mself\u001b[0m\u001b[1;33m.\u001b[0m\u001b[0mfulluri\u001b[0m\u001b[1;33m,\u001b[0m \u001b[0mlabel\u001b[0m\u001b[1;33m)\u001b[0m\u001b[1;33m,\u001b[0m \u001b[0mtype_\u001b[0m\u001b[1;33m=\u001b[0m\u001b[0mtype_\u001b[0m\u001b[1;33m)\u001b[0m\u001b[1;33m\u001b[0m\u001b[1;33m\u001b[0m\u001b[0m\n",
      "\u001b[1;32m~\\Anaconda37\\lib\\site-packages\\xnat\\session.py\u001b[0m in \u001b[0;36mput\u001b[1;34m(self, path, data, files, json, format, query, accepted_status, timeout, headers)\u001b[0m\n\u001b[0;32m    435\u001b[0m         \u001b[1;32mexcept\u001b[0m \u001b[0mrequests\u001b[0m\u001b[1;33m.\u001b[0m\u001b[0mexceptions\u001b[0m\u001b[1;33m.\u001b[0m\u001b[0mSSLError\u001b[0m\u001b[1;33m:\u001b[0m\u001b[1;33m\u001b[0m\u001b[1;33m\u001b[0m\u001b[0m\n\u001b[0;32m    436\u001b[0m             \u001b[1;32mraise\u001b[0m \u001b[0mexceptions\u001b[0m\u001b[1;33m.\u001b[0m\u001b[0mXNATSSLError\u001b[0m\u001b[1;33m(\u001b[0m\u001b[1;34m'Encountered a problem with the SSL connection, are you sure the server is offering https?'\u001b[0m\u001b[1;33m)\u001b[0m\u001b[1;33m\u001b[0m\u001b[1;33m\u001b[0m\u001b[0m\n\u001b[1;32m--> 437\u001b[1;33m         \u001b[0mself\u001b[0m\u001b[1;33m.\u001b[0m\u001b[0m_check_response\u001b[0m\u001b[1;33m(\u001b[0m\u001b[0mresponse\u001b[0m\u001b[1;33m,\u001b[0m \u001b[0maccepted_status\u001b[0m\u001b[1;33m=\u001b[0m\u001b[0maccepted_status\u001b[0m\u001b[1;33m,\u001b[0m \u001b[0muri\u001b[0m\u001b[1;33m=\u001b[0m\u001b[0muri\u001b[0m\u001b[1;33m)\u001b[0m  \u001b[1;31m# Allow created OK or Create status (OK if already exists)\u001b[0m\u001b[1;33m\u001b[0m\u001b[1;33m\u001b[0m\u001b[0m\n\u001b[0m\u001b[0;32m    438\u001b[0m         \u001b[1;32mreturn\u001b[0m \u001b[0mresponse\u001b[0m\u001b[1;33m\u001b[0m\u001b[1;33m\u001b[0m\u001b[0m\n\u001b[0;32m    439\u001b[0m \u001b[1;33m\u001b[0m\u001b[0m\n",
      "\u001b[1;32m~\\Anaconda37\\lib\\site-packages\\xnat\\session.py\u001b[0m in \u001b[0;36m_check_response\u001b[1;34m(self, response, accepted_status, uri)\u001b[0m\n\u001b[0;32m    311\u001b[0m                 \u001b[0maccepted_status\u001b[0m \u001b[1;33m=\u001b[0m \u001b[1;33m[\u001b[0m\u001b[1;36m200\u001b[0m\u001b[1;33m,\u001b[0m \u001b[1;36m201\u001b[0m\u001b[1;33m,\u001b[0m \u001b[1;36m202\u001b[0m\u001b[1;33m,\u001b[0m \u001b[1;36m203\u001b[0m\u001b[1;33m,\u001b[0m \u001b[1;36m204\u001b[0m\u001b[1;33m,\u001b[0m \u001b[1;36m205\u001b[0m\u001b[1;33m,\u001b[0m \u001b[1;36m206\u001b[0m\u001b[1;33m]\u001b[0m  \u001b[1;31m# All successful responses of HTML\u001b[0m\u001b[1;33m\u001b[0m\u001b[1;33m\u001b[0m\u001b[0m\n\u001b[0;32m    312\u001b[0m             \u001b[1;32mif\u001b[0m \u001b[0mresponse\u001b[0m\u001b[1;33m.\u001b[0m\u001b[0mstatus_code\u001b[0m \u001b[1;32mnot\u001b[0m \u001b[1;32min\u001b[0m \u001b[0maccepted_status\u001b[0m \u001b[1;32mor\u001b[0m \u001b[1;33m(\u001b[0m\u001b[1;32mnot\u001b[0m \u001b[0mself\u001b[0m\u001b[1;33m.\u001b[0m\u001b[0mskip_response_content_check\u001b[0m \u001b[1;32mand\u001b[0m \u001b[0mresponse\u001b[0m\u001b[1;33m.\u001b[0m\u001b[0mtext\u001b[0m\u001b[1;33m.\u001b[0m\u001b[0mstartswith\u001b[0m\u001b[1;33m(\u001b[0m\u001b[1;33m(\u001b[0m\u001b[1;34m'<!DOCTYPE'\u001b[0m\u001b[1;33m,\u001b[0m \u001b[1;34m'<html>'\u001b[0m\u001b[1;33m)\u001b[0m\u001b[1;33m)\u001b[0m\u001b[1;33m)\u001b[0m\u001b[1;33m:\u001b[0m\u001b[1;33m\u001b[0m\u001b[1;33m\u001b[0m\u001b[0m\n\u001b[1;32m--> 313\u001b[1;33m                 \u001b[1;32mraise\u001b[0m \u001b[0mexceptions\u001b[0m\u001b[1;33m.\u001b[0m\u001b[0mXNATResponseError\u001b[0m\u001b[1;33m(\u001b[0m\u001b[1;34m'Invalid response from XNATSession for url {} (status {}):\\n{}'\u001b[0m\u001b[1;33m.\u001b[0m\u001b[0mformat\u001b[0m\u001b[1;33m(\u001b[0m\u001b[0muri\u001b[0m\u001b[1;33m,\u001b[0m \u001b[0mresponse\u001b[0m\u001b[1;33m.\u001b[0m\u001b[0mstatus_code\u001b[0m\u001b[1;33m,\u001b[0m \u001b[0mresponse\u001b[0m\u001b[1;33m.\u001b[0m\u001b[0mtext\u001b[0m\u001b[1;33m)\u001b[0m\u001b[1;33m)\u001b[0m\u001b[1;33m\u001b[0m\u001b[1;33m\u001b[0m\u001b[0m\n\u001b[0m\u001b[0;32m    314\u001b[0m \u001b[1;33m\u001b[0m\u001b[0m\n\u001b[0;32m    315\u001b[0m     \u001b[1;32mdef\u001b[0m \u001b[0mget\u001b[0m\u001b[1;33m(\u001b[0m\u001b[0mself\u001b[0m\u001b[1;33m,\u001b[0m \u001b[0mpath\u001b[0m\u001b[1;33m,\u001b[0m \u001b[0mformat\u001b[0m\u001b[1;33m=\u001b[0m\u001b[1;32mNone\u001b[0m\u001b[1;33m,\u001b[0m \u001b[0mquery\u001b[0m\u001b[1;33m=\u001b[0m\u001b[1;32mNone\u001b[0m\u001b[1;33m,\u001b[0m \u001b[0maccepted_status\u001b[0m\u001b[1;33m=\u001b[0m\u001b[1;32mNone\u001b[0m\u001b[1;33m,\u001b[0m \u001b[0mtimeout\u001b[0m\u001b[1;33m=\u001b[0m\u001b[1;32mNone\u001b[0m\u001b[1;33m,\u001b[0m \u001b[0mheaders\u001b[0m\u001b[1;33m=\u001b[0m\u001b[1;32mNone\u001b[0m\u001b[1;33m)\u001b[0m\u001b[1;33m:\u001b[0m\u001b[1;33m\u001b[0m\u001b[1;33m\u001b[0m\u001b[0m\n",
      "\u001b[1;31mXNATResponseError\u001b[0m: Invalid response from XNATSession for url http://10.1.1.17/data/archive/projects/BrainTumorProg_copy/subjects/XNAT_S00006/experiments/XNAT_E00017/assessors/ROI_tumour?xsiType=xnat:qcAssessmentData&label=ROI_tumour&req_format=qs (status 400):\n<html>\n<head>\n   <title>Status page</title>\n</head>\n<body>\n<h3>The content of element 'xnat:imageAssessorData' is not complete. '{\"http://nrg.wustl.edu/xnat\":imageSession_ID}' Required Field\n</h3><p>You can get technical details <a href=\"http://www.w3.org/Protocols/rfc2616/rfc2616-sec10.html#sec10.4.1\">here</a>.<br>\nPlease continue your visit at our <a href=\"/\">home page</a>.\n</p>\n</body>\n</html>\n"
     ]
    }
   ],
   "source": [
    "newExperiment.create_assessor(assessorLabel, type_='xnat:qcAssessmentData')"
   ]
  },
  {
   "cell_type": "code",
   "execution_count": 51,
   "metadata": {},
   "outputs": [
    {
     "ename": "NameError",
     "evalue": "name 'assessor' is not defined",
     "output_type": "error",
     "traceback": [
      "\u001b[1;31m---------------------------------------------------------------------------\u001b[0m",
      "\u001b[1;31mNameError\u001b[0m                                 Traceback (most recent call last)",
      "\u001b[1;32m<ipython-input-51-99e2c1137e64>\u001b[0m in \u001b[0;36m<module>\u001b[1;34m\u001b[0m\n\u001b[0;32m      3\u001b[0m \u001b[1;31m#resource = session.classes.ResourceCatalog(parent=assessor, label='RESOURCE_LABEL') # was connection.classes...\u001b[0m\u001b[1;33m\u001b[0m\u001b[1;33m\u001b[0m\u001b[1;33m\u001b[0m\u001b[0m\n\u001b[0;32m      4\u001b[0m \u001b[1;31m# but might have been a typo?\u001b[0m\u001b[1;33m\u001b[0m\u001b[1;33m\u001b[0m\u001b[1;33m\u001b[0m\u001b[0m\n\u001b[1;32m----> 5\u001b[1;33m \u001b[0mresource\u001b[0m \u001b[1;33m=\u001b[0m \u001b[0msession\u001b[0m\u001b[1;33m.\u001b[0m\u001b[0mclasses\u001b[0m\u001b[1;33m.\u001b[0m\u001b[0mResourceCatalog\u001b[0m\u001b[1;33m(\u001b[0m\u001b[0mparent\u001b[0m\u001b[1;33m=\u001b[0m\u001b[0massessor\u001b[0m\u001b[1;33m,\u001b[0m \u001b[0mlabel\u001b[0m\u001b[1;33m=\u001b[0m\u001b[0mresourceLabel\u001b[0m\u001b[1;33m)\u001b[0m\u001b[1;33m\u001b[0m\u001b[1;33m\u001b[0m\u001b[0m\n\u001b[0m",
      "\u001b[1;31mNameError\u001b[0m: name 'assessor' is not defined"
     ]
    }
   ],
   "source": [
    "resourceLabel = 'ROI_tumour'\n",
    "\n",
    "#resource = session.classes.ResourceCatalog(parent=assessor, label='RESOURCE_LABEL') # was connection.classes... \n",
    "# but might have been a typo?\n",
    "resource = session.classes.ResourceCatalog(parent=assessor, label=resourceLabel) "
   ]
  },
  {
   "cell_type": "code",
   "execution_count": null,
   "metadata": {},
   "outputs": [],
   "source": []
  },
  {
   "cell_type": "code",
   "execution_count": 92,
   "metadata": {},
   "outputs": [
    {
     "name": "stderr",
     "output_type": "stream",
     "text": [
      "[2020-02-12 17:01:23,311] DEBUG: session:334 >> GET URI http://10.1.1.17/data/archive/projects/BrainTumorProg_copy/subjects/XNAT_S00006/experiments/PGM-002_copy_MR_2?format=json\n",
      "[2020-02-12 17:01:23,832] DEBUG: session:307 >> Received response with status code: 200\n",
      "[2020-02-12 17:01:23,833] DEBUG: session:661 >> UPLOAD URI http://10.1.1.17/data/services/import?dest=%2Fprearchive&project=%3CMrSessionData+PGM-002_copy_MR_2+%28XNAT_E00015%29%3E\n",
      "[2020-02-12 17:01:24,253] DEBUG: session:307 >> Received response with status code: 500\n"
     ]
    },
    {
     "ename": "XNATUploadError",
     "evalue": "Upload failed after 1 attempts! Status code 500, response text <html>\n<head>\n   <title>Status page</title>\n</head>\n<body>\n<h3>An error occurred adding the session to the prearchive database</h3><p>You can get technical details <a href=\"http://www.w3.org/Protocols/rfc2616/rfc2616-sec10.html#sec10.5.1\">here</a>.<br>\nPlease continue your visit at our <a href=\"/\">home page</a>.\n</p>\n</body>\n</html>\n",
     "output_type": "error",
     "traceback": [
      "\u001b[1;31m---------------------------------------------------------------------------\u001b[0m",
      "\u001b[1;31mXNATUploadError\u001b[0m                           Traceback (most recent call last)",
      "\u001b[1;32m<ipython-input-92-13f97f67b710>\u001b[0m in \u001b[0;36m<module>\u001b[1;34m\u001b[0m\n\u001b[0;32m      3\u001b[0m prearchive_session = session.services.import_(roiFpathDL, \\\n\u001b[0;32m      4\u001b[0m                                               \u001b[0mproject\u001b[0m\u001b[1;33m=\u001b[0m\u001b[0mnewExperiment\u001b[0m\u001b[1;33m,\u001b[0m\u001b[0;31m \u001b[0m\u001b[0;31m\\\u001b[0m\u001b[1;33m\u001b[0m\u001b[1;33m\u001b[0m\u001b[0m\n\u001b[1;32m----> 5\u001b[1;33m                                               destination='/prearchive')\n\u001b[0m",
      "\u001b[1;32m~\\Anaconda37\\lib\\site-packages\\xnat\\services.py\u001b[0m in \u001b[0;36mimport_\u001b[1;34m(self, path, overwrite, quarantine, destination, trigger_pipelines, project, subject, experiment, content_type)\u001b[0m\n\u001b[0;32m    109\u001b[0m \u001b[1;33m\u001b[0m\u001b[0m\n\u001b[0;32m    110\u001b[0m         \u001b[0muri\u001b[0m \u001b[1;33m=\u001b[0m \u001b[1;34m'/data/services/import'\u001b[0m\u001b[1;33m\u001b[0m\u001b[1;33m\u001b[0m\u001b[0m\n\u001b[1;32m--> 111\u001b[1;33m         \u001b[0mresponse\u001b[0m \u001b[1;33m=\u001b[0m \u001b[0mself\u001b[0m\u001b[1;33m.\u001b[0m\u001b[0mxnat_session\u001b[0m\u001b[1;33m.\u001b[0m\u001b[0mupload\u001b[0m\u001b[1;33m(\u001b[0m\u001b[0muri\u001b[0m\u001b[1;33m=\u001b[0m\u001b[0muri\u001b[0m\u001b[1;33m,\u001b[0m \u001b[0mfile_\u001b[0m\u001b[1;33m=\u001b[0m\u001b[0mpath\u001b[0m\u001b[1;33m,\u001b[0m \u001b[0mquery\u001b[0m\u001b[1;33m=\u001b[0m\u001b[0mquery\u001b[0m\u001b[1;33m,\u001b[0m \u001b[0mcontent_type\u001b[0m\u001b[1;33m=\u001b[0m\u001b[0mcontent_type\u001b[0m\u001b[1;33m,\u001b[0m \u001b[0mmethod\u001b[0m\u001b[1;33m=\u001b[0m\u001b[1;34m'post'\u001b[0m\u001b[1;33m)\u001b[0m\u001b[1;33m\u001b[0m\u001b[1;33m\u001b[0m\u001b[0m\n\u001b[0m\u001b[0;32m    112\u001b[0m \u001b[1;33m\u001b[0m\u001b[0m\n\u001b[0;32m    113\u001b[0m         \u001b[1;32mif\u001b[0m \u001b[0mresponse\u001b[0m\u001b[1;33m.\u001b[0m\u001b[0mstatus_code\u001b[0m \u001b[1;33m!=\u001b[0m \u001b[1;36m200\u001b[0m\u001b[1;33m:\u001b[0m\u001b[1;33m\u001b[0m\u001b[1;33m\u001b[0m\u001b[0m\n",
      "\u001b[1;32m~\\Anaconda37\\lib\\site-packages\\xnat\\session.py\u001b[0m in \u001b[0;36mupload\u001b[1;34m(self, uri, file_, retries, query, content_type, method, overwrite, timeout)\u001b[0m\n\u001b[0;32m    703\u001b[0m \u001b[1;33m\u001b[0m\u001b[0m\n\u001b[0;32m    704\u001b[0m         \u001b[1;31m# We didn't return correctly, so we have an error\u001b[0m\u001b[1;33m\u001b[0m\u001b[1;33m\u001b[0m\u001b[1;33m\u001b[0m\u001b[0m\n\u001b[1;32m--> 705\u001b[1;33m         \u001b[1;32mraise\u001b[0m \u001b[0mexceptions\u001b[0m\u001b[1;33m.\u001b[0m\u001b[0mXNATUploadError\u001b[0m\u001b[1;33m(\u001b[0m\u001b[1;34m'Upload failed after {} attempts! Status code {}, response text {}'\u001b[0m\u001b[1;33m.\u001b[0m\u001b[0mformat\u001b[0m\u001b[1;33m(\u001b[0m\u001b[0mretries\u001b[0m\u001b[1;33m,\u001b[0m \u001b[0mresponse\u001b[0m\u001b[1;33m.\u001b[0m\u001b[0mstatus_code\u001b[0m\u001b[1;33m,\u001b[0m \u001b[0mresponse\u001b[0m\u001b[1;33m.\u001b[0m\u001b[0mtext\u001b[0m\u001b[1;33m)\u001b[0m\u001b[1;33m)\u001b[0m\u001b[1;33m\u001b[0m\u001b[1;33m\u001b[0m\u001b[0m\n\u001b[0m\u001b[0;32m    706\u001b[0m \u001b[1;33m\u001b[0m\u001b[0m\n\u001b[0;32m    707\u001b[0m     \u001b[1;33m@\u001b[0m\u001b[0mproperty\u001b[0m\u001b[1;33m\u001b[0m\u001b[1;33m\u001b[0m\u001b[0m\n",
      "\u001b[1;31mXNATUploadError\u001b[0m: Upload failed after 1 attempts! Status code 500, response text <html>\n<head>\n   <title>Status page</title>\n</head>\n<body>\n<h3>An error occurred adding the session to the prearchive database</h3><p>You can get technical details <a href=\"http://www.w3.org/Protocols/rfc2616/rfc2616-sec10.html#sec10.5.1\">here</a>.<br>\nPlease continue your visit at our <a href=\"/\">home page</a>.\n</p>\n</body>\n</html>\n"
     ]
    }
   ],
   "source": [
    "# Instead of newProject try newExperiment (probably won't work...): \n",
    "\n",
    "prearchive_session = session.services.import_(roiFpathDL, \\\n",
    "                                              project=newExperiment, \\\n",
    "                                              destination='/prearchive')"
   ]
  },
  {
   "cell_type": "markdown",
   "metadata": {},
   "source": [
    "#### Looking at the log files:\n",
    "\n",
    "##### access.log (tail /data/xnat/home/logs/access.log):\n",
    "\n",
    "2020-02-12 17:01:23,921 - admin 127.0.0.1 POST http://10.1.1.17/data/services/import?dest=%2Fprearchive&project=%3CMrSessionData+PGM-002_copy_MR_2+%28XNAT_E00015%29%3E\n",
    "\n",
    "\n",
    "\n",
    "##### dicom.log (tail /data/xnat/home/logs/dicom.log):\n",
    "\n",
    "2020-02-12 17:01:24,206 [pool-2-thread-4] ERROR org.nrg.dcm.xnat.DICOMSessionBuilder - Session builder not implemented for SOP class [1.2.840.10008.5.1.4.1.1.481.3] or modality [RTSTRUCT]\n",
    "\n"
   ]
  },
  {
   "cell_type": "code",
   "execution_count": 93,
   "metadata": {},
   "outputs": [
    {
     "name": "stderr",
     "output_type": "stream",
     "text": [
      "[2020-02-12 17:01:43,890] DEBUG: session:661 >> UPLOAD URI http://10.1.1.17/data/services/import?dest=%2Fprearchive&project=PGM-002_copy_MR_2\n",
      "[2020-02-12 17:01:44,287] DEBUG: session:307 >> Received response with status code: 500\n"
     ]
    },
    {
     "ename": "XNATUploadError",
     "evalue": "Upload failed after 1 attempts! Status code 500, response text <html>\n<head>\n   <title>Status page</title>\n</head>\n<body>\n<h3>An error occurred adding the session to the prearchive database</h3><p>You can get technical details <a href=\"http://www.w3.org/Protocols/rfc2616/rfc2616-sec10.html#sec10.5.1\">here</a>.<br>\nPlease continue your visit at our <a href=\"/\">home page</a>.\n</p>\n</body>\n</html>\n",
     "output_type": "error",
     "traceback": [
      "\u001b[1;31m---------------------------------------------------------------------------\u001b[0m",
      "\u001b[1;31mXNATUploadError\u001b[0m                           Traceback (most recent call last)",
      "\u001b[1;32m<ipython-input-93-b96cda7d1e17>\u001b[0m in \u001b[0;36m<module>\u001b[1;34m\u001b[0m\n\u001b[0;32m      3\u001b[0m prearchive_session = session.services.import_(roiFpathDL, \\\n\u001b[0;32m      4\u001b[0m                                               \u001b[0mproject\u001b[0m\u001b[1;33m=\u001b[0m\u001b[0mnewExperimentName\u001b[0m\u001b[1;33m,\u001b[0m\u001b[0;31m \u001b[0m\u001b[0;31m\\\u001b[0m\u001b[1;33m\u001b[0m\u001b[1;33m\u001b[0m\u001b[0m\n\u001b[1;32m----> 5\u001b[1;33m                                               destination='/prearchive')\n\u001b[0m",
      "\u001b[1;32m~\\Anaconda37\\lib\\site-packages\\xnat\\services.py\u001b[0m in \u001b[0;36mimport_\u001b[1;34m(self, path, overwrite, quarantine, destination, trigger_pipelines, project, subject, experiment, content_type)\u001b[0m\n\u001b[0;32m    109\u001b[0m \u001b[1;33m\u001b[0m\u001b[0m\n\u001b[0;32m    110\u001b[0m         \u001b[0muri\u001b[0m \u001b[1;33m=\u001b[0m \u001b[1;34m'/data/services/import'\u001b[0m\u001b[1;33m\u001b[0m\u001b[1;33m\u001b[0m\u001b[0m\n\u001b[1;32m--> 111\u001b[1;33m         \u001b[0mresponse\u001b[0m \u001b[1;33m=\u001b[0m \u001b[0mself\u001b[0m\u001b[1;33m.\u001b[0m\u001b[0mxnat_session\u001b[0m\u001b[1;33m.\u001b[0m\u001b[0mupload\u001b[0m\u001b[1;33m(\u001b[0m\u001b[0muri\u001b[0m\u001b[1;33m=\u001b[0m\u001b[0muri\u001b[0m\u001b[1;33m,\u001b[0m \u001b[0mfile_\u001b[0m\u001b[1;33m=\u001b[0m\u001b[0mpath\u001b[0m\u001b[1;33m,\u001b[0m \u001b[0mquery\u001b[0m\u001b[1;33m=\u001b[0m\u001b[0mquery\u001b[0m\u001b[1;33m,\u001b[0m \u001b[0mcontent_type\u001b[0m\u001b[1;33m=\u001b[0m\u001b[0mcontent_type\u001b[0m\u001b[1;33m,\u001b[0m \u001b[0mmethod\u001b[0m\u001b[1;33m=\u001b[0m\u001b[1;34m'post'\u001b[0m\u001b[1;33m)\u001b[0m\u001b[1;33m\u001b[0m\u001b[1;33m\u001b[0m\u001b[0m\n\u001b[0m\u001b[0;32m    112\u001b[0m \u001b[1;33m\u001b[0m\u001b[0m\n\u001b[0;32m    113\u001b[0m         \u001b[1;32mif\u001b[0m \u001b[0mresponse\u001b[0m\u001b[1;33m.\u001b[0m\u001b[0mstatus_code\u001b[0m \u001b[1;33m!=\u001b[0m \u001b[1;36m200\u001b[0m\u001b[1;33m:\u001b[0m\u001b[1;33m\u001b[0m\u001b[1;33m\u001b[0m\u001b[0m\n",
      "\u001b[1;32m~\\Anaconda37\\lib\\site-packages\\xnat\\session.py\u001b[0m in \u001b[0;36mupload\u001b[1;34m(self, uri, file_, retries, query, content_type, method, overwrite, timeout)\u001b[0m\n\u001b[0;32m    703\u001b[0m \u001b[1;33m\u001b[0m\u001b[0m\n\u001b[0;32m    704\u001b[0m         \u001b[1;31m# We didn't return correctly, so we have an error\u001b[0m\u001b[1;33m\u001b[0m\u001b[1;33m\u001b[0m\u001b[1;33m\u001b[0m\u001b[0m\n\u001b[1;32m--> 705\u001b[1;33m         \u001b[1;32mraise\u001b[0m \u001b[0mexceptions\u001b[0m\u001b[1;33m.\u001b[0m\u001b[0mXNATUploadError\u001b[0m\u001b[1;33m(\u001b[0m\u001b[1;34m'Upload failed after {} attempts! Status code {}, response text {}'\u001b[0m\u001b[1;33m.\u001b[0m\u001b[0mformat\u001b[0m\u001b[1;33m(\u001b[0m\u001b[0mretries\u001b[0m\u001b[1;33m,\u001b[0m \u001b[0mresponse\u001b[0m\u001b[1;33m.\u001b[0m\u001b[0mstatus_code\u001b[0m\u001b[1;33m,\u001b[0m \u001b[0mresponse\u001b[0m\u001b[1;33m.\u001b[0m\u001b[0mtext\u001b[0m\u001b[1;33m)\u001b[0m\u001b[1;33m)\u001b[0m\u001b[1;33m\u001b[0m\u001b[1;33m\u001b[0m\u001b[0m\n\u001b[0m\u001b[0;32m    706\u001b[0m \u001b[1;33m\u001b[0m\u001b[0m\n\u001b[0;32m    707\u001b[0m     \u001b[1;33m@\u001b[0m\u001b[0mproperty\u001b[0m\u001b[1;33m\u001b[0m\u001b[1;33m\u001b[0m\u001b[0m\n",
      "\u001b[1;31mXNATUploadError\u001b[0m: Upload failed after 1 attempts! Status code 500, response text <html>\n<head>\n   <title>Status page</title>\n</head>\n<body>\n<h3>An error occurred adding the session to the prearchive database</h3><p>You can get technical details <a href=\"http://www.w3.org/Protocols/rfc2616/rfc2616-sec10.html#sec10.5.1\">here</a>.<br>\nPlease continue your visit at our <a href=\"/\">home page</a>.\n</p>\n</body>\n</html>\n"
     ]
    }
   ],
   "source": [
    "# Instead of newProject try newExperiment (probably won't work...): \n",
    "\n",
    "prearchive_session = session.services.import_(roiFpathDL, \\\n",
    "                                              project=newExperimentName, \\\n",
    "                                              destination='/prearchive')"
   ]
  },
  {
   "cell_type": "markdown",
   "metadata": {},
   "source": [
    "#### Looking at the log files:\n",
    "\n",
    "##### access.log (tail /data/xnat/home/logs/access.log):\n",
    "\n",
    "2020-02-12 17:01:43,974 - admin 0:0:0:0:0:0:0:1 POST http://10.1.1.17/data/services/import?dest=%2Fprearchive&project=PGM-002_copy_MR_2\n",
    "\n",
    "\n",
    "\n",
    "##### dicom.log (tail /data/xnat/home/logs/dicom.log):\n",
    "\n",
    "2020-02-12 17:01:44,245 [pool-2-thread-1] ERROR org.nrg.dcm.xnat.DICOMSessionBuilder - Session builder not implemented for SOP class [1.2.840.10008.5.1.4.1.1.481.3] or modality [RTSTRUCT]\n"
   ]
  },
  {
   "cell_type": "markdown",
   "metadata": {},
   "source": [
    "# 13/02/20:\n",
    "\n",
    "#### While trying to upload a DICOM scan to the prearchive I've noticed that there are two entries in the prearchive showing errors on Feb 6 and 7.  \n",
    "\n",
    "##### Details:\n",
    "\n",
    "##### XNAT has encountered an error with your request:\n",
    "##### Exception: org.xml.sax.SAXParseException; lineNumber: 1; columnNumber: 1; Premature end of file.\n",
    "##### If this error continues to occur, please contact your system administrator with information about how to recreate the problem."
   ]
  },
  {
   "cell_type": "markdown",
   "metadata": {},
   "source": [
    "# Giving up on trying to upload ROIs for now.  I'll try to upload DICOMs instead.."
   ]
  },
  {
   "cell_type": "code",
   "execution_count": 86,
   "metadata": {},
   "outputs": [
    {
     "data": {
      "text/plain": [
       "'C:\\\\Users\\\\ctorti\\\\Documents\\\\GitHub\\\\WP1.3_multiple_modalities\\\\trying stuff\\\\XNAT downloads\\\\BrainTumorProg\\\\PGM-002\\\\0\\\\0\\\\PGM-002_MR_1\\\\scans\\\\11-T1post\\\\resources\\\\DICOM\\\\files'"
      ]
     },
     "execution_count": 86,
     "metadata": {},
     "output_type": "execute_result"
    }
   ],
   "source": [
    "dicomsPath"
   ]
  },
  {
   "cell_type": "code",
   "execution_count": 88,
   "metadata": {},
   "outputs": [
    {
     "data": {
      "text/plain": [
       "['1.3.6.1.4.1.14519.5.2.1.4429.7055.331058148523327901159449546313-11-1-xb6jdm.dcm',\n",
       " '1.3.6.1.4.1.14519.5.2.1.4429.7055.331058148523327901159449546313-11-10-16uvgu3.dcm',\n",
       " '1.3.6.1.4.1.14519.5.2.1.4429.7055.331058148523327901159449546313-11-11-1yalgp4.dcm',\n",
       " '1.3.6.1.4.1.14519.5.2.1.4429.7055.331058148523327901159449546313-11-12-gk3fd0.dcm',\n",
       " '1.3.6.1.4.1.14519.5.2.1.4429.7055.331058148523327901159449546313-11-13-1kem30l.dcm',\n",
       " '1.3.6.1.4.1.14519.5.2.1.4429.7055.331058148523327901159449546313-11-14-1m1mvpi.dcm',\n",
       " '1.3.6.1.4.1.14519.5.2.1.4429.7055.331058148523327901159449546313-11-15-vumjtl.dcm',\n",
       " '1.3.6.1.4.1.14519.5.2.1.4429.7055.331058148523327901159449546313-11-16-t1kui0.dcm',\n",
       " '1.3.6.1.4.1.14519.5.2.1.4429.7055.331058148523327901159449546313-11-17-12omca7.dcm',\n",
       " '1.3.6.1.4.1.14519.5.2.1.4429.7055.331058148523327901159449546313-11-18-gihsw6.dcm',\n",
       " '1.3.6.1.4.1.14519.5.2.1.4429.7055.331058148523327901159449546313-11-19-abhab5.dcm',\n",
       " '1.3.6.1.4.1.14519.5.2.1.4429.7055.331058148523327901159449546313-11-2-119a4or.dcm',\n",
       " '1.3.6.1.4.1.14519.5.2.1.4429.7055.331058148523327901159449546313-11-20-hn94uu.dcm',\n",
       " '1.3.6.1.4.1.14519.5.2.1.4429.7055.331058148523327901159449546313-11-21-1l0y6hs.dcm',\n",
       " '1.3.6.1.4.1.14519.5.2.1.4429.7055.331058148523327901159449546313-11-22-qfw6eu.dcm',\n",
       " '1.3.6.1.4.1.14519.5.2.1.4429.7055.331058148523327901159449546313-11-3-o6pfci.dcm',\n",
       " '1.3.6.1.4.1.14519.5.2.1.4429.7055.331058148523327901159449546313-11-4-1ji0ody.dcm',\n",
       " '1.3.6.1.4.1.14519.5.2.1.4429.7055.331058148523327901159449546313-11-5-1kyxtoq.dcm',\n",
       " '1.3.6.1.4.1.14519.5.2.1.4429.7055.331058148523327901159449546313-11-6-ui6tn3.dcm',\n",
       " '1.3.6.1.4.1.14519.5.2.1.4429.7055.331058148523327901159449546313-11-7-2g5trn.dcm',\n",
       " '1.3.6.1.4.1.14519.5.2.1.4429.7055.331058148523327901159449546313-11-8-11aj08n.dcm',\n",
       " '1.3.6.1.4.1.14519.5.2.1.4429.7055.331058148523327901159449546313-11-9-ouxf6l.dcm']"
      ]
     },
     "execution_count": 88,
     "metadata": {},
     "output_type": "execute_result"
    }
   ],
   "source": [
    "os.listdir(dicomsPath)"
   ]
  },
  {
   "cell_type": "code",
   "execution_count": 90,
   "metadata": {},
   "outputs": [
    {
     "data": {
      "text/plain": [
       "['C:\\\\Users\\\\ctorti\\\\Documents\\\\GitHub\\\\WP1.3_multiple_modalities\\\\trying stuff\\\\XNAT downloads\\\\BrainTumorProg\\\\PGM-002\\\\0\\\\0\\\\PGM-002_MR_1\\\\scans\\\\11-T1post\\\\resources\\\\DICOM\\\\files\\\\1.3.6.1.4.1.14519.5.2.1.4429.7055.331058148523327901159449546313-11-1-xb6jdm.dcm',\n",
       " 'C:\\\\Users\\\\ctorti\\\\Documents\\\\GitHub\\\\WP1.3_multiple_modalities\\\\trying stuff\\\\XNAT downloads\\\\BrainTumorProg\\\\PGM-002\\\\0\\\\0\\\\PGM-002_MR_1\\\\scans\\\\11-T1post\\\\resources\\\\DICOM\\\\files\\\\1.3.6.1.4.1.14519.5.2.1.4429.7055.331058148523327901159449546313-11-2-119a4or.dcm',\n",
       " 'C:\\\\Users\\\\ctorti\\\\Documents\\\\GitHub\\\\WP1.3_multiple_modalities\\\\trying stuff\\\\XNAT downloads\\\\BrainTumorProg\\\\PGM-002\\\\0\\\\0\\\\PGM-002_MR_1\\\\scans\\\\11-T1post\\\\resources\\\\DICOM\\\\files\\\\1.3.6.1.4.1.14519.5.2.1.4429.7055.331058148523327901159449546313-11-3-o6pfci.dcm',\n",
       " 'C:\\\\Users\\\\ctorti\\\\Documents\\\\GitHub\\\\WP1.3_multiple_modalities\\\\trying stuff\\\\XNAT downloads\\\\BrainTumorProg\\\\PGM-002\\\\0\\\\0\\\\PGM-002_MR_1\\\\scans\\\\11-T1post\\\\resources\\\\DICOM\\\\files\\\\1.3.6.1.4.1.14519.5.2.1.4429.7055.331058148523327901159449546313-11-4-1ji0ody.dcm',\n",
       " 'C:\\\\Users\\\\ctorti\\\\Documents\\\\GitHub\\\\WP1.3_multiple_modalities\\\\trying stuff\\\\XNAT downloads\\\\BrainTumorProg\\\\PGM-002\\\\0\\\\0\\\\PGM-002_MR_1\\\\scans\\\\11-T1post\\\\resources\\\\DICOM\\\\files\\\\1.3.6.1.4.1.14519.5.2.1.4429.7055.331058148523327901159449546313-11-5-1kyxtoq.dcm',\n",
       " 'C:\\\\Users\\\\ctorti\\\\Documents\\\\GitHub\\\\WP1.3_multiple_modalities\\\\trying stuff\\\\XNAT downloads\\\\BrainTumorProg\\\\PGM-002\\\\0\\\\0\\\\PGM-002_MR_1\\\\scans\\\\11-T1post\\\\resources\\\\DICOM\\\\files\\\\1.3.6.1.4.1.14519.5.2.1.4429.7055.331058148523327901159449546313-11-6-ui6tn3.dcm',\n",
       " 'C:\\\\Users\\\\ctorti\\\\Documents\\\\GitHub\\\\WP1.3_multiple_modalities\\\\trying stuff\\\\XNAT downloads\\\\BrainTumorProg\\\\PGM-002\\\\0\\\\0\\\\PGM-002_MR_1\\\\scans\\\\11-T1post\\\\resources\\\\DICOM\\\\files\\\\1.3.6.1.4.1.14519.5.2.1.4429.7055.331058148523327901159449546313-11-7-2g5trn.dcm',\n",
       " 'C:\\\\Users\\\\ctorti\\\\Documents\\\\GitHub\\\\WP1.3_multiple_modalities\\\\trying stuff\\\\XNAT downloads\\\\BrainTumorProg\\\\PGM-002\\\\0\\\\0\\\\PGM-002_MR_1\\\\scans\\\\11-T1post\\\\resources\\\\DICOM\\\\files\\\\1.3.6.1.4.1.14519.5.2.1.4429.7055.331058148523327901159449546313-11-8-11aj08n.dcm',\n",
       " 'C:\\\\Users\\\\ctorti\\\\Documents\\\\GitHub\\\\WP1.3_multiple_modalities\\\\trying stuff\\\\XNAT downloads\\\\BrainTumorProg\\\\PGM-002\\\\0\\\\0\\\\PGM-002_MR_1\\\\scans\\\\11-T1post\\\\resources\\\\DICOM\\\\files\\\\1.3.6.1.4.1.14519.5.2.1.4429.7055.331058148523327901159449546313-11-9-ouxf6l.dcm',\n",
       " 'C:\\\\Users\\\\ctorti\\\\Documents\\\\GitHub\\\\WP1.3_multiple_modalities\\\\trying stuff\\\\XNAT downloads\\\\BrainTumorProg\\\\PGM-002\\\\0\\\\0\\\\PGM-002_MR_1\\\\scans\\\\11-T1post\\\\resources\\\\DICOM\\\\files\\\\1.3.6.1.4.1.14519.5.2.1.4429.7055.331058148523327901159449546313-11-10-16uvgu3.dcm',\n",
       " 'C:\\\\Users\\\\ctorti\\\\Documents\\\\GitHub\\\\WP1.3_multiple_modalities\\\\trying stuff\\\\XNAT downloads\\\\BrainTumorProg\\\\PGM-002\\\\0\\\\0\\\\PGM-002_MR_1\\\\scans\\\\11-T1post\\\\resources\\\\DICOM\\\\files\\\\1.3.6.1.4.1.14519.5.2.1.4429.7055.331058148523327901159449546313-11-11-1yalgp4.dcm',\n",
       " 'C:\\\\Users\\\\ctorti\\\\Documents\\\\GitHub\\\\WP1.3_multiple_modalities\\\\trying stuff\\\\XNAT downloads\\\\BrainTumorProg\\\\PGM-002\\\\0\\\\0\\\\PGM-002_MR_1\\\\scans\\\\11-T1post\\\\resources\\\\DICOM\\\\files\\\\1.3.6.1.4.1.14519.5.2.1.4429.7055.331058148523327901159449546313-11-12-gk3fd0.dcm',\n",
       " 'C:\\\\Users\\\\ctorti\\\\Documents\\\\GitHub\\\\WP1.3_multiple_modalities\\\\trying stuff\\\\XNAT downloads\\\\BrainTumorProg\\\\PGM-002\\\\0\\\\0\\\\PGM-002_MR_1\\\\scans\\\\11-T1post\\\\resources\\\\DICOM\\\\files\\\\1.3.6.1.4.1.14519.5.2.1.4429.7055.331058148523327901159449546313-11-13-1kem30l.dcm',\n",
       " 'C:\\\\Users\\\\ctorti\\\\Documents\\\\GitHub\\\\WP1.3_multiple_modalities\\\\trying stuff\\\\XNAT downloads\\\\BrainTumorProg\\\\PGM-002\\\\0\\\\0\\\\PGM-002_MR_1\\\\scans\\\\11-T1post\\\\resources\\\\DICOM\\\\files\\\\1.3.6.1.4.1.14519.5.2.1.4429.7055.331058148523327901159449546313-11-14-1m1mvpi.dcm',\n",
       " 'C:\\\\Users\\\\ctorti\\\\Documents\\\\GitHub\\\\WP1.3_multiple_modalities\\\\trying stuff\\\\XNAT downloads\\\\BrainTumorProg\\\\PGM-002\\\\0\\\\0\\\\PGM-002_MR_1\\\\scans\\\\11-T1post\\\\resources\\\\DICOM\\\\files\\\\1.3.6.1.4.1.14519.5.2.1.4429.7055.331058148523327901159449546313-11-15-vumjtl.dcm',\n",
       " 'C:\\\\Users\\\\ctorti\\\\Documents\\\\GitHub\\\\WP1.3_multiple_modalities\\\\trying stuff\\\\XNAT downloads\\\\BrainTumorProg\\\\PGM-002\\\\0\\\\0\\\\PGM-002_MR_1\\\\scans\\\\11-T1post\\\\resources\\\\DICOM\\\\files\\\\1.3.6.1.4.1.14519.5.2.1.4429.7055.331058148523327901159449546313-11-16-t1kui0.dcm',\n",
       " 'C:\\\\Users\\\\ctorti\\\\Documents\\\\GitHub\\\\WP1.3_multiple_modalities\\\\trying stuff\\\\XNAT downloads\\\\BrainTumorProg\\\\PGM-002\\\\0\\\\0\\\\PGM-002_MR_1\\\\scans\\\\11-T1post\\\\resources\\\\DICOM\\\\files\\\\1.3.6.1.4.1.14519.5.2.1.4429.7055.331058148523327901159449546313-11-17-12omca7.dcm',\n",
       " 'C:\\\\Users\\\\ctorti\\\\Documents\\\\GitHub\\\\WP1.3_multiple_modalities\\\\trying stuff\\\\XNAT downloads\\\\BrainTumorProg\\\\PGM-002\\\\0\\\\0\\\\PGM-002_MR_1\\\\scans\\\\11-T1post\\\\resources\\\\DICOM\\\\files\\\\1.3.6.1.4.1.14519.5.2.1.4429.7055.331058148523327901159449546313-11-18-gihsw6.dcm',\n",
       " 'C:\\\\Users\\\\ctorti\\\\Documents\\\\GitHub\\\\WP1.3_multiple_modalities\\\\trying stuff\\\\XNAT downloads\\\\BrainTumorProg\\\\PGM-002\\\\0\\\\0\\\\PGM-002_MR_1\\\\scans\\\\11-T1post\\\\resources\\\\DICOM\\\\files\\\\1.3.6.1.4.1.14519.5.2.1.4429.7055.331058148523327901159449546313-11-19-abhab5.dcm',\n",
       " 'C:\\\\Users\\\\ctorti\\\\Documents\\\\GitHub\\\\WP1.3_multiple_modalities\\\\trying stuff\\\\XNAT downloads\\\\BrainTumorProg\\\\PGM-002\\\\0\\\\0\\\\PGM-002_MR_1\\\\scans\\\\11-T1post\\\\resources\\\\DICOM\\\\files\\\\1.3.6.1.4.1.14519.5.2.1.4429.7055.331058148523327901159449546313-11-20-hn94uu.dcm',\n",
       " 'C:\\\\Users\\\\ctorti\\\\Documents\\\\GitHub\\\\WP1.3_multiple_modalities\\\\trying stuff\\\\XNAT downloads\\\\BrainTumorProg\\\\PGM-002\\\\0\\\\0\\\\PGM-002_MR_1\\\\scans\\\\11-T1post\\\\resources\\\\DICOM\\\\files\\\\1.3.6.1.4.1.14519.5.2.1.4429.7055.331058148523327901159449546313-11-21-1l0y6hs.dcm',\n",
       " 'C:\\\\Users\\\\ctorti\\\\Documents\\\\GitHub\\\\WP1.3_multiple_modalities\\\\trying stuff\\\\XNAT downloads\\\\BrainTumorProg\\\\PGM-002\\\\0\\\\0\\\\PGM-002_MR_1\\\\scans\\\\11-T1post\\\\resources\\\\DICOM\\\\files\\\\1.3.6.1.4.1.14519.5.2.1.4429.7055.331058148523327901159449546313-11-22-qfw6eu.dcm']"
      ]
     },
     "execution_count": 90,
     "metadata": {},
     "output_type": "execute_result"
    }
   ],
   "source": [
    "dicomsFpaths = dicom_functions.dc_filepaths(dicomsPath)\n",
    "dicomsFpaths"
   ]
  },
  {
   "cell_type": "code",
   "execution_count": 95,
   "metadata": {},
   "outputs": [
    {
     "data": {
      "text/plain": [
       "'C:\\\\Users\\\\ctorti\\\\Documents\\\\GitHub\\\\WP1.3_multiple_modalities\\\\trying stuff\\\\XNAT downloads\\\\BrainTumorProg\\\\PGM-002\\\\0\\\\0\\\\PGM-002_MR_1\\\\scans\\\\11-T1post\\\\resources\\\\DICOM\\\\files\\\\1.3.6.1.4.1.14519.5.2.1.4429.7055.331058148523327901159449546313-11-1-xb6jdm.dcm'"
      ]
     },
     "execution_count": 95,
     "metadata": {},
     "output_type": "execute_result"
    }
   ],
   "source": [
    "dicomsFpaths[0]"
   ]
  },
  {
   "cell_type": "code",
   "execution_count": 91,
   "metadata": {},
   "outputs": [
    {
     "data": {
      "text/plain": [
       "'PGM-002_copy_MR_2'"
      ]
     },
     "execution_count": 91,
     "metadata": {},
     "output_type": "execute_result"
    }
   ],
   "source": [
    "newExperimentName"
   ]
  },
  {
   "cell_type": "code",
   "execution_count": 96,
   "metadata": {},
   "outputs": [
    {
     "name": "stderr",
     "output_type": "stream",
     "text": [
      "[2020-02-13 11:42:21,872] DEBUG: session:661 >> UPLOAD URI http://10.1.1.17/data/services/import?dest=%2Fprearchive&project=BrainTumorProg_copy\n",
      "[2020-02-13 11:42:22,748] DEBUG: session:307 >> Received response with status code: 200\n"
     ]
    }
   ],
   "source": [
    "# Try uploading the first DICOM file in dicomsFpaths to the prearchive:\n",
    "\n",
    "prearchive_session = session.services.import_(dicomsFpaths[0], \\\n",
    "                                              project=newProjectName, \\\n",
    "                                              destination='/prearchive')"
   ]
  },
  {
   "cell_type": "markdown",
   "metadata": {},
   "source": [
    "#### There's now a \"MR Session\" under Experiment for subject PGM-002_copy.  I went to the prearchive, then clicked on \"Review and Archieve\" and noticed that the subject was not identified.  I was able to select PGM-002_copy from the pull-down list.  I wonder if I can add a subject name to the list of inputs to .services.import_()..."
   ]
  },
  {
   "cell_type": "markdown",
   "metadata": {},
   "source": [
    "#### Actually I can see that the archiving process including the assignment of a subject can be done as shown here:\n",
    "\n",
    "##### https://xnat.readthedocs.io/en/latest/static/tutorial.html#importing-data-into-xnat"
   ]
  },
  {
   "cell_type": "code",
   "execution_count": 97,
   "metadata": {},
   "outputs": [
    {
     "name": "stderr",
     "output_type": "stream",
     "text": [
      "[2020-02-13 11:56:18,818] DEBUG: session:661 >> UPLOAD URI http://10.1.1.17/data/services/import?dest=%2Fprearchive&project=BrainTumorProg_copy\n",
      "[2020-02-13 11:56:19,569] DEBUG: session:307 >> Received response with status code: 200\n"
     ]
    }
   ],
   "source": [
    "# Try uploading the second DICOM scan to the prearchive:\n",
    "\n",
    "prearchive_session = session.services.import_(dicomsFpaths[1], \\\n",
    "                                              project=newProjectName, \\\n",
    "                                              destination='/prearchive')"
   ]
  },
  {
   "cell_type": "code",
   "execution_count": 98,
   "metadata": {},
   "outputs": [
    {
     "name": "stderr",
     "output_type": "stream",
     "text": [
      "[2020-02-13 11:56:39,223] DEBUG: session:334 >> GET URI http://10.1.1.17/data/version\n",
      "[2020-02-13 11:56:39,231] DEBUG: session:307 >> Received response with status code: 404\n",
      "[2020-02-13 11:56:39,232] DEBUG: session:334 >> GET URI http://10.1.1.17/xapi/siteConfig/buildInfo?format=json\n",
      "[2020-02-13 11:56:39,242] DEBUG: session:307 >> Received response with status code: 200\n",
      "[2020-02-13 11:56:39,243] DEBUG: session:334 >> GET URI http://10.1.1.17/data/prearchive/projects/BrainTumorProg_copy/20200212_204058544/PGM_002_MR_1?format=json\n",
      "[2020-02-13 11:56:39,261] DEBUG: session:307 >> Received response with status code: 200\n"
     ]
    },
    {
     "name": "stdout",
     "output_type": "stream",
     "text": [
      "<PrearchiveSession BrainTumorProg_copy/20200212_204058544/PGM-002_MR_1>\n"
     ]
    }
   ],
   "source": [
    "print(prearchive_session)"
   ]
  },
  {
   "cell_type": "code",
   "execution_count": 99,
   "metadata": {},
   "outputs": [
    {
     "name": "stderr",
     "output_type": "stream",
     "text": [
      "[2020-02-13 11:57:14,561] DEBUG: session:334 >> GET URI http://10.1.1.17/data/prearchive/projects?format=json\n",
      "[2020-02-13 11:57:14,576] DEBUG: session:307 >> Received response with status code: 200\n",
      "[2020-02-13 11:57:14,577] DEBUG: session:334 >> GET URI http://10.1.1.17/data/prearchive/projects/BrainTumorProg_copy/20200206_152623716/PGM_002_MR_1?format=json\n",
      "[2020-02-13 11:57:14,594] DEBUG: session:307 >> Received response with status code: 200\n",
      "[2020-02-13 11:57:14,595] DEBUG: session:334 >> GET URI http://10.1.1.17/data/prearchive/projects/BrainTumorProg_copy/20200207_144303310/PGM_002_MR_1?format=json\n",
      "[2020-02-13 11:57:14,607] DEBUG: session:307 >> Received response with status code: 200\n",
      "[2020-02-13 11:57:14,608] DEBUG: session:334 >> GET URI http://10.1.1.17/data/prearchive/projects/BrainTumorProg_copy/20200212_204058544/PGM_002_MR_1?format=json\n",
      "[2020-02-13 11:57:14,622] DEBUG: session:307 >> Received response with status code: 200\n"
     ]
    },
    {
     "data": {
      "text/plain": [
       "[<PrearchiveSession BrainTumorProg_copy/20200206_152623716/PGM_002_MR_1>,\n",
       " <PrearchiveSession BrainTumorProg_copy/20200207_144303310/PGM_002_MR_1>,\n",
       " <PrearchiveSession BrainTumorProg_copy/20200212_204058544/PGM-002_MR_1>]"
      ]
     },
     "execution_count": 99,
     "metadata": {},
     "output_type": "execute_result"
    }
   ],
   "source": [
    "# Get a list of sessions waiting for archiving:\n",
    "\n",
    "session.prearchive.sessions()"
   ]
  },
  {
   "cell_type": "code",
   "execution_count": 103,
   "metadata": {},
   "outputs": [
    {
     "name": "stderr",
     "output_type": "stream",
     "text": [
      "[2020-02-13 12:03:05,264] DEBUG: session:334 >> GET URI http://10.1.1.17/data/prearchive/projects?format=json\n",
      "[2020-02-13 12:03:05,283] DEBUG: session:307 >> Received response with status code: 200\n",
      "[2020-02-13 12:03:05,285] DEBUG: session:391 >> POST URI http://10.1.1.17/data/services/archive?src=%2Fdata%2Fprearchive%2Fprojects%2FBrainTumorProg_copy%2F20200212_204058544%2FPGM_002_MR_1&subject=PGM-002_copy&session=PGM-002_copy_MR_2\n",
      "[2020-02-13 12:03:05,286] DEBUG: session:393 >> POST DATA None\n",
      "[2020-02-13 12:03:05,415] DEBUG: session:307 >> Received response with status code: 409\n"
     ]
    },
    {
     "ename": "XNATResponseError",
     "evalue": "Invalid response from XNATSession for url http://10.1.1.17/data/services/archive?src=%2Fdata%2Fprearchive%2Fprojects%2FBrainTumorProg_copy%2F20200212_204058544%2FPGM_002_MR_1&subject=PGM-002_copy&session=PGM-002_copy_MR_2 (status 409):\n<html>\n<head>\n   <title>Status page</title>\n</head>\n<body>\n<h3>Session already exists, retry with overwrite enabled</h3><p>You can get technical details <a href=\"http://www.w3.org/Protocols/rfc2616/rfc2616-sec10.html#sec10.4.10\">here</a>.<br>\nPlease continue your visit at our <a href=\"/\">home page</a>.\n</p>\n</body>\n</html>\n",
     "output_type": "error",
     "traceback": [
      "\u001b[1;31m---------------------------------------------------------------------------\u001b[0m",
      "\u001b[1;31mXNATResponseError\u001b[0m                         Traceback (most recent call last)",
      "\u001b[1;32m<ipython-input-103-c30bfcdebd0b>\u001b[0m in \u001b[0;36m<module>\u001b[1;34m\u001b[0m\n\u001b[0;32m      3\u001b[0m \u001b[0mprearchive_session\u001b[0m \u001b[1;33m=\u001b[0m \u001b[0msession\u001b[0m\u001b[1;33m.\u001b[0m\u001b[0mprearchive\u001b[0m\u001b[1;33m.\u001b[0m\u001b[0msessions\u001b[0m\u001b[1;33m(\u001b[0m\u001b[1;33m)\u001b[0m\u001b[1;33m[\u001b[0m\u001b[1;36m2\u001b[0m\u001b[1;33m]\u001b[0m\u001b[1;33m\u001b[0m\u001b[1;33m\u001b[0m\u001b[0m\n\u001b[0;32m      4\u001b[0m \u001b[1;33m\u001b[0m\u001b[0m\n\u001b[1;32m----> 5\u001b[1;33m \u001b[0mexperiment\u001b[0m \u001b[1;33m=\u001b[0m \u001b[0mprearchive_session\u001b[0m\u001b[1;33m.\u001b[0m\u001b[0marchive\u001b[0m\u001b[1;33m(\u001b[0m\u001b[0msubject\u001b[0m\u001b[1;33m=\u001b[0m\u001b[0mnewSubjectName\u001b[0m\u001b[1;33m,\u001b[0m \u001b[0mexperiment\u001b[0m\u001b[1;33m=\u001b[0m\u001b[0mnewExperimentName\u001b[0m\u001b[1;33m)\u001b[0m\u001b[1;33m\u001b[0m\u001b[1;33m\u001b[0m\u001b[0m\n\u001b[0m",
      "\u001b[1;32m~\\Anaconda37\\lib\\site-packages\\xnat\\prearchive.py\u001b[0m in \u001b[0;36marchive\u001b[1;34m(self, overwrite, quarantine, trigger_pipelines, project, subject, experiment)\u001b[0m\n\u001b[0;32m    218\u001b[0m             \u001b[0mquery\u001b[0m\u001b[1;33m[\u001b[0m\u001b[1;34m'session'\u001b[0m\u001b[1;33m]\u001b[0m \u001b[1;33m=\u001b[0m \u001b[0mexperiment\u001b[0m\u001b[1;33m\u001b[0m\u001b[1;33m\u001b[0m\u001b[0m\n\u001b[0;32m    219\u001b[0m \u001b[1;33m\u001b[0m\u001b[0m\n\u001b[1;32m--> 220\u001b[1;33m         \u001b[0mresponse\u001b[0m \u001b[1;33m=\u001b[0m \u001b[0mself\u001b[0m\u001b[1;33m.\u001b[0m\u001b[0mxnat_session\u001b[0m\u001b[1;33m.\u001b[0m\u001b[0mpost\u001b[0m\u001b[1;33m(\u001b[0m\u001b[1;34m'/data/services/archive'\u001b[0m\u001b[1;33m,\u001b[0m \u001b[0mquery\u001b[0m\u001b[1;33m=\u001b[0m\u001b[0mquery\u001b[0m\u001b[1;33m)\u001b[0m\u001b[1;33m\u001b[0m\u001b[1;33m\u001b[0m\u001b[0m\n\u001b[0m\u001b[0;32m    221\u001b[0m         \u001b[0mobject_uri\u001b[0m \u001b[1;33m=\u001b[0m \u001b[0mresponse\u001b[0m\u001b[1;33m.\u001b[0m\u001b[0mtext\u001b[0m\u001b[1;33m.\u001b[0m\u001b[0mstrip\u001b[0m\u001b[1;33m(\u001b[0m\u001b[1;33m)\u001b[0m\u001b[1;33m\u001b[0m\u001b[1;33m\u001b[0m\u001b[0m\n\u001b[0;32m    222\u001b[0m \u001b[1;33m\u001b[0m\u001b[0m\n",
      "\u001b[1;32m~\\Anaconda37\\lib\\site-packages\\xnat\\session.py\u001b[0m in \u001b[0;36mpost\u001b[1;34m(self, path, data, json, format, query, accepted_status, timeout, headers)\u001b[0m\n\u001b[0;32m    397\u001b[0m         \u001b[1;32mexcept\u001b[0m \u001b[0mrequests\u001b[0m\u001b[1;33m.\u001b[0m\u001b[0mexceptions\u001b[0m\u001b[1;33m.\u001b[0m\u001b[0mSSLError\u001b[0m\u001b[1;33m:\u001b[0m\u001b[1;33m\u001b[0m\u001b[1;33m\u001b[0m\u001b[0m\n\u001b[0;32m    398\u001b[0m             \u001b[1;32mraise\u001b[0m \u001b[0mexceptions\u001b[0m\u001b[1;33m.\u001b[0m\u001b[0mXNATSSLError\u001b[0m\u001b[1;33m(\u001b[0m\u001b[1;34m'Encountered a problem with the SSL connection, are you sure the server is offering https?'\u001b[0m\u001b[1;33m)\u001b[0m\u001b[1;33m\u001b[0m\u001b[1;33m\u001b[0m\u001b[0m\n\u001b[1;32m--> 399\u001b[1;33m         \u001b[0mself\u001b[0m\u001b[1;33m.\u001b[0m\u001b[0m_check_response\u001b[0m\u001b[1;33m(\u001b[0m\u001b[0mresponse\u001b[0m\u001b[1;33m,\u001b[0m \u001b[0maccepted_status\u001b[0m\u001b[1;33m=\u001b[0m\u001b[0maccepted_status\u001b[0m\u001b[1;33m,\u001b[0m \u001b[0muri\u001b[0m\u001b[1;33m=\u001b[0m\u001b[0muri\u001b[0m\u001b[1;33m)\u001b[0m\u001b[1;33m\u001b[0m\u001b[1;33m\u001b[0m\u001b[0m\n\u001b[0m\u001b[0;32m    400\u001b[0m         \u001b[1;32mreturn\u001b[0m \u001b[0mresponse\u001b[0m\u001b[1;33m\u001b[0m\u001b[1;33m\u001b[0m\u001b[0m\n\u001b[0;32m    401\u001b[0m \u001b[1;33m\u001b[0m\u001b[0m\n",
      "\u001b[1;32m~\\Anaconda37\\lib\\site-packages\\xnat\\session.py\u001b[0m in \u001b[0;36m_check_response\u001b[1;34m(self, response, accepted_status, uri)\u001b[0m\n\u001b[0;32m    311\u001b[0m                 \u001b[0maccepted_status\u001b[0m \u001b[1;33m=\u001b[0m \u001b[1;33m[\u001b[0m\u001b[1;36m200\u001b[0m\u001b[1;33m,\u001b[0m \u001b[1;36m201\u001b[0m\u001b[1;33m,\u001b[0m \u001b[1;36m202\u001b[0m\u001b[1;33m,\u001b[0m \u001b[1;36m203\u001b[0m\u001b[1;33m,\u001b[0m \u001b[1;36m204\u001b[0m\u001b[1;33m,\u001b[0m \u001b[1;36m205\u001b[0m\u001b[1;33m,\u001b[0m \u001b[1;36m206\u001b[0m\u001b[1;33m]\u001b[0m  \u001b[1;31m# All successful responses of HTML\u001b[0m\u001b[1;33m\u001b[0m\u001b[1;33m\u001b[0m\u001b[0m\n\u001b[0;32m    312\u001b[0m             \u001b[1;32mif\u001b[0m \u001b[0mresponse\u001b[0m\u001b[1;33m.\u001b[0m\u001b[0mstatus_code\u001b[0m \u001b[1;32mnot\u001b[0m \u001b[1;32min\u001b[0m \u001b[0maccepted_status\u001b[0m \u001b[1;32mor\u001b[0m \u001b[1;33m(\u001b[0m\u001b[1;32mnot\u001b[0m \u001b[0mself\u001b[0m\u001b[1;33m.\u001b[0m\u001b[0mskip_response_content_check\u001b[0m \u001b[1;32mand\u001b[0m \u001b[0mresponse\u001b[0m\u001b[1;33m.\u001b[0m\u001b[0mtext\u001b[0m\u001b[1;33m.\u001b[0m\u001b[0mstartswith\u001b[0m\u001b[1;33m(\u001b[0m\u001b[1;33m(\u001b[0m\u001b[1;34m'<!DOCTYPE'\u001b[0m\u001b[1;33m,\u001b[0m \u001b[1;34m'<html>'\u001b[0m\u001b[1;33m)\u001b[0m\u001b[1;33m)\u001b[0m\u001b[1;33m)\u001b[0m\u001b[1;33m:\u001b[0m\u001b[1;33m\u001b[0m\u001b[1;33m\u001b[0m\u001b[0m\n\u001b[1;32m--> 313\u001b[1;33m                 \u001b[1;32mraise\u001b[0m \u001b[0mexceptions\u001b[0m\u001b[1;33m.\u001b[0m\u001b[0mXNATResponseError\u001b[0m\u001b[1;33m(\u001b[0m\u001b[1;34m'Invalid response from XNATSession for url {} (status {}):\\n{}'\u001b[0m\u001b[1;33m.\u001b[0m\u001b[0mformat\u001b[0m\u001b[1;33m(\u001b[0m\u001b[0muri\u001b[0m\u001b[1;33m,\u001b[0m \u001b[0mresponse\u001b[0m\u001b[1;33m.\u001b[0m\u001b[0mstatus_code\u001b[0m\u001b[1;33m,\u001b[0m \u001b[0mresponse\u001b[0m\u001b[1;33m.\u001b[0m\u001b[0mtext\u001b[0m\u001b[1;33m)\u001b[0m\u001b[1;33m)\u001b[0m\u001b[1;33m\u001b[0m\u001b[1;33m\u001b[0m\u001b[0m\n\u001b[0m\u001b[0;32m    314\u001b[0m \u001b[1;33m\u001b[0m\u001b[0m\n\u001b[0;32m    315\u001b[0m     \u001b[1;32mdef\u001b[0m \u001b[0mget\u001b[0m\u001b[1;33m(\u001b[0m\u001b[0mself\u001b[0m\u001b[1;33m,\u001b[0m \u001b[0mpath\u001b[0m\u001b[1;33m,\u001b[0m \u001b[0mformat\u001b[0m\u001b[1;33m=\u001b[0m\u001b[1;32mNone\u001b[0m\u001b[1;33m,\u001b[0m \u001b[0mquery\u001b[0m\u001b[1;33m=\u001b[0m\u001b[1;32mNone\u001b[0m\u001b[1;33m,\u001b[0m \u001b[0maccepted_status\u001b[0m\u001b[1;33m=\u001b[0m\u001b[1;32mNone\u001b[0m\u001b[1;33m,\u001b[0m \u001b[0mtimeout\u001b[0m\u001b[1;33m=\u001b[0m\u001b[1;32mNone\u001b[0m\u001b[1;33m,\u001b[0m \u001b[0mheaders\u001b[0m\u001b[1;33m=\u001b[0m\u001b[1;32mNone\u001b[0m\u001b[1;33m)\u001b[0m\u001b[1;33m:\u001b[0m\u001b[1;33m\u001b[0m\u001b[1;33m\u001b[0m\u001b[0m\n",
      "\u001b[1;31mXNATResponseError\u001b[0m: Invalid response from XNATSession for url http://10.1.1.17/data/services/archive?src=%2Fdata%2Fprearchive%2Fprojects%2FBrainTumorProg_copy%2F20200212_204058544%2FPGM_002_MR_1&subject=PGM-002_copy&session=PGM-002_copy_MR_2 (status 409):\n<html>\n<head>\n   <title>Status page</title>\n</head>\n<body>\n<h3>Session already exists, retry with overwrite enabled</h3><p>You can get technical details <a href=\"http://www.w3.org/Protocols/rfc2616/rfc2616-sec10.html#sec10.4.10\">here</a>.<br>\nPlease continue your visit at our <a href=\"/\">home page</a>.\n</p>\n</body>\n</html>\n"
     ]
    }
   ],
   "source": [
    "# The first two items are the errors mentioned above.  So archive the third entry only:\n",
    "\n",
    "prearchive_session = session.prearchive.sessions()[2]\n",
    "\n",
    "experiment = prearchive_session.archive(subject=newSubjectName, experiment=newExperimentName)"
   ]
  },
  {
   "cell_type": "markdown",
   "metadata": {},
   "source": [
    "#### The prearchive using the web interface is showing that there's a conflict.\n",
    "\n",
    "##### Details:\n",
    "\n",
    "Current Warnings\n",
    "FAIL-4: Invalid modification of session subject via archive process.: PGM-002_MR_1 Already Exists for another Subject\n",
    "CONFLICT-14: Session already exists with matching files.\n",
    "CONFLICT-16: Session already contains a scan (11) with the same UID and number.\n",
    "\n",
    "History\n",
    "\n",
    "02/12/2020 20:48:18\n",
    "Session already exists, retry with overwrite enabled"
   ]
  },
  {
   "cell_type": "code",
   "execution_count": 104,
   "metadata": {},
   "outputs": [
    {
     "name": "stderr",
     "output_type": "stream",
     "text": [
      "[2020-02-13 12:06:16,490] DEBUG: session:334 >> GET URI http://10.1.1.17/data/prearchive/projects?format=json\n",
      "[2020-02-13 12:06:16,511] DEBUG: session:307 >> Received response with status code: 200\n"
     ]
    },
    {
     "data": {
      "text/plain": [
       "[<PrearchiveSession BrainTumorProg_copy/20200212_204058544/PGM-002_MR_1>,\n",
       " <PrearchiveSession BrainTumorProg_copy/20200206_152623716/PGM_002_MR_1>,\n",
       " <PrearchiveSession BrainTumorProg_copy/20200207_144303310/PGM_002_MR_1>]"
      ]
     },
     "execution_count": 104,
     "metadata": {},
     "output_type": "execute_result"
    }
   ],
   "source": [
    "session.prearchive.sessions()"
   ]
  },
  {
   "cell_type": "markdown",
   "metadata": {},
   "source": [
    "#### Seems that the scan I'm trying to archive is now listed at the top (the first entry) whereas previously it was the third item.  \n",
    "\n",
    "#### This inconsistency is confusing.."
   ]
  },
  {
   "cell_type": "code",
   "execution_count": 105,
   "metadata": {},
   "outputs": [
    {
     "name": "stderr",
     "output_type": "stream",
     "text": [
      "[2020-02-13 12:08:21,450] DEBUG: session:334 >> GET URI http://10.1.1.17/data/prearchive/projects?format=json\n",
      "[2020-02-13 12:08:21,469] DEBUG: session:307 >> Received response with status code: 200\n"
     ]
    },
    {
     "data": {
      "text/plain": [
       "<PrearchiveSession BrainTumorProg_copy/20200212_204058544/PGM-002_MR_1>"
      ]
     },
     "execution_count": 105,
     "metadata": {},
     "output_type": "execute_result"
    }
   ],
   "source": [
    "session.prearchive.sessions()[0]"
   ]
  },
  {
   "cell_type": "code",
   "execution_count": 105,
   "metadata": {},
   "outputs": [
    {
     "name": "stderr",
     "output_type": "stream",
     "text": [
      "[2020-02-13 12:08:21,450] DEBUG: session:334 >> GET URI http://10.1.1.17/data/prearchive/projects?format=json\n",
      "[2020-02-13 12:08:21,469] DEBUG: session:307 >> Received response with status code: 200\n"
     ]
    },
    {
     "data": {
      "text/plain": [
       "<PrearchiveSession BrainTumorProg_copy/20200212_204058544/PGM-002_MR_1>"
      ]
     },
     "execution_count": 105,
     "metadata": {},
     "output_type": "execute_result"
    }
   ],
   "source": [
    "session.prearchive.sessions()[0]"
   ]
  },
  {
   "cell_type": "code",
   "execution_count": 106,
   "metadata": {},
   "outputs": [
    {
     "name": "stderr",
     "output_type": "stream",
     "text": [
      "[2020-02-13 12:15:50,716] DEBUG: session:334 >> GET URI http://10.1.1.17/data/prearchive/projects?format=json\n",
      "[2020-02-13 12:15:50,745] DEBUG: session:307 >> Received response with status code: 200\n",
      "[2020-02-13 12:15:50,746] DEBUG: session:391 >> POST URI http://10.1.1.17/data/services/archive?src=%2Fdata%2Fprearchive%2Fprojects%2FBrainTumorProg_copy%2F20200212_204058544%2FPGM_002_MR_1&subject=PGM-002_copy&session=PGM-002_copy_MR_2\n",
      "[2020-02-13 12:15:50,747] DEBUG: session:393 >> POST DATA None\n",
      "[2020-02-13 12:15:50,863] DEBUG: session:307 >> Received response with status code: 409\n"
     ]
    },
    {
     "ename": "XNATResponseError",
     "evalue": "Invalid response from XNATSession for url http://10.1.1.17/data/services/archive?src=%2Fdata%2Fprearchive%2Fprojects%2FBrainTumorProg_copy%2F20200212_204058544%2FPGM_002_MR_1&subject=PGM-002_copy&session=PGM-002_copy_MR_2 (status 409):\n<html>\n<head>\n   <title>Status page</title>\n</head>\n<body>\n<h3>Session already exists, retry with overwrite enabled</h3><p>You can get technical details <a href=\"http://www.w3.org/Protocols/rfc2616/rfc2616-sec10.html#sec10.4.10\">here</a>.<br>\nPlease continue your visit at our <a href=\"/\">home page</a>.\n</p>\n</body>\n</html>\n",
     "output_type": "error",
     "traceback": [
      "\u001b[1;31m---------------------------------------------------------------------------\u001b[0m",
      "\u001b[1;31mXNATResponseError\u001b[0m                         Traceback (most recent call last)",
      "\u001b[1;32m<ipython-input-106-fc8dd36be12e>\u001b[0m in \u001b[0;36m<module>\u001b[1;34m\u001b[0m\n\u001b[0;32m      3\u001b[0m \u001b[0mprearchive_session\u001b[0m \u001b[1;33m=\u001b[0m \u001b[0msession\u001b[0m\u001b[1;33m.\u001b[0m\u001b[0mprearchive\u001b[0m\u001b[1;33m.\u001b[0m\u001b[0msessions\u001b[0m\u001b[1;33m(\u001b[0m\u001b[1;33m)\u001b[0m\u001b[1;33m[\u001b[0m\u001b[1;36m0\u001b[0m\u001b[1;33m]\u001b[0m\u001b[1;33m\u001b[0m\u001b[1;33m\u001b[0m\u001b[0m\n\u001b[0;32m      4\u001b[0m \u001b[1;33m\u001b[0m\u001b[0m\n\u001b[1;32m----> 5\u001b[1;33m \u001b[0mexperiment\u001b[0m \u001b[1;33m=\u001b[0m \u001b[0mprearchive_session\u001b[0m\u001b[1;33m.\u001b[0m\u001b[0marchive\u001b[0m\u001b[1;33m(\u001b[0m\u001b[0msubject\u001b[0m\u001b[1;33m=\u001b[0m\u001b[0mnewSubjectName\u001b[0m\u001b[1;33m,\u001b[0m \u001b[0mexperiment\u001b[0m\u001b[1;33m=\u001b[0m\u001b[0mnewExperimentName\u001b[0m\u001b[1;33m)\u001b[0m\u001b[1;33m\u001b[0m\u001b[1;33m\u001b[0m\u001b[0m\n\u001b[0m",
      "\u001b[1;32m~\\Anaconda37\\lib\\site-packages\\xnat\\prearchive.py\u001b[0m in \u001b[0;36marchive\u001b[1;34m(self, overwrite, quarantine, trigger_pipelines, project, subject, experiment)\u001b[0m\n\u001b[0;32m    218\u001b[0m             \u001b[0mquery\u001b[0m\u001b[1;33m[\u001b[0m\u001b[1;34m'session'\u001b[0m\u001b[1;33m]\u001b[0m \u001b[1;33m=\u001b[0m \u001b[0mexperiment\u001b[0m\u001b[1;33m\u001b[0m\u001b[1;33m\u001b[0m\u001b[0m\n\u001b[0;32m    219\u001b[0m \u001b[1;33m\u001b[0m\u001b[0m\n\u001b[1;32m--> 220\u001b[1;33m         \u001b[0mresponse\u001b[0m \u001b[1;33m=\u001b[0m \u001b[0mself\u001b[0m\u001b[1;33m.\u001b[0m\u001b[0mxnat_session\u001b[0m\u001b[1;33m.\u001b[0m\u001b[0mpost\u001b[0m\u001b[1;33m(\u001b[0m\u001b[1;34m'/data/services/archive'\u001b[0m\u001b[1;33m,\u001b[0m \u001b[0mquery\u001b[0m\u001b[1;33m=\u001b[0m\u001b[0mquery\u001b[0m\u001b[1;33m)\u001b[0m\u001b[1;33m\u001b[0m\u001b[1;33m\u001b[0m\u001b[0m\n\u001b[0m\u001b[0;32m    221\u001b[0m         \u001b[0mobject_uri\u001b[0m \u001b[1;33m=\u001b[0m \u001b[0mresponse\u001b[0m\u001b[1;33m.\u001b[0m\u001b[0mtext\u001b[0m\u001b[1;33m.\u001b[0m\u001b[0mstrip\u001b[0m\u001b[1;33m(\u001b[0m\u001b[1;33m)\u001b[0m\u001b[1;33m\u001b[0m\u001b[1;33m\u001b[0m\u001b[0m\n\u001b[0;32m    222\u001b[0m \u001b[1;33m\u001b[0m\u001b[0m\n",
      "\u001b[1;32m~\\Anaconda37\\lib\\site-packages\\xnat\\session.py\u001b[0m in \u001b[0;36mpost\u001b[1;34m(self, path, data, json, format, query, accepted_status, timeout, headers)\u001b[0m\n\u001b[0;32m    397\u001b[0m         \u001b[1;32mexcept\u001b[0m \u001b[0mrequests\u001b[0m\u001b[1;33m.\u001b[0m\u001b[0mexceptions\u001b[0m\u001b[1;33m.\u001b[0m\u001b[0mSSLError\u001b[0m\u001b[1;33m:\u001b[0m\u001b[1;33m\u001b[0m\u001b[1;33m\u001b[0m\u001b[0m\n\u001b[0;32m    398\u001b[0m             \u001b[1;32mraise\u001b[0m \u001b[0mexceptions\u001b[0m\u001b[1;33m.\u001b[0m\u001b[0mXNATSSLError\u001b[0m\u001b[1;33m(\u001b[0m\u001b[1;34m'Encountered a problem with the SSL connection, are you sure the server is offering https?'\u001b[0m\u001b[1;33m)\u001b[0m\u001b[1;33m\u001b[0m\u001b[1;33m\u001b[0m\u001b[0m\n\u001b[1;32m--> 399\u001b[1;33m         \u001b[0mself\u001b[0m\u001b[1;33m.\u001b[0m\u001b[0m_check_response\u001b[0m\u001b[1;33m(\u001b[0m\u001b[0mresponse\u001b[0m\u001b[1;33m,\u001b[0m \u001b[0maccepted_status\u001b[0m\u001b[1;33m=\u001b[0m\u001b[0maccepted_status\u001b[0m\u001b[1;33m,\u001b[0m \u001b[0muri\u001b[0m\u001b[1;33m=\u001b[0m\u001b[0muri\u001b[0m\u001b[1;33m)\u001b[0m\u001b[1;33m\u001b[0m\u001b[1;33m\u001b[0m\u001b[0m\n\u001b[0m\u001b[0;32m    400\u001b[0m         \u001b[1;32mreturn\u001b[0m \u001b[0mresponse\u001b[0m\u001b[1;33m\u001b[0m\u001b[1;33m\u001b[0m\u001b[0m\n\u001b[0;32m    401\u001b[0m \u001b[1;33m\u001b[0m\u001b[0m\n",
      "\u001b[1;32m~\\Anaconda37\\lib\\site-packages\\xnat\\session.py\u001b[0m in \u001b[0;36m_check_response\u001b[1;34m(self, response, accepted_status, uri)\u001b[0m\n\u001b[0;32m    311\u001b[0m                 \u001b[0maccepted_status\u001b[0m \u001b[1;33m=\u001b[0m \u001b[1;33m[\u001b[0m\u001b[1;36m200\u001b[0m\u001b[1;33m,\u001b[0m \u001b[1;36m201\u001b[0m\u001b[1;33m,\u001b[0m \u001b[1;36m202\u001b[0m\u001b[1;33m,\u001b[0m \u001b[1;36m203\u001b[0m\u001b[1;33m,\u001b[0m \u001b[1;36m204\u001b[0m\u001b[1;33m,\u001b[0m \u001b[1;36m205\u001b[0m\u001b[1;33m,\u001b[0m \u001b[1;36m206\u001b[0m\u001b[1;33m]\u001b[0m  \u001b[1;31m# All successful responses of HTML\u001b[0m\u001b[1;33m\u001b[0m\u001b[1;33m\u001b[0m\u001b[0m\n\u001b[0;32m    312\u001b[0m             \u001b[1;32mif\u001b[0m \u001b[0mresponse\u001b[0m\u001b[1;33m.\u001b[0m\u001b[0mstatus_code\u001b[0m \u001b[1;32mnot\u001b[0m \u001b[1;32min\u001b[0m \u001b[0maccepted_status\u001b[0m \u001b[1;32mor\u001b[0m \u001b[1;33m(\u001b[0m\u001b[1;32mnot\u001b[0m \u001b[0mself\u001b[0m\u001b[1;33m.\u001b[0m\u001b[0mskip_response_content_check\u001b[0m \u001b[1;32mand\u001b[0m \u001b[0mresponse\u001b[0m\u001b[1;33m.\u001b[0m\u001b[0mtext\u001b[0m\u001b[1;33m.\u001b[0m\u001b[0mstartswith\u001b[0m\u001b[1;33m(\u001b[0m\u001b[1;33m(\u001b[0m\u001b[1;34m'<!DOCTYPE'\u001b[0m\u001b[1;33m,\u001b[0m \u001b[1;34m'<html>'\u001b[0m\u001b[1;33m)\u001b[0m\u001b[1;33m)\u001b[0m\u001b[1;33m)\u001b[0m\u001b[1;33m:\u001b[0m\u001b[1;33m\u001b[0m\u001b[1;33m\u001b[0m\u001b[0m\n\u001b[1;32m--> 313\u001b[1;33m                 \u001b[1;32mraise\u001b[0m \u001b[0mexceptions\u001b[0m\u001b[1;33m.\u001b[0m\u001b[0mXNATResponseError\u001b[0m\u001b[1;33m(\u001b[0m\u001b[1;34m'Invalid response from XNATSession for url {} (status {}):\\n{}'\u001b[0m\u001b[1;33m.\u001b[0m\u001b[0mformat\u001b[0m\u001b[1;33m(\u001b[0m\u001b[0muri\u001b[0m\u001b[1;33m,\u001b[0m \u001b[0mresponse\u001b[0m\u001b[1;33m.\u001b[0m\u001b[0mstatus_code\u001b[0m\u001b[1;33m,\u001b[0m \u001b[0mresponse\u001b[0m\u001b[1;33m.\u001b[0m\u001b[0mtext\u001b[0m\u001b[1;33m)\u001b[0m\u001b[1;33m)\u001b[0m\u001b[1;33m\u001b[0m\u001b[1;33m\u001b[0m\u001b[0m\n\u001b[0m\u001b[0;32m    314\u001b[0m \u001b[1;33m\u001b[0m\u001b[0m\n\u001b[0;32m    315\u001b[0m     \u001b[1;32mdef\u001b[0m \u001b[0mget\u001b[0m\u001b[1;33m(\u001b[0m\u001b[0mself\u001b[0m\u001b[1;33m,\u001b[0m \u001b[0mpath\u001b[0m\u001b[1;33m,\u001b[0m \u001b[0mformat\u001b[0m\u001b[1;33m=\u001b[0m\u001b[1;32mNone\u001b[0m\u001b[1;33m,\u001b[0m \u001b[0mquery\u001b[0m\u001b[1;33m=\u001b[0m\u001b[1;32mNone\u001b[0m\u001b[1;33m,\u001b[0m \u001b[0maccepted_status\u001b[0m\u001b[1;33m=\u001b[0m\u001b[1;32mNone\u001b[0m\u001b[1;33m,\u001b[0m \u001b[0mtimeout\u001b[0m\u001b[1;33m=\u001b[0m\u001b[1;32mNone\u001b[0m\u001b[1;33m,\u001b[0m \u001b[0mheaders\u001b[0m\u001b[1;33m=\u001b[0m\u001b[1;32mNone\u001b[0m\u001b[1;33m)\u001b[0m\u001b[1;33m:\u001b[0m\u001b[1;33m\u001b[0m\u001b[1;33m\u001b[0m\u001b[0m\n",
      "\u001b[1;31mXNATResponseError\u001b[0m: Invalid response from XNATSession for url http://10.1.1.17/data/services/archive?src=%2Fdata%2Fprearchive%2Fprojects%2FBrainTumorProg_copy%2F20200212_204058544%2FPGM_002_MR_1&subject=PGM-002_copy&session=PGM-002_copy_MR_2 (status 409):\n<html>\n<head>\n   <title>Status page</title>\n</head>\n<body>\n<h3>Session already exists, retry with overwrite enabled</h3><p>You can get technical details <a href=\"http://www.w3.org/Protocols/rfc2616/rfc2616-sec10.html#sec10.4.10\">here</a>.<br>\nPlease continue your visit at our <a href=\"/\">home page</a>.\n</p>\n</body>\n</html>\n"
     ]
    }
   ],
   "source": [
    "# That's the one I want to archive. So archive the first entry only:\n",
    "\n",
    "prearchive_session = session.prearchive.sessions()[0]\n",
    "\n",
    "experiment = prearchive_session.archive(subject=newSubjectName, experiment=newExperimentName)"
   ]
  },
  {
   "cell_type": "markdown",
   "metadata": {},
   "source": [
    "#### I got the same conflict mesesage"
   ]
  },
  {
   "cell_type": "code",
   "execution_count": 107,
   "metadata": {},
   "outputs": [
    {
     "data": {
      "text/plain": [
       "<PrearchiveSession BrainTumorProg_copy/20200212_204058544/PGM-002_MR_1>"
      ]
     },
     "execution_count": 107,
     "metadata": {},
     "output_type": "execute_result"
    }
   ],
   "source": [
    "prearchive_session"
   ]
  },
  {
   "cell_type": "code",
   "execution_count": 108,
   "metadata": {},
   "outputs": [
    {
     "name": "stderr",
     "output_type": "stream",
     "text": [
      "[2020-02-13 12:25:19,209] DEBUG: session:391 >> POST URI http://10.1.1.17/data/services/archive?src=%2Fdata%2Fprearchive%2Fprojects%2FBrainTumorProg_copy%2F20200212_204058544%2FPGM_002_MR_1&overwrite=append&subject=PGM-002_copy&session=PGM-002_copy_MR_2\n",
      "[2020-02-13 12:25:19,209] DEBUG: session:393 >> POST DATA None\n",
      "[2020-02-13 12:25:19,593] DEBUG: session:307 >> Received response with status code: 200\n",
      "[2020-02-13 12:25:19,594] DEBUG: session:738 >> Type unknown, fetching data to get type\n",
      "[2020-02-13 12:25:19,594] DEBUG: session:334 >> GET URI http://10.1.1.17/data/archive/projects/BrainTumorProg_copy/subjects/PGM-002_copy/experiments/PGM-002_copy_MR_2?format=json\n",
      "[2020-02-13 12:25:19,781] DEBUG: session:307 >> Received response with status code: 200\n",
      "[2020-02-13 12:25:19,782] DEBUG: session:746 >> Looking up type xnat:mrSessionData [str]\n",
      "[2020-02-13 12:25:19,785] DEBUG: session:753 >> Creating object of type <class 'xnat_gen_540681bf052587e8ba9fee53609ca631.MrSessionData'>\n"
     ]
    }
   ],
   "source": [
    "# Try again but this time using the overwrite input\n",
    "\n",
    "experiment = prearchive_session.archive(subject=newSubjectName, experiment=newExperimentName, overwrite='append')"
   ]
  },
  {
   "cell_type": "markdown",
   "metadata": {},
   "source": [
    "#### So that seems to have avoided the conflict error but I was expecting the second scan to be included in the same collection as the first one that I uploaded.\n",
    "\n",
    "#### Instead it's been added to a new experiment with a different label (PGM-002_copy_MR_2).  \n",
    "\n",
    "##### Experiments "
   ]
  },
  {
   "cell_type": "markdown",
   "metadata": {},
   "source": [
    "Date          Experiment        Project                Label \n",
    "\n",
    "1996-08-13    MR Session        BrainTumorProg_copy    PGM-002_copy_MR_2\n",
    "              Auto QC           BrainTumorProg_copy    ROI_tumour\n",
    "              Auto QC           BrainTumorProg_copy    ROI_tumour_2\n",
    "1996-08-13    MR Session        BrainTumorProg_copy    PGM-002_MR_1"
   ]
  },
  {
   "cell_type": "code",
   "execution_count": 111,
   "metadata": {},
   "outputs": [
    {
     "data": {
      "text/plain": [
       "'BrainTumorProg_copy'"
      ]
     },
     "execution_count": 111,
     "metadata": {},
     "output_type": "execute_result"
    }
   ],
   "source": [
    "newProjectName"
   ]
  },
  {
   "cell_type": "code",
   "execution_count": 109,
   "metadata": {},
   "outputs": [
    {
     "data": {
      "text/plain": [
       "'PGM-002_copy'"
      ]
     },
     "execution_count": 109,
     "metadata": {},
     "output_type": "execute_result"
    }
   ],
   "source": [
    "newSubjectName"
   ]
  },
  {
   "cell_type": "code",
   "execution_count": 110,
   "metadata": {},
   "outputs": [
    {
     "data": {
      "text/plain": [
       "'PGM-002_copy_MR_2'"
      ]
     },
     "execution_count": 110,
     "metadata": {},
     "output_type": "execute_result"
    }
   ],
   "source": [
    "newExperimentName"
   ]
  },
  {
   "cell_type": "markdown",
   "metadata": {},
   "source": [
    "#### So it seems that the scan that I moved to the archive using the web interface was assigned to a different experiment (PGM-002_MR_1) instead of the one defined by newExperimentName (PGM-002_copy_MR_2)."
   ]
  },
  {
   "cell_type": "code",
   "execution_count": 112,
   "metadata": {},
   "outputs": [
    {
     "name": "stderr",
     "output_type": "stream",
     "text": [
      "[2020-02-13 12:45:37,317] DEBUG: session:661 >> UPLOAD URI http://10.1.1.17/data/services/import?dest=%2Fprearchive&project=BrainTumorProg_copy\n",
      "[2020-02-13 12:45:37,966] DEBUG: session:307 >> Received response with status code: 200\n"
     ]
    }
   ],
   "source": [
    "# Try again with uploading the second DICOM scan to the prearchive:\n",
    "\n",
    "prearchive_session = session.services.import_(dicomsFpaths[1], \\\n",
    "                                              project=newProjectName, \\\n",
    "                                              destination='/prearchive')"
   ]
  },
  {
   "cell_type": "code",
   "execution_count": 113,
   "metadata": {},
   "outputs": [
    {
     "name": "stderr",
     "output_type": "stream",
     "text": [
      "[2020-02-13 12:46:25,832] DEBUG: session:391 >> POST URI http://10.1.1.17/data/services/archive?src=%2Fdata%2Fprearchive%2Fprojects%2FBrainTumorProg_copy%2F20200212_213423578%2FPGM_002_MR_1&overwrite=append&subject=PGM-002_copy&session=PGM-002_MR_1\n",
      "[2020-02-13 12:46:25,832] DEBUG: session:393 >> POST DATA None\n",
      "[2020-02-13 12:46:25,942] DEBUG: session:307 >> Received response with status code: 409\n"
     ]
    },
    {
     "ename": "XNATResponseError",
     "evalue": "Invalid response from XNATSession for url http://10.1.1.17/data/services/archive?src=%2Fdata%2Fprearchive%2Fprojects%2FBrainTumorProg_copy%2F20200212_213423578%2FPGM_002_MR_1&overwrite=append&subject=PGM-002_copy&session=PGM-002_MR_1 (status 409):\n<html>\n<head>\n   <title>Status page</title>\n</head>\n<body>\n<h3>Session already exists with matching files.</h3><p>You can get technical details <a href=\"http://www.w3.org/Protocols/rfc2616/rfc2616-sec10.html#sec10.4.10\">here</a>.<br>\nPlease continue your visit at our <a href=\"/\">home page</a>.\n</p>\n</body>\n</html>\n",
     "output_type": "error",
     "traceback": [
      "\u001b[1;31m---------------------------------------------------------------------------\u001b[0m",
      "\u001b[1;31mXNATResponseError\u001b[0m                         Traceback (most recent call last)",
      "\u001b[1;32m<ipython-input-113-d7184f049025>\u001b[0m in \u001b[0;36m<module>\u001b[1;34m\u001b[0m\n\u001b[0;32m      1\u001b[0m \u001b[1;31m# Try again but this time using the overwrite input but this time adding it to the experiment PGM-002_MR_1:\u001b[0m\u001b[1;33m\u001b[0m\u001b[1;33m\u001b[0m\u001b[1;33m\u001b[0m\u001b[0m\n\u001b[0;32m      2\u001b[0m \u001b[1;33m\u001b[0m\u001b[0m\n\u001b[1;32m----> 3\u001b[1;33m \u001b[0mexperiment\u001b[0m \u001b[1;33m=\u001b[0m \u001b[0mprearchive_session\u001b[0m\u001b[1;33m.\u001b[0m\u001b[0marchive\u001b[0m\u001b[1;33m(\u001b[0m\u001b[0msubject\u001b[0m\u001b[1;33m=\u001b[0m\u001b[0mnewSubjectName\u001b[0m\u001b[1;33m,\u001b[0m \u001b[0mexperiment\u001b[0m\u001b[1;33m=\u001b[0m\u001b[1;34m'PGM-002_MR_1'\u001b[0m\u001b[1;33m,\u001b[0m \u001b[0moverwrite\u001b[0m\u001b[1;33m=\u001b[0m\u001b[1;34m'append'\u001b[0m\u001b[1;33m)\u001b[0m\u001b[1;33m\u001b[0m\u001b[1;33m\u001b[0m\u001b[0m\n\u001b[0m",
      "\u001b[1;32m~\\Anaconda37\\lib\\site-packages\\xnat\\prearchive.py\u001b[0m in \u001b[0;36marchive\u001b[1;34m(self, overwrite, quarantine, trigger_pipelines, project, subject, experiment)\u001b[0m\n\u001b[0;32m    218\u001b[0m             \u001b[0mquery\u001b[0m\u001b[1;33m[\u001b[0m\u001b[1;34m'session'\u001b[0m\u001b[1;33m]\u001b[0m \u001b[1;33m=\u001b[0m \u001b[0mexperiment\u001b[0m\u001b[1;33m\u001b[0m\u001b[1;33m\u001b[0m\u001b[0m\n\u001b[0;32m    219\u001b[0m \u001b[1;33m\u001b[0m\u001b[0m\n\u001b[1;32m--> 220\u001b[1;33m         \u001b[0mresponse\u001b[0m \u001b[1;33m=\u001b[0m \u001b[0mself\u001b[0m\u001b[1;33m.\u001b[0m\u001b[0mxnat_session\u001b[0m\u001b[1;33m.\u001b[0m\u001b[0mpost\u001b[0m\u001b[1;33m(\u001b[0m\u001b[1;34m'/data/services/archive'\u001b[0m\u001b[1;33m,\u001b[0m \u001b[0mquery\u001b[0m\u001b[1;33m=\u001b[0m\u001b[0mquery\u001b[0m\u001b[1;33m)\u001b[0m\u001b[1;33m\u001b[0m\u001b[1;33m\u001b[0m\u001b[0m\n\u001b[0m\u001b[0;32m    221\u001b[0m         \u001b[0mobject_uri\u001b[0m \u001b[1;33m=\u001b[0m \u001b[0mresponse\u001b[0m\u001b[1;33m.\u001b[0m\u001b[0mtext\u001b[0m\u001b[1;33m.\u001b[0m\u001b[0mstrip\u001b[0m\u001b[1;33m(\u001b[0m\u001b[1;33m)\u001b[0m\u001b[1;33m\u001b[0m\u001b[1;33m\u001b[0m\u001b[0m\n\u001b[0;32m    222\u001b[0m \u001b[1;33m\u001b[0m\u001b[0m\n",
      "\u001b[1;32m~\\Anaconda37\\lib\\site-packages\\xnat\\session.py\u001b[0m in \u001b[0;36mpost\u001b[1;34m(self, path, data, json, format, query, accepted_status, timeout, headers)\u001b[0m\n\u001b[0;32m    397\u001b[0m         \u001b[1;32mexcept\u001b[0m \u001b[0mrequests\u001b[0m\u001b[1;33m.\u001b[0m\u001b[0mexceptions\u001b[0m\u001b[1;33m.\u001b[0m\u001b[0mSSLError\u001b[0m\u001b[1;33m:\u001b[0m\u001b[1;33m\u001b[0m\u001b[1;33m\u001b[0m\u001b[0m\n\u001b[0;32m    398\u001b[0m             \u001b[1;32mraise\u001b[0m \u001b[0mexceptions\u001b[0m\u001b[1;33m.\u001b[0m\u001b[0mXNATSSLError\u001b[0m\u001b[1;33m(\u001b[0m\u001b[1;34m'Encountered a problem with the SSL connection, are you sure the server is offering https?'\u001b[0m\u001b[1;33m)\u001b[0m\u001b[1;33m\u001b[0m\u001b[1;33m\u001b[0m\u001b[0m\n\u001b[1;32m--> 399\u001b[1;33m         \u001b[0mself\u001b[0m\u001b[1;33m.\u001b[0m\u001b[0m_check_response\u001b[0m\u001b[1;33m(\u001b[0m\u001b[0mresponse\u001b[0m\u001b[1;33m,\u001b[0m \u001b[0maccepted_status\u001b[0m\u001b[1;33m=\u001b[0m\u001b[0maccepted_status\u001b[0m\u001b[1;33m,\u001b[0m \u001b[0muri\u001b[0m\u001b[1;33m=\u001b[0m\u001b[0muri\u001b[0m\u001b[1;33m)\u001b[0m\u001b[1;33m\u001b[0m\u001b[1;33m\u001b[0m\u001b[0m\n\u001b[0m\u001b[0;32m    400\u001b[0m         \u001b[1;32mreturn\u001b[0m \u001b[0mresponse\u001b[0m\u001b[1;33m\u001b[0m\u001b[1;33m\u001b[0m\u001b[0m\n\u001b[0;32m    401\u001b[0m \u001b[1;33m\u001b[0m\u001b[0m\n",
      "\u001b[1;32m~\\Anaconda37\\lib\\site-packages\\xnat\\session.py\u001b[0m in \u001b[0;36m_check_response\u001b[1;34m(self, response, accepted_status, uri)\u001b[0m\n\u001b[0;32m    311\u001b[0m                 \u001b[0maccepted_status\u001b[0m \u001b[1;33m=\u001b[0m \u001b[1;33m[\u001b[0m\u001b[1;36m200\u001b[0m\u001b[1;33m,\u001b[0m \u001b[1;36m201\u001b[0m\u001b[1;33m,\u001b[0m \u001b[1;36m202\u001b[0m\u001b[1;33m,\u001b[0m \u001b[1;36m203\u001b[0m\u001b[1;33m,\u001b[0m \u001b[1;36m204\u001b[0m\u001b[1;33m,\u001b[0m \u001b[1;36m205\u001b[0m\u001b[1;33m,\u001b[0m \u001b[1;36m206\u001b[0m\u001b[1;33m]\u001b[0m  \u001b[1;31m# All successful responses of HTML\u001b[0m\u001b[1;33m\u001b[0m\u001b[1;33m\u001b[0m\u001b[0m\n\u001b[0;32m    312\u001b[0m             \u001b[1;32mif\u001b[0m \u001b[0mresponse\u001b[0m\u001b[1;33m.\u001b[0m\u001b[0mstatus_code\u001b[0m \u001b[1;32mnot\u001b[0m \u001b[1;32min\u001b[0m \u001b[0maccepted_status\u001b[0m \u001b[1;32mor\u001b[0m \u001b[1;33m(\u001b[0m\u001b[1;32mnot\u001b[0m \u001b[0mself\u001b[0m\u001b[1;33m.\u001b[0m\u001b[0mskip_response_content_check\u001b[0m \u001b[1;32mand\u001b[0m \u001b[0mresponse\u001b[0m\u001b[1;33m.\u001b[0m\u001b[0mtext\u001b[0m\u001b[1;33m.\u001b[0m\u001b[0mstartswith\u001b[0m\u001b[1;33m(\u001b[0m\u001b[1;33m(\u001b[0m\u001b[1;34m'<!DOCTYPE'\u001b[0m\u001b[1;33m,\u001b[0m \u001b[1;34m'<html>'\u001b[0m\u001b[1;33m)\u001b[0m\u001b[1;33m)\u001b[0m\u001b[1;33m)\u001b[0m\u001b[1;33m:\u001b[0m\u001b[1;33m\u001b[0m\u001b[1;33m\u001b[0m\u001b[0m\n\u001b[1;32m--> 313\u001b[1;33m                 \u001b[1;32mraise\u001b[0m \u001b[0mexceptions\u001b[0m\u001b[1;33m.\u001b[0m\u001b[0mXNATResponseError\u001b[0m\u001b[1;33m(\u001b[0m\u001b[1;34m'Invalid response from XNATSession for url {} (status {}):\\n{}'\u001b[0m\u001b[1;33m.\u001b[0m\u001b[0mformat\u001b[0m\u001b[1;33m(\u001b[0m\u001b[0muri\u001b[0m\u001b[1;33m,\u001b[0m \u001b[0mresponse\u001b[0m\u001b[1;33m.\u001b[0m\u001b[0mstatus_code\u001b[0m\u001b[1;33m,\u001b[0m \u001b[0mresponse\u001b[0m\u001b[1;33m.\u001b[0m\u001b[0mtext\u001b[0m\u001b[1;33m)\u001b[0m\u001b[1;33m)\u001b[0m\u001b[1;33m\u001b[0m\u001b[1;33m\u001b[0m\u001b[0m\n\u001b[0m\u001b[0;32m    314\u001b[0m \u001b[1;33m\u001b[0m\u001b[0m\n\u001b[0;32m    315\u001b[0m     \u001b[1;32mdef\u001b[0m \u001b[0mget\u001b[0m\u001b[1;33m(\u001b[0m\u001b[0mself\u001b[0m\u001b[1;33m,\u001b[0m \u001b[0mpath\u001b[0m\u001b[1;33m,\u001b[0m \u001b[0mformat\u001b[0m\u001b[1;33m=\u001b[0m\u001b[1;32mNone\u001b[0m\u001b[1;33m,\u001b[0m \u001b[0mquery\u001b[0m\u001b[1;33m=\u001b[0m\u001b[1;32mNone\u001b[0m\u001b[1;33m,\u001b[0m \u001b[0maccepted_status\u001b[0m\u001b[1;33m=\u001b[0m\u001b[1;32mNone\u001b[0m\u001b[1;33m,\u001b[0m \u001b[0mtimeout\u001b[0m\u001b[1;33m=\u001b[0m\u001b[1;32mNone\u001b[0m\u001b[1;33m,\u001b[0m \u001b[0mheaders\u001b[0m\u001b[1;33m=\u001b[0m\u001b[1;32mNone\u001b[0m\u001b[1;33m)\u001b[0m\u001b[1;33m:\u001b[0m\u001b[1;33m\u001b[0m\u001b[1;33m\u001b[0m\u001b[0m\n",
      "\u001b[1;31mXNATResponseError\u001b[0m: Invalid response from XNATSession for url http://10.1.1.17/data/services/archive?src=%2Fdata%2Fprearchive%2Fprojects%2FBrainTumorProg_copy%2F20200212_213423578%2FPGM_002_MR_1&overwrite=append&subject=PGM-002_copy&session=PGM-002_MR_1 (status 409):\n<html>\n<head>\n   <title>Status page</title>\n</head>\n<body>\n<h3>Session already exists with matching files.</h3><p>You can get technical details <a href=\"http://www.w3.org/Protocols/rfc2616/rfc2616-sec10.html#sec10.4.10\">here</a>.<br>\nPlease continue your visit at our <a href=\"/\">home page</a>.\n</p>\n</body>\n</html>\n"
     ]
    }
   ],
   "source": [
    "# Try again but this time using the overwrite input but this time adding it to the experiment PGM-002_MR_1:\n",
    "\n",
    "experiment = prearchive_session.archive(subject=newSubjectName, experiment='PGM-002_MR_1', overwrite='append')"
   ]
  },
  {
   "cell_type": "markdown",
   "metadata": {},
   "source": [
    "#### I received another conflict error:\n",
    "\n",
    "FAIL-4: Invalid modification of session subject via archive process.: PGM-002_MR_1 Already Exists for another Subject\n",
    "CONFLICT-14: Session already exists with matching files.\n",
    "CONFLICT-16: Session already contains a scan (11) with the same UID and number.\n",
    "\n",
    "History\n",
    "\n",
    "02/12/2020 21:35:16\n",
    "Session already exists with matching files.\n",
    "\n",
    "#### Maybe because I forgot to select which file in the prearchive to archive!"
   ]
  },
  {
   "cell_type": "code",
   "execution_count": 115,
   "metadata": {},
   "outputs": [
    {
     "name": "stderr",
     "output_type": "stream",
     "text": [
      "[2020-02-13 12:51:49,982] DEBUG: session:334 >> GET URI http://10.1.1.17/data/prearchive/projects?format=json\n",
      "[2020-02-13 12:51:50,005] DEBUG: session:307 >> Received response with status code: 200\n",
      "[2020-02-13 12:51:50,006] DEBUG: session:334 >> GET URI http://10.1.1.17/data/prearchive/projects/BrainTumorProg_copy/20200212_213423578/PGM_002_MR_1?format=json\n",
      "[2020-02-13 12:51:50,027] DEBUG: session:307 >> Received response with status code: 200\n"
     ]
    },
    {
     "data": {
      "text/plain": [
       "[<PrearchiveSession BrainTumorProg_copy/20200206_152623716/PGM_002_MR_1>,\n",
       " <PrearchiveSession BrainTumorProg_copy/20200207_144303310/PGM_002_MR_1>,\n",
       " <PrearchiveSession BrainTumorProg_copy/20200212_213423578/PGM-002_MR_1>]"
      ]
     },
     "execution_count": 115,
     "metadata": {},
     "output_type": "execute_result"
    }
   ],
   "source": [
    "# Get a list of sessions waiting for archiving:\n",
    "\n",
    "session.prearchive.sessions()"
   ]
  },
  {
   "cell_type": "code",
   "execution_count": 116,
   "metadata": {},
   "outputs": [
    {
     "name": "stderr",
     "output_type": "stream",
     "text": [
      "[2020-02-13 12:55:56,027] DEBUG: session:334 >> GET URI http://10.1.1.17/data/prearchive/projects?format=json\n",
      "[2020-02-13 12:55:56,050] DEBUG: session:307 >> Received response with status code: 200\n"
     ]
    },
    {
     "data": {
      "text/plain": [
       "<PrearchiveSession BrainTumorProg_copy/20200212_213423578/PGM-002_MR_1>"
      ]
     },
     "execution_count": 116,
     "metadata": {},
     "output_type": "execute_result"
    }
   ],
   "source": [
    "session.prearchive.sessions()[2]"
   ]
  },
  {
   "cell_type": "code",
   "execution_count": 117,
   "metadata": {},
   "outputs": [
    {
     "name": "stderr",
     "output_type": "stream",
     "text": [
      "[2020-02-13 12:57:31,318] DEBUG: session:334 >> GET URI http://10.1.1.17/data/prearchive/projects?format=json\n",
      "[2020-02-13 12:57:31,341] DEBUG: session:307 >> Received response with status code: 200\n",
      "[2020-02-13 12:57:31,342] DEBUG: session:391 >> POST URI http://10.1.1.17/data/services/archive?src=%2Fdata%2Fprearchive%2Fprojects%2FBrainTumorProg_copy%2F20200212_213423578%2FPGM_002_MR_1&overwrite=append&subject=PGM-002_copy&session=PGM-002_MR_1\n",
      "[2020-02-13 12:57:31,343] DEBUG: session:393 >> POST DATA None\n",
      "[2020-02-13 12:57:31,422] DEBUG: session:307 >> Received response with status code: 409\n"
     ]
    },
    {
     "ename": "XNATResponseError",
     "evalue": "Invalid response from XNATSession for url http://10.1.1.17/data/services/archive?src=%2Fdata%2Fprearchive%2Fprojects%2FBrainTumorProg_copy%2F20200212_213423578%2FPGM_002_MR_1&overwrite=append&subject=PGM-002_copy&session=PGM-002_MR_1 (status 409):\n<html>\n<head>\n   <title>Status page</title>\n</head>\n<body>\n<h3>Session already exists with matching files.</h3><p>You can get technical details <a href=\"http://www.w3.org/Protocols/rfc2616/rfc2616-sec10.html#sec10.4.10\">here</a>.<br>\nPlease continue your visit at our <a href=\"/\">home page</a>.\n</p>\n</body>\n</html>\n",
     "output_type": "error",
     "traceback": [
      "\u001b[1;31m---------------------------------------------------------------------------\u001b[0m",
      "\u001b[1;31mXNATResponseError\u001b[0m                         Traceback (most recent call last)",
      "\u001b[1;32m<ipython-input-117-803c1f71caf1>\u001b[0m in \u001b[0;36m<module>\u001b[1;34m\u001b[0m\n\u001b[0;32m      1\u001b[0m \u001b[1;31m# Try again this time selecting the correct file to archive:\u001b[0m\u001b[1;33m\u001b[0m\u001b[1;33m\u001b[0m\u001b[1;33m\u001b[0m\u001b[0m\n\u001b[0;32m      2\u001b[0m \u001b[1;33m\u001b[0m\u001b[0m\n\u001b[1;32m----> 3\u001b[1;33m \u001b[0msession\u001b[0m\u001b[1;33m.\u001b[0m\u001b[0mprearchive\u001b[0m\u001b[1;33m.\u001b[0m\u001b[0msessions\u001b[0m\u001b[1;33m(\u001b[0m\u001b[1;33m)\u001b[0m\u001b[1;33m[\u001b[0m\u001b[1;36m2\u001b[0m\u001b[1;33m]\u001b[0m\u001b[1;33m.\u001b[0m\u001b[0marchive\u001b[0m\u001b[1;33m(\u001b[0m\u001b[0msubject\u001b[0m\u001b[1;33m=\u001b[0m\u001b[0mnewSubjectName\u001b[0m\u001b[1;33m,\u001b[0m \u001b[0mexperiment\u001b[0m\u001b[1;33m=\u001b[0m\u001b[1;34m'PGM-002_MR_1'\u001b[0m\u001b[1;33m,\u001b[0m \u001b[0moverwrite\u001b[0m\u001b[1;33m=\u001b[0m\u001b[1;34m'append'\u001b[0m\u001b[1;33m)\u001b[0m\u001b[1;33m\u001b[0m\u001b[1;33m\u001b[0m\u001b[0m\n\u001b[0m",
      "\u001b[1;32m~\\Anaconda37\\lib\\site-packages\\xnat\\prearchive.py\u001b[0m in \u001b[0;36marchive\u001b[1;34m(self, overwrite, quarantine, trigger_pipelines, project, subject, experiment)\u001b[0m\n\u001b[0;32m    218\u001b[0m             \u001b[0mquery\u001b[0m\u001b[1;33m[\u001b[0m\u001b[1;34m'session'\u001b[0m\u001b[1;33m]\u001b[0m \u001b[1;33m=\u001b[0m \u001b[0mexperiment\u001b[0m\u001b[1;33m\u001b[0m\u001b[1;33m\u001b[0m\u001b[0m\n\u001b[0;32m    219\u001b[0m \u001b[1;33m\u001b[0m\u001b[0m\n\u001b[1;32m--> 220\u001b[1;33m         \u001b[0mresponse\u001b[0m \u001b[1;33m=\u001b[0m \u001b[0mself\u001b[0m\u001b[1;33m.\u001b[0m\u001b[0mxnat_session\u001b[0m\u001b[1;33m.\u001b[0m\u001b[0mpost\u001b[0m\u001b[1;33m(\u001b[0m\u001b[1;34m'/data/services/archive'\u001b[0m\u001b[1;33m,\u001b[0m \u001b[0mquery\u001b[0m\u001b[1;33m=\u001b[0m\u001b[0mquery\u001b[0m\u001b[1;33m)\u001b[0m\u001b[1;33m\u001b[0m\u001b[1;33m\u001b[0m\u001b[0m\n\u001b[0m\u001b[0;32m    221\u001b[0m         \u001b[0mobject_uri\u001b[0m \u001b[1;33m=\u001b[0m \u001b[0mresponse\u001b[0m\u001b[1;33m.\u001b[0m\u001b[0mtext\u001b[0m\u001b[1;33m.\u001b[0m\u001b[0mstrip\u001b[0m\u001b[1;33m(\u001b[0m\u001b[1;33m)\u001b[0m\u001b[1;33m\u001b[0m\u001b[1;33m\u001b[0m\u001b[0m\n\u001b[0;32m    222\u001b[0m \u001b[1;33m\u001b[0m\u001b[0m\n",
      "\u001b[1;32m~\\Anaconda37\\lib\\site-packages\\xnat\\session.py\u001b[0m in \u001b[0;36mpost\u001b[1;34m(self, path, data, json, format, query, accepted_status, timeout, headers)\u001b[0m\n\u001b[0;32m    397\u001b[0m         \u001b[1;32mexcept\u001b[0m \u001b[0mrequests\u001b[0m\u001b[1;33m.\u001b[0m\u001b[0mexceptions\u001b[0m\u001b[1;33m.\u001b[0m\u001b[0mSSLError\u001b[0m\u001b[1;33m:\u001b[0m\u001b[1;33m\u001b[0m\u001b[1;33m\u001b[0m\u001b[0m\n\u001b[0;32m    398\u001b[0m             \u001b[1;32mraise\u001b[0m \u001b[0mexceptions\u001b[0m\u001b[1;33m.\u001b[0m\u001b[0mXNATSSLError\u001b[0m\u001b[1;33m(\u001b[0m\u001b[1;34m'Encountered a problem with the SSL connection, are you sure the server is offering https?'\u001b[0m\u001b[1;33m)\u001b[0m\u001b[1;33m\u001b[0m\u001b[1;33m\u001b[0m\u001b[0m\n\u001b[1;32m--> 399\u001b[1;33m         \u001b[0mself\u001b[0m\u001b[1;33m.\u001b[0m\u001b[0m_check_response\u001b[0m\u001b[1;33m(\u001b[0m\u001b[0mresponse\u001b[0m\u001b[1;33m,\u001b[0m \u001b[0maccepted_status\u001b[0m\u001b[1;33m=\u001b[0m\u001b[0maccepted_status\u001b[0m\u001b[1;33m,\u001b[0m \u001b[0muri\u001b[0m\u001b[1;33m=\u001b[0m\u001b[0muri\u001b[0m\u001b[1;33m)\u001b[0m\u001b[1;33m\u001b[0m\u001b[1;33m\u001b[0m\u001b[0m\n\u001b[0m\u001b[0;32m    400\u001b[0m         \u001b[1;32mreturn\u001b[0m \u001b[0mresponse\u001b[0m\u001b[1;33m\u001b[0m\u001b[1;33m\u001b[0m\u001b[0m\n\u001b[0;32m    401\u001b[0m \u001b[1;33m\u001b[0m\u001b[0m\n",
      "\u001b[1;32m~\\Anaconda37\\lib\\site-packages\\xnat\\session.py\u001b[0m in \u001b[0;36m_check_response\u001b[1;34m(self, response, accepted_status, uri)\u001b[0m\n\u001b[0;32m    311\u001b[0m                 \u001b[0maccepted_status\u001b[0m \u001b[1;33m=\u001b[0m \u001b[1;33m[\u001b[0m\u001b[1;36m200\u001b[0m\u001b[1;33m,\u001b[0m \u001b[1;36m201\u001b[0m\u001b[1;33m,\u001b[0m \u001b[1;36m202\u001b[0m\u001b[1;33m,\u001b[0m \u001b[1;36m203\u001b[0m\u001b[1;33m,\u001b[0m \u001b[1;36m204\u001b[0m\u001b[1;33m,\u001b[0m \u001b[1;36m205\u001b[0m\u001b[1;33m,\u001b[0m \u001b[1;36m206\u001b[0m\u001b[1;33m]\u001b[0m  \u001b[1;31m# All successful responses of HTML\u001b[0m\u001b[1;33m\u001b[0m\u001b[1;33m\u001b[0m\u001b[0m\n\u001b[0;32m    312\u001b[0m             \u001b[1;32mif\u001b[0m \u001b[0mresponse\u001b[0m\u001b[1;33m.\u001b[0m\u001b[0mstatus_code\u001b[0m \u001b[1;32mnot\u001b[0m \u001b[1;32min\u001b[0m \u001b[0maccepted_status\u001b[0m \u001b[1;32mor\u001b[0m \u001b[1;33m(\u001b[0m\u001b[1;32mnot\u001b[0m \u001b[0mself\u001b[0m\u001b[1;33m.\u001b[0m\u001b[0mskip_response_content_check\u001b[0m \u001b[1;32mand\u001b[0m \u001b[0mresponse\u001b[0m\u001b[1;33m.\u001b[0m\u001b[0mtext\u001b[0m\u001b[1;33m.\u001b[0m\u001b[0mstartswith\u001b[0m\u001b[1;33m(\u001b[0m\u001b[1;33m(\u001b[0m\u001b[1;34m'<!DOCTYPE'\u001b[0m\u001b[1;33m,\u001b[0m \u001b[1;34m'<html>'\u001b[0m\u001b[1;33m)\u001b[0m\u001b[1;33m)\u001b[0m\u001b[1;33m)\u001b[0m\u001b[1;33m:\u001b[0m\u001b[1;33m\u001b[0m\u001b[1;33m\u001b[0m\u001b[0m\n\u001b[1;32m--> 313\u001b[1;33m                 \u001b[1;32mraise\u001b[0m \u001b[0mexceptions\u001b[0m\u001b[1;33m.\u001b[0m\u001b[0mXNATResponseError\u001b[0m\u001b[1;33m(\u001b[0m\u001b[1;34m'Invalid response from XNATSession for url {} (status {}):\\n{}'\u001b[0m\u001b[1;33m.\u001b[0m\u001b[0mformat\u001b[0m\u001b[1;33m(\u001b[0m\u001b[0muri\u001b[0m\u001b[1;33m,\u001b[0m \u001b[0mresponse\u001b[0m\u001b[1;33m.\u001b[0m\u001b[0mstatus_code\u001b[0m\u001b[1;33m,\u001b[0m \u001b[0mresponse\u001b[0m\u001b[1;33m.\u001b[0m\u001b[0mtext\u001b[0m\u001b[1;33m)\u001b[0m\u001b[1;33m)\u001b[0m\u001b[1;33m\u001b[0m\u001b[1;33m\u001b[0m\u001b[0m\n\u001b[0m\u001b[0;32m    314\u001b[0m \u001b[1;33m\u001b[0m\u001b[0m\n\u001b[0;32m    315\u001b[0m     \u001b[1;32mdef\u001b[0m \u001b[0mget\u001b[0m\u001b[1;33m(\u001b[0m\u001b[0mself\u001b[0m\u001b[1;33m,\u001b[0m \u001b[0mpath\u001b[0m\u001b[1;33m,\u001b[0m \u001b[0mformat\u001b[0m\u001b[1;33m=\u001b[0m\u001b[1;32mNone\u001b[0m\u001b[1;33m,\u001b[0m \u001b[0mquery\u001b[0m\u001b[1;33m=\u001b[0m\u001b[1;32mNone\u001b[0m\u001b[1;33m,\u001b[0m \u001b[0maccepted_status\u001b[0m\u001b[1;33m=\u001b[0m\u001b[1;32mNone\u001b[0m\u001b[1;33m,\u001b[0m \u001b[0mtimeout\u001b[0m\u001b[1;33m=\u001b[0m\u001b[1;32mNone\u001b[0m\u001b[1;33m,\u001b[0m \u001b[0mheaders\u001b[0m\u001b[1;33m=\u001b[0m\u001b[1;32mNone\u001b[0m\u001b[1;33m)\u001b[0m\u001b[1;33m:\u001b[0m\u001b[1;33m\u001b[0m\u001b[1;33m\u001b[0m\u001b[0m\n",
      "\u001b[1;31mXNATResponseError\u001b[0m: Invalid response from XNATSession for url http://10.1.1.17/data/services/archive?src=%2Fdata%2Fprearchive%2Fprojects%2FBrainTumorProg_copy%2F20200212_213423578%2FPGM_002_MR_1&overwrite=append&subject=PGM-002_copy&session=PGM-002_MR_1 (status 409):\n<html>\n<head>\n   <title>Status page</title>\n</head>\n<body>\n<h3>Session already exists with matching files.</h3><p>You can get technical details <a href=\"http://www.w3.org/Protocols/rfc2616/rfc2616-sec10.html#sec10.4.10\">here</a>.<br>\nPlease continue your visit at our <a href=\"/\">home page</a>.\n</p>\n</body>\n</html>\n"
     ]
    }
   ],
   "source": [
    "# Try again this time selecting the correct file to archive:\n",
    "\n",
    "session.prearchive.sessions()[2].archive(subject=newSubjectName, experiment='PGM-002_MR_1', overwrite='append')"
   ]
  },
  {
   "cell_type": "markdown",
   "metadata": {},
   "source": [
    "#### I got the same conflict error!"
   ]
  },
  {
   "cell_type": "code",
   "execution_count": 118,
   "metadata": {},
   "outputs": [
    {
     "name": "stderr",
     "output_type": "stream",
     "text": [
      "[2020-02-13 12:58:39,294] DEBUG: session:334 >> GET URI http://10.1.1.17/data/prearchive/projects?format=json\n",
      "[2020-02-13 12:58:39,316] DEBUG: session:307 >> Received response with status code: 200\n"
     ]
    },
    {
     "data": {
      "text/plain": [
       "[<PrearchiveSession BrainTumorProg_copy/20200212_213423578/PGM-002_MR_1>,\n",
       " <PrearchiveSession BrainTumorProg_copy/20200206_152623716/PGM_002_MR_1>,\n",
       " <PrearchiveSession BrainTumorProg_copy/20200207_144303310/PGM_002_MR_1>]"
      ]
     },
     "execution_count": 118,
     "metadata": {},
     "output_type": "execute_result"
    }
   ],
   "source": [
    "# Get a list of sessions waiting for archiving:\n",
    "\n",
    "session.prearchive.sessions()"
   ]
  },
  {
   "cell_type": "markdown",
   "metadata": {},
   "source": [
    "#### This time its the first entry!"
   ]
  },
  {
   "cell_type": "code",
   "execution_count": 119,
   "metadata": {},
   "outputs": [
    {
     "name": "stderr",
     "output_type": "stream",
     "text": [
      "[2020-02-13 12:59:43,037] DEBUG: session:334 >> GET URI http://10.1.1.17/data/prearchive/projects?format=json\n",
      "[2020-02-13 12:59:43,052] DEBUG: session:307 >> Received response with status code: 200\n",
      "[2020-02-13 12:59:43,054] DEBUG: session:391 >> POST URI http://10.1.1.17/data/services/archive?src=%2Fdata%2Fprearchive%2Fprojects%2FBrainTumorProg_copy%2F20200212_213423578%2FPGM_002_MR_1&overwrite=append&subject=PGM-002_copy&session=PGM-002_MR_1\n",
      "[2020-02-13 12:59:43,055] DEBUG: session:393 >> POST DATA None\n",
      "[2020-02-13 12:59:43,159] DEBUG: session:307 >> Received response with status code: 409\n"
     ]
    },
    {
     "ename": "XNATResponseError",
     "evalue": "Invalid response from XNATSession for url http://10.1.1.17/data/services/archive?src=%2Fdata%2Fprearchive%2Fprojects%2FBrainTumorProg_copy%2F20200212_213423578%2FPGM_002_MR_1&overwrite=append&subject=PGM-002_copy&session=PGM-002_MR_1 (status 409):\n<html>\n<head>\n   <title>Status page</title>\n</head>\n<body>\n<h3>Session already exists with matching files.</h3><p>You can get technical details <a href=\"http://www.w3.org/Protocols/rfc2616/rfc2616-sec10.html#sec10.4.10\">here</a>.<br>\nPlease continue your visit at our <a href=\"/\">home page</a>.\n</p>\n</body>\n</html>\n",
     "output_type": "error",
     "traceback": [
      "\u001b[1;31m---------------------------------------------------------------------------\u001b[0m",
      "\u001b[1;31mXNATResponseError\u001b[0m                         Traceback (most recent call last)",
      "\u001b[1;32m<ipython-input-119-09d41f8cfa29>\u001b[0m in \u001b[0;36m<module>\u001b[1;34m\u001b[0m\n\u001b[0;32m      1\u001b[0m \u001b[1;31m# Try again this time selecting the correct file to archive:\u001b[0m\u001b[1;33m\u001b[0m\u001b[1;33m\u001b[0m\u001b[1;33m\u001b[0m\u001b[0m\n\u001b[0;32m      2\u001b[0m \u001b[1;33m\u001b[0m\u001b[0m\n\u001b[1;32m----> 3\u001b[1;33m \u001b[0msession\u001b[0m\u001b[1;33m.\u001b[0m\u001b[0mprearchive\u001b[0m\u001b[1;33m.\u001b[0m\u001b[0msessions\u001b[0m\u001b[1;33m(\u001b[0m\u001b[1;33m)\u001b[0m\u001b[1;33m[\u001b[0m\u001b[1;36m0\u001b[0m\u001b[1;33m]\u001b[0m\u001b[1;33m.\u001b[0m\u001b[0marchive\u001b[0m\u001b[1;33m(\u001b[0m\u001b[0msubject\u001b[0m\u001b[1;33m=\u001b[0m\u001b[0mnewSubjectName\u001b[0m\u001b[1;33m,\u001b[0m \u001b[0mexperiment\u001b[0m\u001b[1;33m=\u001b[0m\u001b[1;34m'PGM-002_MR_1'\u001b[0m\u001b[1;33m,\u001b[0m \u001b[0moverwrite\u001b[0m\u001b[1;33m=\u001b[0m\u001b[1;34m'append'\u001b[0m\u001b[1;33m)\u001b[0m\u001b[1;33m\u001b[0m\u001b[1;33m\u001b[0m\u001b[0m\n\u001b[0m",
      "\u001b[1;32m~\\Anaconda37\\lib\\site-packages\\xnat\\prearchive.py\u001b[0m in \u001b[0;36marchive\u001b[1;34m(self, overwrite, quarantine, trigger_pipelines, project, subject, experiment)\u001b[0m\n\u001b[0;32m    218\u001b[0m             \u001b[0mquery\u001b[0m\u001b[1;33m[\u001b[0m\u001b[1;34m'session'\u001b[0m\u001b[1;33m]\u001b[0m \u001b[1;33m=\u001b[0m \u001b[0mexperiment\u001b[0m\u001b[1;33m\u001b[0m\u001b[1;33m\u001b[0m\u001b[0m\n\u001b[0;32m    219\u001b[0m \u001b[1;33m\u001b[0m\u001b[0m\n\u001b[1;32m--> 220\u001b[1;33m         \u001b[0mresponse\u001b[0m \u001b[1;33m=\u001b[0m \u001b[0mself\u001b[0m\u001b[1;33m.\u001b[0m\u001b[0mxnat_session\u001b[0m\u001b[1;33m.\u001b[0m\u001b[0mpost\u001b[0m\u001b[1;33m(\u001b[0m\u001b[1;34m'/data/services/archive'\u001b[0m\u001b[1;33m,\u001b[0m \u001b[0mquery\u001b[0m\u001b[1;33m=\u001b[0m\u001b[0mquery\u001b[0m\u001b[1;33m)\u001b[0m\u001b[1;33m\u001b[0m\u001b[1;33m\u001b[0m\u001b[0m\n\u001b[0m\u001b[0;32m    221\u001b[0m         \u001b[0mobject_uri\u001b[0m \u001b[1;33m=\u001b[0m \u001b[0mresponse\u001b[0m\u001b[1;33m.\u001b[0m\u001b[0mtext\u001b[0m\u001b[1;33m.\u001b[0m\u001b[0mstrip\u001b[0m\u001b[1;33m(\u001b[0m\u001b[1;33m)\u001b[0m\u001b[1;33m\u001b[0m\u001b[1;33m\u001b[0m\u001b[0m\n\u001b[0;32m    222\u001b[0m \u001b[1;33m\u001b[0m\u001b[0m\n",
      "\u001b[1;32m~\\Anaconda37\\lib\\site-packages\\xnat\\session.py\u001b[0m in \u001b[0;36mpost\u001b[1;34m(self, path, data, json, format, query, accepted_status, timeout, headers)\u001b[0m\n\u001b[0;32m    397\u001b[0m         \u001b[1;32mexcept\u001b[0m \u001b[0mrequests\u001b[0m\u001b[1;33m.\u001b[0m\u001b[0mexceptions\u001b[0m\u001b[1;33m.\u001b[0m\u001b[0mSSLError\u001b[0m\u001b[1;33m:\u001b[0m\u001b[1;33m\u001b[0m\u001b[1;33m\u001b[0m\u001b[0m\n\u001b[0;32m    398\u001b[0m             \u001b[1;32mraise\u001b[0m \u001b[0mexceptions\u001b[0m\u001b[1;33m.\u001b[0m\u001b[0mXNATSSLError\u001b[0m\u001b[1;33m(\u001b[0m\u001b[1;34m'Encountered a problem with the SSL connection, are you sure the server is offering https?'\u001b[0m\u001b[1;33m)\u001b[0m\u001b[1;33m\u001b[0m\u001b[1;33m\u001b[0m\u001b[0m\n\u001b[1;32m--> 399\u001b[1;33m         \u001b[0mself\u001b[0m\u001b[1;33m.\u001b[0m\u001b[0m_check_response\u001b[0m\u001b[1;33m(\u001b[0m\u001b[0mresponse\u001b[0m\u001b[1;33m,\u001b[0m \u001b[0maccepted_status\u001b[0m\u001b[1;33m=\u001b[0m\u001b[0maccepted_status\u001b[0m\u001b[1;33m,\u001b[0m \u001b[0muri\u001b[0m\u001b[1;33m=\u001b[0m\u001b[0muri\u001b[0m\u001b[1;33m)\u001b[0m\u001b[1;33m\u001b[0m\u001b[1;33m\u001b[0m\u001b[0m\n\u001b[0m\u001b[0;32m    400\u001b[0m         \u001b[1;32mreturn\u001b[0m \u001b[0mresponse\u001b[0m\u001b[1;33m\u001b[0m\u001b[1;33m\u001b[0m\u001b[0m\n\u001b[0;32m    401\u001b[0m \u001b[1;33m\u001b[0m\u001b[0m\n",
      "\u001b[1;32m~\\Anaconda37\\lib\\site-packages\\xnat\\session.py\u001b[0m in \u001b[0;36m_check_response\u001b[1;34m(self, response, accepted_status, uri)\u001b[0m\n\u001b[0;32m    311\u001b[0m                 \u001b[0maccepted_status\u001b[0m \u001b[1;33m=\u001b[0m \u001b[1;33m[\u001b[0m\u001b[1;36m200\u001b[0m\u001b[1;33m,\u001b[0m \u001b[1;36m201\u001b[0m\u001b[1;33m,\u001b[0m \u001b[1;36m202\u001b[0m\u001b[1;33m,\u001b[0m \u001b[1;36m203\u001b[0m\u001b[1;33m,\u001b[0m \u001b[1;36m204\u001b[0m\u001b[1;33m,\u001b[0m \u001b[1;36m205\u001b[0m\u001b[1;33m,\u001b[0m \u001b[1;36m206\u001b[0m\u001b[1;33m]\u001b[0m  \u001b[1;31m# All successful responses of HTML\u001b[0m\u001b[1;33m\u001b[0m\u001b[1;33m\u001b[0m\u001b[0m\n\u001b[0;32m    312\u001b[0m             \u001b[1;32mif\u001b[0m \u001b[0mresponse\u001b[0m\u001b[1;33m.\u001b[0m\u001b[0mstatus_code\u001b[0m \u001b[1;32mnot\u001b[0m \u001b[1;32min\u001b[0m \u001b[0maccepted_status\u001b[0m \u001b[1;32mor\u001b[0m \u001b[1;33m(\u001b[0m\u001b[1;32mnot\u001b[0m \u001b[0mself\u001b[0m\u001b[1;33m.\u001b[0m\u001b[0mskip_response_content_check\u001b[0m \u001b[1;32mand\u001b[0m \u001b[0mresponse\u001b[0m\u001b[1;33m.\u001b[0m\u001b[0mtext\u001b[0m\u001b[1;33m.\u001b[0m\u001b[0mstartswith\u001b[0m\u001b[1;33m(\u001b[0m\u001b[1;33m(\u001b[0m\u001b[1;34m'<!DOCTYPE'\u001b[0m\u001b[1;33m,\u001b[0m \u001b[1;34m'<html>'\u001b[0m\u001b[1;33m)\u001b[0m\u001b[1;33m)\u001b[0m\u001b[1;33m)\u001b[0m\u001b[1;33m:\u001b[0m\u001b[1;33m\u001b[0m\u001b[1;33m\u001b[0m\u001b[0m\n\u001b[1;32m--> 313\u001b[1;33m                 \u001b[1;32mraise\u001b[0m \u001b[0mexceptions\u001b[0m\u001b[1;33m.\u001b[0m\u001b[0mXNATResponseError\u001b[0m\u001b[1;33m(\u001b[0m\u001b[1;34m'Invalid response from XNATSession for url {} (status {}):\\n{}'\u001b[0m\u001b[1;33m.\u001b[0m\u001b[0mformat\u001b[0m\u001b[1;33m(\u001b[0m\u001b[0muri\u001b[0m\u001b[1;33m,\u001b[0m \u001b[0mresponse\u001b[0m\u001b[1;33m.\u001b[0m\u001b[0mstatus_code\u001b[0m\u001b[1;33m,\u001b[0m \u001b[0mresponse\u001b[0m\u001b[1;33m.\u001b[0m\u001b[0mtext\u001b[0m\u001b[1;33m)\u001b[0m\u001b[1;33m)\u001b[0m\u001b[1;33m\u001b[0m\u001b[1;33m\u001b[0m\u001b[0m\n\u001b[0m\u001b[0;32m    314\u001b[0m \u001b[1;33m\u001b[0m\u001b[0m\n\u001b[0;32m    315\u001b[0m     \u001b[1;32mdef\u001b[0m \u001b[0mget\u001b[0m\u001b[1;33m(\u001b[0m\u001b[0mself\u001b[0m\u001b[1;33m,\u001b[0m \u001b[0mpath\u001b[0m\u001b[1;33m,\u001b[0m \u001b[0mformat\u001b[0m\u001b[1;33m=\u001b[0m\u001b[1;32mNone\u001b[0m\u001b[1;33m,\u001b[0m \u001b[0mquery\u001b[0m\u001b[1;33m=\u001b[0m\u001b[1;32mNone\u001b[0m\u001b[1;33m,\u001b[0m \u001b[0maccepted_status\u001b[0m\u001b[1;33m=\u001b[0m\u001b[1;32mNone\u001b[0m\u001b[1;33m,\u001b[0m \u001b[0mtimeout\u001b[0m\u001b[1;33m=\u001b[0m\u001b[1;32mNone\u001b[0m\u001b[1;33m,\u001b[0m \u001b[0mheaders\u001b[0m\u001b[1;33m=\u001b[0m\u001b[1;32mNone\u001b[0m\u001b[1;33m)\u001b[0m\u001b[1;33m:\u001b[0m\u001b[1;33m\u001b[0m\u001b[1;33m\u001b[0m\u001b[0m\n",
      "\u001b[1;31mXNATResponseError\u001b[0m: Invalid response from XNATSession for url http://10.1.1.17/data/services/archive?src=%2Fdata%2Fprearchive%2Fprojects%2FBrainTumorProg_copy%2F20200212_213423578%2FPGM_002_MR_1&overwrite=append&subject=PGM-002_copy&session=PGM-002_MR_1 (status 409):\n<html>\n<head>\n   <title>Status page</title>\n</head>\n<body>\n<h3>Session already exists with matching files.</h3><p>You can get technical details <a href=\"http://www.w3.org/Protocols/rfc2616/rfc2616-sec10.html#sec10.4.10\">here</a>.<br>\nPlease continue your visit at our <a href=\"/\">home page</a>.\n</p>\n</body>\n</html>\n"
     ]
    }
   ],
   "source": [
    "# Try again this time selecting the correct file to archive:\n",
    "\n",
    "session.prearchive.sessions()[0].archive(subject=newSubjectName, experiment='PGM-002_MR_1', overwrite='append')"
   ]
  },
  {
   "cell_type": "code",
   "execution_count": 120,
   "metadata": {},
   "outputs": [
    {
     "name": "stderr",
     "output_type": "stream",
     "text": [
      "[2020-02-13 13:00:09,890] DEBUG: session:334 >> GET URI http://10.1.1.17/data/prearchive/projects?format=json\n",
      "[2020-02-13 13:00:09,907] DEBUG: session:307 >> Received response with status code: 200\n"
     ]
    },
    {
     "data": {
      "text/plain": [
       "[<PrearchiveSession BrainTumorProg_copy/20200206_152623716/PGM_002_MR_1>,\n",
       " <PrearchiveSession BrainTumorProg_copy/20200207_144303310/PGM_002_MR_1>,\n",
       " <PrearchiveSession BrainTumorProg_copy/20200212_213423578/PGM-002_MR_1>]"
      ]
     },
     "execution_count": 120,
     "metadata": {},
     "output_type": "execute_result"
    }
   ],
   "source": [
    "# Get a list of sessions waiting for archiving:\n",
    "\n",
    "session.prearchive.sessions()"
   ]
  },
  {
   "cell_type": "markdown",
   "metadata": {},
   "source": [
    "#### And now it's the 3rd entry again.."
   ]
  },
  {
   "cell_type": "code",
   "execution_count": 121,
   "metadata": {},
   "outputs": [
    {
     "name": "stderr",
     "output_type": "stream",
     "text": [
      "[2020-02-13 13:02:15,214] DEBUG: session:334 >> GET URI http://10.1.1.17/data/prearchive/projects?format=json\n",
      "[2020-02-13 13:02:15,233] DEBUG: session:307 >> Received response with status code: 200\n",
      "[2020-02-13 13:02:15,235] DEBUG: session:391 >> POST URI http://10.1.1.17/data/services/archive?src=%2Fdata%2Fprearchive%2Fprojects%2FBrainTumorProg_copy%2F20200212_213423578%2FPGM_002_MR_1&overwrite=delete&subject=PGM-002_copy&session=PGM-002_MR_1\n",
      "[2020-02-13 13:02:15,235] DEBUG: session:393 >> POST DATA None\n",
      "[2020-02-13 13:02:15,715] DEBUG: session:307 >> Received response with status code: 200\n",
      "[2020-02-13 13:02:15,716] DEBUG: session:738 >> Type unknown, fetching data to get type\n",
      "[2020-02-13 13:02:15,717] DEBUG: session:334 >> GET URI http://10.1.1.17/data/archive/projects/BrainTumorProg_copy/subjects/PGM-002_copy/experiments/PGM-002_MR_1?format=json\n",
      "[2020-02-13 13:02:15,858] DEBUG: session:307 >> Received response with status code: 200\n",
      "[2020-02-13 13:02:15,859] DEBUG: session:746 >> Looking up type xnat:mrSessionData [str]\n",
      "[2020-02-13 13:02:15,860] DEBUG: session:753 >> Creating object of type <class 'xnat_gen_540681bf052587e8ba9fee53609ca631.MrSessionData'>\n",
      "[2020-02-13 13:02:15,862] DEBUG: session:334 >> GET URI http://10.1.1.17/data/archive/projects/BrainTumorProg_copy/subjects/PGM-002_copy/experiments/PGM-002_MR_1?format=json\n",
      "[2020-02-13 13:02:15,989] DEBUG: session:307 >> Received response with status code: 200\n"
     ]
    },
    {
     "data": {
      "text/plain": [
       "<MrSessionData PGM-002_MR_1 (XNAT_E00021)>"
      ]
     },
     "execution_count": 121,
     "metadata": {},
     "output_type": "execute_result"
    }
   ],
   "source": [
    "# This time select the 3rd file and use 'delete' for overwrite:\n",
    "\n",
    "session.prearchive.sessions()[2].archive(subject=newSubjectName, experiment='PGM-002_MR_1', overwrite='delete')"
   ]
  },
  {
   "cell_type": "code",
   "execution_count": 122,
   "metadata": {},
   "outputs": [
    {
     "name": "stderr",
     "output_type": "stream",
     "text": [
      "[2020-02-13 13:04:15,098] DEBUG: session:661 >> UPLOAD URI http://10.1.1.17/data/services/import?dest=%2Fprearchive&project=BrainTumorProg_copy\n",
      "[2020-02-13 13:04:15,860] DEBUG: session:307 >> Received response with status code: 200\n",
      "[2020-02-13 13:04:15,862] DEBUG: session:334 >> GET URI http://10.1.1.17/data/prearchive/projects/BrainTumorProg_copy/20200212_215434501/PGM_002_MR_1?format=json\n",
      "[2020-02-13 13:04:15,882] DEBUG: session:307 >> Received response with status code: 200\n"
     ]
    },
    {
     "data": {
      "text/plain": [
       "<PrearchiveSession BrainTumorProg_copy/20200212_215434501/PGM-002_MR_1>"
      ]
     },
     "execution_count": 122,
     "metadata": {},
     "output_type": "execute_result"
    }
   ],
   "source": [
    "# Try again this time using a noticeably different scan:\n",
    "\n",
    "prearchive_session = session.services.import_(dicomsFpaths[20], \\\n",
    "                                              project=newProjectName, \\\n",
    "                                              destination='/prearchive')\n",
    "\n",
    "prearchive_session"
   ]
  },
  {
   "cell_type": "code",
   "execution_count": 123,
   "metadata": {},
   "outputs": [
    {
     "name": "stderr",
     "output_type": "stream",
     "text": [
      "[2020-02-13 13:04:40,141] DEBUG: session:334 >> GET URI http://10.1.1.17/data/prearchive/projects?format=json\n",
      "[2020-02-13 13:04:40,242] DEBUG: session:307 >> Received response with status code: 200\n",
      "[2020-02-13 13:04:40,245] DEBUG: session:334 >> GET URI http://10.1.1.17/data/prearchive/projects/BrainTumorProg_copy/20200212_215434501/PGM_002_MR_1?format=json\n",
      "[2020-02-13 13:04:40,260] DEBUG: session:307 >> Received response with status code: 200\n"
     ]
    },
    {
     "data": {
      "text/plain": [
       "[<PrearchiveSession BrainTumorProg_copy/20200212_215434501/PGM-002_MR_1>,\n",
       " <PrearchiveSession BrainTumorProg_copy/20200206_152623716/PGM_002_MR_1>,\n",
       " <PrearchiveSession BrainTumorProg_copy/20200207_144303310/PGM_002_MR_1>]"
      ]
     },
     "execution_count": 123,
     "metadata": {},
     "output_type": "execute_result"
    }
   ],
   "source": [
    "session.prearchive.sessions()"
   ]
  },
  {
   "cell_type": "code",
   "execution_count": 124,
   "metadata": {},
   "outputs": [
    {
     "name": "stderr",
     "output_type": "stream",
     "text": [
      "[2020-02-13 13:05:09,569] DEBUG: session:334 >> GET URI http://10.1.1.17/data/prearchive/projects?format=json\n",
      "[2020-02-13 13:05:09,585] DEBUG: session:307 >> Received response with status code: 200\n",
      "[2020-02-13 13:05:09,585] DEBUG: session:391 >> POST URI http://10.1.1.17/data/services/archive?src=%2Fdata%2Fprearchive%2Fprojects%2FBrainTumorProg_copy%2F20200212_215434501%2FPGM_002_MR_1&overwrite=append&subject=PGM-002_copy&session=PGM-002_MR_1\n",
      "[2020-02-13 13:05:09,586] DEBUG: session:393 >> POST DATA None\n",
      "[2020-02-13 13:05:09,693] DEBUG: session:307 >> Received response with status code: 409\n"
     ]
    },
    {
     "ename": "XNATResponseError",
     "evalue": "Invalid response from XNATSession for url http://10.1.1.17/data/services/archive?src=%2Fdata%2Fprearchive%2Fprojects%2FBrainTumorProg_copy%2F20200212_215434501%2FPGM_002_MR_1&overwrite=append&subject=PGM-002_copy&session=PGM-002_MR_1 (status 409):\n<html>\n<head>\n   <title>Status page</title>\n</head>\n<body>\n<h3>Session already exists with matching files.</h3><p>You can get technical details <a href=\"http://www.w3.org/Protocols/rfc2616/rfc2616-sec10.html#sec10.4.10\">here</a>.<br>\nPlease continue your visit at our <a href=\"/\">home page</a>.\n</p>\n</body>\n</html>\n",
     "output_type": "error",
     "traceback": [
      "\u001b[1;31m---------------------------------------------------------------------------\u001b[0m",
      "\u001b[1;31mXNATResponseError\u001b[0m                         Traceback (most recent call last)",
      "\u001b[1;32m<ipython-input-124-aaa9f3ef9dd3>\u001b[0m in \u001b[0;36m<module>\u001b[1;34m\u001b[0m\n\u001b[1;32m----> 1\u001b[1;33m \u001b[0msession\u001b[0m\u001b[1;33m.\u001b[0m\u001b[0mprearchive\u001b[0m\u001b[1;33m.\u001b[0m\u001b[0msessions\u001b[0m\u001b[1;33m(\u001b[0m\u001b[1;33m)\u001b[0m\u001b[1;33m[\u001b[0m\u001b[1;36m0\u001b[0m\u001b[1;33m]\u001b[0m\u001b[1;33m.\u001b[0m\u001b[0marchive\u001b[0m\u001b[1;33m(\u001b[0m\u001b[0msubject\u001b[0m\u001b[1;33m=\u001b[0m\u001b[0mnewSubjectName\u001b[0m\u001b[1;33m,\u001b[0m \u001b[0mexperiment\u001b[0m\u001b[1;33m=\u001b[0m\u001b[1;34m'PGM-002_MR_1'\u001b[0m\u001b[1;33m,\u001b[0m \u001b[0moverwrite\u001b[0m\u001b[1;33m=\u001b[0m\u001b[1;34m'append'\u001b[0m\u001b[1;33m)\u001b[0m\u001b[1;33m\u001b[0m\u001b[1;33m\u001b[0m\u001b[0m\n\u001b[0m",
      "\u001b[1;32m~\\Anaconda37\\lib\\site-packages\\xnat\\prearchive.py\u001b[0m in \u001b[0;36marchive\u001b[1;34m(self, overwrite, quarantine, trigger_pipelines, project, subject, experiment)\u001b[0m\n\u001b[0;32m    218\u001b[0m             \u001b[0mquery\u001b[0m\u001b[1;33m[\u001b[0m\u001b[1;34m'session'\u001b[0m\u001b[1;33m]\u001b[0m \u001b[1;33m=\u001b[0m \u001b[0mexperiment\u001b[0m\u001b[1;33m\u001b[0m\u001b[1;33m\u001b[0m\u001b[0m\n\u001b[0;32m    219\u001b[0m \u001b[1;33m\u001b[0m\u001b[0m\n\u001b[1;32m--> 220\u001b[1;33m         \u001b[0mresponse\u001b[0m \u001b[1;33m=\u001b[0m \u001b[0mself\u001b[0m\u001b[1;33m.\u001b[0m\u001b[0mxnat_session\u001b[0m\u001b[1;33m.\u001b[0m\u001b[0mpost\u001b[0m\u001b[1;33m(\u001b[0m\u001b[1;34m'/data/services/archive'\u001b[0m\u001b[1;33m,\u001b[0m \u001b[0mquery\u001b[0m\u001b[1;33m=\u001b[0m\u001b[0mquery\u001b[0m\u001b[1;33m)\u001b[0m\u001b[1;33m\u001b[0m\u001b[1;33m\u001b[0m\u001b[0m\n\u001b[0m\u001b[0;32m    221\u001b[0m         \u001b[0mobject_uri\u001b[0m \u001b[1;33m=\u001b[0m \u001b[0mresponse\u001b[0m\u001b[1;33m.\u001b[0m\u001b[0mtext\u001b[0m\u001b[1;33m.\u001b[0m\u001b[0mstrip\u001b[0m\u001b[1;33m(\u001b[0m\u001b[1;33m)\u001b[0m\u001b[1;33m\u001b[0m\u001b[1;33m\u001b[0m\u001b[0m\n\u001b[0;32m    222\u001b[0m \u001b[1;33m\u001b[0m\u001b[0m\n",
      "\u001b[1;32m~\\Anaconda37\\lib\\site-packages\\xnat\\session.py\u001b[0m in \u001b[0;36mpost\u001b[1;34m(self, path, data, json, format, query, accepted_status, timeout, headers)\u001b[0m\n\u001b[0;32m    397\u001b[0m         \u001b[1;32mexcept\u001b[0m \u001b[0mrequests\u001b[0m\u001b[1;33m.\u001b[0m\u001b[0mexceptions\u001b[0m\u001b[1;33m.\u001b[0m\u001b[0mSSLError\u001b[0m\u001b[1;33m:\u001b[0m\u001b[1;33m\u001b[0m\u001b[1;33m\u001b[0m\u001b[0m\n\u001b[0;32m    398\u001b[0m             \u001b[1;32mraise\u001b[0m \u001b[0mexceptions\u001b[0m\u001b[1;33m.\u001b[0m\u001b[0mXNATSSLError\u001b[0m\u001b[1;33m(\u001b[0m\u001b[1;34m'Encountered a problem with the SSL connection, are you sure the server is offering https?'\u001b[0m\u001b[1;33m)\u001b[0m\u001b[1;33m\u001b[0m\u001b[1;33m\u001b[0m\u001b[0m\n\u001b[1;32m--> 399\u001b[1;33m         \u001b[0mself\u001b[0m\u001b[1;33m.\u001b[0m\u001b[0m_check_response\u001b[0m\u001b[1;33m(\u001b[0m\u001b[0mresponse\u001b[0m\u001b[1;33m,\u001b[0m \u001b[0maccepted_status\u001b[0m\u001b[1;33m=\u001b[0m\u001b[0maccepted_status\u001b[0m\u001b[1;33m,\u001b[0m \u001b[0muri\u001b[0m\u001b[1;33m=\u001b[0m\u001b[0muri\u001b[0m\u001b[1;33m)\u001b[0m\u001b[1;33m\u001b[0m\u001b[1;33m\u001b[0m\u001b[0m\n\u001b[0m\u001b[0;32m    400\u001b[0m         \u001b[1;32mreturn\u001b[0m \u001b[0mresponse\u001b[0m\u001b[1;33m\u001b[0m\u001b[1;33m\u001b[0m\u001b[0m\n\u001b[0;32m    401\u001b[0m \u001b[1;33m\u001b[0m\u001b[0m\n",
      "\u001b[1;32m~\\Anaconda37\\lib\\site-packages\\xnat\\session.py\u001b[0m in \u001b[0;36m_check_response\u001b[1;34m(self, response, accepted_status, uri)\u001b[0m\n\u001b[0;32m    311\u001b[0m                 \u001b[0maccepted_status\u001b[0m \u001b[1;33m=\u001b[0m \u001b[1;33m[\u001b[0m\u001b[1;36m200\u001b[0m\u001b[1;33m,\u001b[0m \u001b[1;36m201\u001b[0m\u001b[1;33m,\u001b[0m \u001b[1;36m202\u001b[0m\u001b[1;33m,\u001b[0m \u001b[1;36m203\u001b[0m\u001b[1;33m,\u001b[0m \u001b[1;36m204\u001b[0m\u001b[1;33m,\u001b[0m \u001b[1;36m205\u001b[0m\u001b[1;33m,\u001b[0m \u001b[1;36m206\u001b[0m\u001b[1;33m]\u001b[0m  \u001b[1;31m# All successful responses of HTML\u001b[0m\u001b[1;33m\u001b[0m\u001b[1;33m\u001b[0m\u001b[0m\n\u001b[0;32m    312\u001b[0m             \u001b[1;32mif\u001b[0m \u001b[0mresponse\u001b[0m\u001b[1;33m.\u001b[0m\u001b[0mstatus_code\u001b[0m \u001b[1;32mnot\u001b[0m \u001b[1;32min\u001b[0m \u001b[0maccepted_status\u001b[0m \u001b[1;32mor\u001b[0m \u001b[1;33m(\u001b[0m\u001b[1;32mnot\u001b[0m \u001b[0mself\u001b[0m\u001b[1;33m.\u001b[0m\u001b[0mskip_response_content_check\u001b[0m \u001b[1;32mand\u001b[0m \u001b[0mresponse\u001b[0m\u001b[1;33m.\u001b[0m\u001b[0mtext\u001b[0m\u001b[1;33m.\u001b[0m\u001b[0mstartswith\u001b[0m\u001b[1;33m(\u001b[0m\u001b[1;33m(\u001b[0m\u001b[1;34m'<!DOCTYPE'\u001b[0m\u001b[1;33m,\u001b[0m \u001b[1;34m'<html>'\u001b[0m\u001b[1;33m)\u001b[0m\u001b[1;33m)\u001b[0m\u001b[1;33m)\u001b[0m\u001b[1;33m:\u001b[0m\u001b[1;33m\u001b[0m\u001b[1;33m\u001b[0m\u001b[0m\n\u001b[1;32m--> 313\u001b[1;33m                 \u001b[1;32mraise\u001b[0m \u001b[0mexceptions\u001b[0m\u001b[1;33m.\u001b[0m\u001b[0mXNATResponseError\u001b[0m\u001b[1;33m(\u001b[0m\u001b[1;34m'Invalid response from XNATSession for url {} (status {}):\\n{}'\u001b[0m\u001b[1;33m.\u001b[0m\u001b[0mformat\u001b[0m\u001b[1;33m(\u001b[0m\u001b[0muri\u001b[0m\u001b[1;33m,\u001b[0m \u001b[0mresponse\u001b[0m\u001b[1;33m.\u001b[0m\u001b[0mstatus_code\u001b[0m\u001b[1;33m,\u001b[0m \u001b[0mresponse\u001b[0m\u001b[1;33m.\u001b[0m\u001b[0mtext\u001b[0m\u001b[1;33m)\u001b[0m\u001b[1;33m)\u001b[0m\u001b[1;33m\u001b[0m\u001b[1;33m\u001b[0m\u001b[0m\n\u001b[0m\u001b[0;32m    314\u001b[0m \u001b[1;33m\u001b[0m\u001b[0m\n\u001b[0;32m    315\u001b[0m     \u001b[1;32mdef\u001b[0m \u001b[0mget\u001b[0m\u001b[1;33m(\u001b[0m\u001b[0mself\u001b[0m\u001b[1;33m,\u001b[0m \u001b[0mpath\u001b[0m\u001b[1;33m,\u001b[0m \u001b[0mformat\u001b[0m\u001b[1;33m=\u001b[0m\u001b[1;32mNone\u001b[0m\u001b[1;33m,\u001b[0m \u001b[0mquery\u001b[0m\u001b[1;33m=\u001b[0m\u001b[1;32mNone\u001b[0m\u001b[1;33m,\u001b[0m \u001b[0maccepted_status\u001b[0m\u001b[1;33m=\u001b[0m\u001b[1;32mNone\u001b[0m\u001b[1;33m,\u001b[0m \u001b[0mtimeout\u001b[0m\u001b[1;33m=\u001b[0m\u001b[1;32mNone\u001b[0m\u001b[1;33m,\u001b[0m \u001b[0mheaders\u001b[0m\u001b[1;33m=\u001b[0m\u001b[1;32mNone\u001b[0m\u001b[1;33m)\u001b[0m\u001b[1;33m:\u001b[0m\u001b[1;33m\u001b[0m\u001b[1;33m\u001b[0m\u001b[0m\n",
      "\u001b[1;31mXNATResponseError\u001b[0m: Invalid response from XNATSession for url http://10.1.1.17/data/services/archive?src=%2Fdata%2Fprearchive%2Fprojects%2FBrainTumorProg_copy%2F20200212_215434501%2FPGM_002_MR_1&overwrite=append&subject=PGM-002_copy&session=PGM-002_MR_1 (status 409):\n<html>\n<head>\n   <title>Status page</title>\n</head>\n<body>\n<h3>Session already exists with matching files.</h3><p>You can get technical details <a href=\"http://www.w3.org/Protocols/rfc2616/rfc2616-sec10.html#sec10.4.10\">here</a>.<br>\nPlease continue your visit at our <a href=\"/\">home page</a>.\n</p>\n</body>\n</html>\n"
     ]
    }
   ],
   "source": [
    "session.prearchive.sessions()[0].archive(subject=newSubjectName, experiment='PGM-002_MR_1', overwrite='append')"
   ]
  },
  {
   "cell_type": "code",
   "execution_count": 125,
   "metadata": {},
   "outputs": [
    {
     "name": "stderr",
     "output_type": "stream",
     "text": [
      "[2020-02-13 13:05:22,215] DEBUG: session:334 >> GET URI http://10.1.1.17/data/prearchive/projects?format=json\n",
      "[2020-02-13 13:05:22,232] DEBUG: session:307 >> Received response with status code: 200\n"
     ]
    },
    {
     "data": {
      "text/plain": [
       "[<PrearchiveSession BrainTumorProg_copy/20200206_152623716/PGM_002_MR_1>,\n",
       " <PrearchiveSession BrainTumorProg_copy/20200207_144303310/PGM_002_MR_1>,\n",
       " <PrearchiveSession BrainTumorProg_copy/20200212_215434501/PGM-002_MR_1>]"
      ]
     },
     "execution_count": 125,
     "metadata": {},
     "output_type": "execute_result"
    }
   ],
   "source": [
    "session.prearchive.sessions()"
   ]
  },
  {
   "cell_type": "code",
   "execution_count": 126,
   "metadata": {},
   "outputs": [
    {
     "name": "stderr",
     "output_type": "stream",
     "text": [
      "[2020-02-13 13:05:47,101] DEBUG: session:334 >> GET URI http://10.1.1.17/data/prearchive/projects?format=json\n",
      "[2020-02-13 13:05:47,114] DEBUG: session:307 >> Received response with status code: 200\n",
      "[2020-02-13 13:05:47,115] DEBUG: session:391 >> POST URI http://10.1.1.17/data/services/archive?src=%2Fdata%2Fprearchive%2Fprojects%2FBrainTumorProg_copy%2F20200212_215434501%2FPGM_002_MR_1&overwrite=delete&subject=PGM-002_copy&session=PGM-002_MR_1\n",
      "[2020-02-13 13:05:47,116] DEBUG: session:393 >> POST DATA None\n",
      "[2020-02-13 13:05:47,588] DEBUG: session:307 >> Received response with status code: 200\n",
      "[2020-02-13 13:05:47,589] DEBUG: session:769 >> Fetching object /data/archive/projects/BrainTumorProg_copy/subjects/PGM-002_copy/experiments/PGM-002_MR_1 from cache\n"
     ]
    },
    {
     "data": {
      "text/plain": [
       "<MrSessionData PGM-002_MR_1 (XNAT_E00021)>"
      ]
     },
     "execution_count": 126,
     "metadata": {},
     "output_type": "execute_result"
    }
   ],
   "source": [
    "session.prearchive.sessions()[2].archive(subject=newSubjectName, experiment='PGM-002_MR_1', overwrite='delete')"
   ]
  },
  {
   "cell_type": "markdown",
   "metadata": {},
   "source": [
    "#### It seems it didn't work despite no errors.  The original (first) scan should have been replaced with the 21st scan but I see no evidence of this with the web interface!"
   ]
  },
  {
   "cell_type": "code",
   "execution_count": null,
   "metadata": {},
   "outputs": [],
   "source": []
  }
 ],
 "metadata": {
  "kernelspec": {
   "display_name": "Python 3",
   "language": "python",
   "name": "python3"
  },
  "language_info": {
   "codemirror_mode": {
    "name": "ipython",
    "version": 3
   },
   "file_extension": ".py",
   "mimetype": "text/x-python",
   "name": "python",
   "nbconvert_exporter": "python",
   "pygments_lexer": "ipython3",
   "version": "3.7.4"
  }
 },
 "nbformat": 4,
 "nbformat_minor": 2
}
