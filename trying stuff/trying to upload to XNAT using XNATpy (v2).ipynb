{
 "cells": [
  {
   "cell_type": "markdown",
   "metadata": {},
   "source": [
    "# Trying to upload DICOMs and ROIs (DICOM-RTSTRUCTs) to XNAT using XNATpy\n",
    "\n",
    "### https://xnat.readthedocs.io/en/latest/index.html\n",
    "\n",
    "### Changes from v1:  \n",
    "#### - Upload all DICOMs whose UIDs correspond to the UIDs of the ROI data.  \n",
    "#### - May need to modify the Project/Subject/Experiment(Session) labels in the DICOM data and RTSTRUCT file to match the labels assigned when creating new Project/Subject/Experiment..."
   ]
  },
  {
   "cell_type": "code",
   "execution_count": 8,
   "metadata": {},
   "outputs": [
    {
     "name": "stdout",
     "output_type": "stream",
     "text": [
      "XNATpy version = 0.3.21\n"
     ]
    }
   ],
   "source": [
    "import xnat\n",
    "#xnat.__version__ # 0.3.21\n",
    "print(f'XNATpy version = {xnat.__version__}') # 0.3.21\n",
    "import SimpleITK as sitk\n",
    "import pydicom\n",
    "import dicom2nifti\n",
    "import numpy as np\n",
    "#import math\n",
    "import matplotlib.pyplot as plt\n",
    "#from matplotlib import pyplot\n",
    "import matplotlib.image as mpimg\n",
    "import os, sys, time\n",
    "import natsort\n",
    "import dicom_functions\n",
    "import explore_dicom_data\n",
    "from myshow import myshow\n",
    "import importlib"
   ]
  },
  {
   "cell_type": "markdown",
   "metadata": {},
   "source": [
    "#### Connect to XNAT server:"
   ]
  },
  {
   "cell_type": "code",
   "execution_count": 9,
   "metadata": {},
   "outputs": [
    {
     "name": "stderr",
     "output_type": "stream",
     "text": [
      "[2020-02-17 08:50:18,857] DEBUG: __init__:197 >> Response url: http://10.1.1.17/data/projects\n",
      "[2020-02-17 08:50:18,858] DEBUG: __init__:59 >> Getting http://10.1.1.17/ to test auth\n",
      "[2020-02-17 08:50:19,072] DEBUG: __init__:61 >> Status: 200\n",
      "[2020-02-17 08:50:19,073] INFO: __init__:95 >> Logged in successfully as admin\n",
      "[2020-02-17 08:50:19,074] DEBUG: session:334 >> GET URI http://10.1.1.17/data/JSESSION\n",
      "[2020-02-17 08:50:19,086] DEBUG: session:307 >> Received response with status code: 200\n",
      "[2020-02-17 08:50:19,087] DEBUG: session:334 >> GET URI http://10.1.1.17/data/version\n",
      "[2020-02-17 08:50:19,093] DEBUG: session:307 >> Received response with status code: 404\n",
      "[2020-02-17 08:50:19,094] DEBUG: session:334 >> GET URI http://10.1.1.17/xapi/siteConfig/buildInfo?format=json\n",
      "[2020-02-17 08:50:19,099] DEBUG: session:307 >> Received response with status code: 200\n",
      "[2020-02-17 08:50:19,100] INFO: __init__:239 >> Found an 1.7 version (1.7.5.6)\n",
      "[2020-02-17 08:50:19,101] DEBUG: session:334 >> GET URI http://10.1.1.17/xapi/schemas?format=json\n",
      "[2020-02-17 08:50:19,116] DEBUG: session:307 >> Received response with status code: 200\n",
      "[2020-02-17 08:50:19,116] INFO: convert_xsd:949 >> === Retrieving schema from /xapi/schemas/roi ===\n",
      "[2020-02-17 08:50:19,117] DEBUG: session:334 >> GET URI http://10.1.1.17/xapi/schemas/roi\n",
      "[2020-02-17 08:50:19,125] DEBUG: session:307 >> Received response with status code: 200\n",
      "[2020-02-17 08:50:19,127] DEBUG: convert_xsd:919 >> Registering namespace: icr  ->  http://icr.ac.uk/icr\n",
      "[2020-02-17 08:50:19,127] DEBUG: convert_xsd:919 >> Registering namespace: xdat  ->  http://nrg.wustl.edu/xdat\n",
      "[2020-02-17 08:50:19,128] DEBUG: convert_xsd:919 >> Registering namespace: xs  ->  http://www.w3.org/2001/XMLSchema\n",
      "[2020-02-17 08:50:19,129] DEBUG: convert_xsd:919 >> Registering namespace: xnat  ->  http://nrg.wustl.edu/xnat\n",
      "[2020-02-17 08:50:19,130] DEBUG: convert_xsd:1241 >> Skipping non-class top-level tag {http://www.w3.org/2001/XMLSchema}import\n",
      "[2020-02-17 08:50:19,131] DEBUG: convert_xsd:1237 >> Adding RoiCollection -> icr:roiCollectionData to class name map\n",
      "[2020-02-17 08:50:19,131] DEBUG: convert_xsd:932 >> Found 0 unknown tags: set()\n",
      "[2020-02-17 08:50:19,133] INFO: convert_xsd:949 >> === Retrieving schema from /xapi/schemas/security ===\n",
      "[2020-02-17 08:50:19,134] DEBUG: session:334 >> GET URI http://10.1.1.17/xapi/schemas/security\n",
      "[2020-02-17 08:50:19,145] DEBUG: session:307 >> Received response with status code: 200\n",
      "[2020-02-17 08:50:19,147] DEBUG: convert_xsd:919 >> Registering namespace: xdat  ->  http://nrg.wustl.edu/security\n",
      "[2020-02-17 08:50:19,148] DEBUG: convert_xsd:919 >> Registering namespace: xs  ->  http://www.w3.org/2001/XMLSchema\n",
      "[2020-02-17 08:50:19,149] DEBUG: convert_xsd:1237 >> Adding security -> None to class name map\n",
      "[2020-02-17 08:50:19,150] DEBUG: convert_xsd:1237 >> Adding element_access -> None to class name map\n",
      "[2020-02-17 08:50:19,154] WARNING: convert_xsd:1138 >> Encountered attribute without name\n",
      "[2020-02-17 08:50:19,155] DEBUG: convert_xsd:1241 >> Skipping non-class top-level tag {http://www.w3.org/2001/XMLSchema}attributeGroup\n",
      "[2020-02-17 08:50:19,157] DEBUG: convert_xsd:1237 >> Adding bundle -> xdat:stored_search to class name map\n",
      "[2020-02-17 08:50:19,158] WARNING: convert_xsd:1138 >> Encountered attribute without name\n",
      "[2020-02-17 08:50:19,158] DEBUG: convert_xsd:1237 >> Adding UserGroup -> xdat:userGroup to class name map\n",
      "[2020-02-17 08:50:19,159] DEBUG: convert_xsd:1237 >> Adding XDATUser -> xdat:user to class name map\n",
      "[2020-02-17 08:50:19,159] DEBUG: convert_xsd:1237 >> Adding Search -> None to class name map\n",
      "[2020-02-17 08:50:19,160] DEBUG: convert_xsd:1237 >> Adding News -> xdat:newsEntry to class name map\n",
      "[2020-02-17 08:50:19,161] DEBUG: convert_xsd:1237 >> Adding Info -> xdat:infoEntry to class name map\n",
      "[2020-02-17 08:50:19,161] DEBUG: convert_xsd:932 >> Found 2 unknown tags: {'{http://nrg.wustl.edu/security}element', '{http://nrg.wustl.edu/security}field'}\n",
      "[2020-02-17 08:50:19,162] INFO: convert_xsd:949 >> === Retrieving schema from /xapi/schemas/xnat ===\n",
      "[2020-02-17 08:50:19,163] DEBUG: session:334 >> GET URI http://10.1.1.17/xapi/schemas/xnat\n",
      "[2020-02-17 08:50:19,189] DEBUG: session:307 >> Received response with status code: 200\n",
      "[2020-02-17 08:50:19,197] DEBUG: convert_xsd:919 >> Registering namespace: xnat  ->  http://nrg.wustl.edu/xnat\n",
      "[2020-02-17 08:50:19,198] DEBUG: convert_xsd:919 >> Registering namespace: prov  ->  http://www.nbirn.net/prov\n",
      "[2020-02-17 08:50:19,198] DEBUG: convert_xsd:919 >> Registering namespace: xdat  ->  http://nrg.wustl.edu/xdat\n",
      "[2020-02-17 08:50:19,199] DEBUG: convert_xsd:919 >> Registering namespace: xs  ->  http://www.w3.org/2001/XMLSchema\n",
      "[2020-02-17 08:50:19,200] DEBUG: convert_xsd:1241 >> Skipping non-class top-level tag {http://www.w3.org/2001/XMLSchema}import\n",
      "[2020-02-17 08:50:19,200] DEBUG: convert_xsd:1241 >> Skipping non-class top-level tag {http://www.w3.org/2001/XMLSchema}import\n",
      "[2020-02-17 08:50:19,201] DEBUG: convert_xsd:1237 >> Adding Project -> xnat:projectData to class name map\n",
      "[2020-02-17 08:50:19,202] DEBUG: convert_xsd:1237 >> Adding Subject -> xnat:subjectData to class name map\n",
      "[2020-02-17 08:50:19,203] DEBUG: convert_xsd:1237 >> Adding Investigator -> xnat:investigatorData to class name map\n",
      "[2020-02-17 08:50:19,203] DEBUG: convert_xsd:1237 >> Adding MRSession -> xnat:mrSessionData to class name map\n",
      "[2020-02-17 08:50:19,204] DEBUG: convert_xsd:1237 >> Adding CTSession -> xnat:ctSessionData to class name map\n",
      "[2020-02-17 08:50:19,205] DEBUG: convert_xsd:1237 >> Adding EPSSession -> xnat:epsSessionData to class name map\n",
      "[2020-02-17 08:50:19,206] DEBUG: convert_xsd:1237 >> Adding HDSession -> xnat:hdSessionData to class name map\n",
      "[2020-02-17 08:50:19,207] DEBUG: convert_xsd:1237 >> Adding ECGSession -> xnat:ecgSessionData to class name map\n",
      "[2020-02-17 08:50:19,207] DEBUG: convert_xsd:1237 >> Adding USSession -> xnat:usSessionData to class name map\n",
      "[2020-02-17 08:50:19,210] DEBUG: convert_xsd:1237 >> Adding IOSession -> xnat:ioSessionData to class name map\n",
      "[2020-02-17 08:50:19,211] DEBUG: convert_xsd:1237 >> Adding MGSession -> xnat:mgSessionData to class name map\n",
      "[2020-02-17 08:50:19,212] DEBUG: convert_xsd:1237 >> Adding DXSession -> xnat:dxSessionData to class name map\n",
      "[2020-02-17 08:50:19,213] DEBUG: convert_xsd:1237 >> Adding CRSession -> xnat:crSessionData to class name map\n",
      "[2020-02-17 08:50:19,214] DEBUG: convert_xsd:1237 >> Adding GMVSession -> xnat:gmvSessionData to class name map\n",
      "[2020-02-17 08:50:19,214] DEBUG: convert_xsd:1237 >> Adding GMSession -> xnat:gmSessionData to class name map\n",
      "[2020-02-17 08:50:19,215] DEBUG: convert_xsd:1237 >> Adding ESVSession -> xnat:esvSessionData to class name map\n",
      "[2020-02-17 08:50:19,215] DEBUG: convert_xsd:1237 >> Adding ESSession -> xnat:esSessionData to class name map\n",
      "[2020-02-17 08:50:19,216] DEBUG: convert_xsd:1237 >> Adding NMSession -> xnat:nmSessionData to class name map\n",
      "[2020-02-17 08:50:19,218] DEBUG: convert_xsd:1237 >> Adding SRSession -> xnat:srSessionData to class name map\n",
      "[2020-02-17 08:50:19,218] DEBUG: convert_xsd:1237 >> Adding DX3DCraniofacialSession -> xnat:dx3DCraniofacialSessionData to class name map\n",
      "[2020-02-17 08:50:19,219] DEBUG: convert_xsd:1237 >> Adding XA3DSession -> xnat:xa3DSessionData to class name map\n",
      "[2020-02-17 08:50:19,219] DEBUG: convert_xsd:1237 >> Adding RFSession -> xnat:rfSessionData to class name map\n",
      "[2020-02-17 08:50:19,220] DEBUG: convert_xsd:1237 >> Adding XASession -> xnat:xaSessionData to class name map\n",
      "[2020-02-17 08:50:19,220] DEBUG: convert_xsd:1237 >> Adding SMSession -> xnat:smSessionData to class name map\n",
      "[2020-02-17 08:50:19,221] DEBUG: convert_xsd:1237 >> Adding XCSession -> xnat:xcSessionData to class name map\n",
      "[2020-02-17 08:50:19,221] DEBUG: convert_xsd:1237 >> Adding XCVSession -> xnat:xcvSessionData to class name map\n",
      "[2020-02-17 08:50:19,222] DEBUG: convert_xsd:1237 >> Adding OPSession -> xnat:opSessionData to class name map\n",
      "[2020-02-17 08:50:19,222] DEBUG: convert_xsd:1237 >> Adding OPTSession -> xnat:optSessionData to class name map\n",
      "[2020-02-17 08:50:19,223] DEBUG: convert_xsd:1237 >> Adding RTSession -> xnat:rtSessionData to class name map\n",
      "[2020-02-17 08:50:19,225] DEBUG: convert_xsd:1237 >> Adding MEGSession -> xnat:megSessionData to class name map\n"
     ]
    },
    {
     "name": "stderr",
     "output_type": "stream",
     "text": [
      "[2020-02-17 08:50:19,225] DEBUG: convert_xsd:1237 >> Adding EEGSession -> xnat:eegSessionData to class name map\n",
      "[2020-02-17 08:50:19,226] DEBUG: convert_xsd:1237 >> Adding OtherDicomSession -> xnat:otherDicomSessionData to class name map\n",
      "[2020-02-17 08:50:19,228] DEBUG: convert_xsd:1237 >> Adding SubjectVariables -> xnat:subjectVariablesData to class name map\n",
      "[2020-02-17 08:50:19,228] DEBUG: convert_xsd:1237 >> Adding PETSession -> xnat:petSessionData to class name map\n",
      "[2020-02-17 08:50:19,229] DEBUG: convert_xsd:1237 >> Adding PETMRSession -> xnat:petmrSessionData to class name map\n",
      "[2020-02-17 08:50:19,230] DEBUG: convert_xsd:1237 >> Adding MRScan -> xnat:mrScanData to class name map\n",
      "[2020-02-17 08:50:19,230] DEBUG: convert_xsd:1237 >> Adding CTScan -> xnat:ctScanData to class name map\n",
      "[2020-02-17 08:50:19,231] DEBUG: convert_xsd:1237 >> Adding PETScan -> xnat:petScanData to class name map\n",
      "[2020-02-17 08:50:19,232] DEBUG: convert_xsd:1237 >> Adding EPSScan -> xnat:epsScanData to class name map\n",
      "[2020-02-17 08:50:19,232] DEBUG: convert_xsd:1237 >> Adding HDScan -> xnat:hdScanData to class name map\n",
      "[2020-02-17 08:50:19,233] DEBUG: convert_xsd:1237 >> Adding ECGScan -> xnat:ecgScanData to class name map\n",
      "[2020-02-17 08:50:19,235] DEBUG: convert_xsd:1237 >> Adding USScan -> xnat:usScanData to class name map\n",
      "[2020-02-17 08:50:19,236] DEBUG: convert_xsd:1237 >> Adding IOScan -> xnat:ioScanData to class name map\n",
      "[2020-02-17 08:50:19,237] DEBUG: convert_xsd:1237 >> Adding MGScan -> xnat:mgScanData to class name map\n",
      "[2020-02-17 08:50:19,238] DEBUG: convert_xsd:1237 >> Adding DXScan -> xnat:dxScanData to class name map\n",
      "[2020-02-17 08:50:19,239] DEBUG: convert_xsd:1237 >> Adding CRScan -> xnat:crScanData to class name map\n",
      "[2020-02-17 08:50:19,239] DEBUG: convert_xsd:1237 >> Adding GMVScan -> xnat:gmvScanData to class name map\n",
      "[2020-02-17 08:50:19,240] DEBUG: convert_xsd:1237 >> Adding GMScan -> xnat:gmScanData to class name map\n",
      "[2020-02-17 08:50:19,241] DEBUG: convert_xsd:1237 >> Adding ESVScan -> xnat:esvScanData to class name map\n",
      "[2020-02-17 08:50:19,241] DEBUG: convert_xsd:1237 >> Adding ESScan -> xnat:esScanData to class name map\n",
      "[2020-02-17 08:50:19,241] DEBUG: convert_xsd:1237 >> Adding NMScan -> xnat:nmScanData to class name map\n",
      "[2020-02-17 08:50:19,242] DEBUG: convert_xsd:1237 >> Adding SRScan -> xnat:srScanData to class name map\n",
      "[2020-02-17 08:50:19,242] DEBUG: convert_xsd:1237 >> Adding DX3DCraniofacialScan -> xnat:dx3DCraniofacialScanData to class name map\n",
      "[2020-02-17 08:50:19,244] DEBUG: convert_xsd:1237 >> Adding XA3DScan -> xnat:xa3DScanData to class name map\n",
      "[2020-02-17 08:50:19,244] DEBUG: convert_xsd:1237 >> Adding RFScan -> xnat:rfScanData to class name map\n",
      "[2020-02-17 08:50:19,245] DEBUG: convert_xsd:1237 >> Adding XAScan -> xnat:xaScanData to class name map\n",
      "[2020-02-17 08:50:19,246] DEBUG: convert_xsd:1237 >> Adding SMScan -> xnat:smScanData to class name map\n",
      "[2020-02-17 08:50:19,246] DEBUG: convert_xsd:1237 >> Adding XCScan -> xnat:xcScanData to class name map\n",
      "[2020-02-17 08:50:19,247] DEBUG: convert_xsd:1237 >> Adding XCVScan -> xnat:xcvScanData to class name map\n",
      "[2020-02-17 08:50:19,247] DEBUG: convert_xsd:1237 >> Adding OPScan -> xnat:opScanData to class name map\n",
      "[2020-02-17 08:50:19,250] DEBUG: convert_xsd:1237 >> Adding OPTScan -> xnat:optScanData to class name map\n",
      "[2020-02-17 08:50:19,252] DEBUG: convert_xsd:1237 >> Adding RTImageScan -> xnat:rtImageScanData to class name map\n",
      "[2020-02-17 08:50:19,253] DEBUG: convert_xsd:1237 >> Adding SCScan -> xnat:scScanData to class name map\n",
      "[2020-02-17 08:50:19,254] DEBUG: convert_xsd:1237 >> Adding SegScan -> xnat:segScanData to class name map\n",
      "[2020-02-17 08:50:19,255] DEBUG: convert_xsd:1237 >> Adding MRSScan -> xnat:mrsScanData to class name map\n",
      "[2020-02-17 08:50:19,255] DEBUG: convert_xsd:1237 >> Adding MEGScan -> xnat:megScanData to class name map\n",
      "[2020-02-17 08:50:19,256] DEBUG: convert_xsd:1237 >> Adding EEGScan -> xnat:eegScanData to class name map\n",
      "[2020-02-17 08:50:19,256] DEBUG: convert_xsd:1237 >> Adding VoiceAudioScan -> xnat:voiceAudioScanData to class name map\n",
      "[2020-02-17 08:50:19,257] DEBUG: convert_xsd:1237 >> Adding OtherDicomScan -> xnat:otherDicomScanData to class name map\n",
      "[2020-02-17 08:50:19,258] DEBUG: convert_xsd:1237 >> Adding ImageRegionResource -> xnat:regionResource to class name map\n",
      "[2020-02-17 08:50:19,258] DEBUG: convert_xsd:1237 >> Adding QCAssessment -> xnat:qcAssessmentData to class name map\n",
      "[2020-02-17 08:50:19,259] DEBUG: convert_xsd:1237 >> Adding ReconstructedImage -> xnat:reconstructedImageData to class name map\n",
      "[2020-02-17 08:50:19,260] DEBUG: convert_xsd:1237 >> Adding FieldDefinitionGroup -> xnat:fieldDefinitionGroup to class name map\n",
      "[2020-02-17 08:50:19,260] DEBUG: convert_xsd:1237 >> Adding ResourceCatalog -> xnat:resourceCatalog to class name map\n",
      "[2020-02-17 08:50:19,261] DEBUG: convert_xsd:1237 >> Adding QCManualAssessment -> xnat:qcManualAssessorData to class name map\n",
      "[2020-02-17 08:50:19,261] DEBUG: convert_xsd:1237 >> Adding Generic -> xnat:genericData to class name map\n",
      "[2020-02-17 08:50:19,262] DEBUG: convert_xsd:1237 >> Adding DicomCodedValue -> xnat:dicomCodedValue to class name map\n",
      "[2020-02-17 08:50:19,262] DEBUG: convert_xsd:1237 >> Adding Algorithm -> xnat:algorithm to class name map\n",
      "[2020-02-17 08:50:19,263] DEBUG: convert_xsd:1237 >> Adding PVisit -> xnat:pVisitData to class name map\n",
      "[2020-02-17 08:50:19,263] DEBUG: convert_xsd:1237 >> Adding FieldDefinitionSet -> xnat:fieldDefinitionGroup to class name map\n",
      "[2020-02-17 08:50:19,264] DEBUG: convert_xsd:1295 >> CLASS: xnat:projectData, PROP: ID, ELEMENT: <Element '{http://nrg.wustl.edu/xdat}sqlField' at 0x0000013ADC826728>\n",
      "[2020-02-17 08:50:19,265] DEBUG: convert_xsd:1295 >> CLASS: xnatpy:subjectDataSharing, PROP: share, ELEMENT: <Element '{http://nrg.wustl.edu/xdat}sqlField' at 0x0000013ADC8260E8>\n",
      "[2020-02-17 08:50:19,266] DEBUG: convert_xsd:1295 >> CLASS: xnatpy:subjectDataExperiments, PROP: experiment, ELEMENT: <Element '{http://nrg.wustl.edu/xdat}sqlField' at 0x0000013ADC82A958>\n",
      "[2020-02-17 08:50:19,267] DEBUG: convert_xsd:1295 >> CLASS: xnat:subjectData, PROP: ID, ELEMENT: <Element '{http://nrg.wustl.edu/xdat}sqlField' at 0x0000013ADC82ABD8>\n",
      "[2020-02-17 08:50:19,267] DEBUG: convert_xsd:1295 >> CLASS: xnat:subjectData, PROP: project, ELEMENT: <Element '{http://nrg.wustl.edu/xdat}sqlField' at 0x0000013ADC82EF48>\n",
      "[2020-02-17 08:50:19,268] DEBUG: convert_xsd:1295 >> CLASS: xnat:subjectData, PROP: group, ELEMENT: <Element '{http://nrg.wustl.edu/xdat}sqlField' at 0x0000013ADC82EDB8>\n",
      "[2020-02-17 08:50:19,269] DEBUG: convert_xsd:1295 >> CLASS: xnat:projectParticipant, PROP: project, ELEMENT: <Element '{http://nrg.wustl.edu/xdat}sqlField' at 0x0000013ADC82E3B8>\n",
      "[2020-02-17 08:50:19,270] DEBUG: convert_xsd:1295 >> CLASS: xnat:projectParticipant, PROP: subject_ID, ELEMENT: <Element '{http://nrg.wustl.edu/xdat}sqlField' at 0x0000013ADC82E048>\n",
      "[2020-02-17 08:50:19,271] DEBUG: convert_xsd:1295 >> CLASS: xnat:projectParticipant, PROP: group, ELEMENT: <Element '{http://nrg.wustl.edu/xdat}sqlField' at 0x0000013ADC831DB8>\n",
      "[2020-02-17 08:50:19,273] DEBUG: convert_xsd:1295 >> CLASS: xnat:experimentData, PROP: ID, ELEMENT: <Element '{http://nrg.wustl.edu/xdat}sqlField' at 0x0000013ADC832CC8>\n",
      "[2020-02-17 08:50:19,275] DEBUG: convert_xsd:1295 >> CLASS: xnatpy:imageSessionDataRegions, PROP: region, ELEMENT: <Element '{http://nrg.wustl.edu/xdat}sqlField' at 0x0000013ADC189048>\n",
      "[2020-02-17 08:50:19,275] DEBUG: convert_xsd:1295 >> CLASS: xnatpy:imageSessionDataScans, PROP: scan, ELEMENT: <Element '{http://nrg.wustl.edu/xdat}sqlField' at 0x0000013ADC189DB8>\n",
      "[2020-02-17 08:50:19,276] DEBUG: convert_xsd:1295 >> CLASS: xnatpy:imageSessionDataReconstructions, PROP: reconstructedImage, ELEMENT: <Element '{http://nrg.wustl.edu/xdat}sqlField' at 0x0000013ADC1B7318>\n",
      "[2020-02-17 08:50:19,277] DEBUG: convert_xsd:1295 >> CLASS: xnatpy:imageSessionDataAssessors, PROP: assessor, ELEMENT: <Element '{http://nrg.wustl.edu/xdat}sqlField' at 0x0000013ADC1B76D8>\n",
      "[2020-02-17 08:50:19,281] DEBUG: convert_xsd:1295 >> CLASS: xnatpy:fieldDefinitionGroupFieldsField, PROP: group, ELEMENT: <Element '{http://nrg.wustl.edu/xdat}sqlField' at 0x0000013ADA387318>\n"
     ]
    },
    {
     "name": "stderr",
     "output_type": "stream",
     "text": [
      "[2020-02-17 08:50:19,285] DEBUG: convert_xsd:932 >> Found 3 unknown tags: {'{http://nrg.wustl.edu/xdat}relation', '{http://nrg.wustl.edu/security}element', '{http://nrg.wustl.edu/security}field'}\n",
      "[2020-02-17 08:50:19,286] INFO: convert_xsd:949 >> === Retrieving schema from /xapi/schemas/assessments ===\n",
      "[2020-02-17 08:50:19,287] DEBUG: session:334 >> GET URI http://10.1.1.17/xapi/schemas/assessments\n",
      "[2020-02-17 08:50:19,310] DEBUG: session:307 >> Received response with status code: 200\n",
      "[2020-02-17 08:50:19,313] DEBUG: convert_xsd:919 >> Registering namespace: xs  ->  http://www.w3.org/2001/XMLSchema\n",
      "[2020-02-17 08:50:19,314] DEBUG: convert_xsd:919 >> Registering namespace: xnat  ->  http://nrg.wustl.edu/xnat\n",
      "[2020-02-17 08:50:19,314] DEBUG: convert_xsd:919 >> Registering namespace: xnat_a  ->  http://nrg.wustl.edu/xnat_assessments\n",
      "[2020-02-17 08:50:19,314] DEBUG: convert_xsd:1241 >> Skipping non-class top-level tag {http://www.w3.org/2001/XMLSchema}import\n",
      "[2020-02-17 08:50:19,315] DEBUG: convert_xsd:1237 >> Adding SideEffectsPittsburgh -> xnat_a:sideEffectsPittsburghData to class name map\n",
      "[2020-02-17 08:50:19,316] DEBUG: convert_xsd:1237 >> Adding YBOCS -> xnat_a:ybocsData to class name map\n",
      "[2020-02-17 08:50:19,316] DEBUG: convert_xsd:1237 >> Adding YGTSS -> xnat_a:ygtssData to class name map\n",
      "[2020-02-17 08:50:19,317] DEBUG: convert_xsd:1237 >> Adding UPDRS3 -> xnat_a:updrs3Data to class name map\n",
      "[2020-02-17 08:50:19,318] DEBUG: convert_xsd:1237 >> Adding SCID -> xnat_a:scidResearchData to class name map\n",
      "[2020-02-17 08:50:19,321] DEBUG: convert_xsd:932 >> Found 3 unknown tags: {'{http://nrg.wustl.edu/xdat}relation', '{http://nrg.wustl.edu/security}element', '{http://nrg.wustl.edu/security}field'}\n",
      "[2020-02-17 08:50:19,321] INFO: convert_xsd:949 >> === Retrieving schema from /xapi/schemas/screening/screeningAssessment ===\n",
      "[2020-02-17 08:50:19,322] DEBUG: session:334 >> GET URI http://10.1.1.17/xapi/schemas/screening/screeningAssessment\n",
      "[2020-02-17 08:50:19,338] DEBUG: session:307 >> Received response with status code: 200\n",
      "[2020-02-17 08:50:19,339] DEBUG: convert_xsd:919 >> Registering namespace: xdat  ->  http://nrg.wustl.edu/xdat\n",
      "[2020-02-17 08:50:19,339] DEBUG: convert_xsd:919 >> Registering namespace: scr  ->  http://nrg.wustl.edu/scr\n",
      "[2020-02-17 08:50:19,340] DEBUG: convert_xsd:919 >> Registering namespace: xnat  ->  http://nrg.wustl.edu/xnat\n",
      "[2020-02-17 08:50:19,340] DEBUG: convert_xsd:919 >> Registering namespace: xs  ->  http://www.w3.org/2001/XMLSchema\n",
      "[2020-02-17 08:50:19,341] DEBUG: convert_xsd:1241 >> Skipping non-class top-level tag {http://www.w3.org/2001/XMLSchema}import\n",
      "[2020-02-17 08:50:19,342] DEBUG: convert_xsd:1237 >> Adding ScreeningAssessment -> scr:screeningAssessment to class name map\n",
      "[2020-02-17 08:50:19,342] DEBUG: convert_xsd:932 >> Found 3 unknown tags: {'{http://nrg.wustl.edu/xdat}relation', '{http://nrg.wustl.edu/security}element', '{http://nrg.wustl.edu/security}field'}\n",
      "[2020-02-17 08:50:19,342] INFO: convert_xsd:949 >> === Retrieving schema from /xapi/schemas/pipeline/build ===\n",
      "[2020-02-17 08:50:19,343] DEBUG: session:334 >> GET URI http://10.1.1.17/xapi/schemas/pipeline/build\n",
      "[2020-02-17 08:50:19,351] DEBUG: session:307 >> Received response with status code: 200\n",
      "[2020-02-17 08:50:19,351] DEBUG: convert_xsd:919 >> Registering namespace: xs  ->  http://www.w3.org/2001/XMLSchema\n",
      "[2020-02-17 08:50:19,352] DEBUG: convert_xsd:919 >> Registering namespace: build  ->  http://nrg.wustl.edu/build\n",
      "[2020-02-17 08:50:19,353] DEBUG: convert_xsd:1237 >> Adding Build -> build:buildData to class name map\n",
      "[2020-02-17 08:50:19,354] DEBUG: convert_xsd:932 >> Found 3 unknown tags: {'{http://nrg.wustl.edu/xdat}relation', '{http://nrg.wustl.edu/security}element', '{http://nrg.wustl.edu/security}field'}\n",
      "[2020-02-17 08:50:19,355] INFO: convert_xsd:949 >> === Retrieving schema from /xapi/schemas/pipeline/repository ===\n",
      "[2020-02-17 08:50:19,355] DEBUG: session:334 >> GET URI http://10.1.1.17/xapi/schemas/pipeline/repository\n",
      "[2020-02-17 08:50:19,365] DEBUG: session:307 >> Received response with status code: 200\n",
      "[2020-02-17 08:50:19,366] DEBUG: convert_xsd:919 >> Registering namespace: xs  ->  http://www.w3.org/2001/XMLSchema\n",
      "[2020-02-17 08:50:19,366] DEBUG: convert_xsd:919 >> Registering namespace: xdat  ->  http://nrg.wustl.edu/xdat\n",
      "[2020-02-17 08:50:19,367] DEBUG: convert_xsd:919 >> Registering namespace: pipe  ->  http://nrg.wustl.edu/pipe\n",
      "[2020-02-17 08:50:19,367] DEBUG: convert_xsd:1237 >> Adding PipelineRepository -> None to class name map\n",
      "[2020-02-17 08:50:19,367] DEBUG: convert_xsd:1295 >> CLASS: pipe:pipelineDetails, PROP: path, ELEMENT: <Element '{http://nrg.wustl.edu/xdat}sqlField' at 0x0000013ADA3A19F8>\n",
      "[2020-02-17 08:50:19,368] DEBUG: convert_xsd:932 >> Found 3 unknown tags: {'{http://nrg.wustl.edu/xdat}relation', '{http://nrg.wustl.edu/security}element', '{http://nrg.wustl.edu/security}field'}\n",
      "[2020-02-17 08:50:19,369] INFO: convert_xsd:949 >> === Retrieving schema from /xapi/schemas/pipeline/workflow ===\n",
      "[2020-02-17 08:50:19,369] DEBUG: session:334 >> GET URI http://10.1.1.17/xapi/schemas/pipeline/workflow\n",
      "[2020-02-17 08:50:19,377] DEBUG: session:307 >> Received response with status code: 200\n",
      "[2020-02-17 08:50:19,379] DEBUG: convert_xsd:919 >> Registering namespace: xdat  ->  http://nrg.wustl.edu/xdat\n",
      "[2020-02-17 08:50:19,380] DEBUG: convert_xsd:919 >> Registering namespace: wrk  ->  http://nrg.wustl.edu/workflow\n",
      "[2020-02-17 08:50:19,381] DEBUG: convert_xsd:919 >> Registering namespace: xs  ->  http://www.w3.org/2001/XMLSchema\n",
      "[2020-02-17 08:50:19,382] DEBUG: convert_xsd:1237 >> Adding Workflow -> wrk:workflowData to class name map\n",
      "[2020-02-17 08:50:19,384] DEBUG: convert_xsd:932 >> Found 3 unknown tags: {'{http://nrg.wustl.edu/xdat}relation', '{http://nrg.wustl.edu/security}element', '{http://nrg.wustl.edu/security}field'}\n",
      "[2020-02-17 08:50:19,385] INFO: convert_xsd:949 >> === Retrieving schema from /xapi/schemas/birn/birnprov ===\n",
      "[2020-02-17 08:50:19,386] DEBUG: session:334 >> GET URI http://10.1.1.17/xapi/schemas/birn/birnprov\n",
      "[2020-02-17 08:50:19,399] DEBUG: session:307 >> Received response with status code: 200\n",
      "[2020-02-17 08:50:19,400] DEBUG: convert_xsd:919 >> Registering namespace: xdat  ->  http://nrg.wustl.edu/xdat\n",
      "[2020-02-17 08:50:19,401] DEBUG: convert_xsd:919 >> Registering namespace: prov  ->  http://www.nbirn.net/prov\n",
      "[2020-02-17 08:50:19,402] DEBUG: convert_xsd:919 >> Registering namespace: xs  ->  http://www.w3.org/2001/XMLSchema\n",
      "[2020-02-17 08:50:19,403] DEBUG: convert_xsd:1237 >> Adding process -> prov:process to class name map\n",
      "[2020-02-17 08:50:19,403] DEBUG: convert_xsd:1295 >> CLASS: prov:processStep, PROP: user, ELEMENT: <Element '{http://nrg.wustl.edu/xdat}sqlField' at 0x0000013ADA3AAF48>\n",
      "[2020-02-17 08:50:19,404] DEBUG: convert_xsd:932 >> Found 3 unknown tags: {'{http://nrg.wustl.edu/xdat}relation', '{http://nrg.wustl.edu/security}element', '{http://nrg.wustl.edu/security}field'}\n",
      "[2020-02-17 08:50:19,405] INFO: convert_xsd:949 >> === Retrieving schema from /xapi/schemas/catalog ===\n",
      "[2020-02-17 08:50:19,406] DEBUG: session:334 >> GET URI http://10.1.1.17/xapi/schemas/catalog\n",
      "[2020-02-17 08:50:19,415] DEBUG: session:307 >> Received response with status code: 200\n",
      "[2020-02-17 08:50:19,416] DEBUG: convert_xsd:919 >> Registering namespace: cat  ->  http://nrg.wustl.edu/catalog\n",
      "[2020-02-17 08:50:19,416] DEBUG: convert_xsd:919 >> Registering namespace: xs  ->  http://www.w3.org/2001/XMLSchema\n",
      "[2020-02-17 08:50:19,416] DEBUG: convert_xsd:1237 >> Adding Catalog -> cat:catalog to class name map\n",
      "[2020-02-17 08:50:19,416] DEBUG: convert_xsd:1237 >> Adding Entry -> cat:entry to class name map\n",
      "[2020-02-17 08:50:19,416] DEBUG: convert_xsd:1237 >> Adding DCMCatalog -> cat:dcmCatalog to class name map\n",
      "[2020-02-17 08:50:19,418] DEBUG: convert_xsd:932 >> Found 3 unknown tags: {'{http://nrg.wustl.edu/xdat}relation', '{http://nrg.wustl.edu/security}element', '{http://nrg.wustl.edu/security}field'}\n",
      "[2020-02-17 08:50:19,418] INFO: convert_xsd:949 >> === Retrieving schema from /xapi/schemas/project ===\n",
      "[2020-02-17 08:50:19,419] DEBUG: session:334 >> GET URI http://10.1.1.17/xapi/schemas/project\n",
      "[2020-02-17 08:50:19,431] DEBUG: session:307 >> Received response with status code: 200\n"
     ]
    },
    {
     "name": "stderr",
     "output_type": "stream",
     "text": [
      "[2020-02-17 08:50:19,432] DEBUG: convert_xsd:919 >> Registering namespace: arc  ->  http://nrg.wustl.edu/arc\n",
      "[2020-02-17 08:50:19,433] DEBUG: convert_xsd:919 >> Registering namespace: xs  ->  http://www.w3.org/2001/XMLSchema\n",
      "[2020-02-17 08:50:19,433] DEBUG: convert_xsd:919 >> Registering namespace: xdat  ->  http://nrg.wustl.edu/xdat\n",
      "[2020-02-17 08:50:19,434] DEBUG: convert_xsd:1237 >> Adding ArchiveSpecification -> None to class name map\n",
      "[2020-02-17 08:50:19,435] DEBUG: convert_xsd:932 >> Found 3 unknown tags: {'{http://nrg.wustl.edu/xdat}relation', '{http://nrg.wustl.edu/security}element', '{http://nrg.wustl.edu/security}field'}\n",
      "[2020-02-17 08:50:19,435] INFO: convert_xsd:949 >> === Retrieving schema from /xapi/schemas/validation/protocolValidation ===\n",
      "[2020-02-17 08:50:19,436] DEBUG: session:334 >> GET URI http://10.1.1.17/xapi/schemas/validation/protocolValidation\n",
      "[2020-02-17 08:50:19,445] DEBUG: session:307 >> Received response with status code: 200\n",
      "[2020-02-17 08:50:19,446] DEBUG: convert_xsd:919 >> Registering namespace: xdat  ->  http://nrg.wustl.edu/xdat\n",
      "[2020-02-17 08:50:19,447] DEBUG: convert_xsd:919 >> Registering namespace: val  ->  http://nrg.wustl.edu/val\n",
      "[2020-02-17 08:50:19,447] DEBUG: convert_xsd:919 >> Registering namespace: xnat  ->  http://nrg.wustl.edu/xnat\n",
      "[2020-02-17 08:50:19,448] DEBUG: convert_xsd:919 >> Registering namespace: xs  ->  http://www.w3.org/2001/XMLSchema\n",
      "[2020-02-17 08:50:19,448] DEBUG: convert_xsd:1241 >> Skipping non-class top-level tag {http://www.w3.org/2001/XMLSchema}import\n",
      "[2020-02-17 08:50:19,450] DEBUG: convert_xsd:1237 >> Adding ProtocolVal -> val:protocolData to class name map\n",
      "[2020-02-17 08:50:19,451] DEBUG: convert_xsd:932 >> Found 3 unknown tags: {'{http://nrg.wustl.edu/xdat}relation', '{http://nrg.wustl.edu/security}element', '{http://nrg.wustl.edu/security}field'}\n",
      "[2020-02-17 08:50:19,451] INFO: convert_xsd:949 >> === Retrieving schema from /xapi/schemas/xdat/display ===\n",
      "[2020-02-17 08:50:19,451] DEBUG: session:334 >> GET URI http://10.1.1.17/xapi/schemas/xdat/display\n",
      "[2020-02-17 08:50:19,458] DEBUG: session:307 >> Received response with status code: 200\n",
      "[2020-02-17 08:50:19,459] DEBUG: convert_xsd:919 >> Registering namespace: xs  ->  http://www.w3.org/2001/XMLSchema\n",
      "[2020-02-17 08:50:19,459] DEBUG: convert_xsd:919 >> Registering namespace: display  ->  http://nrg.wustl.edu/display\n",
      "[2020-02-17 08:50:19,460] DEBUG: convert_xsd:1237 >> Adding Displays -> None to class name map\n",
      "[2020-02-17 08:50:19,461] DEBUG: convert_xsd:1237 >> Adding Mapping -> None to class name map\n",
      "[2020-02-17 08:50:19,462] DEBUG: convert_xsd:1237 >> Adding DisplayFieldElement -> None to class name map\n",
      "[2020-02-17 08:50:19,462] DEBUG: convert_xsd:1237 >> Adding Arc-Definition -> None to class name map\n",
      "[2020-02-17 08:50:19,463] DEBUG: convert_xsd:1237 >> Adding Arc -> None to class name map\n",
      "[2020-02-17 08:50:19,464] WARNING: convert_xsd:1138 >> Encountered attribute without name\n",
      "[2020-02-17 08:50:19,465] DEBUG: convert_xsd:932 >> Found 3 unknown tags: {'{http://nrg.wustl.edu/xdat}relation', '{http://nrg.wustl.edu/security}element', '{http://nrg.wustl.edu/security}field'}\n",
      "[2020-02-17 08:50:19,466] INFO: convert_xsd:949 >> === Retrieving schema from /xapi/schemas/xdat ===\n",
      "[2020-02-17 08:50:19,466] DEBUG: session:334 >> GET URI http://10.1.1.17/xapi/schemas/xdat\n",
      "[2020-02-17 08:50:19,477] DEBUG: session:307 >> Received response with status code: 200\n",
      "[2020-02-17 08:50:19,478] DEBUG: convert_xsd:919 >> Registering namespace: xs  ->  http://www.w3.org/2001/XMLSchema\n",
      "[2020-02-17 08:50:19,479] DEBUG: convert_xsd:1237 >> Adding rule -> None to class name map\n",
      "[2020-02-17 08:50:19,480] DEBUG: convert_xsd:1237 >> Adding sqlField -> None to class name map\n",
      "[2020-02-17 08:50:19,480] DEBUG: convert_xsd:1237 >> Adding relation -> None to class name map\n",
      "[2020-02-17 08:50:19,481] DEBUG: convert_xsd:1237 >> Adding field -> None to class name map\n",
      "[2020-02-17 08:50:19,481] DEBUG: convert_xsd:1237 >> Adding sqlElement -> None to class name map\n",
      "[2020-02-17 08:50:19,483] DEBUG: convert_xsd:1237 >> Adding element -> None to class name map\n",
      "[2020-02-17 08:50:19,485] DEBUG: convert_xsd:1237 >> Adding container -> None to class name map\n",
      "[2020-02-17 08:50:19,486] DEBUG: convert_xsd:932 >> Found 3 unknown tags: {'{http://nrg.wustl.edu/xdat}relation', '{http://nrg.wustl.edu/security}element', '{http://nrg.wustl.edu/security}field'}\n",
      "[2020-02-17 08:50:19,487] INFO: convert_xsd:949 >> === Retrieving schema from /xapi/schemas/xdat/instance ===\n",
      "[2020-02-17 08:50:19,488] DEBUG: session:334 >> GET URI http://10.1.1.17/xapi/schemas/xdat/instance\n",
      "[2020-02-17 08:50:19,496] DEBUG: session:307 >> Received response with status code: 200\n",
      "[2020-02-17 08:50:19,497] DEBUG: convert_xsd:919 >> Registering namespace: xs  ->  http://www.w3.org/2001/XMLSchema\n",
      "[2020-02-17 08:50:19,497] DEBUG: convert_xsd:1237 >> Adding Instance_Settings -> None to class name map\n",
      "[2020-02-17 08:50:19,499] DEBUG: convert_xsd:932 >> Found 3 unknown tags: {'{http://nrg.wustl.edu/xdat}relation', '{http://nrg.wustl.edu/security}element', '{http://nrg.wustl.edu/security}field'}\n",
      "[2020-02-17 08:50:19,500] INFO: convert_xsd:949 >> === Retrieving schema from /xapi/schemas/xdat/PlexiViewer ===\n",
      "[2020-02-17 08:50:19,500] DEBUG: session:334 >> GET URI http://10.1.1.17/xapi/schemas/xdat/PlexiViewer\n",
      "[2020-02-17 08:50:19,507] DEBUG: session:307 >> Received response with status code: 200\n",
      "[2020-02-17 08:50:19,508] DEBUG: convert_xsd:919 >> Registering namespace: xs  ->  http://www.w3.org/2001/XMLSchema\n",
      "[2020-02-17 08:50:19,509] DEBUG: convert_xsd:1237 >> Adding Layout -> LayoutDescription to class name map\n",
      "[2020-02-17 08:50:19,509] DEBUG: convert_xsd:1237 >> Adding CropDetails -> None to class name map\n",
      "[2020-02-17 08:50:19,509] DEBUG: convert_xsd:1237 >> Adding MontageView -> None to class name map\n",
      "[2020-02-17 08:50:19,510] DEBUG: convert_xsd:1237 >> Adding Viewer -> None to class name map\n",
      "[2020-02-17 08:50:19,510] WARNING: convert_xsd:1138 >> Encountered attribute without name\n",
      "[2020-02-17 08:50:19,510] WARNING: convert_xsd:1138 >> Encountered attribute without name\n",
      "[2020-02-17 08:50:19,510] WARNING: convert_xsd:1138 >> Encountered attribute without name\n",
      "[2020-02-17 08:50:19,510] WARNING: convert_xsd:1138 >> Encountered attribute without name\n",
      "[2020-02-17 08:50:19,511] WARNING: convert_xsd:1138 >> Encountered attribute without name\n",
      "[2020-02-17 08:50:19,512] DEBUG: convert_xsd:932 >> Found 3 unknown tags: {'{http://nrg.wustl.edu/xdat}relation', '{http://nrg.wustl.edu/security}element', '{http://nrg.wustl.edu/security}field'}\n",
      "[2020-02-17 08:50:19,514] DEBUG: convert_xsd:1397 >> namespaces: {'icr': 'http://icr.ac.uk/icr', 'xdat': 'http://nrg.wustl.edu/xdat', 'xs': 'http://www.w3.org/2001/XMLSchema', 'xnat': 'http://nrg.wustl.edu/xnat', 'prov': 'http://www.nbirn.net/prov', 'xnat_a': 'http://nrg.wustl.edu/xnat_assessments', 'scr': 'http://nrg.wustl.edu/scr', 'build': 'http://nrg.wustl.edu/build', 'pipe': 'http://nrg.wustl.edu/pipe', 'wrk': 'http://nrg.wustl.edu/workflow', 'cat': 'http://nrg.wustl.edu/catalog', 'arc': 'http://nrg.wustl.edu/arc', 'val': 'http://nrg.wustl.edu/val', 'display': 'http://nrg.wustl.edu/display'}\n",
      "[2020-02-17 08:50:19,514] DEBUG: convert_xsd:1398 >> namespace prefixes: {'http://icr.ac.uk/icr': 'icr', 'http://nrg.wustl.edu/xdat': 'xdat', 'http://www.w3.org/2001/XMLSchema': 'xs', 'http://nrg.wustl.edu/xnat': 'xnat', 'http://nrg.wustl.edu/security': 'xdat', 'http://www.nbirn.net/prov': 'prov', 'http://nrg.wustl.edu/xnat_assessments': 'xnat_a', 'http://nrg.wustl.edu/scr': 'scr', 'http://nrg.wustl.edu/build': 'build', 'http://nrg.wustl.edu/pipe': 'pipe', 'http://nrg.wustl.edu/workflow': 'wrk', 'http://nrg.wustl.edu/catalog': 'cat', 'http://nrg.wustl.edu/arc': 'arc', 'http://nrg.wustl.edu/val': 'val', 'http://nrg.wustl.edu/display': 'display'}\n",
      "[2020-02-17 08:50:19,515] INFO: convert_xsd:1400 >> === Pruning data structure ===\n",
      "[2020-02-17 08:50:19,516] DEBUG: convert_xsd:1403 >> Classed before prune: {'xnatpy:samplingRateFloat', 'xnat:subjectData', 'LayoutDescription', 'xnatpy:protocolDataScansScan_checkComments', 'xnatpy:platformString', 'xnat:xa3DSessionData', 'xnat:nmSessionData', 'xnatpy:fieldDefinitionGroupFieldsFieldPossiblevalues', 'xnatpy:intermediateFloat', 'xnat:dicomSeries', 'xnat:abstractStatistics', 'xnatpy:studyProtocolSubjectvariables', 'xnatpy:catalogMetafieldsMetafield', 'xnat:ioSessionData', 'xnatpy:imageSessionDataScanner', 'xnatpy:fieldDefinitionGroupFields', 'xnat:rtSessionData', 'xnat:abstractSubjectMetadata', 'xnatpy:projectDataAliasesAlias', 'xnat:optScanData', 'xnat:epsSessionData', 'xnat:esvSessionData', 'xnatpy:studyProtocolSubjectgroups', 'xnatpy:imageAssessorDataParameters', 'xnatpy:estimatedDoseSavingFloat', 'xnat:statisticsData', 'xnatpy:reconstructedImageDataInscans', 'xnatpy:ctScanDataParametersFov', 'xnatpy:scidResearchDataSubstanceusedisorders', 'xnat:scScanData', 'xnatpy:imageSessionDataRegions', 'xnatpy:reconstructedImageDataComputations', 'xnat:hdScanData', 'xnatpy:addFieldString', 'xnatpy:entryMetafields', 'xnat:investigatorData', 'xnat:projectParticipant', 'xnat_a:ybocsData', 'xnatpy:experimentDataFields', 'xnatpy:ctScanDataParametersEstimateddosesaving', 'xnatpy:role_typeAllowed_actions', 'xnat:derivedData', 'xnatpy:imageSessionDataReconstructions', 'xnatpy:qcScanDataRating', 'xnat:mgScanData', 'xnat:rtImageScanData', 'arc:property', 'xnatpy:petmrSessionDataTracerDose', 'xnatpy:userGroups', 'xnatpy:PlexiViewerTypeViewableitemThumbnailSlice', 'xnat:studyProtocol', 'xnatpy:qcScanDataFieldsField', 'xnatpy:demographicDataWeight', 'xnatpy:imageScanDataSharing', 'arc:fieldSpecification', 'xnat_a:updrs3Data', 'xnat:smSessionData', 'xnat:hdSessionData', 'xdat:userGroup', 'xnatpy:FieldTypeContent', 'xnat:dxSessionData', 'xnat:subjectAssessorData', 'xnatpy:mrScanDataParametersInplanephaseencoding', 'xnatpy:imageResourceVoxelres', 'xnatpy:xnatExecutionEnvironmentParameterfile', 'xnatpy:eegSessionDataSamplingrate', 'xnatpy:petScanDataParametersOffset', 'xnatpy:protocolDataCheckComments', 'xnatpy:updrs3DataHandmovementsgrip', 'xnat:imageScanData', 'xnatpy:PlexiViewerTypeViewableitem', 'xnatpy:subjectDataResources', 'xnat:rfSessionData', 'xnatpy:qcAssessmentDataScansScanSliceqcSlice', 'xnatpy:pipelineDetailsParameters', 'xnatpy:xnatExecutionEnvironmentParametersParameter', 'xnatpy:petScanDataParametersZfilter', 'xnat:imageResource', 'xnatpy:petScanDataParametersFilter', 'xnat:ctSessionData', 'xnat:crSessionData', 'xnatpy:imageAssessorDataIn', 'xnatpy:subjectDataAddid', 'xnatpy:eegSessionDataSamplinginterval', 'build:pipelineParameterData', 'xnatpy:pipelineDetailsParametersParameter', 'xnatpy:projectDataInvestigators', 'xnatpy:petScanDataParametersRfilter', 'xnatpy:FieldTypeHtml-linkPropertyInsertvalue', 'xnat:dxScanData', 'build:imageSessionData', 'xnatpy:studyProtocolAcqconditions', 'xnat:regionResource', 'prov:processStep', 'xnatpy:projectDataResources', 'xnatpy:catalogTags', 'cat:catalog', 'xnatpy:petSessionDataTracer', 'xnatpy:qcManualAssessorDataScans', 'xnatpy:protocolDataCheckCommentsComment', 'xnat:projectData', 'xnatpy:aliasString', 'xnatpy:ctScanDataParametersDerivation', 'arc:pathInfo', 'xnatpy:subjectDataSharing', 'xdat:change_info', 'xnatpy:studyProtocolAcqconditionsCondition', 'xnatpy:totalMassFloat', 'xnat:resourceCatalog', 'xnatpy:dicomSeriesImagesetImage', 'xnatpy:ctScanDataDcmvalidation', 'xnatpy:stored_searchAllowed_groups', 'xnat:xaSessionData', 'xdat:stored_search', 'xnatpy:projectDataAliases', 'xnatpy:imageScanDataScanner', 'xnatpy:petSessionDataTracerIntermediate', 'xnatpy:experimentDataSharingShare', 'xnatpy:eegScanDataSoftwarefiltersimpedances', 'xnatpy:petScanDataParametersPixelsize', 'xnatpy:FieldTypeHtml-image', 'xnatpy:csvValuesString', 'xdat:newsEntry', 'display:FieldType', 'xnatpy:FieldTypeHtml-linkProperty', 'xnatpy:petmrSessionDataTracerIsotope', 'xnat:srScanData', 'xnatpy:element_securityListing_actions', 'xnat:mrsScanData', 'xnat:qcScanData', 'xnatpy:userAssigned_roles', 'xdat:field_mapping', 'xnatpy:reconstructedImageDataParameters', 'xnatpy:fieldDefinitionGroupFieldsField', 'xnatpy:doseFloat', 'xnatpy:pipelineParameterDataCsvvalues', 'xnat:gmScanData', 'xnatpy:imageSessionDataScans', 'xnatpy:subjectDataFields', 'xnat:xcScanData', 'xnatpy:petScanDataParameters', 'xnatpy:abstractResourceTags', 'xnat:nmScanData', 'xnat:publicationResource', 'xnatpy:FieldTypeHtml-linkSecurelink', 'xnatpy:studyProtocolSubjectvariablesVariable', 'xnatpy:imageSessionDataPipeline', 'xnatpy:imageResourceSeriesDimensions', 'xnatpy:pipelineParameterDataParameter', 'xnatpy:experimentDataSharing', 'xnatpy:petSessionDataTracerDose', 'xnat:otherDicomSessionData', 'xnat:xcvScanData', 'xnatpy:subjectVariablesDataVariablesVariable', 'xnatpy:projectDataFieldsField', 'xnat:rfScanData', 'xnat:dicomCodedValue', 'xnatpy:qcAssessmentDataScansScan', 'xnat:gmvSessionData', 'xnatpy:dcmValidationString', 'xnatpy:abstractResourceTagsTag', 'xnatpy:optScanDataParameters', 'xnat:otherDicomScanData', 'build:pipelineData', 'xnatpy:projectDataPublications', 'xnatpy:processStepLibrary', 'xnatpy:mrScanDataParameters', 'xnatpy:petScanDataParametersDimensions', 'xnatpy:element_securityPrimary_security_fields', 'xnat:petSessionData', 'xnatpy:qcScanDataFields', 'val:additionalVal', 'xdat:user_login', 'xnat:reconstructedImageData', 'xnatpy:optScanDataParametersVoxelres', 'xnat:resourceSeries', 'xnatpy:PlexiViewerTypeViewableitemUserinterfaceLinkeddropdown', 'xnat:volumetricRegion', 'xnatpy:subjectDataFieldsField', 'xnatpy:updrs3DataRigidity', 'xnatpy:dicomSeriesVoxelres', 'xnatpy:petSessionDataTracerIsotope', 'xnat:subjectVariablesData', 'xnatpy:userPrimary_password', 'xdat:infoEntry', 'xnatpy:mrScanDataParametersFov', 'xnatpy:mrScanDataDcmvalidation', 'xnatpy:roiCollectionDataReferences', 'xnat:opScanData', 'xdat:element_security', 'xnat:addField', 'xnatpy:samplingIntervalFloat', 'xnatpy:PlexiViewerTypeViewableitemUserinterface', 'xnatpy:regionResourceSubregionlabels', 'xnatpy:scidResearchDataPsychoticdisorders', 'xnat:voiceAudioScanData', 'xnat:mrScanData', 'xdat:access_log', 'xnatpy:shareString', 'xnatpy:imageResourceSeriesVoxelres', 'xnatpy:studyProtocolImagesessiontypes', 'xnatpy:variableString', 'xnatpy:pipelineDetailsParametersParameterValues', 'xnatpy:projectProperties', 'prov:process', 'xnat:mrSessionData', 'xdat:role_type', 'xnatpy:experimentDataResources', 'xnat:megSessionData', 'xnat:epsScanData', 'xdat:element_action_type', 'xnatpy:regionResourceSubregionlabelsLabel', 'xnatpy:studyProtocolSubjectgroupsGroup', 'xnatpy:libraryString', 'xnat:srSessionData', 'xnat:abstractProtocol', 'xnatpy:FieldTypeHtml-link', 'xdat:criteria', 'xnatpy:protocolDataScansScan_check', 'xnatpy:xaScanDataParametersPixelres', 'xnatpy:processStepPlatform', 'xdat:criteria_set', 'xnatpy:addIDString', 'build:buildData', 'xnat:crScanData', 'xnatpy:scidResearchDataMooddisorders', 'xnatpy:petmrSessionDataTracerTotalmass', 'xnat:segScanData', 'xnat:validationData', 'xnatpy:updrs3DataFingertaps', 'scr:screeningAssessment', 'xnatpy:projectPipelinesDescendantsDescendant', 'xnatpy:FieldTypeHtml-linkSecurelinkSecuritymappingvalue', 'xnat:mrAssessorData', 'xnatpy:scidResearchDataOptional', 'xnatpy:petScanDataParametersResolution', 'xnat:qcAssessmentData', 'icr:roiCollectionData', 'xnatpy:petSessionDataTracerTotalmass', 'xnatpy:dicomSeriesDimensions', 'xnatpy:additionalStatisticsDouble', 'xnatpy:updrs3DataHandsram', 'xnat:xa3DScanData', 'xnatpy:compilerString', 'xnatpy:weightFloat', 'pipe:pipelineDetails', 'xnatpy:protocolDataScansScan_checkCommentsComment', 'wrk:abstractExecutionEnvironment', 'xnatpy:stored_searchAllowed_user', 'xnatpy:ContentString', 'xnatpy:heightFloat', 'xnatpy:eegScanDataChannels', 'xnatpy:imageScanDataSharingShare', 'xdat:action_type', 'xnatpy:mrScanDataParametersMatrix', 'xnatpy:qcAssessmentDataScansScanSliceqc', 'xnatpy:protocolDataCheck', 'xnatpy:PlexiViewerTypeViewableitemLo-res', 'cat:entry', 'xnatpy:catalogMetafields', 'xdat:meta_data', 'xnatpy:catalogSets', 'xnat:ecgSessionData', 'xdat:primary_security_field', 'xnatpy:studyProtocolImagesessiontypesSession', 'xnatpy:PlexiViewerTypeViewableitemHi-resLayoutref', 'xnat:ioScanData', 'SchemaLinkType', 'xnatpy:PlexiViewerTypeViewableitemHi-res', 'xnat:eegSessionData', 'xnatpy:labelString', 'xnatpy:PlexiViewerTypeViewableitemSchemalink', 'xnatpy:xnatExecutionEnvironmentParameters', 'xnatpy:stored_searchSort_by', 'xnatpy:element_securityElement_actions', 'xnatpy:eegScanDataParameters', 'xnatpy:primary_security_fieldString', 'xnat:opSessionData', 'xnatpy:projectFieldspecifications', 'xnat_a:ygtssData', 'xnat:abstractDemographicData', 'xnatpy:ygtssDataMotor', 'xnat:petScanData', 'xnatpy:screeningAssessmentScans', 'xnatpy:primary_passwordString', 'xnatpy:scidResearchDataSomatoformdisorders', 'wrk:workflowData', 'xnatpy:PlexiViewerTypeViewableitemThumbnail', 'xnatpy:updrs3DataTremorrest', 'xnatpy:eegScanDataParametersDatarecord', 'xnatpy:fieldDefinitionGroupFieldsFieldPossiblevaluesPossiblevalue', 'xnatpy:pipelineDetailsGenerateselements', 'xnatpy:fieldSpecificationString', 'xnat:eegScanData', 'xnatpy:petScanDataParametersFramesFrame', 'xnatpy:reconstructedImageDataIn', 'xnatpy:ygtssDataPhonic', 'xnat:imageAssessorData', 'xnat:mrQcScanData', 'xnat:pVisitData', 'xnatpy:protocolDataCheckConditionsCondition', 'xnatpy:statisticsDataAdditionalstatistics', 'cat:dcmCatalog', 'cat:dcmEntry', 'scr:screeningScanData', 'xnatpy:dcmCatalogVoxelres', 'xnatpy:projectPipelinesDescendants', 'xdat:search_field', 'xnat:computationData', 'xnat:imageSessionData', 'xnat_a:sideEffectsPittsburghData', 'xnat:ecgScanData', 'wrk:xnatExecutionEnvironment', 'xnatpy:petmrSessionDataTracerIntermediate', 'xnatpy:tagString', 'xnatpy:volumetricRegionSubregions', 'xnat:xcSessionData', 'xnat:esSessionData', 'xnat:esScanData', 'xnatpy:entryMetafieldsMetafield', 'xnatpy:petScanDataParametersFrames', 'xnatpy:xaScanDataParametersFov', 'arc:pipelineParameterData', 'xnatpy:reconstructedImageDataOut', 'xnatpy:updrs3DataActionposturaltremor', 'xnatpy:protocolDataScans', 'xnatpy:optScanDataDcmvalidation', 'xnatpy:scidResearchDataMoodepisodes', 'xnat:resource', 'xnat:genericData', 'xnatpy:projectDataFields', 'xnat:xcvSessionData', 'xnatpy:ctScanDataParametersRescale', 'xnatpy:projectPipelinesPipeline', 'xnat:dx3DCraniofacialSessionData', 'xnat:demographicData', 'xnatpy:mrScanDataParametersDiffusion', 'xnat:subjectMetadata', 'xnatpy:eegScanDataChannelsChannel', 'xnatpy:derivationString', 'xnat:gmvScanData', 'xdat:field_mapping_set', 'xnatpy:imageAssessorDataOut', 'xnatpy:processStepProgram', 'xnatpy:PlexiViewerTypeViewableitemLo-resParameter', 'xnat:petQcScanData', 'xnatpy:regionResourceCreator', 'PlexiViewerType', 'xnatpy:statisticsDataAddfield', 'xnatpy:experimentDataFieldsField', 'xnatpy:updrs3DataClicker', 'xnatpy:eegScanDataSoftwarefiltersimpedancesImpedance', 'xnatpy:subjectVariablesDataVariables', 'xnatpy:element_securityListing_actionsListing_action', 'xnat:esvScanData', 'xnatpy:propertyString', 'xdat:user', 'xnatpy:scidResearchDataPsychoticsymptoms', 'xdat:history', 'xnatpy:qcAssessmentDataScans', 'xnatpy:subjectDataExperiments', 'xnatpy:isotopeString', 'xnatpy:ctScanDataParametersFocalspots', 'xdat:LONGVARCHAR', 'xnatpy:xaScanDataParameters', 'xnat:contrastBolus', 'xnatpy:possibleValueString', 'xnat:mgSessionData', 'xnatpy:imageSessionDataAssessors', 'xnatpy:volumetricRegionSubregionsSubregion', 'xnat:usSessionData', 'xnat:otherQcScanData', 'xnatpy:scidResearchDataAnxietydisorders', 'xnatpy:optScanDataParametersFov', 'xnat:usScanData', 'xnatpy:pipelineDataParameters', 'xnatpy:projectPipelines', 'xnat:gmSessionData', 'xnat_a:scidResearchData', 'xnatpy:entryTags', 'xnatpy:commentString', 'xnatpy:protocolDataScansScan_checkConditions', 'xnatpy:SubQueryFieldMappingcolumns', 'xnat:optSessionData', 'xnat:experimentData', 'xnatpy:petmrSessionDataTracer', 'xnatpy:ctScanDataParametersCollimationwidth', 'xnatpy:scidResearchDataEatingdisorders', 'xnatpy:datatypeProtocolDefinitions', 'xnatpy:protocolDataCheckConditions', 'arc:pipelineData', 'arc:project', 'xnatpy:demographicDataHeight', 'display:SubQueryField', 'xnatpy:scannerString', 'xnatpy:ratingString', 'xnat:qcManualAssessorData', 'xnatpy:delayInteger', 'xnatpy:LayoutDescriptionCoordinates', 'xnat:fieldDefinitionGroup', 'xnatpy:catalogEntries', 'xnat:xaScanData', 'xnatpy:protocolDataScansScan_checkConditionsCondition', 'xnat:algorithm', 'xnat:petmrSessionData', 'xnatpy:ctScanDataParametersVoxelres', 'xnatpy:processStepCompiler', 'xnatpy:petScanDataEcatvalidation', 'xnatpy:updrs3DataFoottaps', 'xnatpy:experimentDataDelay', 'xnat:dx3DCraniofacialScanData', 'val:protocolData', 'xnatpy:petQcScanDataProcessingerrors', 'xnatpy:programString', 'xnat:megScanData', 'xnatpy:projectPipelinesDescendantsDescendantPipeline', 'xnatpy:mrScanDataParametersVoxelres', 'xnatpy:parameterString', 'xnat:abstractResource', 'xnat:petAssessorData', 'xnatpy:metaFieldString', 'xnat:smScanData', 'xnatpy:dcmCatalogDimensions', 'display:HTML-Cell', 'xnatpy:ecatValidationString', 'xnat:ctScanData', 'xnatpy:SubQueryFieldMappingcolumnsMappingcolumn', 'xnatpy:fieldString', 'xnatpy:imageResourceDimensions', 'xnat:imageResourceSeries', 'xnat:datatypeProtocol', 'xnatpy:ctScanDataParameters', 'xnatpy:dicomSeriesImageset', 'xnatpy:PlexiViewerTypeViewableitemHi-resLayer'}\n"
     ]
    },
    {
     "name": "stderr",
     "output_type": "stream",
     "text": [
      "[2020-02-17 08:50:19,516] INFO: convert_xsd:1356 >> Removing class xnatpy:roiCollectionDataReferences from parser, it only has one element!\n",
      "[2020-02-17 08:50:19,517] INFO: convert_xsd:1356 >> Removing class xnatpy:role_typeAllowed_actions from parser, it only has one element!\n",
      "[2020-02-17 08:50:19,517] INFO: convert_xsd:1356 >> Removing class xnatpy:element_securityPrimary_security_fields from parser, it only has one element!\n",
      "[2020-02-17 08:50:19,518] INFO: convert_xsd:1356 >> Removing class xnatpy:element_securityElement_actions from parser, it only has one element!\n",
      "[2020-02-17 08:50:19,518] INFO: convert_xsd:1356 >> Removing class xnatpy:element_securityListing_actions from parser, it only has one element!\n",
      "[2020-02-17 08:50:19,519] DEBUG: convert_xsd:1362 >> Ignoring non-listing...\n",
      "[2020-02-17 08:50:19,519] DEBUG: convert_xsd:1363 >> Element class: {'parser': <xnat.convert_xsd.SchemaParser object at 0x0000013ADA0E7348>, 'name': 'xnatpy:userPrimary_password', 'logger': <Logger xnat-4315f9d139004d953d804b4ecc4dd62a (DEBUG)>, 'field_name': 'primary_password', 'parent_class': 'xdat:user', 'parent_property': <AttributePrototype [subobject] primary_password>, 'attributes': OrderedDict([('encrypt', <AttributePrototype [property] encrypt>)]), 'base_class': 'xnatpy:primary_passwordString', 'display_identifier': None, 'abstract': False, '_simple': False, '_writer': None, 'source_schema': '/xapi/schemas/security'}\n",
      "[2020-02-17 08:50:19,520] INFO: convert_xsd:1356 >> Removing class xnatpy:userAssigned_roles from parser, it only has one element!\n",
      "[2020-02-17 08:50:19,520] INFO: convert_xsd:1356 >> Removing class xnatpy:userGroups from parser, it only has one element!\n",
      "[2020-02-17 08:50:19,520] DEBUG: convert_xsd:1362 >> Ignoring non-listing...\n",
      "[2020-02-17 08:50:19,521] DEBUG: convert_xsd:1363 >> Element class: {'parser': <xnat.convert_xsd.SchemaParser object at 0x0000013ADA0E7348>, 'name': 'xnatpy:stored_searchAllowed_user', 'logger': <Logger xnat-4315f9d139004d953d804b4ecc4dd62a (DEBUG)>, 'field_name': 'allowed_user', 'parent_class': 'xdat:stored_search', 'parent_property': <AttributePrototype [listing] allowed_user>, 'attributes': OrderedDict([('login', <AttributePrototype [property] login>)]), 'base_class': None, 'display_identifier': None, 'abstract': False, '_simple': False, '_writer': None, 'source_schema': '/xapi/schemas/security'}\n",
      "[2020-02-17 08:50:19,521] INFO: convert_xsd:1356 >> Removing class xnatpy:stored_searchAllowed_groups from parser, it only has one element!\n",
      "[2020-02-17 08:50:19,521] INFO: convert_xsd:1356 >> Removing class xnatpy:projectDataAliases from parser, it only has one element!\n",
      "[2020-02-17 08:50:19,522] INFO: convert_xsd:1356 >> Removing class xnatpy:projectDataPublications from parser, it only has one element!\n",
      "[2020-02-17 08:50:19,522] INFO: convert_xsd:1356 >> Removing class xnatpy:projectDataResources from parser, it only has one element!\n",
      "[2020-02-17 08:50:19,523] INFO: convert_xsd:1356 >> Removing class xnatpy:projectDataInvestigators from parser, it only has one element!\n",
      "[2020-02-17 08:50:19,523] INFO: convert_xsd:1356 >> Removing class xnatpy:projectDataFields from parser, it only has one element!\n",
      "[2020-02-17 08:50:19,524] DEBUG: convert_xsd:1362 >> Ignoring non-listing...\n",
      "[2020-02-17 08:50:19,524] DEBUG: convert_xsd:1363 >> Element class: {'parser': <xnat.convert_xsd.SchemaParser object at 0x0000013ADA0E7348>, 'name': 'xnatpy:projectDataAliases', 'logger': <Logger xnat-4315f9d139004d953d804b4ecc4dd62a (DEBUG)>, 'field_name': 'aliases/alias', 'parent_class': 'xnat:projectData', 'parent_property': <AttributePrototype [listing] aliases>, 'attributes': OrderedDict([('source', <AttributePrototype [property] source>)]), 'base_class': 'xnatpy:aliasString', 'display_identifier': None, 'abstract': False, '_simple': False, '_writer': None, 'source_schema': '/xapi/schemas/xnat'}\n",
      "[2020-02-17 08:50:19,525] DEBUG: convert_xsd:1362 >> Ignoring non-listing...\n",
      "[2020-02-17 08:50:19,525] DEBUG: convert_xsd:1363 >> Element class: {'parser': <xnat.convert_xsd.SchemaParser object at 0x0000013ADA0E7348>, 'name': 'xnatpy:projectDataFields', 'logger': <Logger xnat-4315f9d139004d953d804b4ecc4dd62a (DEBUG)>, 'field_name': 'fields/field', 'parent_class': 'xnat:projectData', 'parent_property': <AttributePrototype [listing] fields>, 'attributes': OrderedDict([('name', <AttributePrototype [property] name>)]), 'base_class': 'xnatpy:fieldString', 'display_identifier': None, 'abstract': False, '_simple': False, '_writer': None, 'source_schema': '/xapi/schemas/xnat'}\n",
      "[2020-02-17 08:50:19,525] INFO: convert_xsd:1356 >> Removing class xnatpy:subjectDataSharing from parser, it only has one element!\n",
      "[2020-02-17 08:50:19,526] INFO: convert_xsd:1356 >> Removing class xnatpy:subjectDataResources from parser, it only has one element!\n",
      "[2020-02-17 08:50:19,526] DEBUG: convert_xsd:1362 >> Ignoring non-listing...\n",
      "[2020-02-17 08:50:19,526] DEBUG: convert_xsd:1363 >> Element class: {'parser': <xnat.convert_xsd.SchemaParser object at 0x0000013ADA0E7348>, 'name': 'xnatpy:subjectDataAddid', 'logger': <Logger xnat-4315f9d139004d953d804b4ecc4dd62a (DEBUG)>, 'field_name': 'addID', 'parent_class': 'xnat:subjectData', 'parent_property': <AttributePrototype [listing] addID>, 'attributes': OrderedDict([('name', <AttributePrototype [property] name>)]), 'base_class': 'xnatpy:addIDString', 'display_identifier': None, 'abstract': False, '_simple': False, '_writer': None, 'source_schema': '/xapi/schemas/xnat'}\n",
      "[2020-02-17 08:50:19,527] INFO: convert_xsd:1356 >> Removing class xnatpy:subjectDataFields from parser, it only has one element!\n",
      "[2020-02-17 08:50:19,528] INFO: convert_xsd:1356 >> Removing class xnatpy:subjectDataExperiments from parser, it only has one element!\n",
      "[2020-02-17 08:50:19,528] DEBUG: convert_xsd:1362 >> Ignoring non-listing...\n",
      "[2020-02-17 08:50:19,529] DEBUG: convert_xsd:1363 >> Element class: {'parser': <xnat.convert_xsd.SchemaParser object at 0x0000013ADA0E7348>, 'name': 'xnatpy:subjectDataFields', 'logger': <Logger xnat-4315f9d139004d953d804b4ecc4dd62a (DEBUG)>, 'field_name': 'fields/field', 'parent_class': 'xnat:subjectData', 'parent_property': <AttributePrototype [listing] fields>, 'attributes': OrderedDict([('name', <AttributePrototype [property] name>)]), 'base_class': 'xnatpy:fieldString', 'display_identifier': None, 'abstract': False, '_simple': False, '_writer': None, 'source_schema': '/xapi/schemas/xnat'}\n",
      "[2020-02-17 08:50:19,529] INFO: convert_xsd:1356 >> Removing class xnatpy:experimentDataSharing from parser, it only has one element!\n",
      "[2020-02-17 08:50:19,530] DEBUG: convert_xsd:1362 >> Ignoring non-listing...\n",
      "[2020-02-17 08:50:19,530] DEBUG: convert_xsd:1363 >> Element class: {'parser': <xnat.convert_xsd.SchemaParser object at 0x0000013ADA0E7348>, 'name': 'xnatpy:experimentDataDelay', 'logger': <Logger xnat-4315f9d139004d953d804b4ecc4dd62a (DEBUG)>, 'field_name': 'delay', 'parent_class': 'xnat:experimentData', 'parent_property': <AttributePrototype [subobject] delay>, 'attributes': OrderedDict([('ref_expt_id', <AttributePrototype [property] ref_expt_id>)]), 'base_class': 'xnatpy:delayInteger', 'display_identifier': None, 'abstract': False, '_simple': False, '_writer': None, 'source_schema': '/xapi/schemas/xnat'}\n",
      "[2020-02-17 08:50:19,531] INFO: convert_xsd:1356 >> Removing class xnatpy:experimentDataResources from parser, it only has one element!\n",
      "[2020-02-17 08:50:19,531] INFO: convert_xsd:1356 >> Removing class xnatpy:experimentDataFields from parser, it only has one element!\n",
      "[2020-02-17 08:50:19,532] DEBUG: convert_xsd:1362 >> Ignoring non-listing...\n",
      "[2020-02-17 08:50:19,532] DEBUG: convert_xsd:1363 >> Element class: {'parser': <xnat.convert_xsd.SchemaParser object at 0x0000013ADA0E7348>, 'name': 'xnatpy:experimentDataFields', 'logger': <Logger xnat-4315f9d139004d953d804b4ecc4dd62a (DEBUG)>, 'field_name': 'fields/field', 'parent_class': 'xnat:experimentData', 'parent_property': <AttributePrototype [listing] fields>, 'attributes': OrderedDict([('name', <AttributePrototype [property] name>)]), 'base_class': 'xnatpy:fieldString', 'display_identifier': None, 'abstract': False, '_simple': False, '_writer': None, 'source_schema': '/xapi/schemas/xnat'}\n",
      "[2020-02-17 08:50:19,533] DEBUG: convert_xsd:1362 >> Ignoring non-listing...\n"
     ]
    },
    {
     "name": "stderr",
     "output_type": "stream",
     "text": [
      "[2020-02-17 08:50:19,533] DEBUG: convert_xsd:1363 >> Element class: {'parser': <xnat.convert_xsd.SchemaParser object at 0x0000013ADA0E7348>, 'name': 'xnatpy:demographicDataWeight', 'logger': <Logger xnat-4315f9d139004d953d804b4ecc4dd62a (DEBUG)>, 'field_name': 'weight', 'parent_class': 'xnat:demographicData', 'parent_property': <AttributePrototype [subobject] weight>, 'attributes': OrderedDict([('units', <AttributePrototype [property] units>)]), 'base_class': 'xnatpy:weightFloat', 'display_identifier': None, 'abstract': False, '_simple': False, '_writer': None, 'source_schema': '/xapi/schemas/xnat'}\n",
      "[2020-02-17 08:50:19,534] DEBUG: convert_xsd:1362 >> Ignoring non-listing...\n",
      "[2020-02-17 08:50:19,534] DEBUG: convert_xsd:1363 >> Element class: {'parser': <xnat.convert_xsd.SchemaParser object at 0x0000013ADA0E7348>, 'name': 'xnatpy:demographicDataHeight', 'logger': <Logger xnat-4315f9d139004d953d804b4ecc4dd62a (DEBUG)>, 'field_name': 'height', 'parent_class': 'xnat:demographicData', 'parent_property': <AttributePrototype [subobject] height>, 'attributes': OrderedDict([('units', <AttributePrototype [property] units>)]), 'base_class': 'xnatpy:heightFloat', 'display_identifier': None, 'abstract': False, '_simple': False, '_writer': None, 'source_schema': '/xapi/schemas/xnat'}\n",
      "[2020-02-17 08:50:19,535] INFO: convert_xsd:1356 >> Removing class xnatpy:subjectVariablesDataVariables from parser, it only has one element!\n",
      "[2020-02-17 08:50:19,535] DEBUG: convert_xsd:1362 >> Ignoring non-listing...\n",
      "[2020-02-17 08:50:19,536] DEBUG: convert_xsd:1363 >> Element class: {'parser': <xnat.convert_xsd.SchemaParser object at 0x0000013ADA0E7348>, 'name': 'xnatpy:subjectVariablesDataVariables', 'logger': <Logger xnat-4315f9d139004d953d804b4ecc4dd62a (DEBUG)>, 'field_name': 'variables/variable', 'parent_class': 'xnat:subjectVariablesData', 'parent_property': <AttributePrototype [listing] variables>, 'attributes': OrderedDict([('name', <AttributePrototype [property] name>)]), 'base_class': 'xnatpy:variableString', 'display_identifier': None, 'abstract': False, '_simple': False, '_writer': None, 'source_schema': '/xapi/schemas/xnat'}\n",
      "[2020-02-17 08:50:19,536] INFO: convert_xsd:1356 >> Removing class xnatpy:imageSessionDataRegions from parser, it only has one element!\n",
      "[2020-02-17 08:50:19,537] INFO: convert_xsd:1356 >> Removing class xnatpy:imageSessionDataScans from parser, it only has one element!\n",
      "[2020-02-17 08:50:19,537] INFO: convert_xsd:1356 >> Removing class xnatpy:imageSessionDataReconstructions from parser, it only has one element!\n",
      "[2020-02-17 08:50:19,538] INFO: convert_xsd:1356 >> Removing class xnatpy:imageSessionDataAssessors from parser, it only has one element!\n",
      "[2020-02-17 08:50:19,538] DEBUG: convert_xsd:1362 >> Ignoring non-listing...\n",
      "[2020-02-17 08:50:19,539] DEBUG: convert_xsd:1363 >> Element class: {'parser': <xnat.convert_xsd.SchemaParser object at 0x0000013ADA0E7348>, 'name': 'xnatpy:mrScanDataDcmvalidation', 'logger': <Logger xnat-4315f9d139004d953d804b4ecc4dd62a (DEBUG)>, 'field_name': 'dcmValidation', 'parent_class': 'xnat:mrScanData', 'parent_property': <AttributePrototype [subobject] dcmValidation>, 'attributes': OrderedDict([('status', <AttributePrototype [property] status>)]), 'base_class': 'xnatpy:dcmValidationString', 'display_identifier': None, 'abstract': False, '_simple': False, '_writer': None, 'source_schema': '/xapi/schemas/xnat'}\n",
      "[2020-02-17 08:50:19,539] INFO: convert_xsd:1356 >> Removing class xnatpy:reconstructedImageDataInscans from parser, it only has one element!\n",
      "[2020-02-17 08:50:19,540] INFO: convert_xsd:1356 >> Removing class xnatpy:reconstructedImageDataIn from parser, it only has one element!\n",
      "[2020-02-17 08:50:19,540] INFO: convert_xsd:1356 >> Removing class xnatpy:reconstructedImageDataOut from parser, it only has one element!\n",
      "[2020-02-17 08:50:19,541] INFO: convert_xsd:1356 >> Removing class xnatpy:reconstructedImageDataParameters from parser, it only has one element!\n",
      "[2020-02-17 08:50:19,541] INFO: convert_xsd:1356 >> Removing class xnatpy:reconstructedImageDataComputations from parser, it only has one element!\n",
      "[2020-02-17 08:50:19,541] INFO: convert_xsd:1356 >> Removing class xnatpy:volumetricRegionSubregions from parser, it only has one element!\n",
      "[2020-02-17 08:50:19,542] INFO: convert_xsd:1356 >> Removing class xnatpy:abstractResourceTags from parser, it only has one element!\n",
      "[2020-02-17 08:50:19,542] DEBUG: convert_xsd:1362 >> Ignoring non-listing...\n",
      "[2020-02-17 08:50:19,543] DEBUG: convert_xsd:1363 >> Element class: {'parser': <xnat.convert_xsd.SchemaParser object at 0x0000013ADA0E7348>, 'name': 'xnatpy:abstractResourceTags', 'logger': <Logger xnat-4315f9d139004d953d804b4ecc4dd62a (DEBUG)>, 'field_name': 'tags/tag', 'parent_class': 'xnat:abstractResource', 'parent_property': <AttributePrototype [listing] tags>, 'attributes': OrderedDict([('name', <AttributePrototype [property] name>)]), 'base_class': 'xnatpy:tagString', 'display_identifier': None, 'abstract': False, '_simple': False, '_writer': None, 'source_schema': '/xapi/schemas/xnat'}\n",
      "[2020-02-17 08:50:19,544] INFO: convert_xsd:1356 >> Removing class xnatpy:dicomSeriesImageset from parser, it only has one element!\n",
      "[2020-02-17 08:50:19,544] INFO: convert_xsd:1356 >> Removing class xnatpy:studyProtocolAcqconditions from parser, it only has one element!\n",
      "[2020-02-17 08:50:19,545] INFO: convert_xsd:1356 >> Removing class xnatpy:studyProtocolSubjectgroups from parser, it only has one element!\n",
      "[2020-02-17 08:50:19,546] INFO: convert_xsd:1356 >> Removing class xnatpy:studyProtocolSubjectvariables from parser, it only has one element!\n",
      "[2020-02-17 08:50:19,546] INFO: convert_xsd:1356 >> Removing class xnatpy:studyProtocolImagesessiontypes from parser, it only has one element!\n",
      "[2020-02-17 08:50:19,546] DEBUG: convert_xsd:1362 >> Ignoring non-listing...\n",
      "[2020-02-17 08:50:19,546] DEBUG: convert_xsd:1363 >> Element class: {'parser': <xnat.convert_xsd.SchemaParser object at 0x0000013ADA0E7348>, 'name': 'xnatpy:petSessionDataTracerDose', 'logger': <Logger xnat-4315f9d139004d953d804b4ecc4dd62a (DEBUG)>, 'field_name': 'dose', 'parent_class': 'xnatpy:petSessionDataTracer', 'parent_property': <AttributePrototype [subobject] dose>, 'attributes': OrderedDict([('units', <AttributePrototype [property] units>)]), 'base_class': 'xnatpy:doseFloat', 'display_identifier': None, 'abstract': False, '_simple': False, '_writer': None, 'source_schema': '/xapi/schemas/xnat'}\n",
      "[2020-02-17 08:50:19,547] DEBUG: convert_xsd:1362 >> Ignoring non-listing...\n",
      "[2020-02-17 08:50:19,547] DEBUG: convert_xsd:1363 >> Element class: {'parser': <xnat.convert_xsd.SchemaParser object at 0x0000013ADA0E7348>, 'name': 'xnatpy:petSessionDataTracerTotalmass', 'logger': <Logger xnat-4315f9d139004d953d804b4ecc4dd62a (DEBUG)>, 'field_name': 'totalMass', 'parent_class': 'xnatpy:petSessionDataTracer', 'parent_property': <AttributePrototype [subobject] totalMass>, 'attributes': OrderedDict([('units', <AttributePrototype [property] units>)]), 'base_class': 'xnatpy:totalMassFloat', 'display_identifier': None, 'abstract': False, '_simple': False, '_writer': None, 'source_schema': '/xapi/schemas/xnat'}\n",
      "[2020-02-17 08:50:19,547] DEBUG: convert_xsd:1362 >> Ignoring non-listing...\n",
      "[2020-02-17 08:50:19,548] DEBUG: convert_xsd:1363 >> Element class: {'parser': <xnat.convert_xsd.SchemaParser object at 0x0000013ADA0E7348>, 'name': 'xnatpy:petSessionDataTracerIntermediate', 'logger': <Logger xnat-4315f9d139004d953d804b4ecc4dd62a (DEBUG)>, 'field_name': 'intermediate', 'parent_class': 'xnatpy:petSessionDataTracer', 'parent_property': <AttributePrototype [subobject] intermediate>, 'attributes': OrderedDict([('units', <AttributePrototype [property] units>)]), 'base_class': 'xnatpy:intermediateFloat', 'display_identifier': None, 'abstract': False, '_simple': False, '_writer': None, 'source_schema': '/xapi/schemas/xnat'}\n",
      "[2020-02-17 08:50:19,548] DEBUG: convert_xsd:1362 >> Ignoring non-listing...\n",
      "[2020-02-17 08:50:19,549] DEBUG: convert_xsd:1363 >> Element class: {'parser': <xnat.convert_xsd.SchemaParser object at 0x0000013ADA0E7348>, 'name': 'xnatpy:petSessionDataTracerIsotope', 'logger': <Logger xnat-4315f9d139004d953d804b4ecc4dd62a (DEBUG)>, 'field_name': 'isotope', 'parent_class': 'xnatpy:petSessionDataTracer', 'parent_property': <AttributePrototype [subobject] isotope>, 'attributes': OrderedDict([('half-life', <AttributePrototype [property] half-life>)]), 'base_class': 'xnatpy:isotopeString', 'display_identifier': None, 'abstract': False, '_simple': False, '_writer': None, 'source_schema': '/xapi/schemas/xnat'}\n"
     ]
    },
    {
     "name": "stderr",
     "output_type": "stream",
     "text": [
      "[2020-02-17 08:50:19,549] DEBUG: convert_xsd:1362 >> Ignoring non-listing...\n",
      "[2020-02-17 08:50:19,550] DEBUG: convert_xsd:1363 >> Element class: {'parser': <xnat.convert_xsd.SchemaParser object at 0x0000013ADA0E7348>, 'name': 'xnatpy:petmrSessionDataTracerDose', 'logger': <Logger xnat-4315f9d139004d953d804b4ecc4dd62a (DEBUG)>, 'field_name': 'dose', 'parent_class': 'xnatpy:petmrSessionDataTracer', 'parent_property': <AttributePrototype [subobject] dose>, 'attributes': OrderedDict([('units', <AttributePrototype [property] units>)]), 'base_class': 'xnatpy:doseFloat', 'display_identifier': None, 'abstract': False, '_simple': False, '_writer': None, 'source_schema': '/xapi/schemas/xnat'}\n",
      "[2020-02-17 08:50:19,550] DEBUG: convert_xsd:1362 >> Ignoring non-listing...\n",
      "[2020-02-17 08:50:19,550] DEBUG: convert_xsd:1363 >> Element class: {'parser': <xnat.convert_xsd.SchemaParser object at 0x0000013ADA0E7348>, 'name': 'xnatpy:petmrSessionDataTracerTotalmass', 'logger': <Logger xnat-4315f9d139004d953d804b4ecc4dd62a (DEBUG)>, 'field_name': 'totalMass', 'parent_class': 'xnatpy:petmrSessionDataTracer', 'parent_property': <AttributePrototype [subobject] totalMass>, 'attributes': OrderedDict([('units', <AttributePrototype [property] units>)]), 'base_class': 'xnatpy:totalMassFloat', 'display_identifier': None, 'abstract': False, '_simple': False, '_writer': None, 'source_schema': '/xapi/schemas/xnat'}\n",
      "[2020-02-17 08:50:19,551] DEBUG: convert_xsd:1362 >> Ignoring non-listing...\n",
      "[2020-02-17 08:50:19,551] DEBUG: convert_xsd:1363 >> Element class: {'parser': <xnat.convert_xsd.SchemaParser object at 0x0000013ADA0E7348>, 'name': 'xnatpy:petmrSessionDataTracerIntermediate', 'logger': <Logger xnat-4315f9d139004d953d804b4ecc4dd62a (DEBUG)>, 'field_name': 'intermediate', 'parent_class': 'xnatpy:petmrSessionDataTracer', 'parent_property': <AttributePrototype [subobject] intermediate>, 'attributes': OrderedDict([('units', <AttributePrototype [property] units>)]), 'base_class': 'xnatpy:intermediateFloat', 'display_identifier': None, 'abstract': False, '_simple': False, '_writer': None, 'source_schema': '/xapi/schemas/xnat'}\n",
      "[2020-02-17 08:50:19,551] DEBUG: convert_xsd:1362 >> Ignoring non-listing...\n",
      "[2020-02-17 08:50:19,552] DEBUG: convert_xsd:1363 >> Element class: {'parser': <xnat.convert_xsd.SchemaParser object at 0x0000013ADA0E7348>, 'name': 'xnatpy:petmrSessionDataTracerIsotope', 'logger': <Logger xnat-4315f9d139004d953d804b4ecc4dd62a (DEBUG)>, 'field_name': 'isotope', 'parent_class': 'xnatpy:petmrSessionDataTracer', 'parent_property': <AttributePrototype [subobject] isotope>, 'attributes': OrderedDict([('half-life', <AttributePrototype [property] half-life>)]), 'base_class': 'xnatpy:isotopeString', 'display_identifier': None, 'abstract': False, '_simple': False, '_writer': None, 'source_schema': '/xapi/schemas/xnat'}\n",
      "[2020-02-17 08:50:19,552] DEBUG: convert_xsd:1362 >> Ignoring non-listing...\n",
      "[2020-02-17 08:50:19,552] DEBUG: convert_xsd:1363 >> Element class: {'parser': <xnat.convert_xsd.SchemaParser object at 0x0000013ADA0E7348>, 'name': 'xnatpy:petScanDataEcatvalidation', 'logger': <Logger xnat-4315f9d139004d953d804b4ecc4dd62a (DEBUG)>, 'field_name': 'ecatValidation', 'parent_class': 'xnat:petScanData', 'parent_property': <AttributePrototype [subobject] ecatValidation>, 'attributes': OrderedDict([('status', <AttributePrototype [property] status>)]), 'base_class': 'xnatpy:ecatValidationString', 'display_identifier': None, 'abstract': False, '_simple': False, '_writer': None, 'source_schema': '/xapi/schemas/xnat'}\n",
      "[2020-02-17 08:50:19,553] DEBUG: convert_xsd:1362 >> Ignoring non-listing...\n",
      "[2020-02-17 08:50:19,553] DEBUG: convert_xsd:1363 >> Element class: {'parser': <xnat.convert_xsd.SchemaParser object at 0x0000013ADA0E7348>, 'name': 'xnatpy:petScanDataParametersFilter', 'logger': <Logger xnat-4315f9d139004d953d804b4ecc4dd62a (DEBUG)>, 'field_name': 'filter', 'parent_class': 'xnatpy:petScanDataParameters', 'parent_property': <AttributePrototype [subobject] filter>, 'attributes': OrderedDict([('cutoff', <AttributePrototype [property] cutoff>)]), 'base_class': None, 'display_identifier': None, 'abstract': False, '_simple': False, '_writer': None, 'source_schema': '/xapi/schemas/xnat'}\n",
      "[2020-02-17 08:50:19,553] INFO: convert_xsd:1356 >> Removing class xnatpy:regionResourceSubregionlabels from parser, it only has one element!\n",
      "[2020-02-17 08:50:19,554] DEBUG: convert_xsd:1362 >> Ignoring non-listing...\n",
      "[2020-02-17 08:50:19,554] DEBUG: convert_xsd:1363 >> Element class: {'parser': <xnat.convert_xsd.SchemaParser object at 0x0000013ADA0E7348>, 'name': 'xnatpy:statisticsDataAdditionalstatistics', 'logger': <Logger xnat-4315f9d139004d953d804b4ecc4dd62a (DEBUG)>, 'field_name': 'additionalStatistics', 'parent_class': 'xnat:statisticsData', 'parent_property': <AttributePrototype [listing] additionalStatistics>, 'attributes': OrderedDict([('name', <AttributePrototype [property] name>)]), 'base_class': 'xnatpy:additionalStatisticsDouble', 'display_identifier': None, 'abstract': False, '_simple': False, '_writer': None, 'source_schema': '/xapi/schemas/xnat'}\n",
      "[2020-02-17 08:50:19,554] DEBUG: convert_xsd:1362 >> Ignoring non-listing...\n",
      "[2020-02-17 08:50:19,555] DEBUG: convert_xsd:1363 >> Element class: {'parser': <xnat.convert_xsd.SchemaParser object at 0x0000013ADA0E7348>, 'name': 'xnatpy:statisticsDataAddfield', 'logger': <Logger xnat-4315f9d139004d953d804b4ecc4dd62a (DEBUG)>, 'field_name': 'addField', 'parent_class': 'xnat:statisticsData', 'parent_property': <AttributePrototype [listing] addField>, 'attributes': OrderedDict([('name', <AttributePrototype [property] name>)]), 'base_class': 'xnatpy:addFieldString', 'display_identifier': None, 'abstract': False, '_simple': False, '_writer': None, 'source_schema': '/xapi/schemas/xnat'}\n",
      "[2020-02-17 08:50:19,555] INFO: convert_xsd:1356 >> Removing class xnatpy:qcAssessmentDataScans from parser, it only has one element!\n",
      "[2020-02-17 08:50:19,555] INFO: convert_xsd:1356 >> Removing class xnatpy:qcAssessmentDataScansScanSliceqc from parser, it only has one element!\n",
      "[2020-02-17 08:50:19,555] INFO: convert_xsd:1356 >> Removing class xnatpy:datatypeProtocolDefinitions from parser, it only has one element!\n",
      "[2020-02-17 08:50:19,556] INFO: convert_xsd:1356 >> Removing class xnatpy:fieldDefinitionGroupFields from parser, it only has one element!\n",
      "[2020-02-17 08:50:19,556] INFO: convert_xsd:1356 >> Removing class xnatpy:fieldDefinitionGroupFieldsFieldPossiblevalues from parser, it only has one element!\n",
      "[2020-02-17 08:50:19,556] DEBUG: convert_xsd:1362 >> Ignoring non-listing...\n",
      "[2020-02-17 08:50:19,557] DEBUG: convert_xsd:1363 >> Element class: {'parser': <xnat.convert_xsd.SchemaParser object at 0x0000013ADA0E7348>, 'name': 'xnatpy:fieldDefinitionGroupFieldsFieldPossiblevalues', 'logger': <Logger xnat-4315f9d139004d953d804b4ecc4dd62a (DEBUG)>, 'field_name': 'possibleValues/possibleValue', 'parent_class': 'xnatpy:fieldDefinitionGroupFieldsField', 'parent_property': <AttributePrototype [listing] possibleValues>, 'attributes': OrderedDict([('display', <AttributePrototype [property] display>)]), 'base_class': 'xnatpy:possibleValueString', 'display_identifier': None, 'abstract': False, '_simple': False, '_writer': None, 'source_schema': '/xapi/schemas/xnat'}\n",
      "[2020-02-17 08:50:19,557] INFO: convert_xsd:1356 >> Removing class xnatpy:imageAssessorDataIn from parser, it only has one element!\n",
      "[2020-02-17 08:50:19,557] INFO: convert_xsd:1356 >> Removing class xnatpy:imageAssessorDataOut from parser, it only has one element!\n",
      "[2020-02-17 08:50:19,557] INFO: convert_xsd:1356 >> Removing class xnatpy:imageAssessorDataParameters from parser, it only has one element!\n",
      "[2020-02-17 08:50:19,558] INFO: convert_xsd:1356 >> Removing class xnatpy:imageScanDataSharing from parser, it only has one element!\n",
      "[2020-02-17 08:50:19,558] DEBUG: convert_xsd:1362 >> Ignoring non-listing...\n",
      "[2020-02-17 08:50:19,559] DEBUG: convert_xsd:1363 >> Element class: {'parser': <xnat.convert_xsd.SchemaParser object at 0x0000013ADA0E7348>, 'name': 'xnatpy:ctScanDataDcmvalidation', 'logger': <Logger xnat-4315f9d139004d953d804b4ecc4dd62a (DEBUG)>, 'field_name': 'dcmValidation', 'parent_class': 'xnat:ctScanData', 'parent_property': <AttributePrototype [subobject] dcmValidation>, 'attributes': OrderedDict([('status', <AttributePrototype [property] status>)]), 'base_class': 'xnatpy:dcmValidationString', 'display_identifier': None, 'abstract': False, '_simple': False, '_writer': None, 'source_schema': '/xapi/schemas/xnat'}\n"
     ]
    },
    {
     "name": "stderr",
     "output_type": "stream",
     "text": [
      "[2020-02-17 08:50:19,559] INFO: convert_xsd:1356 >> Removing class xnatpy:ctScanDataParametersFocalspots from parser, it only has one element!\n",
      "[2020-02-17 08:50:19,560] DEBUG: convert_xsd:1362 >> Ignoring non-listing...\n",
      "[2020-02-17 08:50:19,560] DEBUG: convert_xsd:1363 >> Element class: {'parser': <xnat.convert_xsd.SchemaParser object at 0x0000013ADA0E7348>, 'name': 'xnatpy:ctScanDataParametersEstimateddosesaving', 'logger': <Logger xnat-4315f9d139004d953d804b4ecc4dd62a (DEBUG)>, 'field_name': 'estimatedDoseSaving', 'parent_class': 'xnatpy:ctScanDataParameters', 'parent_property': <AttributePrototype [subobject] estimatedDoseSaving>, 'attributes': OrderedDict([('modulation', <AttributePrototype [subobject] modulation>)]), 'base_class': 'xnatpy:estimatedDoseSavingFloat', 'display_identifier': None, 'abstract': False, '_simple': False, '_writer': None, 'source_schema': '/xapi/schemas/xnat'}\n",
      "[2020-02-17 08:50:19,560] DEBUG: convert_xsd:1362 >> Ignoring non-listing...\n",
      "[2020-02-17 08:50:19,561] DEBUG: convert_xsd:1363 >> Element class: {'parser': <xnat.convert_xsd.SchemaParser object at 0x0000013ADA0E7348>, 'name': 'xnatpy:optScanDataDcmvalidation', 'logger': <Logger xnat-4315f9d139004d953d804b4ecc4dd62a (DEBUG)>, 'field_name': 'dcmValidation', 'parent_class': 'xnat:optScanData', 'parent_property': <AttributePrototype [subobject] dcmValidation>, 'attributes': OrderedDict([('status', <AttributePrototype [property] status>)]), 'base_class': 'xnatpy:dcmValidationString', 'display_identifier': None, 'abstract': False, '_simple': False, '_writer': None, 'source_schema': '/xapi/schemas/xnat'}\n",
      "[2020-02-17 08:50:19,561] DEBUG: convert_xsd:1362 >> Ignoring non-listing...\n",
      "[2020-02-17 08:50:19,562] DEBUG: convert_xsd:1363 >> Element class: {'parser': <xnat.convert_xsd.SchemaParser object at 0x0000013ADA0E7348>, 'name': 'xnatpy:qcScanDataRating', 'logger': <Logger xnat-4315f9d139004d953d804b4ecc4dd62a (DEBUG)>, 'field_name': 'rating', 'parent_class': 'xnat:qcScanData', 'parent_property': <AttributePrototype [subobject] rating>, 'attributes': OrderedDict([('scale', <AttributePrototype [property] scale>)]), 'base_class': 'xnatpy:ratingString', 'display_identifier': None, 'abstract': False, '_simple': False, '_writer': None, 'source_schema': '/xapi/schemas/xnat'}\n",
      "[2020-02-17 08:50:19,562] INFO: convert_xsd:1356 >> Removing class xnatpy:qcScanDataFields from parser, it only has one element!\n",
      "[2020-02-17 08:50:19,563] DEBUG: convert_xsd:1362 >> Ignoring non-listing...\n",
      "[2020-02-17 08:50:19,563] DEBUG: convert_xsd:1363 >> Element class: {'parser': <xnat.convert_xsd.SchemaParser object at 0x0000013ADA0E7348>, 'name': 'xnatpy:qcScanDataFields', 'logger': <Logger xnat-4315f9d139004d953d804b4ecc4dd62a (DEBUG)>, 'field_name': 'fields/field', 'parent_class': 'xnat:qcScanData', 'parent_property': <AttributePrototype [listing] fields>, 'attributes': OrderedDict([('name', <AttributePrototype [property] name>)]), 'base_class': 'xnatpy:fieldString', 'display_identifier': None, 'abstract': False, '_simple': False, '_writer': None, 'source_schema': '/xapi/schemas/xnat'}\n",
      "[2020-02-17 08:50:19,564] INFO: convert_xsd:1356 >> Removing class xnatpy:petQcScanDataProcessingerrors from parser, it only has one element!\n",
      "[2020-02-17 08:50:19,565] INFO: convert_xsd:1356 >> Removing class xnatpy:qcManualAssessorDataScans from parser, it only has one element!\n",
      "[2020-02-17 08:50:19,566] DEBUG: convert_xsd:1362 >> Ignoring non-listing...\n",
      "[2020-02-17 08:50:19,566] DEBUG: convert_xsd:1363 >> Element class: {'parser': <xnat.convert_xsd.SchemaParser object at 0x0000013ADA0E7348>, 'name': 'xnatpy:eegSessionDataSamplingrate', 'logger': <Logger xnat-4315f9d139004d953d804b4ecc4dd62a (DEBUG)>, 'field_name': 'samplingRate', 'parent_class': 'xnat:eegSessionData', 'parent_property': <AttributePrototype [subobject] samplingRate>, 'attributes': OrderedDict([('units', <AttributePrototype [property] units>)]), 'base_class': 'xnatpy:samplingRateFloat', 'display_identifier': None, 'abstract': False, '_simple': False, '_writer': None, 'source_schema': '/xapi/schemas/xnat'}\n",
      "[2020-02-17 08:50:19,567] DEBUG: convert_xsd:1362 >> Ignoring non-listing...\n",
      "[2020-02-17 08:50:19,568] DEBUG: convert_xsd:1363 >> Element class: {'parser': <xnat.convert_xsd.SchemaParser object at 0x0000013ADA0E7348>, 'name': 'xnatpy:eegSessionDataSamplinginterval', 'logger': <Logger xnat-4315f9d139004d953d804b4ecc4dd62a (DEBUG)>, 'field_name': 'samplingInterval', 'parent_class': 'xnat:eegSessionData', 'parent_property': <AttributePrototype [subobject] samplingInterval>, 'attributes': OrderedDict([('units', <AttributePrototype [property] units>)]), 'base_class': 'xnatpy:samplingIntervalFloat', 'display_identifier': None, 'abstract': False, '_simple': False, '_writer': None, 'source_schema': '/xapi/schemas/xnat'}\n",
      "[2020-02-17 08:50:19,568] INFO: convert_xsd:1356 >> Removing class xnatpy:eegScanDataChannels from parser, it only has one element!\n",
      "[2020-02-17 08:50:19,569] INFO: convert_xsd:1356 >> Removing class xnatpy:screeningAssessmentScans from parser, it only has one element!\n",
      "[2020-02-17 08:50:19,569] DEBUG: convert_xsd:1362 >> Ignoring non-listing...\n",
      "[2020-02-17 08:50:19,570] DEBUG: convert_xsd:1363 >> Element class: {'parser': <xnat.convert_xsd.SchemaParser object at 0x0000013ADA0E7348>, 'name': 'xnatpy:imageSessionDataPipeline', 'logger': <Logger xnat-4315f9d139004d953d804b4ecc4dd62a (DEBUG)>, 'field_name': 'pipeline', 'parent_class': 'build:imageSessionData', 'parent_property': <AttributePrototype [listing] pipeline>, 'attributes': OrderedDict([('stepId', <AttributePrototype [property] stepId>)]), 'base_class': 'build:pipelineData', 'display_identifier': None, 'abstract': False, '_simple': False, '_writer': None, 'source_schema': '/xapi/schemas/pipeline/build'}\n",
      "[2020-02-17 08:50:19,571] INFO: convert_xsd:1356 >> Removing class xnatpy:pipelineDetailsGenerateselements from parser, it only has one element!\n",
      "[2020-02-17 08:50:19,571] INFO: convert_xsd:1356 >> Removing class xnatpy:pipelineDetailsParameters from parser, it only has one element!\n",
      "[2020-02-17 08:50:19,572] INFO: convert_xsd:1356 >> Removing class xnatpy:xnatExecutionEnvironmentParameters from parser, it only has one element!\n",
      "[2020-02-17 08:50:19,573] DEBUG: convert_xsd:1362 >> Ignoring non-listing...\n",
      "[2020-02-17 08:50:19,574] DEBUG: convert_xsd:1363 >> Element class: {'parser': <xnat.convert_xsd.SchemaParser object at 0x0000013ADA0E7348>, 'name': 'xnatpy:xnatExecutionEnvironmentParameters', 'logger': <Logger xnat-4315f9d139004d953d804b4ecc4dd62a (DEBUG)>, 'field_name': 'parameters/parameter', 'parent_class': 'wrk:xnatExecutionEnvironment', 'parent_property': <AttributePrototype [listing] parameters>, 'attributes': OrderedDict([('name', <AttributePrototype [property] name>)]), 'base_class': 'xnatpy:parameterString', 'display_identifier': None, 'abstract': False, '_simple': False, '_writer': None, 'source_schema': '/xapi/schemas/pipeline/workflow'}\n",
      "[2020-02-17 08:50:19,574] DEBUG: convert_xsd:1362 >> Ignoring non-listing...\n",
      "[2020-02-17 08:50:19,575] DEBUG: convert_xsd:1363 >> Element class: {'parser': <xnat.convert_xsd.SchemaParser object at 0x0000013ADA0E7348>, 'name': 'xnatpy:processStepPlatform', 'logger': <Logger xnat-4315f9d139004d953d804b4ecc4dd62a (DEBUG)>, 'field_name': 'platform', 'parent_class': 'prov:processStep', 'parent_property': <AttributePrototype [subobject] platform>, 'attributes': OrderedDict([('version', <AttributePrototype [property] version>)]), 'base_class': 'xnatpy:platformString', 'display_identifier': None, 'abstract': False, '_simple': False, '_writer': None, 'source_schema': '/xapi/schemas/birn/birnprov'}\n",
      "[2020-02-17 08:50:19,576] DEBUG: convert_xsd:1362 >> Ignoring non-listing...\n",
      "[2020-02-17 08:50:19,576] DEBUG: convert_xsd:1363 >> Element class: {'parser': <xnat.convert_xsd.SchemaParser object at 0x0000013ADA0E7348>, 'name': 'xnatpy:processStepCompiler', 'logger': <Logger xnat-4315f9d139004d953d804b4ecc4dd62a (DEBUG)>, 'field_name': 'compiler', 'parent_class': 'prov:processStep', 'parent_property': <AttributePrototype [subobject] compiler>, 'attributes': OrderedDict([('version', <AttributePrototype [property] version>)]), 'base_class': 'xnatpy:compilerString', 'display_identifier': None, 'abstract': False, '_simple': False, '_writer': None, 'source_schema': '/xapi/schemas/birn/birnprov'}\n"
     ]
    },
    {
     "name": "stderr",
     "output_type": "stream",
     "text": [
      "[2020-02-17 08:50:19,577] DEBUG: convert_xsd:1362 >> Ignoring non-listing...\n",
      "[2020-02-17 08:50:19,577] DEBUG: convert_xsd:1363 >> Element class: {'parser': <xnat.convert_xsd.SchemaParser object at 0x0000013ADA0E7348>, 'name': 'xnatpy:processStepLibrary', 'logger': <Logger xnat-4315f9d139004d953d804b4ecc4dd62a (DEBUG)>, 'field_name': 'library', 'parent_class': 'prov:processStep', 'parent_property': <AttributePrototype [listing] library>, 'attributes': OrderedDict([('version', <AttributePrototype [property] version>)]), 'base_class': 'xnatpy:libraryString', 'display_identifier': None, 'abstract': False, '_simple': False, '_writer': None, 'source_schema': '/xapi/schemas/birn/birnprov'}\n",
      "[2020-02-17 08:50:19,578] INFO: convert_xsd:1356 >> Removing class xnatpy:catalogMetafields from parser, it only has one element!\n",
      "[2020-02-17 08:50:19,579] INFO: convert_xsd:1356 >> Removing class xnatpy:catalogTags from parser, it only has one element!\n",
      "[2020-02-17 08:50:19,579] INFO: convert_xsd:1356 >> Removing class xnatpy:catalogSets from parser, it only has one element!\n",
      "[2020-02-17 08:50:19,579] INFO: convert_xsd:1356 >> Removing class xnatpy:catalogEntries from parser, it only has one element!\n",
      "[2020-02-17 08:50:19,580] DEBUG: convert_xsd:1362 >> Ignoring non-listing...\n",
      "[2020-02-17 08:50:19,580] DEBUG: convert_xsd:1363 >> Element class: {'parser': <xnat.convert_xsd.SchemaParser object at 0x0000013ADA0E7348>, 'name': 'xnatpy:catalogMetafields', 'logger': <Logger xnat-4315f9d139004d953d804b4ecc4dd62a (DEBUG)>, 'field_name': 'metaFields/metaField', 'parent_class': 'cat:catalog', 'parent_property': <AttributePrototype [listing] metaFields>, 'attributes': OrderedDict([('name', <AttributePrototype [property] name>)]), 'base_class': 'xnatpy:metaFieldString', 'display_identifier': None, 'abstract': False, '_simple': False, '_writer': None, 'source_schema': '/xapi/schemas/catalog'}\n",
      "[2020-02-17 08:50:19,580] INFO: convert_xsd:1356 >> Removing class xnatpy:entryMetafields from parser, it only has one element!\n",
      "[2020-02-17 08:50:19,581] INFO: convert_xsd:1356 >> Removing class xnatpy:entryTags from parser, it only has one element!\n",
      "[2020-02-17 08:50:19,581] DEBUG: convert_xsd:1362 >> Ignoring non-listing...\n",
      "[2020-02-17 08:50:19,581] DEBUG: convert_xsd:1363 >> Element class: {'parser': <xnat.convert_xsd.SchemaParser object at 0x0000013ADA0E7348>, 'name': 'xnatpy:entryMetafields', 'logger': <Logger xnat-4315f9d139004d953d804b4ecc4dd62a (DEBUG)>, 'field_name': 'metaFields/metaField', 'parent_class': 'cat:entry', 'parent_property': <AttributePrototype [listing] metaFields>, 'attributes': OrderedDict([('name', <AttributePrototype [property] name>)]), 'base_class': 'xnatpy:metaFieldString', 'display_identifier': None, 'abstract': False, '_simple': False, '_writer': None, 'source_schema': '/xapi/schemas/catalog'}\n",
      "[2020-02-17 08:50:19,582] INFO: convert_xsd:1356 >> Removing class xnatpy:projectFieldspecifications from parser, it only has one element!\n",
      "[2020-02-17 08:50:19,582] INFO: convert_xsd:1356 >> Removing class xnatpy:projectProperties from parser, it only has one element!\n",
      "[2020-02-17 08:50:19,582] INFO: convert_xsd:1356 >> Removing class xnatpy:projectPipelinesDescendants from parser, it only has one element!\n",
      "[2020-02-17 08:50:19,583] INFO: convert_xsd:1356 >> Removing class xnatpy:pipelineDataParameters from parser, it only has one element!\n",
      "[2020-02-17 08:50:19,583] DEBUG: convert_xsd:1362 >> Ignoring non-listing...\n",
      "[2020-02-17 08:50:19,583] DEBUG: convert_xsd:1363 >> Element class: {'parser': <xnat.convert_xsd.SchemaParser object at 0x0000013ADA0E7348>, 'name': 'xnatpy:pipelineParameterDataCsvvalues', 'logger': <Logger xnat-4315f9d139004d953d804b4ecc4dd62a (DEBUG)>, 'field_name': 'csvValues', 'parent_class': 'arc:pipelineParameterData', 'parent_property': <AttributePrototype [subobject] csvValues>, 'attributes': OrderedDict([('selected', <AttributePrototype [property] selected>)]), 'base_class': 'xnatpy:csvValuesString', 'display_identifier': None, 'abstract': False, '_simple': False, '_writer': None, 'source_schema': '/xapi/schemas/project'}\n",
      "[2020-02-17 08:50:19,583] INFO: convert_xsd:1356 >> Removing class xnatpy:protocolDataScans from parser, it only has one element!\n",
      "[2020-02-17 08:50:19,583] INFO: convert_xsd:1356 >> Removing class xnatpy:protocolDataCheckConditions from parser, it only has one element!\n",
      "[2020-02-17 08:50:19,583] INFO: convert_xsd:1356 >> Removing class xnatpy:protocolDataCheckComments from parser, it only has one element!\n",
      "[2020-02-17 08:50:19,583] INFO: convert_xsd:1356 >> Removing class xnatpy:protocolDataScansScan_checkConditions from parser, it only has one element!\n",
      "[2020-02-17 08:50:19,584] INFO: convert_xsd:1356 >> Removing class xnatpy:protocolDataScansScan_checkComments from parser, it only has one element!\n",
      "[2020-02-17 08:50:19,584] DEBUG: convert_xsd:1362 >> Ignoring non-listing...\n",
      "[2020-02-17 08:50:19,584] DEBUG: convert_xsd:1363 >> Element class: {'parser': <xnat.convert_xsd.SchemaParser object at 0x0000013ADA0E7348>, 'name': 'xnatpy:FieldTypeContent', 'logger': <Logger xnat-4315f9d139004d953d804b4ecc4dd62a (DEBUG)>, 'field_name': 'Content', 'parent_class': 'display:FieldType', 'parent_property': <AttributePrototype [subobject] Content>, 'attributes': OrderedDict([('type', <AttributePrototype [property] type>)]), 'base_class': 'xnatpy:ContentString', 'display_identifier': None, 'abstract': False, '_simple': False, '_writer': None, 'source_schema': '/xapi/schemas/xdat/display'}\n",
      "[2020-02-17 08:50:19,584] INFO: convert_xsd:1356 >> Removing class xnatpy:SubQueryFieldMappingcolumns from parser, it only has one element!\n",
      "[2020-02-17 08:50:19,585] DEBUG: convert_xsd:1362 >> Ignoring non-listing...\n",
      "[2020-02-17 08:50:19,585] DEBUG: convert_xsd:1363 >> Element class: {'parser': <xnat.convert_xsd.SchemaParser object at 0x0000013ADA0E7348>, 'name': 'xnatpy:PlexiViewerTypeViewableitemUserinterfaceLinkeddropdown', 'logger': <Logger xnat-4315f9d139004d953d804b4ecc4dd62a (DEBUG)>, 'field_name': 'LinkedDropDown', 'parent_class': 'xnatpy:PlexiViewerTypeViewableitemUserinterface', 'parent_property': <AttributePrototype [listing] LinkedDropDown>, 'attributes': OrderedDict([('viewableItemType', <AttributePrototype [property] viewableItemType>)]), 'base_class': None, 'display_identifier': None, 'abstract': False, '_simple': False, '_writer': None, 'source_schema': '/xapi/schemas/xdat/PlexiViewer'}\n",
      "[2020-02-17 08:50:19,585] DEBUG: convert_xsd:1362 >> Ignoring non-listing...\n",
      "[2020-02-17 08:50:19,586] DEBUG: convert_xsd:1363 >> Element class: {'parser': <xnat.convert_xsd.SchemaParser object at 0x0000013ADA0E7348>, 'name': 'xnatpy:PlexiViewerTypeViewableitemHi-resLayer', 'logger': <Logger xnat-4315f9d139004d953d804b4ecc4dd62a (DEBUG)>, 'field_name': 'Layer', 'parent_class': 'xnatpy:PlexiViewerTypeViewableitemHi-res', 'parent_property': <AttributePrototype [listing] Layer>, 'attributes': OrderedDict([('num', <AttributePrototype [property] num>)]), 'base_class': 'SchemaLinkType', 'display_identifier': None, 'abstract': False, '_simple': False, '_writer': None, 'source_schema': '/xapi/schemas/xdat/PlexiViewer'}\n",
      "[2020-02-17 08:50:19,586] DEBUG: convert_xsd:1362 >> Ignoring non-listing...\n",
      "[2020-02-17 08:50:19,586] DEBUG: convert_xsd:1363 >> Element class: {'parser': <xnat.convert_xsd.SchemaParser object at 0x0000013ADA0E7348>, 'name': 'xnatpy:PlexiViewerTypeViewableitemHi-resLayoutref', 'logger': <Logger xnat-4315f9d139004d953d804b4ecc4dd62a (DEBUG)>, 'field_name': 'LayoutRef', 'parent_class': 'xnatpy:PlexiViewerTypeViewableitemHi-res', 'parent_property': <AttributePrototype [subobject] LayoutRef>, 'attributes': OrderedDict([('name', <AttributePrototype [property] name>)]), 'base_class': None, 'display_identifier': None, 'abstract': False, '_simple': False, '_writer': None, 'source_schema': '/xapi/schemas/xdat/PlexiViewer'}\n",
      "[2020-02-17 08:50:19,587] DEBUG: convert_xsd:1382 >> Found simple mapping xnat:projectData.aliases -> xnatpy:projectDataAliases\n",
      "[2020-02-17 08:50:19,587] DEBUG: convert_xsd:1382 >> Found simple mapping xnat:projectData.fields -> xnatpy:projectDataFields\n",
      "[2020-02-17 08:50:19,587] DEBUG: convert_xsd:1382 >> Found simple mapping xnat:subjectData.addID -> xnatpy:subjectDataAddid\n"
     ]
    },
    {
     "name": "stderr",
     "output_type": "stream",
     "text": [
      "[2020-02-17 08:50:19,587] DEBUG: convert_xsd:1382 >> Found simple mapping xnat:subjectData.fields -> xnatpy:subjectDataFields\n",
      "[2020-02-17 08:50:19,588] DEBUG: convert_xsd:1382 >> Found simple mapping xnat:experimentData.sharing -> xnatpy:experimentDataSharing\n",
      "[2020-02-17 08:50:19,588] DEBUG: convert_xsd:1388 >> Too many attributes to simplify (found 4 attributed)\n",
      "[2020-02-17 08:50:19,589] DEBUG: convert_xsd:1382 >> Found simple mapping xnat:experimentData.fields -> xnatpy:experimentDataFields\n",
      "[2020-02-17 08:50:19,589] DEBUG: convert_xsd:1382 >> Found simple mapping xnat:subjectVariablesData.variables -> xnatpy:subjectVariablesDataVariables\n",
      "[2020-02-17 08:50:19,589] DEBUG: convert_xsd:1382 >> Found simple mapping xnat:abstractResource.tags -> xnatpy:abstractResourceTags\n",
      "[2020-02-17 08:50:19,590] DEBUG: convert_xsd:1382 >> Found simple mapping xnat:regionResource.subregionlabels -> xnatpy:regionResourceSubregionlabels\n",
      "[2020-02-17 08:50:19,590] DEBUG: convert_xsd:1382 >> Found simple mapping xnat:statisticsData.additionalStatistics -> xnatpy:statisticsDataAdditionalstatistics\n",
      "[2020-02-17 08:50:19,591] DEBUG: convert_xsd:1382 >> Found simple mapping xnat:statisticsData.addField -> xnatpy:statisticsDataAddfield\n",
      "[2020-02-17 08:50:19,591] DEBUG: convert_xsd:1382 >> Found simple mapping xnatpy:fieldDefinitionGroupFields.possibleValues -> xnatpy:fieldDefinitionGroupFieldsFieldPossiblevalues\n",
      "[2020-02-17 08:50:19,591] DEBUG: convert_xsd:1382 >> Found simple mapping xnat:imageScanData.sharing -> xnatpy:imageScanDataSharing\n",
      "[2020-02-17 08:50:19,592] DEBUG: convert_xsd:1382 >> Found simple mapping xnat:qcScanData.fields -> xnatpy:qcScanDataFields\n",
      "[2020-02-17 08:50:19,592] DEBUG: convert_xsd:1382 >> Found simple mapping wrk:xnatExecutionEnvironment.parameters -> xnatpy:xnatExecutionEnvironmentParameters\n",
      "[2020-02-17 08:50:19,593] DEBUG: convert_xsd:1382 >> Found simple mapping prov:processStep.library -> xnatpy:processStepLibrary\n",
      "[2020-02-17 08:50:19,593] DEBUG: convert_xsd:1382 >> Found simple mapping cat:catalog.metaFields -> xnatpy:catalogMetafields\n",
      "[2020-02-17 08:50:19,593] DEBUG: convert_xsd:1382 >> Found simple mapping cat:entry.metaFields -> xnatpy:entryMetafields\n",
      "[2020-02-17 08:50:19,593] DEBUG: convert_xsd:1382 >> Found simple mapping xnatpy:protocolDataCheck.comments -> xnatpy:protocolDataCheckComments\n",
      "[2020-02-17 08:50:19,594] DEBUG: convert_xsd:1382 >> Found simple mapping xnatpy:protocolDataScans.comments -> xnatpy:protocolDataScansScan_checkComments\n",
      "[2020-02-17 08:50:19,594] DEBUG: convert_xsd:1407 >> Classed after prune: {'xnatpy:samplingRateFloat', 'xnat:subjectData', 'LayoutDescription', 'xnatpy:platformString', 'xnat:xa3DSessionData', 'xnat:nmSessionData', 'xnatpy:intermediateFloat', 'xnat:dicomSeries', 'xnat:abstractStatistics', 'xnatpy:catalogMetafieldsMetafield', 'xnat:ioSessionData', 'xnatpy:imageSessionDataScanner', 'xnat:rtSessionData', 'xnat:abstractSubjectMetadata', 'xnatpy:projectDataAliasesAlias', 'xnat:optScanData', 'xnat:epsSessionData', 'xnat:esvSessionData', 'xnatpy:estimatedDoseSavingFloat', 'xnat:statisticsData', 'xnatpy:ctScanDataParametersFov', 'xnatpy:scidResearchDataSubstanceusedisorders', 'xnat:scScanData', 'xnat:hdScanData', 'xnatpy:addFieldString', 'xnat:investigatorData', 'xnat:projectParticipant', 'xnat_a:ybocsData', 'xnatpy:ctScanDataParametersEstimateddosesaving', 'xnat:derivedData', 'xnatpy:qcScanDataRating', 'xnat:mgScanData', 'xnat:rtImageScanData', 'arc:property', 'xnatpy:petmrSessionDataTracerDose', 'xnatpy:PlexiViewerTypeViewableitemThumbnailSlice', 'xnat:studyProtocol', 'xnatpy:qcScanDataFieldsField', 'xnatpy:demographicDataWeight', 'arc:fieldSpecification', 'xnat_a:updrs3Data', 'xnat:smSessionData', 'xnat:hdSessionData', 'xdat:userGroup', 'xnatpy:FieldTypeContent', 'xnat:dxSessionData', 'xnat:subjectAssessorData', 'xnatpy:mrScanDataParametersInplanephaseencoding', 'xnatpy:imageResourceVoxelres', 'xnatpy:xnatExecutionEnvironmentParameterfile', 'xnatpy:eegSessionDataSamplingrate', 'xnatpy:petScanDataParametersOffset', 'xnatpy:updrs3DataHandmovementsgrip', 'xnat:imageScanData', 'xnatpy:PlexiViewerTypeViewableitem', 'xnat:rfSessionData', 'xnatpy:qcAssessmentDataScansScanSliceqcSlice', 'xnatpy:xnatExecutionEnvironmentParametersParameter', 'xnatpy:petScanDataParametersZfilter', 'xnat:imageResource', 'xnatpy:petScanDataParametersFilter', 'xnat:ctSessionData', 'xnat:crSessionData', 'xnatpy:subjectDataAddid', 'xnatpy:eegSessionDataSamplinginterval', 'build:pipelineParameterData', 'xnatpy:pipelineDetailsParametersParameter', 'xnatpy:petScanDataParametersRfilter', 'xnatpy:FieldTypeHtml-linkPropertyInsertvalue', 'xnat:dxScanData', 'build:imageSessionData', 'xnat:regionResource', 'prov:processStep', 'cat:catalog', 'xnatpy:petSessionDataTracer', 'xnatpy:protocolDataCheckCommentsComment', 'xnat:projectData', 'xnatpy:aliasString', 'xnatpy:ctScanDataParametersDerivation', 'arc:pathInfo', 'xdat:change_info', 'xnatpy:studyProtocolAcqconditionsCondition', 'xnatpy:totalMassFloat', 'xnat:resourceCatalog', 'xnatpy:dicomSeriesImagesetImage', 'xnatpy:ctScanDataDcmvalidation', 'xdat:stored_search', 'xnat:xaSessionData', 'xnatpy:imageScanDataScanner', 'xnatpy:petSessionDataTracerIntermediate', 'xnatpy:experimentDataSharingShare', 'xnatpy:eegScanDataSoftwarefiltersimpedances', 'xnatpy:petScanDataParametersPixelsize', 'xnatpy:FieldTypeHtml-image', 'xnatpy:csvValuesString', 'xdat:newsEntry', 'display:FieldType', 'xnatpy:FieldTypeHtml-linkProperty', 'xnatpy:petmrSessionDataTracerIsotope', 'xnat:srScanData', 'xnat:mrsScanData', 'xnat:qcScanData', 'xdat:field_mapping', 'xnatpy:fieldDefinitionGroupFieldsField', 'xnatpy:doseFloat', 'xnatpy:pipelineParameterDataCsvvalues', 'xnat:gmScanData', 'xnat:xcScanData', 'xnatpy:petScanDataParameters', 'xnat:nmScanData', 'xnat:publicationResource', 'xnatpy:FieldTypeHtml-linkSecurelink', 'xnatpy:studyProtocolSubjectvariablesVariable', 'xnatpy:imageSessionDataPipeline', 'xnatpy:imageResourceSeriesDimensions', 'xnatpy:pipelineParameterDataParameter', 'xnatpy:petSessionDataTracerDose', 'xnat:otherDicomSessionData', 'xnat:xcvScanData', 'xnatpy:subjectVariablesDataVariablesVariable', 'xnatpy:projectDataFieldsField', 'xnat:rfScanData', 'xnat:dicomCodedValue', 'xnatpy:qcAssessmentDataScansScan', 'xnat:gmvSessionData', 'xnatpy:dcmValidationString', 'xnatpy:abstractResourceTagsTag', 'xnatpy:optScanDataParameters', 'xnat:otherDicomScanData', 'build:pipelineData', 'xnatpy:processStepLibrary', 'xnatpy:mrScanDataParameters', 'xnatpy:petScanDataParametersDimensions', 'xnat:petSessionData', 'val:additionalVal', 'xdat:user_login', 'xnat:reconstructedImageData', 'xnatpy:optScanDataParametersVoxelres', 'xnat:resourceSeries', 'xnatpy:PlexiViewerTypeViewableitemUserinterfaceLinkeddropdown', 'xnat:volumetricRegion', 'xnatpy:subjectDataFieldsField', 'xnatpy:updrs3DataRigidity', 'xnatpy:dicomSeriesVoxelres', 'xnatpy:petSessionDataTracerIsotope', 'xnat:subjectVariablesData', 'xnatpy:userPrimary_password', 'xdat:infoEntry', 'xnatpy:mrScanDataParametersFov', 'xnatpy:mrScanDataDcmvalidation', 'xnat:opScanData', 'xdat:element_security', 'xnat:addField', 'xnatpy:samplingIntervalFloat', 'xnatpy:PlexiViewerTypeViewableitemUserinterface', 'xnatpy:scidResearchDataPsychoticdisorders', 'xnat:voiceAudioScanData', 'xnat:mrScanData', 'xdat:access_log', 'xnatpy:shareString', 'xnatpy:imageResourceSeriesVoxelres', 'xnatpy:variableString', 'xnatpy:pipelineDetailsParametersParameterValues', 'prov:process', 'xnat:mrSessionData', 'xdat:role_type', 'xnat:megSessionData', 'xnat:epsScanData', 'xdat:element_action_type', 'xnatpy:regionResourceSubregionlabelsLabel', 'xnatpy:studyProtocolSubjectgroupsGroup', 'xnatpy:libraryString', 'xnat:srSessionData', 'xnat:abstractProtocol', 'xnatpy:FieldTypeHtml-link', 'xdat:criteria', 'xnatpy:protocolDataScansScan_check', 'xnatpy:xaScanDataParametersPixelres', 'xnatpy:processStepPlatform', 'xdat:criteria_set', 'xnatpy:addIDString', 'build:buildData', 'xnat:crScanData', 'xnatpy:scidResearchDataMooddisorders', 'xnatpy:petmrSessionDataTracerTotalmass', 'xnat:segScanData', 'xnat:validationData', 'xnatpy:updrs3DataFingertaps', 'scr:screeningAssessment', 'xnatpy:projectPipelinesDescendantsDescendant', 'xnatpy:FieldTypeHtml-linkSecurelinkSecuritymappingvalue', 'xnat:mrAssessorData', 'xnatpy:scidResearchDataOptional', 'xnatpy:petScanDataParametersResolution', 'xnat:qcAssessmentData', 'icr:roiCollectionData', 'xnatpy:petSessionDataTracerTotalmass', 'xnatpy:dicomSeriesDimensions', 'xnatpy:additionalStatisticsDouble', 'xnatpy:updrs3DataHandsram', 'xnat:xa3DScanData', 'xnatpy:compilerString', 'xnatpy:weightFloat', 'pipe:pipelineDetails', 'xnatpy:protocolDataScansScan_checkCommentsComment', 'wrk:abstractExecutionEnvironment', 'xnatpy:stored_searchAllowed_user', 'xnatpy:ContentString', 'xnatpy:heightFloat', 'xnatpy:imageScanDataSharingShare', 'xdat:action_type', 'xnatpy:mrScanDataParametersMatrix', 'xnatpy:protocolDataCheck', 'xnatpy:PlexiViewerTypeViewableitemLo-res', 'cat:entry', 'xdat:meta_data', 'xnat:ecgSessionData', 'xdat:primary_security_field', 'xnatpy:studyProtocolImagesessiontypesSession', 'xnatpy:PlexiViewerTypeViewableitemHi-resLayoutref', 'xnat:ioScanData', 'SchemaLinkType', 'xnatpy:PlexiViewerTypeViewableitemHi-res', 'xnat:eegSessionData', 'xnatpy:labelString', 'xnatpy:PlexiViewerTypeViewableitemSchemalink', 'xnatpy:stored_searchSort_by', 'xnatpy:eegScanDataParameters', 'xnatpy:primary_security_fieldString', 'xnat:opSessionData', 'xnat_a:ygtssData', 'xnat:abstractDemographicData', 'xnatpy:ygtssDataMotor', 'xnat:petScanData', 'xnatpy:primary_passwordString', 'xnatpy:scidResearchDataSomatoformdisorders', 'wrk:workflowData', 'xnatpy:PlexiViewerTypeViewableitemThumbnail', 'xnatpy:updrs3DataTremorrest', 'xnatpy:eegScanDataParametersDatarecord', 'xnatpy:fieldDefinitionGroupFieldsFieldPossiblevaluesPossiblevalue', 'xnatpy:fieldSpecificationString', 'xnat:eegScanData', 'xnatpy:petScanDataParametersFramesFrame', 'xnatpy:ygtssDataPhonic', 'xnat:imageAssessorData', 'xnat:mrQcScanData', 'xnat:pVisitData', 'xnatpy:protocolDataCheckConditionsCondition', 'xnatpy:statisticsDataAdditionalstatistics', 'cat:dcmCatalog', 'cat:dcmEntry', 'scr:screeningScanData', 'xnatpy:dcmCatalogVoxelres', 'xdat:search_field', 'xnat:computationData', 'xnat:imageSessionData', 'xnat_a:sideEffectsPittsburghData', 'xnat:ecgScanData', 'wrk:xnatExecutionEnvironment', 'xnatpy:petmrSessionDataTracerIntermediate', 'xnatpy:tagString', 'xnat:xcSessionData', 'xnat:esSessionData', 'xnat:esScanData', 'xnatpy:entryMetafieldsMetafield', 'xnatpy:petScanDataParametersFrames', 'xnatpy:xaScanDataParametersFov', 'arc:pipelineParameterData', 'xnatpy:updrs3DataActionposturaltremor', 'xnatpy:optScanDataDcmvalidation', 'xnatpy:scidResearchDataMoodepisodes', 'xnat:resource', 'xnat:genericData', 'xnat:xcvSessionData', 'xnatpy:ctScanDataParametersRescale', 'xnatpy:projectPipelinesPipeline', 'xnat:demographicData', 'xnatpy:mrScanDataParametersDiffusion', 'xnat:dx3DCraniofacialSessionData', 'xnat:subjectMetadata', 'xnatpy:eegScanDataChannelsChannel', 'xnatpy:derivationString', 'xnat:gmvScanData', 'xdat:field_mapping_set', 'xnatpy:processStepProgram', 'xnatpy:PlexiViewerTypeViewableitemLo-resParameter', 'xnat:petQcScanData', 'xnatpy:regionResourceCreator', 'PlexiViewerType', 'xnatpy:statisticsDataAddfield', 'xnatpy:experimentDataFieldsField', 'xnatpy:updrs3DataClicker', 'xnatpy:eegScanDataSoftwarefiltersimpedancesImpedance', 'xnatpy:element_securityListing_actionsListing_action', 'xnat:esvScanData', 'xnatpy:propertyString', 'xdat:user', 'xnatpy:scidResearchDataPsychoticsymptoms', 'xdat:history', 'xnatpy:isotopeString', 'xdat:LONGVARCHAR', 'xnatpy:xaScanDataParameters', 'xnat:contrastBolus', 'xnatpy:possibleValueString', 'xnat:mgSessionData', 'xnatpy:volumetricRegionSubregionsSubregion', 'xnat:usSessionData', 'xnat:otherQcScanData', 'xnatpy:scidResearchDataAnxietydisorders', 'xnatpy:optScanDataParametersFov', 'xnat:usScanData', 'xnatpy:projectPipelines', 'xnat:gmSessionData', 'xnat_a:scidResearchData', 'xnatpy:commentString', 'xnat:optSessionData', 'xnat:experimentData', 'xnatpy:petmrSessionDataTracer', 'xnatpy:ctScanDataParametersCollimationwidth', 'xnatpy:scidResearchDataEatingdisorders', 'arc:pipelineData', 'arc:project', 'xnatpy:demographicDataHeight', 'display:SubQueryField', 'xnatpy:scannerString', 'xnatpy:ratingString', 'xnat:qcManualAssessorData', 'xnatpy:delayInteger', 'xnatpy:LayoutDescriptionCoordinates', 'xnat:fieldDefinitionGroup', 'xnat:xaScanData', 'xnatpy:protocolDataScansScan_checkConditionsCondition', 'xnat:algorithm', 'xnat:petmrSessionData', 'xnatpy:ctScanDataParametersVoxelres', 'xnatpy:processStepCompiler', 'xnatpy:petScanDataEcatvalidation', 'xnatpy:updrs3DataFoottaps', 'xnatpy:experimentDataDelay', 'xnat:dx3DCraniofacialScanData', 'val:protocolData', 'xnatpy:programString', 'xnat:megScanData', 'xnatpy:projectPipelinesDescendantsDescendantPipeline', 'xnatpy:mrScanDataParametersVoxelres', 'xnatpy:parameterString', 'xnat:abstractResource', 'xnat:petAssessorData', 'xnatpy:metaFieldString', 'xnat:smScanData', 'xnatpy:dcmCatalogDimensions', 'display:HTML-Cell', 'xnatpy:ecatValidationString', 'xnat:ctScanData', 'xnatpy:SubQueryFieldMappingcolumnsMappingcolumn', 'xnatpy:fieldString', 'xnatpy:imageResourceDimensions', 'xnat:imageResourceSeries', 'xnat:datatypeProtocol', 'xnatpy:ctScanDataParameters', 'xnatpy:PlexiViewerTypeViewableitemHi-resLayer'}\n"
     ]
    },
    {
     "name": "stderr",
     "output_type": "stream",
     "text": [
      "[2020-02-17 08:50:19,595] INFO: convert_xsd:1408 >> Classes removed by pruning: ['xnatpy:SubQueryFieldMappingcolumns', 'xnatpy:abstractResourceTags', 'xnatpy:catalogEntries', 'xnatpy:catalogMetafields', 'xnatpy:catalogSets', 'xnatpy:catalogTags', 'xnatpy:ctScanDataParametersFocalspots', 'xnatpy:datatypeProtocolDefinitions', 'xnatpy:dicomSeriesImageset', 'xnatpy:eegScanDataChannels', 'xnatpy:element_securityElement_actions', 'xnatpy:element_securityListing_actions', 'xnatpy:element_securityPrimary_security_fields', 'xnatpy:entryMetafields', 'xnatpy:entryTags', 'xnatpy:experimentDataFields', 'xnatpy:experimentDataResources', 'xnatpy:experimentDataSharing', 'xnatpy:fieldDefinitionGroupFields', 'xnatpy:fieldDefinitionGroupFieldsFieldPossiblevalues', 'xnatpy:imageAssessorDataIn', 'xnatpy:imageAssessorDataOut', 'xnatpy:imageAssessorDataParameters', 'xnatpy:imageScanDataSharing', 'xnatpy:imageSessionDataAssessors', 'xnatpy:imageSessionDataReconstructions', 'xnatpy:imageSessionDataRegions', 'xnatpy:imageSessionDataScans', 'xnatpy:petQcScanDataProcessingerrors', 'xnatpy:pipelineDataParameters', 'xnatpy:pipelineDetailsGenerateselements', 'xnatpy:pipelineDetailsParameters', 'xnatpy:projectDataAliases', 'xnatpy:projectDataFields', 'xnatpy:projectDataInvestigators', 'xnatpy:projectDataPublications', 'xnatpy:projectDataResources', 'xnatpy:projectFieldspecifications', 'xnatpy:projectPipelinesDescendants', 'xnatpy:projectProperties', 'xnatpy:protocolDataCheckComments', 'xnatpy:protocolDataCheckConditions', 'xnatpy:protocolDataScans', 'xnatpy:protocolDataScansScan_checkComments', 'xnatpy:protocolDataScansScan_checkConditions', 'xnatpy:qcAssessmentDataScans', 'xnatpy:qcAssessmentDataScansScanSliceqc', 'xnatpy:qcManualAssessorDataScans', 'xnatpy:qcScanDataFields', 'xnatpy:reconstructedImageDataComputations', 'xnatpy:reconstructedImageDataIn', 'xnatpy:reconstructedImageDataInscans', 'xnatpy:reconstructedImageDataOut', 'xnatpy:reconstructedImageDataParameters', 'xnatpy:regionResourceSubregionlabels', 'xnatpy:roiCollectionDataReferences', 'xnatpy:role_typeAllowed_actions', 'xnatpy:screeningAssessmentScans', 'xnatpy:stored_searchAllowed_groups', 'xnatpy:studyProtocolAcqconditions', 'xnatpy:studyProtocolImagesessiontypes', 'xnatpy:studyProtocolSubjectgroups', 'xnatpy:studyProtocolSubjectvariables', 'xnatpy:subjectDataExperiments', 'xnatpy:subjectDataFields', 'xnatpy:subjectDataResources', 'xnatpy:subjectDataSharing', 'xnatpy:subjectVariablesDataVariables', 'xnatpy:userAssigned_roles', 'xnatpy:userGroups', 'xnatpy:volumetricRegionSubregions', 'xnatpy:xnatExecutionEnvironmentParameters']\n",
      "[2020-02-17 08:50:19,596] INFO: convert_xsd:1410 >> === Writing result ===\n",
      "[2020-02-17 08:50:19,597] DEBUG: convert_xsd:997 >> Wait with processing icr:roiCollectionData because base xnat:imageAssessorData is not yet processed\n",
      "[2020-02-17 08:50:19,597] INFO: convert_xsd:1010 >> Processing xdat:field_mapping (base class None)\n",
      "[2020-02-17 08:50:19,598] INFO: convert_xsd:1010 >> Processing xdat:field_mapping_set (base class None)\n",
      "[2020-02-17 08:50:19,598] INFO: convert_xsd:1010 >> Processing xdat:role_type (base class None)\n",
      "[2020-02-17 08:50:19,599] INFO: convert_xsd:1010 >> Processing xdat:action_type (base class None)\n",
      "[2020-02-17 08:50:19,599] DEBUG: convert_xsd:997 >> Wait with processing xdat:primary_security_field because base xnatpy:primary_security_fieldString is not yet processed\n",
      "[2020-02-17 08:50:19,600] INFO: convert_xsd:1010 >> Processing xnatpy:primary_security_fieldString (base class None)\n",
      "[2020-02-17 08:50:19,600] INFO: convert_xsd:1010 >> Processing xdat:element_security (base class None)\n",
      "[2020-02-17 08:50:19,602] INFO: convert_xsd:1010 >> Processing xnatpy:element_securityListing_actions (base class None)\n",
      "[2020-02-17 08:50:19,603] INFO: convert_xsd:1010 >> Processing xdat:element_action_type (base class None)\n",
      "[2020-02-17 08:50:19,604] INFO: convert_xsd:1010 >> Processing xdat:user (base class None)\n",
      "[2020-02-17 08:50:19,605] DEBUG: convert_xsd:997 >> Wait with processing xnatpy:userPrimary_password because base xnatpy:primary_passwordString is not yet processed\n",
      "[2020-02-17 08:50:19,605] INFO: convert_xsd:1010 >> Processing xnatpy:primary_passwordString (base class None)\n",
      "[2020-02-17 08:50:19,606] INFO: convert_xsd:1010 >> Processing xdat:meta_data (base class None)\n",
      "[2020-02-17 08:50:19,607] INFO: convert_xsd:1010 >> Processing xdat:history (base class None)\n",
      "[2020-02-17 08:50:19,607] INFO: convert_xsd:1010 >> Processing xdat:change_info (base class None)\n",
      "[2020-02-17 08:50:19,608] INFO: convert_xsd:1010 >> Processing xdat:user_login (base class None)\n",
      "[2020-02-17 08:50:19,608] INFO: convert_xsd:1010 >> Processing xdat:stored_search (base class None)\n",
      "[2020-02-17 08:50:19,609] INFO: convert_xsd:1010 >> Processing xnatpy:stored_searchSort_by (base class None)\n",
      "[2020-02-17 08:50:19,610] INFO: convert_xsd:1010 >> Processing xnatpy:stored_searchAllowed_user (base class None)\n",
      "[2020-02-17 08:50:19,610] INFO: convert_xsd:1010 >> Processing xdat:criteria_set (base class None)\n",
      "[2020-02-17 08:50:19,611] INFO: convert_xsd:1010 >> Processing xdat:criteria (base class None)\n",
      "[2020-02-17 08:50:19,611] INFO: convert_xsd:1010 >> Processing xdat:search_field (base class None)\n",
      "[2020-02-17 08:50:19,612] INFO: convert_xsd:1010 >> Processing xdat:access_log (base class None)\n",
      "[2020-02-17 08:50:19,613] INFO: convert_xsd:1010 >> Processing xdat:userGroup (base class None)\n",
      "[2020-02-17 08:50:19,614] INFO: convert_xsd:1010 >> Processing xdat:newsEntry (base class None)\n",
      "[2020-02-17 08:50:19,615] INFO: convert_xsd:1010 >> Processing xdat:infoEntry (base class None)\n",
      "[2020-02-17 08:50:19,615] INFO: convert_xsd:1010 >> Processing xnat:projectData (base class None)\n",
      "[2020-02-17 08:50:19,616] DEBUG: convert_xsd:997 >> Wait with processing xnatpy:projectDataAliases because base xnatpy:aliasString is not yet processed\n",
      "[2020-02-17 08:50:19,616] INFO: convert_xsd:1010 >> Processing xnatpy:aliasString (base class None)\n",
      "[2020-02-17 08:50:19,617] DEBUG: convert_xsd:997 >> Wait with processing xnatpy:projectDataFields because base xnatpy:fieldString is not yet processed\n",
      "[2020-02-17 08:50:19,617] INFO: convert_xsd:1010 >> Processing xnatpy:fieldString (base class None)\n",
      "[2020-02-17 08:50:19,618] INFO: convert_xsd:1010 >> Processing xnat:subjectData (base class None)\n",
      "[2020-02-17 08:50:19,618] DEBUG: convert_xsd:997 >> Wait with processing xnatpy:subjectDataAddid because base xnatpy:addIDString is not yet processed\n",
      "[2020-02-17 08:50:19,619] INFO: convert_xsd:1010 >> Processing xnatpy:addIDString (base class None)\n",
      "[2020-02-17 08:50:19,619] INFO: convert_xsd:1010 >> Processing xnatpy:subjectDataFields (base class xnatpy:fieldString)\n",
      "[2020-02-17 08:50:19,619] INFO: convert_xsd:1010 >> Processing xnat:projectParticipant (base class None)\n",
      "[2020-02-17 08:50:19,619] INFO: convert_xsd:1010 >> Processing xnat:experimentData (base class None)\n",
      "[2020-02-17 08:50:19,620] DEBUG: convert_xsd:997 >> Wait with processing xnatpy:experimentDataSharing because base xnatpy:shareString is not yet processed\n",
      "[2020-02-17 08:50:19,620] INFO: convert_xsd:1010 >> Processing xnatpy:shareString (base class None)\n",
      "[2020-02-17 08:50:19,620] DEBUG: convert_xsd:997 >> Wait with processing xnatpy:experimentDataDelay because base xnatpy:delayInteger is not yet processed\n",
      "[2020-02-17 08:50:19,621] INFO: convert_xsd:1010 >> Processing xnatpy:delayInteger (base class None)\n",
      "[2020-02-17 08:50:19,621] INFO: convert_xsd:1010 >> Processing xnatpy:experimentDataFields (base class xnatpy:fieldString)\n",
      "[2020-02-17 08:50:19,621] INFO: convert_xsd:1010 >> Processing xnat:genericData (base class xnat:experimentData)\n",
      "[2020-02-17 08:50:19,622] INFO: convert_xsd:1010 >> Processing xnat:dicomCodedValue (base class None)\n",
      "[2020-02-17 08:50:19,622] INFO: convert_xsd:1010 >> Processing xnat:algorithm (base class None)\n",
      "[2020-02-17 08:50:19,623] INFO: convert_xsd:1010 >> Processing xnat:pVisitData (base class xnat:genericData)\n",
      "[2020-02-17 08:50:19,624] INFO: convert_xsd:1010 >> Processing xnat:abstractSubjectMetadata (base class None)\n",
      "[2020-02-17 08:50:19,624] INFO: convert_xsd:1010 >> Processing xnat:subjectMetadata (base class xnat:abstractSubjectMetadata)\n",
      "[2020-02-17 08:50:19,625] INFO: convert_xsd:1010 >> Processing xnat:abstractDemographicData (base class None)\n"
     ]
    },
    {
     "name": "stderr",
     "output_type": "stream",
     "text": [
      "[2020-02-17 08:50:19,625] INFO: convert_xsd:1010 >> Processing xnat:demographicData (base class xnat:abstractDemographicData)\n",
      "[2020-02-17 08:50:19,626] DEBUG: convert_xsd:997 >> Wait with processing xnatpy:demographicDataWeight because base xnatpy:weightFloat is not yet processed\n",
      "[2020-02-17 08:50:19,626] INFO: convert_xsd:1010 >> Processing xnatpy:weightFloat (base class None)\n",
      "[2020-02-17 08:50:19,627] DEBUG: convert_xsd:997 >> Wait with processing xnatpy:demographicDataHeight because base xnatpy:heightFloat is not yet processed\n",
      "[2020-02-17 08:50:19,627] INFO: convert_xsd:1010 >> Processing xnatpy:heightFloat (base class None)\n",
      "[2020-02-17 08:50:19,628] INFO: convert_xsd:1010 >> Processing xnat:subjectAssessorData (base class xnat:experimentData)\n",
      "[2020-02-17 08:50:19,628] INFO: convert_xsd:1010 >> Processing xnat:subjectVariablesData (base class xnat:subjectAssessorData)\n",
      "[2020-02-17 08:50:19,629] DEBUG: convert_xsd:997 >> Wait with processing xnatpy:subjectVariablesDataVariables because base xnatpy:variableString is not yet processed\n",
      "[2020-02-17 08:50:19,630] INFO: convert_xsd:1010 >> Processing xnatpy:variableString (base class None)\n",
      "[2020-02-17 08:50:19,630] INFO: convert_xsd:1010 >> Processing xnat:imageSessionData (base class xnat:subjectAssessorData)\n",
      "[2020-02-17 08:50:19,631] DEBUG: convert_xsd:997 >> Wait with processing xnatpy:imageSessionDataScanner because base xnatpy:scannerString is not yet processed\n",
      "[2020-02-17 08:50:19,632] INFO: convert_xsd:1010 >> Processing xnatpy:scannerString (base class None)\n",
      "[2020-02-17 08:50:19,632] INFO: convert_xsd:1010 >> Processing xnat:mrSessionData (base class xnat:imageSessionData)\n",
      "[2020-02-17 08:50:19,633] DEBUG: convert_xsd:997 >> Wait with processing xnat:mrAssessorData because base xnat:imageAssessorData is not yet processed\n",
      "[2020-02-17 08:50:19,633] DEBUG: convert_xsd:997 >> Wait with processing xnat:mrScanData because base xnat:imageScanData is not yet processed\n",
      "[2020-02-17 08:50:19,634] DEBUG: convert_xsd:1004 >> Wait with processing xnatpy:mrScanDataParameters because parent xnat:mrScanData is not yet processed\n",
      "[2020-02-17 08:50:19,634] DEBUG: convert_xsd:1004 >> Wait with processing xnatpy:mrScanDataParametersVoxelres because parent xnatpy:mrScanDataParameters is not yet processed\n",
      "[2020-02-17 08:50:19,635] DEBUG: convert_xsd:1004 >> Wait with processing xnatpy:mrScanDataParametersFov because parent xnatpy:mrScanDataParameters is not yet processed\n",
      "[2020-02-17 08:50:19,635] DEBUG: convert_xsd:1004 >> Wait with processing xnatpy:mrScanDataParametersMatrix because parent xnatpy:mrScanDataParameters is not yet processed\n",
      "[2020-02-17 08:50:19,636] DEBUG: convert_xsd:1004 >> Wait with processing xnatpy:mrScanDataParametersDiffusion because parent xnatpy:mrScanDataParameters is not yet processed\n",
      "[2020-02-17 08:50:19,636] DEBUG: convert_xsd:1004 >> Wait with processing xnatpy:mrScanDataParametersInplanephaseencoding because parent xnatpy:mrScanDataParameters is not yet processed\n",
      "[2020-02-17 08:50:19,637] DEBUG: convert_xsd:997 >> Wait with processing xnatpy:mrScanDataDcmvalidation because base xnatpy:dcmValidationString is not yet processed\n",
      "[2020-02-17 08:50:19,637] INFO: convert_xsd:1010 >> Processing xnatpy:dcmValidationString (base class None)\n",
      "[2020-02-17 08:50:19,638] INFO: convert_xsd:1010 >> Processing xnat:derivedData (base class xnat:experimentData)\n",
      "[2020-02-17 08:50:19,638] INFO: convert_xsd:1010 >> Processing xnat:reconstructedImageData (base class None)\n",
      "[2020-02-17 08:50:19,639] INFO: convert_xsd:1010 >> Processing xnat:investigatorData (base class None)\n",
      "[2020-02-17 08:50:19,640] INFO: convert_xsd:1010 >> Processing xnat:volumetricRegion (base class None)\n",
      "[2020-02-17 08:50:19,641] INFO: convert_xsd:1010 >> Processing xnatpy:volumetricRegionSubregions (base class None)\n",
      "[2020-02-17 08:50:19,642] DEBUG: convert_xsd:997 >> Wait with processing xnat:addField because base xdat:LONGVARCHAR is not yet processed\n",
      "[2020-02-17 08:50:19,642] INFO: convert_xsd:1010 >> Processing xnat:validationData (base class None)\n",
      "[2020-02-17 08:50:19,643] INFO: convert_xsd:1010 >> Processing xnat:abstractResource (base class None)\n",
      "[2020-02-17 08:50:19,644] DEBUG: convert_xsd:997 >> Wait with processing xnatpy:abstractResourceTags because base xnatpy:tagString is not yet processed\n",
      "[2020-02-17 08:50:19,645] INFO: convert_xsd:1010 >> Processing xnatpy:tagString (base class None)\n",
      "[2020-02-17 08:50:19,645] INFO: convert_xsd:1010 >> Processing xnat:resource (base class xnat:abstractResource)\n",
      "[2020-02-17 08:50:19,686] INFO: convert_xsd:1010 >> Processing xnat:imageResource (base class xnat:resource)\n",
      "[2020-02-17 08:50:19,687] INFO: convert_xsd:1010 >> Processing xnatpy:imageResourceDimensions (base class None)\n",
      "[2020-02-17 08:50:19,688] INFO: convert_xsd:1010 >> Processing xnatpy:imageResourceVoxelres (base class None)\n",
      "[2020-02-17 08:50:19,689] INFO: convert_xsd:1010 >> Processing xnat:resourceSeries (base class xnat:abstractResource)\n",
      "[2020-02-17 08:50:19,690] INFO: convert_xsd:1010 >> Processing xnat:imageResourceSeries (base class xnat:resourceSeries)\n",
      "[2020-02-17 08:50:19,691] INFO: convert_xsd:1010 >> Processing xnatpy:imageResourceSeriesDimensions (base class None)\n",
      "[2020-02-17 08:50:19,692] INFO: convert_xsd:1010 >> Processing xnatpy:imageResourceSeriesVoxelres (base class None)\n",
      "[2020-02-17 08:50:19,693] INFO: convert_xsd:1010 >> Processing xnat:dicomSeries (base class xnat:abstractResource)\n",
      "[2020-02-17 08:50:19,694] INFO: convert_xsd:1010 >> Processing xnatpy:dicomSeriesDimensions (base class None)\n",
      "[2020-02-17 08:50:19,695] INFO: convert_xsd:1010 >> Processing xnatpy:dicomSeriesVoxelres (base class None)\n",
      "[2020-02-17 08:50:19,696] INFO: convert_xsd:1010 >> Processing xnatpy:dicomSeriesImageset (base class None)\n",
      "[2020-02-17 08:50:19,697] INFO: convert_xsd:1010 >> Processing xnat:publicationResource (base class xnat:abstractResource)\n",
      "[2020-02-17 08:50:19,697] INFO: convert_xsd:1010 >> Processing xnat:abstractProtocol (base class None)\n",
      "[2020-02-17 08:50:19,698] INFO: convert_xsd:1010 >> Processing xnat:studyProtocol (base class xnat:abstractProtocol)\n",
      "[2020-02-17 08:50:19,699] INFO: convert_xsd:1010 >> Processing xnatpy:studyProtocolAcqconditions (base class None)\n",
      "[2020-02-17 08:50:19,700] INFO: convert_xsd:1010 >> Processing xnatpy:studyProtocolSubjectgroups (base class None)\n",
      "[2020-02-17 08:50:19,701] INFO: convert_xsd:1010 >> Processing xnatpy:studyProtocolSubjectvariables (base class None)\n",
      "[2020-02-17 08:50:19,702] INFO: convert_xsd:1010 >> Processing xnatpy:studyProtocolImagesessiontypes (base class None)\n",
      "[2020-02-17 08:50:19,702] DEBUG: convert_xsd:997 >> Wait with processing xnat:petAssessorData because base xnat:imageAssessorData is not yet processed\n",
      "[2020-02-17 08:50:19,703] INFO: convert_xsd:1010 >> Processing xnat:petSessionData (base class xnat:imageSessionData)\n",
      "[2020-02-17 08:50:19,704] INFO: convert_xsd:1010 >> Processing xnatpy:petSessionDataTracer (base class None)\n",
      "[2020-02-17 08:50:19,705] DEBUG: convert_xsd:997 >> Wait with processing xnatpy:petSessionDataTracerDose because base xnatpy:doseFloat is not yet processed\n",
      "[2020-02-17 08:50:19,706] INFO: convert_xsd:1010 >> Processing xnatpy:doseFloat (base class None)\n",
      "[2020-02-17 08:50:19,706] DEBUG: convert_xsd:997 >> Wait with processing xnatpy:petSessionDataTracerTotalmass because base xnatpy:totalMassFloat is not yet processed\n",
      "[2020-02-17 08:50:19,707] INFO: convert_xsd:1010 >> Processing xnatpy:totalMassFloat (base class None)\n",
      "[2020-02-17 08:50:19,708] DEBUG: convert_xsd:997 >> Wait with processing xnatpy:petSessionDataTracerIntermediate because base xnatpy:intermediateFloat is not yet processed\n",
      "[2020-02-17 08:50:19,708] INFO: convert_xsd:1010 >> Processing xnatpy:intermediateFloat (base class None)\n",
      "[2020-02-17 08:50:19,709] DEBUG: convert_xsd:997 >> Wait with processing xnatpy:petSessionDataTracerIsotope because base xnatpy:isotopeString is not yet processed\n",
      "[2020-02-17 08:50:19,709] INFO: convert_xsd:1010 >> Processing xnatpy:isotopeString (base class None)\n",
      "[2020-02-17 08:50:19,710] INFO: convert_xsd:1010 >> Processing xnat:petmrSessionData (base class xnat:imageSessionData)\n",
      "[2020-02-17 08:50:19,711] INFO: convert_xsd:1010 >> Processing xnatpy:petmrSessionDataTracer (base class None)\n"
     ]
    },
    {
     "name": "stderr",
     "output_type": "stream",
     "text": [
      "[2020-02-17 08:50:19,712] INFO: convert_xsd:1010 >> Processing xnatpy:petmrSessionDataTracerDose (base class xnatpy:doseFloat)\n",
      "[2020-02-17 08:50:19,713] INFO: convert_xsd:1010 >> Processing xnatpy:petmrSessionDataTracerTotalmass (base class xnatpy:totalMassFloat)\n",
      "[2020-02-17 08:50:19,713] INFO: convert_xsd:1010 >> Processing xnatpy:petmrSessionDataTracerIntermediate (base class xnatpy:intermediateFloat)\n",
      "[2020-02-17 08:50:19,713] INFO: convert_xsd:1010 >> Processing xnatpy:petmrSessionDataTracerIsotope (base class xnatpy:isotopeString)\n",
      "[2020-02-17 08:50:19,714] DEBUG: convert_xsd:997 >> Wait with processing xnat:petScanData because base xnat:imageScanData is not yet processed\n",
      "[2020-02-17 08:50:19,714] DEBUG: convert_xsd:1004 >> Wait with processing xnatpy:petScanDataParameters because parent xnat:petScanData is not yet processed\n",
      "[2020-02-17 08:50:19,715] DEBUG: convert_xsd:1004 >> Wait with processing xnatpy:petScanDataParametersFrames because parent xnatpy:petScanDataParameters is not yet processed\n",
      "[2020-02-17 08:50:19,715] DEBUG: convert_xsd:1004 >> Wait with processing xnatpy:petScanDataParametersFramesFrame because parent xnatpy:petScanDataParametersFrames is not yet processed\n",
      "[2020-02-17 08:50:19,715] DEBUG: convert_xsd:1004 >> Wait with processing xnatpy:petScanDataParametersDimensions because parent xnatpy:petScanDataParameters is not yet processed\n",
      "[2020-02-17 08:50:19,715] DEBUG: convert_xsd:1004 >> Wait with processing xnatpy:petScanDataParametersOffset because parent xnatpy:petScanDataParameters is not yet processed\n",
      "[2020-02-17 08:50:19,716] DEBUG: convert_xsd:1004 >> Wait with processing xnatpy:petScanDataParametersPixelsize because parent xnatpy:petScanDataParameters is not yet processed\n",
      "[2020-02-17 08:50:19,716] DEBUG: convert_xsd:1004 >> Wait with processing xnatpy:petScanDataParametersResolution because parent xnatpy:petScanDataParameters is not yet processed\n",
      "[2020-02-17 08:50:19,717] DEBUG: convert_xsd:1004 >> Wait with processing xnatpy:petScanDataParametersFilter because parent xnatpy:petScanDataParameters is not yet processed\n",
      "[2020-02-17 08:50:19,717] DEBUG: convert_xsd:1004 >> Wait with processing xnatpy:petScanDataParametersRfilter because parent xnatpy:petScanDataParameters is not yet processed\n",
      "[2020-02-17 08:50:19,717] DEBUG: convert_xsd:1004 >> Wait with processing xnatpy:petScanDataParametersZfilter because parent xnatpy:petScanDataParameters is not yet processed\n",
      "[2020-02-17 08:50:19,717] DEBUG: convert_xsd:997 >> Wait with processing xnatpy:petScanDataEcatvalidation because base xnatpy:ecatValidationString is not yet processed\n",
      "[2020-02-17 08:50:19,718] INFO: convert_xsd:1010 >> Processing xnatpy:ecatValidationString (base class None)\n",
      "[2020-02-17 08:50:19,718] INFO: convert_xsd:1010 >> Processing xnat:computationData (base class None)\n",
      "[2020-02-17 08:50:19,718] INFO: convert_xsd:1010 >> Processing xnat:regionResource (base class None)\n",
      "[2020-02-17 08:50:19,719] INFO: convert_xsd:1010 >> Processing xnatpy:regionResourceCreator (base class None)\n",
      "[2020-02-17 08:50:19,719] DEBUG: convert_xsd:997 >> Wait with processing xnatpy:regionResourceSubregionlabels because base xnatpy:labelString is not yet processed\n",
      "[2020-02-17 08:50:19,720] INFO: convert_xsd:1010 >> Processing xnatpy:labelString (base class None)\n",
      "[2020-02-17 08:50:19,720] INFO: convert_xsd:1010 >> Processing xnat:resourceCatalog (base class xnat:resource)\n",
      "[2020-02-17 08:50:19,720] DEBUG: convert_xsd:997 >> Wait with processing xnat:statisticsData because base xnat:abstractStatistics is not yet processed\n",
      "[2020-02-17 08:50:19,721] DEBUG: convert_xsd:997 >> Wait with processing xnatpy:statisticsDataAdditionalstatistics because base xnatpy:additionalStatisticsDouble is not yet processed\n",
      "[2020-02-17 08:50:19,721] INFO: convert_xsd:1010 >> Processing xnatpy:additionalStatisticsDouble (base class None)\n",
      "[2020-02-17 08:50:19,721] DEBUG: convert_xsd:997 >> Wait with processing xnatpy:statisticsDataAddfield because base xnatpy:addFieldString is not yet processed\n",
      "[2020-02-17 08:50:19,722] INFO: convert_xsd:1010 >> Processing xnatpy:addFieldString (base class None)\n",
      "[2020-02-17 08:50:19,722] INFO: convert_xsd:1010 >> Processing xnat:abstractStatistics (base class None)\n",
      "[2020-02-17 08:50:19,722] DEBUG: convert_xsd:997 >> Wait with processing xnat:qcAssessmentData because base xnat:mrAssessorData is not yet processed\n",
      "[2020-02-17 08:50:19,723] DEBUG: convert_xsd:1004 >> Wait with processing xnatpy:qcAssessmentDataScans because parent xnat:qcAssessmentData is not yet processed\n",
      "[2020-02-17 08:50:19,723] DEBUG: convert_xsd:1004 >> Wait with processing xnatpy:qcAssessmentDataScansScanSliceqc because parent xnatpy:qcAssessmentDataScansScan is not yet processed\n",
      "[2020-02-17 08:50:19,723] INFO: convert_xsd:1010 >> Processing xnat:datatypeProtocol (base class xnat:abstractProtocol)\n",
      "[2020-02-17 08:50:19,724] INFO: convert_xsd:1010 >> Processing xnat:fieldDefinitionGroup (base class None)\n",
      "[2020-02-17 08:50:19,724] INFO: convert_xsd:1010 >> Processing xnatpy:fieldDefinitionGroupFields (base class None)\n",
      "[2020-02-17 08:50:19,725] DEBUG: convert_xsd:997 >> Wait with processing xnatpy:fieldDefinitionGroupFieldsFieldPossiblevalues because base xnatpy:possibleValueString is not yet processed\n",
      "[2020-02-17 08:50:19,725] INFO: convert_xsd:1010 >> Processing xnatpy:possibleValueString (base class None)\n",
      "[2020-02-17 08:50:19,726] INFO: convert_xsd:1010 >> Processing xnat:contrastBolus (base class None)\n",
      "[2020-02-17 08:50:19,726] INFO: convert_xsd:1010 >> Processing xnat:imageAssessorData (base class xnat:derivedData)\n",
      "[2020-02-17 08:50:19,727] INFO: convert_xsd:1010 >> Processing xnat:imageScanData (base class None)\n",
      "[2020-02-17 08:50:19,728] INFO: convert_xsd:1010 >> Processing xnatpy:imageScanDataSharing (base class xnatpy:shareString)\n",
      "[2020-02-17 08:50:19,728] INFO: convert_xsd:1010 >> Processing xnatpy:imageScanDataScanner (base class xnatpy:scannerString)\n",
      "[2020-02-17 08:50:19,729] INFO: convert_xsd:1010 >> Processing xnat:ctSessionData (base class xnat:imageSessionData)\n",
      "[2020-02-17 08:50:19,729] INFO: convert_xsd:1010 >> Processing xnat:ctScanData (base class xnat:imageScanData)\n",
      "[2020-02-17 08:50:19,730] INFO: convert_xsd:1010 >> Processing xnatpy:ctScanDataParameters (base class None)\n",
      "[2020-02-17 08:50:19,732] INFO: convert_xsd:1010 >> Processing xnatpy:ctScanDataParametersVoxelres (base class None)\n",
      "[2020-02-17 08:50:19,733] INFO: convert_xsd:1010 >> Processing xnatpy:ctScanDataParametersFov (base class None)\n",
      "[2020-02-17 08:50:19,734] INFO: convert_xsd:1010 >> Processing xnatpy:ctScanDataParametersRescale (base class None)\n",
      "[2020-02-17 08:50:19,735] INFO: convert_xsd:1010 >> Processing xnatpy:ctScanDataParametersCollimationwidth (base class None)\n",
      "[2020-02-17 08:50:19,736] DEBUG: convert_xsd:997 >> Wait with processing xnatpy:ctScanDataParametersEstimateddosesaving because base xnatpy:estimatedDoseSavingFloat is not yet processed\n",
      "[2020-02-17 08:50:19,737] INFO: convert_xsd:1010 >> Processing xnatpy:estimatedDoseSavingFloat (base class None)\n",
      "[2020-02-17 08:50:19,737] DEBUG: convert_xsd:997 >> Wait with processing xnatpy:ctScanDataParametersDerivation because base xnatpy:derivationString is not yet processed\n",
      "[2020-02-17 08:50:19,738] INFO: convert_xsd:1010 >> Processing xnatpy:derivationString (base class None)\n",
      "[2020-02-17 08:50:19,738] INFO: convert_xsd:1010 >> Processing xnatpy:ctScanDataDcmvalidation (base class xnatpy:dcmValidationString)\n",
      "[2020-02-17 08:50:19,739] INFO: convert_xsd:1010 >> Processing xnat:crSessionData (base class xnat:imageSessionData)\n",
      "[2020-02-17 08:50:19,739] INFO: convert_xsd:1010 >> Processing xnat:crScanData (base class xnat:imageScanData)\n",
      "[2020-02-17 08:50:19,740] INFO: convert_xsd:1010 >> Processing xnat:dxSessionData (base class xnat:imageSessionData)\n",
      "[2020-02-17 08:50:19,742] INFO: convert_xsd:1010 >> Processing xnat:dxScanData (base class xnat:imageScanData)\n",
      "[2020-02-17 08:50:19,742] INFO: convert_xsd:1010 >> Processing xnat:mgSessionData (base class xnat:imageSessionData)\n",
      "[2020-02-17 08:50:19,743] INFO: convert_xsd:1010 >> Processing xnat:mgScanData (base class xnat:imageScanData)\n",
      "[2020-02-17 08:50:19,743] INFO: convert_xsd:1010 >> Processing xnat:ioSessionData (base class xnat:imageSessionData)\n"
     ]
    },
    {
     "name": "stderr",
     "output_type": "stream",
     "text": [
      "[2020-02-17 08:50:19,743] INFO: convert_xsd:1010 >> Processing xnat:ioScanData (base class xnat:imageScanData)\n",
      "[2020-02-17 08:50:19,744] INFO: convert_xsd:1010 >> Processing xnat:usSessionData (base class xnat:imageSessionData)\n",
      "[2020-02-17 08:50:19,744] INFO: convert_xsd:1010 >> Processing xnat:usScanData (base class xnat:imageScanData)\n",
      "[2020-02-17 08:50:19,745] INFO: convert_xsd:1010 >> Processing xnat:ecgSessionData (base class xnat:imageSessionData)\n",
      "[2020-02-17 08:50:19,745] INFO: convert_xsd:1010 >> Processing xnat:ecgScanData (base class xnat:imageScanData)\n",
      "[2020-02-17 08:50:19,746] INFO: convert_xsd:1010 >> Processing xnat:hdSessionData (base class xnat:imageSessionData)\n",
      "[2020-02-17 08:50:19,746] INFO: convert_xsd:1010 >> Processing xnat:hdScanData (base class xnat:imageScanData)\n",
      "[2020-02-17 08:50:19,746] INFO: convert_xsd:1010 >> Processing xnat:epsSessionData (base class xnat:imageSessionData)\n",
      "[2020-02-17 08:50:19,747] INFO: convert_xsd:1010 >> Processing xnat:epsScanData (base class xnat:imageScanData)\n",
      "[2020-02-17 08:50:19,747] INFO: convert_xsd:1010 >> Processing xnat:xaSessionData (base class xnat:imageSessionData)\n",
      "[2020-02-17 08:50:19,747] INFO: convert_xsd:1010 >> Processing xnat:xaScanData (base class xnat:imageScanData)\n",
      "[2020-02-17 08:50:19,748] INFO: convert_xsd:1010 >> Processing xnatpy:xaScanDataParameters (base class None)\n",
      "[2020-02-17 08:50:19,749] INFO: convert_xsd:1010 >> Processing xnatpy:xaScanDataParametersPixelres (base class None)\n",
      "[2020-02-17 08:50:19,749] INFO: convert_xsd:1010 >> Processing xnatpy:xaScanDataParametersFov (base class None)\n",
      "[2020-02-17 08:50:19,749] INFO: convert_xsd:1010 >> Processing xnat:rfSessionData (base class xnat:imageSessionData)\n",
      "[2020-02-17 08:50:19,750] INFO: convert_xsd:1010 >> Processing xnat:rfScanData (base class xnat:imageScanData)\n",
      "[2020-02-17 08:50:19,750] INFO: convert_xsd:1010 >> Processing xnat:xa3DSessionData (base class xnat:imageSessionData)\n",
      "[2020-02-17 08:50:19,751] INFO: convert_xsd:1010 >> Processing xnat:xa3DScanData (base class xnat:imageScanData)\n",
      "[2020-02-17 08:50:19,751] INFO: convert_xsd:1010 >> Processing xnat:dx3DCraniofacialSessionData (base class xnat:imageSessionData)\n",
      "[2020-02-17 08:50:19,752] INFO: convert_xsd:1010 >> Processing xnat:dx3DCraniofacialScanData (base class xnat:imageScanData)\n",
      "[2020-02-17 08:50:19,752] INFO: convert_xsd:1010 >> Processing xnat:nmSessionData (base class xnat:imageSessionData)\n",
      "[2020-02-17 08:50:19,753] INFO: convert_xsd:1010 >> Processing xnat:nmScanData (base class xnat:imageScanData)\n",
      "[2020-02-17 08:50:19,753] INFO: convert_xsd:1010 >> Processing xnat:srSessionData (base class xnat:imageSessionData)\n",
      "[2020-02-17 08:50:19,753] INFO: convert_xsd:1010 >> Processing xnat:srScanData (base class xnat:imageScanData)\n",
      "[2020-02-17 08:50:19,754] INFO: convert_xsd:1010 >> Processing xnat:esSessionData (base class xnat:imageSessionData)\n",
      "[2020-02-17 08:50:19,754] INFO: convert_xsd:1010 >> Processing xnat:esScanData (base class xnat:imageScanData)\n",
      "[2020-02-17 08:50:19,754] INFO: convert_xsd:1010 >> Processing xnat:esvSessionData (base class xnat:imageSessionData)\n",
      "[2020-02-17 08:50:19,755] INFO: convert_xsd:1010 >> Processing xnat:esvScanData (base class xnat:imageScanData)\n",
      "[2020-02-17 08:50:19,755] INFO: convert_xsd:1010 >> Processing xnat:gmSessionData (base class xnat:imageSessionData)\n",
      "[2020-02-17 08:50:19,755] INFO: convert_xsd:1010 >> Processing xnat:gmScanData (base class xnat:imageScanData)\n",
      "[2020-02-17 08:50:19,756] INFO: convert_xsd:1010 >> Processing xnat:gmvSessionData (base class xnat:imageSessionData)\n",
      "[2020-02-17 08:50:19,756] INFO: convert_xsd:1010 >> Processing xnat:gmvScanData (base class xnat:imageScanData)\n",
      "[2020-02-17 08:50:19,756] INFO: convert_xsd:1010 >> Processing xnat:smSessionData (base class xnat:imageSessionData)\n",
      "[2020-02-17 08:50:19,757] INFO: convert_xsd:1010 >> Processing xnat:smScanData (base class xnat:imageScanData)\n",
      "[2020-02-17 08:50:19,757] INFO: convert_xsd:1010 >> Processing xnat:xcSessionData (base class xnat:imageSessionData)\n",
      "[2020-02-17 08:50:19,758] INFO: convert_xsd:1010 >> Processing xnat:xcScanData (base class xnat:imageScanData)\n",
      "[2020-02-17 08:50:19,758] INFO: convert_xsd:1010 >> Processing xnat:xcvSessionData (base class xnat:imageSessionData)\n",
      "[2020-02-17 08:50:19,758] INFO: convert_xsd:1010 >> Processing xnat:xcvScanData (base class xnat:imageScanData)\n",
      "[2020-02-17 08:50:19,758] INFO: convert_xsd:1010 >> Processing xnat:opSessionData (base class xnat:imageSessionData)\n",
      "[2020-02-17 08:50:19,759] INFO: convert_xsd:1010 >> Processing xnat:opScanData (base class xnat:imageScanData)\n",
      "[2020-02-17 08:50:19,759] INFO: convert_xsd:1010 >> Processing xnat:optSessionData (base class xnat:imageSessionData)\n",
      "[2020-02-17 08:50:19,760] INFO: convert_xsd:1010 >> Processing xnat:optScanData (base class xnat:imageScanData)\n",
      "[2020-02-17 08:50:19,760] INFO: convert_xsd:1010 >> Processing xnatpy:optScanDataParameters (base class None)\n",
      "[2020-02-17 08:50:19,761] INFO: convert_xsd:1010 >> Processing xnatpy:optScanDataParametersVoxelres (base class None)\n",
      "[2020-02-17 08:50:19,762] INFO: convert_xsd:1010 >> Processing xnatpy:optScanDataParametersFov (base class None)\n",
      "[2020-02-17 08:50:19,763] INFO: convert_xsd:1010 >> Processing xnatpy:optScanDataDcmvalidation (base class xnatpy:dcmValidationString)\n",
      "[2020-02-17 08:50:19,763] INFO: convert_xsd:1010 >> Processing xnat:rtSessionData (base class xnat:imageSessionData)\n",
      "[2020-02-17 08:50:19,764] INFO: convert_xsd:1010 >> Processing xnat:rtImageScanData (base class xnat:imageScanData)\n",
      "[2020-02-17 08:50:19,764] INFO: convert_xsd:1010 >> Processing xnat:otherDicomSessionData (base class xnat:imageSessionData)\n",
      "[2020-02-17 08:50:19,764] INFO: convert_xsd:1010 >> Processing xnat:scScanData (base class xnat:imageScanData)\n",
      "[2020-02-17 08:50:19,765] INFO: convert_xsd:1010 >> Processing xnat:segScanData (base class xnat:imageScanData)\n",
      "[2020-02-17 08:50:19,765] INFO: convert_xsd:1010 >> Processing xnat:mrsScanData (base class xnat:imageScanData)\n",
      "[2020-02-17 08:50:19,765] INFO: convert_xsd:1010 >> Processing xnat:voiceAudioScanData (base class xnat:imageScanData)\n",
      "[2020-02-17 08:50:19,765] INFO: convert_xsd:1010 >> Processing xnat:otherDicomScanData (base class xnat:imageScanData)\n",
      "[2020-02-17 08:50:19,765] INFO: convert_xsd:1010 >> Processing xnat:qcScanData (base class None)\n",
      "[2020-02-17 08:50:19,766] DEBUG: convert_xsd:997 >> Wait with processing xnatpy:qcScanDataRating because base xnatpy:ratingString is not yet processed\n",
      "[2020-02-17 08:50:19,766] INFO: convert_xsd:1010 >> Processing xnatpy:ratingString (base class None)\n",
      "[2020-02-17 08:50:19,767] INFO: convert_xsd:1010 >> Processing xnatpy:qcScanDataFields (base class xnatpy:fieldString)\n",
      "[2020-02-17 08:50:19,767] INFO: convert_xsd:1010 >> Processing xnat:mrQcScanData (base class xnat:qcScanData)\n",
      "[2020-02-17 08:50:19,768] INFO: convert_xsd:1010 >> Processing xnat:petQcScanData (base class xnat:qcScanData)\n",
      "[2020-02-17 08:50:19,769] INFO: convert_xsd:1010 >> Processing xnat:otherQcScanData (base class xnat:qcScanData)\n",
      "[2020-02-17 08:50:19,770] INFO: convert_xsd:1010 >> Processing xnat:qcManualAssessorData (base class xnat:imageAssessorData)\n",
      "[2020-02-17 08:50:19,771] INFO: convert_xsd:1010 >> Processing xnat:megSessionData (base class xnat:imageSessionData)\n",
      "[2020-02-17 08:50:19,771] INFO: convert_xsd:1010 >> Processing xnat:megScanData (base class xnat:imageScanData)\n",
      "[2020-02-17 08:50:19,771] INFO: convert_xsd:1010 >> Processing xnat:eegSessionData (base class xnat:imageSessionData)\n",
      "[2020-02-17 08:50:19,772] DEBUG: convert_xsd:997 >> Wait with processing xnatpy:eegSessionDataSamplingrate because base xnatpy:samplingRateFloat is not yet processed\n",
      "[2020-02-17 08:50:19,772] INFO: convert_xsd:1010 >> Processing xnatpy:samplingRateFloat (base class None)\n",
      "[2020-02-17 08:50:19,773] DEBUG: convert_xsd:997 >> Wait with processing xnatpy:eegSessionDataSamplinginterval because base xnatpy:samplingIntervalFloat is not yet processed\n",
      "[2020-02-17 08:50:19,773] INFO: convert_xsd:1010 >> Processing xnatpy:samplingIntervalFloat (base class None)\n",
      "[2020-02-17 08:50:19,774] INFO: convert_xsd:1010 >> Processing xnat:eegScanData (base class xnat:imageScanData)\n",
      "[2020-02-17 08:50:19,775] INFO: convert_xsd:1010 >> Processing xnatpy:eegScanDataParameters (base class None)\n"
     ]
    },
    {
     "name": "stderr",
     "output_type": "stream",
     "text": [
      "[2020-02-17 08:50:19,775] INFO: convert_xsd:1010 >> Processing xnatpy:eegScanDataParametersDatarecord (base class None)\n",
      "[2020-02-17 08:50:19,776] INFO: convert_xsd:1010 >> Processing xnatpy:eegScanDataChannels (base class None)\n",
      "[2020-02-17 08:50:19,777] INFO: convert_xsd:1010 >> Processing xnatpy:eegScanDataSoftwarefiltersimpedances (base class None)\n",
      "[2020-02-17 08:50:19,778] INFO: convert_xsd:1010 >> Processing xnatpy:eegScanDataSoftwarefiltersimpedancesImpedance (base class None)\n",
      "[2020-02-17 08:50:19,779] INFO: convert_xsd:1010 >> Processing xnat_a:sideEffectsPittsburghData (base class xnat:subjectAssessorData)\n",
      "[2020-02-17 08:50:19,780] INFO: convert_xsd:1010 >> Processing xnat_a:ybocsData (base class xnat:subjectAssessorData)\n",
      "[2020-02-17 08:50:19,782] INFO: convert_xsd:1010 >> Processing xnat_a:ygtssData (base class xnat:subjectAssessorData)\n",
      "[2020-02-17 08:50:19,783] INFO: convert_xsd:1010 >> Processing xnatpy:ygtssDataMotor (base class None)\n",
      "[2020-02-17 08:50:19,784] INFO: convert_xsd:1010 >> Processing xnatpy:ygtssDataPhonic (base class None)\n",
      "[2020-02-17 08:50:19,785] INFO: convert_xsd:1010 >> Processing xnat_a:updrs3Data (base class xnat:subjectAssessorData)\n",
      "[2020-02-17 08:50:19,787] INFO: convert_xsd:1010 >> Processing xnatpy:updrs3DataClicker (base class None)\n",
      "[2020-02-17 08:50:19,788] INFO: convert_xsd:1010 >> Processing xnatpy:updrs3DataTremorrest (base class None)\n",
      "[2020-02-17 08:50:19,788] INFO: convert_xsd:1010 >> Processing xnatpy:updrs3DataRigidity (base class None)\n",
      "[2020-02-17 08:50:19,789] INFO: convert_xsd:1010 >> Processing xnatpy:updrs3DataHandmovementsgrip (base class None)\n",
      "[2020-02-17 08:50:19,790] INFO: convert_xsd:1010 >> Processing xnatpy:updrs3DataActionposturaltremor (base class None)\n",
      "[2020-02-17 08:50:19,790] INFO: convert_xsd:1010 >> Processing xnatpy:updrs3DataHandsram (base class None)\n",
      "[2020-02-17 08:50:19,791] INFO: convert_xsd:1010 >> Processing xnatpy:updrs3DataFingertaps (base class None)\n",
      "[2020-02-17 08:50:19,792] INFO: convert_xsd:1010 >> Processing xnatpy:updrs3DataFoottaps (base class None)\n",
      "[2020-02-17 08:50:19,793] INFO: convert_xsd:1010 >> Processing xnat_a:scidResearchData (base class xnat:subjectAssessorData)\n",
      "[2020-02-17 08:50:19,794] INFO: convert_xsd:1010 >> Processing xnatpy:scidResearchDataMoodepisodes (base class None)\n",
      "[2020-02-17 08:50:19,795] INFO: convert_xsd:1010 >> Processing xnatpy:scidResearchDataPsychoticsymptoms (base class None)\n",
      "[2020-02-17 08:50:19,796] INFO: convert_xsd:1010 >> Processing xnatpy:scidResearchDataPsychoticdisorders (base class None)\n",
      "[2020-02-17 08:50:19,798] INFO: convert_xsd:1010 >> Processing xnatpy:scidResearchDataMooddisorders (base class None)\n",
      "[2020-02-17 08:50:19,799] INFO: convert_xsd:1010 >> Processing xnatpy:scidResearchDataSubstanceusedisorders (base class None)\n",
      "[2020-02-17 08:50:19,801] INFO: convert_xsd:1010 >> Processing xnatpy:scidResearchDataAnxietydisorders (base class None)\n",
      "[2020-02-17 08:50:19,802] INFO: convert_xsd:1010 >> Processing xnatpy:scidResearchDataSomatoformdisorders (base class None)\n",
      "[2020-02-17 08:50:19,802] INFO: convert_xsd:1010 >> Processing xnatpy:scidResearchDataEatingdisorders (base class None)\n",
      "[2020-02-17 08:50:19,803] INFO: convert_xsd:1010 >> Processing xnatpy:scidResearchDataOptional (base class None)\n",
      "[2020-02-17 08:50:19,804] INFO: convert_xsd:1010 >> Processing scr:screeningAssessment (base class xnat:imageAssessorData)\n",
      "[2020-02-17 08:50:19,805] INFO: convert_xsd:1010 >> Processing scr:screeningScanData (base class None)\n",
      "[2020-02-17 08:50:19,806] INFO: convert_xsd:1010 >> Processing build:imageSessionData (base class None)\n",
      "[2020-02-17 08:50:19,806] DEBUG: convert_xsd:997 >> Wait with processing xnatpy:imageSessionDataPipeline because base build:pipelineData is not yet processed\n",
      "[2020-02-17 08:50:19,806] INFO: convert_xsd:1010 >> Processing build:pipelineParameterData (base class None)\n",
      "[2020-02-17 08:50:19,807] INFO: convert_xsd:1010 >> Processing xnatpy:pipelineParameterDataParameter (base class None)\n",
      "[2020-02-17 08:50:19,808] INFO: convert_xsd:1010 >> Processing build:pipelineData (base class None)\n",
      "[2020-02-17 08:50:19,809] INFO: convert_xsd:1010 >> Processing build:buildData (base class None)\n",
      "[2020-02-17 08:50:19,810] INFO: convert_xsd:1010 >> Processing pipe:pipelineDetails (base class None)\n",
      "[2020-02-17 08:50:19,811] INFO: convert_xsd:1010 >> Processing xnatpy:pipelineDetailsParameters (base class None)\n",
      "[2020-02-17 08:50:19,812] INFO: convert_xsd:1010 >> Processing xnatpy:pipelineDetailsParametersParameterValues (base class None)\n",
      "[2020-02-17 08:50:19,813] INFO: convert_xsd:1010 >> Processing wrk:workflowData (base class None)\n",
      "[2020-02-17 08:50:19,815] INFO: convert_xsd:1010 >> Processing wrk:abstractExecutionEnvironment (base class None)\n",
      "[2020-02-17 08:50:19,815] INFO: convert_xsd:1010 >> Processing wrk:xnatExecutionEnvironment (base class wrk:abstractExecutionEnvironment)\n",
      "[2020-02-17 08:50:19,816] DEBUG: convert_xsd:997 >> Wait with processing xnatpy:xnatExecutionEnvironmentParameters because base xnatpy:parameterString is not yet processed\n",
      "[2020-02-17 08:50:19,816] INFO: convert_xsd:1010 >> Processing xnatpy:parameterString (base class None)\n",
      "[2020-02-17 08:50:19,817] INFO: convert_xsd:1010 >> Processing xnatpy:xnatExecutionEnvironmentParameterfile (base class None)\n",
      "[2020-02-17 08:50:19,817] INFO: convert_xsd:1010 >> Processing prov:process (base class None)\n",
      "[2020-02-17 08:50:19,818] INFO: convert_xsd:1010 >> Processing prov:processStep (base class None)\n",
      "[2020-02-17 08:50:19,819] DEBUG: convert_xsd:997 >> Wait with processing xnatpy:processStepProgram because base xnatpy:programString is not yet processed\n",
      "[2020-02-17 08:50:19,819] INFO: convert_xsd:1010 >> Processing xnatpy:programString (base class None)\n",
      "[2020-02-17 08:50:19,820] DEBUG: convert_xsd:997 >> Wait with processing xnatpy:processStepPlatform because base xnatpy:platformString is not yet processed\n",
      "[2020-02-17 08:50:19,820] INFO: convert_xsd:1010 >> Processing xnatpy:platformString (base class None)\n",
      "[2020-02-17 08:50:19,821] DEBUG: convert_xsd:997 >> Wait with processing xnatpy:processStepCompiler because base xnatpy:compilerString is not yet processed\n",
      "[2020-02-17 08:50:19,821] INFO: convert_xsd:1010 >> Processing xnatpy:compilerString (base class None)\n",
      "[2020-02-17 08:50:19,822] DEBUG: convert_xsd:997 >> Wait with processing xnatpy:processStepLibrary because base xnatpy:libraryString is not yet processed\n",
      "[2020-02-17 08:50:19,825] INFO: convert_xsd:1010 >> Processing xnatpy:libraryString (base class None)\n",
      "[2020-02-17 08:50:19,825] INFO: convert_xsd:1010 >> Processing cat:catalog (base class None)\n",
      "[2020-02-17 08:50:19,826] DEBUG: convert_xsd:997 >> Wait with processing xnatpy:catalogMetafields because base xnatpy:metaFieldString is not yet processed\n",
      "[2020-02-17 08:50:19,826] INFO: convert_xsd:1010 >> Processing xnatpy:metaFieldString (base class None)\n",
      "[2020-02-17 08:50:19,827] INFO: convert_xsd:1010 >> Processing cat:entry (base class None)\n",
      "[2020-02-17 08:50:19,828] INFO: convert_xsd:1010 >> Processing xnatpy:entryMetafields (base class xnatpy:metaFieldString)\n",
      "[2020-02-17 08:50:19,828] INFO: convert_xsd:1010 >> Processing cat:dcmEntry (base class cat:entry)\n",
      "[2020-02-17 08:50:19,829] INFO: convert_xsd:1010 >> Processing cat:dcmCatalog (base class cat:catalog)\n",
      "[2020-02-17 08:50:19,830] INFO: convert_xsd:1010 >> Processing xnatpy:dcmCatalogDimensions (base class None)\n",
      "[2020-02-17 08:50:19,830] INFO: convert_xsd:1010 >> Processing xnatpy:dcmCatalogVoxelres (base class None)\n",
      "[2020-02-17 08:50:19,831] INFO: convert_xsd:1010 >> Processing arc:project (base class None)\n",
      "[2020-02-17 08:50:19,832] INFO: convert_xsd:1010 >> Processing xnatpy:projectPipelines (base class None)\n",
      "[2020-02-17 08:50:19,833] INFO: convert_xsd:1010 >> Processing xnatpy:projectPipelinesDescendants (base class None)\n",
      "[2020-02-17 08:50:19,834] DEBUG: convert_xsd:997 >> Wait with processing xnatpy:projectPipelinesDescendantsDescendantPipeline because base arc:pipelineData is not yet processed\n",
      "[2020-02-17 08:50:19,834] DEBUG: convert_xsd:997 >> Wait with processing xnatpy:projectPipelinesPipeline because base arc:pipelineData is not yet processed\n",
      "[2020-02-17 08:50:19,834] INFO: convert_xsd:1010 >> Processing arc:pipelineData (base class None)\n"
     ]
    },
    {
     "name": "stderr",
     "output_type": "stream",
     "text": [
      "[2020-02-17 08:50:19,835] INFO: convert_xsd:1010 >> Processing arc:pipelineParameterData (base class None)\n",
      "[2020-02-17 08:50:19,836] DEBUG: convert_xsd:997 >> Wait with processing xnatpy:pipelineParameterDataCsvvalues because base xnatpy:csvValuesString is not yet processed\n",
      "[2020-02-17 08:50:19,837] INFO: convert_xsd:1010 >> Processing xnatpy:csvValuesString (base class None)\n",
      "[2020-02-17 08:50:19,837] INFO: convert_xsd:1010 >> Processing arc:pathInfo (base class None)\n",
      "[2020-02-17 08:50:19,838] DEBUG: convert_xsd:997 >> Wait with processing arc:property because base xnatpy:propertyString is not yet processed\n",
      "[2020-02-17 08:50:19,838] INFO: convert_xsd:1010 >> Processing xnatpy:propertyString (base class None)\n",
      "[2020-02-17 08:50:19,838] DEBUG: convert_xsd:997 >> Wait with processing arc:fieldSpecification because base xnatpy:fieldSpecificationString is not yet processed\n",
      "[2020-02-17 08:50:19,838] INFO: convert_xsd:1010 >> Processing xnatpy:fieldSpecificationString (base class None)\n",
      "[2020-02-17 08:50:19,839] INFO: convert_xsd:1010 >> Processing val:protocolData (base class xnat:imageAssessorData)\n",
      "[2020-02-17 08:50:19,839] INFO: convert_xsd:1010 >> Processing xnatpy:protocolDataCheck (base class None)\n",
      "[2020-02-17 08:50:19,840] INFO: convert_xsd:1010 >> Processing xnatpy:protocolDataCheckConditions (base class None)\n",
      "[2020-02-17 08:50:19,840] DEBUG: convert_xsd:997 >> Wait with processing xnatpy:protocolDataCheckComments because base xnatpy:commentString is not yet processed\n",
      "[2020-02-17 08:50:19,841] INFO: convert_xsd:1010 >> Processing xnatpy:commentString (base class None)\n",
      "[2020-02-17 08:50:19,841] INFO: convert_xsd:1010 >> Processing xnatpy:protocolDataScans (base class None)\n",
      "[2020-02-17 08:50:19,841] INFO: convert_xsd:1010 >> Processing xnatpy:protocolDataScansScan_checkConditions (base class None)\n",
      "[2020-02-17 08:50:19,842] INFO: convert_xsd:1010 >> Processing xnatpy:protocolDataScansScan_checkComments (base class xnatpy:commentString)\n",
      "[2020-02-17 08:50:19,842] INFO: convert_xsd:1010 >> Processing val:additionalVal (base class None)\n",
      "[2020-02-17 08:50:19,843] INFO: convert_xsd:1010 >> Processing display:HTML-Cell (base class None)\n",
      "[2020-02-17 08:50:19,844] INFO: convert_xsd:1010 >> Processing display:FieldType (base class None)\n",
      "[2020-02-17 08:50:19,845] DEBUG: convert_xsd:997 >> Wait with processing xnatpy:FieldTypeContent because base xnatpy:ContentString is not yet processed\n",
      "[2020-02-17 08:50:19,846] INFO: convert_xsd:1010 >> Processing xnatpy:ContentString (base class None)\n",
      "[2020-02-17 08:50:19,846] INFO: convert_xsd:1010 >> Processing xnatpy:FieldTypeHtml-link (base class None)\n",
      "[2020-02-17 08:50:19,846] INFO: convert_xsd:1010 >> Processing xnatpy:FieldTypeHtml-linkSecurelink (base class None)\n",
      "[2020-02-17 08:50:19,847] INFO: convert_xsd:1010 >> Processing xnatpy:FieldTypeHtml-linkSecurelinkSecuritymappingvalue (base class None)\n",
      "[2020-02-17 08:50:19,847] INFO: convert_xsd:1010 >> Processing xnatpy:FieldTypeHtml-linkProperty (base class None)\n",
      "[2020-02-17 08:50:19,848] INFO: convert_xsd:1010 >> Processing xnatpy:FieldTypeHtml-linkPropertyInsertvalue (base class None)\n",
      "[2020-02-17 08:50:19,848] INFO: convert_xsd:1010 >> Processing xnatpy:FieldTypeHtml-image (base class None)\n",
      "[2020-02-17 08:50:19,848] INFO: convert_xsd:1010 >> Processing display:SubQueryField (base class display:FieldType)\n",
      "[2020-02-17 08:50:19,849] INFO: convert_xsd:1010 >> Processing xnatpy:SubQueryFieldMappingcolumns (base class None)\n",
      "[2020-02-17 08:50:19,849] INFO: convert_xsd:1010 >> Processing xdat:LONGVARCHAR (base class None)\n",
      "[2020-02-17 08:50:19,850] INFO: convert_xsd:1010 >> Processing LayoutDescription (base class None)\n",
      "[2020-02-17 08:50:19,850] INFO: convert_xsd:1010 >> Processing xnatpy:LayoutDescriptionCoordinates (base class None)\n",
      "[2020-02-17 08:50:19,850] INFO: convert_xsd:1010 >> Processing SchemaLinkType (base class None)\n",
      "[2020-02-17 08:50:19,851] INFO: convert_xsd:1010 >> Processing PlexiViewerType (base class None)\n",
      "[2020-02-17 08:50:19,851] INFO: convert_xsd:1010 >> Processing xnatpy:PlexiViewerTypeViewableitem (base class None)\n",
      "[2020-02-17 08:50:19,852] INFO: convert_xsd:1010 >> Processing xnatpy:PlexiViewerTypeViewableitemSchemalink (base class SchemaLinkType)\n",
      "[2020-02-17 08:50:19,852] INFO: convert_xsd:1010 >> Processing xnatpy:PlexiViewerTypeViewableitemUserinterface (base class None)\n",
      "[2020-02-17 08:50:19,853] INFO: convert_xsd:1010 >> Processing xnatpy:PlexiViewerTypeViewableitemUserinterfaceLinkeddropdown (base class None)\n",
      "[2020-02-17 08:50:19,853] INFO: convert_xsd:1010 >> Processing xnatpy:PlexiViewerTypeViewableitemThumbnail (base class None)\n",
      "[2020-02-17 08:50:19,854] INFO: convert_xsd:1010 >> Processing xnatpy:PlexiViewerTypeViewableitemThumbnailSlice (base class None)\n",
      "[2020-02-17 08:50:19,854] INFO: convert_xsd:1010 >> Processing xnatpy:PlexiViewerTypeViewableitemLo-res (base class None)\n",
      "[2020-02-17 08:50:19,855] INFO: convert_xsd:1010 >> Processing xnatpy:PlexiViewerTypeViewableitemLo-resParameter (base class None)\n",
      "[2020-02-17 08:50:19,873] INFO: convert_xsd:1010 >> Processing xnatpy:PlexiViewerTypeViewableitemHi-res (base class None)\n",
      "[2020-02-17 08:50:19,874] INFO: convert_xsd:1010 >> Processing xnatpy:PlexiViewerTypeViewableitemHi-resLayer (base class SchemaLinkType)\n",
      "[2020-02-17 08:50:19,875] INFO: convert_xsd:1010 >> Processing xnatpy:PlexiViewerTypeViewableitemHi-resLayoutref (base class None)\n",
      "[2020-02-17 08:50:19,878] INFO: convert_xsd:1010 >> Processing icr:roiCollectionData (base class xnat:imageAssessorData)\n",
      "[2020-02-17 08:50:19,879] INFO: convert_xsd:1010 >> Processing xdat:primary_security_field (base class xnatpy:primary_security_fieldString)\n",
      "[2020-02-17 08:50:19,879] INFO: convert_xsd:1010 >> Processing xnatpy:userPrimary_password (base class xnatpy:primary_passwordString)\n",
      "[2020-02-17 08:50:19,884] INFO: convert_xsd:1010 >> Processing xnatpy:projectDataAliases (base class xnatpy:aliasString)\n",
      "[2020-02-17 08:50:19,885] INFO: convert_xsd:1010 >> Processing xnatpy:projectDataFields (base class xnatpy:fieldString)\n",
      "[2020-02-17 08:50:19,885] INFO: convert_xsd:1010 >> Processing xnatpy:subjectDataAddid (base class xnatpy:addIDString)\n",
      "[2020-02-17 08:50:19,886] INFO: convert_xsd:1010 >> Processing xnatpy:experimentDataSharing (base class xnatpy:shareString)\n",
      "[2020-02-17 08:50:19,887] INFO: convert_xsd:1010 >> Processing xnatpy:experimentDataDelay (base class xnatpy:delayInteger)\n",
      "[2020-02-17 08:50:19,887] INFO: convert_xsd:1010 >> Processing xnatpy:demographicDataWeight (base class xnatpy:weightFloat)\n",
      "[2020-02-17 08:50:19,887] INFO: convert_xsd:1010 >> Processing xnatpy:demographicDataHeight (base class xnatpy:heightFloat)\n",
      "[2020-02-17 08:50:19,888] INFO: convert_xsd:1010 >> Processing xnatpy:subjectVariablesDataVariables (base class xnatpy:variableString)\n",
      "[2020-02-17 08:50:19,888] INFO: convert_xsd:1010 >> Processing xnatpy:imageSessionDataScanner (base class xnatpy:scannerString)\n",
      "[2020-02-17 08:50:19,889] INFO: convert_xsd:1010 >> Processing xnat:mrAssessorData (base class xnat:imageAssessorData)\n",
      "[2020-02-17 08:50:19,889] INFO: convert_xsd:1010 >> Processing xnat:mrScanData (base class xnat:imageScanData)\n",
      "[2020-02-17 08:50:19,889] INFO: convert_xsd:1010 >> Processing xnatpy:mrScanDataParameters (base class None)\n",
      "[2020-02-17 08:50:19,891] INFO: convert_xsd:1010 >> Processing xnatpy:mrScanDataParametersVoxelres (base class None)\n",
      "[2020-02-17 08:50:19,892] INFO: convert_xsd:1010 >> Processing xnatpy:mrScanDataParametersFov (base class None)\n",
      "[2020-02-17 08:50:19,893] INFO: convert_xsd:1010 >> Processing xnatpy:mrScanDataParametersMatrix (base class None)\n",
      "[2020-02-17 08:50:19,893] INFO: convert_xsd:1010 >> Processing xnatpy:mrScanDataParametersDiffusion (base class None)\n",
      "[2020-02-17 08:50:19,894] INFO: convert_xsd:1010 >> Processing xnatpy:mrScanDataParametersInplanephaseencoding (base class None)\n",
      "[2020-02-17 08:50:19,895] INFO: convert_xsd:1010 >> Processing xnatpy:mrScanDataDcmvalidation (base class xnatpy:dcmValidationString)\n",
      "[2020-02-17 08:50:19,898] INFO: convert_xsd:1010 >> Processing xnat:addField (base class xdat:LONGVARCHAR)\n",
      "[2020-02-17 08:50:19,899] INFO: convert_xsd:1010 >> Processing xnatpy:abstractResourceTags (base class xnatpy:tagString)\n"
     ]
    },
    {
     "name": "stderr",
     "output_type": "stream",
     "text": [
      "[2020-02-17 08:50:19,900] INFO: convert_xsd:1010 >> Processing xnat:petAssessorData (base class xnat:imageAssessorData)\n",
      "[2020-02-17 08:50:19,903] INFO: convert_xsd:1010 >> Processing xnatpy:petSessionDataTracerDose (base class xnatpy:doseFloat)\n",
      "[2020-02-17 08:50:19,904] INFO: convert_xsd:1010 >> Processing xnatpy:petSessionDataTracerTotalmass (base class xnatpy:totalMassFloat)\n",
      "[2020-02-17 08:50:19,905] INFO: convert_xsd:1010 >> Processing xnatpy:petSessionDataTracerIntermediate (base class xnatpy:intermediateFloat)\n",
      "[2020-02-17 08:50:19,906] INFO: convert_xsd:1010 >> Processing xnatpy:petSessionDataTracerIsotope (base class xnatpy:isotopeString)\n",
      "[2020-02-17 08:50:19,907] INFO: convert_xsd:1010 >> Processing xnat:petScanData (base class xnat:imageScanData)\n",
      "[2020-02-17 08:50:19,908] INFO: convert_xsd:1010 >> Processing xnatpy:petScanDataParameters (base class None)\n",
      "[2020-02-17 08:50:19,911] INFO: convert_xsd:1010 >> Processing xnatpy:petScanDataParametersFrames (base class None)\n",
      "[2020-02-17 08:50:19,911] INFO: convert_xsd:1010 >> Processing xnatpy:petScanDataParametersFramesFrame (base class None)\n",
      "[2020-02-17 08:50:19,912] INFO: convert_xsd:1010 >> Processing xnatpy:petScanDataParametersDimensions (base class None)\n",
      "[2020-02-17 08:50:19,913] INFO: convert_xsd:1010 >> Processing xnatpy:petScanDataParametersOffset (base class None)\n",
      "[2020-02-17 08:50:19,914] INFO: convert_xsd:1010 >> Processing xnatpy:petScanDataParametersPixelsize (base class None)\n",
      "[2020-02-17 08:50:19,914] INFO: convert_xsd:1010 >> Processing xnatpy:petScanDataParametersResolution (base class None)\n",
      "[2020-02-17 08:50:19,915] INFO: convert_xsd:1010 >> Processing xnatpy:petScanDataParametersFilter (base class None)\n",
      "[2020-02-17 08:50:19,916] INFO: convert_xsd:1010 >> Processing xnatpy:petScanDataParametersRfilter (base class None)\n",
      "[2020-02-17 08:50:19,916] INFO: convert_xsd:1010 >> Processing xnatpy:petScanDataParametersZfilter (base class None)\n",
      "[2020-02-17 08:50:19,917] INFO: convert_xsd:1010 >> Processing xnatpy:petScanDataEcatvalidation (base class xnatpy:ecatValidationString)\n",
      "[2020-02-17 08:50:19,918] INFO: convert_xsd:1010 >> Processing xnatpy:regionResourceSubregionlabels (base class xnatpy:labelString)\n",
      "[2020-02-17 08:50:19,919] INFO: convert_xsd:1010 >> Processing xnat:statisticsData (base class xnat:abstractStatistics)\n",
      "[2020-02-17 08:50:19,920] INFO: convert_xsd:1010 >> Processing xnatpy:statisticsDataAdditionalstatistics (base class xnatpy:additionalStatisticsDouble)\n",
      "[2020-02-17 08:50:19,921] INFO: convert_xsd:1010 >> Processing xnatpy:statisticsDataAddfield (base class xnatpy:addFieldString)\n",
      "[2020-02-17 08:50:19,922] INFO: convert_xsd:1010 >> Processing xnat:qcAssessmentData (base class xnat:mrAssessorData)\n",
      "[2020-02-17 08:50:19,922] INFO: convert_xsd:1010 >> Processing xnatpy:qcAssessmentDataScans (base class None)\n",
      "[2020-02-17 08:50:19,923] INFO: convert_xsd:1010 >> Processing xnatpy:qcAssessmentDataScansScanSliceqc (base class None)\n",
      "[2020-02-17 08:50:19,924] INFO: convert_xsd:1010 >> Processing xnatpy:fieldDefinitionGroupFieldsFieldPossiblevalues (base class xnatpy:possibleValueString)\n",
      "[2020-02-17 08:50:19,925] INFO: convert_xsd:1010 >> Processing xnatpy:ctScanDataParametersEstimateddosesaving (base class xnatpy:estimatedDoseSavingFloat)\n",
      "[2020-02-17 08:50:19,925] INFO: convert_xsd:1010 >> Processing xnatpy:ctScanDataParametersDerivation (base class xnatpy:derivationString)\n",
      "[2020-02-17 08:50:19,926] INFO: convert_xsd:1010 >> Processing xnatpy:qcScanDataRating (base class xnatpy:ratingString)\n",
      "[2020-02-17 08:50:19,926] INFO: convert_xsd:1010 >> Processing xnatpy:eegSessionDataSamplingrate (base class xnatpy:samplingRateFloat)\n",
      "[2020-02-17 08:50:19,927] INFO: convert_xsd:1010 >> Processing xnatpy:eegSessionDataSamplinginterval (base class xnatpy:samplingIntervalFloat)\n",
      "[2020-02-17 08:50:19,928] INFO: convert_xsd:1010 >> Processing xnatpy:imageSessionDataPipeline (base class build:pipelineData)\n",
      "[2020-02-17 08:50:19,928] INFO: convert_xsd:1010 >> Processing xnatpy:xnatExecutionEnvironmentParameters (base class xnatpy:parameterString)\n",
      "[2020-02-17 08:50:19,929] INFO: convert_xsd:1010 >> Processing xnatpy:processStepProgram (base class xnatpy:programString)\n",
      "[2020-02-17 08:50:19,929] INFO: convert_xsd:1010 >> Processing xnatpy:processStepPlatform (base class xnatpy:platformString)\n",
      "[2020-02-17 08:50:19,930] INFO: convert_xsd:1010 >> Processing xnatpy:processStepCompiler (base class xnatpy:compilerString)\n",
      "[2020-02-17 08:50:19,930] INFO: convert_xsd:1010 >> Processing xnatpy:processStepLibrary (base class xnatpy:libraryString)\n",
      "[2020-02-17 08:50:19,930] INFO: convert_xsd:1010 >> Processing xnatpy:catalogMetafields (base class xnatpy:metaFieldString)\n",
      "[2020-02-17 08:50:19,931] INFO: convert_xsd:1010 >> Processing xnatpy:projectPipelinesDescendantsDescendantPipeline (base class arc:pipelineData)\n",
      "[2020-02-17 08:50:19,931] INFO: convert_xsd:1010 >> Processing xnatpy:projectPipelinesPipeline (base class arc:pipelineData)\n",
      "[2020-02-17 08:50:19,932] INFO: convert_xsd:1010 >> Processing xnatpy:pipelineParameterDataCsvvalues (base class xnatpy:csvValuesString)\n",
      "[2020-02-17 08:50:19,932] INFO: convert_xsd:1010 >> Processing arc:property (base class xnatpy:propertyString)\n",
      "[2020-02-17 08:50:19,933] INFO: convert_xsd:1010 >> Processing arc:fieldSpecification (base class xnatpy:fieldSpecificationString)\n",
      "[2020-02-17 08:50:19,933] INFO: convert_xsd:1010 >> Processing xnatpy:protocolDataCheckComments (base class xnatpy:commentString)\n",
      "[2020-02-17 08:50:19,933] INFO: convert_xsd:1010 >> Processing xnatpy:FieldTypeContent (base class xnatpy:ContentString)\n",
      "[2020-02-17 08:50:19,934] DEBUG: convert_xsd:1019 >> Visited: 362, expected: 362\n",
      "[2020-02-17 08:50:19,935] DEBUG: convert_xsd:1020 >> Visited: {'xnatpy:samplingRateFloat', 'xnat:subjectData', 'LayoutDescription', 'xnatpy:platformString', 'xnat:xa3DSessionData', 'xnat:nmSessionData', 'xnatpy:intermediateFloat', 'xnat:dicomSeries', 'xnat:abstractStatistics', 'xnatpy:catalogMetafieldsMetafield', 'xnat:ioSessionData', 'xnatpy:imageSessionDataScanner', 'xnat:rtSessionData', 'xnat:abstractSubjectMetadata', 'xnatpy:projectDataAliasesAlias', 'xnat:optScanData', 'xnat:epsSessionData', 'xnat:esvSessionData', 'xnatpy:estimatedDoseSavingFloat', 'xnat:statisticsData', 'xnatpy:ctScanDataParametersFov', 'xnatpy:scidResearchDataSubstanceusedisorders', 'xnat:scScanData', 'xnat:hdScanData', 'xnatpy:addFieldString', 'xnat:investigatorData', 'xnat:projectParticipant', 'xnat_a:ybocsData', 'xnatpy:ctScanDataParametersEstimateddosesaving', 'xnat:derivedData', 'xnatpy:qcScanDataRating', 'xnat:mgScanData', 'xnat:rtImageScanData', 'arc:property', 'xnatpy:petmrSessionDataTracerDose', 'xnatpy:PlexiViewerTypeViewableitemThumbnailSlice', 'xnat:studyProtocol', 'xnatpy:qcScanDataFieldsField', 'xnatpy:demographicDataWeight', 'arc:fieldSpecification', 'xnat_a:updrs3Data', 'xnat:smSessionData', 'xnat:hdSessionData', 'xdat:userGroup', 'xnatpy:FieldTypeContent', 'xnat:dxSessionData', 'xnat:subjectAssessorData', 'xnatpy:mrScanDataParametersInplanephaseencoding', 'xnatpy:imageResourceVoxelres', 'xnatpy:xnatExecutionEnvironmentParameterfile', 'xnatpy:eegSessionDataSamplingrate', 'xnatpy:petScanDataParametersOffset', 'xnatpy:updrs3DataHandmovementsgrip', 'xnat:imageScanData', 'xnatpy:PlexiViewerTypeViewableitem', 'xnat:rfSessionData', 'xnatpy:qcAssessmentDataScansScanSliceqcSlice', 'xnatpy:xnatExecutionEnvironmentParametersParameter', 'xnatpy:petScanDataParametersZfilter', 'xnat:imageResource', 'xnat:ctSessionData', 'xnat:crSessionData', 'xnatpy:petScanDataParametersFilter', 'xnatpy:subjectDataAddid', 'build:pipelineParameterData', 'xnatpy:pipelineDetailsParametersParameter', 'xnatpy:eegSessionDataSamplinginterval', 'xnatpy:FieldTypeHtml-linkPropertyInsertvalue', 'xnatpy:petScanDataParametersRfilter', 'xnat:dxScanData', 'build:imageSessionData', 'xnat:regionResource', 'prov:processStep', 'cat:catalog', 'xnatpy:petSessionDataTracer', 'xnatpy:protocolDataCheckCommentsComment', 'xnat:projectData', 'xnatpy:aliasString', 'xnatpy:ctScanDataParametersDerivation', 'arc:pathInfo', 'xdat:change_info', 'xnatpy:studyProtocolAcqconditionsCondition', 'xnatpy:totalMassFloat', 'xnat:resourceCatalog', 'xnatpy:dicomSeriesImagesetImage', 'xnatpy:ctScanDataDcmvalidation', 'xdat:stored_search', 'xnat:xaSessionData', 'xnatpy:imageScanDataScanner', 'xnatpy:petSessionDataTracerIntermediate', 'xnatpy:experimentDataSharingShare', 'xnatpy:eegScanDataSoftwarefiltersimpedances', 'xnatpy:petScanDataParametersPixelsize', 'xnatpy:FieldTypeHtml-image', 'xnatpy:csvValuesString', 'xdat:newsEntry', 'display:FieldType', 'xnatpy:FieldTypeHtml-linkProperty', 'xnatpy:petmrSessionDataTracerIsotope', 'xnat:srScanData', 'xnat:mrsScanData', 'xnat:qcScanData', 'xdat:field_mapping', 'xnatpy:fieldDefinitionGroupFieldsField', 'xnatpy:doseFloat', 'xnatpy:pipelineParameterDataCsvvalues', 'xnat:gmScanData', 'xnat:xcScanData', 'xnatpy:petScanDataParameters', 'xnat:nmScanData', 'xnat:publicationResource', 'xnatpy:FieldTypeHtml-linkSecurelink', 'xnatpy:studyProtocolSubjectvariablesVariable', 'xnatpy:imageSessionDataPipeline', 'xnatpy:imageResourceSeriesDimensions', 'xnatpy:pipelineParameterDataParameter', 'xnatpy:petSessionDataTracerDose', 'xnat:otherDicomSessionData', 'xnat:xcvScanData', 'xnatpy:subjectVariablesDataVariablesVariable', 'xnatpy:projectDataFieldsField', 'xnat:rfScanData', 'xnat:dicomCodedValue', 'xnatpy:qcAssessmentDataScansScan', 'xnat:gmvSessionData', 'xnatpy:dcmValidationString', 'xnatpy:abstractResourceTagsTag', 'xnatpy:optScanDataParameters', 'xnat:otherDicomScanData', 'build:pipelineData', 'xnatpy:processStepLibrary', 'xnatpy:mrScanDataParameters', 'xnatpy:petScanDataParametersDimensions', 'xnat:petSessionData', 'val:additionalVal', 'xdat:user_login', 'xnat:reconstructedImageData', 'xnatpy:optScanDataParametersVoxelres', 'xnat:resourceSeries', 'xnatpy:PlexiViewerTypeViewableitemUserinterfaceLinkeddropdown', 'xnat:volumetricRegion', 'xnatpy:subjectDataFieldsField', 'xnatpy:updrs3DataRigidity', 'xnatpy:dicomSeriesVoxelres', 'xnatpy:petSessionDataTracerIsotope', 'xnat:subjectVariablesData', 'xnatpy:userPrimary_password', 'xdat:infoEntry', 'xnatpy:mrScanDataParametersFov', 'xnatpy:mrScanDataDcmvalidation', 'xnat:opScanData', 'xdat:element_security', 'xnatpy:samplingIntervalFloat', 'xnat:addField', 'xnatpy:PlexiViewerTypeViewableitemUserinterface', 'xnatpy:scidResearchDataPsychoticdisorders', 'xnat:voiceAudioScanData', 'xnat:mrScanData', 'xdat:access_log', 'xnatpy:shareString', 'xnatpy:imageResourceSeriesVoxelres', 'xnatpy:variableString', 'xnatpy:pipelineDetailsParametersParameterValues', 'prov:process', 'xnat:mrSessionData', 'xdat:role_type', 'xnat:megSessionData', 'xnat:epsScanData', 'xdat:element_action_type', 'xnatpy:regionResourceSubregionlabelsLabel', 'xnatpy:studyProtocolSubjectgroupsGroup', 'xnatpy:libraryString', 'xnat:srSessionData', 'xnat:abstractProtocol', 'xnatpy:FieldTypeHtml-link', 'xdat:criteria', 'xnatpy:protocolDataScansScan_check', 'xnatpy:xaScanDataParametersPixelres', 'xnatpy:processStepPlatform', 'xdat:criteria_set', 'xnatpy:addIDString', 'build:buildData', 'xnat:crScanData', 'xnatpy:scidResearchDataMooddisorders', 'xnatpy:petmrSessionDataTracerTotalmass', 'xnat:segScanData', 'xnat:validationData', 'xnatpy:updrs3DataFingertaps', 'scr:screeningAssessment', 'xnatpy:projectPipelinesDescendantsDescendant', 'xnatpy:FieldTypeHtml-linkSecurelinkSecuritymappingvalue', 'xnat:mrAssessorData', 'xnatpy:scidResearchDataOptional', 'xnatpy:petScanDataParametersResolution', 'xnat:qcAssessmentData', 'icr:roiCollectionData', 'xnatpy:petSessionDataTracerTotalmass', 'xnatpy:dicomSeriesDimensions', 'xnatpy:additionalStatisticsDouble', 'xnatpy:updrs3DataHandsram', 'xnat:xa3DScanData', 'xnatpy:compilerString', 'xnatpy:weightFloat', 'pipe:pipelineDetails', 'xnatpy:protocolDataScansScan_checkCommentsComment', 'wrk:abstractExecutionEnvironment', 'xnatpy:stored_searchAllowed_user', 'xnatpy:ContentString', 'xnatpy:heightFloat', 'xnatpy:imageScanDataSharingShare', 'xdat:action_type', 'xnatpy:mrScanDataParametersMatrix', 'xnatpy:protocolDataCheck', 'xnatpy:PlexiViewerTypeViewableitemLo-res', 'cat:entry', 'xdat:meta_data', 'xnat:ecgSessionData', 'xdat:primary_security_field', 'xnatpy:studyProtocolImagesessiontypesSession', 'xnatpy:PlexiViewerTypeViewableitemHi-resLayoutref', 'xnat:ioScanData', 'SchemaLinkType', 'xnatpy:PlexiViewerTypeViewableitemHi-res', 'xnat:eegSessionData', 'xnatpy:labelString', 'xnatpy:PlexiViewerTypeViewableitemSchemalink', 'xnatpy:stored_searchSort_by', 'xnatpy:eegScanDataParameters', 'xnatpy:primary_security_fieldString', 'xnat:opSessionData', 'xnat_a:ygtssData', 'xnat:abstractDemographicData', 'xnatpy:ygtssDataMotor', 'xnat:petScanData', 'xnatpy:primary_passwordString', 'xnatpy:scidResearchDataSomatoformdisorders', 'wrk:workflowData', 'xnatpy:PlexiViewerTypeViewableitemThumbnail', 'xnatpy:updrs3DataTremorrest', 'xnatpy:eegScanDataParametersDatarecord', 'xnatpy:fieldDefinitionGroupFieldsFieldPossiblevaluesPossiblevalue', 'xnatpy:fieldSpecificationString', 'xnat:eegScanData', 'xnatpy:petScanDataParametersFramesFrame', 'xnatpy:ygtssDataPhonic', 'xnat:imageAssessorData', 'xnat:mrQcScanData', 'xnat:pVisitData', 'xnatpy:protocolDataCheckConditionsCondition', 'xnatpy:statisticsDataAdditionalstatistics', 'cat:dcmCatalog', 'cat:dcmEntry', 'scr:screeningScanData', 'xnatpy:dcmCatalogVoxelres', 'xdat:search_field', 'xnat:computationData', 'xnat:imageSessionData', 'xnat_a:sideEffectsPittsburghData', 'xnat:ecgScanData', 'wrk:xnatExecutionEnvironment', 'xnatpy:petmrSessionDataTracerIntermediate', 'xnatpy:tagString', 'xnat:xcSessionData', 'xnat:esSessionData', 'xnat:esScanData', 'xnatpy:entryMetafieldsMetafield', 'xnatpy:xaScanDataParametersFov', 'xnatpy:petScanDataParametersFrames', 'arc:pipelineParameterData', 'xnatpy:updrs3DataActionposturaltremor', 'xnatpy:optScanDataDcmvalidation', 'xnatpy:scidResearchDataMoodepisodes', 'xnat:resource', 'xnat:genericData', 'xnat:xcvSessionData', 'xnatpy:ctScanDataParametersRescale', 'xnatpy:projectPipelinesPipeline', 'xnat:demographicData', 'xnat:dx3DCraniofacialSessionData', 'xnatpy:mrScanDataParametersDiffusion', 'xnat:subjectMetadata', 'xnatpy:eegScanDataChannelsChannel', 'xnatpy:derivationString', 'xnat:gmvScanData', 'xdat:field_mapping_set', 'xnatpy:PlexiViewerTypeViewableitemLo-resParameter', 'xnatpy:processStepProgram', 'xnat:petQcScanData', 'xnatpy:regionResourceCreator', 'PlexiViewerType', 'xnatpy:statisticsDataAddfield', 'xnatpy:experimentDataFieldsField', 'xnatpy:updrs3DataClicker', 'xnatpy:eegScanDataSoftwarefiltersimpedancesImpedance', 'xnatpy:element_securityListing_actionsListing_action', 'xnat:esvScanData', 'xnatpy:propertyString', 'xdat:user', 'xnatpy:scidResearchDataPsychoticsymptoms', 'xdat:history', 'xnatpy:isotopeString', 'xdat:LONGVARCHAR', 'xnatpy:xaScanDataParameters', 'xnat:contrastBolus', 'xnatpy:possibleValueString', 'xnat:mgSessionData', 'xnatpy:volumetricRegionSubregionsSubregion', 'xnat:usSessionData', 'xnat:otherQcScanData', 'xnatpy:scidResearchDataAnxietydisorders', 'xnatpy:optScanDataParametersFov', 'xnat:usScanData', 'xnatpy:projectPipelines', 'xnat:gmSessionData', 'xnat_a:scidResearchData', 'xnatpy:commentString', 'xnat:optSessionData', 'xnat:experimentData', 'xnatpy:petmrSessionDataTracer', 'xnatpy:ctScanDataParametersCollimationwidth', 'xnatpy:scidResearchDataEatingdisorders', 'arc:pipelineData', 'arc:project', 'xnatpy:demographicDataHeight', 'display:SubQueryField', 'xnatpy:scannerString', 'xnatpy:ratingString', 'xnat:qcManualAssessorData', 'xnatpy:delayInteger', 'xnatpy:LayoutDescriptionCoordinates', 'xnat:fieldDefinitionGroup', 'xnat:xaScanData', 'xnatpy:protocolDataScansScan_checkConditionsCondition', 'xnat:algorithm', 'xnat:petmrSessionData', 'xnatpy:ctScanDataParametersVoxelres', 'xnatpy:processStepCompiler', 'xnatpy:petScanDataEcatvalidation', 'xnatpy:updrs3DataFoottaps', 'xnatpy:experimentDataDelay', 'xnat:dx3DCraniofacialScanData', 'val:protocolData', 'xnatpy:programString', 'xnat:megScanData', 'xnatpy:projectPipelinesDescendantsDescendantPipeline', 'xnatpy:mrScanDataParametersVoxelres', 'xnatpy:parameterString', 'xnat:abstractResource', 'xnat:petAssessorData', 'xnatpy:metaFieldString', 'xnat:smScanData', 'xnatpy:dcmCatalogDimensions', 'display:HTML-Cell', 'xnatpy:ecatValidationString', 'xnat:ctScanData', 'xnatpy:SubQueryFieldMappingcolumnsMappingcolumn', 'xnatpy:fieldString', 'xnatpy:imageResourceDimensions', 'xnat:imageResourceSeries', 'xnat:datatypeProtocol', 'xnatpy:ctScanDataParameters', 'xnatpy:PlexiViewerTypeViewableitemHi-resLayer'}\n"
     ]
    },
    {
     "name": "stderr",
     "output_type": "stream",
     "text": [
      "[2020-02-17 08:50:19,935] INFO: convert_xsd:1021 >> Missed: []\n",
      "[2020-02-17 08:50:19,936] INFO: convert_xsd:1022 >> Missed base class: []\n",
      "[2020-02-17 08:50:19,936] DEBUG: convert_xsd:1023 >> Spent 2 iterations\n",
      "[2020-02-17 08:50:19,952] DEBUG: __init__:249 >> Code file written to: C:\\Users\\ctorti\\AppData\\Local\\Temp\\tmpz38cnag9_generated_xnat.py\n",
      "[2020-02-17 08:50:20,109] DEBUG: __init__:256 >> Loaded generated module\n"
     ]
    }
   ],
   "source": [
    "xnatAddress = 'http://10.1.1.17'\n",
    "#xnatAddress = 'http://10.1.1.17/app/template/Index.vm'\n",
    "#xnatAddress = 'http://10.1.1.17/app/template/Login.vm#!'\n",
    "#xnatAddress = 'http://10.1.1.17:8080/xnat'\n",
    "#xnatAddress = 'http://10.1.1.17:80/xnat'\n",
    "#xnatAddress = 'http://localhost:8080/xnat'\n",
    "#xnatAddress = 'http://10.1.1.17:8080/admin'\n",
    "#xnatAddress = 'http://localhost:8080/admin'\n",
    "\n",
    "#session = xnat.connect(xnatAddress, user='xnat', password='xnat')\n",
    "#session = xnat.connect(xnatAddress, user='owner', password='owner')\n",
    "session = xnat.connect(xnatAddress, user='admin', password='admin', debug=True)"
   ]
  },
  {
   "cell_type": "code",
   "execution_count": 4,
   "metadata": {},
   "outputs": [
    {
     "data": {
      "text/plain": [
       "<xnat.session.XNATSession at 0x1a5dc329b88>"
      ]
     },
     "execution_count": 4,
     "metadata": {},
     "output_type": "execute_result"
    }
   ],
   "source": [
    "session"
   ]
  },
  {
   "cell_type": "markdown",
   "metadata": {},
   "source": [
    "#### Define the REST path variables:"
   ]
  },
  {
   "cell_type": "code",
   "execution_count": 10,
   "metadata": {},
   "outputs": [
    {
     "name": "stdout",
     "output_type": "stream",
     "text": [
      "Project label = BrainTumorProg_copy\n",
      "Subject label = PGM-002_Feb17\n",
      "Experiment label = PGM-002_Feb17_MR_1\n"
     ]
    }
   ],
   "source": [
    "# Define new project and subject labels, and session number:\n",
    "projectLabel = 'BrainTumorProg_copy'\n",
    "subjectLabel = 'PGM-002_Feb17'\n",
    "experimentLabel = subjectLabel + '_MR_1'\n",
    "#experimentNo = 0 # (= 1 in XNAT web app; e.g. ‘PGM-002_MR_1’)\n",
    "#scanNo = 0 # 0 -> T1post\n",
    "print('Project label =', projectLabel)\n",
    "print('Subject label =', subjectLabel)\n",
    "print('Experiment label =', experimentLabel)"
   ]
  },
  {
   "cell_type": "markdown",
   "metadata": {},
   "source": [
    "#### Location of previously downloaded DICOM and DICOM-RTSTRUCT files:"
   ]
  },
  {
   "cell_type": "code",
   "execution_count": 32,
   "metadata": {},
   "outputs": [],
   "source": [
    "# The DICOM files were exported here:\n",
    "dicomDLdir = r'C:\\Code\\WP1.3_multiple_modalities\\trying stuff\\XNAT downloads\\BrainTumorProg\\PGM-002\\0\\0\\PGM-002_MR_1\\scans\\11-T1post\\resources\\DICOM\\files'\n",
    "\n",
    "# And the ROI DICOM-RTStruct file was exported here:\n",
    "roiDLdir = r'C:\\Code\\WP1.3_multiple_modalities\\trying stuff\\XNAT downloads\\BrainTumorProg\\PGM-002\\0\\0\\AIM_20200123_145716\\out\\resources\\RTSTRUCT\\files'"
   ]
  },
  {
   "cell_type": "markdown",
   "metadata": {},
   "source": [
    "#### Create a new project in XNAT:"
   ]
  },
  {
   "cell_type": "code",
   "execution_count": 14,
   "metadata": {},
   "outputs": [
    {
     "name": "stderr",
     "output_type": "stream",
     "text": [
      "[2020-02-17 09:01:25,520] DEBUG: core:171 >> PUT URI: /data/archive/projects/BrainTumorProg_copy\n",
      "[2020-02-17 09:01:25,521] DEBUG: core:180 >> query: {'xsiType': 'xnat:projectData', 'req_format': 'qs', 'name': 'BrainTumorProg_copy'}\n",
      "[2020-02-17 09:01:25,522] DEBUG: session:428 >> PUT URI http://10.1.1.17/data/archive/projects/BrainTumorProg_copy?xsiType=xnat%3AprojectData&req_format=qs&name=BrainTumorProg_copy\n",
      "[2020-02-17 09:01:25,523] DEBUG: session:430 >> PUT DATA None\n",
      "[2020-02-17 09:01:25,523] DEBUG: session:431 >> PUT FILES None\n",
      "[2020-02-17 09:01:25,631] DEBUG: session:307 >> Received response with status code: 200\n"
     ]
    }
   ],
   "source": [
    "project = session.classes.ProjectData(parent=session, name=projectLabel)"
   ]
  },
  {
   "cell_type": "markdown",
   "metadata": {},
   "source": [
    "#### Create a new subject for the new project:"
   ]
  },
  {
   "cell_type": "code",
   "execution_count": 15,
   "metadata": {},
   "outputs": [
    {
     "name": "stderr",
     "output_type": "stream",
     "text": [
      "[2020-02-17 09:03:45,692] DEBUG: core:171 >> PUT URI: /data/archive/projects/BrainTumorProg_copy/subjects/PGM-002_Feb17\n",
      "[2020-02-17 09:03:45,693] DEBUG: core:180 >> query: {'xsiType': 'xnat:subjectData', 'req_format': 'qs', 'label': 'PGM-002_Feb17'}\n",
      "[2020-02-17 09:03:45,694] DEBUG: session:428 >> PUT URI http://10.1.1.17/data/archive/projects/BrainTumorProg_copy/subjects/PGM-002_Feb17?xsiType=xnat%3AsubjectData&req_format=qs&label=PGM-002_Feb17\n",
      "[2020-02-17 09:03:45,694] DEBUG: session:430 >> PUT DATA None\n",
      "[2020-02-17 09:03:45,695] DEBUG: session:431 >> PUT FILES None\n",
      "[2020-02-17 09:03:45,912] DEBUG: session:307 >> Received response with status code: 201\n"
     ]
    }
   ],
   "source": [
    "subject = session.classes.SubjectData(parent=project, label=subjectLabel)"
   ]
  },
  {
   "cell_type": "markdown",
   "metadata": {},
   "source": [
    "#### Create a new experiment for the new subject:\n",
    "\n",
    "##### Note:  Spaces are not permitted for labels!"
   ]
  },
  {
   "cell_type": "code",
   "execution_count": 17,
   "metadata": {},
   "outputs": [
    {
     "name": "stderr",
     "output_type": "stream",
     "text": [
      "[2020-02-17 09:05:30,706] DEBUG: session:334 >> GET URI http://10.1.1.17/data/archive/projects/BrainTumorProg_copy/subjects/PGM-002_Feb17?format=json\n",
      "[2020-02-17 09:05:30,759] DEBUG: session:307 >> Received response with status code: 200\n",
      "[2020-02-17 09:05:30,760] DEBUG: core:171 >> PUT URI: /data/archive/projects/BrainTumorProg_copy/subjects/XNAT_S00008/experiments/PGM-002_Feb17_MR_1\n",
      "[2020-02-17 09:05:30,761] DEBUG: core:180 >> query: {'xsiType': 'xnat:mrSessionData', 'req_format': 'qs', 'label': 'PGM-002_Feb17_MR_1'}\n",
      "[2020-02-17 09:05:30,761] DEBUG: session:428 >> PUT URI http://10.1.1.17/data/archive/projects/BrainTumorProg_copy/subjects/XNAT_S00008/experiments/PGM-002_Feb17_MR_1?xsiType=xnat%3AmrSessionData&req_format=qs&label=PGM-002_Feb17_MR_1\n",
      "[2020-02-17 09:05:30,762] DEBUG: session:430 >> PUT DATA None\n",
      "[2020-02-17 09:05:30,762] DEBUG: session:431 >> PUT FILES None\n",
      "[2020-02-17 09:05:30,936] DEBUG: session:307 >> Received response with status code: 201\n"
     ]
    }
   ],
   "source": [
    "experiment = session.classes.MrSessionData(parent=subject, label=experimentLabel)"
   ]
  },
  {
   "cell_type": "markdown",
   "metadata": {},
   "source": [
    "#### Load the RTSTRUCT file to the get the Referenced SOP Instance UIDs"
   ]
  },
  {
   "cell_type": "code",
   "execution_count": 28,
   "metadata": {},
   "outputs": [
    {
     "data": {
      "text/plain": [
       "(0008, 0016) SOP Class UID                       UI: RT Structure Set Storage\n",
       "(0008, 0018) SOP Instance UID                    UI: 1.2.826.0.1.534147.578.4208788039.20200231457312\n",
       "(0008, 0020) Study Date                          DA: '19960813'\n",
       "(0008, 0030) Study Time                          TM: '162908'\n",
       "(0008, 0050) Accession Number                    SH: ''\n",
       "(0008, 0060) Modality                            CS: 'RTSTRUCT'\n",
       "(0008, 0070) Manufacturer                        LO: 'GE MEDICAL SYSTEMS'\n",
       "(0008, 0090) Referring Physician's Name          PN: ''\n",
       "(0008, 1070) Operators' Name                     PN: ''\n",
       "(0008, 1090) Manufacturer's Model Name           LO: 'Optima MR450w'\n",
       "(0010, 0010) Patient's Name                      PN: 'PGM-002'\n",
       "(0010, 0020) Patient ID                          LO: 'PGM-002_MR_1'\n",
       "(0010, 0030) Patient's Birth Date                DA: '00021130'\n",
       "(0010, 0040) Patient's Sex                       CS: 'M'\n",
       "(0018, 1020) Software Version(s)                 LO: ['25', 'LX', 'MR Software release:DV25.0_R01_1451.a']\n",
       "(0020, 000d) Study Instance UID                  UI: 1.3.6.1.4.1.14519.5.2.1.4429.7055.331058148523327901159449546313\n",
       "(0020, 000e) Series Instance UID                 UI: 1.2.826.0.1.534147.578.4208788039.202002314573120.1\n",
       "(0020, 0010) Study ID                            SH: ''\n",
       "(0020, 0011) Series Number                       IS: ''\n",
       "(0020, 0052) Frame of Reference UID              UI: 1.3.6.1.4.1.14519.5.2.1.4429.7055.250487807866145927413117906224\n",
       "(0020, 1040) Position Reference Indicator        LO: ''\n",
       "(3006, 0002) Structure Set Label                 SH: 'PGM-002_MR_1_Tumor'\n",
       "(3006, 0008) Structure Set Date                  DA: '20200123'\n",
       "(3006, 0009) Structure Set Time                  TM: '145731'\n",
       "(3006, 0010)  Referenced Frame of Reference Sequence   1 item(s) ---- \n",
       "   (0020, 0052) Frame of Reference UID              UI: 1.3.6.1.4.1.14519.5.2.1.4429.7055.250487807866145927413117906224\n",
       "   (3006, 0012)  RT Referenced Study Sequence   1 item(s) ---- \n",
       "      (0008, 1150) Referenced SOP Class UID            UI: Detached Study Management SOP Class\n",
       "      (0008, 1155) Referenced SOP Instance UID         UI: 1.3.6.1.4.1.14519.5.2.1.4429.7055.331058148523327901159449546313\n",
       "      (3006, 0014)  RT Referenced Series Sequence   1 item(s) ---- \n",
       "         (0020, 000e) Series Instance UID                 UI: 1.3.6.1.4.1.14519.5.2.1.4429.7055.318140066822631026134411973420\n",
       "         (3006, 0016)  Contour Image Sequence   9 item(s) ---- \n",
       "            (0008, 1150) Referenced SOP Class UID            UI: MR Image Storage\n",
       "            (0008, 1155) Referenced SOP Instance UID         UI: 1.3.6.1.4.1.14519.5.2.1.4429.7055.320280293613596547840725755465\n",
       "            (0008, 1160) Referenced Frame Number             IS: \"1\"\n",
       "            ---------\n",
       "            (0008, 1150) Referenced SOP Class UID            UI: MR Image Storage\n",
       "            (0008, 1155) Referenced SOP Instance UID         UI: 1.3.6.1.4.1.14519.5.2.1.4429.7055.677643793103545804182040061154\n",
       "            (0008, 1160) Referenced Frame Number             IS: \"1\"\n",
       "            ---------\n",
       "            (0008, 1150) Referenced SOP Class UID            UI: MR Image Storage\n",
       "            (0008, 1155) Referenced SOP Instance UID         UI: 1.3.6.1.4.1.14519.5.2.1.4429.7055.149742284257271356119234155647\n",
       "            (0008, 1160) Referenced Frame Number             IS: \"1\"\n",
       "            ---------\n",
       "            (0008, 1150) Referenced SOP Class UID            UI: MR Image Storage\n",
       "            (0008, 1155) Referenced SOP Instance UID         UI: 1.3.6.1.4.1.14519.5.2.1.4429.7055.207269894846632100106605315699\n",
       "            (0008, 1160) Referenced Frame Number             IS: \"1\"\n",
       "            ---------\n",
       "            (0008, 1150) Referenced SOP Class UID            UI: MR Image Storage\n",
       "            (0008, 1155) Referenced SOP Instance UID         UI: 1.3.6.1.4.1.14519.5.2.1.4429.7055.337321577215686178552541657021\n",
       "            (0008, 1160) Referenced Frame Number             IS: \"1\"\n",
       "            ---------\n",
       "            (0008, 1150) Referenced SOP Class UID            UI: MR Image Storage\n",
       "            (0008, 1155) Referenced SOP Instance UID         UI: 1.3.6.1.4.1.14519.5.2.1.4429.7055.121761661581454976960293845378\n",
       "            (0008, 1160) Referenced Frame Number             IS: \"1\"\n",
       "            ---------\n",
       "            (0008, 1150) Referenced SOP Class UID            UI: MR Image Storage\n",
       "            (0008, 1155) Referenced SOP Instance UID         UI: 1.3.6.1.4.1.14519.5.2.1.4429.7055.176309996049760286843247671656\n",
       "            (0008, 1160) Referenced Frame Number             IS: \"1\"\n",
       "            ---------\n",
       "            (0008, 1150) Referenced SOP Class UID            UI: MR Image Storage\n",
       "            (0008, 1155) Referenced SOP Instance UID         UI: 1.3.6.1.4.1.14519.5.2.1.4429.7055.213859255991588180723164022910\n",
       "            (0008, 1160) Referenced Frame Number             IS: \"1\"\n",
       "            ---------\n",
       "            (0008, 1150) Referenced SOP Class UID            UI: MR Image Storage\n",
       "            (0008, 1155) Referenced SOP Instance UID         UI: 1.3.6.1.4.1.14519.5.2.1.4429.7055.150121483703605657658660963398\n",
       "            (0008, 1160) Referenced Frame Number             IS: \"1\"\n",
       "            ---------\n",
       "         ---------\n",
       "      ---------\n",
       "   ---------\n",
       "(3006, 0020)  Structure Set ROI Sequence   1 item(s) ---- \n",
       "   (3006, 0022) ROI Number                          IS: \"1\"\n",
       "   (3006, 0024) Referenced Frame of Reference UID   UI: 1.3.6.1.4.1.14519.5.2.1.4429.7055.250487807866145927413117906224\n",
       "   (3006, 0026) ROI Name                            LO: 'PGM-002_MR_1_Tumor'\n",
       "   (3006, 0036) ROI Generation Algorithm            CS: ''\n",
       "   ---------\n",
       "(3006, 0039)  ROI Contour Sequence   1 item(s) ---- \n",
       "   (3006, 0040)  Contour Sequence   16 item(s) ---- \n",
       "      (3006, 0016)  Contour Image Sequence   1 item(s) ---- \n",
       "         (0008, 1150) Referenced SOP Class UID            UI: MR Image Storage\n",
       "         (0008, 1155) Referenced SOP Instance UID         UI: 1.3.6.1.4.1.14519.5.2.1.4429.7055.320280293613596547840725755465\n",
       "         (0008, 1160) Referenced Frame Number             IS: \"1\"\n",
       "         ---------\n",
       "      (3006, 0042) Contour Geometric Type              CS: 'CLOSED_PLANAR'\n",
       "      (3006, 0046) Number of Contour Points            IS: \"213\"\n",
       "      (3006, 0048) Contour Number                      IS: \"1\"\n",
       "      (3006, 0050) Contour Data                        DS: Array of 639 elements\n",
       "      ---------\n",
       "      (3006, 0016)  Contour Image Sequence   1 item(s) ---- \n",
       "         (0008, 1150) Referenced SOP Class UID            UI: MR Image Storage\n",
       "         (0008, 1155) Referenced SOP Instance UID         UI: 1.3.6.1.4.1.14519.5.2.1.4429.7055.677643793103545804182040061154\n",
       "         (0008, 1160) Referenced Frame Number             IS: \"1\"\n",
       "         ---------\n",
       "      (3006, 0042) Contour Geometric Type              CS: 'CLOSED_PLANAR'\n",
       "      (3006, 0046) Number of Contour Points            IS: \"229\"\n",
       "      (3006, 0048) Contour Number                      IS: \"2\"\n",
       "      (3006, 0050) Contour Data                        DS: Array of 687 elements\n",
       "      ---------\n",
       "      (3006, 0016)  Contour Image Sequence   1 item(s) ---- \n",
       "         (0008, 1150) Referenced SOP Class UID            UI: MR Image Storage\n",
       "         (0008, 1155) Referenced SOP Instance UID         UI: 1.3.6.1.4.1.14519.5.2.1.4429.7055.149742284257271356119234155647\n",
       "         (0008, 1160) Referenced Frame Number             IS: \"1\"\n",
       "         ---------\n",
       "      (3006, 0042) Contour Geometric Type              CS: 'CLOSED_PLANAR'\n",
       "      (3006, 0046) Number of Contour Points            IS: \"237\"\n",
       "      (3006, 0048) Contour Number                      IS: \"3\"\n",
       "      (3006, 0050) Contour Data                        DS: Array of 711 elements\n",
       "      ---------\n",
       "      (3006, 0016)  Contour Image Sequence   1 item(s) ---- \n",
       "         (0008, 1150) Referenced SOP Class UID            UI: MR Image Storage\n",
       "         (0008, 1155) Referenced SOP Instance UID         UI: 1.3.6.1.4.1.14519.5.2.1.4429.7055.207269894846632100106605315699\n",
       "         (0008, 1160) Referenced Frame Number             IS: \"1\"\n",
       "         ---------\n",
       "      (3006, 0042) Contour Geometric Type              CS: 'CLOSED_PLANAR'\n",
       "      (3006, 0046) Number of Contour Points            IS: \"350\"\n",
       "      (3006, 0048) Contour Number                      IS: \"4\"\n",
       "      (3006, 0050) Contour Data                        DS: Array of 1050 elements\n",
       "      ---------\n",
       "      (3006, 0016)  Contour Image Sequence   1 item(s) ---- \n",
       "         (0008, 1150) Referenced SOP Class UID            UI: MR Image Storage\n",
       "         (0008, 1155) Referenced SOP Instance UID         UI: 1.3.6.1.4.1.14519.5.2.1.4429.7055.207269894846632100106605315699\n",
       "         (0008, 1160) Referenced Frame Number             IS: \"1\"\n",
       "         ---------\n",
       "      (3006, 0042) Contour Geometric Type              CS: 'CLOSED_PLANAR'\n",
       "      (3006, 0046) Number of Contour Points            IS: \"1\"\n",
       "      (3006, 0048) Contour Number                      IS: \"5\"\n",
       "      (3006, 0050) Contour Data                        DS: ['53.2030913207557', '-59.130039390132', '33.0974814662254']\n",
       "      ---------\n",
       "      (3006, 0016)  Contour Image Sequence   1 item(s) ---- \n",
       "         (0008, 1150) Referenced SOP Class UID            UI: MR Image Storage\n",
       "         (0008, 1155) Referenced SOP Instance UID         UI: 1.3.6.1.4.1.14519.5.2.1.4429.7055.337321577215686178552541657021\n",
       "         (0008, 1160) Referenced Frame Number             IS: \"1\"\n",
       "         ---------\n",
       "      (3006, 0042) Contour Geometric Type              CS: 'CLOSED_PLANAR'\n",
       "      (3006, 0046) Number of Contour Points            IS: \"436\"\n",
       "      (3006, 0048) Contour Number                      IS: \"6\"\n",
       "      (3006, 0050) Contour Data                        DS: Array of 1308 elements\n",
       "      ---------\n",
       "      (3006, 0016)  Contour Image Sequence   1 item(s) ---- \n",
       "         (0008, 1150) Referenced SOP Class UID            UI: MR Image Storage\n",
       "         (0008, 1155) Referenced SOP Instance UID         UI: 1.3.6.1.4.1.14519.5.2.1.4429.7055.337321577215686178552541657021\n",
       "         (0008, 1160) Referenced Frame Number             IS: \"1\"\n",
       "         ---------\n",
       "      (3006, 0042) Contour Geometric Type              CS: 'CLOSED_PLANAR'\n",
       "      (3006, 0046) Number of Contour Points            IS: \"1\"\n",
       "      (3006, 0048) Contour Number                      IS: \"7\"\n",
       "      (3006, 0050) Contour Data                        DS: ['37.8010271446342', '-110.94783419155', '48.1332796091722']\n",
       "      ---------\n",
       "      (3006, 0016)  Contour Image Sequence   1 item(s) ---- \n",
       "         (0008, 1150) Referenced SOP Class UID            UI: MR Image Storage\n",
       "         (0008, 1155) Referenced SOP Instance UID         UI: 1.3.6.1.4.1.14519.5.2.1.4429.7055.121761661581454976960293845378\n",
       "         (0008, 1160) Referenced Frame Number             IS: \"1\"\n",
       "         ---------\n",
       "      (3006, 0042) Contour Geometric Type              CS: 'CLOSED_PLANAR'\n",
       "      (3006, 0046) Number of Contour Points            IS: \"390\"\n",
       "      (3006, 0048) Contour Number                      IS: \"8\"\n",
       "      (3006, 0050) Contour Data                        DS: Array of 1170 elements\n",
       "      ---------\n",
       "      (3006, 0016)  Contour Image Sequence   1 item(s) ---- \n",
       "         (0008, 1150) Referenced SOP Class UID            UI: MR Image Storage\n",
       "         (0008, 1155) Referenced SOP Instance UID         UI: 1.3.6.1.4.1.14519.5.2.1.4429.7055.121761661581454976960293845378\n",
       "         (0008, 1160) Referenced Frame Number             IS: \"1\"\n",
       "         ---------\n",
       "      (3006, 0042) Contour Geometric Type              CS: 'CLOSED_PLANAR'\n",
       "      (3006, 0046) Number of Contour Points            IS: \"136\"\n",
       "      (3006, 0048) Contour Number                      IS: \"9\"\n",
       "      (3006, 0050) Contour Data                        DS: Array of 408 elements\n",
       "      ---------\n",
       "      (3006, 0016)  Contour Image Sequence   1 item(s) ---- \n",
       "         (0008, 1150) Referenced SOP Class UID            UI: MR Image Storage\n",
       "         (0008, 1155) Referenced SOP Instance UID         UI: 1.3.6.1.4.1.14519.5.2.1.4429.7055.121761661581454976960293845378\n",
       "         (0008, 1160) Referenced Frame Number             IS: \"1\"\n",
       "         ---------\n",
       "      (3006, 0042) Contour Geometric Type              CS: 'CLOSED_PLANAR'\n",
       "      (3006, 0046) Number of Contour Points            IS: \"1\"\n",
       "      (3006, 0048) Contour Number                      IS: \"10\"\n",
       "      (3006, 0050) Contour Data                        DS: ['40.3287589107183', '-102.78561834790', '53.4203443409758']\n",
       "      ---------\n",
       "      (3006, 0016)  Contour Image Sequence   1 item(s) ---- \n",
       "         (0008, 1150) Referenced SOP Class UID            UI: MR Image Storage\n",
       "         (0008, 1155) Referenced SOP Instance UID         UI: 1.3.6.1.4.1.14519.5.2.1.4429.7055.176309996049760286843247671656\n",
       "         (0008, 1160) Referenced Frame Number             IS: \"1\"\n",
       "         ---------\n",
       "      (3006, 0042) Contour Geometric Type              CS: 'CLOSED_PLANAR'\n",
       "      (3006, 0046) Number of Contour Points            IS: \"294\"\n",
       "      (3006, 0048) Contour Number                      IS: \"11\"\n",
       "      (3006, 0050) Contour Data                        DS: Array of 882 elements\n",
       "      ---------\n",
       "      (3006, 0016)  Contour Image Sequence   1 item(s) ---- \n",
       "         (0008, 1150) Referenced SOP Class UID            UI: MR Image Storage\n",
       "         (0008, 1155) Referenced SOP Instance UID         UI: 1.3.6.1.4.1.14519.5.2.1.4429.7055.176309996049760286843247671656\n",
       "         (0008, 1160) Referenced Frame Number             IS: \"1\"\n",
       "         ---------\n",
       "      (3006, 0042) Contour Geometric Type              CS: 'CLOSED_PLANAR'\n",
       "      (3006, 0046) Number of Contour Points            IS: \"133\"\n",
       "      (3006, 0048) Contour Number                      IS: \"12\"\n",
       "      (3006, 0050) Contour Data                        DS: Array of 399 elements\n",
       "      ---------\n",
       "      (3006, 0016)  Contour Image Sequence   1 item(s) ---- \n",
       "         (0008, 1150) Referenced SOP Class UID            UI: MR Image Storage\n",
       "         (0008, 1155) Referenced SOP Instance UID         UI: 1.3.6.1.4.1.14519.5.2.1.4429.7055.176309996049760286843247671656\n",
       "         (0008, 1160) Referenced Frame Number             IS: \"1\"\n",
       "         ---------\n",
       "      (3006, 0042) Contour Geometric Type              CS: 'CLOSED_PLANAR'\n",
       "      (3006, 0046) Number of Contour Points            IS: \"1\"\n",
       "      (3006, 0048) Contour Number                      IS: \"13\"\n",
       "      (3006, 0050) Contour Data                        DS: ['55.0148568872003', '-73.403512304927', '55.5476746719854']\n",
       "      ---------\n",
       "      (3006, 0016)  Contour Image Sequence   1 item(s) ---- \n",
       "         (0008, 1150) Referenced SOP Class UID            UI: MR Image Storage\n",
       "         (0008, 1155) Referenced SOP Instance UID         UI: 1.3.6.1.4.1.14519.5.2.1.4429.7055.213859255991588180723164022910\n",
       "         (0008, 1160) Referenced Frame Number             IS: \"1\"\n",
       "         ---------\n",
       "      (3006, 0042) Contour Geometric Type              CS: 'CLOSED_PLANAR'\n",
       "      (3006, 0046) Number of Contour Points            IS: \"122\"\n",
       "      (3006, 0048) Contour Number                      IS: \"14\"\n",
       "      (3006, 0050) Contour Data                        DS: Array of 366 elements\n",
       "      ---------\n",
       "      (3006, 0016)  Contour Image Sequence   1 item(s) ---- \n",
       "         (0008, 1150) Referenced SOP Class UID            UI: MR Image Storage\n",
       "         (0008, 1155) Referenced SOP Instance UID         UI: 1.3.6.1.4.1.14519.5.2.1.4429.7055.213859255991588180723164022910\n",
       "         (0008, 1160) Referenced Frame Number             IS: \"1\"\n",
       "         ---------\n",
       "      (3006, 0042) Contour Geometric Type              CS: 'CLOSED_PLANAR'\n",
       "      (3006, 0046) Number of Contour Points            IS: \"302\"\n",
       "      (3006, 0048) Contour Number                      IS: \"15\"\n",
       "      (3006, 0050) Contour Data                        DS: Array of 906 elements\n",
       "      ---------\n",
       "      (3006, 0016)  Contour Image Sequence   1 item(s) ---- \n",
       "         (0008, 1150) Referenced SOP Class UID            UI: MR Image Storage\n",
       "         (0008, 1155) Referenced SOP Instance UID         UI: 1.3.6.1.4.1.14519.5.2.1.4429.7055.150121483703605657658660963398\n",
       "         (0008, 1160) Referenced Frame Number             IS: \"1\"\n",
       "         ---------\n",
       "      (3006, 0042) Contour Geometric Type              CS: 'CLOSED_PLANAR'\n",
       "      (3006, 0046) Number of Contour Points            IS: \"195\"\n",
       "      (3006, 0048) Contour Number                      IS: \"16\"\n",
       "      (3006, 0050) Contour Data                        DS: Array of 585 elements\n",
       "      ---------\n",
       "   (3006, 0084) Referenced ROI Number               IS: \"1\"\n",
       "   ---------\n",
       "(3006, 0080)  RT ROI Observations Sequence   1 item(s) ---- \n",
       "   (3006, 0082) Observation Number                  IS: \"1\"\n",
       "   (3006, 0084) Referenced ROI Number               IS: \"1\"\n",
       "   (3006, 00a4) RT ROI Interpreted Type             CS: ''\n",
       "   (3006, 00a6) ROI Interpreter                     PN: ''\n",
       "   ---------"
      ]
     },
     "execution_count": 28,
     "metadata": {},
     "output_type": "execute_result"
    }
   ],
   "source": [
    "# Get the filename of the DICOM-RTSTRUCT file:\n",
    "roiFname = os.listdir(roiDLdir)\n",
    "roiFname = roiFname[0]\n",
    "\n",
    "roiFpath = os.path.join(roiDLdir, roiFname)\n",
    "\n",
    "# Load the DICOM-RTStruct file:\n",
    "roi = pydicom.dcmread(roiFpath)\n",
    "\n",
    "roi"
   ]
  },
  {
   "cell_type": "markdown",
   "metadata": {},
   "source": [
    "#### Get a list of the Referenced SOP Instance UIDs in roi"
   ]
  },
  {
   "cell_type": "code",
   "execution_count": 30,
   "metadata": {},
   "outputs": [
    {
     "data": {
      "text/plain": [
       "['1.3.6.1.4.1.14519.5.2.1.4429.7055.320280293613596547840725755465',\n",
       " '1.3.6.1.4.1.14519.5.2.1.4429.7055.677643793103545804182040061154',\n",
       " '1.3.6.1.4.1.14519.5.2.1.4429.7055.149742284257271356119234155647',\n",
       " '1.3.6.1.4.1.14519.5.2.1.4429.7055.207269894846632100106605315699',\n",
       " '1.3.6.1.4.1.14519.5.2.1.4429.7055.207269894846632100106605315699',\n",
       " '1.3.6.1.4.1.14519.5.2.1.4429.7055.337321577215686178552541657021',\n",
       " '1.3.6.1.4.1.14519.5.2.1.4429.7055.337321577215686178552541657021',\n",
       " '1.3.6.1.4.1.14519.5.2.1.4429.7055.121761661581454976960293845378',\n",
       " '1.3.6.1.4.1.14519.5.2.1.4429.7055.121761661581454976960293845378',\n",
       " '1.3.6.1.4.1.14519.5.2.1.4429.7055.121761661581454976960293845378',\n",
       " '1.3.6.1.4.1.14519.5.2.1.4429.7055.176309996049760286843247671656',\n",
       " '1.3.6.1.4.1.14519.5.2.1.4429.7055.176309996049760286843247671656',\n",
       " '1.3.6.1.4.1.14519.5.2.1.4429.7055.176309996049760286843247671656',\n",
       " '1.3.6.1.4.1.14519.5.2.1.4429.7055.213859255991588180723164022910',\n",
       " '1.3.6.1.4.1.14519.5.2.1.4429.7055.213859255991588180723164022910',\n",
       " '1.3.6.1.4.1.14519.5.2.1.4429.7055.150121483703605657658660963398']"
      ]
     },
     "execution_count": 30,
     "metadata": {},
     "output_type": "execute_result"
    }
   ],
   "source": [
    "roiUids = []\n",
    "\n",
    "# Loop for each contour sequence:\n",
    "for sequence in roi.ROIContourSequence[0].ContourSequence:\n",
    "    roiUids.append(sequence.ContourImageSequence[0].ReferencedSOPInstanceUID)\n",
    "    \n",
    "roiUids"
   ]
  },
  {
   "cell_type": "markdown",
   "metadata": {},
   "source": [
    "#### Read in each DICOM and create a list of indeces that correspond to the DICOMs that have SOP Instance UIDs that match the Reference SOP Instance UIDs in the ROI data\n",
    "\n",
    "##### Note:  The ordering of inds is not the same as the ordering of the frame number since the list of DICOM files are not read in using natsort!"
   ]
  },
  {
   "cell_type": "code",
   "execution_count": 34,
   "metadata": {},
   "outputs": [
    {
     "data": {
      "text/plain": [
       "[3, 4, 5, 6, 7, 8, 9, 10, 12]"
      ]
     },
     "execution_count": 34,
     "metadata": {},
     "output_type": "execute_result"
    }
   ],
   "source": [
    "# Get the filenames of the DICOM files:\n",
    "dicomFnames = os.listdir(dicomDLdir)\n",
    "#dicomFnames\n",
    "\n",
    "# Create a list of full file paths:\n",
    "dicomFpaths = []\n",
    "\n",
    "# Initialise array of indices:\n",
    "inds = []\n",
    "\n",
    "# Loop for each file name in dicomFnames:\n",
    "for f in range(len(dicomFnames)):\n",
    "    dicomFpath = os.path.join(dicomDLdir, dicomFnames[f])\n",
    "    \n",
    "    dicomFpaths.append(dicomFpath)\n",
    "    \n",
    "    # Read in the dicom file:\n",
    "    dicom = pydicom.dcmread(dicomFpath)\n",
    "    \n",
    "    dicomUid = dicom.SOPInstanceUID\n",
    "    \n",
    "    # If dicomUid is in roiUids append f in inds:\n",
    "    if dicomUid in roiUids:\n",
    "        inds.append(f)\n",
    "        \n",
    "inds"
   ]
  },
  {
   "cell_type": "markdown",
   "metadata": {},
   "source": [
    "#### Try uploading data to XNAT\n",
    "\n",
    "##### Note:  It should be possible to upload an entire directory of files but I'm not sure how, and for the benefit of working out what conditions need to be met to successfully upload an RTSTRUCT file, I'll only upload the DICOMs that have corresponding ROI contour data."
   ]
  },
  {
   "cell_type": "code",
   "execution_count": 46,
   "metadata": {},
   "outputs": [
    {
     "name": "stderr",
     "output_type": "stream",
     "text": [
      "[2020-02-17 10:17:20,634] DEBUG: session:661 >> UPLOAD URI http://10.1.1.17/data/services/import?dest=%2Fprearchive&project=BrainTumorProg_copy\n"
     ]
    },
    {
     "name": "stdout",
     "output_type": "stream",
     "text": [
      "Uploading file 1 of 9...\n"
     ]
    },
    {
     "name": "stderr",
     "output_type": "stream",
     "text": [
      "[2020-02-17 10:17:21,254] DEBUG: session:307 >> Received response with status code: 200\n",
      "[2020-02-17 10:17:21,255] DEBUG: session:661 >> UPLOAD URI http://10.1.1.17/data/services/import?dest=%2Fprearchive&project=BrainTumorProg_copy\n"
     ]
    },
    {
     "name": "stdout",
     "output_type": "stream",
     "text": [
      "Uploading file 2 of 9...\n"
     ]
    },
    {
     "name": "stderr",
     "output_type": "stream",
     "text": [
      "[2020-02-17 10:17:21,815] DEBUG: session:307 >> Received response with status code: 200\n",
      "[2020-02-17 10:17:21,817] DEBUG: session:661 >> UPLOAD URI http://10.1.1.17/data/services/import?dest=%2Fprearchive&project=BrainTumorProg_copy\n"
     ]
    },
    {
     "name": "stdout",
     "output_type": "stream",
     "text": [
      "Uploading file 3 of 9...\n"
     ]
    },
    {
     "name": "stderr",
     "output_type": "stream",
     "text": [
      "[2020-02-17 10:17:22,352] DEBUG: session:307 >> Received response with status code: 200\n",
      "[2020-02-17 10:17:22,354] DEBUG: session:661 >> UPLOAD URI http://10.1.1.17/data/services/import?dest=%2Fprearchive&project=BrainTumorProg_copy\n"
     ]
    },
    {
     "name": "stdout",
     "output_type": "stream",
     "text": [
      "Uploading file 4 of 9...\n"
     ]
    },
    {
     "name": "stderr",
     "output_type": "stream",
     "text": [
      "[2020-02-17 10:17:22,901] DEBUG: session:307 >> Received response with status code: 200\n",
      "[2020-02-17 10:17:22,902] DEBUG: session:661 >> UPLOAD URI http://10.1.1.17/data/services/import?dest=%2Fprearchive&project=BrainTumorProg_copy\n"
     ]
    },
    {
     "name": "stdout",
     "output_type": "stream",
     "text": [
      "Uploading file 5 of 9...\n"
     ]
    },
    {
     "name": "stderr",
     "output_type": "stream",
     "text": [
      "[2020-02-17 10:17:23,426] DEBUG: session:307 >> Received response with status code: 200\n",
      "[2020-02-17 10:17:23,427] DEBUG: session:661 >> UPLOAD URI http://10.1.1.17/data/services/import?dest=%2Fprearchive&project=BrainTumorProg_copy\n"
     ]
    },
    {
     "name": "stdout",
     "output_type": "stream",
     "text": [
      "Uploading file 6 of 9...\n"
     ]
    },
    {
     "name": "stderr",
     "output_type": "stream",
     "text": [
      "[2020-02-17 10:17:23,971] DEBUG: session:307 >> Received response with status code: 200\n",
      "[2020-02-17 10:17:23,972] DEBUG: session:661 >> UPLOAD URI http://10.1.1.17/data/services/import?dest=%2Fprearchive&project=BrainTumorProg_copy\n"
     ]
    },
    {
     "name": "stdout",
     "output_type": "stream",
     "text": [
      "Uploading file 7 of 9...\n"
     ]
    },
    {
     "name": "stderr",
     "output_type": "stream",
     "text": [
      "[2020-02-17 10:17:24,554] DEBUG: session:307 >> Received response with status code: 200\n",
      "[2020-02-17 10:17:24,555] DEBUG: session:661 >> UPLOAD URI http://10.1.1.17/data/services/import?dest=%2Fprearchive&project=BrainTumorProg_copy\n"
     ]
    },
    {
     "name": "stdout",
     "output_type": "stream",
     "text": [
      "Uploading file 8 of 9...\n"
     ]
    },
    {
     "name": "stderr",
     "output_type": "stream",
     "text": [
      "[2020-02-17 10:17:25,192] DEBUG: session:307 >> Received response with status code: 200\n",
      "[2020-02-17 10:17:25,193] DEBUG: session:661 >> UPLOAD URI http://10.1.1.17/data/services/import?dest=%2Fprearchive&project=BrainTumorProg_copy\n"
     ]
    },
    {
     "name": "stdout",
     "output_type": "stream",
     "text": [
      "Uploading file 9 of 9...\n"
     ]
    },
    {
     "name": "stderr",
     "output_type": "stream",
     "text": [
      "[2020-02-17 10:17:25,716] DEBUG: session:307 >> Received response with status code: 200\n"
     ]
    }
   ],
   "source": [
    "# Upload to the prearchive the DICOMs that have contour data:\n",
    "for f in range(len(inds)):\n",
    "    print(f'Uploading file {f+1} of {len(inds)}...')\n",
    "    prearchive_session = session.services.import_(dicomFpaths[f], \\\n",
    "                                                  project=projectLabel, \\\n",
    "                                                  destination='/prearchive')"
   ]
  },
  {
   "cell_type": "code",
   "execution_count": 37,
   "metadata": {},
   "outputs": [
    {
     "name": "stderr",
     "output_type": "stream",
     "text": [
      "[2020-02-17 10:04:11,304] DEBUG: session:334 >> GET URI http://10.1.1.17/data/prearchive/projects?format=json\n",
      "[2020-02-17 10:04:11,339] DEBUG: session:307 >> Received response with status code: 200\n",
      "[2020-02-17 10:04:11,340] DEBUG: session:334 >> GET URI http://10.1.1.17/data/version\n",
      "[2020-02-17 10:04:11,348] DEBUG: session:307 >> Received response with status code: 404\n",
      "[2020-02-17 10:04:11,348] DEBUG: session:334 >> GET URI http://10.1.1.17/xapi/siteConfig/buildInfo?format=json\n",
      "[2020-02-17 10:04:11,358] DEBUG: session:307 >> Received response with status code: 200\n",
      "[2020-02-17 10:04:11,360] DEBUG: session:334 >> GET URI http://10.1.1.17/data/prearchive/projects/BrainTumorProg_copy/20200217_100301217/PGM_002_MR_1?format=json\n",
      "[2020-02-17 10:04:11,382] DEBUG: session:307 >> Received response with status code: 200\n",
      "[2020-02-17 10:04:11,383] DEBUG: session:334 >> GET URI http://10.1.1.17/data/prearchive/projects/BrainTumorProg_copy/20200206_152623716/PGM_002_MR_1?format=json\n",
      "[2020-02-17 10:04:11,402] DEBUG: session:307 >> Received response with status code: 200\n",
      "[2020-02-17 10:04:11,403] DEBUG: session:334 >> GET URI http://10.1.1.17/data/prearchive/projects/BrainTumorProg_copy/20200207_144303310/PGM_002_MR_1?format=json\n",
      "[2020-02-17 10:04:11,425] DEBUG: session:307 >> Received response with status code: 200\n",
      "[2020-02-17 10:04:11,426] DEBUG: session:334 >> GET URI http://10.1.1.17/data/prearchive/projects/BrainTumorProg_copy/20200212_213423578/PGM-002_MR_1?format=json\n",
      "[2020-02-17 10:04:11,441] DEBUG: session:307 >> Received response with status code: 200\n",
      "[2020-02-17 10:04:11,442] DEBUG: session:334 >> GET URI http://10.1.1.17/data/prearchive/projects/BrainTumorProg_copy/20200212_204058544/PGM-002_MR_1?format=json\n",
      "[2020-02-17 10:04:11,457] DEBUG: session:307 >> Received response with status code: 200\n",
      "[2020-02-17 10:04:11,459] DEBUG: session:334 >> GET URI http://10.1.1.17/data/prearchive/projects/BrainTumorProg_copy/20200212_215434501/PGM-002_MR_1?format=json\n",
      "[2020-02-17 10:04:11,472] DEBUG: session:307 >> Received response with status code: 200\n",
      "[2020-02-17 10:04:11,473] DEBUG: session:334 >> GET URI http://10.1.1.17/data/prearchive/projects/BrainTumorProg_copy/20200217_100306307/PGM_002_MR_1?format=json\n",
      "[2020-02-17 10:04:11,491] DEBUG: session:307 >> Received response with status code: 200\n",
      "[2020-02-17 10:04:11,492] DEBUG: session:334 >> GET URI http://10.1.1.17/data/prearchive/projects/BrainTumorProg_copy/20200212_161330203/PGM_002_MR_1?format=json\n",
      "[2020-02-17 10:04:11,506] DEBUG: session:307 >> Received response with status code: 200\n",
      "[2020-02-17 10:04:11,506] DEBUG: session:334 >> GET URI http://10.1.1.17/data/prearchive/projects/BrainTumorProg_copy/20200212_162336865/PGM_002_MR_1?format=json\n",
      "[2020-02-17 10:04:11,516] DEBUG: session:307 >> Received response with status code: 200\n",
      "[2020-02-17 10:04:11,516] DEBUG: session:334 >> GET URI http://10.1.1.17/data/prearchive/projects/BrainTumorProg_copy/20200214_085602810/PGM-002_Feb14_MR_1?format=json\n",
      "[2020-02-17 10:04:11,529] DEBUG: session:307 >> Received response with status code: 200\n",
      "[2020-02-17 10:04:11,529] DEBUG: session:334 >> GET URI http://10.1.1.17/data/prearchive/projects/BrainTumorProg_copy/20200217_100303842/PGM_002_MR_1?format=json\n",
      "[2020-02-17 10:04:11,539] DEBUG: session:307 >> Received response with status code: 200\n",
      "[2020-02-17 10:04:11,540] DEBUG: session:334 >> GET URI http://10.1.1.17/data/prearchive/projects/BrainTumorProg_copy/20200217_100303240/PGM_002_MR_1?format=json\n",
      "[2020-02-17 10:04:11,550] DEBUG: session:307 >> Received response with status code: 200\n",
      "[2020-02-17 10:04:11,551] DEBUG: session:334 >> GET URI http://10.1.1.17/data/prearchive/projects/BrainTumorProg_copy/20200217_100302596/PGM_002_MR_1?format=json\n",
      "[2020-02-17 10:04:11,565] DEBUG: session:307 >> Received response with status code: 200\n",
      "[2020-02-17 10:04:11,566] DEBUG: session:334 >> GET URI http://10.1.1.17/data/prearchive/projects/BrainTumorProg_copy/20200217_100301952/PGM_002_MR_1?format=json\n",
      "[2020-02-17 10:04:11,579] DEBUG: session:307 >> Received response with status code: 200\n",
      "[2020-02-17 10:04:11,580] DEBUG: session:334 >> GET URI http://10.1.1.17/data/prearchive/projects/BrainTumorProg_copy/20200217_100304478/PGM_002_MR_1?format=json\n",
      "[2020-02-17 10:04:11,592] DEBUG: session:307 >> Received response with status code: 200\n",
      "[2020-02-17 10:04:11,593] DEBUG: session:334 >> GET URI http://10.1.1.17/data/prearchive/projects/BrainTumorProg_copy/20200217_100305076/PGM_002_MR_1?format=json\n",
      "[2020-02-17 10:04:11,615] DEBUG: session:307 >> Received response with status code: 200\n",
      "[2020-02-17 10:04:11,616] DEBUG: session:334 >> GET URI http://10.1.1.17/data/prearchive/projects/BrainTumorProg_copy/20200217_100305671/PGM_002_MR_1?format=json\n",
      "[2020-02-17 10:04:11,626] DEBUG: session:307 >> Received response with status code: 200\n"
     ]
    },
    {
     "data": {
      "text/plain": [
       "[<PrearchiveSession BrainTumorProg_copy/20200217_100301217/PGM-002_MR_1>,\n",
       " <PrearchiveSession BrainTumorProg_copy/20200206_152623716/PGM_002_MR_1>,\n",
       " <PrearchiveSession BrainTumorProg_copy/20200207_144303310/PGM_002_MR_1>,\n",
       " <PrearchiveSession BrainTumorProg_copy/20200212_213423578/PGM-002_MR_1>,\n",
       " <PrearchiveSession BrainTumorProg_copy/20200212_204058544/PGM-002_MR_1>,\n",
       " <PrearchiveSession BrainTumorProg_copy/20200212_215434501/PGM-002_MR_1>,\n",
       " <PrearchiveSession BrainTumorProg_copy/20200217_100306307/PGM-002_MR_1>,\n",
       " <PrearchiveSession BrainTumorProg_copy/20200212_161330203/PGM_002_MR_1>,\n",
       " <PrearchiveSession BrainTumorProg_copy/20200212_162336865/PGM_002_MR_1>,\n",
       " <PrearchiveSession BrainTumorProg_copy/20200214_085602810/PGM-002_Feb14_MR_1>,\n",
       " <PrearchiveSession BrainTumorProg_copy/20200217_100303842/PGM-002_MR_1>,\n",
       " <PrearchiveSession BrainTumorProg_copy/20200217_100303240/PGM-002_MR_1>,\n",
       " <PrearchiveSession BrainTumorProg_copy/20200217_100302596/PGM-002_MR_1>,\n",
       " <PrearchiveSession BrainTumorProg_copy/20200217_100301952/PGM-002_MR_1>,\n",
       " <PrearchiveSession BrainTumorProg_copy/20200217_100304478/PGM-002_MR_1>,\n",
       " <PrearchiveSession BrainTumorProg_copy/20200217_100305076/PGM-002_MR_1>,\n",
       " <PrearchiveSession BrainTumorProg_copy/20200217_100305671/PGM-002_MR_1>]"
      ]
     },
     "execution_count": 37,
     "metadata": {},
     "output_type": "execute_result"
    }
   ],
   "source": [
    "# Get a list of sessions waiting for archiving:\n",
    "\n",
    "session.prearchive.sessions()"
   ]
  },
  {
   "cell_type": "code",
   "execution_count": 40,
   "metadata": {},
   "outputs": [
    {
     "name": "stderr",
     "output_type": "stream",
     "text": [
      "[2020-02-17 10:10:46,202] DEBUG: session:334 >> GET URI http://10.1.1.17/data/prearchive/projects?format=json\n",
      "[2020-02-17 10:10:46,218] DEBUG: session:307 >> Received response with status code: 200\n"
     ]
    },
    {
     "data": {
      "text/plain": [
       "<PrearchiveSession BrainTumorProg_copy/20200217_100301217/PGM-002_MR_1>"
      ]
     },
     "execution_count": 40,
     "metadata": {},
     "output_type": "execute_result"
    }
   ],
   "source": [
    "session.prearchive.sessions()[0]"
   ]
  },
  {
   "cell_type": "code",
   "execution_count": 45,
   "metadata": {},
   "outputs": [
    {
     "name": "stderr",
     "output_type": "stream",
     "text": [
      "[2020-02-17 10:15:10,193] DEBUG: session:334 >> GET URI http://10.1.1.17/data/prearchive/projects?format=json\n",
      "[2020-02-17 10:15:10,208] DEBUG: session:307 >> Received response with status code: 200\n"
     ]
    },
    {
     "data": {
      "text/plain": [
       "[<PrearchiveSession BrainTumorProg_copy/20200217_100301217/PGM-002_MR_1>,\n",
       " <PrearchiveSession BrainTumorProg_copy/20200217_100306307/PGM-002_MR_1>,\n",
       " <PrearchiveSession BrainTumorProg_copy/20200214_085602810/PGM-002_Feb14_MR_1>,\n",
       " <PrearchiveSession BrainTumorProg_copy/20200217_100303842/PGM-002_MR_1>,\n",
       " <PrearchiveSession BrainTumorProg_copy/20200217_100303240/PGM-002_MR_1>,\n",
       " <PrearchiveSession BrainTumorProg_copy/20200217_100302596/PGM-002_MR_1>,\n",
       " <PrearchiveSession BrainTumorProg_copy/20200217_100301952/PGM-002_MR_1>,\n",
       " <PrearchiveSession BrainTumorProg_copy/20200217_100304478/PGM-002_MR_1>,\n",
       " <PrearchiveSession BrainTumorProg_copy/20200217_100305076/PGM-002_MR_1>,\n",
       " <PrearchiveSession BrainTumorProg_copy/20200217_100305671/PGM-002_MR_1>]"
      ]
     },
     "execution_count": 45,
     "metadata": {},
     "output_type": "execute_result"
    }
   ],
   "source": [
    "session.prearchive.find(status='READY')"
   ]
  },
  {
   "cell_type": "markdown",
   "metadata": {},
   "source": [
    "## This time upload to the prearchive assigning not only the project, but also the subject and experiment:"
   ]
  },
  {
   "cell_type": "code",
   "execution_count": 74,
   "metadata": {},
   "outputs": [
    {
     "name": "stderr",
     "output_type": "stream",
     "text": [
      "[2020-02-17 11:28:33,163] DEBUG: session:661 >> UPLOAD URI http://10.1.1.17/data/services/import?dest=%2Fprearchive&project=BrainTumorProg_copy&subject=PGM-002_Feb17&session=PGM-002_Feb17_MR_1\n"
     ]
    },
    {
     "name": "stdout",
     "output_type": "stream",
     "text": [
      "Uploading file 1 of 9 to the prearchive...\n"
     ]
    },
    {
     "name": "stderr",
     "output_type": "stream",
     "text": [
      "[2020-02-17 11:28:33,696] DEBUG: session:307 >> Received response with status code: 200\n",
      "[2020-02-17 11:28:33,697] DEBUG: session:661 >> UPLOAD URI http://10.1.1.17/data/services/import?dest=%2Fprearchive&project=BrainTumorProg_copy&subject=PGM-002_Feb17&session=PGM-002_Feb17_MR_1\n"
     ]
    },
    {
     "name": "stdout",
     "output_type": "stream",
     "text": [
      "Uploading file 2 of 9 to the prearchive...\n"
     ]
    },
    {
     "name": "stderr",
     "output_type": "stream",
     "text": [
      "[2020-02-17 11:28:34,211] DEBUG: session:307 >> Received response with status code: 200\n",
      "[2020-02-17 11:28:34,213] DEBUG: session:661 >> UPLOAD URI http://10.1.1.17/data/services/import?dest=%2Fprearchive&project=BrainTumorProg_copy&subject=PGM-002_Feb17&session=PGM-002_Feb17_MR_1\n"
     ]
    },
    {
     "name": "stdout",
     "output_type": "stream",
     "text": [
      "Uploading file 3 of 9 to the prearchive...\n"
     ]
    },
    {
     "name": "stderr",
     "output_type": "stream",
     "text": [
      "[2020-02-17 11:28:34,725] DEBUG: session:307 >> Received response with status code: 200\n",
      "[2020-02-17 11:28:34,726] DEBUG: session:661 >> UPLOAD URI http://10.1.1.17/data/services/import?dest=%2Fprearchive&project=BrainTumorProg_copy&subject=PGM-002_Feb17&session=PGM-002_Feb17_MR_1\n"
     ]
    },
    {
     "name": "stdout",
     "output_type": "stream",
     "text": [
      "Uploading file 4 of 9 to the prearchive...\n"
     ]
    },
    {
     "name": "stderr",
     "output_type": "stream",
     "text": [
      "[2020-02-17 11:28:35,247] DEBUG: session:307 >> Received response with status code: 200\n",
      "[2020-02-17 11:28:35,248] DEBUG: session:661 >> UPLOAD URI http://10.1.1.17/data/services/import?dest=%2Fprearchive&project=BrainTumorProg_copy&subject=PGM-002_Feb17&session=PGM-002_Feb17_MR_1\n"
     ]
    },
    {
     "name": "stdout",
     "output_type": "stream",
     "text": [
      "Uploading file 5 of 9 to the prearchive...\n"
     ]
    },
    {
     "name": "stderr",
     "output_type": "stream",
     "text": [
      "[2020-02-17 11:28:35,787] DEBUG: session:307 >> Received response with status code: 200\n",
      "[2020-02-17 11:28:35,788] DEBUG: session:661 >> UPLOAD URI http://10.1.1.17/data/services/import?dest=%2Fprearchive&project=BrainTumorProg_copy&subject=PGM-002_Feb17&session=PGM-002_Feb17_MR_1\n"
     ]
    },
    {
     "name": "stdout",
     "output_type": "stream",
     "text": [
      "Uploading file 6 of 9 to the prearchive...\n"
     ]
    },
    {
     "name": "stderr",
     "output_type": "stream",
     "text": [
      "[2020-02-17 11:28:36,375] DEBUG: session:307 >> Received response with status code: 200\n",
      "[2020-02-17 11:28:36,377] DEBUG: session:661 >> UPLOAD URI http://10.1.1.17/data/services/import?dest=%2Fprearchive&project=BrainTumorProg_copy&subject=PGM-002_Feb17&session=PGM-002_Feb17_MR_1\n"
     ]
    },
    {
     "name": "stdout",
     "output_type": "stream",
     "text": [
      "Uploading file 7 of 9 to the prearchive...\n"
     ]
    },
    {
     "name": "stderr",
     "output_type": "stream",
     "text": [
      "[2020-02-17 11:28:37,127] DEBUG: session:307 >> Received response with status code: 200\n",
      "[2020-02-17 11:28:37,130] DEBUG: session:661 >> UPLOAD URI http://10.1.1.17/data/services/import?dest=%2Fprearchive&project=BrainTumorProg_copy&subject=PGM-002_Feb17&session=PGM-002_Feb17_MR_1\n"
     ]
    },
    {
     "name": "stdout",
     "output_type": "stream",
     "text": [
      "Uploading file 8 of 9 to the prearchive...\n"
     ]
    },
    {
     "name": "stderr",
     "output_type": "stream",
     "text": [
      "[2020-02-17 11:28:37,823] DEBUG: session:307 >> Received response with status code: 200\n",
      "[2020-02-17 11:28:37,825] DEBUG: session:661 >> UPLOAD URI http://10.1.1.17/data/services/import?dest=%2Fprearchive&project=BrainTumorProg_copy&subject=PGM-002_Feb17&session=PGM-002_Feb17_MR_1\n"
     ]
    },
    {
     "name": "stdout",
     "output_type": "stream",
     "text": [
      "Uploading file 9 of 9 to the prearchive...\n"
     ]
    },
    {
     "name": "stderr",
     "output_type": "stream",
     "text": [
      "[2020-02-17 11:28:38,512] DEBUG: session:307 >> Received response with status code: 200\n"
     ]
    }
   ],
   "source": [
    "# Upload to the prearchive the DICOMs that have contour data:\n",
    "for f in range(len(inds)):\n",
    "    print(f'Uploading file {f+1} of {len(inds)} to the prearchive...')\n",
    "    \n",
    "    prearchive_session = session.services.import_(dicomFpaths[inds[f]], \\\n",
    "                                                  project=projectLabel, \\\n",
    "                                                  subject=subjectLabel, \\\n",
    "                                                  experiment=experimentLabel, \\\n",
    "                                                  destination='/prearchive')"
   ]
  },
  {
   "cell_type": "code",
   "execution_count": 75,
   "metadata": {},
   "outputs": [
    {
     "name": "stderr",
     "output_type": "stream",
     "text": [
      "[2020-02-17 11:29:21,939] DEBUG: session:334 >> GET URI http://10.1.1.17/data/prearchive/projects?format=json\n",
      "[2020-02-17 11:29:21,955] DEBUG: session:307 >> Received response with status code: 200\n",
      "[2020-02-17 11:29:21,957] DEBUG: session:334 >> GET URI http://10.1.1.17/data/prearchive/projects/BrainTumorProg_copy/20200217_112830490/PGM_002_MR_1?format=json\n",
      "[2020-02-17 11:29:21,972] DEBUG: session:307 >> Received response with status code: 200\n",
      "[2020-02-17 11:29:21,973] DEBUG: session:334 >> GET URI http://10.1.1.17/data/prearchive/projects/BrainTumorProg_copy/20200217_112833178/PGM_002_MR_1?format=json\n",
      "[2020-02-17 11:29:21,980] DEBUG: session:307 >> Received response with status code: 200\n",
      "[2020-02-17 11:29:21,981] DEBUG: session:334 >> GET URI http://10.1.1.17/data/prearchive/projects/BrainTumorProg_copy/20200217_112831518/PGM_002_MR_1?format=json\n",
      "[2020-02-17 11:29:21,992] DEBUG: session:307 >> Received response with status code: 200\n",
      "[2020-02-17 11:29:21,993] DEBUG: session:334 >> GET URI http://10.1.1.17/data/prearchive/projects/BrainTumorProg_copy/20200217_112829964/PGM_002_MR_1?format=json\n",
      "[2020-02-17 11:29:22,006] DEBUG: session:307 >> Received response with status code: 200\n",
      "[2020-02-17 11:29:22,007] DEBUG: session:334 >> GET URI http://10.1.1.17/data/prearchive/projects/BrainTumorProg_copy/20200217_112832580/PGM_002_MR_1?format=json\n",
      "[2020-02-17 11:29:22,019] DEBUG: session:307 >> Received response with status code: 200\n",
      "[2020-02-17 11:29:22,019] DEBUG: session:334 >> GET URI http://10.1.1.17/data/prearchive/projects/BrainTumorProg_copy/20200217_112831005/PGM_002_MR_1?format=json\n",
      "[2020-02-17 11:29:22,031] DEBUG: session:307 >> Received response with status code: 200\n",
      "[2020-02-17 11:29:22,032] DEBUG: session:334 >> GET URI http://10.1.1.17/data/prearchive/projects/BrainTumorProg_copy/20200217_112832043/PGM_002_MR_1?format=json\n",
      "[2020-02-17 11:29:22,039] DEBUG: session:307 >> Received response with status code: 200\n",
      "[2020-02-17 11:29:22,040] DEBUG: session:334 >> GET URI http://10.1.1.17/data/prearchive/projects/BrainTumorProg_copy/20200217_112834623/PGM_002_MR_1?format=json\n",
      "[2020-02-17 11:29:22,048] DEBUG: session:307 >> Received response with status code: 200\n",
      "[2020-02-17 11:29:22,048] DEBUG: session:334 >> GET URI http://10.1.1.17/data/prearchive/projects/BrainTumorProg_copy/20200217_112833943/PGM_002_MR_1?format=json\n",
      "[2020-02-17 11:29:22,057] DEBUG: session:307 >> Received response with status code: 200\n"
     ]
    },
    {
     "data": {
      "text/plain": [
       "[<PrearchiveSession BrainTumorProg_copy/20200217_100301217/PGM-002_MR_1>,\n",
       " <PrearchiveSession BrainTumorProg_copy/20200217_101718616/PGM-002_MR_1>,\n",
       " <PrearchiveSession BrainTumorProg_copy/20200217_100306307/PGM-002_MR_1>,\n",
       " <PrearchiveSession BrainTumorProg_copy/20200214_085602810/PGM-002_Feb14_MR_1>,\n",
       " <PrearchiveSession BrainTumorProg_copy/20200217_112830490/PGM-002_Feb17_MR_1>,\n",
       " <PrearchiveSession BrainTumorProg_copy/20200217_112833178/PGM-002_Feb17_MR_1>,\n",
       " <PrearchiveSession BrainTumorProg_copy/20200217_112831518/PGM-002_Feb17_MR_1>,\n",
       " <PrearchiveSession BrainTumorProg_copy/20200217_112829964/PGM-002_Feb17_MR_1>,\n",
       " <PrearchiveSession BrainTumorProg_copy/20200217_112832580/PGM-002_Feb17_MR_1>,\n",
       " <PrearchiveSession BrainTumorProg_copy/20200217_112831005/PGM-002_Feb17_MR_1>,\n",
       " <PrearchiveSession BrainTumorProg_copy/20200217_112832043/PGM-002_Feb17_MR_1>,\n",
       " <PrearchiveSession BrainTumorProg_copy/20200217_112834623/PGM-002_Feb17_MR_1>,\n",
       " <PrearchiveSession BrainTumorProg_copy/20200217_112833943/PGM-002_Feb17_MR_1>]"
      ]
     },
     "execution_count": 75,
     "metadata": {},
     "output_type": "execute_result"
    }
   ],
   "source": [
    "session.prearchive.find(status='READY')"
   ]
  },
  {
   "cell_type": "code",
   "execution_count": 76,
   "metadata": {},
   "outputs": [
    {
     "name": "stderr",
     "output_type": "stream",
     "text": [
      "[2020-02-17 11:29:29,304] DEBUG: session:334 >> GET URI http://10.1.1.17/data/prearchive/projects/BrainTumorProg_copy?format=json\n",
      "[2020-02-17 11:29:29,313] DEBUG: session:307 >> Received response with status code: 200\n"
     ]
    },
    {
     "data": {
      "text/plain": [
       "[<PrearchiveSession BrainTumorProg_copy/20200217_112830490/PGM-002_Feb17_MR_1>,\n",
       " <PrearchiveSession BrainTumorProg_copy/20200217_112833178/PGM-002_Feb17_MR_1>,\n",
       " <PrearchiveSession BrainTumorProg_copy/20200217_112831518/PGM-002_Feb17_MR_1>,\n",
       " <PrearchiveSession BrainTumorProg_copy/20200217_112829964/PGM-002_Feb17_MR_1>,\n",
       " <PrearchiveSession BrainTumorProg_copy/20200217_112832580/PGM-002_Feb17_MR_1>,\n",
       " <PrearchiveSession BrainTumorProg_copy/20200217_112831005/PGM-002_Feb17_MR_1>,\n",
       " <PrearchiveSession BrainTumorProg_copy/20200217_112832043/PGM-002_Feb17_MR_1>,\n",
       " <PrearchiveSession BrainTumorProg_copy/20200217_112834623/PGM-002_Feb17_MR_1>,\n",
       " <PrearchiveSession BrainTumorProg_copy/20200217_112833943/PGM-002_Feb17_MR_1>]"
      ]
     },
     "execution_count": 76,
     "metadata": {},
     "output_type": "execute_result"
    }
   ],
   "source": [
    "session.prearchive.find(project=projectLabel, subject=subjectLabel, session=experimentLabel, status='READY')"
   ]
  },
  {
   "cell_type": "code",
   "execution_count": 77,
   "metadata": {},
   "outputs": [
    {
     "name": "stderr",
     "output_type": "stream",
     "text": [
      "[2020-02-17 11:30:05,496] DEBUG: session:334 >> GET URI http://10.1.1.17/data/prearchive/projects/BrainTumorProg_copy?format=json\n",
      "[2020-02-17 11:30:05,509] DEBUG: session:307 >> Received response with status code: 200\n"
     ]
    }
   ],
   "source": [
    "# Create a session of the files within the prearchive that I want to archive:\n",
    "prearchive_session_to_archive = session.prearchive.find(project=projectLabel, \\\n",
    "                                                        subject=subjectLabel, \\\n",
    "                                                        session=experimentLabel, \\\n",
    "                                                        status='READY')"
   ]
  },
  {
   "cell_type": "code",
   "execution_count": 78,
   "metadata": {},
   "outputs": [
    {
     "data": {
      "text/plain": [
       "[<PrearchiveSession BrainTumorProg_copy/20200217_112830490/PGM-002_Feb17_MR_1>,\n",
       " <PrearchiveSession BrainTumorProg_copy/20200217_112833178/PGM-002_Feb17_MR_1>,\n",
       " <PrearchiveSession BrainTumorProg_copy/20200217_112831518/PGM-002_Feb17_MR_1>,\n",
       " <PrearchiveSession BrainTumorProg_copy/20200217_112829964/PGM-002_Feb17_MR_1>,\n",
       " <PrearchiveSession BrainTumorProg_copy/20200217_112832580/PGM-002_Feb17_MR_1>,\n",
       " <PrearchiveSession BrainTumorProg_copy/20200217_112831005/PGM-002_Feb17_MR_1>,\n",
       " <PrearchiveSession BrainTumorProg_copy/20200217_112832043/PGM-002_Feb17_MR_1>,\n",
       " <PrearchiveSession BrainTumorProg_copy/20200217_112834623/PGM-002_Feb17_MR_1>,\n",
       " <PrearchiveSession BrainTumorProg_copy/20200217_112833943/PGM-002_Feb17_MR_1>]"
      ]
     },
     "execution_count": 78,
     "metadata": {},
     "output_type": "execute_result"
    }
   ],
   "source": [
    "prearchive_session_to_archive"
   ]
  },
  {
   "cell_type": "code",
   "execution_count": 79,
   "metadata": {},
   "outputs": [
    {
     "data": {
      "text/plain": [
       "9"
      ]
     },
     "execution_count": 79,
     "metadata": {},
     "output_type": "execute_result"
    }
   ],
   "source": [
    "len(prearchive_session_to_archive)"
   ]
  },
  {
   "cell_type": "markdown",
   "metadata": {},
   "source": [
    "##### the project/subject/experiment don't need to be assigned when archiving since they were already assigned during prearchiving:\n",
    "\n",
    "for f in range(len(prearchive_session_to_archive)):\n",
    "    print(f'Moving file {f+1} of {len(prearchive_session_to_archive)} to the archive...')\n",
    "    archive_session = prearchive_session_to_archive[f].archive(project=projectLabel, \\\n",
    "                                                               subject=subjectLabel, \\\n",
    "                                                               experiment=experimentLabel)"
   ]
  },
  {
   "cell_type": "code",
   "execution_count": 80,
   "metadata": {},
   "outputs": [
    {
     "name": "stderr",
     "output_type": "stream",
     "text": [
      "[2020-02-17 11:31:29,910] DEBUG: session:391 >> POST URI http://10.1.1.17/data/services/archive?src=%2Fdata%2Fprearchive%2Fprojects%2FBrainTumorProg_copy%2F20200217_112830490%2FPGM_002_MR_1&overwrite=append\n",
      "[2020-02-17 11:31:29,911] DEBUG: session:393 >> POST DATA None\n"
     ]
    },
    {
     "name": "stdout",
     "output_type": "stream",
     "text": [
      "Moving file 1 of 9 to the archive...\n"
     ]
    },
    {
     "name": "stderr",
     "output_type": "stream",
     "text": [
      "[2020-02-17 11:31:30,259] DEBUG: session:307 >> Received response with status code: 200\n",
      "[2020-02-17 11:31:30,260] DEBUG: session:769 >> Fetching object /data/archive/projects/BrainTumorProg_copy/subjects/PGM-002_Feb17/experiments/PGM-002_Feb17_MR_1 from cache\n",
      "[2020-02-17 11:31:30,261] DEBUG: session:391 >> POST URI http://10.1.1.17/data/services/archive?src=%2Fdata%2Fprearchive%2Fprojects%2FBrainTumorProg_copy%2F20200217_112833178%2FPGM_002_MR_1&overwrite=append\n",
      "[2020-02-17 11:31:30,261] DEBUG: session:393 >> POST DATA None\n",
      "[2020-02-17 11:31:30,376] DEBUG: session:307 >> Received response with status code: 409\n"
     ]
    },
    {
     "name": "stdout",
     "output_type": "stream",
     "text": [
      "Moving file 2 of 9 to the archive...\n"
     ]
    },
    {
     "ename": "XNATResponseError",
     "evalue": "Invalid response from XNATSession for url http://10.1.1.17/data/services/archive?src=%2Fdata%2Fprearchive%2Fprojects%2FBrainTumorProg_copy%2F20200217_112833178%2FPGM_002_MR_1&overwrite=append (status 409):\n<html>\n<head>\n   <title>Status page</title>\n</head>\n<body>\n<h3>Session processing may already be in progress: AutoRun.  Concurrent modification is discouraged.</h3><p>You can get technical details <a href=\"http://www.w3.org/Protocols/rfc2616/rfc2616-sec10.html#sec10.4.10\">here</a>.<br>\nPlease continue your visit at our <a href=\"/\">home page</a>.\n</p>\n</body>\n</html>\n",
     "output_type": "error",
     "traceback": [
      "\u001b[1;31m---------------------------------------------------------------------------\u001b[0m",
      "\u001b[1;31mXNATResponseError\u001b[0m                         Traceback (most recent call last)",
      "\u001b[1;32m<ipython-input-80-4d67815d2b1e>\u001b[0m in \u001b[0;36m<module>\u001b[1;34m\u001b[0m\n\u001b[0;32m      8\u001b[0m \u001b[1;33m\u001b[0m\u001b[0m\n\u001b[0;32m      9\u001b[0m     \u001b[1;31m#archive_session = prearchive_session_to_archive[f].archive()\u001b[0m\u001b[1;33m\u001b[0m\u001b[1;33m\u001b[0m\u001b[1;33m\u001b[0m\u001b[0m\n\u001b[1;32m---> 10\u001b[1;33m     \u001b[0marchive_session\u001b[0m \u001b[1;33m=\u001b[0m \u001b[0mprearchive_session_to_archive\u001b[0m\u001b[1;33m[\u001b[0m\u001b[0mf\u001b[0m\u001b[1;33m]\u001b[0m\u001b[1;33m.\u001b[0m\u001b[0marchive\u001b[0m\u001b[1;33m(\u001b[0m\u001b[0moverwrite\u001b[0m\u001b[1;33m=\u001b[0m\u001b[1;34m'append'\u001b[0m\u001b[1;33m)\u001b[0m\u001b[1;33m\u001b[0m\u001b[1;33m\u001b[0m\u001b[0m\n\u001b[0m",
      "\u001b[1;32m~\\Anaconda37\\lib\\site-packages\\xnat\\prearchive.py\u001b[0m in \u001b[0;36marchive\u001b[1;34m(self, overwrite, quarantine, trigger_pipelines, project, subject, experiment)\u001b[0m\n\u001b[0;32m    218\u001b[0m             \u001b[0mquery\u001b[0m\u001b[1;33m[\u001b[0m\u001b[1;34m'session'\u001b[0m\u001b[1;33m]\u001b[0m \u001b[1;33m=\u001b[0m \u001b[0mexperiment\u001b[0m\u001b[1;33m\u001b[0m\u001b[1;33m\u001b[0m\u001b[0m\n\u001b[0;32m    219\u001b[0m \u001b[1;33m\u001b[0m\u001b[0m\n\u001b[1;32m--> 220\u001b[1;33m         \u001b[0mresponse\u001b[0m \u001b[1;33m=\u001b[0m \u001b[0mself\u001b[0m\u001b[1;33m.\u001b[0m\u001b[0mxnat_session\u001b[0m\u001b[1;33m.\u001b[0m\u001b[0mpost\u001b[0m\u001b[1;33m(\u001b[0m\u001b[1;34m'/data/services/archive'\u001b[0m\u001b[1;33m,\u001b[0m \u001b[0mquery\u001b[0m\u001b[1;33m=\u001b[0m\u001b[0mquery\u001b[0m\u001b[1;33m)\u001b[0m\u001b[1;33m\u001b[0m\u001b[1;33m\u001b[0m\u001b[0m\n\u001b[0m\u001b[0;32m    221\u001b[0m         \u001b[0mobject_uri\u001b[0m \u001b[1;33m=\u001b[0m \u001b[0mresponse\u001b[0m\u001b[1;33m.\u001b[0m\u001b[0mtext\u001b[0m\u001b[1;33m.\u001b[0m\u001b[0mstrip\u001b[0m\u001b[1;33m(\u001b[0m\u001b[1;33m)\u001b[0m\u001b[1;33m\u001b[0m\u001b[1;33m\u001b[0m\u001b[0m\n\u001b[0;32m    222\u001b[0m \u001b[1;33m\u001b[0m\u001b[0m\n",
      "\u001b[1;32m~\\Anaconda37\\lib\\site-packages\\xnat\\session.py\u001b[0m in \u001b[0;36mpost\u001b[1;34m(self, path, data, json, format, query, accepted_status, timeout, headers)\u001b[0m\n\u001b[0;32m    397\u001b[0m         \u001b[1;32mexcept\u001b[0m \u001b[0mrequests\u001b[0m\u001b[1;33m.\u001b[0m\u001b[0mexceptions\u001b[0m\u001b[1;33m.\u001b[0m\u001b[0mSSLError\u001b[0m\u001b[1;33m:\u001b[0m\u001b[1;33m\u001b[0m\u001b[1;33m\u001b[0m\u001b[0m\n\u001b[0;32m    398\u001b[0m             \u001b[1;32mraise\u001b[0m \u001b[0mexceptions\u001b[0m\u001b[1;33m.\u001b[0m\u001b[0mXNATSSLError\u001b[0m\u001b[1;33m(\u001b[0m\u001b[1;34m'Encountered a problem with the SSL connection, are you sure the server is offering https?'\u001b[0m\u001b[1;33m)\u001b[0m\u001b[1;33m\u001b[0m\u001b[1;33m\u001b[0m\u001b[0m\n\u001b[1;32m--> 399\u001b[1;33m         \u001b[0mself\u001b[0m\u001b[1;33m.\u001b[0m\u001b[0m_check_response\u001b[0m\u001b[1;33m(\u001b[0m\u001b[0mresponse\u001b[0m\u001b[1;33m,\u001b[0m \u001b[0maccepted_status\u001b[0m\u001b[1;33m=\u001b[0m\u001b[0maccepted_status\u001b[0m\u001b[1;33m,\u001b[0m \u001b[0muri\u001b[0m\u001b[1;33m=\u001b[0m\u001b[0muri\u001b[0m\u001b[1;33m)\u001b[0m\u001b[1;33m\u001b[0m\u001b[1;33m\u001b[0m\u001b[0m\n\u001b[0m\u001b[0;32m    400\u001b[0m         \u001b[1;32mreturn\u001b[0m \u001b[0mresponse\u001b[0m\u001b[1;33m\u001b[0m\u001b[1;33m\u001b[0m\u001b[0m\n\u001b[0;32m    401\u001b[0m \u001b[1;33m\u001b[0m\u001b[0m\n",
      "\u001b[1;32m~\\Anaconda37\\lib\\site-packages\\xnat\\session.py\u001b[0m in \u001b[0;36m_check_response\u001b[1;34m(self, response, accepted_status, uri)\u001b[0m\n\u001b[0;32m    311\u001b[0m                 \u001b[0maccepted_status\u001b[0m \u001b[1;33m=\u001b[0m \u001b[1;33m[\u001b[0m\u001b[1;36m200\u001b[0m\u001b[1;33m,\u001b[0m \u001b[1;36m201\u001b[0m\u001b[1;33m,\u001b[0m \u001b[1;36m202\u001b[0m\u001b[1;33m,\u001b[0m \u001b[1;36m203\u001b[0m\u001b[1;33m,\u001b[0m \u001b[1;36m204\u001b[0m\u001b[1;33m,\u001b[0m \u001b[1;36m205\u001b[0m\u001b[1;33m,\u001b[0m \u001b[1;36m206\u001b[0m\u001b[1;33m]\u001b[0m  \u001b[1;31m# All successful responses of HTML\u001b[0m\u001b[1;33m\u001b[0m\u001b[1;33m\u001b[0m\u001b[0m\n\u001b[0;32m    312\u001b[0m             \u001b[1;32mif\u001b[0m \u001b[0mresponse\u001b[0m\u001b[1;33m.\u001b[0m\u001b[0mstatus_code\u001b[0m \u001b[1;32mnot\u001b[0m \u001b[1;32min\u001b[0m \u001b[0maccepted_status\u001b[0m \u001b[1;32mor\u001b[0m \u001b[1;33m(\u001b[0m\u001b[1;32mnot\u001b[0m \u001b[0mself\u001b[0m\u001b[1;33m.\u001b[0m\u001b[0mskip_response_content_check\u001b[0m \u001b[1;32mand\u001b[0m \u001b[0mresponse\u001b[0m\u001b[1;33m.\u001b[0m\u001b[0mtext\u001b[0m\u001b[1;33m.\u001b[0m\u001b[0mstartswith\u001b[0m\u001b[1;33m(\u001b[0m\u001b[1;33m(\u001b[0m\u001b[1;34m'<!DOCTYPE'\u001b[0m\u001b[1;33m,\u001b[0m \u001b[1;34m'<html>'\u001b[0m\u001b[1;33m)\u001b[0m\u001b[1;33m)\u001b[0m\u001b[1;33m)\u001b[0m\u001b[1;33m:\u001b[0m\u001b[1;33m\u001b[0m\u001b[1;33m\u001b[0m\u001b[0m\n\u001b[1;32m--> 313\u001b[1;33m                 \u001b[1;32mraise\u001b[0m \u001b[0mexceptions\u001b[0m\u001b[1;33m.\u001b[0m\u001b[0mXNATResponseError\u001b[0m\u001b[1;33m(\u001b[0m\u001b[1;34m'Invalid response from XNATSession for url {} (status {}):\\n{}'\u001b[0m\u001b[1;33m.\u001b[0m\u001b[0mformat\u001b[0m\u001b[1;33m(\u001b[0m\u001b[0muri\u001b[0m\u001b[1;33m,\u001b[0m \u001b[0mresponse\u001b[0m\u001b[1;33m.\u001b[0m\u001b[0mstatus_code\u001b[0m\u001b[1;33m,\u001b[0m \u001b[0mresponse\u001b[0m\u001b[1;33m.\u001b[0m\u001b[0mtext\u001b[0m\u001b[1;33m)\u001b[0m\u001b[1;33m)\u001b[0m\u001b[1;33m\u001b[0m\u001b[1;33m\u001b[0m\u001b[0m\n\u001b[0m\u001b[0;32m    314\u001b[0m \u001b[1;33m\u001b[0m\u001b[0m\n\u001b[0;32m    315\u001b[0m     \u001b[1;32mdef\u001b[0m \u001b[0mget\u001b[0m\u001b[1;33m(\u001b[0m\u001b[0mself\u001b[0m\u001b[1;33m,\u001b[0m \u001b[0mpath\u001b[0m\u001b[1;33m,\u001b[0m \u001b[0mformat\u001b[0m\u001b[1;33m=\u001b[0m\u001b[1;32mNone\u001b[0m\u001b[1;33m,\u001b[0m \u001b[0mquery\u001b[0m\u001b[1;33m=\u001b[0m\u001b[1;32mNone\u001b[0m\u001b[1;33m,\u001b[0m \u001b[0maccepted_status\u001b[0m\u001b[1;33m=\u001b[0m\u001b[1;32mNone\u001b[0m\u001b[1;33m,\u001b[0m \u001b[0mtimeout\u001b[0m\u001b[1;33m=\u001b[0m\u001b[1;32mNone\u001b[0m\u001b[1;33m,\u001b[0m \u001b[0mheaders\u001b[0m\u001b[1;33m=\u001b[0m\u001b[1;32mNone\u001b[0m\u001b[1;33m)\u001b[0m\u001b[1;33m:\u001b[0m\u001b[1;33m\u001b[0m\u001b[1;33m\u001b[0m\u001b[0m\n",
      "\u001b[1;31mXNATResponseError\u001b[0m: Invalid response from XNATSession for url http://10.1.1.17/data/services/archive?src=%2Fdata%2Fprearchive%2Fprojects%2FBrainTumorProg_copy%2F20200217_112833178%2FPGM_002_MR_1&overwrite=append (status 409):\n<html>\n<head>\n   <title>Status page</title>\n</head>\n<body>\n<h3>Session processing may already be in progress: AutoRun.  Concurrent modification is discouraged.</h3><p>You can get technical details <a href=\"http://www.w3.org/Protocols/rfc2616/rfc2616-sec10.html#sec10.4.10\">here</a>.<br>\nPlease continue your visit at our <a href=\"/\">home page</a>.\n</p>\n</body>\n</html>\n"
     ]
    }
   ],
   "source": [
    "# Only archive the desired files:\n",
    "\n",
    "# Presumably I don't have to assign the subject and experiment again...\n",
    "#archive_session = prearchive_session_to_archive.archive(subject=subjectLabel, experiment=experimentLabel)\n",
    "\n",
    "for f in range(len(prearchive_session_to_archive)):\n",
    "    print(f'Moving file {f+1} of {len(prearchive_session_to_archive)} to the archive...')\n",
    "    \n",
    "    #archive_session = prearchive_session_to_archive[f].archive()\n",
    "    archive_session = prearchive_session_to_archive[f].archive(overwrite='append')"
   ]
  },
  {
   "cell_type": "markdown",
   "metadata": {},
   "source": [
    "# Current Warnings\n",
    "## CONFLICT-14: Session already exists with matching files.\n",
    "## CONFLICT-16: Session already contains a scan (11) with the same UID and number."
   ]
  },
  {
   "cell_type": "code",
   "execution_count": 89,
   "metadata": {},
   "outputs": [
    {
     "name": "stderr",
     "output_type": "stream",
     "text": [
      "[2020-02-17 12:51:16,064] DEBUG: session:391 >> POST URI http://10.1.1.17/data/services/archive?src=%2Fdata%2Fprearchive%2Fprojects%2FBrainTumorProg_copy%2F20200217_112831518%2FPGM_002_MR_1&overwrite=append\n",
      "[2020-02-17 12:51:16,065] DEBUG: session:393 >> POST DATA None\n",
      "[2020-02-17 12:51:16,174] DEBUG: session:307 >> Received response with status code: 409\n"
     ]
    },
    {
     "name": "stdout",
     "output_type": "stream",
     "text": [
      "Moving file 1 of 8 to the archive...\n"
     ]
    },
    {
     "ename": "XNATResponseError",
     "evalue": "Invalid response from XNATSession for url http://10.1.1.17/data/services/archive?src=%2Fdata%2Fprearchive%2Fprojects%2FBrainTumorProg_copy%2F20200217_112831518%2FPGM_002_MR_1&overwrite=append (status 409):\n<html>\n<head>\n   <title>Status page</title>\n</head>\n<body>\n<h3>Session already exists with matching files.</h3><p>You can get technical details <a href=\"http://www.w3.org/Protocols/rfc2616/rfc2616-sec10.html#sec10.4.10\">here</a>.<br>\nPlease continue your visit at our <a href=\"/\">home page</a>.\n</p>\n</body>\n</html>\n",
     "output_type": "error",
     "traceback": [
      "\u001b[1;31m---------------------------------------------------------------------------\u001b[0m",
      "\u001b[1;31mXNATResponseError\u001b[0m                         Traceback (most recent call last)",
      "\u001b[1;32m<ipython-input-89-58fdfdfca153>\u001b[0m in \u001b[0;36m<module>\u001b[1;34m\u001b[0m\n\u001b[0;32m      5\u001b[0m \u001b[1;33m\u001b[0m\u001b[0m\n\u001b[0;32m      6\u001b[0m     \u001b[1;31m#prearchive_session_to_archive[f].archive()\u001b[0m\u001b[1;33m\u001b[0m\u001b[1;33m\u001b[0m\u001b[1;33m\u001b[0m\u001b[0m\n\u001b[1;32m----> 7\u001b[1;33m     \u001b[0mprearchive_session_to_archive\u001b[0m\u001b[1;33m[\u001b[0m\u001b[0mf\u001b[0m\u001b[1;33m]\u001b[0m\u001b[1;33m.\u001b[0m\u001b[0marchive\u001b[0m\u001b[1;33m(\u001b[0m\u001b[0moverwrite\u001b[0m\u001b[1;33m=\u001b[0m\u001b[1;34m'append'\u001b[0m\u001b[1;33m)\u001b[0m\u001b[1;33m\u001b[0m\u001b[1;33m\u001b[0m\u001b[0m\n\u001b[0m",
      "\u001b[1;32m~\\Anaconda37\\lib\\site-packages\\xnat\\prearchive.py\u001b[0m in \u001b[0;36marchive\u001b[1;34m(self, overwrite, quarantine, trigger_pipelines, project, subject, experiment)\u001b[0m\n\u001b[0;32m    218\u001b[0m             \u001b[0mquery\u001b[0m\u001b[1;33m[\u001b[0m\u001b[1;34m'session'\u001b[0m\u001b[1;33m]\u001b[0m \u001b[1;33m=\u001b[0m \u001b[0mexperiment\u001b[0m\u001b[1;33m\u001b[0m\u001b[1;33m\u001b[0m\u001b[0m\n\u001b[0;32m    219\u001b[0m \u001b[1;33m\u001b[0m\u001b[0m\n\u001b[1;32m--> 220\u001b[1;33m         \u001b[0mresponse\u001b[0m \u001b[1;33m=\u001b[0m \u001b[0mself\u001b[0m\u001b[1;33m.\u001b[0m\u001b[0mxnat_session\u001b[0m\u001b[1;33m.\u001b[0m\u001b[0mpost\u001b[0m\u001b[1;33m(\u001b[0m\u001b[1;34m'/data/services/archive'\u001b[0m\u001b[1;33m,\u001b[0m \u001b[0mquery\u001b[0m\u001b[1;33m=\u001b[0m\u001b[0mquery\u001b[0m\u001b[1;33m)\u001b[0m\u001b[1;33m\u001b[0m\u001b[1;33m\u001b[0m\u001b[0m\n\u001b[0m\u001b[0;32m    221\u001b[0m         \u001b[0mobject_uri\u001b[0m \u001b[1;33m=\u001b[0m \u001b[0mresponse\u001b[0m\u001b[1;33m.\u001b[0m\u001b[0mtext\u001b[0m\u001b[1;33m.\u001b[0m\u001b[0mstrip\u001b[0m\u001b[1;33m(\u001b[0m\u001b[1;33m)\u001b[0m\u001b[1;33m\u001b[0m\u001b[1;33m\u001b[0m\u001b[0m\n\u001b[0;32m    222\u001b[0m \u001b[1;33m\u001b[0m\u001b[0m\n",
      "\u001b[1;32m~\\Anaconda37\\lib\\site-packages\\xnat\\session.py\u001b[0m in \u001b[0;36mpost\u001b[1;34m(self, path, data, json, format, query, accepted_status, timeout, headers)\u001b[0m\n\u001b[0;32m    397\u001b[0m         \u001b[1;32mexcept\u001b[0m \u001b[0mrequests\u001b[0m\u001b[1;33m.\u001b[0m\u001b[0mexceptions\u001b[0m\u001b[1;33m.\u001b[0m\u001b[0mSSLError\u001b[0m\u001b[1;33m:\u001b[0m\u001b[1;33m\u001b[0m\u001b[1;33m\u001b[0m\u001b[0m\n\u001b[0;32m    398\u001b[0m             \u001b[1;32mraise\u001b[0m \u001b[0mexceptions\u001b[0m\u001b[1;33m.\u001b[0m\u001b[0mXNATSSLError\u001b[0m\u001b[1;33m(\u001b[0m\u001b[1;34m'Encountered a problem with the SSL connection, are you sure the server is offering https?'\u001b[0m\u001b[1;33m)\u001b[0m\u001b[1;33m\u001b[0m\u001b[1;33m\u001b[0m\u001b[0m\n\u001b[1;32m--> 399\u001b[1;33m         \u001b[0mself\u001b[0m\u001b[1;33m.\u001b[0m\u001b[0m_check_response\u001b[0m\u001b[1;33m(\u001b[0m\u001b[0mresponse\u001b[0m\u001b[1;33m,\u001b[0m \u001b[0maccepted_status\u001b[0m\u001b[1;33m=\u001b[0m\u001b[0maccepted_status\u001b[0m\u001b[1;33m,\u001b[0m \u001b[0muri\u001b[0m\u001b[1;33m=\u001b[0m\u001b[0muri\u001b[0m\u001b[1;33m)\u001b[0m\u001b[1;33m\u001b[0m\u001b[1;33m\u001b[0m\u001b[0m\n\u001b[0m\u001b[0;32m    400\u001b[0m         \u001b[1;32mreturn\u001b[0m \u001b[0mresponse\u001b[0m\u001b[1;33m\u001b[0m\u001b[1;33m\u001b[0m\u001b[0m\n\u001b[0;32m    401\u001b[0m \u001b[1;33m\u001b[0m\u001b[0m\n",
      "\u001b[1;32m~\\Anaconda37\\lib\\site-packages\\xnat\\session.py\u001b[0m in \u001b[0;36m_check_response\u001b[1;34m(self, response, accepted_status, uri)\u001b[0m\n\u001b[0;32m    311\u001b[0m                 \u001b[0maccepted_status\u001b[0m \u001b[1;33m=\u001b[0m \u001b[1;33m[\u001b[0m\u001b[1;36m200\u001b[0m\u001b[1;33m,\u001b[0m \u001b[1;36m201\u001b[0m\u001b[1;33m,\u001b[0m \u001b[1;36m202\u001b[0m\u001b[1;33m,\u001b[0m \u001b[1;36m203\u001b[0m\u001b[1;33m,\u001b[0m \u001b[1;36m204\u001b[0m\u001b[1;33m,\u001b[0m \u001b[1;36m205\u001b[0m\u001b[1;33m,\u001b[0m \u001b[1;36m206\u001b[0m\u001b[1;33m]\u001b[0m  \u001b[1;31m# All successful responses of HTML\u001b[0m\u001b[1;33m\u001b[0m\u001b[1;33m\u001b[0m\u001b[0m\n\u001b[0;32m    312\u001b[0m             \u001b[1;32mif\u001b[0m \u001b[0mresponse\u001b[0m\u001b[1;33m.\u001b[0m\u001b[0mstatus_code\u001b[0m \u001b[1;32mnot\u001b[0m \u001b[1;32min\u001b[0m \u001b[0maccepted_status\u001b[0m \u001b[1;32mor\u001b[0m \u001b[1;33m(\u001b[0m\u001b[1;32mnot\u001b[0m \u001b[0mself\u001b[0m\u001b[1;33m.\u001b[0m\u001b[0mskip_response_content_check\u001b[0m \u001b[1;32mand\u001b[0m \u001b[0mresponse\u001b[0m\u001b[1;33m.\u001b[0m\u001b[0mtext\u001b[0m\u001b[1;33m.\u001b[0m\u001b[0mstartswith\u001b[0m\u001b[1;33m(\u001b[0m\u001b[1;33m(\u001b[0m\u001b[1;34m'<!DOCTYPE'\u001b[0m\u001b[1;33m,\u001b[0m \u001b[1;34m'<html>'\u001b[0m\u001b[1;33m)\u001b[0m\u001b[1;33m)\u001b[0m\u001b[1;33m)\u001b[0m\u001b[1;33m:\u001b[0m\u001b[1;33m\u001b[0m\u001b[1;33m\u001b[0m\u001b[0m\n\u001b[1;32m--> 313\u001b[1;33m                 \u001b[1;32mraise\u001b[0m \u001b[0mexceptions\u001b[0m\u001b[1;33m.\u001b[0m\u001b[0mXNATResponseError\u001b[0m\u001b[1;33m(\u001b[0m\u001b[1;34m'Invalid response from XNATSession for url {} (status {}):\\n{}'\u001b[0m\u001b[1;33m.\u001b[0m\u001b[0mformat\u001b[0m\u001b[1;33m(\u001b[0m\u001b[0muri\u001b[0m\u001b[1;33m,\u001b[0m \u001b[0mresponse\u001b[0m\u001b[1;33m.\u001b[0m\u001b[0mstatus_code\u001b[0m\u001b[1;33m,\u001b[0m \u001b[0mresponse\u001b[0m\u001b[1;33m.\u001b[0m\u001b[0mtext\u001b[0m\u001b[1;33m)\u001b[0m\u001b[1;33m)\u001b[0m\u001b[1;33m\u001b[0m\u001b[1;33m\u001b[0m\u001b[0m\n\u001b[0m\u001b[0;32m    314\u001b[0m \u001b[1;33m\u001b[0m\u001b[0m\n\u001b[0;32m    315\u001b[0m     \u001b[1;32mdef\u001b[0m \u001b[0mget\u001b[0m\u001b[1;33m(\u001b[0m\u001b[0mself\u001b[0m\u001b[1;33m,\u001b[0m \u001b[0mpath\u001b[0m\u001b[1;33m,\u001b[0m \u001b[0mformat\u001b[0m\u001b[1;33m=\u001b[0m\u001b[1;32mNone\u001b[0m\u001b[1;33m,\u001b[0m \u001b[0mquery\u001b[0m\u001b[1;33m=\u001b[0m\u001b[1;32mNone\u001b[0m\u001b[1;33m,\u001b[0m \u001b[0maccepted_status\u001b[0m\u001b[1;33m=\u001b[0m\u001b[1;32mNone\u001b[0m\u001b[1;33m,\u001b[0m \u001b[0mtimeout\u001b[0m\u001b[1;33m=\u001b[0m\u001b[1;32mNone\u001b[0m\u001b[1;33m,\u001b[0m \u001b[0mheaders\u001b[0m\u001b[1;33m=\u001b[0m\u001b[1;32mNone\u001b[0m\u001b[1;33m)\u001b[0m\u001b[1;33m:\u001b[0m\u001b[1;33m\u001b[0m\u001b[1;33m\u001b[0m\u001b[0m\n",
      "\u001b[1;31mXNATResponseError\u001b[0m: Invalid response from XNATSession for url http://10.1.1.17/data/services/archive?src=%2Fdata%2Fprearchive%2Fprojects%2FBrainTumorProg_copy%2F20200217_112831518%2FPGM_002_MR_1&overwrite=append (status 409):\n<html>\n<head>\n   <title>Status page</title>\n</head>\n<body>\n<h3>Session already exists with matching files.</h3><p>You can get technical details <a href=\"http://www.w3.org/Protocols/rfc2616/rfc2616-sec10.html#sec10.4.10\">here</a>.<br>\nPlease continue your visit at our <a href=\"/\">home page</a>.\n</p>\n</body>\n</html>\n"
     ]
    }
   ],
   "source": [
    "# Remove the \"archive_session\" variable - maybe that's the source of the issue:\n",
    "\n",
    "for f in range(len(prearchive_session_to_archive)):\n",
    "    print(f'Moving file {f+1} of {len(prearchive_session_to_archive)} to the archive...')\n",
    "    \n",
    "    #prearchive_session_to_archive[f].archive()\n",
    "    prearchive_session_to_archive[f].archive(overwrite='append')"
   ]
  },
  {
   "cell_type": "markdown",
   "metadata": {},
   "source": [
    "No change."
   ]
  },
  {
   "cell_type": "code",
   "execution_count": 90,
   "metadata": {},
   "outputs": [
    {
     "data": {
      "text/plain": [
       "[<PrearchiveSession BrainTumorProg_copy/20200217_112831518/PGM-002_Feb17_MR_1>,\n",
       " <PrearchiveSession BrainTumorProg_copy/20200217_112833178/PGM-002_Feb17_MR_1>,\n",
       " <PrearchiveSession BrainTumorProg_copy/20200217_112829964/PGM-002_Feb17_MR_1>,\n",
       " <PrearchiveSession BrainTumorProg_copy/20200217_112832580/PGM-002_Feb17_MR_1>,\n",
       " <PrearchiveSession BrainTumorProg_copy/20200217_112831005/PGM-002_Feb17_MR_1>,\n",
       " <PrearchiveSession BrainTumorProg_copy/20200217_112832043/PGM-002_Feb17_MR_1>,\n",
       " <PrearchiveSession BrainTumorProg_copy/20200217_112834623/PGM-002_Feb17_MR_1>,\n",
       " <PrearchiveSession BrainTumorProg_copy/20200217_112833943/PGM-002_Feb17_MR_1>]"
      ]
     },
     "execution_count": 90,
     "metadata": {},
     "output_type": "execute_result"
    }
   ],
   "source": [
    "prearchive_session_to_archive"
   ]
  },
  {
   "cell_type": "markdown",
   "metadata": {},
   "source": [
    "### I got an error when I ran the command above because one of the prearchived files was moved to the archive the first entry no longer existed. So prearchive_session_to_archive had to be redefined:"
   ]
  },
  {
   "cell_type": "code",
   "execution_count": 84,
   "metadata": {},
   "outputs": [
    {
     "name": "stderr",
     "output_type": "stream",
     "text": [
      "[2020-02-17 11:51:01,142] DEBUG: session:334 >> GET URI http://10.1.1.17/data/prearchive/projects/BrainTumorProg_copy?format=json\n",
      "[2020-02-17 11:51:01,156] DEBUG: session:307 >> Received response with status code: 200\n"
     ]
    }
   ],
   "source": [
    "prearchive_session_to_archive = session.prearchive.find(project=projectLabel, \\\n",
    "                                                        subject=subjectLabel, \\\n",
    "                                                        session=experimentLabel, \\\n",
    "                                                        status='READY')"
   ]
  },
  {
   "cell_type": "code",
   "execution_count": 85,
   "metadata": {},
   "outputs": [
    {
     "data": {
      "text/plain": [
       "8"
      ]
     },
     "execution_count": 85,
     "metadata": {},
     "output_type": "execute_result"
    }
   ],
   "source": [
    "len(prearchive_session_to_archive)"
   ]
  },
  {
   "cell_type": "markdown",
   "metadata": {},
   "source": [
    "### Need to avoid trying to archive items that have already been archived:"
   ]
  },
  {
   "cell_type": "code",
   "execution_count": 91,
   "metadata": {},
   "outputs": [
    {
     "name": "stderr",
     "output_type": "stream",
     "text": [
      "[2020-02-17 12:54:45,128] DEBUG: session:334 >> GET URI http://10.1.1.17/data/prearchive/projects/BrainTumorProg_copy?format=json\n",
      "[2020-02-17 12:54:45,138] DEBUG: session:307 >> Received response with status code: 200\n",
      "[2020-02-17 12:54:45,141] DEBUG: session:391 >> POST URI http://10.1.1.17/data/services/archive?src=%2Fdata%2Fprearchive%2Fprojects%2FBrainTumorProg_copy%2F20200217_112831518%2FPGM_002_MR_1&overwrite=append&project=BrainTumorProg_copy&subject=PGM-002_Feb17&session=PGM-002_Feb17_MR_1\n",
      "[2020-02-17 12:54:45,142] DEBUG: session:393 >> POST DATA None\n",
      "[2020-02-17 12:54:45,231] DEBUG: session:307 >> Received response with status code: 409\n"
     ]
    },
    {
     "name": "stdout",
     "output_type": "stream",
     "text": [
      "Number of files in prearchive_session_to_archive = 8\n",
      "Moving file 1 of 8 to the archive...\n"
     ]
    },
    {
     "ename": "XNATResponseError",
     "evalue": "Invalid response from XNATSession for url http://10.1.1.17/data/services/archive?src=%2Fdata%2Fprearchive%2Fprojects%2FBrainTumorProg_copy%2F20200217_112831518%2FPGM_002_MR_1&overwrite=append&project=BrainTumorProg_copy&subject=PGM-002_Feb17&session=PGM-002_Feb17_MR_1 (status 409):\n<html>\n<head>\n   <title>Status page</title>\n</head>\n<body>\n<h3>Session already exists with matching files.</h3><p>You can get technical details <a href=\"http://www.w3.org/Protocols/rfc2616/rfc2616-sec10.html#sec10.4.10\">here</a>.<br>\nPlease continue your visit at our <a href=\"/\">home page</a>.\n</p>\n</body>\n</html>\n",
     "output_type": "error",
     "traceback": [
      "\u001b[1;31m---------------------------------------------------------------------------\u001b[0m",
      "\u001b[1;31mXNATResponseError\u001b[0m                         Traceback (most recent call last)",
      "\u001b[1;32m<ipython-input-91-fbcd7bf25949>\u001b[0m in \u001b[0;36m<module>\u001b[1;34m\u001b[0m\n\u001b[0;32m     23\u001b[0m                                                  \u001b[0msubject\u001b[0m\u001b[1;33m=\u001b[0m\u001b[0msubjectLabel\u001b[0m\u001b[1;33m,\u001b[0m\u001b[0;31m \u001b[0m\u001b[0;31m\\\u001b[0m\u001b[1;33m\u001b[0m\u001b[1;33m\u001b[0m\u001b[0m\n\u001b[0;32m     24\u001b[0m                                                  \u001b[0mexperiment\u001b[0m\u001b[1;33m=\u001b[0m\u001b[0mexperimentLabel\u001b[0m\u001b[1;33m,\u001b[0m\u001b[0;31m \u001b[0m\u001b[0;31m\\\u001b[0m\u001b[1;33m\u001b[0m\u001b[1;33m\u001b[0m\u001b[0m\n\u001b[1;32m---> 25\u001b[1;33m                                                  overwrite='append')\n\u001b[0m\u001b[0;32m     26\u001b[0m \u001b[1;33m\u001b[0m\u001b[0m\n",
      "\u001b[1;32m~\\Anaconda37\\lib\\site-packages\\xnat\\prearchive.py\u001b[0m in \u001b[0;36marchive\u001b[1;34m(self, overwrite, quarantine, trigger_pipelines, project, subject, experiment)\u001b[0m\n\u001b[0;32m    218\u001b[0m             \u001b[0mquery\u001b[0m\u001b[1;33m[\u001b[0m\u001b[1;34m'session'\u001b[0m\u001b[1;33m]\u001b[0m \u001b[1;33m=\u001b[0m \u001b[0mexperiment\u001b[0m\u001b[1;33m\u001b[0m\u001b[1;33m\u001b[0m\u001b[0m\n\u001b[0;32m    219\u001b[0m \u001b[1;33m\u001b[0m\u001b[0m\n\u001b[1;32m--> 220\u001b[1;33m         \u001b[0mresponse\u001b[0m \u001b[1;33m=\u001b[0m \u001b[0mself\u001b[0m\u001b[1;33m.\u001b[0m\u001b[0mxnat_session\u001b[0m\u001b[1;33m.\u001b[0m\u001b[0mpost\u001b[0m\u001b[1;33m(\u001b[0m\u001b[1;34m'/data/services/archive'\u001b[0m\u001b[1;33m,\u001b[0m \u001b[0mquery\u001b[0m\u001b[1;33m=\u001b[0m\u001b[0mquery\u001b[0m\u001b[1;33m)\u001b[0m\u001b[1;33m\u001b[0m\u001b[1;33m\u001b[0m\u001b[0m\n\u001b[0m\u001b[0;32m    221\u001b[0m         \u001b[0mobject_uri\u001b[0m \u001b[1;33m=\u001b[0m \u001b[0mresponse\u001b[0m\u001b[1;33m.\u001b[0m\u001b[0mtext\u001b[0m\u001b[1;33m.\u001b[0m\u001b[0mstrip\u001b[0m\u001b[1;33m(\u001b[0m\u001b[1;33m)\u001b[0m\u001b[1;33m\u001b[0m\u001b[1;33m\u001b[0m\u001b[0m\n\u001b[0;32m    222\u001b[0m \u001b[1;33m\u001b[0m\u001b[0m\n",
      "\u001b[1;32m~\\Anaconda37\\lib\\site-packages\\xnat\\session.py\u001b[0m in \u001b[0;36mpost\u001b[1;34m(self, path, data, json, format, query, accepted_status, timeout, headers)\u001b[0m\n\u001b[0;32m    397\u001b[0m         \u001b[1;32mexcept\u001b[0m \u001b[0mrequests\u001b[0m\u001b[1;33m.\u001b[0m\u001b[0mexceptions\u001b[0m\u001b[1;33m.\u001b[0m\u001b[0mSSLError\u001b[0m\u001b[1;33m:\u001b[0m\u001b[1;33m\u001b[0m\u001b[1;33m\u001b[0m\u001b[0m\n\u001b[0;32m    398\u001b[0m             \u001b[1;32mraise\u001b[0m \u001b[0mexceptions\u001b[0m\u001b[1;33m.\u001b[0m\u001b[0mXNATSSLError\u001b[0m\u001b[1;33m(\u001b[0m\u001b[1;34m'Encountered a problem with the SSL connection, are you sure the server is offering https?'\u001b[0m\u001b[1;33m)\u001b[0m\u001b[1;33m\u001b[0m\u001b[1;33m\u001b[0m\u001b[0m\n\u001b[1;32m--> 399\u001b[1;33m         \u001b[0mself\u001b[0m\u001b[1;33m.\u001b[0m\u001b[0m_check_response\u001b[0m\u001b[1;33m(\u001b[0m\u001b[0mresponse\u001b[0m\u001b[1;33m,\u001b[0m \u001b[0maccepted_status\u001b[0m\u001b[1;33m=\u001b[0m\u001b[0maccepted_status\u001b[0m\u001b[1;33m,\u001b[0m \u001b[0muri\u001b[0m\u001b[1;33m=\u001b[0m\u001b[0muri\u001b[0m\u001b[1;33m)\u001b[0m\u001b[1;33m\u001b[0m\u001b[1;33m\u001b[0m\u001b[0m\n\u001b[0m\u001b[0;32m    400\u001b[0m         \u001b[1;32mreturn\u001b[0m \u001b[0mresponse\u001b[0m\u001b[1;33m\u001b[0m\u001b[1;33m\u001b[0m\u001b[0m\n\u001b[0;32m    401\u001b[0m \u001b[1;33m\u001b[0m\u001b[0m\n",
      "\u001b[1;32m~\\Anaconda37\\lib\\site-packages\\xnat\\session.py\u001b[0m in \u001b[0;36m_check_response\u001b[1;34m(self, response, accepted_status, uri)\u001b[0m\n\u001b[0;32m    311\u001b[0m                 \u001b[0maccepted_status\u001b[0m \u001b[1;33m=\u001b[0m \u001b[1;33m[\u001b[0m\u001b[1;36m200\u001b[0m\u001b[1;33m,\u001b[0m \u001b[1;36m201\u001b[0m\u001b[1;33m,\u001b[0m \u001b[1;36m202\u001b[0m\u001b[1;33m,\u001b[0m \u001b[1;36m203\u001b[0m\u001b[1;33m,\u001b[0m \u001b[1;36m204\u001b[0m\u001b[1;33m,\u001b[0m \u001b[1;36m205\u001b[0m\u001b[1;33m,\u001b[0m \u001b[1;36m206\u001b[0m\u001b[1;33m]\u001b[0m  \u001b[1;31m# All successful responses of HTML\u001b[0m\u001b[1;33m\u001b[0m\u001b[1;33m\u001b[0m\u001b[0m\n\u001b[0;32m    312\u001b[0m             \u001b[1;32mif\u001b[0m \u001b[0mresponse\u001b[0m\u001b[1;33m.\u001b[0m\u001b[0mstatus_code\u001b[0m \u001b[1;32mnot\u001b[0m \u001b[1;32min\u001b[0m \u001b[0maccepted_status\u001b[0m \u001b[1;32mor\u001b[0m \u001b[1;33m(\u001b[0m\u001b[1;32mnot\u001b[0m \u001b[0mself\u001b[0m\u001b[1;33m.\u001b[0m\u001b[0mskip_response_content_check\u001b[0m \u001b[1;32mand\u001b[0m \u001b[0mresponse\u001b[0m\u001b[1;33m.\u001b[0m\u001b[0mtext\u001b[0m\u001b[1;33m.\u001b[0m\u001b[0mstartswith\u001b[0m\u001b[1;33m(\u001b[0m\u001b[1;33m(\u001b[0m\u001b[1;34m'<!DOCTYPE'\u001b[0m\u001b[1;33m,\u001b[0m \u001b[1;34m'<html>'\u001b[0m\u001b[1;33m)\u001b[0m\u001b[1;33m)\u001b[0m\u001b[1;33m)\u001b[0m\u001b[1;33m:\u001b[0m\u001b[1;33m\u001b[0m\u001b[1;33m\u001b[0m\u001b[0m\n\u001b[1;32m--> 313\u001b[1;33m                 \u001b[1;32mraise\u001b[0m \u001b[0mexceptions\u001b[0m\u001b[1;33m.\u001b[0m\u001b[0mXNATResponseError\u001b[0m\u001b[1;33m(\u001b[0m\u001b[1;34m'Invalid response from XNATSession for url {} (status {}):\\n{}'\u001b[0m\u001b[1;33m.\u001b[0m\u001b[0mformat\u001b[0m\u001b[1;33m(\u001b[0m\u001b[0muri\u001b[0m\u001b[1;33m,\u001b[0m \u001b[0mresponse\u001b[0m\u001b[1;33m.\u001b[0m\u001b[0mstatus_code\u001b[0m\u001b[1;33m,\u001b[0m \u001b[0mresponse\u001b[0m\u001b[1;33m.\u001b[0m\u001b[0mtext\u001b[0m\u001b[1;33m)\u001b[0m\u001b[1;33m)\u001b[0m\u001b[1;33m\u001b[0m\u001b[1;33m\u001b[0m\u001b[0m\n\u001b[0m\u001b[0;32m    314\u001b[0m \u001b[1;33m\u001b[0m\u001b[0m\n\u001b[0;32m    315\u001b[0m     \u001b[1;32mdef\u001b[0m \u001b[0mget\u001b[0m\u001b[1;33m(\u001b[0m\u001b[0mself\u001b[0m\u001b[1;33m,\u001b[0m \u001b[0mpath\u001b[0m\u001b[1;33m,\u001b[0m \u001b[0mformat\u001b[0m\u001b[1;33m=\u001b[0m\u001b[1;32mNone\u001b[0m\u001b[1;33m,\u001b[0m \u001b[0mquery\u001b[0m\u001b[1;33m=\u001b[0m\u001b[1;32mNone\u001b[0m\u001b[1;33m,\u001b[0m \u001b[0maccepted_status\u001b[0m\u001b[1;33m=\u001b[0m\u001b[1;32mNone\u001b[0m\u001b[1;33m,\u001b[0m \u001b[0mtimeout\u001b[0m\u001b[1;33m=\u001b[0m\u001b[1;32mNone\u001b[0m\u001b[1;33m,\u001b[0m \u001b[0mheaders\u001b[0m\u001b[1;33m=\u001b[0m\u001b[1;32mNone\u001b[0m\u001b[1;33m)\u001b[0m\u001b[1;33m:\u001b[0m\u001b[1;33m\u001b[0m\u001b[1;33m\u001b[0m\u001b[0m\n",
      "\u001b[1;31mXNATResponseError\u001b[0m: Invalid response from XNATSession for url http://10.1.1.17/data/services/archive?src=%2Fdata%2Fprearchive%2Fprojects%2FBrainTumorProg_copy%2F20200217_112831518%2FPGM_002_MR_1&overwrite=append&project=BrainTumorProg_copy&subject=PGM-002_Feb17&session=PGM-002_Feb17_MR_1 (status 409):\n<html>\n<head>\n   <title>Status page</title>\n</head>\n<body>\n<h3>Session already exists with matching files.</h3><p>You can get technical details <a href=\"http://www.w3.org/Protocols/rfc2616/rfc2616-sec10.html#sec10.4.10\">here</a>.<br>\nPlease continue your visit at our <a href=\"/\">home page</a>.\n</p>\n</body>\n</html>\n"
     ]
    }
   ],
   "source": [
    "\n",
    "\n",
    "status = 'True' # initial value\n",
    "\n",
    "while status:\n",
    "    # Update prearchive_session_to_archive:\n",
    "    prearchive_session_to_archive = session.prearchive.find(project=projectLabel, \\\n",
    "                                                            subject=subjectLabel, \\\n",
    "                                                            session=experimentLabel, \\\n",
    "                                                            status='READY')\n",
    "    \n",
    "    #print('prearchive_session_to_archive = ', prearchive_session_to_archive)\n",
    "    \n",
    "    print('Number of files in prearchive_session_to_archive =', len(prearchive_session_to_archive), '\\n')\n",
    "    \n",
    "    if len(prearchive_session_to_archive) == 0:\n",
    "        status = 'False'\n",
    "        break\n",
    "        \n",
    "    # Move each file in prearchive_session_to_archive to the archive:    \n",
    "    for f in range(len(prearchive_session_to_archive)):\n",
    "        print(f'Moving file {f+1} of {len(prearchive_session_to_archive)} to the archive...')\n",
    "        \n",
    "        prearchive_session_to_archive[f].archive(project=projectLabel, \\\n",
    "                                                 subject=subjectLabel, \\\n",
    "                                                 experiment=experimentLabel, \\\n",
    "                                                 overwrite='append')\n",
    "\n"
   ]
  },
  {
   "cell_type": "markdown",
   "metadata": {},
   "source": [
    "### That didn't help.  \n",
    "\n",
    "### I found this thread:\n",
    "\n",
    "#### https://groups.google.com/forum/#!topic/xnat_discussion/XG15WLydPkU\n",
    "\n",
    "### so will look at Study Instance UIDs:"
   ]
  },
  {
   "cell_type": "code",
   "execution_count": 88,
   "metadata": {},
   "outputs": [
    {
     "name": "stdout",
     "output_type": "stream",
     "text": [
      "Study Instance UID =  1.3.6.1.4.1.14519.5.2.1.4429.7055.331058148523327901159449546313\n",
      "Study Instance UID =  1.3.6.1.4.1.14519.5.2.1.4429.7055.331058148523327901159449546313\n",
      "Study Instance UID =  1.3.6.1.4.1.14519.5.2.1.4429.7055.331058148523327901159449546313\n",
      "Study Instance UID =  1.3.6.1.4.1.14519.5.2.1.4429.7055.331058148523327901159449546313\n",
      "Study Instance UID =  1.3.6.1.4.1.14519.5.2.1.4429.7055.331058148523327901159449546313\n",
      "Study Instance UID =  1.3.6.1.4.1.14519.5.2.1.4429.7055.331058148523327901159449546313\n",
      "Study Instance UID =  1.3.6.1.4.1.14519.5.2.1.4429.7055.331058148523327901159449546313\n",
      "Study Instance UID =  1.3.6.1.4.1.14519.5.2.1.4429.7055.331058148523327901159449546313\n",
      "Study Instance UID =  1.3.6.1.4.1.14519.5.2.1.4429.7055.331058148523327901159449546313\n",
      "Study Instance UID =  1.3.6.1.4.1.14519.5.2.1.4429.7055.331058148523327901159449546313\n",
      "Study Instance UID =  1.3.6.1.4.1.14519.5.2.1.4429.7055.331058148523327901159449546313\n",
      "Study Instance UID =  1.3.6.1.4.1.14519.5.2.1.4429.7055.331058148523327901159449546313\n",
      "Study Instance UID =  1.3.6.1.4.1.14519.5.2.1.4429.7055.331058148523327901159449546313\n",
      "Study Instance UID =  1.3.6.1.4.1.14519.5.2.1.4429.7055.331058148523327901159449546313\n",
      "Study Instance UID =  1.3.6.1.4.1.14519.5.2.1.4429.7055.331058148523327901159449546313\n",
      "Study Instance UID =  1.3.6.1.4.1.14519.5.2.1.4429.7055.331058148523327901159449546313\n",
      "Study Instance UID =  1.3.6.1.4.1.14519.5.2.1.4429.7055.331058148523327901159449546313\n",
      "Study Instance UID =  1.3.6.1.4.1.14519.5.2.1.4429.7055.331058148523327901159449546313\n",
      "Study Instance UID =  1.3.6.1.4.1.14519.5.2.1.4429.7055.331058148523327901159449546313\n",
      "Study Instance UID =  1.3.6.1.4.1.14519.5.2.1.4429.7055.331058148523327901159449546313\n",
      "Study Instance UID =  1.3.6.1.4.1.14519.5.2.1.4429.7055.331058148523327901159449546313\n",
      "Study Instance UID =  1.3.6.1.4.1.14519.5.2.1.4429.7055.331058148523327901159449546313\n"
     ]
    }
   ],
   "source": [
    "# Loop for each file name in dicomFnames:\n",
    "for f in range(len(dicomFnames)):   \n",
    "    # Read in the dicom file:\n",
    "    dicom = pydicom.dcmread(dicomFpaths[f])\n",
    "    \n",
    "    print('Study Instance UID = ', dicom.StudyInstanceUID)\n",
    "    "
   ]
  },
  {
   "cell_type": "markdown",
   "metadata": {},
   "source": [
    "### As with Ray's comments, my Study Instance UIDs are all the same.  I posted another question to this 2018 post:\n",
    "\n",
    "#### https://groups.google.com/forum/#!topic/xnat_discussion/JfR_CYasSrM"
   ]
  },
  {
   "cell_type": "markdown",
   "metadata": {},
   "source": [
    "### I selected the two files that had conflicts and rebuilt them.  See if that makes any difference:"
   ]
  },
  {
   "cell_type": "code",
   "execution_count": 92,
   "metadata": {},
   "outputs": [
    {
     "name": "stderr",
     "output_type": "stream",
     "text": [
      "[2020-02-17 13:11:24,225] DEBUG: session:391 >> POST URI http://10.1.1.17/data/services/archive?src=%2Fdata%2Fprearchive%2Fprojects%2FBrainTumorProg_copy%2F20200217_112831518%2FPGM_002_MR_1&overwrite=append\n",
      "[2020-02-17 13:11:24,225] DEBUG: session:393 >> POST DATA None\n"
     ]
    },
    {
     "name": "stdout",
     "output_type": "stream",
     "text": [
      "Moving file 1 of 8 to the archive...\n"
     ]
    },
    {
     "name": "stderr",
     "output_type": "stream",
     "text": [
      "[2020-02-17 13:11:24,491] DEBUG: session:307 >> Received response with status code: 200\n",
      "[2020-02-17 13:11:24,491] DEBUG: session:738 >> Type unknown, fetching data to get type\n",
      "[2020-02-17 13:11:24,493] DEBUG: session:334 >> GET URI http://10.1.1.17/data/archive/projects/BrainTumorProg_copy/subjects/PGM-002_Feb17/experiments/PGM_002_MR_1?format=json\n",
      "[2020-02-17 13:11:24,571] DEBUG: session:307 >> Received response with status code: 200\n",
      "[2020-02-17 13:11:24,572] DEBUG: session:746 >> Looking up type xnat:mrSessionData [str]\n",
      "[2020-02-17 13:11:24,572] DEBUG: session:753 >> Creating object of type <class 'xnat_gen_4315f9d139004d953d804b4ecc4dd62a.MrSessionData'>\n",
      "[2020-02-17 13:11:24,573] DEBUG: session:391 >> POST URI http://10.1.1.17/data/services/archive?src=%2Fdata%2Fprearchive%2Fprojects%2FBrainTumorProg_copy%2F20200217_112833178%2FPGM_002_MR_1&overwrite=append\n",
      "[2020-02-17 13:11:24,574] DEBUG: session:393 >> POST DATA None\n",
      "[2020-02-17 13:11:24,656] DEBUG: session:307 >> Received response with status code: 409\n"
     ]
    },
    {
     "name": "stdout",
     "output_type": "stream",
     "text": [
      "Moving file 2 of 8 to the archive...\n"
     ]
    },
    {
     "ename": "XNATResponseError",
     "evalue": "Invalid response from XNATSession for url http://10.1.1.17/data/services/archive?src=%2Fdata%2Fprearchive%2Fprojects%2FBrainTumorProg_copy%2F20200217_112833178%2FPGM_002_MR_1&overwrite=append (status 409):\n<html>\n<head>\n   <title>Status page</title>\n</head>\n<body>\n<h3>Session processing may already be in progress: AutoRun.  Concurrent modification is discouraged.</h3><p>You can get technical details <a href=\"http://www.w3.org/Protocols/rfc2616/rfc2616-sec10.html#sec10.4.10\">here</a>.<br>\nPlease continue your visit at our <a href=\"/\">home page</a>.\n</p>\n</body>\n</html>\n",
     "output_type": "error",
     "traceback": [
      "\u001b[1;31m---------------------------------------------------------------------------\u001b[0m",
      "\u001b[1;31mXNATResponseError\u001b[0m                         Traceback (most recent call last)",
      "\u001b[1;32m<ipython-input-92-8864544e6f3e>\u001b[0m in \u001b[0;36m<module>\u001b[1;34m\u001b[0m\n\u001b[0;32m      3\u001b[0m \u001b[1;33m\u001b[0m\u001b[0m\n\u001b[0;32m      4\u001b[0m     \u001b[1;31m#prearchive_session_to_archive[f].archive()\u001b[0m\u001b[1;33m\u001b[0m\u001b[1;33m\u001b[0m\u001b[1;33m\u001b[0m\u001b[0m\n\u001b[1;32m----> 5\u001b[1;33m     \u001b[0mprearchive_session_to_archive\u001b[0m\u001b[1;33m[\u001b[0m\u001b[0mf\u001b[0m\u001b[1;33m]\u001b[0m\u001b[1;33m.\u001b[0m\u001b[0marchive\u001b[0m\u001b[1;33m(\u001b[0m\u001b[0moverwrite\u001b[0m\u001b[1;33m=\u001b[0m\u001b[1;34m'append'\u001b[0m\u001b[1;33m)\u001b[0m\u001b[1;33m\u001b[0m\u001b[1;33m\u001b[0m\u001b[0m\n\u001b[0m",
      "\u001b[1;32m~\\Anaconda37\\lib\\site-packages\\xnat\\prearchive.py\u001b[0m in \u001b[0;36marchive\u001b[1;34m(self, overwrite, quarantine, trigger_pipelines, project, subject, experiment)\u001b[0m\n\u001b[0;32m    218\u001b[0m             \u001b[0mquery\u001b[0m\u001b[1;33m[\u001b[0m\u001b[1;34m'session'\u001b[0m\u001b[1;33m]\u001b[0m \u001b[1;33m=\u001b[0m \u001b[0mexperiment\u001b[0m\u001b[1;33m\u001b[0m\u001b[1;33m\u001b[0m\u001b[0m\n\u001b[0;32m    219\u001b[0m \u001b[1;33m\u001b[0m\u001b[0m\n\u001b[1;32m--> 220\u001b[1;33m         \u001b[0mresponse\u001b[0m \u001b[1;33m=\u001b[0m \u001b[0mself\u001b[0m\u001b[1;33m.\u001b[0m\u001b[0mxnat_session\u001b[0m\u001b[1;33m.\u001b[0m\u001b[0mpost\u001b[0m\u001b[1;33m(\u001b[0m\u001b[1;34m'/data/services/archive'\u001b[0m\u001b[1;33m,\u001b[0m \u001b[0mquery\u001b[0m\u001b[1;33m=\u001b[0m\u001b[0mquery\u001b[0m\u001b[1;33m)\u001b[0m\u001b[1;33m\u001b[0m\u001b[1;33m\u001b[0m\u001b[0m\n\u001b[0m\u001b[0;32m    221\u001b[0m         \u001b[0mobject_uri\u001b[0m \u001b[1;33m=\u001b[0m \u001b[0mresponse\u001b[0m\u001b[1;33m.\u001b[0m\u001b[0mtext\u001b[0m\u001b[1;33m.\u001b[0m\u001b[0mstrip\u001b[0m\u001b[1;33m(\u001b[0m\u001b[1;33m)\u001b[0m\u001b[1;33m\u001b[0m\u001b[1;33m\u001b[0m\u001b[0m\n\u001b[0;32m    222\u001b[0m \u001b[1;33m\u001b[0m\u001b[0m\n",
      "\u001b[1;32m~\\Anaconda37\\lib\\site-packages\\xnat\\session.py\u001b[0m in \u001b[0;36mpost\u001b[1;34m(self, path, data, json, format, query, accepted_status, timeout, headers)\u001b[0m\n\u001b[0;32m    397\u001b[0m         \u001b[1;32mexcept\u001b[0m \u001b[0mrequests\u001b[0m\u001b[1;33m.\u001b[0m\u001b[0mexceptions\u001b[0m\u001b[1;33m.\u001b[0m\u001b[0mSSLError\u001b[0m\u001b[1;33m:\u001b[0m\u001b[1;33m\u001b[0m\u001b[1;33m\u001b[0m\u001b[0m\n\u001b[0;32m    398\u001b[0m             \u001b[1;32mraise\u001b[0m \u001b[0mexceptions\u001b[0m\u001b[1;33m.\u001b[0m\u001b[0mXNATSSLError\u001b[0m\u001b[1;33m(\u001b[0m\u001b[1;34m'Encountered a problem with the SSL connection, are you sure the server is offering https?'\u001b[0m\u001b[1;33m)\u001b[0m\u001b[1;33m\u001b[0m\u001b[1;33m\u001b[0m\u001b[0m\n\u001b[1;32m--> 399\u001b[1;33m         \u001b[0mself\u001b[0m\u001b[1;33m.\u001b[0m\u001b[0m_check_response\u001b[0m\u001b[1;33m(\u001b[0m\u001b[0mresponse\u001b[0m\u001b[1;33m,\u001b[0m \u001b[0maccepted_status\u001b[0m\u001b[1;33m=\u001b[0m\u001b[0maccepted_status\u001b[0m\u001b[1;33m,\u001b[0m \u001b[0muri\u001b[0m\u001b[1;33m=\u001b[0m\u001b[0muri\u001b[0m\u001b[1;33m)\u001b[0m\u001b[1;33m\u001b[0m\u001b[1;33m\u001b[0m\u001b[0m\n\u001b[0m\u001b[0;32m    400\u001b[0m         \u001b[1;32mreturn\u001b[0m \u001b[0mresponse\u001b[0m\u001b[1;33m\u001b[0m\u001b[1;33m\u001b[0m\u001b[0m\n\u001b[0;32m    401\u001b[0m \u001b[1;33m\u001b[0m\u001b[0m\n",
      "\u001b[1;32m~\\Anaconda37\\lib\\site-packages\\xnat\\session.py\u001b[0m in \u001b[0;36m_check_response\u001b[1;34m(self, response, accepted_status, uri)\u001b[0m\n\u001b[0;32m    311\u001b[0m                 \u001b[0maccepted_status\u001b[0m \u001b[1;33m=\u001b[0m \u001b[1;33m[\u001b[0m\u001b[1;36m200\u001b[0m\u001b[1;33m,\u001b[0m \u001b[1;36m201\u001b[0m\u001b[1;33m,\u001b[0m \u001b[1;36m202\u001b[0m\u001b[1;33m,\u001b[0m \u001b[1;36m203\u001b[0m\u001b[1;33m,\u001b[0m \u001b[1;36m204\u001b[0m\u001b[1;33m,\u001b[0m \u001b[1;36m205\u001b[0m\u001b[1;33m,\u001b[0m \u001b[1;36m206\u001b[0m\u001b[1;33m]\u001b[0m  \u001b[1;31m# All successful responses of HTML\u001b[0m\u001b[1;33m\u001b[0m\u001b[1;33m\u001b[0m\u001b[0m\n\u001b[0;32m    312\u001b[0m             \u001b[1;32mif\u001b[0m \u001b[0mresponse\u001b[0m\u001b[1;33m.\u001b[0m\u001b[0mstatus_code\u001b[0m \u001b[1;32mnot\u001b[0m \u001b[1;32min\u001b[0m \u001b[0maccepted_status\u001b[0m \u001b[1;32mor\u001b[0m \u001b[1;33m(\u001b[0m\u001b[1;32mnot\u001b[0m \u001b[0mself\u001b[0m\u001b[1;33m.\u001b[0m\u001b[0mskip_response_content_check\u001b[0m \u001b[1;32mand\u001b[0m \u001b[0mresponse\u001b[0m\u001b[1;33m.\u001b[0m\u001b[0mtext\u001b[0m\u001b[1;33m.\u001b[0m\u001b[0mstartswith\u001b[0m\u001b[1;33m(\u001b[0m\u001b[1;33m(\u001b[0m\u001b[1;34m'<!DOCTYPE'\u001b[0m\u001b[1;33m,\u001b[0m \u001b[1;34m'<html>'\u001b[0m\u001b[1;33m)\u001b[0m\u001b[1;33m)\u001b[0m\u001b[1;33m)\u001b[0m\u001b[1;33m:\u001b[0m\u001b[1;33m\u001b[0m\u001b[1;33m\u001b[0m\u001b[0m\n\u001b[1;32m--> 313\u001b[1;33m                 \u001b[1;32mraise\u001b[0m \u001b[0mexceptions\u001b[0m\u001b[1;33m.\u001b[0m\u001b[0mXNATResponseError\u001b[0m\u001b[1;33m(\u001b[0m\u001b[1;34m'Invalid response from XNATSession for url {} (status {}):\\n{}'\u001b[0m\u001b[1;33m.\u001b[0m\u001b[0mformat\u001b[0m\u001b[1;33m(\u001b[0m\u001b[0muri\u001b[0m\u001b[1;33m,\u001b[0m \u001b[0mresponse\u001b[0m\u001b[1;33m.\u001b[0m\u001b[0mstatus_code\u001b[0m\u001b[1;33m,\u001b[0m \u001b[0mresponse\u001b[0m\u001b[1;33m.\u001b[0m\u001b[0mtext\u001b[0m\u001b[1;33m)\u001b[0m\u001b[1;33m)\u001b[0m\u001b[1;33m\u001b[0m\u001b[1;33m\u001b[0m\u001b[0m\n\u001b[0m\u001b[0;32m    314\u001b[0m \u001b[1;33m\u001b[0m\u001b[0m\n\u001b[0;32m    315\u001b[0m     \u001b[1;32mdef\u001b[0m \u001b[0mget\u001b[0m\u001b[1;33m(\u001b[0m\u001b[0mself\u001b[0m\u001b[1;33m,\u001b[0m \u001b[0mpath\u001b[0m\u001b[1;33m,\u001b[0m \u001b[0mformat\u001b[0m\u001b[1;33m=\u001b[0m\u001b[1;32mNone\u001b[0m\u001b[1;33m,\u001b[0m \u001b[0mquery\u001b[0m\u001b[1;33m=\u001b[0m\u001b[1;32mNone\u001b[0m\u001b[1;33m,\u001b[0m \u001b[0maccepted_status\u001b[0m\u001b[1;33m=\u001b[0m\u001b[1;32mNone\u001b[0m\u001b[1;33m,\u001b[0m \u001b[0mtimeout\u001b[0m\u001b[1;33m=\u001b[0m\u001b[1;32mNone\u001b[0m\u001b[1;33m,\u001b[0m \u001b[0mheaders\u001b[0m\u001b[1;33m=\u001b[0m\u001b[1;32mNone\u001b[0m\u001b[1;33m)\u001b[0m\u001b[1;33m:\u001b[0m\u001b[1;33m\u001b[0m\u001b[1;33m\u001b[0m\u001b[0m\n",
      "\u001b[1;31mXNATResponseError\u001b[0m: Invalid response from XNATSession for url http://10.1.1.17/data/services/archive?src=%2Fdata%2Fprearchive%2Fprojects%2FBrainTumorProg_copy%2F20200217_112833178%2FPGM_002_MR_1&overwrite=append (status 409):\n<html>\n<head>\n   <title>Status page</title>\n</head>\n<body>\n<h3>Session processing may already be in progress: AutoRun.  Concurrent modification is discouraged.</h3><p>You can get technical details <a href=\"http://www.w3.org/Protocols/rfc2616/rfc2616-sec10.html#sec10.4.10\">here</a>.<br>\nPlease continue your visit at our <a href=\"/\">home page</a>.\n</p>\n</body>\n</html>\n"
     ]
    }
   ],
   "source": [
    "\n",
    "for f in range(len(prearchive_session_to_archive)):\n",
    "    print(f'Moving file {f+1} of {len(prearchive_session_to_archive)} to the archive...')\n",
    "    \n",
    "    #prearchive_session_to_archive[f].archive()\n",
    "    prearchive_session_to_archive[f].archive(overwrite='append')"
   ]
  },
  {
   "cell_type": "markdown",
   "metadata": {},
   "source": [
    "### It moved the first of 8 but not where I was expecting it.  It moved it to a new MR Session with the label \"PGM_002_MR_1\" instead of \"PGM-002_Feb17_MR_1\".  So maybe I need to assign the REST variables when moving to the archive even though I had done so when prearchiving them...\n",
    "\n",
    "### I've rebuilt the file in conflict, then need to redefine \"prearchive_session_to_archive\":"
   ]
  },
  {
   "cell_type": "code",
   "execution_count": 96,
   "metadata": {},
   "outputs": [
    {
     "name": "stderr",
     "output_type": "stream",
     "text": [
      "[2020-02-17 13:20:37,692] DEBUG: session:334 >> GET URI http://10.1.1.17/data/prearchive/projects/BrainTumorProg_copy?format=json\n",
      "[2020-02-17 13:20:37,701] DEBUG: session:307 >> Received response with status code: 200\n"
     ]
    }
   ],
   "source": [
    "prearchive_session_to_archive = session.prearchive.find(project=projectLabel, \\\n",
    "                                                        subject=subjectLabel, \\\n",
    "                                                        session=experimentLabel, \\\n",
    "                                                        status='READY')"
   ]
  },
  {
   "cell_type": "code",
   "execution_count": 97,
   "metadata": {},
   "outputs": [
    {
     "name": "stderr",
     "output_type": "stream",
     "text": [
      "[2020-02-17 13:20:40,470] DEBUG: session:391 >> POST URI http://10.1.1.17/data/services/archive?src=%2Fdata%2Fprearchive%2Fprojects%2FBrainTumorProg_copy%2F20200217_112833178%2FPGM_002_MR_1&overwrite=append&project=BrainTumorProg_copy&subject=PGM-002_Feb17&session=PGM-002_Feb17_MR_1\n",
      "[2020-02-17 13:20:40,471] DEBUG: session:393 >> POST DATA None\n",
      "[2020-02-17 13:20:40,547] DEBUG: session:307 >> Received response with status code: 409\n"
     ]
    },
    {
     "name": "stdout",
     "output_type": "stream",
     "text": [
      "Moving file 1 of 7 to the archive...\n"
     ]
    },
    {
     "ename": "XNATResponseError",
     "evalue": "Invalid response from XNATSession for url http://10.1.1.17/data/services/archive?src=%2Fdata%2Fprearchive%2Fprojects%2FBrainTumorProg_copy%2F20200217_112833178%2FPGM_002_MR_1&overwrite=append&project=BrainTumorProg_copy&subject=PGM-002_Feb17&session=PGM-002_Feb17_MR_1 (status 409):\n<html>\n<head>\n   <title>Status page</title>\n</head>\n<body>\n<h3>Session already exists with matching files.</h3><p>You can get technical details <a href=\"http://www.w3.org/Protocols/rfc2616/rfc2616-sec10.html#sec10.4.10\">here</a>.<br>\nPlease continue your visit at our <a href=\"/\">home page</a>.\n</p>\n</body>\n</html>\n",
     "output_type": "error",
     "traceback": [
      "\u001b[1;31m---------------------------------------------------------------------------\u001b[0m",
      "\u001b[1;31mXNATResponseError\u001b[0m                         Traceback (most recent call last)",
      "\u001b[1;32m<ipython-input-97-8145f5a33e88>\u001b[0m in \u001b[0;36m<module>\u001b[1;34m\u001b[0m\n\u001b[0;32m      8\u001b[0m                                              \u001b[0msubject\u001b[0m\u001b[1;33m=\u001b[0m\u001b[0msubjectLabel\u001b[0m\u001b[1;33m,\u001b[0m\u001b[0;31m \u001b[0m\u001b[0;31m\\\u001b[0m\u001b[1;33m\u001b[0m\u001b[1;33m\u001b[0m\u001b[0m\n\u001b[0;32m      9\u001b[0m                                              \u001b[0mexperiment\u001b[0m\u001b[1;33m=\u001b[0m\u001b[0mexperimentLabel\u001b[0m\u001b[1;33m,\u001b[0m\u001b[0;31m \u001b[0m\u001b[0;31m\\\u001b[0m\u001b[1;33m\u001b[0m\u001b[1;33m\u001b[0m\u001b[0m\n\u001b[1;32m---> 10\u001b[1;33m                                              overwrite='append')\n\u001b[0m",
      "\u001b[1;32m~\\Anaconda37\\lib\\site-packages\\xnat\\prearchive.py\u001b[0m in \u001b[0;36marchive\u001b[1;34m(self, overwrite, quarantine, trigger_pipelines, project, subject, experiment)\u001b[0m\n\u001b[0;32m    218\u001b[0m             \u001b[0mquery\u001b[0m\u001b[1;33m[\u001b[0m\u001b[1;34m'session'\u001b[0m\u001b[1;33m]\u001b[0m \u001b[1;33m=\u001b[0m \u001b[0mexperiment\u001b[0m\u001b[1;33m\u001b[0m\u001b[1;33m\u001b[0m\u001b[0m\n\u001b[0;32m    219\u001b[0m \u001b[1;33m\u001b[0m\u001b[0m\n\u001b[1;32m--> 220\u001b[1;33m         \u001b[0mresponse\u001b[0m \u001b[1;33m=\u001b[0m \u001b[0mself\u001b[0m\u001b[1;33m.\u001b[0m\u001b[0mxnat_session\u001b[0m\u001b[1;33m.\u001b[0m\u001b[0mpost\u001b[0m\u001b[1;33m(\u001b[0m\u001b[1;34m'/data/services/archive'\u001b[0m\u001b[1;33m,\u001b[0m \u001b[0mquery\u001b[0m\u001b[1;33m=\u001b[0m\u001b[0mquery\u001b[0m\u001b[1;33m)\u001b[0m\u001b[1;33m\u001b[0m\u001b[1;33m\u001b[0m\u001b[0m\n\u001b[0m\u001b[0;32m    221\u001b[0m         \u001b[0mobject_uri\u001b[0m \u001b[1;33m=\u001b[0m \u001b[0mresponse\u001b[0m\u001b[1;33m.\u001b[0m\u001b[0mtext\u001b[0m\u001b[1;33m.\u001b[0m\u001b[0mstrip\u001b[0m\u001b[1;33m(\u001b[0m\u001b[1;33m)\u001b[0m\u001b[1;33m\u001b[0m\u001b[1;33m\u001b[0m\u001b[0m\n\u001b[0;32m    222\u001b[0m \u001b[1;33m\u001b[0m\u001b[0m\n",
      "\u001b[1;32m~\\Anaconda37\\lib\\site-packages\\xnat\\session.py\u001b[0m in \u001b[0;36mpost\u001b[1;34m(self, path, data, json, format, query, accepted_status, timeout, headers)\u001b[0m\n\u001b[0;32m    397\u001b[0m         \u001b[1;32mexcept\u001b[0m \u001b[0mrequests\u001b[0m\u001b[1;33m.\u001b[0m\u001b[0mexceptions\u001b[0m\u001b[1;33m.\u001b[0m\u001b[0mSSLError\u001b[0m\u001b[1;33m:\u001b[0m\u001b[1;33m\u001b[0m\u001b[1;33m\u001b[0m\u001b[0m\n\u001b[0;32m    398\u001b[0m             \u001b[1;32mraise\u001b[0m \u001b[0mexceptions\u001b[0m\u001b[1;33m.\u001b[0m\u001b[0mXNATSSLError\u001b[0m\u001b[1;33m(\u001b[0m\u001b[1;34m'Encountered a problem with the SSL connection, are you sure the server is offering https?'\u001b[0m\u001b[1;33m)\u001b[0m\u001b[1;33m\u001b[0m\u001b[1;33m\u001b[0m\u001b[0m\n\u001b[1;32m--> 399\u001b[1;33m         \u001b[0mself\u001b[0m\u001b[1;33m.\u001b[0m\u001b[0m_check_response\u001b[0m\u001b[1;33m(\u001b[0m\u001b[0mresponse\u001b[0m\u001b[1;33m,\u001b[0m \u001b[0maccepted_status\u001b[0m\u001b[1;33m=\u001b[0m\u001b[0maccepted_status\u001b[0m\u001b[1;33m,\u001b[0m \u001b[0muri\u001b[0m\u001b[1;33m=\u001b[0m\u001b[0muri\u001b[0m\u001b[1;33m)\u001b[0m\u001b[1;33m\u001b[0m\u001b[1;33m\u001b[0m\u001b[0m\n\u001b[0m\u001b[0;32m    400\u001b[0m         \u001b[1;32mreturn\u001b[0m \u001b[0mresponse\u001b[0m\u001b[1;33m\u001b[0m\u001b[1;33m\u001b[0m\u001b[0m\n\u001b[0;32m    401\u001b[0m \u001b[1;33m\u001b[0m\u001b[0m\n",
      "\u001b[1;32m~\\Anaconda37\\lib\\site-packages\\xnat\\session.py\u001b[0m in \u001b[0;36m_check_response\u001b[1;34m(self, response, accepted_status, uri)\u001b[0m\n\u001b[0;32m    311\u001b[0m                 \u001b[0maccepted_status\u001b[0m \u001b[1;33m=\u001b[0m \u001b[1;33m[\u001b[0m\u001b[1;36m200\u001b[0m\u001b[1;33m,\u001b[0m \u001b[1;36m201\u001b[0m\u001b[1;33m,\u001b[0m \u001b[1;36m202\u001b[0m\u001b[1;33m,\u001b[0m \u001b[1;36m203\u001b[0m\u001b[1;33m,\u001b[0m \u001b[1;36m204\u001b[0m\u001b[1;33m,\u001b[0m \u001b[1;36m205\u001b[0m\u001b[1;33m,\u001b[0m \u001b[1;36m206\u001b[0m\u001b[1;33m]\u001b[0m  \u001b[1;31m# All successful responses of HTML\u001b[0m\u001b[1;33m\u001b[0m\u001b[1;33m\u001b[0m\u001b[0m\n\u001b[0;32m    312\u001b[0m             \u001b[1;32mif\u001b[0m \u001b[0mresponse\u001b[0m\u001b[1;33m.\u001b[0m\u001b[0mstatus_code\u001b[0m \u001b[1;32mnot\u001b[0m \u001b[1;32min\u001b[0m \u001b[0maccepted_status\u001b[0m \u001b[1;32mor\u001b[0m \u001b[1;33m(\u001b[0m\u001b[1;32mnot\u001b[0m \u001b[0mself\u001b[0m\u001b[1;33m.\u001b[0m\u001b[0mskip_response_content_check\u001b[0m \u001b[1;32mand\u001b[0m \u001b[0mresponse\u001b[0m\u001b[1;33m.\u001b[0m\u001b[0mtext\u001b[0m\u001b[1;33m.\u001b[0m\u001b[0mstartswith\u001b[0m\u001b[1;33m(\u001b[0m\u001b[1;33m(\u001b[0m\u001b[1;34m'<!DOCTYPE'\u001b[0m\u001b[1;33m,\u001b[0m \u001b[1;34m'<html>'\u001b[0m\u001b[1;33m)\u001b[0m\u001b[1;33m)\u001b[0m\u001b[1;33m)\u001b[0m\u001b[1;33m:\u001b[0m\u001b[1;33m\u001b[0m\u001b[1;33m\u001b[0m\u001b[0m\n\u001b[1;32m--> 313\u001b[1;33m                 \u001b[1;32mraise\u001b[0m \u001b[0mexceptions\u001b[0m\u001b[1;33m.\u001b[0m\u001b[0mXNATResponseError\u001b[0m\u001b[1;33m(\u001b[0m\u001b[1;34m'Invalid response from XNATSession for url {} (status {}):\\n{}'\u001b[0m\u001b[1;33m.\u001b[0m\u001b[0mformat\u001b[0m\u001b[1;33m(\u001b[0m\u001b[0muri\u001b[0m\u001b[1;33m,\u001b[0m \u001b[0mresponse\u001b[0m\u001b[1;33m.\u001b[0m\u001b[0mstatus_code\u001b[0m\u001b[1;33m,\u001b[0m \u001b[0mresponse\u001b[0m\u001b[1;33m.\u001b[0m\u001b[0mtext\u001b[0m\u001b[1;33m)\u001b[0m\u001b[1;33m)\u001b[0m\u001b[1;33m\u001b[0m\u001b[1;33m\u001b[0m\u001b[0m\n\u001b[0m\u001b[0;32m    314\u001b[0m \u001b[1;33m\u001b[0m\u001b[0m\n\u001b[0;32m    315\u001b[0m     \u001b[1;32mdef\u001b[0m \u001b[0mget\u001b[0m\u001b[1;33m(\u001b[0m\u001b[0mself\u001b[0m\u001b[1;33m,\u001b[0m \u001b[0mpath\u001b[0m\u001b[1;33m,\u001b[0m \u001b[0mformat\u001b[0m\u001b[1;33m=\u001b[0m\u001b[1;32mNone\u001b[0m\u001b[1;33m,\u001b[0m \u001b[0mquery\u001b[0m\u001b[1;33m=\u001b[0m\u001b[1;32mNone\u001b[0m\u001b[1;33m,\u001b[0m \u001b[0maccepted_status\u001b[0m\u001b[1;33m=\u001b[0m\u001b[1;32mNone\u001b[0m\u001b[1;33m,\u001b[0m \u001b[0mtimeout\u001b[0m\u001b[1;33m=\u001b[0m\u001b[1;32mNone\u001b[0m\u001b[1;33m,\u001b[0m \u001b[0mheaders\u001b[0m\u001b[1;33m=\u001b[0m\u001b[1;32mNone\u001b[0m\u001b[1;33m)\u001b[0m\u001b[1;33m:\u001b[0m\u001b[1;33m\u001b[0m\u001b[1;33m\u001b[0m\u001b[0m\n",
      "\u001b[1;31mXNATResponseError\u001b[0m: Invalid response from XNATSession for url http://10.1.1.17/data/services/archive?src=%2Fdata%2Fprearchive%2Fprojects%2FBrainTumorProg_copy%2F20200217_112833178%2FPGM_002_MR_1&overwrite=append&project=BrainTumorProg_copy&subject=PGM-002_Feb17&session=PGM-002_Feb17_MR_1 (status 409):\n<html>\n<head>\n   <title>Status page</title>\n</head>\n<body>\n<h3>Session already exists with matching files.</h3><p>You can get technical details <a href=\"http://www.w3.org/Protocols/rfc2616/rfc2616-sec10.html#sec10.4.10\">here</a>.<br>\nPlease continue your visit at our <a href=\"/\">home page</a>.\n</p>\n</body>\n</html>\n"
     ]
    }
   ],
   "source": [
    "# Move the selected prearchived files to archive:\n",
    "\n",
    "for f in range(len(prearchive_session_to_archive)):\n",
    "    print(f'Moving file {f+1} of {len(prearchive_session_to_archive)} to the archive...')\n",
    "    \n",
    "    #prearchive_session_to_archive[f].archive()\n",
    "    prearchive_session_to_archive[f].archive(project=projectLabel, \\\n",
    "                                             subject=subjectLabel, \\\n",
    "                                             experiment=experimentLabel, \\\n",
    "                                             overwrite='append')"
   ]
  },
  {
   "cell_type": "markdown",
   "metadata": {},
   "source": [
    "### So rebuilding hasn't helped."
   ]
  },
  {
   "cell_type": "markdown",
   "metadata": {},
   "source": [
    "# I've not been able to upload more than one scan by importing the files individually.  Now try to upload an entire session in a single .zip file.\n",
    "\n",
    "### I zipped all files into a single file \"files.zip\" and deleted all files within the prearchive that belong to subject PGM-002_Feb17."
   ]
  },
  {
   "cell_type": "code",
   "execution_count": 102,
   "metadata": {},
   "outputs": [
    {
     "data": {
      "text/plain": [
       "'C:\\\\Code\\\\WP1.3_multiple_modalities\\\\trying stuff\\\\XNAT downloads\\\\BrainTumorProg\\\\PGM-002\\\\0\\\\0\\\\PGM-002_MR_1\\\\scans\\\\11-T1post\\\\resources\\\\DICOM\\\\files\\\\files.zip'"
      ]
     },
     "execution_count": 102,
     "metadata": {},
     "output_type": "execute_result"
    }
   ],
   "source": [
    "zippedDicomFpath = os.path.join(dicomDLdir, 'files.zip')\n",
    "zippedDicomFpath"
   ]
  },
  {
   "cell_type": "code",
   "execution_count": 104,
   "metadata": {},
   "outputs": [
    {
     "data": {
      "text/plain": [
       "True"
      ]
     },
     "execution_count": 104,
     "metadata": {},
     "output_type": "execute_result"
    }
   ],
   "source": [
    "os.path.isfile(zippedDicomFpath)"
   ]
  },
  {
   "cell_type": "code",
   "execution_count": 99,
   "metadata": {},
   "outputs": [
    {
     "name": "stderr",
     "output_type": "stream",
     "text": [
      "[2020-02-17 13:52:10,017] DEBUG: session:661 >> UPLOAD URI http://10.1.1.17/data/services/import?dest=%2Fprearchive&project=BrainTumorProg_copy&subject=PGM-002_Feb17&session=PGM-002_Feb17_MR_1\n",
      "[2020-02-17 13:52:10,073] DEBUG: session:307 >> Received response with status code: 500\n"
     ]
    },
    {
     "ename": "XNATUploadError",
     "evalue": "Upload failed after 1 attempts! Status code 500, response text ",
     "output_type": "error",
     "traceback": [
      "\u001b[1;31m---------------------------------------------------------------------------\u001b[0m",
      "\u001b[1;31mXNATUploadError\u001b[0m                           Traceback (most recent call last)",
      "\u001b[1;32m<ipython-input-99-b049ebd5a4b0>\u001b[0m in \u001b[0;36m<module>\u001b[1;34m\u001b[0m\n\u001b[0;32m      5\u001b[0m                                               \u001b[0msubject\u001b[0m\u001b[1;33m=\u001b[0m\u001b[0msubjectLabel\u001b[0m\u001b[1;33m,\u001b[0m\u001b[0;31m \u001b[0m\u001b[0;31m\\\u001b[0m\u001b[1;33m\u001b[0m\u001b[1;33m\u001b[0m\u001b[0m\n\u001b[0;32m      6\u001b[0m                                               \u001b[0mexperiment\u001b[0m\u001b[1;33m=\u001b[0m\u001b[0mexperimentLabel\u001b[0m\u001b[1;33m,\u001b[0m\u001b[0;31m \u001b[0m\u001b[0;31m\\\u001b[0m\u001b[1;33m\u001b[0m\u001b[1;33m\u001b[0m\u001b[0m\n\u001b[1;32m----> 7\u001b[1;33m                                               destination='/prearchive')\n\u001b[0m",
      "\u001b[1;32m~\\Anaconda37\\lib\\site-packages\\xnat\\services.py\u001b[0m in \u001b[0;36mimport_\u001b[1;34m(self, path, overwrite, quarantine, destination, trigger_pipelines, project, subject, experiment, content_type)\u001b[0m\n\u001b[0;32m    109\u001b[0m \u001b[1;33m\u001b[0m\u001b[0m\n\u001b[0;32m    110\u001b[0m         \u001b[0muri\u001b[0m \u001b[1;33m=\u001b[0m \u001b[1;34m'/data/services/import'\u001b[0m\u001b[1;33m\u001b[0m\u001b[1;33m\u001b[0m\u001b[0m\n\u001b[1;32m--> 111\u001b[1;33m         \u001b[0mresponse\u001b[0m \u001b[1;33m=\u001b[0m \u001b[0mself\u001b[0m\u001b[1;33m.\u001b[0m\u001b[0mxnat_session\u001b[0m\u001b[1;33m.\u001b[0m\u001b[0mupload\u001b[0m\u001b[1;33m(\u001b[0m\u001b[0muri\u001b[0m\u001b[1;33m=\u001b[0m\u001b[0muri\u001b[0m\u001b[1;33m,\u001b[0m \u001b[0mfile_\u001b[0m\u001b[1;33m=\u001b[0m\u001b[0mpath\u001b[0m\u001b[1;33m,\u001b[0m \u001b[0mquery\u001b[0m\u001b[1;33m=\u001b[0m\u001b[0mquery\u001b[0m\u001b[1;33m,\u001b[0m \u001b[0mcontent_type\u001b[0m\u001b[1;33m=\u001b[0m\u001b[0mcontent_type\u001b[0m\u001b[1;33m,\u001b[0m \u001b[0mmethod\u001b[0m\u001b[1;33m=\u001b[0m\u001b[1;34m'post'\u001b[0m\u001b[1;33m)\u001b[0m\u001b[1;33m\u001b[0m\u001b[1;33m\u001b[0m\u001b[0m\n\u001b[0m\u001b[0;32m    112\u001b[0m \u001b[1;33m\u001b[0m\u001b[0m\n\u001b[0;32m    113\u001b[0m         \u001b[1;32mif\u001b[0m \u001b[0mresponse\u001b[0m\u001b[1;33m.\u001b[0m\u001b[0mstatus_code\u001b[0m \u001b[1;33m!=\u001b[0m \u001b[1;36m200\u001b[0m\u001b[1;33m:\u001b[0m\u001b[1;33m\u001b[0m\u001b[1;33m\u001b[0m\u001b[0m\n",
      "\u001b[1;32m~\\Anaconda37\\lib\\site-packages\\xnat\\session.py\u001b[0m in \u001b[0;36mupload\u001b[1;34m(self, uri, file_, retries, query, content_type, method, overwrite, timeout)\u001b[0m\n\u001b[0;32m    703\u001b[0m \u001b[1;33m\u001b[0m\u001b[0m\n\u001b[0;32m    704\u001b[0m         \u001b[1;31m# We didn't return correctly, so we have an error\u001b[0m\u001b[1;33m\u001b[0m\u001b[1;33m\u001b[0m\u001b[1;33m\u001b[0m\u001b[0m\n\u001b[1;32m--> 705\u001b[1;33m         \u001b[1;32mraise\u001b[0m \u001b[0mexceptions\u001b[0m\u001b[1;33m.\u001b[0m\u001b[0mXNATUploadError\u001b[0m\u001b[1;33m(\u001b[0m\u001b[1;34m'Upload failed after {} attempts! Status code {}, response text {}'\u001b[0m\u001b[1;33m.\u001b[0m\u001b[0mformat\u001b[0m\u001b[1;33m(\u001b[0m\u001b[0mretries\u001b[0m\u001b[1;33m,\u001b[0m \u001b[0mresponse\u001b[0m\u001b[1;33m.\u001b[0m\u001b[0mstatus_code\u001b[0m\u001b[1;33m,\u001b[0m \u001b[0mresponse\u001b[0m\u001b[1;33m.\u001b[0m\u001b[0mtext\u001b[0m\u001b[1;33m)\u001b[0m\u001b[1;33m)\u001b[0m\u001b[1;33m\u001b[0m\u001b[1;33m\u001b[0m\u001b[0m\n\u001b[0m\u001b[0;32m    706\u001b[0m \u001b[1;33m\u001b[0m\u001b[0m\n\u001b[0;32m    707\u001b[0m     \u001b[1;33m@\u001b[0m\u001b[0mproperty\u001b[0m\u001b[1;33m\u001b[0m\u001b[1;33m\u001b[0m\u001b[0m\n",
      "\u001b[1;31mXNATUploadError\u001b[0m: Upload failed after 1 attempts! Status code 500, response text "
     ]
    }
   ],
   "source": [
    "prearchive_session = session.services.import_(zippedDicomFpath, \\\n",
    "                                              project=projectLabel, \\\n",
    "                                              subject=subjectLabel, \\\n",
    "                                              experiment=experimentLabel, \\\n",
    "                                              destination='/prearchive')"
   ]
  },
  {
   "cell_type": "markdown",
   "metadata": {},
   "source": [
    "### In the example provided for the XNATpy tutorial, the importing is done with assigning only the project and destination. When moving from prearchive to archive the subject and experiment are assigned.  Try that:"
   ]
  },
  {
   "cell_type": "code",
   "execution_count": 103,
   "metadata": {},
   "outputs": [
    {
     "name": "stderr",
     "output_type": "stream",
     "text": [
      "[2020-02-17 14:04:36,838] DEBUG: session:661 >> UPLOAD URI http://10.1.1.17/data/services/import?dest=%2Fprearchive&project=BrainTumorProg_copy\n",
      "[2020-02-17 14:04:36,881] DEBUG: session:307 >> Received response with status code: 500\n"
     ]
    },
    {
     "ename": "XNATUploadError",
     "evalue": "Upload failed after 1 attempts! Status code 500, response text <html>\n<head>\n   <title>Status page</title>\n</head>\n<body>\n<h3>Index: 0, Size: 0</h3><p>You can get technical details <a href=\"http://www.w3.org/Protocols/rfc2616/rfc2616-sec10.html#sec10.5.1\">here</a>.<br>\nPlease continue your visit at our <a href=\"/\">home page</a>.\n</p>\n</body>\n</html>\n",
     "output_type": "error",
     "traceback": [
      "\u001b[1;31m---------------------------------------------------------------------------\u001b[0m",
      "\u001b[1;31mXNATUploadError\u001b[0m                           Traceback (most recent call last)",
      "\u001b[1;32m<ipython-input-103-6a1cbdda28b8>\u001b[0m in \u001b[0;36m<module>\u001b[1;34m\u001b[0m\n\u001b[0;32m      1\u001b[0m prearchive_session = session.services.import_(zippedDicomFpath, \\\n\u001b[0;32m      2\u001b[0m                                               \u001b[0mproject\u001b[0m\u001b[1;33m=\u001b[0m\u001b[0mprojectLabel\u001b[0m\u001b[1;33m,\u001b[0m\u001b[0;31m \u001b[0m\u001b[0;31m\\\u001b[0m\u001b[1;33m\u001b[0m\u001b[1;33m\u001b[0m\u001b[0m\n\u001b[1;32m----> 3\u001b[1;33m                                               destination='/prearchive')\n\u001b[0m",
      "\u001b[1;32m~\\Anaconda37\\lib\\site-packages\\xnat\\services.py\u001b[0m in \u001b[0;36mimport_\u001b[1;34m(self, path, overwrite, quarantine, destination, trigger_pipelines, project, subject, experiment, content_type)\u001b[0m\n\u001b[0;32m    109\u001b[0m \u001b[1;33m\u001b[0m\u001b[0m\n\u001b[0;32m    110\u001b[0m         \u001b[0muri\u001b[0m \u001b[1;33m=\u001b[0m \u001b[1;34m'/data/services/import'\u001b[0m\u001b[1;33m\u001b[0m\u001b[1;33m\u001b[0m\u001b[0m\n\u001b[1;32m--> 111\u001b[1;33m         \u001b[0mresponse\u001b[0m \u001b[1;33m=\u001b[0m \u001b[0mself\u001b[0m\u001b[1;33m.\u001b[0m\u001b[0mxnat_session\u001b[0m\u001b[1;33m.\u001b[0m\u001b[0mupload\u001b[0m\u001b[1;33m(\u001b[0m\u001b[0muri\u001b[0m\u001b[1;33m=\u001b[0m\u001b[0muri\u001b[0m\u001b[1;33m,\u001b[0m \u001b[0mfile_\u001b[0m\u001b[1;33m=\u001b[0m\u001b[0mpath\u001b[0m\u001b[1;33m,\u001b[0m \u001b[0mquery\u001b[0m\u001b[1;33m=\u001b[0m\u001b[0mquery\u001b[0m\u001b[1;33m,\u001b[0m \u001b[0mcontent_type\u001b[0m\u001b[1;33m=\u001b[0m\u001b[0mcontent_type\u001b[0m\u001b[1;33m,\u001b[0m \u001b[0mmethod\u001b[0m\u001b[1;33m=\u001b[0m\u001b[1;34m'post'\u001b[0m\u001b[1;33m)\u001b[0m\u001b[1;33m\u001b[0m\u001b[1;33m\u001b[0m\u001b[0m\n\u001b[0m\u001b[0;32m    112\u001b[0m \u001b[1;33m\u001b[0m\u001b[0m\n\u001b[0;32m    113\u001b[0m         \u001b[1;32mif\u001b[0m \u001b[0mresponse\u001b[0m\u001b[1;33m.\u001b[0m\u001b[0mstatus_code\u001b[0m \u001b[1;33m!=\u001b[0m \u001b[1;36m200\u001b[0m\u001b[1;33m:\u001b[0m\u001b[1;33m\u001b[0m\u001b[1;33m\u001b[0m\u001b[0m\n",
      "\u001b[1;32m~\\Anaconda37\\lib\\site-packages\\xnat\\session.py\u001b[0m in \u001b[0;36mupload\u001b[1;34m(self, uri, file_, retries, query, content_type, method, overwrite, timeout)\u001b[0m\n\u001b[0;32m    703\u001b[0m \u001b[1;33m\u001b[0m\u001b[0m\n\u001b[0;32m    704\u001b[0m         \u001b[1;31m# We didn't return correctly, so we have an error\u001b[0m\u001b[1;33m\u001b[0m\u001b[1;33m\u001b[0m\u001b[1;33m\u001b[0m\u001b[0m\n\u001b[1;32m--> 705\u001b[1;33m         \u001b[1;32mraise\u001b[0m \u001b[0mexceptions\u001b[0m\u001b[1;33m.\u001b[0m\u001b[0mXNATUploadError\u001b[0m\u001b[1;33m(\u001b[0m\u001b[1;34m'Upload failed after {} attempts! Status code {}, response text {}'\u001b[0m\u001b[1;33m.\u001b[0m\u001b[0mformat\u001b[0m\u001b[1;33m(\u001b[0m\u001b[0mretries\u001b[0m\u001b[1;33m,\u001b[0m \u001b[0mresponse\u001b[0m\u001b[1;33m.\u001b[0m\u001b[0mstatus_code\u001b[0m\u001b[1;33m,\u001b[0m \u001b[0mresponse\u001b[0m\u001b[1;33m.\u001b[0m\u001b[0mtext\u001b[0m\u001b[1;33m)\u001b[0m\u001b[1;33m)\u001b[0m\u001b[1;33m\u001b[0m\u001b[1;33m\u001b[0m\u001b[0m\n\u001b[0m\u001b[0;32m    706\u001b[0m \u001b[1;33m\u001b[0m\u001b[0m\n\u001b[0;32m    707\u001b[0m     \u001b[1;33m@\u001b[0m\u001b[0mproperty\u001b[0m\u001b[1;33m\u001b[0m\u001b[1;33m\u001b[0m\u001b[0m\n",
      "\u001b[1;31mXNATUploadError\u001b[0m: Upload failed after 1 attempts! Status code 500, response text <html>\n<head>\n   <title>Status page</title>\n</head>\n<body>\n<h3>Index: 0, Size: 0</h3><p>You can get technical details <a href=\"http://www.w3.org/Protocols/rfc2616/rfc2616-sec10.html#sec10.5.1\">here</a>.<br>\nPlease continue your visit at our <a href=\"/\">home page</a>.\n</p>\n</body>\n</html>\n"
     ]
    }
   ],
   "source": [
    "prearchive_session = session.services.import_(zippedDicomFpath, \\\n",
    "                                              project=projectLabel, \\\n",
    "                                              destination='/prearchive')"
   ]
  },
  {
   "cell_type": "markdown",
   "metadata": {},
   "source": [
    "### Do as above but without sending it to the prearchive:"
   ]
  },
  {
   "cell_type": "code",
   "execution_count": 105,
   "metadata": {},
   "outputs": [
    {
     "name": "stderr",
     "output_type": "stream",
     "text": [
      "[2020-02-17 14:45:16,693] DEBUG: session:661 >> UPLOAD URI http://10.1.1.17/data/services/import?project=BrainTumorProg_copy\n",
      "[2020-02-17 14:45:16,744] DEBUG: session:307 >> Received response with status code: 500\n"
     ]
    },
    {
     "ename": "XNATUploadError",
     "evalue": "Upload failed after 1 attempts! Status code 500, response text ",
     "output_type": "error",
     "traceback": [
      "\u001b[1;31m---------------------------------------------------------------------------\u001b[0m",
      "\u001b[1;31mXNATUploadError\u001b[0m                           Traceback (most recent call last)",
      "\u001b[1;32m<ipython-input-105-055e00e04aba>\u001b[0m in \u001b[0;36m<module>\u001b[1;34m\u001b[0m\n\u001b[0;32m      1\u001b[0m prearchive_session = session.services.import_(zippedDicomFpath, \\\n\u001b[1;32m----> 2\u001b[1;33m                                               project=projectLabel)\n\u001b[0m",
      "\u001b[1;32m~\\Anaconda37\\lib\\site-packages\\xnat\\services.py\u001b[0m in \u001b[0;36mimport_\u001b[1;34m(self, path, overwrite, quarantine, destination, trigger_pipelines, project, subject, experiment, content_type)\u001b[0m\n\u001b[0;32m    109\u001b[0m \u001b[1;33m\u001b[0m\u001b[0m\n\u001b[0;32m    110\u001b[0m         \u001b[0muri\u001b[0m \u001b[1;33m=\u001b[0m \u001b[1;34m'/data/services/import'\u001b[0m\u001b[1;33m\u001b[0m\u001b[1;33m\u001b[0m\u001b[0m\n\u001b[1;32m--> 111\u001b[1;33m         \u001b[0mresponse\u001b[0m \u001b[1;33m=\u001b[0m \u001b[0mself\u001b[0m\u001b[1;33m.\u001b[0m\u001b[0mxnat_session\u001b[0m\u001b[1;33m.\u001b[0m\u001b[0mupload\u001b[0m\u001b[1;33m(\u001b[0m\u001b[0muri\u001b[0m\u001b[1;33m=\u001b[0m\u001b[0muri\u001b[0m\u001b[1;33m,\u001b[0m \u001b[0mfile_\u001b[0m\u001b[1;33m=\u001b[0m\u001b[0mpath\u001b[0m\u001b[1;33m,\u001b[0m \u001b[0mquery\u001b[0m\u001b[1;33m=\u001b[0m\u001b[0mquery\u001b[0m\u001b[1;33m,\u001b[0m \u001b[0mcontent_type\u001b[0m\u001b[1;33m=\u001b[0m\u001b[0mcontent_type\u001b[0m\u001b[1;33m,\u001b[0m \u001b[0mmethod\u001b[0m\u001b[1;33m=\u001b[0m\u001b[1;34m'post'\u001b[0m\u001b[1;33m)\u001b[0m\u001b[1;33m\u001b[0m\u001b[1;33m\u001b[0m\u001b[0m\n\u001b[0m\u001b[0;32m    112\u001b[0m \u001b[1;33m\u001b[0m\u001b[0m\n\u001b[0;32m    113\u001b[0m         \u001b[1;32mif\u001b[0m \u001b[0mresponse\u001b[0m\u001b[1;33m.\u001b[0m\u001b[0mstatus_code\u001b[0m \u001b[1;33m!=\u001b[0m \u001b[1;36m200\u001b[0m\u001b[1;33m:\u001b[0m\u001b[1;33m\u001b[0m\u001b[1;33m\u001b[0m\u001b[0m\n",
      "\u001b[1;32m~\\Anaconda37\\lib\\site-packages\\xnat\\session.py\u001b[0m in \u001b[0;36mupload\u001b[1;34m(self, uri, file_, retries, query, content_type, method, overwrite, timeout)\u001b[0m\n\u001b[0;32m    703\u001b[0m \u001b[1;33m\u001b[0m\u001b[0m\n\u001b[0;32m    704\u001b[0m         \u001b[1;31m# We didn't return correctly, so we have an error\u001b[0m\u001b[1;33m\u001b[0m\u001b[1;33m\u001b[0m\u001b[1;33m\u001b[0m\u001b[0m\n\u001b[1;32m--> 705\u001b[1;33m         \u001b[1;32mraise\u001b[0m \u001b[0mexceptions\u001b[0m\u001b[1;33m.\u001b[0m\u001b[0mXNATUploadError\u001b[0m\u001b[1;33m(\u001b[0m\u001b[1;34m'Upload failed after {} attempts! Status code {}, response text {}'\u001b[0m\u001b[1;33m.\u001b[0m\u001b[0mformat\u001b[0m\u001b[1;33m(\u001b[0m\u001b[0mretries\u001b[0m\u001b[1;33m,\u001b[0m \u001b[0mresponse\u001b[0m\u001b[1;33m.\u001b[0m\u001b[0mstatus_code\u001b[0m\u001b[1;33m,\u001b[0m \u001b[0mresponse\u001b[0m\u001b[1;33m.\u001b[0m\u001b[0mtext\u001b[0m\u001b[1;33m)\u001b[0m\u001b[1;33m)\u001b[0m\u001b[1;33m\u001b[0m\u001b[1;33m\u001b[0m\u001b[0m\n\u001b[0m\u001b[0;32m    706\u001b[0m \u001b[1;33m\u001b[0m\u001b[0m\n\u001b[0;32m    707\u001b[0m     \u001b[1;33m@\u001b[0m\u001b[0mproperty\u001b[0m\u001b[1;33m\u001b[0m\u001b[1;33m\u001b[0m\u001b[0m\n",
      "\u001b[1;31mXNATUploadError\u001b[0m: Upload failed after 1 attempts! Status code 500, response text "
     ]
    }
   ],
   "source": [
    "prearchive_session = session.services.import_(zippedDicomFpath, \\\n",
    "                                              project=projectLabel)"
   ]
  },
  {
   "cell_type": "markdown",
   "metadata": {},
   "source": [
    "### Likewise, try uploading individual DICOMs but without the prearchive step:"
   ]
  },
  {
   "cell_type": "code",
   "execution_count": 107,
   "metadata": {},
   "outputs": [
    {
     "name": "stderr",
     "output_type": "stream",
     "text": [
      "[2020-02-17 14:48:19,444] DEBUG: session:661 >> UPLOAD URI http://10.1.1.17/data/services/import?project=BrainTumorProg_copy&subject=PGM-002_Feb17&session=PGM-002_Feb17_MR_1\n"
     ]
    },
    {
     "name": "stdout",
     "output_type": "stream",
     "text": [
      "Uploading file 1 of 9 to the archive...\n"
     ]
    },
    {
     "name": "stderr",
     "output_type": "stream",
     "text": [
      "[2020-02-17 14:48:20,432] DEBUG: session:307 >> Received response with status code: 200\n",
      "[2020-02-17 14:48:20,433] DEBUG: session:769 >> Fetching object /data/archive/projects/BrainTumorProg_copy/subjects/PGM-002_Feb17/experiments/PGM-002_Feb17_MR_1 from cache\n",
      "[2020-02-17 14:48:20,434] DEBUG: session:661 >> UPLOAD URI http://10.1.1.17/data/services/import?project=BrainTumorProg_copy&subject=PGM-002_Feb17&session=PGM-002_Feb17_MR_1\n"
     ]
    },
    {
     "name": "stdout",
     "output_type": "stream",
     "text": [
      "Uploading file 2 of 9 to the archive...\n"
     ]
    },
    {
     "name": "stderr",
     "output_type": "stream",
     "text": [
      "[2020-02-17 14:48:21,155] DEBUG: session:307 >> Received response with status code: 409\n"
     ]
    },
    {
     "ename": "XNATUploadError",
     "evalue": "Upload failed after 1 attempts! Status code 409, response text <html>\n<head>\n   <title>Status page</title>\n</head>\n<body>\n<h3>Session processing may already be in progress: AutoRun.  Concurrent modification is discouraged.</h3><p>You can get technical details <a href=\"http://www.w3.org/Protocols/rfc2616/rfc2616-sec10.html#sec10.4.10\">here</a>.<br>\nPlease continue your visit at our <a href=\"/\">home page</a>.\n</p>\n</body>\n</html>\n",
     "output_type": "error",
     "traceback": [
      "\u001b[1;31m---------------------------------------------------------------------------\u001b[0m",
      "\u001b[1;31mXNATUploadError\u001b[0m                           Traceback (most recent call last)",
      "\u001b[1;32m<ipython-input-107-224f12abf9ed>\u001b[0m in \u001b[0;36m<module>\u001b[1;34m\u001b[0m\n\u001b[0;32m      6\u001b[0m                              \u001b[0mproject\u001b[0m\u001b[1;33m=\u001b[0m\u001b[0mprojectLabel\u001b[0m\u001b[1;33m,\u001b[0m\u001b[0;31m \u001b[0m\u001b[0;31m\\\u001b[0m\u001b[1;33m\u001b[0m\u001b[1;33m\u001b[0m\u001b[0m\n\u001b[0;32m      7\u001b[0m                              \u001b[0msubject\u001b[0m\u001b[1;33m=\u001b[0m\u001b[0msubjectLabel\u001b[0m\u001b[1;33m,\u001b[0m\u001b[0;31m \u001b[0m\u001b[0;31m\\\u001b[0m\u001b[1;33m\u001b[0m\u001b[1;33m\u001b[0m\u001b[0m\n\u001b[1;32m----> 8\u001b[1;33m                              experiment=experimentLabel)\n\u001b[0m",
      "\u001b[1;32m~\\Anaconda37\\lib\\site-packages\\xnat\\services.py\u001b[0m in \u001b[0;36mimport_\u001b[1;34m(self, path, overwrite, quarantine, destination, trigger_pipelines, project, subject, experiment, content_type)\u001b[0m\n\u001b[0;32m    109\u001b[0m \u001b[1;33m\u001b[0m\u001b[0m\n\u001b[0;32m    110\u001b[0m         \u001b[0muri\u001b[0m \u001b[1;33m=\u001b[0m \u001b[1;34m'/data/services/import'\u001b[0m\u001b[1;33m\u001b[0m\u001b[1;33m\u001b[0m\u001b[0m\n\u001b[1;32m--> 111\u001b[1;33m         \u001b[0mresponse\u001b[0m \u001b[1;33m=\u001b[0m \u001b[0mself\u001b[0m\u001b[1;33m.\u001b[0m\u001b[0mxnat_session\u001b[0m\u001b[1;33m.\u001b[0m\u001b[0mupload\u001b[0m\u001b[1;33m(\u001b[0m\u001b[0muri\u001b[0m\u001b[1;33m=\u001b[0m\u001b[0muri\u001b[0m\u001b[1;33m,\u001b[0m \u001b[0mfile_\u001b[0m\u001b[1;33m=\u001b[0m\u001b[0mpath\u001b[0m\u001b[1;33m,\u001b[0m \u001b[0mquery\u001b[0m\u001b[1;33m=\u001b[0m\u001b[0mquery\u001b[0m\u001b[1;33m,\u001b[0m \u001b[0mcontent_type\u001b[0m\u001b[1;33m=\u001b[0m\u001b[0mcontent_type\u001b[0m\u001b[1;33m,\u001b[0m \u001b[0mmethod\u001b[0m\u001b[1;33m=\u001b[0m\u001b[1;34m'post'\u001b[0m\u001b[1;33m)\u001b[0m\u001b[1;33m\u001b[0m\u001b[1;33m\u001b[0m\u001b[0m\n\u001b[0m\u001b[0;32m    112\u001b[0m \u001b[1;33m\u001b[0m\u001b[0m\n\u001b[0;32m    113\u001b[0m         \u001b[1;32mif\u001b[0m \u001b[0mresponse\u001b[0m\u001b[1;33m.\u001b[0m\u001b[0mstatus_code\u001b[0m \u001b[1;33m!=\u001b[0m \u001b[1;36m200\u001b[0m\u001b[1;33m:\u001b[0m\u001b[1;33m\u001b[0m\u001b[1;33m\u001b[0m\u001b[0m\n",
      "\u001b[1;32m~\\Anaconda37\\lib\\site-packages\\xnat\\session.py\u001b[0m in \u001b[0;36mupload\u001b[1;34m(self, uri, file_, retries, query, content_type, method, overwrite, timeout)\u001b[0m\n\u001b[0;32m    703\u001b[0m \u001b[1;33m\u001b[0m\u001b[0m\n\u001b[0;32m    704\u001b[0m         \u001b[1;31m# We didn't return correctly, so we have an error\u001b[0m\u001b[1;33m\u001b[0m\u001b[1;33m\u001b[0m\u001b[1;33m\u001b[0m\u001b[0m\n\u001b[1;32m--> 705\u001b[1;33m         \u001b[1;32mraise\u001b[0m \u001b[0mexceptions\u001b[0m\u001b[1;33m.\u001b[0m\u001b[0mXNATUploadError\u001b[0m\u001b[1;33m(\u001b[0m\u001b[1;34m'Upload failed after {} attempts! Status code {}, response text {}'\u001b[0m\u001b[1;33m.\u001b[0m\u001b[0mformat\u001b[0m\u001b[1;33m(\u001b[0m\u001b[0mretries\u001b[0m\u001b[1;33m,\u001b[0m \u001b[0mresponse\u001b[0m\u001b[1;33m.\u001b[0m\u001b[0mstatus_code\u001b[0m\u001b[1;33m,\u001b[0m \u001b[0mresponse\u001b[0m\u001b[1;33m.\u001b[0m\u001b[0mtext\u001b[0m\u001b[1;33m)\u001b[0m\u001b[1;33m)\u001b[0m\u001b[1;33m\u001b[0m\u001b[1;33m\u001b[0m\u001b[0m\n\u001b[0m\u001b[0;32m    706\u001b[0m \u001b[1;33m\u001b[0m\u001b[0m\n\u001b[0;32m    707\u001b[0m     \u001b[1;33m@\u001b[0m\u001b[0mproperty\u001b[0m\u001b[1;33m\u001b[0m\u001b[1;33m\u001b[0m\u001b[0m\n",
      "\u001b[1;31mXNATUploadError\u001b[0m: Upload failed after 1 attempts! Status code 409, response text <html>\n<head>\n   <title>Status page</title>\n</head>\n<body>\n<h3>Session processing may already be in progress: AutoRun.  Concurrent modification is discouraged.</h3><p>You can get technical details <a href=\"http://www.w3.org/Protocols/rfc2616/rfc2616-sec10.html#sec10.4.10\">here</a>.<br>\nPlease continue your visit at our <a href=\"/\">home page</a>.\n</p>\n</body>\n</html>\n"
     ]
    }
   ],
   "source": [
    "# Upload directly to the archive the DICOMs that have contour data:\n",
    "for f in range(len(inds)):\n",
    "    print(f'Uploading file {f+1} of {len(inds)} to the archive...')\n",
    "    \n",
    "    session.services.import_(dicomFpaths[inds[f]], \\\n",
    "                             project=projectLabel, \\\n",
    "                             subject=subjectLabel, \\\n",
    "                             experiment=experimentLabel)"
   ]
  },
  {
   "cell_type": "markdown",
   "metadata": {},
   "source": [
    "### Trying to upload directly to the archive made no difference."
   ]
  },
  {
   "cell_type": "code",
   "execution_count": null,
   "metadata": {},
   "outputs": [],
   "source": []
  }
 ],
 "metadata": {
  "kernelspec": {
   "display_name": "Python 3",
   "language": "python",
   "name": "python3"
  },
  "language_info": {
   "codemirror_mode": {
    "name": "ipython",
    "version": 3
   },
   "file_extension": ".py",
   "mimetype": "text/x-python",
   "name": "python",
   "nbconvert_exporter": "python",
   "pygments_lexer": "ipython3",
   "version": "3.7.4"
  }
 },
 "nbformat": 4,
 "nbformat_minor": 2
}
