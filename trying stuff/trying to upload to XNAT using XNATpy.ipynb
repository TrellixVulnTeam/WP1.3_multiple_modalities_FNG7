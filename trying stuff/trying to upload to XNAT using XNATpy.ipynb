{
 "cells": [
  {
   "cell_type": "markdown",
   "metadata": {},
   "source": [
    "# Trying to upload DICOMs and ROIs (DICOM-RTSTRUCTs) to XNAT\n",
    "\n",
    "### https://xnat.readthedocs.io/en/latest/index.html"
   ]
  },
  {
   "cell_type": "code",
   "execution_count": 2,
   "metadata": {},
   "outputs": [
    {
     "name": "stdout",
     "output_type": "stream",
     "text": [
      "XNATpy version = 0.3.21\n"
     ]
    }
   ],
   "source": [
    "import xnat\n",
    "#xnat.__version__ # 0.3.21\n",
    "print(f'XNATpy version = {xnat.__version__}') # 0.3.21\n",
    "import SimpleITK as sitk\n",
    "import pydicom\n",
    "import dicom2nifti\n",
    "import numpy as np\n",
    "#import math\n",
    "import matplotlib.pyplot as plt\n",
    "#from matplotlib import pyplot\n",
    "import matplotlib.image as mpimg\n",
    "import os, sys, time\n",
    "import natsort\n",
    "import dicom_functions\n",
    "import explore_dicom_data\n",
    "from myshow import myshow\n",
    "import importlib"
   ]
  },
  {
   "cell_type": "markdown",
   "metadata": {},
   "source": [
    "#### Connect to XNAT server:"
   ]
  },
  {
   "cell_type": "code",
   "execution_count": 3,
   "metadata": {},
   "outputs": [
    {
     "name": "stderr",
     "output_type": "stream",
     "text": [
      "[2020-02-07 16:37:31,690] DEBUG: __init__:197 >> Response url: http://10.1.1.17/data/projects\n",
      "[2020-02-07 16:37:31,691] DEBUG: __init__:59 >> Getting http://10.1.1.17/ to test auth\n",
      "[2020-02-07 16:37:31,873] DEBUG: __init__:61 >> Status: 200\n",
      "[2020-02-07 16:37:31,874] INFO: __init__:95 >> Logged in successfully as admin\n",
      "[2020-02-07 16:37:31,876] DEBUG: session:334 >> GET URI http://10.1.1.17/data/JSESSION\n",
      "[2020-02-07 16:37:31,884] DEBUG: session:307 >> Received response with status code: 200\n",
      "[2020-02-07 16:37:31,886] DEBUG: session:334 >> GET URI http://10.1.1.17/data/version\n",
      "[2020-02-07 16:37:31,891] DEBUG: session:307 >> Received response with status code: 404\n",
      "[2020-02-07 16:37:31,892] DEBUG: session:334 >> GET URI http://10.1.1.17/xapi/siteConfig/buildInfo?format=json\n",
      "[2020-02-07 16:37:31,898] DEBUG: session:307 >> Received response with status code: 200\n",
      "[2020-02-07 16:37:31,899] INFO: __init__:239 >> Found an 1.7 version (1.7.5.6)\n",
      "[2020-02-07 16:37:31,900] DEBUG: session:334 >> GET URI http://10.1.1.17/xapi/schemas?format=json\n",
      "[2020-02-07 16:37:31,935] DEBUG: session:307 >> Received response with status code: 200\n",
      "[2020-02-07 16:37:31,936] INFO: convert_xsd:949 >> === Retrieving schema from /xapi/schemas/roi ===\n",
      "[2020-02-07 16:37:31,937] DEBUG: session:334 >> GET URI http://10.1.1.17/xapi/schemas/roi\n",
      "[2020-02-07 16:37:31,946] DEBUG: session:307 >> Received response with status code: 200\n",
      "[2020-02-07 16:37:31,947] DEBUG: convert_xsd:919 >> Registering namespace: icr  ->  http://icr.ac.uk/icr\n",
      "[2020-02-07 16:37:31,948] DEBUG: convert_xsd:919 >> Registering namespace: xdat  ->  http://nrg.wustl.edu/xdat\n",
      "[2020-02-07 16:37:31,949] DEBUG: convert_xsd:919 >> Registering namespace: xs  ->  http://www.w3.org/2001/XMLSchema\n",
      "[2020-02-07 16:37:31,950] DEBUG: convert_xsd:919 >> Registering namespace: xnat  ->  http://nrg.wustl.edu/xnat\n",
      "[2020-02-07 16:37:31,950] DEBUG: convert_xsd:1241 >> Skipping non-class top-level tag {http://www.w3.org/2001/XMLSchema}import\n",
      "[2020-02-07 16:37:31,952] DEBUG: convert_xsd:1237 >> Adding RoiCollection -> icr:roiCollectionData to class name map\n",
      "[2020-02-07 16:37:31,953] DEBUG: convert_xsd:932 >> Found 0 unknown tags: set()\n",
      "[2020-02-07 16:37:31,954] INFO: convert_xsd:949 >> === Retrieving schema from /xapi/schemas/security ===\n",
      "[2020-02-07 16:37:31,954] DEBUG: session:334 >> GET URI http://10.1.1.17/xapi/schemas/security\n",
      "[2020-02-07 16:37:31,964] DEBUG: session:307 >> Received response with status code: 200\n",
      "[2020-02-07 16:37:31,966] DEBUG: convert_xsd:919 >> Registering namespace: xdat  ->  http://nrg.wustl.edu/security\n",
      "[2020-02-07 16:37:31,967] DEBUG: convert_xsd:919 >> Registering namespace: xs  ->  http://www.w3.org/2001/XMLSchema\n",
      "[2020-02-07 16:37:31,968] DEBUG: convert_xsd:1237 >> Adding security -> None to class name map\n",
      "[2020-02-07 16:37:31,969] DEBUG: convert_xsd:1237 >> Adding element_access -> None to class name map\n",
      "[2020-02-07 16:37:31,971] WARNING: convert_xsd:1138 >> Encountered attribute without name\n",
      "[2020-02-07 16:37:31,973] DEBUG: convert_xsd:1241 >> Skipping non-class top-level tag {http://www.w3.org/2001/XMLSchema}attributeGroup\n",
      "[2020-02-07 16:37:31,975] DEBUG: convert_xsd:1237 >> Adding bundle -> xdat:stored_search to class name map\n",
      "[2020-02-07 16:37:31,976] WARNING: convert_xsd:1138 >> Encountered attribute without name\n",
      "[2020-02-07 16:37:31,978] DEBUG: convert_xsd:1237 >> Adding UserGroup -> xdat:userGroup to class name map\n",
      "[2020-02-07 16:37:31,979] DEBUG: convert_xsd:1237 >> Adding XDATUser -> xdat:user to class name map\n",
      "[2020-02-07 16:37:31,981] DEBUG: convert_xsd:1237 >> Adding Search -> None to class name map\n",
      "[2020-02-07 16:37:31,982] DEBUG: convert_xsd:1237 >> Adding News -> xdat:newsEntry to class name map\n",
      "[2020-02-07 16:37:31,982] DEBUG: convert_xsd:1237 >> Adding Info -> xdat:infoEntry to class name map\n",
      "[2020-02-07 16:37:31,982] DEBUG: convert_xsd:932 >> Found 2 unknown tags: {'{http://nrg.wustl.edu/security}field', '{http://nrg.wustl.edu/security}element'}\n",
      "[2020-02-07 16:37:31,984] INFO: convert_xsd:949 >> === Retrieving schema from /xapi/schemas/xnat ===\n",
      "[2020-02-07 16:37:31,985] DEBUG: session:334 >> GET URI http://10.1.1.17/xapi/schemas/xnat\n",
      "[2020-02-07 16:37:31,997] DEBUG: session:307 >> Received response with status code: 200\n",
      "[2020-02-07 16:37:32,002] DEBUG: convert_xsd:919 >> Registering namespace: xnat  ->  http://nrg.wustl.edu/xnat\n",
      "[2020-02-07 16:37:32,003] DEBUG: convert_xsd:919 >> Registering namespace: prov  ->  http://www.nbirn.net/prov\n",
      "[2020-02-07 16:37:32,003] DEBUG: convert_xsd:919 >> Registering namespace: xdat  ->  http://nrg.wustl.edu/xdat\n",
      "[2020-02-07 16:37:32,004] DEBUG: convert_xsd:919 >> Registering namespace: xs  ->  http://www.w3.org/2001/XMLSchema\n",
      "[2020-02-07 16:37:32,005] DEBUG: convert_xsd:1241 >> Skipping non-class top-level tag {http://www.w3.org/2001/XMLSchema}import\n",
      "[2020-02-07 16:37:32,005] DEBUG: convert_xsd:1241 >> Skipping non-class top-level tag {http://www.w3.org/2001/XMLSchema}import\n",
      "[2020-02-07 16:37:32,006] DEBUG: convert_xsd:1237 >> Adding Project -> xnat:projectData to class name map\n",
      "[2020-02-07 16:37:32,006] DEBUG: convert_xsd:1237 >> Adding Subject -> xnat:subjectData to class name map\n",
      "[2020-02-07 16:37:32,007] DEBUG: convert_xsd:1237 >> Adding Investigator -> xnat:investigatorData to class name map\n",
      "[2020-02-07 16:37:32,008] DEBUG: convert_xsd:1237 >> Adding MRSession -> xnat:mrSessionData to class name map\n",
      "[2020-02-07 16:37:32,008] DEBUG: convert_xsd:1237 >> Adding CTSession -> xnat:ctSessionData to class name map\n",
      "[2020-02-07 16:37:32,009] DEBUG: convert_xsd:1237 >> Adding EPSSession -> xnat:epsSessionData to class name map\n",
      "[2020-02-07 16:37:32,010] DEBUG: convert_xsd:1237 >> Adding HDSession -> xnat:hdSessionData to class name map\n",
      "[2020-02-07 16:37:32,010] DEBUG: convert_xsd:1237 >> Adding ECGSession -> xnat:ecgSessionData to class name map\n",
      "[2020-02-07 16:37:32,011] DEBUG: convert_xsd:1237 >> Adding USSession -> xnat:usSessionData to class name map\n",
      "[2020-02-07 16:37:32,012] DEBUG: convert_xsd:1237 >> Adding IOSession -> xnat:ioSessionData to class name map\n",
      "[2020-02-07 16:37:32,013] DEBUG: convert_xsd:1237 >> Adding MGSession -> xnat:mgSessionData to class name map\n",
      "[2020-02-07 16:37:32,014] DEBUG: convert_xsd:1237 >> Adding DXSession -> xnat:dxSessionData to class name map\n",
      "[2020-02-07 16:37:32,015] DEBUG: convert_xsd:1237 >> Adding CRSession -> xnat:crSessionData to class name map\n",
      "[2020-02-07 16:37:32,015] DEBUG: convert_xsd:1237 >> Adding GMVSession -> xnat:gmvSessionData to class name map\n",
      "[2020-02-07 16:37:32,016] DEBUG: convert_xsd:1237 >> Adding GMSession -> xnat:gmSessionData to class name map\n",
      "[2020-02-07 16:37:32,016] DEBUG: convert_xsd:1237 >> Adding ESVSession -> xnat:esvSessionData to class name map\n",
      "[2020-02-07 16:37:32,017] DEBUG: convert_xsd:1237 >> Adding ESSession -> xnat:esSessionData to class name map\n",
      "[2020-02-07 16:37:32,017] DEBUG: convert_xsd:1237 >> Adding NMSession -> xnat:nmSessionData to class name map\n",
      "[2020-02-07 16:37:32,018] DEBUG: convert_xsd:1237 >> Adding SRSession -> xnat:srSessionData to class name map\n",
      "[2020-02-07 16:37:32,018] DEBUG: convert_xsd:1237 >> Adding DX3DCraniofacialSession -> xnat:dx3DCraniofacialSessionData to class name map\n",
      "[2020-02-07 16:37:32,019] DEBUG: convert_xsd:1237 >> Adding XA3DSession -> xnat:xa3DSessionData to class name map\n",
      "[2020-02-07 16:37:32,019] DEBUG: convert_xsd:1237 >> Adding RFSession -> xnat:rfSessionData to class name map\n",
      "[2020-02-07 16:37:32,019] DEBUG: convert_xsd:1237 >> Adding XASession -> xnat:xaSessionData to class name map\n",
      "[2020-02-07 16:37:32,020] DEBUG: convert_xsd:1237 >> Adding SMSession -> xnat:smSessionData to class name map\n",
      "[2020-02-07 16:37:32,020] DEBUG: convert_xsd:1237 >> Adding XCSession -> xnat:xcSessionData to class name map\n",
      "[2020-02-07 16:37:32,021] DEBUG: convert_xsd:1237 >> Adding XCVSession -> xnat:xcvSessionData to class name map\n",
      "[2020-02-07 16:37:32,021] DEBUG: convert_xsd:1237 >> Adding OPSession -> xnat:opSessionData to class name map\n",
      "[2020-02-07 16:37:32,022] DEBUG: convert_xsd:1237 >> Adding OPTSession -> xnat:optSessionData to class name map\n",
      "[2020-02-07 16:37:32,022] DEBUG: convert_xsd:1237 >> Adding RTSession -> xnat:rtSessionData to class name map\n",
      "[2020-02-07 16:37:32,023] DEBUG: convert_xsd:1237 >> Adding MEGSession -> xnat:megSessionData to class name map\n"
     ]
    },
    {
     "name": "stderr",
     "output_type": "stream",
     "text": [
      "[2020-02-07 16:37:32,023] DEBUG: convert_xsd:1237 >> Adding EEGSession -> xnat:eegSessionData to class name map\n",
      "[2020-02-07 16:37:32,023] DEBUG: convert_xsd:1237 >> Adding OtherDicomSession -> xnat:otherDicomSessionData to class name map\n",
      "[2020-02-07 16:37:32,023] DEBUG: convert_xsd:1237 >> Adding SubjectVariables -> xnat:subjectVariablesData to class name map\n",
      "[2020-02-07 16:37:32,024] DEBUG: convert_xsd:1237 >> Adding PETSession -> xnat:petSessionData to class name map\n",
      "[2020-02-07 16:37:32,024] DEBUG: convert_xsd:1237 >> Adding PETMRSession -> xnat:petmrSessionData to class name map\n",
      "[2020-02-07 16:37:32,024] DEBUG: convert_xsd:1237 >> Adding MRScan -> xnat:mrScanData to class name map\n",
      "[2020-02-07 16:37:32,025] DEBUG: convert_xsd:1237 >> Adding CTScan -> xnat:ctScanData to class name map\n",
      "[2020-02-07 16:37:32,025] DEBUG: convert_xsd:1237 >> Adding PETScan -> xnat:petScanData to class name map\n",
      "[2020-02-07 16:37:32,026] DEBUG: convert_xsd:1237 >> Adding EPSScan -> xnat:epsScanData to class name map\n",
      "[2020-02-07 16:37:32,027] DEBUG: convert_xsd:1237 >> Adding HDScan -> xnat:hdScanData to class name map\n",
      "[2020-02-07 16:37:32,028] DEBUG: convert_xsd:1237 >> Adding ECGScan -> xnat:ecgScanData to class name map\n",
      "[2020-02-07 16:37:32,028] DEBUG: convert_xsd:1237 >> Adding USScan -> xnat:usScanData to class name map\n",
      "[2020-02-07 16:37:32,029] DEBUG: convert_xsd:1237 >> Adding IOScan -> xnat:ioScanData to class name map\n",
      "[2020-02-07 16:37:32,029] DEBUG: convert_xsd:1237 >> Adding MGScan -> xnat:mgScanData to class name map\n",
      "[2020-02-07 16:37:32,030] DEBUG: convert_xsd:1237 >> Adding DXScan -> xnat:dxScanData to class name map\n",
      "[2020-02-07 16:37:32,030] DEBUG: convert_xsd:1237 >> Adding CRScan -> xnat:crScanData to class name map\n",
      "[2020-02-07 16:37:32,030] DEBUG: convert_xsd:1237 >> Adding GMVScan -> xnat:gmvScanData to class name map\n",
      "[2020-02-07 16:37:32,031] DEBUG: convert_xsd:1237 >> Adding GMScan -> xnat:gmScanData to class name map\n",
      "[2020-02-07 16:37:32,032] DEBUG: convert_xsd:1237 >> Adding ESVScan -> xnat:esvScanData to class name map\n",
      "[2020-02-07 16:37:32,033] DEBUG: convert_xsd:1237 >> Adding ESScan -> xnat:esScanData to class name map\n",
      "[2020-02-07 16:37:32,033] DEBUG: convert_xsd:1237 >> Adding NMScan -> xnat:nmScanData to class name map\n",
      "[2020-02-07 16:37:32,034] DEBUG: convert_xsd:1237 >> Adding SRScan -> xnat:srScanData to class name map\n",
      "[2020-02-07 16:37:32,034] DEBUG: convert_xsd:1237 >> Adding DX3DCraniofacialScan -> xnat:dx3DCraniofacialScanData to class name map\n",
      "[2020-02-07 16:37:32,034] DEBUG: convert_xsd:1237 >> Adding XA3DScan -> xnat:xa3DScanData to class name map\n",
      "[2020-02-07 16:37:32,035] DEBUG: convert_xsd:1237 >> Adding RFScan -> xnat:rfScanData to class name map\n",
      "[2020-02-07 16:37:32,035] DEBUG: convert_xsd:1237 >> Adding XAScan -> xnat:xaScanData to class name map\n",
      "[2020-02-07 16:37:32,035] DEBUG: convert_xsd:1237 >> Adding SMScan -> xnat:smScanData to class name map\n",
      "[2020-02-07 16:37:32,036] DEBUG: convert_xsd:1237 >> Adding XCScan -> xnat:xcScanData to class name map\n",
      "[2020-02-07 16:37:32,036] DEBUG: convert_xsd:1237 >> Adding XCVScan -> xnat:xcvScanData to class name map\n",
      "[2020-02-07 16:37:32,036] DEBUG: convert_xsd:1237 >> Adding OPScan -> xnat:opScanData to class name map\n",
      "[2020-02-07 16:37:32,037] DEBUG: convert_xsd:1237 >> Adding OPTScan -> xnat:optScanData to class name map\n",
      "[2020-02-07 16:37:32,037] DEBUG: convert_xsd:1237 >> Adding RTImageScan -> xnat:rtImageScanData to class name map\n",
      "[2020-02-07 16:37:32,037] DEBUG: convert_xsd:1237 >> Adding SCScan -> xnat:scScanData to class name map\n",
      "[2020-02-07 16:37:32,038] DEBUG: convert_xsd:1237 >> Adding SegScan -> xnat:segScanData to class name map\n",
      "[2020-02-07 16:37:32,038] DEBUG: convert_xsd:1237 >> Adding MRSScan -> xnat:mrsScanData to class name map\n",
      "[2020-02-07 16:37:32,039] DEBUG: convert_xsd:1237 >> Adding MEGScan -> xnat:megScanData to class name map\n",
      "[2020-02-07 16:37:32,039] DEBUG: convert_xsd:1237 >> Adding EEGScan -> xnat:eegScanData to class name map\n",
      "[2020-02-07 16:37:32,039] DEBUG: convert_xsd:1237 >> Adding VoiceAudioScan -> xnat:voiceAudioScanData to class name map\n",
      "[2020-02-07 16:37:32,039] DEBUG: convert_xsd:1237 >> Adding OtherDicomScan -> xnat:otherDicomScanData to class name map\n",
      "[2020-02-07 16:37:32,040] DEBUG: convert_xsd:1237 >> Adding ImageRegionResource -> xnat:regionResource to class name map\n",
      "[2020-02-07 16:37:32,040] DEBUG: convert_xsd:1237 >> Adding QCAssessment -> xnat:qcAssessmentData to class name map\n",
      "[2020-02-07 16:37:32,040] DEBUG: convert_xsd:1237 >> Adding ReconstructedImage -> xnat:reconstructedImageData to class name map\n",
      "[2020-02-07 16:37:32,040] DEBUG: convert_xsd:1237 >> Adding FieldDefinitionGroup -> xnat:fieldDefinitionGroup to class name map\n",
      "[2020-02-07 16:37:32,041] DEBUG: convert_xsd:1237 >> Adding ResourceCatalog -> xnat:resourceCatalog to class name map\n",
      "[2020-02-07 16:37:32,041] DEBUG: convert_xsd:1237 >> Adding QCManualAssessment -> xnat:qcManualAssessorData to class name map\n",
      "[2020-02-07 16:37:32,041] DEBUG: convert_xsd:1237 >> Adding Generic -> xnat:genericData to class name map\n",
      "[2020-02-07 16:37:32,042] DEBUG: convert_xsd:1237 >> Adding DicomCodedValue -> xnat:dicomCodedValue to class name map\n",
      "[2020-02-07 16:37:32,042] DEBUG: convert_xsd:1237 >> Adding Algorithm -> xnat:algorithm to class name map\n",
      "[2020-02-07 16:37:32,042] DEBUG: convert_xsd:1237 >> Adding PVisit -> xnat:pVisitData to class name map\n",
      "[2020-02-07 16:37:32,043] DEBUG: convert_xsd:1237 >> Adding FieldDefinitionSet -> xnat:fieldDefinitionGroup to class name map\n",
      "[2020-02-07 16:37:32,043] DEBUG: convert_xsd:1295 >> CLASS: xnat:projectData, PROP: ID, ELEMENT: <Element '{http://nrg.wustl.edu/xdat}sqlField' at 0x000001A5DC3FEB88>\n",
      "[2020-02-07 16:37:32,043] DEBUG: convert_xsd:1295 >> CLASS: xnatpy:subjectDataSharing, PROP: share, ELEMENT: <Element '{http://nrg.wustl.edu/xdat}sqlField' at 0x000001A5DC3FE318>\n",
      "[2020-02-07 16:37:32,044] DEBUG: convert_xsd:1295 >> CLASS: xnatpy:subjectDataExperiments, PROP: experiment, ELEMENT: <Element '{http://nrg.wustl.edu/xdat}sqlField' at 0x000001A5DC3F5868>\n",
      "[2020-02-07 16:37:32,044] DEBUG: convert_xsd:1295 >> CLASS: xnat:subjectData, PROP: ID, ELEMENT: <Element '{http://nrg.wustl.edu/xdat}sqlField' at 0x000001A5DC3F5638>\n",
      "[2020-02-07 16:37:32,045] DEBUG: convert_xsd:1295 >> CLASS: xnat:subjectData, PROP: project, ELEMENT: <Element '{http://nrg.wustl.edu/xdat}sqlField' at 0x000001A5DC3F5278>\n",
      "[2020-02-07 16:37:32,045] DEBUG: convert_xsd:1295 >> CLASS: xnat:subjectData, PROP: group, ELEMENT: <Element '{http://nrg.wustl.edu/xdat}sqlField' at 0x000001A5DC3F1E08>\n",
      "[2020-02-07 16:37:32,045] DEBUG: convert_xsd:1295 >> CLASS: xnat:projectParticipant, PROP: project, ELEMENT: <Element '{http://nrg.wustl.edu/xdat}sqlField' at 0x000001A5DC3F1638>\n",
      "[2020-02-07 16:37:32,045] DEBUG: convert_xsd:1295 >> CLASS: xnat:projectParticipant, PROP: subject_ID, ELEMENT: <Element '{http://nrg.wustl.edu/xdat}sqlField' at 0x000001A5DC3F12C8>\n",
      "[2020-02-07 16:37:32,046] DEBUG: convert_xsd:1295 >> CLASS: xnat:projectParticipant, PROP: group, ELEMENT: <Element '{http://nrg.wustl.edu/xdat}sqlField' at 0x000001A5DC3F1138>\n",
      "[2020-02-07 16:37:32,047] DEBUG: convert_xsd:1295 >> CLASS: xnat:experimentData, PROP: ID, ELEMENT: <Element '{http://nrg.wustl.edu/xdat}sqlField' at 0x000001A5DC3E4318>\n",
      "[2020-02-07 16:37:32,048] DEBUG: convert_xsd:1295 >> CLASS: xnatpy:imageSessionDataRegions, PROP: region, ELEMENT: <Element '{http://nrg.wustl.edu/xdat}sqlField' at 0x000001A5DC450228>\n",
      "[2020-02-07 16:37:32,049] DEBUG: convert_xsd:1295 >> CLASS: xnatpy:imageSessionDataScans, PROP: scan, ELEMENT: <Element '{http://nrg.wustl.edu/xdat}sqlField' at 0x000001A5DC450F98>\n",
      "[2020-02-07 16:37:32,049] DEBUG: convert_xsd:1295 >> CLASS: xnatpy:imageSessionDataReconstructions, PROP: reconstructedImage, ELEMENT: <Element '{http://nrg.wustl.edu/xdat}sqlField' at 0x000001A5DC4544F8>\n",
      "[2020-02-07 16:37:32,050] DEBUG: convert_xsd:1295 >> CLASS: xnatpy:imageSessionDataAssessors, PROP: assessor, ELEMENT: <Element '{http://nrg.wustl.edu/xdat}sqlField' at 0x000001A5DC4548B8>\n",
      "[2020-02-07 16:37:32,054] DEBUG: convert_xsd:1295 >> CLASS: xnatpy:fieldDefinitionGroupFieldsField, PROP: group, ELEMENT: <Element '{http://nrg.wustl.edu/xdat}sqlField' at 0x000001A5DC5044F8>\n"
     ]
    },
    {
     "name": "stderr",
     "output_type": "stream",
     "text": [
      "[2020-02-07 16:37:32,056] DEBUG: convert_xsd:932 >> Found 3 unknown tags: {'{http://nrg.wustl.edu/xdat}relation', '{http://nrg.wustl.edu/security}field', '{http://nrg.wustl.edu/security}element'}\n",
      "[2020-02-07 16:37:32,057] INFO: convert_xsd:949 >> === Retrieving schema from /xapi/schemas/assessments ===\n",
      "[2020-02-07 16:37:32,057] DEBUG: session:334 >> GET URI http://10.1.1.17/xapi/schemas/assessments\n",
      "[2020-02-07 16:37:32,066] DEBUG: session:307 >> Received response with status code: 200\n",
      "[2020-02-07 16:37:32,068] DEBUG: convert_xsd:919 >> Registering namespace: xs  ->  http://www.w3.org/2001/XMLSchema\n",
      "[2020-02-07 16:37:32,069] DEBUG: convert_xsd:919 >> Registering namespace: xnat  ->  http://nrg.wustl.edu/xnat\n",
      "[2020-02-07 16:37:32,069] DEBUG: convert_xsd:919 >> Registering namespace: xnat_a  ->  http://nrg.wustl.edu/xnat_assessments\n",
      "[2020-02-07 16:37:32,069] DEBUG: convert_xsd:1241 >> Skipping non-class top-level tag {http://www.w3.org/2001/XMLSchema}import\n",
      "[2020-02-07 16:37:32,070] DEBUG: convert_xsd:1237 >> Adding SideEffectsPittsburgh -> xnat_a:sideEffectsPittsburghData to class name map\n",
      "[2020-02-07 16:37:32,070] DEBUG: convert_xsd:1237 >> Adding YBOCS -> xnat_a:ybocsData to class name map\n",
      "[2020-02-07 16:37:32,071] DEBUG: convert_xsd:1237 >> Adding YGTSS -> xnat_a:ygtssData to class name map\n",
      "[2020-02-07 16:37:32,071] DEBUG: convert_xsd:1237 >> Adding UPDRS3 -> xnat_a:updrs3Data to class name map\n",
      "[2020-02-07 16:37:32,072] DEBUG: convert_xsd:1237 >> Adding SCID -> xnat_a:scidResearchData to class name map\n",
      "[2020-02-07 16:37:32,074] DEBUG: convert_xsd:932 >> Found 3 unknown tags: {'{http://nrg.wustl.edu/xdat}relation', '{http://nrg.wustl.edu/security}field', '{http://nrg.wustl.edu/security}element'}\n",
      "[2020-02-07 16:37:32,075] INFO: convert_xsd:949 >> === Retrieving schema from /xapi/schemas/screening/screeningAssessment ===\n",
      "[2020-02-07 16:37:32,076] DEBUG: session:334 >> GET URI http://10.1.1.17/xapi/schemas/screening/screeningAssessment\n",
      "[2020-02-07 16:37:32,084] DEBUG: session:307 >> Received response with status code: 200\n",
      "[2020-02-07 16:37:32,085] DEBUG: convert_xsd:919 >> Registering namespace: xdat  ->  http://nrg.wustl.edu/xdat\n",
      "[2020-02-07 16:37:32,086] DEBUG: convert_xsd:919 >> Registering namespace: scr  ->  http://nrg.wustl.edu/scr\n",
      "[2020-02-07 16:37:32,086] DEBUG: convert_xsd:919 >> Registering namespace: xnat  ->  http://nrg.wustl.edu/xnat\n",
      "[2020-02-07 16:37:32,087] DEBUG: convert_xsd:919 >> Registering namespace: xs  ->  http://www.w3.org/2001/XMLSchema\n",
      "[2020-02-07 16:37:32,087] DEBUG: convert_xsd:1241 >> Skipping non-class top-level tag {http://www.w3.org/2001/XMLSchema}import\n",
      "[2020-02-07 16:37:32,088] DEBUG: convert_xsd:1237 >> Adding ScreeningAssessment -> scr:screeningAssessment to class name map\n",
      "[2020-02-07 16:37:32,088] DEBUG: convert_xsd:932 >> Found 3 unknown tags: {'{http://nrg.wustl.edu/xdat}relation', '{http://nrg.wustl.edu/security}field', '{http://nrg.wustl.edu/security}element'}\n",
      "[2020-02-07 16:37:32,089] INFO: convert_xsd:949 >> === Retrieving schema from /xapi/schemas/pipeline/build ===\n",
      "[2020-02-07 16:37:32,089] DEBUG: session:334 >> GET URI http://10.1.1.17/xapi/schemas/pipeline/build\n",
      "[2020-02-07 16:37:32,097] DEBUG: session:307 >> Received response with status code: 200\n",
      "[2020-02-07 16:37:32,098] DEBUG: convert_xsd:919 >> Registering namespace: xs  ->  http://www.w3.org/2001/XMLSchema\n",
      "[2020-02-07 16:37:32,098] DEBUG: convert_xsd:919 >> Registering namespace: build  ->  http://nrg.wustl.edu/build\n",
      "[2020-02-07 16:37:32,099] DEBUG: convert_xsd:1237 >> Adding Build -> build:buildData to class name map\n",
      "[2020-02-07 16:37:32,100] DEBUG: convert_xsd:932 >> Found 3 unknown tags: {'{http://nrg.wustl.edu/xdat}relation', '{http://nrg.wustl.edu/security}field', '{http://nrg.wustl.edu/security}element'}\n",
      "[2020-02-07 16:37:32,100] INFO: convert_xsd:949 >> === Retrieving schema from /xapi/schemas/pipeline/repository ===\n",
      "[2020-02-07 16:37:32,101] DEBUG: session:334 >> GET URI http://10.1.1.17/xapi/schemas/pipeline/repository\n",
      "[2020-02-07 16:37:32,110] DEBUG: session:307 >> Received response with status code: 200\n",
      "[2020-02-07 16:37:32,111] DEBUG: convert_xsd:919 >> Registering namespace: xs  ->  http://www.w3.org/2001/XMLSchema\n",
      "[2020-02-07 16:37:32,112] DEBUG: convert_xsd:919 >> Registering namespace: xdat  ->  http://nrg.wustl.edu/xdat\n",
      "[2020-02-07 16:37:32,112] DEBUG: convert_xsd:919 >> Registering namespace: pipe  ->  http://nrg.wustl.edu/pipe\n",
      "[2020-02-07 16:37:32,113] DEBUG: convert_xsd:1237 >> Adding PipelineRepository -> None to class name map\n",
      "[2020-02-07 16:37:32,113] DEBUG: convert_xsd:1295 >> CLASS: pipe:pipelineDetails, PROP: path, ELEMENT: <Element '{http://nrg.wustl.edu/xdat}sqlField' at 0x000001A5DC511DB8>\n",
      "[2020-02-07 16:37:32,114] DEBUG: convert_xsd:932 >> Found 3 unknown tags: {'{http://nrg.wustl.edu/xdat}relation', '{http://nrg.wustl.edu/security}field', '{http://nrg.wustl.edu/security}element'}\n",
      "[2020-02-07 16:37:32,114] INFO: convert_xsd:949 >> === Retrieving schema from /xapi/schemas/pipeline/workflow ===\n",
      "[2020-02-07 16:37:32,114] DEBUG: session:334 >> GET URI http://10.1.1.17/xapi/schemas/pipeline/workflow\n",
      "[2020-02-07 16:37:32,123] DEBUG: session:307 >> Received response with status code: 200\n",
      "[2020-02-07 16:37:32,124] DEBUG: convert_xsd:919 >> Registering namespace: xdat  ->  http://nrg.wustl.edu/xdat\n",
      "[2020-02-07 16:37:32,125] DEBUG: convert_xsd:919 >> Registering namespace: wrk  ->  http://nrg.wustl.edu/workflow\n",
      "[2020-02-07 16:37:32,125] DEBUG: convert_xsd:919 >> Registering namespace: xs  ->  http://www.w3.org/2001/XMLSchema\n",
      "[2020-02-07 16:37:32,125] DEBUG: convert_xsd:1237 >> Adding Workflow -> wrk:workflowData to class name map\n",
      "[2020-02-07 16:37:32,126] DEBUG: convert_xsd:932 >> Found 3 unknown tags: {'{http://nrg.wustl.edu/xdat}relation', '{http://nrg.wustl.edu/security}field', '{http://nrg.wustl.edu/security}element'}\n",
      "[2020-02-07 16:37:32,126] INFO: convert_xsd:949 >> === Retrieving schema from /xapi/schemas/birn/birnprov ===\n",
      "[2020-02-07 16:37:32,127] DEBUG: session:334 >> GET URI http://10.1.1.17/xapi/schemas/birn/birnprov\n",
      "[2020-02-07 16:37:32,132] DEBUG: session:307 >> Received response with status code: 200\n",
      "[2020-02-07 16:37:32,134] DEBUG: convert_xsd:919 >> Registering namespace: xdat  ->  http://nrg.wustl.edu/xdat\n",
      "[2020-02-07 16:37:32,134] DEBUG: convert_xsd:919 >> Registering namespace: prov  ->  http://www.nbirn.net/prov\n",
      "[2020-02-07 16:37:32,135] DEBUG: convert_xsd:919 >> Registering namespace: xs  ->  http://www.w3.org/2001/XMLSchema\n",
      "[2020-02-07 16:37:32,135] DEBUG: convert_xsd:1237 >> Adding process -> prov:process to class name map\n",
      "[2020-02-07 16:37:32,136] DEBUG: convert_xsd:1295 >> CLASS: prov:processStep, PROP: user, ELEMENT: <Element '{http://nrg.wustl.edu/xdat}sqlField' at 0x000001A5DC52CF48>\n",
      "[2020-02-07 16:37:32,136] DEBUG: convert_xsd:932 >> Found 3 unknown tags: {'{http://nrg.wustl.edu/xdat}relation', '{http://nrg.wustl.edu/security}field', '{http://nrg.wustl.edu/security}element'}\n",
      "[2020-02-07 16:37:32,137] INFO: convert_xsd:949 >> === Retrieving schema from /xapi/schemas/catalog ===\n",
      "[2020-02-07 16:37:32,137] DEBUG: session:334 >> GET URI http://10.1.1.17/xapi/schemas/catalog\n",
      "[2020-02-07 16:37:32,148] DEBUG: session:307 >> Received response with status code: 200\n",
      "[2020-02-07 16:37:32,149] DEBUG: convert_xsd:919 >> Registering namespace: cat  ->  http://nrg.wustl.edu/catalog\n",
      "[2020-02-07 16:37:32,150] DEBUG: convert_xsd:919 >> Registering namespace: xs  ->  http://www.w3.org/2001/XMLSchema\n",
      "[2020-02-07 16:37:32,150] DEBUG: convert_xsd:1237 >> Adding Catalog -> cat:catalog to class name map\n",
      "[2020-02-07 16:37:32,151] DEBUG: convert_xsd:1237 >> Adding Entry -> cat:entry to class name map\n",
      "[2020-02-07 16:37:32,151] DEBUG: convert_xsd:1237 >> Adding DCMCatalog -> cat:dcmCatalog to class name map\n",
      "[2020-02-07 16:37:32,152] DEBUG: convert_xsd:932 >> Found 3 unknown tags: {'{http://nrg.wustl.edu/xdat}relation', '{http://nrg.wustl.edu/security}field', '{http://nrg.wustl.edu/security}element'}\n",
      "[2020-02-07 16:37:32,153] INFO: convert_xsd:949 >> === Retrieving schema from /xapi/schemas/project ===\n",
      "[2020-02-07 16:37:32,154] DEBUG: session:334 >> GET URI http://10.1.1.17/xapi/schemas/project\n",
      "[2020-02-07 16:37:32,168] DEBUG: session:307 >> Received response with status code: 200\n"
     ]
    },
    {
     "name": "stderr",
     "output_type": "stream",
     "text": [
      "[2020-02-07 16:37:32,170] DEBUG: convert_xsd:919 >> Registering namespace: arc  ->  http://nrg.wustl.edu/arc\n",
      "[2020-02-07 16:37:32,170] DEBUG: convert_xsd:919 >> Registering namespace: xs  ->  http://www.w3.org/2001/XMLSchema\n",
      "[2020-02-07 16:37:32,171] DEBUG: convert_xsd:919 >> Registering namespace: xdat  ->  http://nrg.wustl.edu/xdat\n",
      "[2020-02-07 16:37:32,171] DEBUG: convert_xsd:1237 >> Adding ArchiveSpecification -> None to class name map\n",
      "[2020-02-07 16:37:32,173] DEBUG: convert_xsd:932 >> Found 3 unknown tags: {'{http://nrg.wustl.edu/xdat}relation', '{http://nrg.wustl.edu/security}field', '{http://nrg.wustl.edu/security}element'}\n",
      "[2020-02-07 16:37:32,174] INFO: convert_xsd:949 >> === Retrieving schema from /xapi/schemas/validation/protocolValidation ===\n",
      "[2020-02-07 16:37:32,175] DEBUG: session:334 >> GET URI http://10.1.1.17/xapi/schemas/validation/protocolValidation\n",
      "[2020-02-07 16:37:32,194] DEBUG: session:307 >> Received response with status code: 200\n",
      "[2020-02-07 16:37:32,195] DEBUG: convert_xsd:919 >> Registering namespace: xdat  ->  http://nrg.wustl.edu/xdat\n",
      "[2020-02-07 16:37:32,196] DEBUG: convert_xsd:919 >> Registering namespace: val  ->  http://nrg.wustl.edu/val\n",
      "[2020-02-07 16:37:32,196] DEBUG: convert_xsd:919 >> Registering namespace: xnat  ->  http://nrg.wustl.edu/xnat\n",
      "[2020-02-07 16:37:32,197] DEBUG: convert_xsd:919 >> Registering namespace: xs  ->  http://www.w3.org/2001/XMLSchema\n",
      "[2020-02-07 16:37:32,198] DEBUG: convert_xsd:1241 >> Skipping non-class top-level tag {http://www.w3.org/2001/XMLSchema}import\n",
      "[2020-02-07 16:37:32,199] DEBUG: convert_xsd:1237 >> Adding ProtocolVal -> val:protocolData to class name map\n",
      "[2020-02-07 16:37:32,199] DEBUG: convert_xsd:932 >> Found 3 unknown tags: {'{http://nrg.wustl.edu/xdat}relation', '{http://nrg.wustl.edu/security}field', '{http://nrg.wustl.edu/security}element'}\n",
      "[2020-02-07 16:37:32,200] INFO: convert_xsd:949 >> === Retrieving schema from /xapi/schemas/xdat/display ===\n",
      "[2020-02-07 16:37:32,201] DEBUG: session:334 >> GET URI http://10.1.1.17/xapi/schemas/xdat/display\n",
      "[2020-02-07 16:37:32,211] DEBUG: session:307 >> Received response with status code: 200\n",
      "[2020-02-07 16:37:32,212] DEBUG: convert_xsd:919 >> Registering namespace: xs  ->  http://www.w3.org/2001/XMLSchema\n",
      "[2020-02-07 16:37:32,213] DEBUG: convert_xsd:919 >> Registering namespace: display  ->  http://nrg.wustl.edu/display\n",
      "[2020-02-07 16:37:32,213] DEBUG: convert_xsd:1237 >> Adding Displays -> None to class name map\n",
      "[2020-02-07 16:37:32,214] DEBUG: convert_xsd:1237 >> Adding Mapping -> None to class name map\n",
      "[2020-02-07 16:37:32,214] DEBUG: convert_xsd:1237 >> Adding DisplayFieldElement -> None to class name map\n",
      "[2020-02-07 16:37:32,215] DEBUG: convert_xsd:1237 >> Adding Arc-Definition -> None to class name map\n",
      "[2020-02-07 16:37:32,215] DEBUG: convert_xsd:1237 >> Adding Arc -> None to class name map\n",
      "[2020-02-07 16:37:32,216] WARNING: convert_xsd:1138 >> Encountered attribute without name\n",
      "[2020-02-07 16:37:32,217] DEBUG: convert_xsd:932 >> Found 3 unknown tags: {'{http://nrg.wustl.edu/xdat}relation', '{http://nrg.wustl.edu/security}field', '{http://nrg.wustl.edu/security}element'}\n",
      "[2020-02-07 16:37:32,217] INFO: convert_xsd:949 >> === Retrieving schema from /xapi/schemas/xdat ===\n",
      "[2020-02-07 16:37:32,218] DEBUG: session:334 >> GET URI http://10.1.1.17/xapi/schemas/xdat\n",
      "[2020-02-07 16:37:32,229] DEBUG: session:307 >> Received response with status code: 200\n",
      "[2020-02-07 16:37:32,230] DEBUG: convert_xsd:919 >> Registering namespace: xs  ->  http://www.w3.org/2001/XMLSchema\n",
      "[2020-02-07 16:37:32,230] DEBUG: convert_xsd:1237 >> Adding rule -> None to class name map\n",
      "[2020-02-07 16:37:32,231] DEBUG: convert_xsd:1237 >> Adding sqlField -> None to class name map\n",
      "[2020-02-07 16:37:32,232] DEBUG: convert_xsd:1237 >> Adding relation -> None to class name map\n",
      "[2020-02-07 16:37:32,232] DEBUG: convert_xsd:1237 >> Adding field -> None to class name map\n",
      "[2020-02-07 16:37:32,233] DEBUG: convert_xsd:1237 >> Adding sqlElement -> None to class name map\n",
      "[2020-02-07 16:37:32,233] DEBUG: convert_xsd:1237 >> Adding element -> None to class name map\n",
      "[2020-02-07 16:37:32,233] DEBUG: convert_xsd:1237 >> Adding container -> None to class name map\n",
      "[2020-02-07 16:37:32,234] DEBUG: convert_xsd:932 >> Found 3 unknown tags: {'{http://nrg.wustl.edu/xdat}relation', '{http://nrg.wustl.edu/security}field', '{http://nrg.wustl.edu/security}element'}\n",
      "[2020-02-07 16:37:32,234] INFO: convert_xsd:949 >> === Retrieving schema from /xapi/schemas/xdat/instance ===\n",
      "[2020-02-07 16:37:32,235] DEBUG: session:334 >> GET URI http://10.1.1.17/xapi/schemas/xdat/instance\n",
      "[2020-02-07 16:37:32,243] DEBUG: session:307 >> Received response with status code: 200\n",
      "[2020-02-07 16:37:32,244] DEBUG: convert_xsd:919 >> Registering namespace: xs  ->  http://www.w3.org/2001/XMLSchema\n",
      "[2020-02-07 16:37:32,245] DEBUG: convert_xsd:1237 >> Adding Instance_Settings -> None to class name map\n",
      "[2020-02-07 16:37:32,246] DEBUG: convert_xsd:932 >> Found 3 unknown tags: {'{http://nrg.wustl.edu/xdat}relation', '{http://nrg.wustl.edu/security}field', '{http://nrg.wustl.edu/security}element'}\n",
      "[2020-02-07 16:37:32,247] INFO: convert_xsd:949 >> === Retrieving schema from /xapi/schemas/xdat/PlexiViewer ===\n",
      "[2020-02-07 16:37:32,248] DEBUG: session:334 >> GET URI http://10.1.1.17/xapi/schemas/xdat/PlexiViewer\n",
      "[2020-02-07 16:37:32,257] DEBUG: session:307 >> Received response with status code: 200\n",
      "[2020-02-07 16:37:32,259] DEBUG: convert_xsd:919 >> Registering namespace: xs  ->  http://www.w3.org/2001/XMLSchema\n",
      "[2020-02-07 16:37:32,259] DEBUG: convert_xsd:1237 >> Adding Layout -> LayoutDescription to class name map\n",
      "[2020-02-07 16:37:32,260] DEBUG: convert_xsd:1237 >> Adding CropDetails -> None to class name map\n",
      "[2020-02-07 16:37:32,261] DEBUG: convert_xsd:1237 >> Adding MontageView -> None to class name map\n",
      "[2020-02-07 16:37:32,261] DEBUG: convert_xsd:1237 >> Adding Viewer -> None to class name map\n",
      "[2020-02-07 16:37:32,262] WARNING: convert_xsd:1138 >> Encountered attribute without name\n",
      "[2020-02-07 16:37:32,262] WARNING: convert_xsd:1138 >> Encountered attribute without name\n",
      "[2020-02-07 16:37:32,263] WARNING: convert_xsd:1138 >> Encountered attribute without name\n",
      "[2020-02-07 16:37:32,263] WARNING: convert_xsd:1138 >> Encountered attribute without name\n",
      "[2020-02-07 16:37:32,264] WARNING: convert_xsd:1138 >> Encountered attribute without name\n",
      "[2020-02-07 16:37:32,265] DEBUG: convert_xsd:932 >> Found 3 unknown tags: {'{http://nrg.wustl.edu/xdat}relation', '{http://nrg.wustl.edu/security}field', '{http://nrg.wustl.edu/security}element'}\n",
      "[2020-02-07 16:37:32,269] DEBUG: convert_xsd:1397 >> namespaces: {'icr': 'http://icr.ac.uk/icr', 'xdat': 'http://nrg.wustl.edu/xdat', 'xs': 'http://www.w3.org/2001/XMLSchema', 'xnat': 'http://nrg.wustl.edu/xnat', 'prov': 'http://www.nbirn.net/prov', 'xnat_a': 'http://nrg.wustl.edu/xnat_assessments', 'scr': 'http://nrg.wustl.edu/scr', 'build': 'http://nrg.wustl.edu/build', 'pipe': 'http://nrg.wustl.edu/pipe', 'wrk': 'http://nrg.wustl.edu/workflow', 'cat': 'http://nrg.wustl.edu/catalog', 'arc': 'http://nrg.wustl.edu/arc', 'val': 'http://nrg.wustl.edu/val', 'display': 'http://nrg.wustl.edu/display'}\n",
      "[2020-02-07 16:37:32,270] DEBUG: convert_xsd:1398 >> namespace prefixes: {'http://icr.ac.uk/icr': 'icr', 'http://nrg.wustl.edu/xdat': 'xdat', 'http://www.w3.org/2001/XMLSchema': 'xs', 'http://nrg.wustl.edu/xnat': 'xnat', 'http://nrg.wustl.edu/security': 'xdat', 'http://www.nbirn.net/prov': 'prov', 'http://nrg.wustl.edu/xnat_assessments': 'xnat_a', 'http://nrg.wustl.edu/scr': 'scr', 'http://nrg.wustl.edu/build': 'build', 'http://nrg.wustl.edu/pipe': 'pipe', 'http://nrg.wustl.edu/workflow': 'wrk', 'http://nrg.wustl.edu/catalog': 'cat', 'http://nrg.wustl.edu/arc': 'arc', 'http://nrg.wustl.edu/val': 'val', 'http://nrg.wustl.edu/display': 'display'}\n",
      "[2020-02-07 16:37:32,270] INFO: convert_xsd:1400 >> === Pruning data structure ===\n",
      "[2020-02-07 16:37:32,271] DEBUG: convert_xsd:1403 >> Classed before prune: {'xnatpy:PlexiViewerTypeViewableitemHi-res', 'xnat:qcScanData', 'xnatpy:projectDataFieldsField', 'build:imageSessionData', 'xnatpy:catalogEntries', 'xnatpy:studyProtocolAcqconditionsCondition', 'xnatpy:dcmCatalogVoxelres', 'xnatpy:petScanDataEcatvalidation', 'xnatpy:reconstructedImageDataInscans', 'xnatpy:compilerString', 'xnatpy:xnatExecutionEnvironmentParametersParameter', 'xnatpy:scidResearchDataSubstanceusedisorders', 'xnatpy:projectDataResources', 'display:SubQueryField', 'xdat:role_type', 'xnatpy:mrScanDataParametersDiffusion', 'xnat:imageResource', 'xnat:qcAssessmentData', 'wrk:workflowData', 'xnatpy:element_securityPrimary_security_fields', 'xnatpy:xnatExecutionEnvironmentParameterfile', 'xdat:user', 'xnat:esvSessionData', 'xnatpy:experimentDataSharingShare', 'xnatpy:samplingRateFloat', 'xnat:mrSessionData', 'xnatpy:userGroups', 'xnat:hdSessionData', 'xnatpy:eegSessionDataSamplinginterval', 'xnatpy:aliasString', 'xnatpy:PlexiViewerTypeViewableitemLo-resParameter', 'xnatpy:FieldTypeHtml-image', 'xnatpy:qcManualAssessorDataScans', 'xnat:dxScanData', 'xnat:dxSessionData', 'xnatpy:projectDataAliases', 'xnatpy:petmrSessionDataTracerIsotope', 'xnatpy:parameterString', 'xnat:abstractDemographicData', 'xnatpy:qcScanDataFieldsField', 'xnatpy:projectPipelinesDescendantsDescendantPipeline', 'xnatpy:volumetricRegionSubregions', 'xnat:abstractResource', 'xnatpy:projectDataInvestigators', 'xnatpy:abstractResourceTags', 'xnatpy:ctScanDataParametersEstimateddosesaving', 'xnatpy:totalMassFloat', 'xnatpy:reconstructedImageDataComputations', 'xnat:abstractStatistics', 'xnat:ecgScanData', 'xnat:resourceSeries', 'xnat:optScanData', 'xnatpy:studyProtocolImagesessiontypes', 'xnatpy:userAssigned_roles', 'xnatpy:ctScanDataParametersFov', 'xnat:resourceCatalog', 'xnat:smScanData', 'xnatpy:projectPipelinesDescendantsDescendant', 'xnatpy:subjectDataFieldsField', 'xnatpy:petScanDataParametersFilter', 'xnatpy:subjectVariablesDataVariables', 'xnatpy:updrs3DataHandsram', 'xnatpy:projectPipelinesPipeline', 'xnatpy:fieldDefinitionGroupFieldsFieldPossiblevaluesPossiblevalue', 'xnatpy:protocolDataCheckConditions', 'xdat:field_mapping', 'xnatpy:scidResearchDataSomatoformdisorders', 'xnatpy:pipelineDetailsParameters', 'xnatpy:pipelineDetailsParametersParameterValues', 'xnatpy:petmrSessionDataTracerTotalmass', 'xnat:otherDicomScanData', 'xnatpy:projectDataPublications', 'xnat:imageAssessorData', 'LayoutDescription', 'arc:property', 'xnatpy:metaFieldString', 'xnatpy:LayoutDescriptionCoordinates', 'xnatpy:SubQueryFieldMappingcolumns', 'xnatpy:propertyString', 'xnat:otherQcScanData', 'xnatpy:ygtssDataPhonic', 'xnatpy:roiCollectionDataReferences', 'xnatpy:subjectDataExperiments', 'xnat:smSessionData', 'xnatpy:scidResearchDataPsychoticdisorders', 'xnatpy:studyProtocolSubjectgroupsGroup', 'xnatpy:eegScanDataChannelsChannel', 'xdat:element_action_type', 'xnat:mrsScanData', 'xnatpy:catalogSets', 'xnatpy:eegScanDataChannels', 'xnatpy:eegSessionDataSamplingrate', 'xnatpy:fieldString', 'xnatpy:experimentDataDelay', 'xnatpy:statisticsDataAdditionalstatistics', 'icr:roiCollectionData', 'xnat:abstractProtocol', 'xnat:mgSessionData', 'xnatpy:petScanDataParametersResolution', 'xnat:gmScanData', 'xnat:contrastBolus', 'xnat:dicomCodedValue', 'xnatpy:ctScanDataDcmvalidation', 'xnatpy:projectPipelines', 'xnatpy:protocolDataScansScan_checkConditions', 'xnatpy:samplingIntervalFloat', 'xnatpy:updrs3DataFingertaps', 'xnatpy:PlexiViewerTypeViewableitemThumbnail', 'xnatpy:FieldTypeHtml-linkPropertyInsertvalue', 'xnatpy:element_securityListing_actionsListing_action', 'xnatpy:regionResourceSubregionlabels', 'xnatpy:pipelineDetailsParametersParameter', 'xnat:opScanData', 'xnat:subjectVariablesData', 'xnatpy:stored_searchSort_by', 'xnatpy:qcAssessmentDataScansScan', 'xnat:esvScanData', 'arc:pipelineData', 'xnatpy:FieldTypeHtml-link', 'xnat:computationData', 'xnatpy:catalogMetafields', 'xdat:stored_search', 'cat:catalog', 'xnatpy:subjectDataSharing', 'xnatpy:ratingString', 'xnatpy:commentString', 'xnat:studyProtocol', 'xnatpy:scidResearchDataOptional', 'xnat:imageResourceSeries', 'xnatpy:dcmValidationString', 'xnatpy:updrs3DataClicker', 'xnatpy:protocolDataCheckComments', 'xnatpy:subjectDataFields', 'xnat:esSessionData', 'xnatpy:heightFloat', 'xnat:statisticsData', 'xnatpy:imageAssessorDataIn', 'arc:project', 'xnatpy:updrs3DataTremorrest', 'xnatpy:optScanDataDcmvalidation', 'xnatpy:element_securityListing_actions', 'xnatpy:FieldTypeHtml-linkProperty', 'xnat:publicationResource', 'xnatpy:projectPipelinesDescendants', 'xnatpy:labelString', 'arc:fieldSpecification', 'xnatpy:eegScanDataParametersDatarecord', 'xdat:newsEntry', 'display:HTML-Cell', 'xnatpy:imageSessionDataReconstructions', 'xnatpy:mrScanDataParametersMatrix', 'xnatpy:qcAssessmentDataScansScanSliceqc', 'xdat:LONGVARCHAR', 'xnatpy:imageSessionDataScans', 'arc:pathInfo', 'xnatpy:stored_searchAllowed_user', 'xnatpy:qcScanDataFields', 'xnatpy:studyProtocolSubjectvariablesVariable', 'xnat:gmSessionData', 'xnatpy:experimentDataResources', 'xnatpy:regionResourceCreator', 'xnatpy:petScanDataParameters', 'xnatpy:reconstructedImageDataParameters', 'xnatpy:processStepLibrary', 'xnatpy:studyProtocolSubjectgroups', 'xnatpy:subjectDataResources', 'val:additionalVal', 'xnatpy:estimatedDoseSavingFloat', 'xnatpy:volumetricRegionSubregionsSubregion', 'arc:pipelineParameterData', 'xnatpy:imageScanDataScanner', 'xnat:gmvSessionData', 'xnatpy:processStepProgram', 'xnatpy:protocolDataScans', 'xnat:nmScanData', 'xnatpy:petSessionDataTracerIsotope', 'xnatpy:petScanDataParametersRfilter', 'xnatpy:qcAssessmentDataScans', 'xnatpy:protocolDataScansScan_checkConditionsCondition', 'xnatpy:projectProperties', 'xnatpy:demographicDataHeight', 'xnat:projectParticipant', 'xnatpy:dicomSeriesImagesetImage', 'val:protocolData', 'xnat:petAssessorData', 'xnat:megScanData', 'xnatpy:petScanDataParametersOffset', 'xnatpy:qcScanDataRating', 'build:buildData', 'xnatpy:eegScanDataSoftwarefiltersimpedances', 'xnatpy:protocolDataScansScan_checkCommentsComment', 'xnat:rtSessionData', 'xnatpy:stored_searchAllowed_groups', 'xnat:resource', 'xnatpy:scidResearchDataMooddisorders', 'xnatpy:imageAssessorDataOut', 'xdat:action_type', 'xnat:derivedData', 'xnat:rtImageScanData', 'xnatpy:platformString', 'xnatpy:imageAssessorDataParameters', 'xnatpy:xnatExecutionEnvironmentParameters', 'xnatpy:petSessionDataTracerDose', 'xdat:primary_security_field', 'xnat:voiceAudioScanData', 'xnatpy:imageResourceDimensions', 'xnat:dx3DCraniofacialSessionData', 'xnat:petScanData', 'xdat:access_log', 'xnat:imageScanData', 'xnatpy:mrScanDataParametersInplanephaseencoding', 'xnatpy:imageScanDataSharingShare', 'xnat_a:ybocsData', 'xdat:user_login', 'xnatpy:ctScanDataParametersDerivation', 'xnatpy:petSessionDataTracerIntermediate', 'xnat:petQcScanData', 'xnatpy:primary_security_fieldString', 'xnatpy:PlexiViewerTypeViewableitemLo-res', 'xnatpy:fieldSpecificationString', 'xnatpy:screeningAssessmentScans', 'xdat:field_mapping_set', 'xnatpy:optScanDataParameters', 'xnatpy:updrs3DataHandmovementsgrip', 'xnat:ctScanData', 'xnat:eegSessionData', 'xnatpy:subjectDataAddid', 'xnatpy:ygtssDataMotor', 'xnatpy:optScanDataParametersVoxelres', 'xnatpy:protocolDataScansScan_check', 'xnat:demographicData', 'cat:dcmEntry', 'xnatpy:fieldDefinitionGroupFieldsField', 'xnatpy:ctScanDataParametersVoxelres', 'xdat:criteria', 'xnatpy:mrScanDataParametersVoxelres', 'xnat:validationData', 'xnat:rfScanData', 'xnat:abstractSubjectMetadata', 'xnat:petSessionData', 'xnatpy:protocolDataCheckCommentsComment', 'xnatpy:FieldTypeHtml-linkSecurelink', 'xnatpy:pipelineParameterDataParameter', 'xdat:history', 'xnatpy:projectDataFields', 'PlexiViewerType', 'xnatpy:additionalStatisticsDouble', 'build:pipelineData', 'xnatpy:csvValuesString', 'xnatpy:petQcScanDataProcessingerrors', 'xnatpy:petmrSessionDataTracer', 'xnatpy:qcAssessmentDataScansScanSliceqcSlice', 'xnatpy:PlexiViewerTypeViewableitemHi-resLayer', 'xnatpy:PlexiViewerTypeViewableitemThumbnailSlice', 'xnatpy:PlexiViewerTypeViewableitemUserinterface', 'xnatpy:dicomSeriesImageset', 'xnat:petmrSessionData', 'xnat_a:ygtssData', 'xnatpy:addIDString', 'xdat:element_security', 'prov:processStep', 'xnat:subjectMetadata', 'xnat:regionResource', 'xnatpy:statisticsDataAddfield', 'xnatpy:imageScanDataSharing', 'xnatpy:tagString', 'xnatpy:petScanDataParametersFrames', 'xnatpy:ctScanDataParametersCollimationwidth', 'xnatpy:catalogTags', 'xnat:epsSessionData', 'xnat:projectData', 'xnat:eegScanData', 'xnat:xa3DSessionData', 'xnat:usScanData', 'xnat:xcvScanData', 'xdat:criteria_set', 'xnat:crScanData', 'xnatpy:eegScanDataParameters', 'xnatpy:mrScanDataDcmvalidation', 'xnatpy:doseFloat', 'xnatpy:experimentDataSharing', 'xnatpy:ctScanDataParameters', 'xnat:usSessionData', 'xnatpy:petSessionDataTracer', 'xnatpy:updrs3DataRigidity', 'xnatpy:entryMetafieldsMetafield', 'xnatpy:petScanDataParametersZfilter', 'xnat:reconstructedImageData', 'xnat:esScanData', 'xnatpy:subjectVariablesDataVariablesVariable', 'xnatpy:ctScanDataParametersFocalspots', 'xnat:dicomSeries', 'xnat:ctSessionData', 'xnat:subjectAssessorData', 'xnat:segScanData', 'xnatpy:updrs3DataFoottaps', 'xnatpy:primary_passwordString', 'cat:dcmCatalog', 'xnatpy:fieldDefinitionGroupFields', 'xnatpy:projectFieldspecifications', 'wrk:xnatExecutionEnvironment', 'xnatpy:petScanDataParametersPixelsize', 'xnat:ioScanData', 'xnatpy:studyProtocolSubjectvariables', 'scr:screeningAssessment', 'xnatpy:pipelineDataParameters', 'xnat_a:scidResearchData', 'xnat:nmSessionData', 'xnatpy:imageResourceVoxelres', 'xnatpy:protocolDataCheck', 'cat:entry', 'xnatpy:FieldTypeContent', 'xnatpy:petScanDataParametersDimensions', 'xnatpy:element_securityElement_actions', 'xdat:change_info', 'xnatpy:ContentString', 'xnatpy:libraryString', 'xnat:opSessionData', 'xnatpy:scannerString', 'xnatpy:studyProtocolImagesessiontypesSession', 'xnatpy:protocolDataCheckConditionsCondition', 'xnat:xaScanData', 'prov:process', 'xnatpy:imageSessionDataScanner', 'xnatpy:dicomSeriesVoxelres', 'xnatpy:PlexiViewerTypeViewableitemHi-resLayoutref', 'xnat:subjectData', 'xnat:genericData', 'xnatpy:FieldTypeHtml-linkSecurelinkSecuritymappingvalue', 'xnatpy:pipelineParameterDataCsvvalues', 'SchemaLinkType', 'xnatpy:weightFloat', 'xnat:srScanData', 'xdat:infoEntry', 'xnatpy:updrs3DataActionposturaltremor', 'xnatpy:possibleValueString', 'xnat:xa3DScanData', 'xnat:mgScanData', 'xnatpy:petScanDataParametersFramesFrame', 'xdat:search_field', 'xnatpy:eegScanDataSoftwarefiltersimpedancesImpedance', 'xnatpy:reconstructedImageDataOut', 'xnatpy:PlexiViewerTypeViewableitemUserinterfaceLinkeddropdown', 'xnatpy:xaScanDataParametersFov', 'xnat:fieldDefinitionGroup', 'xnat:mrScanData', 'xnatpy:dicomSeriesDimensions', 'xnatpy:datatypeProtocolDefinitions', 'xnatpy:imageSessionDataPipeline', 'xnat:datatypeProtocol', 'xnat:ioSessionData', 'xnatpy:mrScanDataParameters', 'xnatpy:isotopeString', 'xnatpy:shareString', 'xnatpy:scidResearchDataEatingdisorders', 'xnatpy:fieldDefinitionGroupFieldsFieldPossiblevalues', 'xnat:otherDicomSessionData', 'scr:screeningScanData', 'xnatpy:demographicDataWeight', 'xnat:xcvSessionData', 'xnatpy:protocolDataScansScan_checkComments', 'xnat:megSessionData', 'xnatpy:intermediateFloat', 'xnatpy:imageResourceSeriesVoxelres', 'xnatpy:ecatValidationString', 'xnatpy:xaScanDataParametersPixelres', 'xnatpy:dcmCatalogDimensions', 'xnat:investigatorData', 'xnatpy:delayInteger', 'xnatpy:scidResearchDataAnxietydisorders', 'xnatpy:processStepPlatform', 'xnatpy:imageSessionDataRegions', 'xnat:gmvScanData', 'xnatpy:scidResearchDataPsychoticsymptoms', 'xdat:userGroup', 'xnat:scScanData', 'xnatpy:projectDataAliasesAlias', 'xnatpy:programString', 'xnat:mrAssessorData', 'xnatpy:reconstructedImageDataIn', 'xnat:experimentData', 'xnatpy:experimentDataFields', 'xnat:epsScanData', 'xnatpy:imageResourceSeriesDimensions', 'xnatpy:PlexiViewerTypeViewableitem', 'xnat:qcManualAssessorData', 'build:pipelineParameterData', 'xnatpy:imageSessionDataAssessors', 'xnat:dx3DCraniofacialScanData', 'display:FieldType', 'xnatpy:studyProtocolAcqconditions', 'xnatpy:petmrSessionDataTracerDose', 'pipe:pipelineDetails', 'xnat:xaSessionData', 'xnat:xcScanData', 'xnatpy:processStepCompiler', 'xnatpy:ctScanDataParametersRescale', 'xdat:meta_data', 'xnatpy:catalogMetafieldsMetafield', 'xnatpy:optScanDataParametersFov', 'xnatpy:PlexiViewerTypeViewableitemSchemalink', 'xnat:srSessionData', 'xnatpy:pipelineDetailsGenerateselements', 'xnatpy:scidResearchDataMoodepisodes', 'xnatpy:role_typeAllowed_actions', 'xnat:imageSessionData', 'xnat:addField', 'xnat:rfSessionData', 'xnatpy:userPrimary_password', 'wrk:abstractExecutionEnvironment', 'xnatpy:entryTags', 'xnat_a:updrs3Data', 'xnatpy:petmrSessionDataTracerIntermediate', 'xnat:pVisitData', 'xnatpy:variableString', 'xnatpy:petSessionDataTracerTotalmass', 'xnatpy:SubQueryFieldMappingcolumnsMappingcolumn', 'xnatpy:derivationString', 'xnat_a:sideEffectsPittsburghData', 'xnatpy:addFieldString', 'xnat:volumetricRegion', 'xnatpy:entryMetafields', 'xnat:mrQcScanData', 'xnat:optSessionData', 'xnat:crSessionData', 'xnat:ecgSessionData', 'xnatpy:regionResourceSubregionlabelsLabel', 'xnatpy:experimentDataFieldsField', 'xnat:algorithm', 'xnatpy:mrScanDataParametersFov', 'xnatpy:xaScanDataParameters', 'xnat:hdScanData', 'xnat:xcSessionData', 'xnatpy:abstractResourceTagsTag'}\n"
     ]
    },
    {
     "name": "stderr",
     "output_type": "stream",
     "text": [
      "[2020-02-07 16:37:32,272] INFO: convert_xsd:1356 >> Removing class xnatpy:roiCollectionDataReferences from parser, it only has one element!\n",
      "[2020-02-07 16:37:32,273] INFO: convert_xsd:1356 >> Removing class xnatpy:role_typeAllowed_actions from parser, it only has one element!\n",
      "[2020-02-07 16:37:32,273] INFO: convert_xsd:1356 >> Removing class xnatpy:element_securityPrimary_security_fields from parser, it only has one element!\n",
      "[2020-02-07 16:37:32,274] INFO: convert_xsd:1356 >> Removing class xnatpy:element_securityElement_actions from parser, it only has one element!\n",
      "[2020-02-07 16:37:32,274] INFO: convert_xsd:1356 >> Removing class xnatpy:element_securityListing_actions from parser, it only has one element!\n",
      "[2020-02-07 16:37:32,274] DEBUG: convert_xsd:1362 >> Ignoring non-listing...\n",
      "[2020-02-07 16:37:32,275] DEBUG: convert_xsd:1363 >> Element class: {'parser': <xnat.convert_xsd.SchemaParser object at 0x000001A5DC3891C8>, 'name': 'xnatpy:userPrimary_password', 'logger': <Logger xnat-540681bf052587e8ba9fee53609ca631 (DEBUG)>, 'field_name': 'primary_password', 'parent_class': 'xdat:user', 'parent_property': <AttributePrototype [subobject] primary_password>, 'attributes': OrderedDict([('encrypt', <AttributePrototype [property] encrypt>)]), 'base_class': 'xnatpy:primary_passwordString', 'display_identifier': None, 'abstract': False, '_simple': False, '_writer': None, 'source_schema': '/xapi/schemas/security'}\n",
      "[2020-02-07 16:37:32,275] INFO: convert_xsd:1356 >> Removing class xnatpy:userAssigned_roles from parser, it only has one element!\n",
      "[2020-02-07 16:37:32,276] INFO: convert_xsd:1356 >> Removing class xnatpy:userGroups from parser, it only has one element!\n",
      "[2020-02-07 16:37:32,276] DEBUG: convert_xsd:1362 >> Ignoring non-listing...\n",
      "[2020-02-07 16:37:32,277] DEBUG: convert_xsd:1363 >> Element class: {'parser': <xnat.convert_xsd.SchemaParser object at 0x000001A5DC3891C8>, 'name': 'xnatpy:stored_searchAllowed_user', 'logger': <Logger xnat-540681bf052587e8ba9fee53609ca631 (DEBUG)>, 'field_name': 'allowed_user', 'parent_class': 'xdat:stored_search', 'parent_property': <AttributePrototype [listing] allowed_user>, 'attributes': OrderedDict([('login', <AttributePrototype [property] login>)]), 'base_class': None, 'display_identifier': None, 'abstract': False, '_simple': False, '_writer': None, 'source_schema': '/xapi/schemas/security'}\n",
      "[2020-02-07 16:37:32,277] INFO: convert_xsd:1356 >> Removing class xnatpy:stored_searchAllowed_groups from parser, it only has one element!\n",
      "[2020-02-07 16:37:32,278] INFO: convert_xsd:1356 >> Removing class xnatpy:projectDataAliases from parser, it only has one element!\n",
      "[2020-02-07 16:37:32,278] INFO: convert_xsd:1356 >> Removing class xnatpy:projectDataPublications from parser, it only has one element!\n",
      "[2020-02-07 16:37:32,279] INFO: convert_xsd:1356 >> Removing class xnatpy:projectDataResources from parser, it only has one element!\n",
      "[2020-02-07 16:37:32,280] INFO: convert_xsd:1356 >> Removing class xnatpy:projectDataInvestigators from parser, it only has one element!\n",
      "[2020-02-07 16:37:32,280] INFO: convert_xsd:1356 >> Removing class xnatpy:projectDataFields from parser, it only has one element!\n",
      "[2020-02-07 16:37:32,280] DEBUG: convert_xsd:1362 >> Ignoring non-listing...\n",
      "[2020-02-07 16:37:32,281] DEBUG: convert_xsd:1363 >> Element class: {'parser': <xnat.convert_xsd.SchemaParser object at 0x000001A5DC3891C8>, 'name': 'xnatpy:projectDataAliases', 'logger': <Logger xnat-540681bf052587e8ba9fee53609ca631 (DEBUG)>, 'field_name': 'aliases/alias', 'parent_class': 'xnat:projectData', 'parent_property': <AttributePrototype [listing] aliases>, 'attributes': OrderedDict([('source', <AttributePrototype [property] source>)]), 'base_class': 'xnatpy:aliasString', 'display_identifier': None, 'abstract': False, '_simple': False, '_writer': None, 'source_schema': '/xapi/schemas/xnat'}\n",
      "[2020-02-07 16:37:32,281] DEBUG: convert_xsd:1362 >> Ignoring non-listing...\n",
      "[2020-02-07 16:37:32,282] DEBUG: convert_xsd:1363 >> Element class: {'parser': <xnat.convert_xsd.SchemaParser object at 0x000001A5DC3891C8>, 'name': 'xnatpy:projectDataFields', 'logger': <Logger xnat-540681bf052587e8ba9fee53609ca631 (DEBUG)>, 'field_name': 'fields/field', 'parent_class': 'xnat:projectData', 'parent_property': <AttributePrototype [listing] fields>, 'attributes': OrderedDict([('name', <AttributePrototype [property] name>)]), 'base_class': 'xnatpy:fieldString', 'display_identifier': None, 'abstract': False, '_simple': False, '_writer': None, 'source_schema': '/xapi/schemas/xnat'}\n",
      "[2020-02-07 16:37:32,283] INFO: convert_xsd:1356 >> Removing class xnatpy:subjectDataSharing from parser, it only has one element!\n",
      "[2020-02-07 16:37:32,283] INFO: convert_xsd:1356 >> Removing class xnatpy:subjectDataResources from parser, it only has one element!\n",
      "[2020-02-07 16:37:32,284] DEBUG: convert_xsd:1362 >> Ignoring non-listing...\n",
      "[2020-02-07 16:37:32,285] DEBUG: convert_xsd:1363 >> Element class: {'parser': <xnat.convert_xsd.SchemaParser object at 0x000001A5DC3891C8>, 'name': 'xnatpy:subjectDataAddid', 'logger': <Logger xnat-540681bf052587e8ba9fee53609ca631 (DEBUG)>, 'field_name': 'addID', 'parent_class': 'xnat:subjectData', 'parent_property': <AttributePrototype [listing] addID>, 'attributes': OrderedDict([('name', <AttributePrototype [property] name>)]), 'base_class': 'xnatpy:addIDString', 'display_identifier': None, 'abstract': False, '_simple': False, '_writer': None, 'source_schema': '/xapi/schemas/xnat'}\n",
      "[2020-02-07 16:37:32,285] INFO: convert_xsd:1356 >> Removing class xnatpy:subjectDataFields from parser, it only has one element!\n",
      "[2020-02-07 16:37:32,286] INFO: convert_xsd:1356 >> Removing class xnatpy:subjectDataExperiments from parser, it only has one element!\n",
      "[2020-02-07 16:37:32,286] DEBUG: convert_xsd:1362 >> Ignoring non-listing...\n",
      "[2020-02-07 16:37:32,286] DEBUG: convert_xsd:1363 >> Element class: {'parser': <xnat.convert_xsd.SchemaParser object at 0x000001A5DC3891C8>, 'name': 'xnatpy:subjectDataFields', 'logger': <Logger xnat-540681bf052587e8ba9fee53609ca631 (DEBUG)>, 'field_name': 'fields/field', 'parent_class': 'xnat:subjectData', 'parent_property': <AttributePrototype [listing] fields>, 'attributes': OrderedDict([('name', <AttributePrototype [property] name>)]), 'base_class': 'xnatpy:fieldString', 'display_identifier': None, 'abstract': False, '_simple': False, '_writer': None, 'source_schema': '/xapi/schemas/xnat'}\n",
      "[2020-02-07 16:37:32,287] INFO: convert_xsd:1356 >> Removing class xnatpy:experimentDataSharing from parser, it only has one element!\n",
      "[2020-02-07 16:37:32,287] DEBUG: convert_xsd:1362 >> Ignoring non-listing...\n",
      "[2020-02-07 16:37:32,288] DEBUG: convert_xsd:1363 >> Element class: {'parser': <xnat.convert_xsd.SchemaParser object at 0x000001A5DC3891C8>, 'name': 'xnatpy:experimentDataDelay', 'logger': <Logger xnat-540681bf052587e8ba9fee53609ca631 (DEBUG)>, 'field_name': 'delay', 'parent_class': 'xnat:experimentData', 'parent_property': <AttributePrototype [subobject] delay>, 'attributes': OrderedDict([('ref_expt_id', <AttributePrototype [property] ref_expt_id>)]), 'base_class': 'xnatpy:delayInteger', 'display_identifier': None, 'abstract': False, '_simple': False, '_writer': None, 'source_schema': '/xapi/schemas/xnat'}\n",
      "[2020-02-07 16:37:32,289] INFO: convert_xsd:1356 >> Removing class xnatpy:experimentDataResources from parser, it only has one element!\n",
      "[2020-02-07 16:37:32,289] INFO: convert_xsd:1356 >> Removing class xnatpy:experimentDataFields from parser, it only has one element!\n",
      "[2020-02-07 16:37:32,290] DEBUG: convert_xsd:1362 >> Ignoring non-listing...\n",
      "[2020-02-07 16:37:32,290] DEBUG: convert_xsd:1363 >> Element class: {'parser': <xnat.convert_xsd.SchemaParser object at 0x000001A5DC3891C8>, 'name': 'xnatpy:experimentDataFields', 'logger': <Logger xnat-540681bf052587e8ba9fee53609ca631 (DEBUG)>, 'field_name': 'fields/field', 'parent_class': 'xnat:experimentData', 'parent_property': <AttributePrototype [listing] fields>, 'attributes': OrderedDict([('name', <AttributePrototype [property] name>)]), 'base_class': 'xnatpy:fieldString', 'display_identifier': None, 'abstract': False, '_simple': False, '_writer': None, 'source_schema': '/xapi/schemas/xnat'}\n",
      "[2020-02-07 16:37:32,291] DEBUG: convert_xsd:1362 >> Ignoring non-listing...\n"
     ]
    },
    {
     "name": "stderr",
     "output_type": "stream",
     "text": [
      "[2020-02-07 16:37:32,291] DEBUG: convert_xsd:1363 >> Element class: {'parser': <xnat.convert_xsd.SchemaParser object at 0x000001A5DC3891C8>, 'name': 'xnatpy:demographicDataWeight', 'logger': <Logger xnat-540681bf052587e8ba9fee53609ca631 (DEBUG)>, 'field_name': 'weight', 'parent_class': 'xnat:demographicData', 'parent_property': <AttributePrototype [subobject] weight>, 'attributes': OrderedDict([('units', <AttributePrototype [property] units>)]), 'base_class': 'xnatpy:weightFloat', 'display_identifier': None, 'abstract': False, '_simple': False, '_writer': None, 'source_schema': '/xapi/schemas/xnat'}\n",
      "[2020-02-07 16:37:32,291] DEBUG: convert_xsd:1362 >> Ignoring non-listing...\n",
      "[2020-02-07 16:37:32,292] DEBUG: convert_xsd:1363 >> Element class: {'parser': <xnat.convert_xsd.SchemaParser object at 0x000001A5DC3891C8>, 'name': 'xnatpy:demographicDataHeight', 'logger': <Logger xnat-540681bf052587e8ba9fee53609ca631 (DEBUG)>, 'field_name': 'height', 'parent_class': 'xnat:demographicData', 'parent_property': <AttributePrototype [subobject] height>, 'attributes': OrderedDict([('units', <AttributePrototype [property] units>)]), 'base_class': 'xnatpy:heightFloat', 'display_identifier': None, 'abstract': False, '_simple': False, '_writer': None, 'source_schema': '/xapi/schemas/xnat'}\n",
      "[2020-02-07 16:37:32,292] INFO: convert_xsd:1356 >> Removing class xnatpy:subjectVariablesDataVariables from parser, it only has one element!\n",
      "[2020-02-07 16:37:32,292] DEBUG: convert_xsd:1362 >> Ignoring non-listing...\n",
      "[2020-02-07 16:37:32,293] DEBUG: convert_xsd:1363 >> Element class: {'parser': <xnat.convert_xsd.SchemaParser object at 0x000001A5DC3891C8>, 'name': 'xnatpy:subjectVariablesDataVariables', 'logger': <Logger xnat-540681bf052587e8ba9fee53609ca631 (DEBUG)>, 'field_name': 'variables/variable', 'parent_class': 'xnat:subjectVariablesData', 'parent_property': <AttributePrototype [listing] variables>, 'attributes': OrderedDict([('name', <AttributePrototype [property] name>)]), 'base_class': 'xnatpy:variableString', 'display_identifier': None, 'abstract': False, '_simple': False, '_writer': None, 'source_schema': '/xapi/schemas/xnat'}\n",
      "[2020-02-07 16:37:32,293] INFO: convert_xsd:1356 >> Removing class xnatpy:imageSessionDataRegions from parser, it only has one element!\n",
      "[2020-02-07 16:37:32,293] INFO: convert_xsd:1356 >> Removing class xnatpy:imageSessionDataScans from parser, it only has one element!\n",
      "[2020-02-07 16:37:32,294] INFO: convert_xsd:1356 >> Removing class xnatpy:imageSessionDataReconstructions from parser, it only has one element!\n",
      "[2020-02-07 16:37:32,294] INFO: convert_xsd:1356 >> Removing class xnatpy:imageSessionDataAssessors from parser, it only has one element!\n",
      "[2020-02-07 16:37:32,295] DEBUG: convert_xsd:1362 >> Ignoring non-listing...\n",
      "[2020-02-07 16:37:32,295] DEBUG: convert_xsd:1363 >> Element class: {'parser': <xnat.convert_xsd.SchemaParser object at 0x000001A5DC3891C8>, 'name': 'xnatpy:mrScanDataDcmvalidation', 'logger': <Logger xnat-540681bf052587e8ba9fee53609ca631 (DEBUG)>, 'field_name': 'dcmValidation', 'parent_class': 'xnat:mrScanData', 'parent_property': <AttributePrototype [subobject] dcmValidation>, 'attributes': OrderedDict([('status', <AttributePrototype [property] status>)]), 'base_class': 'xnatpy:dcmValidationString', 'display_identifier': None, 'abstract': False, '_simple': False, '_writer': None, 'source_schema': '/xapi/schemas/xnat'}\n",
      "[2020-02-07 16:37:32,295] INFO: convert_xsd:1356 >> Removing class xnatpy:reconstructedImageDataInscans from parser, it only has one element!\n",
      "[2020-02-07 16:37:32,296] INFO: convert_xsd:1356 >> Removing class xnatpy:reconstructedImageDataIn from parser, it only has one element!\n",
      "[2020-02-07 16:37:32,297] INFO: convert_xsd:1356 >> Removing class xnatpy:reconstructedImageDataOut from parser, it only has one element!\n",
      "[2020-02-07 16:37:32,297] INFO: convert_xsd:1356 >> Removing class xnatpy:reconstructedImageDataParameters from parser, it only has one element!\n",
      "[2020-02-07 16:37:32,298] INFO: convert_xsd:1356 >> Removing class xnatpy:reconstructedImageDataComputations from parser, it only has one element!\n",
      "[2020-02-07 16:37:32,298] INFO: convert_xsd:1356 >> Removing class xnatpy:volumetricRegionSubregions from parser, it only has one element!\n",
      "[2020-02-07 16:37:32,298] INFO: convert_xsd:1356 >> Removing class xnatpy:abstractResourceTags from parser, it only has one element!\n",
      "[2020-02-07 16:37:32,299] DEBUG: convert_xsd:1362 >> Ignoring non-listing...\n",
      "[2020-02-07 16:37:32,299] DEBUG: convert_xsd:1363 >> Element class: {'parser': <xnat.convert_xsd.SchemaParser object at 0x000001A5DC3891C8>, 'name': 'xnatpy:abstractResourceTags', 'logger': <Logger xnat-540681bf052587e8ba9fee53609ca631 (DEBUG)>, 'field_name': 'tags/tag', 'parent_class': 'xnat:abstractResource', 'parent_property': <AttributePrototype [listing] tags>, 'attributes': OrderedDict([('name', <AttributePrototype [property] name>)]), 'base_class': 'xnatpy:tagString', 'display_identifier': None, 'abstract': False, '_simple': False, '_writer': None, 'source_schema': '/xapi/schemas/xnat'}\n",
      "[2020-02-07 16:37:32,299] INFO: convert_xsd:1356 >> Removing class xnatpy:dicomSeriesImageset from parser, it only has one element!\n",
      "[2020-02-07 16:37:32,300] INFO: convert_xsd:1356 >> Removing class xnatpy:studyProtocolAcqconditions from parser, it only has one element!\n",
      "[2020-02-07 16:37:32,300] INFO: convert_xsd:1356 >> Removing class xnatpy:studyProtocolSubjectgroups from parser, it only has one element!\n",
      "[2020-02-07 16:37:32,301] INFO: convert_xsd:1356 >> Removing class xnatpy:studyProtocolSubjectvariables from parser, it only has one element!\n",
      "[2020-02-07 16:37:32,301] INFO: convert_xsd:1356 >> Removing class xnatpy:studyProtocolImagesessiontypes from parser, it only has one element!\n",
      "[2020-02-07 16:37:32,302] DEBUG: convert_xsd:1362 >> Ignoring non-listing...\n",
      "[2020-02-07 16:37:32,302] DEBUG: convert_xsd:1363 >> Element class: {'parser': <xnat.convert_xsd.SchemaParser object at 0x000001A5DC3891C8>, 'name': 'xnatpy:petSessionDataTracerDose', 'logger': <Logger xnat-540681bf052587e8ba9fee53609ca631 (DEBUG)>, 'field_name': 'dose', 'parent_class': 'xnatpy:petSessionDataTracer', 'parent_property': <AttributePrototype [subobject] dose>, 'attributes': OrderedDict([('units', <AttributePrototype [property] units>)]), 'base_class': 'xnatpy:doseFloat', 'display_identifier': None, 'abstract': False, '_simple': False, '_writer': None, 'source_schema': '/xapi/schemas/xnat'}\n",
      "[2020-02-07 16:37:32,303] DEBUG: convert_xsd:1362 >> Ignoring non-listing...\n",
      "[2020-02-07 16:37:32,303] DEBUG: convert_xsd:1363 >> Element class: {'parser': <xnat.convert_xsd.SchemaParser object at 0x000001A5DC3891C8>, 'name': 'xnatpy:petSessionDataTracerTotalmass', 'logger': <Logger xnat-540681bf052587e8ba9fee53609ca631 (DEBUG)>, 'field_name': 'totalMass', 'parent_class': 'xnatpy:petSessionDataTracer', 'parent_property': <AttributePrototype [subobject] totalMass>, 'attributes': OrderedDict([('units', <AttributePrototype [property] units>)]), 'base_class': 'xnatpy:totalMassFloat', 'display_identifier': None, 'abstract': False, '_simple': False, '_writer': None, 'source_schema': '/xapi/schemas/xnat'}\n",
      "[2020-02-07 16:37:32,304] DEBUG: convert_xsd:1362 >> Ignoring non-listing...\n",
      "[2020-02-07 16:37:32,304] DEBUG: convert_xsd:1363 >> Element class: {'parser': <xnat.convert_xsd.SchemaParser object at 0x000001A5DC3891C8>, 'name': 'xnatpy:petSessionDataTracerIntermediate', 'logger': <Logger xnat-540681bf052587e8ba9fee53609ca631 (DEBUG)>, 'field_name': 'intermediate', 'parent_class': 'xnatpy:petSessionDataTracer', 'parent_property': <AttributePrototype [subobject] intermediate>, 'attributes': OrderedDict([('units', <AttributePrototype [property] units>)]), 'base_class': 'xnatpy:intermediateFloat', 'display_identifier': None, 'abstract': False, '_simple': False, '_writer': None, 'source_schema': '/xapi/schemas/xnat'}\n",
      "[2020-02-07 16:37:32,304] DEBUG: convert_xsd:1362 >> Ignoring non-listing...\n",
      "[2020-02-07 16:37:32,305] DEBUG: convert_xsd:1363 >> Element class: {'parser': <xnat.convert_xsd.SchemaParser object at 0x000001A5DC3891C8>, 'name': 'xnatpy:petSessionDataTracerIsotope', 'logger': <Logger xnat-540681bf052587e8ba9fee53609ca631 (DEBUG)>, 'field_name': 'isotope', 'parent_class': 'xnatpy:petSessionDataTracer', 'parent_property': <AttributePrototype [subobject] isotope>, 'attributes': OrderedDict([('half-life', <AttributePrototype [property] half-life>)]), 'base_class': 'xnatpy:isotopeString', 'display_identifier': None, 'abstract': False, '_simple': False, '_writer': None, 'source_schema': '/xapi/schemas/xnat'}\n"
     ]
    },
    {
     "name": "stderr",
     "output_type": "stream",
     "text": [
      "[2020-02-07 16:37:32,305] DEBUG: convert_xsd:1362 >> Ignoring non-listing...\n",
      "[2020-02-07 16:37:32,306] DEBUG: convert_xsd:1363 >> Element class: {'parser': <xnat.convert_xsd.SchemaParser object at 0x000001A5DC3891C8>, 'name': 'xnatpy:petmrSessionDataTracerDose', 'logger': <Logger xnat-540681bf052587e8ba9fee53609ca631 (DEBUG)>, 'field_name': 'dose', 'parent_class': 'xnatpy:petmrSessionDataTracer', 'parent_property': <AttributePrototype [subobject] dose>, 'attributes': OrderedDict([('units', <AttributePrototype [property] units>)]), 'base_class': 'xnatpy:doseFloat', 'display_identifier': None, 'abstract': False, '_simple': False, '_writer': None, 'source_schema': '/xapi/schemas/xnat'}\n",
      "[2020-02-07 16:37:32,306] DEBUG: convert_xsd:1362 >> Ignoring non-listing...\n",
      "[2020-02-07 16:37:32,307] DEBUG: convert_xsd:1363 >> Element class: {'parser': <xnat.convert_xsd.SchemaParser object at 0x000001A5DC3891C8>, 'name': 'xnatpy:petmrSessionDataTracerTotalmass', 'logger': <Logger xnat-540681bf052587e8ba9fee53609ca631 (DEBUG)>, 'field_name': 'totalMass', 'parent_class': 'xnatpy:petmrSessionDataTracer', 'parent_property': <AttributePrototype [subobject] totalMass>, 'attributes': OrderedDict([('units', <AttributePrototype [property] units>)]), 'base_class': 'xnatpy:totalMassFloat', 'display_identifier': None, 'abstract': False, '_simple': False, '_writer': None, 'source_schema': '/xapi/schemas/xnat'}\n",
      "[2020-02-07 16:37:32,307] DEBUG: convert_xsd:1362 >> Ignoring non-listing...\n",
      "[2020-02-07 16:37:32,307] DEBUG: convert_xsd:1363 >> Element class: {'parser': <xnat.convert_xsd.SchemaParser object at 0x000001A5DC3891C8>, 'name': 'xnatpy:petmrSessionDataTracerIntermediate', 'logger': <Logger xnat-540681bf052587e8ba9fee53609ca631 (DEBUG)>, 'field_name': 'intermediate', 'parent_class': 'xnatpy:petmrSessionDataTracer', 'parent_property': <AttributePrototype [subobject] intermediate>, 'attributes': OrderedDict([('units', <AttributePrototype [property] units>)]), 'base_class': 'xnatpy:intermediateFloat', 'display_identifier': None, 'abstract': False, '_simple': False, '_writer': None, 'source_schema': '/xapi/schemas/xnat'}\n",
      "[2020-02-07 16:37:32,308] DEBUG: convert_xsd:1362 >> Ignoring non-listing...\n",
      "[2020-02-07 16:37:32,309] DEBUG: convert_xsd:1363 >> Element class: {'parser': <xnat.convert_xsd.SchemaParser object at 0x000001A5DC3891C8>, 'name': 'xnatpy:petmrSessionDataTracerIsotope', 'logger': <Logger xnat-540681bf052587e8ba9fee53609ca631 (DEBUG)>, 'field_name': 'isotope', 'parent_class': 'xnatpy:petmrSessionDataTracer', 'parent_property': <AttributePrototype [subobject] isotope>, 'attributes': OrderedDict([('half-life', <AttributePrototype [property] half-life>)]), 'base_class': 'xnatpy:isotopeString', 'display_identifier': None, 'abstract': False, '_simple': False, '_writer': None, 'source_schema': '/xapi/schemas/xnat'}\n",
      "[2020-02-07 16:37:32,309] DEBUG: convert_xsd:1362 >> Ignoring non-listing...\n",
      "[2020-02-07 16:37:32,310] DEBUG: convert_xsd:1363 >> Element class: {'parser': <xnat.convert_xsd.SchemaParser object at 0x000001A5DC3891C8>, 'name': 'xnatpy:petScanDataEcatvalidation', 'logger': <Logger xnat-540681bf052587e8ba9fee53609ca631 (DEBUG)>, 'field_name': 'ecatValidation', 'parent_class': 'xnat:petScanData', 'parent_property': <AttributePrototype [subobject] ecatValidation>, 'attributes': OrderedDict([('status', <AttributePrototype [property] status>)]), 'base_class': 'xnatpy:ecatValidationString', 'display_identifier': None, 'abstract': False, '_simple': False, '_writer': None, 'source_schema': '/xapi/schemas/xnat'}\n",
      "[2020-02-07 16:37:32,310] DEBUG: convert_xsd:1362 >> Ignoring non-listing...\n",
      "[2020-02-07 16:37:32,311] DEBUG: convert_xsd:1363 >> Element class: {'parser': <xnat.convert_xsd.SchemaParser object at 0x000001A5DC3891C8>, 'name': 'xnatpy:petScanDataParametersFilter', 'logger': <Logger xnat-540681bf052587e8ba9fee53609ca631 (DEBUG)>, 'field_name': 'filter', 'parent_class': 'xnatpy:petScanDataParameters', 'parent_property': <AttributePrototype [subobject] filter>, 'attributes': OrderedDict([('cutoff', <AttributePrototype [property] cutoff>)]), 'base_class': None, 'display_identifier': None, 'abstract': False, '_simple': False, '_writer': None, 'source_schema': '/xapi/schemas/xnat'}\n",
      "[2020-02-07 16:37:32,311] INFO: convert_xsd:1356 >> Removing class xnatpy:regionResourceSubregionlabels from parser, it only has one element!\n",
      "[2020-02-07 16:37:32,312] DEBUG: convert_xsd:1362 >> Ignoring non-listing...\n",
      "[2020-02-07 16:37:32,312] DEBUG: convert_xsd:1363 >> Element class: {'parser': <xnat.convert_xsd.SchemaParser object at 0x000001A5DC3891C8>, 'name': 'xnatpy:statisticsDataAdditionalstatistics', 'logger': <Logger xnat-540681bf052587e8ba9fee53609ca631 (DEBUG)>, 'field_name': 'additionalStatistics', 'parent_class': 'xnat:statisticsData', 'parent_property': <AttributePrototype [listing] additionalStatistics>, 'attributes': OrderedDict([('name', <AttributePrototype [property] name>)]), 'base_class': 'xnatpy:additionalStatisticsDouble', 'display_identifier': None, 'abstract': False, '_simple': False, '_writer': None, 'source_schema': '/xapi/schemas/xnat'}\n",
      "[2020-02-07 16:37:32,313] DEBUG: convert_xsd:1362 >> Ignoring non-listing...\n",
      "[2020-02-07 16:37:32,313] DEBUG: convert_xsd:1363 >> Element class: {'parser': <xnat.convert_xsd.SchemaParser object at 0x000001A5DC3891C8>, 'name': 'xnatpy:statisticsDataAddfield', 'logger': <Logger xnat-540681bf052587e8ba9fee53609ca631 (DEBUG)>, 'field_name': 'addField', 'parent_class': 'xnat:statisticsData', 'parent_property': <AttributePrototype [listing] addField>, 'attributes': OrderedDict([('name', <AttributePrototype [property] name>)]), 'base_class': 'xnatpy:addFieldString', 'display_identifier': None, 'abstract': False, '_simple': False, '_writer': None, 'source_schema': '/xapi/schemas/xnat'}\n",
      "[2020-02-07 16:37:32,314] INFO: convert_xsd:1356 >> Removing class xnatpy:qcAssessmentDataScans from parser, it only has one element!\n",
      "[2020-02-07 16:37:32,314] INFO: convert_xsd:1356 >> Removing class xnatpy:qcAssessmentDataScansScanSliceqc from parser, it only has one element!\n",
      "[2020-02-07 16:37:32,314] INFO: convert_xsd:1356 >> Removing class xnatpy:datatypeProtocolDefinitions from parser, it only has one element!\n",
      "[2020-02-07 16:37:32,315] INFO: convert_xsd:1356 >> Removing class xnatpy:fieldDefinitionGroupFields from parser, it only has one element!\n",
      "[2020-02-07 16:37:32,315] INFO: convert_xsd:1356 >> Removing class xnatpy:fieldDefinitionGroupFieldsFieldPossiblevalues from parser, it only has one element!\n",
      "[2020-02-07 16:37:32,316] DEBUG: convert_xsd:1362 >> Ignoring non-listing...\n",
      "[2020-02-07 16:37:32,316] DEBUG: convert_xsd:1363 >> Element class: {'parser': <xnat.convert_xsd.SchemaParser object at 0x000001A5DC3891C8>, 'name': 'xnatpy:fieldDefinitionGroupFieldsFieldPossiblevalues', 'logger': <Logger xnat-540681bf052587e8ba9fee53609ca631 (DEBUG)>, 'field_name': 'possibleValues/possibleValue', 'parent_class': 'xnatpy:fieldDefinitionGroupFieldsField', 'parent_property': <AttributePrototype [listing] possibleValues>, 'attributes': OrderedDict([('display', <AttributePrototype [property] display>)]), 'base_class': 'xnatpy:possibleValueString', 'display_identifier': None, 'abstract': False, '_simple': False, '_writer': None, 'source_schema': '/xapi/schemas/xnat'}\n",
      "[2020-02-07 16:37:32,316] INFO: convert_xsd:1356 >> Removing class xnatpy:imageAssessorDataIn from parser, it only has one element!\n",
      "[2020-02-07 16:37:32,317] INFO: convert_xsd:1356 >> Removing class xnatpy:imageAssessorDataOut from parser, it only has one element!\n",
      "[2020-02-07 16:37:32,317] INFO: convert_xsd:1356 >> Removing class xnatpy:imageAssessorDataParameters from parser, it only has one element!\n",
      "[2020-02-07 16:37:32,318] INFO: convert_xsd:1356 >> Removing class xnatpy:imageScanDataSharing from parser, it only has one element!\n",
      "[2020-02-07 16:37:32,318] DEBUG: convert_xsd:1362 >> Ignoring non-listing...\n",
      "[2020-02-07 16:37:32,318] DEBUG: convert_xsd:1363 >> Element class: {'parser': <xnat.convert_xsd.SchemaParser object at 0x000001A5DC3891C8>, 'name': 'xnatpy:ctScanDataDcmvalidation', 'logger': <Logger xnat-540681bf052587e8ba9fee53609ca631 (DEBUG)>, 'field_name': 'dcmValidation', 'parent_class': 'xnat:ctScanData', 'parent_property': <AttributePrototype [subobject] dcmValidation>, 'attributes': OrderedDict([('status', <AttributePrototype [property] status>)]), 'base_class': 'xnatpy:dcmValidationString', 'display_identifier': None, 'abstract': False, '_simple': False, '_writer': None, 'source_schema': '/xapi/schemas/xnat'}\n"
     ]
    },
    {
     "name": "stderr",
     "output_type": "stream",
     "text": [
      "[2020-02-07 16:37:32,318] INFO: convert_xsd:1356 >> Removing class xnatpy:ctScanDataParametersFocalspots from parser, it only has one element!\n",
      "[2020-02-07 16:37:32,319] DEBUG: convert_xsd:1362 >> Ignoring non-listing...\n",
      "[2020-02-07 16:37:32,319] DEBUG: convert_xsd:1363 >> Element class: {'parser': <xnat.convert_xsd.SchemaParser object at 0x000001A5DC3891C8>, 'name': 'xnatpy:ctScanDataParametersEstimateddosesaving', 'logger': <Logger xnat-540681bf052587e8ba9fee53609ca631 (DEBUG)>, 'field_name': 'estimatedDoseSaving', 'parent_class': 'xnatpy:ctScanDataParameters', 'parent_property': <AttributePrototype [subobject] estimatedDoseSaving>, 'attributes': OrderedDict([('modulation', <AttributePrototype [subobject] modulation>)]), 'base_class': 'xnatpy:estimatedDoseSavingFloat', 'display_identifier': None, 'abstract': False, '_simple': False, '_writer': None, 'source_schema': '/xapi/schemas/xnat'}\n",
      "[2020-02-07 16:37:32,319] DEBUG: convert_xsd:1362 >> Ignoring non-listing...\n",
      "[2020-02-07 16:37:32,320] DEBUG: convert_xsd:1363 >> Element class: {'parser': <xnat.convert_xsd.SchemaParser object at 0x000001A5DC3891C8>, 'name': 'xnatpy:optScanDataDcmvalidation', 'logger': <Logger xnat-540681bf052587e8ba9fee53609ca631 (DEBUG)>, 'field_name': 'dcmValidation', 'parent_class': 'xnat:optScanData', 'parent_property': <AttributePrototype [subobject] dcmValidation>, 'attributes': OrderedDict([('status', <AttributePrototype [property] status>)]), 'base_class': 'xnatpy:dcmValidationString', 'display_identifier': None, 'abstract': False, '_simple': False, '_writer': None, 'source_schema': '/xapi/schemas/xnat'}\n",
      "[2020-02-07 16:37:32,321] DEBUG: convert_xsd:1362 >> Ignoring non-listing...\n",
      "[2020-02-07 16:37:32,321] DEBUG: convert_xsd:1363 >> Element class: {'parser': <xnat.convert_xsd.SchemaParser object at 0x000001A5DC3891C8>, 'name': 'xnatpy:qcScanDataRating', 'logger': <Logger xnat-540681bf052587e8ba9fee53609ca631 (DEBUG)>, 'field_name': 'rating', 'parent_class': 'xnat:qcScanData', 'parent_property': <AttributePrototype [subobject] rating>, 'attributes': OrderedDict([('scale', <AttributePrototype [property] scale>)]), 'base_class': 'xnatpy:ratingString', 'display_identifier': None, 'abstract': False, '_simple': False, '_writer': None, 'source_schema': '/xapi/schemas/xnat'}\n",
      "[2020-02-07 16:37:32,322] INFO: convert_xsd:1356 >> Removing class xnatpy:qcScanDataFields from parser, it only has one element!\n",
      "[2020-02-07 16:37:32,322] DEBUG: convert_xsd:1362 >> Ignoring non-listing...\n",
      "[2020-02-07 16:37:32,322] DEBUG: convert_xsd:1363 >> Element class: {'parser': <xnat.convert_xsd.SchemaParser object at 0x000001A5DC3891C8>, 'name': 'xnatpy:qcScanDataFields', 'logger': <Logger xnat-540681bf052587e8ba9fee53609ca631 (DEBUG)>, 'field_name': 'fields/field', 'parent_class': 'xnat:qcScanData', 'parent_property': <AttributePrototype [listing] fields>, 'attributes': OrderedDict([('name', <AttributePrototype [property] name>)]), 'base_class': 'xnatpy:fieldString', 'display_identifier': None, 'abstract': False, '_simple': False, '_writer': None, 'source_schema': '/xapi/schemas/xnat'}\n",
      "[2020-02-07 16:37:32,323] INFO: convert_xsd:1356 >> Removing class xnatpy:petQcScanDataProcessingerrors from parser, it only has one element!\n",
      "[2020-02-07 16:37:32,323] INFO: convert_xsd:1356 >> Removing class xnatpy:qcManualAssessorDataScans from parser, it only has one element!\n",
      "[2020-02-07 16:37:32,323] DEBUG: convert_xsd:1362 >> Ignoring non-listing...\n",
      "[2020-02-07 16:37:32,324] DEBUG: convert_xsd:1363 >> Element class: {'parser': <xnat.convert_xsd.SchemaParser object at 0x000001A5DC3891C8>, 'name': 'xnatpy:eegSessionDataSamplingrate', 'logger': <Logger xnat-540681bf052587e8ba9fee53609ca631 (DEBUG)>, 'field_name': 'samplingRate', 'parent_class': 'xnat:eegSessionData', 'parent_property': <AttributePrototype [subobject] samplingRate>, 'attributes': OrderedDict([('units', <AttributePrototype [property] units>)]), 'base_class': 'xnatpy:samplingRateFloat', 'display_identifier': None, 'abstract': False, '_simple': False, '_writer': None, 'source_schema': '/xapi/schemas/xnat'}\n",
      "[2020-02-07 16:37:32,324] DEBUG: convert_xsd:1362 >> Ignoring non-listing...\n",
      "[2020-02-07 16:37:32,324] DEBUG: convert_xsd:1363 >> Element class: {'parser': <xnat.convert_xsd.SchemaParser object at 0x000001A5DC3891C8>, 'name': 'xnatpy:eegSessionDataSamplinginterval', 'logger': <Logger xnat-540681bf052587e8ba9fee53609ca631 (DEBUG)>, 'field_name': 'samplingInterval', 'parent_class': 'xnat:eegSessionData', 'parent_property': <AttributePrototype [subobject] samplingInterval>, 'attributes': OrderedDict([('units', <AttributePrototype [property] units>)]), 'base_class': 'xnatpy:samplingIntervalFloat', 'display_identifier': None, 'abstract': False, '_simple': False, '_writer': None, 'source_schema': '/xapi/schemas/xnat'}\n",
      "[2020-02-07 16:37:32,325] INFO: convert_xsd:1356 >> Removing class xnatpy:eegScanDataChannels from parser, it only has one element!\n",
      "[2020-02-07 16:37:32,325] INFO: convert_xsd:1356 >> Removing class xnatpy:screeningAssessmentScans from parser, it only has one element!\n",
      "[2020-02-07 16:37:32,325] DEBUG: convert_xsd:1362 >> Ignoring non-listing...\n",
      "[2020-02-07 16:37:32,325] DEBUG: convert_xsd:1363 >> Element class: {'parser': <xnat.convert_xsd.SchemaParser object at 0x000001A5DC3891C8>, 'name': 'xnatpy:imageSessionDataPipeline', 'logger': <Logger xnat-540681bf052587e8ba9fee53609ca631 (DEBUG)>, 'field_name': 'pipeline', 'parent_class': 'build:imageSessionData', 'parent_property': <AttributePrototype [listing] pipeline>, 'attributes': OrderedDict([('stepId', <AttributePrototype [property] stepId>)]), 'base_class': 'build:pipelineData', 'display_identifier': None, 'abstract': False, '_simple': False, '_writer': None, 'source_schema': '/xapi/schemas/pipeline/build'}\n",
      "[2020-02-07 16:37:32,326] INFO: convert_xsd:1356 >> Removing class xnatpy:pipelineDetailsGenerateselements from parser, it only has one element!\n",
      "[2020-02-07 16:37:32,326] INFO: convert_xsd:1356 >> Removing class xnatpy:pipelineDetailsParameters from parser, it only has one element!\n",
      "[2020-02-07 16:37:32,326] INFO: convert_xsd:1356 >> Removing class xnatpy:xnatExecutionEnvironmentParameters from parser, it only has one element!\n",
      "[2020-02-07 16:37:32,327] DEBUG: convert_xsd:1362 >> Ignoring non-listing...\n",
      "[2020-02-07 16:37:32,327] DEBUG: convert_xsd:1363 >> Element class: {'parser': <xnat.convert_xsd.SchemaParser object at 0x000001A5DC3891C8>, 'name': 'xnatpy:xnatExecutionEnvironmentParameters', 'logger': <Logger xnat-540681bf052587e8ba9fee53609ca631 (DEBUG)>, 'field_name': 'parameters/parameter', 'parent_class': 'wrk:xnatExecutionEnvironment', 'parent_property': <AttributePrototype [listing] parameters>, 'attributes': OrderedDict([('name', <AttributePrototype [property] name>)]), 'base_class': 'xnatpy:parameterString', 'display_identifier': None, 'abstract': False, '_simple': False, '_writer': None, 'source_schema': '/xapi/schemas/pipeline/workflow'}\n",
      "[2020-02-07 16:37:32,327] DEBUG: convert_xsd:1362 >> Ignoring non-listing...\n",
      "[2020-02-07 16:37:32,328] DEBUG: convert_xsd:1363 >> Element class: {'parser': <xnat.convert_xsd.SchemaParser object at 0x000001A5DC3891C8>, 'name': 'xnatpy:processStepPlatform', 'logger': <Logger xnat-540681bf052587e8ba9fee53609ca631 (DEBUG)>, 'field_name': 'platform', 'parent_class': 'prov:processStep', 'parent_property': <AttributePrototype [subobject] platform>, 'attributes': OrderedDict([('version', <AttributePrototype [property] version>)]), 'base_class': 'xnatpy:platformString', 'display_identifier': None, 'abstract': False, '_simple': False, '_writer': None, 'source_schema': '/xapi/schemas/birn/birnprov'}\n",
      "[2020-02-07 16:37:32,328] DEBUG: convert_xsd:1362 >> Ignoring non-listing...\n",
      "[2020-02-07 16:37:32,328] DEBUG: convert_xsd:1363 >> Element class: {'parser': <xnat.convert_xsd.SchemaParser object at 0x000001A5DC3891C8>, 'name': 'xnatpy:processStepCompiler', 'logger': <Logger xnat-540681bf052587e8ba9fee53609ca631 (DEBUG)>, 'field_name': 'compiler', 'parent_class': 'prov:processStep', 'parent_property': <AttributePrototype [subobject] compiler>, 'attributes': OrderedDict([('version', <AttributePrototype [property] version>)]), 'base_class': 'xnatpy:compilerString', 'display_identifier': None, 'abstract': False, '_simple': False, '_writer': None, 'source_schema': '/xapi/schemas/birn/birnprov'}\n"
     ]
    },
    {
     "name": "stderr",
     "output_type": "stream",
     "text": [
      "[2020-02-07 16:37:32,329] DEBUG: convert_xsd:1362 >> Ignoring non-listing...\n",
      "[2020-02-07 16:37:32,329] DEBUG: convert_xsd:1363 >> Element class: {'parser': <xnat.convert_xsd.SchemaParser object at 0x000001A5DC3891C8>, 'name': 'xnatpy:processStepLibrary', 'logger': <Logger xnat-540681bf052587e8ba9fee53609ca631 (DEBUG)>, 'field_name': 'library', 'parent_class': 'prov:processStep', 'parent_property': <AttributePrototype [listing] library>, 'attributes': OrderedDict([('version', <AttributePrototype [property] version>)]), 'base_class': 'xnatpy:libraryString', 'display_identifier': None, 'abstract': False, '_simple': False, '_writer': None, 'source_schema': '/xapi/schemas/birn/birnprov'}\n",
      "[2020-02-07 16:37:32,329] INFO: convert_xsd:1356 >> Removing class xnatpy:catalogMetafields from parser, it only has one element!\n",
      "[2020-02-07 16:37:32,329] INFO: convert_xsd:1356 >> Removing class xnatpy:catalogTags from parser, it only has one element!\n",
      "[2020-02-07 16:37:32,330] INFO: convert_xsd:1356 >> Removing class xnatpy:catalogSets from parser, it only has one element!\n",
      "[2020-02-07 16:37:32,330] INFO: convert_xsd:1356 >> Removing class xnatpy:catalogEntries from parser, it only has one element!\n",
      "[2020-02-07 16:37:32,330] DEBUG: convert_xsd:1362 >> Ignoring non-listing...\n",
      "[2020-02-07 16:37:32,330] DEBUG: convert_xsd:1363 >> Element class: {'parser': <xnat.convert_xsd.SchemaParser object at 0x000001A5DC3891C8>, 'name': 'xnatpy:catalogMetafields', 'logger': <Logger xnat-540681bf052587e8ba9fee53609ca631 (DEBUG)>, 'field_name': 'metaFields/metaField', 'parent_class': 'cat:catalog', 'parent_property': <AttributePrototype [listing] metaFields>, 'attributes': OrderedDict([('name', <AttributePrototype [property] name>)]), 'base_class': 'xnatpy:metaFieldString', 'display_identifier': None, 'abstract': False, '_simple': False, '_writer': None, 'source_schema': '/xapi/schemas/catalog'}\n",
      "[2020-02-07 16:37:32,331] INFO: convert_xsd:1356 >> Removing class xnatpy:entryMetafields from parser, it only has one element!\n",
      "[2020-02-07 16:37:32,331] INFO: convert_xsd:1356 >> Removing class xnatpy:entryTags from parser, it only has one element!\n",
      "[2020-02-07 16:37:32,331] DEBUG: convert_xsd:1362 >> Ignoring non-listing...\n",
      "[2020-02-07 16:37:32,332] DEBUG: convert_xsd:1363 >> Element class: {'parser': <xnat.convert_xsd.SchemaParser object at 0x000001A5DC3891C8>, 'name': 'xnatpy:entryMetafields', 'logger': <Logger xnat-540681bf052587e8ba9fee53609ca631 (DEBUG)>, 'field_name': 'metaFields/metaField', 'parent_class': 'cat:entry', 'parent_property': <AttributePrototype [listing] metaFields>, 'attributes': OrderedDict([('name', <AttributePrototype [property] name>)]), 'base_class': 'xnatpy:metaFieldString', 'display_identifier': None, 'abstract': False, '_simple': False, '_writer': None, 'source_schema': '/xapi/schemas/catalog'}\n",
      "[2020-02-07 16:37:32,332] INFO: convert_xsd:1356 >> Removing class xnatpy:projectFieldspecifications from parser, it only has one element!\n",
      "[2020-02-07 16:37:32,332] INFO: convert_xsd:1356 >> Removing class xnatpy:projectProperties from parser, it only has one element!\n",
      "[2020-02-07 16:37:32,332] INFO: convert_xsd:1356 >> Removing class xnatpy:projectPipelinesDescendants from parser, it only has one element!\n",
      "[2020-02-07 16:37:32,333] INFO: convert_xsd:1356 >> Removing class xnatpy:pipelineDataParameters from parser, it only has one element!\n",
      "[2020-02-07 16:37:32,333] DEBUG: convert_xsd:1362 >> Ignoring non-listing...\n",
      "[2020-02-07 16:37:32,333] DEBUG: convert_xsd:1363 >> Element class: {'parser': <xnat.convert_xsd.SchemaParser object at 0x000001A5DC3891C8>, 'name': 'xnatpy:pipelineParameterDataCsvvalues', 'logger': <Logger xnat-540681bf052587e8ba9fee53609ca631 (DEBUG)>, 'field_name': 'csvValues', 'parent_class': 'arc:pipelineParameterData', 'parent_property': <AttributePrototype [subobject] csvValues>, 'attributes': OrderedDict([('selected', <AttributePrototype [property] selected>)]), 'base_class': 'xnatpy:csvValuesString', 'display_identifier': None, 'abstract': False, '_simple': False, '_writer': None, 'source_schema': '/xapi/schemas/project'}\n",
      "[2020-02-07 16:37:32,333] INFO: convert_xsd:1356 >> Removing class xnatpy:protocolDataScans from parser, it only has one element!\n",
      "[2020-02-07 16:37:32,334] INFO: convert_xsd:1356 >> Removing class xnatpy:protocolDataCheckConditions from parser, it only has one element!\n",
      "[2020-02-07 16:37:32,334] INFO: convert_xsd:1356 >> Removing class xnatpy:protocolDataCheckComments from parser, it only has one element!\n",
      "[2020-02-07 16:37:32,334] INFO: convert_xsd:1356 >> Removing class xnatpy:protocolDataScansScan_checkConditions from parser, it only has one element!\n",
      "[2020-02-07 16:37:32,334] INFO: convert_xsd:1356 >> Removing class xnatpy:protocolDataScansScan_checkComments from parser, it only has one element!\n",
      "[2020-02-07 16:37:32,335] DEBUG: convert_xsd:1362 >> Ignoring non-listing...\n",
      "[2020-02-07 16:37:32,335] DEBUG: convert_xsd:1363 >> Element class: {'parser': <xnat.convert_xsd.SchemaParser object at 0x000001A5DC3891C8>, 'name': 'xnatpy:FieldTypeContent', 'logger': <Logger xnat-540681bf052587e8ba9fee53609ca631 (DEBUG)>, 'field_name': 'Content', 'parent_class': 'display:FieldType', 'parent_property': <AttributePrototype [subobject] Content>, 'attributes': OrderedDict([('type', <AttributePrototype [property] type>)]), 'base_class': 'xnatpy:ContentString', 'display_identifier': None, 'abstract': False, '_simple': False, '_writer': None, 'source_schema': '/xapi/schemas/xdat/display'}\n",
      "[2020-02-07 16:37:32,335] INFO: convert_xsd:1356 >> Removing class xnatpy:SubQueryFieldMappingcolumns from parser, it only has one element!\n",
      "[2020-02-07 16:37:32,336] DEBUG: convert_xsd:1362 >> Ignoring non-listing...\n",
      "[2020-02-07 16:37:32,336] DEBUG: convert_xsd:1363 >> Element class: {'parser': <xnat.convert_xsd.SchemaParser object at 0x000001A5DC3891C8>, 'name': 'xnatpy:PlexiViewerTypeViewableitemUserinterfaceLinkeddropdown', 'logger': <Logger xnat-540681bf052587e8ba9fee53609ca631 (DEBUG)>, 'field_name': 'LinkedDropDown', 'parent_class': 'xnatpy:PlexiViewerTypeViewableitemUserinterface', 'parent_property': <AttributePrototype [listing] LinkedDropDown>, 'attributes': OrderedDict([('viewableItemType', <AttributePrototype [property] viewableItemType>)]), 'base_class': None, 'display_identifier': None, 'abstract': False, '_simple': False, '_writer': None, 'source_schema': '/xapi/schemas/xdat/PlexiViewer'}\n",
      "[2020-02-07 16:37:32,336] DEBUG: convert_xsd:1362 >> Ignoring non-listing...\n",
      "[2020-02-07 16:37:32,337] DEBUG: convert_xsd:1363 >> Element class: {'parser': <xnat.convert_xsd.SchemaParser object at 0x000001A5DC3891C8>, 'name': 'xnatpy:PlexiViewerTypeViewableitemHi-resLayer', 'logger': <Logger xnat-540681bf052587e8ba9fee53609ca631 (DEBUG)>, 'field_name': 'Layer', 'parent_class': 'xnatpy:PlexiViewerTypeViewableitemHi-res', 'parent_property': <AttributePrototype [listing] Layer>, 'attributes': OrderedDict([('num', <AttributePrototype [property] num>)]), 'base_class': 'SchemaLinkType', 'display_identifier': None, 'abstract': False, '_simple': False, '_writer': None, 'source_schema': '/xapi/schemas/xdat/PlexiViewer'}\n",
      "[2020-02-07 16:37:32,337] DEBUG: convert_xsd:1362 >> Ignoring non-listing...\n",
      "[2020-02-07 16:37:32,337] DEBUG: convert_xsd:1363 >> Element class: {'parser': <xnat.convert_xsd.SchemaParser object at 0x000001A5DC3891C8>, 'name': 'xnatpy:PlexiViewerTypeViewableitemHi-resLayoutref', 'logger': <Logger xnat-540681bf052587e8ba9fee53609ca631 (DEBUG)>, 'field_name': 'LayoutRef', 'parent_class': 'xnatpy:PlexiViewerTypeViewableitemHi-res', 'parent_property': <AttributePrototype [subobject] LayoutRef>, 'attributes': OrderedDict([('name', <AttributePrototype [property] name>)]), 'base_class': None, 'display_identifier': None, 'abstract': False, '_simple': False, '_writer': None, 'source_schema': '/xapi/schemas/xdat/PlexiViewer'}\n",
      "[2020-02-07 16:37:32,338] DEBUG: convert_xsd:1382 >> Found simple mapping xnat:projectData.aliases -> xnatpy:projectDataAliases\n",
      "[2020-02-07 16:37:32,338] DEBUG: convert_xsd:1382 >> Found simple mapping xnat:projectData.fields -> xnatpy:projectDataFields\n",
      "[2020-02-07 16:37:32,339] DEBUG: convert_xsd:1382 >> Found simple mapping xnat:subjectData.addID -> xnatpy:subjectDataAddid\n"
     ]
    },
    {
     "name": "stderr",
     "output_type": "stream",
     "text": [
      "[2020-02-07 16:37:32,339] DEBUG: convert_xsd:1382 >> Found simple mapping xnat:subjectData.fields -> xnatpy:subjectDataFields\n",
      "[2020-02-07 16:37:32,339] DEBUG: convert_xsd:1382 >> Found simple mapping xnat:experimentData.sharing -> xnatpy:experimentDataSharing\n",
      "[2020-02-07 16:37:32,339] DEBUG: convert_xsd:1388 >> Too many attributes to simplify (found 4 attributed)\n",
      "[2020-02-07 16:37:32,340] DEBUG: convert_xsd:1382 >> Found simple mapping xnat:experimentData.fields -> xnatpy:experimentDataFields\n",
      "[2020-02-07 16:37:32,340] DEBUG: convert_xsd:1382 >> Found simple mapping xnat:subjectVariablesData.variables -> xnatpy:subjectVariablesDataVariables\n",
      "[2020-02-07 16:37:32,341] DEBUG: convert_xsd:1382 >> Found simple mapping xnat:abstractResource.tags -> xnatpy:abstractResourceTags\n",
      "[2020-02-07 16:37:32,342] DEBUG: convert_xsd:1382 >> Found simple mapping xnat:regionResource.subregionlabels -> xnatpy:regionResourceSubregionlabels\n",
      "[2020-02-07 16:37:32,342] DEBUG: convert_xsd:1382 >> Found simple mapping xnat:statisticsData.additionalStatistics -> xnatpy:statisticsDataAdditionalstatistics\n",
      "[2020-02-07 16:37:32,343] DEBUG: convert_xsd:1382 >> Found simple mapping xnat:statisticsData.addField -> xnatpy:statisticsDataAddfield\n",
      "[2020-02-07 16:37:32,343] DEBUG: convert_xsd:1382 >> Found simple mapping xnatpy:fieldDefinitionGroupFields.possibleValues -> xnatpy:fieldDefinitionGroupFieldsFieldPossiblevalues\n",
      "[2020-02-07 16:37:32,343] DEBUG: convert_xsd:1382 >> Found simple mapping xnat:imageScanData.sharing -> xnatpy:imageScanDataSharing\n",
      "[2020-02-07 16:37:32,344] DEBUG: convert_xsd:1382 >> Found simple mapping xnat:qcScanData.fields -> xnatpy:qcScanDataFields\n",
      "[2020-02-07 16:37:32,344] DEBUG: convert_xsd:1382 >> Found simple mapping wrk:xnatExecutionEnvironment.parameters -> xnatpy:xnatExecutionEnvironmentParameters\n",
      "[2020-02-07 16:37:32,345] DEBUG: convert_xsd:1382 >> Found simple mapping prov:processStep.library -> xnatpy:processStepLibrary\n",
      "[2020-02-07 16:37:32,345] DEBUG: convert_xsd:1382 >> Found simple mapping cat:catalog.metaFields -> xnatpy:catalogMetafields\n",
      "[2020-02-07 16:37:32,345] DEBUG: convert_xsd:1382 >> Found simple mapping cat:entry.metaFields -> xnatpy:entryMetafields\n",
      "[2020-02-07 16:37:32,346] DEBUG: convert_xsd:1382 >> Found simple mapping xnatpy:protocolDataCheck.comments -> xnatpy:protocolDataCheckComments\n",
      "[2020-02-07 16:37:32,346] DEBUG: convert_xsd:1382 >> Found simple mapping xnatpy:protocolDataScans.comments -> xnatpy:protocolDataScansScan_checkComments\n",
      "[2020-02-07 16:37:32,346] DEBUG: convert_xsd:1407 >> Classed after prune: {'xnatpy:PlexiViewerTypeViewableitemHi-res', 'xnat:qcScanData', 'xnatpy:projectDataFieldsField', 'build:imageSessionData', 'xnatpy:studyProtocolAcqconditionsCondition', 'xnatpy:dcmCatalogVoxelres', 'xnatpy:petScanDataEcatvalidation', 'xnatpy:compilerString', 'xnatpy:xnatExecutionEnvironmentParametersParameter', 'xnatpy:scidResearchDataSubstanceusedisorders', 'display:SubQueryField', 'xdat:role_type', 'xnatpy:mrScanDataParametersDiffusion', 'xnat:imageResource', 'xnat:qcAssessmentData', 'wrk:workflowData', 'xnatpy:xnatExecutionEnvironmentParameterfile', 'xdat:user', 'xnat:esvSessionData', 'xnatpy:experimentDataSharingShare', 'xnatpy:samplingRateFloat', 'xnat:mrSessionData', 'xnat:hdSessionData', 'xnatpy:eegSessionDataSamplinginterval', 'xnatpy:aliasString', 'xnatpy:PlexiViewerTypeViewableitemLo-resParameter', 'xnatpy:FieldTypeHtml-image', 'xnat:dxScanData', 'xnat:dxSessionData', 'xnatpy:petmrSessionDataTracerIsotope', 'xnatpy:parameterString', 'xnat:abstractDemographicData', 'xnatpy:qcScanDataFieldsField', 'xnatpy:projectPipelinesDescendantsDescendantPipeline', 'xnat:abstractResource', 'xnatpy:ctScanDataParametersEstimateddosesaving', 'xnatpy:totalMassFloat', 'xnat:abstractStatistics', 'xnat:ecgScanData', 'xnat:resourceSeries', 'xnat:optScanData', 'xnatpy:ctScanDataParametersFov', 'xnat:resourceCatalog', 'xnat:smScanData', 'xnatpy:projectPipelinesDescendantsDescendant', 'xnatpy:subjectDataFieldsField', 'xnatpy:petScanDataParametersFilter', 'xnatpy:updrs3DataHandsram', 'xnatpy:projectPipelinesPipeline', 'xnatpy:fieldDefinitionGroupFieldsFieldPossiblevaluesPossiblevalue', 'xdat:field_mapping', 'xnatpy:scidResearchDataSomatoformdisorders', 'xnatpy:pipelineDetailsParametersParameterValues', 'xnatpy:petmrSessionDataTracerTotalmass', 'xnat:otherDicomScanData', 'xnat:imageAssessorData', 'LayoutDescription', 'arc:property', 'xnatpy:metaFieldString', 'xnatpy:LayoutDescriptionCoordinates', 'xnatpy:propertyString', 'xnat:otherQcScanData', 'xnatpy:ygtssDataPhonic', 'xnat:smSessionData', 'xnatpy:scidResearchDataPsychoticdisorders', 'xnatpy:studyProtocolSubjectgroupsGroup', 'xnatpy:eegScanDataChannelsChannel', 'xdat:element_action_type', 'xnat:mrsScanData', 'xnatpy:eegSessionDataSamplingrate', 'xnatpy:fieldString', 'xnatpy:experimentDataDelay', 'xnatpy:statisticsDataAdditionalstatistics', 'icr:roiCollectionData', 'xnat:abstractProtocol', 'xnat:mgSessionData', 'xnatpy:petScanDataParametersResolution', 'xnat:gmScanData', 'xnat:contrastBolus', 'xnat:dicomCodedValue', 'xnatpy:ctScanDataDcmvalidation', 'xnatpy:projectPipelines', 'xnatpy:samplingIntervalFloat', 'xnatpy:updrs3DataFingertaps', 'xnatpy:PlexiViewerTypeViewableitemThumbnail', 'xnatpy:FieldTypeHtml-linkPropertyInsertvalue', 'xnatpy:element_securityListing_actionsListing_action', 'xnatpy:pipelineDetailsParametersParameter', 'xnat:opScanData', 'xnat:subjectVariablesData', 'xnatpy:stored_searchSort_by', 'xnatpy:qcAssessmentDataScansScan', 'xnat:esvScanData', 'arc:pipelineData', 'xnatpy:FieldTypeHtml-link', 'xnat:computationData', 'xdat:stored_search', 'cat:catalog', 'xnatpy:ratingString', 'xnatpy:commentString', 'xnat:studyProtocol', 'xnatpy:scidResearchDataOptional', 'xnat:imageResourceSeries', 'xnatpy:dcmValidationString', 'xnatpy:updrs3DataClicker', 'xnat:esSessionData', 'xnatpy:heightFloat', 'xnat:statisticsData', 'arc:project', 'xnatpy:updrs3DataTremorrest', 'xnatpy:optScanDataDcmvalidation', 'xnatpy:FieldTypeHtml-linkProperty', 'xnat:publicationResource', 'xnatpy:labelString', 'arc:fieldSpecification', 'xnatpy:eegScanDataParametersDatarecord', 'xdat:newsEntry', 'display:HTML-Cell', 'xnatpy:mrScanDataParametersMatrix', 'xdat:LONGVARCHAR', 'arc:pathInfo', 'xnatpy:stored_searchAllowed_user', 'xnatpy:studyProtocolSubjectvariablesVariable', 'xnat:gmSessionData', 'xnatpy:regionResourceCreator', 'xnatpy:petScanDataParameters', 'xnatpy:processStepLibrary', 'val:additionalVal', 'xnatpy:estimatedDoseSavingFloat', 'xnatpy:volumetricRegionSubregionsSubregion', 'arc:pipelineParameterData', 'xnatpy:imageScanDataScanner', 'xnat:gmvSessionData', 'xnatpy:processStepProgram', 'xnat:nmScanData', 'xnatpy:petSessionDataTracerIsotope', 'xnatpy:petScanDataParametersRfilter', 'xnatpy:protocolDataScansScan_checkConditionsCondition', 'xnatpy:demographicDataHeight', 'xnat:projectParticipant', 'xnatpy:dicomSeriesImagesetImage', 'val:protocolData', 'xnat:petAssessorData', 'xnat:megScanData', 'xnatpy:petScanDataParametersOffset', 'xnatpy:qcScanDataRating', 'build:buildData', 'xnatpy:eegScanDataSoftwarefiltersimpedances', 'xnatpy:protocolDataScansScan_checkCommentsComment', 'xnat:rtSessionData', 'xnat:resource', 'xnatpy:scidResearchDataMooddisorders', 'xdat:action_type', 'xnat:derivedData', 'xnat:rtImageScanData', 'xnatpy:platformString', 'xnatpy:petSessionDataTracerDose', 'xdat:primary_security_field', 'xnat:voiceAudioScanData', 'xnatpy:imageResourceDimensions', 'xnat:dx3DCraniofacialSessionData', 'xnat:petScanData', 'xdat:access_log', 'xnat:imageScanData', 'xnatpy:mrScanDataParametersInplanephaseencoding', 'xnatpy:imageScanDataSharingShare', 'xnat_a:ybocsData', 'xdat:user_login', 'xnatpy:ctScanDataParametersDerivation', 'xnatpy:petSessionDataTracerIntermediate', 'xnat:petQcScanData', 'xnatpy:primary_security_fieldString', 'xnatpy:PlexiViewerTypeViewableitemLo-res', 'xnatpy:fieldSpecificationString', 'xdat:field_mapping_set', 'xnatpy:optScanDataParameters', 'xnatpy:updrs3DataHandmovementsgrip', 'xnat:ctScanData', 'xnat:eegSessionData', 'xnatpy:subjectDataAddid', 'xnatpy:ygtssDataMotor', 'xnatpy:optScanDataParametersVoxelres', 'xnatpy:protocolDataScansScan_check', 'xnat:demographicData', 'cat:dcmEntry', 'xnatpy:fieldDefinitionGroupFieldsField', 'xnatpy:ctScanDataParametersVoxelres', 'xdat:criteria', 'xnatpy:mrScanDataParametersVoxelres', 'xnat:validationData', 'xnat:rfScanData', 'xnat:abstractSubjectMetadata', 'xnat:petSessionData', 'xnatpy:protocolDataCheckCommentsComment', 'xnatpy:FieldTypeHtml-linkSecurelink', 'xnatpy:pipelineParameterDataParameter', 'xdat:history', 'PlexiViewerType', 'xnatpy:additionalStatisticsDouble', 'build:pipelineData', 'xnatpy:csvValuesString', 'xnatpy:PlexiViewerTypeViewableitemHi-resLayer', 'xnatpy:petmrSessionDataTracer', 'xnatpy:qcAssessmentDataScansScanSliceqcSlice', 'xnatpy:PlexiViewerTypeViewableitemThumbnailSlice', 'xnatpy:PlexiViewerTypeViewableitemUserinterface', 'xnat:petmrSessionData', 'xnat_a:ygtssData', 'xnatpy:addIDString', 'xdat:element_security', 'prov:processStep', 'xnat:subjectMetadata', 'xnat:regionResource', 'xnatpy:statisticsDataAddfield', 'xnatpy:tagString', 'xnatpy:petScanDataParametersFrames', 'xnatpy:ctScanDataParametersCollimationwidth', 'xnat:epsSessionData', 'xnat:projectData', 'xnat:eegScanData', 'xnat:xa3DSessionData', 'xnat:usScanData', 'xnat:xcvScanData', 'xdat:criteria_set', 'xnat:crScanData', 'xnatpy:eegScanDataParameters', 'xnatpy:mrScanDataDcmvalidation', 'xnatpy:doseFloat', 'xnatpy:ctScanDataParameters', 'xnat:usSessionData', 'xnatpy:petSessionDataTracer', 'xnatpy:updrs3DataRigidity', 'xnatpy:entryMetafieldsMetafield', 'xnatpy:petScanDataParametersZfilter', 'xnat:reconstructedImageData', 'xnat:esScanData', 'xnatpy:subjectVariablesDataVariablesVariable', 'xnat:dicomSeries', 'xnat:ctSessionData', 'xnat:subjectAssessorData', 'xnat:segScanData', 'xnatpy:updrs3DataFoottaps', 'xnatpy:primary_passwordString', 'cat:dcmCatalog', 'wrk:xnatExecutionEnvironment', 'xnatpy:petScanDataParametersPixelsize', 'xnat:ioScanData', 'scr:screeningAssessment', 'xnat_a:scidResearchData', 'xnat:nmSessionData', 'xnatpy:imageResourceVoxelres', 'xnatpy:protocolDataCheck', 'cat:entry', 'xnatpy:FieldTypeContent', 'xnatpy:petScanDataParametersDimensions', 'xdat:change_info', 'xnatpy:ContentString', 'xnatpy:libraryString', 'xnat:opSessionData', 'xnatpy:scannerString', 'xnatpy:studyProtocolImagesessiontypesSession', 'xnatpy:protocolDataCheckConditionsCondition', 'xnat:xaScanData', 'prov:process', 'xnatpy:imageSessionDataScanner', 'xnatpy:dicomSeriesVoxelres', 'xnatpy:PlexiViewerTypeViewableitemHi-resLayoutref', 'xnat:subjectData', 'xnat:genericData', 'xnatpy:FieldTypeHtml-linkSecurelinkSecuritymappingvalue', 'xnatpy:pipelineParameterDataCsvvalues', 'SchemaLinkType', 'xnatpy:weightFloat', 'xnat:srScanData', 'xdat:infoEntry', 'xnatpy:updrs3DataActionposturaltremor', 'xnatpy:possibleValueString', 'xnat:xa3DScanData', 'xnat:mgScanData', 'xnatpy:petScanDataParametersFramesFrame', 'xdat:search_field', 'xnatpy:eegScanDataSoftwarefiltersimpedancesImpedance', 'xnatpy:PlexiViewerTypeViewableitemUserinterfaceLinkeddropdown', 'xnatpy:xaScanDataParametersFov', 'xnat:fieldDefinitionGroup', 'xnat:mrScanData', 'xnatpy:dicomSeriesDimensions', 'xnatpy:imageSessionDataPipeline', 'xnat:datatypeProtocol', 'xnat:ioSessionData', 'xnatpy:mrScanDataParameters', 'xnatpy:isotopeString', 'xnatpy:shareString', 'xnatpy:scidResearchDataEatingdisorders', 'xnat:otherDicomSessionData', 'scr:screeningScanData', 'xnatpy:demographicDataWeight', 'xnat:xcvSessionData', 'xnat:megSessionData', 'xnatpy:intermediateFloat', 'xnatpy:imageResourceSeriesVoxelres', 'xnatpy:ecatValidationString', 'xnatpy:xaScanDataParametersPixelres', 'xnatpy:dcmCatalogDimensions', 'xnat:investigatorData', 'xnatpy:delayInteger', 'xnatpy:scidResearchDataAnxietydisorders', 'xnatpy:processStepPlatform', 'xnat:gmvScanData', 'xnatpy:scidResearchDataPsychoticsymptoms', 'xdat:userGroup', 'xnat:scScanData', 'xnatpy:projectDataAliasesAlias', 'xnatpy:programString', 'xnat:mrAssessorData', 'xnat:experimentData', 'xnat:epsScanData', 'xnatpy:imageResourceSeriesDimensions', 'xnatpy:PlexiViewerTypeViewableitem', 'xnat:qcManualAssessorData', 'build:pipelineParameterData', 'xnat:dx3DCraniofacialScanData', 'display:FieldType', 'xnatpy:petmrSessionDataTracerDose', 'pipe:pipelineDetails', 'xnat:xaSessionData', 'xnat:xcScanData', 'xnatpy:processStepCompiler', 'xnatpy:ctScanDataParametersRescale', 'xdat:meta_data', 'xnatpy:catalogMetafieldsMetafield', 'xnatpy:optScanDataParametersFov', 'xnatpy:PlexiViewerTypeViewableitemSchemalink', 'xnat:srSessionData', 'xnatpy:scidResearchDataMoodepisodes', 'xnat:imageSessionData', 'xnat:addField', 'xnat:rfSessionData', 'xnatpy:userPrimary_password', 'wrk:abstractExecutionEnvironment', 'xnat_a:updrs3Data', 'xnatpy:petmrSessionDataTracerIntermediate', 'xnat:pVisitData', 'xnatpy:variableString', 'xnatpy:petSessionDataTracerTotalmass', 'xnatpy:SubQueryFieldMappingcolumnsMappingcolumn', 'xnatpy:derivationString', 'xnat_a:sideEffectsPittsburghData', 'xnatpy:addFieldString', 'xnat:volumetricRegion', 'xnat:mrQcScanData', 'xnat:optSessionData', 'xnat:crSessionData', 'xnat:ecgSessionData', 'xnatpy:regionResourceSubregionlabelsLabel', 'xnatpy:experimentDataFieldsField', 'xnat:algorithm', 'xnatpy:mrScanDataParametersFov', 'xnatpy:xaScanDataParameters', 'xnat:hdScanData', 'xnat:xcSessionData', 'xnatpy:abstractResourceTagsTag'}\n"
     ]
    },
    {
     "name": "stderr",
     "output_type": "stream",
     "text": [
      "[2020-02-07 16:37:32,347] INFO: convert_xsd:1408 >> Classes removed by pruning: ['xnatpy:SubQueryFieldMappingcolumns', 'xnatpy:abstractResourceTags', 'xnatpy:catalogEntries', 'xnatpy:catalogMetafields', 'xnatpy:catalogSets', 'xnatpy:catalogTags', 'xnatpy:ctScanDataParametersFocalspots', 'xnatpy:datatypeProtocolDefinitions', 'xnatpy:dicomSeriesImageset', 'xnatpy:eegScanDataChannels', 'xnatpy:element_securityElement_actions', 'xnatpy:element_securityListing_actions', 'xnatpy:element_securityPrimary_security_fields', 'xnatpy:entryMetafields', 'xnatpy:entryTags', 'xnatpy:experimentDataFields', 'xnatpy:experimentDataResources', 'xnatpy:experimentDataSharing', 'xnatpy:fieldDefinitionGroupFields', 'xnatpy:fieldDefinitionGroupFieldsFieldPossiblevalues', 'xnatpy:imageAssessorDataIn', 'xnatpy:imageAssessorDataOut', 'xnatpy:imageAssessorDataParameters', 'xnatpy:imageScanDataSharing', 'xnatpy:imageSessionDataAssessors', 'xnatpy:imageSessionDataReconstructions', 'xnatpy:imageSessionDataRegions', 'xnatpy:imageSessionDataScans', 'xnatpy:petQcScanDataProcessingerrors', 'xnatpy:pipelineDataParameters', 'xnatpy:pipelineDetailsGenerateselements', 'xnatpy:pipelineDetailsParameters', 'xnatpy:projectDataAliases', 'xnatpy:projectDataFields', 'xnatpy:projectDataInvestigators', 'xnatpy:projectDataPublications', 'xnatpy:projectDataResources', 'xnatpy:projectFieldspecifications', 'xnatpy:projectPipelinesDescendants', 'xnatpy:projectProperties', 'xnatpy:protocolDataCheckComments', 'xnatpy:protocolDataCheckConditions', 'xnatpy:protocolDataScans', 'xnatpy:protocolDataScansScan_checkComments', 'xnatpy:protocolDataScansScan_checkConditions', 'xnatpy:qcAssessmentDataScans', 'xnatpy:qcAssessmentDataScansScanSliceqc', 'xnatpy:qcManualAssessorDataScans', 'xnatpy:qcScanDataFields', 'xnatpy:reconstructedImageDataComputations', 'xnatpy:reconstructedImageDataIn', 'xnatpy:reconstructedImageDataInscans', 'xnatpy:reconstructedImageDataOut', 'xnatpy:reconstructedImageDataParameters', 'xnatpy:regionResourceSubregionlabels', 'xnatpy:roiCollectionDataReferences', 'xnatpy:role_typeAllowed_actions', 'xnatpy:screeningAssessmentScans', 'xnatpy:stored_searchAllowed_groups', 'xnatpy:studyProtocolAcqconditions', 'xnatpy:studyProtocolImagesessiontypes', 'xnatpy:studyProtocolSubjectgroups', 'xnatpy:studyProtocolSubjectvariables', 'xnatpy:subjectDataExperiments', 'xnatpy:subjectDataFields', 'xnatpy:subjectDataResources', 'xnatpy:subjectDataSharing', 'xnatpy:subjectVariablesDataVariables', 'xnatpy:userAssigned_roles', 'xnatpy:userGroups', 'xnatpy:volumetricRegionSubregions', 'xnatpy:xnatExecutionEnvironmentParameters']\n",
      "[2020-02-07 16:37:32,347] INFO: convert_xsd:1410 >> === Writing result ===\n",
      "[2020-02-07 16:37:32,347] DEBUG: convert_xsd:997 >> Wait with processing icr:roiCollectionData because base xnat:imageAssessorData is not yet processed\n",
      "[2020-02-07 16:37:32,347] INFO: convert_xsd:1010 >> Processing xdat:field_mapping (base class None)\n",
      "[2020-02-07 16:37:32,348] INFO: convert_xsd:1010 >> Processing xdat:field_mapping_set (base class None)\n",
      "[2020-02-07 16:37:32,348] INFO: convert_xsd:1010 >> Processing xdat:role_type (base class None)\n",
      "[2020-02-07 16:37:32,349] INFO: convert_xsd:1010 >> Processing xdat:action_type (base class None)\n",
      "[2020-02-07 16:37:32,349] DEBUG: convert_xsd:997 >> Wait with processing xdat:primary_security_field because base xnatpy:primary_security_fieldString is not yet processed\n",
      "[2020-02-07 16:37:32,350] INFO: convert_xsd:1010 >> Processing xnatpy:primary_security_fieldString (base class None)\n",
      "[2020-02-07 16:37:32,350] INFO: convert_xsd:1010 >> Processing xdat:element_security (base class None)\n",
      "[2020-02-07 16:37:32,351] INFO: convert_xsd:1010 >> Processing xnatpy:element_securityListing_actions (base class None)\n",
      "[2020-02-07 16:37:32,352] INFO: convert_xsd:1010 >> Processing xdat:element_action_type (base class None)\n",
      "[2020-02-07 16:37:32,352] INFO: convert_xsd:1010 >> Processing xdat:user (base class None)\n",
      "[2020-02-07 16:37:32,353] DEBUG: convert_xsd:997 >> Wait with processing xnatpy:userPrimary_password because base xnatpy:primary_passwordString is not yet processed\n",
      "[2020-02-07 16:37:32,353] INFO: convert_xsd:1010 >> Processing xnatpy:primary_passwordString (base class None)\n",
      "[2020-02-07 16:37:32,354] INFO: convert_xsd:1010 >> Processing xdat:meta_data (base class None)\n",
      "[2020-02-07 16:37:32,354] INFO: convert_xsd:1010 >> Processing xdat:history (base class None)\n",
      "[2020-02-07 16:37:32,355] INFO: convert_xsd:1010 >> Processing xdat:change_info (base class None)\n",
      "[2020-02-07 16:37:32,355] INFO: convert_xsd:1010 >> Processing xdat:user_login (base class None)\n",
      "[2020-02-07 16:37:32,356] INFO: convert_xsd:1010 >> Processing xdat:stored_search (base class None)\n",
      "[2020-02-07 16:37:32,356] INFO: convert_xsd:1010 >> Processing xnatpy:stored_searchSort_by (base class None)\n",
      "[2020-02-07 16:37:32,357] INFO: convert_xsd:1010 >> Processing xnatpy:stored_searchAllowed_user (base class None)\n",
      "[2020-02-07 16:37:32,357] INFO: convert_xsd:1010 >> Processing xdat:criteria_set (base class None)\n",
      "[2020-02-07 16:37:32,358] INFO: convert_xsd:1010 >> Processing xdat:criteria (base class None)\n",
      "[2020-02-07 16:37:32,358] INFO: convert_xsd:1010 >> Processing xdat:search_field (base class None)\n",
      "[2020-02-07 16:37:32,359] INFO: convert_xsd:1010 >> Processing xdat:access_log (base class None)\n",
      "[2020-02-07 16:37:32,359] INFO: convert_xsd:1010 >> Processing xdat:userGroup (base class None)\n",
      "[2020-02-07 16:37:32,360] INFO: convert_xsd:1010 >> Processing xdat:newsEntry (base class None)\n",
      "[2020-02-07 16:37:32,360] INFO: convert_xsd:1010 >> Processing xdat:infoEntry (base class None)\n",
      "[2020-02-07 16:37:32,360] INFO: convert_xsd:1010 >> Processing xnat:projectData (base class None)\n",
      "[2020-02-07 16:37:32,361] DEBUG: convert_xsd:997 >> Wait with processing xnatpy:projectDataAliases because base xnatpy:aliasString is not yet processed\n",
      "[2020-02-07 16:37:32,361] INFO: convert_xsd:1010 >> Processing xnatpy:aliasString (base class None)\n",
      "[2020-02-07 16:37:32,362] DEBUG: convert_xsd:997 >> Wait with processing xnatpy:projectDataFields because base xnatpy:fieldString is not yet processed\n",
      "[2020-02-07 16:37:32,362] INFO: convert_xsd:1010 >> Processing xnatpy:fieldString (base class None)\n",
      "[2020-02-07 16:37:32,362] INFO: convert_xsd:1010 >> Processing xnat:subjectData (base class None)\n",
      "[2020-02-07 16:37:32,363] DEBUG: convert_xsd:997 >> Wait with processing xnatpy:subjectDataAddid because base xnatpy:addIDString is not yet processed\n",
      "[2020-02-07 16:37:32,363] INFO: convert_xsd:1010 >> Processing xnatpy:addIDString (base class None)\n",
      "[2020-02-07 16:37:32,364] INFO: convert_xsd:1010 >> Processing xnatpy:subjectDataFields (base class xnatpy:fieldString)\n",
      "[2020-02-07 16:37:32,364] INFO: convert_xsd:1010 >> Processing xnat:projectParticipant (base class None)\n",
      "[2020-02-07 16:37:32,365] INFO: convert_xsd:1010 >> Processing xnat:experimentData (base class None)\n",
      "[2020-02-07 16:37:32,365] DEBUG: convert_xsd:997 >> Wait with processing xnatpy:experimentDataSharing because base xnatpy:shareString is not yet processed\n",
      "[2020-02-07 16:37:32,366] INFO: convert_xsd:1010 >> Processing xnatpy:shareString (base class None)\n",
      "[2020-02-07 16:37:32,366] DEBUG: convert_xsd:997 >> Wait with processing xnatpy:experimentDataDelay because base xnatpy:delayInteger is not yet processed\n",
      "[2020-02-07 16:37:32,366] INFO: convert_xsd:1010 >> Processing xnatpy:delayInteger (base class None)\n",
      "[2020-02-07 16:37:32,367] INFO: convert_xsd:1010 >> Processing xnatpy:experimentDataFields (base class xnatpy:fieldString)\n",
      "[2020-02-07 16:37:32,367] INFO: convert_xsd:1010 >> Processing xnat:genericData (base class xnat:experimentData)\n",
      "[2020-02-07 16:37:32,367] INFO: convert_xsd:1010 >> Processing xnat:dicomCodedValue (base class None)\n",
      "[2020-02-07 16:37:32,368] INFO: convert_xsd:1010 >> Processing xnat:algorithm (base class None)\n",
      "[2020-02-07 16:37:32,368] INFO: convert_xsd:1010 >> Processing xnat:pVisitData (base class xnat:genericData)\n",
      "[2020-02-07 16:37:32,369] INFO: convert_xsd:1010 >> Processing xnat:abstractSubjectMetadata (base class None)\n",
      "[2020-02-07 16:37:32,369] INFO: convert_xsd:1010 >> Processing xnat:subjectMetadata (base class xnat:abstractSubjectMetadata)\n",
      "[2020-02-07 16:37:32,370] INFO: convert_xsd:1010 >> Processing xnat:abstractDemographicData (base class None)\n"
     ]
    },
    {
     "name": "stderr",
     "output_type": "stream",
     "text": [
      "[2020-02-07 16:37:32,370] INFO: convert_xsd:1010 >> Processing xnat:demographicData (base class xnat:abstractDemographicData)\n",
      "[2020-02-07 16:37:32,372] DEBUG: convert_xsd:997 >> Wait with processing xnatpy:demographicDataWeight because base xnatpy:weightFloat is not yet processed\n",
      "[2020-02-07 16:37:32,372] INFO: convert_xsd:1010 >> Processing xnatpy:weightFloat (base class None)\n",
      "[2020-02-07 16:37:32,372] DEBUG: convert_xsd:997 >> Wait with processing xnatpy:demographicDataHeight because base xnatpy:heightFloat is not yet processed\n",
      "[2020-02-07 16:37:32,373] INFO: convert_xsd:1010 >> Processing xnatpy:heightFloat (base class None)\n",
      "[2020-02-07 16:37:32,373] INFO: convert_xsd:1010 >> Processing xnat:subjectAssessorData (base class xnat:experimentData)\n",
      "[2020-02-07 16:37:32,374] INFO: convert_xsd:1010 >> Processing xnat:subjectVariablesData (base class xnat:subjectAssessorData)\n",
      "[2020-02-07 16:37:32,374] DEBUG: convert_xsd:997 >> Wait with processing xnatpy:subjectVariablesDataVariables because base xnatpy:variableString is not yet processed\n",
      "[2020-02-07 16:37:32,374] INFO: convert_xsd:1010 >> Processing xnatpy:variableString (base class None)\n",
      "[2020-02-07 16:37:32,375] INFO: convert_xsd:1010 >> Processing xnat:imageSessionData (base class xnat:subjectAssessorData)\n",
      "[2020-02-07 16:37:32,376] DEBUG: convert_xsd:997 >> Wait with processing xnatpy:imageSessionDataScanner because base xnatpy:scannerString is not yet processed\n",
      "[2020-02-07 16:37:32,376] INFO: convert_xsd:1010 >> Processing xnatpy:scannerString (base class None)\n",
      "[2020-02-07 16:37:32,376] INFO: convert_xsd:1010 >> Processing xnat:mrSessionData (base class xnat:imageSessionData)\n",
      "[2020-02-07 16:37:32,377] DEBUG: convert_xsd:997 >> Wait with processing xnat:mrAssessorData because base xnat:imageAssessorData is not yet processed\n",
      "[2020-02-07 16:37:32,377] DEBUG: convert_xsd:997 >> Wait with processing xnat:mrScanData because base xnat:imageScanData is not yet processed\n",
      "[2020-02-07 16:37:32,377] DEBUG: convert_xsd:1004 >> Wait with processing xnatpy:mrScanDataParameters because parent xnat:mrScanData is not yet processed\n",
      "[2020-02-07 16:37:32,378] DEBUG: convert_xsd:1004 >> Wait with processing xnatpy:mrScanDataParametersVoxelres because parent xnatpy:mrScanDataParameters is not yet processed\n",
      "[2020-02-07 16:37:32,378] DEBUG: convert_xsd:1004 >> Wait with processing xnatpy:mrScanDataParametersFov because parent xnatpy:mrScanDataParameters is not yet processed\n",
      "[2020-02-07 16:37:32,378] DEBUG: convert_xsd:1004 >> Wait with processing xnatpy:mrScanDataParametersMatrix because parent xnatpy:mrScanDataParameters is not yet processed\n",
      "[2020-02-07 16:37:32,379] DEBUG: convert_xsd:1004 >> Wait with processing xnatpy:mrScanDataParametersDiffusion because parent xnatpy:mrScanDataParameters is not yet processed\n",
      "[2020-02-07 16:37:32,379] DEBUG: convert_xsd:1004 >> Wait with processing xnatpy:mrScanDataParametersInplanephaseencoding because parent xnatpy:mrScanDataParameters is not yet processed\n",
      "[2020-02-07 16:37:32,379] DEBUG: convert_xsd:997 >> Wait with processing xnatpy:mrScanDataDcmvalidation because base xnatpy:dcmValidationString is not yet processed\n",
      "[2020-02-07 16:37:32,380] INFO: convert_xsd:1010 >> Processing xnatpy:dcmValidationString (base class None)\n",
      "[2020-02-07 16:37:32,380] INFO: convert_xsd:1010 >> Processing xnat:derivedData (base class xnat:experimentData)\n",
      "[2020-02-07 16:37:32,380] INFO: convert_xsd:1010 >> Processing xnat:reconstructedImageData (base class None)\n",
      "[2020-02-07 16:37:32,381] INFO: convert_xsd:1010 >> Processing xnat:investigatorData (base class None)\n",
      "[2020-02-07 16:37:32,382] INFO: convert_xsd:1010 >> Processing xnat:volumetricRegion (base class None)\n",
      "[2020-02-07 16:37:32,382] INFO: convert_xsd:1010 >> Processing xnatpy:volumetricRegionSubregions (base class None)\n",
      "[2020-02-07 16:37:32,383] DEBUG: convert_xsd:997 >> Wait with processing xnat:addField because base xdat:LONGVARCHAR is not yet processed\n",
      "[2020-02-07 16:37:32,383] INFO: convert_xsd:1010 >> Processing xnat:validationData (base class None)\n",
      "[2020-02-07 16:37:32,383] INFO: convert_xsd:1010 >> Processing xnat:abstractResource (base class None)\n",
      "[2020-02-07 16:37:32,383] DEBUG: convert_xsd:997 >> Wait with processing xnatpy:abstractResourceTags because base xnatpy:tagString is not yet processed\n",
      "[2020-02-07 16:37:32,383] INFO: convert_xsd:1010 >> Processing xnatpy:tagString (base class None)\n",
      "[2020-02-07 16:37:32,384] INFO: convert_xsd:1010 >> Processing xnat:resource (base class xnat:abstractResource)\n",
      "[2020-02-07 16:37:32,384] INFO: convert_xsd:1010 >> Processing xnat:imageResource (base class xnat:resource)\n",
      "[2020-02-07 16:37:32,385] INFO: convert_xsd:1010 >> Processing xnatpy:imageResourceDimensions (base class None)\n",
      "[2020-02-07 16:37:32,385] INFO: convert_xsd:1010 >> Processing xnatpy:imageResourceVoxelres (base class None)\n",
      "[2020-02-07 16:37:32,386] INFO: convert_xsd:1010 >> Processing xnat:resourceSeries (base class xnat:abstractResource)\n",
      "[2020-02-07 16:37:32,386] INFO: convert_xsd:1010 >> Processing xnat:imageResourceSeries (base class xnat:resourceSeries)\n",
      "[2020-02-07 16:37:32,387] INFO: convert_xsd:1010 >> Processing xnatpy:imageResourceSeriesDimensions (base class None)\n",
      "[2020-02-07 16:37:32,388] INFO: convert_xsd:1010 >> Processing xnatpy:imageResourceSeriesVoxelres (base class None)\n",
      "[2020-02-07 16:37:32,388] INFO: convert_xsd:1010 >> Processing xnat:dicomSeries (base class xnat:abstractResource)\n",
      "[2020-02-07 16:37:32,389] INFO: convert_xsd:1010 >> Processing xnatpy:dicomSeriesDimensions (base class None)\n",
      "[2020-02-07 16:37:32,389] INFO: convert_xsd:1010 >> Processing xnatpy:dicomSeriesVoxelres (base class None)\n",
      "[2020-02-07 16:37:32,390] INFO: convert_xsd:1010 >> Processing xnatpy:dicomSeriesImageset (base class None)\n",
      "[2020-02-07 16:37:32,390] INFO: convert_xsd:1010 >> Processing xnat:publicationResource (base class xnat:abstractResource)\n",
      "[2020-02-07 16:37:32,391] INFO: convert_xsd:1010 >> Processing xnat:abstractProtocol (base class None)\n",
      "[2020-02-07 16:37:32,391] INFO: convert_xsd:1010 >> Processing xnat:studyProtocol (base class xnat:abstractProtocol)\n",
      "[2020-02-07 16:37:32,392] INFO: convert_xsd:1010 >> Processing xnatpy:studyProtocolAcqconditions (base class None)\n",
      "[2020-02-07 16:37:32,392] INFO: convert_xsd:1010 >> Processing xnatpy:studyProtocolSubjectgroups (base class None)\n",
      "[2020-02-07 16:37:32,393] INFO: convert_xsd:1010 >> Processing xnatpy:studyProtocolSubjectvariables (base class None)\n",
      "[2020-02-07 16:37:32,393] INFO: convert_xsd:1010 >> Processing xnatpy:studyProtocolImagesessiontypes (base class None)\n",
      "[2020-02-07 16:37:32,394] DEBUG: convert_xsd:997 >> Wait with processing xnat:petAssessorData because base xnat:imageAssessorData is not yet processed\n",
      "[2020-02-07 16:37:32,394] INFO: convert_xsd:1010 >> Processing xnat:petSessionData (base class xnat:imageSessionData)\n",
      "[2020-02-07 16:37:32,395] INFO: convert_xsd:1010 >> Processing xnatpy:petSessionDataTracer (base class None)\n",
      "[2020-02-07 16:37:32,395] DEBUG: convert_xsd:997 >> Wait with processing xnatpy:petSessionDataTracerDose because base xnatpy:doseFloat is not yet processed\n",
      "[2020-02-07 16:37:32,396] INFO: convert_xsd:1010 >> Processing xnatpy:doseFloat (base class None)\n",
      "[2020-02-07 16:37:32,396] DEBUG: convert_xsd:997 >> Wait with processing xnatpy:petSessionDataTracerTotalmass because base xnatpy:totalMassFloat is not yet processed\n",
      "[2020-02-07 16:37:32,397] INFO: convert_xsd:1010 >> Processing xnatpy:totalMassFloat (base class None)\n",
      "[2020-02-07 16:37:32,397] DEBUG: convert_xsd:997 >> Wait with processing xnatpy:petSessionDataTracerIntermediate because base xnatpy:intermediateFloat is not yet processed\n",
      "[2020-02-07 16:37:32,398] INFO: convert_xsd:1010 >> Processing xnatpy:intermediateFloat (base class None)\n",
      "[2020-02-07 16:37:32,398] DEBUG: convert_xsd:997 >> Wait with processing xnatpy:petSessionDataTracerIsotope because base xnatpy:isotopeString is not yet processed\n",
      "[2020-02-07 16:37:32,399] INFO: convert_xsd:1010 >> Processing xnatpy:isotopeString (base class None)\n",
      "[2020-02-07 16:37:32,399] INFO: convert_xsd:1010 >> Processing xnat:petmrSessionData (base class xnat:imageSessionData)\n",
      "[2020-02-07 16:37:32,400] INFO: convert_xsd:1010 >> Processing xnatpy:petmrSessionDataTracer (base class None)\n"
     ]
    },
    {
     "name": "stderr",
     "output_type": "stream",
     "text": [
      "[2020-02-07 16:37:32,401] INFO: convert_xsd:1010 >> Processing xnatpy:petmrSessionDataTracerDose (base class xnatpy:doseFloat)\n",
      "[2020-02-07 16:37:32,402] INFO: convert_xsd:1010 >> Processing xnatpy:petmrSessionDataTracerTotalmass (base class xnatpy:totalMassFloat)\n",
      "[2020-02-07 16:37:32,402] INFO: convert_xsd:1010 >> Processing xnatpy:petmrSessionDataTracerIntermediate (base class xnatpy:intermediateFloat)\n",
      "[2020-02-07 16:37:32,403] INFO: convert_xsd:1010 >> Processing xnatpy:petmrSessionDataTracerIsotope (base class xnatpy:isotopeString)\n",
      "[2020-02-07 16:37:32,403] DEBUG: convert_xsd:997 >> Wait with processing xnat:petScanData because base xnat:imageScanData is not yet processed\n",
      "[2020-02-07 16:37:32,404] DEBUG: convert_xsd:1004 >> Wait with processing xnatpy:petScanDataParameters because parent xnat:petScanData is not yet processed\n",
      "[2020-02-07 16:37:32,404] DEBUG: convert_xsd:1004 >> Wait with processing xnatpy:petScanDataParametersFrames because parent xnatpy:petScanDataParameters is not yet processed\n",
      "[2020-02-07 16:37:32,405] DEBUG: convert_xsd:1004 >> Wait with processing xnatpy:petScanDataParametersFramesFrame because parent xnatpy:petScanDataParametersFrames is not yet processed\n",
      "[2020-02-07 16:37:32,405] DEBUG: convert_xsd:1004 >> Wait with processing xnatpy:petScanDataParametersDimensions because parent xnatpy:petScanDataParameters is not yet processed\n",
      "[2020-02-07 16:37:32,406] DEBUG: convert_xsd:1004 >> Wait with processing xnatpy:petScanDataParametersOffset because parent xnatpy:petScanDataParameters is not yet processed\n",
      "[2020-02-07 16:37:32,406] DEBUG: convert_xsd:1004 >> Wait with processing xnatpy:petScanDataParametersPixelsize because parent xnatpy:petScanDataParameters is not yet processed\n",
      "[2020-02-07 16:37:32,406] DEBUG: convert_xsd:1004 >> Wait with processing xnatpy:petScanDataParametersResolution because parent xnatpy:petScanDataParameters is not yet processed\n",
      "[2020-02-07 16:37:32,407] DEBUG: convert_xsd:1004 >> Wait with processing xnatpy:petScanDataParametersFilter because parent xnatpy:petScanDataParameters is not yet processed\n",
      "[2020-02-07 16:37:32,407] DEBUG: convert_xsd:1004 >> Wait with processing xnatpy:petScanDataParametersRfilter because parent xnatpy:petScanDataParameters is not yet processed\n",
      "[2020-02-07 16:37:32,407] DEBUG: convert_xsd:1004 >> Wait with processing xnatpy:petScanDataParametersZfilter because parent xnatpy:petScanDataParameters is not yet processed\n",
      "[2020-02-07 16:37:32,408] DEBUG: convert_xsd:997 >> Wait with processing xnatpy:petScanDataEcatvalidation because base xnatpy:ecatValidationString is not yet processed\n",
      "[2020-02-07 16:37:32,408] INFO: convert_xsd:1010 >> Processing xnatpy:ecatValidationString (base class None)\n",
      "[2020-02-07 16:37:32,408] INFO: convert_xsd:1010 >> Processing xnat:computationData (base class None)\n",
      "[2020-02-07 16:37:32,409] INFO: convert_xsd:1010 >> Processing xnat:regionResource (base class None)\n",
      "[2020-02-07 16:37:32,410] INFO: convert_xsd:1010 >> Processing xnatpy:regionResourceCreator (base class None)\n",
      "[2020-02-07 16:37:32,410] DEBUG: convert_xsd:997 >> Wait with processing xnatpy:regionResourceSubregionlabels because base xnatpy:labelString is not yet processed\n",
      "[2020-02-07 16:37:32,410] INFO: convert_xsd:1010 >> Processing xnatpy:labelString (base class None)\n",
      "[2020-02-07 16:37:32,411] INFO: convert_xsd:1010 >> Processing xnat:resourceCatalog (base class xnat:resource)\n",
      "[2020-02-07 16:37:32,411] DEBUG: convert_xsd:997 >> Wait with processing xnat:statisticsData because base xnat:abstractStatistics is not yet processed\n",
      "[2020-02-07 16:37:32,411] DEBUG: convert_xsd:997 >> Wait with processing xnatpy:statisticsDataAdditionalstatistics because base xnatpy:additionalStatisticsDouble is not yet processed\n",
      "[2020-02-07 16:37:32,412] INFO: convert_xsd:1010 >> Processing xnatpy:additionalStatisticsDouble (base class None)\n",
      "[2020-02-07 16:37:32,412] DEBUG: convert_xsd:997 >> Wait with processing xnatpy:statisticsDataAddfield because base xnatpy:addFieldString is not yet processed\n",
      "[2020-02-07 16:37:32,412] INFO: convert_xsd:1010 >> Processing xnatpy:addFieldString (base class None)\n",
      "[2020-02-07 16:37:32,413] INFO: convert_xsd:1010 >> Processing xnat:abstractStatistics (base class None)\n",
      "[2020-02-07 16:37:32,414] DEBUG: convert_xsd:997 >> Wait with processing xnat:qcAssessmentData because base xnat:mrAssessorData is not yet processed\n",
      "[2020-02-07 16:37:32,414] DEBUG: convert_xsd:1004 >> Wait with processing xnatpy:qcAssessmentDataScans because parent xnat:qcAssessmentData is not yet processed\n",
      "[2020-02-07 16:37:32,414] DEBUG: convert_xsd:1004 >> Wait with processing xnatpy:qcAssessmentDataScansScanSliceqc because parent xnatpy:qcAssessmentDataScansScan is not yet processed\n",
      "[2020-02-07 16:37:32,416] INFO: convert_xsd:1010 >> Processing xnat:datatypeProtocol (base class xnat:abstractProtocol)\n",
      "[2020-02-07 16:37:32,416] INFO: convert_xsd:1010 >> Processing xnat:fieldDefinitionGroup (base class None)\n",
      "[2020-02-07 16:37:32,417] INFO: convert_xsd:1010 >> Processing xnatpy:fieldDefinitionGroupFields (base class None)\n",
      "[2020-02-07 16:37:32,418] DEBUG: convert_xsd:997 >> Wait with processing xnatpy:fieldDefinitionGroupFieldsFieldPossiblevalues because base xnatpy:possibleValueString is not yet processed\n",
      "[2020-02-07 16:37:32,418] INFO: convert_xsd:1010 >> Processing xnatpy:possibleValueString (base class None)\n",
      "[2020-02-07 16:37:32,419] INFO: convert_xsd:1010 >> Processing xnat:contrastBolus (base class None)\n",
      "[2020-02-07 16:37:32,420] INFO: convert_xsd:1010 >> Processing xnat:imageAssessorData (base class xnat:derivedData)\n",
      "[2020-02-07 16:37:32,420] INFO: convert_xsd:1010 >> Processing xnat:imageScanData (base class None)\n",
      "[2020-02-07 16:37:32,421] INFO: convert_xsd:1010 >> Processing xnatpy:imageScanDataSharing (base class xnatpy:shareString)\n",
      "[2020-02-07 16:37:32,422] INFO: convert_xsd:1010 >> Processing xnatpy:imageScanDataScanner (base class xnatpy:scannerString)\n",
      "[2020-02-07 16:37:32,422] INFO: convert_xsd:1010 >> Processing xnat:ctSessionData (base class xnat:imageSessionData)\n",
      "[2020-02-07 16:37:32,422] INFO: convert_xsd:1010 >> Processing xnat:ctScanData (base class xnat:imageScanData)\n",
      "[2020-02-07 16:37:32,423] INFO: convert_xsd:1010 >> Processing xnatpy:ctScanDataParameters (base class None)\n",
      "[2020-02-07 16:37:32,424] INFO: convert_xsd:1010 >> Processing xnatpy:ctScanDataParametersVoxelres (base class None)\n",
      "[2020-02-07 16:37:32,425] INFO: convert_xsd:1010 >> Processing xnatpy:ctScanDataParametersFov (base class None)\n",
      "[2020-02-07 16:37:32,425] INFO: convert_xsd:1010 >> Processing xnatpy:ctScanDataParametersRescale (base class None)\n",
      "[2020-02-07 16:37:32,425] INFO: convert_xsd:1010 >> Processing xnatpy:ctScanDataParametersCollimationwidth (base class None)\n",
      "[2020-02-07 16:37:32,426] DEBUG: convert_xsd:997 >> Wait with processing xnatpy:ctScanDataParametersEstimateddosesaving because base xnatpy:estimatedDoseSavingFloat is not yet processed\n",
      "[2020-02-07 16:37:32,426] INFO: convert_xsd:1010 >> Processing xnatpy:estimatedDoseSavingFloat (base class None)\n",
      "[2020-02-07 16:37:32,427] DEBUG: convert_xsd:997 >> Wait with processing xnatpy:ctScanDataParametersDerivation because base xnatpy:derivationString is not yet processed\n",
      "[2020-02-07 16:37:32,428] INFO: convert_xsd:1010 >> Processing xnatpy:derivationString (base class None)\n",
      "[2020-02-07 16:37:32,428] INFO: convert_xsd:1010 >> Processing xnatpy:ctScanDataDcmvalidation (base class xnatpy:dcmValidationString)\n",
      "[2020-02-07 16:37:32,429] INFO: convert_xsd:1010 >> Processing xnat:crSessionData (base class xnat:imageSessionData)\n",
      "[2020-02-07 16:37:32,429] INFO: convert_xsd:1010 >> Processing xnat:crScanData (base class xnat:imageScanData)\n",
      "[2020-02-07 16:37:32,429] INFO: convert_xsd:1010 >> Processing xnat:dxSessionData (base class xnat:imageSessionData)\n",
      "[2020-02-07 16:37:32,429] INFO: convert_xsd:1010 >> Processing xnat:dxScanData (base class xnat:imageScanData)\n",
      "[2020-02-07 16:37:32,430] INFO: convert_xsd:1010 >> Processing xnat:mgSessionData (base class xnat:imageSessionData)\n",
      "[2020-02-07 16:37:32,430] INFO: convert_xsd:1010 >> Processing xnat:mgScanData (base class xnat:imageScanData)\n",
      "[2020-02-07 16:37:32,430] INFO: convert_xsd:1010 >> Processing xnat:ioSessionData (base class xnat:imageSessionData)\n"
     ]
    },
    {
     "name": "stderr",
     "output_type": "stream",
     "text": [
      "[2020-02-07 16:37:32,431] INFO: convert_xsd:1010 >> Processing xnat:ioScanData (base class xnat:imageScanData)\n",
      "[2020-02-07 16:37:32,431] INFO: convert_xsd:1010 >> Processing xnat:usSessionData (base class xnat:imageSessionData)\n",
      "[2020-02-07 16:37:32,432] INFO: convert_xsd:1010 >> Processing xnat:usScanData (base class xnat:imageScanData)\n",
      "[2020-02-07 16:37:32,432] INFO: convert_xsd:1010 >> Processing xnat:ecgSessionData (base class xnat:imageSessionData)\n",
      "[2020-02-07 16:37:32,432] INFO: convert_xsd:1010 >> Processing xnat:ecgScanData (base class xnat:imageScanData)\n",
      "[2020-02-07 16:37:32,433] INFO: convert_xsd:1010 >> Processing xnat:hdSessionData (base class xnat:imageSessionData)\n",
      "[2020-02-07 16:37:32,433] INFO: convert_xsd:1010 >> Processing xnat:hdScanData (base class xnat:imageScanData)\n",
      "[2020-02-07 16:37:32,433] INFO: convert_xsd:1010 >> Processing xnat:epsSessionData (base class xnat:imageSessionData)\n",
      "[2020-02-07 16:37:32,434] INFO: convert_xsd:1010 >> Processing xnat:epsScanData (base class xnat:imageScanData)\n",
      "[2020-02-07 16:37:32,434] INFO: convert_xsd:1010 >> Processing xnat:xaSessionData (base class xnat:imageSessionData)\n",
      "[2020-02-07 16:37:32,434] INFO: convert_xsd:1010 >> Processing xnat:xaScanData (base class xnat:imageScanData)\n",
      "[2020-02-07 16:37:32,435] INFO: convert_xsd:1010 >> Processing xnatpy:xaScanDataParameters (base class None)\n",
      "[2020-02-07 16:37:32,435] INFO: convert_xsd:1010 >> Processing xnatpy:xaScanDataParametersPixelres (base class None)\n",
      "[2020-02-07 16:37:32,436] INFO: convert_xsd:1010 >> Processing xnatpy:xaScanDataParametersFov (base class None)\n",
      "[2020-02-07 16:37:32,436] INFO: convert_xsd:1010 >> Processing xnat:rfSessionData (base class xnat:imageSessionData)\n",
      "[2020-02-07 16:37:32,436] INFO: convert_xsd:1010 >> Processing xnat:rfScanData (base class xnat:imageScanData)\n",
      "[2020-02-07 16:37:32,437] INFO: convert_xsd:1010 >> Processing xnat:xa3DSessionData (base class xnat:imageSessionData)\n",
      "[2020-02-07 16:37:32,437] INFO: convert_xsd:1010 >> Processing xnat:xa3DScanData (base class xnat:imageScanData)\n",
      "[2020-02-07 16:37:32,438] INFO: convert_xsd:1010 >> Processing xnat:dx3DCraniofacialSessionData (base class xnat:imageSessionData)\n",
      "[2020-02-07 16:37:32,439] INFO: convert_xsd:1010 >> Processing xnat:dx3DCraniofacialScanData (base class xnat:imageScanData)\n",
      "[2020-02-07 16:37:32,439] INFO: convert_xsd:1010 >> Processing xnat:nmSessionData (base class xnat:imageSessionData)\n",
      "[2020-02-07 16:37:32,439] INFO: convert_xsd:1010 >> Processing xnat:nmScanData (base class xnat:imageScanData)\n",
      "[2020-02-07 16:37:32,440] INFO: convert_xsd:1010 >> Processing xnat:srSessionData (base class xnat:imageSessionData)\n",
      "[2020-02-07 16:37:32,440] INFO: convert_xsd:1010 >> Processing xnat:srScanData (base class xnat:imageScanData)\n",
      "[2020-02-07 16:37:32,440] INFO: convert_xsd:1010 >> Processing xnat:esSessionData (base class xnat:imageSessionData)\n",
      "[2020-02-07 16:37:32,440] INFO: convert_xsd:1010 >> Processing xnat:esScanData (base class xnat:imageScanData)\n",
      "[2020-02-07 16:37:32,441] INFO: convert_xsd:1010 >> Processing xnat:esvSessionData (base class xnat:imageSessionData)\n",
      "[2020-02-07 16:37:32,441] INFO: convert_xsd:1010 >> Processing xnat:esvScanData (base class xnat:imageScanData)\n",
      "[2020-02-07 16:37:32,441] INFO: convert_xsd:1010 >> Processing xnat:gmSessionData (base class xnat:imageSessionData)\n",
      "[2020-02-07 16:37:32,442] INFO: convert_xsd:1010 >> Processing xnat:gmScanData (base class xnat:imageScanData)\n",
      "[2020-02-07 16:37:32,444] INFO: convert_xsd:1010 >> Processing xnat:gmvSessionData (base class xnat:imageSessionData)\n",
      "[2020-02-07 16:37:32,444] INFO: convert_xsd:1010 >> Processing xnat:gmvScanData (base class xnat:imageScanData)\n",
      "[2020-02-07 16:37:32,445] INFO: convert_xsd:1010 >> Processing xnat:smSessionData (base class xnat:imageSessionData)\n",
      "[2020-02-07 16:37:32,445] INFO: convert_xsd:1010 >> Processing xnat:smScanData (base class xnat:imageScanData)\n",
      "[2020-02-07 16:37:32,445] INFO: convert_xsd:1010 >> Processing xnat:xcSessionData (base class xnat:imageSessionData)\n",
      "[2020-02-07 16:37:32,446] INFO: convert_xsd:1010 >> Processing xnat:xcScanData (base class xnat:imageScanData)\n",
      "[2020-02-07 16:37:32,446] INFO: convert_xsd:1010 >> Processing xnat:xcvSessionData (base class xnat:imageSessionData)\n",
      "[2020-02-07 16:37:32,446] INFO: convert_xsd:1010 >> Processing xnat:xcvScanData (base class xnat:imageScanData)\n",
      "[2020-02-07 16:37:32,447] INFO: convert_xsd:1010 >> Processing xnat:opSessionData (base class xnat:imageSessionData)\n",
      "[2020-02-07 16:37:32,447] INFO: convert_xsd:1010 >> Processing xnat:opScanData (base class xnat:imageScanData)\n",
      "[2020-02-07 16:37:32,447] INFO: convert_xsd:1010 >> Processing xnat:optSessionData (base class xnat:imageSessionData)\n",
      "[2020-02-07 16:37:32,448] INFO: convert_xsd:1010 >> Processing xnat:optScanData (base class xnat:imageScanData)\n",
      "[2020-02-07 16:37:32,449] INFO: convert_xsd:1010 >> Processing xnatpy:optScanDataParameters (base class None)\n",
      "[2020-02-07 16:37:32,449] INFO: convert_xsd:1010 >> Processing xnatpy:optScanDataParametersVoxelres (base class None)\n",
      "[2020-02-07 16:37:32,450] INFO: convert_xsd:1010 >> Processing xnatpy:optScanDataParametersFov (base class None)\n",
      "[2020-02-07 16:37:32,451] INFO: convert_xsd:1010 >> Processing xnatpy:optScanDataDcmvalidation (base class xnatpy:dcmValidationString)\n",
      "[2020-02-07 16:37:32,451] INFO: convert_xsd:1010 >> Processing xnat:rtSessionData (base class xnat:imageSessionData)\n",
      "[2020-02-07 16:37:32,452] INFO: convert_xsd:1010 >> Processing xnat:rtImageScanData (base class xnat:imageScanData)\n",
      "[2020-02-07 16:37:32,452] INFO: convert_xsd:1010 >> Processing xnat:otherDicomSessionData (base class xnat:imageSessionData)\n",
      "[2020-02-07 16:37:32,453] INFO: convert_xsd:1010 >> Processing xnat:scScanData (base class xnat:imageScanData)\n",
      "[2020-02-07 16:37:32,456] INFO: convert_xsd:1010 >> Processing xnat:segScanData (base class xnat:imageScanData)\n",
      "[2020-02-07 16:37:32,456] INFO: convert_xsd:1010 >> Processing xnat:mrsScanData (base class xnat:imageScanData)\n",
      "[2020-02-07 16:37:32,457] INFO: convert_xsd:1010 >> Processing xnat:voiceAudioScanData (base class xnat:imageScanData)\n",
      "[2020-02-07 16:37:32,458] INFO: convert_xsd:1010 >> Processing xnat:otherDicomScanData (base class xnat:imageScanData)\n",
      "[2020-02-07 16:37:32,458] INFO: convert_xsd:1010 >> Processing xnat:qcScanData (base class None)\n",
      "[2020-02-07 16:37:32,459] DEBUG: convert_xsd:997 >> Wait with processing xnatpy:qcScanDataRating because base xnatpy:ratingString is not yet processed\n",
      "[2020-02-07 16:37:32,460] INFO: convert_xsd:1010 >> Processing xnatpy:ratingString (base class None)\n",
      "[2020-02-07 16:37:32,460] INFO: convert_xsd:1010 >> Processing xnatpy:qcScanDataFields (base class xnatpy:fieldString)\n",
      "[2020-02-07 16:37:32,460] INFO: convert_xsd:1010 >> Processing xnat:mrQcScanData (base class xnat:qcScanData)\n",
      "[2020-02-07 16:37:32,461] INFO: convert_xsd:1010 >> Processing xnat:petQcScanData (base class xnat:qcScanData)\n",
      "[2020-02-07 16:37:32,462] INFO: convert_xsd:1010 >> Processing xnat:otherQcScanData (base class xnat:qcScanData)\n",
      "[2020-02-07 16:37:32,462] INFO: convert_xsd:1010 >> Processing xnat:qcManualAssessorData (base class xnat:imageAssessorData)\n",
      "[2020-02-07 16:37:32,463] INFO: convert_xsd:1010 >> Processing xnat:megSessionData (base class xnat:imageSessionData)\n",
      "[2020-02-07 16:37:32,464] INFO: convert_xsd:1010 >> Processing xnat:megScanData (base class xnat:imageScanData)\n",
      "[2020-02-07 16:37:32,464] INFO: convert_xsd:1010 >> Processing xnat:eegSessionData (base class xnat:imageSessionData)\n",
      "[2020-02-07 16:37:32,465] DEBUG: convert_xsd:997 >> Wait with processing xnatpy:eegSessionDataSamplingrate because base xnatpy:samplingRateFloat is not yet processed\n",
      "[2020-02-07 16:37:32,465] INFO: convert_xsd:1010 >> Processing xnatpy:samplingRateFloat (base class None)\n",
      "[2020-02-07 16:37:32,465] DEBUG: convert_xsd:997 >> Wait with processing xnatpy:eegSessionDataSamplinginterval because base xnatpy:samplingIntervalFloat is not yet processed\n",
      "[2020-02-07 16:37:32,466] INFO: convert_xsd:1010 >> Processing xnatpy:samplingIntervalFloat (base class None)\n",
      "[2020-02-07 16:37:32,466] INFO: convert_xsd:1010 >> Processing xnat:eegScanData (base class xnat:imageScanData)\n",
      "[2020-02-07 16:37:32,467] INFO: convert_xsd:1010 >> Processing xnatpy:eegScanDataParameters (base class None)\n"
     ]
    },
    {
     "name": "stderr",
     "output_type": "stream",
     "text": [
      "[2020-02-07 16:37:32,467] INFO: convert_xsd:1010 >> Processing xnatpy:eegScanDataParametersDatarecord (base class None)\n",
      "[2020-02-07 16:37:32,468] INFO: convert_xsd:1010 >> Processing xnatpy:eegScanDataChannels (base class None)\n",
      "[2020-02-07 16:37:32,468] INFO: convert_xsd:1010 >> Processing xnatpy:eegScanDataSoftwarefiltersimpedances (base class None)\n",
      "[2020-02-07 16:37:32,469] INFO: convert_xsd:1010 >> Processing xnatpy:eegScanDataSoftwarefiltersimpedancesImpedance (base class None)\n",
      "[2020-02-07 16:37:32,469] INFO: convert_xsd:1010 >> Processing xnat_a:sideEffectsPittsburghData (base class xnat:subjectAssessorData)\n",
      "[2020-02-07 16:37:32,470] INFO: convert_xsd:1010 >> Processing xnat_a:ybocsData (base class xnat:subjectAssessorData)\n",
      "[2020-02-07 16:37:32,471] INFO: convert_xsd:1010 >> Processing xnat_a:ygtssData (base class xnat:subjectAssessorData)\n",
      "[2020-02-07 16:37:32,473] INFO: convert_xsd:1010 >> Processing xnatpy:ygtssDataMotor (base class None)\n",
      "[2020-02-07 16:37:32,473] INFO: convert_xsd:1010 >> Processing xnatpy:ygtssDataPhonic (base class None)\n",
      "[2020-02-07 16:37:32,474] INFO: convert_xsd:1010 >> Processing xnat_a:updrs3Data (base class xnat:subjectAssessorData)\n",
      "[2020-02-07 16:37:32,476] INFO: convert_xsd:1010 >> Processing xnatpy:updrs3DataClicker (base class None)\n",
      "[2020-02-07 16:37:32,477] INFO: convert_xsd:1010 >> Processing xnatpy:updrs3DataTremorrest (base class None)\n",
      "[2020-02-07 16:37:32,478] INFO: convert_xsd:1010 >> Processing xnatpy:updrs3DataRigidity (base class None)\n",
      "[2020-02-07 16:37:32,479] INFO: convert_xsd:1010 >> Processing xnatpy:updrs3DataHandmovementsgrip (base class None)\n",
      "[2020-02-07 16:37:32,480] INFO: convert_xsd:1010 >> Processing xnatpy:updrs3DataActionposturaltremor (base class None)\n",
      "[2020-02-07 16:37:32,481] INFO: convert_xsd:1010 >> Processing xnatpy:updrs3DataHandsram (base class None)\n",
      "[2020-02-07 16:37:32,483] INFO: convert_xsd:1010 >> Processing xnatpy:updrs3DataFingertaps (base class None)\n",
      "[2020-02-07 16:37:32,485] INFO: convert_xsd:1010 >> Processing xnatpy:updrs3DataFoottaps (base class None)\n",
      "[2020-02-07 16:37:32,485] INFO: convert_xsd:1010 >> Processing xnat_a:scidResearchData (base class xnat:subjectAssessorData)\n",
      "[2020-02-07 16:37:32,488] INFO: convert_xsd:1010 >> Processing xnatpy:scidResearchDataMoodepisodes (base class None)\n",
      "[2020-02-07 16:37:32,489] INFO: convert_xsd:1010 >> Processing xnatpy:scidResearchDataPsychoticsymptoms (base class None)\n",
      "[2020-02-07 16:37:32,490] INFO: convert_xsd:1010 >> Processing xnatpy:scidResearchDataPsychoticdisorders (base class None)\n",
      "[2020-02-07 16:37:32,491] INFO: convert_xsd:1010 >> Processing xnatpy:scidResearchDataMooddisorders (base class None)\n",
      "[2020-02-07 16:37:32,492] INFO: convert_xsd:1010 >> Processing xnatpy:scidResearchDataSubstanceusedisorders (base class None)\n",
      "[2020-02-07 16:37:32,493] INFO: convert_xsd:1010 >> Processing xnatpy:scidResearchDataAnxietydisorders (base class None)\n",
      "[2020-02-07 16:37:32,494] INFO: convert_xsd:1010 >> Processing xnatpy:scidResearchDataSomatoformdisorders (base class None)\n",
      "[2020-02-07 16:37:32,494] INFO: convert_xsd:1010 >> Processing xnatpy:scidResearchDataEatingdisorders (base class None)\n",
      "[2020-02-07 16:37:32,498] INFO: convert_xsd:1010 >> Processing xnatpy:scidResearchDataOptional (base class None)\n",
      "[2020-02-07 16:37:32,499] INFO: convert_xsd:1010 >> Processing scr:screeningAssessment (base class xnat:imageAssessorData)\n",
      "[2020-02-07 16:37:32,500] INFO: convert_xsd:1010 >> Processing scr:screeningScanData (base class None)\n",
      "[2020-02-07 16:37:32,500] INFO: convert_xsd:1010 >> Processing build:imageSessionData (base class None)\n",
      "[2020-02-07 16:37:32,501] DEBUG: convert_xsd:997 >> Wait with processing xnatpy:imageSessionDataPipeline because base build:pipelineData is not yet processed\n",
      "[2020-02-07 16:37:32,501] INFO: convert_xsd:1010 >> Processing build:pipelineParameterData (base class None)\n",
      "[2020-02-07 16:37:32,502] INFO: convert_xsd:1010 >> Processing xnatpy:pipelineParameterDataParameter (base class None)\n",
      "[2020-02-07 16:37:32,502] INFO: convert_xsd:1010 >> Processing build:pipelineData (base class None)\n",
      "[2020-02-07 16:37:32,503] INFO: convert_xsd:1010 >> Processing build:buildData (base class None)\n",
      "[2020-02-07 16:37:32,503] INFO: convert_xsd:1010 >> Processing pipe:pipelineDetails (base class None)\n",
      "[2020-02-07 16:37:32,504] INFO: convert_xsd:1010 >> Processing xnatpy:pipelineDetailsParameters (base class None)\n",
      "[2020-02-07 16:37:32,504] INFO: convert_xsd:1010 >> Processing xnatpy:pipelineDetailsParametersParameterValues (base class None)\n",
      "[2020-02-07 16:37:32,505] INFO: convert_xsd:1010 >> Processing wrk:workflowData (base class None)\n",
      "[2020-02-07 16:37:32,506] INFO: convert_xsd:1010 >> Processing wrk:abstractExecutionEnvironment (base class None)\n",
      "[2020-02-07 16:37:32,506] INFO: convert_xsd:1010 >> Processing wrk:xnatExecutionEnvironment (base class wrk:abstractExecutionEnvironment)\n",
      "[2020-02-07 16:37:32,507] DEBUG: convert_xsd:997 >> Wait with processing xnatpy:xnatExecutionEnvironmentParameters because base xnatpy:parameterString is not yet processed\n",
      "[2020-02-07 16:37:32,508] INFO: convert_xsd:1010 >> Processing xnatpy:parameterString (base class None)\n",
      "[2020-02-07 16:37:32,508] INFO: convert_xsd:1010 >> Processing xnatpy:xnatExecutionEnvironmentParameterfile (base class None)\n",
      "[2020-02-07 16:37:32,509] INFO: convert_xsd:1010 >> Processing prov:process (base class None)\n",
      "[2020-02-07 16:37:32,509] INFO: convert_xsd:1010 >> Processing prov:processStep (base class None)\n",
      "[2020-02-07 16:37:32,510] DEBUG: convert_xsd:997 >> Wait with processing xnatpy:processStepProgram because base xnatpy:programString is not yet processed\n",
      "[2020-02-07 16:37:32,511] INFO: convert_xsd:1010 >> Processing xnatpy:programString (base class None)\n",
      "[2020-02-07 16:37:32,511] DEBUG: convert_xsd:997 >> Wait with processing xnatpy:processStepPlatform because base xnatpy:platformString is not yet processed\n",
      "[2020-02-07 16:37:32,512] INFO: convert_xsd:1010 >> Processing xnatpy:platformString (base class None)\n",
      "[2020-02-07 16:37:32,512] DEBUG: convert_xsd:997 >> Wait with processing xnatpy:processStepCompiler because base xnatpy:compilerString is not yet processed\n",
      "[2020-02-07 16:37:32,513] INFO: convert_xsd:1010 >> Processing xnatpy:compilerString (base class None)\n",
      "[2020-02-07 16:37:32,513] DEBUG: convert_xsd:997 >> Wait with processing xnatpy:processStepLibrary because base xnatpy:libraryString is not yet processed\n",
      "[2020-02-07 16:37:32,513] INFO: convert_xsd:1010 >> Processing xnatpy:libraryString (base class None)\n",
      "[2020-02-07 16:37:32,514] INFO: convert_xsd:1010 >> Processing cat:catalog (base class None)\n",
      "[2020-02-07 16:37:32,514] DEBUG: convert_xsd:997 >> Wait with processing xnatpy:catalogMetafields because base xnatpy:metaFieldString is not yet processed\n",
      "[2020-02-07 16:37:32,515] INFO: convert_xsd:1010 >> Processing xnatpy:metaFieldString (base class None)\n",
      "[2020-02-07 16:37:32,515] INFO: convert_xsd:1010 >> Processing cat:entry (base class None)\n",
      "[2020-02-07 16:37:32,516] INFO: convert_xsd:1010 >> Processing xnatpy:entryMetafields (base class xnatpy:metaFieldString)\n",
      "[2020-02-07 16:37:32,516] INFO: convert_xsd:1010 >> Processing cat:dcmEntry (base class cat:entry)\n",
      "[2020-02-07 16:37:32,517] INFO: convert_xsd:1010 >> Processing cat:dcmCatalog (base class cat:catalog)\n",
      "[2020-02-07 16:37:32,517] INFO: convert_xsd:1010 >> Processing xnatpy:dcmCatalogDimensions (base class None)\n",
      "[2020-02-07 16:37:32,518] INFO: convert_xsd:1010 >> Processing xnatpy:dcmCatalogVoxelres (base class None)\n",
      "[2020-02-07 16:37:32,518] INFO: convert_xsd:1010 >> Processing arc:project (base class None)\n",
      "[2020-02-07 16:37:32,519] INFO: convert_xsd:1010 >> Processing xnatpy:projectPipelines (base class None)\n",
      "[2020-02-07 16:37:32,519] INFO: convert_xsd:1010 >> Processing xnatpy:projectPipelinesDescendants (base class None)\n",
      "[2020-02-07 16:37:32,520] DEBUG: convert_xsd:997 >> Wait with processing xnatpy:projectPipelinesDescendantsDescendantPipeline because base arc:pipelineData is not yet processed\n",
      "[2020-02-07 16:37:32,521] DEBUG: convert_xsd:997 >> Wait with processing xnatpy:projectPipelinesPipeline because base arc:pipelineData is not yet processed\n",
      "[2020-02-07 16:37:32,521] INFO: convert_xsd:1010 >> Processing arc:pipelineData (base class None)\n"
     ]
    },
    {
     "name": "stderr",
     "output_type": "stream",
     "text": [
      "[2020-02-07 16:37:32,522] INFO: convert_xsd:1010 >> Processing arc:pipelineParameterData (base class None)\n",
      "[2020-02-07 16:37:32,522] DEBUG: convert_xsd:997 >> Wait with processing xnatpy:pipelineParameterDataCsvvalues because base xnatpy:csvValuesString is not yet processed\n",
      "[2020-02-07 16:37:32,522] INFO: convert_xsd:1010 >> Processing xnatpy:csvValuesString (base class None)\n",
      "[2020-02-07 16:37:32,523] INFO: convert_xsd:1010 >> Processing arc:pathInfo (base class None)\n",
      "[2020-02-07 16:37:32,523] DEBUG: convert_xsd:997 >> Wait with processing arc:property because base xnatpy:propertyString is not yet processed\n",
      "[2020-02-07 16:37:32,524] INFO: convert_xsd:1010 >> Processing xnatpy:propertyString (base class None)\n",
      "[2020-02-07 16:37:32,524] DEBUG: convert_xsd:997 >> Wait with processing arc:fieldSpecification because base xnatpy:fieldSpecificationString is not yet processed\n",
      "[2020-02-07 16:37:32,524] INFO: convert_xsd:1010 >> Processing xnatpy:fieldSpecificationString (base class None)\n",
      "[2020-02-07 16:37:32,525] INFO: convert_xsd:1010 >> Processing val:protocolData (base class xnat:imageAssessorData)\n",
      "[2020-02-07 16:37:32,525] INFO: convert_xsd:1010 >> Processing xnatpy:protocolDataCheck (base class None)\n",
      "[2020-02-07 16:37:32,526] INFO: convert_xsd:1010 >> Processing xnatpy:protocolDataCheckConditions (base class None)\n",
      "[2020-02-07 16:37:32,526] DEBUG: convert_xsd:997 >> Wait with processing xnatpy:protocolDataCheckComments because base xnatpy:commentString is not yet processed\n",
      "[2020-02-07 16:37:32,527] INFO: convert_xsd:1010 >> Processing xnatpy:commentString (base class None)\n",
      "[2020-02-07 16:37:32,527] INFO: convert_xsd:1010 >> Processing xnatpy:protocolDataScans (base class None)\n",
      "[2020-02-07 16:37:32,528] INFO: convert_xsd:1010 >> Processing xnatpy:protocolDataScansScan_checkConditions (base class None)\n",
      "[2020-02-07 16:37:32,528] INFO: convert_xsd:1010 >> Processing xnatpy:protocolDataScansScan_checkComments (base class xnatpy:commentString)\n",
      "[2020-02-07 16:37:32,529] INFO: convert_xsd:1010 >> Processing val:additionalVal (base class None)\n",
      "[2020-02-07 16:37:32,529] INFO: convert_xsd:1010 >> Processing display:HTML-Cell (base class None)\n",
      "[2020-02-07 16:37:32,529] INFO: convert_xsd:1010 >> Processing display:FieldType (base class None)\n",
      "[2020-02-07 16:37:32,530] DEBUG: convert_xsd:997 >> Wait with processing xnatpy:FieldTypeContent because base xnatpy:ContentString is not yet processed\n",
      "[2020-02-07 16:37:32,530] INFO: convert_xsd:1010 >> Processing xnatpy:ContentString (base class None)\n",
      "[2020-02-07 16:37:32,531] INFO: convert_xsd:1010 >> Processing xnatpy:FieldTypeHtml-link (base class None)\n",
      "[2020-02-07 16:37:32,531] INFO: convert_xsd:1010 >> Processing xnatpy:FieldTypeHtml-linkSecurelink (base class None)\n",
      "[2020-02-07 16:37:32,532] INFO: convert_xsd:1010 >> Processing xnatpy:FieldTypeHtml-linkSecurelinkSecuritymappingvalue (base class None)\n",
      "[2020-02-07 16:37:32,533] INFO: convert_xsd:1010 >> Processing xnatpy:FieldTypeHtml-linkProperty (base class None)\n",
      "[2020-02-07 16:37:32,533] INFO: convert_xsd:1010 >> Processing xnatpy:FieldTypeHtml-linkPropertyInsertvalue (base class None)\n",
      "[2020-02-07 16:37:32,534] INFO: convert_xsd:1010 >> Processing xnatpy:FieldTypeHtml-image (base class None)\n",
      "[2020-02-07 16:37:32,535] INFO: convert_xsd:1010 >> Processing display:SubQueryField (base class display:FieldType)\n",
      "[2020-02-07 16:37:32,535] INFO: convert_xsd:1010 >> Processing xnatpy:SubQueryFieldMappingcolumns (base class None)\n",
      "[2020-02-07 16:37:32,536] INFO: convert_xsd:1010 >> Processing xdat:LONGVARCHAR (base class None)\n",
      "[2020-02-07 16:37:32,536] INFO: convert_xsd:1010 >> Processing LayoutDescription (base class None)\n",
      "[2020-02-07 16:37:32,537] INFO: convert_xsd:1010 >> Processing xnatpy:LayoutDescriptionCoordinates (base class None)\n",
      "[2020-02-07 16:37:32,538] INFO: convert_xsd:1010 >> Processing SchemaLinkType (base class None)\n",
      "[2020-02-07 16:37:32,538] INFO: convert_xsd:1010 >> Processing PlexiViewerType (base class None)\n",
      "[2020-02-07 16:37:32,539] INFO: convert_xsd:1010 >> Processing xnatpy:PlexiViewerTypeViewableitem (base class None)\n",
      "[2020-02-07 16:37:32,540] INFO: convert_xsd:1010 >> Processing xnatpy:PlexiViewerTypeViewableitemSchemalink (base class SchemaLinkType)\n",
      "[2020-02-07 16:37:32,541] INFO: convert_xsd:1010 >> Processing xnatpy:PlexiViewerTypeViewableitemUserinterface (base class None)\n",
      "[2020-02-07 16:37:32,542] INFO: convert_xsd:1010 >> Processing xnatpy:PlexiViewerTypeViewableitemUserinterfaceLinkeddropdown (base class None)\n",
      "[2020-02-07 16:37:32,542] INFO: convert_xsd:1010 >> Processing xnatpy:PlexiViewerTypeViewableitemThumbnail (base class None)\n",
      "[2020-02-07 16:37:32,543] INFO: convert_xsd:1010 >> Processing xnatpy:PlexiViewerTypeViewableitemThumbnailSlice (base class None)\n",
      "[2020-02-07 16:37:32,543] INFO: convert_xsd:1010 >> Processing xnatpy:PlexiViewerTypeViewableitemLo-res (base class None)\n",
      "[2020-02-07 16:37:32,544] INFO: convert_xsd:1010 >> Processing xnatpy:PlexiViewerTypeViewableitemLo-resParameter (base class None)\n",
      "[2020-02-07 16:37:32,544] INFO: convert_xsd:1010 >> Processing xnatpy:PlexiViewerTypeViewableitemHi-res (base class None)\n",
      "[2020-02-07 16:37:32,545] INFO: convert_xsd:1010 >> Processing xnatpy:PlexiViewerTypeViewableitemHi-resLayer (base class SchemaLinkType)\n",
      "[2020-02-07 16:37:32,545] INFO: convert_xsd:1010 >> Processing xnatpy:PlexiViewerTypeViewableitemHi-resLayoutref (base class None)\n",
      "[2020-02-07 16:37:32,545] INFO: convert_xsd:1010 >> Processing icr:roiCollectionData (base class xnat:imageAssessorData)\n",
      "[2020-02-07 16:37:32,546] INFO: convert_xsd:1010 >> Processing xdat:primary_security_field (base class xnatpy:primary_security_fieldString)\n",
      "[2020-02-07 16:37:32,546] INFO: convert_xsd:1010 >> Processing xnatpy:userPrimary_password (base class xnatpy:primary_passwordString)\n",
      "[2020-02-07 16:37:32,546] INFO: convert_xsd:1010 >> Processing xnatpy:projectDataAliases (base class xnatpy:aliasString)\n",
      "[2020-02-07 16:37:32,547] INFO: convert_xsd:1010 >> Processing xnatpy:projectDataFields (base class xnatpy:fieldString)\n",
      "[2020-02-07 16:37:32,547] INFO: convert_xsd:1010 >> Processing xnatpy:subjectDataAddid (base class xnatpy:addIDString)\n",
      "[2020-02-07 16:37:32,548] INFO: convert_xsd:1010 >> Processing xnatpy:experimentDataSharing (base class xnatpy:shareString)\n",
      "[2020-02-07 16:37:32,548] INFO: convert_xsd:1010 >> Processing xnatpy:experimentDataDelay (base class xnatpy:delayInteger)\n",
      "[2020-02-07 16:37:32,549] INFO: convert_xsd:1010 >> Processing xnatpy:demographicDataWeight (base class xnatpy:weightFloat)\n",
      "[2020-02-07 16:37:32,549] INFO: convert_xsd:1010 >> Processing xnatpy:demographicDataHeight (base class xnatpy:heightFloat)\n",
      "[2020-02-07 16:37:32,550] INFO: convert_xsd:1010 >> Processing xnatpy:subjectVariablesDataVariables (base class xnatpy:variableString)\n",
      "[2020-02-07 16:37:32,550] INFO: convert_xsd:1010 >> Processing xnatpy:imageSessionDataScanner (base class xnatpy:scannerString)\n",
      "[2020-02-07 16:37:32,551] INFO: convert_xsd:1010 >> Processing xnat:mrAssessorData (base class xnat:imageAssessorData)\n",
      "[2020-02-07 16:37:32,551] INFO: convert_xsd:1010 >> Processing xnat:mrScanData (base class xnat:imageScanData)\n",
      "[2020-02-07 16:37:32,552] INFO: convert_xsd:1010 >> Processing xnatpy:mrScanDataParameters (base class None)\n",
      "[2020-02-07 16:37:32,553] INFO: convert_xsd:1010 >> Processing xnatpy:mrScanDataParametersVoxelres (base class None)\n",
      "[2020-02-07 16:37:32,553] INFO: convert_xsd:1010 >> Processing xnatpy:mrScanDataParametersFov (base class None)\n",
      "[2020-02-07 16:37:32,554] INFO: convert_xsd:1010 >> Processing xnatpy:mrScanDataParametersMatrix (base class None)\n",
      "[2020-02-07 16:37:32,554] INFO: convert_xsd:1010 >> Processing xnatpy:mrScanDataParametersDiffusion (base class None)\n",
      "[2020-02-07 16:37:32,555] INFO: convert_xsd:1010 >> Processing xnatpy:mrScanDataParametersInplanephaseencoding (base class None)\n",
      "[2020-02-07 16:37:32,555] INFO: convert_xsd:1010 >> Processing xnatpy:mrScanDataDcmvalidation (base class xnatpy:dcmValidationString)\n",
      "[2020-02-07 16:37:32,556] INFO: convert_xsd:1010 >> Processing xnat:addField (base class xdat:LONGVARCHAR)\n",
      "[2020-02-07 16:37:32,556] INFO: convert_xsd:1010 >> Processing xnatpy:abstractResourceTags (base class xnatpy:tagString)\n"
     ]
    },
    {
     "name": "stderr",
     "output_type": "stream",
     "text": [
      "[2020-02-07 16:37:32,557] INFO: convert_xsd:1010 >> Processing xnat:petAssessorData (base class xnat:imageAssessorData)\n",
      "[2020-02-07 16:37:32,557] INFO: convert_xsd:1010 >> Processing xnatpy:petSessionDataTracerDose (base class xnatpy:doseFloat)\n",
      "[2020-02-07 16:37:32,558] INFO: convert_xsd:1010 >> Processing xnatpy:petSessionDataTracerTotalmass (base class xnatpy:totalMassFloat)\n",
      "[2020-02-07 16:37:32,559] INFO: convert_xsd:1010 >> Processing xnatpy:petSessionDataTracerIntermediate (base class xnatpy:intermediateFloat)\n",
      "[2020-02-07 16:37:32,559] INFO: convert_xsd:1010 >> Processing xnatpy:petSessionDataTracerIsotope (base class xnatpy:isotopeString)\n",
      "[2020-02-07 16:37:32,559] INFO: convert_xsd:1010 >> Processing xnat:petScanData (base class xnat:imageScanData)\n",
      "[2020-02-07 16:37:32,560] INFO: convert_xsd:1010 >> Processing xnatpy:petScanDataParameters (base class None)\n",
      "[2020-02-07 16:37:32,563] INFO: convert_xsd:1010 >> Processing xnatpy:petScanDataParametersFrames (base class None)\n",
      "[2020-02-07 16:37:32,564] INFO: convert_xsd:1010 >> Processing xnatpy:petScanDataParametersFramesFrame (base class None)\n",
      "[2020-02-07 16:37:32,565] INFO: convert_xsd:1010 >> Processing xnatpy:petScanDataParametersDimensions (base class None)\n",
      "[2020-02-07 16:37:32,565] INFO: convert_xsd:1010 >> Processing xnatpy:petScanDataParametersOffset (base class None)\n",
      "[2020-02-07 16:37:32,566] INFO: convert_xsd:1010 >> Processing xnatpy:petScanDataParametersPixelsize (base class None)\n",
      "[2020-02-07 16:37:32,566] INFO: convert_xsd:1010 >> Processing xnatpy:petScanDataParametersResolution (base class None)\n",
      "[2020-02-07 16:37:32,566] INFO: convert_xsd:1010 >> Processing xnatpy:petScanDataParametersFilter (base class None)\n",
      "[2020-02-07 16:37:32,566] INFO: convert_xsd:1010 >> Processing xnatpy:petScanDataParametersRfilter (base class None)\n",
      "[2020-02-07 16:37:32,567] INFO: convert_xsd:1010 >> Processing xnatpy:petScanDataParametersZfilter (base class None)\n",
      "[2020-02-07 16:37:32,568] INFO: convert_xsd:1010 >> Processing xnatpy:petScanDataEcatvalidation (base class xnatpy:ecatValidationString)\n",
      "[2020-02-07 16:37:32,568] INFO: convert_xsd:1010 >> Processing xnatpy:regionResourceSubregionlabels (base class xnatpy:labelString)\n",
      "[2020-02-07 16:37:32,568] INFO: convert_xsd:1010 >> Processing xnat:statisticsData (base class xnat:abstractStatistics)\n",
      "[2020-02-07 16:37:32,569] INFO: convert_xsd:1010 >> Processing xnatpy:statisticsDataAdditionalstatistics (base class xnatpy:additionalStatisticsDouble)\n",
      "[2020-02-07 16:37:32,569] INFO: convert_xsd:1010 >> Processing xnatpy:statisticsDataAddfield (base class xnatpy:addFieldString)\n",
      "[2020-02-07 16:37:32,570] INFO: convert_xsd:1010 >> Processing xnat:qcAssessmentData (base class xnat:mrAssessorData)\n",
      "[2020-02-07 16:37:32,571] INFO: convert_xsd:1010 >> Processing xnatpy:qcAssessmentDataScans (base class None)\n",
      "[2020-02-07 16:37:32,572] INFO: convert_xsd:1010 >> Processing xnatpy:qcAssessmentDataScansScanSliceqc (base class None)\n",
      "[2020-02-07 16:37:32,572] INFO: convert_xsd:1010 >> Processing xnatpy:fieldDefinitionGroupFieldsFieldPossiblevalues (base class xnatpy:possibleValueString)\n",
      "[2020-02-07 16:37:32,573] INFO: convert_xsd:1010 >> Processing xnatpy:ctScanDataParametersEstimateddosesaving (base class xnatpy:estimatedDoseSavingFloat)\n",
      "[2020-02-07 16:37:32,573] INFO: convert_xsd:1010 >> Processing xnatpy:ctScanDataParametersDerivation (base class xnatpy:derivationString)\n",
      "[2020-02-07 16:37:32,574] INFO: convert_xsd:1010 >> Processing xnatpy:qcScanDataRating (base class xnatpy:ratingString)\n",
      "[2020-02-07 16:37:32,574] INFO: convert_xsd:1010 >> Processing xnatpy:eegSessionDataSamplingrate (base class xnatpy:samplingRateFloat)\n",
      "[2020-02-07 16:37:32,575] INFO: convert_xsd:1010 >> Processing xnatpy:eegSessionDataSamplinginterval (base class xnatpy:samplingIntervalFloat)\n",
      "[2020-02-07 16:37:32,575] INFO: convert_xsd:1010 >> Processing xnatpy:imageSessionDataPipeline (base class build:pipelineData)\n",
      "[2020-02-07 16:37:32,575] INFO: convert_xsd:1010 >> Processing xnatpy:xnatExecutionEnvironmentParameters (base class xnatpy:parameterString)\n",
      "[2020-02-07 16:37:32,576] INFO: convert_xsd:1010 >> Processing xnatpy:processStepProgram (base class xnatpy:programString)\n",
      "[2020-02-07 16:37:32,576] INFO: convert_xsd:1010 >> Processing xnatpy:processStepPlatform (base class xnatpy:platformString)\n",
      "[2020-02-07 16:37:32,576] INFO: convert_xsd:1010 >> Processing xnatpy:processStepCompiler (base class xnatpy:compilerString)\n",
      "[2020-02-07 16:37:32,577] INFO: convert_xsd:1010 >> Processing xnatpy:processStepLibrary (base class xnatpy:libraryString)\n",
      "[2020-02-07 16:37:32,577] INFO: convert_xsd:1010 >> Processing xnatpy:catalogMetafields (base class xnatpy:metaFieldString)\n",
      "[2020-02-07 16:37:32,577] INFO: convert_xsd:1010 >> Processing xnatpy:projectPipelinesDescendantsDescendantPipeline (base class arc:pipelineData)\n",
      "[2020-02-07 16:37:32,578] INFO: convert_xsd:1010 >> Processing xnatpy:projectPipelinesPipeline (base class arc:pipelineData)\n",
      "[2020-02-07 16:37:32,578] INFO: convert_xsd:1010 >> Processing xnatpy:pipelineParameterDataCsvvalues (base class xnatpy:csvValuesString)\n",
      "[2020-02-07 16:37:32,579] INFO: convert_xsd:1010 >> Processing arc:property (base class xnatpy:propertyString)\n",
      "[2020-02-07 16:37:32,579] INFO: convert_xsd:1010 >> Processing arc:fieldSpecification (base class xnatpy:fieldSpecificationString)\n",
      "[2020-02-07 16:37:32,580] INFO: convert_xsd:1010 >> Processing xnatpy:protocolDataCheckComments (base class xnatpy:commentString)\n",
      "[2020-02-07 16:37:32,580] INFO: convert_xsd:1010 >> Processing xnatpy:FieldTypeContent (base class xnatpy:ContentString)\n",
      "[2020-02-07 16:37:32,581] DEBUG: convert_xsd:1019 >> Visited: 362, expected: 362\n",
      "[2020-02-07 16:37:32,581] DEBUG: convert_xsd:1020 >> Visited: {'xnatpy:PlexiViewerTypeViewableitemHi-res', 'xnat:qcScanData', 'xnatpy:projectDataFieldsField', 'build:imageSessionData', 'xnatpy:studyProtocolAcqconditionsCondition', 'xnatpy:dcmCatalogVoxelres', 'xnatpy:petScanDataEcatvalidation', 'xnatpy:compilerString', 'xnatpy:xnatExecutionEnvironmentParametersParameter', 'xnatpy:scidResearchDataSubstanceusedisorders', 'display:SubQueryField', 'xdat:role_type', 'xnatpy:mrScanDataParametersDiffusion', 'xnat:imageResource', 'xnat:qcAssessmentData', 'wrk:workflowData', 'xnatpy:xnatExecutionEnvironmentParameterfile', 'xdat:user', 'xnat:esvSessionData', 'xnatpy:samplingRateFloat', 'xnatpy:experimentDataSharingShare', 'xnat:mrSessionData', 'xnat:hdSessionData', 'xnatpy:eegSessionDataSamplinginterval', 'xnatpy:aliasString', 'xnatpy:PlexiViewerTypeViewableitemLo-resParameter', 'xnatpy:FieldTypeHtml-image', 'xnat:dxScanData', 'xnat:dxSessionData', 'xnatpy:petmrSessionDataTracerIsotope', 'xnatpy:parameterString', 'xnat:abstractDemographicData', 'xnatpy:qcScanDataFieldsField', 'xnatpy:projectPipelinesDescendantsDescendantPipeline', 'xnat:abstractResource', 'xnatpy:ctScanDataParametersEstimateddosesaving', 'xnatpy:totalMassFloat', 'xnat:abstractStatistics', 'xnat:ecgScanData', 'xnat:resourceSeries', 'xnat:optScanData', 'xnatpy:ctScanDataParametersFov', 'xnat:resourceCatalog', 'xnat:smScanData', 'xnatpy:projectPipelinesDescendantsDescendant', 'xnatpy:subjectDataFieldsField', 'xnatpy:updrs3DataHandsram', 'xnatpy:petScanDataParametersFilter', 'xnatpy:projectPipelinesPipeline', 'xnatpy:fieldDefinitionGroupFieldsFieldPossiblevaluesPossiblevalue', 'xdat:field_mapping', 'xnatpy:scidResearchDataSomatoformdisorders', 'xnatpy:pipelineDetailsParametersParameterValues', 'xnatpy:petmrSessionDataTracerTotalmass', 'xnat:otherDicomScanData', 'xnat:imageAssessorData', 'LayoutDescription', 'arc:property', 'xnatpy:metaFieldString', 'xnatpy:LayoutDescriptionCoordinates', 'xnatpy:propertyString', 'xnat:otherQcScanData', 'xnatpy:ygtssDataPhonic', 'xnat:smSessionData', 'xnatpy:scidResearchDataPsychoticdisorders', 'xnatpy:studyProtocolSubjectgroupsGroup', 'xnatpy:eegScanDataChannelsChannel', 'xdat:element_action_type', 'xnat:mrsScanData', 'xnatpy:eegSessionDataSamplingrate', 'xnatpy:fieldString', 'xnatpy:experimentDataDelay', 'xnatpy:statisticsDataAdditionalstatistics', 'icr:roiCollectionData', 'xnat:abstractProtocol', 'xnat:mgSessionData', 'xnatpy:petScanDataParametersResolution', 'xnat:gmScanData', 'xnat:contrastBolus', 'xnat:dicomCodedValue', 'xnatpy:ctScanDataDcmvalidation', 'xnatpy:projectPipelines', 'xnatpy:samplingIntervalFloat', 'xnatpy:updrs3DataFingertaps', 'xnatpy:PlexiViewerTypeViewableitemThumbnail', 'xnatpy:FieldTypeHtml-linkPropertyInsertvalue', 'xnatpy:element_securityListing_actionsListing_action', 'xnatpy:pipelineDetailsParametersParameter', 'xnat:opScanData', 'xnat:subjectVariablesData', 'xnatpy:stored_searchSort_by', 'xnatpy:qcAssessmentDataScansScan', 'xnat:esvScanData', 'arc:pipelineData', 'xnatpy:FieldTypeHtml-link', 'xnat:computationData', 'xdat:stored_search', 'cat:catalog', 'xnatpy:ratingString', 'xnatpy:commentString', 'xnat:studyProtocol', 'xnatpy:scidResearchDataOptional', 'xnat:imageResourceSeries', 'xnatpy:dcmValidationString', 'xnatpy:updrs3DataClicker', 'xnat:esSessionData', 'xnatpy:heightFloat', 'xnat:statisticsData', 'arc:project', 'xnatpy:updrs3DataTremorrest', 'xnatpy:optScanDataDcmvalidation', 'xnatpy:FieldTypeHtml-linkProperty', 'xnat:publicationResource', 'xnatpy:labelString', 'arc:fieldSpecification', 'xnatpy:eegScanDataParametersDatarecord', 'xdat:newsEntry', 'display:HTML-Cell', 'xnatpy:mrScanDataParametersMatrix', 'xdat:LONGVARCHAR', 'arc:pathInfo', 'xnatpy:stored_searchAllowed_user', 'xnatpy:studyProtocolSubjectvariablesVariable', 'xnat:gmSessionData', 'xnatpy:regionResourceCreator', 'xnatpy:petScanDataParameters', 'xnatpy:processStepLibrary', 'val:additionalVal', 'xnatpy:estimatedDoseSavingFloat', 'xnatpy:volumetricRegionSubregionsSubregion', 'arc:pipelineParameterData', 'xnatpy:imageScanDataScanner', 'xnat:gmvSessionData', 'xnatpy:processStepProgram', 'xnat:nmScanData', 'xnatpy:protocolDataScansScan_checkConditionsCondition', 'xnatpy:petSessionDataTracerIsotope', 'xnatpy:petScanDataParametersRfilter', 'xnatpy:demographicDataHeight', 'xnat:projectParticipant', 'xnatpy:dicomSeriesImagesetImage', 'val:protocolData', 'xnat:megScanData', 'xnat:petAssessorData', 'xnatpy:petScanDataParametersOffset', 'xnatpy:qcScanDataRating', 'build:buildData', 'xnatpy:eegScanDataSoftwarefiltersimpedances', 'xnatpy:protocolDataScansScan_checkCommentsComment', 'xnat:rtSessionData', 'xnat:resource', 'xnatpy:scidResearchDataMooddisorders', 'xdat:action_type', 'xnat:derivedData', 'xnat:rtImageScanData', 'xnatpy:platformString', 'xnatpy:petSessionDataTracerDose', 'xdat:primary_security_field', 'xnat:voiceAudioScanData', 'xnatpy:imageResourceDimensions', 'xnat:dx3DCraniofacialSessionData', 'xnat:petScanData', 'xdat:access_log', 'xnat:imageScanData', 'xnatpy:mrScanDataParametersInplanephaseencoding', 'xnatpy:imageScanDataSharingShare', 'xnat_a:ybocsData', 'xdat:user_login', 'xnatpy:ctScanDataParametersDerivation', 'xnatpy:petSessionDataTracerIntermediate', 'xnat:petQcScanData', 'xnatpy:primary_security_fieldString', 'xnatpy:PlexiViewerTypeViewableitemLo-res', 'xnatpy:fieldSpecificationString', 'xdat:field_mapping_set', 'xnatpy:optScanDataParameters', 'xnatpy:updrs3DataHandmovementsgrip', 'xnat:ctScanData', 'xnat:eegSessionData', 'xnatpy:ygtssDataMotor', 'xnatpy:subjectDataAddid', 'xnatpy:optScanDataParametersVoxelres', 'xnatpy:protocolDataScansScan_check', 'xnat:demographicData', 'cat:dcmEntry', 'xnatpy:fieldDefinitionGroupFieldsField', 'xnatpy:ctScanDataParametersVoxelres', 'xdat:criteria', 'xnat:validationData', 'xnat:rfScanData', 'xnatpy:mrScanDataParametersVoxelres', 'xnat:abstractSubjectMetadata', 'xnat:petSessionData', 'xnatpy:protocolDataCheckCommentsComment', 'xnatpy:FieldTypeHtml-linkSecurelink', 'xnatpy:pipelineParameterDataParameter', 'xdat:history', 'PlexiViewerType', 'xnatpy:additionalStatisticsDouble', 'build:pipelineData', 'xnatpy:csvValuesString', 'xnatpy:PlexiViewerTypeViewableitemHi-resLayer', 'xnatpy:petmrSessionDataTracer', 'xnatpy:qcAssessmentDataScansScanSliceqcSlice', 'xnatpy:PlexiViewerTypeViewableitemThumbnailSlice', 'xnatpy:PlexiViewerTypeViewableitemUserinterface', 'xnat:petmrSessionData', 'xnat_a:ygtssData', 'xnatpy:addIDString', 'xdat:element_security', 'prov:processStep', 'xnat:subjectMetadata', 'xnat:regionResource', 'xnatpy:statisticsDataAddfield', 'xnatpy:tagString', 'xnatpy:petScanDataParametersFrames', 'xnatpy:ctScanDataParametersCollimationwidth', 'xnat:epsSessionData', 'xnat:projectData', 'xnat:eegScanData', 'xnat:xa3DSessionData', 'xnat:usScanData', 'xnat:xcvScanData', 'xdat:criteria_set', 'xnat:crScanData', 'xnatpy:eegScanDataParameters', 'xnatpy:mrScanDataDcmvalidation', 'xnatpy:doseFloat', 'xnatpy:ctScanDataParameters', 'xnat:usSessionData', 'xnatpy:petSessionDataTracer', 'xnatpy:updrs3DataRigidity', 'xnatpy:entryMetafieldsMetafield', 'xnatpy:petScanDataParametersZfilter', 'xnat:reconstructedImageData', 'xnat:esScanData', 'xnatpy:subjectVariablesDataVariablesVariable', 'xnat:dicomSeries', 'xnat:ctSessionData', 'xnat:subjectAssessorData', 'xnat:segScanData', 'xnatpy:updrs3DataFoottaps', 'xnatpy:primary_passwordString', 'cat:dcmCatalog', 'wrk:xnatExecutionEnvironment', 'xnatpy:petScanDataParametersPixelsize', 'xnat:ioScanData', 'scr:screeningAssessment', 'xnat_a:scidResearchData', 'xnat:nmSessionData', 'xnatpy:imageResourceVoxelres', 'xnatpy:protocolDataCheck', 'cat:entry', 'xnatpy:FieldTypeContent', 'xnatpy:petScanDataParametersDimensions', 'xdat:change_info', 'xnatpy:ContentString', 'xnatpy:libraryString', 'xnat:opSessionData', 'xnatpy:scannerString', 'xnatpy:studyProtocolImagesessiontypesSession', 'xnatpy:protocolDataCheckConditionsCondition', 'xnat:xaScanData', 'prov:process', 'xnatpy:imageSessionDataScanner', 'xnatpy:dicomSeriesVoxelres', 'xnatpy:PlexiViewerTypeViewableitemHi-resLayoutref', 'xnat:subjectData', 'xnat:genericData', 'xnatpy:FieldTypeHtml-linkSecurelinkSecuritymappingvalue', 'SchemaLinkType', 'xnatpy:pipelineParameterDataCsvvalues', 'xnatpy:weightFloat', 'xnat:srScanData', 'xdat:infoEntry', 'xnatpy:updrs3DataActionposturaltremor', 'xnatpy:possibleValueString', 'xnat:xa3DScanData', 'xnat:mgScanData', 'xnatpy:petScanDataParametersFramesFrame', 'xdat:search_field', 'xnatpy:eegScanDataSoftwarefiltersimpedancesImpedance', 'xnatpy:PlexiViewerTypeViewableitemUserinterfaceLinkeddropdown', 'xnatpy:xaScanDataParametersFov', 'xnat:fieldDefinitionGroup', 'xnat:mrScanData', 'xnatpy:dicomSeriesDimensions', 'xnatpy:imageSessionDataPipeline', 'xnat:datatypeProtocol', 'xnat:ioSessionData', 'xnatpy:isotopeString', 'xnatpy:mrScanDataParameters', 'xnatpy:shareString', 'xnatpy:scidResearchDataEatingdisorders', 'xnat:otherDicomSessionData', 'scr:screeningScanData', 'xnatpy:demographicDataWeight', 'xnat:xcvSessionData', 'xnat:megSessionData', 'xnatpy:intermediateFloat', 'xnatpy:imageResourceSeriesVoxelres', 'xnatpy:ecatValidationString', 'xnatpy:xaScanDataParametersPixelres', 'xnatpy:dcmCatalogDimensions', 'xnat:investigatorData', 'xnatpy:delayInteger', 'xnatpy:scidResearchDataAnxietydisorders', 'xnatpy:processStepPlatform', 'xnat:gmvScanData', 'xnatpy:scidResearchDataPsychoticsymptoms', 'xdat:userGroup', 'xnat:scScanData', 'xnatpy:projectDataAliasesAlias', 'xnatpy:programString', 'xnat:mrAssessorData', 'xnat:experimentData', 'xnat:epsScanData', 'xnatpy:imageResourceSeriesDimensions', 'xnatpy:PlexiViewerTypeViewableitem', 'xnat:qcManualAssessorData', 'build:pipelineParameterData', 'xnat:dx3DCraniofacialScanData', 'display:FieldType', 'xnatpy:petmrSessionDataTracerDose', 'pipe:pipelineDetails', 'xnat:xaSessionData', 'xnat:xcScanData', 'xnatpy:processStepCompiler', 'xnatpy:ctScanDataParametersRescale', 'xdat:meta_data', 'xnatpy:catalogMetafieldsMetafield', 'xnatpy:optScanDataParametersFov', 'xnatpy:PlexiViewerTypeViewableitemSchemalink', 'xnat:srSessionData', 'xnatpy:scidResearchDataMoodepisodes', 'xnat:imageSessionData', 'xnat:addField', 'xnat:rfSessionData', 'xnatpy:userPrimary_password', 'wrk:abstractExecutionEnvironment', 'xnat_a:updrs3Data', 'xnatpy:petmrSessionDataTracerIntermediate', 'xnat:pVisitData', 'xnatpy:variableString', 'xnatpy:petSessionDataTracerTotalmass', 'xnatpy:SubQueryFieldMappingcolumnsMappingcolumn', 'xnatpy:derivationString', 'xnat_a:sideEffectsPittsburghData', 'xnatpy:addFieldString', 'xnat:volumetricRegion', 'xnat:mrQcScanData', 'xnat:optSessionData', 'xnat:crSessionData', 'xnat:ecgSessionData', 'xnatpy:regionResourceSubregionlabelsLabel', 'xnatpy:experimentDataFieldsField', 'xnat:algorithm', 'xnatpy:mrScanDataParametersFov', 'xnatpy:xaScanDataParameters', 'xnat:hdScanData', 'xnat:xcSessionData', 'xnatpy:abstractResourceTagsTag'}\n"
     ]
    },
    {
     "name": "stderr",
     "output_type": "stream",
     "text": [
      "[2020-02-07 16:37:32,581] INFO: convert_xsd:1021 >> Missed: []\n",
      "[2020-02-07 16:37:32,582] INFO: convert_xsd:1022 >> Missed base class: []\n",
      "[2020-02-07 16:37:32,582] DEBUG: convert_xsd:1023 >> Spent 2 iterations\n",
      "[2020-02-07 16:37:32,594] DEBUG: __init__:249 >> Code file written to: C:\\Users\\ctorti\\AppData\\Local\\Temp\\tmp6a7au7g8_generated_xnat.py\n",
      "[2020-02-07 16:37:32,751] DEBUG: __init__:256 >> Loaded generated module\n"
     ]
    }
   ],
   "source": [
    "xnatAddress = 'http://10.1.1.17'\n",
    "#xnatAddress = 'http://10.1.1.17/app/template/Index.vm'\n",
    "#xnatAddress = 'http://10.1.1.17/app/template/Login.vm#!'\n",
    "#xnatAddress = 'http://10.1.1.17:8080/xnat'\n",
    "#xnatAddress = 'http://10.1.1.17:80/xnat'\n",
    "#xnatAddress = 'http://localhost:8080/xnat'\n",
    "#xnatAddress = 'http://10.1.1.17:8080/admin'\n",
    "#xnatAddress = 'http://localhost:8080/admin'\n",
    "\n",
    "#session = xnat.connect(xnatAddress, user='xnat', password='xnat')\n",
    "#session = xnat.connect(xnatAddress, user='owner', password='owner')\n",
    "session = xnat.connect(xnatAddress, user='admin', password='admin', debug=True)"
   ]
  },
  {
   "cell_type": "code",
   "execution_count": 4,
   "metadata": {},
   "outputs": [
    {
     "data": {
      "text/plain": [
       "<xnat.session.XNATSession at 0x1a5dc329b88>"
      ]
     },
     "execution_count": 4,
     "metadata": {},
     "output_type": "execute_result"
    }
   ],
   "source": [
    "session"
   ]
  },
  {
   "cell_type": "markdown",
   "metadata": {},
   "source": [
    "#### Define the REST path variables:"
   ]
  },
  {
   "cell_type": "code",
   "execution_count": 5,
   "metadata": {},
   "outputs": [],
   "source": [
    "# Define selected project and subject labels, and session number:\n",
    "projectLabel = 'BrainTumorProg'\n",
    "subjectLabel = 'PGM-002'\n",
    "experimentNo = 0 # (= 1 in XNAT web app; e.g. ‘PGM-002_MR_1’)\n",
    "scanNo = 0 # 0 -> T1post"
   ]
  },
  {
   "cell_type": "markdown",
   "metadata": {},
   "source": [
    "#### Location of previously downloaded DICOM and DICOM-RTSTRUCT files:"
   ]
  },
  {
   "cell_type": "code",
   "execution_count": 6,
   "metadata": {},
   "outputs": [],
   "source": [
    "# The DICOM files were exported here:\n",
    "dicomsPath = r'C:\\Users\\ctorti\\Documents\\GitHub\\WP1.3_multiple_modalities\\trying stuff\\XNAT downloads\\BrainTumorProg\\PGM-002\\0\\0\\PGM-002_MR_1\\scans\\11-T1post\\resources\\DICOM\\files'\n",
    "\n",
    "# And the ROI DICOM-RTStruct file was exported here:\n",
    "roiPath = r'C:\\Users\\ctorti\\Documents\\GitHub\\WP1.3_multiple_modalities\\trying stuff\\XNAT downloads\\BrainTumorProg\\PGM-002\\0\\0\\AIM_20200123_145716\\out\\resources\\RTSTRUCT\\files'"
   ]
  },
  {
   "cell_type": "code",
   "execution_count": null,
   "metadata": {},
   "outputs": [],
   "source": []
  },
  {
   "cell_type": "markdown",
   "metadata": {},
   "source": [
    "#### Try uploading data to XNAT"
   ]
  },
  {
   "cell_type": "code",
   "execution_count": 243,
   "metadata": {},
   "outputs": [
    {
     "data": {
      "text/plain": [
       "<xnat.session.XNATSession at 0x1ed3400a3c8>"
      ]
     },
     "execution_count": 243,
     "metadata": {},
     "output_type": "execute_result"
    }
   ],
   "source": [
    "session"
   ]
  },
  {
   "cell_type": "code",
   "execution_count": 244,
   "metadata": {},
   "outputs": [
    {
     "data": {
      "text/plain": [
       "['AbstractDemographicData',\n",
       " 'AbstractExecutionEnvironment',\n",
       " 'AbstractProtocol',\n",
       " 'AbstractResource',\n",
       " 'AbstractResourceTags',\n",
       " 'AbstractStatistics',\n",
       " 'AbstractSubjectMetadata',\n",
       " 'AccessLog',\n",
       " 'ActionType',\n",
       " 'AddField',\n",
       " 'AddFieldString',\n",
       " 'AddIDString',\n",
       " 'AdditionalStatisticsDouble',\n",
       " 'AdditionalVal',\n",
       " 'Algorithm',\n",
       " 'AliasString',\n",
       " 'BuildData',\n",
       " 'BytesIO',\n",
       " 'Catalog',\n",
       " 'CatalogMetafields',\n",
       " 'ChangeInfo',\n",
       " 'CommentString',\n",
       " 'CompilerString',\n",
       " 'ComputationData',\n",
       " 'ContentString',\n",
       " 'ContrastBolus',\n",
       " 'CrScanData',\n",
       " 'CrSessionData',\n",
       " 'Criteria',\n",
       " 'CriteriaSet',\n",
       " 'CsvValuesString',\n",
       " 'CtScanData',\n",
       " 'CtScanDataDcmvalidation',\n",
       " 'CtScanDataParameters',\n",
       " 'CtScanDataParametersCollimationwidth',\n",
       " 'CtScanDataParametersDerivation',\n",
       " 'CtScanDataParametersEstimateddosesaving',\n",
       " 'CtScanDataParametersFov',\n",
       " 'CtScanDataParametersRescale',\n",
       " 'CtScanDataParametersVoxelres',\n",
       " 'CtSessionData',\n",
       " 'DatatypeProtocol',\n",
       " 'DcmCatalog',\n",
       " 'DcmCatalogDimensions',\n",
       " 'DcmCatalogVoxelres',\n",
       " 'DcmEntry',\n",
       " 'DcmValidationString',\n",
       " 'DelayInteger',\n",
       " 'DemographicData',\n",
       " 'DemographicDataHeight',\n",
       " 'DemographicDataWeight',\n",
       " 'DerivationString',\n",
       " 'DerivedData',\n",
       " 'DicomCodedValue',\n",
       " 'DicomSeries',\n",
       " 'DicomSeriesDimensions',\n",
       " 'DicomSeriesImageset',\n",
       " 'DicomSeriesVoxelres',\n",
       " 'DoseFloat',\n",
       " 'Dx3DCraniofacialScanData',\n",
       " 'Dx3DCraniofacialSessionData',\n",
       " 'DxScanData',\n",
       " 'DxSessionData',\n",
       " 'EcatValidationString',\n",
       " 'EcgScanData',\n",
       " 'EcgSessionData',\n",
       " 'EegScanData',\n",
       " 'EegScanDataChannels',\n",
       " 'EegScanDataParameters',\n",
       " 'EegScanDataParametersDatarecord',\n",
       " 'EegScanDataSoftwarefiltersimpedances',\n",
       " 'EegScanDataSoftwarefiltersimpedancesImpedance',\n",
       " 'EegSessionData',\n",
       " 'EegSessionDataSamplinginterval',\n",
       " 'EegSessionDataSamplingrate',\n",
       " 'ElementActionType',\n",
       " 'ElementSecurity',\n",
       " 'ElementSecurityListingActions',\n",
       " 'Entry',\n",
       " 'EntryMetafields',\n",
       " 'EpsScanData',\n",
       " 'EpsSessionData',\n",
       " 'EsScanData',\n",
       " 'EsSessionData',\n",
       " 'EstimatedDoseSavingFloat',\n",
       " 'EsvScanData',\n",
       " 'EsvSessionData',\n",
       " 'ExperimentData',\n",
       " 'ExperimentDataDelay',\n",
       " 'ExperimentDataFields',\n",
       " 'ExperimentDataSharing',\n",
       " 'FieldDefinitionGroup',\n",
       " 'FieldDefinitionGroupFields',\n",
       " 'FieldDefinitionGroupFieldsFieldPossiblevalues',\n",
       " 'FieldMapping',\n",
       " 'FieldMappingSet',\n",
       " 'FieldSpecification',\n",
       " 'FieldSpecificationString',\n",
       " 'FieldString',\n",
       " 'FieldType',\n",
       " 'FieldTypeContent',\n",
       " 'FieldTypeHtmlImage',\n",
       " 'FieldTypeHtmlLink',\n",
       " 'FieldTypeHtmlLinkProperty',\n",
       " 'FieldTypeHtmlLinkPropertyInsertvalue',\n",
       " 'FieldTypeHtmlLinkSecurelink',\n",
       " 'FieldTypeHtmlLinkSecurelinkSecuritymappingvalue',\n",
       " 'FileData',\n",
       " 'GenericData',\n",
       " 'GmScanData',\n",
       " 'GmSessionData',\n",
       " 'GmvScanData',\n",
       " 'GmvSessionData',\n",
       " 'GzipFile',\n",
       " 'HTMLCell',\n",
       " 'HdScanData',\n",
       " 'HdSessionData',\n",
       " 'HeightFloat',\n",
       " 'History',\n",
       " 'ImageAssessorData',\n",
       " 'ImageResource',\n",
       " 'ImageResourceDimensions',\n",
       " 'ImageResourceSeries',\n",
       " 'ImageResourceSeriesDimensions',\n",
       " 'ImageResourceSeriesVoxelres',\n",
       " 'ImageResourceVoxelres',\n",
       " 'ImageScanData',\n",
       " 'ImageScanDataScanner',\n",
       " 'ImageScanDataSharing',\n",
       " 'ImageSessionData',\n",
       " 'ImageSessionDataPipeline',\n",
       " 'ImageSessionDataScanner',\n",
       " 'InfoEntry',\n",
       " 'IntermediateFloat',\n",
       " 'InvestigatorData',\n",
       " 'IoScanData',\n",
       " 'IoSessionData',\n",
       " 'IsotopeString',\n",
       " 'LONGVARCHAR',\n",
       " 'LabelString',\n",
       " 'LayoutDescription',\n",
       " 'LayoutDescriptionCoordinates',\n",
       " 'LibraryString',\n",
       " 'MegScanData',\n",
       " 'MegSessionData',\n",
       " 'MetaData',\n",
       " 'MetaFieldString',\n",
       " 'MgScanData',\n",
       " 'MgSessionData',\n",
       " 'MrAssessorData',\n",
       " 'MrQcScanData',\n",
       " 'MrScanData',\n",
       " 'MrScanDataDcmvalidation',\n",
       " 'MrScanDataParameters',\n",
       " 'MrScanDataParametersDiffusion',\n",
       " 'MrScanDataParametersFov',\n",
       " 'MrScanDataParametersInplanephaseencoding',\n",
       " 'MrScanDataParametersMatrix',\n",
       " 'MrScanDataParametersVoxelres',\n",
       " 'MrSessionData',\n",
       " 'MrsScanData',\n",
       " 'NewsEntry',\n",
       " 'NmScanData',\n",
       " 'NmSessionData',\n",
       " 'OpScanData',\n",
       " 'OpSessionData',\n",
       " 'OptScanData',\n",
       " 'OptScanDataDcmvalidation',\n",
       " 'OptScanDataParameters',\n",
       " 'OptScanDataParametersFov',\n",
       " 'OptScanDataParametersVoxelres',\n",
       " 'OptSessionData',\n",
       " 'OtherDicomScanData',\n",
       " 'OtherDicomSessionData',\n",
       " 'OtherQcScanData',\n",
       " 'PVisitData',\n",
       " 'PYDICOM_LOADED',\n",
       " 'ParameterString',\n",
       " 'PathInfo',\n",
       " 'PetAssessorData',\n",
       " 'PetQcScanData',\n",
       " 'PetScanData',\n",
       " 'PetScanDataEcatvalidation',\n",
       " 'PetScanDataParameters',\n",
       " 'PetScanDataParametersDimensions',\n",
       " 'PetScanDataParametersFilter',\n",
       " 'PetScanDataParametersFrames',\n",
       " 'PetScanDataParametersFramesFrame',\n",
       " 'PetScanDataParametersOffset',\n",
       " 'PetScanDataParametersPixelsize',\n",
       " 'PetScanDataParametersResolution',\n",
       " 'PetScanDataParametersRfilter',\n",
       " 'PetScanDataParametersZfilter',\n",
       " 'PetSessionData',\n",
       " 'PetSessionDataTracer',\n",
       " 'PetSessionDataTracerDose',\n",
       " 'PetSessionDataTracerIntermediate',\n",
       " 'PetSessionDataTracerIsotope',\n",
       " 'PetSessionDataTracerTotalmass',\n",
       " 'PetmrSessionData',\n",
       " 'PetmrSessionDataTracer',\n",
       " 'PetmrSessionDataTracerDose',\n",
       " 'PetmrSessionDataTracerIntermediate',\n",
       " 'PetmrSessionDataTracerIsotope',\n",
       " 'PetmrSessionDataTracerTotalmass',\n",
       " 'PipelineData',\n",
       " 'PipelineDetails',\n",
       " 'PipelineDetailsParameters',\n",
       " 'PipelineDetailsParametersParameterValues',\n",
       " 'PipelineParameterData',\n",
       " 'PipelineParameterDataCsvvalues',\n",
       " 'PipelineParameterDataParameter',\n",
       " 'PlatformString',\n",
       " 'PlexiViewerType',\n",
       " 'PlexiViewerTypeViewableitem',\n",
       " 'PlexiViewerTypeViewableitemHiRes',\n",
       " 'PlexiViewerTypeViewableitemHiResLayer',\n",
       " 'PlexiViewerTypeViewableitemHiResLayoutref',\n",
       " 'PlexiViewerTypeViewableitemLoRes',\n",
       " 'PlexiViewerTypeViewableitemLoResParameter',\n",
       " 'PlexiViewerTypeViewableitemSchemalink',\n",
       " 'PlexiViewerTypeViewableitemThumbnail',\n",
       " 'PlexiViewerTypeViewableitemThumbnailSlice',\n",
       " 'PlexiViewerTypeViewableitemUserinterface',\n",
       " 'PlexiViewerTypeViewableitemUserinterfaceLinkeddropdown',\n",
       " 'PossibleValueString',\n",
       " 'PrimaryPasswordString',\n",
       " 'PrimarySecurityField',\n",
       " 'PrimarySecurityFieldString',\n",
       " 'Process',\n",
       " 'ProcessStep',\n",
       " 'ProcessStepCompiler',\n",
       " 'ProcessStepLibrary',\n",
       " 'ProcessStepPlatform',\n",
       " 'ProcessStepProgram',\n",
       " 'ProgramString',\n",
       " 'Project',\n",
       " 'ProjectData',\n",
       " 'ProjectDataAliases',\n",
       " 'ProjectDataFields',\n",
       " 'ProjectParticipant',\n",
       " 'ProjectPipelines',\n",
       " 'ProjectPipelinesDescendants',\n",
       " 'ProjectPipelinesDescendantsDescendantPipeline',\n",
       " 'ProjectPipelinesPipeline',\n",
       " 'Property',\n",
       " 'PropertyString',\n",
       " 'ProtocolData',\n",
       " 'ProtocolDataCheck',\n",
       " 'ProtocolDataCheckComments',\n",
       " 'ProtocolDataCheckConditions',\n",
       " 'ProtocolDataScans',\n",
       " 'ProtocolDataScansScanCheckComments',\n",
       " 'ProtocolDataScansScanCheckConditions',\n",
       " 'PublicationResource',\n",
       " 'QcAssessmentData',\n",
       " 'QcAssessmentDataScans',\n",
       " 'QcAssessmentDataScansScanSliceqc',\n",
       " 'QcManualAssessorData',\n",
       " 'QcScanData',\n",
       " 'QcScanDataFields',\n",
       " 'QcScanDataRating',\n",
       " 'RatingString',\n",
       " 'ReconstructedImageData',\n",
       " 'RegionResource',\n",
       " 'RegionResourceCreator',\n",
       " 'RegionResourceSubregionlabels',\n",
       " 'RequestsFileLike',\n",
       " 'Resource',\n",
       " 'ResourceCatalog',\n",
       " 'ResourceSeries',\n",
       " 'RfScanData',\n",
       " 'RfSessionData',\n",
       " 'RoiCollectionData',\n",
       " 'RoleType',\n",
       " 'RtImageScanData',\n",
       " 'RtSessionData',\n",
       " 'SESSION',\n",
       " 'SamplingIntervalFloat',\n",
       " 'SamplingRateFloat',\n",
       " 'ScScanData',\n",
       " 'ScannerString',\n",
       " 'SchemaLinkType',\n",
       " 'ScidResearchData',\n",
       " 'ScidResearchDataAnxietydisorders',\n",
       " 'ScidResearchDataEatingdisorders',\n",
       " 'ScidResearchDataMooddisorders',\n",
       " 'ScidResearchDataMoodepisodes',\n",
       " 'ScidResearchDataOptional',\n",
       " 'ScidResearchDataPsychoticdisorders',\n",
       " 'ScidResearchDataPsychoticsymptoms',\n",
       " 'ScidResearchDataSomatoformdisorders',\n",
       " 'ScidResearchDataSubstanceusedisorders',\n",
       " 'ScreeningAssessment',\n",
       " 'ScreeningScanData',\n",
       " 'SearchField',\n",
       " 'SegScanData',\n",
       " 'ShareString',\n",
       " 'SideEffectsPittsburghData',\n",
       " 'SmScanData',\n",
       " 'SmSessionData',\n",
       " 'SrScanData',\n",
       " 'SrSessionData',\n",
       " 'StatisticsData',\n",
       " 'StatisticsDataAddfield',\n",
       " 'StatisticsDataAdditionalstatistics',\n",
       " 'StoredSearch',\n",
       " 'StoredSearchAllowedUser',\n",
       " 'StoredSearchSortBy',\n",
       " 'StudyProtocol',\n",
       " 'StudyProtocolAcqconditions',\n",
       " 'StudyProtocolImagesessiontypes',\n",
       " 'StudyProtocolSubjectgroups',\n",
       " 'StudyProtocolSubjectvariables',\n",
       " 'SubQueryField',\n",
       " 'SubQueryFieldMappingcolumns',\n",
       " 'SubjectAssessorData',\n",
       " 'SubjectData',\n",
       " 'SubjectDataAddid',\n",
       " 'SubjectDataFields',\n",
       " 'SubjectMetadata',\n",
       " 'SubjectVariablesData',\n",
       " 'SubjectVariablesDataVariables',\n",
       " 'TagString',\n",
       " 'TarFile',\n",
       " 'TotalMassFloat',\n",
       " 'Updrs3Data',\n",
       " 'Updrs3DataActionposturaltremor',\n",
       " 'Updrs3DataClicker',\n",
       " 'Updrs3DataFingertaps',\n",
       " 'Updrs3DataFoottaps',\n",
       " 'Updrs3DataHandmovementsgrip',\n",
       " 'Updrs3DataHandsram',\n",
       " 'Updrs3DataRigidity',\n",
       " 'Updrs3DataTremorrest',\n",
       " 'UsScanData',\n",
       " 'UsSessionData',\n",
       " 'User',\n",
       " 'UserGroup',\n",
       " 'UserLogin',\n",
       " 'UserPrimaryPassword',\n",
       " 'ValidationData',\n",
       " 'VariableString',\n",
       " 'VoiceAudioScanData',\n",
       " 'VolumetricRegion',\n",
       " 'VolumetricRegionSubregions',\n",
       " 'WeightFloat',\n",
       " 'WorkflowData',\n",
       " 'XNATListing',\n",
       " 'XNATNestedObject',\n",
       " 'XNATNestedObjectMixin',\n",
       " 'XNATObject',\n",
       " 'XNATObjectMixin',\n",
       " 'XNATSimpleListing',\n",
       " 'XNATSubListing',\n",
       " 'XNATSubObject',\n",
       " 'XNATSubObjectMixin',\n",
       " 'XNAT_CLASS_LOOKUP',\n",
       " 'Xa3DScanData',\n",
       " 'Xa3DSessionData',\n",
       " 'XaScanData',\n",
       " 'XaScanDataParameters',\n",
       " 'XaScanDataParametersFov',\n",
       " 'XaScanDataParametersPixelres',\n",
       " 'XaSessionData',\n",
       " 'XcScanData',\n",
       " 'XcSessionData',\n",
       " 'XcvScanData',\n",
       " 'XcvSessionData',\n",
       " 'XnatExecutionEnvironment',\n",
       " 'XnatExecutionEnvironmentParameterfile',\n",
       " 'XnatExecutionEnvironmentParameters',\n",
       " 'YbocsData',\n",
       " 'YgtssData',\n",
       " 'YgtssDataMotor',\n",
       " 'YgtssDataPhonic',\n",
       " 'ZipFile',\n",
       " '_SOURCE_CODE_FILE',\n",
       " '__builtins__',\n",
       " '__cached__',\n",
       " '__doc__',\n",
       " '__file__',\n",
       " '__loader__',\n",
       " '__name__',\n",
       " '__package__',\n",
       " '__spec__',\n",
       " 'absolute_import',\n",
       " 'caching',\n",
       " 'current_session',\n",
       " 'mixedproperty',\n",
       " 'mixin',\n",
       " 'os',\n",
       " 'pydicom',\n",
       " 'search',\n",
       " 'tempfile',\n",
       " 'unicode_literals']"
      ]
     },
     "execution_count": 244,
     "metadata": {},
     "output_type": "execute_result"
    }
   ],
   "source": [
    "dir(session.classes)"
   ]
  },
  {
   "cell_type": "markdown",
   "metadata": {},
   "source": [
    "Recall that the REST parameters were defined as such:\n",
    "    \n",
    "Define selected project and subject labels, and session number:\n",
    "projectLabel = 'BrainTumorProg'\n",
    "subjectLabel = 'PGM-002'\n",
    "experimentNo = 0 # (= 1 in XNAT web app; e.g. ‘PGM-002_MR_1’)\n",
    "scanNo = 0 # 0 -> T1post"
   ]
  },
  {
   "cell_type": "markdown",
   "metadata": {},
   "source": [
    "Recall that the DICOM-RTStruct file was downloaded to newPath using the command:\n",
    "ROIobject = session.projects[projectLabel].subjects[subjectLabel].experiments[experimentNo].assessors[scanNo].resources[1]\n",
    "ROIobject.download_dir(newPath)\n",
    "\n",
    "So I'll have to (at least) create a new project, then new subject, then new experiment before uploading the ROI file.\n",
    "Not sure if I need to create an assessor and resource as well, or if it's automatically handled..."
   ]
  },
  {
   "cell_type": "code",
   "execution_count": 240,
   "metadata": {},
   "outputs": [
    {
     "data": {
      "text/plain": [
       "'C:\\\\Code\\\\WP1.3_multiple_modalities\\\\trying stuff\\\\XNAT downloads\\\\BrainTumorProg\\\\PGM-002\\\\0\\\\0'"
      ]
     },
     "execution_count": 240,
     "metadata": {},
     "output_type": "execute_result"
    }
   ],
   "source": [
    "# And newPath is:\n",
    "newPath"
   ]
  },
  {
   "cell_type": "code",
   "execution_count": 7,
   "metadata": {},
   "outputs": [],
   "source": [
    "# The full filepath to the downloaded DICOM-RTStruct file is:\n",
    "roiFpathDL = r'C:\\Code\\WP1.3_multiple_modalities\\trying stuff\\XNAT downloads\\BrainTumorProg\\PGM-002\\0\\0\\AIM_20200123_145716\\out\\resources\\RTSTRUCT\\files\\AIM_20200123_145716.dcm' "
   ]
  },
  {
   "cell_type": "code",
   "execution_count": 8,
   "metadata": {},
   "outputs": [
    {
     "data": {
      "text/plain": [
       "'BrainTumorProg_copy'"
      ]
     },
     "execution_count": 8,
     "metadata": {},
     "output_type": "execute_result"
    }
   ],
   "source": [
    "# Define the new project name:\n",
    "newProjectName = projectLabel + '_copy'\n",
    "\n",
    "newProjectName"
   ]
  },
  {
   "cell_type": "markdown",
   "metadata": {},
   "source": [
    "The XNATpy guide's instructions on how to import DICOM files in an archived (zipped) file via prearchive:\n",
    "\n",
    "prearchive_session = session.services.import_('/home/hachterberg/temp/ANONYMIZ.zip', \\\n",
    "                                              project='brainimages', \\\n",
    "                                              destination='/prearchive')\n",
    "\n",
    "but I'm not sure if the project being imported to must already exist, or if one will be created if not..."
   ]
  },
  {
   "cell_type": "markdown",
   "metadata": {},
   "source": [
    "Following the guidance uner \"Object creation\" here:\n",
    "\n",
    "https://xnat.readthedocs.io/en/latest/static/tutorial.html#exploring-your-xnat-server\n",
    "\n",
    "A new subject is created as follows:\n",
    "\n",
    "connection = xnat.connect('https://xnat.example.com')\n",
    "project = connection.projects['myproject']\n",
    "subject = connection.classes.SubjectData(parent=project, label='new_subject_label')\n",
    "\n",
    "The parent of a subject would be a project, but I'm not sure what the parent of a project is...\n",
    "\n",
    "Perhaps the session?\n",
    "\n",
    "Yes found an example here:\n",
    "\n",
    "https://groups.google.com/forum/#!msg/xnat_discussion/vYJuSZ6MbmI/dTnKfU5_BQAJ"
   ]
  },
  {
   "cell_type": "markdown",
   "metadata": {},
   "source": [
    "#### Create a new project in XNAT:"
   ]
  },
  {
   "cell_type": "code",
   "execution_count": 9,
   "metadata": {},
   "outputs": [
    {
     "name": "stderr",
     "output_type": "stream",
     "text": [
      "[2020-02-07 16:38:05,462] DEBUG: core:171 >> PUT URI: /data/archive/projects/BrainTumorProg_copy\n",
      "[2020-02-07 16:38:05,463] DEBUG: core:180 >> query: {'xsiType': 'xnat:projectData', 'req_format': 'qs', 'name': 'BrainTumorProg_copy'}\n",
      "[2020-02-07 16:38:05,464] DEBUG: session:428 >> PUT URI http://10.1.1.17/data/archive/projects/BrainTumorProg_copy?xsiType=xnat%3AprojectData&req_format=qs&name=BrainTumorProg_copy\n",
      "[2020-02-07 16:38:05,464] DEBUG: session:430 >> PUT DATA None\n",
      "[2020-02-07 16:38:05,464] DEBUG: session:431 >> PUT FILES None\n",
      "[2020-02-07 16:38:05,504] DEBUG: session:307 >> Received response with status code: 200\n"
     ]
    }
   ],
   "source": [
    "newProject = session.classes.ProjectData(parent=session, name=newProjectName)"
   ]
  },
  {
   "cell_type": "code",
   "execution_count": 10,
   "metadata": {},
   "outputs": [
    {
     "name": "stderr",
     "output_type": "stream",
     "text": [
      "[2020-02-07 16:38:06,701] DEBUG: session:334 >> GET URI http://10.1.1.17/data/archive/projects/BrainTumorProg_copy?format=json\n",
      "[2020-02-07 16:38:06,718] DEBUG: session:307 >> Received response with status code: 200\n"
     ]
    },
    {
     "data": {
      "text/plain": [
       "<ProjectData BrainTumorProg_copy (BrainTumorProg_copy)>"
      ]
     },
     "execution_count": 10,
     "metadata": {},
     "output_type": "execute_result"
    }
   ],
   "source": [
    "newProject"
   ]
  },
  {
   "cell_type": "markdown",
   "metadata": {},
   "source": [
    "It worked!  And I confirmed in XNAT web interface."
   ]
  },
  {
   "cell_type": "markdown",
   "metadata": {},
   "source": [
    "#### Create a new subject for the new project:"
   ]
  },
  {
   "cell_type": "code",
   "execution_count": 11,
   "metadata": {},
   "outputs": [
    {
     "name": "stderr",
     "output_type": "stream",
     "text": [
      "[2020-02-07 16:38:11,486] DEBUG: core:171 >> PUT URI: /data/archive/projects/BrainTumorProg_copy/subjects/PGM-002_copy\n",
      "[2020-02-07 16:38:11,486] DEBUG: core:180 >> query: {'xsiType': 'xnat:subjectData', 'req_format': 'qs', 'label': 'PGM-002_copy'}\n",
      "[2020-02-07 16:38:11,487] DEBUG: session:428 >> PUT URI http://10.1.1.17/data/archive/projects/BrainTumorProg_copy/subjects/PGM-002_copy?xsiType=xnat%3AsubjectData&req_format=qs&label=PGM-002_copy\n",
      "[2020-02-07 16:38:11,487] DEBUG: session:430 >> PUT DATA None\n",
      "[2020-02-07 16:38:11,488] DEBUG: session:431 >> PUT FILES None\n",
      "[2020-02-07 16:38:11,515] DEBUG: session:307 >> Received response with status code: 200\n"
     ]
    }
   ],
   "source": [
    "newSubjectName = 'PGM-002_copy'\n",
    "\n",
    "newSubject = session.classes.SubjectData(label='PGM-002_copy', parent=newProject)"
   ]
  },
  {
   "cell_type": "code",
   "execution_count": 12,
   "metadata": {},
   "outputs": [
    {
     "name": "stderr",
     "output_type": "stream",
     "text": [
      "[2020-02-07 16:38:12,709] DEBUG: session:334 >> GET URI http://10.1.1.17/data/archive/projects/BrainTumorProg_copy/subjects/PGM-002_copy?format=json\n",
      "[2020-02-07 16:38:12,885] DEBUG: session:307 >> Received response with status code: 200\n"
     ]
    },
    {
     "data": {
      "text/plain": [
       "<SubjectData PGM-002_copy (XNAT_S00006)>"
      ]
     },
     "execution_count": 12,
     "metadata": {},
     "output_type": "execute_result"
    }
   ],
   "source": [
    "newSubject"
   ]
  },
  {
   "cell_type": "markdown",
   "metadata": {},
   "source": [
    "It worked!  And I confirmed in XNAT web interface."
   ]
  },
  {
   "cell_type": "markdown",
   "metadata": {},
   "source": [
    "#### Create a new experiment for the new subject:\n",
    "\n",
    "##### Note:  Spaces are not permitted for labels!"
   ]
  },
  {
   "cell_type": "code",
   "execution_count": 55,
   "metadata": {},
   "outputs": [
    {
     "name": "stderr",
     "output_type": "stream",
     "text": [
      "[2020-02-10 16:33:20,972] DEBUG: session:334 >> GET URI http://10.1.1.17/data/archive/projects/BrainTumorProg_copy/subjects/PGM-002_copy?format=json\n",
      "[2020-02-10 16:33:21,061] DEBUG: session:307 >> Received response with status code: 200\n",
      "[2020-02-10 16:33:21,062] DEBUG: core:171 >> PUT URI: /data/archive/projects/BrainTumorProg_copy/subjects/XNAT_S00006/experiments/PGM-002_copy_MR_2\n",
      "[2020-02-10 16:33:21,062] DEBUG: core:180 >> query: {'xsiType': 'xnat:mrSessionData', 'req_format': 'qs', 'label': 'PGM-002_copy_MR_2'}\n",
      "[2020-02-10 16:33:21,063] DEBUG: session:428 >> PUT URI http://10.1.1.17/data/archive/projects/BrainTumorProg_copy/subjects/XNAT_S00006/experiments/PGM-002_copy_MR_2?xsiType=xnat%3AmrSessionData&req_format=qs&label=PGM-002_copy_MR_2\n",
      "[2020-02-10 16:33:21,063] DEBUG: session:430 >> PUT DATA None\n",
      "[2020-02-10 16:33:21,065] DEBUG: session:431 >> PUT FILES None\n",
      "[2020-02-10 16:33:21,108] DEBUG: session:307 >> Received response with status code: 200\n"
     ]
    }
   ],
   "source": [
    "# Charlie Moore has replied to my question here:\n",
    "\n",
    "# https://groups.google.com/forum/#!msg/xnat_discussion/vYJuSZ6MbmI/dTnKfU5_BQAJ\n",
    "\n",
    "# saying that \"I believe XNAT prohibits use of the space character in experiment labels. \n",
    "# Could you try this again without the space in your “label” value?\"\n",
    "\n",
    "newExperimentName = 'PGM-002_copy_MR_2'\n",
    "\n",
    "newExperiment = session.classes.MrSessionData(label=newExperimentName, parent=newSubject)"
   ]
  },
  {
   "cell_type": "code",
   "execution_count": 56,
   "metadata": {},
   "outputs": [
    {
     "name": "stderr",
     "output_type": "stream",
     "text": [
      "[2020-02-10 16:33:24,173] DEBUG: session:334 >> GET URI http://10.1.1.17/data/archive/projects/BrainTumorProg_copy/subjects/XNAT_S00006/experiments/PGM-002_copy_MR_2?format=json\n",
      "[2020-02-10 16:33:24,209] DEBUG: session:307 >> Received response with status code: 200\n"
     ]
    },
    {
     "data": {
      "text/plain": [
       "<MrSessionData PGM-002_copy_MR_2 (XNAT_E00015)>"
      ]
     },
     "execution_count": 56,
     "metadata": {},
     "output_type": "execute_result"
    }
   ],
   "source": [
    "newExperiment"
   ]
  },
  {
   "cell_type": "markdown",
   "metadata": {},
   "source": [
    "#### SUCCESS!  Seems I was confusing \"Label\" with \"Experiment\".  I thought I was supposed to assign the label \"MR Session\" in the same way that in the web interface I would need to select the type of experiment, e.g. \"MR Session\", \"CT Session\", etc."
   ]
  },
  {
   "cell_type": "markdown",
   "metadata": {},
   "source": [
    "#### Need to continue from here now that I've managed to create an experiment without using the WI.  Need to make sense of what I've done so far.."
   ]
  },
  {
   "cell_type": "code",
   "execution_count": null,
   "metadata": {},
   "outputs": [],
   "source": []
  },
  {
   "cell_type": "code",
   "execution_count": null,
   "metadata": {},
   "outputs": [],
   "source": []
  },
  {
   "cell_type": "markdown",
   "metadata": {},
   "source": [
    "Then I found this thread:\n",
    "https://groups.google.com/forum/#!topic/xnat_discussion/dmM9_cwbn38\n",
    "\n",
    "So will try using .classes.ResourceCatalog():"
   ]
  },
  {
   "cell_type": "code",
   "execution_count": 21,
   "metadata": {},
   "outputs": [
    {
     "name": "stderr",
     "output_type": "stream",
     "text": [
      "[2020-02-10 10:13:31,129] DEBUG: session:334 >> GET URI http://10.1.1.17/data/archive/projects/BrainTumorProg_copy/subjects/PGM-002_copy?format=json\n",
      "[2020-02-10 10:13:31,198] DEBUG: session:307 >> Received response with status code: 200\n",
      "[2020-02-10 10:13:31,199] DEBUG: core:171 >> PUT URI: /data/archive/projects/BrainTumorProg_copy/subjects/XNAT_S00006/resources/PGM-002_copy_MR_2_2\n",
      "[2020-02-10 10:13:31,199] DEBUG: core:180 >> query: {'xsiType': 'xnat:resourceCatalog', 'req_format': 'qs', 'label': 'PGM-002_copy_MR_2_2'}\n",
      "[2020-02-10 10:13:31,200] DEBUG: session:428 >> PUT URI http://10.1.1.17/data/archive/projects/BrainTumorProg_copy/subjects/XNAT_S00006/resources/PGM-002_copy_MR_2_2?xsiType=xnat%3AresourceCatalog&req_format=qs&label=PGM-002_copy_MR_2_2\n",
      "[2020-02-10 10:13:31,201] DEBUG: session:430 >> PUT DATA None\n",
      "[2020-02-10 10:13:31,201] DEBUG: session:431 >> PUT FILES None\n",
      "[2020-02-10 10:13:31,405] DEBUG: session:307 >> Received response with status code: 200\n"
     ]
    }
   ],
   "source": [
    "newExperiment2 = session.classes.ResourceCatalog(parent=newSubject, label='PGM-002_copy_MR_2_2')"
   ]
  },
  {
   "cell_type": "code",
   "execution_count": 22,
   "metadata": {},
   "outputs": [
    {
     "name": "stderr",
     "output_type": "stream",
     "text": [
      "[2020-02-10 10:13:35,419] DEBUG: session:334 >> GET URI http://10.1.1.17/data/archive/projects/BrainTumorProg_copy/subjects/XNAT_S00006/resources/PGM-002_copy_MR_2_2?format=json\n",
      "[2020-02-10 10:13:35,464] DEBUG: session:307 >> Received response with status code: 200\n",
      "[2020-02-10 10:13:35,465] DEBUG: session:334 >> GET URI http://10.1.1.17/data/archive/projects/BrainTumorProg_copy/subjects/XNAT_S00006/resources?format=json\n",
      "[2020-02-10 10:13:35,498] DEBUG: session:307 >> Received response with status code: 200\n"
     ]
    },
    {
     "data": {
      "text/plain": [
       "<ResourceCatalog PGM-002_copy_MR_2_2 (PGM-002_copy_MR_2_2)>"
      ]
     },
     "execution_count": 22,
     "metadata": {},
     "output_type": "execute_result"
    }
   ],
   "source": [
    "newExperiment2"
   ]
  },
  {
   "cell_type": "markdown",
   "metadata": {},
   "source": [
    "I didn't get an error, so I thought it worked.  But I didn't see any change in the web interface.  So not sure what it has done."
   ]
  },
  {
   "cell_type": "markdown",
   "metadata": {},
   "source": [
    "#### Returning to the MR Session that I created above, I'll see if I can upload an assessor to it."
   ]
  },
  {
   "cell_type": "code",
   "execution_count": 23,
   "metadata": {},
   "outputs": [
    {
     "data": {
      "text/plain": [
       "<XNATListing {(BrainTumorProg, Brain-Tumor-Progression Collection): <ProjectData Brain-Tumor-Progression Collection (BrainTumorProg)>, (SN2015Neuro, Softneta 2015-04-30 Neuro): <ProjectData Softneta 2015-04-30 Neuro (SN2015Neuro)>, (BrainTumorProg_copy, BrainTumorProg_copy): <ProjectData BrainTumorProg_copy (BrainTumorProg_copy)>}>"
      ]
     },
     "execution_count": 23,
     "metadata": {},
     "output_type": "execute_result"
    }
   ],
   "source": [
    "session.projects"
   ]
  },
  {
   "cell_type": "code",
   "execution_count": 24,
   "metadata": {},
   "outputs": [
    {
     "data": {
      "text/plain": [
       "<ProjectData BrainTumorProg_copy (BrainTumorProg_copy)>"
      ]
     },
     "execution_count": 24,
     "metadata": {},
     "output_type": "execute_result"
    }
   ],
   "source": [
    "session.projects[newProjectName]"
   ]
  },
  {
   "cell_type": "code",
   "execution_count": 25,
   "metadata": {},
   "outputs": [
    {
     "data": {
      "text/plain": [
       "<SubjectData PGM-002_copy (XNAT_S00006)>"
      ]
     },
     "execution_count": 25,
     "metadata": {},
     "output_type": "execute_result"
    }
   ],
   "source": [
    "session.projects[newProjectName].subjects[newSubjectName]"
   ]
  },
  {
   "cell_type": "code",
   "execution_count": 29,
   "metadata": {},
   "outputs": [
    {
     "data": {
      "text/plain": [
       "<MrSessionData PGM-002_copy_MR_2 (XNAT_E00017)>"
      ]
     },
     "execution_count": 29,
     "metadata": {},
     "output_type": "execute_result"
    }
   ],
   "source": [
    "session.projects[newProjectName].subjects[newSubjectName].experiments[newExperimentName]"
   ]
  },
  {
   "cell_type": "code",
   "execution_count": 57,
   "metadata": {},
   "outputs": [
    {
     "name": "stderr",
     "output_type": "stream",
     "text": [
      "[2020-02-10 16:33:42,108] DEBUG: session:334 >> GET URI http://10.1.1.17/data/archive/projects/BrainTumorProg_copy/subjects/XNAT_S00006/experiments/XNAT_E00015/resources?columns=ID%2CURI%2Clabel%2CxsiType&format=json\n",
      "[2020-02-10 16:33:42,133] DEBUG: session:307 >> Received response with status code: 200\n"
     ]
    },
    {
     "data": {
      "text/plain": [
       "<XNATListing {}>"
      ]
     },
     "execution_count": 57,
     "metadata": {},
     "output_type": "execute_result"
    }
   ],
   "source": [
    "newExperiment.resources"
   ]
  },
  {
   "cell_type": "code",
   "execution_count": 34,
   "metadata": {},
   "outputs": [
    {
     "data": {
      "text/plain": [
       "['AbstractDemographicData',\n",
       " 'AbstractExecutionEnvironment',\n",
       " 'AbstractProtocol',\n",
       " 'AbstractResource',\n",
       " 'AbstractResourceTags',\n",
       " 'AbstractStatistics',\n",
       " 'AbstractSubjectMetadata',\n",
       " 'AccessLog',\n",
       " 'ActionType',\n",
       " 'AddField',\n",
       " 'AddFieldString',\n",
       " 'AddIDString',\n",
       " 'AdditionalStatisticsDouble',\n",
       " 'AdditionalVal',\n",
       " 'Algorithm',\n",
       " 'AliasString',\n",
       " 'BuildData',\n",
       " 'BytesIO',\n",
       " 'Catalog',\n",
       " 'CatalogMetafields',\n",
       " 'ChangeInfo',\n",
       " 'CommentString',\n",
       " 'CompilerString',\n",
       " 'ComputationData',\n",
       " 'ContentString',\n",
       " 'ContrastBolus',\n",
       " 'CrScanData',\n",
       " 'CrSessionData',\n",
       " 'Criteria',\n",
       " 'CriteriaSet',\n",
       " 'CsvValuesString',\n",
       " 'CtScanData',\n",
       " 'CtScanDataDcmvalidation',\n",
       " 'CtScanDataParameters',\n",
       " 'CtScanDataParametersCollimationwidth',\n",
       " 'CtScanDataParametersDerivation',\n",
       " 'CtScanDataParametersEstimateddosesaving',\n",
       " 'CtScanDataParametersFov',\n",
       " 'CtScanDataParametersRescale',\n",
       " 'CtScanDataParametersVoxelres',\n",
       " 'CtSessionData',\n",
       " 'DatatypeProtocol',\n",
       " 'DcmCatalog',\n",
       " 'DcmCatalogDimensions',\n",
       " 'DcmCatalogVoxelres',\n",
       " 'DcmEntry',\n",
       " 'DcmValidationString',\n",
       " 'DelayInteger',\n",
       " 'DemographicData',\n",
       " 'DemographicDataHeight',\n",
       " 'DemographicDataWeight',\n",
       " 'DerivationString',\n",
       " 'DerivedData',\n",
       " 'DicomCodedValue',\n",
       " 'DicomSeries',\n",
       " 'DicomSeriesDimensions',\n",
       " 'DicomSeriesImageset',\n",
       " 'DicomSeriesVoxelres',\n",
       " 'DoseFloat',\n",
       " 'Dx3DCraniofacialScanData',\n",
       " 'Dx3DCraniofacialSessionData',\n",
       " 'DxScanData',\n",
       " 'DxSessionData',\n",
       " 'EcatValidationString',\n",
       " 'EcgScanData',\n",
       " 'EcgSessionData',\n",
       " 'EegScanData',\n",
       " 'EegScanDataChannels',\n",
       " 'EegScanDataParameters',\n",
       " 'EegScanDataParametersDatarecord',\n",
       " 'EegScanDataSoftwarefiltersimpedances',\n",
       " 'EegScanDataSoftwarefiltersimpedancesImpedance',\n",
       " 'EegSessionData',\n",
       " 'EegSessionDataSamplinginterval',\n",
       " 'EegSessionDataSamplingrate',\n",
       " 'ElementActionType',\n",
       " 'ElementSecurity',\n",
       " 'ElementSecurityListingActions',\n",
       " 'Entry',\n",
       " 'EntryMetafields',\n",
       " 'EpsScanData',\n",
       " 'EpsSessionData',\n",
       " 'EsScanData',\n",
       " 'EsSessionData',\n",
       " 'EstimatedDoseSavingFloat',\n",
       " 'EsvScanData',\n",
       " 'EsvSessionData',\n",
       " 'ExperimentData',\n",
       " 'ExperimentDataDelay',\n",
       " 'ExperimentDataFields',\n",
       " 'ExperimentDataSharing',\n",
       " 'FieldDefinitionGroup',\n",
       " 'FieldDefinitionGroupFields',\n",
       " 'FieldDefinitionGroupFieldsFieldPossiblevalues',\n",
       " 'FieldMapping',\n",
       " 'FieldMappingSet',\n",
       " 'FieldSpecification',\n",
       " 'FieldSpecificationString',\n",
       " 'FieldString',\n",
       " 'FieldType',\n",
       " 'FieldTypeContent',\n",
       " 'FieldTypeHtmlImage',\n",
       " 'FieldTypeHtmlLink',\n",
       " 'FieldTypeHtmlLinkProperty',\n",
       " 'FieldTypeHtmlLinkPropertyInsertvalue',\n",
       " 'FieldTypeHtmlLinkSecurelink',\n",
       " 'FieldTypeHtmlLinkSecurelinkSecuritymappingvalue',\n",
       " 'FileData',\n",
       " 'GenericData',\n",
       " 'GmScanData',\n",
       " 'GmSessionData',\n",
       " 'GmvScanData',\n",
       " 'GmvSessionData',\n",
       " 'GzipFile',\n",
       " 'HTMLCell',\n",
       " 'HdScanData',\n",
       " 'HdSessionData',\n",
       " 'HeightFloat',\n",
       " 'History',\n",
       " 'ImageAssessorData',\n",
       " 'ImageResource',\n",
       " 'ImageResourceDimensions',\n",
       " 'ImageResourceSeries',\n",
       " 'ImageResourceSeriesDimensions',\n",
       " 'ImageResourceSeriesVoxelres',\n",
       " 'ImageResourceVoxelres',\n",
       " 'ImageScanData',\n",
       " 'ImageScanDataScanner',\n",
       " 'ImageScanDataSharing',\n",
       " 'ImageSessionData',\n",
       " 'ImageSessionDataPipeline',\n",
       " 'ImageSessionDataScanner',\n",
       " 'InfoEntry',\n",
       " 'IntermediateFloat',\n",
       " 'InvestigatorData',\n",
       " 'IoScanData',\n",
       " 'IoSessionData',\n",
       " 'IsotopeString',\n",
       " 'LONGVARCHAR',\n",
       " 'LabelString',\n",
       " 'LayoutDescription',\n",
       " 'LayoutDescriptionCoordinates',\n",
       " 'LibraryString',\n",
       " 'MegScanData',\n",
       " 'MegSessionData',\n",
       " 'MetaData',\n",
       " 'MetaFieldString',\n",
       " 'MgScanData',\n",
       " 'MgSessionData',\n",
       " 'MrAssessorData',\n",
       " 'MrQcScanData',\n",
       " 'MrScanData',\n",
       " 'MrScanDataDcmvalidation',\n",
       " 'MrScanDataParameters',\n",
       " 'MrScanDataParametersDiffusion',\n",
       " 'MrScanDataParametersFov',\n",
       " 'MrScanDataParametersInplanephaseencoding',\n",
       " 'MrScanDataParametersMatrix',\n",
       " 'MrScanDataParametersVoxelres',\n",
       " 'MrSessionData',\n",
       " 'MrsScanData',\n",
       " 'NewsEntry',\n",
       " 'NmScanData',\n",
       " 'NmSessionData',\n",
       " 'OpScanData',\n",
       " 'OpSessionData',\n",
       " 'OptScanData',\n",
       " 'OptScanDataDcmvalidation',\n",
       " 'OptScanDataParameters',\n",
       " 'OptScanDataParametersFov',\n",
       " 'OptScanDataParametersVoxelres',\n",
       " 'OptSessionData',\n",
       " 'OtherDicomScanData',\n",
       " 'OtherDicomSessionData',\n",
       " 'OtherQcScanData',\n",
       " 'PVisitData',\n",
       " 'PYDICOM_LOADED',\n",
       " 'ParameterString',\n",
       " 'PathInfo',\n",
       " 'PetAssessorData',\n",
       " 'PetQcScanData',\n",
       " 'PetScanData',\n",
       " 'PetScanDataEcatvalidation',\n",
       " 'PetScanDataParameters',\n",
       " 'PetScanDataParametersDimensions',\n",
       " 'PetScanDataParametersFilter',\n",
       " 'PetScanDataParametersFrames',\n",
       " 'PetScanDataParametersFramesFrame',\n",
       " 'PetScanDataParametersOffset',\n",
       " 'PetScanDataParametersPixelsize',\n",
       " 'PetScanDataParametersResolution',\n",
       " 'PetScanDataParametersRfilter',\n",
       " 'PetScanDataParametersZfilter',\n",
       " 'PetSessionData',\n",
       " 'PetSessionDataTracer',\n",
       " 'PetSessionDataTracerDose',\n",
       " 'PetSessionDataTracerIntermediate',\n",
       " 'PetSessionDataTracerIsotope',\n",
       " 'PetSessionDataTracerTotalmass',\n",
       " 'PetmrSessionData',\n",
       " 'PetmrSessionDataTracer',\n",
       " 'PetmrSessionDataTracerDose',\n",
       " 'PetmrSessionDataTracerIntermediate',\n",
       " 'PetmrSessionDataTracerIsotope',\n",
       " 'PetmrSessionDataTracerTotalmass',\n",
       " 'PipelineData',\n",
       " 'PipelineDetails',\n",
       " 'PipelineDetailsParameters',\n",
       " 'PipelineDetailsParametersParameterValues',\n",
       " 'PipelineParameterData',\n",
       " 'PipelineParameterDataCsvvalues',\n",
       " 'PipelineParameterDataParameter',\n",
       " 'PlatformString',\n",
       " 'PlexiViewerType',\n",
       " 'PlexiViewerTypeViewableitem',\n",
       " 'PlexiViewerTypeViewableitemHiRes',\n",
       " 'PlexiViewerTypeViewableitemHiResLayer',\n",
       " 'PlexiViewerTypeViewableitemHiResLayoutref',\n",
       " 'PlexiViewerTypeViewableitemLoRes',\n",
       " 'PlexiViewerTypeViewableitemLoResParameter',\n",
       " 'PlexiViewerTypeViewableitemSchemalink',\n",
       " 'PlexiViewerTypeViewableitemThumbnail',\n",
       " 'PlexiViewerTypeViewableitemThumbnailSlice',\n",
       " 'PlexiViewerTypeViewableitemUserinterface',\n",
       " 'PlexiViewerTypeViewableitemUserinterfaceLinkeddropdown',\n",
       " 'PossibleValueString',\n",
       " 'PrimaryPasswordString',\n",
       " 'PrimarySecurityField',\n",
       " 'PrimarySecurityFieldString',\n",
       " 'Process',\n",
       " 'ProcessStep',\n",
       " 'ProcessStepCompiler',\n",
       " 'ProcessStepLibrary',\n",
       " 'ProcessStepPlatform',\n",
       " 'ProcessStepProgram',\n",
       " 'ProgramString',\n",
       " 'Project',\n",
       " 'ProjectData',\n",
       " 'ProjectDataAliases',\n",
       " 'ProjectDataFields',\n",
       " 'ProjectParticipant',\n",
       " 'ProjectPipelines',\n",
       " 'ProjectPipelinesDescendants',\n",
       " 'ProjectPipelinesDescendantsDescendantPipeline',\n",
       " 'ProjectPipelinesPipeline',\n",
       " 'Property',\n",
       " 'PropertyString',\n",
       " 'ProtocolData',\n",
       " 'ProtocolDataCheck',\n",
       " 'ProtocolDataCheckComments',\n",
       " 'ProtocolDataCheckConditions',\n",
       " 'ProtocolDataScans',\n",
       " 'ProtocolDataScansScanCheckComments',\n",
       " 'ProtocolDataScansScanCheckConditions',\n",
       " 'PublicationResource',\n",
       " 'QcAssessmentData',\n",
       " 'QcAssessmentDataScans',\n",
       " 'QcAssessmentDataScansScanSliceqc',\n",
       " 'QcManualAssessorData',\n",
       " 'QcScanData',\n",
       " 'QcScanDataFields',\n",
       " 'QcScanDataRating',\n",
       " 'RatingString',\n",
       " 'ReconstructedImageData',\n",
       " 'RegionResource',\n",
       " 'RegionResourceCreator',\n",
       " 'RegionResourceSubregionlabels',\n",
       " 'RequestsFileLike',\n",
       " 'Resource',\n",
       " 'ResourceCatalog',\n",
       " 'ResourceSeries',\n",
       " 'RfScanData',\n",
       " 'RfSessionData',\n",
       " 'RoiCollectionData',\n",
       " 'RoleType',\n",
       " 'RtImageScanData',\n",
       " 'RtSessionData',\n",
       " 'SESSION',\n",
       " 'SamplingIntervalFloat',\n",
       " 'SamplingRateFloat',\n",
       " 'ScScanData',\n",
       " 'ScannerString',\n",
       " 'SchemaLinkType',\n",
       " 'ScidResearchData',\n",
       " 'ScidResearchDataAnxietydisorders',\n",
       " 'ScidResearchDataEatingdisorders',\n",
       " 'ScidResearchDataMooddisorders',\n",
       " 'ScidResearchDataMoodepisodes',\n",
       " 'ScidResearchDataOptional',\n",
       " 'ScidResearchDataPsychoticdisorders',\n",
       " 'ScidResearchDataPsychoticsymptoms',\n",
       " 'ScidResearchDataSomatoformdisorders',\n",
       " 'ScidResearchDataSubstanceusedisorders',\n",
       " 'ScreeningAssessment',\n",
       " 'ScreeningScanData',\n",
       " 'SearchField',\n",
       " 'SegScanData',\n",
       " 'ShareString',\n",
       " 'SideEffectsPittsburghData',\n",
       " 'SmScanData',\n",
       " 'SmSessionData',\n",
       " 'SrScanData',\n",
       " 'SrSessionData',\n",
       " 'StatisticsData',\n",
       " 'StatisticsDataAddfield',\n",
       " 'StatisticsDataAdditionalstatistics',\n",
       " 'StoredSearch',\n",
       " 'StoredSearchAllowedUser',\n",
       " 'StoredSearchSortBy',\n",
       " 'StudyProtocol',\n",
       " 'StudyProtocolAcqconditions',\n",
       " 'StudyProtocolImagesessiontypes',\n",
       " 'StudyProtocolSubjectgroups',\n",
       " 'StudyProtocolSubjectvariables',\n",
       " 'SubQueryField',\n",
       " 'SubQueryFieldMappingcolumns',\n",
       " 'SubjectAssessorData',\n",
       " 'SubjectData',\n",
       " 'SubjectDataAddid',\n",
       " 'SubjectDataFields',\n",
       " 'SubjectMetadata',\n",
       " 'SubjectVariablesData',\n",
       " 'SubjectVariablesDataVariables',\n",
       " 'TagString',\n",
       " 'TarFile',\n",
       " 'TotalMassFloat',\n",
       " 'Updrs3Data',\n",
       " 'Updrs3DataActionposturaltremor',\n",
       " 'Updrs3DataClicker',\n",
       " 'Updrs3DataFingertaps',\n",
       " 'Updrs3DataFoottaps',\n",
       " 'Updrs3DataHandmovementsgrip',\n",
       " 'Updrs3DataHandsram',\n",
       " 'Updrs3DataRigidity',\n",
       " 'Updrs3DataTremorrest',\n",
       " 'UsScanData',\n",
       " 'UsSessionData',\n",
       " 'User',\n",
       " 'UserGroup',\n",
       " 'UserLogin',\n",
       " 'UserPrimaryPassword',\n",
       " 'ValidationData',\n",
       " 'VariableString',\n",
       " 'VoiceAudioScanData',\n",
       " 'VolumetricRegion',\n",
       " 'VolumetricRegionSubregions',\n",
       " 'WeightFloat',\n",
       " 'WorkflowData',\n",
       " 'XNATListing',\n",
       " 'XNATNestedObject',\n",
       " 'XNATNestedObjectMixin',\n",
       " 'XNATObject',\n",
       " 'XNATObjectMixin',\n",
       " 'XNATSimpleListing',\n",
       " 'XNATSubListing',\n",
       " 'XNATSubObject',\n",
       " 'XNATSubObjectMixin',\n",
       " 'XNAT_CLASS_LOOKUP',\n",
       " 'Xa3DScanData',\n",
       " 'Xa3DSessionData',\n",
       " 'XaScanData',\n",
       " 'XaScanDataParameters',\n",
       " 'XaScanDataParametersFov',\n",
       " 'XaScanDataParametersPixelres',\n",
       " 'XaSessionData',\n",
       " 'XcScanData',\n",
       " 'XcSessionData',\n",
       " 'XcvScanData',\n",
       " 'XcvSessionData',\n",
       " 'XnatExecutionEnvironment',\n",
       " 'XnatExecutionEnvironmentParameterfile',\n",
       " 'XnatExecutionEnvironmentParameters',\n",
       " 'YbocsData',\n",
       " 'YgtssData',\n",
       " 'YgtssDataMotor',\n",
       " 'YgtssDataPhonic',\n",
       " 'ZipFile',\n",
       " '_SOURCE_CODE_FILE',\n",
       " '__builtins__',\n",
       " '__cached__',\n",
       " '__doc__',\n",
       " '__file__',\n",
       " '__loader__',\n",
       " '__name__',\n",
       " '__package__',\n",
       " '__spec__',\n",
       " 'absolute_import',\n",
       " 'caching',\n",
       " 'current_session',\n",
       " 'mixedproperty',\n",
       " 'mixin',\n",
       " 'os',\n",
       " 'pydicom',\n",
       " 'search',\n",
       " 'tempfile',\n",
       " 'unicode_literals']"
      ]
     },
     "execution_count": 34,
     "metadata": {},
     "output_type": "execute_result"
    }
   ],
   "source": [
    "dir(session.classes)"
   ]
  },
  {
   "cell_type": "markdown",
   "metadata": {},
   "source": [
    "#### Following example of \"Object creation\" in XNATpy tutorial, I'll try to create a new RoiCollectionData:"
   ]
  },
  {
   "cell_type": "code",
   "execution_count": 71,
   "metadata": {},
   "outputs": [
    {
     "name": "stderr",
     "output_type": "stream",
     "text": [
      "[2020-02-11 16:35:50,840] DEBUG: core:171 >> PUT URI: /data/archive/projects/BrainTumorProg_copy/subjects/XNAT_S00006/experiments/XNAT_E00015/assessors/ROI_tumour\n",
      "[2020-02-11 16:35:50,842] DEBUG: core:180 >> query: {'xsiType': 'icr:roiCollectionData', 'req_format': 'qs', 'label': 'ROI_tumour'}\n",
      "[2020-02-11 16:35:50,843] DEBUG: session:428 >> PUT URI http://10.1.1.17/data/archive/projects/BrainTumorProg_copy/subjects/XNAT_S00006/experiments/XNAT_E00015/assessors/ROI_tumour?xsiType=icr%3AroiCollectionData&req_format=qs&label=ROI_tumour\n",
      "[2020-02-11 16:35:50,845] DEBUG: session:430 >> PUT DATA None\n",
      "[2020-02-11 16:35:50,845] DEBUG: session:431 >> PUT FILES None\n",
      "[2020-02-11 16:35:51,237] DEBUG: session:307 >> Received response with status code: 200\n"
     ]
    }
   ],
   "source": [
    "ROIcollection = session.classes.RoiCollectionData(parent=newExperiment, label='ROI_tumour')"
   ]
  },
  {
   "cell_type": "markdown",
   "metadata": {},
   "source": [
    "#### The above command didn't work previously (status 500 error).  So maybe that is a GET command rather than a PUT command, and worked this time because I've since created an assessor with the label ROI_tumour (see below). "
   ]
  },
  {
   "cell_type": "code",
   "execution_count": 72,
   "metadata": {},
   "outputs": [
    {
     "name": "stderr",
     "output_type": "stream",
     "text": [
      "[2020-02-11 16:38:48,371] DEBUG: session:334 >> GET URI http://10.1.1.17/data/archive/projects/BrainTumorProg_copy/subjects/XNAT_S00006/experiments/XNAT_E00015/assessors/ROI_tumour?format=json\n",
      "[2020-02-11 16:38:48,472] DEBUG: session:307 >> Received response with status code: 200\n"
     ]
    },
    {
     "data": {
      "text/plain": [
       "<RoiCollectionData ROI_tumour (XNAT_E00025)>"
      ]
     },
     "execution_count": 72,
     "metadata": {},
     "output_type": "execute_result"
    }
   ],
   "source": [
    "ROIcollection"
   ]
  },
  {
   "cell_type": "code",
   "execution_count": 78,
   "metadata": {},
   "outputs": [],
   "source": [
    "# ROIcollection.items() # AttributeError: 'RoiCollectionData' object has no attribute 'items'\n",
    "# ROIcollection.values() # AttributeError: 'RoiCollectionData' object has no attribute 'values'\n",
    "# ROIcollection.elements() # AttributeError: 'RoiCollectionData' object has no attribute 'elements'"
   ]
  },
  {
   "cell_type": "code",
   "execution_count": null,
   "metadata": {},
   "outputs": [],
   "source": []
  },
  {
   "cell_type": "markdown",
   "metadata": {},
   "source": [
    "#### The following cells were executed previously:"
   ]
  },
  {
   "cell_type": "markdown",
   "metadata": {},
   "source": [
    "Create an assessor following Hakim's guidance here:\n",
    "https://groups.google.com/forum/#!searchin/xnat_discussion/xnatpy$20status$20500|sort:date/xnat_discussion/N7i2tS5MleE/7Sxlr7JIBAAJ"
   ]
  },
  {
   "cell_type": "code",
   "execution_count": 59,
   "metadata": {},
   "outputs": [
    {
     "name": "stderr",
     "output_type": "stream",
     "text": [
      "[2020-02-10 16:34:12,164] DEBUG: session:428 >> PUT URI http://10.1.1.17/data/archive/projects/BrainTumorProg_copy/subjects/XNAT_S00006/experiments/XNAT_E00015/assessors/ROI_tumour?xsiType=xnat:qcAssessmentData&label=ROI_tumour&req_format=qs\n",
      "[2020-02-10 16:34:12,165] DEBUG: session:430 >> PUT DATA None\n",
      "[2020-02-10 16:34:12,165] DEBUG: session:431 >> PUT FILES None\n",
      "[2020-02-10 16:34:12,325] DEBUG: session:307 >> Received response with status code: 201\n",
      "[2020-02-10 16:34:12,326] DEBUG: session:334 >> GET URI http://10.1.1.17/data/archive/projects/BrainTumorProg_copy/subjects/XNAT_S00006/experiments/PGM-002_copy_MR_2?format=json\n",
      "[2020-02-10 16:34:12,422] DEBUG: session:307 >> Received response with status code: 200\n",
      "[2020-02-10 16:34:12,423] DEBUG: session:746 >> Looking up type xnat:qcAssessmentData [str]\n",
      "[2020-02-10 16:34:12,423] DEBUG: session:753 >> Creating object of type <class 'xnat_gen_540681bf052587e8ba9fee53609ca631.QcAssessmentData'>\n",
      "[2020-02-10 16:34:12,425] DEBUG: session:334 >> GET URI http://10.1.1.17/data/archive/projects/BrainTumorProg_copy/subjects/XNAT_S00006/experiments/XNAT_E00015/assessors/ROI_tumour?format=json\n",
      "[2020-02-10 16:34:12,472] DEBUG: session:307 >> Received response with status code: 200\n"
     ]
    },
    {
     "data": {
      "text/plain": [
       "<QcAssessmentData ROI_tumour (XNAT_E00025)>"
      ]
     },
     "execution_count": 59,
     "metadata": {},
     "output_type": "execute_result"
    }
   ],
   "source": [
    "assessorLabel = 'ROI_tumour'\n",
    "newExperiment.create_assessor(assessorLabel, type_='xnat:qcAssessmentData')  \n",
    "# Note the xsi_type here, this can be something else if you need it to be"
   ]
  },
  {
   "cell_type": "markdown",
   "metadata": {},
   "source": [
    "This has created an Assessment with the Experiment label \"Auto QC\" in the WI."
   ]
  },
  {
   "cell_type": "code",
   "execution_count": 62,
   "metadata": {},
   "outputs": [
    {
     "ename": "AttributeError",
     "evalue": "'MrSessionData' object has no attribute 'accessors'",
     "output_type": "error",
     "traceback": [
      "\u001b[1;31m---------------------------------------------------------------------------\u001b[0m",
      "\u001b[1;31mAttributeError\u001b[0m                            Traceback (most recent call last)",
      "\u001b[1;32m<ipython-input-62-9cd2245d64f8>\u001b[0m in \u001b[0;36m<module>\u001b[1;34m\u001b[0m\n\u001b[1;32m----> 1\u001b[1;33m \u001b[0msession\u001b[0m\u001b[1;33m.\u001b[0m\u001b[0mprojects\u001b[0m\u001b[1;33m[\u001b[0m\u001b[0mnewProjectName\u001b[0m\u001b[1;33m]\u001b[0m\u001b[1;33m.\u001b[0m\u001b[0msubjects\u001b[0m\u001b[1;33m[\u001b[0m\u001b[0mnewSubjectName\u001b[0m\u001b[1;33m]\u001b[0m\u001b[1;33m.\u001b[0m\u001b[0mexperiments\u001b[0m\u001b[1;33m[\u001b[0m\u001b[0mnewExperimentName\u001b[0m\u001b[1;33m]\u001b[0m\u001b[1;33m.\u001b[0m\u001b[0maccessors\u001b[0m\u001b[1;33m[\u001b[0m\u001b[0massessorLabel\u001b[0m\u001b[1;33m]\u001b[0m\u001b[1;33m\u001b[0m\u001b[1;33m\u001b[0m\u001b[0m\n\u001b[0m",
      "\u001b[1;31mAttributeError\u001b[0m: 'MrSessionData' object has no attribute 'accessors'"
     ]
    }
   ],
   "source": [
    "session.projects[newProjectName].subjects[newSubjectName].experiments[newExperimentName].accessors[assessorLabel]"
   ]
  },
  {
   "cell_type": "code",
   "execution_count": 63,
   "metadata": {},
   "outputs": [
    {
     "ename": "AttributeError",
     "evalue": "'MrSessionData' object has no attribute 'accessors'",
     "output_type": "error",
     "traceback": [
      "\u001b[1;31m---------------------------------------------------------------------------\u001b[0m",
      "\u001b[1;31mAttributeError\u001b[0m                            Traceback (most recent call last)",
      "\u001b[1;32m<ipython-input-63-3104935a679c>\u001b[0m in \u001b[0;36m<module>\u001b[1;34m\u001b[0m\n\u001b[1;32m----> 1\u001b[1;33m \u001b[0msession\u001b[0m\u001b[1;33m.\u001b[0m\u001b[0mprojects\u001b[0m\u001b[1;33m[\u001b[0m\u001b[0mnewProjectName\u001b[0m\u001b[1;33m]\u001b[0m\u001b[1;33m.\u001b[0m\u001b[0msubjects\u001b[0m\u001b[1;33m[\u001b[0m\u001b[0mnewSubjectName\u001b[0m\u001b[1;33m]\u001b[0m\u001b[1;33m.\u001b[0m\u001b[0mexperiments\u001b[0m\u001b[1;33m[\u001b[0m\u001b[0mnewExperimentName\u001b[0m\u001b[1;33m]\u001b[0m\u001b[1;33m.\u001b[0m\u001b[0maccessors\u001b[0m\u001b[1;33m\u001b[0m\u001b[1;33m\u001b[0m\u001b[0m\n\u001b[0m",
      "\u001b[1;31mAttributeError\u001b[0m: 'MrSessionData' object has no attribute 'accessors'"
     ]
    }
   ],
   "source": [
    "session.projects[newProjectName].subjects[newSubjectName].experiments[newExperimentName].accessors"
   ]
  },
  {
   "cell_type": "markdown",
   "metadata": {},
   "source": [
    "#### I don't understand why I got those outputs.."
   ]
  },
  {
   "cell_type": "code",
   "execution_count": 60,
   "metadata": {},
   "outputs": [
    {
     "ename": "TypeError",
     "evalue": "create_assessor() got an unexpected keyword argument 'files'",
     "output_type": "error",
     "traceback": [
      "\u001b[1;31m---------------------------------------------------------------------------\u001b[0m",
      "\u001b[1;31mTypeError\u001b[0m                                 Traceback (most recent call last)",
      "\u001b[1;32m<ipython-input-60-2a8ab421b5f5>\u001b[0m in \u001b[0;36m<module>\u001b[1;34m\u001b[0m\n\u001b[0;32m      1\u001b[0m \u001b[1;31m# Now see if I can add files:\u001b[0m\u001b[1;33m\u001b[0m\u001b[1;33m\u001b[0m\u001b[1;33m\u001b[0m\u001b[0m\n\u001b[0;32m      2\u001b[0m \u001b[1;33m\u001b[0m\u001b[0m\n\u001b[1;32m----> 3\u001b[1;33m \u001b[0mnewExperiment\u001b[0m\u001b[1;33m.\u001b[0m\u001b[0mcreate_assessor\u001b[0m\u001b[1;33m(\u001b[0m\u001b[0massessorLabel\u001b[0m\u001b[1;33m,\u001b[0m \u001b[0mtype_\u001b[0m\u001b[1;33m=\u001b[0m\u001b[1;34m'xnat:qcAssessmentData'\u001b[0m\u001b[1;33m,\u001b[0m \u001b[0mfiles\u001b[0m\u001b[1;33m=\u001b[0m\u001b[0mroiFpathDL\u001b[0m\u001b[1;33m)\u001b[0m  \u001b[1;31m# Note the xsi_type here, this can be something else if you need it to be\u001b[0m\u001b[1;33m\u001b[0m\u001b[1;33m\u001b[0m\u001b[0m\n\u001b[0m",
      "\u001b[1;31mTypeError\u001b[0m: create_assessor() got an unexpected keyword argument 'files'"
     ]
    }
   ],
   "source": [
    "# Now see if I can add files:\n",
    "\n",
    "newExperiment.create_assessor(assessorLabel, type_='xnat:qcAssessmentData', files=roiFpathDL)  # Note the xsi_type here, this can be something else if you need it to be"
   ]
  },
  {
   "cell_type": "markdown",
   "metadata": {},
   "source": [
    "Clearly not like that."
   ]
  },
  {
   "cell_type": "code",
   "execution_count": 64,
   "metadata": {},
   "outputs": [
    {
     "data": {
      "text/plain": [
       "<MrSessionData PGM-002_copy_MR_2 (XNAT_E00017)>"
      ]
     },
     "execution_count": 64,
     "metadata": {},
     "output_type": "execute_result"
    }
   ],
   "source": [
    "assessor = session.projects[newProjectName].subjects[newSubjectName].experiments[newExperimentName]\n",
    "assessor"
   ]
  },
  {
   "cell_type": "markdown",
   "metadata": {},
   "source": [
    "#### Next will try the \"Alternative strategy (more generic)\" provided by Hakim:"
   ]
  },
  {
   "cell_type": "code",
   "execution_count": 65,
   "metadata": {
    "scrolled": true
   },
   "outputs": [
    {
     "name": "stderr",
     "output_type": "stream",
     "text": [
      "[2020-02-10 16:41:37,510] DEBUG: core:171 >> PUT URI: /data/archive/projects/BrainTumorProg_copy/subjects/XNAT_S00006/experiments/XNAT_E00015/assessors/ROI_tumour_2\n",
      "[2020-02-10 16:41:37,511] DEBUG: core:180 >> query: {'xsiType': 'xnat:qcAssessmentData', 'req_format': 'qs', 'label': 'ROI_tumour_2'}\n",
      "[2020-02-10 16:41:37,512] DEBUG: session:428 >> PUT URI http://10.1.1.17/data/archive/projects/BrainTumorProg_copy/subjects/XNAT_S00006/experiments/XNAT_E00015/assessors/ROI_tumour_2?xsiType=xnat%3AqcAssessmentData&req_format=qs&label=ROI_tumour_2\n",
      "[2020-02-10 16:41:37,512] DEBUG: session:430 >> PUT DATA None\n",
      "[2020-02-10 16:41:37,513] DEBUG: session:431 >> PUT FILES None\n",
      "[2020-02-10 16:41:37,634] DEBUG: session:307 >> Received response with status code: 201\n"
     ]
    }
   ],
   "source": [
    "assessorLabel2 = 'ROI_tumour_2'\n",
    "\n",
    "assessor = session.classes.QcAssessmentData(parent=newExperiment, label=assessorLabel2)"
   ]
  },
  {
   "cell_type": "markdown",
   "metadata": {},
   "source": [
    "This has created another Assessment with the Experiment label \"Auto QC\" in the WI."
   ]
  },
  {
   "cell_type": "markdown",
   "metadata": {},
   "source": [
    "## To summarise both of the following commands created an assessment with label \"Auto QC\":\n",
    "\n",
    "### newExperiment.create_assessor(assessorLabel, type_='xnat:qcAssessmentData')  \n",
    "\n",
    "### session.classes.QcAssessmentData(parent=newExperiment, label=assessorLabel2)"
   ]
  },
  {
   "cell_type": "code",
   "execution_count": 81,
   "metadata": {},
   "outputs": [
    {
     "name": "stderr",
     "output_type": "stream",
     "text": [
      "[2020-02-11 16:46:53,868] DEBUG: session:334 >> GET URI http://10.1.1.17/data/archive/projects/BrainTumorProg_copy/subjects/XNAT_S00006/experiments/PGM-002_copy_MR_2?format=json\n",
      "[2020-02-11 16:46:53,984] DEBUG: session:307 >> Received response with status code: 200\n",
      "[2020-02-11 16:46:53,985] DEBUG: core:171 >> PUT URI: /data/archive/projects/BrainTumorProg_copy/subjects/XNAT_S00006/experiments/XNAT_E00015/assessors/ROI_tumour_3\n",
      "[2020-02-11 16:46:53,986] DEBUG: core:180 >> query: {'xsiType': 'icr:roiCollectionData', 'req_format': 'qs', 'label': 'ROI_tumour_3'}\n",
      "[2020-02-11 16:46:53,986] DEBUG: session:428 >> PUT URI http://10.1.1.17/data/archive/projects/BrainTumorProg_copy/subjects/XNAT_S00006/experiments/XNAT_E00015/assessors/ROI_tumour_3?xsiType=icr%3AroiCollectionData&req_format=qs&label=ROI_tumour_3\n",
      "[2020-02-11 16:46:53,987] DEBUG: session:430 >> PUT DATA None\n",
      "[2020-02-11 16:46:53,988] DEBUG: session:431 >> PUT FILES None\n",
      "[2020-02-11 16:46:54,020] DEBUG: session:307 >> Received response with status code: 400\n"
     ]
    },
    {
     "ename": "XNATResponseError",
     "evalue": "Invalid response from XNATSession for url http://10.1.1.17/data/archive/projects/BrainTumorProg_copy/subjects/XNAT_S00006/experiments/XNAT_E00015/assessors/ROI_tumour_3?xsiType=icr%3AroiCollectionData&req_format=qs&label=ROI_tumour_3 (status 400):\n<html>\n<head>\n   <title>Status page</title>\n</head>\n<body>\n<h3>The content of element 'icr:roiCollectionData' is not complete. '{\"http://icr.ac.uk/icr\":UID}' Required Field\nThe content of element 'icr:roiCollectionData' is not complete. '{\"http://icr.ac.uk/icr\":collectionType}' Required Field\nThe content of element 'icr:roiCollectionData' is not complete. '{\"http://icr.ac.uk/icr\":subjectID}' Required Field\n</h3><p>You can get technical details <a href=\"http://www.w3.org/Protocols/rfc2616/rfc2616-sec10.html#sec10.4.1\">here</a>.<br>\nPlease continue your visit at our <a href=\"/\">home page</a>.\n</p>\n</body>\n</html>\n",
     "output_type": "error",
     "traceback": [
      "\u001b[1;31m---------------------------------------------------------------------------\u001b[0m",
      "\u001b[1;31mXNATResponseError\u001b[0m                         Traceback (most recent call last)",
      "\u001b[1;32m<ipython-input-81-048b20eafa0e>\u001b[0m in \u001b[0;36m<module>\u001b[1;34m\u001b[0m\n\u001b[0;32m      4\u001b[0m \u001b[1;33m\u001b[0m\u001b[0m\n\u001b[0;32m      5\u001b[0m \u001b[1;33m\u001b[0m\u001b[0m\n\u001b[1;32m----> 6\u001b[1;33m \u001b[0msession\u001b[0m\u001b[1;33m.\u001b[0m\u001b[0mclasses\u001b[0m\u001b[1;33m.\u001b[0m\u001b[0mRoiCollectionData\u001b[0m\u001b[1;33m(\u001b[0m\u001b[0mparent\u001b[0m\u001b[1;33m=\u001b[0m\u001b[0mnewExperiment\u001b[0m\u001b[1;33m,\u001b[0m \u001b[0mlabel\u001b[0m\u001b[1;33m=\u001b[0m\u001b[0massessorLabel3\u001b[0m\u001b[1;33m)\u001b[0m\u001b[1;33m\u001b[0m\u001b[1;33m\u001b[0m\u001b[0m\n\u001b[0m",
      "\u001b[1;32m~\\Anaconda37\\lib\\site-packages\\xnat\\core.py\u001b[0m in \u001b[0;36m__init__\u001b[1;34m(self, uri, xnat_session, id_, datafields, parent, fieldname, overwrites, **kwargs)\u001b[0m\n\u001b[0;32m    179\u001b[0m \u001b[1;33m\u001b[0m\u001b[0m\n\u001b[0;32m    180\u001b[0m                 \u001b[0mself\u001b[0m\u001b[1;33m.\u001b[0m\u001b[0mlogger\u001b[0m\u001b[1;33m.\u001b[0m\u001b[0mdebug\u001b[0m\u001b[1;33m(\u001b[0m\u001b[1;34m'query: {}'\u001b[0m\u001b[1;33m.\u001b[0m\u001b[0mformat\u001b[0m\u001b[1;33m(\u001b[0m\u001b[0mquery\u001b[0m\u001b[1;33m)\u001b[0m\u001b[1;33m)\u001b[0m\u001b[1;33m\u001b[0m\u001b[1;33m\u001b[0m\u001b[0m\n\u001b[1;32m--> 181\u001b[1;33m                 \u001b[0mself\u001b[0m\u001b[1;33m.\u001b[0m\u001b[0mxnat_session\u001b[0m\u001b[1;33m.\u001b[0m\u001b[0mput\u001b[0m\u001b[1;33m(\u001b[0m\u001b[0muri\u001b[0m\u001b[1;33m,\u001b[0m \u001b[0mquery\u001b[0m\u001b[1;33m=\u001b[0m\u001b[0mquery\u001b[0m\u001b[1;33m)\u001b[0m\u001b[1;33m\u001b[0m\u001b[1;33m\u001b[0m\u001b[0m\n\u001b[0m\u001b[0;32m    182\u001b[0m             \u001b[1;32melse\u001b[0m\u001b[1;33m:\u001b[0m\u001b[1;33m\u001b[0m\u001b[1;33m\u001b[0m\u001b[0m\n\u001b[0;32m    183\u001b[0m                 raise exceptions.XNATValueError('The {} for a {} need to be specified on creation'.format(\n",
      "\u001b[1;32m~\\Anaconda37\\lib\\site-packages\\xnat\\session.py\u001b[0m in \u001b[0;36mput\u001b[1;34m(self, path, data, files, json, format, query, accepted_status, timeout, headers)\u001b[0m\n\u001b[0;32m    435\u001b[0m         \u001b[1;32mexcept\u001b[0m \u001b[0mrequests\u001b[0m\u001b[1;33m.\u001b[0m\u001b[0mexceptions\u001b[0m\u001b[1;33m.\u001b[0m\u001b[0mSSLError\u001b[0m\u001b[1;33m:\u001b[0m\u001b[1;33m\u001b[0m\u001b[1;33m\u001b[0m\u001b[0m\n\u001b[0;32m    436\u001b[0m             \u001b[1;32mraise\u001b[0m \u001b[0mexceptions\u001b[0m\u001b[1;33m.\u001b[0m\u001b[0mXNATSSLError\u001b[0m\u001b[1;33m(\u001b[0m\u001b[1;34m'Encountered a problem with the SSL connection, are you sure the server is offering https?'\u001b[0m\u001b[1;33m)\u001b[0m\u001b[1;33m\u001b[0m\u001b[1;33m\u001b[0m\u001b[0m\n\u001b[1;32m--> 437\u001b[1;33m         \u001b[0mself\u001b[0m\u001b[1;33m.\u001b[0m\u001b[0m_check_response\u001b[0m\u001b[1;33m(\u001b[0m\u001b[0mresponse\u001b[0m\u001b[1;33m,\u001b[0m \u001b[0maccepted_status\u001b[0m\u001b[1;33m=\u001b[0m\u001b[0maccepted_status\u001b[0m\u001b[1;33m,\u001b[0m \u001b[0muri\u001b[0m\u001b[1;33m=\u001b[0m\u001b[0muri\u001b[0m\u001b[1;33m)\u001b[0m  \u001b[1;31m# Allow created OK or Create status (OK if already exists)\u001b[0m\u001b[1;33m\u001b[0m\u001b[1;33m\u001b[0m\u001b[0m\n\u001b[0m\u001b[0;32m    438\u001b[0m         \u001b[1;32mreturn\u001b[0m \u001b[0mresponse\u001b[0m\u001b[1;33m\u001b[0m\u001b[1;33m\u001b[0m\u001b[0m\n\u001b[0;32m    439\u001b[0m \u001b[1;33m\u001b[0m\u001b[0m\n",
      "\u001b[1;32m~\\Anaconda37\\lib\\site-packages\\xnat\\session.py\u001b[0m in \u001b[0;36m_check_response\u001b[1;34m(self, response, accepted_status, uri)\u001b[0m\n\u001b[0;32m    311\u001b[0m                 \u001b[0maccepted_status\u001b[0m \u001b[1;33m=\u001b[0m \u001b[1;33m[\u001b[0m\u001b[1;36m200\u001b[0m\u001b[1;33m,\u001b[0m \u001b[1;36m201\u001b[0m\u001b[1;33m,\u001b[0m \u001b[1;36m202\u001b[0m\u001b[1;33m,\u001b[0m \u001b[1;36m203\u001b[0m\u001b[1;33m,\u001b[0m \u001b[1;36m204\u001b[0m\u001b[1;33m,\u001b[0m \u001b[1;36m205\u001b[0m\u001b[1;33m,\u001b[0m \u001b[1;36m206\u001b[0m\u001b[1;33m]\u001b[0m  \u001b[1;31m# All successful responses of HTML\u001b[0m\u001b[1;33m\u001b[0m\u001b[1;33m\u001b[0m\u001b[0m\n\u001b[0;32m    312\u001b[0m             \u001b[1;32mif\u001b[0m \u001b[0mresponse\u001b[0m\u001b[1;33m.\u001b[0m\u001b[0mstatus_code\u001b[0m \u001b[1;32mnot\u001b[0m \u001b[1;32min\u001b[0m \u001b[0maccepted_status\u001b[0m \u001b[1;32mor\u001b[0m \u001b[1;33m(\u001b[0m\u001b[1;32mnot\u001b[0m \u001b[0mself\u001b[0m\u001b[1;33m.\u001b[0m\u001b[0mskip_response_content_check\u001b[0m \u001b[1;32mand\u001b[0m \u001b[0mresponse\u001b[0m\u001b[1;33m.\u001b[0m\u001b[0mtext\u001b[0m\u001b[1;33m.\u001b[0m\u001b[0mstartswith\u001b[0m\u001b[1;33m(\u001b[0m\u001b[1;33m(\u001b[0m\u001b[1;34m'<!DOCTYPE'\u001b[0m\u001b[1;33m,\u001b[0m \u001b[1;34m'<html>'\u001b[0m\u001b[1;33m)\u001b[0m\u001b[1;33m)\u001b[0m\u001b[1;33m)\u001b[0m\u001b[1;33m:\u001b[0m\u001b[1;33m\u001b[0m\u001b[1;33m\u001b[0m\u001b[0m\n\u001b[1;32m--> 313\u001b[1;33m                 \u001b[1;32mraise\u001b[0m \u001b[0mexceptions\u001b[0m\u001b[1;33m.\u001b[0m\u001b[0mXNATResponseError\u001b[0m\u001b[1;33m(\u001b[0m\u001b[1;34m'Invalid response from XNATSession for url {} (status {}):\\n{}'\u001b[0m\u001b[1;33m.\u001b[0m\u001b[0mformat\u001b[0m\u001b[1;33m(\u001b[0m\u001b[0muri\u001b[0m\u001b[1;33m,\u001b[0m \u001b[0mresponse\u001b[0m\u001b[1;33m.\u001b[0m\u001b[0mstatus_code\u001b[0m\u001b[1;33m,\u001b[0m \u001b[0mresponse\u001b[0m\u001b[1;33m.\u001b[0m\u001b[0mtext\u001b[0m\u001b[1;33m)\u001b[0m\u001b[1;33m)\u001b[0m\u001b[1;33m\u001b[0m\u001b[1;33m\u001b[0m\u001b[0m\n\u001b[0m\u001b[0;32m    314\u001b[0m \u001b[1;33m\u001b[0m\u001b[0m\n\u001b[0;32m    315\u001b[0m     \u001b[1;32mdef\u001b[0m \u001b[0mget\u001b[0m\u001b[1;33m(\u001b[0m\u001b[0mself\u001b[0m\u001b[1;33m,\u001b[0m \u001b[0mpath\u001b[0m\u001b[1;33m,\u001b[0m \u001b[0mformat\u001b[0m\u001b[1;33m=\u001b[0m\u001b[1;32mNone\u001b[0m\u001b[1;33m,\u001b[0m \u001b[0mquery\u001b[0m\u001b[1;33m=\u001b[0m\u001b[1;32mNone\u001b[0m\u001b[1;33m,\u001b[0m \u001b[0maccepted_status\u001b[0m\u001b[1;33m=\u001b[0m\u001b[1;32mNone\u001b[0m\u001b[1;33m,\u001b[0m \u001b[0mtimeout\u001b[0m\u001b[1;33m=\u001b[0m\u001b[1;32mNone\u001b[0m\u001b[1;33m,\u001b[0m \u001b[0mheaders\u001b[0m\u001b[1;33m=\u001b[0m\u001b[1;32mNone\u001b[0m\u001b[1;33m)\u001b[0m\u001b[1;33m:\u001b[0m\u001b[1;33m\u001b[0m\u001b[1;33m\u001b[0m\u001b[0m\n",
      "\u001b[1;31mXNATResponseError\u001b[0m: Invalid response from XNATSession for url http://10.1.1.17/data/archive/projects/BrainTumorProg_copy/subjects/XNAT_S00006/experiments/XNAT_E00015/assessors/ROI_tumour_3?xsiType=icr%3AroiCollectionData&req_format=qs&label=ROI_tumour_3 (status 400):\n<html>\n<head>\n   <title>Status page</title>\n</head>\n<body>\n<h3>The content of element 'icr:roiCollectionData' is not complete. '{\"http://icr.ac.uk/icr\":UID}' Required Field\nThe content of element 'icr:roiCollectionData' is not complete. '{\"http://icr.ac.uk/icr\":collectionType}' Required Field\nThe content of element 'icr:roiCollectionData' is not complete. '{\"http://icr.ac.uk/icr\":subjectID}' Required Field\n</h3><p>You can get technical details <a href=\"http://www.w3.org/Protocols/rfc2616/rfc2616-sec10.html#sec10.4.1\">here</a>.<br>\nPlease continue your visit at our <a href=\"/\">home page</a>.\n</p>\n</body>\n</html>\n"
     ]
    }
   ],
   "source": [
    "# Try:\n",
    "assessorLabel3 = 'ROI_tumour_3' # doesn't work (Received response with status code: 400)\n",
    "#assessorLabel3 = 'ROI_tumour_2' # works (<RoiCollectionData ROI_tumour_2 (XNAT_E00026)>)\n",
    "\n",
    "\n",
    "session.classes.RoiCollectionData(parent=newExperiment, label=assessorLabel3)"
   ]
  },
  {
   "cell_type": "code",
   "execution_count": 82,
   "metadata": {},
   "outputs": [
    {
     "name": "stderr",
     "output_type": "stream",
     "text": [
      "[2020-02-11 16:48:54,329] DEBUG: core:171 >> PUT URI: /data/archive/projects/BrainTumorProg_copy/subjects/XNAT_S00006/experiments/XNAT_E00015/assessors/ROI_tumour_2\n",
      "[2020-02-11 16:48:54,330] DEBUG: core:180 >> query: {'xsiType': 'icr:roiCollectionData', 'req_format': 'qs', 'label': 'ROI_tumour_2'}\n",
      "[2020-02-11 16:48:54,331] DEBUG: session:428 >> PUT URI http://10.1.1.17/data/archive/projects/BrainTumorProg_copy/subjects/XNAT_S00006/experiments/XNAT_E00015/assessors/ROI_tumour_2?xsiType=icr%3AroiCollectionData&req_format=qs&label=ROI_tumour_2\n",
      "[2020-02-11 16:48:54,332] DEBUG: session:430 >> PUT DATA None\n",
      "[2020-02-11 16:48:54,332] DEBUG: session:431 >> PUT FILES None\n",
      "[2020-02-11 16:48:54,513] DEBUG: session:307 >> Received response with status code: 200\n",
      "[2020-02-11 16:48:54,515] DEBUG: session:334 >> GET URI http://10.1.1.17/data/archive/projects/BrainTumorProg_copy/subjects/XNAT_S00006/experiments/XNAT_E00015/assessors/ROI_tumour_2?format=json\n",
      "[2020-02-11 16:48:54,599] DEBUG: session:307 >> Received response with status code: 200\n"
     ]
    },
    {
     "data": {
      "text/plain": [
       "<RoiCollectionData ROI_tumour_2 (XNAT_E00026)>"
      ]
     },
     "execution_count": 82,
     "metadata": {},
     "output_type": "execute_result"
    }
   ],
   "source": [
    "# Try:\n",
    "#xuassessorLabel3 = 'ROI_tumour_3' # doesn't work (Received response with status code: 400)\n",
    "assessorLabel3 = 'ROI_tumour_2' # works (<RoiCollectionData ROI_tumour_2 (XNAT_E00026)>)\n",
    "\n",
    "\n",
    "session.classes.RoiCollectionData(parent=newExperiment, label=assessorLabel3)"
   ]
  },
  {
   "cell_type": "markdown",
   "metadata": {},
   "source": [
    "#### see comment above (I think this is a GET rather than PUT command)"
   ]
  },
  {
   "cell_type": "code",
   "execution_count": 66,
   "metadata": {},
   "outputs": [
    {
     "name": "stderr",
     "output_type": "stream",
     "text": [
      "[2020-02-10 16:45:38,888] DEBUG: session:334 >> GET URI http://10.1.1.17/data/archive/projects/BrainTumorProg_copy/subjects/XNAT_S00006/experiments/XNAT_E00015/assessors/ROI_tumour_2?format=json\n",
      "[2020-02-10 16:45:38,943] DEBUG: session:307 >> Received response with status code: 200\n",
      "[2020-02-10 16:45:38,944] DEBUG: core:171 >> PUT URI: /data/experiments/XNAT_E00015/assessors/XNAT_E00026/resources/RESOURCE_LABEL\n",
      "[2020-02-10 16:45:38,944] DEBUG: core:180 >> query: {'xsiType': 'xnat:resourceCatalog', 'req_format': 'qs', 'label': 'RESOURCE_LABEL'}\n",
      "[2020-02-10 16:45:38,944] DEBUG: session:428 >> PUT URI http://10.1.1.17/data/experiments/XNAT_E00015/assessors/XNAT_E00026/resources/RESOURCE_LABEL?xsiType=xnat%3AresourceCatalog&req_format=qs&label=RESOURCE_LABEL\n",
      "[2020-02-10 16:45:38,945] DEBUG: session:430 >> PUT DATA None\n",
      "[2020-02-10 16:45:38,947] DEBUG: session:431 >> PUT FILES None\n",
      "[2020-02-10 16:45:39,084] DEBUG: session:307 >> Received response with status code: 200\n"
     ]
    }
   ],
   "source": [
    "# Continuing with the alternative strategy:\n",
    "resource = session.classes.ResourceCatalog(parent=assessor, label='RESOURCE_LABEL') # was connection.classes... \n",
    "# but might have been a typo?"
   ]
  },
  {
   "cell_type": "markdown",
   "metadata": {},
   "source": [
    "#### I'm not sure what this has done.  The WI looks the same other than perhaps a \"+ Session QC Status\" above Scans that may or may not have been present before."
   ]
  },
  {
   "cell_type": "code",
   "execution_count": 67,
   "metadata": {},
   "outputs": [
    {
     "name": "stderr",
     "output_type": "stream",
     "text": [
      "[2020-02-10 16:46:32,128] DEBUG: session:334 >> GET URI http://10.1.1.17/data/archive/projects/BrainTumorProg_copy/subjects/XNAT_S00006/experiments/XNAT_E00015/assessors/ROI_tumour_2?format=json\n",
      "[2020-02-10 16:46:32,174] DEBUG: session:307 >> Received response with status code: 200\n"
     ]
    },
    {
     "data": {
      "text/plain": [
       "<QcAssessmentData ROI_tumour_2 (XNAT_E00026)>"
      ]
     },
     "execution_count": 67,
     "metadata": {},
     "output_type": "execute_result"
    }
   ],
   "source": [
    "assessor"
   ]
  },
  {
   "cell_type": "code",
   "execution_count": 68,
   "metadata": {},
   "outputs": [
    {
     "name": "stderr",
     "output_type": "stream",
     "text": [
      "[2020-02-10 16:46:37,430] DEBUG: session:334 >> GET URI http://10.1.1.17/data/experiments/XNAT_E00015/assessors/XNAT_E00026/resources/RESOURCE_LABEL?format=json\n",
      "[2020-02-10 16:46:37,469] DEBUG: session:307 >> Received response with status code: 200\n",
      "[2020-02-10 16:46:37,469] DEBUG: session:334 >> GET URI http://10.1.1.17/data/experiments/XNAT_E00015/assessors/XNAT_E00026/resources?format=json\n",
      "[2020-02-10 16:46:37,494] DEBUG: session:307 >> Received response with status code: 200\n"
     ]
    },
    {
     "data": {
      "text/plain": [
       "<ResourceCatalog RESOURCE_LABEL (RESOURCE_LABEL)>"
      ]
     },
     "execution_count": 68,
     "metadata": {},
     "output_type": "execute_result"
    }
   ],
   "source": [
    "resource"
   ]
  },
  {
   "cell_type": "markdown",
   "metadata": {},
   "source": [
    "#### So now need to figure out how to upload the DICOM-RTSTRUCT file to assessor.  Try importing via the prearchive:"
   ]
  },
  {
   "cell_type": "markdown",
   "metadata": {},
   "source": [
    "#### Should project be the object (e.g. newProject) or the label (e.g. newProjectName)?"
   ]
  },
  {
   "cell_type": "code",
   "execution_count": 83,
   "metadata": {},
   "outputs": [
    {
     "name": "stderr",
     "output_type": "stream",
     "text": [
      "[2020-02-12 16:13:30,180] DEBUG: session:661 >> UPLOAD URI http://10.1.1.17/data/services/import?dest=%2Fprearchive&project=BrainTumorProg_copy\n",
      "[2020-02-12 16:13:33,258] DEBUG: session:307 >> Received response with status code: 500\n"
     ]
    },
    {
     "ename": "XNATUploadError",
     "evalue": "Upload failed after 1 attempts! Status code 500, response text <html>\n<head>\n   <title>Status page</title>\n</head>\n<body>\n<h3>An error occurred adding the session to the prearchive database</h3><p>You can get technical details <a href=\"http://www.w3.org/Protocols/rfc2616/rfc2616-sec10.html#sec10.5.1\">here</a>.<br>\nPlease continue your visit at our <a href=\"/\">home page</a>.\n</p>\n</body>\n</html>\n",
     "output_type": "error",
     "traceback": [
      "\u001b[1;31m---------------------------------------------------------------------------\u001b[0m",
      "\u001b[1;31mXNATUploadError\u001b[0m                           Traceback (most recent call last)",
      "\u001b[1;32m<ipython-input-83-fda5240d7d83>\u001b[0m in \u001b[0;36m<module>\u001b[1;34m\u001b[0m\n\u001b[0;32m      1\u001b[0m prearchive_session = session.services.import_(roiFpathDL, \\\n\u001b[0;32m      2\u001b[0m                                               \u001b[0mproject\u001b[0m\u001b[1;33m=\u001b[0m\u001b[0mnewProjectName\u001b[0m\u001b[1;33m,\u001b[0m\u001b[0;31m \u001b[0m\u001b[0;31m\\\u001b[0m\u001b[1;33m\u001b[0m\u001b[1;33m\u001b[0m\u001b[0m\n\u001b[1;32m----> 3\u001b[1;33m                                               destination='/prearchive')\n\u001b[0m",
      "\u001b[1;32m~\\Anaconda37\\lib\\site-packages\\xnat\\services.py\u001b[0m in \u001b[0;36mimport_\u001b[1;34m(self, path, overwrite, quarantine, destination, trigger_pipelines, project, subject, experiment, content_type)\u001b[0m\n\u001b[0;32m    109\u001b[0m \u001b[1;33m\u001b[0m\u001b[0m\n\u001b[0;32m    110\u001b[0m         \u001b[0muri\u001b[0m \u001b[1;33m=\u001b[0m \u001b[1;34m'/data/services/import'\u001b[0m\u001b[1;33m\u001b[0m\u001b[1;33m\u001b[0m\u001b[0m\n\u001b[1;32m--> 111\u001b[1;33m         \u001b[0mresponse\u001b[0m \u001b[1;33m=\u001b[0m \u001b[0mself\u001b[0m\u001b[1;33m.\u001b[0m\u001b[0mxnat_session\u001b[0m\u001b[1;33m.\u001b[0m\u001b[0mupload\u001b[0m\u001b[1;33m(\u001b[0m\u001b[0muri\u001b[0m\u001b[1;33m=\u001b[0m\u001b[0muri\u001b[0m\u001b[1;33m,\u001b[0m \u001b[0mfile_\u001b[0m\u001b[1;33m=\u001b[0m\u001b[0mpath\u001b[0m\u001b[1;33m,\u001b[0m \u001b[0mquery\u001b[0m\u001b[1;33m=\u001b[0m\u001b[0mquery\u001b[0m\u001b[1;33m,\u001b[0m \u001b[0mcontent_type\u001b[0m\u001b[1;33m=\u001b[0m\u001b[0mcontent_type\u001b[0m\u001b[1;33m,\u001b[0m \u001b[0mmethod\u001b[0m\u001b[1;33m=\u001b[0m\u001b[1;34m'post'\u001b[0m\u001b[1;33m)\u001b[0m\u001b[1;33m\u001b[0m\u001b[1;33m\u001b[0m\u001b[0m\n\u001b[0m\u001b[0;32m    112\u001b[0m \u001b[1;33m\u001b[0m\u001b[0m\n\u001b[0;32m    113\u001b[0m         \u001b[1;32mif\u001b[0m \u001b[0mresponse\u001b[0m\u001b[1;33m.\u001b[0m\u001b[0mstatus_code\u001b[0m \u001b[1;33m!=\u001b[0m \u001b[1;36m200\u001b[0m\u001b[1;33m:\u001b[0m\u001b[1;33m\u001b[0m\u001b[1;33m\u001b[0m\u001b[0m\n",
      "\u001b[1;32m~\\Anaconda37\\lib\\site-packages\\xnat\\session.py\u001b[0m in \u001b[0;36mupload\u001b[1;34m(self, uri, file_, retries, query, content_type, method, overwrite, timeout)\u001b[0m\n\u001b[0;32m    703\u001b[0m \u001b[1;33m\u001b[0m\u001b[0m\n\u001b[0;32m    704\u001b[0m         \u001b[1;31m# We didn't return correctly, so we have an error\u001b[0m\u001b[1;33m\u001b[0m\u001b[1;33m\u001b[0m\u001b[1;33m\u001b[0m\u001b[0m\n\u001b[1;32m--> 705\u001b[1;33m         \u001b[1;32mraise\u001b[0m \u001b[0mexceptions\u001b[0m\u001b[1;33m.\u001b[0m\u001b[0mXNATUploadError\u001b[0m\u001b[1;33m(\u001b[0m\u001b[1;34m'Upload failed after {} attempts! Status code {}, response text {}'\u001b[0m\u001b[1;33m.\u001b[0m\u001b[0mformat\u001b[0m\u001b[1;33m(\u001b[0m\u001b[0mretries\u001b[0m\u001b[1;33m,\u001b[0m \u001b[0mresponse\u001b[0m\u001b[1;33m.\u001b[0m\u001b[0mstatus_code\u001b[0m\u001b[1;33m,\u001b[0m \u001b[0mresponse\u001b[0m\u001b[1;33m.\u001b[0m\u001b[0mtext\u001b[0m\u001b[1;33m)\u001b[0m\u001b[1;33m)\u001b[0m\u001b[1;33m\u001b[0m\u001b[1;33m\u001b[0m\u001b[0m\n\u001b[0m\u001b[0;32m    706\u001b[0m \u001b[1;33m\u001b[0m\u001b[0m\n\u001b[0;32m    707\u001b[0m     \u001b[1;33m@\u001b[0m\u001b[0mproperty\u001b[0m\u001b[1;33m\u001b[0m\u001b[1;33m\u001b[0m\u001b[0m\n",
      "\u001b[1;31mXNATUploadError\u001b[0m: Upload failed after 1 attempts! Status code 500, response text <html>\n<head>\n   <title>Status page</title>\n</head>\n<body>\n<h3>An error occurred adding the session to the prearchive database</h3><p>You can get technical details <a href=\"http://www.w3.org/Protocols/rfc2616/rfc2616-sec10.html#sec10.5.1\">here</a>.<br>\nPlease continue your visit at our <a href=\"/\">home page</a>.\n</p>\n</body>\n</html>\n"
     ]
    }
   ],
   "source": [
    "# Setting project = newProjectName:\n",
    "\n",
    "prearchive_session = session.services.import_(roiFpathDL, \\\n",
    "                                              project=newProjectName, \\\n",
    "                                              destination='/prearchive')"
   ]
  },
  {
   "cell_type": "markdown",
   "metadata": {},
   "source": [
    "#### Looking at the log files:\n",
    "\n",
    "##### access.log (tail /data/xnat/home/logs/access.log):\n",
    "\n",
    "2020-02-12 16:13:30,178 - admin 127.0.0.1 POST http://10.1.1.17/data/services/import?dest=%2Fprearchive&project=BrainTumorProg_copy\n",
    "\n",
    "##### dicom.log (tail /data/xnat/home/logs/dicom.log):\n",
    "\n",
    "2020-02-12 16:13:31,811 [pool-2-thread-1] ERROR org.nrg.dcm.xnat.DICOMSessionBuilder - Session builder not implemented for SOP class [1.2.840.10008.5.1.4.1.1.481.3] or modality [RTSTRUCT]\n",
    "\n"
   ]
  },
  {
   "cell_type": "code",
   "execution_count": 84,
   "metadata": {},
   "outputs": [
    {
     "name": "stderr",
     "output_type": "stream",
     "text": [
      "[2020-02-12 16:14:29,433] DEBUG: session:661 >> UPLOAD URI http://10.1.1.17/data/services/import?dest=%2Fprearchive&project=%3CProjectData+BrainTumorProg_copy+%28BrainTumorProg_copy%29%3E\n",
      "[2020-02-12 16:14:29,949] DEBUG: session:307 >> Received response with status code: 500\n"
     ]
    },
    {
     "ename": "XNATUploadError",
     "evalue": "Upload failed after 1 attempts! Status code 500, response text <html>\n<head>\n   <title>Status page</title>\n</head>\n<body>\n<h3>An error occurred adding the session to the prearchive database</h3><p>You can get technical details <a href=\"http://www.w3.org/Protocols/rfc2616/rfc2616-sec10.html#sec10.5.1\">here</a>.<br>\nPlease continue your visit at our <a href=\"/\">home page</a>.\n</p>\n</body>\n</html>\n",
     "output_type": "error",
     "traceback": [
      "\u001b[1;31m---------------------------------------------------------------------------\u001b[0m",
      "\u001b[1;31mXNATUploadError\u001b[0m                           Traceback (most recent call last)",
      "\u001b[1;32m<ipython-input-84-aaa03060cc97>\u001b[0m in \u001b[0;36m<module>\u001b[1;34m\u001b[0m\n\u001b[0;32m      1\u001b[0m prearchive_session = session.services.import_(roiFpathDL, \\\n\u001b[0;32m      2\u001b[0m                                               \u001b[0mproject\u001b[0m\u001b[1;33m=\u001b[0m\u001b[0mnewProject\u001b[0m\u001b[1;33m,\u001b[0m\u001b[0;31m \u001b[0m\u001b[0;31m\\\u001b[0m\u001b[1;33m\u001b[0m\u001b[1;33m\u001b[0m\u001b[0m\n\u001b[1;32m----> 3\u001b[1;33m                                               destination='/prearchive')\n\u001b[0m",
      "\u001b[1;32m~\\Anaconda37\\lib\\site-packages\\xnat\\services.py\u001b[0m in \u001b[0;36mimport_\u001b[1;34m(self, path, overwrite, quarantine, destination, trigger_pipelines, project, subject, experiment, content_type)\u001b[0m\n\u001b[0;32m    109\u001b[0m \u001b[1;33m\u001b[0m\u001b[0m\n\u001b[0;32m    110\u001b[0m         \u001b[0muri\u001b[0m \u001b[1;33m=\u001b[0m \u001b[1;34m'/data/services/import'\u001b[0m\u001b[1;33m\u001b[0m\u001b[1;33m\u001b[0m\u001b[0m\n\u001b[1;32m--> 111\u001b[1;33m         \u001b[0mresponse\u001b[0m \u001b[1;33m=\u001b[0m \u001b[0mself\u001b[0m\u001b[1;33m.\u001b[0m\u001b[0mxnat_session\u001b[0m\u001b[1;33m.\u001b[0m\u001b[0mupload\u001b[0m\u001b[1;33m(\u001b[0m\u001b[0muri\u001b[0m\u001b[1;33m=\u001b[0m\u001b[0muri\u001b[0m\u001b[1;33m,\u001b[0m \u001b[0mfile_\u001b[0m\u001b[1;33m=\u001b[0m\u001b[0mpath\u001b[0m\u001b[1;33m,\u001b[0m \u001b[0mquery\u001b[0m\u001b[1;33m=\u001b[0m\u001b[0mquery\u001b[0m\u001b[1;33m,\u001b[0m \u001b[0mcontent_type\u001b[0m\u001b[1;33m=\u001b[0m\u001b[0mcontent_type\u001b[0m\u001b[1;33m,\u001b[0m \u001b[0mmethod\u001b[0m\u001b[1;33m=\u001b[0m\u001b[1;34m'post'\u001b[0m\u001b[1;33m)\u001b[0m\u001b[1;33m\u001b[0m\u001b[1;33m\u001b[0m\u001b[0m\n\u001b[0m\u001b[0;32m    112\u001b[0m \u001b[1;33m\u001b[0m\u001b[0m\n\u001b[0;32m    113\u001b[0m         \u001b[1;32mif\u001b[0m \u001b[0mresponse\u001b[0m\u001b[1;33m.\u001b[0m\u001b[0mstatus_code\u001b[0m \u001b[1;33m!=\u001b[0m \u001b[1;36m200\u001b[0m\u001b[1;33m:\u001b[0m\u001b[1;33m\u001b[0m\u001b[1;33m\u001b[0m\u001b[0m\n",
      "\u001b[1;32m~\\Anaconda37\\lib\\site-packages\\xnat\\session.py\u001b[0m in \u001b[0;36mupload\u001b[1;34m(self, uri, file_, retries, query, content_type, method, overwrite, timeout)\u001b[0m\n\u001b[0;32m    703\u001b[0m \u001b[1;33m\u001b[0m\u001b[0m\n\u001b[0;32m    704\u001b[0m         \u001b[1;31m# We didn't return correctly, so we have an error\u001b[0m\u001b[1;33m\u001b[0m\u001b[1;33m\u001b[0m\u001b[1;33m\u001b[0m\u001b[0m\n\u001b[1;32m--> 705\u001b[1;33m         \u001b[1;32mraise\u001b[0m \u001b[0mexceptions\u001b[0m\u001b[1;33m.\u001b[0m\u001b[0mXNATUploadError\u001b[0m\u001b[1;33m(\u001b[0m\u001b[1;34m'Upload failed after {} attempts! Status code {}, response text {}'\u001b[0m\u001b[1;33m.\u001b[0m\u001b[0mformat\u001b[0m\u001b[1;33m(\u001b[0m\u001b[0mretries\u001b[0m\u001b[1;33m,\u001b[0m \u001b[0mresponse\u001b[0m\u001b[1;33m.\u001b[0m\u001b[0mstatus_code\u001b[0m\u001b[1;33m,\u001b[0m \u001b[0mresponse\u001b[0m\u001b[1;33m.\u001b[0m\u001b[0mtext\u001b[0m\u001b[1;33m)\u001b[0m\u001b[1;33m)\u001b[0m\u001b[1;33m\u001b[0m\u001b[1;33m\u001b[0m\u001b[0m\n\u001b[0m\u001b[0;32m    706\u001b[0m \u001b[1;33m\u001b[0m\u001b[0m\n\u001b[0;32m    707\u001b[0m     \u001b[1;33m@\u001b[0m\u001b[0mproperty\u001b[0m\u001b[1;33m\u001b[0m\u001b[1;33m\u001b[0m\u001b[0m\n",
      "\u001b[1;31mXNATUploadError\u001b[0m: Upload failed after 1 attempts! Status code 500, response text <html>\n<head>\n   <title>Status page</title>\n</head>\n<body>\n<h3>An error occurred adding the session to the prearchive database</h3><p>You can get technical details <a href=\"http://www.w3.org/Protocols/rfc2616/rfc2616-sec10.html#sec10.5.1\">here</a>.<br>\nPlease continue your visit at our <a href=\"/\">home page</a>.\n</p>\n</body>\n</html>\n"
     ]
    }
   ],
   "source": [
    "# Setting project = newProject:\n",
    "\n",
    "prearchive_session = session.services.import_(roiFpathDL, \\\n",
    "                                              project=newProject, \\\n",
    "                                              destination='/prearchive')"
   ]
  },
  {
   "cell_type": "markdown",
   "metadata": {},
   "source": [
    "#### Looking at the log files:\n",
    "\n",
    "##### access.log (tail /data/xnat/home/logs/access.log):\n",
    "\n",
    "2020-02-12 16:14:28,221 - admin 0:0:0:0:0:0:0:1 POST http://10.1.1.17/data/services/import?dest=%2Fprearchive&project=%3CProjectData+BrainTumorProg_copy+%28BrainTumorProg_copy%29%3E\n",
    "\n",
    "This one looks more suspicious than the previous one (with project=newProjectName) because of \"0:0:0:0:0:0:0:1\" (as opposed to \"127.0.0.1\")\n",
    "\n",
    "\n",
    "##### dicom.log (tail /data/xnat/home/logs/dicom.log):\n",
    "\n",
    "2020-02-12 16:14:28,565 [pool-2-thread-2] ERROR org.nrg.dcm.xnat.DICOMSessionBuilder - Session builder not implemented for SOP class [1.2.840.10008.5.1.4.1.1.481.3] or modality [RTSTRUCT]\n",
    "\n"
   ]
  },
  {
   "cell_type": "code",
   "execution_count": 85,
   "metadata": {},
   "outputs": [
    {
     "name": "stderr",
     "output_type": "stream",
     "text": [
      "[2020-02-12 16:23:38,101] DEBUG: session:661 >> UPLOAD URI http://10.1.1.17/data/services/import?project=BrainTumorProg_copy\n",
      "[2020-02-12 16:23:38,580] DEBUG: session:307 >> Received response with status code: 500\n"
     ]
    },
    {
     "ename": "XNATUploadError",
     "evalue": "Upload failed after 1 attempts! Status code 500, response text <html>\n<head>\n   <title>Status page</title>\n</head>\n<body>\n<h3>An error occurred adding the session to the prearchive database</h3><p>You can get technical details <a href=\"http://www.w3.org/Protocols/rfc2616/rfc2616-sec10.html#sec10.5.1\">here</a>.<br>\nPlease continue your visit at our <a href=\"/\">home page</a>.\n</p>\n</body>\n</html>\n",
     "output_type": "error",
     "traceback": [
      "\u001b[1;31m---------------------------------------------------------------------------\u001b[0m",
      "\u001b[1;31mXNATUploadError\u001b[0m                           Traceback (most recent call last)",
      "\u001b[1;32m<ipython-input-85-e493baeaad58>\u001b[0m in \u001b[0;36m<module>\u001b[1;34m\u001b[0m\n\u001b[0;32m      1\u001b[0m \u001b[1;31m# This time trying without the pre-archive destination input:\u001b[0m\u001b[1;33m\u001b[0m\u001b[1;33m\u001b[0m\u001b[1;33m\u001b[0m\u001b[0m\n\u001b[0;32m      2\u001b[0m \u001b[1;33m\u001b[0m\u001b[0m\n\u001b[1;32m----> 3\u001b[1;33m \u001b[0mprearchive_session\u001b[0m \u001b[1;33m=\u001b[0m \u001b[0msession\u001b[0m\u001b[1;33m.\u001b[0m\u001b[0mservices\u001b[0m\u001b[1;33m.\u001b[0m\u001b[0mimport_\u001b[0m\u001b[1;33m(\u001b[0m\u001b[0mroiFpathDL\u001b[0m\u001b[1;33m,\u001b[0m \u001b[0mproject\u001b[0m\u001b[1;33m=\u001b[0m\u001b[0mnewProjectName\u001b[0m\u001b[1;33m)\u001b[0m\u001b[1;33m\u001b[0m\u001b[1;33m\u001b[0m\u001b[0m\n\u001b[0m",
      "\u001b[1;32m~\\Anaconda37\\lib\\site-packages\\xnat\\services.py\u001b[0m in \u001b[0;36mimport_\u001b[1;34m(self, path, overwrite, quarantine, destination, trigger_pipelines, project, subject, experiment, content_type)\u001b[0m\n\u001b[0;32m    109\u001b[0m \u001b[1;33m\u001b[0m\u001b[0m\n\u001b[0;32m    110\u001b[0m         \u001b[0muri\u001b[0m \u001b[1;33m=\u001b[0m \u001b[1;34m'/data/services/import'\u001b[0m\u001b[1;33m\u001b[0m\u001b[1;33m\u001b[0m\u001b[0m\n\u001b[1;32m--> 111\u001b[1;33m         \u001b[0mresponse\u001b[0m \u001b[1;33m=\u001b[0m \u001b[0mself\u001b[0m\u001b[1;33m.\u001b[0m\u001b[0mxnat_session\u001b[0m\u001b[1;33m.\u001b[0m\u001b[0mupload\u001b[0m\u001b[1;33m(\u001b[0m\u001b[0muri\u001b[0m\u001b[1;33m=\u001b[0m\u001b[0muri\u001b[0m\u001b[1;33m,\u001b[0m \u001b[0mfile_\u001b[0m\u001b[1;33m=\u001b[0m\u001b[0mpath\u001b[0m\u001b[1;33m,\u001b[0m \u001b[0mquery\u001b[0m\u001b[1;33m=\u001b[0m\u001b[0mquery\u001b[0m\u001b[1;33m,\u001b[0m \u001b[0mcontent_type\u001b[0m\u001b[1;33m=\u001b[0m\u001b[0mcontent_type\u001b[0m\u001b[1;33m,\u001b[0m \u001b[0mmethod\u001b[0m\u001b[1;33m=\u001b[0m\u001b[1;34m'post'\u001b[0m\u001b[1;33m)\u001b[0m\u001b[1;33m\u001b[0m\u001b[1;33m\u001b[0m\u001b[0m\n\u001b[0m\u001b[0;32m    112\u001b[0m \u001b[1;33m\u001b[0m\u001b[0m\n\u001b[0;32m    113\u001b[0m         \u001b[1;32mif\u001b[0m \u001b[0mresponse\u001b[0m\u001b[1;33m.\u001b[0m\u001b[0mstatus_code\u001b[0m \u001b[1;33m!=\u001b[0m \u001b[1;36m200\u001b[0m\u001b[1;33m:\u001b[0m\u001b[1;33m\u001b[0m\u001b[1;33m\u001b[0m\u001b[0m\n",
      "\u001b[1;32m~\\Anaconda37\\lib\\site-packages\\xnat\\session.py\u001b[0m in \u001b[0;36mupload\u001b[1;34m(self, uri, file_, retries, query, content_type, method, overwrite, timeout)\u001b[0m\n\u001b[0;32m    703\u001b[0m \u001b[1;33m\u001b[0m\u001b[0m\n\u001b[0;32m    704\u001b[0m         \u001b[1;31m# We didn't return correctly, so we have an error\u001b[0m\u001b[1;33m\u001b[0m\u001b[1;33m\u001b[0m\u001b[1;33m\u001b[0m\u001b[0m\n\u001b[1;32m--> 705\u001b[1;33m         \u001b[1;32mraise\u001b[0m \u001b[0mexceptions\u001b[0m\u001b[1;33m.\u001b[0m\u001b[0mXNATUploadError\u001b[0m\u001b[1;33m(\u001b[0m\u001b[1;34m'Upload failed after {} attempts! Status code {}, response text {}'\u001b[0m\u001b[1;33m.\u001b[0m\u001b[0mformat\u001b[0m\u001b[1;33m(\u001b[0m\u001b[0mretries\u001b[0m\u001b[1;33m,\u001b[0m \u001b[0mresponse\u001b[0m\u001b[1;33m.\u001b[0m\u001b[0mstatus_code\u001b[0m\u001b[1;33m,\u001b[0m \u001b[0mresponse\u001b[0m\u001b[1;33m.\u001b[0m\u001b[0mtext\u001b[0m\u001b[1;33m)\u001b[0m\u001b[1;33m)\u001b[0m\u001b[1;33m\u001b[0m\u001b[1;33m\u001b[0m\u001b[0m\n\u001b[0m\u001b[0;32m    706\u001b[0m \u001b[1;33m\u001b[0m\u001b[0m\n\u001b[0;32m    707\u001b[0m     \u001b[1;33m@\u001b[0m\u001b[0mproperty\u001b[0m\u001b[1;33m\u001b[0m\u001b[1;33m\u001b[0m\u001b[0m\n",
      "\u001b[1;31mXNATUploadError\u001b[0m: Upload failed after 1 attempts! Status code 500, response text <html>\n<head>\n   <title>Status page</title>\n</head>\n<body>\n<h3>An error occurred adding the session to the prearchive database</h3><p>You can get technical details <a href=\"http://www.w3.org/Protocols/rfc2616/rfc2616-sec10.html#sec10.5.1\">here</a>.<br>\nPlease continue your visit at our <a href=\"/\">home page</a>.\n</p>\n</body>\n</html>\n"
     ]
    }
   ],
   "source": [
    "# This time trying without the pre-archive destination input:\n",
    "\n",
    "prearchive_session = session.services.import_(roiFpathDL, project=newProjectName)"
   ]
  },
  {
   "cell_type": "markdown",
   "metadata": {},
   "source": [
    "#### Looking at the log files:\n",
    "\n",
    "##### access.log (tail /data/xnat/home/logs/access.log):\n",
    "\n",
    "2020-02-12 16:23:36,863 - admin 127.0.0.1 POST http://10.1.1.17/data/services/import?project=BrainTumorProg_copy\n",
    "\n",
    "\n",
    "##### dicom.log (tail /data/xnat/home/logs/dicom.log):\n",
    "\n",
    "2020-02-12 16:23:37,206 [pool-2-thread-3] ERROR org.nrg.dcm.xnat.DICOMSessionBuilder - Session builder not implemented for SOP class [1.2.840.10008.5.1.4.1.1.481.3] or modality [RTSTRUCT]\n",
    "\n"
   ]
  },
  {
   "cell_type": "markdown",
   "metadata": {},
   "source": [
    "#### Trying to follow the advice by Hakim here:\n",
    "\n",
    "##### https://groups.google.com/forum/#!topic/xnat_discussion/dmM9_cwbn38"
   ]
  },
  {
   "cell_type": "code",
   "execution_count": 44,
   "metadata": {},
   "outputs": [
    {
     "name": "stderr",
     "output_type": "stream",
     "text": [
      "[2020-02-10 15:49:25,785] DEBUG: core:171 >> PUT URI: /data/archive/projects/BrainTumorProg_copy/subjects/XNAT_S00006/experiments/XNAT_E00017/resources/ROI_tumour\n",
      "[2020-02-10 15:49:25,785] DEBUG: core:180 >> query: {'xsiType': 'xnat:resourceCatalog', 'req_format': 'qs', 'label': 'ROI_tumour'}\n",
      "[2020-02-10 15:49:25,786] DEBUG: session:428 >> PUT URI http://10.1.1.17/data/archive/projects/BrainTumorProg_copy/subjects/XNAT_S00006/experiments/XNAT_E00017/resources/ROI_tumour?xsiType=xnat%3AresourceCatalog&req_format=qs&label=ROI_tumour\n",
      "[2020-02-10 15:49:25,786] DEBUG: session:430 >> PUT DATA None\n",
      "[2020-02-10 15:49:25,787] DEBUG: session:431 >> PUT FILES None\n",
      "[2020-02-10 15:49:25,817] DEBUG: session:307 >> Received response with status code: 404\n"
     ]
    },
    {
     "ename": "XNATResponseError",
     "evalue": "Invalid response from XNATSession for url http://10.1.1.17/data/archive/projects/BrainTumorProg_copy/subjects/XNAT_S00006/experiments/XNAT_E00017/resources/ROI_tumour?xsiType=xnat%3AresourceCatalog&req_format=qs&label=ROI_tumour (status 404):\n<html>\n<head>\n   <title>Status page</title>\n</head>\n<body>\n<h3>Unable to identify experiment</h3><p>You can get technical details <a href=\"http://www.w3.org/Protocols/rfc2616/rfc2616-sec10.html#sec10.4.5\">here</a>.<br>\nPlease continue your visit at our <a href=\"/\">home page</a>.\n</p>\n</body>\n</html>\n",
     "output_type": "error",
     "traceback": [
      "\u001b[1;31m---------------------------------------------------------------------------\u001b[0m",
      "\u001b[1;31mXNATResponseError\u001b[0m                         Traceback (most recent call last)",
      "\u001b[1;32m<ipython-input-44-33af9f026405>\u001b[0m in \u001b[0;36m<module>\u001b[1;34m\u001b[0m\n\u001b[0;32m      1\u001b[0m \u001b[0massessorLabel\u001b[0m \u001b[1;33m=\u001b[0m \u001b[1;34m'ROI_tumour'\u001b[0m\u001b[1;33m\u001b[0m\u001b[1;33m\u001b[0m\u001b[0m\n\u001b[0;32m      2\u001b[0m \u001b[1;33m\u001b[0m\u001b[0m\n\u001b[1;32m----> 3\u001b[1;33m \u001b[0massessor\u001b[0m \u001b[1;33m=\u001b[0m \u001b[0msession\u001b[0m\u001b[1;33m.\u001b[0m\u001b[0mclasses\u001b[0m\u001b[1;33m.\u001b[0m\u001b[0mResourceCatalog\u001b[0m\u001b[1;33m(\u001b[0m\u001b[0mparent\u001b[0m\u001b[1;33m=\u001b[0m\u001b[0mnewExperiment\u001b[0m\u001b[1;33m,\u001b[0m \u001b[0mlabel\u001b[0m\u001b[1;33m=\u001b[0m\u001b[0massessorLabel\u001b[0m\u001b[1;33m)\u001b[0m\u001b[1;33m\u001b[0m\u001b[1;33m\u001b[0m\u001b[0m\n\u001b[0m",
      "\u001b[1;32m~\\Anaconda37\\lib\\site-packages\\xnat\\mixin.py\u001b[0m in \u001b[0;36m__init__\u001b[1;34m(self, uri, xnat_session, id_, datafields, parent, fieldname, overwrites, data_dir, upload_method, **kwargs)\u001b[0m\n\u001b[0;32m    461\u001b[0m             \u001b[0mfieldname\u001b[0m\u001b[1;33m=\u001b[0m\u001b[0mfieldname\u001b[0m\u001b[1;33m,\u001b[0m\u001b[1;33m\u001b[0m\u001b[1;33m\u001b[0m\u001b[0m\n\u001b[0;32m    462\u001b[0m             \u001b[0moverwrites\u001b[0m\u001b[1;33m=\u001b[0m\u001b[0moverwrites\u001b[0m\u001b[1;33m,\u001b[0m\u001b[1;33m\u001b[0m\u001b[1;33m\u001b[0m\u001b[0m\n\u001b[1;32m--> 463\u001b[1;33m             \u001b[1;33m**\u001b[0m\u001b[0mkwargs\u001b[0m\u001b[1;33m\u001b[0m\u001b[1;33m\u001b[0m\u001b[0m\n\u001b[0m\u001b[0;32m    464\u001b[0m         )\n\u001b[0;32m    465\u001b[0m \u001b[1;33m\u001b[0m\u001b[0m\n",
      "\u001b[1;32m~\\Anaconda37\\lib\\site-packages\\xnat\\core.py\u001b[0m in \u001b[0;36m__init__\u001b[1;34m(self, uri, xnat_session, id_, datafields, parent, fieldname, overwrites, **kwargs)\u001b[0m\n\u001b[0;32m    179\u001b[0m \u001b[1;33m\u001b[0m\u001b[0m\n\u001b[0;32m    180\u001b[0m                 \u001b[0mself\u001b[0m\u001b[1;33m.\u001b[0m\u001b[0mlogger\u001b[0m\u001b[1;33m.\u001b[0m\u001b[0mdebug\u001b[0m\u001b[1;33m(\u001b[0m\u001b[1;34m'query: {}'\u001b[0m\u001b[1;33m.\u001b[0m\u001b[0mformat\u001b[0m\u001b[1;33m(\u001b[0m\u001b[0mquery\u001b[0m\u001b[1;33m)\u001b[0m\u001b[1;33m)\u001b[0m\u001b[1;33m\u001b[0m\u001b[1;33m\u001b[0m\u001b[0m\n\u001b[1;32m--> 181\u001b[1;33m                 \u001b[0mself\u001b[0m\u001b[1;33m.\u001b[0m\u001b[0mxnat_session\u001b[0m\u001b[1;33m.\u001b[0m\u001b[0mput\u001b[0m\u001b[1;33m(\u001b[0m\u001b[0muri\u001b[0m\u001b[1;33m,\u001b[0m \u001b[0mquery\u001b[0m\u001b[1;33m=\u001b[0m\u001b[0mquery\u001b[0m\u001b[1;33m)\u001b[0m\u001b[1;33m\u001b[0m\u001b[1;33m\u001b[0m\u001b[0m\n\u001b[0m\u001b[0;32m    182\u001b[0m             \u001b[1;32melse\u001b[0m\u001b[1;33m:\u001b[0m\u001b[1;33m\u001b[0m\u001b[1;33m\u001b[0m\u001b[0m\n\u001b[0;32m    183\u001b[0m                 raise exceptions.XNATValueError('The {} for a {} need to be specified on creation'.format(\n",
      "\u001b[1;32m~\\Anaconda37\\lib\\site-packages\\xnat\\session.py\u001b[0m in \u001b[0;36mput\u001b[1;34m(self, path, data, files, json, format, query, accepted_status, timeout, headers)\u001b[0m\n\u001b[0;32m    435\u001b[0m         \u001b[1;32mexcept\u001b[0m \u001b[0mrequests\u001b[0m\u001b[1;33m.\u001b[0m\u001b[0mexceptions\u001b[0m\u001b[1;33m.\u001b[0m\u001b[0mSSLError\u001b[0m\u001b[1;33m:\u001b[0m\u001b[1;33m\u001b[0m\u001b[1;33m\u001b[0m\u001b[0m\n\u001b[0;32m    436\u001b[0m             \u001b[1;32mraise\u001b[0m \u001b[0mexceptions\u001b[0m\u001b[1;33m.\u001b[0m\u001b[0mXNATSSLError\u001b[0m\u001b[1;33m(\u001b[0m\u001b[1;34m'Encountered a problem with the SSL connection, are you sure the server is offering https?'\u001b[0m\u001b[1;33m)\u001b[0m\u001b[1;33m\u001b[0m\u001b[1;33m\u001b[0m\u001b[0m\n\u001b[1;32m--> 437\u001b[1;33m         \u001b[0mself\u001b[0m\u001b[1;33m.\u001b[0m\u001b[0m_check_response\u001b[0m\u001b[1;33m(\u001b[0m\u001b[0mresponse\u001b[0m\u001b[1;33m,\u001b[0m \u001b[0maccepted_status\u001b[0m\u001b[1;33m=\u001b[0m\u001b[0maccepted_status\u001b[0m\u001b[1;33m,\u001b[0m \u001b[0muri\u001b[0m\u001b[1;33m=\u001b[0m\u001b[0muri\u001b[0m\u001b[1;33m)\u001b[0m  \u001b[1;31m# Allow created OK or Create status (OK if already exists)\u001b[0m\u001b[1;33m\u001b[0m\u001b[1;33m\u001b[0m\u001b[0m\n\u001b[0m\u001b[0;32m    438\u001b[0m         \u001b[1;32mreturn\u001b[0m \u001b[0mresponse\u001b[0m\u001b[1;33m\u001b[0m\u001b[1;33m\u001b[0m\u001b[0m\n\u001b[0;32m    439\u001b[0m \u001b[1;33m\u001b[0m\u001b[0m\n",
      "\u001b[1;32m~\\Anaconda37\\lib\\site-packages\\xnat\\session.py\u001b[0m in \u001b[0;36m_check_response\u001b[1;34m(self, response, accepted_status, uri)\u001b[0m\n\u001b[0;32m    311\u001b[0m                 \u001b[0maccepted_status\u001b[0m \u001b[1;33m=\u001b[0m \u001b[1;33m[\u001b[0m\u001b[1;36m200\u001b[0m\u001b[1;33m,\u001b[0m \u001b[1;36m201\u001b[0m\u001b[1;33m,\u001b[0m \u001b[1;36m202\u001b[0m\u001b[1;33m,\u001b[0m \u001b[1;36m203\u001b[0m\u001b[1;33m,\u001b[0m \u001b[1;36m204\u001b[0m\u001b[1;33m,\u001b[0m \u001b[1;36m205\u001b[0m\u001b[1;33m,\u001b[0m \u001b[1;36m206\u001b[0m\u001b[1;33m]\u001b[0m  \u001b[1;31m# All successful responses of HTML\u001b[0m\u001b[1;33m\u001b[0m\u001b[1;33m\u001b[0m\u001b[0m\n\u001b[0;32m    312\u001b[0m             \u001b[1;32mif\u001b[0m \u001b[0mresponse\u001b[0m\u001b[1;33m.\u001b[0m\u001b[0mstatus_code\u001b[0m \u001b[1;32mnot\u001b[0m \u001b[1;32min\u001b[0m \u001b[0maccepted_status\u001b[0m \u001b[1;32mor\u001b[0m \u001b[1;33m(\u001b[0m\u001b[1;32mnot\u001b[0m \u001b[0mself\u001b[0m\u001b[1;33m.\u001b[0m\u001b[0mskip_response_content_check\u001b[0m \u001b[1;32mand\u001b[0m \u001b[0mresponse\u001b[0m\u001b[1;33m.\u001b[0m\u001b[0mtext\u001b[0m\u001b[1;33m.\u001b[0m\u001b[0mstartswith\u001b[0m\u001b[1;33m(\u001b[0m\u001b[1;33m(\u001b[0m\u001b[1;34m'<!DOCTYPE'\u001b[0m\u001b[1;33m,\u001b[0m \u001b[1;34m'<html>'\u001b[0m\u001b[1;33m)\u001b[0m\u001b[1;33m)\u001b[0m\u001b[1;33m)\u001b[0m\u001b[1;33m:\u001b[0m\u001b[1;33m\u001b[0m\u001b[1;33m\u001b[0m\u001b[0m\n\u001b[1;32m--> 313\u001b[1;33m                 \u001b[1;32mraise\u001b[0m \u001b[0mexceptions\u001b[0m\u001b[1;33m.\u001b[0m\u001b[0mXNATResponseError\u001b[0m\u001b[1;33m(\u001b[0m\u001b[1;34m'Invalid response from XNATSession for url {} (status {}):\\n{}'\u001b[0m\u001b[1;33m.\u001b[0m\u001b[0mformat\u001b[0m\u001b[1;33m(\u001b[0m\u001b[0muri\u001b[0m\u001b[1;33m,\u001b[0m \u001b[0mresponse\u001b[0m\u001b[1;33m.\u001b[0m\u001b[0mstatus_code\u001b[0m\u001b[1;33m,\u001b[0m \u001b[0mresponse\u001b[0m\u001b[1;33m.\u001b[0m\u001b[0mtext\u001b[0m\u001b[1;33m)\u001b[0m\u001b[1;33m)\u001b[0m\u001b[1;33m\u001b[0m\u001b[1;33m\u001b[0m\u001b[0m\n\u001b[0m\u001b[0;32m    314\u001b[0m \u001b[1;33m\u001b[0m\u001b[0m\n\u001b[0;32m    315\u001b[0m     \u001b[1;32mdef\u001b[0m \u001b[0mget\u001b[0m\u001b[1;33m(\u001b[0m\u001b[0mself\u001b[0m\u001b[1;33m,\u001b[0m \u001b[0mpath\u001b[0m\u001b[1;33m,\u001b[0m \u001b[0mformat\u001b[0m\u001b[1;33m=\u001b[0m\u001b[1;32mNone\u001b[0m\u001b[1;33m,\u001b[0m \u001b[0mquery\u001b[0m\u001b[1;33m=\u001b[0m\u001b[1;32mNone\u001b[0m\u001b[1;33m,\u001b[0m \u001b[0maccepted_status\u001b[0m\u001b[1;33m=\u001b[0m\u001b[1;32mNone\u001b[0m\u001b[1;33m,\u001b[0m \u001b[0mtimeout\u001b[0m\u001b[1;33m=\u001b[0m\u001b[1;32mNone\u001b[0m\u001b[1;33m,\u001b[0m \u001b[0mheaders\u001b[0m\u001b[1;33m=\u001b[0m\u001b[1;32mNone\u001b[0m\u001b[1;33m)\u001b[0m\u001b[1;33m:\u001b[0m\u001b[1;33m\u001b[0m\u001b[1;33m\u001b[0m\u001b[0m\n",
      "\u001b[1;31mXNATResponseError\u001b[0m: Invalid response from XNATSession for url http://10.1.1.17/data/archive/projects/BrainTumorProg_copy/subjects/XNAT_S00006/experiments/XNAT_E00017/resources/ROI_tumour?xsiType=xnat%3AresourceCatalog&req_format=qs&label=ROI_tumour (status 404):\n<html>\n<head>\n   <title>Status page</title>\n</head>\n<body>\n<h3>Unable to identify experiment</h3><p>You can get technical details <a href=\"http://www.w3.org/Protocols/rfc2616/rfc2616-sec10.html#sec10.4.5\">here</a>.<br>\nPlease continue your visit at our <a href=\"/\">home page</a>.\n</p>\n</body>\n</html>\n"
     ]
    }
   ],
   "source": [
    "assessorLabel = 'ROI_tumour'\n",
    "\n",
    "assessor = session.classes.ResourceCatalog(parent=newExperiment, label=assessorLabel)"
   ]
  },
  {
   "cell_type": "code",
   "execution_count": 42,
   "metadata": {},
   "outputs": [
    {
     "name": "stderr",
     "output_type": "stream",
     "text": [
      "[2020-02-10 15:47:15,380] DEBUG: core:171 >> PUT URI: /data/archive/projects/BrainTumorProg_copy/subjects/XNAT_S00006/experiments/XNAT_E00017/resources/ROI_tumour\n",
      "[2020-02-10 15:47:15,381] DEBUG: core:180 >> query: {'xsiType': 'xnat:resourceCatalog', 'req_format': 'qs', 'label': 'ROI_tumour'}\n",
      "[2020-02-10 15:47:15,382] DEBUG: session:428 >> PUT URI http://10.1.1.17/data/archive/projects/BrainTumorProg_copy/subjects/XNAT_S00006/experiments/XNAT_E00017/resources/ROI_tumour?xsiType=xnat%3AresourceCatalog&req_format=qs&label=ROI_tumour\n",
      "[2020-02-10 15:47:15,382] DEBUG: session:430 >> PUT DATA None\n",
      "[2020-02-10 15:47:15,383] DEBUG: session:431 >> PUT FILES None\n",
      "[2020-02-10 15:47:15,424] DEBUG: session:307 >> Received response with status code: 404\n"
     ]
    },
    {
     "ename": "XNATResponseError",
     "evalue": "Invalid response from XNATSession for url http://10.1.1.17/data/archive/projects/BrainTumorProg_copy/subjects/XNAT_S00006/experiments/XNAT_E00017/resources/ROI_tumour?xsiType=xnat%3AresourceCatalog&req_format=qs&label=ROI_tumour (status 404):\n<html>\n<head>\n   <title>Status page</title>\n</head>\n<body>\n<h3>Unable to identify experiment</h3><p>You can get technical details <a href=\"http://www.w3.org/Protocols/rfc2616/rfc2616-sec10.html#sec10.4.5\">here</a>.<br>\nPlease continue your visit at our <a href=\"/\">home page</a>.\n</p>\n</body>\n</html>\n",
     "output_type": "error",
     "traceback": [
      "\u001b[1;31m---------------------------------------------------------------------------\u001b[0m",
      "\u001b[1;31mXNATResponseError\u001b[0m                         Traceback (most recent call last)",
      "\u001b[1;32m<ipython-input-42-1ce20c22e612>\u001b[0m in \u001b[0;36m<module>\u001b[1;34m\u001b[0m\n\u001b[0;32m      1\u001b[0m \u001b[0maccessorLabel\u001b[0m \u001b[1;33m=\u001b[0m \u001b[1;34m'DICOM'\u001b[0m\u001b[1;33m\u001b[0m\u001b[1;33m\u001b[0m\u001b[0m\n\u001b[0;32m      2\u001b[0m \u001b[1;33m\u001b[0m\u001b[0m\n\u001b[1;32m----> 3\u001b[1;33m \u001b[0massessor\u001b[0m \u001b[1;33m=\u001b[0m \u001b[0msession\u001b[0m\u001b[1;33m.\u001b[0m\u001b[0mclasses\u001b[0m\u001b[1;33m.\u001b[0m\u001b[0mResourceCatalog\u001b[0m\u001b[1;33m(\u001b[0m\u001b[0mparent\u001b[0m\u001b[1;33m=\u001b[0m\u001b[0mnewExperiment\u001b[0m\u001b[1;33m,\u001b[0m \u001b[0mlabel\u001b[0m\u001b[1;33m=\u001b[0m\u001b[0massessorLabel\u001b[0m\u001b[1;33m)\u001b[0m\u001b[1;33m\u001b[0m\u001b[1;33m\u001b[0m\u001b[0m\n\u001b[0m",
      "\u001b[1;32m~\\Anaconda37\\lib\\site-packages\\xnat\\mixin.py\u001b[0m in \u001b[0;36m__init__\u001b[1;34m(self, uri, xnat_session, id_, datafields, parent, fieldname, overwrites, data_dir, upload_method, **kwargs)\u001b[0m\n\u001b[0;32m    461\u001b[0m             \u001b[0mfieldname\u001b[0m\u001b[1;33m=\u001b[0m\u001b[0mfieldname\u001b[0m\u001b[1;33m,\u001b[0m\u001b[1;33m\u001b[0m\u001b[1;33m\u001b[0m\u001b[0m\n\u001b[0;32m    462\u001b[0m             \u001b[0moverwrites\u001b[0m\u001b[1;33m=\u001b[0m\u001b[0moverwrites\u001b[0m\u001b[1;33m,\u001b[0m\u001b[1;33m\u001b[0m\u001b[1;33m\u001b[0m\u001b[0m\n\u001b[1;32m--> 463\u001b[1;33m             \u001b[1;33m**\u001b[0m\u001b[0mkwargs\u001b[0m\u001b[1;33m\u001b[0m\u001b[1;33m\u001b[0m\u001b[0m\n\u001b[0m\u001b[0;32m    464\u001b[0m         )\n\u001b[0;32m    465\u001b[0m \u001b[1;33m\u001b[0m\u001b[0m\n",
      "\u001b[1;32m~\\Anaconda37\\lib\\site-packages\\xnat\\core.py\u001b[0m in \u001b[0;36m__init__\u001b[1;34m(self, uri, xnat_session, id_, datafields, parent, fieldname, overwrites, **kwargs)\u001b[0m\n\u001b[0;32m    179\u001b[0m \u001b[1;33m\u001b[0m\u001b[0m\n\u001b[0;32m    180\u001b[0m                 \u001b[0mself\u001b[0m\u001b[1;33m.\u001b[0m\u001b[0mlogger\u001b[0m\u001b[1;33m.\u001b[0m\u001b[0mdebug\u001b[0m\u001b[1;33m(\u001b[0m\u001b[1;34m'query: {}'\u001b[0m\u001b[1;33m.\u001b[0m\u001b[0mformat\u001b[0m\u001b[1;33m(\u001b[0m\u001b[0mquery\u001b[0m\u001b[1;33m)\u001b[0m\u001b[1;33m)\u001b[0m\u001b[1;33m\u001b[0m\u001b[1;33m\u001b[0m\u001b[0m\n\u001b[1;32m--> 181\u001b[1;33m                 \u001b[0mself\u001b[0m\u001b[1;33m.\u001b[0m\u001b[0mxnat_session\u001b[0m\u001b[1;33m.\u001b[0m\u001b[0mput\u001b[0m\u001b[1;33m(\u001b[0m\u001b[0muri\u001b[0m\u001b[1;33m,\u001b[0m \u001b[0mquery\u001b[0m\u001b[1;33m=\u001b[0m\u001b[0mquery\u001b[0m\u001b[1;33m)\u001b[0m\u001b[1;33m\u001b[0m\u001b[1;33m\u001b[0m\u001b[0m\n\u001b[0m\u001b[0;32m    182\u001b[0m             \u001b[1;32melse\u001b[0m\u001b[1;33m:\u001b[0m\u001b[1;33m\u001b[0m\u001b[1;33m\u001b[0m\u001b[0m\n\u001b[0;32m    183\u001b[0m                 raise exceptions.XNATValueError('The {} for a {} need to be specified on creation'.format(\n",
      "\u001b[1;32m~\\Anaconda37\\lib\\site-packages\\xnat\\session.py\u001b[0m in \u001b[0;36mput\u001b[1;34m(self, path, data, files, json, format, query, accepted_status, timeout, headers)\u001b[0m\n\u001b[0;32m    435\u001b[0m         \u001b[1;32mexcept\u001b[0m \u001b[0mrequests\u001b[0m\u001b[1;33m.\u001b[0m\u001b[0mexceptions\u001b[0m\u001b[1;33m.\u001b[0m\u001b[0mSSLError\u001b[0m\u001b[1;33m:\u001b[0m\u001b[1;33m\u001b[0m\u001b[1;33m\u001b[0m\u001b[0m\n\u001b[0;32m    436\u001b[0m             \u001b[1;32mraise\u001b[0m \u001b[0mexceptions\u001b[0m\u001b[1;33m.\u001b[0m\u001b[0mXNATSSLError\u001b[0m\u001b[1;33m(\u001b[0m\u001b[1;34m'Encountered a problem with the SSL connection, are you sure the server is offering https?'\u001b[0m\u001b[1;33m)\u001b[0m\u001b[1;33m\u001b[0m\u001b[1;33m\u001b[0m\u001b[0m\n\u001b[1;32m--> 437\u001b[1;33m         \u001b[0mself\u001b[0m\u001b[1;33m.\u001b[0m\u001b[0m_check_response\u001b[0m\u001b[1;33m(\u001b[0m\u001b[0mresponse\u001b[0m\u001b[1;33m,\u001b[0m \u001b[0maccepted_status\u001b[0m\u001b[1;33m=\u001b[0m\u001b[0maccepted_status\u001b[0m\u001b[1;33m,\u001b[0m \u001b[0muri\u001b[0m\u001b[1;33m=\u001b[0m\u001b[0muri\u001b[0m\u001b[1;33m)\u001b[0m  \u001b[1;31m# Allow created OK or Create status (OK if already exists)\u001b[0m\u001b[1;33m\u001b[0m\u001b[1;33m\u001b[0m\u001b[0m\n\u001b[0m\u001b[0;32m    438\u001b[0m         \u001b[1;32mreturn\u001b[0m \u001b[0mresponse\u001b[0m\u001b[1;33m\u001b[0m\u001b[1;33m\u001b[0m\u001b[0m\n\u001b[0;32m    439\u001b[0m \u001b[1;33m\u001b[0m\u001b[0m\n",
      "\u001b[1;32m~\\Anaconda37\\lib\\site-packages\\xnat\\session.py\u001b[0m in \u001b[0;36m_check_response\u001b[1;34m(self, response, accepted_status, uri)\u001b[0m\n\u001b[0;32m    311\u001b[0m                 \u001b[0maccepted_status\u001b[0m \u001b[1;33m=\u001b[0m \u001b[1;33m[\u001b[0m\u001b[1;36m200\u001b[0m\u001b[1;33m,\u001b[0m \u001b[1;36m201\u001b[0m\u001b[1;33m,\u001b[0m \u001b[1;36m202\u001b[0m\u001b[1;33m,\u001b[0m \u001b[1;36m203\u001b[0m\u001b[1;33m,\u001b[0m \u001b[1;36m204\u001b[0m\u001b[1;33m,\u001b[0m \u001b[1;36m205\u001b[0m\u001b[1;33m,\u001b[0m \u001b[1;36m206\u001b[0m\u001b[1;33m]\u001b[0m  \u001b[1;31m# All successful responses of HTML\u001b[0m\u001b[1;33m\u001b[0m\u001b[1;33m\u001b[0m\u001b[0m\n\u001b[0;32m    312\u001b[0m             \u001b[1;32mif\u001b[0m \u001b[0mresponse\u001b[0m\u001b[1;33m.\u001b[0m\u001b[0mstatus_code\u001b[0m \u001b[1;32mnot\u001b[0m \u001b[1;32min\u001b[0m \u001b[0maccepted_status\u001b[0m \u001b[1;32mor\u001b[0m \u001b[1;33m(\u001b[0m\u001b[1;32mnot\u001b[0m \u001b[0mself\u001b[0m\u001b[1;33m.\u001b[0m\u001b[0mskip_response_content_check\u001b[0m \u001b[1;32mand\u001b[0m \u001b[0mresponse\u001b[0m\u001b[1;33m.\u001b[0m\u001b[0mtext\u001b[0m\u001b[1;33m.\u001b[0m\u001b[0mstartswith\u001b[0m\u001b[1;33m(\u001b[0m\u001b[1;33m(\u001b[0m\u001b[1;34m'<!DOCTYPE'\u001b[0m\u001b[1;33m,\u001b[0m \u001b[1;34m'<html>'\u001b[0m\u001b[1;33m)\u001b[0m\u001b[1;33m)\u001b[0m\u001b[1;33m)\u001b[0m\u001b[1;33m:\u001b[0m\u001b[1;33m\u001b[0m\u001b[1;33m\u001b[0m\u001b[0m\n\u001b[1;32m--> 313\u001b[1;33m                 \u001b[1;32mraise\u001b[0m \u001b[0mexceptions\u001b[0m\u001b[1;33m.\u001b[0m\u001b[0mXNATResponseError\u001b[0m\u001b[1;33m(\u001b[0m\u001b[1;34m'Invalid response from XNATSession for url {} (status {}):\\n{}'\u001b[0m\u001b[1;33m.\u001b[0m\u001b[0mformat\u001b[0m\u001b[1;33m(\u001b[0m\u001b[0muri\u001b[0m\u001b[1;33m,\u001b[0m \u001b[0mresponse\u001b[0m\u001b[1;33m.\u001b[0m\u001b[0mstatus_code\u001b[0m\u001b[1;33m,\u001b[0m \u001b[0mresponse\u001b[0m\u001b[1;33m.\u001b[0m\u001b[0mtext\u001b[0m\u001b[1;33m)\u001b[0m\u001b[1;33m)\u001b[0m\u001b[1;33m\u001b[0m\u001b[1;33m\u001b[0m\u001b[0m\n\u001b[0m\u001b[0;32m    314\u001b[0m \u001b[1;33m\u001b[0m\u001b[0m\n\u001b[0;32m    315\u001b[0m     \u001b[1;32mdef\u001b[0m \u001b[0mget\u001b[0m\u001b[1;33m(\u001b[0m\u001b[0mself\u001b[0m\u001b[1;33m,\u001b[0m \u001b[0mpath\u001b[0m\u001b[1;33m,\u001b[0m \u001b[0mformat\u001b[0m\u001b[1;33m=\u001b[0m\u001b[1;32mNone\u001b[0m\u001b[1;33m,\u001b[0m \u001b[0mquery\u001b[0m\u001b[1;33m=\u001b[0m\u001b[1;32mNone\u001b[0m\u001b[1;33m,\u001b[0m \u001b[0maccepted_status\u001b[0m\u001b[1;33m=\u001b[0m\u001b[1;32mNone\u001b[0m\u001b[1;33m,\u001b[0m \u001b[0mtimeout\u001b[0m\u001b[1;33m=\u001b[0m\u001b[1;32mNone\u001b[0m\u001b[1;33m,\u001b[0m \u001b[0mheaders\u001b[0m\u001b[1;33m=\u001b[0m\u001b[1;32mNone\u001b[0m\u001b[1;33m)\u001b[0m\u001b[1;33m:\u001b[0m\u001b[1;33m\u001b[0m\u001b[1;33m\u001b[0m\u001b[0m\n",
      "\u001b[1;31mXNATResponseError\u001b[0m: Invalid response from XNATSession for url http://10.1.1.17/data/archive/projects/BrainTumorProg_copy/subjects/XNAT_S00006/experiments/XNAT_E00017/resources/ROI_tumour?xsiType=xnat%3AresourceCatalog&req_format=qs&label=ROI_tumour (status 404):\n<html>\n<head>\n   <title>Status page</title>\n</head>\n<body>\n<h3>Unable to identify experiment</h3><p>You can get technical details <a href=\"http://www.w3.org/Protocols/rfc2616/rfc2616-sec10.html#sec10.4.5\">here</a>.<br>\nPlease continue your visit at our <a href=\"/\">home page</a>.\n</p>\n</body>\n</html>\n"
     ]
    }
   ],
   "source": [
    "accessorLabel = 'DICOM'\n",
    "\n",
    "assessor = session.classes.ResourceCatalog(parent=newExperiment, label=assessorLabel)"
   ]
  },
  {
   "cell_type": "code",
   "execution_count": 46,
   "metadata": {},
   "outputs": [
    {
     "ename": "TypeError",
     "evalue": "create_assessor() missing 1 required positional argument: 'type_'",
     "output_type": "error",
     "traceback": [
      "\u001b[1;31m---------------------------------------------------------------------------\u001b[0m",
      "\u001b[1;31mTypeError\u001b[0m                                 Traceback (most recent call last)",
      "\u001b[1;32m<ipython-input-46-4d462485f2bf>\u001b[0m in \u001b[0;36m<module>\u001b[1;34m\u001b[0m\n\u001b[0;32m      3\u001b[0m \u001b[1;33m\u001b[0m\u001b[0m\n\u001b[0;32m      4\u001b[0m \u001b[1;31m# remove the type_ input:\u001b[0m\u001b[1;33m\u001b[0m\u001b[1;33m\u001b[0m\u001b[1;33m\u001b[0m\u001b[0m\n\u001b[1;32m----> 5\u001b[1;33m \u001b[0mnewExperiment\u001b[0m\u001b[1;33m.\u001b[0m\u001b[0mcreate_assessor\u001b[0m\u001b[1;33m(\u001b[0m\u001b[0massessorLabel\u001b[0m\u001b[1;33m)\u001b[0m\u001b[1;33m\u001b[0m\u001b[1;33m\u001b[0m\u001b[0m\n\u001b[0m",
      "\u001b[1;31mTypeError\u001b[0m: create_assessor() missing 1 required positional argument: 'type_'"
     ]
    }
   ],
   "source": [
    "# This seems to have worked before:\n",
    "#newExperiment.create_assessor(assessorLabel, type_='xnat:qcAssessmentData')  \n",
    "\n",
    "# Tried others:\n",
    "# newExperiment.create_assessor(assessorLabel) # <-- TypeError: create_assessor() missing 1 required positional argument: 'type_'\n",
    "# newExperiment.create_assessor(assessorLabel, type_='xnat:RoiCollectionData')  # <-- XNATResponseError"
   ]
  },
  {
   "cell_type": "code",
   "execution_count": 49,
   "metadata": {},
   "outputs": [
    {
     "name": "stderr",
     "output_type": "stream",
     "text": [
      "[2020-02-10 16:26:56,470] DEBUG: session:428 >> PUT URI http://10.1.1.17/data/archive/projects/BrainTumorProg_copy/subjects/XNAT_S00006/experiments/XNAT_E00017/assessors/ROI_tumour?xsiType=xnat:qcAssessmentData&label=ROI_tumour&req_format=qs\n",
      "[2020-02-10 16:26:56,470] DEBUG: session:430 >> PUT DATA None\n",
      "[2020-02-10 16:26:56,471] DEBUG: session:431 >> PUT FILES None\n",
      "[2020-02-10 16:26:56,501] DEBUG: session:307 >> Received response with status code: 400\n"
     ]
    },
    {
     "ename": "XNATResponseError",
     "evalue": "Invalid response from XNATSession for url http://10.1.1.17/data/archive/projects/BrainTumorProg_copy/subjects/XNAT_S00006/experiments/XNAT_E00017/assessors/ROI_tumour?xsiType=xnat:qcAssessmentData&label=ROI_tumour&req_format=qs (status 400):\n<html>\n<head>\n   <title>Status page</title>\n</head>\n<body>\n<h3>The content of element 'xnat:imageAssessorData' is not complete. '{\"http://nrg.wustl.edu/xnat\":imageSession_ID}' Required Field\n</h3><p>You can get technical details <a href=\"http://www.w3.org/Protocols/rfc2616/rfc2616-sec10.html#sec10.4.1\">here</a>.<br>\nPlease continue your visit at our <a href=\"/\">home page</a>.\n</p>\n</body>\n</html>\n",
     "output_type": "error",
     "traceback": [
      "\u001b[1;31m---------------------------------------------------------------------------\u001b[0m",
      "\u001b[1;31mXNATResponseError\u001b[0m                         Traceback (most recent call last)",
      "\u001b[1;32m<ipython-input-49-5a66b3296632>\u001b[0m in \u001b[0;36m<module>\u001b[1;34m\u001b[0m\n\u001b[1;32m----> 1\u001b[1;33m \u001b[0mnewExperiment\u001b[0m\u001b[1;33m.\u001b[0m\u001b[0mcreate_assessor\u001b[0m\u001b[1;33m(\u001b[0m\u001b[0massessorLabel\u001b[0m\u001b[1;33m,\u001b[0m \u001b[0mtype_\u001b[0m\u001b[1;33m=\u001b[0m\u001b[1;34m'xnat:qcAssessmentData'\u001b[0m\u001b[1;33m)\u001b[0m\u001b[1;33m\u001b[0m\u001b[1;33m\u001b[0m\u001b[0m\n\u001b[0m",
      "\u001b[1;32m~\\Anaconda37\\lib\\site-packages\\xnat\\mixin.py\u001b[0m in \u001b[0;36mcreate_assessor\u001b[1;34m(self, label, type_)\u001b[0m\n\u001b[0;32m    260\u001b[0m                                                                                        \u001b[0mtype\u001b[0m\u001b[1;33m=\u001b[0m\u001b[0mtype_\u001b[0m\u001b[1;33m,\u001b[0m\u001b[1;33m\u001b[0m\u001b[1;33m\u001b[0m\u001b[0m\n\u001b[0;32m    261\u001b[0m                                                                                        label=label)\n\u001b[1;32m--> 262\u001b[1;33m         \u001b[0mself\u001b[0m\u001b[1;33m.\u001b[0m\u001b[0mxnat_session\u001b[0m\u001b[1;33m.\u001b[0m\u001b[0mput\u001b[0m\u001b[1;33m(\u001b[0m\u001b[0muri\u001b[0m\u001b[1;33m,\u001b[0m \u001b[0maccepted_status\u001b[0m\u001b[1;33m=\u001b[0m\u001b[1;33m(\u001b[0m\u001b[1;36m200\u001b[0m\u001b[1;33m,\u001b[0m \u001b[1;36m201\u001b[0m\u001b[1;33m)\u001b[0m\u001b[1;33m)\u001b[0m\u001b[1;33m\u001b[0m\u001b[1;33m\u001b[0m\u001b[0m\n\u001b[0m\u001b[0;32m    263\u001b[0m         \u001b[0mself\u001b[0m\u001b[1;33m.\u001b[0m\u001b[0mclearcache\u001b[0m\u001b[1;33m(\u001b[0m\u001b[1;33m)\u001b[0m  \u001b[1;31m# The resources changed, so we have to clear the cache\u001b[0m\u001b[1;33m\u001b[0m\u001b[1;33m\u001b[0m\u001b[0m\n\u001b[0;32m    264\u001b[0m         \u001b[1;32mreturn\u001b[0m \u001b[0mself\u001b[0m\u001b[1;33m.\u001b[0m\u001b[0mxnat_session\u001b[0m\u001b[1;33m.\u001b[0m\u001b[0mcreate_object\u001b[0m\u001b[1;33m(\u001b[0m\u001b[1;34m'{}/assessors/{}'\u001b[0m\u001b[1;33m.\u001b[0m\u001b[0mformat\u001b[0m\u001b[1;33m(\u001b[0m\u001b[0mself\u001b[0m\u001b[1;33m.\u001b[0m\u001b[0mfulluri\u001b[0m\u001b[1;33m,\u001b[0m \u001b[0mlabel\u001b[0m\u001b[1;33m)\u001b[0m\u001b[1;33m,\u001b[0m \u001b[0mtype_\u001b[0m\u001b[1;33m=\u001b[0m\u001b[0mtype_\u001b[0m\u001b[1;33m)\u001b[0m\u001b[1;33m\u001b[0m\u001b[1;33m\u001b[0m\u001b[0m\n",
      "\u001b[1;32m~\\Anaconda37\\lib\\site-packages\\xnat\\session.py\u001b[0m in \u001b[0;36mput\u001b[1;34m(self, path, data, files, json, format, query, accepted_status, timeout, headers)\u001b[0m\n\u001b[0;32m    435\u001b[0m         \u001b[1;32mexcept\u001b[0m \u001b[0mrequests\u001b[0m\u001b[1;33m.\u001b[0m\u001b[0mexceptions\u001b[0m\u001b[1;33m.\u001b[0m\u001b[0mSSLError\u001b[0m\u001b[1;33m:\u001b[0m\u001b[1;33m\u001b[0m\u001b[1;33m\u001b[0m\u001b[0m\n\u001b[0;32m    436\u001b[0m             \u001b[1;32mraise\u001b[0m \u001b[0mexceptions\u001b[0m\u001b[1;33m.\u001b[0m\u001b[0mXNATSSLError\u001b[0m\u001b[1;33m(\u001b[0m\u001b[1;34m'Encountered a problem with the SSL connection, are you sure the server is offering https?'\u001b[0m\u001b[1;33m)\u001b[0m\u001b[1;33m\u001b[0m\u001b[1;33m\u001b[0m\u001b[0m\n\u001b[1;32m--> 437\u001b[1;33m         \u001b[0mself\u001b[0m\u001b[1;33m.\u001b[0m\u001b[0m_check_response\u001b[0m\u001b[1;33m(\u001b[0m\u001b[0mresponse\u001b[0m\u001b[1;33m,\u001b[0m \u001b[0maccepted_status\u001b[0m\u001b[1;33m=\u001b[0m\u001b[0maccepted_status\u001b[0m\u001b[1;33m,\u001b[0m \u001b[0muri\u001b[0m\u001b[1;33m=\u001b[0m\u001b[0muri\u001b[0m\u001b[1;33m)\u001b[0m  \u001b[1;31m# Allow created OK or Create status (OK if already exists)\u001b[0m\u001b[1;33m\u001b[0m\u001b[1;33m\u001b[0m\u001b[0m\n\u001b[0m\u001b[0;32m    438\u001b[0m         \u001b[1;32mreturn\u001b[0m \u001b[0mresponse\u001b[0m\u001b[1;33m\u001b[0m\u001b[1;33m\u001b[0m\u001b[0m\n\u001b[0;32m    439\u001b[0m \u001b[1;33m\u001b[0m\u001b[0m\n",
      "\u001b[1;32m~\\Anaconda37\\lib\\site-packages\\xnat\\session.py\u001b[0m in \u001b[0;36m_check_response\u001b[1;34m(self, response, accepted_status, uri)\u001b[0m\n\u001b[0;32m    311\u001b[0m                 \u001b[0maccepted_status\u001b[0m \u001b[1;33m=\u001b[0m \u001b[1;33m[\u001b[0m\u001b[1;36m200\u001b[0m\u001b[1;33m,\u001b[0m \u001b[1;36m201\u001b[0m\u001b[1;33m,\u001b[0m \u001b[1;36m202\u001b[0m\u001b[1;33m,\u001b[0m \u001b[1;36m203\u001b[0m\u001b[1;33m,\u001b[0m \u001b[1;36m204\u001b[0m\u001b[1;33m,\u001b[0m \u001b[1;36m205\u001b[0m\u001b[1;33m,\u001b[0m \u001b[1;36m206\u001b[0m\u001b[1;33m]\u001b[0m  \u001b[1;31m# All successful responses of HTML\u001b[0m\u001b[1;33m\u001b[0m\u001b[1;33m\u001b[0m\u001b[0m\n\u001b[0;32m    312\u001b[0m             \u001b[1;32mif\u001b[0m \u001b[0mresponse\u001b[0m\u001b[1;33m.\u001b[0m\u001b[0mstatus_code\u001b[0m \u001b[1;32mnot\u001b[0m \u001b[1;32min\u001b[0m \u001b[0maccepted_status\u001b[0m \u001b[1;32mor\u001b[0m \u001b[1;33m(\u001b[0m\u001b[1;32mnot\u001b[0m \u001b[0mself\u001b[0m\u001b[1;33m.\u001b[0m\u001b[0mskip_response_content_check\u001b[0m \u001b[1;32mand\u001b[0m \u001b[0mresponse\u001b[0m\u001b[1;33m.\u001b[0m\u001b[0mtext\u001b[0m\u001b[1;33m.\u001b[0m\u001b[0mstartswith\u001b[0m\u001b[1;33m(\u001b[0m\u001b[1;33m(\u001b[0m\u001b[1;34m'<!DOCTYPE'\u001b[0m\u001b[1;33m,\u001b[0m \u001b[1;34m'<html>'\u001b[0m\u001b[1;33m)\u001b[0m\u001b[1;33m)\u001b[0m\u001b[1;33m)\u001b[0m\u001b[1;33m:\u001b[0m\u001b[1;33m\u001b[0m\u001b[1;33m\u001b[0m\u001b[0m\n\u001b[1;32m--> 313\u001b[1;33m                 \u001b[1;32mraise\u001b[0m \u001b[0mexceptions\u001b[0m\u001b[1;33m.\u001b[0m\u001b[0mXNATResponseError\u001b[0m\u001b[1;33m(\u001b[0m\u001b[1;34m'Invalid response from XNATSession for url {} (status {}):\\n{}'\u001b[0m\u001b[1;33m.\u001b[0m\u001b[0mformat\u001b[0m\u001b[1;33m(\u001b[0m\u001b[0muri\u001b[0m\u001b[1;33m,\u001b[0m \u001b[0mresponse\u001b[0m\u001b[1;33m.\u001b[0m\u001b[0mstatus_code\u001b[0m\u001b[1;33m,\u001b[0m \u001b[0mresponse\u001b[0m\u001b[1;33m.\u001b[0m\u001b[0mtext\u001b[0m\u001b[1;33m)\u001b[0m\u001b[1;33m)\u001b[0m\u001b[1;33m\u001b[0m\u001b[1;33m\u001b[0m\u001b[0m\n\u001b[0m\u001b[0;32m    314\u001b[0m \u001b[1;33m\u001b[0m\u001b[0m\n\u001b[0;32m    315\u001b[0m     \u001b[1;32mdef\u001b[0m \u001b[0mget\u001b[0m\u001b[1;33m(\u001b[0m\u001b[0mself\u001b[0m\u001b[1;33m,\u001b[0m \u001b[0mpath\u001b[0m\u001b[1;33m,\u001b[0m \u001b[0mformat\u001b[0m\u001b[1;33m=\u001b[0m\u001b[1;32mNone\u001b[0m\u001b[1;33m,\u001b[0m \u001b[0mquery\u001b[0m\u001b[1;33m=\u001b[0m\u001b[1;32mNone\u001b[0m\u001b[1;33m,\u001b[0m \u001b[0maccepted_status\u001b[0m\u001b[1;33m=\u001b[0m\u001b[1;32mNone\u001b[0m\u001b[1;33m,\u001b[0m \u001b[0mtimeout\u001b[0m\u001b[1;33m=\u001b[0m\u001b[1;32mNone\u001b[0m\u001b[1;33m,\u001b[0m \u001b[0mheaders\u001b[0m\u001b[1;33m=\u001b[0m\u001b[1;32mNone\u001b[0m\u001b[1;33m)\u001b[0m\u001b[1;33m:\u001b[0m\u001b[1;33m\u001b[0m\u001b[1;33m\u001b[0m\u001b[0m\n",
      "\u001b[1;31mXNATResponseError\u001b[0m: Invalid response from XNATSession for url http://10.1.1.17/data/archive/projects/BrainTumorProg_copy/subjects/XNAT_S00006/experiments/XNAT_E00017/assessors/ROI_tumour?xsiType=xnat:qcAssessmentData&label=ROI_tumour&req_format=qs (status 400):\n<html>\n<head>\n   <title>Status page</title>\n</head>\n<body>\n<h3>The content of element 'xnat:imageAssessorData' is not complete. '{\"http://nrg.wustl.edu/xnat\":imageSession_ID}' Required Field\n</h3><p>You can get technical details <a href=\"http://www.w3.org/Protocols/rfc2616/rfc2616-sec10.html#sec10.4.1\">here</a>.<br>\nPlease continue your visit at our <a href=\"/\">home page</a>.\n</p>\n</body>\n</html>\n"
     ]
    }
   ],
   "source": [
    "newExperiment.create_assessor(assessorLabel, type_='xnat:qcAssessmentData')"
   ]
  },
  {
   "cell_type": "code",
   "execution_count": 51,
   "metadata": {},
   "outputs": [
    {
     "ename": "NameError",
     "evalue": "name 'assessor' is not defined",
     "output_type": "error",
     "traceback": [
      "\u001b[1;31m---------------------------------------------------------------------------\u001b[0m",
      "\u001b[1;31mNameError\u001b[0m                                 Traceback (most recent call last)",
      "\u001b[1;32m<ipython-input-51-99e2c1137e64>\u001b[0m in \u001b[0;36m<module>\u001b[1;34m\u001b[0m\n\u001b[0;32m      3\u001b[0m \u001b[1;31m#resource = session.classes.ResourceCatalog(parent=assessor, label='RESOURCE_LABEL') # was connection.classes...\u001b[0m\u001b[1;33m\u001b[0m\u001b[1;33m\u001b[0m\u001b[1;33m\u001b[0m\u001b[0m\n\u001b[0;32m      4\u001b[0m \u001b[1;31m# but might have been a typo?\u001b[0m\u001b[1;33m\u001b[0m\u001b[1;33m\u001b[0m\u001b[1;33m\u001b[0m\u001b[0m\n\u001b[1;32m----> 5\u001b[1;33m \u001b[0mresource\u001b[0m \u001b[1;33m=\u001b[0m \u001b[0msession\u001b[0m\u001b[1;33m.\u001b[0m\u001b[0mclasses\u001b[0m\u001b[1;33m.\u001b[0m\u001b[0mResourceCatalog\u001b[0m\u001b[1;33m(\u001b[0m\u001b[0mparent\u001b[0m\u001b[1;33m=\u001b[0m\u001b[0massessor\u001b[0m\u001b[1;33m,\u001b[0m \u001b[0mlabel\u001b[0m\u001b[1;33m=\u001b[0m\u001b[0mresourceLabel\u001b[0m\u001b[1;33m)\u001b[0m\u001b[1;33m\u001b[0m\u001b[1;33m\u001b[0m\u001b[0m\n\u001b[0m",
      "\u001b[1;31mNameError\u001b[0m: name 'assessor' is not defined"
     ]
    }
   ],
   "source": [
    "resourceLabel = 'ROI_tumour'\n",
    "\n",
    "#resource = session.classes.ResourceCatalog(parent=assessor, label='RESOURCE_LABEL') # was connection.classes... \n",
    "# but might have been a typo?\n",
    "resource = session.classes.ResourceCatalog(parent=assessor, label=resourceLabel) "
   ]
  },
  {
   "cell_type": "code",
   "execution_count": null,
   "metadata": {},
   "outputs": [],
   "source": []
  },
  {
   "cell_type": "code",
   "execution_count": 92,
   "metadata": {},
   "outputs": [
    {
     "name": "stderr",
     "output_type": "stream",
     "text": [
      "[2020-02-12 17:01:23,311] DEBUG: session:334 >> GET URI http://10.1.1.17/data/archive/projects/BrainTumorProg_copy/subjects/XNAT_S00006/experiments/PGM-002_copy_MR_2?format=json\n",
      "[2020-02-12 17:01:23,832] DEBUG: session:307 >> Received response with status code: 200\n",
      "[2020-02-12 17:01:23,833] DEBUG: session:661 >> UPLOAD URI http://10.1.1.17/data/services/import?dest=%2Fprearchive&project=%3CMrSessionData+PGM-002_copy_MR_2+%28XNAT_E00015%29%3E\n",
      "[2020-02-12 17:01:24,253] DEBUG: session:307 >> Received response with status code: 500\n"
     ]
    },
    {
     "ename": "XNATUploadError",
     "evalue": "Upload failed after 1 attempts! Status code 500, response text <html>\n<head>\n   <title>Status page</title>\n</head>\n<body>\n<h3>An error occurred adding the session to the prearchive database</h3><p>You can get technical details <a href=\"http://www.w3.org/Protocols/rfc2616/rfc2616-sec10.html#sec10.5.1\">here</a>.<br>\nPlease continue your visit at our <a href=\"/\">home page</a>.\n</p>\n</body>\n</html>\n",
     "output_type": "error",
     "traceback": [
      "\u001b[1;31m---------------------------------------------------------------------------\u001b[0m",
      "\u001b[1;31mXNATUploadError\u001b[0m                           Traceback (most recent call last)",
      "\u001b[1;32m<ipython-input-92-13f97f67b710>\u001b[0m in \u001b[0;36m<module>\u001b[1;34m\u001b[0m\n\u001b[0;32m      3\u001b[0m prearchive_session = session.services.import_(roiFpathDL, \\\n\u001b[0;32m      4\u001b[0m                                               \u001b[0mproject\u001b[0m\u001b[1;33m=\u001b[0m\u001b[0mnewExperiment\u001b[0m\u001b[1;33m,\u001b[0m\u001b[0;31m \u001b[0m\u001b[0;31m\\\u001b[0m\u001b[1;33m\u001b[0m\u001b[1;33m\u001b[0m\u001b[0m\n\u001b[1;32m----> 5\u001b[1;33m                                               destination='/prearchive')\n\u001b[0m",
      "\u001b[1;32m~\\Anaconda37\\lib\\site-packages\\xnat\\services.py\u001b[0m in \u001b[0;36mimport_\u001b[1;34m(self, path, overwrite, quarantine, destination, trigger_pipelines, project, subject, experiment, content_type)\u001b[0m\n\u001b[0;32m    109\u001b[0m \u001b[1;33m\u001b[0m\u001b[0m\n\u001b[0;32m    110\u001b[0m         \u001b[0muri\u001b[0m \u001b[1;33m=\u001b[0m \u001b[1;34m'/data/services/import'\u001b[0m\u001b[1;33m\u001b[0m\u001b[1;33m\u001b[0m\u001b[0m\n\u001b[1;32m--> 111\u001b[1;33m         \u001b[0mresponse\u001b[0m \u001b[1;33m=\u001b[0m \u001b[0mself\u001b[0m\u001b[1;33m.\u001b[0m\u001b[0mxnat_session\u001b[0m\u001b[1;33m.\u001b[0m\u001b[0mupload\u001b[0m\u001b[1;33m(\u001b[0m\u001b[0muri\u001b[0m\u001b[1;33m=\u001b[0m\u001b[0muri\u001b[0m\u001b[1;33m,\u001b[0m \u001b[0mfile_\u001b[0m\u001b[1;33m=\u001b[0m\u001b[0mpath\u001b[0m\u001b[1;33m,\u001b[0m \u001b[0mquery\u001b[0m\u001b[1;33m=\u001b[0m\u001b[0mquery\u001b[0m\u001b[1;33m,\u001b[0m \u001b[0mcontent_type\u001b[0m\u001b[1;33m=\u001b[0m\u001b[0mcontent_type\u001b[0m\u001b[1;33m,\u001b[0m \u001b[0mmethod\u001b[0m\u001b[1;33m=\u001b[0m\u001b[1;34m'post'\u001b[0m\u001b[1;33m)\u001b[0m\u001b[1;33m\u001b[0m\u001b[1;33m\u001b[0m\u001b[0m\n\u001b[0m\u001b[0;32m    112\u001b[0m \u001b[1;33m\u001b[0m\u001b[0m\n\u001b[0;32m    113\u001b[0m         \u001b[1;32mif\u001b[0m \u001b[0mresponse\u001b[0m\u001b[1;33m.\u001b[0m\u001b[0mstatus_code\u001b[0m \u001b[1;33m!=\u001b[0m \u001b[1;36m200\u001b[0m\u001b[1;33m:\u001b[0m\u001b[1;33m\u001b[0m\u001b[1;33m\u001b[0m\u001b[0m\n",
      "\u001b[1;32m~\\Anaconda37\\lib\\site-packages\\xnat\\session.py\u001b[0m in \u001b[0;36mupload\u001b[1;34m(self, uri, file_, retries, query, content_type, method, overwrite, timeout)\u001b[0m\n\u001b[0;32m    703\u001b[0m \u001b[1;33m\u001b[0m\u001b[0m\n\u001b[0;32m    704\u001b[0m         \u001b[1;31m# We didn't return correctly, so we have an error\u001b[0m\u001b[1;33m\u001b[0m\u001b[1;33m\u001b[0m\u001b[1;33m\u001b[0m\u001b[0m\n\u001b[1;32m--> 705\u001b[1;33m         \u001b[1;32mraise\u001b[0m \u001b[0mexceptions\u001b[0m\u001b[1;33m.\u001b[0m\u001b[0mXNATUploadError\u001b[0m\u001b[1;33m(\u001b[0m\u001b[1;34m'Upload failed after {} attempts! Status code {}, response text {}'\u001b[0m\u001b[1;33m.\u001b[0m\u001b[0mformat\u001b[0m\u001b[1;33m(\u001b[0m\u001b[0mretries\u001b[0m\u001b[1;33m,\u001b[0m \u001b[0mresponse\u001b[0m\u001b[1;33m.\u001b[0m\u001b[0mstatus_code\u001b[0m\u001b[1;33m,\u001b[0m \u001b[0mresponse\u001b[0m\u001b[1;33m.\u001b[0m\u001b[0mtext\u001b[0m\u001b[1;33m)\u001b[0m\u001b[1;33m)\u001b[0m\u001b[1;33m\u001b[0m\u001b[1;33m\u001b[0m\u001b[0m\n\u001b[0m\u001b[0;32m    706\u001b[0m \u001b[1;33m\u001b[0m\u001b[0m\n\u001b[0;32m    707\u001b[0m     \u001b[1;33m@\u001b[0m\u001b[0mproperty\u001b[0m\u001b[1;33m\u001b[0m\u001b[1;33m\u001b[0m\u001b[0m\n",
      "\u001b[1;31mXNATUploadError\u001b[0m: Upload failed after 1 attempts! Status code 500, response text <html>\n<head>\n   <title>Status page</title>\n</head>\n<body>\n<h3>An error occurred adding the session to the prearchive database</h3><p>You can get technical details <a href=\"http://www.w3.org/Protocols/rfc2616/rfc2616-sec10.html#sec10.5.1\">here</a>.<br>\nPlease continue your visit at our <a href=\"/\">home page</a>.\n</p>\n</body>\n</html>\n"
     ]
    }
   ],
   "source": [
    "# Instead of newProject try newExperiment (probably won't work...): \n",
    "\n",
    "prearchive_session = session.services.import_(roiFpathDL, \\\n",
    "                                              project=newExperiment, \\\n",
    "                                              destination='/prearchive')"
   ]
  },
  {
   "cell_type": "markdown",
   "metadata": {},
   "source": [
    "#### Looking at the log files:\n",
    "\n",
    "##### access.log (tail /data/xnat/home/logs/access.log):\n",
    "\n",
    "2020-02-12 17:01:23,921 - admin 127.0.0.1 POST http://10.1.1.17/data/services/import?dest=%2Fprearchive&project=%3CMrSessionData+PGM-002_copy_MR_2+%28XNAT_E00015%29%3E\n",
    "\n",
    "\n",
    "\n",
    "##### dicom.log (tail /data/xnat/home/logs/dicom.log):\n",
    "\n",
    "2020-02-12 17:01:24,206 [pool-2-thread-4] ERROR org.nrg.dcm.xnat.DICOMSessionBuilder - Session builder not implemented for SOP class [1.2.840.10008.5.1.4.1.1.481.3] or modality [RTSTRUCT]\n",
    "\n"
   ]
  },
  {
   "cell_type": "code",
   "execution_count": 93,
   "metadata": {},
   "outputs": [
    {
     "name": "stderr",
     "output_type": "stream",
     "text": [
      "[2020-02-12 17:01:43,890] DEBUG: session:661 >> UPLOAD URI http://10.1.1.17/data/services/import?dest=%2Fprearchive&project=PGM-002_copy_MR_2\n",
      "[2020-02-12 17:01:44,287] DEBUG: session:307 >> Received response with status code: 500\n"
     ]
    },
    {
     "ename": "XNATUploadError",
     "evalue": "Upload failed after 1 attempts! Status code 500, response text <html>\n<head>\n   <title>Status page</title>\n</head>\n<body>\n<h3>An error occurred adding the session to the prearchive database</h3><p>You can get technical details <a href=\"http://www.w3.org/Protocols/rfc2616/rfc2616-sec10.html#sec10.5.1\">here</a>.<br>\nPlease continue your visit at our <a href=\"/\">home page</a>.\n</p>\n</body>\n</html>\n",
     "output_type": "error",
     "traceback": [
      "\u001b[1;31m---------------------------------------------------------------------------\u001b[0m",
      "\u001b[1;31mXNATUploadError\u001b[0m                           Traceback (most recent call last)",
      "\u001b[1;32m<ipython-input-93-b96cda7d1e17>\u001b[0m in \u001b[0;36m<module>\u001b[1;34m\u001b[0m\n\u001b[0;32m      3\u001b[0m prearchive_session = session.services.import_(roiFpathDL, \\\n\u001b[0;32m      4\u001b[0m                                               \u001b[0mproject\u001b[0m\u001b[1;33m=\u001b[0m\u001b[0mnewExperimentName\u001b[0m\u001b[1;33m,\u001b[0m\u001b[0;31m \u001b[0m\u001b[0;31m\\\u001b[0m\u001b[1;33m\u001b[0m\u001b[1;33m\u001b[0m\u001b[0m\n\u001b[1;32m----> 5\u001b[1;33m                                               destination='/prearchive')\n\u001b[0m",
      "\u001b[1;32m~\\Anaconda37\\lib\\site-packages\\xnat\\services.py\u001b[0m in \u001b[0;36mimport_\u001b[1;34m(self, path, overwrite, quarantine, destination, trigger_pipelines, project, subject, experiment, content_type)\u001b[0m\n\u001b[0;32m    109\u001b[0m \u001b[1;33m\u001b[0m\u001b[0m\n\u001b[0;32m    110\u001b[0m         \u001b[0muri\u001b[0m \u001b[1;33m=\u001b[0m \u001b[1;34m'/data/services/import'\u001b[0m\u001b[1;33m\u001b[0m\u001b[1;33m\u001b[0m\u001b[0m\n\u001b[1;32m--> 111\u001b[1;33m         \u001b[0mresponse\u001b[0m \u001b[1;33m=\u001b[0m \u001b[0mself\u001b[0m\u001b[1;33m.\u001b[0m\u001b[0mxnat_session\u001b[0m\u001b[1;33m.\u001b[0m\u001b[0mupload\u001b[0m\u001b[1;33m(\u001b[0m\u001b[0muri\u001b[0m\u001b[1;33m=\u001b[0m\u001b[0muri\u001b[0m\u001b[1;33m,\u001b[0m \u001b[0mfile_\u001b[0m\u001b[1;33m=\u001b[0m\u001b[0mpath\u001b[0m\u001b[1;33m,\u001b[0m \u001b[0mquery\u001b[0m\u001b[1;33m=\u001b[0m\u001b[0mquery\u001b[0m\u001b[1;33m,\u001b[0m \u001b[0mcontent_type\u001b[0m\u001b[1;33m=\u001b[0m\u001b[0mcontent_type\u001b[0m\u001b[1;33m,\u001b[0m \u001b[0mmethod\u001b[0m\u001b[1;33m=\u001b[0m\u001b[1;34m'post'\u001b[0m\u001b[1;33m)\u001b[0m\u001b[1;33m\u001b[0m\u001b[1;33m\u001b[0m\u001b[0m\n\u001b[0m\u001b[0;32m    112\u001b[0m \u001b[1;33m\u001b[0m\u001b[0m\n\u001b[0;32m    113\u001b[0m         \u001b[1;32mif\u001b[0m \u001b[0mresponse\u001b[0m\u001b[1;33m.\u001b[0m\u001b[0mstatus_code\u001b[0m \u001b[1;33m!=\u001b[0m \u001b[1;36m200\u001b[0m\u001b[1;33m:\u001b[0m\u001b[1;33m\u001b[0m\u001b[1;33m\u001b[0m\u001b[0m\n",
      "\u001b[1;32m~\\Anaconda37\\lib\\site-packages\\xnat\\session.py\u001b[0m in \u001b[0;36mupload\u001b[1;34m(self, uri, file_, retries, query, content_type, method, overwrite, timeout)\u001b[0m\n\u001b[0;32m    703\u001b[0m \u001b[1;33m\u001b[0m\u001b[0m\n\u001b[0;32m    704\u001b[0m         \u001b[1;31m# We didn't return correctly, so we have an error\u001b[0m\u001b[1;33m\u001b[0m\u001b[1;33m\u001b[0m\u001b[1;33m\u001b[0m\u001b[0m\n\u001b[1;32m--> 705\u001b[1;33m         \u001b[1;32mraise\u001b[0m \u001b[0mexceptions\u001b[0m\u001b[1;33m.\u001b[0m\u001b[0mXNATUploadError\u001b[0m\u001b[1;33m(\u001b[0m\u001b[1;34m'Upload failed after {} attempts! Status code {}, response text {}'\u001b[0m\u001b[1;33m.\u001b[0m\u001b[0mformat\u001b[0m\u001b[1;33m(\u001b[0m\u001b[0mretries\u001b[0m\u001b[1;33m,\u001b[0m \u001b[0mresponse\u001b[0m\u001b[1;33m.\u001b[0m\u001b[0mstatus_code\u001b[0m\u001b[1;33m,\u001b[0m \u001b[0mresponse\u001b[0m\u001b[1;33m.\u001b[0m\u001b[0mtext\u001b[0m\u001b[1;33m)\u001b[0m\u001b[1;33m)\u001b[0m\u001b[1;33m\u001b[0m\u001b[1;33m\u001b[0m\u001b[0m\n\u001b[0m\u001b[0;32m    706\u001b[0m \u001b[1;33m\u001b[0m\u001b[0m\n\u001b[0;32m    707\u001b[0m     \u001b[1;33m@\u001b[0m\u001b[0mproperty\u001b[0m\u001b[1;33m\u001b[0m\u001b[1;33m\u001b[0m\u001b[0m\n",
      "\u001b[1;31mXNATUploadError\u001b[0m: Upload failed after 1 attempts! Status code 500, response text <html>\n<head>\n   <title>Status page</title>\n</head>\n<body>\n<h3>An error occurred adding the session to the prearchive database</h3><p>You can get technical details <a href=\"http://www.w3.org/Protocols/rfc2616/rfc2616-sec10.html#sec10.5.1\">here</a>.<br>\nPlease continue your visit at our <a href=\"/\">home page</a>.\n</p>\n</body>\n</html>\n"
     ]
    }
   ],
   "source": [
    "# Instead of newProject try newExperiment (probably won't work...): \n",
    "\n",
    "prearchive_session = session.services.import_(roiFpathDL, \\\n",
    "                                              project=newExperimentName, \\\n",
    "                                              destination='/prearchive')"
   ]
  },
  {
   "cell_type": "markdown",
   "metadata": {},
   "source": [
    "#### Looking at the log files:\n",
    "\n",
    "##### access.log (tail /data/xnat/home/logs/access.log):\n",
    "\n",
    "2020-02-12 17:01:43,974 - admin 0:0:0:0:0:0:0:1 POST http://10.1.1.17/data/services/import?dest=%2Fprearchive&project=PGM-002_copy_MR_2\n",
    "\n",
    "\n",
    "\n",
    "##### dicom.log (tail /data/xnat/home/logs/dicom.log):\n",
    "\n",
    "2020-02-12 17:01:44,245 [pool-2-thread-1] ERROR org.nrg.dcm.xnat.DICOMSessionBuilder - Session builder not implemented for SOP class [1.2.840.10008.5.1.4.1.1.481.3] or modality [RTSTRUCT]\n"
   ]
  },
  {
   "cell_type": "markdown",
   "metadata": {},
   "source": [
    "# 13/02/20:\n",
    "\n",
    "#### While trying to upload a DICOM scan to the prearchive I've noticed that there are two entries in the prearchive showing errors on Feb 6 and 7.  \n",
    "\n",
    "##### Details:\n",
    "\n",
    "##### XNAT has encountered an error with your request:\n",
    "##### Exception: org.xml.sax.SAXParseException; lineNumber: 1; columnNumber: 1; Premature end of file.\n",
    "##### If this error continues to occur, please contact your system administrator with information about how to recreate the problem."
   ]
  },
  {
   "cell_type": "markdown",
   "metadata": {},
   "source": [
    "# Giving up on trying to upload ROIs for now.  I'll try to upload DICOMs instead.."
   ]
  },
  {
   "cell_type": "code",
   "execution_count": 86,
   "metadata": {},
   "outputs": [
    {
     "data": {
      "text/plain": [
       "'C:\\\\Users\\\\ctorti\\\\Documents\\\\GitHub\\\\WP1.3_multiple_modalities\\\\trying stuff\\\\XNAT downloads\\\\BrainTumorProg\\\\PGM-002\\\\0\\\\0\\\\PGM-002_MR_1\\\\scans\\\\11-T1post\\\\resources\\\\DICOM\\\\files'"
      ]
     },
     "execution_count": 86,
     "metadata": {},
     "output_type": "execute_result"
    }
   ],
   "source": [
    "dicomsPath"
   ]
  },
  {
   "cell_type": "code",
   "execution_count": 88,
   "metadata": {},
   "outputs": [
    {
     "data": {
      "text/plain": [
       "['1.3.6.1.4.1.14519.5.2.1.4429.7055.331058148523327901159449546313-11-1-xb6jdm.dcm',\n",
       " '1.3.6.1.4.1.14519.5.2.1.4429.7055.331058148523327901159449546313-11-10-16uvgu3.dcm',\n",
       " '1.3.6.1.4.1.14519.5.2.1.4429.7055.331058148523327901159449546313-11-11-1yalgp4.dcm',\n",
       " '1.3.6.1.4.1.14519.5.2.1.4429.7055.331058148523327901159449546313-11-12-gk3fd0.dcm',\n",
       " '1.3.6.1.4.1.14519.5.2.1.4429.7055.331058148523327901159449546313-11-13-1kem30l.dcm',\n",
       " '1.3.6.1.4.1.14519.5.2.1.4429.7055.331058148523327901159449546313-11-14-1m1mvpi.dcm',\n",
       " '1.3.6.1.4.1.14519.5.2.1.4429.7055.331058148523327901159449546313-11-15-vumjtl.dcm',\n",
       " '1.3.6.1.4.1.14519.5.2.1.4429.7055.331058148523327901159449546313-11-16-t1kui0.dcm',\n",
       " '1.3.6.1.4.1.14519.5.2.1.4429.7055.331058148523327901159449546313-11-17-12omca7.dcm',\n",
       " '1.3.6.1.4.1.14519.5.2.1.4429.7055.331058148523327901159449546313-11-18-gihsw6.dcm',\n",
       " '1.3.6.1.4.1.14519.5.2.1.4429.7055.331058148523327901159449546313-11-19-abhab5.dcm',\n",
       " '1.3.6.1.4.1.14519.5.2.1.4429.7055.331058148523327901159449546313-11-2-119a4or.dcm',\n",
       " '1.3.6.1.4.1.14519.5.2.1.4429.7055.331058148523327901159449546313-11-20-hn94uu.dcm',\n",
       " '1.3.6.1.4.1.14519.5.2.1.4429.7055.331058148523327901159449546313-11-21-1l0y6hs.dcm',\n",
       " '1.3.6.1.4.1.14519.5.2.1.4429.7055.331058148523327901159449546313-11-22-qfw6eu.dcm',\n",
       " '1.3.6.1.4.1.14519.5.2.1.4429.7055.331058148523327901159449546313-11-3-o6pfci.dcm',\n",
       " '1.3.6.1.4.1.14519.5.2.1.4429.7055.331058148523327901159449546313-11-4-1ji0ody.dcm',\n",
       " '1.3.6.1.4.1.14519.5.2.1.4429.7055.331058148523327901159449546313-11-5-1kyxtoq.dcm',\n",
       " '1.3.6.1.4.1.14519.5.2.1.4429.7055.331058148523327901159449546313-11-6-ui6tn3.dcm',\n",
       " '1.3.6.1.4.1.14519.5.2.1.4429.7055.331058148523327901159449546313-11-7-2g5trn.dcm',\n",
       " '1.3.6.1.4.1.14519.5.2.1.4429.7055.331058148523327901159449546313-11-8-11aj08n.dcm',\n",
       " '1.3.6.1.4.1.14519.5.2.1.4429.7055.331058148523327901159449546313-11-9-ouxf6l.dcm']"
      ]
     },
     "execution_count": 88,
     "metadata": {},
     "output_type": "execute_result"
    }
   ],
   "source": [
    "os.listdir(dicomsPath)"
   ]
  },
  {
   "cell_type": "code",
   "execution_count": 90,
   "metadata": {},
   "outputs": [
    {
     "data": {
      "text/plain": [
       "['C:\\\\Users\\\\ctorti\\\\Documents\\\\GitHub\\\\WP1.3_multiple_modalities\\\\trying stuff\\\\XNAT downloads\\\\BrainTumorProg\\\\PGM-002\\\\0\\\\0\\\\PGM-002_MR_1\\\\scans\\\\11-T1post\\\\resources\\\\DICOM\\\\files\\\\1.3.6.1.4.1.14519.5.2.1.4429.7055.331058148523327901159449546313-11-1-xb6jdm.dcm',\n",
       " 'C:\\\\Users\\\\ctorti\\\\Documents\\\\GitHub\\\\WP1.3_multiple_modalities\\\\trying stuff\\\\XNAT downloads\\\\BrainTumorProg\\\\PGM-002\\\\0\\\\0\\\\PGM-002_MR_1\\\\scans\\\\11-T1post\\\\resources\\\\DICOM\\\\files\\\\1.3.6.1.4.1.14519.5.2.1.4429.7055.331058148523327901159449546313-11-2-119a4or.dcm',\n",
       " 'C:\\\\Users\\\\ctorti\\\\Documents\\\\GitHub\\\\WP1.3_multiple_modalities\\\\trying stuff\\\\XNAT downloads\\\\BrainTumorProg\\\\PGM-002\\\\0\\\\0\\\\PGM-002_MR_1\\\\scans\\\\11-T1post\\\\resources\\\\DICOM\\\\files\\\\1.3.6.1.4.1.14519.5.2.1.4429.7055.331058148523327901159449546313-11-3-o6pfci.dcm',\n",
       " 'C:\\\\Users\\\\ctorti\\\\Documents\\\\GitHub\\\\WP1.3_multiple_modalities\\\\trying stuff\\\\XNAT downloads\\\\BrainTumorProg\\\\PGM-002\\\\0\\\\0\\\\PGM-002_MR_1\\\\scans\\\\11-T1post\\\\resources\\\\DICOM\\\\files\\\\1.3.6.1.4.1.14519.5.2.1.4429.7055.331058148523327901159449546313-11-4-1ji0ody.dcm',\n",
       " 'C:\\\\Users\\\\ctorti\\\\Documents\\\\GitHub\\\\WP1.3_multiple_modalities\\\\trying stuff\\\\XNAT downloads\\\\BrainTumorProg\\\\PGM-002\\\\0\\\\0\\\\PGM-002_MR_1\\\\scans\\\\11-T1post\\\\resources\\\\DICOM\\\\files\\\\1.3.6.1.4.1.14519.5.2.1.4429.7055.331058148523327901159449546313-11-5-1kyxtoq.dcm',\n",
       " 'C:\\\\Users\\\\ctorti\\\\Documents\\\\GitHub\\\\WP1.3_multiple_modalities\\\\trying stuff\\\\XNAT downloads\\\\BrainTumorProg\\\\PGM-002\\\\0\\\\0\\\\PGM-002_MR_1\\\\scans\\\\11-T1post\\\\resources\\\\DICOM\\\\files\\\\1.3.6.1.4.1.14519.5.2.1.4429.7055.331058148523327901159449546313-11-6-ui6tn3.dcm',\n",
       " 'C:\\\\Users\\\\ctorti\\\\Documents\\\\GitHub\\\\WP1.3_multiple_modalities\\\\trying stuff\\\\XNAT downloads\\\\BrainTumorProg\\\\PGM-002\\\\0\\\\0\\\\PGM-002_MR_1\\\\scans\\\\11-T1post\\\\resources\\\\DICOM\\\\files\\\\1.3.6.1.4.1.14519.5.2.1.4429.7055.331058148523327901159449546313-11-7-2g5trn.dcm',\n",
       " 'C:\\\\Users\\\\ctorti\\\\Documents\\\\GitHub\\\\WP1.3_multiple_modalities\\\\trying stuff\\\\XNAT downloads\\\\BrainTumorProg\\\\PGM-002\\\\0\\\\0\\\\PGM-002_MR_1\\\\scans\\\\11-T1post\\\\resources\\\\DICOM\\\\files\\\\1.3.6.1.4.1.14519.5.2.1.4429.7055.331058148523327901159449546313-11-8-11aj08n.dcm',\n",
       " 'C:\\\\Users\\\\ctorti\\\\Documents\\\\GitHub\\\\WP1.3_multiple_modalities\\\\trying stuff\\\\XNAT downloads\\\\BrainTumorProg\\\\PGM-002\\\\0\\\\0\\\\PGM-002_MR_1\\\\scans\\\\11-T1post\\\\resources\\\\DICOM\\\\files\\\\1.3.6.1.4.1.14519.5.2.1.4429.7055.331058148523327901159449546313-11-9-ouxf6l.dcm',\n",
       " 'C:\\\\Users\\\\ctorti\\\\Documents\\\\GitHub\\\\WP1.3_multiple_modalities\\\\trying stuff\\\\XNAT downloads\\\\BrainTumorProg\\\\PGM-002\\\\0\\\\0\\\\PGM-002_MR_1\\\\scans\\\\11-T1post\\\\resources\\\\DICOM\\\\files\\\\1.3.6.1.4.1.14519.5.2.1.4429.7055.331058148523327901159449546313-11-10-16uvgu3.dcm',\n",
       " 'C:\\\\Users\\\\ctorti\\\\Documents\\\\GitHub\\\\WP1.3_multiple_modalities\\\\trying stuff\\\\XNAT downloads\\\\BrainTumorProg\\\\PGM-002\\\\0\\\\0\\\\PGM-002_MR_1\\\\scans\\\\11-T1post\\\\resources\\\\DICOM\\\\files\\\\1.3.6.1.4.1.14519.5.2.1.4429.7055.331058148523327901159449546313-11-11-1yalgp4.dcm',\n",
       " 'C:\\\\Users\\\\ctorti\\\\Documents\\\\GitHub\\\\WP1.3_multiple_modalities\\\\trying stuff\\\\XNAT downloads\\\\BrainTumorProg\\\\PGM-002\\\\0\\\\0\\\\PGM-002_MR_1\\\\scans\\\\11-T1post\\\\resources\\\\DICOM\\\\files\\\\1.3.6.1.4.1.14519.5.2.1.4429.7055.331058148523327901159449546313-11-12-gk3fd0.dcm',\n",
       " 'C:\\\\Users\\\\ctorti\\\\Documents\\\\GitHub\\\\WP1.3_multiple_modalities\\\\trying stuff\\\\XNAT downloads\\\\BrainTumorProg\\\\PGM-002\\\\0\\\\0\\\\PGM-002_MR_1\\\\scans\\\\11-T1post\\\\resources\\\\DICOM\\\\files\\\\1.3.6.1.4.1.14519.5.2.1.4429.7055.331058148523327901159449546313-11-13-1kem30l.dcm',\n",
       " 'C:\\\\Users\\\\ctorti\\\\Documents\\\\GitHub\\\\WP1.3_multiple_modalities\\\\trying stuff\\\\XNAT downloads\\\\BrainTumorProg\\\\PGM-002\\\\0\\\\0\\\\PGM-002_MR_1\\\\scans\\\\11-T1post\\\\resources\\\\DICOM\\\\files\\\\1.3.6.1.4.1.14519.5.2.1.4429.7055.331058148523327901159449546313-11-14-1m1mvpi.dcm',\n",
       " 'C:\\\\Users\\\\ctorti\\\\Documents\\\\GitHub\\\\WP1.3_multiple_modalities\\\\trying stuff\\\\XNAT downloads\\\\BrainTumorProg\\\\PGM-002\\\\0\\\\0\\\\PGM-002_MR_1\\\\scans\\\\11-T1post\\\\resources\\\\DICOM\\\\files\\\\1.3.6.1.4.1.14519.5.2.1.4429.7055.331058148523327901159449546313-11-15-vumjtl.dcm',\n",
       " 'C:\\\\Users\\\\ctorti\\\\Documents\\\\GitHub\\\\WP1.3_multiple_modalities\\\\trying stuff\\\\XNAT downloads\\\\BrainTumorProg\\\\PGM-002\\\\0\\\\0\\\\PGM-002_MR_1\\\\scans\\\\11-T1post\\\\resources\\\\DICOM\\\\files\\\\1.3.6.1.4.1.14519.5.2.1.4429.7055.331058148523327901159449546313-11-16-t1kui0.dcm',\n",
       " 'C:\\\\Users\\\\ctorti\\\\Documents\\\\GitHub\\\\WP1.3_multiple_modalities\\\\trying stuff\\\\XNAT downloads\\\\BrainTumorProg\\\\PGM-002\\\\0\\\\0\\\\PGM-002_MR_1\\\\scans\\\\11-T1post\\\\resources\\\\DICOM\\\\files\\\\1.3.6.1.4.1.14519.5.2.1.4429.7055.331058148523327901159449546313-11-17-12omca7.dcm',\n",
       " 'C:\\\\Users\\\\ctorti\\\\Documents\\\\GitHub\\\\WP1.3_multiple_modalities\\\\trying stuff\\\\XNAT downloads\\\\BrainTumorProg\\\\PGM-002\\\\0\\\\0\\\\PGM-002_MR_1\\\\scans\\\\11-T1post\\\\resources\\\\DICOM\\\\files\\\\1.3.6.1.4.1.14519.5.2.1.4429.7055.331058148523327901159449546313-11-18-gihsw6.dcm',\n",
       " 'C:\\\\Users\\\\ctorti\\\\Documents\\\\GitHub\\\\WP1.3_multiple_modalities\\\\trying stuff\\\\XNAT downloads\\\\BrainTumorProg\\\\PGM-002\\\\0\\\\0\\\\PGM-002_MR_1\\\\scans\\\\11-T1post\\\\resources\\\\DICOM\\\\files\\\\1.3.6.1.4.1.14519.5.2.1.4429.7055.331058148523327901159449546313-11-19-abhab5.dcm',\n",
       " 'C:\\\\Users\\\\ctorti\\\\Documents\\\\GitHub\\\\WP1.3_multiple_modalities\\\\trying stuff\\\\XNAT downloads\\\\BrainTumorProg\\\\PGM-002\\\\0\\\\0\\\\PGM-002_MR_1\\\\scans\\\\11-T1post\\\\resources\\\\DICOM\\\\files\\\\1.3.6.1.4.1.14519.5.2.1.4429.7055.331058148523327901159449546313-11-20-hn94uu.dcm',\n",
       " 'C:\\\\Users\\\\ctorti\\\\Documents\\\\GitHub\\\\WP1.3_multiple_modalities\\\\trying stuff\\\\XNAT downloads\\\\BrainTumorProg\\\\PGM-002\\\\0\\\\0\\\\PGM-002_MR_1\\\\scans\\\\11-T1post\\\\resources\\\\DICOM\\\\files\\\\1.3.6.1.4.1.14519.5.2.1.4429.7055.331058148523327901159449546313-11-21-1l0y6hs.dcm',\n",
       " 'C:\\\\Users\\\\ctorti\\\\Documents\\\\GitHub\\\\WP1.3_multiple_modalities\\\\trying stuff\\\\XNAT downloads\\\\BrainTumorProg\\\\PGM-002\\\\0\\\\0\\\\PGM-002_MR_1\\\\scans\\\\11-T1post\\\\resources\\\\DICOM\\\\files\\\\1.3.6.1.4.1.14519.5.2.1.4429.7055.331058148523327901159449546313-11-22-qfw6eu.dcm']"
      ]
     },
     "execution_count": 90,
     "metadata": {},
     "output_type": "execute_result"
    }
   ],
   "source": [
    "dicomsFpaths = dicom_functions.dc_filepaths(dicomsPath)\n",
    "dicomsFpaths"
   ]
  },
  {
   "cell_type": "code",
   "execution_count": 95,
   "metadata": {},
   "outputs": [
    {
     "data": {
      "text/plain": [
       "'C:\\\\Users\\\\ctorti\\\\Documents\\\\GitHub\\\\WP1.3_multiple_modalities\\\\trying stuff\\\\XNAT downloads\\\\BrainTumorProg\\\\PGM-002\\\\0\\\\0\\\\PGM-002_MR_1\\\\scans\\\\11-T1post\\\\resources\\\\DICOM\\\\files\\\\1.3.6.1.4.1.14519.5.2.1.4429.7055.331058148523327901159449546313-11-1-xb6jdm.dcm'"
      ]
     },
     "execution_count": 95,
     "metadata": {},
     "output_type": "execute_result"
    }
   ],
   "source": [
    "dicomsFpaths[0]"
   ]
  },
  {
   "cell_type": "code",
   "execution_count": 91,
   "metadata": {},
   "outputs": [
    {
     "data": {
      "text/plain": [
       "'PGM-002_copy_MR_2'"
      ]
     },
     "execution_count": 91,
     "metadata": {},
     "output_type": "execute_result"
    }
   ],
   "source": [
    "newExperimentName"
   ]
  },
  {
   "cell_type": "code",
   "execution_count": 96,
   "metadata": {},
   "outputs": [
    {
     "name": "stderr",
     "output_type": "stream",
     "text": [
      "[2020-02-13 11:42:21,872] DEBUG: session:661 >> UPLOAD URI http://10.1.1.17/data/services/import?dest=%2Fprearchive&project=BrainTumorProg_copy\n",
      "[2020-02-13 11:42:22,748] DEBUG: session:307 >> Received response with status code: 200\n"
     ]
    }
   ],
   "source": [
    "# Try uploading the first DICOM file in dicomsFpaths to the prearchive:\n",
    "\n",
    "prearchive_session = session.services.import_(dicomsFpaths[0], \\\n",
    "                                              project=newProjectName, \\\n",
    "                                              destination='/prearchive')"
   ]
  },
  {
   "cell_type": "markdown",
   "metadata": {},
   "source": [
    "#### There's now a \"MR Session\" under Experiment for subject PGM-002_copy.  I went to the prearchive, then clicked on \"Review and Archieve\" and noticed that the subject was not identified.  I was able to select PGM-002_copy from the pull-down list.  I wonder if I can add a subject name to the list of inputs to .services.import_()..."
   ]
  },
  {
   "cell_type": "markdown",
   "metadata": {},
   "source": [
    "#### Actually I can see that the archiving process including the assignment of a subject can be done as shown here:\n",
    "\n",
    "##### https://xnat.readthedocs.io/en/latest/static/tutorial.html#importing-data-into-xnat"
   ]
  },
  {
   "cell_type": "code",
   "execution_count": 97,
   "metadata": {},
   "outputs": [
    {
     "name": "stderr",
     "output_type": "stream",
     "text": [
      "[2020-02-13 11:56:18,818] DEBUG: session:661 >> UPLOAD URI http://10.1.1.17/data/services/import?dest=%2Fprearchive&project=BrainTumorProg_copy\n",
      "[2020-02-13 11:56:19,569] DEBUG: session:307 >> Received response with status code: 200\n"
     ]
    }
   ],
   "source": [
    "# Try uploading the second DICOM scan to the prearchive:\n",
    "\n",
    "prearchive_session = session.services.import_(dicomsFpaths[1], \\\n",
    "                                              project=newProjectName, \\\n",
    "                                              destination='/prearchive')"
   ]
  },
  {
   "cell_type": "code",
   "execution_count": 98,
   "metadata": {},
   "outputs": [
    {
     "name": "stderr",
     "output_type": "stream",
     "text": [
      "[2020-02-13 11:56:39,223] DEBUG: session:334 >> GET URI http://10.1.1.17/data/version\n",
      "[2020-02-13 11:56:39,231] DEBUG: session:307 >> Received response with status code: 404\n",
      "[2020-02-13 11:56:39,232] DEBUG: session:334 >> GET URI http://10.1.1.17/xapi/siteConfig/buildInfo?format=json\n",
      "[2020-02-13 11:56:39,242] DEBUG: session:307 >> Received response with status code: 200\n",
      "[2020-02-13 11:56:39,243] DEBUG: session:334 >> GET URI http://10.1.1.17/data/prearchive/projects/BrainTumorProg_copy/20200212_204058544/PGM_002_MR_1?format=json\n",
      "[2020-02-13 11:56:39,261] DEBUG: session:307 >> Received response with status code: 200\n"
     ]
    },
    {
     "name": "stdout",
     "output_type": "stream",
     "text": [
      "<PrearchiveSession BrainTumorProg_copy/20200212_204058544/PGM-002_MR_1>\n"
     ]
    }
   ],
   "source": [
    "print(prearchive_session)"
   ]
  },
  {
   "cell_type": "code",
   "execution_count": 99,
   "metadata": {},
   "outputs": [
    {
     "name": "stderr",
     "output_type": "stream",
     "text": [
      "[2020-02-13 11:57:14,561] DEBUG: session:334 >> GET URI http://10.1.1.17/data/prearchive/projects?format=json\n",
      "[2020-02-13 11:57:14,576] DEBUG: session:307 >> Received response with status code: 200\n",
      "[2020-02-13 11:57:14,577] DEBUG: session:334 >> GET URI http://10.1.1.17/data/prearchive/projects/BrainTumorProg_copy/20200206_152623716/PGM_002_MR_1?format=json\n",
      "[2020-02-13 11:57:14,594] DEBUG: session:307 >> Received response with status code: 200\n",
      "[2020-02-13 11:57:14,595] DEBUG: session:334 >> GET URI http://10.1.1.17/data/prearchive/projects/BrainTumorProg_copy/20200207_144303310/PGM_002_MR_1?format=json\n",
      "[2020-02-13 11:57:14,607] DEBUG: session:307 >> Received response with status code: 200\n",
      "[2020-02-13 11:57:14,608] DEBUG: session:334 >> GET URI http://10.1.1.17/data/prearchive/projects/BrainTumorProg_copy/20200212_204058544/PGM_002_MR_1?format=json\n",
      "[2020-02-13 11:57:14,622] DEBUG: session:307 >> Received response with status code: 200\n"
     ]
    },
    {
     "data": {
      "text/plain": [
       "[<PrearchiveSession BrainTumorProg_copy/20200206_152623716/PGM_002_MR_1>,\n",
       " <PrearchiveSession BrainTumorProg_copy/20200207_144303310/PGM_002_MR_1>,\n",
       " <PrearchiveSession BrainTumorProg_copy/20200212_204058544/PGM-002_MR_1>]"
      ]
     },
     "execution_count": 99,
     "metadata": {},
     "output_type": "execute_result"
    }
   ],
   "source": [
    "# Get a list of sessions waiting for archiving:\n",
    "\n",
    "session.prearchive.sessions()"
   ]
  },
  {
   "cell_type": "code",
   "execution_count": 103,
   "metadata": {},
   "outputs": [
    {
     "name": "stderr",
     "output_type": "stream",
     "text": [
      "[2020-02-13 12:03:05,264] DEBUG: session:334 >> GET URI http://10.1.1.17/data/prearchive/projects?format=json\n",
      "[2020-02-13 12:03:05,283] DEBUG: session:307 >> Received response with status code: 200\n",
      "[2020-02-13 12:03:05,285] DEBUG: session:391 >> POST URI http://10.1.1.17/data/services/archive?src=%2Fdata%2Fprearchive%2Fprojects%2FBrainTumorProg_copy%2F20200212_204058544%2FPGM_002_MR_1&subject=PGM-002_copy&session=PGM-002_copy_MR_2\n",
      "[2020-02-13 12:03:05,286] DEBUG: session:393 >> POST DATA None\n",
      "[2020-02-13 12:03:05,415] DEBUG: session:307 >> Received response with status code: 409\n"
     ]
    },
    {
     "ename": "XNATResponseError",
     "evalue": "Invalid response from XNATSession for url http://10.1.1.17/data/services/archive?src=%2Fdata%2Fprearchive%2Fprojects%2FBrainTumorProg_copy%2F20200212_204058544%2FPGM_002_MR_1&subject=PGM-002_copy&session=PGM-002_copy_MR_2 (status 409):\n<html>\n<head>\n   <title>Status page</title>\n</head>\n<body>\n<h3>Session already exists, retry with overwrite enabled</h3><p>You can get technical details <a href=\"http://www.w3.org/Protocols/rfc2616/rfc2616-sec10.html#sec10.4.10\">here</a>.<br>\nPlease continue your visit at our <a href=\"/\">home page</a>.\n</p>\n</body>\n</html>\n",
     "output_type": "error",
     "traceback": [
      "\u001b[1;31m---------------------------------------------------------------------------\u001b[0m",
      "\u001b[1;31mXNATResponseError\u001b[0m                         Traceback (most recent call last)",
      "\u001b[1;32m<ipython-input-103-c30bfcdebd0b>\u001b[0m in \u001b[0;36m<module>\u001b[1;34m\u001b[0m\n\u001b[0;32m      3\u001b[0m \u001b[0mprearchive_session\u001b[0m \u001b[1;33m=\u001b[0m \u001b[0msession\u001b[0m\u001b[1;33m.\u001b[0m\u001b[0mprearchive\u001b[0m\u001b[1;33m.\u001b[0m\u001b[0msessions\u001b[0m\u001b[1;33m(\u001b[0m\u001b[1;33m)\u001b[0m\u001b[1;33m[\u001b[0m\u001b[1;36m2\u001b[0m\u001b[1;33m]\u001b[0m\u001b[1;33m\u001b[0m\u001b[1;33m\u001b[0m\u001b[0m\n\u001b[0;32m      4\u001b[0m \u001b[1;33m\u001b[0m\u001b[0m\n\u001b[1;32m----> 5\u001b[1;33m \u001b[0mexperiment\u001b[0m \u001b[1;33m=\u001b[0m \u001b[0mprearchive_session\u001b[0m\u001b[1;33m.\u001b[0m\u001b[0marchive\u001b[0m\u001b[1;33m(\u001b[0m\u001b[0msubject\u001b[0m\u001b[1;33m=\u001b[0m\u001b[0mnewSubjectName\u001b[0m\u001b[1;33m,\u001b[0m \u001b[0mexperiment\u001b[0m\u001b[1;33m=\u001b[0m\u001b[0mnewExperimentName\u001b[0m\u001b[1;33m)\u001b[0m\u001b[1;33m\u001b[0m\u001b[1;33m\u001b[0m\u001b[0m\n\u001b[0m",
      "\u001b[1;32m~\\Anaconda37\\lib\\site-packages\\xnat\\prearchive.py\u001b[0m in \u001b[0;36marchive\u001b[1;34m(self, overwrite, quarantine, trigger_pipelines, project, subject, experiment)\u001b[0m\n\u001b[0;32m    218\u001b[0m             \u001b[0mquery\u001b[0m\u001b[1;33m[\u001b[0m\u001b[1;34m'session'\u001b[0m\u001b[1;33m]\u001b[0m \u001b[1;33m=\u001b[0m \u001b[0mexperiment\u001b[0m\u001b[1;33m\u001b[0m\u001b[1;33m\u001b[0m\u001b[0m\n\u001b[0;32m    219\u001b[0m \u001b[1;33m\u001b[0m\u001b[0m\n\u001b[1;32m--> 220\u001b[1;33m         \u001b[0mresponse\u001b[0m \u001b[1;33m=\u001b[0m \u001b[0mself\u001b[0m\u001b[1;33m.\u001b[0m\u001b[0mxnat_session\u001b[0m\u001b[1;33m.\u001b[0m\u001b[0mpost\u001b[0m\u001b[1;33m(\u001b[0m\u001b[1;34m'/data/services/archive'\u001b[0m\u001b[1;33m,\u001b[0m \u001b[0mquery\u001b[0m\u001b[1;33m=\u001b[0m\u001b[0mquery\u001b[0m\u001b[1;33m)\u001b[0m\u001b[1;33m\u001b[0m\u001b[1;33m\u001b[0m\u001b[0m\n\u001b[0m\u001b[0;32m    221\u001b[0m         \u001b[0mobject_uri\u001b[0m \u001b[1;33m=\u001b[0m \u001b[0mresponse\u001b[0m\u001b[1;33m.\u001b[0m\u001b[0mtext\u001b[0m\u001b[1;33m.\u001b[0m\u001b[0mstrip\u001b[0m\u001b[1;33m(\u001b[0m\u001b[1;33m)\u001b[0m\u001b[1;33m\u001b[0m\u001b[1;33m\u001b[0m\u001b[0m\n\u001b[0;32m    222\u001b[0m \u001b[1;33m\u001b[0m\u001b[0m\n",
      "\u001b[1;32m~\\Anaconda37\\lib\\site-packages\\xnat\\session.py\u001b[0m in \u001b[0;36mpost\u001b[1;34m(self, path, data, json, format, query, accepted_status, timeout, headers)\u001b[0m\n\u001b[0;32m    397\u001b[0m         \u001b[1;32mexcept\u001b[0m \u001b[0mrequests\u001b[0m\u001b[1;33m.\u001b[0m\u001b[0mexceptions\u001b[0m\u001b[1;33m.\u001b[0m\u001b[0mSSLError\u001b[0m\u001b[1;33m:\u001b[0m\u001b[1;33m\u001b[0m\u001b[1;33m\u001b[0m\u001b[0m\n\u001b[0;32m    398\u001b[0m             \u001b[1;32mraise\u001b[0m \u001b[0mexceptions\u001b[0m\u001b[1;33m.\u001b[0m\u001b[0mXNATSSLError\u001b[0m\u001b[1;33m(\u001b[0m\u001b[1;34m'Encountered a problem with the SSL connection, are you sure the server is offering https?'\u001b[0m\u001b[1;33m)\u001b[0m\u001b[1;33m\u001b[0m\u001b[1;33m\u001b[0m\u001b[0m\n\u001b[1;32m--> 399\u001b[1;33m         \u001b[0mself\u001b[0m\u001b[1;33m.\u001b[0m\u001b[0m_check_response\u001b[0m\u001b[1;33m(\u001b[0m\u001b[0mresponse\u001b[0m\u001b[1;33m,\u001b[0m \u001b[0maccepted_status\u001b[0m\u001b[1;33m=\u001b[0m\u001b[0maccepted_status\u001b[0m\u001b[1;33m,\u001b[0m \u001b[0muri\u001b[0m\u001b[1;33m=\u001b[0m\u001b[0muri\u001b[0m\u001b[1;33m)\u001b[0m\u001b[1;33m\u001b[0m\u001b[1;33m\u001b[0m\u001b[0m\n\u001b[0m\u001b[0;32m    400\u001b[0m         \u001b[1;32mreturn\u001b[0m \u001b[0mresponse\u001b[0m\u001b[1;33m\u001b[0m\u001b[1;33m\u001b[0m\u001b[0m\n\u001b[0;32m    401\u001b[0m \u001b[1;33m\u001b[0m\u001b[0m\n",
      "\u001b[1;32m~\\Anaconda37\\lib\\site-packages\\xnat\\session.py\u001b[0m in \u001b[0;36m_check_response\u001b[1;34m(self, response, accepted_status, uri)\u001b[0m\n\u001b[0;32m    311\u001b[0m                 \u001b[0maccepted_status\u001b[0m \u001b[1;33m=\u001b[0m \u001b[1;33m[\u001b[0m\u001b[1;36m200\u001b[0m\u001b[1;33m,\u001b[0m \u001b[1;36m201\u001b[0m\u001b[1;33m,\u001b[0m \u001b[1;36m202\u001b[0m\u001b[1;33m,\u001b[0m \u001b[1;36m203\u001b[0m\u001b[1;33m,\u001b[0m \u001b[1;36m204\u001b[0m\u001b[1;33m,\u001b[0m \u001b[1;36m205\u001b[0m\u001b[1;33m,\u001b[0m \u001b[1;36m206\u001b[0m\u001b[1;33m]\u001b[0m  \u001b[1;31m# All successful responses of HTML\u001b[0m\u001b[1;33m\u001b[0m\u001b[1;33m\u001b[0m\u001b[0m\n\u001b[0;32m    312\u001b[0m             \u001b[1;32mif\u001b[0m \u001b[0mresponse\u001b[0m\u001b[1;33m.\u001b[0m\u001b[0mstatus_code\u001b[0m \u001b[1;32mnot\u001b[0m \u001b[1;32min\u001b[0m \u001b[0maccepted_status\u001b[0m \u001b[1;32mor\u001b[0m \u001b[1;33m(\u001b[0m\u001b[1;32mnot\u001b[0m \u001b[0mself\u001b[0m\u001b[1;33m.\u001b[0m\u001b[0mskip_response_content_check\u001b[0m \u001b[1;32mand\u001b[0m \u001b[0mresponse\u001b[0m\u001b[1;33m.\u001b[0m\u001b[0mtext\u001b[0m\u001b[1;33m.\u001b[0m\u001b[0mstartswith\u001b[0m\u001b[1;33m(\u001b[0m\u001b[1;33m(\u001b[0m\u001b[1;34m'<!DOCTYPE'\u001b[0m\u001b[1;33m,\u001b[0m \u001b[1;34m'<html>'\u001b[0m\u001b[1;33m)\u001b[0m\u001b[1;33m)\u001b[0m\u001b[1;33m)\u001b[0m\u001b[1;33m:\u001b[0m\u001b[1;33m\u001b[0m\u001b[1;33m\u001b[0m\u001b[0m\n\u001b[1;32m--> 313\u001b[1;33m                 \u001b[1;32mraise\u001b[0m \u001b[0mexceptions\u001b[0m\u001b[1;33m.\u001b[0m\u001b[0mXNATResponseError\u001b[0m\u001b[1;33m(\u001b[0m\u001b[1;34m'Invalid response from XNATSession for url {} (status {}):\\n{}'\u001b[0m\u001b[1;33m.\u001b[0m\u001b[0mformat\u001b[0m\u001b[1;33m(\u001b[0m\u001b[0muri\u001b[0m\u001b[1;33m,\u001b[0m \u001b[0mresponse\u001b[0m\u001b[1;33m.\u001b[0m\u001b[0mstatus_code\u001b[0m\u001b[1;33m,\u001b[0m \u001b[0mresponse\u001b[0m\u001b[1;33m.\u001b[0m\u001b[0mtext\u001b[0m\u001b[1;33m)\u001b[0m\u001b[1;33m)\u001b[0m\u001b[1;33m\u001b[0m\u001b[1;33m\u001b[0m\u001b[0m\n\u001b[0m\u001b[0;32m    314\u001b[0m \u001b[1;33m\u001b[0m\u001b[0m\n\u001b[0;32m    315\u001b[0m     \u001b[1;32mdef\u001b[0m \u001b[0mget\u001b[0m\u001b[1;33m(\u001b[0m\u001b[0mself\u001b[0m\u001b[1;33m,\u001b[0m \u001b[0mpath\u001b[0m\u001b[1;33m,\u001b[0m \u001b[0mformat\u001b[0m\u001b[1;33m=\u001b[0m\u001b[1;32mNone\u001b[0m\u001b[1;33m,\u001b[0m \u001b[0mquery\u001b[0m\u001b[1;33m=\u001b[0m\u001b[1;32mNone\u001b[0m\u001b[1;33m,\u001b[0m \u001b[0maccepted_status\u001b[0m\u001b[1;33m=\u001b[0m\u001b[1;32mNone\u001b[0m\u001b[1;33m,\u001b[0m \u001b[0mtimeout\u001b[0m\u001b[1;33m=\u001b[0m\u001b[1;32mNone\u001b[0m\u001b[1;33m,\u001b[0m \u001b[0mheaders\u001b[0m\u001b[1;33m=\u001b[0m\u001b[1;32mNone\u001b[0m\u001b[1;33m)\u001b[0m\u001b[1;33m:\u001b[0m\u001b[1;33m\u001b[0m\u001b[1;33m\u001b[0m\u001b[0m\n",
      "\u001b[1;31mXNATResponseError\u001b[0m: Invalid response from XNATSession for url http://10.1.1.17/data/services/archive?src=%2Fdata%2Fprearchive%2Fprojects%2FBrainTumorProg_copy%2F20200212_204058544%2FPGM_002_MR_1&subject=PGM-002_copy&session=PGM-002_copy_MR_2 (status 409):\n<html>\n<head>\n   <title>Status page</title>\n</head>\n<body>\n<h3>Session already exists, retry with overwrite enabled</h3><p>You can get technical details <a href=\"http://www.w3.org/Protocols/rfc2616/rfc2616-sec10.html#sec10.4.10\">here</a>.<br>\nPlease continue your visit at our <a href=\"/\">home page</a>.\n</p>\n</body>\n</html>\n"
     ]
    }
   ],
   "source": [
    "# The first two items are the errors mentioned above.  So archive the third entry only:\n",
    "\n",
    "prearchive_session = session.prearchive.sessions()[2]\n",
    "\n",
    "experiment = prearchive_session.archive(subject=newSubjectName, experiment=newExperimentName)"
   ]
  },
  {
   "cell_type": "markdown",
   "metadata": {},
   "source": [
    "#### The prearchive using the web interface is showing that there's a conflict.\n",
    "\n",
    "##### Details:\n",
    "\n",
    "Current Warnings\n",
    "FAIL-4: Invalid modification of session subject via archive process.: PGM-002_MR_1 Already Exists for another Subject\n",
    "CONFLICT-14: Session already exists with matching files.\n",
    "CONFLICT-16: Session already contains a scan (11) with the same UID and number.\n",
    "\n",
    "History\n",
    "\n",
    "02/12/2020 20:48:18\n",
    "Session already exists, retry with overwrite enabled"
   ]
  },
  {
   "cell_type": "code",
   "execution_count": 104,
   "metadata": {},
   "outputs": [
    {
     "name": "stderr",
     "output_type": "stream",
     "text": [
      "[2020-02-13 12:06:16,490] DEBUG: session:334 >> GET URI http://10.1.1.17/data/prearchive/projects?format=json\n",
      "[2020-02-13 12:06:16,511] DEBUG: session:307 >> Received response with status code: 200\n"
     ]
    },
    {
     "data": {
      "text/plain": [
       "[<PrearchiveSession BrainTumorProg_copy/20200212_204058544/PGM-002_MR_1>,\n",
       " <PrearchiveSession BrainTumorProg_copy/20200206_152623716/PGM_002_MR_1>,\n",
       " <PrearchiveSession BrainTumorProg_copy/20200207_144303310/PGM_002_MR_1>]"
      ]
     },
     "execution_count": 104,
     "metadata": {},
     "output_type": "execute_result"
    }
   ],
   "source": [
    "session.prearchive.sessions()"
   ]
  },
  {
   "cell_type": "markdown",
   "metadata": {},
   "source": [
    "#### Seems that the scan I'm trying to archive is now listed at the top (the first entry) whereas previously it was the third item.  \n",
    "\n",
    "#### This inconsistency is confusing.."
   ]
  },
  {
   "cell_type": "code",
   "execution_count": 105,
   "metadata": {},
   "outputs": [
    {
     "name": "stderr",
     "output_type": "stream",
     "text": [
      "[2020-02-13 12:08:21,450] DEBUG: session:334 >> GET URI http://10.1.1.17/data/prearchive/projects?format=json\n",
      "[2020-02-13 12:08:21,469] DEBUG: session:307 >> Received response with status code: 200\n"
     ]
    },
    {
     "data": {
      "text/plain": [
       "<PrearchiveSession BrainTumorProg_copy/20200212_204058544/PGM-002_MR_1>"
      ]
     },
     "execution_count": 105,
     "metadata": {},
     "output_type": "execute_result"
    }
   ],
   "source": [
    "session.prearchive.sessions()[0]"
   ]
  },
  {
   "cell_type": "code",
   "execution_count": 105,
   "metadata": {},
   "outputs": [
    {
     "name": "stderr",
     "output_type": "stream",
     "text": [
      "[2020-02-13 12:08:21,450] DEBUG: session:334 >> GET URI http://10.1.1.17/data/prearchive/projects?format=json\n",
      "[2020-02-13 12:08:21,469] DEBUG: session:307 >> Received response with status code: 200\n"
     ]
    },
    {
     "data": {
      "text/plain": [
       "<PrearchiveSession BrainTumorProg_copy/20200212_204058544/PGM-002_MR_1>"
      ]
     },
     "execution_count": 105,
     "metadata": {},
     "output_type": "execute_result"
    }
   ],
   "source": [
    "session.prearchive.sessions()[0]"
   ]
  },
  {
   "cell_type": "code",
   "execution_count": 106,
   "metadata": {},
   "outputs": [
    {
     "name": "stderr",
     "output_type": "stream",
     "text": [
      "[2020-02-13 12:15:50,716] DEBUG: session:334 >> GET URI http://10.1.1.17/data/prearchive/projects?format=json\n",
      "[2020-02-13 12:15:50,745] DEBUG: session:307 >> Received response with status code: 200\n",
      "[2020-02-13 12:15:50,746] DEBUG: session:391 >> POST URI http://10.1.1.17/data/services/archive?src=%2Fdata%2Fprearchive%2Fprojects%2FBrainTumorProg_copy%2F20200212_204058544%2FPGM_002_MR_1&subject=PGM-002_copy&session=PGM-002_copy_MR_2\n",
      "[2020-02-13 12:15:50,747] DEBUG: session:393 >> POST DATA None\n",
      "[2020-02-13 12:15:50,863] DEBUG: session:307 >> Received response with status code: 409\n"
     ]
    },
    {
     "ename": "XNATResponseError",
     "evalue": "Invalid response from XNATSession for url http://10.1.1.17/data/services/archive?src=%2Fdata%2Fprearchive%2Fprojects%2FBrainTumorProg_copy%2F20200212_204058544%2FPGM_002_MR_1&subject=PGM-002_copy&session=PGM-002_copy_MR_2 (status 409):\n<html>\n<head>\n   <title>Status page</title>\n</head>\n<body>\n<h3>Session already exists, retry with overwrite enabled</h3><p>You can get technical details <a href=\"http://www.w3.org/Protocols/rfc2616/rfc2616-sec10.html#sec10.4.10\">here</a>.<br>\nPlease continue your visit at our <a href=\"/\">home page</a>.\n</p>\n</body>\n</html>\n",
     "output_type": "error",
     "traceback": [
      "\u001b[1;31m---------------------------------------------------------------------------\u001b[0m",
      "\u001b[1;31mXNATResponseError\u001b[0m                         Traceback (most recent call last)",
      "\u001b[1;32m<ipython-input-106-fc8dd36be12e>\u001b[0m in \u001b[0;36m<module>\u001b[1;34m\u001b[0m\n\u001b[0;32m      3\u001b[0m \u001b[0mprearchive_session\u001b[0m \u001b[1;33m=\u001b[0m \u001b[0msession\u001b[0m\u001b[1;33m.\u001b[0m\u001b[0mprearchive\u001b[0m\u001b[1;33m.\u001b[0m\u001b[0msessions\u001b[0m\u001b[1;33m(\u001b[0m\u001b[1;33m)\u001b[0m\u001b[1;33m[\u001b[0m\u001b[1;36m0\u001b[0m\u001b[1;33m]\u001b[0m\u001b[1;33m\u001b[0m\u001b[1;33m\u001b[0m\u001b[0m\n\u001b[0;32m      4\u001b[0m \u001b[1;33m\u001b[0m\u001b[0m\n\u001b[1;32m----> 5\u001b[1;33m \u001b[0mexperiment\u001b[0m \u001b[1;33m=\u001b[0m \u001b[0mprearchive_session\u001b[0m\u001b[1;33m.\u001b[0m\u001b[0marchive\u001b[0m\u001b[1;33m(\u001b[0m\u001b[0msubject\u001b[0m\u001b[1;33m=\u001b[0m\u001b[0mnewSubjectName\u001b[0m\u001b[1;33m,\u001b[0m \u001b[0mexperiment\u001b[0m\u001b[1;33m=\u001b[0m\u001b[0mnewExperimentName\u001b[0m\u001b[1;33m)\u001b[0m\u001b[1;33m\u001b[0m\u001b[1;33m\u001b[0m\u001b[0m\n\u001b[0m",
      "\u001b[1;32m~\\Anaconda37\\lib\\site-packages\\xnat\\prearchive.py\u001b[0m in \u001b[0;36marchive\u001b[1;34m(self, overwrite, quarantine, trigger_pipelines, project, subject, experiment)\u001b[0m\n\u001b[0;32m    218\u001b[0m             \u001b[0mquery\u001b[0m\u001b[1;33m[\u001b[0m\u001b[1;34m'session'\u001b[0m\u001b[1;33m]\u001b[0m \u001b[1;33m=\u001b[0m \u001b[0mexperiment\u001b[0m\u001b[1;33m\u001b[0m\u001b[1;33m\u001b[0m\u001b[0m\n\u001b[0;32m    219\u001b[0m \u001b[1;33m\u001b[0m\u001b[0m\n\u001b[1;32m--> 220\u001b[1;33m         \u001b[0mresponse\u001b[0m \u001b[1;33m=\u001b[0m \u001b[0mself\u001b[0m\u001b[1;33m.\u001b[0m\u001b[0mxnat_session\u001b[0m\u001b[1;33m.\u001b[0m\u001b[0mpost\u001b[0m\u001b[1;33m(\u001b[0m\u001b[1;34m'/data/services/archive'\u001b[0m\u001b[1;33m,\u001b[0m \u001b[0mquery\u001b[0m\u001b[1;33m=\u001b[0m\u001b[0mquery\u001b[0m\u001b[1;33m)\u001b[0m\u001b[1;33m\u001b[0m\u001b[1;33m\u001b[0m\u001b[0m\n\u001b[0m\u001b[0;32m    221\u001b[0m         \u001b[0mobject_uri\u001b[0m \u001b[1;33m=\u001b[0m \u001b[0mresponse\u001b[0m\u001b[1;33m.\u001b[0m\u001b[0mtext\u001b[0m\u001b[1;33m.\u001b[0m\u001b[0mstrip\u001b[0m\u001b[1;33m(\u001b[0m\u001b[1;33m)\u001b[0m\u001b[1;33m\u001b[0m\u001b[1;33m\u001b[0m\u001b[0m\n\u001b[0;32m    222\u001b[0m \u001b[1;33m\u001b[0m\u001b[0m\n",
      "\u001b[1;32m~\\Anaconda37\\lib\\site-packages\\xnat\\session.py\u001b[0m in \u001b[0;36mpost\u001b[1;34m(self, path, data, json, format, query, accepted_status, timeout, headers)\u001b[0m\n\u001b[0;32m    397\u001b[0m         \u001b[1;32mexcept\u001b[0m \u001b[0mrequests\u001b[0m\u001b[1;33m.\u001b[0m\u001b[0mexceptions\u001b[0m\u001b[1;33m.\u001b[0m\u001b[0mSSLError\u001b[0m\u001b[1;33m:\u001b[0m\u001b[1;33m\u001b[0m\u001b[1;33m\u001b[0m\u001b[0m\n\u001b[0;32m    398\u001b[0m             \u001b[1;32mraise\u001b[0m \u001b[0mexceptions\u001b[0m\u001b[1;33m.\u001b[0m\u001b[0mXNATSSLError\u001b[0m\u001b[1;33m(\u001b[0m\u001b[1;34m'Encountered a problem with the SSL connection, are you sure the server is offering https?'\u001b[0m\u001b[1;33m)\u001b[0m\u001b[1;33m\u001b[0m\u001b[1;33m\u001b[0m\u001b[0m\n\u001b[1;32m--> 399\u001b[1;33m         \u001b[0mself\u001b[0m\u001b[1;33m.\u001b[0m\u001b[0m_check_response\u001b[0m\u001b[1;33m(\u001b[0m\u001b[0mresponse\u001b[0m\u001b[1;33m,\u001b[0m \u001b[0maccepted_status\u001b[0m\u001b[1;33m=\u001b[0m\u001b[0maccepted_status\u001b[0m\u001b[1;33m,\u001b[0m \u001b[0muri\u001b[0m\u001b[1;33m=\u001b[0m\u001b[0muri\u001b[0m\u001b[1;33m)\u001b[0m\u001b[1;33m\u001b[0m\u001b[1;33m\u001b[0m\u001b[0m\n\u001b[0m\u001b[0;32m    400\u001b[0m         \u001b[1;32mreturn\u001b[0m \u001b[0mresponse\u001b[0m\u001b[1;33m\u001b[0m\u001b[1;33m\u001b[0m\u001b[0m\n\u001b[0;32m    401\u001b[0m \u001b[1;33m\u001b[0m\u001b[0m\n",
      "\u001b[1;32m~\\Anaconda37\\lib\\site-packages\\xnat\\session.py\u001b[0m in \u001b[0;36m_check_response\u001b[1;34m(self, response, accepted_status, uri)\u001b[0m\n\u001b[0;32m    311\u001b[0m                 \u001b[0maccepted_status\u001b[0m \u001b[1;33m=\u001b[0m \u001b[1;33m[\u001b[0m\u001b[1;36m200\u001b[0m\u001b[1;33m,\u001b[0m \u001b[1;36m201\u001b[0m\u001b[1;33m,\u001b[0m \u001b[1;36m202\u001b[0m\u001b[1;33m,\u001b[0m \u001b[1;36m203\u001b[0m\u001b[1;33m,\u001b[0m \u001b[1;36m204\u001b[0m\u001b[1;33m,\u001b[0m \u001b[1;36m205\u001b[0m\u001b[1;33m,\u001b[0m \u001b[1;36m206\u001b[0m\u001b[1;33m]\u001b[0m  \u001b[1;31m# All successful responses of HTML\u001b[0m\u001b[1;33m\u001b[0m\u001b[1;33m\u001b[0m\u001b[0m\n\u001b[0;32m    312\u001b[0m             \u001b[1;32mif\u001b[0m \u001b[0mresponse\u001b[0m\u001b[1;33m.\u001b[0m\u001b[0mstatus_code\u001b[0m \u001b[1;32mnot\u001b[0m \u001b[1;32min\u001b[0m \u001b[0maccepted_status\u001b[0m \u001b[1;32mor\u001b[0m \u001b[1;33m(\u001b[0m\u001b[1;32mnot\u001b[0m \u001b[0mself\u001b[0m\u001b[1;33m.\u001b[0m\u001b[0mskip_response_content_check\u001b[0m \u001b[1;32mand\u001b[0m \u001b[0mresponse\u001b[0m\u001b[1;33m.\u001b[0m\u001b[0mtext\u001b[0m\u001b[1;33m.\u001b[0m\u001b[0mstartswith\u001b[0m\u001b[1;33m(\u001b[0m\u001b[1;33m(\u001b[0m\u001b[1;34m'<!DOCTYPE'\u001b[0m\u001b[1;33m,\u001b[0m \u001b[1;34m'<html>'\u001b[0m\u001b[1;33m)\u001b[0m\u001b[1;33m)\u001b[0m\u001b[1;33m)\u001b[0m\u001b[1;33m:\u001b[0m\u001b[1;33m\u001b[0m\u001b[1;33m\u001b[0m\u001b[0m\n\u001b[1;32m--> 313\u001b[1;33m                 \u001b[1;32mraise\u001b[0m \u001b[0mexceptions\u001b[0m\u001b[1;33m.\u001b[0m\u001b[0mXNATResponseError\u001b[0m\u001b[1;33m(\u001b[0m\u001b[1;34m'Invalid response from XNATSession for url {} (status {}):\\n{}'\u001b[0m\u001b[1;33m.\u001b[0m\u001b[0mformat\u001b[0m\u001b[1;33m(\u001b[0m\u001b[0muri\u001b[0m\u001b[1;33m,\u001b[0m \u001b[0mresponse\u001b[0m\u001b[1;33m.\u001b[0m\u001b[0mstatus_code\u001b[0m\u001b[1;33m,\u001b[0m \u001b[0mresponse\u001b[0m\u001b[1;33m.\u001b[0m\u001b[0mtext\u001b[0m\u001b[1;33m)\u001b[0m\u001b[1;33m)\u001b[0m\u001b[1;33m\u001b[0m\u001b[1;33m\u001b[0m\u001b[0m\n\u001b[0m\u001b[0;32m    314\u001b[0m \u001b[1;33m\u001b[0m\u001b[0m\n\u001b[0;32m    315\u001b[0m     \u001b[1;32mdef\u001b[0m \u001b[0mget\u001b[0m\u001b[1;33m(\u001b[0m\u001b[0mself\u001b[0m\u001b[1;33m,\u001b[0m \u001b[0mpath\u001b[0m\u001b[1;33m,\u001b[0m \u001b[0mformat\u001b[0m\u001b[1;33m=\u001b[0m\u001b[1;32mNone\u001b[0m\u001b[1;33m,\u001b[0m \u001b[0mquery\u001b[0m\u001b[1;33m=\u001b[0m\u001b[1;32mNone\u001b[0m\u001b[1;33m,\u001b[0m \u001b[0maccepted_status\u001b[0m\u001b[1;33m=\u001b[0m\u001b[1;32mNone\u001b[0m\u001b[1;33m,\u001b[0m \u001b[0mtimeout\u001b[0m\u001b[1;33m=\u001b[0m\u001b[1;32mNone\u001b[0m\u001b[1;33m,\u001b[0m \u001b[0mheaders\u001b[0m\u001b[1;33m=\u001b[0m\u001b[1;32mNone\u001b[0m\u001b[1;33m)\u001b[0m\u001b[1;33m:\u001b[0m\u001b[1;33m\u001b[0m\u001b[1;33m\u001b[0m\u001b[0m\n",
      "\u001b[1;31mXNATResponseError\u001b[0m: Invalid response from XNATSession for url http://10.1.1.17/data/services/archive?src=%2Fdata%2Fprearchive%2Fprojects%2FBrainTumorProg_copy%2F20200212_204058544%2FPGM_002_MR_1&subject=PGM-002_copy&session=PGM-002_copy_MR_2 (status 409):\n<html>\n<head>\n   <title>Status page</title>\n</head>\n<body>\n<h3>Session already exists, retry with overwrite enabled</h3><p>You can get technical details <a href=\"http://www.w3.org/Protocols/rfc2616/rfc2616-sec10.html#sec10.4.10\">here</a>.<br>\nPlease continue your visit at our <a href=\"/\">home page</a>.\n</p>\n</body>\n</html>\n"
     ]
    }
   ],
   "source": [
    "# That's the one I want to archive. So archive the first entry only:\n",
    "\n",
    "prearchive_session = session.prearchive.sessions()[0]\n",
    "\n",
    "experiment = prearchive_session.archive(subject=newSubjectName, experiment=newExperimentName)"
   ]
  },
  {
   "cell_type": "markdown",
   "metadata": {},
   "source": [
    "#### I got the same conflict mesesage"
   ]
  },
  {
   "cell_type": "code",
   "execution_count": 107,
   "metadata": {},
   "outputs": [
    {
     "data": {
      "text/plain": [
       "<PrearchiveSession BrainTumorProg_copy/20200212_204058544/PGM-002_MR_1>"
      ]
     },
     "execution_count": 107,
     "metadata": {},
     "output_type": "execute_result"
    }
   ],
   "source": [
    "prearchive_session"
   ]
  },
  {
   "cell_type": "code",
   "execution_count": 108,
   "metadata": {},
   "outputs": [
    {
     "name": "stderr",
     "output_type": "stream",
     "text": [
      "[2020-02-13 12:25:19,209] DEBUG: session:391 >> POST URI http://10.1.1.17/data/services/archive?src=%2Fdata%2Fprearchive%2Fprojects%2FBrainTumorProg_copy%2F20200212_204058544%2FPGM_002_MR_1&overwrite=append&subject=PGM-002_copy&session=PGM-002_copy_MR_2\n",
      "[2020-02-13 12:25:19,209] DEBUG: session:393 >> POST DATA None\n",
      "[2020-02-13 12:25:19,593] DEBUG: session:307 >> Received response with status code: 200\n",
      "[2020-02-13 12:25:19,594] DEBUG: session:738 >> Type unknown, fetching data to get type\n",
      "[2020-02-13 12:25:19,594] DEBUG: session:334 >> GET URI http://10.1.1.17/data/archive/projects/BrainTumorProg_copy/subjects/PGM-002_copy/experiments/PGM-002_copy_MR_2?format=json\n",
      "[2020-02-13 12:25:19,781] DEBUG: session:307 >> Received response with status code: 200\n",
      "[2020-02-13 12:25:19,782] DEBUG: session:746 >> Looking up type xnat:mrSessionData [str]\n",
      "[2020-02-13 12:25:19,785] DEBUG: session:753 >> Creating object of type <class 'xnat_gen_540681bf052587e8ba9fee53609ca631.MrSessionData'>\n"
     ]
    }
   ],
   "source": [
    "# Try again but this time using the overwrite input\n",
    "\n",
    "experiment = prearchive_session.archive(subject=newSubjectName, experiment=newExperimentName, overwrite='append')"
   ]
  },
  {
   "cell_type": "markdown",
   "metadata": {},
   "source": [
    "#### So that seems to have avoided the conflict error but I was expecting the second scan to be included in the same collection as the first one that I uploaded.\n",
    "\n",
    "#### Instead it's been added to a new experiment with a different label (PGM-002_copy_MR_2).  \n",
    "\n",
    "##### Experiments "
   ]
  },
  {
   "cell_type": "markdown",
   "metadata": {},
   "source": [
    "Date          Experiment        Project                Label \n",
    "\n",
    "1996-08-13    MR Session        BrainTumorProg_copy    PGM-002_copy_MR_2\n",
    "              Auto QC           BrainTumorProg_copy    ROI_tumour\n",
    "              Auto QC           BrainTumorProg_copy    ROI_tumour_2\n",
    "1996-08-13    MR Session        BrainTumorProg_copy    PGM-002_MR_1"
   ]
  },
  {
   "cell_type": "code",
   "execution_count": 111,
   "metadata": {},
   "outputs": [
    {
     "data": {
      "text/plain": [
       "'BrainTumorProg_copy'"
      ]
     },
     "execution_count": 111,
     "metadata": {},
     "output_type": "execute_result"
    }
   ],
   "source": [
    "newProjectName"
   ]
  },
  {
   "cell_type": "code",
   "execution_count": 109,
   "metadata": {},
   "outputs": [
    {
     "data": {
      "text/plain": [
       "'PGM-002_copy'"
      ]
     },
     "execution_count": 109,
     "metadata": {},
     "output_type": "execute_result"
    }
   ],
   "source": [
    "newSubjectName"
   ]
  },
  {
   "cell_type": "code",
   "execution_count": 110,
   "metadata": {},
   "outputs": [
    {
     "data": {
      "text/plain": [
       "'PGM-002_copy_MR_2'"
      ]
     },
     "execution_count": 110,
     "metadata": {},
     "output_type": "execute_result"
    }
   ],
   "source": [
    "newExperimentName"
   ]
  },
  {
   "cell_type": "markdown",
   "metadata": {},
   "source": [
    "#### So it seems that the scan that I moved to the archive using the web interface was assigned to a different experiment (PGM-002_MR_1) instead of the one defined by newExperimentName (PGM-002_copy_MR_2)."
   ]
  },
  {
   "cell_type": "code",
   "execution_count": 112,
   "metadata": {},
   "outputs": [
    {
     "name": "stderr",
     "output_type": "stream",
     "text": [
      "[2020-02-13 12:45:37,317] DEBUG: session:661 >> UPLOAD URI http://10.1.1.17/data/services/import?dest=%2Fprearchive&project=BrainTumorProg_copy\n",
      "[2020-02-13 12:45:37,966] DEBUG: session:307 >> Received response with status code: 200\n"
     ]
    }
   ],
   "source": [
    "# Try again with uploading the second DICOM scan to the prearchive:\n",
    "\n",
    "prearchive_session = session.services.import_(dicomsFpaths[1], \\\n",
    "                                              project=newProjectName, \\\n",
    "                                              destination='/prearchive')"
   ]
  },
  {
   "cell_type": "code",
   "execution_count": 113,
   "metadata": {},
   "outputs": [
    {
     "name": "stderr",
     "output_type": "stream",
     "text": [
      "[2020-02-13 12:46:25,832] DEBUG: session:391 >> POST URI http://10.1.1.17/data/services/archive?src=%2Fdata%2Fprearchive%2Fprojects%2FBrainTumorProg_copy%2F20200212_213423578%2FPGM_002_MR_1&overwrite=append&subject=PGM-002_copy&session=PGM-002_MR_1\n",
      "[2020-02-13 12:46:25,832] DEBUG: session:393 >> POST DATA None\n",
      "[2020-02-13 12:46:25,942] DEBUG: session:307 >> Received response with status code: 409\n"
     ]
    },
    {
     "ename": "XNATResponseError",
     "evalue": "Invalid response from XNATSession for url http://10.1.1.17/data/services/archive?src=%2Fdata%2Fprearchive%2Fprojects%2FBrainTumorProg_copy%2F20200212_213423578%2FPGM_002_MR_1&overwrite=append&subject=PGM-002_copy&session=PGM-002_MR_1 (status 409):\n<html>\n<head>\n   <title>Status page</title>\n</head>\n<body>\n<h3>Session already exists with matching files.</h3><p>You can get technical details <a href=\"http://www.w3.org/Protocols/rfc2616/rfc2616-sec10.html#sec10.4.10\">here</a>.<br>\nPlease continue your visit at our <a href=\"/\">home page</a>.\n</p>\n</body>\n</html>\n",
     "output_type": "error",
     "traceback": [
      "\u001b[1;31m---------------------------------------------------------------------------\u001b[0m",
      "\u001b[1;31mXNATResponseError\u001b[0m                         Traceback (most recent call last)",
      "\u001b[1;32m<ipython-input-113-d7184f049025>\u001b[0m in \u001b[0;36m<module>\u001b[1;34m\u001b[0m\n\u001b[0;32m      1\u001b[0m \u001b[1;31m# Try again but this time using the overwrite input but this time adding it to the experiment PGM-002_MR_1:\u001b[0m\u001b[1;33m\u001b[0m\u001b[1;33m\u001b[0m\u001b[1;33m\u001b[0m\u001b[0m\n\u001b[0;32m      2\u001b[0m \u001b[1;33m\u001b[0m\u001b[0m\n\u001b[1;32m----> 3\u001b[1;33m \u001b[0mexperiment\u001b[0m \u001b[1;33m=\u001b[0m \u001b[0mprearchive_session\u001b[0m\u001b[1;33m.\u001b[0m\u001b[0marchive\u001b[0m\u001b[1;33m(\u001b[0m\u001b[0msubject\u001b[0m\u001b[1;33m=\u001b[0m\u001b[0mnewSubjectName\u001b[0m\u001b[1;33m,\u001b[0m \u001b[0mexperiment\u001b[0m\u001b[1;33m=\u001b[0m\u001b[1;34m'PGM-002_MR_1'\u001b[0m\u001b[1;33m,\u001b[0m \u001b[0moverwrite\u001b[0m\u001b[1;33m=\u001b[0m\u001b[1;34m'append'\u001b[0m\u001b[1;33m)\u001b[0m\u001b[1;33m\u001b[0m\u001b[1;33m\u001b[0m\u001b[0m\n\u001b[0m",
      "\u001b[1;32m~\\Anaconda37\\lib\\site-packages\\xnat\\prearchive.py\u001b[0m in \u001b[0;36marchive\u001b[1;34m(self, overwrite, quarantine, trigger_pipelines, project, subject, experiment)\u001b[0m\n\u001b[0;32m    218\u001b[0m             \u001b[0mquery\u001b[0m\u001b[1;33m[\u001b[0m\u001b[1;34m'session'\u001b[0m\u001b[1;33m]\u001b[0m \u001b[1;33m=\u001b[0m \u001b[0mexperiment\u001b[0m\u001b[1;33m\u001b[0m\u001b[1;33m\u001b[0m\u001b[0m\n\u001b[0;32m    219\u001b[0m \u001b[1;33m\u001b[0m\u001b[0m\n\u001b[1;32m--> 220\u001b[1;33m         \u001b[0mresponse\u001b[0m \u001b[1;33m=\u001b[0m \u001b[0mself\u001b[0m\u001b[1;33m.\u001b[0m\u001b[0mxnat_session\u001b[0m\u001b[1;33m.\u001b[0m\u001b[0mpost\u001b[0m\u001b[1;33m(\u001b[0m\u001b[1;34m'/data/services/archive'\u001b[0m\u001b[1;33m,\u001b[0m \u001b[0mquery\u001b[0m\u001b[1;33m=\u001b[0m\u001b[0mquery\u001b[0m\u001b[1;33m)\u001b[0m\u001b[1;33m\u001b[0m\u001b[1;33m\u001b[0m\u001b[0m\n\u001b[0m\u001b[0;32m    221\u001b[0m         \u001b[0mobject_uri\u001b[0m \u001b[1;33m=\u001b[0m \u001b[0mresponse\u001b[0m\u001b[1;33m.\u001b[0m\u001b[0mtext\u001b[0m\u001b[1;33m.\u001b[0m\u001b[0mstrip\u001b[0m\u001b[1;33m(\u001b[0m\u001b[1;33m)\u001b[0m\u001b[1;33m\u001b[0m\u001b[1;33m\u001b[0m\u001b[0m\n\u001b[0;32m    222\u001b[0m \u001b[1;33m\u001b[0m\u001b[0m\n",
      "\u001b[1;32m~\\Anaconda37\\lib\\site-packages\\xnat\\session.py\u001b[0m in \u001b[0;36mpost\u001b[1;34m(self, path, data, json, format, query, accepted_status, timeout, headers)\u001b[0m\n\u001b[0;32m    397\u001b[0m         \u001b[1;32mexcept\u001b[0m \u001b[0mrequests\u001b[0m\u001b[1;33m.\u001b[0m\u001b[0mexceptions\u001b[0m\u001b[1;33m.\u001b[0m\u001b[0mSSLError\u001b[0m\u001b[1;33m:\u001b[0m\u001b[1;33m\u001b[0m\u001b[1;33m\u001b[0m\u001b[0m\n\u001b[0;32m    398\u001b[0m             \u001b[1;32mraise\u001b[0m \u001b[0mexceptions\u001b[0m\u001b[1;33m.\u001b[0m\u001b[0mXNATSSLError\u001b[0m\u001b[1;33m(\u001b[0m\u001b[1;34m'Encountered a problem with the SSL connection, are you sure the server is offering https?'\u001b[0m\u001b[1;33m)\u001b[0m\u001b[1;33m\u001b[0m\u001b[1;33m\u001b[0m\u001b[0m\n\u001b[1;32m--> 399\u001b[1;33m         \u001b[0mself\u001b[0m\u001b[1;33m.\u001b[0m\u001b[0m_check_response\u001b[0m\u001b[1;33m(\u001b[0m\u001b[0mresponse\u001b[0m\u001b[1;33m,\u001b[0m \u001b[0maccepted_status\u001b[0m\u001b[1;33m=\u001b[0m\u001b[0maccepted_status\u001b[0m\u001b[1;33m,\u001b[0m \u001b[0muri\u001b[0m\u001b[1;33m=\u001b[0m\u001b[0muri\u001b[0m\u001b[1;33m)\u001b[0m\u001b[1;33m\u001b[0m\u001b[1;33m\u001b[0m\u001b[0m\n\u001b[0m\u001b[0;32m    400\u001b[0m         \u001b[1;32mreturn\u001b[0m \u001b[0mresponse\u001b[0m\u001b[1;33m\u001b[0m\u001b[1;33m\u001b[0m\u001b[0m\n\u001b[0;32m    401\u001b[0m \u001b[1;33m\u001b[0m\u001b[0m\n",
      "\u001b[1;32m~\\Anaconda37\\lib\\site-packages\\xnat\\session.py\u001b[0m in \u001b[0;36m_check_response\u001b[1;34m(self, response, accepted_status, uri)\u001b[0m\n\u001b[0;32m    311\u001b[0m                 \u001b[0maccepted_status\u001b[0m \u001b[1;33m=\u001b[0m \u001b[1;33m[\u001b[0m\u001b[1;36m200\u001b[0m\u001b[1;33m,\u001b[0m \u001b[1;36m201\u001b[0m\u001b[1;33m,\u001b[0m \u001b[1;36m202\u001b[0m\u001b[1;33m,\u001b[0m \u001b[1;36m203\u001b[0m\u001b[1;33m,\u001b[0m \u001b[1;36m204\u001b[0m\u001b[1;33m,\u001b[0m \u001b[1;36m205\u001b[0m\u001b[1;33m,\u001b[0m \u001b[1;36m206\u001b[0m\u001b[1;33m]\u001b[0m  \u001b[1;31m# All successful responses of HTML\u001b[0m\u001b[1;33m\u001b[0m\u001b[1;33m\u001b[0m\u001b[0m\n\u001b[0;32m    312\u001b[0m             \u001b[1;32mif\u001b[0m \u001b[0mresponse\u001b[0m\u001b[1;33m.\u001b[0m\u001b[0mstatus_code\u001b[0m \u001b[1;32mnot\u001b[0m \u001b[1;32min\u001b[0m \u001b[0maccepted_status\u001b[0m \u001b[1;32mor\u001b[0m \u001b[1;33m(\u001b[0m\u001b[1;32mnot\u001b[0m \u001b[0mself\u001b[0m\u001b[1;33m.\u001b[0m\u001b[0mskip_response_content_check\u001b[0m \u001b[1;32mand\u001b[0m \u001b[0mresponse\u001b[0m\u001b[1;33m.\u001b[0m\u001b[0mtext\u001b[0m\u001b[1;33m.\u001b[0m\u001b[0mstartswith\u001b[0m\u001b[1;33m(\u001b[0m\u001b[1;33m(\u001b[0m\u001b[1;34m'<!DOCTYPE'\u001b[0m\u001b[1;33m,\u001b[0m \u001b[1;34m'<html>'\u001b[0m\u001b[1;33m)\u001b[0m\u001b[1;33m)\u001b[0m\u001b[1;33m)\u001b[0m\u001b[1;33m:\u001b[0m\u001b[1;33m\u001b[0m\u001b[1;33m\u001b[0m\u001b[0m\n\u001b[1;32m--> 313\u001b[1;33m                 \u001b[1;32mraise\u001b[0m \u001b[0mexceptions\u001b[0m\u001b[1;33m.\u001b[0m\u001b[0mXNATResponseError\u001b[0m\u001b[1;33m(\u001b[0m\u001b[1;34m'Invalid response from XNATSession for url {} (status {}):\\n{}'\u001b[0m\u001b[1;33m.\u001b[0m\u001b[0mformat\u001b[0m\u001b[1;33m(\u001b[0m\u001b[0muri\u001b[0m\u001b[1;33m,\u001b[0m \u001b[0mresponse\u001b[0m\u001b[1;33m.\u001b[0m\u001b[0mstatus_code\u001b[0m\u001b[1;33m,\u001b[0m \u001b[0mresponse\u001b[0m\u001b[1;33m.\u001b[0m\u001b[0mtext\u001b[0m\u001b[1;33m)\u001b[0m\u001b[1;33m)\u001b[0m\u001b[1;33m\u001b[0m\u001b[1;33m\u001b[0m\u001b[0m\n\u001b[0m\u001b[0;32m    314\u001b[0m \u001b[1;33m\u001b[0m\u001b[0m\n\u001b[0;32m    315\u001b[0m     \u001b[1;32mdef\u001b[0m \u001b[0mget\u001b[0m\u001b[1;33m(\u001b[0m\u001b[0mself\u001b[0m\u001b[1;33m,\u001b[0m \u001b[0mpath\u001b[0m\u001b[1;33m,\u001b[0m \u001b[0mformat\u001b[0m\u001b[1;33m=\u001b[0m\u001b[1;32mNone\u001b[0m\u001b[1;33m,\u001b[0m \u001b[0mquery\u001b[0m\u001b[1;33m=\u001b[0m\u001b[1;32mNone\u001b[0m\u001b[1;33m,\u001b[0m \u001b[0maccepted_status\u001b[0m\u001b[1;33m=\u001b[0m\u001b[1;32mNone\u001b[0m\u001b[1;33m,\u001b[0m \u001b[0mtimeout\u001b[0m\u001b[1;33m=\u001b[0m\u001b[1;32mNone\u001b[0m\u001b[1;33m,\u001b[0m \u001b[0mheaders\u001b[0m\u001b[1;33m=\u001b[0m\u001b[1;32mNone\u001b[0m\u001b[1;33m)\u001b[0m\u001b[1;33m:\u001b[0m\u001b[1;33m\u001b[0m\u001b[1;33m\u001b[0m\u001b[0m\n",
      "\u001b[1;31mXNATResponseError\u001b[0m: Invalid response from XNATSession for url http://10.1.1.17/data/services/archive?src=%2Fdata%2Fprearchive%2Fprojects%2FBrainTumorProg_copy%2F20200212_213423578%2FPGM_002_MR_1&overwrite=append&subject=PGM-002_copy&session=PGM-002_MR_1 (status 409):\n<html>\n<head>\n   <title>Status page</title>\n</head>\n<body>\n<h3>Session already exists with matching files.</h3><p>You can get technical details <a href=\"http://www.w3.org/Protocols/rfc2616/rfc2616-sec10.html#sec10.4.10\">here</a>.<br>\nPlease continue your visit at our <a href=\"/\">home page</a>.\n</p>\n</body>\n</html>\n"
     ]
    }
   ],
   "source": [
    "# Try again but this time using the overwrite input but this time adding it to the experiment PGM-002_MR_1:\n",
    "\n",
    "experiment = prearchive_session.archive(subject=newSubjectName, experiment='PGM-002_MR_1', overwrite='append')"
   ]
  },
  {
   "cell_type": "markdown",
   "metadata": {},
   "source": [
    "#### I received another conflict error:\n",
    "\n",
    "FAIL-4: Invalid modification of session subject via archive process.: PGM-002_MR_1 Already Exists for another Subject\n",
    "CONFLICT-14: Session already exists with matching files.\n",
    "CONFLICT-16: Session already contains a scan (11) with the same UID and number.\n",
    "\n",
    "History\n",
    "\n",
    "02/12/2020 21:35:16\n",
    "Session already exists with matching files.\n",
    "\n",
    "#### Maybe because I forgot to select which file in the prearchive to archive!"
   ]
  },
  {
   "cell_type": "code",
   "execution_count": 115,
   "metadata": {},
   "outputs": [
    {
     "name": "stderr",
     "output_type": "stream",
     "text": [
      "[2020-02-13 12:51:49,982] DEBUG: session:334 >> GET URI http://10.1.1.17/data/prearchive/projects?format=json\n",
      "[2020-02-13 12:51:50,005] DEBUG: session:307 >> Received response with status code: 200\n",
      "[2020-02-13 12:51:50,006] DEBUG: session:334 >> GET URI http://10.1.1.17/data/prearchive/projects/BrainTumorProg_copy/20200212_213423578/PGM_002_MR_1?format=json\n",
      "[2020-02-13 12:51:50,027] DEBUG: session:307 >> Received response with status code: 200\n"
     ]
    },
    {
     "data": {
      "text/plain": [
       "[<PrearchiveSession BrainTumorProg_copy/20200206_152623716/PGM_002_MR_1>,\n",
       " <PrearchiveSession BrainTumorProg_copy/20200207_144303310/PGM_002_MR_1>,\n",
       " <PrearchiveSession BrainTumorProg_copy/20200212_213423578/PGM-002_MR_1>]"
      ]
     },
     "execution_count": 115,
     "metadata": {},
     "output_type": "execute_result"
    }
   ],
   "source": [
    "# Get a list of sessions waiting for archiving:\n",
    "\n",
    "session.prearchive.sessions()"
   ]
  },
  {
   "cell_type": "code",
   "execution_count": 116,
   "metadata": {},
   "outputs": [
    {
     "name": "stderr",
     "output_type": "stream",
     "text": [
      "[2020-02-13 12:55:56,027] DEBUG: session:334 >> GET URI http://10.1.1.17/data/prearchive/projects?format=json\n",
      "[2020-02-13 12:55:56,050] DEBUG: session:307 >> Received response with status code: 200\n"
     ]
    },
    {
     "data": {
      "text/plain": [
       "<PrearchiveSession BrainTumorProg_copy/20200212_213423578/PGM-002_MR_1>"
      ]
     },
     "execution_count": 116,
     "metadata": {},
     "output_type": "execute_result"
    }
   ],
   "source": [
    "session.prearchive.sessions()[2]"
   ]
  },
  {
   "cell_type": "code",
   "execution_count": 117,
   "metadata": {},
   "outputs": [
    {
     "name": "stderr",
     "output_type": "stream",
     "text": [
      "[2020-02-13 12:57:31,318] DEBUG: session:334 >> GET URI http://10.1.1.17/data/prearchive/projects?format=json\n",
      "[2020-02-13 12:57:31,341] DEBUG: session:307 >> Received response with status code: 200\n",
      "[2020-02-13 12:57:31,342] DEBUG: session:391 >> POST URI http://10.1.1.17/data/services/archive?src=%2Fdata%2Fprearchive%2Fprojects%2FBrainTumorProg_copy%2F20200212_213423578%2FPGM_002_MR_1&overwrite=append&subject=PGM-002_copy&session=PGM-002_MR_1\n",
      "[2020-02-13 12:57:31,343] DEBUG: session:393 >> POST DATA None\n",
      "[2020-02-13 12:57:31,422] DEBUG: session:307 >> Received response with status code: 409\n"
     ]
    },
    {
     "ename": "XNATResponseError",
     "evalue": "Invalid response from XNATSession for url http://10.1.1.17/data/services/archive?src=%2Fdata%2Fprearchive%2Fprojects%2FBrainTumorProg_copy%2F20200212_213423578%2FPGM_002_MR_1&overwrite=append&subject=PGM-002_copy&session=PGM-002_MR_1 (status 409):\n<html>\n<head>\n   <title>Status page</title>\n</head>\n<body>\n<h3>Session already exists with matching files.</h3><p>You can get technical details <a href=\"http://www.w3.org/Protocols/rfc2616/rfc2616-sec10.html#sec10.4.10\">here</a>.<br>\nPlease continue your visit at our <a href=\"/\">home page</a>.\n</p>\n</body>\n</html>\n",
     "output_type": "error",
     "traceback": [
      "\u001b[1;31m---------------------------------------------------------------------------\u001b[0m",
      "\u001b[1;31mXNATResponseError\u001b[0m                         Traceback (most recent call last)",
      "\u001b[1;32m<ipython-input-117-803c1f71caf1>\u001b[0m in \u001b[0;36m<module>\u001b[1;34m\u001b[0m\n\u001b[0;32m      1\u001b[0m \u001b[1;31m# Try again this time selecting the correct file to archive:\u001b[0m\u001b[1;33m\u001b[0m\u001b[1;33m\u001b[0m\u001b[1;33m\u001b[0m\u001b[0m\n\u001b[0;32m      2\u001b[0m \u001b[1;33m\u001b[0m\u001b[0m\n\u001b[1;32m----> 3\u001b[1;33m \u001b[0msession\u001b[0m\u001b[1;33m.\u001b[0m\u001b[0mprearchive\u001b[0m\u001b[1;33m.\u001b[0m\u001b[0msessions\u001b[0m\u001b[1;33m(\u001b[0m\u001b[1;33m)\u001b[0m\u001b[1;33m[\u001b[0m\u001b[1;36m2\u001b[0m\u001b[1;33m]\u001b[0m\u001b[1;33m.\u001b[0m\u001b[0marchive\u001b[0m\u001b[1;33m(\u001b[0m\u001b[0msubject\u001b[0m\u001b[1;33m=\u001b[0m\u001b[0mnewSubjectName\u001b[0m\u001b[1;33m,\u001b[0m \u001b[0mexperiment\u001b[0m\u001b[1;33m=\u001b[0m\u001b[1;34m'PGM-002_MR_1'\u001b[0m\u001b[1;33m,\u001b[0m \u001b[0moverwrite\u001b[0m\u001b[1;33m=\u001b[0m\u001b[1;34m'append'\u001b[0m\u001b[1;33m)\u001b[0m\u001b[1;33m\u001b[0m\u001b[1;33m\u001b[0m\u001b[0m\n\u001b[0m",
      "\u001b[1;32m~\\Anaconda37\\lib\\site-packages\\xnat\\prearchive.py\u001b[0m in \u001b[0;36marchive\u001b[1;34m(self, overwrite, quarantine, trigger_pipelines, project, subject, experiment)\u001b[0m\n\u001b[0;32m    218\u001b[0m             \u001b[0mquery\u001b[0m\u001b[1;33m[\u001b[0m\u001b[1;34m'session'\u001b[0m\u001b[1;33m]\u001b[0m \u001b[1;33m=\u001b[0m \u001b[0mexperiment\u001b[0m\u001b[1;33m\u001b[0m\u001b[1;33m\u001b[0m\u001b[0m\n\u001b[0;32m    219\u001b[0m \u001b[1;33m\u001b[0m\u001b[0m\n\u001b[1;32m--> 220\u001b[1;33m         \u001b[0mresponse\u001b[0m \u001b[1;33m=\u001b[0m \u001b[0mself\u001b[0m\u001b[1;33m.\u001b[0m\u001b[0mxnat_session\u001b[0m\u001b[1;33m.\u001b[0m\u001b[0mpost\u001b[0m\u001b[1;33m(\u001b[0m\u001b[1;34m'/data/services/archive'\u001b[0m\u001b[1;33m,\u001b[0m \u001b[0mquery\u001b[0m\u001b[1;33m=\u001b[0m\u001b[0mquery\u001b[0m\u001b[1;33m)\u001b[0m\u001b[1;33m\u001b[0m\u001b[1;33m\u001b[0m\u001b[0m\n\u001b[0m\u001b[0;32m    221\u001b[0m         \u001b[0mobject_uri\u001b[0m \u001b[1;33m=\u001b[0m \u001b[0mresponse\u001b[0m\u001b[1;33m.\u001b[0m\u001b[0mtext\u001b[0m\u001b[1;33m.\u001b[0m\u001b[0mstrip\u001b[0m\u001b[1;33m(\u001b[0m\u001b[1;33m)\u001b[0m\u001b[1;33m\u001b[0m\u001b[1;33m\u001b[0m\u001b[0m\n\u001b[0;32m    222\u001b[0m \u001b[1;33m\u001b[0m\u001b[0m\n",
      "\u001b[1;32m~\\Anaconda37\\lib\\site-packages\\xnat\\session.py\u001b[0m in \u001b[0;36mpost\u001b[1;34m(self, path, data, json, format, query, accepted_status, timeout, headers)\u001b[0m\n\u001b[0;32m    397\u001b[0m         \u001b[1;32mexcept\u001b[0m \u001b[0mrequests\u001b[0m\u001b[1;33m.\u001b[0m\u001b[0mexceptions\u001b[0m\u001b[1;33m.\u001b[0m\u001b[0mSSLError\u001b[0m\u001b[1;33m:\u001b[0m\u001b[1;33m\u001b[0m\u001b[1;33m\u001b[0m\u001b[0m\n\u001b[0;32m    398\u001b[0m             \u001b[1;32mraise\u001b[0m \u001b[0mexceptions\u001b[0m\u001b[1;33m.\u001b[0m\u001b[0mXNATSSLError\u001b[0m\u001b[1;33m(\u001b[0m\u001b[1;34m'Encountered a problem with the SSL connection, are you sure the server is offering https?'\u001b[0m\u001b[1;33m)\u001b[0m\u001b[1;33m\u001b[0m\u001b[1;33m\u001b[0m\u001b[0m\n\u001b[1;32m--> 399\u001b[1;33m         \u001b[0mself\u001b[0m\u001b[1;33m.\u001b[0m\u001b[0m_check_response\u001b[0m\u001b[1;33m(\u001b[0m\u001b[0mresponse\u001b[0m\u001b[1;33m,\u001b[0m \u001b[0maccepted_status\u001b[0m\u001b[1;33m=\u001b[0m\u001b[0maccepted_status\u001b[0m\u001b[1;33m,\u001b[0m \u001b[0muri\u001b[0m\u001b[1;33m=\u001b[0m\u001b[0muri\u001b[0m\u001b[1;33m)\u001b[0m\u001b[1;33m\u001b[0m\u001b[1;33m\u001b[0m\u001b[0m\n\u001b[0m\u001b[0;32m    400\u001b[0m         \u001b[1;32mreturn\u001b[0m \u001b[0mresponse\u001b[0m\u001b[1;33m\u001b[0m\u001b[1;33m\u001b[0m\u001b[0m\n\u001b[0;32m    401\u001b[0m \u001b[1;33m\u001b[0m\u001b[0m\n",
      "\u001b[1;32m~\\Anaconda37\\lib\\site-packages\\xnat\\session.py\u001b[0m in \u001b[0;36m_check_response\u001b[1;34m(self, response, accepted_status, uri)\u001b[0m\n\u001b[0;32m    311\u001b[0m                 \u001b[0maccepted_status\u001b[0m \u001b[1;33m=\u001b[0m \u001b[1;33m[\u001b[0m\u001b[1;36m200\u001b[0m\u001b[1;33m,\u001b[0m \u001b[1;36m201\u001b[0m\u001b[1;33m,\u001b[0m \u001b[1;36m202\u001b[0m\u001b[1;33m,\u001b[0m \u001b[1;36m203\u001b[0m\u001b[1;33m,\u001b[0m \u001b[1;36m204\u001b[0m\u001b[1;33m,\u001b[0m \u001b[1;36m205\u001b[0m\u001b[1;33m,\u001b[0m \u001b[1;36m206\u001b[0m\u001b[1;33m]\u001b[0m  \u001b[1;31m# All successful responses of HTML\u001b[0m\u001b[1;33m\u001b[0m\u001b[1;33m\u001b[0m\u001b[0m\n\u001b[0;32m    312\u001b[0m             \u001b[1;32mif\u001b[0m \u001b[0mresponse\u001b[0m\u001b[1;33m.\u001b[0m\u001b[0mstatus_code\u001b[0m \u001b[1;32mnot\u001b[0m \u001b[1;32min\u001b[0m \u001b[0maccepted_status\u001b[0m \u001b[1;32mor\u001b[0m \u001b[1;33m(\u001b[0m\u001b[1;32mnot\u001b[0m \u001b[0mself\u001b[0m\u001b[1;33m.\u001b[0m\u001b[0mskip_response_content_check\u001b[0m \u001b[1;32mand\u001b[0m \u001b[0mresponse\u001b[0m\u001b[1;33m.\u001b[0m\u001b[0mtext\u001b[0m\u001b[1;33m.\u001b[0m\u001b[0mstartswith\u001b[0m\u001b[1;33m(\u001b[0m\u001b[1;33m(\u001b[0m\u001b[1;34m'<!DOCTYPE'\u001b[0m\u001b[1;33m,\u001b[0m \u001b[1;34m'<html>'\u001b[0m\u001b[1;33m)\u001b[0m\u001b[1;33m)\u001b[0m\u001b[1;33m)\u001b[0m\u001b[1;33m:\u001b[0m\u001b[1;33m\u001b[0m\u001b[1;33m\u001b[0m\u001b[0m\n\u001b[1;32m--> 313\u001b[1;33m                 \u001b[1;32mraise\u001b[0m \u001b[0mexceptions\u001b[0m\u001b[1;33m.\u001b[0m\u001b[0mXNATResponseError\u001b[0m\u001b[1;33m(\u001b[0m\u001b[1;34m'Invalid response from XNATSession for url {} (status {}):\\n{}'\u001b[0m\u001b[1;33m.\u001b[0m\u001b[0mformat\u001b[0m\u001b[1;33m(\u001b[0m\u001b[0muri\u001b[0m\u001b[1;33m,\u001b[0m \u001b[0mresponse\u001b[0m\u001b[1;33m.\u001b[0m\u001b[0mstatus_code\u001b[0m\u001b[1;33m,\u001b[0m \u001b[0mresponse\u001b[0m\u001b[1;33m.\u001b[0m\u001b[0mtext\u001b[0m\u001b[1;33m)\u001b[0m\u001b[1;33m)\u001b[0m\u001b[1;33m\u001b[0m\u001b[1;33m\u001b[0m\u001b[0m\n\u001b[0m\u001b[0;32m    314\u001b[0m \u001b[1;33m\u001b[0m\u001b[0m\n\u001b[0;32m    315\u001b[0m     \u001b[1;32mdef\u001b[0m \u001b[0mget\u001b[0m\u001b[1;33m(\u001b[0m\u001b[0mself\u001b[0m\u001b[1;33m,\u001b[0m \u001b[0mpath\u001b[0m\u001b[1;33m,\u001b[0m \u001b[0mformat\u001b[0m\u001b[1;33m=\u001b[0m\u001b[1;32mNone\u001b[0m\u001b[1;33m,\u001b[0m \u001b[0mquery\u001b[0m\u001b[1;33m=\u001b[0m\u001b[1;32mNone\u001b[0m\u001b[1;33m,\u001b[0m \u001b[0maccepted_status\u001b[0m\u001b[1;33m=\u001b[0m\u001b[1;32mNone\u001b[0m\u001b[1;33m,\u001b[0m \u001b[0mtimeout\u001b[0m\u001b[1;33m=\u001b[0m\u001b[1;32mNone\u001b[0m\u001b[1;33m,\u001b[0m \u001b[0mheaders\u001b[0m\u001b[1;33m=\u001b[0m\u001b[1;32mNone\u001b[0m\u001b[1;33m)\u001b[0m\u001b[1;33m:\u001b[0m\u001b[1;33m\u001b[0m\u001b[1;33m\u001b[0m\u001b[0m\n",
      "\u001b[1;31mXNATResponseError\u001b[0m: Invalid response from XNATSession for url http://10.1.1.17/data/services/archive?src=%2Fdata%2Fprearchive%2Fprojects%2FBrainTumorProg_copy%2F20200212_213423578%2FPGM_002_MR_1&overwrite=append&subject=PGM-002_copy&session=PGM-002_MR_1 (status 409):\n<html>\n<head>\n   <title>Status page</title>\n</head>\n<body>\n<h3>Session already exists with matching files.</h3><p>You can get technical details <a href=\"http://www.w3.org/Protocols/rfc2616/rfc2616-sec10.html#sec10.4.10\">here</a>.<br>\nPlease continue your visit at our <a href=\"/\">home page</a>.\n</p>\n</body>\n</html>\n"
     ]
    }
   ],
   "source": [
    "# Try again this time selecting the correct file to archive:\n",
    "\n",
    "session.prearchive.sessions()[2].archive(subject=newSubjectName, experiment='PGM-002_MR_1', overwrite='append')"
   ]
  },
  {
   "cell_type": "markdown",
   "metadata": {},
   "source": [
    "#### I got the same conflict error!"
   ]
  },
  {
   "cell_type": "code",
   "execution_count": 118,
   "metadata": {},
   "outputs": [
    {
     "name": "stderr",
     "output_type": "stream",
     "text": [
      "[2020-02-13 12:58:39,294] DEBUG: session:334 >> GET URI http://10.1.1.17/data/prearchive/projects?format=json\n",
      "[2020-02-13 12:58:39,316] DEBUG: session:307 >> Received response with status code: 200\n"
     ]
    },
    {
     "data": {
      "text/plain": [
       "[<PrearchiveSession BrainTumorProg_copy/20200212_213423578/PGM-002_MR_1>,\n",
       " <PrearchiveSession BrainTumorProg_copy/20200206_152623716/PGM_002_MR_1>,\n",
       " <PrearchiveSession BrainTumorProg_copy/20200207_144303310/PGM_002_MR_1>]"
      ]
     },
     "execution_count": 118,
     "metadata": {},
     "output_type": "execute_result"
    }
   ],
   "source": [
    "# Get a list of sessions waiting for archiving:\n",
    "\n",
    "session.prearchive.sessions()"
   ]
  },
  {
   "cell_type": "markdown",
   "metadata": {},
   "source": [
    "#### This time its the first entry!"
   ]
  },
  {
   "cell_type": "code",
   "execution_count": 119,
   "metadata": {},
   "outputs": [
    {
     "name": "stderr",
     "output_type": "stream",
     "text": [
      "[2020-02-13 12:59:43,037] DEBUG: session:334 >> GET URI http://10.1.1.17/data/prearchive/projects?format=json\n",
      "[2020-02-13 12:59:43,052] DEBUG: session:307 >> Received response with status code: 200\n",
      "[2020-02-13 12:59:43,054] DEBUG: session:391 >> POST URI http://10.1.1.17/data/services/archive?src=%2Fdata%2Fprearchive%2Fprojects%2FBrainTumorProg_copy%2F20200212_213423578%2FPGM_002_MR_1&overwrite=append&subject=PGM-002_copy&session=PGM-002_MR_1\n",
      "[2020-02-13 12:59:43,055] DEBUG: session:393 >> POST DATA None\n",
      "[2020-02-13 12:59:43,159] DEBUG: session:307 >> Received response with status code: 409\n"
     ]
    },
    {
     "ename": "XNATResponseError",
     "evalue": "Invalid response from XNATSession for url http://10.1.1.17/data/services/archive?src=%2Fdata%2Fprearchive%2Fprojects%2FBrainTumorProg_copy%2F20200212_213423578%2FPGM_002_MR_1&overwrite=append&subject=PGM-002_copy&session=PGM-002_MR_1 (status 409):\n<html>\n<head>\n   <title>Status page</title>\n</head>\n<body>\n<h3>Session already exists with matching files.</h3><p>You can get technical details <a href=\"http://www.w3.org/Protocols/rfc2616/rfc2616-sec10.html#sec10.4.10\">here</a>.<br>\nPlease continue your visit at our <a href=\"/\">home page</a>.\n</p>\n</body>\n</html>\n",
     "output_type": "error",
     "traceback": [
      "\u001b[1;31m---------------------------------------------------------------------------\u001b[0m",
      "\u001b[1;31mXNATResponseError\u001b[0m                         Traceback (most recent call last)",
      "\u001b[1;32m<ipython-input-119-09d41f8cfa29>\u001b[0m in \u001b[0;36m<module>\u001b[1;34m\u001b[0m\n\u001b[0;32m      1\u001b[0m \u001b[1;31m# Try again this time selecting the correct file to archive:\u001b[0m\u001b[1;33m\u001b[0m\u001b[1;33m\u001b[0m\u001b[1;33m\u001b[0m\u001b[0m\n\u001b[0;32m      2\u001b[0m \u001b[1;33m\u001b[0m\u001b[0m\n\u001b[1;32m----> 3\u001b[1;33m \u001b[0msession\u001b[0m\u001b[1;33m.\u001b[0m\u001b[0mprearchive\u001b[0m\u001b[1;33m.\u001b[0m\u001b[0msessions\u001b[0m\u001b[1;33m(\u001b[0m\u001b[1;33m)\u001b[0m\u001b[1;33m[\u001b[0m\u001b[1;36m0\u001b[0m\u001b[1;33m]\u001b[0m\u001b[1;33m.\u001b[0m\u001b[0marchive\u001b[0m\u001b[1;33m(\u001b[0m\u001b[0msubject\u001b[0m\u001b[1;33m=\u001b[0m\u001b[0mnewSubjectName\u001b[0m\u001b[1;33m,\u001b[0m \u001b[0mexperiment\u001b[0m\u001b[1;33m=\u001b[0m\u001b[1;34m'PGM-002_MR_1'\u001b[0m\u001b[1;33m,\u001b[0m \u001b[0moverwrite\u001b[0m\u001b[1;33m=\u001b[0m\u001b[1;34m'append'\u001b[0m\u001b[1;33m)\u001b[0m\u001b[1;33m\u001b[0m\u001b[1;33m\u001b[0m\u001b[0m\n\u001b[0m",
      "\u001b[1;32m~\\Anaconda37\\lib\\site-packages\\xnat\\prearchive.py\u001b[0m in \u001b[0;36marchive\u001b[1;34m(self, overwrite, quarantine, trigger_pipelines, project, subject, experiment)\u001b[0m\n\u001b[0;32m    218\u001b[0m             \u001b[0mquery\u001b[0m\u001b[1;33m[\u001b[0m\u001b[1;34m'session'\u001b[0m\u001b[1;33m]\u001b[0m \u001b[1;33m=\u001b[0m \u001b[0mexperiment\u001b[0m\u001b[1;33m\u001b[0m\u001b[1;33m\u001b[0m\u001b[0m\n\u001b[0;32m    219\u001b[0m \u001b[1;33m\u001b[0m\u001b[0m\n\u001b[1;32m--> 220\u001b[1;33m         \u001b[0mresponse\u001b[0m \u001b[1;33m=\u001b[0m \u001b[0mself\u001b[0m\u001b[1;33m.\u001b[0m\u001b[0mxnat_session\u001b[0m\u001b[1;33m.\u001b[0m\u001b[0mpost\u001b[0m\u001b[1;33m(\u001b[0m\u001b[1;34m'/data/services/archive'\u001b[0m\u001b[1;33m,\u001b[0m \u001b[0mquery\u001b[0m\u001b[1;33m=\u001b[0m\u001b[0mquery\u001b[0m\u001b[1;33m)\u001b[0m\u001b[1;33m\u001b[0m\u001b[1;33m\u001b[0m\u001b[0m\n\u001b[0m\u001b[0;32m    221\u001b[0m         \u001b[0mobject_uri\u001b[0m \u001b[1;33m=\u001b[0m \u001b[0mresponse\u001b[0m\u001b[1;33m.\u001b[0m\u001b[0mtext\u001b[0m\u001b[1;33m.\u001b[0m\u001b[0mstrip\u001b[0m\u001b[1;33m(\u001b[0m\u001b[1;33m)\u001b[0m\u001b[1;33m\u001b[0m\u001b[1;33m\u001b[0m\u001b[0m\n\u001b[0;32m    222\u001b[0m \u001b[1;33m\u001b[0m\u001b[0m\n",
      "\u001b[1;32m~\\Anaconda37\\lib\\site-packages\\xnat\\session.py\u001b[0m in \u001b[0;36mpost\u001b[1;34m(self, path, data, json, format, query, accepted_status, timeout, headers)\u001b[0m\n\u001b[0;32m    397\u001b[0m         \u001b[1;32mexcept\u001b[0m \u001b[0mrequests\u001b[0m\u001b[1;33m.\u001b[0m\u001b[0mexceptions\u001b[0m\u001b[1;33m.\u001b[0m\u001b[0mSSLError\u001b[0m\u001b[1;33m:\u001b[0m\u001b[1;33m\u001b[0m\u001b[1;33m\u001b[0m\u001b[0m\n\u001b[0;32m    398\u001b[0m             \u001b[1;32mraise\u001b[0m \u001b[0mexceptions\u001b[0m\u001b[1;33m.\u001b[0m\u001b[0mXNATSSLError\u001b[0m\u001b[1;33m(\u001b[0m\u001b[1;34m'Encountered a problem with the SSL connection, are you sure the server is offering https?'\u001b[0m\u001b[1;33m)\u001b[0m\u001b[1;33m\u001b[0m\u001b[1;33m\u001b[0m\u001b[0m\n\u001b[1;32m--> 399\u001b[1;33m         \u001b[0mself\u001b[0m\u001b[1;33m.\u001b[0m\u001b[0m_check_response\u001b[0m\u001b[1;33m(\u001b[0m\u001b[0mresponse\u001b[0m\u001b[1;33m,\u001b[0m \u001b[0maccepted_status\u001b[0m\u001b[1;33m=\u001b[0m\u001b[0maccepted_status\u001b[0m\u001b[1;33m,\u001b[0m \u001b[0muri\u001b[0m\u001b[1;33m=\u001b[0m\u001b[0muri\u001b[0m\u001b[1;33m)\u001b[0m\u001b[1;33m\u001b[0m\u001b[1;33m\u001b[0m\u001b[0m\n\u001b[0m\u001b[0;32m    400\u001b[0m         \u001b[1;32mreturn\u001b[0m \u001b[0mresponse\u001b[0m\u001b[1;33m\u001b[0m\u001b[1;33m\u001b[0m\u001b[0m\n\u001b[0;32m    401\u001b[0m \u001b[1;33m\u001b[0m\u001b[0m\n",
      "\u001b[1;32m~\\Anaconda37\\lib\\site-packages\\xnat\\session.py\u001b[0m in \u001b[0;36m_check_response\u001b[1;34m(self, response, accepted_status, uri)\u001b[0m\n\u001b[0;32m    311\u001b[0m                 \u001b[0maccepted_status\u001b[0m \u001b[1;33m=\u001b[0m \u001b[1;33m[\u001b[0m\u001b[1;36m200\u001b[0m\u001b[1;33m,\u001b[0m \u001b[1;36m201\u001b[0m\u001b[1;33m,\u001b[0m \u001b[1;36m202\u001b[0m\u001b[1;33m,\u001b[0m \u001b[1;36m203\u001b[0m\u001b[1;33m,\u001b[0m \u001b[1;36m204\u001b[0m\u001b[1;33m,\u001b[0m \u001b[1;36m205\u001b[0m\u001b[1;33m,\u001b[0m \u001b[1;36m206\u001b[0m\u001b[1;33m]\u001b[0m  \u001b[1;31m# All successful responses of HTML\u001b[0m\u001b[1;33m\u001b[0m\u001b[1;33m\u001b[0m\u001b[0m\n\u001b[0;32m    312\u001b[0m             \u001b[1;32mif\u001b[0m \u001b[0mresponse\u001b[0m\u001b[1;33m.\u001b[0m\u001b[0mstatus_code\u001b[0m \u001b[1;32mnot\u001b[0m \u001b[1;32min\u001b[0m \u001b[0maccepted_status\u001b[0m \u001b[1;32mor\u001b[0m \u001b[1;33m(\u001b[0m\u001b[1;32mnot\u001b[0m \u001b[0mself\u001b[0m\u001b[1;33m.\u001b[0m\u001b[0mskip_response_content_check\u001b[0m \u001b[1;32mand\u001b[0m \u001b[0mresponse\u001b[0m\u001b[1;33m.\u001b[0m\u001b[0mtext\u001b[0m\u001b[1;33m.\u001b[0m\u001b[0mstartswith\u001b[0m\u001b[1;33m(\u001b[0m\u001b[1;33m(\u001b[0m\u001b[1;34m'<!DOCTYPE'\u001b[0m\u001b[1;33m,\u001b[0m \u001b[1;34m'<html>'\u001b[0m\u001b[1;33m)\u001b[0m\u001b[1;33m)\u001b[0m\u001b[1;33m)\u001b[0m\u001b[1;33m:\u001b[0m\u001b[1;33m\u001b[0m\u001b[1;33m\u001b[0m\u001b[0m\n\u001b[1;32m--> 313\u001b[1;33m                 \u001b[1;32mraise\u001b[0m \u001b[0mexceptions\u001b[0m\u001b[1;33m.\u001b[0m\u001b[0mXNATResponseError\u001b[0m\u001b[1;33m(\u001b[0m\u001b[1;34m'Invalid response from XNATSession for url {} (status {}):\\n{}'\u001b[0m\u001b[1;33m.\u001b[0m\u001b[0mformat\u001b[0m\u001b[1;33m(\u001b[0m\u001b[0muri\u001b[0m\u001b[1;33m,\u001b[0m \u001b[0mresponse\u001b[0m\u001b[1;33m.\u001b[0m\u001b[0mstatus_code\u001b[0m\u001b[1;33m,\u001b[0m \u001b[0mresponse\u001b[0m\u001b[1;33m.\u001b[0m\u001b[0mtext\u001b[0m\u001b[1;33m)\u001b[0m\u001b[1;33m)\u001b[0m\u001b[1;33m\u001b[0m\u001b[1;33m\u001b[0m\u001b[0m\n\u001b[0m\u001b[0;32m    314\u001b[0m \u001b[1;33m\u001b[0m\u001b[0m\n\u001b[0;32m    315\u001b[0m     \u001b[1;32mdef\u001b[0m \u001b[0mget\u001b[0m\u001b[1;33m(\u001b[0m\u001b[0mself\u001b[0m\u001b[1;33m,\u001b[0m \u001b[0mpath\u001b[0m\u001b[1;33m,\u001b[0m \u001b[0mformat\u001b[0m\u001b[1;33m=\u001b[0m\u001b[1;32mNone\u001b[0m\u001b[1;33m,\u001b[0m \u001b[0mquery\u001b[0m\u001b[1;33m=\u001b[0m\u001b[1;32mNone\u001b[0m\u001b[1;33m,\u001b[0m \u001b[0maccepted_status\u001b[0m\u001b[1;33m=\u001b[0m\u001b[1;32mNone\u001b[0m\u001b[1;33m,\u001b[0m \u001b[0mtimeout\u001b[0m\u001b[1;33m=\u001b[0m\u001b[1;32mNone\u001b[0m\u001b[1;33m,\u001b[0m \u001b[0mheaders\u001b[0m\u001b[1;33m=\u001b[0m\u001b[1;32mNone\u001b[0m\u001b[1;33m)\u001b[0m\u001b[1;33m:\u001b[0m\u001b[1;33m\u001b[0m\u001b[1;33m\u001b[0m\u001b[0m\n",
      "\u001b[1;31mXNATResponseError\u001b[0m: Invalid response from XNATSession for url http://10.1.1.17/data/services/archive?src=%2Fdata%2Fprearchive%2Fprojects%2FBrainTumorProg_copy%2F20200212_213423578%2FPGM_002_MR_1&overwrite=append&subject=PGM-002_copy&session=PGM-002_MR_1 (status 409):\n<html>\n<head>\n   <title>Status page</title>\n</head>\n<body>\n<h3>Session already exists with matching files.</h3><p>You can get technical details <a href=\"http://www.w3.org/Protocols/rfc2616/rfc2616-sec10.html#sec10.4.10\">here</a>.<br>\nPlease continue your visit at our <a href=\"/\">home page</a>.\n</p>\n</body>\n</html>\n"
     ]
    }
   ],
   "source": [
    "# Try again this time selecting the correct file to archive:\n",
    "\n",
    "session.prearchive.sessions()[0].archive(subject=newSubjectName, experiment='PGM-002_MR_1', overwrite='append')"
   ]
  },
  {
   "cell_type": "code",
   "execution_count": 120,
   "metadata": {},
   "outputs": [
    {
     "name": "stderr",
     "output_type": "stream",
     "text": [
      "[2020-02-13 13:00:09,890] DEBUG: session:334 >> GET URI http://10.1.1.17/data/prearchive/projects?format=json\n",
      "[2020-02-13 13:00:09,907] DEBUG: session:307 >> Received response with status code: 200\n"
     ]
    },
    {
     "data": {
      "text/plain": [
       "[<PrearchiveSession BrainTumorProg_copy/20200206_152623716/PGM_002_MR_1>,\n",
       " <PrearchiveSession BrainTumorProg_copy/20200207_144303310/PGM_002_MR_1>,\n",
       " <PrearchiveSession BrainTumorProg_copy/20200212_213423578/PGM-002_MR_1>]"
      ]
     },
     "execution_count": 120,
     "metadata": {},
     "output_type": "execute_result"
    }
   ],
   "source": [
    "# Get a list of sessions waiting for archiving:\n",
    "\n",
    "session.prearchive.sessions()"
   ]
  },
  {
   "cell_type": "markdown",
   "metadata": {},
   "source": [
    "#### And now it's the 3rd entry again.."
   ]
  },
  {
   "cell_type": "code",
   "execution_count": 121,
   "metadata": {},
   "outputs": [
    {
     "name": "stderr",
     "output_type": "stream",
     "text": [
      "[2020-02-13 13:02:15,214] DEBUG: session:334 >> GET URI http://10.1.1.17/data/prearchive/projects?format=json\n",
      "[2020-02-13 13:02:15,233] DEBUG: session:307 >> Received response with status code: 200\n",
      "[2020-02-13 13:02:15,235] DEBUG: session:391 >> POST URI http://10.1.1.17/data/services/archive?src=%2Fdata%2Fprearchive%2Fprojects%2FBrainTumorProg_copy%2F20200212_213423578%2FPGM_002_MR_1&overwrite=delete&subject=PGM-002_copy&session=PGM-002_MR_1\n",
      "[2020-02-13 13:02:15,235] DEBUG: session:393 >> POST DATA None\n",
      "[2020-02-13 13:02:15,715] DEBUG: session:307 >> Received response with status code: 200\n",
      "[2020-02-13 13:02:15,716] DEBUG: session:738 >> Type unknown, fetching data to get type\n",
      "[2020-02-13 13:02:15,717] DEBUG: session:334 >> GET URI http://10.1.1.17/data/archive/projects/BrainTumorProg_copy/subjects/PGM-002_copy/experiments/PGM-002_MR_1?format=json\n",
      "[2020-02-13 13:02:15,858] DEBUG: session:307 >> Received response with status code: 200\n",
      "[2020-02-13 13:02:15,859] DEBUG: session:746 >> Looking up type xnat:mrSessionData [str]\n",
      "[2020-02-13 13:02:15,860] DEBUG: session:753 >> Creating object of type <class 'xnat_gen_540681bf052587e8ba9fee53609ca631.MrSessionData'>\n",
      "[2020-02-13 13:02:15,862] DEBUG: session:334 >> GET URI http://10.1.1.17/data/archive/projects/BrainTumorProg_copy/subjects/PGM-002_copy/experiments/PGM-002_MR_1?format=json\n",
      "[2020-02-13 13:02:15,989] DEBUG: session:307 >> Received response with status code: 200\n"
     ]
    },
    {
     "data": {
      "text/plain": [
       "<MrSessionData PGM-002_MR_1 (XNAT_E00021)>"
      ]
     },
     "execution_count": 121,
     "metadata": {},
     "output_type": "execute_result"
    }
   ],
   "source": [
    "# This time select the 3rd file and use 'delete' for overwrite:\n",
    "\n",
    "session.prearchive.sessions()[2].archive(subject=newSubjectName, experiment='PGM-002_MR_1', overwrite='delete')"
   ]
  },
  {
   "cell_type": "code",
   "execution_count": 122,
   "metadata": {},
   "outputs": [
    {
     "name": "stderr",
     "output_type": "stream",
     "text": [
      "[2020-02-13 13:04:15,098] DEBUG: session:661 >> UPLOAD URI http://10.1.1.17/data/services/import?dest=%2Fprearchive&project=BrainTumorProg_copy\n",
      "[2020-02-13 13:04:15,860] DEBUG: session:307 >> Received response with status code: 200\n",
      "[2020-02-13 13:04:15,862] DEBUG: session:334 >> GET URI http://10.1.1.17/data/prearchive/projects/BrainTumorProg_copy/20200212_215434501/PGM_002_MR_1?format=json\n",
      "[2020-02-13 13:04:15,882] DEBUG: session:307 >> Received response with status code: 200\n"
     ]
    },
    {
     "data": {
      "text/plain": [
       "<PrearchiveSession BrainTumorProg_copy/20200212_215434501/PGM-002_MR_1>"
      ]
     },
     "execution_count": 122,
     "metadata": {},
     "output_type": "execute_result"
    }
   ],
   "source": [
    "# Try again this time using a noticeably different scan:\n",
    "\n",
    "prearchive_session = session.services.import_(dicomsFpaths[20], \\\n",
    "                                              project=newProjectName, \\\n",
    "                                              destination='/prearchive')\n",
    "\n",
    "prearchive_session"
   ]
  },
  {
   "cell_type": "code",
   "execution_count": 123,
   "metadata": {},
   "outputs": [
    {
     "name": "stderr",
     "output_type": "stream",
     "text": [
      "[2020-02-13 13:04:40,141] DEBUG: session:334 >> GET URI http://10.1.1.17/data/prearchive/projects?format=json\n",
      "[2020-02-13 13:04:40,242] DEBUG: session:307 >> Received response with status code: 200\n",
      "[2020-02-13 13:04:40,245] DEBUG: session:334 >> GET URI http://10.1.1.17/data/prearchive/projects/BrainTumorProg_copy/20200212_215434501/PGM_002_MR_1?format=json\n",
      "[2020-02-13 13:04:40,260] DEBUG: session:307 >> Received response with status code: 200\n"
     ]
    },
    {
     "data": {
      "text/plain": [
       "[<PrearchiveSession BrainTumorProg_copy/20200212_215434501/PGM-002_MR_1>,\n",
       " <PrearchiveSession BrainTumorProg_copy/20200206_152623716/PGM_002_MR_1>,\n",
       " <PrearchiveSession BrainTumorProg_copy/20200207_144303310/PGM_002_MR_1>]"
      ]
     },
     "execution_count": 123,
     "metadata": {},
     "output_type": "execute_result"
    }
   ],
   "source": [
    "session.prearchive.sessions()"
   ]
  },
  {
   "cell_type": "code",
   "execution_count": 124,
   "metadata": {},
   "outputs": [
    {
     "name": "stderr",
     "output_type": "stream",
     "text": [
      "[2020-02-13 13:05:09,569] DEBUG: session:334 >> GET URI http://10.1.1.17/data/prearchive/projects?format=json\n",
      "[2020-02-13 13:05:09,585] DEBUG: session:307 >> Received response with status code: 200\n",
      "[2020-02-13 13:05:09,585] DEBUG: session:391 >> POST URI http://10.1.1.17/data/services/archive?src=%2Fdata%2Fprearchive%2Fprojects%2FBrainTumorProg_copy%2F20200212_215434501%2FPGM_002_MR_1&overwrite=append&subject=PGM-002_copy&session=PGM-002_MR_1\n",
      "[2020-02-13 13:05:09,586] DEBUG: session:393 >> POST DATA None\n",
      "[2020-02-13 13:05:09,693] DEBUG: session:307 >> Received response with status code: 409\n"
     ]
    },
    {
     "ename": "XNATResponseError",
     "evalue": "Invalid response from XNATSession for url http://10.1.1.17/data/services/archive?src=%2Fdata%2Fprearchive%2Fprojects%2FBrainTumorProg_copy%2F20200212_215434501%2FPGM_002_MR_1&overwrite=append&subject=PGM-002_copy&session=PGM-002_MR_1 (status 409):\n<html>\n<head>\n   <title>Status page</title>\n</head>\n<body>\n<h3>Session already exists with matching files.</h3><p>You can get technical details <a href=\"http://www.w3.org/Protocols/rfc2616/rfc2616-sec10.html#sec10.4.10\">here</a>.<br>\nPlease continue your visit at our <a href=\"/\">home page</a>.\n</p>\n</body>\n</html>\n",
     "output_type": "error",
     "traceback": [
      "\u001b[1;31m---------------------------------------------------------------------------\u001b[0m",
      "\u001b[1;31mXNATResponseError\u001b[0m                         Traceback (most recent call last)",
      "\u001b[1;32m<ipython-input-124-aaa9f3ef9dd3>\u001b[0m in \u001b[0;36m<module>\u001b[1;34m\u001b[0m\n\u001b[1;32m----> 1\u001b[1;33m \u001b[0msession\u001b[0m\u001b[1;33m.\u001b[0m\u001b[0mprearchive\u001b[0m\u001b[1;33m.\u001b[0m\u001b[0msessions\u001b[0m\u001b[1;33m(\u001b[0m\u001b[1;33m)\u001b[0m\u001b[1;33m[\u001b[0m\u001b[1;36m0\u001b[0m\u001b[1;33m]\u001b[0m\u001b[1;33m.\u001b[0m\u001b[0marchive\u001b[0m\u001b[1;33m(\u001b[0m\u001b[0msubject\u001b[0m\u001b[1;33m=\u001b[0m\u001b[0mnewSubjectName\u001b[0m\u001b[1;33m,\u001b[0m \u001b[0mexperiment\u001b[0m\u001b[1;33m=\u001b[0m\u001b[1;34m'PGM-002_MR_1'\u001b[0m\u001b[1;33m,\u001b[0m \u001b[0moverwrite\u001b[0m\u001b[1;33m=\u001b[0m\u001b[1;34m'append'\u001b[0m\u001b[1;33m)\u001b[0m\u001b[1;33m\u001b[0m\u001b[1;33m\u001b[0m\u001b[0m\n\u001b[0m",
      "\u001b[1;32m~\\Anaconda37\\lib\\site-packages\\xnat\\prearchive.py\u001b[0m in \u001b[0;36marchive\u001b[1;34m(self, overwrite, quarantine, trigger_pipelines, project, subject, experiment)\u001b[0m\n\u001b[0;32m    218\u001b[0m             \u001b[0mquery\u001b[0m\u001b[1;33m[\u001b[0m\u001b[1;34m'session'\u001b[0m\u001b[1;33m]\u001b[0m \u001b[1;33m=\u001b[0m \u001b[0mexperiment\u001b[0m\u001b[1;33m\u001b[0m\u001b[1;33m\u001b[0m\u001b[0m\n\u001b[0;32m    219\u001b[0m \u001b[1;33m\u001b[0m\u001b[0m\n\u001b[1;32m--> 220\u001b[1;33m         \u001b[0mresponse\u001b[0m \u001b[1;33m=\u001b[0m \u001b[0mself\u001b[0m\u001b[1;33m.\u001b[0m\u001b[0mxnat_session\u001b[0m\u001b[1;33m.\u001b[0m\u001b[0mpost\u001b[0m\u001b[1;33m(\u001b[0m\u001b[1;34m'/data/services/archive'\u001b[0m\u001b[1;33m,\u001b[0m \u001b[0mquery\u001b[0m\u001b[1;33m=\u001b[0m\u001b[0mquery\u001b[0m\u001b[1;33m)\u001b[0m\u001b[1;33m\u001b[0m\u001b[1;33m\u001b[0m\u001b[0m\n\u001b[0m\u001b[0;32m    221\u001b[0m         \u001b[0mobject_uri\u001b[0m \u001b[1;33m=\u001b[0m \u001b[0mresponse\u001b[0m\u001b[1;33m.\u001b[0m\u001b[0mtext\u001b[0m\u001b[1;33m.\u001b[0m\u001b[0mstrip\u001b[0m\u001b[1;33m(\u001b[0m\u001b[1;33m)\u001b[0m\u001b[1;33m\u001b[0m\u001b[1;33m\u001b[0m\u001b[0m\n\u001b[0;32m    222\u001b[0m \u001b[1;33m\u001b[0m\u001b[0m\n",
      "\u001b[1;32m~\\Anaconda37\\lib\\site-packages\\xnat\\session.py\u001b[0m in \u001b[0;36mpost\u001b[1;34m(self, path, data, json, format, query, accepted_status, timeout, headers)\u001b[0m\n\u001b[0;32m    397\u001b[0m         \u001b[1;32mexcept\u001b[0m \u001b[0mrequests\u001b[0m\u001b[1;33m.\u001b[0m\u001b[0mexceptions\u001b[0m\u001b[1;33m.\u001b[0m\u001b[0mSSLError\u001b[0m\u001b[1;33m:\u001b[0m\u001b[1;33m\u001b[0m\u001b[1;33m\u001b[0m\u001b[0m\n\u001b[0;32m    398\u001b[0m             \u001b[1;32mraise\u001b[0m \u001b[0mexceptions\u001b[0m\u001b[1;33m.\u001b[0m\u001b[0mXNATSSLError\u001b[0m\u001b[1;33m(\u001b[0m\u001b[1;34m'Encountered a problem with the SSL connection, are you sure the server is offering https?'\u001b[0m\u001b[1;33m)\u001b[0m\u001b[1;33m\u001b[0m\u001b[1;33m\u001b[0m\u001b[0m\n\u001b[1;32m--> 399\u001b[1;33m         \u001b[0mself\u001b[0m\u001b[1;33m.\u001b[0m\u001b[0m_check_response\u001b[0m\u001b[1;33m(\u001b[0m\u001b[0mresponse\u001b[0m\u001b[1;33m,\u001b[0m \u001b[0maccepted_status\u001b[0m\u001b[1;33m=\u001b[0m\u001b[0maccepted_status\u001b[0m\u001b[1;33m,\u001b[0m \u001b[0muri\u001b[0m\u001b[1;33m=\u001b[0m\u001b[0muri\u001b[0m\u001b[1;33m)\u001b[0m\u001b[1;33m\u001b[0m\u001b[1;33m\u001b[0m\u001b[0m\n\u001b[0m\u001b[0;32m    400\u001b[0m         \u001b[1;32mreturn\u001b[0m \u001b[0mresponse\u001b[0m\u001b[1;33m\u001b[0m\u001b[1;33m\u001b[0m\u001b[0m\n\u001b[0;32m    401\u001b[0m \u001b[1;33m\u001b[0m\u001b[0m\n",
      "\u001b[1;32m~\\Anaconda37\\lib\\site-packages\\xnat\\session.py\u001b[0m in \u001b[0;36m_check_response\u001b[1;34m(self, response, accepted_status, uri)\u001b[0m\n\u001b[0;32m    311\u001b[0m                 \u001b[0maccepted_status\u001b[0m \u001b[1;33m=\u001b[0m \u001b[1;33m[\u001b[0m\u001b[1;36m200\u001b[0m\u001b[1;33m,\u001b[0m \u001b[1;36m201\u001b[0m\u001b[1;33m,\u001b[0m \u001b[1;36m202\u001b[0m\u001b[1;33m,\u001b[0m \u001b[1;36m203\u001b[0m\u001b[1;33m,\u001b[0m \u001b[1;36m204\u001b[0m\u001b[1;33m,\u001b[0m \u001b[1;36m205\u001b[0m\u001b[1;33m,\u001b[0m \u001b[1;36m206\u001b[0m\u001b[1;33m]\u001b[0m  \u001b[1;31m# All successful responses of HTML\u001b[0m\u001b[1;33m\u001b[0m\u001b[1;33m\u001b[0m\u001b[0m\n\u001b[0;32m    312\u001b[0m             \u001b[1;32mif\u001b[0m \u001b[0mresponse\u001b[0m\u001b[1;33m.\u001b[0m\u001b[0mstatus_code\u001b[0m \u001b[1;32mnot\u001b[0m \u001b[1;32min\u001b[0m \u001b[0maccepted_status\u001b[0m \u001b[1;32mor\u001b[0m \u001b[1;33m(\u001b[0m\u001b[1;32mnot\u001b[0m \u001b[0mself\u001b[0m\u001b[1;33m.\u001b[0m\u001b[0mskip_response_content_check\u001b[0m \u001b[1;32mand\u001b[0m \u001b[0mresponse\u001b[0m\u001b[1;33m.\u001b[0m\u001b[0mtext\u001b[0m\u001b[1;33m.\u001b[0m\u001b[0mstartswith\u001b[0m\u001b[1;33m(\u001b[0m\u001b[1;33m(\u001b[0m\u001b[1;34m'<!DOCTYPE'\u001b[0m\u001b[1;33m,\u001b[0m \u001b[1;34m'<html>'\u001b[0m\u001b[1;33m)\u001b[0m\u001b[1;33m)\u001b[0m\u001b[1;33m)\u001b[0m\u001b[1;33m:\u001b[0m\u001b[1;33m\u001b[0m\u001b[1;33m\u001b[0m\u001b[0m\n\u001b[1;32m--> 313\u001b[1;33m                 \u001b[1;32mraise\u001b[0m \u001b[0mexceptions\u001b[0m\u001b[1;33m.\u001b[0m\u001b[0mXNATResponseError\u001b[0m\u001b[1;33m(\u001b[0m\u001b[1;34m'Invalid response from XNATSession for url {} (status {}):\\n{}'\u001b[0m\u001b[1;33m.\u001b[0m\u001b[0mformat\u001b[0m\u001b[1;33m(\u001b[0m\u001b[0muri\u001b[0m\u001b[1;33m,\u001b[0m \u001b[0mresponse\u001b[0m\u001b[1;33m.\u001b[0m\u001b[0mstatus_code\u001b[0m\u001b[1;33m,\u001b[0m \u001b[0mresponse\u001b[0m\u001b[1;33m.\u001b[0m\u001b[0mtext\u001b[0m\u001b[1;33m)\u001b[0m\u001b[1;33m)\u001b[0m\u001b[1;33m\u001b[0m\u001b[1;33m\u001b[0m\u001b[0m\n\u001b[0m\u001b[0;32m    314\u001b[0m \u001b[1;33m\u001b[0m\u001b[0m\n\u001b[0;32m    315\u001b[0m     \u001b[1;32mdef\u001b[0m \u001b[0mget\u001b[0m\u001b[1;33m(\u001b[0m\u001b[0mself\u001b[0m\u001b[1;33m,\u001b[0m \u001b[0mpath\u001b[0m\u001b[1;33m,\u001b[0m \u001b[0mformat\u001b[0m\u001b[1;33m=\u001b[0m\u001b[1;32mNone\u001b[0m\u001b[1;33m,\u001b[0m \u001b[0mquery\u001b[0m\u001b[1;33m=\u001b[0m\u001b[1;32mNone\u001b[0m\u001b[1;33m,\u001b[0m \u001b[0maccepted_status\u001b[0m\u001b[1;33m=\u001b[0m\u001b[1;32mNone\u001b[0m\u001b[1;33m,\u001b[0m \u001b[0mtimeout\u001b[0m\u001b[1;33m=\u001b[0m\u001b[1;32mNone\u001b[0m\u001b[1;33m,\u001b[0m \u001b[0mheaders\u001b[0m\u001b[1;33m=\u001b[0m\u001b[1;32mNone\u001b[0m\u001b[1;33m)\u001b[0m\u001b[1;33m:\u001b[0m\u001b[1;33m\u001b[0m\u001b[1;33m\u001b[0m\u001b[0m\n",
      "\u001b[1;31mXNATResponseError\u001b[0m: Invalid response from XNATSession for url http://10.1.1.17/data/services/archive?src=%2Fdata%2Fprearchive%2Fprojects%2FBrainTumorProg_copy%2F20200212_215434501%2FPGM_002_MR_1&overwrite=append&subject=PGM-002_copy&session=PGM-002_MR_1 (status 409):\n<html>\n<head>\n   <title>Status page</title>\n</head>\n<body>\n<h3>Session already exists with matching files.</h3><p>You can get technical details <a href=\"http://www.w3.org/Protocols/rfc2616/rfc2616-sec10.html#sec10.4.10\">here</a>.<br>\nPlease continue your visit at our <a href=\"/\">home page</a>.\n</p>\n</body>\n</html>\n"
     ]
    }
   ],
   "source": [
    "session.prearchive.sessions()[0].archive(subject=newSubjectName, experiment='PGM-002_MR_1', overwrite='append')"
   ]
  },
  {
   "cell_type": "code",
   "execution_count": 125,
   "metadata": {},
   "outputs": [
    {
     "name": "stderr",
     "output_type": "stream",
     "text": [
      "[2020-02-13 13:05:22,215] DEBUG: session:334 >> GET URI http://10.1.1.17/data/prearchive/projects?format=json\n",
      "[2020-02-13 13:05:22,232] DEBUG: session:307 >> Received response with status code: 200\n"
     ]
    },
    {
     "data": {
      "text/plain": [
       "[<PrearchiveSession BrainTumorProg_copy/20200206_152623716/PGM_002_MR_1>,\n",
       " <PrearchiveSession BrainTumorProg_copy/20200207_144303310/PGM_002_MR_1>,\n",
       " <PrearchiveSession BrainTumorProg_copy/20200212_215434501/PGM-002_MR_1>]"
      ]
     },
     "execution_count": 125,
     "metadata": {},
     "output_type": "execute_result"
    }
   ],
   "source": [
    "session.prearchive.sessions()"
   ]
  },
  {
   "cell_type": "code",
   "execution_count": 126,
   "metadata": {},
   "outputs": [
    {
     "name": "stderr",
     "output_type": "stream",
     "text": [
      "[2020-02-13 13:05:47,101] DEBUG: session:334 >> GET URI http://10.1.1.17/data/prearchive/projects?format=json\n",
      "[2020-02-13 13:05:47,114] DEBUG: session:307 >> Received response with status code: 200\n",
      "[2020-02-13 13:05:47,115] DEBUG: session:391 >> POST URI http://10.1.1.17/data/services/archive?src=%2Fdata%2Fprearchive%2Fprojects%2FBrainTumorProg_copy%2F20200212_215434501%2FPGM_002_MR_1&overwrite=delete&subject=PGM-002_copy&session=PGM-002_MR_1\n",
      "[2020-02-13 13:05:47,116] DEBUG: session:393 >> POST DATA None\n",
      "[2020-02-13 13:05:47,588] DEBUG: session:307 >> Received response with status code: 200\n",
      "[2020-02-13 13:05:47,589] DEBUG: session:769 >> Fetching object /data/archive/projects/BrainTumorProg_copy/subjects/PGM-002_copy/experiments/PGM-002_MR_1 from cache\n"
     ]
    },
    {
     "data": {
      "text/plain": [
       "<MrSessionData PGM-002_MR_1 (XNAT_E00021)>"
      ]
     },
     "execution_count": 126,
     "metadata": {},
     "output_type": "execute_result"
    }
   ],
   "source": [
    "session.prearchive.sessions()[2].archive(subject=newSubjectName, experiment='PGM-002_MR_1', overwrite='delete')"
   ]
  },
  {
   "cell_type": "markdown",
   "metadata": {},
   "source": [
    "#### It seems it didn't work despite no errors.  The original (first) scan should have been replaced with the 21st scan but I see no evidence of this with the web interface!"
   ]
  },
  {
   "cell_type": "code",
   "execution_count": null,
   "metadata": {},
   "outputs": [],
   "source": []
  }
 ],
 "metadata": {
  "kernelspec": {
   "display_name": "Python 3",
   "language": "python",
   "name": "python3"
  },
  "language_info": {
   "codemirror_mode": {
    "name": "ipython",
    "version": 3
   },
   "file_extension": ".py",
   "mimetype": "text/x-python",
   "name": "python",
   "nbconvert_exporter": "python",
   "pygments_lexer": "ipython3",
   "version": "3.7.4"
  }
 },
 "nbformat": 4,
 "nbformat_minor": 2
}
